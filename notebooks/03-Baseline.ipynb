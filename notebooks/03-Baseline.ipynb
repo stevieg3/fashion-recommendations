{
 "cells": [
  {
   "cell_type": "markdown",
   "id": "77854e53",
   "metadata": {},
   "source": [
    "# Baseline\n",
    "\n",
    "Apply top-12 items as prediction baseline but this time using our own train and dev splits.\n",
    "\n",
    "- [X] Write function for target metric\n",
    "- [X] Compute metric on validation set\n",
    "- [X] Check that computed metric is similar to performance on hidden competition set"
   ]
  },
  {
   "cell_type": "code",
   "execution_count": 1,
   "id": "0873cece",
   "metadata": {},
   "outputs": [],
   "source": [
    "import os\n",
    "\n",
    "import pandas as pd\n",
    "import numpy as np"
   ]
  },
  {
   "cell_type": "code",
   "execution_count": 2,
   "id": "7076c090",
   "metadata": {},
   "outputs": [],
   "source": [
    "os.chdir('..')"
   ]
  },
  {
   "cell_type": "code",
   "execution_count": 15,
   "id": "2f69be8d",
   "metadata": {},
   "outputs": [],
   "source": [
    "from fashion_recommendations.metrics.average_precision import mapk"
   ]
  },
  {
   "cell_type": "markdown",
   "id": "4a76f7e7",
   "metadata": {},
   "source": [
    "### Evaluation metric"
   ]
  },
  {
   "cell_type": "markdown",
   "id": "19db7c35",
   "metadata": {},
   "source": [
    "__Competition information__\n",
    "\n",
    "Submissions are evaluated according to the Mean Average Precision @ 12 (MAP@12)\n",
    "\n",
    "Notes:\n",
    "- You will be making purchase predictions for all customer_id values provided, regardless of whether these customers made purchases in the training data.\n",
    "- Customer that did not make any purchase during test period are excluded from the scoring.\n",
    "- There is never a penalty for using the full 12 predictions for a customer that ordered fewer than 12 items; thus, it's advantageous to make 12 predictions for each customer.\n",
    "\n",
    "Submission File:\n",
    "- For each customer_id observed in the training data, you may predict up to 12 labels for the article_id, which is the predicted items a customer will buy in the next 7-day period after the training time period. The file should contain a header and have the following format:"
   ]
  },
  {
   "cell_type": "markdown",
   "id": "ddb55628",
   "metadata": {},
   "source": [
    "__Own notes__\n",
    "\n",
    "- Competition definition of MAP is wrong: omits the 'average' part\n",
    "- _Qn_: What happens if customer makes more than 12 purchases?\n",
    "- _Qn_: What happens if customer makes multiple purchases of the same item?\n",
    "\n",
    "- In the discussion forum, a member of the Kaggle staff cites a GitHub repo from the Founder of Kaggle which has code for MAP@k:\n",
    "    - https://www.kaggle.com/c/h-and-m-personalized-fashion-recommendations/discussion/306007#1680513\n",
    "    - https://github.com/benhamner/Metrics/blob/master/Python/ml_metrics/average_precision.py\n",
    "- We use this for our own metric computation\n",
    "- According to this code the number of purchases can exceed k. Only cares if your k predictions are a subset of those purchases\n",
    "- Only cares about distinct purchases. Predicting the same item multiple times does not contribute to the score -> Only make distinct purchase predictions (not purchased item X, y times)"
   ]
  },
  {
   "cell_type": "markdown",
   "id": "7129c52e",
   "metadata": {},
   "source": [
    "### Make predictions"
   ]
  },
  {
   "cell_type": "code",
   "execution_count": 3,
   "id": "d71fb621",
   "metadata": {},
   "outputs": [
    {
     "name": "stdout",
     "output_type": "stream",
     "text": [
      "(30143457, 5)\n",
      "(277388, 5)\n"
     ]
    }
   ],
   "source": [
    "train_df = pd.read_parquet('data/splits/train.parquet')\n",
    "print(train_df.shape)\n",
    "\n",
    "dev_df = pd.read_parquet('data/splits/dev.parquet')\n",
    "print(dev_df.shape)"
   ]
  },
  {
   "cell_type": "code",
   "execution_count": 4,
   "id": "07ea3766",
   "metadata": {},
   "outputs": [
    {
     "data": {
      "text/html": [
       "<div>\n",
       "<style scoped>\n",
       "    .dataframe tbody tr th:only-of-type {\n",
       "        vertical-align: middle;\n",
       "    }\n",
       "\n",
       "    .dataframe tbody tr th {\n",
       "        vertical-align: top;\n",
       "    }\n",
       "\n",
       "    .dataframe thead th {\n",
       "        text-align: right;\n",
       "    }\n",
       "</style>\n",
       "<table border=\"1\" class=\"dataframe\">\n",
       "  <thead>\n",
       "    <tr style=\"text-align: right;\">\n",
       "      <th></th>\n",
       "      <th>t_dat</th>\n",
       "      <th>customer_id</th>\n",
       "      <th>article_id</th>\n",
       "      <th>price</th>\n",
       "      <th>sales_channel_id</th>\n",
       "    </tr>\n",
       "  </thead>\n",
       "  <tbody>\n",
       "    <tr>\n",
       "      <th>0</th>\n",
       "      <td>2018-09-20</td>\n",
       "      <td>000058a12d5b43e67d225668fa1f8d618c13dc232df0ca...</td>\n",
       "      <td>0663713001</td>\n",
       "      <td>0.050831</td>\n",
       "      <td>2.0</td>\n",
       "    </tr>\n",
       "    <tr>\n",
       "      <th>1</th>\n",
       "      <td>2018-09-20</td>\n",
       "      <td>000058a12d5b43e67d225668fa1f8d618c13dc232df0ca...</td>\n",
       "      <td>0541518023</td>\n",
       "      <td>0.030492</td>\n",
       "      <td>2.0</td>\n",
       "    </tr>\n",
       "    <tr>\n",
       "      <th>2</th>\n",
       "      <td>2018-09-20</td>\n",
       "      <td>00007d2de826758b65a93dd24ce629ed66842531df6699...</td>\n",
       "      <td>0505221004</td>\n",
       "      <td>0.015237</td>\n",
       "      <td>2.0</td>\n",
       "    </tr>\n",
       "    <tr>\n",
       "      <th>3</th>\n",
       "      <td>2018-09-20</td>\n",
       "      <td>00007d2de826758b65a93dd24ce629ed66842531df6699...</td>\n",
       "      <td>0685687003</td>\n",
       "      <td>0.016932</td>\n",
       "      <td>2.0</td>\n",
       "    </tr>\n",
       "    <tr>\n",
       "      <th>4</th>\n",
       "      <td>2018-09-20</td>\n",
       "      <td>00007d2de826758b65a93dd24ce629ed66842531df6699...</td>\n",
       "      <td>0685687004</td>\n",
       "      <td>0.016932</td>\n",
       "      <td>2.0</td>\n",
       "    </tr>\n",
       "  </tbody>\n",
       "</table>\n",
       "</div>"
      ],
      "text/plain": [
       "       t_dat                                        customer_id  article_id  \\\n",
       "0 2018-09-20  000058a12d5b43e67d225668fa1f8d618c13dc232df0ca...  0663713001   \n",
       "1 2018-09-20  000058a12d5b43e67d225668fa1f8d618c13dc232df0ca...  0541518023   \n",
       "2 2018-09-20  00007d2de826758b65a93dd24ce629ed66842531df6699...  0505221004   \n",
       "3 2018-09-20  00007d2de826758b65a93dd24ce629ed66842531df6699...  0685687003   \n",
       "4 2018-09-20  00007d2de826758b65a93dd24ce629ed66842531df6699...  0685687004   \n",
       "\n",
       "      price  sales_channel_id  \n",
       "0  0.050831               2.0  \n",
       "1  0.030492               2.0  \n",
       "2  0.015237               2.0  \n",
       "3  0.016932               2.0  \n",
       "4  0.016932               2.0  "
      ]
     },
     "execution_count": 4,
     "metadata": {},
     "output_type": "execute_result"
    }
   ],
   "source": [
    "train_df.head()"
   ]
  },
  {
   "cell_type": "code",
   "execution_count": 5,
   "id": "3d9eaa82",
   "metadata": {},
   "outputs": [
    {
     "data": {
      "text/plain": [
       "0706016001    0.001563\n",
       "0706016002    0.001123\n",
       "0372860001    0.001004\n",
       "0610776002    0.000935\n",
       "0759871002    0.000853\n",
       "0464297007    0.000795\n",
       "0372860002    0.000752\n",
       "0399223001    0.000728\n",
       "0610776001    0.000704\n",
       "0720125001    0.000682\n",
       "0562245001    0.000676\n",
       "0351484002    0.000673\n",
       "Name: article_id, dtype: float64"
      ]
     },
     "execution_count": 5,
     "metadata": {},
     "output_type": "execute_result"
    }
   ],
   "source": [
    "train_df['article_id'].value_counts().sort_values(ascending=False).head(12) / train_df.shape[0]"
   ]
  },
  {
   "cell_type": "code",
   "execution_count": 6,
   "id": "b7894c15",
   "metadata": {},
   "outputs": [
    {
     "data": {
      "text/plain": [
       "['0706016001',\n",
       " '0706016002',\n",
       " '0372860001',\n",
       " '0610776002',\n",
       " '0759871002',\n",
       " '0464297007',\n",
       " '0372860002',\n",
       " '0399223001',\n",
       " '0610776001',\n",
       " '0720125001',\n",
       " '0562245001',\n",
       " '0351484002']"
      ]
     },
     "execution_count": 6,
     "metadata": {},
     "output_type": "execute_result"
    }
   ],
   "source": [
    "top_12_purchases = train_df['article_id'].value_counts().sort_values(ascending=False).head(12).index.tolist()\n",
    "top_12_purchases"
   ]
  },
  {
   "cell_type": "code",
   "execution_count": 7,
   "id": "3eef7ea4",
   "metadata": {},
   "outputs": [
    {
     "data": {
      "text/html": [
       "<div>\n",
       "<style scoped>\n",
       "    .dataframe tbody tr th:only-of-type {\n",
       "        vertical-align: middle;\n",
       "    }\n",
       "\n",
       "    .dataframe tbody tr th {\n",
       "        vertical-align: top;\n",
       "    }\n",
       "\n",
       "    .dataframe thead th {\n",
       "        text-align: right;\n",
       "    }\n",
       "</style>\n",
       "<table border=\"1\" class=\"dataframe\">\n",
       "  <thead>\n",
       "    <tr style=\"text-align: right;\">\n",
       "      <th></th>\n",
       "      <th>t_dat</th>\n",
       "      <th>customer_id</th>\n",
       "      <th>article_id</th>\n",
       "      <th>price</th>\n",
       "      <th>sales_channel_id</th>\n",
       "    </tr>\n",
       "  </thead>\n",
       "  <tbody>\n",
       "    <tr>\n",
       "      <th>0</th>\n",
       "      <td>2020-08-10</td>\n",
       "      <td>00045027219e894b683fb4687211e2d0c904c268e9f28d...</td>\n",
       "      <td>0832481001</td>\n",
       "      <td>0.016932</td>\n",
       "      <td>1.0</td>\n",
       "    </tr>\n",
       "    <tr>\n",
       "      <th>1</th>\n",
       "      <td>2020-08-10</td>\n",
       "      <td>00045027219e894b683fb4687211e2d0c904c268e9f28d...</td>\n",
       "      <td>0907696001</td>\n",
       "      <td>0.016932</td>\n",
       "      <td>1.0</td>\n",
       "    </tr>\n",
       "    <tr>\n",
       "      <th>2</th>\n",
       "      <td>2020-08-10</td>\n",
       "      <td>00058592fc65afabbb00b1bb7d33c6b221d00c6a98c621...</td>\n",
       "      <td>0829152002</td>\n",
       "      <td>0.030492</td>\n",
       "      <td>2.0</td>\n",
       "    </tr>\n",
       "    <tr>\n",
       "      <th>3</th>\n",
       "      <td>2020-08-10</td>\n",
       "      <td>00058592fc65afabbb00b1bb7d33c6b221d00c6a98c621...</td>\n",
       "      <td>0812668001</td>\n",
       "      <td>0.050831</td>\n",
       "      <td>2.0</td>\n",
       "    </tr>\n",
       "    <tr>\n",
       "      <th>4</th>\n",
       "      <td>2020-08-10</td>\n",
       "      <td>00075ef36696a7b4ed8c83e22a4bf7ea7c90ee110991ec...</td>\n",
       "      <td>0887770002</td>\n",
       "      <td>0.008458</td>\n",
       "      <td>2.0</td>\n",
       "    </tr>\n",
       "  </tbody>\n",
       "</table>\n",
       "</div>"
      ],
      "text/plain": [
       "       t_dat                                        customer_id  article_id  \\\n",
       "0 2020-08-10  00045027219e894b683fb4687211e2d0c904c268e9f28d...  0832481001   \n",
       "1 2020-08-10  00045027219e894b683fb4687211e2d0c904c268e9f28d...  0907696001   \n",
       "2 2020-08-10  00058592fc65afabbb00b1bb7d33c6b221d00c6a98c621...  0829152002   \n",
       "3 2020-08-10  00058592fc65afabbb00b1bb7d33c6b221d00c6a98c621...  0812668001   \n",
       "4 2020-08-10  00075ef36696a7b4ed8c83e22a4bf7ea7c90ee110991ec...  0887770002   \n",
       "\n",
       "      price  sales_channel_id  \n",
       "0  0.016932               1.0  \n",
       "1  0.016932               1.0  \n",
       "2  0.030492               2.0  \n",
       "3  0.050831               2.0  \n",
       "4  0.008458               2.0  "
      ]
     },
     "execution_count": 7,
     "metadata": {},
     "output_type": "execute_result"
    }
   ],
   "source": [
    "dev_df.head()"
   ]
  },
  {
   "cell_type": "code",
   "execution_count": 8,
   "id": "76d5487c",
   "metadata": {},
   "outputs": [
    {
     "data": {
      "text/html": [
       "<div>\n",
       "<style scoped>\n",
       "    .dataframe tbody tr th:only-of-type {\n",
       "        vertical-align: middle;\n",
       "    }\n",
       "\n",
       "    .dataframe tbody tr th {\n",
       "        vertical-align: top;\n",
       "    }\n",
       "\n",
       "    .dataframe thead th {\n",
       "        text-align: right;\n",
       "    }\n",
       "</style>\n",
       "<table border=\"1\" class=\"dataframe\">\n",
       "  <thead>\n",
       "    <tr style=\"text-align: right;\">\n",
       "      <th></th>\n",
       "      <th>customer_id</th>\n",
       "      <th>article_id</th>\n",
       "    </tr>\n",
       "  </thead>\n",
       "  <tbody>\n",
       "    <tr>\n",
       "      <th>0</th>\n",
       "      <td>00006413d8573cd20ed7128e53b7b13819fe5cfc2d801f...</td>\n",
       "      <td>[0896152002, 0730683050, 0927530004, 0791587015]</td>\n",
       "    </tr>\n",
       "    <tr>\n",
       "      <th>1</th>\n",
       "      <td>00009d946eec3ea54add5ba56d5210ea898def4b46c685...</td>\n",
       "      <td>[0884319008, 0921226001, 0706016001, 0881244001]</td>\n",
       "    </tr>\n",
       "    <tr>\n",
       "      <th>2</th>\n",
       "      <td>0001d44dbe7f6c4b35200abdb052c77a87596fe1bdcc37...</td>\n",
       "      <td>[0900157002, 0900157002, 0850244001, 085024400...</td>\n",
       "    </tr>\n",
       "    <tr>\n",
       "      <th>3</th>\n",
       "      <td>00025f8226be50dcab09402a2cacd520a99e112fe01fdd...</td>\n",
       "      <td>[0781613016, 0781613006, 0751471001]</td>\n",
       "    </tr>\n",
       "    <tr>\n",
       "      <th>4</th>\n",
       "      <td>0002db27a1651998a3de4463437b580b45dfa7d8107afa...</td>\n",
       "      <td>[0926502001]</td>\n",
       "    </tr>\n",
       "  </tbody>\n",
       "</table>\n",
       "</div>"
      ],
      "text/plain": [
       "                                         customer_id  \\\n",
       "0  00006413d8573cd20ed7128e53b7b13819fe5cfc2d801f...   \n",
       "1  00009d946eec3ea54add5ba56d5210ea898def4b46c685...   \n",
       "2  0001d44dbe7f6c4b35200abdb052c77a87596fe1bdcc37...   \n",
       "3  00025f8226be50dcab09402a2cacd520a99e112fe01fdd...   \n",
       "4  0002db27a1651998a3de4463437b580b45dfa7d8107afa...   \n",
       "\n",
       "                                          article_id  \n",
       "0   [0896152002, 0730683050, 0927530004, 0791587015]  \n",
       "1   [0884319008, 0921226001, 0706016001, 0881244001]  \n",
       "2  [0900157002, 0900157002, 0850244001, 085024400...  \n",
       "3               [0781613016, 0781613006, 0751471001]  \n",
       "4                                       [0926502001]  "
      ]
     },
     "execution_count": 8,
     "metadata": {},
     "output_type": "execute_result"
    }
   ],
   "source": [
    "dev_df_by_customer = dev_df.groupby('customer_id').apply(lambda x: list(x['article_id'])).reset_index().rename(columns={0: 'article_id'})\n",
    "dev_df_by_customer.head()"
   ]
  },
  {
   "cell_type": "code",
   "execution_count": 9,
   "id": "5b5aa8c3",
   "metadata": {},
   "outputs": [],
   "source": [
    "dev_df_by_customer['number_of_purchases'] = dev_df_by_customer['article_id'].apply(len)"
   ]
  },
  {
   "cell_type": "code",
   "execution_count": 10,
   "id": "055e6612",
   "metadata": {},
   "outputs": [
    {
     "data": {
      "text/plain": [
       "100"
      ]
     },
     "execution_count": 10,
     "metadata": {},
     "output_type": "execute_result"
    }
   ],
   "source": [
    "dev_df_by_customer['number_of_purchases'].max()"
   ]
  },
  {
   "cell_type": "code",
   "execution_count": 11,
   "id": "856901fd",
   "metadata": {},
   "outputs": [],
   "source": [
    "dev_df_by_customer['number_of_distinct_purchases'] = dev_df_by_customer['article_id'].apply(lambda x: len(set(x)))"
   ]
  },
  {
   "cell_type": "code",
   "execution_count": 12,
   "id": "bd3b8fa6",
   "metadata": {},
   "outputs": [
    {
     "data": {
      "text/plain": [
       "73"
      ]
     },
     "execution_count": 12,
     "metadata": {},
     "output_type": "execute_result"
    }
   ],
   "source": [
    "dev_df_by_customer['number_of_distinct_purchases'].max()"
   ]
  },
  {
   "cell_type": "code",
   "execution_count": 13,
   "id": "6033e933",
   "metadata": {},
   "outputs": [
    {
     "data": {
      "text/html": [
       "<div>\n",
       "<style scoped>\n",
       "    .dataframe tbody tr th:only-of-type {\n",
       "        vertical-align: middle;\n",
       "    }\n",
       "\n",
       "    .dataframe tbody tr th {\n",
       "        vertical-align: top;\n",
       "    }\n",
       "\n",
       "    .dataframe thead th {\n",
       "        text-align: right;\n",
       "    }\n",
       "</style>\n",
       "<table border=\"1\" class=\"dataframe\">\n",
       "  <thead>\n",
       "    <tr style=\"text-align: right;\">\n",
       "      <th></th>\n",
       "      <th>customer_id</th>\n",
       "      <th>article_id</th>\n",
       "      <th>number_of_purchases</th>\n",
       "      <th>number_of_distinct_purchases</th>\n",
       "    </tr>\n",
       "  </thead>\n",
       "  <tbody>\n",
       "    <tr>\n",
       "      <th>0</th>\n",
       "      <td>00006413d8573cd20ed7128e53b7b13819fe5cfc2d801f...</td>\n",
       "      <td>[0896152002, 0730683050, 0927530004, 0791587015]</td>\n",
       "      <td>4</td>\n",
       "      <td>4</td>\n",
       "    </tr>\n",
       "    <tr>\n",
       "      <th>1</th>\n",
       "      <td>00009d946eec3ea54add5ba56d5210ea898def4b46c685...</td>\n",
       "      <td>[0884319008, 0921226001, 0706016001, 0881244001]</td>\n",
       "      <td>4</td>\n",
       "      <td>4</td>\n",
       "    </tr>\n",
       "    <tr>\n",
       "      <th>2</th>\n",
       "      <td>0001d44dbe7f6c4b35200abdb052c77a87596fe1bdcc37...</td>\n",
       "      <td>[0900157002, 0900157002, 0850244001, 085024400...</td>\n",
       "      <td>8</td>\n",
       "      <td>7</td>\n",
       "    </tr>\n",
       "    <tr>\n",
       "      <th>3</th>\n",
       "      <td>00025f8226be50dcab09402a2cacd520a99e112fe01fdd...</td>\n",
       "      <td>[0781613016, 0781613006, 0751471001]</td>\n",
       "      <td>3</td>\n",
       "      <td>3</td>\n",
       "    </tr>\n",
       "    <tr>\n",
       "      <th>4</th>\n",
       "      <td>0002db27a1651998a3de4463437b580b45dfa7d8107afa...</td>\n",
       "      <td>[0926502001]</td>\n",
       "      <td>1</td>\n",
       "      <td>1</td>\n",
       "    </tr>\n",
       "  </tbody>\n",
       "</table>\n",
       "</div>"
      ],
      "text/plain": [
       "                                         customer_id  \\\n",
       "0  00006413d8573cd20ed7128e53b7b13819fe5cfc2d801f...   \n",
       "1  00009d946eec3ea54add5ba56d5210ea898def4b46c685...   \n",
       "2  0001d44dbe7f6c4b35200abdb052c77a87596fe1bdcc37...   \n",
       "3  00025f8226be50dcab09402a2cacd520a99e112fe01fdd...   \n",
       "4  0002db27a1651998a3de4463437b580b45dfa7d8107afa...   \n",
       "\n",
       "                                          article_id  number_of_purchases  \\\n",
       "0   [0896152002, 0730683050, 0927530004, 0791587015]                    4   \n",
       "1   [0884319008, 0921226001, 0706016001, 0881244001]                    4   \n",
       "2  [0900157002, 0900157002, 0850244001, 085024400...                    8   \n",
       "3               [0781613016, 0781613006, 0751471001]                    3   \n",
       "4                                       [0926502001]                    1   \n",
       "\n",
       "   number_of_distinct_purchases  \n",
       "0                             4  \n",
       "1                             4  \n",
       "2                             7  \n",
       "3                             3  \n",
       "4                             1  "
      ]
     },
     "execution_count": 13,
     "metadata": {},
     "output_type": "execute_result"
    }
   ],
   "source": [
    "dev_df_by_customer.head()"
   ]
  },
  {
   "cell_type": "code",
   "execution_count": 22,
   "id": "0ac7bd73",
   "metadata": {},
   "outputs": [],
   "source": [
    "actuals = dev_df_by_customer['article_id'].to_list()"
   ]
  },
  {
   "cell_type": "code",
   "execution_count": 18,
   "id": "52abafdc",
   "metadata": {},
   "outputs": [],
   "source": [
    "predictions = [top_12_purchases for _ in range(dev_df_by_customer.shape[0])]"
   ]
  },
  {
   "cell_type": "code",
   "execution_count": 24,
   "id": "dbb78b4e",
   "metadata": {},
   "outputs": [
    {
     "data": {
      "text/plain": [
       "0.0022334424392915896"
      ]
     },
     "execution_count": 24,
     "metadata": {},
     "output_type": "execute_result"
    }
   ],
   "source": [
    "mapk(actuals, predictions, k=12)"
   ]
  },
  {
   "cell_type": "markdown",
   "id": "352b2d37",
   "metadata": {},
   "source": [
    "Official submission score with same strategy: 0.0027\n",
    "\n",
    "Closeness suggests validation set is reasonably representative"
   ]
  }
 ],
 "metadata": {
  "kernelspec": {
   "display_name": "Python 3 (ipykernel)",
   "language": "python",
   "name": "python3"
  },
  "language_info": {
   "codemirror_mode": {
    "name": "ipython",
    "version": 3
   },
   "file_extension": ".py",
   "mimetype": "text/x-python",
   "name": "python",
   "nbconvert_exporter": "python",
   "pygments_lexer": "ipython3",
   "version": "3.8.12"
  }
 },
 "nbformat": 4,
 "nbformat_minor": 5
}
