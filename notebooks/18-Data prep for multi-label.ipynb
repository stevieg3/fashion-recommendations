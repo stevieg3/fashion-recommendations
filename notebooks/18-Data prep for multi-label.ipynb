{
 "cells": [
  {
   "cell_type": "code",
   "execution_count": 1,
   "id": "22eb73cb",
   "metadata": {
    "colab": {
     "base_uri": "https://localhost:8080/"
    },
    "executionInfo": {
     "elapsed": 3210,
     "status": "ok",
     "timestamp": 1651409331042,
     "user": {
      "displayName": "Steven George",
      "userId": "07709250839253394649"
     },
     "user_tz": -60
    },
    "id": "684c29dc",
    "outputId": "20372b5e-61e6-403f-8590-9a9c8594986c"
   },
   "outputs": [],
   "source": [
    "# from google.colab import drive\n",
    "# drive.mount('/content/drive', force_remount=True)"
   ]
  },
  {
   "cell_type": "code",
   "execution_count": 111,
   "id": "74599d54",
   "metadata": {
    "executionInfo": {
     "elapsed": 840,
     "status": "ok",
     "timestamp": 1651409331879,
     "user": {
      "displayName": "Steven George",
      "userId": "07709250839253394649"
     },
     "user_tz": -60
    },
    "id": "ed2a56ae"
   },
   "outputs": [],
   "source": [
    "import os\n",
    "import datetime\n",
    "\n",
    "import pandas as pd\n",
    "import numpy as np\n",
    "import matplotlib.pyplot as plt\n",
    "import torch\n",
    "import torch.nn as nn\n",
    "from torch.utils.data import Dataset, DataLoader, IterableDataset\n",
    "from tqdm import tqdm"
   ]
  },
  {
   "cell_type": "code",
   "execution_count": 3,
   "id": "68815c92",
   "metadata": {
    "executionInfo": {
     "elapsed": 7,
     "status": "ok",
     "timestamp": 1651409331880,
     "user": {
      "displayName": "Steven George",
      "userId": "07709250839253394649"
     },
     "user_tz": -60
    },
    "id": "5c91b0f7"
   },
   "outputs": [],
   "source": [
    "os.chdir('..')\n",
    "# os.chdir('drive/My Drive/Colab Notebooks/Github/fashion-recommendations') "
   ]
  },
  {
   "cell_type": "code",
   "execution_count": 4,
   "id": "42d303da",
   "metadata": {
    "executionInfo": {
     "elapsed": 6,
     "status": "ok",
     "timestamp": 1651409331880,
     "user": {
      "displayName": "Steven George",
      "userId": "07709250839253394649"
     },
     "user_tz": -60
    },
    "id": "66c257b2"
   },
   "outputs": [],
   "source": [
    "from fashion_recommendations.metrics.average_precision import mapk"
   ]
  },
  {
   "cell_type": "code",
   "execution_count": 5,
   "id": "3237d90f",
   "metadata": {
    "executionInfo": {
     "elapsed": 5,
     "status": "ok",
     "timestamp": 1651409331880,
     "user": {
      "displayName": "Steven George",
      "userId": "07709250839253394649"
     },
     "user_tz": -60
    },
    "id": "f7a7dcef"
   },
   "outputs": [],
   "source": [
    "pd.options.display.max_columns = None"
   ]
  },
  {
   "cell_type": "code",
   "execution_count": 6,
   "id": "10e1fa53",
   "metadata": {
    "colab": {
     "base_uri": "https://localhost:8080/"
    },
    "executionInfo": {
     "elapsed": 6,
     "status": "ok",
     "timestamp": 1651409331881,
     "user": {
      "displayName": "Steven George",
      "userId": "07709250839253394649"
     },
     "user_tz": -60
    },
    "id": "c8a9e80a",
    "outputId": "18e22a32-4e25-4bbe-9252-4890c3f2bf65"
   },
   "outputs": [
    {
     "name": "stdout",
     "output_type": "stream",
     "text": [
      "cpu\n"
     ]
    }
   ],
   "source": [
    "device = torch.device(\"cuda:0\" if torch.cuda.is_available() else \"cpu\")\n",
    "print(device)"
   ]
  },
  {
   "cell_type": "markdown",
   "id": "b4399354",
   "metadata": {
    "id": "cb50efc7"
   },
   "source": [
    "### Load transactions"
   ]
  },
  {
   "cell_type": "code",
   "execution_count": 126,
   "id": "974368bd",
   "metadata": {},
   "outputs": [
    {
     "data": {
      "text/plain": [
       "'0751471001 0706016001 0372860002 0610776002 0448509014 0730683050 0918292001 0760084003 0866731001 0372860001 0827968001 0706016003'"
      ]
     },
     "execution_count": 126,
     "metadata": {},
     "output_type": "execute_result"
    }
   ],
   "source": [
    "# ' '.join(transactions_train['article_id'].value_counts().head(12).index.tolist())"
   ]
  },
  {
   "cell_type": "code",
   "execution_count": 7,
   "id": "aafcb6b2",
   "metadata": {},
   "outputs": [
    {
     "name": "stdout",
     "output_type": "stream",
     "text": [
      "(31788324, 5)\n"
     ]
    },
    {
     "data": {
      "text/html": [
       "<div>\n",
       "<style scoped>\n",
       "    .dataframe tbody tr th:only-of-type {\n",
       "        vertical-align: middle;\n",
       "    }\n",
       "\n",
       "    .dataframe tbody tr th {\n",
       "        vertical-align: top;\n",
       "    }\n",
       "\n",
       "    .dataframe thead th {\n",
       "        text-align: right;\n",
       "    }\n",
       "</style>\n",
       "<table border=\"1\" class=\"dataframe\">\n",
       "  <thead>\n",
       "    <tr style=\"text-align: right;\">\n",
       "      <th></th>\n",
       "      <th>t_dat</th>\n",
       "      <th>customer_id</th>\n",
       "      <th>article_id</th>\n",
       "      <th>price</th>\n",
       "      <th>sales_channel_id</th>\n",
       "    </tr>\n",
       "  </thead>\n",
       "  <tbody>\n",
       "    <tr>\n",
       "      <th>0</th>\n",
       "      <td>2018-09-20</td>\n",
       "      <td>000058a12d5b43e67d225668fa1f8d618c13dc232df0ca...</td>\n",
       "      <td>0663713001</td>\n",
       "      <td>0.050831</td>\n",
       "      <td>2</td>\n",
       "    </tr>\n",
       "    <tr>\n",
       "      <th>1</th>\n",
       "      <td>2018-09-20</td>\n",
       "      <td>000058a12d5b43e67d225668fa1f8d618c13dc232df0ca...</td>\n",
       "      <td>0541518023</td>\n",
       "      <td>0.030492</td>\n",
       "      <td>2</td>\n",
       "    </tr>\n",
       "    <tr>\n",
       "      <th>2</th>\n",
       "      <td>2018-09-20</td>\n",
       "      <td>00007d2de826758b65a93dd24ce629ed66842531df6699...</td>\n",
       "      <td>0505221004</td>\n",
       "      <td>0.015237</td>\n",
       "      <td>2</td>\n",
       "    </tr>\n",
       "    <tr>\n",
       "      <th>3</th>\n",
       "      <td>2018-09-20</td>\n",
       "      <td>00007d2de826758b65a93dd24ce629ed66842531df6699...</td>\n",
       "      <td>0685687003</td>\n",
       "      <td>0.016932</td>\n",
       "      <td>2</td>\n",
       "    </tr>\n",
       "    <tr>\n",
       "      <th>4</th>\n",
       "      <td>2018-09-20</td>\n",
       "      <td>00007d2de826758b65a93dd24ce629ed66842531df6699...</td>\n",
       "      <td>0685687004</td>\n",
       "      <td>0.016932</td>\n",
       "      <td>2</td>\n",
       "    </tr>\n",
       "  </tbody>\n",
       "</table>\n",
       "</div>"
      ],
      "text/plain": [
       "        t_dat                                        customer_id  article_id  \\\n",
       "0  2018-09-20  000058a12d5b43e67d225668fa1f8d618c13dc232df0ca...  0663713001   \n",
       "1  2018-09-20  000058a12d5b43e67d225668fa1f8d618c13dc232df0ca...  0541518023   \n",
       "2  2018-09-20  00007d2de826758b65a93dd24ce629ed66842531df6699...  0505221004   \n",
       "3  2018-09-20  00007d2de826758b65a93dd24ce629ed66842531df6699...  0685687003   \n",
       "4  2018-09-20  00007d2de826758b65a93dd24ce629ed66842531df6699...  0685687004   \n",
       "\n",
       "      price  sales_channel_id  \n",
       "0  0.050831                 2  \n",
       "1  0.030492                 2  \n",
       "2  0.015237                 2  \n",
       "3  0.016932                 2  \n",
       "4  0.016932                 2  "
      ]
     },
     "execution_count": 7,
     "metadata": {},
     "output_type": "execute_result"
    }
   ],
   "source": [
    "transactions_train = pd.read_csv('data/transactions_train.csv', dtype={'article_id': str})\n",
    "print(transactions_train.shape)\n",
    "transactions_train.head()"
   ]
  },
  {
   "cell_type": "code",
   "execution_count": 8,
   "id": "4ac8c064",
   "metadata": {},
   "outputs": [],
   "source": [
    "transactions_train['t_dat'] = pd.to_datetime(transactions_train['t_dat'])"
   ]
  },
  {
   "cell_type": "code",
   "execution_count": 9,
   "id": "9fd09170",
   "metadata": {},
   "outputs": [
    {
     "data": {
      "text/plain": [
       "count    1.362281e+06\n",
       "mean     2.333463e+01\n",
       "std      3.924225e+01\n",
       "min      1.000000e+00\n",
       "25%      3.000000e+00\n",
       "50%      9.000000e+00\n",
       "75%      2.700000e+01\n",
       "max      1.895000e+03\n",
       "Name: article_id, dtype: float64"
      ]
     },
     "execution_count": 9,
     "metadata": {},
     "output_type": "execute_result"
    }
   ],
   "source": [
    "transactions_train.groupby('customer_id')['article_id'].count().describe()"
   ]
  },
  {
   "cell_type": "markdown",
   "id": "b77d3e3c",
   "metadata": {},
   "source": [
    "### Load articles"
   ]
  },
  {
   "cell_type": "code",
   "execution_count": 10,
   "id": "cad2600f",
   "metadata": {},
   "outputs": [
    {
     "name": "stdout",
     "output_type": "stream",
     "text": [
      "(105542, 3)\n"
     ]
    },
    {
     "data": {
      "text/html": [
       "<div>\n",
       "<style scoped>\n",
       "    .dataframe tbody tr th:only-of-type {\n",
       "        vertical-align: middle;\n",
       "    }\n",
       "\n",
       "    .dataframe tbody tr th {\n",
       "        vertical-align: top;\n",
       "    }\n",
       "\n",
       "    .dataframe thead th {\n",
       "        text-align: right;\n",
       "    }\n",
       "</style>\n",
       "<table border=\"1\" class=\"dataframe\">\n",
       "  <thead>\n",
       "    <tr style=\"text-align: right;\">\n",
       "      <th></th>\n",
       "      <th>article_id</th>\n",
       "      <th>garment_group_name</th>\n",
       "      <th>detail_desc</th>\n",
       "    </tr>\n",
       "  </thead>\n",
       "  <tbody>\n",
       "    <tr>\n",
       "      <th>0</th>\n",
       "      <td>0108775015</td>\n",
       "      <td>Jersey Basic</td>\n",
       "      <td>Jersey top with narrow shoulder straps.</td>\n",
       "    </tr>\n",
       "    <tr>\n",
       "      <th>1</th>\n",
       "      <td>0108775044</td>\n",
       "      <td>Jersey Basic</td>\n",
       "      <td>Jersey top with narrow shoulder straps.</td>\n",
       "    </tr>\n",
       "    <tr>\n",
       "      <th>2</th>\n",
       "      <td>0108775051</td>\n",
       "      <td>Jersey Basic</td>\n",
       "      <td>Jersey top with narrow shoulder straps.</td>\n",
       "    </tr>\n",
       "    <tr>\n",
       "      <th>3</th>\n",
       "      <td>0110065001</td>\n",
       "      <td>Under-, Nightwear</td>\n",
       "      <td>Microfibre T-shirt bra with underwired, moulde...</td>\n",
       "    </tr>\n",
       "    <tr>\n",
       "      <th>4</th>\n",
       "      <td>0110065002</td>\n",
       "      <td>Under-, Nightwear</td>\n",
       "      <td>Microfibre T-shirt bra with underwired, moulde...</td>\n",
       "    </tr>\n",
       "  </tbody>\n",
       "</table>\n",
       "</div>"
      ],
      "text/plain": [
       "   article_id garment_group_name  \\\n",
       "0  0108775015       Jersey Basic   \n",
       "1  0108775044       Jersey Basic   \n",
       "2  0108775051       Jersey Basic   \n",
       "3  0110065001  Under-, Nightwear   \n",
       "4  0110065002  Under-, Nightwear   \n",
       "\n",
       "                                         detail_desc  \n",
       "0            Jersey top with narrow shoulder straps.  \n",
       "1            Jersey top with narrow shoulder straps.  \n",
       "2            Jersey top with narrow shoulder straps.  \n",
       "3  Microfibre T-shirt bra with underwired, moulde...  \n",
       "4  Microfibre T-shirt bra with underwired, moulde...  "
      ]
     },
     "execution_count": 10,
     "metadata": {},
     "output_type": "execute_result"
    }
   ],
   "source": [
    "articles_df = pd.read_csv(\n",
    "    'data/articles.csv', \n",
    "    dtype={'article_id': str},\n",
    "    usecols=['article_id', 'garment_group_name', 'detail_desc']\n",
    ")\n",
    "print(articles_df.shape)\n",
    "articles_df.head()"
   ]
  },
  {
   "cell_type": "code",
   "execution_count": 11,
   "id": "6eeb39c2",
   "metadata": {},
   "outputs": [
    {
     "data": {
      "text/plain": [
       "article_id              0\n",
       "garment_group_name      0\n",
       "detail_desc           416\n",
       "dtype: int64"
      ]
     },
     "execution_count": 11,
     "metadata": {},
     "output_type": "execute_result"
    }
   ],
   "source": [
    "articles_df.isnull().sum()"
   ]
  },
  {
   "cell_type": "code",
   "execution_count": 12,
   "id": "92b76b1b",
   "metadata": {},
   "outputs": [],
   "source": [
    "articles_df['detail_desc'] = np.where(\n",
    "    articles_df['detail_desc'].isnull(), \n",
    "    articles_df['garment_group_name'], \n",
    "    articles_df['detail_desc']\n",
    ")"
   ]
  },
  {
   "cell_type": "markdown",
   "id": "9e4c1910",
   "metadata": {},
   "source": [
    "### Find cut-offs"
   ]
  },
  {
   "cell_type": "code",
   "execution_count": 13,
   "id": "97d94373",
   "metadata": {},
   "outputs": [],
   "source": [
    "end = transactions_train['t_dat'].max()\n",
    "endm1 = end - datetime.timedelta(days=7)\n",
    "endm2 = endm1 - datetime.timedelta(days=7)\n",
    "endm3 = endm2 - datetime.timedelta(days=7)"
   ]
  },
  {
   "cell_type": "code",
   "execution_count": 14,
   "id": "cff96710",
   "metadata": {},
   "outputs": [
    {
     "data": {
      "text/plain": [
       "(Timestamp('2020-09-22 00:00:00'),\n",
       " Timestamp('2020-09-15 00:00:00'),\n",
       " Timestamp('2020-09-08 00:00:00'),\n",
       " Timestamp('2020-09-01 00:00:00'))"
      ]
     },
     "execution_count": 14,
     "metadata": {},
     "output_type": "execute_result"
    }
   ],
   "source": [
    "end, endm1, endm2, endm3"
   ]
  },
  {
   "cell_type": "markdown",
   "id": "0849cd92",
   "metadata": {},
   "source": [
    "train\n",
    "- inputs: start - endm3\n",
    "- labels: emdm3 - endm2\n",
    "\n",
    "dev\n",
    "- inputs: start - endm2\n",
    "- labels: emdm2 - endm1\n",
    "\n",
    "test \n",
    "- inputs: start - endm1\n",
    "- labels: endm1 - end"
   ]
  },
  {
   "cell_type": "code",
   "execution_count": 15,
   "id": "68821d76",
   "metadata": {},
   "outputs": [],
   "source": [
    "transactions_train = transactions_train.copy()[transactions_train['t_dat'] > '2020-07-01']"
   ]
  },
  {
   "cell_type": "code",
   "execution_count": 16,
   "id": "5e893947",
   "metadata": {},
   "outputs": [
    {
     "data": {
      "text/plain": [
       "484944"
      ]
     },
     "execution_count": 16,
     "metadata": {},
     "output_type": "execute_result"
    }
   ],
   "source": [
    "transactions_train['customer_id'].nunique()"
   ]
  },
  {
   "cell_type": "code",
   "execution_count": 17,
   "id": "ebf042c6",
   "metadata": {},
   "outputs": [
    {
     "data": {
      "text/plain": [
       "0.052763260313577226"
      ]
     },
     "execution_count": 17,
     "metadata": {},
     "output_type": "execute_result"
    }
   ],
   "source": [
    "# % of items in last week which didn't appear in prior weeks' transactions\n",
    "len(set(transactions_train[transactions_train['t_dat'] > endm1]['article_id']) - set(transactions_train[transactions_train['t_dat'] <= endm1]['article_id'])) / transactions_train[transactions_train['t_dat'] > endm1]['article_id'].nunique()"
   ]
  },
  {
   "cell_type": "code",
   "execution_count": 18,
   "id": "6052bfe2",
   "metadata": {},
   "outputs": [
    {
     "data": {
      "text/plain": [
       "(3327520, 5)"
      ]
     },
     "execution_count": 18,
     "metadata": {},
     "output_type": "execute_result"
    }
   ],
   "source": [
    "transactions_train.shape"
   ]
  },
  {
   "cell_type": "code",
   "execution_count": 19,
   "id": "b15b6a13",
   "metadata": {},
   "outputs": [
    {
     "data": {
      "text/plain": [
       "0.3840935362225465"
      ]
     },
     "execution_count": 19,
     "metadata": {},
     "output_type": "execute_result"
    }
   ],
   "source": [
    "transactions_train['article_id'].nunique() / articles_df.shape[0]"
   ]
  },
  {
   "cell_type": "markdown",
   "id": "c8fb6aba",
   "metadata": {},
   "source": [
    "### Filter out unnecessary articles"
   ]
  },
  {
   "cell_type": "code",
   "execution_count": 20,
   "id": "90a25ec9",
   "metadata": {},
   "outputs": [
    {
     "name": "stdout",
     "output_type": "stream",
     "text": [
      "(40538, 2)\n"
     ]
    },
    {
     "data": {
      "text/html": [
       "<div>\n",
       "<style scoped>\n",
       "    .dataframe tbody tr th:only-of-type {\n",
       "        vertical-align: middle;\n",
       "    }\n",
       "\n",
       "    .dataframe tbody tr th {\n",
       "        vertical-align: top;\n",
       "    }\n",
       "\n",
       "    .dataframe thead th {\n",
       "        text-align: right;\n",
       "    }\n",
       "</style>\n",
       "<table border=\"1\" class=\"dataframe\">\n",
       "  <thead>\n",
       "    <tr style=\"text-align: right;\">\n",
       "      <th></th>\n",
       "      <th>article_id</th>\n",
       "      <th>detail_desc</th>\n",
       "    </tr>\n",
       "  </thead>\n",
       "  <tbody>\n",
       "    <tr>\n",
       "      <th>0</th>\n",
       "      <td>0108775015</td>\n",
       "      <td>Jersey top with narrow shoulder straps.</td>\n",
       "    </tr>\n",
       "    <tr>\n",
       "      <th>1</th>\n",
       "      <td>0108775044</td>\n",
       "      <td>Jersey top with narrow shoulder straps.</td>\n",
       "    </tr>\n",
       "    <tr>\n",
       "      <th>2</th>\n",
       "      <td>0110065001</td>\n",
       "      <td>Microfibre T-shirt bra with underwired, moulde...</td>\n",
       "    </tr>\n",
       "    <tr>\n",
       "      <th>3</th>\n",
       "      <td>0110065002</td>\n",
       "      <td>Microfibre T-shirt bra with underwired, moulde...</td>\n",
       "    </tr>\n",
       "    <tr>\n",
       "      <th>4</th>\n",
       "      <td>0110065011</td>\n",
       "      <td>Microfibre T-shirt bra with underwired, moulde...</td>\n",
       "    </tr>\n",
       "  </tbody>\n",
       "</table>\n",
       "</div>"
      ],
      "text/plain": [
       "   article_id                                        detail_desc\n",
       "0  0108775015            Jersey top with narrow shoulder straps.\n",
       "1  0108775044            Jersey top with narrow shoulder straps.\n",
       "2  0110065001  Microfibre T-shirt bra with underwired, moulde...\n",
       "3  0110065002  Microfibre T-shirt bra with underwired, moulde...\n",
       "4  0110065011  Microfibre T-shirt bra with underwired, moulde..."
      ]
     },
     "execution_count": 20,
     "metadata": {},
     "output_type": "execute_result"
    }
   ],
   "source": [
    "articles_df = articles_df.copy()[\n",
    "    articles_df['article_id'].isin(transactions_train['article_id'].unique())\n",
    "]\n",
    "\n",
    "articles_df.reset_index(drop=True, inplace=True)\n",
    "articles_df.drop(columns=['garment_group_name'], inplace=True)\n",
    "print(articles_df.shape)\n",
    "articles_df.head()"
   ]
  },
  {
   "cell_type": "code",
   "execution_count": 21,
   "id": "f5280a8a",
   "metadata": {},
   "outputs": [],
   "source": [
    "articles_df['article_id_idx'] = articles_df.index"
   ]
  },
  {
   "cell_type": "code",
   "execution_count": 22,
   "id": "26562fdf",
   "metadata": {},
   "outputs": [],
   "source": [
    "article_id_to_idx = dict(zip(articles_df['article_id'], articles_df['article_id_idx']))"
   ]
  },
  {
   "cell_type": "code",
   "execution_count": 23,
   "id": "452e1c98",
   "metadata": {},
   "outputs": [],
   "source": [
    "transactions_train['article_id_idx'] = transactions_train['article_id'].map(article_id_to_idx)\n",
    "transactions_train['article_id_idx'] = transactions_train['article_id_idx'].astype(str)"
   ]
  },
  {
   "cell_type": "markdown",
   "id": "ea4a8ae7",
   "metadata": {},
   "source": [
    "### Create splits\n",
    "\n",
    "#### Illustrative steps:"
   ]
  },
  {
   "cell_type": "code",
   "execution_count": 24,
   "id": "938a2212",
   "metadata": {},
   "outputs": [],
   "source": [
    "dev_labels = transactions_train.copy()[transactions_train['t_dat'] > endm1]"
   ]
  },
  {
   "cell_type": "code",
   "execution_count": 25,
   "id": "2c093165",
   "metadata": {},
   "outputs": [],
   "source": [
    "dev_inputs = transactions_train.copy()[transactions_train['t_dat'] <= endm1]"
   ]
  },
  {
   "cell_type": "code",
   "execution_count": 26,
   "id": "80f176d2",
   "metadata": {},
   "outputs": [
    {
     "name": "stdout",
     "output_type": "stream",
     "text": [
      "(3087209, 6)\n"
     ]
    },
    {
     "data": {
      "text/html": [
       "<div>\n",
       "<style scoped>\n",
       "    .dataframe tbody tr th:only-of-type {\n",
       "        vertical-align: middle;\n",
       "    }\n",
       "\n",
       "    .dataframe tbody tr th {\n",
       "        vertical-align: top;\n",
       "    }\n",
       "\n",
       "    .dataframe thead th {\n",
       "        text-align: right;\n",
       "    }\n",
       "</style>\n",
       "<table border=\"1\" class=\"dataframe\">\n",
       "  <thead>\n",
       "    <tr style=\"text-align: right;\">\n",
       "      <th></th>\n",
       "      <th>t_dat</th>\n",
       "      <th>customer_id</th>\n",
       "      <th>article_id</th>\n",
       "      <th>price</th>\n",
       "      <th>sales_channel_id</th>\n",
       "      <th>article_id_idx</th>\n",
       "    </tr>\n",
       "  </thead>\n",
       "  <tbody>\n",
       "    <tr>\n",
       "      <th>28460804</th>\n",
       "      <td>2020-07-02</td>\n",
       "      <td>0007ee0394b764776edf7f49926235094702acddedc24b...</td>\n",
       "      <td>0801068005</td>\n",
       "      <td>0.022017</td>\n",
       "      <td>1</td>\n",
       "      <td>20144</td>\n",
       "    </tr>\n",
       "    <tr>\n",
       "      <th>28460805</th>\n",
       "      <td>2020-07-02</td>\n",
       "      <td>0007ee0394b764776edf7f49926235094702acddedc24b...</td>\n",
       "      <td>0888728007</td>\n",
       "      <td>0.018627</td>\n",
       "      <td>1</td>\n",
       "      <td>35804</td>\n",
       "    </tr>\n",
       "    <tr>\n",
       "      <th>28460806</th>\n",
       "      <td>2020-07-02</td>\n",
       "      <td>0007ee0394b764776edf7f49926235094702acddedc24b...</td>\n",
       "      <td>0837981001</td>\n",
       "      <td>0.018627</td>\n",
       "      <td>1</td>\n",
       "      <td>26485</td>\n",
       "    </tr>\n",
       "    <tr>\n",
       "      <th>28460807</th>\n",
       "      <td>2020-07-02</td>\n",
       "      <td>0008a2dd68b9a347b6f6b6d567b48684d4a11e05a8b7cc...</td>\n",
       "      <td>0730683001</td>\n",
       "      <td>0.042356</td>\n",
       "      <td>1</td>\n",
       "      <td>11603</td>\n",
       "    </tr>\n",
       "    <tr>\n",
       "      <th>28460808</th>\n",
       "      <td>2020-07-02</td>\n",
       "      <td>0008d30a148478dc88c69af6c51230ad5802590afc8488...</td>\n",
       "      <td>0888843001</td>\n",
       "      <td>0.054220</td>\n",
       "      <td>2</td>\n",
       "      <td>35817</td>\n",
       "    </tr>\n",
       "  </tbody>\n",
       "</table>\n",
       "</div>"
      ],
      "text/plain": [
       "              t_dat                                        customer_id  \\\n",
       "28460804 2020-07-02  0007ee0394b764776edf7f49926235094702acddedc24b...   \n",
       "28460805 2020-07-02  0007ee0394b764776edf7f49926235094702acddedc24b...   \n",
       "28460806 2020-07-02  0007ee0394b764776edf7f49926235094702acddedc24b...   \n",
       "28460807 2020-07-02  0008a2dd68b9a347b6f6b6d567b48684d4a11e05a8b7cc...   \n",
       "28460808 2020-07-02  0008d30a148478dc88c69af6c51230ad5802590afc8488...   \n",
       "\n",
       "          article_id     price  sales_channel_id article_id_idx  \n",
       "28460804  0801068005  0.022017                 1          20144  \n",
       "28460805  0888728007  0.018627                 1          35804  \n",
       "28460806  0837981001  0.018627                 1          26485  \n",
       "28460807  0730683001  0.042356                 1          11603  \n",
       "28460808  0888843001  0.054220                 2          35817  "
      ]
     },
     "execution_count": 26,
     "metadata": {},
     "output_type": "execute_result"
    }
   ],
   "source": [
    "print(dev_inputs.shape)\n",
    "dev_inputs.head()"
   ]
  },
  {
   "cell_type": "code",
   "execution_count": 27,
   "id": "40b2ca1f",
   "metadata": {},
   "outputs": [
    {
     "data": {
      "text/html": [
       "<div>\n",
       "<style scoped>\n",
       "    .dataframe tbody tr th:only-of-type {\n",
       "        vertical-align: middle;\n",
       "    }\n",
       "\n",
       "    .dataframe tbody tr th {\n",
       "        vertical-align: top;\n",
       "    }\n",
       "\n",
       "    .dataframe thead th {\n",
       "        text-align: right;\n",
       "    }\n",
       "</style>\n",
       "<table border=\"1\" class=\"dataframe\">\n",
       "  <thead>\n",
       "    <tr style=\"text-align: right;\">\n",
       "      <th></th>\n",
       "      <th>t_dat</th>\n",
       "      <th>customer_id</th>\n",
       "      <th>article_id</th>\n",
       "      <th>price</th>\n",
       "      <th>sales_channel_id</th>\n",
       "      <th>article_id_idx</th>\n",
       "    </tr>\n",
       "  </thead>\n",
       "  <tbody>\n",
       "    <tr>\n",
       "      <th>31140481</th>\n",
       "      <td>2020-09-05</td>\n",
       "      <td>00000dbacae5abe5e23885899a1fa44253a17956c6d1c3...</td>\n",
       "      <td>0568601043</td>\n",
       "      <td>0.050831</td>\n",
       "      <td>1</td>\n",
       "      <td>2964</td>\n",
       "    </tr>\n",
       "    <tr>\n",
       "      <th>28738780</th>\n",
       "      <td>2020-07-08</td>\n",
       "      <td>0000423b00ade91418cceaf3b26c6af3dd342b51fd051e...</td>\n",
       "      <td>0826211002</td>\n",
       "      <td>0.027102</td>\n",
       "      <td>1</td>\n",
       "      <td>24822</td>\n",
       "    </tr>\n",
       "    <tr>\n",
       "      <th>31521960</th>\n",
       "      <td>2020-09-15</td>\n",
       "      <td>000058a12d5b43e67d225668fa1f8d618c13dc232df0ca...</td>\n",
       "      <td>0794321007</td>\n",
       "      <td>0.061000</td>\n",
       "      <td>2</td>\n",
       "      <td>19269</td>\n",
       "    </tr>\n",
       "    <tr>\n",
       "      <th>30223079</th>\n",
       "      <td>2020-08-12</td>\n",
       "      <td>00006413d8573cd20ed7128e53b7b13819fe5cfc2d801f...</td>\n",
       "      <td>0896152002</td>\n",
       "      <td>0.027102</td>\n",
       "      <td>2</td>\n",
       "      <td>36886</td>\n",
       "    </tr>\n",
       "    <tr>\n",
       "      <th>30223080</th>\n",
       "      <td>2020-08-12</td>\n",
       "      <td>00006413d8573cd20ed7128e53b7b13819fe5cfc2d801f...</td>\n",
       "      <td>0730683050</td>\n",
       "      <td>0.033881</td>\n",
       "      <td>2</td>\n",
       "      <td>11614</td>\n",
       "    </tr>\n",
       "  </tbody>\n",
       "</table>\n",
       "</div>"
      ],
      "text/plain": [
       "              t_dat                                        customer_id  \\\n",
       "31140481 2020-09-05  00000dbacae5abe5e23885899a1fa44253a17956c6d1c3...   \n",
       "28738780 2020-07-08  0000423b00ade91418cceaf3b26c6af3dd342b51fd051e...   \n",
       "31521960 2020-09-15  000058a12d5b43e67d225668fa1f8d618c13dc232df0ca...   \n",
       "30223079 2020-08-12  00006413d8573cd20ed7128e53b7b13819fe5cfc2d801f...   \n",
       "30223080 2020-08-12  00006413d8573cd20ed7128e53b7b13819fe5cfc2d801f...   \n",
       "\n",
       "          article_id     price  sales_channel_id article_id_idx  \n",
       "31140481  0568601043  0.050831                 1           2964  \n",
       "28738780  0826211002  0.027102                 1          24822  \n",
       "31521960  0794321007  0.061000                 2          19269  \n",
       "30223079  0896152002  0.027102                 2          36886  \n",
       "30223080  0730683050  0.033881                 2          11614  "
      ]
     },
     "execution_count": 27,
     "metadata": {},
     "output_type": "execute_result"
    }
   ],
   "source": [
    "dev_inputs.sort_values(['customer_id', 't_dat'], inplace=True)\n",
    "dev_inputs.head()"
   ]
  },
  {
   "cell_type": "code",
   "execution_count": 28,
   "id": "45d3e1ee",
   "metadata": {},
   "outputs": [],
   "source": [
    "# dev_inputs['total_purchases'] = dev_inputs.groupby('customer_id')['article_id'].transform('count')"
   ]
  },
  {
   "cell_type": "code",
   "execution_count": 29,
   "id": "76d81728",
   "metadata": {},
   "outputs": [],
   "source": [
    "# print(dev_inputs.shape)\n",
    "# dev_inputs = dev_inputs.copy()[dev_inputs['total_purchases'] >= 10]\n",
    "# print(dev_inputs.shape)"
   ]
  },
  {
   "cell_type": "code",
   "execution_count": 30,
   "id": "450b8f94",
   "metadata": {},
   "outputs": [],
   "source": [
    "dev_inputs['article_id_idx'] = dev_inputs['article_id_idx'].astype(str)"
   ]
  },
  {
   "cell_type": "code",
   "execution_count": 31,
   "id": "422222d4",
   "metadata": {},
   "outputs": [
    {
     "name": "stdout",
     "output_type": "stream",
     "text": [
      "(463088, 2)\n"
     ]
    },
    {
     "data": {
      "text/html": [
       "<div>\n",
       "<style scoped>\n",
       "    .dataframe tbody tr th:only-of-type {\n",
       "        vertical-align: middle;\n",
       "    }\n",
       "\n",
       "    .dataframe tbody tr th {\n",
       "        vertical-align: top;\n",
       "    }\n",
       "\n",
       "    .dataframe thead th {\n",
       "        text-align: right;\n",
       "    }\n",
       "</style>\n",
       "<table border=\"1\" class=\"dataframe\">\n",
       "  <thead>\n",
       "    <tr style=\"text-align: right;\">\n",
       "      <th></th>\n",
       "      <th>customer_id</th>\n",
       "      <th>article_id_idx</th>\n",
       "    </tr>\n",
       "  </thead>\n",
       "  <tbody>\n",
       "    <tr>\n",
       "      <th>0</th>\n",
       "      <td>00000dbacae5abe5e23885899a1fa44253a17956c6d1c3...</td>\n",
       "      <td>2964</td>\n",
       "    </tr>\n",
       "    <tr>\n",
       "      <th>1</th>\n",
       "      <td>0000423b00ade91418cceaf3b26c6af3dd342b51fd051e...</td>\n",
       "      <td>24822</td>\n",
       "    </tr>\n",
       "    <tr>\n",
       "      <th>2</th>\n",
       "      <td>000058a12d5b43e67d225668fa1f8d618c13dc232df0ca...</td>\n",
       "      <td>19269</td>\n",
       "    </tr>\n",
       "    <tr>\n",
       "      <th>3</th>\n",
       "      <td>00006413d8573cd20ed7128e53b7b13819fe5cfc2d801f...</td>\n",
       "      <td>36886,11614,39949,18973</td>\n",
       "    </tr>\n",
       "    <tr>\n",
       "      <th>4</th>\n",
       "      <td>0000757967448a6cb83efb3ea7a3fb9d418ac7adf2379d...</td>\n",
       "      <td>10788,915</td>\n",
       "    </tr>\n",
       "  </tbody>\n",
       "</table>\n",
       "</div>"
      ],
      "text/plain": [
       "                                         customer_id           article_id_idx\n",
       "0  00000dbacae5abe5e23885899a1fa44253a17956c6d1c3...                     2964\n",
       "1  0000423b00ade91418cceaf3b26c6af3dd342b51fd051e...                    24822\n",
       "2  000058a12d5b43e67d225668fa1f8d618c13dc232df0ca...                    19269\n",
       "3  00006413d8573cd20ed7128e53b7b13819fe5cfc2d801f...  36886,11614,39949,18973\n",
       "4  0000757967448a6cb83efb3ea7a3fb9d418ac7adf2379d...                10788,915"
      ]
     },
     "execution_count": 31,
     "metadata": {},
     "output_type": "execute_result"
    }
   ],
   "source": [
    "dev_inputs = (\n",
    "    dev_inputs\n",
    "        .groupby('customer_id')\n",
    "        .tail(10)  # Most recent articles only\n",
    "        .groupby('customer_id')['article_id_idx']\n",
    "        .apply(lambda x: ','.join(x))\n",
    "        .reset_index()\n",
    ")\n",
    "print(dev_inputs.shape)\n",
    "dev_inputs.head()"
   ]
  },
  {
   "cell_type": "code",
   "execution_count": 32,
   "id": "67eb2cba",
   "metadata": {},
   "outputs": [
    {
     "data": {
      "text/plain": [
       "(240311, 6)"
      ]
     },
     "execution_count": 32,
     "metadata": {},
     "output_type": "execute_result"
    }
   ],
   "source": [
    "dev_labels.shape"
   ]
  },
  {
   "cell_type": "code",
   "execution_count": 33,
   "id": "8b635828",
   "metadata": {},
   "outputs": [
    {
     "data": {
      "text/plain": [
       "(213728, 2)"
      ]
     },
     "execution_count": 33,
     "metadata": {},
     "output_type": "execute_result"
    }
   ],
   "source": [
    "dev_labels = dev_labels[['customer_id', 'article_id_idx']].drop_duplicates()  # unique purchases\n",
    "dev_labels.shape"
   ]
  },
  {
   "cell_type": "code",
   "execution_count": 34,
   "id": "4b5bcda5",
   "metadata": {},
   "outputs": [
    {
     "name": "stdout",
     "output_type": "stream",
     "text": [
      "(68984, 2)\n"
     ]
    },
    {
     "data": {
      "text/html": [
       "<div>\n",
       "<style scoped>\n",
       "    .dataframe tbody tr th:only-of-type {\n",
       "        vertical-align: middle;\n",
       "    }\n",
       "\n",
       "    .dataframe tbody tr th {\n",
       "        vertical-align: top;\n",
       "    }\n",
       "\n",
       "    .dataframe thead th {\n",
       "        text-align: right;\n",
       "    }\n",
       "</style>\n",
       "<table border=\"1\" class=\"dataframe\">\n",
       "  <thead>\n",
       "    <tr style=\"text-align: right;\">\n",
       "      <th></th>\n",
       "      <th>customer_id</th>\n",
       "      <th>article_id_idx</th>\n",
       "    </tr>\n",
       "  </thead>\n",
       "  <tbody>\n",
       "    <tr>\n",
       "      <th>0</th>\n",
       "      <td>00039306476aaf41a07fed942884f16b30abfa83a2a8be...</td>\n",
       "      <td>4930</td>\n",
       "    </tr>\n",
       "    <tr>\n",
       "      <th>1</th>\n",
       "      <td>0003e867a930d0d6842f923d6ba7c9b77aba33fe2a0fbf...</td>\n",
       "      <td>24971</td>\n",
       "    </tr>\n",
       "    <tr>\n",
       "      <th>2</th>\n",
       "      <td>000493dd9fc463df1acc2081450c9e75ef8e87d5dd17ed...</td>\n",
       "      <td>15029,18609,5646</td>\n",
       "    </tr>\n",
       "    <tr>\n",
       "      <th>3</th>\n",
       "      <td>000525e3fe01600d717da8423643a8303390a055c578ed...</td>\n",
       "      <td>33241</td>\n",
       "    </tr>\n",
       "    <tr>\n",
       "      <th>4</th>\n",
       "      <td>00077dbd5c4a4991e092e63893ccf29294a9d5c46e8501...</td>\n",
       "      <td>37826,34169,41,31785,39073,40201,39074,1243,39...</td>\n",
       "    </tr>\n",
       "  </tbody>\n",
       "</table>\n",
       "</div>"
      ],
      "text/plain": [
       "                                         customer_id  \\\n",
       "0  00039306476aaf41a07fed942884f16b30abfa83a2a8be...   \n",
       "1  0003e867a930d0d6842f923d6ba7c9b77aba33fe2a0fbf...   \n",
       "2  000493dd9fc463df1acc2081450c9e75ef8e87d5dd17ed...   \n",
       "3  000525e3fe01600d717da8423643a8303390a055c578ed...   \n",
       "4  00077dbd5c4a4991e092e63893ccf29294a9d5c46e8501...   \n",
       "\n",
       "                                      article_id_idx  \n",
       "0                                               4930  \n",
       "1                                              24971  \n",
       "2                                   15029,18609,5646  \n",
       "3                                              33241  \n",
       "4  37826,34169,41,31785,39073,40201,39074,1243,39...  "
      ]
     },
     "execution_count": 34,
     "metadata": {},
     "output_type": "execute_result"
    }
   ],
   "source": [
    "dev_labels = (\n",
    "    dev_labels\n",
    "        .groupby('customer_id')['article_id_idx']\n",
    "        .apply(lambda x: ','.join(x))\n",
    "        .reset_index()\n",
    ")\n",
    "print(dev_labels.shape)\n",
    "dev_labels.head()"
   ]
  },
  {
   "cell_type": "code",
   "execution_count": 35,
   "id": "2f2d311b",
   "metadata": {},
   "outputs": [
    {
     "data": {
      "text/plain": [
       "(484944, 4)"
      ]
     },
     "execution_count": 35,
     "metadata": {},
     "output_type": "execute_result"
    }
   ],
   "source": [
    "dev_set = dev_inputs.merge(dev_labels, on='customer_id', how='outer', indicator=True, suffixes=('_last10', '_label'))\n",
    "dev_set.shape"
   ]
  },
  {
   "cell_type": "code",
   "execution_count": 36,
   "id": "dad2c4d5",
   "metadata": {},
   "outputs": [
    {
     "data": {
      "text/plain": [
       "left_only     0.857749\n",
       "both          0.097182\n",
       "right_only    0.045069\n",
       "Name: _merge, dtype: float64"
      ]
     },
     "execution_count": 36,
     "metadata": {},
     "output_type": "execute_result"
    }
   ],
   "source": [
    "dev_set['_merge'].value_counts() / dev_set.shape[0]"
   ]
  },
  {
   "cell_type": "markdown",
   "id": "dadf8c13",
   "metadata": {},
   "source": [
    "`left_only` = customers who did not make purchases in last week\n",
    "\n",
    "`both` = customers who did make purchases in last week and made purchases in the past\n",
    "\n",
    "`right_only` = customers who did make purchases in last week but made no purchases in the past (cold start)\n",
    "\n",
    "Keep `both` only. For cold start we can just predict top-12 and `left_only` won't contribute to MAP"
   ]
  },
  {
   "cell_type": "code",
   "execution_count": 37,
   "id": "4693b463",
   "metadata": {},
   "outputs": [
    {
     "name": "stdout",
     "output_type": "stream",
     "text": [
      "(47128, 3)\n"
     ]
    },
    {
     "data": {
      "text/html": [
       "<div>\n",
       "<style scoped>\n",
       "    .dataframe tbody tr th:only-of-type {\n",
       "        vertical-align: middle;\n",
       "    }\n",
       "\n",
       "    .dataframe tbody tr th {\n",
       "        vertical-align: top;\n",
       "    }\n",
       "\n",
       "    .dataframe thead th {\n",
       "        text-align: right;\n",
       "    }\n",
       "</style>\n",
       "<table border=\"1\" class=\"dataframe\">\n",
       "  <thead>\n",
       "    <tr style=\"text-align: right;\">\n",
       "      <th></th>\n",
       "      <th>customer_id</th>\n",
       "      <th>article_id_idx_last10</th>\n",
       "      <th>article_id_idx_label</th>\n",
       "    </tr>\n",
       "  </thead>\n",
       "  <tbody>\n",
       "    <tr>\n",
       "      <th>26</th>\n",
       "      <td>0003e867a930d0d6842f923d6ba7c9b77aba33fe2a0fbf...</td>\n",
       "      <td>39441,36213,38872,37897,38110,5642,4783,34346,...</td>\n",
       "      <td>24971</td>\n",
       "    </tr>\n",
       "    <tr>\n",
       "      <th>33</th>\n",
       "      <td>000493dd9fc463df1acc2081450c9e75ef8e87d5dd17ed...</td>\n",
       "      <td>11936,16155,685,11824,2456,28519,11826,3269,23...</td>\n",
       "      <td>15029,18609,5646</td>\n",
       "    </tr>\n",
       "    <tr>\n",
       "      <th>54</th>\n",
       "      <td>00077dbd5c4a4991e092e63893ccf29294a9d5c46e8501...</td>\n",
       "      <td>35875,24399,21130,21130,21130,21130,40107,3128...</td>\n",
       "      <td>37826,34169,41,31785,39073,40201,39074,1243,39...</td>\n",
       "    </tr>\n",
       "    <tr>\n",
       "      <th>107</th>\n",
       "      <td>000fb6e772c5d0023892065e659963da90b1866035558e...</td>\n",
       "      <td>24455,19793,37728,25547,35072,15616,39388,3938...</td>\n",
       "      <td>18345,38864,35941,32663,39388</td>\n",
       "    </tr>\n",
       "    <tr>\n",
       "      <th>113</th>\n",
       "      <td>0010e8eb18f131e724d6997909af0808adbba057529edb...</td>\n",
       "      <td>26967,15611,25069,34918,703</td>\n",
       "      <td>183,2689,4352,1011,38951,37019,37511,4332,546</td>\n",
       "    </tr>\n",
       "  </tbody>\n",
       "</table>\n",
       "</div>"
      ],
      "text/plain": [
       "                                           customer_id  \\\n",
       "26   0003e867a930d0d6842f923d6ba7c9b77aba33fe2a0fbf...   \n",
       "33   000493dd9fc463df1acc2081450c9e75ef8e87d5dd17ed...   \n",
       "54   00077dbd5c4a4991e092e63893ccf29294a9d5c46e8501...   \n",
       "107  000fb6e772c5d0023892065e659963da90b1866035558e...   \n",
       "113  0010e8eb18f131e724d6997909af0808adbba057529edb...   \n",
       "\n",
       "                                 article_id_idx_last10  \\\n",
       "26   39441,36213,38872,37897,38110,5642,4783,34346,...   \n",
       "33   11936,16155,685,11824,2456,28519,11826,3269,23...   \n",
       "54   35875,24399,21130,21130,21130,21130,40107,3128...   \n",
       "107  24455,19793,37728,25547,35072,15616,39388,3938...   \n",
       "113                        26967,15611,25069,34918,703   \n",
       "\n",
       "                                  article_id_idx_label  \n",
       "26                                               24971  \n",
       "33                                    15029,18609,5646  \n",
       "54   37826,34169,41,31785,39073,40201,39074,1243,39...  \n",
       "107                      18345,38864,35941,32663,39388  \n",
       "113      183,2689,4352,1011,38951,37019,37511,4332,546  "
      ]
     },
     "execution_count": 37,
     "metadata": {},
     "output_type": "execute_result"
    }
   ],
   "source": [
    "dev_set = dev_set.copy()[dev_set['_merge'] == 'both']\n",
    "dev_set.drop('_merge', inplace=True, axis=1)\n",
    "print(dev_set.shape)\n",
    "dev_set.head()"
   ]
  },
  {
   "cell_type": "markdown",
   "id": "28f18d7a",
   "metadata": {},
   "source": [
    "#### Function"
   ]
  },
  {
   "cell_type": "markdown",
   "id": "829581aa",
   "metadata": {},
   "source": [
    "train\n",
    "- inputs: start - endm3\n",
    "- labels: emdm3 - endm2\n",
    "\n",
    "dev\n",
    "- inputs: start - endm2\n",
    "- labels: emdm2 - endm1\n",
    "\n",
    "test \n",
    "- inputs: start - endm1\n",
    "- labels: endm1 - end"
   ]
  },
  {
   "cell_type": "code",
   "execution_count": 38,
   "id": "b45e5f14",
   "metadata": {},
   "outputs": [],
   "source": [
    "def create_article_input_output_df(inputs, labels, max_purchase_history=10):\n",
    "    \n",
    "    inputs = inputs.copy()\n",
    "    labels = labels.copy()\n",
    "    \n",
    "    inputs.sort_values(['customer_id', 't_dat'], inplace=True)\n",
    "\n",
    "    inputs['article_id_idx'] = inputs['article_id_idx'].astype(str)\n",
    "\n",
    "    inputs = (\n",
    "        inputs\n",
    "            .groupby('customer_id')\n",
    "            .tail(max_purchase_history)  # Most recent articles only\n",
    "            .groupby('customer_id')['article_id_idx']\n",
    "            .apply(lambda x: ','.join(x))\n",
    "            .reset_index()\n",
    "    )\n",
    "\n",
    "    labels = labels[['customer_id', 'article_id_idx']].drop_duplicates()  # unique purchases\n",
    "\n",
    "    labels = (\n",
    "        labels\n",
    "            .groupby('customer_id')['article_id_idx']\n",
    "            .apply(lambda x: ','.join(x))\n",
    "            .reset_index()\n",
    "    )\n",
    "\n",
    "    data_set = inputs.merge(labels, on='customer_id', how='outer', indicator=True, suffixes=('_last10', '_label'))\n",
    "\n",
    "    data_set = data_set.copy()[data_set['_merge'] == 'both']\n",
    "    data_set.drop('_merge', inplace=True, axis=1)\n",
    "\n",
    "    return data_set"
   ]
  },
  {
   "cell_type": "code",
   "execution_count": 39,
   "id": "4feb4527",
   "metadata": {},
   "outputs": [
    {
     "name": "stdout",
     "output_type": "stream",
     "text": [
      "(43108, 3)\n"
     ]
    },
    {
     "data": {
      "text/html": [
       "<div>\n",
       "<style scoped>\n",
       "    .dataframe tbody tr th:only-of-type {\n",
       "        vertical-align: middle;\n",
       "    }\n",
       "\n",
       "    .dataframe tbody tr th {\n",
       "        vertical-align: top;\n",
       "    }\n",
       "\n",
       "    .dataframe thead th {\n",
       "        text-align: right;\n",
       "    }\n",
       "</style>\n",
       "<table border=\"1\" class=\"dataframe\">\n",
       "  <thead>\n",
       "    <tr style=\"text-align: right;\">\n",
       "      <th></th>\n",
       "      <th>customer_id</th>\n",
       "      <th>article_id_idx_last10</th>\n",
       "      <th>article_id_idx_label</th>\n",
       "    </tr>\n",
       "  </thead>\n",
       "  <tbody>\n",
       "    <tr>\n",
       "      <th>10</th>\n",
       "      <td>000172a9c322560c849754ffbdfdb2180d408aa7176b94...</td>\n",
       "      <td>15861</td>\n",
       "      <td>7705</td>\n",
       "    </tr>\n",
       "    <tr>\n",
       "      <th>13</th>\n",
       "      <td>0001d44dbe7f6c4b35200abdb052c77a87596fe1bdcc37...</td>\n",
       "      <td>38882,3152,31459,3157,39673,39510,17255,26222,...</td>\n",
       "      <td>3160,38515,39642,40340,35654</td>\n",
       "    </tr>\n",
       "    <tr>\n",
       "      <th>14</th>\n",
       "      <td>0001f8cef6b9702d54abf66fd89eb21014bf98567065a9...</td>\n",
       "      <td>21627,21175,23351</td>\n",
       "      <td>23816</td>\n",
       "    </tr>\n",
       "    <tr>\n",
       "      <th>22</th>\n",
       "      <td>0003e867a930d0d6842f923d6ba7c9b77aba33fe2a0fbf...</td>\n",
       "      <td>18099,33097,33097,39942,39441,36213</td>\n",
       "      <td>38872,37897,38110</td>\n",
       "    </tr>\n",
       "    <tr>\n",
       "      <th>33</th>\n",
       "      <td>0005340aa69bb5a28d98712a36d8f669024bce137e3c82...</td>\n",
       "      <td>23950,25602,10293,29865,19920,34107,25721,2152...</td>\n",
       "      <td>23930,15224,21141,37733,10396,37827,15220,37735</td>\n",
       "    </tr>\n",
       "  </tbody>\n",
       "</table>\n",
       "</div>"
      ],
      "text/plain": [
       "                                          customer_id  \\\n",
       "10  000172a9c322560c849754ffbdfdb2180d408aa7176b94...   \n",
       "13  0001d44dbe7f6c4b35200abdb052c77a87596fe1bdcc37...   \n",
       "14  0001f8cef6b9702d54abf66fd89eb21014bf98567065a9...   \n",
       "22  0003e867a930d0d6842f923d6ba7c9b77aba33fe2a0fbf...   \n",
       "33  0005340aa69bb5a28d98712a36d8f669024bce137e3c82...   \n",
       "\n",
       "                                article_id_idx_last10  \\\n",
       "10                                              15861   \n",
       "13  38882,3152,31459,3157,39673,39510,17255,26222,...   \n",
       "14                                  21627,21175,23351   \n",
       "22                18099,33097,33097,39942,39441,36213   \n",
       "33  23950,25602,10293,29865,19920,34107,25721,2152...   \n",
       "\n",
       "                               article_id_idx_label  \n",
       "10                                             7705  \n",
       "13                     3160,38515,39642,40340,35654  \n",
       "14                                            23816  \n",
       "22                                38872,37897,38110  \n",
       "33  23930,15224,21141,37733,10396,37827,15220,37735  "
      ]
     },
     "execution_count": 39,
     "metadata": {},
     "output_type": "execute_result"
    }
   ],
   "source": [
    "train_set = create_article_input_output_df(\n",
    "    inputs=transactions_train.copy()[transactions_train['t_dat'] <= endm3], \n",
    "    labels=transactions_train.copy()[\n",
    "        (transactions_train['t_dat'] > endm3) &\n",
    "        (transactions_train['t_dat'] < endm2)\n",
    "    ]\n",
    ")\n",
    "\n",
    "print(train_set.shape)\n",
    "train_set.head()"
   ]
  },
  {
   "cell_type": "code",
   "execution_count": 40,
   "id": "7bdb7d63",
   "metadata": {},
   "outputs": [
    {
     "name": "stdout",
     "output_type": "stream",
     "text": [
      "(44153, 3)\n"
     ]
    },
    {
     "data": {
      "text/html": [
       "<div>\n",
       "<style scoped>\n",
       "    .dataframe tbody tr th:only-of-type {\n",
       "        vertical-align: middle;\n",
       "    }\n",
       "\n",
       "    .dataframe tbody tr th {\n",
       "        vertical-align: top;\n",
       "    }\n",
       "\n",
       "    .dataframe thead th {\n",
       "        text-align: right;\n",
       "    }\n",
       "</style>\n",
       "<table border=\"1\" class=\"dataframe\">\n",
       "  <thead>\n",
       "    <tr style=\"text-align: right;\">\n",
       "      <th></th>\n",
       "      <th>customer_id</th>\n",
       "      <th>article_id_idx_last10</th>\n",
       "      <th>article_id_idx_label</th>\n",
       "    </tr>\n",
       "  </thead>\n",
       "  <tbody>\n",
       "    <tr>\n",
       "      <th>14</th>\n",
       "      <td>0001d44dbe7f6c4b35200abdb052c77a87596fe1bdcc37...</td>\n",
       "      <td>39510,17255,26222,39644,31316,3160,38515,39642...</td>\n",
       "      <td>12038</td>\n",
       "    </tr>\n",
       "    <tr>\n",
       "      <th>24</th>\n",
       "      <td>0003e867a930d0d6842f923d6ba7c9b77aba33fe2a0fbf...</td>\n",
       "      <td>18099,33097,33097,39942,39441,36213,38872,3789...</td>\n",
       "      <td>5642,4783,34346,35841</td>\n",
       "    </tr>\n",
       "    <tr>\n",
       "      <th>30</th>\n",
       "      <td>000493dd9fc463df1acc2081450c9e75ef8e87d5dd17ed...</td>\n",
       "      <td>32860,32860,11936,16155</td>\n",
       "      <td>685,11824,2456,28519,11826,3269,23088,11825</td>\n",
       "    </tr>\n",
       "    <tr>\n",
       "      <th>50</th>\n",
       "      <td>00077dbd5c4a4991e092e63893ccf29294a9d5c46e8501...</td>\n",
       "      <td>38758,37070,21131,23337,35875,24399,21130,2113...</td>\n",
       "      <td>40107,31282,1011,40263</td>\n",
       "    </tr>\n",
       "    <tr>\n",
       "      <th>58</th>\n",
       "      <td>0008968c0d451dbc5a9968da03196fe20051965edde741...</td>\n",
       "      <td>33286,3359,29644,32899,30360,17330,21515,31861</td>\n",
       "      <td>36503</td>\n",
       "    </tr>\n",
       "  </tbody>\n",
       "</table>\n",
       "</div>"
      ],
      "text/plain": [
       "                                          customer_id  \\\n",
       "14  0001d44dbe7f6c4b35200abdb052c77a87596fe1bdcc37...   \n",
       "24  0003e867a930d0d6842f923d6ba7c9b77aba33fe2a0fbf...   \n",
       "30  000493dd9fc463df1acc2081450c9e75ef8e87d5dd17ed...   \n",
       "50  00077dbd5c4a4991e092e63893ccf29294a9d5c46e8501...   \n",
       "58  0008968c0d451dbc5a9968da03196fe20051965edde741...   \n",
       "\n",
       "                                article_id_idx_last10  \\\n",
       "14  39510,17255,26222,39644,31316,3160,38515,39642...   \n",
       "24  18099,33097,33097,39942,39441,36213,38872,3789...   \n",
       "30                            32860,32860,11936,16155   \n",
       "50  38758,37070,21131,23337,35875,24399,21130,2113...   \n",
       "58     33286,3359,29644,32899,30360,17330,21515,31861   \n",
       "\n",
       "                           article_id_idx_label  \n",
       "14                                        12038  \n",
       "24                        5642,4783,34346,35841  \n",
       "30  685,11824,2456,28519,11826,3269,23088,11825  \n",
       "50                       40107,31282,1011,40263  \n",
       "58                                        36503  "
      ]
     },
     "execution_count": 40,
     "metadata": {},
     "output_type": "execute_result"
    }
   ],
   "source": [
    "dev_set = create_article_input_output_df(\n",
    "    inputs=transactions_train.copy()[transactions_train['t_dat'] <= endm2], \n",
    "    labels=transactions_train.copy()[\n",
    "        (transactions_train['t_dat'] > endm2) &\n",
    "        (transactions_train['t_dat'] < endm1)\n",
    "    ]\n",
    ")\n",
    "\n",
    "print(dev_set.shape)\n",
    "dev_set.head()"
   ]
  },
  {
   "cell_type": "code",
   "execution_count": 41,
   "id": "93a73191",
   "metadata": {},
   "outputs": [
    {
     "name": "stdout",
     "output_type": "stream",
     "text": [
      "(47128, 3)\n"
     ]
    },
    {
     "data": {
      "text/html": [
       "<div>\n",
       "<style scoped>\n",
       "    .dataframe tbody tr th:only-of-type {\n",
       "        vertical-align: middle;\n",
       "    }\n",
       "\n",
       "    .dataframe tbody tr th {\n",
       "        vertical-align: top;\n",
       "    }\n",
       "\n",
       "    .dataframe thead th {\n",
       "        text-align: right;\n",
       "    }\n",
       "</style>\n",
       "<table border=\"1\" class=\"dataframe\">\n",
       "  <thead>\n",
       "    <tr style=\"text-align: right;\">\n",
       "      <th></th>\n",
       "      <th>customer_id</th>\n",
       "      <th>article_id_idx_last10</th>\n",
       "      <th>article_id_idx_label</th>\n",
       "    </tr>\n",
       "  </thead>\n",
       "  <tbody>\n",
       "    <tr>\n",
       "      <th>26</th>\n",
       "      <td>0003e867a930d0d6842f923d6ba7c9b77aba33fe2a0fbf...</td>\n",
       "      <td>39441,36213,38872,37897,38110,5642,4783,34346,...</td>\n",
       "      <td>24971</td>\n",
       "    </tr>\n",
       "    <tr>\n",
       "      <th>33</th>\n",
       "      <td>000493dd9fc463df1acc2081450c9e75ef8e87d5dd17ed...</td>\n",
       "      <td>11936,16155,685,11824,2456,28519,11826,3269,23...</td>\n",
       "      <td>15029,18609,5646</td>\n",
       "    </tr>\n",
       "    <tr>\n",
       "      <th>54</th>\n",
       "      <td>00077dbd5c4a4991e092e63893ccf29294a9d5c46e8501...</td>\n",
       "      <td>35875,24399,21130,21130,21130,21130,40107,3128...</td>\n",
       "      <td>37826,34169,41,31785,39073,40201,39074,1243,39...</td>\n",
       "    </tr>\n",
       "    <tr>\n",
       "      <th>107</th>\n",
       "      <td>000fb6e772c5d0023892065e659963da90b1866035558e...</td>\n",
       "      <td>24455,19793,37728,25547,35072,15616,39388,3938...</td>\n",
       "      <td>18345,38864,35941,32663,39388</td>\n",
       "    </tr>\n",
       "    <tr>\n",
       "      <th>113</th>\n",
       "      <td>0010e8eb18f131e724d6997909af0808adbba057529edb...</td>\n",
       "      <td>26967,15611,25069,34918,703</td>\n",
       "      <td>183,2689,4352,1011,38951,37019,37511,4332,546</td>\n",
       "    </tr>\n",
       "  </tbody>\n",
       "</table>\n",
       "</div>"
      ],
      "text/plain": [
       "                                           customer_id  \\\n",
       "26   0003e867a930d0d6842f923d6ba7c9b77aba33fe2a0fbf...   \n",
       "33   000493dd9fc463df1acc2081450c9e75ef8e87d5dd17ed...   \n",
       "54   00077dbd5c4a4991e092e63893ccf29294a9d5c46e8501...   \n",
       "107  000fb6e772c5d0023892065e659963da90b1866035558e...   \n",
       "113  0010e8eb18f131e724d6997909af0808adbba057529edb...   \n",
       "\n",
       "                                 article_id_idx_last10  \\\n",
       "26   39441,36213,38872,37897,38110,5642,4783,34346,...   \n",
       "33   11936,16155,685,11824,2456,28519,11826,3269,23...   \n",
       "54   35875,24399,21130,21130,21130,21130,40107,3128...   \n",
       "107  24455,19793,37728,25547,35072,15616,39388,3938...   \n",
       "113                        26967,15611,25069,34918,703   \n",
       "\n",
       "                                  article_id_idx_label  \n",
       "26                                               24971  \n",
       "33                                    15029,18609,5646  \n",
       "54   37826,34169,41,31785,39073,40201,39074,1243,39...  \n",
       "107                      18345,38864,35941,32663,39388  \n",
       "113      183,2689,4352,1011,38951,37019,37511,4332,546  "
      ]
     },
     "execution_count": 41,
     "metadata": {},
     "output_type": "execute_result"
    }
   ],
   "source": [
    "test_set = create_article_input_output_df(\n",
    "    inputs=transactions_train.copy()[transactions_train['t_dat'] <= endm1], \n",
    "    labels=transactions_train.copy()[\n",
    "        (transactions_train['t_dat'] > endm1)\n",
    "    ]\n",
    ")\n",
    "\n",
    "print(test_set.shape)\n",
    "test_set.head()"
   ]
  },
  {
   "cell_type": "markdown",
   "id": "e9328737",
   "metadata": {},
   "source": [
    "Inputs for submission:"
   ]
  },
  {
   "cell_type": "code",
   "execution_count": 42,
   "id": "ec31dd41",
   "metadata": {},
   "outputs": [],
   "source": [
    "submission_inputs = transactions_train.copy()\n",
    "\n",
    "submission_inputs.sort_values(['customer_id', 't_dat'], inplace=True)\n",
    "\n",
    "submission_inputs['article_id_idx'] = submission_inputs['article_id_idx'].astype(str)\n",
    "\n",
    "submission_inputs = (\n",
    "    submission_inputs\n",
    "        .groupby('customer_id')\n",
    "        .tail(10)  # Most recent articles only\n",
    "        .groupby('customer_id')['article_id_idx']\n",
    "        .apply(lambda x: ','.join(x))\n",
    "        .reset_index()\n",
    ")"
   ]
  },
  {
   "cell_type": "code",
   "execution_count": 43,
   "id": "54749a56",
   "metadata": {},
   "outputs": [
    {
     "data": {
      "text/html": [
       "<div>\n",
       "<style scoped>\n",
       "    .dataframe tbody tr th:only-of-type {\n",
       "        vertical-align: middle;\n",
       "    }\n",
       "\n",
       "    .dataframe tbody tr th {\n",
       "        vertical-align: top;\n",
       "    }\n",
       "\n",
       "    .dataframe thead th {\n",
       "        text-align: right;\n",
       "    }\n",
       "</style>\n",
       "<table border=\"1\" class=\"dataframe\">\n",
       "  <thead>\n",
       "    <tr style=\"text-align: right;\">\n",
       "      <th></th>\n",
       "      <th>customer_id</th>\n",
       "      <th>article_id_idx</th>\n",
       "    </tr>\n",
       "  </thead>\n",
       "  <tbody>\n",
       "    <tr>\n",
       "      <th>0</th>\n",
       "      <td>00000dbacae5abe5e23885899a1fa44253a17956c6d1c3...</td>\n",
       "      <td>2964</td>\n",
       "    </tr>\n",
       "    <tr>\n",
       "      <th>1</th>\n",
       "      <td>0000423b00ade91418cceaf3b26c6af3dd342b51fd051e...</td>\n",
       "      <td>24822</td>\n",
       "    </tr>\n",
       "    <tr>\n",
       "      <th>2</th>\n",
       "      <td>000058a12d5b43e67d225668fa1f8d618c13dc232df0ca...</td>\n",
       "      <td>19269</td>\n",
       "    </tr>\n",
       "    <tr>\n",
       "      <th>3</th>\n",
       "      <td>00006413d8573cd20ed7128e53b7b13819fe5cfc2d801f...</td>\n",
       "      <td>36886,11614,39949,18973</td>\n",
       "    </tr>\n",
       "    <tr>\n",
       "      <th>4</th>\n",
       "      <td>0000757967448a6cb83efb3ea7a3fb9d418ac7adf2379d...</td>\n",
       "      <td>10788,915</td>\n",
       "    </tr>\n",
       "  </tbody>\n",
       "</table>\n",
       "</div>"
      ],
      "text/plain": [
       "                                         customer_id           article_id_idx\n",
       "0  00000dbacae5abe5e23885899a1fa44253a17956c6d1c3...                     2964\n",
       "1  0000423b00ade91418cceaf3b26c6af3dd342b51fd051e...                    24822\n",
       "2  000058a12d5b43e67d225668fa1f8d618c13dc232df0ca...                    19269\n",
       "3  00006413d8573cd20ed7128e53b7b13819fe5cfc2d801f...  36886,11614,39949,18973\n",
       "4  0000757967448a6cb83efb3ea7a3fb9d418ac7adf2379d...                10788,915"
      ]
     },
     "execution_count": 43,
     "metadata": {},
     "output_type": "execute_result"
    }
   ],
   "source": [
    "submission_inputs.head()"
   ]
  },
  {
   "cell_type": "code",
   "execution_count": 44,
   "id": "181be38b",
   "metadata": {},
   "outputs": [
    {
     "name": "stdout",
     "output_type": "stream",
     "text": [
      "(484944, 3)\n"
     ]
    },
    {
     "data": {
      "text/html": [
       "<div>\n",
       "<style scoped>\n",
       "    .dataframe tbody tr th:only-of-type {\n",
       "        vertical-align: middle;\n",
       "    }\n",
       "\n",
       "    .dataframe tbody tr th {\n",
       "        vertical-align: top;\n",
       "    }\n",
       "\n",
       "    .dataframe thead th {\n",
       "        text-align: right;\n",
       "    }\n",
       "</style>\n",
       "<table border=\"1\" class=\"dataframe\">\n",
       "  <thead>\n",
       "    <tr style=\"text-align: right;\">\n",
       "      <th></th>\n",
       "      <th>customer_id</th>\n",
       "      <th>article_id_idx_last10</th>\n",
       "      <th>article_id_idx_label</th>\n",
       "    </tr>\n",
       "  </thead>\n",
       "  <tbody>\n",
       "    <tr>\n",
       "      <th>0</th>\n",
       "      <td>00000dbacae5abe5e23885899a1fa44253a17956c6d1c3...</td>\n",
       "      <td>2964</td>\n",
       "      <td>0</td>\n",
       "    </tr>\n",
       "    <tr>\n",
       "      <th>1</th>\n",
       "      <td>0000423b00ade91418cceaf3b26c6af3dd342b51fd051e...</td>\n",
       "      <td>24822</td>\n",
       "      <td>0</td>\n",
       "    </tr>\n",
       "    <tr>\n",
       "      <th>2</th>\n",
       "      <td>000058a12d5b43e67d225668fa1f8d618c13dc232df0ca...</td>\n",
       "      <td>19269</td>\n",
       "      <td>0</td>\n",
       "    </tr>\n",
       "    <tr>\n",
       "      <th>3</th>\n",
       "      <td>00006413d8573cd20ed7128e53b7b13819fe5cfc2d801f...</td>\n",
       "      <td>36886,11614,39949,18973</td>\n",
       "      <td>0</td>\n",
       "    </tr>\n",
       "    <tr>\n",
       "      <th>4</th>\n",
       "      <td>0000757967448a6cb83efb3ea7a3fb9d418ac7adf2379d...</td>\n",
       "      <td>10788,915</td>\n",
       "      <td>0</td>\n",
       "    </tr>\n",
       "  </tbody>\n",
       "</table>\n",
       "</div>"
      ],
      "text/plain": [
       "                                         customer_id    article_id_idx_last10  \\\n",
       "0  00000dbacae5abe5e23885899a1fa44253a17956c6d1c3...                     2964   \n",
       "1  0000423b00ade91418cceaf3b26c6af3dd342b51fd051e...                    24822   \n",
       "2  000058a12d5b43e67d225668fa1f8d618c13dc232df0ca...                    19269   \n",
       "3  00006413d8573cd20ed7128e53b7b13819fe5cfc2d801f...  36886,11614,39949,18973   \n",
       "4  0000757967448a6cb83efb3ea7a3fb9d418ac7adf2379d...                10788,915   \n",
       "\n",
       "  article_id_idx_label  \n",
       "0                    0  \n",
       "1                    0  \n",
       "2                    0  \n",
       "3                    0  \n",
       "4                    0  "
      ]
     },
     "execution_count": 44,
     "metadata": {},
     "output_type": "execute_result"
    }
   ],
   "source": [
    "submission_inputs.rename(columns={'article_id_idx': 'article_id_idx_last10'}, inplace=True)\n",
    "submission_inputs['article_id_idx_label'] = '0'\n",
    "print(submission_inputs.shape)\n",
    "submission_inputs.head()"
   ]
  },
  {
   "cell_type": "markdown",
   "id": "ec280faa",
   "metadata": {},
   "source": [
    "In a given week what proportion of total customers make a purchase?"
   ]
  },
  {
   "cell_type": "code",
   "execution_count": 45,
   "id": "0de1a206",
   "metadata": {},
   "outputs": [],
   "source": [
    "all_customers = pd.read_csv('data/sample_submission.csv').shape[0]"
   ]
  },
  {
   "cell_type": "code",
   "execution_count": 46,
   "id": "88a85509",
   "metadata": {},
   "outputs": [
    {
     "data": {
      "text/plain": [
       "484944"
      ]
     },
     "execution_count": 46,
     "metadata": {},
     "output_type": "execute_result"
    }
   ],
   "source": [
    "submission_inputs.shape[0]"
   ]
  },
  {
   "cell_type": "code",
   "execution_count": 47,
   "id": "9ab5adbb",
   "metadata": {},
   "outputs": [
    {
     "name": "stdout",
     "output_type": "stream",
     "text": [
      "0.03218195600518958\n",
      "0.034350354961442585\n"
     ]
    }
   ],
   "source": [
    "print(dev_set['customer_id'].shape[0] / all_customers)\n",
    "print(test_set['customer_id'].shape[0] / all_customers)"
   ]
  },
  {
   "cell_type": "code",
   "execution_count": 48,
   "id": "d1ce5ef4",
   "metadata": {},
   "outputs": [
    {
     "name": "stdout",
     "output_type": "stream",
     "text": [
      "0.09104762611765482\n",
      "0.09718235507605001\n"
     ]
    }
   ],
   "source": [
    "print(dev_set['customer_id'].shape[0] / submission_inputs.shape[0])\n",
    "print(test_set['customer_id'].shape[0] / submission_inputs.shape[0])"
   ]
  },
  {
   "cell_type": "markdown",
   "id": "f652b641",
   "metadata": {},
   "source": [
    "Proportion of customers in dev/test sets who appear in training"
   ]
  },
  {
   "cell_type": "code",
   "execution_count": 49,
   "id": "0a5b4213",
   "metadata": {},
   "outputs": [
    {
     "data": {
      "text/plain": [
       "0.20655448100921794"
      ]
     },
     "execution_count": 49,
     "metadata": {},
     "output_type": "execute_result"
    }
   ],
   "source": [
    "dev_set[dev_set['customer_id'].isin(train_set['customer_id'])].shape[0] / dev_set.shape[0]"
   ]
  },
  {
   "cell_type": "code",
   "execution_count": 50,
   "id": "d10b2789",
   "metadata": {},
   "outputs": [
    {
     "data": {
      "text/plain": [
       "0.1977895046769189"
      ]
     },
     "execution_count": 50,
     "metadata": {},
     "output_type": "execute_result"
    }
   ],
   "source": [
    "test_set[test_set['customer_id'].isin(train_set['customer_id'])].shape[0] / dev_set.shape[0]"
   ]
  },
  {
   "cell_type": "markdown",
   "id": "5c04da11",
   "metadata": {},
   "source": [
    "Filter out customers who don't appear in training"
   ]
  },
  {
   "cell_type": "code",
   "execution_count": 51,
   "id": "0e03d1a6",
   "metadata": {},
   "outputs": [],
   "source": [
    "dev_set = dev_set.copy()[dev_set['customer_id'].isin(train_set['customer_id'])]\n",
    "test_set = test_set.copy()[test_set['customer_id'].isin(train_set['customer_id'])]"
   ]
  },
  {
   "cell_type": "code",
   "execution_count": 52,
   "id": "e70150aa",
   "metadata": {},
   "outputs": [
    {
     "data": {
      "text/plain": [
       "(43108, 3)"
      ]
     },
     "execution_count": 52,
     "metadata": {},
     "output_type": "execute_result"
    }
   ],
   "source": [
    "train_set.shape"
   ]
  },
  {
   "cell_type": "code",
   "execution_count": 53,
   "id": "d463fcc7",
   "metadata": {},
   "outputs": [
    {
     "data": {
      "text/plain": [
       "(9120, 3)"
      ]
     },
     "execution_count": 53,
     "metadata": {},
     "output_type": "execute_result"
    }
   ],
   "source": [
    "dev_set.shape"
   ]
  },
  {
   "cell_type": "code",
   "execution_count": 54,
   "id": "ffab388c",
   "metadata": {},
   "outputs": [
    {
     "data": {
      "text/plain": [
       "(8733, 3)"
      ]
     },
     "execution_count": 54,
     "metadata": {},
     "output_type": "execute_result"
    }
   ],
   "source": [
    "test_set.shape"
   ]
  },
  {
   "cell_type": "markdown",
   "id": "18793d1e",
   "metadata": {},
   "source": [
    "### Filter customers and get customer features"
   ]
  },
  {
   "cell_type": "code",
   "execution_count": 55,
   "id": "f202321e",
   "metadata": {
    "colab": {
     "base_uri": "https://localhost:8080/",
     "height": 224
    },
    "executionInfo": {
     "elapsed": 4590,
     "status": "ok",
     "timestamp": 1651409345569,
     "user": {
      "displayName": "Steven George",
      "userId": "07709250839253394649"
     },
     "user_tz": -60
    },
    "id": "0a789f95",
    "outputId": "a5f65d2c-0eef-43d7-f0d3-38981a6b0c07"
   },
   "outputs": [
    {
     "name": "stdout",
     "output_type": "stream",
     "text": [
      "(1371980, 4)\n"
     ]
    },
    {
     "data": {
      "text/html": [
       "<div>\n",
       "<style scoped>\n",
       "    .dataframe tbody tr th:only-of-type {\n",
       "        vertical-align: middle;\n",
       "    }\n",
       "\n",
       "    .dataframe tbody tr th {\n",
       "        vertical-align: top;\n",
       "    }\n",
       "\n",
       "    .dataframe thead th {\n",
       "        text-align: right;\n",
       "    }\n",
       "</style>\n",
       "<table border=\"1\" class=\"dataframe\">\n",
       "  <thead>\n",
       "    <tr style=\"text-align: right;\">\n",
       "      <th></th>\n",
       "      <th>customer_id</th>\n",
       "      <th>FN</th>\n",
       "      <th>Active</th>\n",
       "      <th>age</th>\n",
       "    </tr>\n",
       "  </thead>\n",
       "  <tbody>\n",
       "    <tr>\n",
       "      <th>0</th>\n",
       "      <td>00000dbacae5abe5e23885899a1fa44253a17956c6d1c3...</td>\n",
       "      <td>NaN</td>\n",
       "      <td>NaN</td>\n",
       "      <td>49.0</td>\n",
       "    </tr>\n",
       "    <tr>\n",
       "      <th>1</th>\n",
       "      <td>0000423b00ade91418cceaf3b26c6af3dd342b51fd051e...</td>\n",
       "      <td>NaN</td>\n",
       "      <td>NaN</td>\n",
       "      <td>25.0</td>\n",
       "    </tr>\n",
       "    <tr>\n",
       "      <th>2</th>\n",
       "      <td>000058a12d5b43e67d225668fa1f8d618c13dc232df0ca...</td>\n",
       "      <td>NaN</td>\n",
       "      <td>NaN</td>\n",
       "      <td>24.0</td>\n",
       "    </tr>\n",
       "    <tr>\n",
       "      <th>3</th>\n",
       "      <td>00005ca1c9ed5f5146b52ac8639a40ca9d57aeff4d1bd2...</td>\n",
       "      <td>NaN</td>\n",
       "      <td>NaN</td>\n",
       "      <td>54.0</td>\n",
       "    </tr>\n",
       "    <tr>\n",
       "      <th>4</th>\n",
       "      <td>00006413d8573cd20ed7128e53b7b13819fe5cfc2d801f...</td>\n",
       "      <td>1.0</td>\n",
       "      <td>1.0</td>\n",
       "      <td>52.0</td>\n",
       "    </tr>\n",
       "  </tbody>\n",
       "</table>\n",
       "</div>"
      ],
      "text/plain": [
       "                                         customer_id   FN  Active   age\n",
       "0  00000dbacae5abe5e23885899a1fa44253a17956c6d1c3...  NaN     NaN  49.0\n",
       "1  0000423b00ade91418cceaf3b26c6af3dd342b51fd051e...  NaN     NaN  25.0\n",
       "2  000058a12d5b43e67d225668fa1f8d618c13dc232df0ca...  NaN     NaN  24.0\n",
       "3  00005ca1c9ed5f5146b52ac8639a40ca9d57aeff4d1bd2...  NaN     NaN  54.0\n",
       "4  00006413d8573cd20ed7128e53b7b13819fe5cfc2d801f...  1.0     1.0  52.0"
      ]
     },
     "execution_count": 55,
     "metadata": {},
     "output_type": "execute_result"
    }
   ],
   "source": [
    "customers = pd.read_csv('data/customers.csv', usecols=['customer_id', 'FN', 'Active', 'age'])\n",
    "print(customers.shape)\n",
    "customers.head()"
   ]
  },
  {
   "cell_type": "code",
   "execution_count": 56,
   "id": "71516392",
   "metadata": {},
   "outputs": [
    {
     "data": {
      "text/plain": [
       "43108"
      ]
     },
     "execution_count": 56,
     "metadata": {},
     "output_type": "execute_result"
    }
   ],
   "source": [
    "customers_to_keep = set(train_set['customer_id'])\n",
    "len(customers_to_keep)"
   ]
  },
  {
   "cell_type": "markdown",
   "id": "7eaf4e70",
   "metadata": {},
   "source": [
    "Filter out other customers from submission inputs (for other customers we'll just predict top-12)"
   ]
  },
  {
   "cell_type": "code",
   "execution_count": 57,
   "id": "abbfab03",
   "metadata": {},
   "outputs": [
    {
     "data": {
      "text/plain": [
       "0.08889273813058828"
      ]
     },
     "execution_count": 57,
     "metadata": {},
     "output_type": "execute_result"
    }
   ],
   "source": [
    "len(customers_to_keep) / len(submission_inputs)"
   ]
  },
  {
   "cell_type": "code",
   "execution_count": 58,
   "id": "5a6f0371",
   "metadata": {},
   "outputs": [
    {
     "data": {
      "text/plain": [
       "(43108, 3)"
      ]
     },
     "execution_count": 58,
     "metadata": {},
     "output_type": "execute_result"
    }
   ],
   "source": [
    "submission_inputs = submission_inputs.copy()[submission_inputs['customer_id'].isin(customers_to_keep)]\n",
    "submission_inputs.shape"
   ]
  },
  {
   "cell_type": "code",
   "execution_count": 59,
   "id": "1d71004b",
   "metadata": {},
   "outputs": [
    {
     "data": {
      "text/html": [
       "<div>\n",
       "<style scoped>\n",
       "    .dataframe tbody tr th:only-of-type {\n",
       "        vertical-align: middle;\n",
       "    }\n",
       "\n",
       "    .dataframe tbody tr th {\n",
       "        vertical-align: top;\n",
       "    }\n",
       "\n",
       "    .dataframe thead th {\n",
       "        text-align: right;\n",
       "    }\n",
       "</style>\n",
       "<table border=\"1\" class=\"dataframe\">\n",
       "  <thead>\n",
       "    <tr style=\"text-align: right;\">\n",
       "      <th></th>\n",
       "      <th>customer_id</th>\n",
       "      <th>FN</th>\n",
       "      <th>Active</th>\n",
       "      <th>age</th>\n",
       "    </tr>\n",
       "  </thead>\n",
       "  <tbody>\n",
       "    <tr>\n",
       "      <th>0</th>\n",
       "      <td>000172a9c322560c849754ffbdfdb2180d408aa7176b94...</td>\n",
       "      <td>NaN</td>\n",
       "      <td>NaN</td>\n",
       "      <td>45.0</td>\n",
       "    </tr>\n",
       "    <tr>\n",
       "      <th>1</th>\n",
       "      <td>0001d44dbe7f6c4b35200abdb052c77a87596fe1bdcc37...</td>\n",
       "      <td>1.0</td>\n",
       "      <td>1.0</td>\n",
       "      <td>44.0</td>\n",
       "    </tr>\n",
       "    <tr>\n",
       "      <th>2</th>\n",
       "      <td>0001f8cef6b9702d54abf66fd89eb21014bf98567065a9...</td>\n",
       "      <td>NaN</td>\n",
       "      <td>NaN</td>\n",
       "      <td>21.0</td>\n",
       "    </tr>\n",
       "    <tr>\n",
       "      <th>3</th>\n",
       "      <td>0003e867a930d0d6842f923d6ba7c9b77aba33fe2a0fbf...</td>\n",
       "      <td>1.0</td>\n",
       "      <td>1.0</td>\n",
       "      <td>33.0</td>\n",
       "    </tr>\n",
       "    <tr>\n",
       "      <th>4</th>\n",
       "      <td>0005340aa69bb5a28d98712a36d8f669024bce137e3c82...</td>\n",
       "      <td>NaN</td>\n",
       "      <td>NaN</td>\n",
       "      <td>21.0</td>\n",
       "    </tr>\n",
       "  </tbody>\n",
       "</table>\n",
       "</div>"
      ],
      "text/plain": [
       "                                         customer_id   FN  Active   age\n",
       "0  000172a9c322560c849754ffbdfdb2180d408aa7176b94...  NaN     NaN  45.0\n",
       "1  0001d44dbe7f6c4b35200abdb052c77a87596fe1bdcc37...  1.0     1.0  44.0\n",
       "2  0001f8cef6b9702d54abf66fd89eb21014bf98567065a9...  NaN     NaN  21.0\n",
       "3  0003e867a930d0d6842f923d6ba7c9b77aba33fe2a0fbf...  1.0     1.0  33.0\n",
       "4  0005340aa69bb5a28d98712a36d8f669024bce137e3c82...  NaN     NaN  21.0"
      ]
     },
     "execution_count": 59,
     "metadata": {},
     "output_type": "execute_result"
    }
   ],
   "source": [
    "customers = customers.copy()[customers['customer_id'].isin(customers_to_keep)]\n",
    "customers.reset_index(drop=True, inplace=True)\n",
    "customers.head()"
   ]
  },
  {
   "cell_type": "code",
   "execution_count": 60,
   "id": "2b66c89d",
   "metadata": {
    "colab": {
     "base_uri": "https://localhost:8080/"
    },
    "executionInfo": {
     "elapsed": 9,
     "status": "ok",
     "timestamp": 1651409345569,
     "user": {
      "displayName": "Steven George",
      "userId": "07709250839253394649"
     },
     "user_tz": -60
    },
    "id": "2cc539c0",
    "outputId": "8b132f08-da57-4444-9a9f-a13b7c23e42d"
   },
   "outputs": [
    {
     "data": {
      "text/plain": [
       "customer_id    0.000000\n",
       "FN             0.512689\n",
       "Active         0.519277\n",
       "age            0.003340\n",
       "dtype: float64"
      ]
     },
     "execution_count": 60,
     "metadata": {},
     "output_type": "execute_result"
    }
   ],
   "source": [
    "customers.isnull().sum() / customers.shape[0]"
   ]
  },
  {
   "cell_type": "code",
   "execution_count": 61,
   "id": "8b7e7e99",
   "metadata": {
    "executionInfo": {
     "elapsed": 434,
     "status": "ok",
     "timestamp": 1651409345999,
     "user": {
      "displayName": "Steven George",
      "userId": "07709250839253394649"
     },
     "user_tz": -60
    },
    "id": "d18788c7"
   },
   "outputs": [],
   "source": [
    "customers[['FN', 'Active']] = customers[['FN', 'Active']].fillna(0)"
   ]
  },
  {
   "cell_type": "markdown",
   "id": "42acc1fd",
   "metadata": {},
   "source": [
    "Despite potential data leakage we impute the nulls for age here:"
   ]
  },
  {
   "cell_type": "code",
   "execution_count": 62,
   "id": "617b458a",
   "metadata": {},
   "outputs": [
    {
     "data": {
      "text/plain": [
       "(43108, 4)"
      ]
     },
     "execution_count": 62,
     "metadata": {},
     "output_type": "execute_result"
    }
   ],
   "source": [
    "customers.shape"
   ]
  },
  {
   "cell_type": "code",
   "execution_count": 63,
   "id": "04d14b2f",
   "metadata": {},
   "outputs": [],
   "source": [
    "from sklearn.impute import SimpleImputer"
   ]
  },
  {
   "cell_type": "code",
   "execution_count": 64,
   "id": "ee521622",
   "metadata": {},
   "outputs": [],
   "source": [
    "simple_imputer = SimpleImputer()"
   ]
  },
  {
   "cell_type": "code",
   "execution_count": 65,
   "id": "b3020b40",
   "metadata": {},
   "outputs": [],
   "source": [
    "customers[['age']] = simple_imputer.fit_transform(customers[['age']])"
   ]
  },
  {
   "cell_type": "code",
   "execution_count": 66,
   "id": "3f3351e2",
   "metadata": {},
   "outputs": [],
   "source": [
    "customers['age'] /= 100"
   ]
  },
  {
   "cell_type": "code",
   "execution_count": 67,
   "id": "7cdb28fa",
   "metadata": {
    "colab": {
     "base_uri": "https://localhost:8080/"
    },
    "executionInfo": {
     "elapsed": 9,
     "status": "ok",
     "timestamp": 1651409345569,
     "user": {
      "displayName": "Steven George",
      "userId": "07709250839253394649"
     },
     "user_tz": -60
    },
    "id": "2cc539c0",
    "outputId": "8b132f08-da57-4444-9a9f-a13b7c23e42d"
   },
   "outputs": [
    {
     "data": {
      "text/plain": [
       "customer_id    0.0\n",
       "FN             0.0\n",
       "Active         0.0\n",
       "age            0.0\n",
       "dtype: float64"
      ]
     },
     "execution_count": 67,
     "metadata": {},
     "output_type": "execute_result"
    }
   ],
   "source": [
    "customers.isnull().sum() / customers.shape[0]"
   ]
  },
  {
   "cell_type": "code",
   "execution_count": 68,
   "id": "0e3cb6ee",
   "metadata": {},
   "outputs": [],
   "source": [
    "customers['customer_id_idx'] = customers.index"
   ]
  },
  {
   "cell_type": "code",
   "execution_count": 69,
   "id": "7101e1cf",
   "metadata": {},
   "outputs": [
    {
     "data": {
      "text/html": [
       "<div>\n",
       "<style scoped>\n",
       "    .dataframe tbody tr th:only-of-type {\n",
       "        vertical-align: middle;\n",
       "    }\n",
       "\n",
       "    .dataframe tbody tr th {\n",
       "        vertical-align: top;\n",
       "    }\n",
       "\n",
       "    .dataframe thead th {\n",
       "        text-align: right;\n",
       "    }\n",
       "</style>\n",
       "<table border=\"1\" class=\"dataframe\">\n",
       "  <thead>\n",
       "    <tr style=\"text-align: right;\">\n",
       "      <th></th>\n",
       "      <th>customer_id</th>\n",
       "      <th>FN</th>\n",
       "      <th>Active</th>\n",
       "      <th>age</th>\n",
       "      <th>customer_id_idx</th>\n",
       "    </tr>\n",
       "  </thead>\n",
       "  <tbody>\n",
       "    <tr>\n",
       "      <th>0</th>\n",
       "      <td>000172a9c322560c849754ffbdfdb2180d408aa7176b94...</td>\n",
       "      <td>0.0</td>\n",
       "      <td>0.0</td>\n",
       "      <td>0.45</td>\n",
       "      <td>0</td>\n",
       "    </tr>\n",
       "    <tr>\n",
       "      <th>1</th>\n",
       "      <td>0001d44dbe7f6c4b35200abdb052c77a87596fe1bdcc37...</td>\n",
       "      <td>1.0</td>\n",
       "      <td>1.0</td>\n",
       "      <td>0.44</td>\n",
       "      <td>1</td>\n",
       "    </tr>\n",
       "    <tr>\n",
       "      <th>2</th>\n",
       "      <td>0001f8cef6b9702d54abf66fd89eb21014bf98567065a9...</td>\n",
       "      <td>0.0</td>\n",
       "      <td>0.0</td>\n",
       "      <td>0.21</td>\n",
       "      <td>2</td>\n",
       "    </tr>\n",
       "    <tr>\n",
       "      <th>3</th>\n",
       "      <td>0003e867a930d0d6842f923d6ba7c9b77aba33fe2a0fbf...</td>\n",
       "      <td>1.0</td>\n",
       "      <td>1.0</td>\n",
       "      <td>0.33</td>\n",
       "      <td>3</td>\n",
       "    </tr>\n",
       "    <tr>\n",
       "      <th>4</th>\n",
       "      <td>0005340aa69bb5a28d98712a36d8f669024bce137e3c82...</td>\n",
       "      <td>0.0</td>\n",
       "      <td>0.0</td>\n",
       "      <td>0.21</td>\n",
       "      <td>4</td>\n",
       "    </tr>\n",
       "  </tbody>\n",
       "</table>\n",
       "</div>"
      ],
      "text/plain": [
       "                                         customer_id   FN  Active   age  \\\n",
       "0  000172a9c322560c849754ffbdfdb2180d408aa7176b94...  0.0     0.0  0.45   \n",
       "1  0001d44dbe7f6c4b35200abdb052c77a87596fe1bdcc37...  1.0     1.0  0.44   \n",
       "2  0001f8cef6b9702d54abf66fd89eb21014bf98567065a9...  0.0     0.0  0.21   \n",
       "3  0003e867a930d0d6842f923d6ba7c9b77aba33fe2a0fbf...  1.0     1.0  0.33   \n",
       "4  0005340aa69bb5a28d98712a36d8f669024bce137e3c82...  0.0     0.0  0.21   \n",
       "\n",
       "   customer_id_idx  \n",
       "0                0  \n",
       "1                1  \n",
       "2                2  \n",
       "3                3  \n",
       "4                4  "
      ]
     },
     "execution_count": 69,
     "metadata": {},
     "output_type": "execute_result"
    }
   ],
   "source": [
    "customers.head()"
   ]
  },
  {
   "cell_type": "code",
   "execution_count": 70,
   "id": "70a6f1a1",
   "metadata": {},
   "outputs": [],
   "source": [
    "train_set = train_set.merge(customers, on=['customer_id'])\n",
    "dev_set = dev_set.merge(customers, on=['customer_id'])\n",
    "test_set = test_set.merge(customers, on=['customer_id'])"
   ]
  },
  {
   "cell_type": "code",
   "execution_count": 118,
   "id": "ef696292",
   "metadata": {},
   "outputs": [],
   "source": [
    "submission_inputs = submission_inputs.merge(customers, on=['customer_id'])"
   ]
  },
  {
   "cell_type": "code",
   "execution_count": 71,
   "id": "5ae1dc33",
   "metadata": {},
   "outputs": [
    {
     "data": {
      "text/html": [
       "<div>\n",
       "<style scoped>\n",
       "    .dataframe tbody tr th:only-of-type {\n",
       "        vertical-align: middle;\n",
       "    }\n",
       "\n",
       "    .dataframe tbody tr th {\n",
       "        vertical-align: top;\n",
       "    }\n",
       "\n",
       "    .dataframe thead th {\n",
       "        text-align: right;\n",
       "    }\n",
       "</style>\n",
       "<table border=\"1\" class=\"dataframe\">\n",
       "  <thead>\n",
       "    <tr style=\"text-align: right;\">\n",
       "      <th></th>\n",
       "      <th>customer_id</th>\n",
       "      <th>article_id_idx_last10</th>\n",
       "      <th>article_id_idx_label</th>\n",
       "      <th>FN</th>\n",
       "      <th>Active</th>\n",
       "      <th>age</th>\n",
       "      <th>customer_id_idx</th>\n",
       "    </tr>\n",
       "  </thead>\n",
       "  <tbody>\n",
       "    <tr>\n",
       "      <th>0</th>\n",
       "      <td>000172a9c322560c849754ffbdfdb2180d408aa7176b94...</td>\n",
       "      <td>15861</td>\n",
       "      <td>7705</td>\n",
       "      <td>0.0</td>\n",
       "      <td>0.0</td>\n",
       "      <td>0.45</td>\n",
       "      <td>0</td>\n",
       "    </tr>\n",
       "    <tr>\n",
       "      <th>1</th>\n",
       "      <td>0001d44dbe7f6c4b35200abdb052c77a87596fe1bdcc37...</td>\n",
       "      <td>38882,3152,31459,3157,39673,39510,17255,26222,...</td>\n",
       "      <td>3160,38515,39642,40340,35654</td>\n",
       "      <td>1.0</td>\n",
       "      <td>1.0</td>\n",
       "      <td>0.44</td>\n",
       "      <td>1</td>\n",
       "    </tr>\n",
       "    <tr>\n",
       "      <th>2</th>\n",
       "      <td>0001f8cef6b9702d54abf66fd89eb21014bf98567065a9...</td>\n",
       "      <td>21627,21175,23351</td>\n",
       "      <td>23816</td>\n",
       "      <td>0.0</td>\n",
       "      <td>0.0</td>\n",
       "      <td>0.21</td>\n",
       "      <td>2</td>\n",
       "    </tr>\n",
       "    <tr>\n",
       "      <th>3</th>\n",
       "      <td>0003e867a930d0d6842f923d6ba7c9b77aba33fe2a0fbf...</td>\n",
       "      <td>18099,33097,33097,39942,39441,36213</td>\n",
       "      <td>38872,37897,38110</td>\n",
       "      <td>1.0</td>\n",
       "      <td>1.0</td>\n",
       "      <td>0.33</td>\n",
       "      <td>3</td>\n",
       "    </tr>\n",
       "    <tr>\n",
       "      <th>4</th>\n",
       "      <td>0005340aa69bb5a28d98712a36d8f669024bce137e3c82...</td>\n",
       "      <td>23950,25602,10293,29865,19920,34107,25721,2152...</td>\n",
       "      <td>23930,15224,21141,37733,10396,37827,15220,37735</td>\n",
       "      <td>0.0</td>\n",
       "      <td>0.0</td>\n",
       "      <td>0.21</td>\n",
       "      <td>4</td>\n",
       "    </tr>\n",
       "  </tbody>\n",
       "</table>\n",
       "</div>"
      ],
      "text/plain": [
       "                                         customer_id  \\\n",
       "0  000172a9c322560c849754ffbdfdb2180d408aa7176b94...   \n",
       "1  0001d44dbe7f6c4b35200abdb052c77a87596fe1bdcc37...   \n",
       "2  0001f8cef6b9702d54abf66fd89eb21014bf98567065a9...   \n",
       "3  0003e867a930d0d6842f923d6ba7c9b77aba33fe2a0fbf...   \n",
       "4  0005340aa69bb5a28d98712a36d8f669024bce137e3c82...   \n",
       "\n",
       "                               article_id_idx_last10  \\\n",
       "0                                              15861   \n",
       "1  38882,3152,31459,3157,39673,39510,17255,26222,...   \n",
       "2                                  21627,21175,23351   \n",
       "3                18099,33097,33097,39942,39441,36213   \n",
       "4  23950,25602,10293,29865,19920,34107,25721,2152...   \n",
       "\n",
       "                              article_id_idx_label   FN  Active   age  \\\n",
       "0                                             7705  0.0     0.0  0.45   \n",
       "1                     3160,38515,39642,40340,35654  1.0     1.0  0.44   \n",
       "2                                            23816  0.0     0.0  0.21   \n",
       "3                                38872,37897,38110  1.0     1.0  0.33   \n",
       "4  23930,15224,21141,37733,10396,37827,15220,37735  0.0     0.0  0.21   \n",
       "\n",
       "   customer_id_idx  \n",
       "0                0  \n",
       "1                1  \n",
       "2                2  \n",
       "3                3  \n",
       "4                4  "
      ]
     },
     "execution_count": 71,
     "metadata": {},
     "output_type": "execute_result"
    }
   ],
   "source": [
    "train_set.head()"
   ]
  },
  {
   "cell_type": "code",
   "execution_count": 72,
   "id": "fef62e55",
   "metadata": {},
   "outputs": [],
   "source": [
    "train_set = train_set[['customer_id_idx', 'article_id_idx_last10', 'article_id_idx_label', 'FN', 'Active', 'age']]\n",
    "dev_set = dev_set[['customer_id_idx', 'article_id_idx_last10', 'article_id_idx_label', 'FN', 'Active', 'age']]\n",
    "test_set = test_set[['customer_id_idx', 'article_id_idx_last10', 'article_id_idx_label', 'FN', 'Active', 'age']]"
   ]
  },
  {
   "cell_type": "code",
   "execution_count": 119,
   "id": "b50fea72",
   "metadata": {},
   "outputs": [],
   "source": [
    "submission_inputs = submission_inputs[['customer_id_idx', 'article_id_idx_last10', 'article_id_idx_label', 'FN', 'Active', 'age']]"
   ]
  },
  {
   "cell_type": "code",
   "execution_count": 73,
   "id": "bb18a7ec",
   "metadata": {},
   "outputs": [
    {
     "data": {
      "text/html": [
       "<div>\n",
       "<style scoped>\n",
       "    .dataframe tbody tr th:only-of-type {\n",
       "        vertical-align: middle;\n",
       "    }\n",
       "\n",
       "    .dataframe tbody tr th {\n",
       "        vertical-align: top;\n",
       "    }\n",
       "\n",
       "    .dataframe thead th {\n",
       "        text-align: right;\n",
       "    }\n",
       "</style>\n",
       "<table border=\"1\" class=\"dataframe\">\n",
       "  <thead>\n",
       "    <tr style=\"text-align: right;\">\n",
       "      <th></th>\n",
       "      <th>customer_id_idx</th>\n",
       "      <th>article_id_idx_last10</th>\n",
       "      <th>article_id_idx_label</th>\n",
       "      <th>FN</th>\n",
       "      <th>Active</th>\n",
       "      <th>age</th>\n",
       "    </tr>\n",
       "  </thead>\n",
       "  <tbody>\n",
       "    <tr>\n",
       "      <th>0</th>\n",
       "      <td>0</td>\n",
       "      <td>15861</td>\n",
       "      <td>7705</td>\n",
       "      <td>0.0</td>\n",
       "      <td>0.0</td>\n",
       "      <td>0.45</td>\n",
       "    </tr>\n",
       "    <tr>\n",
       "      <th>1</th>\n",
       "      <td>1</td>\n",
       "      <td>38882,3152,31459,3157,39673,39510,17255,26222,...</td>\n",
       "      <td>3160,38515,39642,40340,35654</td>\n",
       "      <td>1.0</td>\n",
       "      <td>1.0</td>\n",
       "      <td>0.44</td>\n",
       "    </tr>\n",
       "    <tr>\n",
       "      <th>2</th>\n",
       "      <td>2</td>\n",
       "      <td>21627,21175,23351</td>\n",
       "      <td>23816</td>\n",
       "      <td>0.0</td>\n",
       "      <td>0.0</td>\n",
       "      <td>0.21</td>\n",
       "    </tr>\n",
       "    <tr>\n",
       "      <th>3</th>\n",
       "      <td>3</td>\n",
       "      <td>18099,33097,33097,39942,39441,36213</td>\n",
       "      <td>38872,37897,38110</td>\n",
       "      <td>1.0</td>\n",
       "      <td>1.0</td>\n",
       "      <td>0.33</td>\n",
       "    </tr>\n",
       "    <tr>\n",
       "      <th>4</th>\n",
       "      <td>4</td>\n",
       "      <td>23950,25602,10293,29865,19920,34107,25721,2152...</td>\n",
       "      <td>23930,15224,21141,37733,10396,37827,15220,37735</td>\n",
       "      <td>0.0</td>\n",
       "      <td>0.0</td>\n",
       "      <td>0.21</td>\n",
       "    </tr>\n",
       "  </tbody>\n",
       "</table>\n",
       "</div>"
      ],
      "text/plain": [
       "   customer_id_idx                              article_id_idx_last10  \\\n",
       "0                0                                              15861   \n",
       "1                1  38882,3152,31459,3157,39673,39510,17255,26222,...   \n",
       "2                2                                  21627,21175,23351   \n",
       "3                3                18099,33097,33097,39942,39441,36213   \n",
       "4                4  23950,25602,10293,29865,19920,34107,25721,2152...   \n",
       "\n",
       "                              article_id_idx_label   FN  Active   age  \n",
       "0                                             7705  0.0     0.0  0.45  \n",
       "1                     3160,38515,39642,40340,35654  1.0     1.0  0.44  \n",
       "2                                            23816  0.0     0.0  0.21  \n",
       "3                                38872,37897,38110  1.0     1.0  0.33  \n",
       "4  23930,15224,21141,37733,10396,37827,15220,37735  0.0     0.0  0.21  "
      ]
     },
     "execution_count": 73,
     "metadata": {},
     "output_type": "execute_result"
    }
   ],
   "source": [
    "train_set.head()"
   ]
  },
  {
   "cell_type": "code",
   "execution_count": 74,
   "id": "4914269e",
   "metadata": {},
   "outputs": [
    {
     "data": {
      "text/html": [
       "<div>\n",
       "<style scoped>\n",
       "    .dataframe tbody tr th:only-of-type {\n",
       "        vertical-align: middle;\n",
       "    }\n",
       "\n",
       "    .dataframe tbody tr th {\n",
       "        vertical-align: top;\n",
       "    }\n",
       "\n",
       "    .dataframe thead th {\n",
       "        text-align: right;\n",
       "    }\n",
       "</style>\n",
       "<table border=\"1\" class=\"dataframe\">\n",
       "  <thead>\n",
       "    <tr style=\"text-align: right;\">\n",
       "      <th></th>\n",
       "      <th>customer_id_idx</th>\n",
       "      <th>article_id_idx_last10</th>\n",
       "      <th>article_id_idx_label</th>\n",
       "      <th>FN</th>\n",
       "      <th>Active</th>\n",
       "      <th>age</th>\n",
       "    </tr>\n",
       "  </thead>\n",
       "  <tbody>\n",
       "    <tr>\n",
       "      <th>0</th>\n",
       "      <td>1</td>\n",
       "      <td>39510,17255,26222,39644,31316,3160,38515,39642...</td>\n",
       "      <td>12038</td>\n",
       "      <td>1.0</td>\n",
       "      <td>1.0</td>\n",
       "      <td>0.44</td>\n",
       "    </tr>\n",
       "    <tr>\n",
       "      <th>1</th>\n",
       "      <td>3</td>\n",
       "      <td>18099,33097,33097,39942,39441,36213,38872,3789...</td>\n",
       "      <td>5642,4783,34346,35841</td>\n",
       "      <td>1.0</td>\n",
       "      <td>1.0</td>\n",
       "      <td>0.33</td>\n",
       "    </tr>\n",
       "    <tr>\n",
       "      <th>2</th>\n",
       "      <td>13</td>\n",
       "      <td>26177,31831,31831,31831,32833,34362,20231,7682...</td>\n",
       "      <td>15057,20232,15514,13668,20238,34203</td>\n",
       "      <td>0.0</td>\n",
       "      <td>0.0</td>\n",
       "      <td>0.41</td>\n",
       "    </tr>\n",
       "    <tr>\n",
       "      <th>3</th>\n",
       "      <td>15</td>\n",
       "      <td>39072,36872,38476,37455,27914,4387,24455,19793...</td>\n",
       "      <td>35072,15616,39388,39975</td>\n",
       "      <td>1.0</td>\n",
       "      <td>1.0</td>\n",
       "      <td>0.42</td>\n",
       "    </tr>\n",
       "    <tr>\n",
       "      <th>4</th>\n",
       "      <td>17</td>\n",
       "      <td>15270,2258,2260,23407,40264,40262,15389</td>\n",
       "      <td>36512,38312</td>\n",
       "      <td>1.0</td>\n",
       "      <td>1.0</td>\n",
       "      <td>0.23</td>\n",
       "    </tr>\n",
       "  </tbody>\n",
       "</table>\n",
       "</div>"
      ],
      "text/plain": [
       "   customer_id_idx                              article_id_idx_last10  \\\n",
       "0                1  39510,17255,26222,39644,31316,3160,38515,39642...   \n",
       "1                3  18099,33097,33097,39942,39441,36213,38872,3789...   \n",
       "2               13  26177,31831,31831,31831,32833,34362,20231,7682...   \n",
       "3               15  39072,36872,38476,37455,27914,4387,24455,19793...   \n",
       "4               17            15270,2258,2260,23407,40264,40262,15389   \n",
       "\n",
       "                  article_id_idx_label   FN  Active   age  \n",
       "0                                12038  1.0     1.0  0.44  \n",
       "1                5642,4783,34346,35841  1.0     1.0  0.33  \n",
       "2  15057,20232,15514,13668,20238,34203  0.0     0.0  0.41  \n",
       "3              35072,15616,39388,39975  1.0     1.0  0.42  \n",
       "4                          36512,38312  1.0     1.0  0.23  "
      ]
     },
     "execution_count": 74,
     "metadata": {},
     "output_type": "execute_result"
    }
   ],
   "source": [
    "dev_set.head()"
   ]
  },
  {
   "cell_type": "code",
   "execution_count": 120,
   "id": "b62c1121",
   "metadata": {},
   "outputs": [
    {
     "data": {
      "text/html": [
       "<div>\n",
       "<style scoped>\n",
       "    .dataframe tbody tr th:only-of-type {\n",
       "        vertical-align: middle;\n",
       "    }\n",
       "\n",
       "    .dataframe tbody tr th {\n",
       "        vertical-align: top;\n",
       "    }\n",
       "\n",
       "    .dataframe thead th {\n",
       "        text-align: right;\n",
       "    }\n",
       "</style>\n",
       "<table border=\"1\" class=\"dataframe\">\n",
       "  <thead>\n",
       "    <tr style=\"text-align: right;\">\n",
       "      <th></th>\n",
       "      <th>customer_id_idx</th>\n",
       "      <th>article_id_idx_last10</th>\n",
       "      <th>article_id_idx_label</th>\n",
       "      <th>FN</th>\n",
       "      <th>Active</th>\n",
       "      <th>age</th>\n",
       "    </tr>\n",
       "  </thead>\n",
       "  <tbody>\n",
       "    <tr>\n",
       "      <th>0</th>\n",
       "      <td>0</td>\n",
       "      <td>15861,7705,7705,7705</td>\n",
       "      <td>0</td>\n",
       "      <td>0.0</td>\n",
       "      <td>0.0</td>\n",
       "      <td>0.45</td>\n",
       "    </tr>\n",
       "    <tr>\n",
       "      <th>1</th>\n",
       "      <td>1</td>\n",
       "      <td>17255,26222,39644,31316,3160,38515,39642,40340...</td>\n",
       "      <td>0</td>\n",
       "      <td>1.0</td>\n",
       "      <td>1.0</td>\n",
       "      <td>0.44</td>\n",
       "    </tr>\n",
       "    <tr>\n",
       "      <th>2</th>\n",
       "      <td>2</td>\n",
       "      <td>21627,21175,23351,23816</td>\n",
       "      <td>0</td>\n",
       "      <td>0.0</td>\n",
       "      <td>0.0</td>\n",
       "      <td>0.21</td>\n",
       "    </tr>\n",
       "    <tr>\n",
       "      <th>3</th>\n",
       "      <td>3</td>\n",
       "      <td>36213,38872,37897,38110,5642,4783,34346,34346,...</td>\n",
       "      <td>0</td>\n",
       "      <td>1.0</td>\n",
       "      <td>1.0</td>\n",
       "      <td>0.33</td>\n",
       "    </tr>\n",
       "    <tr>\n",
       "      <th>4</th>\n",
       "      <td>4</td>\n",
       "      <td>21522,31083,23930,15224,21141,37733,10396,3782...</td>\n",
       "      <td>0</td>\n",
       "      <td>0.0</td>\n",
       "      <td>0.0</td>\n",
       "      <td>0.21</td>\n",
       "    </tr>\n",
       "  </tbody>\n",
       "</table>\n",
       "</div>"
      ],
      "text/plain": [
       "   customer_id_idx                              article_id_idx_last10  \\\n",
       "0                0                               15861,7705,7705,7705   \n",
       "1                1  17255,26222,39644,31316,3160,38515,39642,40340...   \n",
       "2                2                            21627,21175,23351,23816   \n",
       "3                3  36213,38872,37897,38110,5642,4783,34346,34346,...   \n",
       "4                4  21522,31083,23930,15224,21141,37733,10396,3782...   \n",
       "\n",
       "  article_id_idx_label   FN  Active   age  \n",
       "0                    0  0.0     0.0  0.45  \n",
       "1                    0  1.0     1.0  0.44  \n",
       "2                    0  0.0     0.0  0.21  \n",
       "3                    0  1.0     1.0  0.33  \n",
       "4                    0  0.0     0.0  0.21  "
      ]
     },
     "execution_count": 120,
     "metadata": {},
     "output_type": "execute_result"
    }
   ],
   "source": [
    "submission_inputs.head()"
   ]
  },
  {
   "cell_type": "markdown",
   "id": "c6fa77cf",
   "metadata": {},
   "source": [
    "### Save files"
   ]
  },
  {
   "cell_type": "code",
   "execution_count": 75,
   "id": "6650b7d7",
   "metadata": {},
   "outputs": [],
   "source": [
    "train_set.to_csv('data/final_train_set.tsv', sep='\\t', index=False)\n",
    "dev_set.to_csv('data/final_dev_set.tsv', sep='\\t', index=False)\n",
    "test_set.to_csv('data/final_test_set.tsv', sep='\\t', index=False)\n",
    "submission_inputs.to_csv('data/final_submission_inputs.tsv', sep='\\t', index=False)\n",
    "\n",
    "articles_df.to_csv('data/articles_df_filt.csv', index=False)\n",
    "customers.to_csv('data/customers_filt.csv', index=False)"
   ]
  },
  {
   "cell_type": "markdown",
   "id": "53d9a337",
   "metadata": {},
   "source": [
    "### IterableDataset"
   ]
  },
  {
   "cell_type": "code",
   "execution_count": 112,
   "id": "1b33369e",
   "metadata": {},
   "outputs": [],
   "source": [
    "class RecommendationDatasetMultiLabel(IterableDataset):\n",
    "\n",
    "    def __init__(self, dataset_filepath, article_emb_bag, total_articles):\n",
    "        \n",
    "        self.dataset_itr = open(dataset_filepath, 'r')\n",
    "        next(self.dataset_itr)  # skip header\n",
    "        \n",
    "        self.article_emb_bag = article_emb_bag\n",
    "        \n",
    "        self.total_articles = total_articles\n",
    "    \n",
    "    def process_label(self, label_str: str):\n",
    "        \n",
    "        labels = torch.tensor([int(v) for v in label_str.split(',')])\n",
    "        \n",
    "        target = torch.zeros(self.total_articles).scatter_(0, labels, 1.)\n",
    "\n",
    "        return target\n",
    "    \n",
    "    def mean_historical_purchases_embedding(self, input_str: str):\n",
    "        \n",
    "        indices = torch.tensor([int(v) for v in input_str.split(',')])\n",
    "\n",
    "        mean_emb = self.article_emb_bag(indices.unsqueeze(0)).flatten()\n",
    "            \n",
    "        return mean_emb\n",
    "    \n",
    "    def process_numeric_features(self, fn: str, active: str, age: str):\n",
    "        numeric_features_tensor = torch.tensor([\n",
    "            float(fn),\n",
    "            float(active),\n",
    "            float(age)\n",
    "        ])\n",
    "\n",
    "        return numeric_features_tensor\n",
    "    \n",
    "    def parse_itr(self, dataset_itr):\n",
    "        \n",
    "        for line in dataset_itr:\n",
    "        \n",
    "            line_items = line.rstrip('\\n').split('\\t')\n",
    "            \n",
    "            customer_id_idx, article_id_idx_last10, article_id_idx_label, fn, active, age = line_items\n",
    "            \n",
    "            customer_id_idx = int(customer_id_idx)\n",
    "            \n",
    "            numeric_features_tensor = self.process_numeric_features(fn, active, age)\n",
    "            \n",
    "            mean_emb = self.mean_historical_purchases_embedding(article_id_idx_last10)\n",
    "\n",
    "            label = self.process_label(article_id_idx_label)    \n",
    "            \n",
    "            inputs = torch.concat((mean_emb, numeric_features_tensor))\n",
    "\n",
    "            yield customer_id_idx, inputs, label\n",
    "        \n",
    "    def get_stream(self, dataset_itr):\n",
    "        \n",
    "        return self.parse_itr(dataset_itr)\n",
    "\n",
    "    def __iter__(self):\n",
    "        \n",
    "        return self.get_stream(self.dataset_itr)"
   ]
  },
  {
   "cell_type": "code",
   "execution_count": 113,
   "id": "21678360",
   "metadata": {},
   "outputs": [],
   "source": [
    "dataset = RecommendationDatasetMultiLabel(dataset_filepath='data/final_train_set.tsv', article_emb_bag=article_emb_bag, total_articles=total_articles)"
   ]
  },
  {
   "cell_type": "code",
   "execution_count": 115,
   "id": "e4a43f43",
   "metadata": {},
   "outputs": [
    {
     "name": "stdout",
     "output_type": "stream",
     "text": [
      "tensor([0, 1, 2, 3])\n",
      "tensor([[ 0.6880,  0.7994,  0.1675,  ...,  0.0000,  0.0000,  0.4500],\n",
      "        [-0.5039,  0.2605, -0.6052,  ...,  1.0000,  1.0000,  0.4400],\n",
      "        [ 0.0408, -0.3197, -1.0627,  ...,  0.0000,  0.0000,  0.2100],\n",
      "        [ 0.2613, -0.0234,  0.5033,  ...,  1.0000,  1.0000,  0.3300]],\n",
      "       grad_fn=<StackBackward0>)\n",
      "tensor([[0., 0., 0.,  ..., 0., 0., 0.],\n",
      "        [0., 0., 0.,  ..., 0., 0., 0.],\n",
      "        [0., 0., 0.,  ..., 0., 0., 0.],\n",
      "        [0., 0., 0.,  ..., 0., 0., 0.]])\n",
      "\n",
      "\n",
      "tensor([4, 5, 6, 7])\n",
      "tensor([[ 0.0690,  0.0961, -0.5127,  ...,  0.0000,  0.0000,  0.2100],\n",
      "        [ 0.6053, -0.6315, -0.3857,  ...,  0.0000,  0.0000,  0.1900],\n",
      "        [-0.0239,  0.2512, -0.0091,  ...,  0.0000,  0.0000,  0.3600],\n",
      "        [ 0.1321, -0.2569,  0.0335,  ...,  0.0000,  0.0000,  0.4000]],\n",
      "       grad_fn=<StackBackward0>)\n",
      "tensor([[0., 0., 0.,  ..., 0., 0., 0.],\n",
      "        [0., 0., 0.,  ..., 0., 0., 0.],\n",
      "        [0., 0., 0.,  ..., 0., 0., 0.],\n",
      "        [0., 0., 0.,  ..., 0., 0., 0.]])\n",
      "\n",
      "\n",
      "tensor([ 8,  9, 10, 11])\n",
      "tensor([[-1.3421, -1.3158, -0.2306,  ...,  1.0000,  1.0000,  0.2200],\n",
      "        [-0.0683, -0.4055,  0.4789,  ...,  1.0000,  1.0000,  0.5900],\n",
      "        [-1.1431, -0.1027,  0.9715,  ...,  0.0000,  0.0000,  0.2100],\n",
      "        [-0.2197,  0.6603,  0.7849,  ...,  0.0000,  0.0000,  0.4400]],\n",
      "       grad_fn=<StackBackward0>)\n",
      "tensor([[0., 0., 0.,  ..., 0., 0., 0.],\n",
      "        [0., 0., 0.,  ..., 0., 0., 0.],\n",
      "        [0., 0., 0.,  ..., 0., 0., 0.],\n",
      "        [0., 0., 0.,  ..., 0., 0., 0.]])\n",
      "\n",
      "\n",
      "tensor([12, 13, 14, 15])\n",
      "tensor([[-0.2319, -0.1694, -0.3596,  ...,  0.0000,  0.0000,  0.2700],\n",
      "        [-0.2634,  0.6085, -0.8408,  ...,  0.0000,  0.0000,  0.4100],\n",
      "        [ 0.2439,  0.9591, -0.2303,  ...,  0.0000,  0.0000,  0.3700],\n",
      "        [-0.1076, -0.3034, -0.5701,  ...,  1.0000,  1.0000,  0.4200]],\n",
      "       grad_fn=<StackBackward0>)\n",
      "tensor([[0., 0., 0.,  ..., 0., 0., 0.],\n",
      "        [0., 0., 0.,  ..., 0., 0., 0.],\n",
      "        [0., 0., 0.,  ..., 0., 0., 0.],\n",
      "        [0., 0., 0.,  ..., 0., 0., 0.]])\n",
      "\n",
      "\n",
      "tensor([16, 17, 18, 19])\n",
      "tensor([[ 0.4549,  0.6160,  1.0989,  ...,  0.0000,  0.0000,  0.3000],\n",
      "        [-0.7409, -0.2554, -0.4560,  ...,  1.0000,  1.0000,  0.2300],\n",
      "        [ 0.3724, -0.0359, -0.4006,  ...,  0.0000,  0.0000,  0.3900],\n",
      "        [ 0.0723, -0.2896, -0.1803,  ...,  0.0000,  0.0000,  0.3200]],\n",
      "       grad_fn=<StackBackward0>)\n",
      "tensor([[0., 0., 0.,  ..., 0., 0., 0.],\n",
      "        [0., 0., 0.,  ..., 0., 0., 0.],\n",
      "        [0., 0., 0.,  ..., 0., 0., 0.],\n",
      "        [0., 0., 0.,  ..., 0., 0., 0.]])\n",
      "\n",
      "\n"
     ]
    }
   ],
   "source": [
    "train_loader = DataLoader(dataset, batch_size=4)  \n",
    "    \n",
    "for idx, data in enumerate(train_loader):\n",
    "    \n",
    "    if idx == 5:\n",
    "        break\n",
    "    else:\n",
    "        customer_id_idx, inputs, label = data\n",
    "        print(customer_id_idx)\n",
    "        print(inputs)\n",
    "        print(label)\n",
    "        print('\\n')"
   ]
  },
  {
   "cell_type": "markdown",
   "id": "413143b7",
   "metadata": {},
   "source": [
    "### TODO\n",
    "\n",
    "- Wrap processing steps in a function and apply to train, test sets  [DONE]\n",
    "- Add customer features here (FN, Active, Age)  [DONE]\n",
    "- Save sets as CSVs  [DONE]\n",
    "- Save reduced articles df - use to generate correct embeddings by index  [DONE]\n",
    "- Save customers df - use to generate correct embeddings by index  [DONE]\n",
    "- Write iterable dataset which processes dataset  [DONE]\n",
    "    - Get mean for each of inputs and take average to use as input\n",
    "    - Multi-hot encode label"
   ]
  },
  {
   "cell_type": "markdown",
   "id": "c72c8009",
   "metadata": {},
   "source": [
    "Checks of proecessing steps:"
   ]
  },
  {
   "cell_type": "markdown",
   "id": "8ffb6344",
   "metadata": {},
   "source": [
    "Multi-hot encoding:\n",
    "\n",
    "https://discuss.pytorch.org/t/what-kind-of-loss-is-better-to-use-in-multilabel-classification/32203/3"
   ]
  },
  {
   "cell_type": "code",
   "execution_count": 101,
   "id": "993c8e6b",
   "metadata": {},
   "outputs": [
    {
     "data": {
      "text/plain": [
       "'18345,38864,35941,32663,39388'"
      ]
     },
     "execution_count": 101,
     "metadata": {},
     "output_type": "execute_result"
    }
   ],
   "source": [
    "article_id_idx_label = dev_set.iloc[3]['article_id_idx_label']\n",
    "article_id_idx_label"
   ]
  },
  {
   "cell_type": "code",
   "execution_count": 104,
   "id": "fa88d282",
   "metadata": {},
   "outputs": [],
   "source": [
    "total_articles = articles_df.shape[0]"
   ]
  },
  {
   "cell_type": "code",
   "execution_count": 112,
   "id": "d68e4317",
   "metadata": {},
   "outputs": [
    {
     "data": {
      "text/plain": [
       "tensor([18345, 38864, 35941, 32663, 39388])"
      ]
     },
     "execution_count": 112,
     "metadata": {},
     "output_type": "execute_result"
    }
   ],
   "source": [
    "labels = torch.tensor([int(v) for v in article_id_idx_label.split(',')])\n",
    "labels"
   ]
  },
  {
   "cell_type": "code",
   "execution_count": 111,
   "id": "38d6dcfb",
   "metadata": {},
   "outputs": [
    {
     "data": {
      "text/plain": [
       "tensor([0., 0., 0.,  ..., 0., 0., 0.])"
      ]
     },
     "execution_count": 111,
     "metadata": {},
     "output_type": "execute_result"
    }
   ],
   "source": [
    "target = torch.zeros(total_articles).scatter_(0, labels, 1.)\n",
    "target"
   ]
  },
  {
   "cell_type": "code",
   "execution_count": 114,
   "id": "b271b89d",
   "metadata": {},
   "outputs": [
    {
     "data": {
      "text/plain": [
       "tensor([1., 1., 1., 1., 1.])"
      ]
     },
     "execution_count": 114,
     "metadata": {},
     "output_type": "execute_result"
    }
   ],
   "source": [
    "target[labels]"
   ]
  },
  {
   "cell_type": "code",
   "execution_count": 115,
   "id": "d60357c7",
   "metadata": {},
   "outputs": [
    {
     "data": {
      "text/plain": [
       "tensor(5.)"
      ]
     },
     "execution_count": 115,
     "metadata": {},
     "output_type": "execute_result"
    }
   ],
   "source": [
    "target.sum()"
   ]
  },
  {
   "cell_type": "markdown",
   "id": "ced28879",
   "metadata": {},
   "source": [
    "Getting mean encoding of historical basket"
   ]
  },
  {
   "cell_type": "code",
   "execution_count": 117,
   "id": "541a96a0",
   "metadata": {},
   "outputs": [],
   "source": [
    "article_emb_bag = nn.EmbeddingBag(num_embeddings=total_articles, embedding_dim=384)"
   ]
  },
  {
   "cell_type": "code",
   "execution_count": 135,
   "id": "e92b3ae8",
   "metadata": {},
   "outputs": [
    {
     "data": {
      "text/plain": [
       "'37757,34393,5646,38997'"
      ]
     },
     "execution_count": 135,
     "metadata": {},
     "output_type": "execute_result"
    }
   ],
   "source": [
    "article_id_idx_last10 = dev_set.iloc[5]['article_id_idx_last10']\n",
    "article_id_idx_last10"
   ]
  },
  {
   "cell_type": "code",
   "execution_count": 136,
   "id": "0ce87143",
   "metadata": {},
   "outputs": [
    {
     "data": {
      "text/plain": [
       "tensor([37757, 34393,  5646, 38997])"
      ]
     },
     "execution_count": 136,
     "metadata": {},
     "output_type": "execute_result"
    }
   ],
   "source": [
    "indices = torch.tensor([int(v) for v in article_id_idx_last10.split(',')])\n",
    "indices"
   ]
  },
  {
   "cell_type": "code",
   "execution_count": 137,
   "id": "2ed41db8",
   "metadata": {},
   "outputs": [
    {
     "data": {
      "text/plain": [
       "tensor([[37757, 34393,  5646, 38997]])"
      ]
     },
     "execution_count": 137,
     "metadata": {},
     "output_type": "execute_result"
    }
   ],
   "source": [
    "indices.unsqueeze(0)"
   ]
  },
  {
   "cell_type": "code",
   "execution_count": 138,
   "id": "53071357",
   "metadata": {},
   "outputs": [
    {
     "data": {
      "text/plain": [
       "torch.Size([1, 384])"
      ]
     },
     "execution_count": 138,
     "metadata": {},
     "output_type": "execute_result"
    }
   ],
   "source": [
    "mean_emb = article_emb_bag(indices.unsqueeze(0))\n",
    "mean_emb.shape"
   ]
  },
  {
   "cell_type": "code",
   "execution_count": 139,
   "id": "a88d0d63",
   "metadata": {},
   "outputs": [],
   "source": [
    "torch.testing.assert_allclose(\n",
    "    mean_emb.flatten(),\n",
    "    article_emb_bag.weight[indices].mean(dim=0)\n",
    ")"
   ]
  },
  {
   "cell_type": "code",
   "execution_count": 141,
   "id": "ef900ee3",
   "metadata": {},
   "outputs": [
    {
     "data": {
      "text/plain": [
       "torch.Size([1, 384])"
      ]
     },
     "execution_count": 141,
     "metadata": {},
     "output_type": "execute_result"
    }
   ],
   "source": [
    "mean_emb = article_emb_bag(indices, offsets=torch.tensor([0]))\n",
    "mean_emb.shape"
   ]
  },
  {
   "cell_type": "code",
   "execution_count": 142,
   "id": "92fb7bba",
   "metadata": {},
   "outputs": [],
   "source": [
    "torch.testing.assert_allclose(\n",
    "    mean_emb.flatten(),\n",
    "    article_emb_bag.weight[indices].mean(dim=0)\n",
    ")"
   ]
  }
 ],
 "metadata": {
  "accelerator": "GPU",
  "colab": {
   "machine_shape": "hm",
   "name": "17-Simple candidate generation and NN ranker with sentence embeddings.ipynb",
   "provenance": []
  },
  "kernelspec": {
   "display_name": "Python 3 (ipykernel)",
   "language": "python",
   "name": "python3"
  },
  "language_info": {
   "codemirror_mode": {
    "name": "ipython",
    "version": 3
   },
   "file_extension": ".py",
   "mimetype": "text/x-python",
   "name": "python",
   "nbconvert_exporter": "python",
   "pygments_lexer": "ipython3",
   "version": "3.8.12"
  }
 },
 "nbformat": 4,
 "nbformat_minor": 5
}
