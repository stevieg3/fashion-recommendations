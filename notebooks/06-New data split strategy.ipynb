{
 "cells": [
  {
   "cell_type": "code",
   "execution_count": 1,
   "id": "7aa0c261",
   "metadata": {},
   "outputs": [],
   "source": [
    "import os\n",
    "import datetime\n",
    "\n",
    "import pandas as pd\n",
    "import numpy as np"
   ]
  },
  {
   "cell_type": "code",
   "execution_count": 2,
   "id": "deca16e9",
   "metadata": {},
   "outputs": [],
   "source": [
    "os.chdir('..')"
   ]
  },
  {
   "cell_type": "code",
   "execution_count": 3,
   "id": "8f1387cc",
   "metadata": {},
   "outputs": [],
   "source": [
    "from fashion_recommendations.data.constants import ARTICLE_ID_TO_IDX\n",
    "from fashion_recommendations.data.prepare_splits import prepare_splits"
   ]
  },
  {
   "cell_type": "markdown",
   "id": "4fe8e2e8",
   "metadata": {},
   "source": [
    "#### Create splits"
   ]
  },
  {
   "cell_type": "code",
   "execution_count": 4,
   "id": "ee5f92f3",
   "metadata": {},
   "outputs": [
    {
     "name": "stdout",
     "output_type": "stream",
     "text": [
      "(31788324, 5)\n"
     ]
    },
    {
     "data": {
      "text/html": [
       "<div>\n",
       "<style scoped>\n",
       "    .dataframe tbody tr th:only-of-type {\n",
       "        vertical-align: middle;\n",
       "    }\n",
       "\n",
       "    .dataframe tbody tr th {\n",
       "        vertical-align: top;\n",
       "    }\n",
       "\n",
       "    .dataframe thead th {\n",
       "        text-align: right;\n",
       "    }\n",
       "</style>\n",
       "<table border=\"1\" class=\"dataframe\">\n",
       "  <thead>\n",
       "    <tr style=\"text-align: right;\">\n",
       "      <th></th>\n",
       "      <th>t_dat</th>\n",
       "      <th>customer_id</th>\n",
       "      <th>article_id</th>\n",
       "      <th>price</th>\n",
       "      <th>sales_channel_id</th>\n",
       "    </tr>\n",
       "  </thead>\n",
       "  <tbody>\n",
       "    <tr>\n",
       "      <th>0</th>\n",
       "      <td>2018-09-20</td>\n",
       "      <td>000058a12d5b43e67d225668fa1f8d618c13dc232df0ca...</td>\n",
       "      <td>0663713001</td>\n",
       "      <td>0.050831</td>\n",
       "      <td>2</td>\n",
       "    </tr>\n",
       "    <tr>\n",
       "      <th>1</th>\n",
       "      <td>2018-09-20</td>\n",
       "      <td>000058a12d5b43e67d225668fa1f8d618c13dc232df0ca...</td>\n",
       "      <td>0541518023</td>\n",
       "      <td>0.030492</td>\n",
       "      <td>2</td>\n",
       "    </tr>\n",
       "    <tr>\n",
       "      <th>2</th>\n",
       "      <td>2018-09-20</td>\n",
       "      <td>00007d2de826758b65a93dd24ce629ed66842531df6699...</td>\n",
       "      <td>0505221004</td>\n",
       "      <td>0.015237</td>\n",
       "      <td>2</td>\n",
       "    </tr>\n",
       "    <tr>\n",
       "      <th>3</th>\n",
       "      <td>2018-09-20</td>\n",
       "      <td>00007d2de826758b65a93dd24ce629ed66842531df6699...</td>\n",
       "      <td>0685687003</td>\n",
       "      <td>0.016932</td>\n",
       "      <td>2</td>\n",
       "    </tr>\n",
       "    <tr>\n",
       "      <th>4</th>\n",
       "      <td>2018-09-20</td>\n",
       "      <td>00007d2de826758b65a93dd24ce629ed66842531df6699...</td>\n",
       "      <td>0685687004</td>\n",
       "      <td>0.016932</td>\n",
       "      <td>2</td>\n",
       "    </tr>\n",
       "  </tbody>\n",
       "</table>\n",
       "</div>"
      ],
      "text/plain": [
       "        t_dat                                        customer_id  article_id  \\\n",
       "0  2018-09-20  000058a12d5b43e67d225668fa1f8d618c13dc232df0ca...  0663713001   \n",
       "1  2018-09-20  000058a12d5b43e67d225668fa1f8d618c13dc232df0ca...  0541518023   \n",
       "2  2018-09-20  00007d2de826758b65a93dd24ce629ed66842531df6699...  0505221004   \n",
       "3  2018-09-20  00007d2de826758b65a93dd24ce629ed66842531df6699...  0685687003   \n",
       "4  2018-09-20  00007d2de826758b65a93dd24ce629ed66842531df6699...  0685687004   \n",
       "\n",
       "      price  sales_channel_id  \n",
       "0  0.050831                 2  \n",
       "1  0.030492                 2  \n",
       "2  0.015237                 2  \n",
       "3  0.016932                 2  \n",
       "4  0.016932                 2  "
      ]
     },
     "execution_count": 4,
     "metadata": {},
     "output_type": "execute_result"
    }
   ],
   "source": [
    "transactions_train_df = pd.read_csv('data/transactions_train.csv', dtype={'article_id': str})  # Make sure article_id is being loading in as a string\n",
    "print(transactions_train_df.shape)\n",
    "transactions_train_df.head()"
   ]
  },
  {
   "cell_type": "code",
   "execution_count": 5,
   "id": "ed6ffa06",
   "metadata": {},
   "outputs": [],
   "source": [
    "transactions_train_df['t_dat'] = pd.to_datetime(transactions_train_df['t_dat'])"
   ]
  },
  {
   "cell_type": "code",
   "execution_count": 6,
   "id": "b47db86e",
   "metadata": {},
   "outputs": [],
   "source": [
    "transactions_train_df.sort_values(['customer_id', 't_dat'], inplace=True)"
   ]
  },
  {
   "cell_type": "code",
   "execution_count": 7,
   "id": "5fa2467e",
   "metadata": {},
   "outputs": [],
   "source": [
    "transactions_train_df['article_id_idx'] = transactions_train_df['article_id'].map(ARTICLE_ID_TO_IDX)"
   ]
  },
  {
   "cell_type": "code",
   "execution_count": 8,
   "id": "47696a9f",
   "metadata": {},
   "outputs": [
    {
     "data": {
      "text/html": [
       "<div>\n",
       "<style scoped>\n",
       "    .dataframe tbody tr th:only-of-type {\n",
       "        vertical-align: middle;\n",
       "    }\n",
       "\n",
       "    .dataframe tbody tr th {\n",
       "        vertical-align: top;\n",
       "    }\n",
       "\n",
       "    .dataframe thead th {\n",
       "        text-align: right;\n",
       "    }\n",
       "</style>\n",
       "<table border=\"1\" class=\"dataframe\">\n",
       "  <thead>\n",
       "    <tr style=\"text-align: right;\">\n",
       "      <th></th>\n",
       "      <th>t_dat</th>\n",
       "      <th>customer_id</th>\n",
       "      <th>article_id</th>\n",
       "      <th>price</th>\n",
       "      <th>sales_channel_id</th>\n",
       "      <th>article_id_idx</th>\n",
       "    </tr>\n",
       "  </thead>\n",
       "  <tbody>\n",
       "    <tr>\n",
       "      <th>4212358</th>\n",
       "      <td>2018-12-27</td>\n",
       "      <td>00000dbacae5abe5e23885899a1fa44253a17956c6d1c3...</td>\n",
       "      <td>0625548001</td>\n",
       "      <td>0.044051</td>\n",
       "      <td>1</td>\n",
       "      <td>29518</td>\n",
       "    </tr>\n",
       "    <tr>\n",
       "      <th>4212359</th>\n",
       "      <td>2018-12-27</td>\n",
       "      <td>00000dbacae5abe5e23885899a1fa44253a17956c6d1c3...</td>\n",
       "      <td>0176209023</td>\n",
       "      <td>0.035576</td>\n",
       "      <td>1</td>\n",
       "      <td>101</td>\n",
       "    </tr>\n",
       "    <tr>\n",
       "      <th>4212360</th>\n",
       "      <td>2018-12-27</td>\n",
       "      <td>00000dbacae5abe5e23885899a1fa44253a17956c6d1c3...</td>\n",
       "      <td>0627759010</td>\n",
       "      <td>0.030492</td>\n",
       "      <td>1</td>\n",
       "      <td>30329</td>\n",
       "    </tr>\n",
       "    <tr>\n",
       "      <th>9663224</th>\n",
       "      <td>2019-05-02</td>\n",
       "      <td>00000dbacae5abe5e23885899a1fa44253a17956c6d1c3...</td>\n",
       "      <td>0697138006</td>\n",
       "      <td>0.010153</td>\n",
       "      <td>2</td>\n",
       "      <td>50726</td>\n",
       "    </tr>\n",
       "    <tr>\n",
       "      <th>10754876</th>\n",
       "      <td>2019-05-25</td>\n",
       "      <td>00000dbacae5abe5e23885899a1fa44253a17956c6d1c3...</td>\n",
       "      <td>0568601006</td>\n",
       "      <td>0.050831</td>\n",
       "      <td>2</td>\n",
       "      <td>16005</td>\n",
       "    </tr>\n",
       "  </tbody>\n",
       "</table>\n",
       "</div>"
      ],
      "text/plain": [
       "              t_dat                                        customer_id  \\\n",
       "4212358  2018-12-27  00000dbacae5abe5e23885899a1fa44253a17956c6d1c3...   \n",
       "4212359  2018-12-27  00000dbacae5abe5e23885899a1fa44253a17956c6d1c3...   \n",
       "4212360  2018-12-27  00000dbacae5abe5e23885899a1fa44253a17956c6d1c3...   \n",
       "9663224  2019-05-02  00000dbacae5abe5e23885899a1fa44253a17956c6d1c3...   \n",
       "10754876 2019-05-25  00000dbacae5abe5e23885899a1fa44253a17956c6d1c3...   \n",
       "\n",
       "          article_id     price  sales_channel_id  article_id_idx  \n",
       "4212358   0625548001  0.044051                 1           29518  \n",
       "4212359   0176209023  0.035576                 1             101  \n",
       "4212360   0627759010  0.030492                 1           30329  \n",
       "9663224   0697138006  0.010153                 2           50726  \n",
       "10754876  0568601006  0.050831                 2           16005  "
      ]
     },
     "execution_count": 8,
     "metadata": {},
     "output_type": "execute_result"
    }
   ],
   "source": [
    "transactions_train_df.head()"
   ]
  },
  {
   "cell_type": "markdown",
   "id": "3e4cadf3",
   "metadata": {},
   "source": [
    "\\#__cv1__\n",
    "\n",
    "_train_: start to t-1\n",
    "\n",
    "_eval_: t-1 to end\n",
    "\n",
    "\\#__cv2__\n",
    "\n",
    "_train_: start to t-2\n",
    "\n",
    "_eval_: t-2 to t-1\n",
    "\n",
    "\n",
    "\\#__cv3__\n",
    "\n",
    "_train_: start to t-3\n",
    "\n",
    "_eval_: t-3 to t-2\n",
    "\n",
    "\\#__submission__\n",
    "\n",
    "_train_: start to end\n",
    "\n",
    "_eval_: submission customers"
   ]
  },
  {
   "cell_type": "code",
   "execution_count": 10,
   "id": "200d207f",
   "metadata": {},
   "outputs": [
    {
     "data": {
      "text/plain": [
       "(Timestamp('2020-09-22 00:00:00'),\n",
       " Timestamp('2020-09-15 00:00:00'),\n",
       " Timestamp('2020-09-08 00:00:00'),\n",
       " Timestamp('2020-09-01 00:00:00'),\n",
       " Timestamp('2018-09-20 00:00:00'))"
      ]
     },
     "execution_count": 10,
     "metadata": {},
     "output_type": "execute_result"
    }
   ],
   "source": [
    "start = transactions_train_df['t_dat'].min()\n",
    "end = transactions_train_df['t_dat'].max()\n",
    "tm1 = end - datetime.timedelta(days=7)\n",
    "tm2 = tm1 - datetime.timedelta(days=7)\n",
    "tm3 = tm2 - datetime.timedelta(days=7)\n",
    "\n",
    "end, tm1, tm2, tm3, start"
   ]
  },
  {
   "cell_type": "code",
   "execution_count": 12,
   "id": "2f5d1d13",
   "metadata": {},
   "outputs": [],
   "source": [
    "cv1_train = transactions_train_df.copy()[transactions_train_df['t_dat'].between(start, tm1, inclusive='left')]\n",
    "\n",
    "cv1_eval = transactions_train_df.copy()[transactions_train_df['t_dat'].between(tm1, end, inclusive='both')]"
   ]
  },
  {
   "cell_type": "code",
   "execution_count": 14,
   "id": "58397c4b",
   "metadata": {},
   "outputs": [
    {
     "name": "stdout",
     "output_type": "stream",
     "text": [
      "Train no history customers prop: 0.0070691172939952515\n",
      "Dev no history customers prop: 0.007062733693394266\n"
     ]
    }
   ],
   "source": [
    "prepare_splits(train_df=cv1_train, dev_df=cv1_eval, name='cv1')"
   ]
  },
  {
   "cell_type": "code",
   "execution_count": 15,
   "id": "e181b4cf",
   "metadata": {},
   "outputs": [],
   "source": [
    "del cv1_train, cv1_eval"
   ]
  },
  {
   "cell_type": "code",
   "execution_count": 16,
   "id": "97380bf6",
   "metadata": {},
   "outputs": [
    {
     "name": "stdout",
     "output_type": "stream",
     "text": [
      "Train no history customers prop: 0.007069340535889285\n",
      "Dev no history customers prop: 0.007055429395718182\n"
     ]
    }
   ],
   "source": [
    "cv2_train = transactions_train_df.copy()[transactions_train_df['t_dat'].between(start, tm2, inclusive='left')]\n",
    "\n",
    "cv2_eval = transactions_train_df.copy()[transactions_train_df['t_dat'].between(tm2, tm1, inclusive='both')]\n",
    "\n",
    "prepare_splits(train_df=cv2_train, dev_df=cv2_eval, name='cv2')"
   ]
  },
  {
   "cell_type": "code",
   "execution_count": 17,
   "id": "985da62c",
   "metadata": {},
   "outputs": [],
   "source": [
    "del cv2_train, cv2_eval"
   ]
  },
  {
   "cell_type": "code",
   "execution_count": 18,
   "id": "01601b71",
   "metadata": {},
   "outputs": [
    {
     "name": "stdout",
     "output_type": "stream",
     "text": [
      "Train no history customers prop: 0.00706852995524994\n",
      "Dev no history customers prop: 0.007058568506049234\n"
     ]
    }
   ],
   "source": [
    "cv3_train = transactions_train_df.copy()[transactions_train_df['t_dat'].between(start, tm3, inclusive='left')]\n",
    "\n",
    "cv3_eval = transactions_train_df.copy()[transactions_train_df['t_dat'].between(tm3, tm2, inclusive='both')]\n",
    "\n",
    "prepare_splits(train_df=cv3_train, dev_df=cv3_eval, name='cv3')"
   ]
  },
  {
   "cell_type": "code",
   "execution_count": 19,
   "id": "9cfb4c4e",
   "metadata": {},
   "outputs": [],
   "source": [
    "del cv3_train, cv3_eval"
   ]
  },
  {
   "cell_type": "markdown",
   "id": "6a9976e1",
   "metadata": {},
   "source": [
    "### Submission data"
   ]
  },
  {
   "cell_type": "markdown",
   "id": "5707b10e",
   "metadata": {},
   "source": [
    "#### Train"
   ]
  },
  {
   "cell_type": "code",
   "execution_count": 9,
   "id": "a81fc2f9",
   "metadata": {},
   "outputs": [
    {
     "name": "stdout",
     "output_type": "stream",
     "text": [
      "Train no history customers prop: 0.007068431214131552\n",
      "No dev data, ending\n"
     ]
    }
   ],
   "source": [
    "prepare_splits(train_df=transactions_train_df, dev_df=None, name='for_submission')"
   ]
  },
  {
   "cell_type": "code",
   "execution_count": null,
   "id": "10147f4e",
   "metadata": {},
   "outputs": [],
   "source": [
    "'data/splits/train_single_purchase_label_cv1.tsv'\n",
    "'data/splits/dev_all_purchase_label_cv1.tsv'\n",
    "'data/splits/dev_single_purchase_label_cv1.tsv'"
   ]
  },
  {
   "cell_type": "code",
   "execution_count": 31,
   "id": "fbda4fea",
   "metadata": {},
   "outputs": [
    {
     "name": "stdout",
     "output_type": "stream",
     "text": [
      "(1054548, 3)\n"
     ]
    },
    {
     "data": {
      "text/html": [
       "<div>\n",
       "<style scoped>\n",
       "    .dataframe tbody tr th:only-of-type {\n",
       "        vertical-align: middle;\n",
       "    }\n",
       "\n",
       "    .dataframe tbody tr th {\n",
       "        vertical-align: top;\n",
       "    }\n",
       "\n",
       "    .dataframe thead th {\n",
       "        text-align: right;\n",
       "    }\n",
       "</style>\n",
       "<table border=\"1\" class=\"dataframe\">\n",
       "  <thead>\n",
       "    <tr style=\"text-align: right;\">\n",
       "      <th></th>\n",
       "      <th>customer_id</th>\n",
       "      <th>article_id_idx_label</th>\n",
       "      <th>article_id_idx_historical</th>\n",
       "    </tr>\n",
       "  </thead>\n",
       "  <tbody>\n",
       "    <tr>\n",
       "      <th>0</th>\n",
       "      <td>460d77739e77188377bee03ff0588e826b4ce7f151e50f...</td>\n",
       "      <td>74105</td>\n",
       "      <td>25865,28076,67151,43972,76154,70223,69226,7949...</td>\n",
       "    </tr>\n",
       "    <tr>\n",
       "      <th>1</th>\n",
       "      <td>dc5630be6cd7f6aa04a197d2162a12c8116db93333cf31...</td>\n",
       "      <td>48943</td>\n",
       "      <td>61007,48943</td>\n",
       "    </tr>\n",
       "    <tr>\n",
       "      <th>2</th>\n",
       "      <td>669f44d134feefdbb2345e47f1499f964bce762d0c69f3...</td>\n",
       "      <td>67912</td>\n",
       "      <td>81898</td>\n",
       "    </tr>\n",
       "    <tr>\n",
       "      <th>3</th>\n",
       "      <td>7bf52bb2bea24c2b3922073dfdeba90f31666385628d5d...</td>\n",
       "      <td>58493</td>\n",
       "      <td>44488,66580,66580,57052,57052,67705,67705,6522...</td>\n",
       "    </tr>\n",
       "    <tr>\n",
       "      <th>4</th>\n",
       "      <td>7b05e7568e8bf83b82fe6db98a03ed5746cb5f0b7de186...</td>\n",
       "      <td>85671</td>\n",
       "      <td>44040,31031</td>\n",
       "    </tr>\n",
       "  </tbody>\n",
       "</table>\n",
       "</div>"
      ],
      "text/plain": [
       "                                         customer_id  article_id_idx_label  \\\n",
       "0  460d77739e77188377bee03ff0588e826b4ce7f151e50f...                 74105   \n",
       "1  dc5630be6cd7f6aa04a197d2162a12c8116db93333cf31...                 48943   \n",
       "2  669f44d134feefdbb2345e47f1499f964bce762d0c69f3...                 67912   \n",
       "3  7bf52bb2bea24c2b3922073dfdeba90f31666385628d5d...                 58493   \n",
       "4  7b05e7568e8bf83b82fe6db98a03ed5746cb5f0b7de186...                 85671   \n",
       "\n",
       "                           article_id_idx_historical  \n",
       "0  25865,28076,67151,43972,76154,70223,69226,7949...  \n",
       "1                                        61007,48943  \n",
       "2                                              81898  \n",
       "3  44488,66580,66580,57052,57052,67705,67705,6522...  \n",
       "4                                        44040,31031  "
      ]
     },
     "execution_count": 31,
     "metadata": {},
     "output_type": "execute_result"
    }
   ],
   "source": [
    "df = pd.read_csv('data/splits/train_single_purchase_label_for_submission.tsv', sep='\\t')\n",
    "print(df.shape)\n",
    "df.head()"
   ]
  },
  {
   "cell_type": "markdown",
   "id": "1976e9b7",
   "metadata": {},
   "source": [
    "#### Prepare submission data"
   ]
  },
  {
   "cell_type": "code",
   "execution_count": 58,
   "id": "f41988cc",
   "metadata": {},
   "outputs": [
    {
     "name": "stdout",
     "output_type": "stream",
     "text": [
      "(1371980, 1)\n"
     ]
    },
    {
     "data": {
      "text/html": [
       "<div>\n",
       "<style scoped>\n",
       "    .dataframe tbody tr th:only-of-type {\n",
       "        vertical-align: middle;\n",
       "    }\n",
       "\n",
       "    .dataframe tbody tr th {\n",
       "        vertical-align: top;\n",
       "    }\n",
       "\n",
       "    .dataframe thead th {\n",
       "        text-align: right;\n",
       "    }\n",
       "</style>\n",
       "<table border=\"1\" class=\"dataframe\">\n",
       "  <thead>\n",
       "    <tr style=\"text-align: right;\">\n",
       "      <th></th>\n",
       "      <th>customer_id</th>\n",
       "    </tr>\n",
       "  </thead>\n",
       "  <tbody>\n",
       "    <tr>\n",
       "      <th>0</th>\n",
       "      <td>00000dbacae5abe5e23885899a1fa44253a17956c6d1c3...</td>\n",
       "    </tr>\n",
       "    <tr>\n",
       "      <th>1</th>\n",
       "      <td>0000423b00ade91418cceaf3b26c6af3dd342b51fd051e...</td>\n",
       "    </tr>\n",
       "    <tr>\n",
       "      <th>2</th>\n",
       "      <td>000058a12d5b43e67d225668fa1f8d618c13dc232df0ca...</td>\n",
       "    </tr>\n",
       "    <tr>\n",
       "      <th>3</th>\n",
       "      <td>00005ca1c9ed5f5146b52ac8639a40ca9d57aeff4d1bd2...</td>\n",
       "    </tr>\n",
       "    <tr>\n",
       "      <th>4</th>\n",
       "      <td>00006413d8573cd20ed7128e53b7b13819fe5cfc2d801f...</td>\n",
       "    </tr>\n",
       "  </tbody>\n",
       "</table>\n",
       "</div>"
      ],
      "text/plain": [
       "                                         customer_id\n",
       "0  00000dbacae5abe5e23885899a1fa44253a17956c6d1c3...\n",
       "1  0000423b00ade91418cceaf3b26c6af3dd342b51fd051e...\n",
       "2  000058a12d5b43e67d225668fa1f8d618c13dc232df0ca...\n",
       "3  00005ca1c9ed5f5146b52ac8639a40ca9d57aeff4d1bd2...\n",
       "4  00006413d8573cd20ed7128e53b7b13819fe5cfc2d801f..."
      ]
     },
     "execution_count": 58,
     "metadata": {},
     "output_type": "execute_result"
    }
   ],
   "source": [
    "submission_customers = pd.read_csv('data/sample_submission.csv', usecols=['customer_id'])\n",
    "print(submission_customers.shape)\n",
    "submission_customers.head()"
   ]
  },
  {
   "cell_type": "code",
   "execution_count": 68,
   "id": "e3f77eaa",
   "metadata": {},
   "outputs": [
    {
     "data": {
      "text/html": [
       "<div>\n",
       "<style scoped>\n",
       "    .dataframe tbody tr th:only-of-type {\n",
       "        vertical-align: middle;\n",
       "    }\n",
       "\n",
       "    .dataframe tbody tr th {\n",
       "        vertical-align: top;\n",
       "    }\n",
       "\n",
       "    .dataframe thead th {\n",
       "        text-align: right;\n",
       "    }\n",
       "</style>\n",
       "<table border=\"1\" class=\"dataframe\">\n",
       "  <thead>\n",
       "    <tr style=\"text-align: right;\">\n",
       "      <th></th>\n",
       "      <th>t_dat</th>\n",
       "      <th>customer_id</th>\n",
       "      <th>article_id</th>\n",
       "      <th>price</th>\n",
       "      <th>sales_channel_id</th>\n",
       "      <th>article_id_idx</th>\n",
       "    </tr>\n",
       "  </thead>\n",
       "  <tbody>\n",
       "    <tr>\n",
       "      <th>0</th>\n",
       "      <td>2018-09-20</td>\n",
       "      <td>000058a12d5b43e67d225668fa1f8d618c13dc232df0ca...</td>\n",
       "      <td>0663713001</td>\n",
       "      <td>0.050831</td>\n",
       "      <td>2</td>\n",
       "      <td>40181</td>\n",
       "    </tr>\n",
       "    <tr>\n",
       "      <th>1</th>\n",
       "      <td>2018-09-20</td>\n",
       "      <td>000058a12d5b43e67d225668fa1f8d618c13dc232df0ca...</td>\n",
       "      <td>0541518023</td>\n",
       "      <td>0.030492</td>\n",
       "      <td>2</td>\n",
       "      <td>10522</td>\n",
       "    </tr>\n",
       "    <tr>\n",
       "      <th>2</th>\n",
       "      <td>2018-09-20</td>\n",
       "      <td>00007d2de826758b65a93dd24ce629ed66842531df6699...</td>\n",
       "      <td>0505221004</td>\n",
       "      <td>0.015237</td>\n",
       "      <td>2</td>\n",
       "      <td>6389</td>\n",
       "    </tr>\n",
       "    <tr>\n",
       "      <th>3</th>\n",
       "      <td>2018-09-20</td>\n",
       "      <td>00007d2de826758b65a93dd24ce629ed66842531df6699...</td>\n",
       "      <td>0685687003</td>\n",
       "      <td>0.016932</td>\n",
       "      <td>2</td>\n",
       "      <td>46306</td>\n",
       "    </tr>\n",
       "    <tr>\n",
       "      <th>4</th>\n",
       "      <td>2018-09-20</td>\n",
       "      <td>00007d2de826758b65a93dd24ce629ed66842531df6699...</td>\n",
       "      <td>0685687004</td>\n",
       "      <td>0.016932</td>\n",
       "      <td>2</td>\n",
       "      <td>46307</td>\n",
       "    </tr>\n",
       "  </tbody>\n",
       "</table>\n",
       "</div>"
      ],
      "text/plain": [
       "        t_dat                                        customer_id  article_id  \\\n",
       "0  2018-09-20  000058a12d5b43e67d225668fa1f8d618c13dc232df0ca...  0663713001   \n",
       "1  2018-09-20  000058a12d5b43e67d225668fa1f8d618c13dc232df0ca...  0541518023   \n",
       "2  2018-09-20  00007d2de826758b65a93dd24ce629ed66842531df6699...  0505221004   \n",
       "3  2018-09-20  00007d2de826758b65a93dd24ce629ed66842531df6699...  0685687003   \n",
       "4  2018-09-20  00007d2de826758b65a93dd24ce629ed66842531df6699...  0685687004   \n",
       "\n",
       "      price  sales_channel_id  article_id_idx  \n",
       "0  0.050831                 2           40181  \n",
       "1  0.030492                 2           10522  \n",
       "2  0.015237                 2            6389  \n",
       "3  0.016932                 2           46306  \n",
       "4  0.016932                 2           46307  "
      ]
     },
     "execution_count": 68,
     "metadata": {},
     "output_type": "execute_result"
    }
   ],
   "source": [
    "all_historical_transactions = pd.read_csv('data/transactions_train.csv', dtype={'article_id': str})\n",
    "all_historical_transactions['article_id_idx'] = all_historical_transactions['article_id'].map(article_id_to_idx)\n",
    "all_historical_transactions.head()"
   ]
  },
  {
   "cell_type": "code",
   "execution_count": 69,
   "id": "cd4f278c",
   "metadata": {},
   "outputs": [],
   "source": [
    "all_historical_transactions.sort_values(['customer_id', 't_dat'], inplace=True)"
   ]
  },
  {
   "cell_type": "code",
   "execution_count": 70,
   "id": "09539dfe",
   "metadata": {},
   "outputs": [],
   "source": [
    "all_historical_transactions['article_id_idx'] = all_historical_transactions['article_id_idx'].astype(str)"
   ]
  },
  {
   "cell_type": "code",
   "execution_count": 71,
   "id": "9a5d115d",
   "metadata": {},
   "outputs": [
    {
     "data": {
      "text/html": [
       "<div>\n",
       "<style scoped>\n",
       "    .dataframe tbody tr th:only-of-type {\n",
       "        vertical-align: middle;\n",
       "    }\n",
       "\n",
       "    .dataframe tbody tr th {\n",
       "        vertical-align: top;\n",
       "    }\n",
       "\n",
       "    .dataframe thead th {\n",
       "        text-align: right;\n",
       "    }\n",
       "</style>\n",
       "<table border=\"1\" class=\"dataframe\">\n",
       "  <thead>\n",
       "    <tr style=\"text-align: right;\">\n",
       "      <th></th>\n",
       "      <th>customer_id</th>\n",
       "      <th>article_id_idx</th>\n",
       "    </tr>\n",
       "  </thead>\n",
       "  <tbody>\n",
       "    <tr>\n",
       "      <th>0</th>\n",
       "      <td>00000dbacae5abe5e23885899a1fa44253a17956c6d1c3...</td>\n",
       "      <td>29518,101,30329,50726,16005,16005,23998,65669,...</td>\n",
       "    </tr>\n",
       "    <tr>\n",
       "      <th>1</th>\n",
       "      <td>0000423b00ade91418cceaf3b26c6af3dd342b51fd051e...</td>\n",
       "      <td>19335,33750,33993,8218,41026,19335,42628,41026...</td>\n",
       "    </tr>\n",
       "    <tr>\n",
       "      <th>2</th>\n",
       "      <td>000058a12d5b43e67d225668fa1f8d618c13dc232df0ca...</td>\n",
       "      <td>40181,10522,40181,18199,59460,1471,1471,60255,...</td>\n",
       "    </tr>\n",
       "    <tr>\n",
       "      <th>3</th>\n",
       "      <td>00005ca1c9ed5f5146b52ac8639a40ca9d57aeff4d1bd2...</td>\n",
       "      <td>64527,61177</td>\n",
       "    </tr>\n",
       "    <tr>\n",
       "      <th>4</th>\n",
       "      <td>00006413d8573cd20ed7128e53b7b13819fe5cfc2d801f...</td>\n",
       "      <td>32249,43444,51126,54463,2183,2183,20519,87478,...</td>\n",
       "    </tr>\n",
       "  </tbody>\n",
       "</table>\n",
       "</div>"
      ],
      "text/plain": [
       "                                         customer_id  \\\n",
       "0  00000dbacae5abe5e23885899a1fa44253a17956c6d1c3...   \n",
       "1  0000423b00ade91418cceaf3b26c6af3dd342b51fd051e...   \n",
       "2  000058a12d5b43e67d225668fa1f8d618c13dc232df0ca...   \n",
       "3  00005ca1c9ed5f5146b52ac8639a40ca9d57aeff4d1bd2...   \n",
       "4  00006413d8573cd20ed7128e53b7b13819fe5cfc2d801f...   \n",
       "\n",
       "                                      article_id_idx  \n",
       "0  29518,101,30329,50726,16005,16005,23998,65669,...  \n",
       "1  19335,33750,33993,8218,41026,19335,42628,41026...  \n",
       "2  40181,10522,40181,18199,59460,1471,1471,60255,...  \n",
       "3                                        64527,61177  \n",
       "4  32249,43444,51126,54463,2183,2183,20519,87478,...  "
      ]
     },
     "execution_count": 71,
     "metadata": {},
     "output_type": "execute_result"
    }
   ],
   "source": [
    "all_historical_transactions_by_cust = (\n",
    "    all_historical_transactions[['customer_id', 'article_id_idx']]\n",
    "    .groupby('customer_id')\n",
    "    .agg({\n",
    "        'article_id_idx': ','.join\n",
    "    })\n",
    "    .reset_index()\n",
    ")\n",
    "\n",
    "all_historical_transactions_by_cust.head()"
   ]
  },
  {
   "cell_type": "code",
   "execution_count": 72,
   "id": "6601103a",
   "metadata": {},
   "outputs": [
    {
     "data": {
      "text/plain": [
       "(1362281, 2)"
      ]
     },
     "execution_count": 72,
     "metadata": {},
     "output_type": "execute_result"
    }
   ],
   "source": [
    "all_historical_transactions_by_cust.shape"
   ]
  },
  {
   "cell_type": "code",
   "execution_count": 94,
   "id": "9b314009",
   "metadata": {},
   "outputs": [],
   "source": [
    "submission_inputs = submission_customers.merge(all_historical_transactions_by_cust, on='customer_id', how='left', indicator=True)"
   ]
  },
  {
   "cell_type": "code",
   "execution_count": 95,
   "id": "efb846e0",
   "metadata": {},
   "outputs": [
    {
     "data": {
      "text/plain": [
       "both          0.992931\n",
       "left_only     0.007069\n",
       "right_only    0.000000\n",
       "Name: _merge, dtype: float64"
      ]
     },
     "execution_count": 95,
     "metadata": {},
     "output_type": "execute_result"
    }
   ],
   "source": [
    "submission_inputs['_merge'].value_counts() / submission_inputs.shape[0]"
   ]
  },
  {
   "cell_type": "code",
   "execution_count": 96,
   "id": "223bbc1f",
   "metadata": {},
   "outputs": [
    {
     "data": {
      "text/html": [
       "<div>\n",
       "<style scoped>\n",
       "    .dataframe tbody tr th:only-of-type {\n",
       "        vertical-align: middle;\n",
       "    }\n",
       "\n",
       "    .dataframe tbody tr th {\n",
       "        vertical-align: top;\n",
       "    }\n",
       "\n",
       "    .dataframe thead th {\n",
       "        text-align: right;\n",
       "    }\n",
       "</style>\n",
       "<table border=\"1\" class=\"dataframe\">\n",
       "  <thead>\n",
       "    <tr style=\"text-align: right;\">\n",
       "      <th></th>\n",
       "      <th>customer_id</th>\n",
       "      <th>article_id_idx</th>\n",
       "      <th>_merge</th>\n",
       "    </tr>\n",
       "  </thead>\n",
       "  <tbody>\n",
       "    <tr>\n",
       "      <th>0</th>\n",
       "      <td>00000dbacae5abe5e23885899a1fa44253a17956c6d1c3...</td>\n",
       "      <td>29518,101,30329,50726,16005,16005,23998,65669,...</td>\n",
       "      <td>both</td>\n",
       "    </tr>\n",
       "    <tr>\n",
       "      <th>1</th>\n",
       "      <td>0000423b00ade91418cceaf3b26c6af3dd342b51fd051e...</td>\n",
       "      <td>19335,33750,33993,8218,41026,19335,42628,41026...</td>\n",
       "      <td>both</td>\n",
       "    </tr>\n",
       "    <tr>\n",
       "      <th>2</th>\n",
       "      <td>000058a12d5b43e67d225668fa1f8d618c13dc232df0ca...</td>\n",
       "      <td>40181,10522,40181,18199,59460,1471,1471,60255,...</td>\n",
       "      <td>both</td>\n",
       "    </tr>\n",
       "    <tr>\n",
       "      <th>3</th>\n",
       "      <td>00005ca1c9ed5f5146b52ac8639a40ca9d57aeff4d1bd2...</td>\n",
       "      <td>64527,61177</td>\n",
       "      <td>both</td>\n",
       "    </tr>\n",
       "    <tr>\n",
       "      <th>4</th>\n",
       "      <td>00006413d8573cd20ed7128e53b7b13819fe5cfc2d801f...</td>\n",
       "      <td>32249,43444,51126,54463,2183,2183,20519,87478,...</td>\n",
       "      <td>both</td>\n",
       "    </tr>\n",
       "  </tbody>\n",
       "</table>\n",
       "</div>"
      ],
      "text/plain": [
       "                                         customer_id  \\\n",
       "0  00000dbacae5abe5e23885899a1fa44253a17956c6d1c3...   \n",
       "1  0000423b00ade91418cceaf3b26c6af3dd342b51fd051e...   \n",
       "2  000058a12d5b43e67d225668fa1f8d618c13dc232df0ca...   \n",
       "3  00005ca1c9ed5f5146b52ac8639a40ca9d57aeff4d1bd2...   \n",
       "4  00006413d8573cd20ed7128e53b7b13819fe5cfc2d801f...   \n",
       "\n",
       "                                      article_id_idx _merge  \n",
       "0  29518,101,30329,50726,16005,16005,23998,65669,...   both  \n",
       "1  19335,33750,33993,8218,41026,19335,42628,41026...   both  \n",
       "2  40181,10522,40181,18199,59460,1471,1471,60255,...   both  \n",
       "3                                        64527,61177   both  \n",
       "4  32249,43444,51126,54463,2183,2183,20519,87478,...   both  "
      ]
     },
     "execution_count": 96,
     "metadata": {},
     "output_type": "execute_result"
    }
   ],
   "source": [
    "submission_inputs.head()"
   ]
  },
  {
   "cell_type": "code",
   "execution_count": 98,
   "id": "9643af02",
   "metadata": {},
   "outputs": [],
   "source": [
    "submission_inputs['article_id_idx'].fillna(NO_HISTORY_ARTICLE_ID_IDX, inplace=True)"
   ]
  },
  {
   "cell_type": "code",
   "execution_count": 99,
   "id": "9e8a6748",
   "metadata": {},
   "outputs": [],
   "source": [
    "submission_inputs.drop('_merge', axis=1, inplace=True)"
   ]
  },
  {
   "cell_type": "code",
   "execution_count": 100,
   "id": "1b1a6fae",
   "metadata": {},
   "outputs": [],
   "source": [
    "submission_inputs.rename(columns={'article_id_idx': 'article_id_idx_historical'}, inplace=True)"
   ]
  },
  {
   "cell_type": "code",
   "execution_count": 101,
   "id": "4d59dbb8",
   "metadata": {},
   "outputs": [],
   "source": [
    "# Create dummy label so Dataset can process it\n",
    "submission_inputs['dummy_label'] = '999'"
   ]
  },
  {
   "cell_type": "code",
   "execution_count": 102,
   "id": "f5702ec0",
   "metadata": {},
   "outputs": [
    {
     "data": {
      "text/html": [
       "<div>\n",
       "<style scoped>\n",
       "    .dataframe tbody tr th:only-of-type {\n",
       "        vertical-align: middle;\n",
       "    }\n",
       "\n",
       "    .dataframe tbody tr th {\n",
       "        vertical-align: top;\n",
       "    }\n",
       "\n",
       "    .dataframe thead th {\n",
       "        text-align: right;\n",
       "    }\n",
       "</style>\n",
       "<table border=\"1\" class=\"dataframe\">\n",
       "  <thead>\n",
       "    <tr style=\"text-align: right;\">\n",
       "      <th></th>\n",
       "      <th>customer_id</th>\n",
       "      <th>dummy_label</th>\n",
       "      <th>article_id_idx_historical</th>\n",
       "    </tr>\n",
       "  </thead>\n",
       "  <tbody>\n",
       "    <tr>\n",
       "      <th>0</th>\n",
       "      <td>00000dbacae5abe5e23885899a1fa44253a17956c6d1c3...</td>\n",
       "      <td>999</td>\n",
       "      <td>29518,101,30329,50726,16005,16005,23998,65669,...</td>\n",
       "    </tr>\n",
       "    <tr>\n",
       "      <th>1</th>\n",
       "      <td>0000423b00ade91418cceaf3b26c6af3dd342b51fd051e...</td>\n",
       "      <td>999</td>\n",
       "      <td>19335,33750,33993,8218,41026,19335,42628,41026...</td>\n",
       "    </tr>\n",
       "    <tr>\n",
       "      <th>2</th>\n",
       "      <td>000058a12d5b43e67d225668fa1f8d618c13dc232df0ca...</td>\n",
       "      <td>999</td>\n",
       "      <td>40181,10522,40181,18199,59460,1471,1471,60255,...</td>\n",
       "    </tr>\n",
       "    <tr>\n",
       "      <th>3</th>\n",
       "      <td>00005ca1c9ed5f5146b52ac8639a40ca9d57aeff4d1bd2...</td>\n",
       "      <td>999</td>\n",
       "      <td>64527,61177</td>\n",
       "    </tr>\n",
       "    <tr>\n",
       "      <th>4</th>\n",
       "      <td>00006413d8573cd20ed7128e53b7b13819fe5cfc2d801f...</td>\n",
       "      <td>999</td>\n",
       "      <td>32249,43444,51126,54463,2183,2183,20519,87478,...</td>\n",
       "    </tr>\n",
       "  </tbody>\n",
       "</table>\n",
       "</div>"
      ],
      "text/plain": [
       "                                         customer_id dummy_label  \\\n",
       "0  00000dbacae5abe5e23885899a1fa44253a17956c6d1c3...         999   \n",
       "1  0000423b00ade91418cceaf3b26c6af3dd342b51fd051e...         999   \n",
       "2  000058a12d5b43e67d225668fa1f8d618c13dc232df0ca...         999   \n",
       "3  00005ca1c9ed5f5146b52ac8639a40ca9d57aeff4d1bd2...         999   \n",
       "4  00006413d8573cd20ed7128e53b7b13819fe5cfc2d801f...         999   \n",
       "\n",
       "                           article_id_idx_historical  \n",
       "0  29518,101,30329,50726,16005,16005,23998,65669,...  \n",
       "1  19335,33750,33993,8218,41026,19335,42628,41026...  \n",
       "2  40181,10522,40181,18199,59460,1471,1471,60255,...  \n",
       "3                                        64527,61177  \n",
       "4  32249,43444,51126,54463,2183,2183,20519,87478,...  "
      ]
     },
     "execution_count": 102,
     "metadata": {},
     "output_type": "execute_result"
    }
   ],
   "source": [
    "submission_inputs = submission_inputs.copy()[['customer_id', 'dummy_label', 'article_id_idx_historical']]\n",
    "submission_inputs.head()"
   ]
  },
  {
   "cell_type": "code",
   "execution_count": 103,
   "id": "b3e3b4cc",
   "metadata": {},
   "outputs": [],
   "source": [
    "submission_inputs.to_csv('data/splits/submission_inputs.tsv',sep='\\t', index=False)"
   ]
  }
 ],
 "metadata": {
  "kernelspec": {
   "display_name": "Python 3 (ipykernel)",
   "language": "python",
   "name": "python3"
  },
  "language_info": {
   "codemirror_mode": {
    "name": "ipython",
    "version": 3
   },
   "file_extension": ".py",
   "mimetype": "text/x-python",
   "name": "python",
   "nbconvert_exporter": "python",
   "pygments_lexer": "ipython3",
   "version": "3.8.12"
  }
 },
 "nbformat": 4,
 "nbformat_minor": 5
}
