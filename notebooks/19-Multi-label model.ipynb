{
 "cells": [
  {
   "cell_type": "code",
   "execution_count": 1,
   "id": "ae7dea06",
   "metadata": {
    "colab": {
     "base_uri": "https://localhost:8080/"
    },
    "executionInfo": {
     "elapsed": 3727,
     "status": "ok",
     "timestamp": 1648487107280,
     "user": {
      "displayName": "Steven George",
      "photoUrl": "https://lh3.googleusercontent.com/a/default-user=s64",
      "userId": "07709250839253394649"
     },
     "user_tz": -60
    },
    "id": "85ec4627",
    "outputId": "3391b656-5d34-4c78-a979-a8b26b61b18c"
   },
   "outputs": [],
   "source": [
    "# from google.colab import drive\n",
    "# drive.mount('/content/drive', force_remount=True)"
   ]
  },
  {
   "cell_type": "code",
   "execution_count": 7,
   "id": "4b05e8ac",
   "metadata": {
    "executionInfo": {
     "elapsed": 1302,
     "status": "ok",
     "timestamp": 1648487108570,
     "user": {
      "displayName": "Steven George",
      "photoUrl": "https://lh3.googleusercontent.com/a/default-user=s64",
      "userId": "07709250839253394649"
     },
     "user_tz": -60
    },
    "id": "2b20294c"
   },
   "outputs": [],
   "source": [
    "import os\n",
    "import time\n",
    "\n",
    "import pandas as pd\n",
    "import numpy as np\n",
    "import matplotlib.pyplot as plt\n",
    "import torch\n",
    "import torch.nn as nn\n",
    "from torch.utils.data import DataLoader, IterableDataset\n",
    "from sentence_transformers import SentenceTransformer\n",
    "from tqdm import tqdm"
   ]
  },
  {
   "cell_type": "code",
   "execution_count": 3,
   "id": "c47db1ed",
   "metadata": {
    "executionInfo": {
     "elapsed": 7,
     "status": "ok",
     "timestamp": 1648487108570,
     "user": {
      "displayName": "Steven George",
      "photoUrl": "https://lh3.googleusercontent.com/a/default-user=s64",
      "userId": "07709250839253394649"
     },
     "user_tz": -60
    },
    "id": "7440df29"
   },
   "outputs": [],
   "source": [
    "os.chdir('..')\n",
    "# os.chdir('drive/My Drive/Colab Notebooks/Github/fashion-recommendations') "
   ]
  },
  {
   "cell_type": "code",
   "execution_count": 4,
   "id": "3a2b2a3b",
   "metadata": {
    "executionInfo": {
     "elapsed": 7,
     "status": "ok",
     "timestamp": 1648487108571,
     "user": {
      "displayName": "Steven George",
      "photoUrl": "https://lh3.googleusercontent.com/a/default-user=s64",
      "userId": "07709250839253394649"
     },
     "user_tz": -60
    },
    "id": "3d8fb119"
   },
   "outputs": [],
   "source": [
    "from fashion_recommendations.metrics.average_precision import mapk"
   ]
  },
  {
   "cell_type": "code",
   "execution_count": 5,
   "id": "165cdbd0",
   "metadata": {
    "colab": {
     "base_uri": "https://localhost:8080/"
    },
    "executionInfo": {
     "elapsed": 7,
     "status": "ok",
     "timestamp": 1648487108571,
     "user": {
      "displayName": "Steven George",
      "photoUrl": "https://lh3.googleusercontent.com/a/default-user=s64",
      "userId": "07709250839253394649"
     },
     "user_tz": -60
    },
    "id": "vxs1oKftBmPc",
    "outputId": "e362c087-0187-462a-9d4e-0541e2040fa7"
   },
   "outputs": [
    {
     "name": "stdout",
     "output_type": "stream",
     "text": [
      "cpu\n"
     ]
    }
   ],
   "source": [
    "device = torch.device(\"cuda:0\" if torch.cuda.is_available() else \"cpu\")\n",
    "print(device)"
   ]
  },
  {
   "cell_type": "code",
   "execution_count": 8,
   "id": "dedf9b03",
   "metadata": {},
   "outputs": [],
   "source": [
    "class RecommendationDatasetMultiLabel(IterableDataset):\n",
    "\n",
    "    def __init__(self, dataset_filepath, article_emb_bag, total_articles):\n",
    "        \n",
    "        self.dataset_itr = open(dataset_filepath, 'r')\n",
    "        next(self.dataset_itr)  # skip header\n",
    "        \n",
    "        self.article_emb_bag = article_emb_bag\n",
    "        \n",
    "        self.total_articles = total_articles\n",
    "    \n",
    "    def process_label(self, label_str: str):\n",
    "        \n",
    "        labels = torch.tensor([int(v) for v in label_str.split(',')])\n",
    "        \n",
    "        target = torch.zeros(self.total_articles).scatter_(0, labels, 1.)\n",
    "\n",
    "        return target\n",
    "    \n",
    "    def mean_historical_purchases_embedding(self, input_str: str):\n",
    "        \n",
    "        indices = torch.tensor([int(v) for v in input_str.split(',')])\n",
    "\n",
    "        mean_emb = self.article_emb_bag(indices.unsqueeze(0)).flatten()\n",
    "            \n",
    "        return mean_emb\n",
    "    \n",
    "    def process_numeric_features(self, fn: str, active: str, age: str):\n",
    "        numeric_features_tensor = torch.tensor([\n",
    "            float(fn),\n",
    "            float(active),\n",
    "            float(age)\n",
    "        ])\n",
    "\n",
    "        return numeric_features_tensor\n",
    "    \n",
    "    def parse_itr(self, dataset_itr):\n",
    "        \n",
    "        for line in dataset_itr:\n",
    "        \n",
    "            line_items = line.rstrip('\\n').split('\\t')\n",
    "            \n",
    "            customer_id_idx, article_id_idx_last10, article_id_idx_label, fn, active, age = line_items\n",
    "            \n",
    "            customer_id_idx = int(customer_id_idx)\n",
    "            \n",
    "            numeric_features_tensor = self.process_numeric_features(fn, active, age)\n",
    "            \n",
    "            mean_emb = self.mean_historical_purchases_embedding(article_id_idx_last10)\n",
    "\n",
    "            label = self.process_label(article_id_idx_label)    \n",
    "            \n",
    "            inputs = torch.concat((mean_emb, numeric_features_tensor))\n",
    "\n",
    "            yield customer_id_idx, inputs, label\n",
    "        \n",
    "    def get_stream(self, dataset_itr):\n",
    "        \n",
    "        return self.parse_itr(dataset_itr)\n",
    "\n",
    "    def __iter__(self):\n",
    "        \n",
    "        return self.get_stream(self.dataset_itr)"
   ]
  },
  {
   "cell_type": "code",
   "execution_count": 11,
   "id": "20a959e5",
   "metadata": {},
   "outputs": [
    {
     "name": "stdout",
     "output_type": "stream",
     "text": [
      "(40538, 3)\n"
     ]
    },
    {
     "data": {
      "text/html": [
       "<div>\n",
       "<style scoped>\n",
       "    .dataframe tbody tr th:only-of-type {\n",
       "        vertical-align: middle;\n",
       "    }\n",
       "\n",
       "    .dataframe tbody tr th {\n",
       "        vertical-align: top;\n",
       "    }\n",
       "\n",
       "    .dataframe thead th {\n",
       "        text-align: right;\n",
       "    }\n",
       "</style>\n",
       "<table border=\"1\" class=\"dataframe\">\n",
       "  <thead>\n",
       "    <tr style=\"text-align: right;\">\n",
       "      <th></th>\n",
       "      <th>article_id</th>\n",
       "      <th>detail_desc</th>\n",
       "      <th>article_id_idx</th>\n",
       "    </tr>\n",
       "  </thead>\n",
       "  <tbody>\n",
       "    <tr>\n",
       "      <th>0</th>\n",
       "      <td>0108775015</td>\n",
       "      <td>Jersey top with narrow shoulder straps.</td>\n",
       "      <td>0</td>\n",
       "    </tr>\n",
       "    <tr>\n",
       "      <th>1</th>\n",
       "      <td>0108775044</td>\n",
       "      <td>Jersey top with narrow shoulder straps.</td>\n",
       "      <td>1</td>\n",
       "    </tr>\n",
       "    <tr>\n",
       "      <th>2</th>\n",
       "      <td>0110065001</td>\n",
       "      <td>Microfibre T-shirt bra with underwired, moulde...</td>\n",
       "      <td>2</td>\n",
       "    </tr>\n",
       "    <tr>\n",
       "      <th>3</th>\n",
       "      <td>0110065002</td>\n",
       "      <td>Microfibre T-shirt bra with underwired, moulde...</td>\n",
       "      <td>3</td>\n",
       "    </tr>\n",
       "    <tr>\n",
       "      <th>4</th>\n",
       "      <td>0110065011</td>\n",
       "      <td>Microfibre T-shirt bra with underwired, moulde...</td>\n",
       "      <td>4</td>\n",
       "    </tr>\n",
       "  </tbody>\n",
       "</table>\n",
       "</div>"
      ],
      "text/plain": [
       "   article_id                                        detail_desc  \\\n",
       "0  0108775015            Jersey top with narrow shoulder straps.   \n",
       "1  0108775044            Jersey top with narrow shoulder straps.   \n",
       "2  0110065001  Microfibre T-shirt bra with underwired, moulde...   \n",
       "3  0110065002  Microfibre T-shirt bra with underwired, moulde...   \n",
       "4  0110065011  Microfibre T-shirt bra with underwired, moulde...   \n",
       "\n",
       "   article_id_idx  \n",
       "0               0  \n",
       "1               1  \n",
       "2               2  \n",
       "3               3  \n",
       "4               4  "
      ]
     },
     "execution_count": 11,
     "metadata": {},
     "output_type": "execute_result"
    }
   ],
   "source": [
    "articles_df = pd.read_csv('data/articles_df_filt.csv', dtype={'article_id': str})\n",
    "print(articles_df.shape)\n",
    "articles_df.head()"
   ]
  },
  {
   "cell_type": "code",
   "execution_count": 12,
   "id": "a40e5e40",
   "metadata": {},
   "outputs": [
    {
     "name": "stdout",
     "output_type": "stream",
     "text": [
      "(43108, 5)\n"
     ]
    },
    {
     "data": {
      "text/html": [
       "<div>\n",
       "<style scoped>\n",
       "    .dataframe tbody tr th:only-of-type {\n",
       "        vertical-align: middle;\n",
       "    }\n",
       "\n",
       "    .dataframe tbody tr th {\n",
       "        vertical-align: top;\n",
       "    }\n",
       "\n",
       "    .dataframe thead th {\n",
       "        text-align: right;\n",
       "    }\n",
       "</style>\n",
       "<table border=\"1\" class=\"dataframe\">\n",
       "  <thead>\n",
       "    <tr style=\"text-align: right;\">\n",
       "      <th></th>\n",
       "      <th>customer_id</th>\n",
       "      <th>FN</th>\n",
       "      <th>Active</th>\n",
       "      <th>age</th>\n",
       "      <th>customer_id_idx</th>\n",
       "    </tr>\n",
       "  </thead>\n",
       "  <tbody>\n",
       "    <tr>\n",
       "      <th>0</th>\n",
       "      <td>000172a9c322560c849754ffbdfdb2180d408aa7176b94...</td>\n",
       "      <td>0.0</td>\n",
       "      <td>0.0</td>\n",
       "      <td>0.45</td>\n",
       "      <td>0</td>\n",
       "    </tr>\n",
       "    <tr>\n",
       "      <th>1</th>\n",
       "      <td>0001d44dbe7f6c4b35200abdb052c77a87596fe1bdcc37...</td>\n",
       "      <td>1.0</td>\n",
       "      <td>1.0</td>\n",
       "      <td>0.44</td>\n",
       "      <td>1</td>\n",
       "    </tr>\n",
       "    <tr>\n",
       "      <th>2</th>\n",
       "      <td>0001f8cef6b9702d54abf66fd89eb21014bf98567065a9...</td>\n",
       "      <td>0.0</td>\n",
       "      <td>0.0</td>\n",
       "      <td>0.21</td>\n",
       "      <td>2</td>\n",
       "    </tr>\n",
       "    <tr>\n",
       "      <th>3</th>\n",
       "      <td>0003e867a930d0d6842f923d6ba7c9b77aba33fe2a0fbf...</td>\n",
       "      <td>1.0</td>\n",
       "      <td>1.0</td>\n",
       "      <td>0.33</td>\n",
       "      <td>3</td>\n",
       "    </tr>\n",
       "    <tr>\n",
       "      <th>4</th>\n",
       "      <td>0005340aa69bb5a28d98712a36d8f669024bce137e3c82...</td>\n",
       "      <td>0.0</td>\n",
       "      <td>0.0</td>\n",
       "      <td>0.21</td>\n",
       "      <td>4</td>\n",
       "    </tr>\n",
       "  </tbody>\n",
       "</table>\n",
       "</div>"
      ],
      "text/plain": [
       "                                         customer_id   FN  Active   age  \\\n",
       "0  000172a9c322560c849754ffbdfdb2180d408aa7176b94...  0.0     0.0  0.45   \n",
       "1  0001d44dbe7f6c4b35200abdb052c77a87596fe1bdcc37...  1.0     1.0  0.44   \n",
       "2  0001f8cef6b9702d54abf66fd89eb21014bf98567065a9...  0.0     0.0  0.21   \n",
       "3  0003e867a930d0d6842f923d6ba7c9b77aba33fe2a0fbf...  1.0     1.0  0.33   \n",
       "4  0005340aa69bb5a28d98712a36d8f669024bce137e3c82...  0.0     0.0  0.21   \n",
       "\n",
       "   customer_id_idx  \n",
       "0                0  \n",
       "1                1  \n",
       "2                2  \n",
       "3                3  \n",
       "4                4  "
      ]
     },
     "execution_count": 12,
     "metadata": {},
     "output_type": "execute_result"
    }
   ],
   "source": [
    "customers = pd.read_csv('data/customers_filt.csv')\n",
    "print(customers.shape)\n",
    "customers.head()"
   ]
  },
  {
   "cell_type": "markdown",
   "id": "a3af216b",
   "metadata": {},
   "source": [
    "### Create article EmbeddingBag"
   ]
  },
  {
   "cell_type": "code",
   "execution_count": null,
   "id": "ef968e67",
   "metadata": {},
   "outputs": [],
   "source": [
    "model = SentenceTransformer('paraphrase-MiniLM-L6-v2')"
   ]
  },
  {
   "cell_type": "code",
   "execution_count": 67,
   "id": "f011db29",
   "metadata": {
    "colab": {
     "base_uri": "https://localhost:8080/"
    },
    "executionInfo": {
     "elapsed": 15,
     "status": "ok",
     "timestamp": 1651409691488,
     "user": {
      "displayName": "Steven George",
      "userId": "07709250839253394649"
     },
     "user_tz": -60
    },
    "id": "7AwKMXQ1icJK",
    "outputId": "529911b5-c236-4cef-d257-5b03a214c191"
   },
   "outputs": [
    {
     "data": {
      "text/plain": [
       "['Jersey top with narrow shoulder straps.',\n",
       " 'Jersey top with narrow shoulder straps.',\n",
       " 'Jersey top with narrow shoulder straps.',\n",
       " 'Microfibre T-shirt bra with underwired, moulded, lightly padded cups that shape the bust and provide good support. Narrow adjustable shoulder straps and a narrow hook-and-eye fastening at the back. Without visible seams for greater comfort.',\n",
       " 'Microfibre T-shirt bra with underwired, moulded, lightly padded cups that shape the bust and provide good support. Narrow adjustable shoulder straps and a narrow hook-and-eye fastening at the back. Without visible seams for greater comfort.']"
      ]
     },
     "execution_count": 67,
     "metadata": {},
     "output_type": "execute_result"
    }
   ],
   "source": [
    "article_descriptions = articles_df['detail_desc'].to_list()\n",
    "article_descriptions[:5]"
   ]
  },
  {
   "cell_type": "code",
   "execution_count": 68,
   "id": "c70c0e33",
   "metadata": {
    "executionInfo": {
     "elapsed": 47705,
     "status": "ok",
     "timestamp": 1651409739180,
     "user": {
      "displayName": "Steven George",
      "userId": "07709250839253394649"
     },
     "user_tz": -60
    },
    "id": "TvvfcljIicJK"
   },
   "outputs": [],
   "source": [
    "embeddings = model.encode(article_descriptions)"
   ]
  },
  {
   "cell_type": "code",
   "execution_count": 69,
   "id": "92d481fb",
   "metadata": {
    "executionInfo": {
     "elapsed": 19,
     "status": "ok",
     "timestamp": 1651409739181,
     "user": {
      "displayName": "Steven George",
      "userId": "07709250839253394649"
     },
     "user_tz": -60
    },
    "id": "hr0LQYFRicJL"
   },
   "outputs": [],
   "source": [
    "embeddings = torch.tensor(embeddings)"
   ]
  },
  {
   "cell_type": "code",
   "execution_count": 70,
   "id": "d5fe075e",
   "metadata": {
    "colab": {
     "base_uri": "https://localhost:8080/"
    },
    "executionInfo": {
     "elapsed": 18,
     "status": "ok",
     "timestamp": 1651409739181,
     "user": {
      "displayName": "Steven George",
      "userId": "07709250839253394649"
     },
     "user_tz": -60
    },
    "id": "_GGYgPIni3_t",
    "outputId": "2dc95c9a-536e-41c2-afee-131f5fba9380"
   },
   "outputs": [
    {
     "data": {
      "text/plain": [
       "torch.Size([105542, 384])"
      ]
     },
     "execution_count": 70,
     "metadata": {},
     "output_type": "execute_result"
    }
   ],
   "source": [
    "embeddings.shape"
   ]
  },
  {
   "cell_type": "markdown",
   "id": "2c0d163b",
   "metadata": {},
   "source": [
    "### TBD"
   ]
  },
  {
   "cell_type": "code",
   "execution_count": 14,
   "id": "fcbbbc7f",
   "metadata": {},
   "outputs": [
    {
     "data": {
      "text/plain": [
       "torch.Size([40538, 384])"
      ]
     },
     "execution_count": 14,
     "metadata": {},
     "output_type": "execute_result"
    }
   ],
   "source": [
    "embeddings = torch.randn(len(articles_df), 384)\n",
    "embeddings.shape"
   ]
  },
  {
   "cell_type": "code",
   "execution_count": 15,
   "id": "f8390eeb",
   "metadata": {},
   "outputs": [],
   "source": [
    "ARTICLE_EMBEDDING_BAG = nn.EmbeddingBag.from_pretrained(embeddings=embeddings, freeze=True)"
   ]
  },
  {
   "cell_type": "markdown",
   "id": "d3698693",
   "metadata": {},
   "source": [
    "### Model"
   ]
  },
  {
   "cell_type": "code",
   "execution_count": 39,
   "id": "e2fb88af",
   "metadata": {},
   "outputs": [],
   "source": [
    "class FashionRecV3(nn.Module):\n",
    "\n",
    "    def __init__(self, user_embedding_dim):\n",
    "        super(FashionRecV3, self).__init__()\n",
    "        \n",
    "        # Embeddings\n",
    "        self.user_embeddings = nn.Embedding(num_embeddings=len(customers), embedding_dim=user_embedding_dim)        \n",
    "        \n",
    "        # Initialise embeddings\n",
    "        torch.nn.init.xavier_uniform_(self.user_embeddings.weight)\n",
    "        \n",
    "        # FC layers\n",
    "        self.fc_1 = nn.Linear(in_features=user_embedding_dim+384+3, out_features=512)            \n",
    "        self.fc_2 = nn.Linear(in_features=512, out_features=256)\n",
    "        self.fc_3 = nn.Linear(in_features=256, out_features=len(articles_df))\n",
    "        \n",
    "        # Activation functions\n",
    "        self.relu = nn.ReLU()\n",
    "        \n",
    "        # Dropout\n",
    "        self.dropout = nn.Dropout(0.2)\n",
    "        \n",
    "    def forward(\n",
    "        self, \n",
    "        customer_id_idx, \n",
    "        inputs\n",
    "    ):\n",
    "\n",
    "        user_emb = self.user_embeddings(customer_id_idx)\n",
    "              \n",
    "        concatenated_features = torch.concat(\n",
    "            [\n",
    "                user_emb, \n",
    "                inputs\n",
    "            ], \n",
    "            dim=1\n",
    "        )\n",
    "        \n",
    "        x = self.fc_1(concatenated_features)\n",
    "        x = self.relu(x)\n",
    "        x = self.dropout(x)\n",
    "        \n",
    "        x = self.fc_2(x)\n",
    "        x = self.relu(x)\n",
    "        x = self.dropout(x)\n",
    "        \n",
    "        x = self.fc_3(x)\n",
    "\n",
    "        return x"
   ]
  },
  {
   "cell_type": "code",
   "execution_count": 55,
   "id": "4388388a",
   "metadata": {
    "executionInfo": {
     "elapsed": 560,
     "status": "ok",
     "timestamp": 1648487115168,
     "user": {
      "displayName": "Steven George",
      "photoUrl": "https://lh3.googleusercontent.com/a/default-user=s64",
      "userId": "07709250839253394649"
     },
     "user_tz": -60
    },
    "id": "25e3578a"
   },
   "outputs": [],
   "source": [
    "fashion_rec_v3 = FashionRecV3(user_embedding_dim=384)"
   ]
  },
  {
   "cell_type": "code",
   "execution_count": 56,
   "id": "b2d40fd9",
   "metadata": {
    "colab": {
     "base_uri": "https://localhost:8080/"
    },
    "executionInfo": {
     "elapsed": 2971,
     "status": "ok",
     "timestamp": 1648487118137,
     "user": {
      "displayName": "Steven George",
      "photoUrl": "https://lh3.googleusercontent.com/a/default-user=s64",
      "userId": "07709250839253394649"
     },
     "user_tz": -60
    },
    "id": "HTApNjqgB0lm",
    "outputId": "ca6fa549-3f08-4f19-ce4d-d92db139703f"
   },
   "outputs": [
    {
     "data": {
      "text/plain": [
       "FashionRecV3(\n",
       "  (user_embeddings): Embedding(43108, 384)\n",
       "  (fc_1): Linear(in_features=771, out_features=512, bias=True)\n",
       "  (fc_2): Linear(in_features=512, out_features=256, bias=True)\n",
       "  (fc_3): Linear(in_features=256, out_features=40538, bias=True)\n",
       "  (relu): ReLU()\n",
       "  (dropout): Dropout(p=0.2, inplace=False)\n",
       ")"
      ]
     },
     "execution_count": 56,
     "metadata": {},
     "output_type": "execute_result"
    }
   ],
   "source": [
    "fashion_rec_v3.to(device)"
   ]
  },
  {
   "cell_type": "code",
   "execution_count": 57,
   "id": "35cd6f11",
   "metadata": {
    "executionInfo": {
     "elapsed": 4,
     "status": "ok",
     "timestamp": 1648487109633,
     "user": {
      "displayName": "Steven George",
      "photoUrl": "https://lh3.googleusercontent.com/a/default-user=s64",
      "userId": "07709250839253394649"
     },
     "user_tz": -60
    },
    "id": "8ea03a43"
   },
   "outputs": [],
   "source": [
    "BATCH_SIZE = 512"
   ]
  },
  {
   "cell_type": "code",
   "execution_count": 58,
   "id": "b49b9cdf",
   "metadata": {
    "colab": {
     "base_uri": "https://localhost:8080/"
    },
    "executionInfo": {
     "elapsed": 3640,
     "status": "ok",
     "timestamp": 1648487113269,
     "user": {
      "displayName": "Steven George",
      "photoUrl": "https://lh3.googleusercontent.com/a/default-user=s64",
      "userId": "07709250839253394649"
     },
     "user_tz": -60
    },
    "id": "c6d1b82b",
    "outputId": "2de09ecc-7bc0-4cfb-a6bb-08c4185cf91c"
   },
   "outputs": [
    {
     "data": {
      "text/plain": [
       "85.0"
      ]
     },
     "execution_count": 58,
     "metadata": {},
     "output_type": "execute_result"
    }
   ],
   "source": [
    "total_training_examples = pd.read_csv('data/final_train_set.tsv', sep='\\t').shape[0]\n",
    "total_batches = np.ceil(total_training_examples/BATCH_SIZE)\n",
    "total_batches"
   ]
  },
  {
   "cell_type": "code",
   "execution_count": 61,
   "id": "a753e211",
   "metadata": {
    "colab": {
     "base_uri": "https://localhost:8080/"
    },
    "executionInfo": {
     "elapsed": 3640,
     "status": "ok",
     "timestamp": 1648487113269,
     "user": {
      "displayName": "Steven George",
      "photoUrl": "https://lh3.googleusercontent.com/a/default-user=s64",
      "userId": "07709250839253394649"
     },
     "user_tz": -60
    },
    "id": "c6d1b82b",
    "outputId": "2de09ecc-7bc0-4cfb-a6bb-08c4185cf91c"
   },
   "outputs": [
    {
     "data": {
      "text/plain": [
       "18.0"
      ]
     },
     "execution_count": 61,
     "metadata": {},
     "output_type": "execute_result"
    }
   ],
   "source": [
    "total_dev_examples = pd.read_csv('data/final_dev_set.tsv', sep='\\t').shape[0]\n",
    "total_dev_batches = np.ceil(total_dev_examples/BATCH_SIZE)\n",
    "total_dev_batches"
   ]
  },
  {
   "cell_type": "code",
   "execution_count": 59,
   "id": "8304890c",
   "metadata": {
    "executionInfo": {
     "elapsed": 9,
     "status": "ok",
     "timestamp": 1648487118137,
     "user": {
      "displayName": "Steven George",
      "photoUrl": "https://lh3.googleusercontent.com/a/default-user=s64",
      "userId": "07709250839253394649"
     },
     "user_tz": -60
    },
    "id": "c95e9dc1"
   },
   "outputs": [],
   "source": [
    "criterion = nn.BCEWithLogitsLoss()\n",
    "optimizer = torch.optim.Adam(params=fashion_rec_v3.parameters(), lr=0.0001)\n",
    "scheduler = torch.optim.lr_scheduler.ExponentialLR(optimizer, gamma=0.9)"
   ]
  },
  {
   "cell_type": "code",
   "execution_count": 223,
   "id": "b6715f1b",
   "metadata": {
    "colab": {
     "base_uri": "https://localhost:8080/"
    },
    "executionInfo": {
     "elapsed": 516449,
     "status": "ok",
     "timestamp": 1648487634580,
     "user": {
      "displayName": "Steven George",
      "photoUrl": "https://lh3.googleusercontent.com/a/default-user=s64",
      "userId": "07709250839253394649"
     },
     "user_tz": -60
    },
    "id": "6fb8a00f",
    "outputId": "32151221-fe6a-4e28-e32b-05bdbf136591"
   },
   "outputs": [
    {
     "name": "stderr",
     "output_type": "stream",
     "text": [
      "100%|████████████████████████████████████████████████████████████████████████████████████████████████████████████████████████████████████████| 85/85.0 [01:23<00:00,  1.02it/s]\n",
      "100%|████████████████████████████████████████████████████████████████████████████████████████████████████████████████████████████████████████| 85/85.0 [00:41<00:00,  2.03it/s]\n"
     ]
    },
    {
     "name": "stdout",
     "output_type": "stream",
     "text": [
      "Training loss: 41.54665629965726\n"
     ]
    },
    {
     "name": "stderr",
     "output_type": "stream",
     "text": [
      "100%|████████████████████████████████████████████████████████████████████████████████████████████████████████████████████████████████████████| 18/18.0 [00:08<00:00,  2.00it/s]\n"
     ]
    },
    {
     "name": "stdout",
     "output_type": "stream",
     "text": [
      "Dev loss: 196.3808398865817\n"
     ]
    },
    {
     "name": "stderr",
     "output_type": "stream",
     "text": [
      "100%|████████████████████████████████████████████████████████████████████████████████████████████████████████████████████████████████████████| 85/85.0 [01:16<00:00,  1.11it/s]\n",
      "100%|████████████████████████████████████████████████████████████████████████████████████████████████████████████████████████████████████████| 85/85.0 [00:37<00:00,  2.24it/s]\n"
     ]
    },
    {
     "name": "stdout",
     "output_type": "stream",
     "text": [
      "Training loss: 39.93602777109237\n"
     ]
    },
    {
     "name": "stderr",
     "output_type": "stream",
     "text": [
      "100%|████████████████████████████████████████████████████████████████████████████████████████████████████████████████████████████████████████| 18/18.0 [00:08<00:00,  2.08it/s]\n"
     ]
    },
    {
     "name": "stdout",
     "output_type": "stream",
     "text": [
      "Dev loss: 188.7677944250274\n"
     ]
    },
    {
     "name": "stderr",
     "output_type": "stream",
     "text": [
      "100%|████████████████████████████████████████████████████████████████████████████████████████████████████████████████████████████████████████| 85/85.0 [01:12<00:00,  1.17it/s]\n",
      "100%|████████████████████████████████████████████████████████████████████████████████████████████████████████████████████████████████████████| 85/85.0 [00:37<00:00,  2.26it/s]\n"
     ]
    },
    {
     "name": "stdout",
     "output_type": "stream",
     "text": [
      "Training loss: 38.66214220043988\n"
     ]
    },
    {
     "name": "stderr",
     "output_type": "stream",
     "text": [
      "100%|████████████████████████████████████████████████████████████████████████████████████████████████████████████████████████████████████████| 18/18.0 [00:07<00:00,  2.26it/s]"
     ]
    },
    {
     "name": "stdout",
     "output_type": "stream",
     "text": [
      "Dev loss: 182.74645021672833\n"
     ]
    },
    {
     "name": "stderr",
     "output_type": "stream",
     "text": [
      "\n"
     ]
    }
   ],
   "source": [
    "MAX_EPOCHS = 3\n",
    "\n",
    "training_losses = []\n",
    "dev_losses = []\n",
    "\n",
    "for epoch in range(MAX_EPOCHS):\n",
    "    \n",
    "    # Since we use an IterableDataset we need to reinstaniate the dataset since file end will have been reached:\n",
    "    train_dataset = RecommendationDatasetMultiLabel(dataset_filepath='data/final_train_set.tsv', article_emb_bag=ARTICLE_EMBEDDING_BAG, total_articles=len(articles_df))    \n",
    "    \n",
    "    train_loader = DataLoader(train_dataset, batch_size=BATCH_SIZE)  \n",
    "    \n",
    "    for data in tqdm(train_loader, total=total_batches):\n",
    "        \n",
    "        customer_id_idx, inputs, label = data\n",
    "        customer_id_idx, inputs, label = customer_id_idx.to(device), inputs.to(device), label.to(device)\n",
    "\n",
    "        optimizer.zero_grad()  # Set gradients to 0 otherwise will accumulate\n",
    "\n",
    "        y_pred = fashion_rec_v3(customer_id_idx, inputs)\n",
    "        \n",
    "        loss = criterion(y_pred, label)\n",
    "\n",
    "        loss.backward()    \n",
    "        \n",
    "        optimizer.step()\n",
    "        \n",
    "    scheduler.step()\n",
    "    \n",
    "    # Compute train loss:\n",
    "    \n",
    "    total_train_loss = 0\n",
    "\n",
    "    fashion_rec_v3.eval()\n",
    "    \n",
    "    train_dataset = RecommendationDatasetMultiLabel(dataset_filepath='data/final_train_set.tsv', article_emb_bag=ARTICLE_EMBEDDING_BAG, total_articles=len(articles_df))    \n",
    "    \n",
    "    train_loader = DataLoader(train_dataset, batch_size=BATCH_SIZE)  \n",
    "    \n",
    "    with torch.no_grad():\n",
    "        for data in tqdm(train_loader, total=total_batches):\n",
    "\n",
    "            customer_id_idx, inputs, label = data\n",
    "            customer_id_idx, inputs, label = customer_id_idx.to(device), inputs.to(device), label.to(device)\n",
    "\n",
    "            optimizer.zero_grad()  # Set gradients to 0 otherwise will accumulate\n",
    "\n",
    "            y_pred = fashion_rec_v3(customer_id_idx, inputs)\n",
    "\n",
    "            loss = nn.BCEWithLogitsLoss(reduction='sum')(y_pred, label)\n",
    "\n",
    "            total_train_loss += loss.item()\n",
    "\n",
    "        mean_train_loss = total_train_loss / total_training_examples\n",
    "        print(f\"Training loss: {mean_train_loss}\")\n",
    "        training_losses.append(mean_train_loss)\n",
    "        \n",
    "    # Compute dev loss:\n",
    "    \n",
    "    total_dev_loss = 0\n",
    "    \n",
    "    dev_dataset = RecommendationDatasetMultiLabel(dataset_filepath='data/final_dev_set.tsv', article_emb_bag=ARTICLE_EMBEDDING_BAG, total_articles=len(articles_df))    \n",
    "    \n",
    "    dev_loader = DataLoader(dev_dataset, batch_size=BATCH_SIZE)  \n",
    "    \n",
    "    with torch.no_grad():\n",
    "        for data in tqdm(dev_loader, total=total_dev_batches):\n",
    "\n",
    "            customer_id_idx, inputs, label = data\n",
    "            customer_id_idx, inputs, label = customer_id_idx.to(device), inputs.to(device), label.to(device)\n",
    "\n",
    "            optimizer.zero_grad()  # Set gradients to 0 otherwise will accumulate\n",
    "\n",
    "            y_pred = fashion_rec_v3(customer_id_idx, inputs)\n",
    "\n",
    "            loss = nn.BCEWithLogitsLoss(reduction='sum')(y_pred, label)\n",
    "\n",
    "            total_dev_loss += loss.item()\n",
    "\n",
    "        mean_dev_loss = total_train_loss / total_dev_examples\n",
    "        print(f\"Dev loss: {mean_dev_loss}\")\n",
    "        dev_losses.append(mean_dev_loss)\n",
    "        \n",
    "    fashion_rec_v3.train()"
   ]
  },
  {
   "cell_type": "code",
   "execution_count": 240,
   "id": "a6235617",
   "metadata": {},
   "outputs": [
    {
     "data": {
      "text/plain": [
       "[<matplotlib.lines.Line2D at 0x7fd06944ef10>]"
      ]
     },
     "execution_count": 240,
     "metadata": {},
     "output_type": "execute_result"
    },
    {
     "data": {
      "image/png": "[encoded data removed]",
      "text/plain": [
       "<Figure size 432x288 with 1 Axes>"
      ]
     },
     "metadata": {
      "needs_background": "light"
     },
     "output_type": "display_data"
    }
   ],
   "source": [
    "plt.plot(training_losses)"
   ]
  },
  {
   "cell_type": "code",
   "execution_count": 224,
   "id": "af418f4c",
   "metadata": {},
   "outputs": [
    {
     "name": "stderr",
     "output_type": "stream",
     "text": [
      "100%|████████████████████████████████████████████████████████████████████████████████████████████████████████████████████████████████████████| 85/85.0 [00:21<00:00,  4.01it/s]\n"
     ]
    }
   ],
   "source": [
    "fashion_rec_v3.eval()\n",
    "\n",
    "predictions = []\n",
    "\n",
    "dev_dataset = RecommendationDatasetMultiLabel(dataset_filepath='data/final_train_set.tsv', article_emb_bag=ARTICLE_EMBEDDING_BAG, total_articles=len(articles_df))    \n",
    "\n",
    "dev_loader = DataLoader(dev_dataset, batch_size=BATCH_SIZE)  \n",
    "\n",
    "with torch.no_grad():\n",
    "    for data in tqdm(dev_loader, total=total_batches):\n",
    "\n",
    "        customer_id_idx, inputs, label = data\n",
    "        customer_id_idx, inputs, label = customer_id_idx.to(device), inputs.to(device), label.to(device)\n",
    "\n",
    "        optimizer.zero_grad()  # Set gradients to 0 otherwise will accumulate\n",
    "\n",
    "        y_pred = fashion_rec_v3(customer_id_idx, inputs)\n",
    "        \n",
    "        predictions.append(y_pred.topk(12, dim=1).indices)"
   ]
  },
  {
   "cell_type": "code",
   "execution_count": 225,
   "id": "b7125714",
   "metadata": {},
   "outputs": [],
   "source": [
    "predictions = torch.concat(predictions)"
   ]
  },
  {
   "cell_type": "code",
   "execution_count": 226,
   "id": "6d6c0f60",
   "metadata": {},
   "outputs": [
    {
     "data": {
      "text/plain": [
       "torch.Size([43108, 12])"
      ]
     },
     "execution_count": 226,
     "metadata": {},
     "output_type": "execute_result"
    }
   ],
   "source": [
    "predictions.shape"
   ]
  },
  {
   "cell_type": "code",
   "execution_count": 227,
   "id": "4d770117",
   "metadata": {},
   "outputs": [
    {
     "data": {
      "text/plain": [
       "43108"
      ]
     },
     "execution_count": 227,
     "metadata": {},
     "output_type": "execute_result"
    }
   ],
   "source": [
    "actuals = pd.read_csv('data/final_train_set.tsv', sep='\\t')['article_id_idx_label'].apply(lambda x: [int(i) for i in x.split(',')]).tolist()\n",
    "len(actuals)"
   ]
  },
  {
   "cell_type": "code",
   "execution_count": 228,
   "id": "25c47da4",
   "metadata": {},
   "outputs": [
    {
     "data": {
      "text/plain": [
       "0.010127502723454597"
      ]
     },
     "execution_count": 228,
     "metadata": {},
     "output_type": "execute_result"
    }
   ],
   "source": [
    "mapk(actuals, predictions.tolist(), 12)"
   ]
  },
  {
   "cell_type": "code",
   "execution_count": null,
   "id": "8a2adfa8",
   "metadata": {},
   "outputs": [],
   "source": []
  },
  {
   "cell_type": "code",
   "execution_count": 229,
   "id": "8d37b9d8",
   "metadata": {},
   "outputs": [
    {
     "name": "stderr",
     "output_type": "stream",
     "text": [
      "100%|████████████████████████████████████████████████████████████████████████████████████████████████████████████████████████████████████████| 18/18.0 [00:04<00:00,  4.03it/s]\n"
     ]
    }
   ],
   "source": [
    "fashion_rec_v3.eval()\n",
    "\n",
    "predictions = []\n",
    "\n",
    "dev_dataset = RecommendationDatasetMultiLabel(dataset_filepath='data/final_dev_set.tsv', article_emb_bag=ARTICLE_EMBEDDING_BAG, total_articles=len(articles_df))    \n",
    "\n",
    "dev_loader = DataLoader(dev_dataset, batch_size=BATCH_SIZE)  \n",
    "\n",
    "with torch.no_grad():\n",
    "    for data in tqdm(dev_loader, total=total_dev_batches):\n",
    "\n",
    "        customer_id_idx, inputs, label = data\n",
    "        customer_id_idx, inputs, label = customer_id_idx.to(device), inputs.to(device), label.to(device)\n",
    "\n",
    "        y_pred = fashion_rec_v3(customer_id_idx, inputs)\n",
    "        \n",
    "        predictions.append(y_pred.topk(12, dim=1).indices)"
   ]
  },
  {
   "cell_type": "code",
   "execution_count": 230,
   "id": "dbcfbe54",
   "metadata": {},
   "outputs": [],
   "source": [
    "predictions = torch.concat(predictions)"
   ]
  },
  {
   "cell_type": "code",
   "execution_count": 231,
   "id": "f666c53e",
   "metadata": {},
   "outputs": [
    {
     "data": {
      "text/plain": [
       "torch.Size([9120, 12])"
      ]
     },
     "execution_count": 231,
     "metadata": {},
     "output_type": "execute_result"
    }
   ],
   "source": [
    "predictions.shape"
   ]
  },
  {
   "cell_type": "code",
   "execution_count": 232,
   "id": "e00415b2",
   "metadata": {},
   "outputs": [
    {
     "data": {
      "text/plain": [
       "9120"
      ]
     },
     "execution_count": 232,
     "metadata": {},
     "output_type": "execute_result"
    }
   ],
   "source": [
    "actuals = pd.read_csv('data/final_dev_set.tsv', sep='\\t')['article_id_idx_label'].apply(lambda x: [int(i) for i in x.split(',')]).tolist()\n",
    "len(actuals)"
   ]
  },
  {
   "cell_type": "code",
   "execution_count": 233,
   "id": "03dd43c0",
   "metadata": {},
   "outputs": [
    {
     "data": {
      "text/plain": [
       "0.006182140938050895"
      ]
     },
     "execution_count": 233,
     "metadata": {},
     "output_type": "execute_result"
    }
   ],
   "source": [
    "mapk(actuals, predictions.tolist(), 12)"
   ]
  },
  {
   "cell_type": "code",
   "execution_count": null,
   "id": "685571ac",
   "metadata": {},
   "outputs": [],
   "source": []
  },
  {
   "cell_type": "code",
   "execution_count": 234,
   "id": "47bb5ea8",
   "metadata": {},
   "outputs": [],
   "source": [
    "total_test_batches = np.ceil(pd.read_csv('data/final_test_set.tsv', sep='\\t').shape[0]/BATCH_SIZE)"
   ]
  },
  {
   "cell_type": "code",
   "execution_count": 235,
   "id": "83445bd2",
   "metadata": {},
   "outputs": [
    {
     "name": "stderr",
     "output_type": "stream",
     "text": [
      "100%|████████████████████████████████████████████████████████████████████████████████████████████████████████████████████████████████████████| 18/18.0 [00:04<00:00,  4.27it/s]\n"
     ]
    }
   ],
   "source": [
    "fashion_rec_v3.eval()\n",
    "\n",
    "predictions = []\n",
    "\n",
    "dev_dataset = RecommendationDatasetMultiLabel(dataset_filepath='data/final_test_set.tsv', article_emb_bag=ARTICLE_EMBEDDING_BAG, total_articles=len(articles_df))    \n",
    "\n",
    "dev_loader = DataLoader(dev_dataset, batch_size=BATCH_SIZE)  \n",
    "\n",
    "with torch.no_grad():\n",
    "    for data in tqdm(dev_loader, total=total_test_batches):\n",
    "\n",
    "        customer_id_idx, inputs, label = data\n",
    "        customer_id_idx, inputs, label = customer_id_idx.to(device), inputs.to(device), label.to(device)\n",
    "\n",
    "        y_pred = fashion_rec_v3(customer_id_idx, inputs)\n",
    "        \n",
    "        predictions.append(y_pred.topk(12, dim=1).indices)"
   ]
  },
  {
   "cell_type": "code",
   "execution_count": 236,
   "id": "ccab323e",
   "metadata": {},
   "outputs": [],
   "source": [
    "predictions = torch.concat(predictions)"
   ]
  },
  {
   "cell_type": "code",
   "execution_count": 237,
   "id": "73d5a72e",
   "metadata": {},
   "outputs": [
    {
     "data": {
      "text/plain": [
       "torch.Size([8733, 12])"
      ]
     },
     "execution_count": 237,
     "metadata": {},
     "output_type": "execute_result"
    }
   ],
   "source": [
    "predictions.shape"
   ]
  },
  {
   "cell_type": "code",
   "execution_count": 238,
   "id": "bce4fb14",
   "metadata": {},
   "outputs": [
    {
     "data": {
      "text/plain": [
       "8733"
      ]
     },
     "execution_count": 238,
     "metadata": {},
     "output_type": "execute_result"
    }
   ],
   "source": [
    "actuals = pd.read_csv('data/final_test_set.tsv', sep='\\t')['article_id_idx_label'].apply(lambda x: [int(i) for i in x.split(',')]).tolist()\n",
    "len(actuals)"
   ]
  },
  {
   "cell_type": "code",
   "execution_count": 239,
   "id": "8204424b",
   "metadata": {},
   "outputs": [
    {
     "data": {
      "text/plain": [
       "0.005902365759503163"
      ]
     },
     "execution_count": 239,
     "metadata": {},
     "output_type": "execute_result"
    }
   ],
   "source": [
    "mapk(actuals, predictions.tolist(), 12)"
   ]
  },
  {
   "cell_type": "code",
   "execution_count": null,
   "id": "a9c661d9",
   "metadata": {},
   "outputs": [],
   "source": []
  },
  {
   "cell_type": "markdown",
   "id": "e8d596eb",
   "metadata": {},
   "source": [
    "### Submission"
   ]
  },
  {
   "cell_type": "code",
   "execution_count": 197,
   "id": "6b27db6c",
   "metadata": {},
   "outputs": [
    {
     "data": {
      "text/plain": [
       "85.0"
      ]
     },
     "execution_count": 197,
     "metadata": {},
     "output_type": "execute_result"
    }
   ],
   "source": [
    "total_sub_batches = np.ceil(pd.read_csv('data/final_submission_inputs.tsv', sep='\\t').shape[0]/BATCH_SIZE)\n",
    "total_sub_batches"
   ]
  },
  {
   "cell_type": "code",
   "execution_count": 198,
   "id": "615594e2",
   "metadata": {},
   "outputs": [
    {
     "name": "stderr",
     "output_type": "stream",
     "text": [
      "100%|████████████████████████████████████████████████████████████████████████████████████████████████████████████████████████████████████████| 85/85.0 [00:21<00:00,  3.94it/s]\n"
     ]
    }
   ],
   "source": [
    "fashion_rec_v3.eval()\n",
    "\n",
    "predictions = []\n",
    "\n",
    "dev_dataset = RecommendationDatasetMultiLabel(dataset_filepath='data/final_submission_inputs.tsv', article_emb_bag=ARTICLE_EMBEDDING_BAG, total_articles=len(articles_df))    \n",
    "\n",
    "dev_loader = DataLoader(dev_dataset, batch_size=BATCH_SIZE)  \n",
    "\n",
    "with torch.no_grad():\n",
    "    for data in tqdm(dev_loader, total=total_sub_batches):\n",
    "\n",
    "        customer_id_idx, inputs, label = data\n",
    "        customer_id_idx, inputs, label = customer_id_idx.to(device), inputs.to(device), label.to(device)\n",
    "\n",
    "        y_pred = fashion_rec_v3(customer_id_idx, inputs)\n",
    "        \n",
    "        predictions.append(y_pred.topk(12, dim=1).indices)"
   ]
  },
  {
   "cell_type": "code",
   "execution_count": 199,
   "id": "94d47874",
   "metadata": {},
   "outputs": [],
   "source": [
    "predictions = torch.concat(predictions)"
   ]
  },
  {
   "cell_type": "code",
   "execution_count": 200,
   "id": "c94d53fc",
   "metadata": {},
   "outputs": [
    {
     "data": {
      "text/plain": [
       "torch.Size([43108, 12])"
      ]
     },
     "execution_count": 200,
     "metadata": {},
     "output_type": "execute_result"
    }
   ],
   "source": [
    "predictions.shape"
   ]
  },
  {
   "cell_type": "code",
   "execution_count": 201,
   "id": "a9236f3f",
   "metadata": {},
   "outputs": [
    {
     "name": "stdout",
     "output_type": "stream",
     "text": [
      "(1371980, 2)\n"
     ]
    },
    {
     "data": {
      "text/html": [
       "<div>\n",
       "<style scoped>\n",
       "    .dataframe tbody tr th:only-of-type {\n",
       "        vertical-align: middle;\n",
       "    }\n",
       "\n",
       "    .dataframe tbody tr th {\n",
       "        vertical-align: top;\n",
       "    }\n",
       "\n",
       "    .dataframe thead th {\n",
       "        text-align: right;\n",
       "    }\n",
       "</style>\n",
       "<table border=\"1\" class=\"dataframe\">\n",
       "  <thead>\n",
       "    <tr style=\"text-align: right;\">\n",
       "      <th></th>\n",
       "      <th>customer_id</th>\n",
       "      <th>prediction</th>\n",
       "    </tr>\n",
       "  </thead>\n",
       "  <tbody>\n",
       "    <tr>\n",
       "      <th>0</th>\n",
       "      <td>00000dbacae5abe5e23885899a1fa44253a17956c6d1c3...</td>\n",
       "      <td>0706016001 0706016002 0372860001 0610776002 07...</td>\n",
       "    </tr>\n",
       "    <tr>\n",
       "      <th>1</th>\n",
       "      <td>0000423b00ade91418cceaf3b26c6af3dd342b51fd051e...</td>\n",
       "      <td>0706016001 0706016002 0372860001 0610776002 07...</td>\n",
       "    </tr>\n",
       "    <tr>\n",
       "      <th>2</th>\n",
       "      <td>000058a12d5b43e67d225668fa1f8d618c13dc232df0ca...</td>\n",
       "      <td>0706016001 0706016002 0372860001 0610776002 07...</td>\n",
       "    </tr>\n",
       "    <tr>\n",
       "      <th>3</th>\n",
       "      <td>00005ca1c9ed5f5146b52ac8639a40ca9d57aeff4d1bd2...</td>\n",
       "      <td>0706016001 0706016002 0372860001 0610776002 07...</td>\n",
       "    </tr>\n",
       "    <tr>\n",
       "      <th>4</th>\n",
       "      <td>00006413d8573cd20ed7128e53b7b13819fe5cfc2d801f...</td>\n",
       "      <td>0706016001 0706016002 0372860001 0610776002 07...</td>\n",
       "    </tr>\n",
       "  </tbody>\n",
       "</table>\n",
       "</div>"
      ],
      "text/plain": [
       "                                         customer_id  \\\n",
       "0  00000dbacae5abe5e23885899a1fa44253a17956c6d1c3...   \n",
       "1  0000423b00ade91418cceaf3b26c6af3dd342b51fd051e...   \n",
       "2  000058a12d5b43e67d225668fa1f8d618c13dc232df0ca...   \n",
       "3  00005ca1c9ed5f5146b52ac8639a40ca9d57aeff4d1bd2...   \n",
       "4  00006413d8573cd20ed7128e53b7b13819fe5cfc2d801f...   \n",
       "\n",
       "                                          prediction  \n",
       "0  0706016001 0706016002 0372860001 0610776002 07...  \n",
       "1  0706016001 0706016002 0372860001 0610776002 07...  \n",
       "2  0706016001 0706016002 0372860001 0610776002 07...  \n",
       "3  0706016001 0706016002 0372860001 0610776002 07...  \n",
       "4  0706016001 0706016002 0372860001 0610776002 07...  "
      ]
     },
     "execution_count": 201,
     "metadata": {},
     "output_type": "execute_result"
    }
   ],
   "source": [
    "sample_submission = pd.read_csv('data/sample_submission.csv')\n",
    "print(sample_submission.shape)\n",
    "sample_submission.head()"
   ]
  },
  {
   "cell_type": "code",
   "execution_count": 202,
   "id": "920fea8c",
   "metadata": {},
   "outputs": [],
   "source": [
    "article_idx_to_id = dict(zip(articles_df['article_id_idx'], articles_df['article_id']))"
   ]
  },
  {
   "cell_type": "code",
   "execution_count": 203,
   "id": "d5240aba",
   "metadata": {},
   "outputs": [
    {
     "data": {
      "text/plain": [
       "['0915526001',\n",
       " '0915529003',\n",
       " '0751471001',\n",
       " '0751471043',\n",
       " '0919365008',\n",
       " '0896152002',\n",
       " '0918292001',\n",
       " '0863595006',\n",
       " '0706016001',\n",
       " '0898694001',\n",
       " '0916468001',\n",
       " '0865929003']"
      ]
     },
     "execution_count": 203,
     "metadata": {},
     "output_type": "execute_result"
    }
   ],
   "source": [
    "predictions_article_id = [[article_idx_to_id[i] for i in l] for l in predictions.tolist()]\n",
    "predictions_article_id[0]"
   ]
  },
  {
   "cell_type": "code",
   "execution_count": 204,
   "id": "f450cbb6",
   "metadata": {},
   "outputs": [
    {
     "data": {
      "text/plain": [
       "'0915526001 0915529003 0751471001 0751471043 0919365008 0896152002 0918292001 0863595006 0706016001 0898694001 0916468001 0865929003'"
      ]
     },
     "execution_count": 204,
     "metadata": {},
     "output_type": "execute_result"
    }
   ],
   "source": [
    "predictions_strings = [' '.join(l) for l in predictions_article_id]\n",
    "predictions_strings[0]"
   ]
  },
  {
   "cell_type": "code",
   "execution_count": 205,
   "id": "8d9d802f",
   "metadata": {},
   "outputs": [
    {
     "name": "stdout",
     "output_type": "stream",
     "text": [
      "(43108, 6)\n"
     ]
    },
    {
     "data": {
      "text/html": [
       "<div>\n",
       "<style scoped>\n",
       "    .dataframe tbody tr th:only-of-type {\n",
       "        vertical-align: middle;\n",
       "    }\n",
       "\n",
       "    .dataframe tbody tr th {\n",
       "        vertical-align: top;\n",
       "    }\n",
       "\n",
       "    .dataframe thead th {\n",
       "        text-align: right;\n",
       "    }\n",
       "</style>\n",
       "<table border=\"1\" class=\"dataframe\">\n",
       "  <thead>\n",
       "    <tr style=\"text-align: right;\">\n",
       "      <th></th>\n",
       "      <th>customer_id_idx</th>\n",
       "      <th>article_id_idx_last10</th>\n",
       "      <th>article_id_idx_label</th>\n",
       "      <th>FN</th>\n",
       "      <th>Active</th>\n",
       "      <th>age</th>\n",
       "    </tr>\n",
       "  </thead>\n",
       "  <tbody>\n",
       "    <tr>\n",
       "      <th>0</th>\n",
       "      <td>0</td>\n",
       "      <td>15861,7705,7705,7705</td>\n",
       "      <td>0</td>\n",
       "      <td>0.0</td>\n",
       "      <td>0.0</td>\n",
       "      <td>0.45</td>\n",
       "    </tr>\n",
       "    <tr>\n",
       "      <th>1</th>\n",
       "      <td>1</td>\n",
       "      <td>17255,26222,39644,31316,3160,38515,39642,40340...</td>\n",
       "      <td>0</td>\n",
       "      <td>1.0</td>\n",
       "      <td>1.0</td>\n",
       "      <td>0.44</td>\n",
       "    </tr>\n",
       "    <tr>\n",
       "      <th>2</th>\n",
       "      <td>2</td>\n",
       "      <td>21627,21175,23351,23816</td>\n",
       "      <td>0</td>\n",
       "      <td>0.0</td>\n",
       "      <td>0.0</td>\n",
       "      <td>0.21</td>\n",
       "    </tr>\n",
       "    <tr>\n",
       "      <th>3</th>\n",
       "      <td>3</td>\n",
       "      <td>36213,38872,37897,38110,5642,4783,34346,34346,...</td>\n",
       "      <td>0</td>\n",
       "      <td>1.0</td>\n",
       "      <td>1.0</td>\n",
       "      <td>0.33</td>\n",
       "    </tr>\n",
       "    <tr>\n",
       "      <th>4</th>\n",
       "      <td>4</td>\n",
       "      <td>21522,31083,23930,15224,21141,37733,10396,3782...</td>\n",
       "      <td>0</td>\n",
       "      <td>0.0</td>\n",
       "      <td>0.0</td>\n",
       "      <td>0.21</td>\n",
       "    </tr>\n",
       "  </tbody>\n",
       "</table>\n",
       "</div>"
      ],
      "text/plain": [
       "   customer_id_idx                              article_id_idx_last10  \\\n",
       "0                0                               15861,7705,7705,7705   \n",
       "1                1  17255,26222,39644,31316,3160,38515,39642,40340...   \n",
       "2                2                            21627,21175,23351,23816   \n",
       "3                3  36213,38872,37897,38110,5642,4783,34346,34346,...   \n",
       "4                4  21522,31083,23930,15224,21141,37733,10396,3782...   \n",
       "\n",
       "   article_id_idx_label   FN  Active   age  \n",
       "0                     0  0.0     0.0  0.45  \n",
       "1                     0  1.0     1.0  0.44  \n",
       "2                     0  0.0     0.0  0.21  \n",
       "3                     0  1.0     1.0  0.33  \n",
       "4                     0  0.0     0.0  0.21  "
      ]
     },
     "execution_count": 205,
     "metadata": {},
     "output_type": "execute_result"
    }
   ],
   "source": [
    "submission_set_filt = pd.read_csv('data/final_submission_inputs.tsv', sep='\\t')\n",
    "print(submission_set_filt.shape)\n",
    "submission_set_filt.head()"
   ]
  },
  {
   "cell_type": "code",
   "execution_count": 206,
   "id": "ce1d9e97",
   "metadata": {},
   "outputs": [
    {
     "data": {
      "text/plain": [
       "43108"
      ]
     },
     "execution_count": 206,
     "metadata": {},
     "output_type": "execute_result"
    }
   ],
   "source": [
    "len(predictions_strings)"
   ]
  },
  {
   "cell_type": "code",
   "execution_count": 207,
   "id": "0997d807",
   "metadata": {},
   "outputs": [],
   "source": [
    "customer_idx_to_id = dict(zip(customers['customer_id_idx'], customers['customer_id']))"
   ]
  },
  {
   "cell_type": "code",
   "execution_count": 208,
   "id": "afbc9373",
   "metadata": {},
   "outputs": [],
   "source": [
    "submission_set_filt['customer_id'] = submission_set_filt['customer_id_idx'].map(customer_idx_to_id)"
   ]
  },
  {
   "cell_type": "code",
   "execution_count": 209,
   "id": "1882d6ba",
   "metadata": {},
   "outputs": [],
   "source": [
    "submission_set_filt['prediction_model'] = predictions_strings"
   ]
  },
  {
   "cell_type": "code",
   "execution_count": 210,
   "id": "30c7931c",
   "metadata": {},
   "outputs": [
    {
     "data": {
      "text/plain": [
       "customer_id_idx          0\n",
       "article_id_idx_last10    0\n",
       "article_id_idx_label     0\n",
       "FN                       0\n",
       "Active                   0\n",
       "age                      0\n",
       "customer_id              0\n",
       "prediction_model         0\n",
       "dtype: int64"
      ]
     },
     "execution_count": 210,
     "metadata": {},
     "output_type": "execute_result"
    }
   ],
   "source": [
    "submission_set_filt.isnull().sum()"
   ]
  },
  {
   "cell_type": "code",
   "execution_count": 211,
   "id": "fea5bd09",
   "metadata": {},
   "outputs": [
    {
     "data": {
      "text/html": [
       "<div>\n",
       "<style scoped>\n",
       "    .dataframe tbody tr th:only-of-type {\n",
       "        vertical-align: middle;\n",
       "    }\n",
       "\n",
       "    .dataframe tbody tr th {\n",
       "        vertical-align: top;\n",
       "    }\n",
       "\n",
       "    .dataframe thead th {\n",
       "        text-align: right;\n",
       "    }\n",
       "</style>\n",
       "<table border=\"1\" class=\"dataframe\">\n",
       "  <thead>\n",
       "    <tr style=\"text-align: right;\">\n",
       "      <th></th>\n",
       "      <th>customer_id_idx</th>\n",
       "      <th>article_id_idx_last10</th>\n",
       "      <th>article_id_idx_label</th>\n",
       "      <th>FN</th>\n",
       "      <th>Active</th>\n",
       "      <th>age</th>\n",
       "      <th>customer_id</th>\n",
       "      <th>prediction_model</th>\n",
       "    </tr>\n",
       "  </thead>\n",
       "  <tbody>\n",
       "    <tr>\n",
       "      <th>0</th>\n",
       "      <td>0</td>\n",
       "      <td>15861,7705,7705,7705</td>\n",
       "      <td>0</td>\n",
       "      <td>0.0</td>\n",
       "      <td>0.0</td>\n",
       "      <td>0.45</td>\n",
       "      <td>000172a9c322560c849754ffbdfdb2180d408aa7176b94...</td>\n",
       "      <td>0915526001 0915529003 0751471001 0751471043 09...</td>\n",
       "    </tr>\n",
       "    <tr>\n",
       "      <th>1</th>\n",
       "      <td>1</td>\n",
       "      <td>17255,26222,39644,31316,3160,38515,39642,40340...</td>\n",
       "      <td>0</td>\n",
       "      <td>1.0</td>\n",
       "      <td>1.0</td>\n",
       "      <td>0.44</td>\n",
       "      <td>0001d44dbe7f6c4b35200abdb052c77a87596fe1bdcc37...</td>\n",
       "      <td>0915526001 0751471001 0915529003 0751471043 09...</td>\n",
       "    </tr>\n",
       "    <tr>\n",
       "      <th>2</th>\n",
       "      <td>2</td>\n",
       "      <td>21627,21175,23351,23816</td>\n",
       "      <td>0</td>\n",
       "      <td>0.0</td>\n",
       "      <td>0.0</td>\n",
       "      <td>0.21</td>\n",
       "      <td>0001f8cef6b9702d54abf66fd89eb21014bf98567065a9...</td>\n",
       "      <td>0915526001 0915529003 0751471001 0751471043 09...</td>\n",
       "    </tr>\n",
       "    <tr>\n",
       "      <th>3</th>\n",
       "      <td>3</td>\n",
       "      <td>36213,38872,37897,38110,5642,4783,34346,34346,...</td>\n",
       "      <td>0</td>\n",
       "      <td>1.0</td>\n",
       "      <td>1.0</td>\n",
       "      <td>0.33</td>\n",
       "      <td>0003e867a930d0d6842f923d6ba7c9b77aba33fe2a0fbf...</td>\n",
       "      <td>0915526001 0915529003 0751471001 0751471043 09...</td>\n",
       "    </tr>\n",
       "    <tr>\n",
       "      <th>4</th>\n",
       "      <td>4</td>\n",
       "      <td>21522,31083,23930,15224,21141,37733,10396,3782...</td>\n",
       "      <td>0</td>\n",
       "      <td>0.0</td>\n",
       "      <td>0.0</td>\n",
       "      <td>0.21</td>\n",
       "      <td>0005340aa69bb5a28d98712a36d8f669024bce137e3c82...</td>\n",
       "      <td>0915526001 0751471001 0751471043 0915529003 09...</td>\n",
       "    </tr>\n",
       "  </tbody>\n",
       "</table>\n",
       "</div>"
      ],
      "text/plain": [
       "   customer_id_idx                              article_id_idx_last10  \\\n",
       "0                0                               15861,7705,7705,7705   \n",
       "1                1  17255,26222,39644,31316,3160,38515,39642,40340...   \n",
       "2                2                            21627,21175,23351,23816   \n",
       "3                3  36213,38872,37897,38110,5642,4783,34346,34346,...   \n",
       "4                4  21522,31083,23930,15224,21141,37733,10396,3782...   \n",
       "\n",
       "   article_id_idx_label   FN  Active   age  \\\n",
       "0                     0  0.0     0.0  0.45   \n",
       "1                     0  1.0     1.0  0.44   \n",
       "2                     0  0.0     0.0  0.21   \n",
       "3                     0  1.0     1.0  0.33   \n",
       "4                     0  0.0     0.0  0.21   \n",
       "\n",
       "                                         customer_id  \\\n",
       "0  000172a9c322560c849754ffbdfdb2180d408aa7176b94...   \n",
       "1  0001d44dbe7f6c4b35200abdb052c77a87596fe1bdcc37...   \n",
       "2  0001f8cef6b9702d54abf66fd89eb21014bf98567065a9...   \n",
       "3  0003e867a930d0d6842f923d6ba7c9b77aba33fe2a0fbf...   \n",
       "4  0005340aa69bb5a28d98712a36d8f669024bce137e3c82...   \n",
       "\n",
       "                                    prediction_model  \n",
       "0  0915526001 0915529003 0751471001 0751471043 09...  \n",
       "1  0915526001 0751471001 0915529003 0751471043 09...  \n",
       "2  0915526001 0915529003 0751471001 0751471043 09...  \n",
       "3  0915526001 0915529003 0751471001 0751471043 09...  \n",
       "4  0915526001 0751471001 0751471043 0915529003 09...  "
      ]
     },
     "execution_count": 211,
     "metadata": {},
     "output_type": "execute_result"
    }
   ],
   "source": [
    "submission_set_filt.head()"
   ]
  },
  {
   "cell_type": "code",
   "execution_count": 212,
   "id": "037c7ed8",
   "metadata": {},
   "outputs": [
    {
     "data": {
      "text/html": [
       "<div>\n",
       "<style scoped>\n",
       "    .dataframe tbody tr th:only-of-type {\n",
       "        vertical-align: middle;\n",
       "    }\n",
       "\n",
       "    .dataframe tbody tr th {\n",
       "        vertical-align: top;\n",
       "    }\n",
       "\n",
       "    .dataframe thead th {\n",
       "        text-align: right;\n",
       "    }\n",
       "</style>\n",
       "<table border=\"1\" class=\"dataframe\">\n",
       "  <thead>\n",
       "    <tr style=\"text-align: right;\">\n",
       "      <th></th>\n",
       "      <th>customer_id</th>\n",
       "      <th>prediction</th>\n",
       "      <th>prediction_model</th>\n",
       "    </tr>\n",
       "  </thead>\n",
       "  <tbody>\n",
       "    <tr>\n",
       "      <th>0</th>\n",
       "      <td>00000dbacae5abe5e23885899a1fa44253a17956c6d1c3...</td>\n",
       "      <td>0706016001 0706016002 0372860001 0610776002 07...</td>\n",
       "      <td>NaN</td>\n",
       "    </tr>\n",
       "    <tr>\n",
       "      <th>1</th>\n",
       "      <td>0000423b00ade91418cceaf3b26c6af3dd342b51fd051e...</td>\n",
       "      <td>0706016001 0706016002 0372860001 0610776002 07...</td>\n",
       "      <td>NaN</td>\n",
       "    </tr>\n",
       "    <tr>\n",
       "      <th>2</th>\n",
       "      <td>000058a12d5b43e67d225668fa1f8d618c13dc232df0ca...</td>\n",
       "      <td>0706016001 0706016002 0372860001 0610776002 07...</td>\n",
       "      <td>NaN</td>\n",
       "    </tr>\n",
       "    <tr>\n",
       "      <th>3</th>\n",
       "      <td>00005ca1c9ed5f5146b52ac8639a40ca9d57aeff4d1bd2...</td>\n",
       "      <td>0706016001 0706016002 0372860001 0610776002 07...</td>\n",
       "      <td>NaN</td>\n",
       "    </tr>\n",
       "    <tr>\n",
       "      <th>4</th>\n",
       "      <td>00006413d8573cd20ed7128e53b7b13819fe5cfc2d801f...</td>\n",
       "      <td>0706016001 0706016002 0372860001 0610776002 07...</td>\n",
       "      <td>NaN</td>\n",
       "    </tr>\n",
       "  </tbody>\n",
       "</table>\n",
       "</div>"
      ],
      "text/plain": [
       "                                         customer_id  \\\n",
       "0  00000dbacae5abe5e23885899a1fa44253a17956c6d1c3...   \n",
       "1  0000423b00ade91418cceaf3b26c6af3dd342b51fd051e...   \n",
       "2  000058a12d5b43e67d225668fa1f8d618c13dc232df0ca...   \n",
       "3  00005ca1c9ed5f5146b52ac8639a40ca9d57aeff4d1bd2...   \n",
       "4  00006413d8573cd20ed7128e53b7b13819fe5cfc2d801f...   \n",
       "\n",
       "                                          prediction prediction_model  \n",
       "0  0706016001 0706016002 0372860001 0610776002 07...              NaN  \n",
       "1  0706016001 0706016002 0372860001 0610776002 07...              NaN  \n",
       "2  0706016001 0706016002 0372860001 0610776002 07...              NaN  \n",
       "3  0706016001 0706016002 0372860001 0610776002 07...              NaN  \n",
       "4  0706016001 0706016002 0372860001 0610776002 07...              NaN  "
      ]
     },
     "execution_count": 212,
     "metadata": {},
     "output_type": "execute_result"
    }
   ],
   "source": [
    "sample_submission = sample_submission.merge(submission_set_filt[['customer_id', 'prediction_model']], on='customer_id', how='left')\n",
    "sample_submission.head()"
   ]
  },
  {
   "cell_type": "code",
   "execution_count": 213,
   "id": "a9812641",
   "metadata": {},
   "outputs": [
    {
     "data": {
      "text/plain": [
       "customer_id               0\n",
       "prediction                0\n",
       "prediction_model    1328872\n",
       "dtype: int64"
      ]
     },
     "execution_count": 213,
     "metadata": {},
     "output_type": "execute_result"
    }
   ],
   "source": [
    "sample_submission.isnull().sum()"
   ]
  },
  {
   "cell_type": "code",
   "execution_count": 214,
   "id": "ead19b39",
   "metadata": {},
   "outputs": [],
   "source": [
    "sample_submission['prediction_model'].fillna(\n",
    "    '0751471001 0706016001 0372860002 0610776002 0448509014 0730683050 0918292001 0760084003 0866731001 0372860001 0827968001 0706016003',\n",
    "    inplace=True\n",
    ")"
   ]
  },
  {
   "cell_type": "code",
   "execution_count": 215,
   "id": "461a0908",
   "metadata": {},
   "outputs": [],
   "source": [
    "sample_submission.drop(columns=['prediction'], inplace=True)\n",
    "sample_submission.rename(columns={'prediction_model': 'prediction'}, inplace=True)"
   ]
  },
  {
   "cell_type": "code",
   "execution_count": 216,
   "id": "12a1532e",
   "metadata": {},
   "outputs": [
    {
     "data": {
      "text/html": [
       "<div>\n",
       "<style scoped>\n",
       "    .dataframe tbody tr th:only-of-type {\n",
       "        vertical-align: middle;\n",
       "    }\n",
       "\n",
       "    .dataframe tbody tr th {\n",
       "        vertical-align: top;\n",
       "    }\n",
       "\n",
       "    .dataframe thead th {\n",
       "        text-align: right;\n",
       "    }\n",
       "</style>\n",
       "<table border=\"1\" class=\"dataframe\">\n",
       "  <thead>\n",
       "    <tr style=\"text-align: right;\">\n",
       "      <th></th>\n",
       "      <th>customer_id</th>\n",
       "      <th>prediction</th>\n",
       "    </tr>\n",
       "  </thead>\n",
       "  <tbody>\n",
       "    <tr>\n",
       "      <th>0</th>\n",
       "      <td>00000dbacae5abe5e23885899a1fa44253a17956c6d1c3...</td>\n",
       "      <td>0751471001 0706016001 0372860002 0610776002 04...</td>\n",
       "    </tr>\n",
       "    <tr>\n",
       "      <th>1</th>\n",
       "      <td>0000423b00ade91418cceaf3b26c6af3dd342b51fd051e...</td>\n",
       "      <td>0751471001 0706016001 0372860002 0610776002 04...</td>\n",
       "    </tr>\n",
       "    <tr>\n",
       "      <th>2</th>\n",
       "      <td>000058a12d5b43e67d225668fa1f8d618c13dc232df0ca...</td>\n",
       "      <td>0751471001 0706016001 0372860002 0610776002 04...</td>\n",
       "    </tr>\n",
       "    <tr>\n",
       "      <th>3</th>\n",
       "      <td>00005ca1c9ed5f5146b52ac8639a40ca9d57aeff4d1bd2...</td>\n",
       "      <td>0751471001 0706016001 0372860002 0610776002 04...</td>\n",
       "    </tr>\n",
       "    <tr>\n",
       "      <th>4</th>\n",
       "      <td>00006413d8573cd20ed7128e53b7b13819fe5cfc2d801f...</td>\n",
       "      <td>0751471001 0706016001 0372860002 0610776002 04...</td>\n",
       "    </tr>\n",
       "    <tr>\n",
       "      <th>...</th>\n",
       "      <td>...</td>\n",
       "      <td>...</td>\n",
       "    </tr>\n",
       "    <tr>\n",
       "      <th>1371975</th>\n",
       "      <td>ffffbbf78b6eaac697a8a5dfbfd2bfa8113ee5b403e474...</td>\n",
       "      <td>0915526001 0751471043 0751471001 0915529003 09...</td>\n",
       "    </tr>\n",
       "    <tr>\n",
       "      <th>1371976</th>\n",
       "      <td>ffffcd5046a6143d29a04fb8c424ce494a76e5cdf4fab5...</td>\n",
       "      <td>0751471001 0706016001 0372860002 0610776002 04...</td>\n",
       "    </tr>\n",
       "    <tr>\n",
       "      <th>1371977</th>\n",
       "      <td>ffffcf35913a0bee60e8741cb2b4e78b8a98ee5ff2e6a1...</td>\n",
       "      <td>0751471001 0706016001 0372860002 0610776002 04...</td>\n",
       "    </tr>\n",
       "    <tr>\n",
       "      <th>1371978</th>\n",
       "      <td>ffffd7744cebcf3aca44ae7049d2a94b87074c3d4ffe38...</td>\n",
       "      <td>0751471001 0706016001 0372860002 0610776002 04...</td>\n",
       "    </tr>\n",
       "    <tr>\n",
       "      <th>1371979</th>\n",
       "      <td>ffffd9ac14e89946416d80e791d064701994755c3ab686...</td>\n",
       "      <td>0751471001 0706016001 0372860002 0610776002 04...</td>\n",
       "    </tr>\n",
       "  </tbody>\n",
       "</table>\n",
       "<p>1371980 rows × 2 columns</p>\n",
       "</div>"
      ],
      "text/plain": [
       "                                               customer_id  \\\n",
       "0        00000dbacae5abe5e23885899a1fa44253a17956c6d1c3...   \n",
       "1        0000423b00ade91418cceaf3b26c6af3dd342b51fd051e...   \n",
       "2        000058a12d5b43e67d225668fa1f8d618c13dc232df0ca...   \n",
       "3        00005ca1c9ed5f5146b52ac8639a40ca9d57aeff4d1bd2...   \n",
       "4        00006413d8573cd20ed7128e53b7b13819fe5cfc2d801f...   \n",
       "...                                                    ...   \n",
       "1371975  ffffbbf78b6eaac697a8a5dfbfd2bfa8113ee5b403e474...   \n",
       "1371976  ffffcd5046a6143d29a04fb8c424ce494a76e5cdf4fab5...   \n",
       "1371977  ffffcf35913a0bee60e8741cb2b4e78b8a98ee5ff2e6a1...   \n",
       "1371978  ffffd7744cebcf3aca44ae7049d2a94b87074c3d4ffe38...   \n",
       "1371979  ffffd9ac14e89946416d80e791d064701994755c3ab686...   \n",
       "\n",
       "                                                prediction  \n",
       "0        0751471001 0706016001 0372860002 0610776002 04...  \n",
       "1        0751471001 0706016001 0372860002 0610776002 04...  \n",
       "2        0751471001 0706016001 0372860002 0610776002 04...  \n",
       "3        0751471001 0706016001 0372860002 0610776002 04...  \n",
       "4        0751471001 0706016001 0372860002 0610776002 04...  \n",
       "...                                                    ...  \n",
       "1371975  0915526001 0751471043 0751471001 0915529003 09...  \n",
       "1371976  0751471001 0706016001 0372860002 0610776002 04...  \n",
       "1371977  0751471001 0706016001 0372860002 0610776002 04...  \n",
       "1371978  0751471001 0706016001 0372860002 0610776002 04...  \n",
       "1371979  0751471001 0706016001 0372860002 0610776002 04...  \n",
       "\n",
       "[1371980 rows x 2 columns]"
      ]
     },
     "execution_count": 216,
     "metadata": {},
     "output_type": "execute_result"
    }
   ],
   "source": [
    "sample_submission"
   ]
  },
  {
   "cell_type": "code",
   "execution_count": 217,
   "id": "33350357",
   "metadata": {},
   "outputs": [],
   "source": [
    "sample_submission.to_csv('submissions/20220502-fashionrecv3.csv', index=False)"
   ]
  },
  {
   "cell_type": "code",
   "execution_count": 218,
   "id": "c85037ed",
   "metadata": {},
   "outputs": [],
   "source": [
    "# sample_submission['prediction'] = '0751471001 0706016001 0372860002 0610776002 0448509014 0730683050 0918292001 0760084003 0866731001 0372860001 0827968001 0706016003'"
   ]
  },
  {
   "cell_type": "code",
   "execution_count": 220,
   "id": "fbdb1a8b",
   "metadata": {},
   "outputs": [],
   "source": [
    "# sample_submission.to_csv('submissions/20220502-top12-recent-period.csv', index=False)"
   ]
  }
 ],
 "metadata": {
  "kernelspec": {
   "display_name": "Python 3 (ipykernel)",
   "language": "python",
   "name": "python3"
  },
  "language_info": {
   "codemirror_mode": {
    "name": "ipython",
    "version": 3
   },
   "file_extension": ".py",
   "mimetype": "text/x-python",
   "name": "python",
   "nbconvert_exporter": "python",
   "pygments_lexer": "ipython3",
   "version": "3.8.12"
  }
 },
 "nbformat": 4,
 "nbformat_minor": 5
}
