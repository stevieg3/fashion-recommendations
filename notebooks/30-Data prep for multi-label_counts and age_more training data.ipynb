{
 "cells": [
  {
   "cell_type": "code",
   "execution_count": 1,
   "id": "8573eeff",
   "metadata": {
    "colab": {
     "base_uri": "https://localhost:8080/"
    },
    "executionInfo": {
     "elapsed": 3210,
     "status": "ok",
     "timestamp": 1651409331042,
     "user": {
      "displayName": "Steven George",
      "userId": "07709250839253394649"
     },
     "user_tz": -60
    },
    "id": "684c29dc",
    "outputId": "20372b5e-61e6-403f-8590-9a9c8594986c"
   },
   "outputs": [],
   "source": [
    "# from google.colab import drive\n",
    "# drive.mount('/content/drive', force_remount=True)"
   ]
  },
  {
   "cell_type": "code",
   "execution_count": 1,
   "id": "8efa8dd3",
   "metadata": {
    "executionInfo": {
     "elapsed": 840,
     "status": "ok",
     "timestamp": 1651409331879,
     "user": {
      "displayName": "Steven George",
      "userId": "07709250839253394649"
     },
     "user_tz": -60
    },
    "id": "ed2a56ae"
   },
   "outputs": [],
   "source": [
    "import os\n",
    "import datetime\n",
    "\n",
    "import pandas as pd\n",
    "import numpy as np\n",
    "import matplotlib.pyplot as plt\n",
    "import torch\n",
    "import torch.nn as nn\n",
    "from torch.utils.data import Dataset, DataLoader, IterableDataset\n",
    "from tqdm import tqdm"
   ]
  },
  {
   "cell_type": "code",
   "execution_count": 2,
   "id": "410a6e1e",
   "metadata": {
    "executionInfo": {
     "elapsed": 7,
     "status": "ok",
     "timestamp": 1651409331880,
     "user": {
      "displayName": "Steven George",
      "userId": "07709250839253394649"
     },
     "user_tz": -60
    },
    "id": "5c91b0f7"
   },
   "outputs": [],
   "source": [
    "os.chdir('..')\n",
    "# os.chdir('drive/My Drive/Colab Notebooks/Github/fashion-recommendations') "
   ]
  },
  {
   "cell_type": "code",
   "execution_count": 3,
   "id": "ca2cf5fd",
   "metadata": {
    "executionInfo": {
     "elapsed": 6,
     "status": "ok",
     "timestamp": 1651409331880,
     "user": {
      "displayName": "Steven George",
      "userId": "07709250839253394649"
     },
     "user_tz": -60
    },
    "id": "66c257b2"
   },
   "outputs": [],
   "source": [
    "from fashion_recommendations.metrics.average_precision import mapk"
   ]
  },
  {
   "cell_type": "code",
   "execution_count": 4,
   "id": "844e591d",
   "metadata": {
    "executionInfo": {
     "elapsed": 5,
     "status": "ok",
     "timestamp": 1651409331880,
     "user": {
      "displayName": "Steven George",
      "userId": "07709250839253394649"
     },
     "user_tz": -60
    },
    "id": "f7a7dcef"
   },
   "outputs": [],
   "source": [
    "pd.options.display.max_columns = None"
   ]
  },
  {
   "cell_type": "code",
   "execution_count": 5,
   "id": "094bfbcc",
   "metadata": {
    "colab": {
     "base_uri": "https://localhost:8080/"
    },
    "executionInfo": {
     "elapsed": 6,
     "status": "ok",
     "timestamp": 1651409331881,
     "user": {
      "displayName": "Steven George",
      "userId": "07709250839253394649"
     },
     "user_tz": -60
    },
    "id": "c8a9e80a",
    "outputId": "18e22a32-4e25-4bbe-9252-4890c3f2bf65"
   },
   "outputs": [
    {
     "name": "stdout",
     "output_type": "stream",
     "text": [
      "cpu\n"
     ]
    }
   ],
   "source": [
    "device = torch.device(\"cuda:0\" if torch.cuda.is_available() else \"cpu\")\n",
    "print(device)"
   ]
  },
  {
   "cell_type": "markdown",
   "id": "ee17f014",
   "metadata": {
    "id": "cb50efc7"
   },
   "source": [
    "### Load transactions"
   ]
  },
  {
   "cell_type": "code",
   "execution_count": 6,
   "id": "96705ba3",
   "metadata": {},
   "outputs": [],
   "source": [
    "# ' '.join(transactions_train['article_id'].value_counts().head(12).index.tolist())"
   ]
  },
  {
   "cell_type": "code",
   "execution_count": 7,
   "id": "db39b372",
   "metadata": {},
   "outputs": [
    {
     "name": "stdout",
     "output_type": "stream",
     "text": [
      "(31788324, 5)\n"
     ]
    },
    {
     "data": {
      "text/html": [
       "<div>\n",
       "<style scoped>\n",
       "    .dataframe tbody tr th:only-of-type {\n",
       "        vertical-align: middle;\n",
       "    }\n",
       "\n",
       "    .dataframe tbody tr th {\n",
       "        vertical-align: top;\n",
       "    }\n",
       "\n",
       "    .dataframe thead th {\n",
       "        text-align: right;\n",
       "    }\n",
       "</style>\n",
       "<table border=\"1\" class=\"dataframe\">\n",
       "  <thead>\n",
       "    <tr style=\"text-align: right;\">\n",
       "      <th></th>\n",
       "      <th>t_dat</th>\n",
       "      <th>customer_id</th>\n",
       "      <th>article_id</th>\n",
       "      <th>price</th>\n",
       "      <th>sales_channel_id</th>\n",
       "    </tr>\n",
       "  </thead>\n",
       "  <tbody>\n",
       "    <tr>\n",
       "      <th>0</th>\n",
       "      <td>2018-09-20</td>\n",
       "      <td>000058a12d5b43e67d225668fa1f8d618c13dc232df0ca...</td>\n",
       "      <td>0663713001</td>\n",
       "      <td>0.050831</td>\n",
       "      <td>2</td>\n",
       "    </tr>\n",
       "    <tr>\n",
       "      <th>1</th>\n",
       "      <td>2018-09-20</td>\n",
       "      <td>000058a12d5b43e67d225668fa1f8d618c13dc232df0ca...</td>\n",
       "      <td>0541518023</td>\n",
       "      <td>0.030492</td>\n",
       "      <td>2</td>\n",
       "    </tr>\n",
       "    <tr>\n",
       "      <th>2</th>\n",
       "      <td>2018-09-20</td>\n",
       "      <td>00007d2de826758b65a93dd24ce629ed66842531df6699...</td>\n",
       "      <td>0505221004</td>\n",
       "      <td>0.015237</td>\n",
       "      <td>2</td>\n",
       "    </tr>\n",
       "    <tr>\n",
       "      <th>3</th>\n",
       "      <td>2018-09-20</td>\n",
       "      <td>00007d2de826758b65a93dd24ce629ed66842531df6699...</td>\n",
       "      <td>0685687003</td>\n",
       "      <td>0.016932</td>\n",
       "      <td>2</td>\n",
       "    </tr>\n",
       "    <tr>\n",
       "      <th>4</th>\n",
       "      <td>2018-09-20</td>\n",
       "      <td>00007d2de826758b65a93dd24ce629ed66842531df6699...</td>\n",
       "      <td>0685687004</td>\n",
       "      <td>0.016932</td>\n",
       "      <td>2</td>\n",
       "    </tr>\n",
       "  </tbody>\n",
       "</table>\n",
       "</div>"
      ],
      "text/plain": [
       "        t_dat                                        customer_id  article_id  \\\n",
       "0  2018-09-20  000058a12d5b43e67d225668fa1f8d618c13dc232df0ca...  0663713001   \n",
       "1  2018-09-20  000058a12d5b43e67d225668fa1f8d618c13dc232df0ca...  0541518023   \n",
       "2  2018-09-20  00007d2de826758b65a93dd24ce629ed66842531df6699...  0505221004   \n",
       "3  2018-09-20  00007d2de826758b65a93dd24ce629ed66842531df6699...  0685687003   \n",
       "4  2018-09-20  00007d2de826758b65a93dd24ce629ed66842531df6699...  0685687004   \n",
       "\n",
       "      price  sales_channel_id  \n",
       "0  0.050831                 2  \n",
       "1  0.030492                 2  \n",
       "2  0.015237                 2  \n",
       "3  0.016932                 2  \n",
       "4  0.016932                 2  "
      ]
     },
     "execution_count": 7,
     "metadata": {},
     "output_type": "execute_result"
    }
   ],
   "source": [
    "transactions_train = pd.read_csv('data/transactions_train.csv', dtype={'article_id': str})\n",
    "print(transactions_train.shape)\n",
    "transactions_train.head()"
   ]
  },
  {
   "cell_type": "code",
   "execution_count": 8,
   "id": "86c748c5",
   "metadata": {},
   "outputs": [],
   "source": [
    "transactions_train['t_dat'] = pd.to_datetime(transactions_train['t_dat'])"
   ]
  },
  {
   "cell_type": "code",
   "execution_count": 9,
   "id": "4ebd7e5e",
   "metadata": {},
   "outputs": [
    {
     "data": {
      "text/plain": [
       "count    1.362281e+06\n",
       "mean     2.333463e+01\n",
       "std      3.924225e+01\n",
       "min      1.000000e+00\n",
       "25%      3.000000e+00\n",
       "50%      9.000000e+00\n",
       "75%      2.700000e+01\n",
       "max      1.895000e+03\n",
       "Name: article_id, dtype: float64"
      ]
     },
     "execution_count": 9,
     "metadata": {},
     "output_type": "execute_result"
    }
   ],
   "source": [
    "transactions_train.groupby('customer_id')['article_id'].count().describe()"
   ]
  },
  {
   "cell_type": "markdown",
   "id": "be789bac",
   "metadata": {},
   "source": [
    "### Load articles"
   ]
  },
  {
   "cell_type": "code",
   "execution_count": 10,
   "id": "69df8bd7",
   "metadata": {},
   "outputs": [
    {
     "name": "stdout",
     "output_type": "stream",
     "text": [
      "(105542, 3)\n"
     ]
    },
    {
     "data": {
      "text/html": [
       "<div>\n",
       "<style scoped>\n",
       "    .dataframe tbody tr th:only-of-type {\n",
       "        vertical-align: middle;\n",
       "    }\n",
       "\n",
       "    .dataframe tbody tr th {\n",
       "        vertical-align: top;\n",
       "    }\n",
       "\n",
       "    .dataframe thead th {\n",
       "        text-align: right;\n",
       "    }\n",
       "</style>\n",
       "<table border=\"1\" class=\"dataframe\">\n",
       "  <thead>\n",
       "    <tr style=\"text-align: right;\">\n",
       "      <th></th>\n",
       "      <th>article_id</th>\n",
       "      <th>garment_group_name</th>\n",
       "      <th>detail_desc</th>\n",
       "    </tr>\n",
       "  </thead>\n",
       "  <tbody>\n",
       "    <tr>\n",
       "      <th>0</th>\n",
       "      <td>0108775015</td>\n",
       "      <td>Jersey Basic</td>\n",
       "      <td>Jersey top with narrow shoulder straps.</td>\n",
       "    </tr>\n",
       "    <tr>\n",
       "      <th>1</th>\n",
       "      <td>0108775044</td>\n",
       "      <td>Jersey Basic</td>\n",
       "      <td>Jersey top with narrow shoulder straps.</td>\n",
       "    </tr>\n",
       "    <tr>\n",
       "      <th>2</th>\n",
       "      <td>0108775051</td>\n",
       "      <td>Jersey Basic</td>\n",
       "      <td>Jersey top with narrow shoulder straps.</td>\n",
       "    </tr>\n",
       "    <tr>\n",
       "      <th>3</th>\n",
       "      <td>0110065001</td>\n",
       "      <td>Under-, Nightwear</td>\n",
       "      <td>Microfibre T-shirt bra with underwired, moulde...</td>\n",
       "    </tr>\n",
       "    <tr>\n",
       "      <th>4</th>\n",
       "      <td>0110065002</td>\n",
       "      <td>Under-, Nightwear</td>\n",
       "      <td>Microfibre T-shirt bra with underwired, moulde...</td>\n",
       "    </tr>\n",
       "  </tbody>\n",
       "</table>\n",
       "</div>"
      ],
      "text/plain": [
       "   article_id garment_group_name  \\\n",
       "0  0108775015       Jersey Basic   \n",
       "1  0108775044       Jersey Basic   \n",
       "2  0108775051       Jersey Basic   \n",
       "3  0110065001  Under-, Nightwear   \n",
       "4  0110065002  Under-, Nightwear   \n",
       "\n",
       "                                         detail_desc  \n",
       "0            Jersey top with narrow shoulder straps.  \n",
       "1            Jersey top with narrow shoulder straps.  \n",
       "2            Jersey top with narrow shoulder straps.  \n",
       "3  Microfibre T-shirt bra with underwired, moulde...  \n",
       "4  Microfibre T-shirt bra with underwired, moulde...  "
      ]
     },
     "execution_count": 10,
     "metadata": {},
     "output_type": "execute_result"
    }
   ],
   "source": [
    "articles_df = pd.read_csv(\n",
    "    'data/articles.csv', \n",
    "    dtype={'article_id': str},\n",
    "    usecols=['article_id', 'garment_group_name', 'detail_desc']\n",
    ")\n",
    "print(articles_df.shape)\n",
    "articles_df.head()"
   ]
  },
  {
   "cell_type": "code",
   "execution_count": 11,
   "id": "f6247442",
   "metadata": {},
   "outputs": [
    {
     "data": {
      "text/plain": [
       "article_id              0\n",
       "garment_group_name      0\n",
       "detail_desc           416\n",
       "dtype: int64"
      ]
     },
     "execution_count": 11,
     "metadata": {},
     "output_type": "execute_result"
    }
   ],
   "source": [
    "articles_df.isnull().sum()"
   ]
  },
  {
   "cell_type": "code",
   "execution_count": 12,
   "id": "47f3da06",
   "metadata": {},
   "outputs": [],
   "source": [
    "articles_df['detail_desc'] = np.where(\n",
    "    articles_df['detail_desc'].isnull(), \n",
    "    articles_df['garment_group_name'], \n",
    "    articles_df['detail_desc']\n",
    ")"
   ]
  },
  {
   "cell_type": "markdown",
   "id": "0461bcf3",
   "metadata": {},
   "source": [
    "### Find cut-offs"
   ]
  },
  {
   "cell_type": "code",
   "execution_count": 13,
   "id": "685b1547",
   "metadata": {},
   "outputs": [],
   "source": [
    "end = transactions_train['t_dat'].max()\n",
    "endm1 = end - datetime.timedelta(days=7)\n",
    "endm2 = endm1 - datetime.timedelta(days=7)\n",
    "endm3 = endm2 - datetime.timedelta(days=7)"
   ]
  },
  {
   "cell_type": "code",
   "execution_count": 14,
   "id": "5783a0cb",
   "metadata": {},
   "outputs": [
    {
     "data": {
      "text/plain": [
       "(Timestamp('2020-09-22 00:00:00'),\n",
       " Timestamp('2020-09-15 00:00:00'),\n",
       " Timestamp('2020-09-08 00:00:00'),\n",
       " Timestamp('2020-09-01 00:00:00'))"
      ]
     },
     "execution_count": 14,
     "metadata": {},
     "output_type": "execute_result"
    }
   ],
   "source": [
    "end, endm1, endm2, endm3"
   ]
  },
  {
   "cell_type": "markdown",
   "id": "f31ca8e3",
   "metadata": {},
   "source": [
    "train (old)\n",
    "- inputs: start - endm3\n",
    "- labels: emdm3 - endm2\n",
    "\n",
    "train (new)\n",
    "- inputs: start - endm1\n",
    "- labels: emdm1 - end"
   ]
  },
  {
   "cell_type": "code",
   "execution_count": 15,
   "id": "27d4150f",
   "metadata": {},
   "outputs": [],
   "source": [
    "# transactions_train = transactions_train.copy()[transactions_train['t_dat'] > '2020-05-01']"
   ]
  },
  {
   "cell_type": "code",
   "execution_count": 16,
   "id": "3427e350",
   "metadata": {},
   "outputs": [
    {
     "data": {
      "text/plain": [
       "1362281"
      ]
     },
     "execution_count": 16,
     "metadata": {},
     "output_type": "execute_result"
    }
   ],
   "source": [
    "transactions_train['customer_id'].nunique()"
   ]
  },
  {
   "cell_type": "code",
   "execution_count": 17,
   "id": "b8da07fe",
   "metadata": {},
   "outputs": [
    {
     "data": {
      "text/plain": [
       "0.0370843989769821"
      ]
     },
     "execution_count": 17,
     "metadata": {},
     "output_type": "execute_result"
    }
   ],
   "source": [
    "# % of items in last week which didn't appear in prior weeks' transactions\n",
    "len(set(transactions_train[transactions_train['t_dat'] > endm1]['article_id']) - set(transactions_train[transactions_train['t_dat'] <= endm1]['article_id'])) / transactions_train[transactions_train['t_dat'] > endm1]['article_id'].nunique()"
   ]
  },
  {
   "cell_type": "code",
   "execution_count": 18,
   "id": "066b5f05",
   "metadata": {},
   "outputs": [
    {
     "data": {
      "text/plain": [
       "(31788324, 5)"
      ]
     },
     "execution_count": 18,
     "metadata": {},
     "output_type": "execute_result"
    }
   ],
   "source": [
    "transactions_train.shape"
   ]
  },
  {
   "cell_type": "code",
   "execution_count": 19,
   "id": "b1197868",
   "metadata": {},
   "outputs": [
    {
     "data": {
      "text/plain": [
       "0.9905724735176518"
      ]
     },
     "execution_count": 19,
     "metadata": {},
     "output_type": "execute_result"
    }
   ],
   "source": [
    "transactions_train['article_id'].nunique() / articles_df.shape[0]"
   ]
  },
  {
   "cell_type": "markdown",
   "id": "df8f3ce4",
   "metadata": {},
   "source": [
    "### Filter out unnecessary articles"
   ]
  },
  {
   "cell_type": "code",
   "execution_count": 20,
   "id": "b4555af7",
   "metadata": {},
   "outputs": [
    {
     "name": "stdout",
     "output_type": "stream",
     "text": [
      "(104547, 2)\n"
     ]
    },
    {
     "data": {
      "text/html": [
       "<div>\n",
       "<style scoped>\n",
       "    .dataframe tbody tr th:only-of-type {\n",
       "        vertical-align: middle;\n",
       "    }\n",
       "\n",
       "    .dataframe tbody tr th {\n",
       "        vertical-align: top;\n",
       "    }\n",
       "\n",
       "    .dataframe thead th {\n",
       "        text-align: right;\n",
       "    }\n",
       "</style>\n",
       "<table border=\"1\" class=\"dataframe\">\n",
       "  <thead>\n",
       "    <tr style=\"text-align: right;\">\n",
       "      <th></th>\n",
       "      <th>article_id</th>\n",
       "      <th>detail_desc</th>\n",
       "    </tr>\n",
       "  </thead>\n",
       "  <tbody>\n",
       "    <tr>\n",
       "      <th>0</th>\n",
       "      <td>0108775015</td>\n",
       "      <td>Jersey top with narrow shoulder straps.</td>\n",
       "    </tr>\n",
       "    <tr>\n",
       "      <th>1</th>\n",
       "      <td>0108775044</td>\n",
       "      <td>Jersey top with narrow shoulder straps.</td>\n",
       "    </tr>\n",
       "    <tr>\n",
       "      <th>2</th>\n",
       "      <td>0108775051</td>\n",
       "      <td>Jersey top with narrow shoulder straps.</td>\n",
       "    </tr>\n",
       "    <tr>\n",
       "      <th>3</th>\n",
       "      <td>0110065001</td>\n",
       "      <td>Microfibre T-shirt bra with underwired, moulde...</td>\n",
       "    </tr>\n",
       "    <tr>\n",
       "      <th>4</th>\n",
       "      <td>0110065002</td>\n",
       "      <td>Microfibre T-shirt bra with underwired, moulde...</td>\n",
       "    </tr>\n",
       "  </tbody>\n",
       "</table>\n",
       "</div>"
      ],
      "text/plain": [
       "   article_id                                        detail_desc\n",
       "0  0108775015            Jersey top with narrow shoulder straps.\n",
       "1  0108775044            Jersey top with narrow shoulder straps.\n",
       "2  0108775051            Jersey top with narrow shoulder straps.\n",
       "3  0110065001  Microfibre T-shirt bra with underwired, moulde...\n",
       "4  0110065002  Microfibre T-shirt bra with underwired, moulde..."
      ]
     },
     "execution_count": 20,
     "metadata": {},
     "output_type": "execute_result"
    }
   ],
   "source": [
    "articles_df = articles_df.copy()[\n",
    "    articles_df['article_id'].isin(transactions_train['article_id'].unique())\n",
    "]\n",
    "\n",
    "articles_df.reset_index(drop=True, inplace=True)\n",
    "articles_df.drop(columns=['garment_group_name'], inplace=True)\n",
    "print(articles_df.shape)\n",
    "articles_df.head()"
   ]
  },
  {
   "cell_type": "code",
   "execution_count": 21,
   "id": "a696641d",
   "metadata": {},
   "outputs": [],
   "source": [
    "articles_df['article_id_idx'] = articles_df.index"
   ]
  },
  {
   "cell_type": "code",
   "execution_count": 22,
   "id": "c9e8b6b8",
   "metadata": {},
   "outputs": [],
   "source": [
    "article_id_to_idx = dict(zip(articles_df['article_id'], articles_df['article_id_idx']))"
   ]
  },
  {
   "cell_type": "code",
   "execution_count": 23,
   "id": "cede4250",
   "metadata": {},
   "outputs": [],
   "source": [
    "transactions_train['article_id_idx'] = transactions_train['article_id'].map(article_id_to_idx)\n",
    "transactions_train['article_id_idx'] = transactions_train['article_id_idx'].astype(str)"
   ]
  },
  {
   "cell_type": "markdown",
   "id": "300f0ab3",
   "metadata": {},
   "source": [
    "### Create splits\n",
    "\n",
    "#### Illustrative steps:"
   ]
  },
  {
   "cell_type": "code",
   "execution_count": 25,
   "id": "0d7d005b",
   "metadata": {},
   "outputs": [],
   "source": [
    "dev_labels = transactions_train.copy()[transactions_train['t_dat'] > endm1]"
   ]
  },
  {
   "cell_type": "code",
   "execution_count": null,
   "id": "ba84add1",
   "metadata": {},
   "outputs": [],
   "source": [
    "dev_inputs = transactions_train.copy()[transactions_train['t_dat'] <= endm1]"
   ]
  },
  {
   "cell_type": "code",
   "execution_count": null,
   "id": "26619eac",
   "metadata": {},
   "outputs": [],
   "source": [
    "print(dev_inputs.shape)\n",
    "dev_inputs.head()"
   ]
  },
  {
   "cell_type": "code",
   "execution_count": null,
   "id": "48317847",
   "metadata": {},
   "outputs": [],
   "source": [
    "dev_inputs.sort_values(['customer_id', 't_dat'], inplace=True)\n",
    "dev_inputs.head()"
   ]
  },
  {
   "cell_type": "code",
   "execution_count": null,
   "id": "608c7199",
   "metadata": {},
   "outputs": [],
   "source": [
    "# dev_inputs['total_purchases'] = dev_inputs.groupby('customer_id')['article_id'].transform('count')"
   ]
  },
  {
   "cell_type": "code",
   "execution_count": null,
   "id": "07a9abfd",
   "metadata": {},
   "outputs": [],
   "source": [
    "# print(dev_inputs.shape)\n",
    "# dev_inputs = dev_inputs.copy()[dev_inputs['total_purchases'] >= 10]\n",
    "# print(dev_inputs.shape)"
   ]
  },
  {
   "cell_type": "code",
   "execution_count": null,
   "id": "3a5f921a",
   "metadata": {},
   "outputs": [],
   "source": [
    "dev_inputs['article_id_idx'] = dev_inputs['article_id_idx'].astype(str)"
   ]
  },
  {
   "cell_type": "markdown",
   "id": "f9a24567",
   "metadata": {},
   "source": [
    "- Age of last transaction\n",
    "- Transaction count\n",
    "- Incoporate count in vector representation"
   ]
  },
  {
   "cell_type": "code",
   "execution_count": null,
   "id": "cb380da9",
   "metadata": {},
   "outputs": [],
   "source": [
    "latest_transaction_date_by_cust = dev_inputs.groupby('customer_id')[['customer_id', 't_dat']].tail(1)\n",
    "latest_transaction_date_by_cust.head()"
   ]
  },
  {
   "cell_type": "code",
   "execution_count": null,
   "id": "8e040dae",
   "metadata": {},
   "outputs": [],
   "source": [
    "dev_inputs = (\n",
    "    dev_inputs\n",
    "        .groupby('customer_id')\n",
    "        .tail(10)  # Most recent articles only\n",
    "        .groupby('customer_id')['article_id_idx']\n",
    "        .apply(lambda x: ','.join(x))\n",
    "        .reset_index()\n",
    ")\n",
    "print(dev_inputs.shape)\n",
    "dev_inputs.head()"
   ]
  },
  {
   "cell_type": "code",
   "execution_count": 34,
   "id": "c53ea197",
   "metadata": {},
   "outputs": [
    {
     "name": "stdout",
     "output_type": "stream",
     "text": [
      "(650988, 3)\n"
     ]
    },
    {
     "data": {
      "text/html": [
       "<div>\n",
       "<style scoped>\n",
       "    .dataframe tbody tr th:only-of-type {\n",
       "        vertical-align: middle;\n",
       "    }\n",
       "\n",
       "    .dataframe tbody tr th {\n",
       "        vertical-align: top;\n",
       "    }\n",
       "\n",
       "    .dataframe thead th {\n",
       "        text-align: right;\n",
       "    }\n",
       "</style>\n",
       "<table border=\"1\" class=\"dataframe\">\n",
       "  <thead>\n",
       "    <tr style=\"text-align: right;\">\n",
       "      <th></th>\n",
       "      <th>customer_id</th>\n",
       "      <th>article_id_idx</th>\n",
       "      <th>t_dat_latest</th>\n",
       "    </tr>\n",
       "  </thead>\n",
       "  <tbody>\n",
       "    <tr>\n",
       "      <th>0</th>\n",
       "      <td>00000dbacae5abe5e23885899a1fa44253a17956c6d1c3...</td>\n",
       "      <td>3862</td>\n",
       "      <td>2020-09-05</td>\n",
       "    </tr>\n",
       "    <tr>\n",
       "      <th>1</th>\n",
       "      <td>0000423b00ade91418cceaf3b26c6af3dd342b51fd051e...</td>\n",
       "      <td>32040</td>\n",
       "      <td>2020-07-08</td>\n",
       "    </tr>\n",
       "    <tr>\n",
       "      <th>2</th>\n",
       "      <td>000058a12d5b43e67d225668fa1f8d618c13dc232df0ca...</td>\n",
       "      <td>25450</td>\n",
       "      <td>2020-09-15</td>\n",
       "    </tr>\n",
       "    <tr>\n",
       "      <th>3</th>\n",
       "      <td>00006413d8573cd20ed7128e53b7b13819fe5cfc2d801f...</td>\n",
       "      <td>4764,32303,30487,45052,15749,48137,25087</td>\n",
       "      <td>2020-08-12</td>\n",
       "    </tr>\n",
       "    <tr>\n",
       "      <th>4</th>\n",
       "      <td>0000757967448a6cb83efb3ea7a3fb9d418ac7adf2379d...</td>\n",
       "      <td>14660,1102</td>\n",
       "      <td>2020-09-14</td>\n",
       "    </tr>\n",
       "  </tbody>\n",
       "</table>\n",
       "</div>"
      ],
      "text/plain": [
       "                                         customer_id  \\\n",
       "0  00000dbacae5abe5e23885899a1fa44253a17956c6d1c3...   \n",
       "1  0000423b00ade91418cceaf3b26c6af3dd342b51fd051e...   \n",
       "2  000058a12d5b43e67d225668fa1f8d618c13dc232df0ca...   \n",
       "3  00006413d8573cd20ed7128e53b7b13819fe5cfc2d801f...   \n",
       "4  0000757967448a6cb83efb3ea7a3fb9d418ac7adf2379d...   \n",
       "\n",
       "                             article_id_idx t_dat_latest  \n",
       "0                                      3862   2020-09-05  \n",
       "1                                     32040   2020-07-08  \n",
       "2                                     25450   2020-09-15  \n",
       "3  4764,32303,30487,45052,15749,48137,25087   2020-08-12  \n",
       "4                                14660,1102   2020-09-14  "
      ]
     },
     "execution_count": 34,
     "metadata": {},
     "output_type": "execute_result"
    }
   ],
   "source": [
    "dev_inputs = dev_inputs.merge(latest_transaction_date_by_cust.rename(columns={'t_dat': 't_dat_latest'}), on='customer_id')\n",
    "print(dev_inputs.shape)\n",
    "dev_inputs.head()"
   ]
  },
  {
   "cell_type": "code",
   "execution_count": 35,
   "id": "5bc9de86",
   "metadata": {},
   "outputs": [
    {
     "data": {
      "text/plain": [
       "(240311, 6)"
      ]
     },
     "execution_count": 35,
     "metadata": {},
     "output_type": "execute_result"
    }
   ],
   "source": [
    "dev_labels.shape"
   ]
  },
  {
   "cell_type": "code",
   "execution_count": 36,
   "id": "52aa4979",
   "metadata": {},
   "outputs": [
    {
     "data": {
      "text/html": [
       "<div>\n",
       "<style scoped>\n",
       "    .dataframe tbody tr th:only-of-type {\n",
       "        vertical-align: middle;\n",
       "    }\n",
       "\n",
       "    .dataframe tbody tr th {\n",
       "        vertical-align: top;\n",
       "    }\n",
       "\n",
       "    .dataframe thead th {\n",
       "        text-align: right;\n",
       "    }\n",
       "</style>\n",
       "<table border=\"1\" class=\"dataframe\">\n",
       "  <thead>\n",
       "    <tr style=\"text-align: right;\">\n",
       "      <th></th>\n",
       "      <th>t_dat</th>\n",
       "      <th>customer_id</th>\n",
       "      <th>article_id</th>\n",
       "      <th>price</th>\n",
       "      <th>sales_channel_id</th>\n",
       "      <th>article_id_idx</th>\n",
       "    </tr>\n",
       "  </thead>\n",
       "  <tbody>\n",
       "    <tr>\n",
       "      <th>31548013</th>\n",
       "      <td>2020-09-16</td>\n",
       "      <td>000fb6e772c5d0023892065e659963da90b1866035558e...</td>\n",
       "      <td>0786022008</td>\n",
       "      <td>0.048441</td>\n",
       "      <td>2</td>\n",
       "      <td>24330</td>\n",
       "    </tr>\n",
       "    <tr>\n",
       "      <th>31548014</th>\n",
       "      <td>2020-09-16</td>\n",
       "      <td>000fb6e772c5d0023892065e659963da90b1866035558e...</td>\n",
       "      <td>0913272003</td>\n",
       "      <td>0.032288</td>\n",
       "      <td>2</td>\n",
       "      <td>47049</td>\n",
       "    </tr>\n",
       "    <tr>\n",
       "      <th>31548015</th>\n",
       "      <td>2020-09-16</td>\n",
       "      <td>000fb6e772c5d0023892065e659963da90b1866035558e...</td>\n",
       "      <td>0889669006</td>\n",
       "      <td>0.056508</td>\n",
       "      <td>2</td>\n",
       "      <td>44078</td>\n",
       "    </tr>\n",
       "    <tr>\n",
       "      <th>31548016</th>\n",
       "      <td>2020-09-16</td>\n",
       "      <td>0010e8eb18f131e724d6997909af0808adbba057529edb...</td>\n",
       "      <td>0237347060</td>\n",
       "      <td>0.033881</td>\n",
       "      <td>1</td>\n",
       "      <td>207</td>\n",
       "    </tr>\n",
       "    <tr>\n",
       "      <th>31548017</th>\n",
       "      <td>2020-09-16</td>\n",
       "      <td>0010e8eb18f131e724d6997909af0808adbba057529edb...</td>\n",
       "      <td>0562245001</td>\n",
       "      <td>0.013542</td>\n",
       "      <td>1</td>\n",
       "      <td>3494</td>\n",
       "    </tr>\n",
       "  </tbody>\n",
       "</table>\n",
       "</div>"
      ],
      "text/plain": [
       "              t_dat                                        customer_id  \\\n",
       "31548013 2020-09-16  000fb6e772c5d0023892065e659963da90b1866035558e...   \n",
       "31548014 2020-09-16  000fb6e772c5d0023892065e659963da90b1866035558e...   \n",
       "31548015 2020-09-16  000fb6e772c5d0023892065e659963da90b1866035558e...   \n",
       "31548016 2020-09-16  0010e8eb18f131e724d6997909af0808adbba057529edb...   \n",
       "31548017 2020-09-16  0010e8eb18f131e724d6997909af0808adbba057529edb...   \n",
       "\n",
       "          article_id     price  sales_channel_id article_id_idx  \n",
       "31548013  0786022008  0.048441                 2          24330  \n",
       "31548014  0913272003  0.032288                 2          47049  \n",
       "31548015  0889669006  0.056508                 2          44078  \n",
       "31548016  0237347060  0.033881                 1            207  \n",
       "31548017  0562245001  0.013542                 1           3494  "
      ]
     },
     "execution_count": 36,
     "metadata": {},
     "output_type": "execute_result"
    }
   ],
   "source": [
    "dev_labels.head()"
   ]
  },
  {
   "cell_type": "code",
   "execution_count": 37,
   "id": "71ce0e21",
   "metadata": {},
   "outputs": [
    {
     "name": "stdout",
     "output_type": "stream",
     "text": [
      "(213728, 3)\n"
     ]
    },
    {
     "data": {
      "text/html": [
       "<div>\n",
       "<style scoped>\n",
       "    .dataframe tbody tr th:only-of-type {\n",
       "        vertical-align: middle;\n",
       "    }\n",
       "\n",
       "    .dataframe tbody tr th {\n",
       "        vertical-align: top;\n",
       "    }\n",
       "\n",
       "    .dataframe thead th {\n",
       "        text-align: right;\n",
       "    }\n",
       "</style>\n",
       "<table border=\"1\" class=\"dataframe\">\n",
       "  <thead>\n",
       "    <tr style=\"text-align: right;\">\n",
       "      <th></th>\n",
       "      <th>customer_id</th>\n",
       "      <th>article_id</th>\n",
       "      <th>num_purchases</th>\n",
       "    </tr>\n",
       "  </thead>\n",
       "  <tbody>\n",
       "    <tr>\n",
       "      <th>0</th>\n",
       "      <td>00039306476aaf41a07fed942884f16b30abfa83a2a8be...</td>\n",
       "      <td>0624486001</td>\n",
       "      <td>1</td>\n",
       "    </tr>\n",
       "    <tr>\n",
       "      <th>1</th>\n",
       "      <td>0003e867a930d0d6842f923d6ba7c9b77aba33fe2a0fbf...</td>\n",
       "      <td>0827487003</td>\n",
       "      <td>1</td>\n",
       "    </tr>\n",
       "    <tr>\n",
       "      <th>2</th>\n",
       "      <td>000493dd9fc463df1acc2081450c9e75ef8e87d5dd17ed...</td>\n",
       "      <td>0640021019</td>\n",
       "      <td>1</td>\n",
       "    </tr>\n",
       "    <tr>\n",
       "      <th>3</th>\n",
       "      <td>000493dd9fc463df1acc2081450c9e75ef8e87d5dd17ed...</td>\n",
       "      <td>0757926001</td>\n",
       "      <td>1</td>\n",
       "    </tr>\n",
       "    <tr>\n",
       "      <th>4</th>\n",
       "      <td>000493dd9fc463df1acc2081450c9e75ef8e87d5dd17ed...</td>\n",
       "      <td>0788575004</td>\n",
       "      <td>1</td>\n",
       "    </tr>\n",
       "  </tbody>\n",
       "</table>\n",
       "</div>"
      ],
      "text/plain": [
       "                                         customer_id  article_id  \\\n",
       "0  00039306476aaf41a07fed942884f16b30abfa83a2a8be...  0624486001   \n",
       "1  0003e867a930d0d6842f923d6ba7c9b77aba33fe2a0fbf...  0827487003   \n",
       "2  000493dd9fc463df1acc2081450c9e75ef8e87d5dd17ed...  0640021019   \n",
       "3  000493dd9fc463df1acc2081450c9e75ef8e87d5dd17ed...  0757926001   \n",
       "4  000493dd9fc463df1acc2081450c9e75ef8e87d5dd17ed...  0788575004   \n",
       "\n",
       "   num_purchases  \n",
       "0              1  \n",
       "1              1  \n",
       "2              1  \n",
       "3              1  \n",
       "4              1  "
      ]
     },
     "execution_count": 37,
     "metadata": {},
     "output_type": "execute_result"
    }
   ],
   "source": [
    "num_purchases_df = dev_labels.groupby(['customer_id', 'article_id'])['t_dat'].count().reset_index().rename(columns={'t_dat': 'num_purchases'})\n",
    "print(num_purchases_df.shape)\n",
    "num_purchases_df.head()"
   ]
  },
  {
   "cell_type": "code",
   "execution_count": 38,
   "id": "5f0b15ba",
   "metadata": {},
   "outputs": [],
   "source": [
    "num_purchases_df['num_purchases'] = num_purchases_df['num_purchases'].astype(str)"
   ]
  },
  {
   "cell_type": "code",
   "execution_count": 39,
   "id": "b2b9f67c",
   "metadata": {},
   "outputs": [
    {
     "name": "stdout",
     "output_type": "stream",
     "text": [
      "(68984, 3)\n"
     ]
    },
    {
     "data": {
      "text/html": [
       "<div>\n",
       "<style scoped>\n",
       "    .dataframe tbody tr th:only-of-type {\n",
       "        vertical-align: middle;\n",
       "    }\n",
       "\n",
       "    .dataframe tbody tr th {\n",
       "        vertical-align: top;\n",
       "    }\n",
       "\n",
       "    .dataframe thead th {\n",
       "        text-align: right;\n",
       "    }\n",
       "</style>\n",
       "<table border=\"1\" class=\"dataframe\">\n",
       "  <thead>\n",
       "    <tr style=\"text-align: right;\">\n",
       "      <th></th>\n",
       "      <th>customer_id</th>\n",
       "      <th>article_id</th>\n",
       "      <th>num_purchases</th>\n",
       "    </tr>\n",
       "  </thead>\n",
       "  <tbody>\n",
       "    <tr>\n",
       "      <th>0</th>\n",
       "      <td>00039306476aaf41a07fed942884f16b30abfa83a2a8be...</td>\n",
       "      <td>0624486001</td>\n",
       "      <td>1</td>\n",
       "    </tr>\n",
       "    <tr>\n",
       "      <th>1</th>\n",
       "      <td>0003e867a930d0d6842f923d6ba7c9b77aba33fe2a0fbf...</td>\n",
       "      <td>0827487003</td>\n",
       "      <td>1</td>\n",
       "    </tr>\n",
       "    <tr>\n",
       "      <th>2</th>\n",
       "      <td>000493dd9fc463df1acc2081450c9e75ef8e87d5dd17ed...</td>\n",
       "      <td>0640021019,0757926001,0788575004</td>\n",
       "      <td>1,1,1</td>\n",
       "    </tr>\n",
       "    <tr>\n",
       "      <th>3</th>\n",
       "      <td>000525e3fe01600d717da8423643a8303390a055c578ed...</td>\n",
       "      <td>0874110016</td>\n",
       "      <td>1</td>\n",
       "    </tr>\n",
       "    <tr>\n",
       "      <th>4</th>\n",
       "      <td>00077dbd5c4a4991e092e63893ccf29294a9d5c46e8501...</td>\n",
       "      <td>0158340001,0448509014,0486639003,0799365027,08...</td>\n",
       "      <td>1,1,1,1,1,1,1,1,1,1,1,1,1,1</td>\n",
       "    </tr>\n",
       "  </tbody>\n",
       "</table>\n",
       "</div>"
      ],
      "text/plain": [
       "                                         customer_id  \\\n",
       "0  00039306476aaf41a07fed942884f16b30abfa83a2a8be...   \n",
       "1  0003e867a930d0d6842f923d6ba7c9b77aba33fe2a0fbf...   \n",
       "2  000493dd9fc463df1acc2081450c9e75ef8e87d5dd17ed...   \n",
       "3  000525e3fe01600d717da8423643a8303390a055c578ed...   \n",
       "4  00077dbd5c4a4991e092e63893ccf29294a9d5c46e8501...   \n",
       "\n",
       "                                          article_id  \\\n",
       "0                                         0624486001   \n",
       "1                                         0827487003   \n",
       "2                   0640021019,0757926001,0788575004   \n",
       "3                                         0874110016   \n",
       "4  0158340001,0448509014,0486639003,0799365027,08...   \n",
       "\n",
       "                 num_purchases  \n",
       "0                            1  \n",
       "1                            1  \n",
       "2                        1,1,1  \n",
       "3                            1  \n",
       "4  1,1,1,1,1,1,1,1,1,1,1,1,1,1  "
      ]
     },
     "execution_count": 39,
     "metadata": {},
     "output_type": "execute_result"
    }
   ],
   "source": [
    "dev_labels = num_purchases_df.groupby('customer_id').agg(\n",
    "    {\n",
    "        'article_id': lambda x: ','.join(x),\n",
    "        'num_purchases': lambda x: ','.join(x)\n",
    "    }\n",
    ").reset_index()\n",
    "\n",
    "print(dev_labels.shape)\n",
    "dev_labels.head()"
   ]
  },
  {
   "cell_type": "code",
   "execution_count": 40,
   "id": "67d21ac6",
   "metadata": {},
   "outputs": [
    {
     "data": {
      "text/plain": [
       "(665025, 6)"
      ]
     },
     "execution_count": 40,
     "metadata": {},
     "output_type": "execute_result"
    }
   ],
   "source": [
    "dev_set = dev_inputs.merge(dev_labels, on='customer_id', how='outer', indicator=True, suffixes=('_last10', '_label'))\n",
    "dev_set.shape"
   ]
  },
  {
   "cell_type": "code",
   "execution_count": 41,
   "id": "177ac711",
   "metadata": {},
   "outputs": [
    {
     "data": {
      "text/plain": [
       "left_only     0.896269\n",
       "both          0.082624\n",
       "right_only    0.021107\n",
       "Name: _merge, dtype: float64"
      ]
     },
     "execution_count": 41,
     "metadata": {},
     "output_type": "execute_result"
    }
   ],
   "source": [
    "dev_set['_merge'].value_counts() / dev_set.shape[0]"
   ]
  },
  {
   "cell_type": "markdown",
   "id": "6474460a",
   "metadata": {},
   "source": [
    "`left_only` = customers who did not make purchases in last week\n",
    "\n",
    "`both` = customers who did make purchases in last week and made purchases in the past\n",
    "\n",
    "`right_only` = customers who did make purchases in last week but made no purchases in the past (cold start)\n",
    "\n",
    "Keep `both` only. For cold start we can just predict top-12 and `left_only` won't contribute to MAP"
   ]
  },
  {
   "cell_type": "code",
   "execution_count": 42,
   "id": "80c6056c",
   "metadata": {},
   "outputs": [
    {
     "name": "stdout",
     "output_type": "stream",
     "text": [
      "(54947, 5)\n"
     ]
    },
    {
     "data": {
      "text/html": [
       "<div>\n",
       "<style scoped>\n",
       "    .dataframe tbody tr th:only-of-type {\n",
       "        vertical-align: middle;\n",
       "    }\n",
       "\n",
       "    .dataframe tbody tr th {\n",
       "        vertical-align: top;\n",
       "    }\n",
       "\n",
       "    .dataframe thead th {\n",
       "        text-align: right;\n",
       "    }\n",
       "</style>\n",
       "<table border=\"1\" class=\"dataframe\">\n",
       "  <thead>\n",
       "    <tr style=\"text-align: right;\">\n",
       "      <th></th>\n",
       "      <th>customer_id</th>\n",
       "      <th>article_id_idx</th>\n",
       "      <th>t_dat_latest</th>\n",
       "      <th>article_id</th>\n",
       "      <th>num_purchases</th>\n",
       "    </tr>\n",
       "  </thead>\n",
       "  <tbody>\n",
       "    <tr>\n",
       "      <th>40</th>\n",
       "      <td>0003e867a930d0d6842f923d6ba7c9b77aba33fe2a0fbf...</td>\n",
       "      <td>47628,44359,47057,46077,46294,7586,6392,42436,...</td>\n",
       "      <td>2020-09-14</td>\n",
       "      <td>0827487003</td>\n",
       "      <td>1</td>\n",
       "    </tr>\n",
       "    <tr>\n",
       "      <th>48</th>\n",
       "      <td>000493dd9fc463df1acc2081450c9e75ef8e87d5dd17ed...</td>\n",
       "      <td>16160,21619,807,16017,3173,36210,16019,4279,30...</td>\n",
       "      <td>2020-09-09</td>\n",
       "      <td>0640021019,0757926001,0788575004</td>\n",
       "      <td>1,1,1</td>\n",
       "    </tr>\n",
       "    <tr>\n",
       "      <th>82</th>\n",
       "      <td>00077dbd5c4a4991e092e63893ccf29294a9d5c46e8501...</td>\n",
       "      <td>44011,31540,27764,27764,27764,27764,48295,3922...</td>\n",
       "      <td>2020-09-12</td>\n",
       "      <td>0158340001,0448509014,0486639003,0799365027,08...</td>\n",
       "      <td>1,1,1,1,1,1,1,1,1,1,1,1,1,1</td>\n",
       "    </tr>\n",
       "    <tr>\n",
       "      <th>157</th>\n",
       "      <td>000fb6e772c5d0023892065e659963da90b1866035558e...</td>\n",
       "      <td>31611,26099,45907,32869,43183,20931,47575,4757...</td>\n",
       "      <td>2020-09-10</td>\n",
       "      <td>0786022008,0871519008,0889669006,0913272003,09...</td>\n",
       "      <td>1,3,2,2,1</td>\n",
       "    </tr>\n",
       "    <tr>\n",
       "      <th>165</th>\n",
       "      <td>0010e8eb18f131e724d6997909af0808adbba057529edb...</td>\n",
       "      <td>38317,33880,30974,4037,3558,34488,20926,32318,...</td>\n",
       "      <td>2020-08-25</td>\n",
       "      <td>0237347060,0372860001,0456163060,0562245001,06...</td>\n",
       "      <td>1,1,1,1,1,1,1,1,1</td>\n",
       "    </tr>\n",
       "  </tbody>\n",
       "</table>\n",
       "</div>"
      ],
      "text/plain": [
       "                                           customer_id  \\\n",
       "40   0003e867a930d0d6842f923d6ba7c9b77aba33fe2a0fbf...   \n",
       "48   000493dd9fc463df1acc2081450c9e75ef8e87d5dd17ed...   \n",
       "82   00077dbd5c4a4991e092e63893ccf29294a9d5c46e8501...   \n",
       "157  000fb6e772c5d0023892065e659963da90b1866035558e...   \n",
       "165  0010e8eb18f131e724d6997909af0808adbba057529edb...   \n",
       "\n",
       "                                        article_id_idx t_dat_latest  \\\n",
       "40   47628,44359,47057,46077,46294,7586,6392,42436,...   2020-09-14   \n",
       "48   16160,21619,807,16017,3173,36210,16019,4279,30...   2020-09-09   \n",
       "82   44011,31540,27764,27764,27764,27764,48295,3922...   2020-09-12   \n",
       "157  31611,26099,45907,32869,43183,20931,47575,4757...   2020-09-10   \n",
       "165  38317,33880,30974,4037,3558,34488,20926,32318,...   2020-08-25   \n",
       "\n",
       "                                            article_id  \\\n",
       "40                                          0827487003   \n",
       "48                    0640021019,0757926001,0788575004   \n",
       "82   0158340001,0448509014,0486639003,0799365027,08...   \n",
       "157  0786022008,0871519008,0889669006,0913272003,09...   \n",
       "165  0237347060,0372860001,0456163060,0562245001,06...   \n",
       "\n",
       "                   num_purchases  \n",
       "40                             1  \n",
       "48                         1,1,1  \n",
       "82   1,1,1,1,1,1,1,1,1,1,1,1,1,1  \n",
       "157                    1,3,2,2,1  \n",
       "165            1,1,1,1,1,1,1,1,1  "
      ]
     },
     "execution_count": 42,
     "metadata": {},
     "output_type": "execute_result"
    }
   ],
   "source": [
    "dev_set = dev_set.copy()[dev_set['_merge'] == 'both']\n",
    "dev_set.drop('_merge', inplace=True, axis=1)\n",
    "print(dev_set.shape)\n",
    "dev_set.head()"
   ]
  },
  {
   "cell_type": "code",
   "execution_count": 43,
   "id": "0979c689",
   "metadata": {},
   "outputs": [
    {
     "data": {
      "text/plain": [
       "Timestamp('2020-09-01 00:00:00')"
      ]
     },
     "execution_count": 43,
     "metadata": {},
     "output_type": "execute_result"
    }
   ],
   "source": [
    "endm3"
   ]
  },
  {
   "cell_type": "code",
   "execution_count": 44,
   "id": "4f2cc7e7",
   "metadata": {},
   "outputs": [
    {
     "data": {
      "text/plain": [
       "Timestamp('2020-05-24 00:00:00')"
      ]
     },
     "execution_count": 44,
     "metadata": {},
     "output_type": "execute_result"
    }
   ],
   "source": [
    "endm3 - datetime.timedelta(days=100)"
   ]
  },
  {
   "cell_type": "code",
   "execution_count": 45,
   "id": "74554d44",
   "metadata": {},
   "outputs": [],
   "source": [
    "dev_set['example_age'] = (endm3 - dev_set['t_dat_latest']).dt.days / 100"
   ]
  },
  {
   "cell_type": "code",
   "execution_count": 46,
   "id": "e2425786",
   "metadata": {},
   "outputs": [
    {
     "data": {
      "text/plain": [
       "<AxesSubplot:>"
      ]
     },
     "execution_count": 46,
     "metadata": {},
     "output_type": "execute_result"
    },
    {
     "data": {
      "image/png": "[encoded data removed]",
      "text/plain": [
       "<Figure size 432x288 with 1 Axes>"
      ]
     },
     "metadata": {
      "needs_background": "light"
     },
     "output_type": "display_data"
    }
   ],
   "source": [
    "dev_set['example_age'].hist()"
   ]
  },
  {
   "cell_type": "code",
   "execution_count": 47,
   "id": "c39ea8a0",
   "metadata": {},
   "outputs": [
    {
     "data": {
      "text/html": [
       "<div>\n",
       "<style scoped>\n",
       "    .dataframe tbody tr th:only-of-type {\n",
       "        vertical-align: middle;\n",
       "    }\n",
       "\n",
       "    .dataframe tbody tr th {\n",
       "        vertical-align: top;\n",
       "    }\n",
       "\n",
       "    .dataframe thead th {\n",
       "        text-align: right;\n",
       "    }\n",
       "</style>\n",
       "<table border=\"1\" class=\"dataframe\">\n",
       "  <thead>\n",
       "    <tr style=\"text-align: right;\">\n",
       "      <th></th>\n",
       "      <th>customer_id</th>\n",
       "      <th>article_id_idx</th>\n",
       "      <th>t_dat_latest</th>\n",
       "      <th>article_id</th>\n",
       "      <th>num_purchases</th>\n",
       "      <th>example_age</th>\n",
       "    </tr>\n",
       "  </thead>\n",
       "  <tbody>\n",
       "    <tr>\n",
       "      <th>40</th>\n",
       "      <td>0003e867a930d0d6842f923d6ba7c9b77aba33fe2a0fbf...</td>\n",
       "      <td>47628,44359,47057,46077,46294,7586,6392,42436,...</td>\n",
       "      <td>2020-09-14</td>\n",
       "      <td>0827487003</td>\n",
       "      <td>1</td>\n",
       "      <td>-0.13</td>\n",
       "    </tr>\n",
       "    <tr>\n",
       "      <th>48</th>\n",
       "      <td>000493dd9fc463df1acc2081450c9e75ef8e87d5dd17ed...</td>\n",
       "      <td>16160,21619,807,16017,3173,36210,16019,4279,30...</td>\n",
       "      <td>2020-09-09</td>\n",
       "      <td>0640021019,0757926001,0788575004</td>\n",
       "      <td>1,1,1</td>\n",
       "      <td>-0.08</td>\n",
       "    </tr>\n",
       "    <tr>\n",
       "      <th>82</th>\n",
       "      <td>00077dbd5c4a4991e092e63893ccf29294a9d5c46e8501...</td>\n",
       "      <td>44011,31540,27764,27764,27764,27764,48295,3922...</td>\n",
       "      <td>2020-09-12</td>\n",
       "      <td>0158340001,0448509014,0486639003,0799365027,08...</td>\n",
       "      <td>1,1,1,1,1,1,1,1,1,1,1,1,1,1</td>\n",
       "      <td>-0.11</td>\n",
       "    </tr>\n",
       "    <tr>\n",
       "      <th>157</th>\n",
       "      <td>000fb6e772c5d0023892065e659963da90b1866035558e...</td>\n",
       "      <td>31611,26099,45907,32869,43183,20931,47575,4757...</td>\n",
       "      <td>2020-09-10</td>\n",
       "      <td>0786022008,0871519008,0889669006,0913272003,09...</td>\n",
       "      <td>1,3,2,2,1</td>\n",
       "      <td>-0.09</td>\n",
       "    </tr>\n",
       "    <tr>\n",
       "      <th>165</th>\n",
       "      <td>0010e8eb18f131e724d6997909af0808adbba057529edb...</td>\n",
       "      <td>38317,33880,30974,4037,3558,34488,20926,32318,...</td>\n",
       "      <td>2020-08-25</td>\n",
       "      <td>0237347060,0372860001,0456163060,0562245001,06...</td>\n",
       "      <td>1,1,1,1,1,1,1,1,1</td>\n",
       "      <td>0.07</td>\n",
       "    </tr>\n",
       "  </tbody>\n",
       "</table>\n",
       "</div>"
      ],
      "text/plain": [
       "                                           customer_id  \\\n",
       "40   0003e867a930d0d6842f923d6ba7c9b77aba33fe2a0fbf...   \n",
       "48   000493dd9fc463df1acc2081450c9e75ef8e87d5dd17ed...   \n",
       "82   00077dbd5c4a4991e092e63893ccf29294a9d5c46e8501...   \n",
       "157  000fb6e772c5d0023892065e659963da90b1866035558e...   \n",
       "165  0010e8eb18f131e724d6997909af0808adbba057529edb...   \n",
       "\n",
       "                                        article_id_idx t_dat_latest  \\\n",
       "40   47628,44359,47057,46077,46294,7586,6392,42436,...   2020-09-14   \n",
       "48   16160,21619,807,16017,3173,36210,16019,4279,30...   2020-09-09   \n",
       "82   44011,31540,27764,27764,27764,27764,48295,3922...   2020-09-12   \n",
       "157  31611,26099,45907,32869,43183,20931,47575,4757...   2020-09-10   \n",
       "165  38317,33880,30974,4037,3558,34488,20926,32318,...   2020-08-25   \n",
       "\n",
       "                                            article_id  \\\n",
       "40                                          0827487003   \n",
       "48                    0640021019,0757926001,0788575004   \n",
       "82   0158340001,0448509014,0486639003,0799365027,08...   \n",
       "157  0786022008,0871519008,0889669006,0913272003,09...   \n",
       "165  0237347060,0372860001,0456163060,0562245001,06...   \n",
       "\n",
       "                   num_purchases  example_age  \n",
       "40                             1        -0.13  \n",
       "48                         1,1,1        -0.08  \n",
       "82   1,1,1,1,1,1,1,1,1,1,1,1,1,1        -0.11  \n",
       "157                    1,3,2,2,1        -0.09  \n",
       "165            1,1,1,1,1,1,1,1,1         0.07  "
      ]
     },
     "execution_count": 47,
     "metadata": {},
     "output_type": "execute_result"
    }
   ],
   "source": [
    "dev_set.head()"
   ]
  },
  {
   "cell_type": "markdown",
   "id": "30fd330a",
   "metadata": {},
   "source": [
    "#### Function"
   ]
  },
  {
   "cell_type": "markdown",
   "id": "d712871c",
   "metadata": {},
   "source": [
    "train (old)\n",
    "- inputs: start - endm3\n",
    "- labels: emdm3 - endm2\n",
    "\n",
    "train (new)\n",
    "- inputs: start - endm1\n",
    "- labels: emdm1 - end"
   ]
  },
  {
   "cell_type": "code",
   "execution_count": 26,
   "id": "efb313a3",
   "metadata": {},
   "outputs": [],
   "source": [
    "def create_article_input_output_df(inputs, labels, example_age_end, max_purchase_history=10):\n",
    "    \n",
    "    inputs = inputs.copy()\n",
    "    labels = labels.copy()\n",
    "    \n",
    "    inputs.sort_values(['customer_id', 't_dat'], inplace=True)\n",
    "\n",
    "    inputs['article_id_idx'] = inputs['article_id_idx'].astype(str)\n",
    "    \n",
    "    latest_transaction_date_by_cust = (\n",
    "        inputs\n",
    "            .groupby('customer_id')[['customer_id', 't_dat']]\n",
    "            .tail(1)\n",
    "    )\n",
    "    \n",
    "    inputs = (\n",
    "        inputs\n",
    "            .groupby('customer_id')\n",
    "            .tail(max_purchase_history)  # Most recent articles only\n",
    "            .groupby('customer_id')['article_id_idx']\n",
    "            .apply(lambda x: ','.join(x))\n",
    "            .reset_index()\n",
    "    )\n",
    "    \n",
    "    inputs = inputs.merge(\n",
    "        latest_transaction_date_by_cust.rename(columns={'t_dat': 't_dat_latest'}), \n",
    "        on='customer_id'\n",
    "    )\n",
    "    \n",
    "    num_purchases_df = (\n",
    "        labels\n",
    "            .groupby(['customer_id', 'article_id_idx'])['t_dat']\n",
    "            .count()\n",
    "            .reset_index()\n",
    "            .rename(columns={'t_dat': 'num_purchases'})\n",
    "    )\n",
    "    \n",
    "    num_purchases_df['num_purchases'] = num_purchases_df['num_purchases'].astype(str)\n",
    "    \n",
    "    labels = num_purchases_df.groupby('customer_id').agg(\n",
    "        {\n",
    "            'article_id_idx': lambda x: ','.join(x),\n",
    "            'num_purchases': lambda x: ','.join(x)\n",
    "        }\n",
    "    ).reset_index()\n",
    "\n",
    "    data_set = inputs.merge(labels, on='customer_id', how='outer', indicator=True, suffixes=('_last10', '_label'))\n",
    "\n",
    "    data_set = data_set.copy()[data_set['_merge'] == 'both']\n",
    "    data_set.drop('_merge', inplace=True, axis=1)\n",
    "    \n",
    "    data_set['example_age'] = (example_age_end - data_set['t_dat_latest']).dt.days / 100\n",
    "\n",
    "    return data_set"
   ]
  },
  {
   "cell_type": "code",
   "execution_count": 27,
   "id": "8352fa4e",
   "metadata": {},
   "outputs": [
    {
     "name": "stdout",
     "output_type": "stream",
     "text": [
      "(63412, 6)\n"
     ]
    },
    {
     "data": {
      "text/html": [
       "<div>\n",
       "<style scoped>\n",
       "    .dataframe tbody tr th:only-of-type {\n",
       "        vertical-align: middle;\n",
       "    }\n",
       "\n",
       "    .dataframe tbody tr th {\n",
       "        vertical-align: top;\n",
       "    }\n",
       "\n",
       "    .dataframe thead th {\n",
       "        text-align: right;\n",
       "    }\n",
       "</style>\n",
       "<table border=\"1\" class=\"dataframe\">\n",
       "  <thead>\n",
       "    <tr style=\"text-align: right;\">\n",
       "      <th></th>\n",
       "      <th>customer_id</th>\n",
       "      <th>article_id_idx_last10</th>\n",
       "      <th>t_dat_latest</th>\n",
       "      <th>article_id_idx_label</th>\n",
       "      <th>num_purchases</th>\n",
       "      <th>example_age</th>\n",
       "    </tr>\n",
       "  </thead>\n",
       "  <tbody>\n",
       "    <tr>\n",
       "      <th>80</th>\n",
       "      <td>00039306476aaf41a07fed942884f16b30abfa83a2a8be...</td>\n",
       "      <td>68500,74711,2861,92243,42086,42086,59253,53988...</td>\n",
       "      <td>2020-02-06</td>\n",
       "      <td>28934</td>\n",
       "      <td>1</td>\n",
       "      <td>2.22</td>\n",
       "    </tr>\n",
       "    <tr>\n",
       "      <th>86</th>\n",
       "      <td>0003e867a930d0d6842f923d6ba7c9b77aba33fe2a0fbf...</td>\n",
       "      <td>103449,100157,102878,101898,102115,33833,27875...</td>\n",
       "      <td>2020-09-14</td>\n",
       "      <td>87181</td>\n",
       "      <td>1</td>\n",
       "      <td>0.01</td>\n",
       "    </tr>\n",
       "    <tr>\n",
       "      <th>107</th>\n",
       "      <td>000493dd9fc463df1acc2081450c9e75ef8e87d5dd17ed...</td>\n",
       "      <td>61533,72093,2216,61234,13023,91804,61236,17917...</td>\n",
       "      <td>2020-09-09</td>\n",
       "      <td>33837,69614,77117</td>\n",
       "      <td>1,1,1</td>\n",
       "      <td>0.06</td>\n",
       "    </tr>\n",
       "    <tr>\n",
       "      <th>177</th>\n",
       "      <td>00077dbd5c4a4991e092e63893ccf29294a9d5c46e8501...</td>\n",
       "      <td>99809,86359,81667,81667,81667,81667,104116,949...</td>\n",
       "      <td>2020-09-12</td>\n",
       "      <td>101827,102244,103079,103080,103285,104210,1043...</td>\n",
       "      <td>1,1,1,1,1,1,1,1,1,1,1,1,1,1</td>\n",
       "      <td>0.03</td>\n",
       "    </tr>\n",
       "    <tr>\n",
       "      <th>326</th>\n",
       "      <td>000fb6e772c5d0023892065e659963da90b1866035558e...</td>\n",
       "      <td>86451,79339,101728,87947,98978,71002,103396,10...</td>\n",
       "      <td>2020-09-10</td>\n",
       "      <td>102870,103396,76557,96449,99876</td>\n",
       "      <td>2,1,1,3,2</td>\n",
       "      <td>0.05</td>\n",
       "    </tr>\n",
       "  </tbody>\n",
       "</table>\n",
       "</div>"
      ],
      "text/plain": [
       "                                           customer_id  \\\n",
       "80   00039306476aaf41a07fed942884f16b30abfa83a2a8be...   \n",
       "86   0003e867a930d0d6842f923d6ba7c9b77aba33fe2a0fbf...   \n",
       "107  000493dd9fc463df1acc2081450c9e75ef8e87d5dd17ed...   \n",
       "177  00077dbd5c4a4991e092e63893ccf29294a9d5c46e8501...   \n",
       "326  000fb6e772c5d0023892065e659963da90b1866035558e...   \n",
       "\n",
       "                                 article_id_idx_last10 t_dat_latest  \\\n",
       "80   68500,74711,2861,92243,42086,42086,59253,53988...   2020-02-06   \n",
       "86   103449,100157,102878,101898,102115,33833,27875...   2020-09-14   \n",
       "107  61533,72093,2216,61234,13023,91804,61236,17917...   2020-09-09   \n",
       "177  99809,86359,81667,81667,81667,81667,104116,949...   2020-09-12   \n",
       "326  86451,79339,101728,87947,98978,71002,103396,10...   2020-09-10   \n",
       "\n",
       "                                  article_id_idx_label  \\\n",
       "80                                               28934   \n",
       "86                                               87181   \n",
       "107                                  33837,69614,77117   \n",
       "177  101827,102244,103079,103080,103285,104210,1043...   \n",
       "326                    102870,103396,76557,96449,99876   \n",
       "\n",
       "                   num_purchases  example_age  \n",
       "80                             1         2.22  \n",
       "86                             1         0.01  \n",
       "107                        1,1,1         0.06  \n",
       "177  1,1,1,1,1,1,1,1,1,1,1,1,1,1         0.03  \n",
       "326                    2,1,1,3,2         0.05  "
      ]
     },
     "execution_count": 27,
     "metadata": {},
     "output_type": "execute_result"
    }
   ],
   "source": [
    "train_set = create_article_input_output_df(\n",
    "    inputs=transactions_train.copy()[transactions_train['t_dat'] <= endm1], \n",
    "    labels=transactions_train.copy()[\n",
    "        (transactions_train['t_dat'] > endm1)\n",
    "    ],\n",
    "    example_age_end=endm1\n",
    ")\n",
    "\n",
    "print(train_set.shape)\n",
    "train_set.head()"
   ]
  },
  {
   "cell_type": "code",
   "execution_count": 28,
   "id": "692686ba",
   "metadata": {},
   "outputs": [
    {
     "data": {
      "text/plain": [
       "(0.0, 7.26)"
      ]
     },
     "execution_count": 28,
     "metadata": {},
     "output_type": "execute_result"
    }
   ],
   "source": [
    "train_set['example_age'].min(), train_set['example_age'].max()"
   ]
  },
  {
   "cell_type": "markdown",
   "id": "9492d58f",
   "metadata": {},
   "source": [
    "Inputs for submission:"
   ]
  },
  {
   "cell_type": "code",
   "execution_count": 29,
   "id": "e8f63ec9",
   "metadata": {},
   "outputs": [],
   "source": [
    "submission_inputs = transactions_train.copy()\n",
    "\n",
    "submission_inputs.sort_values(['customer_id', 't_dat'], inplace=True)\n",
    "\n",
    "submission_inputs['article_id_idx'] = submission_inputs['article_id_idx'].astype(str)\n",
    "\n",
    "latest_transaction_date_by_cust = (\n",
    "    submission_inputs\n",
    "        .groupby('customer_id')[['customer_id', 't_dat']]\n",
    "        .tail(1)\n",
    ")\n",
    "\n",
    "submission_inputs = (\n",
    "    submission_inputs\n",
    "        .groupby('customer_id')\n",
    "        .tail(10)  # Most recent articles only\n",
    "        .groupby('customer_id')['article_id_idx']\n",
    "        .apply(lambda x: ','.join(x))\n",
    "        .reset_index()\n",
    ")\n",
    "\n",
    "submission_inputs = submission_inputs.merge(\n",
    "    latest_transaction_date_by_cust.rename(columns={'t_dat': 't_dat_latest'}), \n",
    "    on='customer_id'\n",
    ")\n",
    "\n",
    "submission_inputs['example_age'] = (endm1 - submission_inputs['t_dat_latest']).dt.days / 100"
   ]
  },
  {
   "cell_type": "code",
   "execution_count": 30,
   "id": "26782281",
   "metadata": {},
   "outputs": [
    {
     "data": {
      "text/html": [
       "<div>\n",
       "<style scoped>\n",
       "    .dataframe tbody tr th:only-of-type {\n",
       "        vertical-align: middle;\n",
       "    }\n",
       "\n",
       "    .dataframe tbody tr th {\n",
       "        vertical-align: top;\n",
       "    }\n",
       "\n",
       "    .dataframe thead th {\n",
       "        text-align: right;\n",
       "    }\n",
       "</style>\n",
       "<table border=\"1\" class=\"dataframe\">\n",
       "  <thead>\n",
       "    <tr style=\"text-align: right;\">\n",
       "      <th></th>\n",
       "      <th>customer_id</th>\n",
       "      <th>article_id_idx</th>\n",
       "      <th>t_dat_latest</th>\n",
       "      <th>example_age</th>\n",
       "    </tr>\n",
       "  </thead>\n",
       "  <tbody>\n",
       "    <tr>\n",
       "      <th>0</th>\n",
       "      <td>00000dbacae5abe5e23885899a1fa44253a17956c6d1c3...</td>\n",
       "      <td>76366,49422,76453,83456,89860,99482,100018,785...</td>\n",
       "      <td>2020-09-05</td>\n",
       "      <td>0.10</td>\n",
       "    </tr>\n",
       "    <tr>\n",
       "      <th>1</th>\n",
       "      <td>0000423b00ade91418cceaf3b26c6af3dd342b51fd051e...</td>\n",
       "      <td>83177,59394,13719,22635,83234,83234,83229,8322...</td>\n",
       "      <td>2020-07-08</td>\n",
       "      <td>0.69</td>\n",
       "    </tr>\n",
       "    <tr>\n",
       "      <th>2</th>\n",
       "      <td>000058a12d5b43e67d225668fa1f8d618c13dc232df0ca...</td>\n",
       "      <td>60191,93352,91617,67188,67188,96085,96085,9193...</td>\n",
       "      <td>2020-09-15</td>\n",
       "      <td>0.00</td>\n",
       "    </tr>\n",
       "    <tr>\n",
       "      <th>3</th>\n",
       "      <td>00005ca1c9ed5f5146b52ac8639a40ca9d57aeff4d1bd2...</td>\n",
       "      <td>64452,61106</td>\n",
       "      <td>2019-06-09</td>\n",
       "      <td>4.64</td>\n",
       "    </tr>\n",
       "    <tr>\n",
       "      <th>4</th>\n",
       "      <td>00006413d8573cd20ed7128e53b7b13819fe5cfc2d801f...</td>\n",
       "      <td>54401,2178,2178,20490,87285,85008,100863,60694...</td>\n",
       "      <td>2020-08-12</td>\n",
       "      <td>0.34</td>\n",
       "    </tr>\n",
       "  </tbody>\n",
       "</table>\n",
       "</div>"
      ],
      "text/plain": [
       "                                         customer_id  \\\n",
       "0  00000dbacae5abe5e23885899a1fa44253a17956c6d1c3...   \n",
       "1  0000423b00ade91418cceaf3b26c6af3dd342b51fd051e...   \n",
       "2  000058a12d5b43e67d225668fa1f8d618c13dc232df0ca...   \n",
       "3  00005ca1c9ed5f5146b52ac8639a40ca9d57aeff4d1bd2...   \n",
       "4  00006413d8573cd20ed7128e53b7b13819fe5cfc2d801f...   \n",
       "\n",
       "                                      article_id_idx t_dat_latest  example_age  \n",
       "0  76366,49422,76453,83456,89860,99482,100018,785...   2020-09-05         0.10  \n",
       "1  83177,59394,13719,22635,83234,83234,83229,8322...   2020-07-08         0.69  \n",
       "2  60191,93352,91617,67188,67188,96085,96085,9193...   2020-09-15         0.00  \n",
       "3                                        64452,61106   2019-06-09         4.64  \n",
       "4  54401,2178,2178,20490,87285,85008,100863,60694...   2020-08-12         0.34  "
      ]
     },
     "execution_count": 30,
     "metadata": {},
     "output_type": "execute_result"
    }
   ],
   "source": [
    "submission_inputs.head()"
   ]
  },
  {
   "cell_type": "code",
   "execution_count": 31,
   "id": "4019661f",
   "metadata": {},
   "outputs": [
    {
     "name": "stdout",
     "output_type": "stream",
     "text": [
      "(1362281, 5)\n"
     ]
    },
    {
     "data": {
      "text/html": [
       "<div>\n",
       "<style scoped>\n",
       "    .dataframe tbody tr th:only-of-type {\n",
       "        vertical-align: middle;\n",
       "    }\n",
       "\n",
       "    .dataframe tbody tr th {\n",
       "        vertical-align: top;\n",
       "    }\n",
       "\n",
       "    .dataframe thead th {\n",
       "        text-align: right;\n",
       "    }\n",
       "</style>\n",
       "<table border=\"1\" class=\"dataframe\">\n",
       "  <thead>\n",
       "    <tr style=\"text-align: right;\">\n",
       "      <th></th>\n",
       "      <th>customer_id</th>\n",
       "      <th>article_id_idx_last10</th>\n",
       "      <th>t_dat_latest</th>\n",
       "      <th>example_age</th>\n",
       "      <th>article_id_idx_label</th>\n",
       "    </tr>\n",
       "  </thead>\n",
       "  <tbody>\n",
       "    <tr>\n",
       "      <th>0</th>\n",
       "      <td>00000dbacae5abe5e23885899a1fa44253a17956c6d1c3...</td>\n",
       "      <td>76366,49422,76453,83456,89860,99482,100018,785...</td>\n",
       "      <td>2020-09-05</td>\n",
       "      <td>0.10</td>\n",
       "      <td>0</td>\n",
       "    </tr>\n",
       "    <tr>\n",
       "      <th>1</th>\n",
       "      <td>0000423b00ade91418cceaf3b26c6af3dd342b51fd051e...</td>\n",
       "      <td>83177,59394,13719,22635,83234,83234,83229,8322...</td>\n",
       "      <td>2020-07-08</td>\n",
       "      <td>0.69</td>\n",
       "      <td>0</td>\n",
       "    </tr>\n",
       "    <tr>\n",
       "      <th>2</th>\n",
       "      <td>000058a12d5b43e67d225668fa1f8d618c13dc232df0ca...</td>\n",
       "      <td>60191,93352,91617,67188,67188,96085,96085,9193...</td>\n",
       "      <td>2020-09-15</td>\n",
       "      <td>0.00</td>\n",
       "      <td>0</td>\n",
       "    </tr>\n",
       "    <tr>\n",
       "      <th>3</th>\n",
       "      <td>00005ca1c9ed5f5146b52ac8639a40ca9d57aeff4d1bd2...</td>\n",
       "      <td>64452,61106</td>\n",
       "      <td>2019-06-09</td>\n",
       "      <td>4.64</td>\n",
       "      <td>0</td>\n",
       "    </tr>\n",
       "    <tr>\n",
       "      <th>4</th>\n",
       "      <td>00006413d8573cd20ed7128e53b7b13819fe5cfc2d801f...</td>\n",
       "      <td>54401,2178,2178,20490,87285,85008,100863,60694...</td>\n",
       "      <td>2020-08-12</td>\n",
       "      <td>0.34</td>\n",
       "      <td>0</td>\n",
       "    </tr>\n",
       "  </tbody>\n",
       "</table>\n",
       "</div>"
      ],
      "text/plain": [
       "                                         customer_id  \\\n",
       "0  00000dbacae5abe5e23885899a1fa44253a17956c6d1c3...   \n",
       "1  0000423b00ade91418cceaf3b26c6af3dd342b51fd051e...   \n",
       "2  000058a12d5b43e67d225668fa1f8d618c13dc232df0ca...   \n",
       "3  00005ca1c9ed5f5146b52ac8639a40ca9d57aeff4d1bd2...   \n",
       "4  00006413d8573cd20ed7128e53b7b13819fe5cfc2d801f...   \n",
       "\n",
       "                               article_id_idx_last10 t_dat_latest  \\\n",
       "0  76366,49422,76453,83456,89860,99482,100018,785...   2020-09-05   \n",
       "1  83177,59394,13719,22635,83234,83234,83229,8322...   2020-07-08   \n",
       "2  60191,93352,91617,67188,67188,96085,96085,9193...   2020-09-15   \n",
       "3                                        64452,61106   2019-06-09   \n",
       "4  54401,2178,2178,20490,87285,85008,100863,60694...   2020-08-12   \n",
       "\n",
       "   example_age article_id_idx_label  \n",
       "0         0.10                    0  \n",
       "1         0.69                    0  \n",
       "2         0.00                    0  \n",
       "3         4.64                    0  \n",
       "4         0.34                    0  "
      ]
     },
     "execution_count": 31,
     "metadata": {},
     "output_type": "execute_result"
    }
   ],
   "source": [
    "submission_inputs.rename(columns={'article_id_idx': 'article_id_idx_last10'}, inplace=True)\n",
    "submission_inputs['article_id_idx_label'] = '0'\n",
    "print(submission_inputs.shape)\n",
    "submission_inputs.head()"
   ]
  },
  {
   "cell_type": "code",
   "execution_count": 32,
   "id": "5eba92a1",
   "metadata": {},
   "outputs": [],
   "source": [
    "submission_inputs['num_purchases'] = '1'"
   ]
  },
  {
   "cell_type": "code",
   "execution_count": 33,
   "id": "86373e71",
   "metadata": {},
   "outputs": [
    {
     "data": {
      "text/plain": [
       "1362281"
      ]
     },
     "execution_count": 33,
     "metadata": {},
     "output_type": "execute_result"
    }
   ],
   "source": [
    "submission_inputs.shape[0]"
   ]
  },
  {
   "cell_type": "code",
   "execution_count": 57,
   "id": "f6e98c04",
   "metadata": {},
   "outputs": [
    {
     "data": {
      "text/plain": [
       "68.66666666666667"
      ]
     },
     "execution_count": 57,
     "metadata": {},
     "output_type": "execute_result"
    }
   ],
   "source": [
    "40*103/60"
   ]
  },
  {
   "cell_type": "markdown",
   "id": "053b2d0e",
   "metadata": {},
   "source": [
    "### Filter customers and get customer features"
   ]
  },
  {
   "cell_type": "code",
   "execution_count": 34,
   "id": "eebfa6cc",
   "metadata": {
    "colab": {
     "base_uri": "https://localhost:8080/",
     "height": 224
    },
    "executionInfo": {
     "elapsed": 4590,
     "status": "ok",
     "timestamp": 1651409345569,
     "user": {
      "displayName": "Steven George",
      "userId": "07709250839253394649"
     },
     "user_tz": -60
    },
    "id": "0a789f95",
    "outputId": "a5f65d2c-0eef-43d7-f0d3-38981a6b0c07"
   },
   "outputs": [
    {
     "name": "stdout",
     "output_type": "stream",
     "text": [
      "(1371980, 4)\n"
     ]
    },
    {
     "data": {
      "text/html": [
       "<div>\n",
       "<style scoped>\n",
       "    .dataframe tbody tr th:only-of-type {\n",
       "        vertical-align: middle;\n",
       "    }\n",
       "\n",
       "    .dataframe tbody tr th {\n",
       "        vertical-align: top;\n",
       "    }\n",
       "\n",
       "    .dataframe thead th {\n",
       "        text-align: right;\n",
       "    }\n",
       "</style>\n",
       "<table border=\"1\" class=\"dataframe\">\n",
       "  <thead>\n",
       "    <tr style=\"text-align: right;\">\n",
       "      <th></th>\n",
       "      <th>customer_id</th>\n",
       "      <th>FN</th>\n",
       "      <th>Active</th>\n",
       "      <th>age</th>\n",
       "    </tr>\n",
       "  </thead>\n",
       "  <tbody>\n",
       "    <tr>\n",
       "      <th>0</th>\n",
       "      <td>00000dbacae5abe5e23885899a1fa44253a17956c6d1c3...</td>\n",
       "      <td>NaN</td>\n",
       "      <td>NaN</td>\n",
       "      <td>49.0</td>\n",
       "    </tr>\n",
       "    <tr>\n",
       "      <th>1</th>\n",
       "      <td>0000423b00ade91418cceaf3b26c6af3dd342b51fd051e...</td>\n",
       "      <td>NaN</td>\n",
       "      <td>NaN</td>\n",
       "      <td>25.0</td>\n",
       "    </tr>\n",
       "    <tr>\n",
       "      <th>2</th>\n",
       "      <td>000058a12d5b43e67d225668fa1f8d618c13dc232df0ca...</td>\n",
       "      <td>NaN</td>\n",
       "      <td>NaN</td>\n",
       "      <td>24.0</td>\n",
       "    </tr>\n",
       "    <tr>\n",
       "      <th>3</th>\n",
       "      <td>00005ca1c9ed5f5146b52ac8639a40ca9d57aeff4d1bd2...</td>\n",
       "      <td>NaN</td>\n",
       "      <td>NaN</td>\n",
       "      <td>54.0</td>\n",
       "    </tr>\n",
       "    <tr>\n",
       "      <th>4</th>\n",
       "      <td>00006413d8573cd20ed7128e53b7b13819fe5cfc2d801f...</td>\n",
       "      <td>1.0</td>\n",
       "      <td>1.0</td>\n",
       "      <td>52.0</td>\n",
       "    </tr>\n",
       "  </tbody>\n",
       "</table>\n",
       "</div>"
      ],
      "text/plain": [
       "                                         customer_id   FN  Active   age\n",
       "0  00000dbacae5abe5e23885899a1fa44253a17956c6d1c3...  NaN     NaN  49.0\n",
       "1  0000423b00ade91418cceaf3b26c6af3dd342b51fd051e...  NaN     NaN  25.0\n",
       "2  000058a12d5b43e67d225668fa1f8d618c13dc232df0ca...  NaN     NaN  24.0\n",
       "3  00005ca1c9ed5f5146b52ac8639a40ca9d57aeff4d1bd2...  NaN     NaN  54.0\n",
       "4  00006413d8573cd20ed7128e53b7b13819fe5cfc2d801f...  1.0     1.0  52.0"
      ]
     },
     "execution_count": 34,
     "metadata": {},
     "output_type": "execute_result"
    }
   ],
   "source": [
    "customers = pd.read_csv('data/customers.csv', usecols=['customer_id', 'FN', 'Active', 'age'])\n",
    "print(customers.shape)\n",
    "customers.head()"
   ]
  },
  {
   "cell_type": "code",
   "execution_count": 35,
   "id": "23dfb8d5",
   "metadata": {},
   "outputs": [
    {
     "data": {
      "text/plain": [
       "63412"
      ]
     },
     "execution_count": 35,
     "metadata": {},
     "output_type": "execute_result"
    }
   ],
   "source": [
    "customers_to_keep = set(train_set['customer_id'])\n",
    "len(customers_to_keep)"
   ]
  },
  {
   "cell_type": "markdown",
   "id": "ea19d676",
   "metadata": {},
   "source": [
    "Filter out other customers from submission inputs (for other customers we'll just predict top-12)"
   ]
  },
  {
   "cell_type": "code",
   "execution_count": 36,
   "id": "02d37c98",
   "metadata": {},
   "outputs": [
    {
     "data": {
      "text/plain": [
       "0.04654839933904972"
      ]
     },
     "execution_count": 36,
     "metadata": {},
     "output_type": "execute_result"
    }
   ],
   "source": [
    "len(customers_to_keep) / len(submission_inputs)"
   ]
  },
  {
   "cell_type": "code",
   "execution_count": 37,
   "id": "c32abe04",
   "metadata": {},
   "outputs": [
    {
     "data": {
      "text/plain": [
       "(63412, 6)"
      ]
     },
     "execution_count": 37,
     "metadata": {},
     "output_type": "execute_result"
    }
   ],
   "source": [
    "submission_inputs = submission_inputs.copy()[submission_inputs['customer_id'].isin(customers_to_keep)]\n",
    "submission_inputs.shape"
   ]
  },
  {
   "cell_type": "code",
   "execution_count": 38,
   "id": "c82fa2dd",
   "metadata": {},
   "outputs": [
    {
     "data": {
      "text/html": [
       "<div>\n",
       "<style scoped>\n",
       "    .dataframe tbody tr th:only-of-type {\n",
       "        vertical-align: middle;\n",
       "    }\n",
       "\n",
       "    .dataframe tbody tr th {\n",
       "        vertical-align: top;\n",
       "    }\n",
       "\n",
       "    .dataframe thead th {\n",
       "        text-align: right;\n",
       "    }\n",
       "</style>\n",
       "<table border=\"1\" class=\"dataframe\">\n",
       "  <thead>\n",
       "    <tr style=\"text-align: right;\">\n",
       "      <th></th>\n",
       "      <th>customer_id</th>\n",
       "      <th>FN</th>\n",
       "      <th>Active</th>\n",
       "      <th>age</th>\n",
       "    </tr>\n",
       "  </thead>\n",
       "  <tbody>\n",
       "    <tr>\n",
       "      <th>0</th>\n",
       "      <td>00039306476aaf41a07fed942884f16b30abfa83a2a8be...</td>\n",
       "      <td>NaN</td>\n",
       "      <td>NaN</td>\n",
       "      <td>27.0</td>\n",
       "    </tr>\n",
       "    <tr>\n",
       "      <th>1</th>\n",
       "      <td>0003e867a930d0d6842f923d6ba7c9b77aba33fe2a0fbf...</td>\n",
       "      <td>1.0</td>\n",
       "      <td>1.0</td>\n",
       "      <td>33.0</td>\n",
       "    </tr>\n",
       "    <tr>\n",
       "      <th>2</th>\n",
       "      <td>000493dd9fc463df1acc2081450c9e75ef8e87d5dd17ed...</td>\n",
       "      <td>NaN</td>\n",
       "      <td>NaN</td>\n",
       "      <td>29.0</td>\n",
       "    </tr>\n",
       "    <tr>\n",
       "      <th>3</th>\n",
       "      <td>00077dbd5c4a4991e092e63893ccf29294a9d5c46e8501...</td>\n",
       "      <td>NaN</td>\n",
       "      <td>NaN</td>\n",
       "      <td>23.0</td>\n",
       "    </tr>\n",
       "    <tr>\n",
       "      <th>4</th>\n",
       "      <td>000fb6e772c5d0023892065e659963da90b1866035558e...</td>\n",
       "      <td>1.0</td>\n",
       "      <td>1.0</td>\n",
       "      <td>42.0</td>\n",
       "    </tr>\n",
       "  </tbody>\n",
       "</table>\n",
       "</div>"
      ],
      "text/plain": [
       "                                         customer_id   FN  Active   age\n",
       "0  00039306476aaf41a07fed942884f16b30abfa83a2a8be...  NaN     NaN  27.0\n",
       "1  0003e867a930d0d6842f923d6ba7c9b77aba33fe2a0fbf...  1.0     1.0  33.0\n",
       "2  000493dd9fc463df1acc2081450c9e75ef8e87d5dd17ed...  NaN     NaN  29.0\n",
       "3  00077dbd5c4a4991e092e63893ccf29294a9d5c46e8501...  NaN     NaN  23.0\n",
       "4  000fb6e772c5d0023892065e659963da90b1866035558e...  1.0     1.0  42.0"
      ]
     },
     "execution_count": 38,
     "metadata": {},
     "output_type": "execute_result"
    }
   ],
   "source": [
    "customers = customers.copy()[customers['customer_id'].isin(customers_to_keep)]\n",
    "customers.reset_index(drop=True, inplace=True)\n",
    "customers.head()"
   ]
  },
  {
   "cell_type": "code",
   "execution_count": 39,
   "id": "1a0f67ed",
   "metadata": {
    "colab": {
     "base_uri": "https://localhost:8080/"
    },
    "executionInfo": {
     "elapsed": 9,
     "status": "ok",
     "timestamp": 1651409345569,
     "user": {
      "displayName": "Steven George",
      "userId": "07709250839253394649"
     },
     "user_tz": -60
    },
    "id": "2cc539c0",
    "outputId": "8b132f08-da57-4444-9a9f-a13b7c23e42d"
   },
   "outputs": [
    {
     "data": {
      "text/plain": [
       "customer_id    0.000000\n",
       "FN             0.540513\n",
       "Active         0.547420\n",
       "age            0.004069\n",
       "dtype: float64"
      ]
     },
     "execution_count": 39,
     "metadata": {},
     "output_type": "execute_result"
    }
   ],
   "source": [
    "customers.isnull().sum() / customers.shape[0]"
   ]
  },
  {
   "cell_type": "code",
   "execution_count": 40,
   "id": "0c333964",
   "metadata": {
    "executionInfo": {
     "elapsed": 434,
     "status": "ok",
     "timestamp": 1651409345999,
     "user": {
      "displayName": "Steven George",
      "userId": "07709250839253394649"
     },
     "user_tz": -60
    },
    "id": "d18788c7"
   },
   "outputs": [],
   "source": [
    "customers[['FN', 'Active']] = customers[['FN', 'Active']].fillna(0)"
   ]
  },
  {
   "cell_type": "markdown",
   "id": "3e5f77e9",
   "metadata": {},
   "source": [
    "Despite potential data leakage we impute the nulls for age here:"
   ]
  },
  {
   "cell_type": "code",
   "execution_count": 41,
   "id": "8896600d",
   "metadata": {},
   "outputs": [
    {
     "data": {
      "text/plain": [
       "(63412, 4)"
      ]
     },
     "execution_count": 41,
     "metadata": {},
     "output_type": "execute_result"
    }
   ],
   "source": [
    "customers.shape"
   ]
  },
  {
   "cell_type": "code",
   "execution_count": 42,
   "id": "b80bdc12",
   "metadata": {},
   "outputs": [],
   "source": [
    "from sklearn.impute import SimpleImputer"
   ]
  },
  {
   "cell_type": "code",
   "execution_count": 43,
   "id": "8f326006",
   "metadata": {},
   "outputs": [],
   "source": [
    "simple_imputer = SimpleImputer()"
   ]
  },
  {
   "cell_type": "code",
   "execution_count": 44,
   "id": "1c0a8d81",
   "metadata": {},
   "outputs": [],
   "source": [
    "customers[['age']] = simple_imputer.fit_transform(customers[['age']])"
   ]
  },
  {
   "cell_type": "code",
   "execution_count": 45,
   "id": "4d7f4918",
   "metadata": {},
   "outputs": [],
   "source": [
    "customers['age'] /= 100"
   ]
  },
  {
   "cell_type": "code",
   "execution_count": 46,
   "id": "361901d7",
   "metadata": {
    "colab": {
     "base_uri": "https://localhost:8080/"
    },
    "executionInfo": {
     "elapsed": 9,
     "status": "ok",
     "timestamp": 1651409345569,
     "user": {
      "displayName": "Steven George",
      "userId": "07709250839253394649"
     },
     "user_tz": -60
    },
    "id": "2cc539c0",
    "outputId": "8b132f08-da57-4444-9a9f-a13b7c23e42d"
   },
   "outputs": [
    {
     "data": {
      "text/plain": [
       "customer_id    0.0\n",
       "FN             0.0\n",
       "Active         0.0\n",
       "age            0.0\n",
       "dtype: float64"
      ]
     },
     "execution_count": 46,
     "metadata": {},
     "output_type": "execute_result"
    }
   ],
   "source": [
    "customers.isnull().sum() / customers.shape[0]"
   ]
  },
  {
   "cell_type": "code",
   "execution_count": 47,
   "id": "188f8b06",
   "metadata": {},
   "outputs": [],
   "source": [
    "customers['customer_id_idx'] = customers.index"
   ]
  },
  {
   "cell_type": "code",
   "execution_count": 48,
   "id": "a48ddd78",
   "metadata": {},
   "outputs": [
    {
     "data": {
      "text/html": [
       "<div>\n",
       "<style scoped>\n",
       "    .dataframe tbody tr th:only-of-type {\n",
       "        vertical-align: middle;\n",
       "    }\n",
       "\n",
       "    .dataframe tbody tr th {\n",
       "        vertical-align: top;\n",
       "    }\n",
       "\n",
       "    .dataframe thead th {\n",
       "        text-align: right;\n",
       "    }\n",
       "</style>\n",
       "<table border=\"1\" class=\"dataframe\">\n",
       "  <thead>\n",
       "    <tr style=\"text-align: right;\">\n",
       "      <th></th>\n",
       "      <th>customer_id</th>\n",
       "      <th>FN</th>\n",
       "      <th>Active</th>\n",
       "      <th>age</th>\n",
       "      <th>customer_id_idx</th>\n",
       "    </tr>\n",
       "  </thead>\n",
       "  <tbody>\n",
       "    <tr>\n",
       "      <th>0</th>\n",
       "      <td>00039306476aaf41a07fed942884f16b30abfa83a2a8be...</td>\n",
       "      <td>0.0</td>\n",
       "      <td>0.0</td>\n",
       "      <td>0.27</td>\n",
       "      <td>0</td>\n",
       "    </tr>\n",
       "    <tr>\n",
       "      <th>1</th>\n",
       "      <td>0003e867a930d0d6842f923d6ba7c9b77aba33fe2a0fbf...</td>\n",
       "      <td>1.0</td>\n",
       "      <td>1.0</td>\n",
       "      <td>0.33</td>\n",
       "      <td>1</td>\n",
       "    </tr>\n",
       "    <tr>\n",
       "      <th>2</th>\n",
       "      <td>000493dd9fc463df1acc2081450c9e75ef8e87d5dd17ed...</td>\n",
       "      <td>0.0</td>\n",
       "      <td>0.0</td>\n",
       "      <td>0.29</td>\n",
       "      <td>2</td>\n",
       "    </tr>\n",
       "    <tr>\n",
       "      <th>3</th>\n",
       "      <td>00077dbd5c4a4991e092e63893ccf29294a9d5c46e8501...</td>\n",
       "      <td>0.0</td>\n",
       "      <td>0.0</td>\n",
       "      <td>0.23</td>\n",
       "      <td>3</td>\n",
       "    </tr>\n",
       "    <tr>\n",
       "      <th>4</th>\n",
       "      <td>000fb6e772c5d0023892065e659963da90b1866035558e...</td>\n",
       "      <td>1.0</td>\n",
       "      <td>1.0</td>\n",
       "      <td>0.42</td>\n",
       "      <td>4</td>\n",
       "    </tr>\n",
       "  </tbody>\n",
       "</table>\n",
       "</div>"
      ],
      "text/plain": [
       "                                         customer_id   FN  Active   age  \\\n",
       "0  00039306476aaf41a07fed942884f16b30abfa83a2a8be...  0.0     0.0  0.27   \n",
       "1  0003e867a930d0d6842f923d6ba7c9b77aba33fe2a0fbf...  1.0     1.0  0.33   \n",
       "2  000493dd9fc463df1acc2081450c9e75ef8e87d5dd17ed...  0.0     0.0  0.29   \n",
       "3  00077dbd5c4a4991e092e63893ccf29294a9d5c46e8501...  0.0     0.0  0.23   \n",
       "4  000fb6e772c5d0023892065e659963da90b1866035558e...  1.0     1.0  0.42   \n",
       "\n",
       "   customer_id_idx  \n",
       "0                0  \n",
       "1                1  \n",
       "2                2  \n",
       "3                3  \n",
       "4                4  "
      ]
     },
     "execution_count": 48,
     "metadata": {},
     "output_type": "execute_result"
    }
   ],
   "source": [
    "customers.head()"
   ]
  },
  {
   "cell_type": "code",
   "execution_count": 49,
   "id": "42206d7c",
   "metadata": {},
   "outputs": [],
   "source": [
    "train_set = train_set.merge(customers, on=['customer_id'])"
   ]
  },
  {
   "cell_type": "code",
   "execution_count": 50,
   "id": "608f8075",
   "metadata": {},
   "outputs": [],
   "source": [
    "submission_inputs = submission_inputs.merge(customers, on=['customer_id'])"
   ]
  },
  {
   "cell_type": "code",
   "execution_count": 51,
   "id": "8fc29eae",
   "metadata": {},
   "outputs": [
    {
     "data": {
      "text/html": [
       "<div>\n",
       "<style scoped>\n",
       "    .dataframe tbody tr th:only-of-type {\n",
       "        vertical-align: middle;\n",
       "    }\n",
       "\n",
       "    .dataframe tbody tr th {\n",
       "        vertical-align: top;\n",
       "    }\n",
       "\n",
       "    .dataframe thead th {\n",
       "        text-align: right;\n",
       "    }\n",
       "</style>\n",
       "<table border=\"1\" class=\"dataframe\">\n",
       "  <thead>\n",
       "    <tr style=\"text-align: right;\">\n",
       "      <th></th>\n",
       "      <th>customer_id</th>\n",
       "      <th>article_id_idx_last10</th>\n",
       "      <th>t_dat_latest</th>\n",
       "      <th>article_id_idx_label</th>\n",
       "      <th>num_purchases</th>\n",
       "      <th>example_age</th>\n",
       "      <th>FN</th>\n",
       "      <th>Active</th>\n",
       "      <th>age</th>\n",
       "      <th>customer_id_idx</th>\n",
       "    </tr>\n",
       "  </thead>\n",
       "  <tbody>\n",
       "    <tr>\n",
       "      <th>0</th>\n",
       "      <td>00039306476aaf41a07fed942884f16b30abfa83a2a8be...</td>\n",
       "      <td>68500,74711,2861,92243,42086,42086,59253,53988...</td>\n",
       "      <td>2020-02-06</td>\n",
       "      <td>28934</td>\n",
       "      <td>1</td>\n",
       "      <td>2.22</td>\n",
       "      <td>0.0</td>\n",
       "      <td>0.0</td>\n",
       "      <td>0.27</td>\n",
       "      <td>0</td>\n",
       "    </tr>\n",
       "    <tr>\n",
       "      <th>1</th>\n",
       "      <td>0003e867a930d0d6842f923d6ba7c9b77aba33fe2a0fbf...</td>\n",
       "      <td>103449,100157,102878,101898,102115,33833,27875...</td>\n",
       "      <td>2020-09-14</td>\n",
       "      <td>87181</td>\n",
       "      <td>1</td>\n",
       "      <td>0.01</td>\n",
       "      <td>1.0</td>\n",
       "      <td>1.0</td>\n",
       "      <td>0.33</td>\n",
       "      <td>1</td>\n",
       "    </tr>\n",
       "    <tr>\n",
       "      <th>2</th>\n",
       "      <td>000493dd9fc463df1acc2081450c9e75ef8e87d5dd17ed...</td>\n",
       "      <td>61533,72093,2216,61234,13023,91804,61236,17917...</td>\n",
       "      <td>2020-09-09</td>\n",
       "      <td>33837,69614,77117</td>\n",
       "      <td>1,1,1</td>\n",
       "      <td>0.06</td>\n",
       "      <td>0.0</td>\n",
       "      <td>0.0</td>\n",
       "      <td>0.29</td>\n",
       "      <td>2</td>\n",
       "    </tr>\n",
       "    <tr>\n",
       "      <th>3</th>\n",
       "      <td>00077dbd5c4a4991e092e63893ccf29294a9d5c46e8501...</td>\n",
       "      <td>99809,86359,81667,81667,81667,81667,104116,949...</td>\n",
       "      <td>2020-09-12</td>\n",
       "      <td>101827,102244,103079,103080,103285,104210,1043...</td>\n",
       "      <td>1,1,1,1,1,1,1,1,1,1,1,1,1,1</td>\n",
       "      <td>0.03</td>\n",
       "      <td>0.0</td>\n",
       "      <td>0.0</td>\n",
       "      <td>0.23</td>\n",
       "      <td>3</td>\n",
       "    </tr>\n",
       "    <tr>\n",
       "      <th>4</th>\n",
       "      <td>000fb6e772c5d0023892065e659963da90b1866035558e...</td>\n",
       "      <td>86451,79339,101728,87947,98978,71002,103396,10...</td>\n",
       "      <td>2020-09-10</td>\n",
       "      <td>102870,103396,76557,96449,99876</td>\n",
       "      <td>2,1,1,3,2</td>\n",
       "      <td>0.05</td>\n",
       "      <td>1.0</td>\n",
       "      <td>1.0</td>\n",
       "      <td>0.42</td>\n",
       "      <td>4</td>\n",
       "    </tr>\n",
       "  </tbody>\n",
       "</table>\n",
       "</div>"
      ],
      "text/plain": [
       "                                         customer_id  \\\n",
       "0  00039306476aaf41a07fed942884f16b30abfa83a2a8be...   \n",
       "1  0003e867a930d0d6842f923d6ba7c9b77aba33fe2a0fbf...   \n",
       "2  000493dd9fc463df1acc2081450c9e75ef8e87d5dd17ed...   \n",
       "3  00077dbd5c4a4991e092e63893ccf29294a9d5c46e8501...   \n",
       "4  000fb6e772c5d0023892065e659963da90b1866035558e...   \n",
       "\n",
       "                               article_id_idx_last10 t_dat_latest  \\\n",
       "0  68500,74711,2861,92243,42086,42086,59253,53988...   2020-02-06   \n",
       "1  103449,100157,102878,101898,102115,33833,27875...   2020-09-14   \n",
       "2  61533,72093,2216,61234,13023,91804,61236,17917...   2020-09-09   \n",
       "3  99809,86359,81667,81667,81667,81667,104116,949...   2020-09-12   \n",
       "4  86451,79339,101728,87947,98978,71002,103396,10...   2020-09-10   \n",
       "\n",
       "                                article_id_idx_label  \\\n",
       "0                                              28934   \n",
       "1                                              87181   \n",
       "2                                  33837,69614,77117   \n",
       "3  101827,102244,103079,103080,103285,104210,1043...   \n",
       "4                    102870,103396,76557,96449,99876   \n",
       "\n",
       "                 num_purchases  example_age   FN  Active   age  \\\n",
       "0                            1         2.22  0.0     0.0  0.27   \n",
       "1                            1         0.01  1.0     1.0  0.33   \n",
       "2                        1,1,1         0.06  0.0     0.0  0.29   \n",
       "3  1,1,1,1,1,1,1,1,1,1,1,1,1,1         0.03  0.0     0.0  0.23   \n",
       "4                    2,1,1,3,2         0.05  1.0     1.0  0.42   \n",
       "\n",
       "   customer_id_idx  \n",
       "0                0  \n",
       "1                1  \n",
       "2                2  \n",
       "3                3  \n",
       "4                4  "
      ]
     },
     "execution_count": 51,
     "metadata": {},
     "output_type": "execute_result"
    }
   ],
   "source": [
    "train_set.head()"
   ]
  },
  {
   "cell_type": "code",
   "execution_count": 52,
   "id": "ce02289f",
   "metadata": {},
   "outputs": [],
   "source": [
    "train_set = train_set[['customer_id_idx', 'article_id_idx_last10', 'article_id_idx_label', 'FN', 'Active', 'age', 'num_purchases', 'example_age']]"
   ]
  },
  {
   "cell_type": "code",
   "execution_count": 53,
   "id": "5abf1de5",
   "metadata": {},
   "outputs": [],
   "source": [
    "submission_inputs = submission_inputs[['customer_id_idx', 'article_id_idx_last10', 'article_id_idx_label', 'FN', 'Active', 'age', 'num_purchases', 'example_age']]"
   ]
  },
  {
   "cell_type": "code",
   "execution_count": 54,
   "id": "5a8c9523",
   "metadata": {},
   "outputs": [
    {
     "data": {
      "text/html": [
       "<div>\n",
       "<style scoped>\n",
       "    .dataframe tbody tr th:only-of-type {\n",
       "        vertical-align: middle;\n",
       "    }\n",
       "\n",
       "    .dataframe tbody tr th {\n",
       "        vertical-align: top;\n",
       "    }\n",
       "\n",
       "    .dataframe thead th {\n",
       "        text-align: right;\n",
       "    }\n",
       "</style>\n",
       "<table border=\"1\" class=\"dataframe\">\n",
       "  <thead>\n",
       "    <tr style=\"text-align: right;\">\n",
       "      <th></th>\n",
       "      <th>customer_id_idx</th>\n",
       "      <th>article_id_idx_last10</th>\n",
       "      <th>article_id_idx_label</th>\n",
       "      <th>FN</th>\n",
       "      <th>Active</th>\n",
       "      <th>age</th>\n",
       "      <th>num_purchases</th>\n",
       "      <th>example_age</th>\n",
       "    </tr>\n",
       "  </thead>\n",
       "  <tbody>\n",
       "    <tr>\n",
       "      <th>0</th>\n",
       "      <td>0</td>\n",
       "      <td>68500,74711,2861,92243,42086,42086,59253,53988...</td>\n",
       "      <td>28934</td>\n",
       "      <td>0.0</td>\n",
       "      <td>0.0</td>\n",
       "      <td>0.27</td>\n",
       "      <td>1</td>\n",
       "      <td>2.22</td>\n",
       "    </tr>\n",
       "    <tr>\n",
       "      <th>1</th>\n",
       "      <td>1</td>\n",
       "      <td>103449,100157,102878,101898,102115,33833,27875...</td>\n",
       "      <td>87181</td>\n",
       "      <td>1.0</td>\n",
       "      <td>1.0</td>\n",
       "      <td>0.33</td>\n",
       "      <td>1</td>\n",
       "      <td>0.01</td>\n",
       "    </tr>\n",
       "    <tr>\n",
       "      <th>2</th>\n",
       "      <td>2</td>\n",
       "      <td>61533,72093,2216,61234,13023,91804,61236,17917...</td>\n",
       "      <td>33837,69614,77117</td>\n",
       "      <td>0.0</td>\n",
       "      <td>0.0</td>\n",
       "      <td>0.29</td>\n",
       "      <td>1,1,1</td>\n",
       "      <td>0.06</td>\n",
       "    </tr>\n",
       "    <tr>\n",
       "      <th>3</th>\n",
       "      <td>3</td>\n",
       "      <td>99809,86359,81667,81667,81667,81667,104116,949...</td>\n",
       "      <td>101827,102244,103079,103080,103285,104210,1043...</td>\n",
       "      <td>0.0</td>\n",
       "      <td>0.0</td>\n",
       "      <td>0.23</td>\n",
       "      <td>1,1,1,1,1,1,1,1,1,1,1,1,1,1</td>\n",
       "      <td>0.03</td>\n",
       "    </tr>\n",
       "    <tr>\n",
       "      <th>4</th>\n",
       "      <td>4</td>\n",
       "      <td>86451,79339,101728,87947,98978,71002,103396,10...</td>\n",
       "      <td>102870,103396,76557,96449,99876</td>\n",
       "      <td>1.0</td>\n",
       "      <td>1.0</td>\n",
       "      <td>0.42</td>\n",
       "      <td>2,1,1,3,2</td>\n",
       "      <td>0.05</td>\n",
       "    </tr>\n",
       "  </tbody>\n",
       "</table>\n",
       "</div>"
      ],
      "text/plain": [
       "   customer_id_idx                              article_id_idx_last10  \\\n",
       "0                0  68500,74711,2861,92243,42086,42086,59253,53988...   \n",
       "1                1  103449,100157,102878,101898,102115,33833,27875...   \n",
       "2                2  61533,72093,2216,61234,13023,91804,61236,17917...   \n",
       "3                3  99809,86359,81667,81667,81667,81667,104116,949...   \n",
       "4                4  86451,79339,101728,87947,98978,71002,103396,10...   \n",
       "\n",
       "                                article_id_idx_label   FN  Active   age  \\\n",
       "0                                              28934  0.0     0.0  0.27   \n",
       "1                                              87181  1.0     1.0  0.33   \n",
       "2                                  33837,69614,77117  0.0     0.0  0.29   \n",
       "3  101827,102244,103079,103080,103285,104210,1043...  0.0     0.0  0.23   \n",
       "4                    102870,103396,76557,96449,99876  1.0     1.0  0.42   \n",
       "\n",
       "                 num_purchases  example_age  \n",
       "0                            1         2.22  \n",
       "1                            1         0.01  \n",
       "2                        1,1,1         0.06  \n",
       "3  1,1,1,1,1,1,1,1,1,1,1,1,1,1         0.03  \n",
       "4                    2,1,1,3,2         0.05  "
      ]
     },
     "execution_count": 54,
     "metadata": {},
     "output_type": "execute_result"
    }
   ],
   "source": [
    "train_set.head()"
   ]
  },
  {
   "cell_type": "code",
   "execution_count": 55,
   "id": "38268998",
   "metadata": {},
   "outputs": [
    {
     "data": {
      "text/html": [
       "<div>\n",
       "<style scoped>\n",
       "    .dataframe tbody tr th:only-of-type {\n",
       "        vertical-align: middle;\n",
       "    }\n",
       "\n",
       "    .dataframe tbody tr th {\n",
       "        vertical-align: top;\n",
       "    }\n",
       "\n",
       "    .dataframe thead th {\n",
       "        text-align: right;\n",
       "    }\n",
       "</style>\n",
       "<table border=\"1\" class=\"dataframe\">\n",
       "  <thead>\n",
       "    <tr style=\"text-align: right;\">\n",
       "      <th></th>\n",
       "      <th>customer_id_idx</th>\n",
       "      <th>article_id_idx_last10</th>\n",
       "      <th>article_id_idx_label</th>\n",
       "      <th>FN</th>\n",
       "      <th>Active</th>\n",
       "      <th>age</th>\n",
       "      <th>num_purchases</th>\n",
       "      <th>example_age</th>\n",
       "    </tr>\n",
       "  </thead>\n",
       "  <tbody>\n",
       "    <tr>\n",
       "      <th>0</th>\n",
       "      <td>0</td>\n",
       "      <td>74711,2861,92243,42086,42086,59253,53988,73222...</td>\n",
       "      <td>0</td>\n",
       "      <td>0.0</td>\n",
       "      <td>0.0</td>\n",
       "      <td>0.27</td>\n",
       "      <td>1</td>\n",
       "      <td>-0.05</td>\n",
       "    </tr>\n",
       "    <tr>\n",
       "      <th>1</th>\n",
       "      <td>1</td>\n",
       "      <td>100157,102878,101898,102115,33833,27875,98220,...</td>\n",
       "      <td>0</td>\n",
       "      <td>1.0</td>\n",
       "      <td>1.0</td>\n",
       "      <td>0.33</td>\n",
       "      <td>1</td>\n",
       "      <td>-0.07</td>\n",
       "    </tr>\n",
       "    <tr>\n",
       "      <th>2</th>\n",
       "      <td>2</td>\n",
       "      <td>61234,13023,91804,61236,17917,84492,61235,6961...</td>\n",
       "      <td>0</td>\n",
       "      <td>0.0</td>\n",
       "      <td>0.0</td>\n",
       "      <td>0.29</td>\n",
       "      <td>1</td>\n",
       "      <td>-0.06</td>\n",
       "    </tr>\n",
       "    <tr>\n",
       "      <th>3</th>\n",
       "      <td>3</td>\n",
       "      <td>103079,104210,103080,4736,103285,104379,102244...</td>\n",
       "      <td>0</td>\n",
       "      <td>0.0</td>\n",
       "      <td>0.0</td>\n",
       "      <td>0.23</td>\n",
       "      <td>1</td>\n",
       "      <td>-0.06</td>\n",
       "    </tr>\n",
       "    <tr>\n",
       "      <th>4</th>\n",
       "      <td>4</td>\n",
       "      <td>103984,76557,102870,99876,102870,99876,96449,9...</td>\n",
       "      <td>0</td>\n",
       "      <td>1.0</td>\n",
       "      <td>1.0</td>\n",
       "      <td>0.42</td>\n",
       "      <td>1</td>\n",
       "      <td>-0.06</td>\n",
       "    </tr>\n",
       "  </tbody>\n",
       "</table>\n",
       "</div>"
      ],
      "text/plain": [
       "   customer_id_idx                              article_id_idx_last10  \\\n",
       "0                0  74711,2861,92243,42086,42086,59253,53988,73222...   \n",
       "1                1  100157,102878,101898,102115,33833,27875,98220,...   \n",
       "2                2  61234,13023,91804,61236,17917,84492,61235,6961...   \n",
       "3                3  103079,104210,103080,4736,103285,104379,102244...   \n",
       "4                4  103984,76557,102870,99876,102870,99876,96449,9...   \n",
       "\n",
       "  article_id_idx_label   FN  Active   age num_purchases  example_age  \n",
       "0                    0  0.0     0.0  0.27             1        -0.05  \n",
       "1                    0  1.0     1.0  0.33             1        -0.07  \n",
       "2                    0  0.0     0.0  0.29             1        -0.06  \n",
       "3                    0  0.0     0.0  0.23             1        -0.06  \n",
       "4                    0  1.0     1.0  0.42             1        -0.06  "
      ]
     },
     "execution_count": 55,
     "metadata": {},
     "output_type": "execute_result"
    }
   ],
   "source": [
    "submission_inputs.head()"
   ]
  },
  {
   "cell_type": "markdown",
   "id": "433a4ee6",
   "metadata": {},
   "source": [
    "### Save files"
   ]
  },
  {
   "cell_type": "code",
   "execution_count": 56,
   "id": "707584ee",
   "metadata": {},
   "outputs": [],
   "source": [
    "train_set.to_csv('data/final_train_set_with_counts_and_age_extended_for_submission.tsv', sep='\\t', index=False)\n",
    "submission_inputs.to_csv('data/final_submission_inputs_with_counts_and_age_extended_for_submission.tsv', sep='\\t', index=False)\n",
    "\n",
    "articles_df.to_csv('data/articles_df_filt_with_counts_and_age_extended_for_submission.csv', index=False)\n",
    "customers.to_csv('data/customers_filt_with_counts_and_age_extended_for_submission.csv', index=False)"
   ]
  },
  {
   "cell_type": "markdown",
   "id": "78622e7a",
   "metadata": {},
   "source": [
    "### IterableDataset"
   ]
  },
  {
   "cell_type": "code",
   "execution_count": 70,
   "id": "0f14fc0a",
   "metadata": {},
   "outputs": [],
   "source": [
    "class RecommendationDatasetMultiLabel(IterableDataset):\n",
    "\n",
    "    def __init__(self, dataset_filepath, article_emb_bag, total_articles):\n",
    "        \n",
    "        self.dataset_itr = open(dataset_filepath, 'r')\n",
    "        next(self.dataset_itr)  # skip header\n",
    "        \n",
    "        self.article_emb_bag = article_emb_bag\n",
    "        \n",
    "        self.total_articles = total_articles\n",
    "    \n",
    "    def process_label(self, label_str: str, num_purchases_str: str):\n",
    "        \n",
    "        labels = torch.tensor([int(v) for v in label_str.split(',')])\n",
    "        \n",
    "        num_purchases = torch.tensor([float(v) for v in num_purchases_str.split(',')])\n",
    "        \n",
    "        target = torch.zeros(self.total_articles).scatter_(0, labels, num_purchases)\n",
    "\n",
    "        return target\n",
    "    \n",
    "    def mean_historical_purchases_embedding(self, input_str: str):\n",
    "        \n",
    "        indices = torch.tensor([int(v) for v in input_str.split(',')])\n",
    "\n",
    "        mean_emb = self.article_emb_bag(indices.unsqueeze(0)).flatten()\n",
    "            \n",
    "        return mean_emb\n",
    "    \n",
    "    def process_numeric_features(self, fn: str, active: str, age: str, example_age: str):\n",
    "        numeric_features_tensor = torch.tensor([\n",
    "            float(fn),\n",
    "            float(active),\n",
    "            float(age),\n",
    "            float(example_age)\n",
    "        ])\n",
    "\n",
    "        return numeric_features_tensor\n",
    "    \n",
    "    def parse_itr(self, dataset_itr):\n",
    "        \n",
    "        for line in dataset_itr:\n",
    "        \n",
    "            line_items = line.rstrip('\\n').split('\\t')\n",
    "            \n",
    "            customer_id_idx, article_id_idx_last10, article_id_idx_label, fn, active, age, num_purchases, example_age = line_items\n",
    "            \n",
    "            customer_id_idx = int(customer_id_idx)\n",
    "            \n",
    "            numeric_features_tensor = self.process_numeric_features(fn, active, age, example_age)\n",
    "            \n",
    "            mean_emb = self.mean_historical_purchases_embedding(article_id_idx_last10)\n",
    "\n",
    "            label = self.process_label(article_id_idx_label, num_purchases)    \n",
    "            \n",
    "            inputs = torch.concat((mean_emb, numeric_features_tensor))\n",
    "\n",
    "            yield customer_id_idx, inputs, label\n",
    "        \n",
    "    def get_stream(self, dataset_itr):\n",
    "        \n",
    "        return self.parse_itr(dataset_itr)\n",
    "\n",
    "    def __iter__(self):\n",
    "        \n",
    "        return self.get_stream(self.dataset_itr)"
   ]
  },
  {
   "cell_type": "code",
   "execution_count": 81,
   "id": "31fb55cc",
   "metadata": {},
   "outputs": [],
   "source": [
    "dataset = RecommendationDatasetMultiLabel(dataset_filepath='data/final_train_set_with_counts_and_age.tsv', article_emb_bag=article_emb_bag, total_articles=total_articles)"
   ]
  },
  {
   "cell_type": "code",
   "execution_count": 84,
   "id": "a7f3e086",
   "metadata": {},
   "outputs": [
    {
     "data": {
      "text/html": [
       "<div>\n",
       "<style scoped>\n",
       "    .dataframe tbody tr th:only-of-type {\n",
       "        vertical-align: middle;\n",
       "    }\n",
       "\n",
       "    .dataframe tbody tr th {\n",
       "        vertical-align: top;\n",
       "    }\n",
       "\n",
       "    .dataframe thead th {\n",
       "        text-align: right;\n",
       "    }\n",
       "</style>\n",
       "<table border=\"1\" class=\"dataframe\">\n",
       "  <thead>\n",
       "    <tr style=\"text-align: right;\">\n",
       "      <th></th>\n",
       "      <th>customer_id_idx</th>\n",
       "      <th>article_id_idx_last10</th>\n",
       "      <th>article_id_idx_label</th>\n",
       "      <th>FN</th>\n",
       "      <th>Active</th>\n",
       "      <th>age</th>\n",
       "      <th>num_purchases</th>\n",
       "      <th>example_age</th>\n",
       "    </tr>\n",
       "  </thead>\n",
       "  <tbody>\n",
       "    <tr>\n",
       "      <th>0</th>\n",
       "      <td>0</td>\n",
       "      <td>15861</td>\n",
       "      <td>7705</td>\n",
       "      <td>0.0</td>\n",
       "      <td>0.0</td>\n",
       "      <td>0.45</td>\n",
       "      <td>3</td>\n",
       "      <td>0.42</td>\n",
       "    </tr>\n",
       "    <tr>\n",
       "      <th>1</th>\n",
       "      <td>1</td>\n",
       "      <td>38882,3152,31459,3157,39673,39510,17255,26222,...</td>\n",
       "      <td>3160,35654,38515,39642,40340</td>\n",
       "      <td>1.0</td>\n",
       "      <td>1.0</td>\n",
       "      <td>0.44</td>\n",
       "      <td>1,1,1,1,1</td>\n",
       "      <td>0.00</td>\n",
       "    </tr>\n",
       "    <tr>\n",
       "      <th>2</th>\n",
       "      <td>2</td>\n",
       "      <td>21627,21175,23351</td>\n",
       "      <td>23816</td>\n",
       "      <td>0.0</td>\n",
       "      <td>0.0</td>\n",
       "      <td>0.21</td>\n",
       "      <td>1</td>\n",
       "      <td>0.25</td>\n",
       "    </tr>\n",
       "    <tr>\n",
       "      <th>3</th>\n",
       "      <td>3</td>\n",
       "      <td>18099,33097,33097,39942,39441,36213</td>\n",
       "      <td>37897,38110,38872</td>\n",
       "      <td>1.0</td>\n",
       "      <td>1.0</td>\n",
       "      <td>0.33</td>\n",
       "      <td>1,1,1</td>\n",
       "      <td>0.21</td>\n",
       "    </tr>\n",
       "    <tr>\n",
       "      <th>4</th>\n",
       "      <td>4</td>\n",
       "      <td>23950,25602,10293,29865,19920,34107,25721,2152...</td>\n",
       "      <td>10396,15220,15224,21141,23930,37733,37735,37827</td>\n",
       "      <td>0.0</td>\n",
       "      <td>0.0</td>\n",
       "      <td>0.21</td>\n",
       "      <td>1,1,1,1,1,1,1,1</td>\n",
       "      <td>0.51</td>\n",
       "    </tr>\n",
       "    <tr>\n",
       "      <th>5</th>\n",
       "      <td>5</td>\n",
       "      <td>23368,29644,546,7957</td>\n",
       "      <td>23326,34657,34797,37783</td>\n",
       "      <td>0.0</td>\n",
       "      <td>0.0</td>\n",
       "      <td>0.19</td>\n",
       "      <td>2,1,1,1</td>\n",
       "      <td>0.32</td>\n",
       "    </tr>\n",
       "    <tr>\n",
       "      <th>6</th>\n",
       "      <td>6</td>\n",
       "      <td>32407,33337,34491,34150,39072,14076,14074,2120...</td>\n",
       "      <td>39072,40138</td>\n",
       "      <td>0.0</td>\n",
       "      <td>0.0</td>\n",
       "      <td>0.36</td>\n",
       "      <td>1,1</td>\n",
       "      <td>0.02</td>\n",
       "    </tr>\n",
       "    <tr>\n",
       "      <th>7</th>\n",
       "      <td>7</td>\n",
       "      <td>4388,37067,32054,30795,33397,15496,26253,1059,...</td>\n",
       "      <td>24455,30121</td>\n",
       "      <td>0.0</td>\n",
       "      <td>0.0</td>\n",
       "      <td>0.40</td>\n",
       "      <td>1,1</td>\n",
       "      <td>0.19</td>\n",
       "    </tr>\n",
       "    <tr>\n",
       "      <th>8</th>\n",
       "      <td>8</td>\n",
       "      <td>21970,10865</td>\n",
       "      <td>2471,35881,37827</td>\n",
       "      <td>1.0</td>\n",
       "      <td>1.0</td>\n",
       "      <td>0.22</td>\n",
       "      <td>1,1,1</td>\n",
       "      <td>0.50</td>\n",
       "    </tr>\n",
       "    <tr>\n",
       "      <th>9</th>\n",
       "      <td>9</td>\n",
       "      <td>25681,24592,30530,2370</td>\n",
       "      <td>23806,30609,37567</td>\n",
       "      <td>1.0</td>\n",
       "      <td>1.0</td>\n",
       "      <td>0.59</td>\n",
       "      <td>1,1,1</td>\n",
       "      <td>0.35</td>\n",
       "    </tr>\n",
       "    <tr>\n",
       "      <th>10</th>\n",
       "      <td>10</td>\n",
       "      <td>7604,7997</td>\n",
       "      <td>16262,16263,37624</td>\n",
       "      <td>0.0</td>\n",
       "      <td>0.0</td>\n",
       "      <td>0.21</td>\n",
       "      <td>1,1,1</td>\n",
       "      <td>0.52</td>\n",
       "    </tr>\n",
       "    <tr>\n",
       "      <th>11</th>\n",
       "      <td>11</td>\n",
       "      <td>2370</td>\n",
       "      <td>9483</td>\n",
       "      <td>0.0</td>\n",
       "      <td>0.0</td>\n",
       "      <td>0.44</td>\n",
       "      <td>1</td>\n",
       "      <td>0.03</td>\n",
       "    </tr>\n",
       "    <tr>\n",
       "      <th>12</th>\n",
       "      <td>12</td>\n",
       "      <td>36624,36624,34836,24961,34839,22200,25670</td>\n",
       "      <td>30582,37260</td>\n",
       "      <td>0.0</td>\n",
       "      <td>0.0</td>\n",
       "      <td>0.27</td>\n",
       "      <td>1,1</td>\n",
       "      <td>0.00</td>\n",
       "    </tr>\n",
       "    <tr>\n",
       "      <th>13</th>\n",
       "      <td>13</td>\n",
       "      <td>26177,26177,26177,31831,31831,31831,32833,3436...</td>\n",
       "      <td>30784,7682,7697</td>\n",
       "      <td>0.0</td>\n",
       "      <td>0.0</td>\n",
       "      <td>0.41</td>\n",
       "      <td>1,1,1</td>\n",
       "      <td>0.40</td>\n",
       "    </tr>\n",
       "    <tr>\n",
       "      <th>14</th>\n",
       "      <td>14</td>\n",
       "      <td>35034,22574,9569</td>\n",
       "      <td>33397,36503,38321</td>\n",
       "      <td>0.0</td>\n",
       "      <td>0.0</td>\n",
       "      <td>0.37</td>\n",
       "      <td>1,1,1</td>\n",
       "      <td>0.45</td>\n",
       "    </tr>\n",
       "    <tr>\n",
       "      <th>15</th>\n",
       "      <td>15</td>\n",
       "      <td>37540,4953,37677,15355,40180,39072,36872,38476...</td>\n",
       "      <td>19793,24455,25547,37728,4387</td>\n",
       "      <td>1.0</td>\n",
       "      <td>1.0</td>\n",
       "      <td>0.42</td>\n",
       "      <td>1,1,1,1,1</td>\n",
       "      <td>0.03</td>\n",
       "    </tr>\n",
       "    <tr>\n",
       "      <th>16</th>\n",
       "      <td>16</td>\n",
       "      <td>26013</td>\n",
       "      <td>1355,21208,25034,25385,2810</td>\n",
       "      <td>0.0</td>\n",
       "      <td>0.0</td>\n",
       "      <td>0.30</td>\n",
       "      <td>1,1,1,1,1</td>\n",
       "      <td>0.41</td>\n",
       "    </tr>\n",
       "    <tr>\n",
       "      <th>17</th>\n",
       "      <td>17</td>\n",
       "      <td>15270,2258,2260</td>\n",
       "      <td>23407,40262,40264</td>\n",
       "      <td>1.0</td>\n",
       "      <td>1.0</td>\n",
       "      <td>0.23</td>\n",
       "      <td>1,1,1</td>\n",
       "      <td>0.43</td>\n",
       "    </tr>\n",
       "    <tr>\n",
       "      <th>18</th>\n",
       "      <td>18</td>\n",
       "      <td>40445,40443,30867,11803,4930,8586,8580,8580,30...</td>\n",
       "      <td>37585,38298</td>\n",
       "      <td>0.0</td>\n",
       "      <td>0.0</td>\n",
       "      <td>0.39</td>\n",
       "      <td>1,1</td>\n",
       "      <td>0.34</td>\n",
       "    </tr>\n",
       "    <tr>\n",
       "      <th>19</th>\n",
       "      <td>19</td>\n",
       "      <td>17141,3962,3974,22183,2873,3126,2587</td>\n",
       "      <td>18835,19767,25165,36841,37017,39416,40392</td>\n",
       "      <td>0.0</td>\n",
       "      <td>0.0</td>\n",
       "      <td>0.32</td>\n",
       "      <td>1,1,1,1,1,1,1</td>\n",
       "      <td>0.24</td>\n",
       "    </tr>\n",
       "  </tbody>\n",
       "</table>\n",
       "</div>"
      ],
      "text/plain": [
       "    customer_id_idx                              article_id_idx_last10  \\\n",
       "0                 0                                              15861   \n",
       "1                 1  38882,3152,31459,3157,39673,39510,17255,26222,...   \n",
       "2                 2                                  21627,21175,23351   \n",
       "3                 3                18099,33097,33097,39942,39441,36213   \n",
       "4                 4  23950,25602,10293,29865,19920,34107,25721,2152...   \n",
       "5                 5                               23368,29644,546,7957   \n",
       "6                 6  32407,33337,34491,34150,39072,14076,14074,2120...   \n",
       "7                 7  4388,37067,32054,30795,33397,15496,26253,1059,...   \n",
       "8                 8                                        21970,10865   \n",
       "9                 9                             25681,24592,30530,2370   \n",
       "10               10                                          7604,7997   \n",
       "11               11                                               2370   \n",
       "12               12          36624,36624,34836,24961,34839,22200,25670   \n",
       "13               13  26177,26177,26177,31831,31831,31831,32833,3436...   \n",
       "14               14                                   35034,22574,9569   \n",
       "15               15  37540,4953,37677,15355,40180,39072,36872,38476...   \n",
       "16               16                                              26013   \n",
       "17               17                                    15270,2258,2260   \n",
       "18               18  40445,40443,30867,11803,4930,8586,8580,8580,30...   \n",
       "19               19               17141,3962,3974,22183,2873,3126,2587   \n",
       "\n",
       "                               article_id_idx_label   FN  Active   age  \\\n",
       "0                                              7705  0.0     0.0  0.45   \n",
       "1                      3160,35654,38515,39642,40340  1.0     1.0  0.44   \n",
       "2                                             23816  0.0     0.0  0.21   \n",
       "3                                 37897,38110,38872  1.0     1.0  0.33   \n",
       "4   10396,15220,15224,21141,23930,37733,37735,37827  0.0     0.0  0.21   \n",
       "5                           23326,34657,34797,37783  0.0     0.0  0.19   \n",
       "6                                       39072,40138  0.0     0.0  0.36   \n",
       "7                                       24455,30121  0.0     0.0  0.40   \n",
       "8                                  2471,35881,37827  1.0     1.0  0.22   \n",
       "9                                 23806,30609,37567  1.0     1.0  0.59   \n",
       "10                                16262,16263,37624  0.0     0.0  0.21   \n",
       "11                                             9483  0.0     0.0  0.44   \n",
       "12                                      30582,37260  0.0     0.0  0.27   \n",
       "13                                  30784,7682,7697  0.0     0.0  0.41   \n",
       "14                                33397,36503,38321  0.0     0.0  0.37   \n",
       "15                     19793,24455,25547,37728,4387  1.0     1.0  0.42   \n",
       "16                      1355,21208,25034,25385,2810  0.0     0.0  0.30   \n",
       "17                                23407,40262,40264  1.0     1.0  0.23   \n",
       "18                                      37585,38298  0.0     0.0  0.39   \n",
       "19        18835,19767,25165,36841,37017,39416,40392  0.0     0.0  0.32   \n",
       "\n",
       "      num_purchases  example_age  \n",
       "0                 3         0.42  \n",
       "1         1,1,1,1,1         0.00  \n",
       "2                 1         0.25  \n",
       "3             1,1,1         0.21  \n",
       "4   1,1,1,1,1,1,1,1         0.51  \n",
       "5           2,1,1,1         0.32  \n",
       "6               1,1         0.02  \n",
       "7               1,1         0.19  \n",
       "8             1,1,1         0.50  \n",
       "9             1,1,1         0.35  \n",
       "10            1,1,1         0.52  \n",
       "11                1         0.03  \n",
       "12              1,1         0.00  \n",
       "13            1,1,1         0.40  \n",
       "14            1,1,1         0.45  \n",
       "15        1,1,1,1,1         0.03  \n",
       "16        1,1,1,1,1         0.41  \n",
       "17            1,1,1         0.43  \n",
       "18              1,1         0.34  \n",
       "19    1,1,1,1,1,1,1         0.24  "
      ]
     },
     "execution_count": 84,
     "metadata": {},
     "output_type": "execute_result"
    }
   ],
   "source": [
    "pd.read_csv('data/final_train_set_with_counts_and_age.tsv', sep='\\t').head(20)"
   ]
  },
  {
   "cell_type": "code",
   "execution_count": 83,
   "id": "bc4c8fde",
   "metadata": {},
   "outputs": [
    {
     "name": "stdout",
     "output_type": "stream",
     "text": [
      "tensor([0, 1, 2, 3])\n",
      "tensor([[-1.2173,  0.1219, -0.2311,  ...,  0.0000,  0.4500,  0.4200],\n",
      "        [-0.1295, -0.0226,  0.2097,  ...,  1.0000,  0.4400,  0.0000],\n",
      "        [ 0.0787, -0.0579,  0.0796,  ...,  0.0000,  0.2100,  0.2500],\n",
      "        [ 0.2321,  0.9143, -1.3484,  ...,  1.0000,  0.3300,  0.2100]],\n",
      "       grad_fn=<StackBackward0>)\n",
      "tensor([[0., 0., 0.,  ..., 0., 0., 0.],\n",
      "        [0., 0., 0.,  ..., 0., 0., 0.],\n",
      "        [0., 0., 0.,  ..., 0., 0., 0.],\n",
      "        [0., 0., 0.,  ..., 0., 0., 0.]])\n",
      "torch.return_types.max(\n",
      "values=tensor([3., 1., 1., 1.]),\n",
      "indices=tensor([ 7705,  3160, 23816, 37897]))\n",
      "\n",
      "\n",
      "tensor([4, 5, 6, 7])\n",
      "tensor([[ 0.4209,  0.1502,  0.3306,  ...,  0.0000,  0.2100,  0.5100],\n",
      "        [ 0.3754, -0.4886, -0.1319,  ...,  0.0000,  0.1900,  0.3200],\n",
      "        [-0.6902,  0.3733, -0.0310,  ...,  0.0000,  0.3600,  0.0200],\n",
      "        [-0.5472,  0.3336,  0.1550,  ...,  0.0000,  0.4000,  0.1900]],\n",
      "       grad_fn=<StackBackward0>)\n",
      "tensor([[0., 0., 0.,  ..., 0., 0., 0.],\n",
      "        [0., 0., 0.,  ..., 0., 0., 0.],\n",
      "        [0., 0., 0.,  ..., 0., 0., 0.],\n",
      "        [0., 0., 0.,  ..., 0., 0., 0.]])\n",
      "torch.return_types.max(\n",
      "values=tensor([1., 2., 1., 1.]),\n",
      "indices=tensor([10396, 23326, 39072, 24455]))\n",
      "\n",
      "\n",
      "tensor([ 8,  9, 10, 11])\n",
      "tensor([[-0.5309, -0.4889,  0.5154,  ...,  1.0000,  0.2200,  0.5000],\n",
      "        [-0.7312,  0.0419, -0.5416,  ...,  1.0000,  0.5900,  0.3500],\n",
      "        [-0.0412, -0.7534,  1.4518,  ...,  0.0000,  0.2100,  0.5200],\n",
      "        [-1.4641,  0.2654, -1.1431,  ...,  0.0000,  0.4400,  0.0300]],\n",
      "       grad_fn=<StackBackward0>)\n",
      "tensor([[0., 0., 0.,  ..., 0., 0., 0.],\n",
      "        [0., 0., 0.,  ..., 0., 0., 0.],\n",
      "        [0., 0., 0.,  ..., 0., 0., 0.],\n",
      "        [0., 0., 0.,  ..., 0., 0., 0.]])\n",
      "torch.return_types.max(\n",
      "values=tensor([1., 1., 1., 1.]),\n",
      "indices=tensor([ 2471, 23806, 16262,  9483]))\n",
      "\n",
      "\n",
      "tensor([12, 13, 14, 15])\n",
      "tensor([[-0.3044,  0.0482,  0.0610,  ...,  0.0000,  0.2700,  0.0000],\n",
      "        [-0.5861,  0.3548,  0.7979,  ...,  0.0000,  0.4100,  0.4000],\n",
      "        [-0.5776,  0.4464,  0.6976,  ...,  0.0000,  0.3700,  0.4500],\n",
      "        [ 0.1667, -0.3388, -0.0524,  ...,  1.0000,  0.4200,  0.0300]],\n",
      "       grad_fn=<StackBackward0>)\n",
      "tensor([[0., 0., 0.,  ..., 0., 0., 0.],\n",
      "        [0., 0., 0.,  ..., 0., 0., 0.],\n",
      "        [0., 0., 0.,  ..., 0., 0., 0.],\n",
      "        [0., 0., 0.,  ..., 0., 0., 0.]])\n",
      "torch.return_types.max(\n",
      "values=tensor([1., 1., 1., 1.]),\n",
      "indices=tensor([30582,  7682, 33397,  4387]))\n",
      "\n",
      "\n",
      "tensor([16, 17, 18, 19])\n",
      "tensor([[ 7.6444e-01,  2.1942e-01, -3.2852e-02,  ...,  0.0000e+00,\n",
      "          3.0000e-01,  4.1000e-01],\n",
      "        [-8.1559e-02, -2.4208e-01, -2.1895e-01,  ...,  1.0000e+00,\n",
      "          2.3000e-01,  4.3000e-01],\n",
      "        [-5.4514e-01,  5.4441e-01, -2.8163e-01,  ...,  0.0000e+00,\n",
      "          3.9000e-01,  3.4000e-01],\n",
      "        [-8.6927e-04, -3.1023e-01, -5.1820e-01,  ...,  0.0000e+00,\n",
      "          3.2000e-01,  2.4000e-01]], grad_fn=<StackBackward0>)\n",
      "tensor([[0., 0., 0.,  ..., 0., 0., 0.],\n",
      "        [0., 0., 0.,  ..., 0., 0., 0.],\n",
      "        [0., 0., 0.,  ..., 0., 0., 0.],\n",
      "        [0., 0., 0.,  ..., 0., 0., 0.]])\n",
      "torch.return_types.max(\n",
      "values=tensor([1., 1., 1., 1.]),\n",
      "indices=tensor([ 1355, 23407, 37585, 18835]))\n",
      "\n",
      "\n"
     ]
    }
   ],
   "source": [
    "train_loader = DataLoader(dataset, batch_size=4)  \n",
    "    \n",
    "for idx, data in enumerate(train_loader):\n",
    "    \n",
    "    if idx == 5:\n",
    "        break\n",
    "    else:\n",
    "        customer_id_idx, inputs, label = data\n",
    "        print(customer_id_idx)\n",
    "        print(inputs)\n",
    "        print(label)\n",
    "        print(label.max(dim=1))\n",
    "        print('\\n')"
   ]
  },
  {
   "cell_type": "code",
   "execution_count": 78,
   "id": "982fd4e1",
   "metadata": {},
   "outputs": [
    {
     "data": {
      "text/plain": [
       "torch.return_types.max(\n",
       "values=tensor([1., 1., 1., 1.]),\n",
       "indices=tensor([ 1355, 23407, 37585, 18835]))"
      ]
     },
     "execution_count": 78,
     "metadata": {},
     "output_type": "execute_result"
    }
   ],
   "source": []
  },
  {
   "cell_type": "code",
   "execution_count": null,
   "id": "c425ee9e",
   "metadata": {},
   "outputs": [],
   "source": []
  },
  {
   "cell_type": "code",
   "execution_count": null,
   "id": "5150eb28",
   "metadata": {},
   "outputs": [],
   "source": []
  },
  {
   "cell_type": "code",
   "execution_count": null,
   "id": "75324122",
   "metadata": {},
   "outputs": [],
   "source": []
  },
  {
   "cell_type": "markdown",
   "id": "d26daeb1",
   "metadata": {},
   "source": [
    "### TODO\n",
    "\n",
    "- Wrap processing steps in a function and apply to train, test sets  [DONE]\n",
    "- Add customer features here (FN, Active, Age)  [DONE]\n",
    "- Save sets as CSVs  [DONE]\n",
    "- Save reduced articles df - use to generate correct embeddings by index  [DONE]\n",
    "- Save customers df - use to generate correct embeddings by index  [DONE]\n",
    "- Write iterable dataset which processes dataset  [DONE]\n",
    "    - Get mean for each of inputs and take average to use as input\n",
    "    - Multi-hot encode label"
   ]
  },
  {
   "cell_type": "markdown",
   "id": "de42d142",
   "metadata": {},
   "source": [
    "Checks of proecessing steps:"
   ]
  },
  {
   "cell_type": "markdown",
   "id": "70e79336",
   "metadata": {},
   "source": [
    "Multi-hot encoding:\n",
    "\n",
    "https://discuss.pytorch.org/t/what-kind-of-loss-is-better-to-use-in-multilabel-classification/32203/3"
   ]
  },
  {
   "cell_type": "code",
   "execution_count": 101,
   "id": "433be912",
   "metadata": {},
   "outputs": [
    {
     "data": {
      "text/plain": [
       "'18345,38864,35941,32663,39388'"
      ]
     },
     "execution_count": 101,
     "metadata": {},
     "output_type": "execute_result"
    }
   ],
   "source": [
    "article_id_idx_label = dev_set.iloc[3]['article_id_idx_label']\n",
    "article_id_idx_label"
   ]
  },
  {
   "cell_type": "code",
   "execution_count": 72,
   "id": "de97faa1",
   "metadata": {},
   "outputs": [],
   "source": [
    "total_articles = articles_df.shape[0]"
   ]
  },
  {
   "cell_type": "code",
   "execution_count": 112,
   "id": "ef06c532",
   "metadata": {},
   "outputs": [
    {
     "data": {
      "text/plain": [
       "tensor([18345, 38864, 35941, 32663, 39388])"
      ]
     },
     "execution_count": 112,
     "metadata": {},
     "output_type": "execute_result"
    }
   ],
   "source": [
    "labels = torch.tensor([int(v) for v in article_id_idx_label.split(',')])\n",
    "labels"
   ]
  },
  {
   "cell_type": "code",
   "execution_count": 111,
   "id": "487a36db",
   "metadata": {},
   "outputs": [
    {
     "data": {
      "text/plain": [
       "tensor([0., 0., 0.,  ..., 0., 0., 0.])"
      ]
     },
     "execution_count": 111,
     "metadata": {},
     "output_type": "execute_result"
    }
   ],
   "source": [
    "target = torch.zeros(total_articles).scatter_(0, labels, 1.)\n",
    "target"
   ]
  },
  {
   "cell_type": "code",
   "execution_count": 114,
   "id": "df753c62",
   "metadata": {},
   "outputs": [
    {
     "data": {
      "text/plain": [
       "tensor([1., 1., 1., 1., 1.])"
      ]
     },
     "execution_count": 114,
     "metadata": {},
     "output_type": "execute_result"
    }
   ],
   "source": [
    "target[labels]"
   ]
  },
  {
   "cell_type": "code",
   "execution_count": 115,
   "id": "e3029d27",
   "metadata": {},
   "outputs": [
    {
     "data": {
      "text/plain": [
       "tensor(5.)"
      ]
     },
     "execution_count": 115,
     "metadata": {},
     "output_type": "execute_result"
    }
   ],
   "source": [
    "target.sum()"
   ]
  },
  {
   "cell_type": "markdown",
   "id": "d34672fe",
   "metadata": {},
   "source": [
    "Getting mean encoding of historical basket"
   ]
  },
  {
   "cell_type": "code",
   "execution_count": 73,
   "id": "aa7add71",
   "metadata": {},
   "outputs": [],
   "source": [
    "article_emb_bag = nn.EmbeddingBag(num_embeddings=total_articles, embedding_dim=384)"
   ]
  },
  {
   "cell_type": "code",
   "execution_count": 135,
   "id": "e2964466",
   "metadata": {},
   "outputs": [
    {
     "data": {
      "text/plain": [
       "'37757,34393,5646,38997'"
      ]
     },
     "execution_count": 135,
     "metadata": {},
     "output_type": "execute_result"
    }
   ],
   "source": [
    "article_id_idx_last10 = dev_set.iloc[5]['article_id_idx_last10']\n",
    "article_id_idx_last10"
   ]
  },
  {
   "cell_type": "code",
   "execution_count": 136,
   "id": "79e53a85",
   "metadata": {},
   "outputs": [
    {
     "data": {
      "text/plain": [
       "tensor([37757, 34393,  5646, 38997])"
      ]
     },
     "execution_count": 136,
     "metadata": {},
     "output_type": "execute_result"
    }
   ],
   "source": [
    "indices = torch.tensor([int(v) for v in article_id_idx_last10.split(',')])\n",
    "indices"
   ]
  },
  {
   "cell_type": "code",
   "execution_count": 137,
   "id": "12d7edcf",
   "metadata": {},
   "outputs": [
    {
     "data": {
      "text/plain": [
       "tensor([[37757, 34393,  5646, 38997]])"
      ]
     },
     "execution_count": 137,
     "metadata": {},
     "output_type": "execute_result"
    }
   ],
   "source": [
    "indices.unsqueeze(0)"
   ]
  },
  {
   "cell_type": "code",
   "execution_count": 138,
   "id": "9a53cc41",
   "metadata": {},
   "outputs": [
    {
     "data": {
      "text/plain": [
       "torch.Size([1, 384])"
      ]
     },
     "execution_count": 138,
     "metadata": {},
     "output_type": "execute_result"
    }
   ],
   "source": [
    "mean_emb = article_emb_bag(indices.unsqueeze(0))\n",
    "mean_emb.shape"
   ]
  },
  {
   "cell_type": "code",
   "execution_count": 139,
   "id": "38ab773b",
   "metadata": {},
   "outputs": [],
   "source": [
    "torch.testing.assert_allclose(\n",
    "    mean_emb.flatten(),\n",
    "    article_emb_bag.weight[indices].mean(dim=0)\n",
    ")"
   ]
  },
  {
   "cell_type": "code",
   "execution_count": 141,
   "id": "a0528554",
   "metadata": {},
   "outputs": [
    {
     "data": {
      "text/plain": [
       "torch.Size([1, 384])"
      ]
     },
     "execution_count": 141,
     "metadata": {},
     "output_type": "execute_result"
    }
   ],
   "source": [
    "mean_emb = article_emb_bag(indices, offsets=torch.tensor([0]))\n",
    "mean_emb.shape"
   ]
  },
  {
   "cell_type": "code",
   "execution_count": 142,
   "id": "e526f0d2",
   "metadata": {},
   "outputs": [],
   "source": [
    "torch.testing.assert_allclose(\n",
    "    mean_emb.flatten(),\n",
    "    article_emb_bag.weight[indices].mean(dim=0)\n",
    ")"
   ]
  }
 ],
 "metadata": {
  "accelerator": "GPU",
  "colab": {
   "machine_shape": "hm",
   "name": "17-Simple candidate generation and NN ranker with sentence embeddings.ipynb",
   "provenance": []
  },
  "kernelspec": {
   "display_name": "Python 3 (ipykernel)",
   "language": "python",
   "name": "python3"
  },
  "language_info": {
   "codemirror_mode": {
    "name": "ipython",
    "version": 3
   },
   "file_extension": ".py",
   "mimetype": "text/x-python",
   "name": "python",
   "nbconvert_exporter": "python",
   "pygments_lexer": "ipython3",
   "version": "3.8.12"
  }
 },
 "nbformat": 4,
 "nbformat_minor": 5
}
