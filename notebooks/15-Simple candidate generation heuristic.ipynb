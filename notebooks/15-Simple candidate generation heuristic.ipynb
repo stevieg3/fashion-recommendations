{
 "cells": [
  {
   "cell_type": "code",
   "execution_count": 1,
   "id": "e58a2827",
   "metadata": {
    "colab": {
     "base_uri": "https://localhost:8080/"
    },
    "executionInfo": {
     "elapsed": 2383,
     "status": "ok",
     "timestamp": 1649692188955,
     "user": {
      "displayName": "Steven George",
      "userId": "07709250839253394649"
     },
     "user_tz": -60
    },
    "id": "52f14bce",
    "outputId": "cd23de3a-c1cd-4c9c-cc43-a9af16cd5e2a"
   },
   "outputs": [],
   "source": [
    "# from google.colab import drive\n",
    "# drive.mount('/content/drive', force_remount=True)"
   ]
  },
  {
   "cell_type": "code",
   "execution_count": 1,
   "id": "d0764c48",
   "metadata": {
    "executionInfo": {
     "elapsed": 1160,
     "status": "ok",
     "timestamp": 1649692190112,
     "user": {
      "displayName": "Steven George",
      "userId": "07709250839253394649"
     },
     "user_tz": -60
    },
    "id": "562972be"
   },
   "outputs": [],
   "source": [
    "import os\n",
    "import datetime\n",
    "\n",
    "import pandas as pd\n",
    "import numpy as np\n",
    "import matplotlib.pyplot as plt\n",
    "import torch\n",
    "import torch.nn as nn\n",
    "from torch.utils.data import Dataset, DataLoader\n",
    "from tqdm import tqdm"
   ]
  },
  {
   "cell_type": "code",
   "execution_count": 2,
   "id": "31cf6c3d",
   "metadata": {
    "executionInfo": {
     "elapsed": 11,
     "status": "ok",
     "timestamp": 1649692190113,
     "user": {
      "displayName": "Steven George",
      "userId": "07709250839253394649"
     },
     "user_tz": -60
    },
    "id": "627d0e90"
   },
   "outputs": [],
   "source": [
    "os.chdir('..')\n",
    "# os.chdir('drive/My Drive/Colab Notebooks/Github/fashion-recommendations') "
   ]
  },
  {
   "cell_type": "code",
   "execution_count": 3,
   "id": "4812f5b2",
   "metadata": {
    "executionInfo": {
     "elapsed": 10,
     "status": "ok",
     "timestamp": 1649692190113,
     "user": {
      "displayName": "Steven George",
      "userId": "07709250839253394649"
     },
     "user_tz": -60
    },
    "id": "ed516b5d"
   },
   "outputs": [],
   "source": [
    "from fashion_recommendations.metrics.average_precision import mapk"
   ]
  },
  {
   "cell_type": "code",
   "execution_count": 4,
   "id": "13667448",
   "metadata": {
    "executionInfo": {
     "elapsed": 11,
     "status": "ok",
     "timestamp": 1649692190114,
     "user": {
      "displayName": "Steven George",
      "userId": "07709250839253394649"
     },
     "user_tz": -60
    },
    "id": "9f676b44"
   },
   "outputs": [],
   "source": [
    "pd.options.display.max_columns = None"
   ]
  },
  {
   "cell_type": "code",
   "execution_count": 5,
   "id": "5428b3db",
   "metadata": {
    "colab": {
     "base_uri": "https://localhost:8080/"
    },
    "executionInfo": {
     "elapsed": 10,
     "status": "ok",
     "timestamp": 1649692190114,
     "user": {
      "displayName": "Steven George",
      "userId": "07709250839253394649"
     },
     "user_tz": -60
    },
    "id": "f32f6ce3",
    "outputId": "b8b104d5-8a14-478a-8a96-84784c8016ee"
   },
   "outputs": [
    {
     "name": "stdout",
     "output_type": "stream",
     "text": [
      "cpu\n"
     ]
    }
   ],
   "source": [
    "device = torch.device(\"cuda:0\" if torch.cuda.is_available() else \"cpu\")\n",
    "print(device)"
   ]
  },
  {
   "cell_type": "code",
   "execution_count": 6,
   "id": "bdc0d926",
   "metadata": {},
   "outputs": [
    {
     "name": "stdout",
     "output_type": "stream",
     "text": [
      "(105542, 25)\n"
     ]
    },
    {
     "data": {
      "text/html": [
       "<div>\n",
       "<style scoped>\n",
       "    .dataframe tbody tr th:only-of-type {\n",
       "        vertical-align: middle;\n",
       "    }\n",
       "\n",
       "    .dataframe tbody tr th {\n",
       "        vertical-align: top;\n",
       "    }\n",
       "\n",
       "    .dataframe thead th {\n",
       "        text-align: right;\n",
       "    }\n",
       "</style>\n",
       "<table border=\"1\" class=\"dataframe\">\n",
       "  <thead>\n",
       "    <tr style=\"text-align: right;\">\n",
       "      <th></th>\n",
       "      <th>article_id</th>\n",
       "      <th>product_code</th>\n",
       "      <th>prod_name</th>\n",
       "      <th>product_type_no</th>\n",
       "      <th>product_type_name</th>\n",
       "      <th>product_group_name</th>\n",
       "      <th>graphical_appearance_no</th>\n",
       "      <th>graphical_appearance_name</th>\n",
       "      <th>colour_group_code</th>\n",
       "      <th>colour_group_name</th>\n",
       "      <th>perceived_colour_value_id</th>\n",
       "      <th>perceived_colour_value_name</th>\n",
       "      <th>perceived_colour_master_id</th>\n",
       "      <th>perceived_colour_master_name</th>\n",
       "      <th>department_no</th>\n",
       "      <th>department_name</th>\n",
       "      <th>index_code</th>\n",
       "      <th>index_name</th>\n",
       "      <th>index_group_no</th>\n",
       "      <th>index_group_name</th>\n",
       "      <th>section_no</th>\n",
       "      <th>section_name</th>\n",
       "      <th>garment_group_no</th>\n",
       "      <th>garment_group_name</th>\n",
       "      <th>detail_desc</th>\n",
       "    </tr>\n",
       "  </thead>\n",
       "  <tbody>\n",
       "    <tr>\n",
       "      <th>0</th>\n",
       "      <td>0108775015</td>\n",
       "      <td>108775</td>\n",
       "      <td>Strap top</td>\n",
       "      <td>253</td>\n",
       "      <td>Vest top</td>\n",
       "      <td>Garment Upper body</td>\n",
       "      <td>1010016</td>\n",
       "      <td>Solid</td>\n",
       "      <td>9</td>\n",
       "      <td>Black</td>\n",
       "      <td>4</td>\n",
       "      <td>Dark</td>\n",
       "      <td>5</td>\n",
       "      <td>Black</td>\n",
       "      <td>1676</td>\n",
       "      <td>Jersey Basic</td>\n",
       "      <td>A</td>\n",
       "      <td>Ladieswear</td>\n",
       "      <td>1</td>\n",
       "      <td>Ladieswear</td>\n",
       "      <td>16</td>\n",
       "      <td>Womens Everyday Basics</td>\n",
       "      <td>1002</td>\n",
       "      <td>Jersey Basic</td>\n",
       "      <td>Jersey top with narrow shoulder straps.</td>\n",
       "    </tr>\n",
       "    <tr>\n",
       "      <th>1</th>\n",
       "      <td>0108775044</td>\n",
       "      <td>108775</td>\n",
       "      <td>Strap top</td>\n",
       "      <td>253</td>\n",
       "      <td>Vest top</td>\n",
       "      <td>Garment Upper body</td>\n",
       "      <td>1010016</td>\n",
       "      <td>Solid</td>\n",
       "      <td>10</td>\n",
       "      <td>White</td>\n",
       "      <td>3</td>\n",
       "      <td>Light</td>\n",
       "      <td>9</td>\n",
       "      <td>White</td>\n",
       "      <td>1676</td>\n",
       "      <td>Jersey Basic</td>\n",
       "      <td>A</td>\n",
       "      <td>Ladieswear</td>\n",
       "      <td>1</td>\n",
       "      <td>Ladieswear</td>\n",
       "      <td>16</td>\n",
       "      <td>Womens Everyday Basics</td>\n",
       "      <td>1002</td>\n",
       "      <td>Jersey Basic</td>\n",
       "      <td>Jersey top with narrow shoulder straps.</td>\n",
       "    </tr>\n",
       "    <tr>\n",
       "      <th>2</th>\n",
       "      <td>0108775051</td>\n",
       "      <td>108775</td>\n",
       "      <td>Strap top (1)</td>\n",
       "      <td>253</td>\n",
       "      <td>Vest top</td>\n",
       "      <td>Garment Upper body</td>\n",
       "      <td>1010017</td>\n",
       "      <td>Stripe</td>\n",
       "      <td>11</td>\n",
       "      <td>Off White</td>\n",
       "      <td>1</td>\n",
       "      <td>Dusty Light</td>\n",
       "      <td>9</td>\n",
       "      <td>White</td>\n",
       "      <td>1676</td>\n",
       "      <td>Jersey Basic</td>\n",
       "      <td>A</td>\n",
       "      <td>Ladieswear</td>\n",
       "      <td>1</td>\n",
       "      <td>Ladieswear</td>\n",
       "      <td>16</td>\n",
       "      <td>Womens Everyday Basics</td>\n",
       "      <td>1002</td>\n",
       "      <td>Jersey Basic</td>\n",
       "      <td>Jersey top with narrow shoulder straps.</td>\n",
       "    </tr>\n",
       "    <tr>\n",
       "      <th>3</th>\n",
       "      <td>0110065001</td>\n",
       "      <td>110065</td>\n",
       "      <td>OP T-shirt (Idro)</td>\n",
       "      <td>306</td>\n",
       "      <td>Bra</td>\n",
       "      <td>Underwear</td>\n",
       "      <td>1010016</td>\n",
       "      <td>Solid</td>\n",
       "      <td>9</td>\n",
       "      <td>Black</td>\n",
       "      <td>4</td>\n",
       "      <td>Dark</td>\n",
       "      <td>5</td>\n",
       "      <td>Black</td>\n",
       "      <td>1339</td>\n",
       "      <td>Clean Lingerie</td>\n",
       "      <td>B</td>\n",
       "      <td>Lingeries/Tights</td>\n",
       "      <td>1</td>\n",
       "      <td>Ladieswear</td>\n",
       "      <td>61</td>\n",
       "      <td>Womens Lingerie</td>\n",
       "      <td>1017</td>\n",
       "      <td>Under-, Nightwear</td>\n",
       "      <td>Microfibre T-shirt bra with underwired, moulde...</td>\n",
       "    </tr>\n",
       "    <tr>\n",
       "      <th>4</th>\n",
       "      <td>0110065002</td>\n",
       "      <td>110065</td>\n",
       "      <td>OP T-shirt (Idro)</td>\n",
       "      <td>306</td>\n",
       "      <td>Bra</td>\n",
       "      <td>Underwear</td>\n",
       "      <td>1010016</td>\n",
       "      <td>Solid</td>\n",
       "      <td>10</td>\n",
       "      <td>White</td>\n",
       "      <td>3</td>\n",
       "      <td>Light</td>\n",
       "      <td>9</td>\n",
       "      <td>White</td>\n",
       "      <td>1339</td>\n",
       "      <td>Clean Lingerie</td>\n",
       "      <td>B</td>\n",
       "      <td>Lingeries/Tights</td>\n",
       "      <td>1</td>\n",
       "      <td>Ladieswear</td>\n",
       "      <td>61</td>\n",
       "      <td>Womens Lingerie</td>\n",
       "      <td>1017</td>\n",
       "      <td>Under-, Nightwear</td>\n",
       "      <td>Microfibre T-shirt bra with underwired, moulde...</td>\n",
       "    </tr>\n",
       "  </tbody>\n",
       "</table>\n",
       "</div>"
      ],
      "text/plain": [
       "   article_id  product_code          prod_name  product_type_no  \\\n",
       "0  0108775015        108775          Strap top              253   \n",
       "1  0108775044        108775          Strap top              253   \n",
       "2  0108775051        108775      Strap top (1)              253   \n",
       "3  0110065001        110065  OP T-shirt (Idro)              306   \n",
       "4  0110065002        110065  OP T-shirt (Idro)              306   \n",
       "\n",
       "  product_type_name  product_group_name  graphical_appearance_no  \\\n",
       "0          Vest top  Garment Upper body                  1010016   \n",
       "1          Vest top  Garment Upper body                  1010016   \n",
       "2          Vest top  Garment Upper body                  1010017   \n",
       "3               Bra           Underwear                  1010016   \n",
       "4               Bra           Underwear                  1010016   \n",
       "\n",
       "  graphical_appearance_name  colour_group_code colour_group_name  \\\n",
       "0                     Solid                  9             Black   \n",
       "1                     Solid                 10             White   \n",
       "2                    Stripe                 11         Off White   \n",
       "3                     Solid                  9             Black   \n",
       "4                     Solid                 10             White   \n",
       "\n",
       "   perceived_colour_value_id perceived_colour_value_name  \\\n",
       "0                          4                        Dark   \n",
       "1                          3                       Light   \n",
       "2                          1                 Dusty Light   \n",
       "3                          4                        Dark   \n",
       "4                          3                       Light   \n",
       "\n",
       "   perceived_colour_master_id perceived_colour_master_name  department_no  \\\n",
       "0                           5                        Black           1676   \n",
       "1                           9                        White           1676   \n",
       "2                           9                        White           1676   \n",
       "3                           5                        Black           1339   \n",
       "4                           9                        White           1339   \n",
       "\n",
       "  department_name index_code        index_name  index_group_no  \\\n",
       "0    Jersey Basic          A        Ladieswear               1   \n",
       "1    Jersey Basic          A        Ladieswear               1   \n",
       "2    Jersey Basic          A        Ladieswear               1   \n",
       "3  Clean Lingerie          B  Lingeries/Tights               1   \n",
       "4  Clean Lingerie          B  Lingeries/Tights               1   \n",
       "\n",
       "  index_group_name  section_no            section_name  garment_group_no  \\\n",
       "0       Ladieswear          16  Womens Everyday Basics              1002   \n",
       "1       Ladieswear          16  Womens Everyday Basics              1002   \n",
       "2       Ladieswear          16  Womens Everyday Basics              1002   \n",
       "3       Ladieswear          61         Womens Lingerie              1017   \n",
       "4       Ladieswear          61         Womens Lingerie              1017   \n",
       "\n",
       "  garment_group_name                                        detail_desc  \n",
       "0       Jersey Basic            Jersey top with narrow shoulder straps.  \n",
       "1       Jersey Basic            Jersey top with narrow shoulder straps.  \n",
       "2       Jersey Basic            Jersey top with narrow shoulder straps.  \n",
       "3  Under-, Nightwear  Microfibre T-shirt bra with underwired, moulde...  \n",
       "4  Under-, Nightwear  Microfibre T-shirt bra with underwired, moulde...  "
      ]
     },
     "execution_count": 6,
     "metadata": {},
     "output_type": "execute_result"
    }
   ],
   "source": [
    "articles_df = pd.read_csv(\n",
    "    'data/articles.csv', \n",
    "    dtype={'article_id': str}, \n",
    ")\n",
    "print(articles_df.shape)\n",
    "articles_df.head()"
   ]
  },
  {
   "cell_type": "code",
   "execution_count": 9,
   "id": "cce78a05",
   "metadata": {},
   "outputs": [],
   "source": [
    "from sentence_transformers import SentenceTransformer\n",
    "model = SentenceTransformer('paraphrase-MiniLM-L6-v2')"
   ]
  },
  {
   "cell_type": "code",
   "execution_count": 12,
   "id": "83a5e555",
   "metadata": {},
   "outputs": [
    {
     "name": "stdout",
     "output_type": "stream",
     "text": [
      "Calf-length trousers in woven fabric with a high waist, belt with a metal buckle, side pockets, zip fly and straight, wide legs.\n",
      "Sleeveless, gently flared tunic in soft viscose jersey. Lined at the top.\n",
      "Shaftless socks in a soft, fine-knit cotton blend.\n",
      "5-pocket low-rise jeans in washed denim with hard-worn details, a button fly and slightly wider, tapered legs.\n",
      "Double-layered hat in a soft, fine knit with embroidery on the turned-up hem and faux fur pompoms on top.\n"
     ]
    }
   ],
   "source": [
    "for i in articles_df['detail_desc'].sample(n=5):\n",
    "    print(i)"
   ]
  },
  {
   "cell_type": "code",
   "execution_count": 13,
   "id": "f17f1c85",
   "metadata": {},
   "outputs": [
    {
     "data": {
      "text/plain": [
       "['Jersey top with narrow shoulder straps.',\n",
       " 'Jersey top with narrow shoulder straps.',\n",
       " 'Jersey top with narrow shoulder straps.',\n",
       " 'Microfibre T-shirt bra with underwired, moulded, lightly padded cups that shape the bust and provide good support. Narrow adjustable shoulder straps and a narrow hook-and-eye fastening at the back. Without visible seams for greater comfort.',\n",
       " 'Microfibre T-shirt bra with underwired, moulded, lightly padded cups that shape the bust and provide good support. Narrow adjustable shoulder straps and a narrow hook-and-eye fastening at the back. Without visible seams for greater comfort.']"
      ]
     },
     "execution_count": 13,
     "metadata": {},
     "output_type": "execute_result"
    }
   ],
   "source": [
    "article_descriptions = articles_df['detail_desc'].to_list()\n",
    "article_descriptions[:5]"
   ]
  },
  {
   "cell_type": "code",
   "execution_count": 16,
   "id": "f481f8e4",
   "metadata": {},
   "outputs": [],
   "source": [
    "#Sentences are encoded by calling model.encode()\n",
    "embeddings = model.encode(article_descriptions[0])"
   ]
  },
  {
   "cell_type": "markdown",
   "id": "13055b39",
   "metadata": {},
   "source": [
    "### Load transactions"
   ]
  },
  {
   "cell_type": "code",
   "execution_count": 7,
   "id": "d9374a33",
   "metadata": {
    "colab": {
     "base_uri": "https://localhost:8080/",
     "height": 224
    },
    "executionInfo": {
     "elapsed": 1082,
     "status": "ok",
     "timestamp": 1649692191191,
     "user": {
      "displayName": "Steven George",
      "userId": "07709250839253394649"
     },
     "user_tz": -60
    },
    "id": "72888e65",
    "outputId": "b288fd18-402b-4d9c-d27d-9a982dea9a7a"
   },
   "outputs": [
    {
     "name": "stdout",
     "output_type": "stream",
     "text": [
      "(588758, 3)\n"
     ]
    },
    {
     "data": {
      "text/html": [
       "<div>\n",
       "<style scoped>\n",
       "    .dataframe tbody tr th:only-of-type {\n",
       "        vertical-align: middle;\n",
       "    }\n",
       "\n",
       "    .dataframe tbody tr th {\n",
       "        vertical-align: top;\n",
       "    }\n",
       "\n",
       "    .dataframe thead th {\n",
       "        text-align: right;\n",
       "    }\n",
       "</style>\n",
       "<table border=\"1\" class=\"dataframe\">\n",
       "  <thead>\n",
       "    <tr style=\"text-align: right;\">\n",
       "      <th></th>\n",
       "      <th>t_dat</th>\n",
       "      <th>customer_id</th>\n",
       "      <th>article_id</th>\n",
       "    </tr>\n",
       "  </thead>\n",
       "  <tbody>\n",
       "    <tr>\n",
       "      <th>0</th>\n",
       "      <td>2018-09-20</td>\n",
       "      <td>000058a12d5b43e67d225668fa1f8d618c13dc232df0ca...</td>\n",
       "      <td>0663713001</td>\n",
       "    </tr>\n",
       "    <tr>\n",
       "      <th>1</th>\n",
       "      <td>2018-09-20</td>\n",
       "      <td>000058a12d5b43e67d225668fa1f8d618c13dc232df0ca...</td>\n",
       "      <td>0541518023</td>\n",
       "    </tr>\n",
       "    <tr>\n",
       "      <th>2</th>\n",
       "      <td>2018-09-20</td>\n",
       "      <td>016d8f0519d9e0572b3abebeab87408bad7a5c3a284016...</td>\n",
       "      <td>0650193004</td>\n",
       "    </tr>\n",
       "    <tr>\n",
       "      <th>3</th>\n",
       "      <td>2018-09-20</td>\n",
       "      <td>016d8f0519d9e0572b3abebeab87408bad7a5c3a284016...</td>\n",
       "      <td>0527687006</td>\n",
       "    </tr>\n",
       "    <tr>\n",
       "      <th>4</th>\n",
       "      <td>2018-09-20</td>\n",
       "      <td>02bfe1a5248beb9cd28ad4ac630a6d75e78d9a3e14551a...</td>\n",
       "      <td>0668767002</td>\n",
       "    </tr>\n",
       "  </tbody>\n",
       "</table>\n",
       "</div>"
      ],
      "text/plain": [
       "        t_dat                                        customer_id  article_id\n",
       "0  2018-09-20  000058a12d5b43e67d225668fa1f8d618c13dc232df0ca...  0663713001\n",
       "1  2018-09-20  000058a12d5b43e67d225668fa1f8d618c13dc232df0ca...  0541518023\n",
       "2  2018-09-20  016d8f0519d9e0572b3abebeab87408bad7a5c3a284016...  0650193004\n",
       "3  2018-09-20  016d8f0519d9e0572b3abebeab87408bad7a5c3a284016...  0527687006\n",
       "4  2018-09-20  02bfe1a5248beb9cd28ad4ac630a6d75e78d9a3e14551a...  0668767002"
      ]
     },
     "execution_count": 7,
     "metadata": {},
     "output_type": "execute_result"
    }
   ],
   "source": [
    "train_set_orig = pd.read_csv('data/splits/train_subset.tsv', sep='\\t', dtype={'article_id': str}, usecols=['t_dat', 'customer_id', 'article_id'])\n",
    "print(train_set_orig.shape)\n",
    "train_set_orig.head()"
   ]
  },
  {
   "cell_type": "code",
   "execution_count": 8,
   "id": "7429aac8",
   "metadata": {},
   "outputs": [],
   "source": [
    "train_set_orig['t_dat'] = pd.to_datetime(train_set_orig['t_dat'])"
   ]
  },
  {
   "cell_type": "code",
   "execution_count": 9,
   "id": "cdf43f42",
   "metadata": {
    "colab": {
     "base_uri": "https://localhost:8080/"
    },
    "executionInfo": {
     "elapsed": 4,
     "status": "ok",
     "timestamp": 1649692193165,
     "user": {
      "displayName": "Steven George",
      "userId": "07709250839253394649"
     },
     "user_tz": -60
    },
    "id": "5c145c4c",
    "outputId": "9b3a2916-807d-4662-d6b2-abcaf6371725"
   },
   "outputs": [
    {
     "data": {
      "text/plain": [
       "(Timestamp('2020-09-07 00:00:00'), Timestamp('2020-09-14 00:00:00'))"
      ]
     },
     "execution_count": 9,
     "metadata": {},
     "output_type": "execute_result"
    }
   ],
   "source": [
    "end = train_set_orig['t_dat'].max()\n",
    "endm1 = end - datetime.timedelta(days=7)\n",
    "\n",
    "endm1, end"
   ]
  },
  {
   "cell_type": "code",
   "execution_count": 10,
   "id": "088530a5",
   "metadata": {
    "colab": {
     "base_uri": "https://localhost:8080/",
     "height": 224
    },
    "executionInfo": {
     "elapsed": 13,
     "status": "ok",
     "timestamp": 1649692191192,
     "user": {
      "displayName": "Steven George",
      "userId": "07709250839253394649"
     },
     "user_tz": -60
    },
    "id": "07eb9c3c",
    "outputId": "2eb7f30a-1293-44c3-b805-53c0404c3f6e"
   },
   "outputs": [
    {
     "name": "stdout",
     "output_type": "stream",
     "text": [
      "(32995, 3)\n"
     ]
    },
    {
     "data": {
      "text/html": [
       "<div>\n",
       "<style scoped>\n",
       "    .dataframe tbody tr th:only-of-type {\n",
       "        vertical-align: middle;\n",
       "    }\n",
       "\n",
       "    .dataframe tbody tr th {\n",
       "        vertical-align: top;\n",
       "    }\n",
       "\n",
       "    .dataframe thead th {\n",
       "        text-align: right;\n",
       "    }\n",
       "</style>\n",
       "<table border=\"1\" class=\"dataframe\">\n",
       "  <thead>\n",
       "    <tr style=\"text-align: right;\">\n",
       "      <th></th>\n",
       "      <th>t_dat</th>\n",
       "      <th>customer_id</th>\n",
       "      <th>article_id</th>\n",
       "    </tr>\n",
       "  </thead>\n",
       "  <tbody>\n",
       "    <tr>\n",
       "      <th>0</th>\n",
       "      <td>2020-09-15</td>\n",
       "      <td>000058a12d5b43e67d225668fa1f8d618c13dc232df0ca...</td>\n",
       "      <td>0794321007</td>\n",
       "    </tr>\n",
       "    <tr>\n",
       "      <th>1</th>\n",
       "      <td>2020-09-15</td>\n",
       "      <td>0015f37f752a41a75c3be6f3f92deedc4c87d039f1758e...</td>\n",
       "      <td>0778745010</td>\n",
       "    </tr>\n",
       "    <tr>\n",
       "      <th>2</th>\n",
       "      <td>2020-09-15</td>\n",
       "      <td>0015f37f752a41a75c3be6f3f92deedc4c87d039f1758e...</td>\n",
       "      <td>0778745010</td>\n",
       "    </tr>\n",
       "    <tr>\n",
       "      <th>3</th>\n",
       "      <td>2020-09-15</td>\n",
       "      <td>0015f37f752a41a75c3be6f3f92deedc4c87d039f1758e...</td>\n",
       "      <td>0610776105</td>\n",
       "    </tr>\n",
       "    <tr>\n",
       "      <th>4</th>\n",
       "      <td>2020-09-15</td>\n",
       "      <td>0015f37f752a41a75c3be6f3f92deedc4c87d039f1758e...</td>\n",
       "      <td>0929745001</td>\n",
       "    </tr>\n",
       "  </tbody>\n",
       "</table>\n",
       "</div>"
      ],
      "text/plain": [
       "        t_dat                                        customer_id  article_id\n",
       "0  2020-09-15  000058a12d5b43e67d225668fa1f8d618c13dc232df0ca...  0794321007\n",
       "1  2020-09-15  0015f37f752a41a75c3be6f3f92deedc4c87d039f1758e...  0778745010\n",
       "2  2020-09-15  0015f37f752a41a75c3be6f3f92deedc4c87d039f1758e...  0778745010\n",
       "3  2020-09-15  0015f37f752a41a75c3be6f3f92deedc4c87d039f1758e...  0610776105\n",
       "4  2020-09-15  0015f37f752a41a75c3be6f3f92deedc4c87d039f1758e...  0929745001"
      ]
     },
     "execution_count": 10,
     "metadata": {},
     "output_type": "execute_result"
    }
   ],
   "source": [
    "test_set = pd.read_csv('data/splits/test_subset.tsv', sep='\\t', dtype={'article_id': str}, usecols=['t_dat', 'customer_id', 'article_id'])\n",
    "print(test_set.shape)\n",
    "test_set.head()"
   ]
  },
  {
   "cell_type": "code",
   "execution_count": 11,
   "id": "7b1d1224",
   "metadata": {},
   "outputs": [
    {
     "data": {
      "text/plain": [
       "9208"
      ]
     },
     "execution_count": 11,
     "metadata": {},
     "output_type": "execute_result"
    }
   ],
   "source": [
    "test_set['customer_id'].nunique()"
   ]
  },
  {
   "cell_type": "code",
   "execution_count": 12,
   "id": "49ee7924",
   "metadata": {},
   "outputs": [
    {
     "data": {
      "text/plain": [
       "9208"
      ]
     },
     "execution_count": 12,
     "metadata": {},
     "output_type": "execute_result"
    }
   ],
   "source": [
    "train_set_orig['customer_id'].nunique()"
   ]
  },
  {
   "cell_type": "code",
   "execution_count": 13,
   "id": "5d8f9c1d",
   "metadata": {},
   "outputs": [
    {
     "data": {
      "text/plain": [
       "count    9208.000000\n",
       "mean        3.583297\n",
       "std         3.604664\n",
       "min         1.000000\n",
       "25%         1.000000\n",
       "50%         2.000000\n",
       "75%         4.000000\n",
       "max        95.000000\n",
       "Name: article_id, dtype: float64"
      ]
     },
     "execution_count": 13,
     "metadata": {},
     "output_type": "execute_result"
    }
   ],
   "source": [
    "test_set.groupby('customer_id')['article_id'].count().describe()"
   ]
  },
  {
   "cell_type": "code",
   "execution_count": 14,
   "id": "38b15a52",
   "metadata": {},
   "outputs": [
    {
     "data": {
      "text/plain": [
       "count    9208.000000\n",
       "mean       63.939835\n",
       "std        78.250145\n",
       "min         1.000000\n",
       "25%        17.000000\n",
       "50%        40.000000\n",
       "75%        81.000000\n",
       "max      1154.000000\n",
       "Name: article_id, dtype: float64"
      ]
     },
     "execution_count": 14,
     "metadata": {},
     "output_type": "execute_result"
    }
   ],
   "source": [
    "train_set_orig.groupby('customer_id')['article_id'].count().describe()"
   ]
  },
  {
   "cell_type": "code",
   "execution_count": 15,
   "id": "7fb61741",
   "metadata": {},
   "outputs": [
    {
     "data": {
      "text/plain": [
       "count    1828.000000\n",
       "mean        4.079869\n",
       "std         4.488405\n",
       "min         1.000000\n",
       "25%         1.000000\n",
       "50%         3.000000\n",
       "75%         5.000000\n",
       "max        57.000000\n",
       "Name: article_id, dtype: float64"
      ]
     },
     "execution_count": 15,
     "metadata": {},
     "output_type": "execute_result"
    }
   ],
   "source": [
    "train_set_orig[train_set_orig['t_dat'] > endm1].groupby('customer_id')['article_id'].count().describe()"
   ]
  },
  {
   "cell_type": "code",
   "execution_count": 16,
   "id": "c9b669f4",
   "metadata": {},
   "outputs": [
    {
     "data": {
      "text/plain": [
       "1828"
      ]
     },
     "execution_count": 16,
     "metadata": {},
     "output_type": "execute_result"
    }
   ],
   "source": [
    "train_set_orig[train_set_orig['t_dat'] > endm1]['customer_id'].nunique()"
   ]
  },
  {
   "cell_type": "markdown",
   "id": "5aafe2f4",
   "metadata": {},
   "source": [
    "### Top 10k items as candidates (across whole training period)"
   ]
  },
  {
   "cell_type": "code",
   "execution_count": 21,
   "id": "a96942e1",
   "metadata": {},
   "outputs": [
    {
     "data": {
      "text/plain": [
       "['0706016001', '0706016002', '0372860001', '0610776002', '0759871002']"
      ]
     },
     "execution_count": 21,
     "metadata": {},
     "output_type": "execute_result"
    }
   ],
   "source": [
    "top_1k_articles = train_set_orig['article_id'].value_counts().head(1000).index.to_list()\n",
    "top_1k_articles[:5]"
   ]
  },
  {
   "cell_type": "code",
   "execution_count": 23,
   "id": "62e4c2c1",
   "metadata": {},
   "outputs": [],
   "source": [
    "test_set_pred = test_set[['customer_id']].copy()\n",
    "test_set_pred['join_key'] = 1"
   ]
  },
  {
   "cell_type": "code",
   "execution_count": 28,
   "id": "0395da6d",
   "metadata": {},
   "outputs": [],
   "source": [
    "top_1k_articles_df = pd.DataFrame(top_1k_articles, columns=['article_id'])\n",
    "top_1k_articles_df['join_key'] = 1"
   ]
  },
  {
   "cell_type": "code",
   "execution_count": 30,
   "id": "7a8c440a",
   "metadata": {},
   "outputs": [],
   "source": [
    "test_set_pred = test_set_pred.merge(top_1k_articles_df, on='join_key')"
   ]
  },
  {
   "cell_type": "code",
   "execution_count": 33,
   "id": "9b1fbffa",
   "metadata": {},
   "outputs": [
    {
     "data": {
      "text/html": [
       "<div>\n",
       "<style scoped>\n",
       "    .dataframe tbody tr th:only-of-type {\n",
       "        vertical-align: middle;\n",
       "    }\n",
       "\n",
       "    .dataframe tbody tr th {\n",
       "        vertical-align: top;\n",
       "    }\n",
       "\n",
       "    .dataframe thead th {\n",
       "        text-align: right;\n",
       "    }\n",
       "</style>\n",
       "<table border=\"1\" class=\"dataframe\">\n",
       "  <thead>\n",
       "    <tr style=\"text-align: right;\">\n",
       "      <th></th>\n",
       "      <th>customer_id</th>\n",
       "      <th>article_id</th>\n",
       "    </tr>\n",
       "  </thead>\n",
       "  <tbody>\n",
       "    <tr>\n",
       "      <th>0</th>\n",
       "      <td>000058a12d5b43e67d225668fa1f8d618c13dc232df0ca...</td>\n",
       "      <td>[0706016001, 0706016002, 0372860001, 061077600...</td>\n",
       "    </tr>\n",
       "    <tr>\n",
       "      <th>1</th>\n",
       "      <td>0015f37f752a41a75c3be6f3f92deedc4c87d039f1758e...</td>\n",
       "      <td>[0706016001, 0706016002, 0372860001, 061077600...</td>\n",
       "    </tr>\n",
       "    <tr>\n",
       "      <th>2</th>\n",
       "      <td>00282135561702f5b3b750fa3382d8fd83ce5d761a507e...</td>\n",
       "      <td>[0706016001, 0706016002, 0372860001, 061077600...</td>\n",
       "    </tr>\n",
       "    <tr>\n",
       "      <th>3</th>\n",
       "      <td>00356a94bb9bed341f6dba58ad722974b01a1cbd9f06ef...</td>\n",
       "      <td>[0706016001, 0706016002, 0372860001, 061077600...</td>\n",
       "    </tr>\n",
       "    <tr>\n",
       "      <th>4</th>\n",
       "      <td>00462904b288681a9facb555f75dd2cf4d0f730a6e0ea7...</td>\n",
       "      <td>[0706016001, 0706016002, 0372860001, 061077600...</td>\n",
       "    </tr>\n",
       "  </tbody>\n",
       "</table>\n",
       "</div>"
      ],
      "text/plain": [
       "                                         customer_id  \\\n",
       "0  000058a12d5b43e67d225668fa1f8d618c13dc232df0ca...   \n",
       "1  0015f37f752a41a75c3be6f3f92deedc4c87d039f1758e...   \n",
       "2  00282135561702f5b3b750fa3382d8fd83ce5d761a507e...   \n",
       "3  00356a94bb9bed341f6dba58ad722974b01a1cbd9f06ef...   \n",
       "4  00462904b288681a9facb555f75dd2cf4d0f730a6e0ea7...   \n",
       "\n",
       "                                          article_id  \n",
       "0  [0706016001, 0706016002, 0372860001, 061077600...  \n",
       "1  [0706016001, 0706016002, 0372860001, 061077600...  \n",
       "2  [0706016001, 0706016002, 0372860001, 061077600...  \n",
       "3  [0706016001, 0706016002, 0372860001, 061077600...  \n",
       "4  [0706016001, 0706016002, 0372860001, 061077600...  "
      ]
     },
     "execution_count": 33,
     "metadata": {},
     "output_type": "execute_result"
    }
   ],
   "source": [
    "test_set_pred = test_set_pred.groupby('customer_id')['article_id'].apply(lambda x: list(x)).reset_index()\n",
    "test_set_pred.head()"
   ]
  },
  {
   "cell_type": "code",
   "execution_count": 35,
   "id": "2bb39788",
   "metadata": {},
   "outputs": [
    {
     "data": {
      "text/plain": [
       "(9208, 2)"
      ]
     },
     "execution_count": 35,
     "metadata": {},
     "output_type": "execute_result"
    }
   ],
   "source": [
    "test_set_pred.shape"
   ]
  },
  {
   "cell_type": "code",
   "execution_count": 36,
   "id": "32dfd441",
   "metadata": {},
   "outputs": [
    {
     "name": "stdout",
     "output_type": "stream",
     "text": [
      "(9208, 2)\n"
     ]
    },
    {
     "data": {
      "text/html": [
       "<div>\n",
       "<style scoped>\n",
       "    .dataframe tbody tr th:only-of-type {\n",
       "        vertical-align: middle;\n",
       "    }\n",
       "\n",
       "    .dataframe tbody tr th {\n",
       "        vertical-align: top;\n",
       "    }\n",
       "\n",
       "    .dataframe thead th {\n",
       "        text-align: right;\n",
       "    }\n",
       "</style>\n",
       "<table border=\"1\" class=\"dataframe\">\n",
       "  <thead>\n",
       "    <tr style=\"text-align: right;\">\n",
       "      <th></th>\n",
       "      <th>customer_id</th>\n",
       "      <th>article_id</th>\n",
       "    </tr>\n",
       "  </thead>\n",
       "  <tbody>\n",
       "    <tr>\n",
       "      <th>0</th>\n",
       "      <td>000058a12d5b43e67d225668fa1f8d618c13dc232df0ca...</td>\n",
       "      <td>[0794321007]</td>\n",
       "    </tr>\n",
       "    <tr>\n",
       "      <th>1</th>\n",
       "      <td>0015f37f752a41a75c3be6f3f92deedc4c87d039f1758e...</td>\n",
       "      <td>[0778745010, 0778745010, 0610776105, 092974500...</td>\n",
       "    </tr>\n",
       "    <tr>\n",
       "      <th>2</th>\n",
       "      <td>00282135561702f5b3b750fa3382d8fd83ce5d761a507e...</td>\n",
       "      <td>[0855249006, 0822171001]</td>\n",
       "    </tr>\n",
       "    <tr>\n",
       "      <th>3</th>\n",
       "      <td>00356a94bb9bed341f6dba58ad722974b01a1cbd9f06ef...</td>\n",
       "      <td>[0920012003, 0572797002, 0572797002, 056860104...</td>\n",
       "    </tr>\n",
       "    <tr>\n",
       "      <th>4</th>\n",
       "      <td>00462904b288681a9facb555f75dd2cf4d0f730a6e0ea7...</td>\n",
       "      <td>[0827968001, 0887757001, 0673677002, 079936500...</td>\n",
       "    </tr>\n",
       "  </tbody>\n",
       "</table>\n",
       "</div>"
      ],
      "text/plain": [
       "                                         customer_id  \\\n",
       "0  000058a12d5b43e67d225668fa1f8d618c13dc232df0ca...   \n",
       "1  0015f37f752a41a75c3be6f3f92deedc4c87d039f1758e...   \n",
       "2  00282135561702f5b3b750fa3382d8fd83ce5d761a507e...   \n",
       "3  00356a94bb9bed341f6dba58ad722974b01a1cbd9f06ef...   \n",
       "4  00462904b288681a9facb555f75dd2cf4d0f730a6e0ea7...   \n",
       "\n",
       "                                          article_id  \n",
       "0                                       [0794321007]  \n",
       "1  [0778745010, 0778745010, 0610776105, 092974500...  \n",
       "2                           [0855249006, 0822171001]  \n",
       "3  [0920012003, 0572797002, 0572797002, 056860104...  \n",
       "4  [0827968001, 0887757001, 0673677002, 079936500...  "
      ]
     },
     "execution_count": 36,
     "metadata": {},
     "output_type": "execute_result"
    }
   ],
   "source": [
    "test_set_act = test_set.groupby('customer_id')['article_id'].apply(lambda x: list(x)).reset_index()\n",
    "print(test_set_act.shape)\n",
    "test_set_act.head()"
   ]
  },
  {
   "cell_type": "code",
   "execution_count": 38,
   "id": "f8e19a28",
   "metadata": {},
   "outputs": [
    {
     "data": {
      "text/html": [
       "<div>\n",
       "<style scoped>\n",
       "    .dataframe tbody tr th:only-of-type {\n",
       "        vertical-align: middle;\n",
       "    }\n",
       "\n",
       "    .dataframe tbody tr th {\n",
       "        vertical-align: top;\n",
       "    }\n",
       "\n",
       "    .dataframe thead th {\n",
       "        text-align: right;\n",
       "    }\n",
       "</style>\n",
       "<table border=\"1\" class=\"dataframe\">\n",
       "  <thead>\n",
       "    <tr style=\"text-align: right;\">\n",
       "      <th></th>\n",
       "      <th>customer_id</th>\n",
       "      <th>article_id_act</th>\n",
       "      <th>article_id_pred</th>\n",
       "    </tr>\n",
       "  </thead>\n",
       "  <tbody>\n",
       "    <tr>\n",
       "      <th>0</th>\n",
       "      <td>000058a12d5b43e67d225668fa1f8d618c13dc232df0ca...</td>\n",
       "      <td>[0794321007]</td>\n",
       "      <td>[0706016001, 0706016002, 0372860001, 061077600...</td>\n",
       "    </tr>\n",
       "    <tr>\n",
       "      <th>1</th>\n",
       "      <td>0015f37f752a41a75c3be6f3f92deedc4c87d039f1758e...</td>\n",
       "      <td>[0778745010, 0778745010, 0610776105, 092974500...</td>\n",
       "      <td>[0706016001, 0706016002, 0372860001, 061077600...</td>\n",
       "    </tr>\n",
       "    <tr>\n",
       "      <th>2</th>\n",
       "      <td>00282135561702f5b3b750fa3382d8fd83ce5d761a507e...</td>\n",
       "      <td>[0855249006, 0822171001]</td>\n",
       "      <td>[0706016001, 0706016002, 0372860001, 061077600...</td>\n",
       "    </tr>\n",
       "    <tr>\n",
       "      <th>3</th>\n",
       "      <td>00356a94bb9bed341f6dba58ad722974b01a1cbd9f06ef...</td>\n",
       "      <td>[0920012003, 0572797002, 0572797002, 056860104...</td>\n",
       "      <td>[0706016001, 0706016002, 0372860001, 061077600...</td>\n",
       "    </tr>\n",
       "    <tr>\n",
       "      <th>4</th>\n",
       "      <td>00462904b288681a9facb555f75dd2cf4d0f730a6e0ea7...</td>\n",
       "      <td>[0827968001, 0887757001, 0673677002, 079936500...</td>\n",
       "      <td>[0706016001, 0706016002, 0372860001, 061077600...</td>\n",
       "    </tr>\n",
       "  </tbody>\n",
       "</table>\n",
       "</div>"
      ],
      "text/plain": [
       "                                         customer_id  \\\n",
       "0  000058a12d5b43e67d225668fa1f8d618c13dc232df0ca...   \n",
       "1  0015f37f752a41a75c3be6f3f92deedc4c87d039f1758e...   \n",
       "2  00282135561702f5b3b750fa3382d8fd83ce5d761a507e...   \n",
       "3  00356a94bb9bed341f6dba58ad722974b01a1cbd9f06ef...   \n",
       "4  00462904b288681a9facb555f75dd2cf4d0f730a6e0ea7...   \n",
       "\n",
       "                                      article_id_act  \\\n",
       "0                                       [0794321007]   \n",
       "1  [0778745010, 0778745010, 0610776105, 092974500...   \n",
       "2                           [0855249006, 0822171001]   \n",
       "3  [0920012003, 0572797002, 0572797002, 056860104...   \n",
       "4  [0827968001, 0887757001, 0673677002, 079936500...   \n",
       "\n",
       "                                     article_id_pred  \n",
       "0  [0706016001, 0706016002, 0372860001, 061077600...  \n",
       "1  [0706016001, 0706016002, 0372860001, 061077600...  \n",
       "2  [0706016001, 0706016002, 0372860001, 061077600...  \n",
       "3  [0706016001, 0706016002, 0372860001, 061077600...  \n",
       "4  [0706016001, 0706016002, 0372860001, 061077600...  "
      ]
     },
     "execution_count": 38,
     "metadata": {},
     "output_type": "execute_result"
    }
   ],
   "source": [
    "compare = test_set_act.merge(test_set_pred, on='customer_id', suffixes=('_act', '_pred'))\n",
    "compare.head()"
   ]
  },
  {
   "cell_type": "code",
   "execution_count": 44,
   "id": "bf947a78",
   "metadata": {},
   "outputs": [],
   "source": [
    "def precision(a: list, b: list):\n",
    "    a = set(a)\n",
    "    b = set(b)\n",
    "    num_common = len(a.intersection(b))\n",
    "    return num_common / len(a)"
   ]
  },
  {
   "cell_type": "code",
   "execution_count": 45,
   "id": "b9009fc4",
   "metadata": {},
   "outputs": [
    {
     "data": {
      "text/plain": [
       "0.13838904109873365"
      ]
     },
     "execution_count": 45,
     "metadata": {},
     "output_type": "execute_result"
    }
   ],
   "source": [
    "compare.apply(lambda x: precision(x['article_id_act'], x['article_id_pred']), axis=1).mean()"
   ]
  },
  {
   "cell_type": "markdown",
   "id": "07d79ba2",
   "metadata": {},
   "source": [
    "### Top 10k items as candidates (since 2020)"
   ]
  },
  {
   "cell_type": "code",
   "execution_count": 322,
   "id": "4fe75921",
   "metadata": {},
   "outputs": [
    {
     "data": {
      "text/plain": [
       "Timestamp('2020-09-14 00:00:00')"
      ]
     },
     "execution_count": 322,
     "metadata": {},
     "output_type": "execute_result"
    }
   ],
   "source": [
    "end"
   ]
  },
  {
   "cell_type": "code",
   "execution_count": 361,
   "id": "b1d3e5b9",
   "metadata": {},
   "outputs": [
    {
     "data": {
      "text/plain": [
       "['0715255013', '0909370001', '0915526001', '0896152002', '0918522001']"
      ]
     },
     "execution_count": 361,
     "metadata": {},
     "output_type": "execute_result"
    }
   ],
   "source": [
    "top_1k_articles_since2020 = train_set_orig[train_set_orig['t_dat'] > '2020-09-01']['article_id'].value_counts().head(1000).index.to_list()\n",
    "top_1k_articles_since2020[:5]"
   ]
  },
  {
   "cell_type": "code",
   "execution_count": 362,
   "id": "bb390727",
   "metadata": {},
   "outputs": [
    {
     "data": {
      "text/plain": [
       "150"
      ]
     },
     "execution_count": 362,
     "metadata": {},
     "output_type": "execute_result"
    }
   ],
   "source": [
    "len(set(top_1k_articles_since2020).intersection(set(top_1k_articles)))"
   ]
  },
  {
   "cell_type": "code",
   "execution_count": 363,
   "id": "95c0516f",
   "metadata": {},
   "outputs": [],
   "source": [
    "test_set_pred = test_set[['customer_id']].copy()\n",
    "test_set_pred['join_key'] = 1"
   ]
  },
  {
   "cell_type": "code",
   "execution_count": 364,
   "id": "c60e1015",
   "metadata": {},
   "outputs": [],
   "source": [
    "top_1k_articles_df = pd.DataFrame(top_1k_articles_since2020, columns=['article_id'])\n",
    "top_1k_articles_df['join_key'] = 1"
   ]
  },
  {
   "cell_type": "code",
   "execution_count": 365,
   "id": "3ab8118d",
   "metadata": {},
   "outputs": [],
   "source": [
    "test_set_pred = test_set_pred.merge(top_1k_articles_df, on='join_key')"
   ]
  },
  {
   "cell_type": "code",
   "execution_count": 366,
   "id": "6436f922",
   "metadata": {},
   "outputs": [
    {
     "data": {
      "text/html": [
       "<div>\n",
       "<style scoped>\n",
       "    .dataframe tbody tr th:only-of-type {\n",
       "        vertical-align: middle;\n",
       "    }\n",
       "\n",
       "    .dataframe tbody tr th {\n",
       "        vertical-align: top;\n",
       "    }\n",
       "\n",
       "    .dataframe thead th {\n",
       "        text-align: right;\n",
       "    }\n",
       "</style>\n",
       "<table border=\"1\" class=\"dataframe\">\n",
       "  <thead>\n",
       "    <tr style=\"text-align: right;\">\n",
       "      <th></th>\n",
       "      <th>customer_id</th>\n",
       "      <th>article_id</th>\n",
       "    </tr>\n",
       "  </thead>\n",
       "  <tbody>\n",
       "    <tr>\n",
       "      <th>0</th>\n",
       "      <td>000058a12d5b43e67d225668fa1f8d618c13dc232df0ca...</td>\n",
       "      <td>[0715255013, 0909370001, 0915526001, 089615200...</td>\n",
       "    </tr>\n",
       "    <tr>\n",
       "      <th>1</th>\n",
       "      <td>0015f37f752a41a75c3be6f3f92deedc4c87d039f1758e...</td>\n",
       "      <td>[0715255013, 0909370001, 0915526001, 089615200...</td>\n",
       "    </tr>\n",
       "    <tr>\n",
       "      <th>2</th>\n",
       "      <td>00282135561702f5b3b750fa3382d8fd83ce5d761a507e...</td>\n",
       "      <td>[0715255013, 0909370001, 0915526001, 089615200...</td>\n",
       "    </tr>\n",
       "    <tr>\n",
       "      <th>3</th>\n",
       "      <td>00356a94bb9bed341f6dba58ad722974b01a1cbd9f06ef...</td>\n",
       "      <td>[0715255013, 0909370001, 0915526001, 089615200...</td>\n",
       "    </tr>\n",
       "    <tr>\n",
       "      <th>4</th>\n",
       "      <td>00462904b288681a9facb555f75dd2cf4d0f730a6e0ea7...</td>\n",
       "      <td>[0715255013, 0909370001, 0915526001, 089615200...</td>\n",
       "    </tr>\n",
       "  </tbody>\n",
       "</table>\n",
       "</div>"
      ],
      "text/plain": [
       "                                         customer_id  \\\n",
       "0  000058a12d5b43e67d225668fa1f8d618c13dc232df0ca...   \n",
       "1  0015f37f752a41a75c3be6f3f92deedc4c87d039f1758e...   \n",
       "2  00282135561702f5b3b750fa3382d8fd83ce5d761a507e...   \n",
       "3  00356a94bb9bed341f6dba58ad722974b01a1cbd9f06ef...   \n",
       "4  00462904b288681a9facb555f75dd2cf4d0f730a6e0ea7...   \n",
       "\n",
       "                                          article_id  \n",
       "0  [0715255013, 0909370001, 0915526001, 089615200...  \n",
       "1  [0715255013, 0909370001, 0915526001, 089615200...  \n",
       "2  [0715255013, 0909370001, 0915526001, 089615200...  \n",
       "3  [0715255013, 0909370001, 0915526001, 089615200...  \n",
       "4  [0715255013, 0909370001, 0915526001, 089615200...  "
      ]
     },
     "execution_count": 366,
     "metadata": {},
     "output_type": "execute_result"
    }
   ],
   "source": [
    "test_set_pred = test_set_pred.groupby('customer_id')['article_id'].apply(lambda x: list(x)).reset_index()\n",
    "test_set_pred.head()"
   ]
  },
  {
   "cell_type": "code",
   "execution_count": 367,
   "id": "8455d54e",
   "metadata": {},
   "outputs": [
    {
     "data": {
      "text/plain": [
       "(9208, 2)"
      ]
     },
     "execution_count": 367,
     "metadata": {},
     "output_type": "execute_result"
    }
   ],
   "source": [
    "test_set_pred.shape"
   ]
  },
  {
   "cell_type": "code",
   "execution_count": 368,
   "id": "6f0094b1",
   "metadata": {},
   "outputs": [
    {
     "name": "stdout",
     "output_type": "stream",
     "text": [
      "(9208, 2)\n"
     ]
    },
    {
     "data": {
      "text/html": [
       "<div>\n",
       "<style scoped>\n",
       "    .dataframe tbody tr th:only-of-type {\n",
       "        vertical-align: middle;\n",
       "    }\n",
       "\n",
       "    .dataframe tbody tr th {\n",
       "        vertical-align: top;\n",
       "    }\n",
       "\n",
       "    .dataframe thead th {\n",
       "        text-align: right;\n",
       "    }\n",
       "</style>\n",
       "<table border=\"1\" class=\"dataframe\">\n",
       "  <thead>\n",
       "    <tr style=\"text-align: right;\">\n",
       "      <th></th>\n",
       "      <th>customer_id</th>\n",
       "      <th>article_id</th>\n",
       "    </tr>\n",
       "  </thead>\n",
       "  <tbody>\n",
       "    <tr>\n",
       "      <th>0</th>\n",
       "      <td>000058a12d5b43e67d225668fa1f8d618c13dc232df0ca...</td>\n",
       "      <td>[0794321007]</td>\n",
       "    </tr>\n",
       "    <tr>\n",
       "      <th>1</th>\n",
       "      <td>0015f37f752a41a75c3be6f3f92deedc4c87d039f1758e...</td>\n",
       "      <td>[0778745010, 0778745010, 0610776105, 092974500...</td>\n",
       "    </tr>\n",
       "    <tr>\n",
       "      <th>2</th>\n",
       "      <td>00282135561702f5b3b750fa3382d8fd83ce5d761a507e...</td>\n",
       "      <td>[0855249006, 0822171001]</td>\n",
       "    </tr>\n",
       "    <tr>\n",
       "      <th>3</th>\n",
       "      <td>00356a94bb9bed341f6dba58ad722974b01a1cbd9f06ef...</td>\n",
       "      <td>[0920012003, 0572797002, 0572797002, 056860104...</td>\n",
       "    </tr>\n",
       "    <tr>\n",
       "      <th>4</th>\n",
       "      <td>00462904b288681a9facb555f75dd2cf4d0f730a6e0ea7...</td>\n",
       "      <td>[0827968001, 0887757001, 0673677002, 079936500...</td>\n",
       "    </tr>\n",
       "  </tbody>\n",
       "</table>\n",
       "</div>"
      ],
      "text/plain": [
       "                                         customer_id  \\\n",
       "0  000058a12d5b43e67d225668fa1f8d618c13dc232df0ca...   \n",
       "1  0015f37f752a41a75c3be6f3f92deedc4c87d039f1758e...   \n",
       "2  00282135561702f5b3b750fa3382d8fd83ce5d761a507e...   \n",
       "3  00356a94bb9bed341f6dba58ad722974b01a1cbd9f06ef...   \n",
       "4  00462904b288681a9facb555f75dd2cf4d0f730a6e0ea7...   \n",
       "\n",
       "                                          article_id  \n",
       "0                                       [0794321007]  \n",
       "1  [0778745010, 0778745010, 0610776105, 092974500...  \n",
       "2                           [0855249006, 0822171001]  \n",
       "3  [0920012003, 0572797002, 0572797002, 056860104...  \n",
       "4  [0827968001, 0887757001, 0673677002, 079936500...  "
      ]
     },
     "execution_count": 368,
     "metadata": {},
     "output_type": "execute_result"
    }
   ],
   "source": [
    "test_set_act = test_set.groupby('customer_id')['article_id'].apply(lambda x: list(x)).reset_index()\n",
    "print(test_set_act.shape)\n",
    "test_set_act.head()"
   ]
  },
  {
   "cell_type": "code",
   "execution_count": 369,
   "id": "6008dbfb",
   "metadata": {},
   "outputs": [
    {
     "data": {
      "text/html": [
       "<div>\n",
       "<style scoped>\n",
       "    .dataframe tbody tr th:only-of-type {\n",
       "        vertical-align: middle;\n",
       "    }\n",
       "\n",
       "    .dataframe tbody tr th {\n",
       "        vertical-align: top;\n",
       "    }\n",
       "\n",
       "    .dataframe thead th {\n",
       "        text-align: right;\n",
       "    }\n",
       "</style>\n",
       "<table border=\"1\" class=\"dataframe\">\n",
       "  <thead>\n",
       "    <tr style=\"text-align: right;\">\n",
       "      <th></th>\n",
       "      <th>customer_id</th>\n",
       "      <th>article_id_act</th>\n",
       "      <th>article_id_pred</th>\n",
       "    </tr>\n",
       "  </thead>\n",
       "  <tbody>\n",
       "    <tr>\n",
       "      <th>0</th>\n",
       "      <td>000058a12d5b43e67d225668fa1f8d618c13dc232df0ca...</td>\n",
       "      <td>[0794321007]</td>\n",
       "      <td>[0715255013, 0909370001, 0915526001, 089615200...</td>\n",
       "    </tr>\n",
       "    <tr>\n",
       "      <th>1</th>\n",
       "      <td>0015f37f752a41a75c3be6f3f92deedc4c87d039f1758e...</td>\n",
       "      <td>[0778745010, 0778745010, 0610776105, 092974500...</td>\n",
       "      <td>[0715255013, 0909370001, 0915526001, 089615200...</td>\n",
       "    </tr>\n",
       "    <tr>\n",
       "      <th>2</th>\n",
       "      <td>00282135561702f5b3b750fa3382d8fd83ce5d761a507e...</td>\n",
       "      <td>[0855249006, 0822171001]</td>\n",
       "      <td>[0715255013, 0909370001, 0915526001, 089615200...</td>\n",
       "    </tr>\n",
       "    <tr>\n",
       "      <th>3</th>\n",
       "      <td>00356a94bb9bed341f6dba58ad722974b01a1cbd9f06ef...</td>\n",
       "      <td>[0920012003, 0572797002, 0572797002, 056860104...</td>\n",
       "      <td>[0715255013, 0909370001, 0915526001, 089615200...</td>\n",
       "    </tr>\n",
       "    <tr>\n",
       "      <th>4</th>\n",
       "      <td>00462904b288681a9facb555f75dd2cf4d0f730a6e0ea7...</td>\n",
       "      <td>[0827968001, 0887757001, 0673677002, 079936500...</td>\n",
       "      <td>[0715255013, 0909370001, 0915526001, 089615200...</td>\n",
       "    </tr>\n",
       "  </tbody>\n",
       "</table>\n",
       "</div>"
      ],
      "text/plain": [
       "                                         customer_id  \\\n",
       "0  000058a12d5b43e67d225668fa1f8d618c13dc232df0ca...   \n",
       "1  0015f37f752a41a75c3be6f3f92deedc4c87d039f1758e...   \n",
       "2  00282135561702f5b3b750fa3382d8fd83ce5d761a507e...   \n",
       "3  00356a94bb9bed341f6dba58ad722974b01a1cbd9f06ef...   \n",
       "4  00462904b288681a9facb555f75dd2cf4d0f730a6e0ea7...   \n",
       "\n",
       "                                      article_id_act  \\\n",
       "0                                       [0794321007]   \n",
       "1  [0778745010, 0778745010, 0610776105, 092974500...   \n",
       "2                           [0855249006, 0822171001]   \n",
       "3  [0920012003, 0572797002, 0572797002, 056860104...   \n",
       "4  [0827968001, 0887757001, 0673677002, 079936500...   \n",
       "\n",
       "                                     article_id_pred  \n",
       "0  [0715255013, 0909370001, 0915526001, 089615200...  \n",
       "1  [0715255013, 0909370001, 0915526001, 089615200...  \n",
       "2  [0715255013, 0909370001, 0915526001, 089615200...  \n",
       "3  [0715255013, 0909370001, 0915526001, 089615200...  \n",
       "4  [0715255013, 0909370001, 0915526001, 089615200...  "
      ]
     },
     "execution_count": 369,
     "metadata": {},
     "output_type": "execute_result"
    }
   ],
   "source": [
    "compare = test_set_act.merge(test_set_pred, on='customer_id', suffixes=('_act', '_pred'))\n",
    "compare.head()"
   ]
  },
  {
   "cell_type": "code",
   "execution_count": 370,
   "id": "30c21ace",
   "metadata": {},
   "outputs": [],
   "source": [
    "def precision(a: list, b: list):\n",
    "    a = set(a)\n",
    "    b = set(b)\n",
    "    num_common = len(a.intersection(b))\n",
    "    return num_common / len(a)"
   ]
  },
  {
   "cell_type": "code",
   "execution_count": 371,
   "id": "ca6f7215",
   "metadata": {},
   "outputs": [
    {
     "data": {
      "text/plain": [
       "0.3877335690720355"
      ]
     },
     "execution_count": 371,
     "metadata": {},
     "output_type": "execute_result"
    }
   ],
   "source": [
    "compare.apply(lambda x: precision(x['article_id_act'], x['article_id_pred']), axis=1).mean()"
   ]
  },
  {
   "cell_type": "markdown",
   "id": "34bdb592",
   "metadata": {},
   "source": [
    "### Previously bought items as prediction"
   ]
  },
  {
   "cell_type": "code",
   "execution_count": 372,
   "id": "e2009228",
   "metadata": {},
   "outputs": [],
   "source": [
    "train_set_orig.sort_values(['customer_id', 't_dat'], inplace=True)"
   ]
  },
  {
   "cell_type": "code",
   "execution_count": 373,
   "id": "d1bcabac",
   "metadata": {},
   "outputs": [],
   "source": [
    "test_set_pred = train_set_orig.groupby('customer_id')['article_id'].apply(lambda x: list(x)).reset_index()"
   ]
  },
  {
   "cell_type": "code",
   "execution_count": 374,
   "id": "5b695cbe",
   "metadata": {},
   "outputs": [],
   "source": [
    "test_set_pred['article_id'] = test_set_pred['article_id'].apply(lambda x: x[-1000:])  # Take latest 1000"
   ]
  },
  {
   "cell_type": "code",
   "execution_count": 375,
   "id": "b3304759",
   "metadata": {},
   "outputs": [
    {
     "data": {
      "text/html": [
       "<div>\n",
       "<style scoped>\n",
       "    .dataframe tbody tr th:only-of-type {\n",
       "        vertical-align: middle;\n",
       "    }\n",
       "\n",
       "    .dataframe tbody tr th {\n",
       "        vertical-align: top;\n",
       "    }\n",
       "\n",
       "    .dataframe thead th {\n",
       "        text-align: right;\n",
       "    }\n",
       "</style>\n",
       "<table border=\"1\" class=\"dataframe\">\n",
       "  <thead>\n",
       "    <tr style=\"text-align: right;\">\n",
       "      <th></th>\n",
       "      <th>customer_id</th>\n",
       "      <th>article_id</th>\n",
       "    </tr>\n",
       "  </thead>\n",
       "  <tbody>\n",
       "    <tr>\n",
       "      <th>0</th>\n",
       "      <td>000058a12d5b43e67d225668fa1f8d618c13dc232df0ca...</td>\n",
       "      <td>[0663713001, 0541518023, 0663713001, 057802000...</td>\n",
       "    </tr>\n",
       "    <tr>\n",
       "      <th>1</th>\n",
       "      <td>0015f37f752a41a75c3be6f3f92deedc4c87d039f1758e...</td>\n",
       "      <td>[0656491001, 0676573005, 0504154019, 068421000...</td>\n",
       "    </tr>\n",
       "    <tr>\n",
       "      <th>2</th>\n",
       "      <td>00282135561702f5b3b750fa3382d8fd83ce5d761a507e...</td>\n",
       "      <td>[0573626001, 0688632001, 0569974001, 057000200...</td>\n",
       "    </tr>\n",
       "    <tr>\n",
       "      <th>3</th>\n",
       "      <td>00356a94bb9bed341f6dba58ad722974b01a1cbd9f06ef...</td>\n",
       "      <td>[0487932038, 0487932038, 0628458001, 068054200...</td>\n",
       "    </tr>\n",
       "    <tr>\n",
       "      <th>4</th>\n",
       "      <td>00462904b288681a9facb555f75dd2cf4d0f730a6e0ea7...</td>\n",
       "      <td>[0201219001, 0322017003, 0156231001, 075475100...</td>\n",
       "    </tr>\n",
       "  </tbody>\n",
       "</table>\n",
       "</div>"
      ],
      "text/plain": [
       "                                         customer_id  \\\n",
       "0  000058a12d5b43e67d225668fa1f8d618c13dc232df0ca...   \n",
       "1  0015f37f752a41a75c3be6f3f92deedc4c87d039f1758e...   \n",
       "2  00282135561702f5b3b750fa3382d8fd83ce5d761a507e...   \n",
       "3  00356a94bb9bed341f6dba58ad722974b01a1cbd9f06ef...   \n",
       "4  00462904b288681a9facb555f75dd2cf4d0f730a6e0ea7...   \n",
       "\n",
       "                                          article_id  \n",
       "0  [0663713001, 0541518023, 0663713001, 057802000...  \n",
       "1  [0656491001, 0676573005, 0504154019, 068421000...  \n",
       "2  [0573626001, 0688632001, 0569974001, 057000200...  \n",
       "3  [0487932038, 0487932038, 0628458001, 068054200...  \n",
       "4  [0201219001, 0322017003, 0156231001, 075475100...  "
      ]
     },
     "execution_count": 375,
     "metadata": {},
     "output_type": "execute_result"
    }
   ],
   "source": [
    "test_set_pred.head()"
   ]
  },
  {
   "cell_type": "code",
   "execution_count": 376,
   "id": "3dd4c22a",
   "metadata": {},
   "outputs": [
    {
     "data": {
      "text/plain": [
       "(9208, 2)"
      ]
     },
     "execution_count": 376,
     "metadata": {},
     "output_type": "execute_result"
    }
   ],
   "source": [
    "test_set_pred.shape"
   ]
  },
  {
   "cell_type": "code",
   "execution_count": 377,
   "id": "8b1be449",
   "metadata": {},
   "outputs": [
    {
     "name": "stdout",
     "output_type": "stream",
     "text": [
      "(9208, 2)\n"
     ]
    },
    {
     "data": {
      "text/html": [
       "<div>\n",
       "<style scoped>\n",
       "    .dataframe tbody tr th:only-of-type {\n",
       "        vertical-align: middle;\n",
       "    }\n",
       "\n",
       "    .dataframe tbody tr th {\n",
       "        vertical-align: top;\n",
       "    }\n",
       "\n",
       "    .dataframe thead th {\n",
       "        text-align: right;\n",
       "    }\n",
       "</style>\n",
       "<table border=\"1\" class=\"dataframe\">\n",
       "  <thead>\n",
       "    <tr style=\"text-align: right;\">\n",
       "      <th></th>\n",
       "      <th>customer_id</th>\n",
       "      <th>article_id</th>\n",
       "    </tr>\n",
       "  </thead>\n",
       "  <tbody>\n",
       "    <tr>\n",
       "      <th>0</th>\n",
       "      <td>000058a12d5b43e67d225668fa1f8d618c13dc232df0ca...</td>\n",
       "      <td>[0794321007]</td>\n",
       "    </tr>\n",
       "    <tr>\n",
       "      <th>1</th>\n",
       "      <td>0015f37f752a41a75c3be6f3f92deedc4c87d039f1758e...</td>\n",
       "      <td>[0778745010, 0778745010, 0610776105, 092974500...</td>\n",
       "    </tr>\n",
       "    <tr>\n",
       "      <th>2</th>\n",
       "      <td>00282135561702f5b3b750fa3382d8fd83ce5d761a507e...</td>\n",
       "      <td>[0855249006, 0822171001]</td>\n",
       "    </tr>\n",
       "    <tr>\n",
       "      <th>3</th>\n",
       "      <td>00356a94bb9bed341f6dba58ad722974b01a1cbd9f06ef...</td>\n",
       "      <td>[0920012003, 0572797002, 0572797002, 056860104...</td>\n",
       "    </tr>\n",
       "    <tr>\n",
       "      <th>4</th>\n",
       "      <td>00462904b288681a9facb555f75dd2cf4d0f730a6e0ea7...</td>\n",
       "      <td>[0827968001, 0887757001, 0673677002, 079936500...</td>\n",
       "    </tr>\n",
       "  </tbody>\n",
       "</table>\n",
       "</div>"
      ],
      "text/plain": [
       "                                         customer_id  \\\n",
       "0  000058a12d5b43e67d225668fa1f8d618c13dc232df0ca...   \n",
       "1  0015f37f752a41a75c3be6f3f92deedc4c87d039f1758e...   \n",
       "2  00282135561702f5b3b750fa3382d8fd83ce5d761a507e...   \n",
       "3  00356a94bb9bed341f6dba58ad722974b01a1cbd9f06ef...   \n",
       "4  00462904b288681a9facb555f75dd2cf4d0f730a6e0ea7...   \n",
       "\n",
       "                                          article_id  \n",
       "0                                       [0794321007]  \n",
       "1  [0778745010, 0778745010, 0610776105, 092974500...  \n",
       "2                           [0855249006, 0822171001]  \n",
       "3  [0920012003, 0572797002, 0572797002, 056860104...  \n",
       "4  [0827968001, 0887757001, 0673677002, 079936500...  "
      ]
     },
     "execution_count": 377,
     "metadata": {},
     "output_type": "execute_result"
    }
   ],
   "source": [
    "test_set_act = test_set.groupby('customer_id')['article_id'].apply(lambda x: list(x)).reset_index()\n",
    "print(test_set_act.shape)\n",
    "test_set_act.head()"
   ]
  },
  {
   "cell_type": "code",
   "execution_count": 378,
   "id": "cd47d0e6",
   "metadata": {},
   "outputs": [
    {
     "data": {
      "text/html": [
       "<div>\n",
       "<style scoped>\n",
       "    .dataframe tbody tr th:only-of-type {\n",
       "        vertical-align: middle;\n",
       "    }\n",
       "\n",
       "    .dataframe tbody tr th {\n",
       "        vertical-align: top;\n",
       "    }\n",
       "\n",
       "    .dataframe thead th {\n",
       "        text-align: right;\n",
       "    }\n",
       "</style>\n",
       "<table border=\"1\" class=\"dataframe\">\n",
       "  <thead>\n",
       "    <tr style=\"text-align: right;\">\n",
       "      <th></th>\n",
       "      <th>customer_id</th>\n",
       "      <th>article_id_act</th>\n",
       "      <th>article_id_pred</th>\n",
       "    </tr>\n",
       "  </thead>\n",
       "  <tbody>\n",
       "    <tr>\n",
       "      <th>0</th>\n",
       "      <td>000058a12d5b43e67d225668fa1f8d618c13dc232df0ca...</td>\n",
       "      <td>[0794321007]</td>\n",
       "      <td>[0663713001, 0541518023, 0663713001, 057802000...</td>\n",
       "    </tr>\n",
       "    <tr>\n",
       "      <th>1</th>\n",
       "      <td>0015f37f752a41a75c3be6f3f92deedc4c87d039f1758e...</td>\n",
       "      <td>[0778745010, 0778745010, 0610776105, 092974500...</td>\n",
       "      <td>[0656491001, 0676573005, 0504154019, 068421000...</td>\n",
       "    </tr>\n",
       "    <tr>\n",
       "      <th>2</th>\n",
       "      <td>00282135561702f5b3b750fa3382d8fd83ce5d761a507e...</td>\n",
       "      <td>[0855249006, 0822171001]</td>\n",
       "      <td>[0573626001, 0688632001, 0569974001, 057000200...</td>\n",
       "    </tr>\n",
       "    <tr>\n",
       "      <th>3</th>\n",
       "      <td>00356a94bb9bed341f6dba58ad722974b01a1cbd9f06ef...</td>\n",
       "      <td>[0920012003, 0572797002, 0572797002, 056860104...</td>\n",
       "      <td>[0487932038, 0487932038, 0628458001, 068054200...</td>\n",
       "    </tr>\n",
       "    <tr>\n",
       "      <th>4</th>\n",
       "      <td>00462904b288681a9facb555f75dd2cf4d0f730a6e0ea7...</td>\n",
       "      <td>[0827968001, 0887757001, 0673677002, 079936500...</td>\n",
       "      <td>[0201219001, 0322017003, 0156231001, 075475100...</td>\n",
       "    </tr>\n",
       "  </tbody>\n",
       "</table>\n",
       "</div>"
      ],
      "text/plain": [
       "                                         customer_id  \\\n",
       "0  000058a12d5b43e67d225668fa1f8d618c13dc232df0ca...   \n",
       "1  0015f37f752a41a75c3be6f3f92deedc4c87d039f1758e...   \n",
       "2  00282135561702f5b3b750fa3382d8fd83ce5d761a507e...   \n",
       "3  00356a94bb9bed341f6dba58ad722974b01a1cbd9f06ef...   \n",
       "4  00462904b288681a9facb555f75dd2cf4d0f730a6e0ea7...   \n",
       "\n",
       "                                      article_id_act  \\\n",
       "0                                       [0794321007]   \n",
       "1  [0778745010, 0778745010, 0610776105, 092974500...   \n",
       "2                           [0855249006, 0822171001]   \n",
       "3  [0920012003, 0572797002, 0572797002, 056860104...   \n",
       "4  [0827968001, 0887757001, 0673677002, 079936500...   \n",
       "\n",
       "                                     article_id_pred  \n",
       "0  [0663713001, 0541518023, 0663713001, 057802000...  \n",
       "1  [0656491001, 0676573005, 0504154019, 068421000...  \n",
       "2  [0573626001, 0688632001, 0569974001, 057000200...  \n",
       "3  [0487932038, 0487932038, 0628458001, 068054200...  \n",
       "4  [0201219001, 0322017003, 0156231001, 075475100...  "
      ]
     },
     "execution_count": 378,
     "metadata": {},
     "output_type": "execute_result"
    }
   ],
   "source": [
    "compare = test_set_act.merge(test_set_pred, on='customer_id', suffixes=('_act', '_pred'))\n",
    "compare.head()"
   ]
  },
  {
   "cell_type": "code",
   "execution_count": 379,
   "id": "adb78efb",
   "metadata": {},
   "outputs": [],
   "source": [
    "def precision(a: list, b: list):\n",
    "    a = set(a)\n",
    "    b = set(b)\n",
    "    num_common = len(a.intersection(b))\n",
    "    return num_common / len(a)"
   ]
  },
  {
   "cell_type": "code",
   "execution_count": 380,
   "id": "bec408d4",
   "metadata": {},
   "outputs": [
    {
     "data": {
      "text/plain": [
       "0.05130355246528273"
      ]
     },
     "execution_count": 380,
     "metadata": {},
     "output_type": "execute_result"
    }
   ],
   "source": [
    "compare.apply(lambda x: precision(x['article_id_act'], x['article_id_pred']), axis=1).mean()"
   ]
  },
  {
   "cell_type": "markdown",
   "id": "48b88434",
   "metadata": {},
   "source": [
    "### Previous purchases and top items since 2020"
   ]
  },
  {
   "cell_type": "code",
   "execution_count": 381,
   "id": "4a0b2450",
   "metadata": {},
   "outputs": [
    {
     "data": {
      "text/html": [
       "<div>\n",
       "<style scoped>\n",
       "    .dataframe tbody tr th:only-of-type {\n",
       "        vertical-align: middle;\n",
       "    }\n",
       "\n",
       "    .dataframe tbody tr th {\n",
       "        vertical-align: top;\n",
       "    }\n",
       "\n",
       "    .dataframe thead th {\n",
       "        text-align: right;\n",
       "    }\n",
       "</style>\n",
       "<table border=\"1\" class=\"dataframe\">\n",
       "  <thead>\n",
       "    <tr style=\"text-align: right;\">\n",
       "      <th></th>\n",
       "      <th>customer_id</th>\n",
       "      <th>article_id</th>\n",
       "    </tr>\n",
       "  </thead>\n",
       "  <tbody>\n",
       "    <tr>\n",
       "      <th>0</th>\n",
       "      <td>000058a12d5b43e67d225668fa1f8d618c13dc232df0ca...</td>\n",
       "      <td>[0663713001, 0541518023, 0663713001, 057802000...</td>\n",
       "    </tr>\n",
       "    <tr>\n",
       "      <th>1</th>\n",
       "      <td>0015f37f752a41a75c3be6f3f92deedc4c87d039f1758e...</td>\n",
       "      <td>[0656491001, 0676573005, 0504154019, 068421000...</td>\n",
       "    </tr>\n",
       "    <tr>\n",
       "      <th>2</th>\n",
       "      <td>00282135561702f5b3b750fa3382d8fd83ce5d761a507e...</td>\n",
       "      <td>[0573626001, 0688632001, 0569974001, 057000200...</td>\n",
       "    </tr>\n",
       "    <tr>\n",
       "      <th>3</th>\n",
       "      <td>00356a94bb9bed341f6dba58ad722974b01a1cbd9f06ef...</td>\n",
       "      <td>[0487932038, 0487932038, 0628458001, 068054200...</td>\n",
       "    </tr>\n",
       "    <tr>\n",
       "      <th>4</th>\n",
       "      <td>00462904b288681a9facb555f75dd2cf4d0f730a6e0ea7...</td>\n",
       "      <td>[0201219001, 0322017003, 0156231001, 075475100...</td>\n",
       "    </tr>\n",
       "  </tbody>\n",
       "</table>\n",
       "</div>"
      ],
      "text/plain": [
       "                                         customer_id  \\\n",
       "0  000058a12d5b43e67d225668fa1f8d618c13dc232df0ca...   \n",
       "1  0015f37f752a41a75c3be6f3f92deedc4c87d039f1758e...   \n",
       "2  00282135561702f5b3b750fa3382d8fd83ce5d761a507e...   \n",
       "3  00356a94bb9bed341f6dba58ad722974b01a1cbd9f06ef...   \n",
       "4  00462904b288681a9facb555f75dd2cf4d0f730a6e0ea7...   \n",
       "\n",
       "                                          article_id  \n",
       "0  [0663713001, 0541518023, 0663713001, 057802000...  \n",
       "1  [0656491001, 0676573005, 0504154019, 068421000...  \n",
       "2  [0573626001, 0688632001, 0569974001, 057000200...  \n",
       "3  [0487932038, 0487932038, 0628458001, 068054200...  \n",
       "4  [0201219001, 0322017003, 0156231001, 075475100...  "
      ]
     },
     "execution_count": 381,
     "metadata": {},
     "output_type": "execute_result"
    }
   ],
   "source": [
    "test_set_pred = train_set_orig.groupby('customer_id')['article_id'].apply(lambda x: list(x)).reset_index()\n",
    "test_set_pred.head()"
   ]
  },
  {
   "cell_type": "code",
   "execution_count": 382,
   "id": "ca7f1984",
   "metadata": {},
   "outputs": [],
   "source": [
    "# Take latest 1000\n",
    "test_set_pred['article_id'] = test_set_pred['article_id'].apply(lambda x: x[-1000:])"
   ]
  },
  {
   "cell_type": "code",
   "execution_count": 383,
   "id": "120d1eb8",
   "metadata": {},
   "outputs": [],
   "source": [
    "test_set_pred['number_of_prev'] = test_set_pred['article_id'].apply(len)"
   ]
  },
  {
   "cell_type": "code",
   "execution_count": 384,
   "id": "0bd9f2bd",
   "metadata": {},
   "outputs": [
    {
     "data": {
      "text/plain": [
       "<AxesSubplot:>"
      ]
     },
     "execution_count": 384,
     "metadata": {},
     "output_type": "execute_result"
    },
    {
     "data": {
      "image/png": "[encoded data removed]",
      "text/plain": [
       "<Figure size 432x288 with 1 Axes>"
      ]
     },
     "metadata": {
      "needs_background": "light"
     },
     "output_type": "display_data"
    }
   ],
   "source": [
    "test_set_pred['number_of_prev'].hist()"
   ]
  },
  {
   "cell_type": "code",
   "execution_count": 385,
   "id": "e06812ba",
   "metadata": {},
   "outputs": [
    {
     "data": {
      "text/html": [
       "<div>\n",
       "<style scoped>\n",
       "    .dataframe tbody tr th:only-of-type {\n",
       "        vertical-align: middle;\n",
       "    }\n",
       "\n",
       "    .dataframe tbody tr th {\n",
       "        vertical-align: top;\n",
       "    }\n",
       "\n",
       "    .dataframe thead th {\n",
       "        text-align: right;\n",
       "    }\n",
       "</style>\n",
       "<table border=\"1\" class=\"dataframe\">\n",
       "  <thead>\n",
       "    <tr style=\"text-align: right;\">\n",
       "      <th></th>\n",
       "      <th>customer_id</th>\n",
       "      <th>article_id</th>\n",
       "      <th>number_of_prev</th>\n",
       "      <th>filler_articles</th>\n",
       "    </tr>\n",
       "  </thead>\n",
       "  <tbody>\n",
       "    <tr>\n",
       "      <th>0</th>\n",
       "      <td>000058a12d5b43e67d225668fa1f8d618c13dc232df0ca...</td>\n",
       "      <td>[0663713001, 0541518023, 0663713001, 057802000...</td>\n",
       "      <td>17</td>\n",
       "      <td>[0715255013, 0909370001, 0915526001, 089615200...</td>\n",
       "    </tr>\n",
       "    <tr>\n",
       "      <th>1</th>\n",
       "      <td>0015f37f752a41a75c3be6f3f92deedc4c87d039f1758e...</td>\n",
       "      <td>[0656491001, 0676573005, 0504154019, 068421000...</td>\n",
       "      <td>48</td>\n",
       "      <td>[0715255013, 0909370001, 0915526001, 089615200...</td>\n",
       "    </tr>\n",
       "    <tr>\n",
       "      <th>2</th>\n",
       "      <td>00282135561702f5b3b750fa3382d8fd83ce5d761a507e...</td>\n",
       "      <td>[0573626001, 0688632001, 0569974001, 057000200...</td>\n",
       "      <td>55</td>\n",
       "      <td>[0715255013, 0909370001, 0915526001, 089615200...</td>\n",
       "    </tr>\n",
       "    <tr>\n",
       "      <th>3</th>\n",
       "      <td>00356a94bb9bed341f6dba58ad722974b01a1cbd9f06ef...</td>\n",
       "      <td>[0487932038, 0487932038, 0628458001, 068054200...</td>\n",
       "      <td>12</td>\n",
       "      <td>[0715255013, 0909370001, 0915526001, 089615200...</td>\n",
       "    </tr>\n",
       "    <tr>\n",
       "      <th>4</th>\n",
       "      <td>00462904b288681a9facb555f75dd2cf4d0f730a6e0ea7...</td>\n",
       "      <td>[0201219001, 0322017003, 0156231001, 075475100...</td>\n",
       "      <td>23</td>\n",
       "      <td>[0715255013, 0909370001, 0915526001, 089615200...</td>\n",
       "    </tr>\n",
       "  </tbody>\n",
       "</table>\n",
       "</div>"
      ],
      "text/plain": [
       "                                         customer_id  \\\n",
       "0  000058a12d5b43e67d225668fa1f8d618c13dc232df0ca...   \n",
       "1  0015f37f752a41a75c3be6f3f92deedc4c87d039f1758e...   \n",
       "2  00282135561702f5b3b750fa3382d8fd83ce5d761a507e...   \n",
       "3  00356a94bb9bed341f6dba58ad722974b01a1cbd9f06ef...   \n",
       "4  00462904b288681a9facb555f75dd2cf4d0f730a6e0ea7...   \n",
       "\n",
       "                                          article_id  number_of_prev  \\\n",
       "0  [0663713001, 0541518023, 0663713001, 057802000...              17   \n",
       "1  [0656491001, 0676573005, 0504154019, 068421000...              48   \n",
       "2  [0573626001, 0688632001, 0569974001, 057000200...              55   \n",
       "3  [0487932038, 0487932038, 0628458001, 068054200...              12   \n",
       "4  [0201219001, 0322017003, 0156231001, 075475100...              23   \n",
       "\n",
       "                                     filler_articles  \n",
       "0  [0715255013, 0909370001, 0915526001, 089615200...  \n",
       "1  [0715255013, 0909370001, 0915526001, 089615200...  \n",
       "2  [0715255013, 0909370001, 0915526001, 089615200...  \n",
       "3  [0715255013, 0909370001, 0915526001, 089615200...  \n",
       "4  [0715255013, 0909370001, 0915526001, 089615200...  "
      ]
     },
     "execution_count": 385,
     "metadata": {},
     "output_type": "execute_result"
    }
   ],
   "source": [
    "test_set_pred['filler_articles'] = test_set_pred['number_of_prev'].apply(lambda x: top_1k_articles_since2020[:1000-x])\n",
    "test_set_pred.head()"
   ]
  },
  {
   "cell_type": "code",
   "execution_count": 386,
   "id": "546e6aff",
   "metadata": {},
   "outputs": [],
   "source": [
    "# Concat lists\n",
    "test_set_pred['article_id'] = test_set_pred['article_id'] + test_set_pred['filler_articles']"
   ]
  },
  {
   "cell_type": "code",
   "execution_count": 387,
   "id": "fa868583",
   "metadata": {},
   "outputs": [
    {
     "data": {
      "text/plain": [
       "(9208, 4)"
      ]
     },
     "execution_count": 387,
     "metadata": {},
     "output_type": "execute_result"
    }
   ],
   "source": [
    "test_set_pred.shape"
   ]
  },
  {
   "cell_type": "code",
   "execution_count": 388,
   "id": "acf2935e",
   "metadata": {},
   "outputs": [
    {
     "name": "stdout",
     "output_type": "stream",
     "text": [
      "(9208, 2)\n"
     ]
    },
    {
     "data": {
      "text/html": [
       "<div>\n",
       "<style scoped>\n",
       "    .dataframe tbody tr th:only-of-type {\n",
       "        vertical-align: middle;\n",
       "    }\n",
       "\n",
       "    .dataframe tbody tr th {\n",
       "        vertical-align: top;\n",
       "    }\n",
       "\n",
       "    .dataframe thead th {\n",
       "        text-align: right;\n",
       "    }\n",
       "</style>\n",
       "<table border=\"1\" class=\"dataframe\">\n",
       "  <thead>\n",
       "    <tr style=\"text-align: right;\">\n",
       "      <th></th>\n",
       "      <th>customer_id</th>\n",
       "      <th>article_id</th>\n",
       "    </tr>\n",
       "  </thead>\n",
       "  <tbody>\n",
       "    <tr>\n",
       "      <th>0</th>\n",
       "      <td>000058a12d5b43e67d225668fa1f8d618c13dc232df0ca...</td>\n",
       "      <td>[0794321007]</td>\n",
       "    </tr>\n",
       "    <tr>\n",
       "      <th>1</th>\n",
       "      <td>0015f37f752a41a75c3be6f3f92deedc4c87d039f1758e...</td>\n",
       "      <td>[0778745010, 0778745010, 0610776105, 092974500...</td>\n",
       "    </tr>\n",
       "    <tr>\n",
       "      <th>2</th>\n",
       "      <td>00282135561702f5b3b750fa3382d8fd83ce5d761a507e...</td>\n",
       "      <td>[0855249006, 0822171001]</td>\n",
       "    </tr>\n",
       "    <tr>\n",
       "      <th>3</th>\n",
       "      <td>00356a94bb9bed341f6dba58ad722974b01a1cbd9f06ef...</td>\n",
       "      <td>[0920012003, 0572797002, 0572797002, 056860104...</td>\n",
       "    </tr>\n",
       "    <tr>\n",
       "      <th>4</th>\n",
       "      <td>00462904b288681a9facb555f75dd2cf4d0f730a6e0ea7...</td>\n",
       "      <td>[0827968001, 0887757001, 0673677002, 079936500...</td>\n",
       "    </tr>\n",
       "  </tbody>\n",
       "</table>\n",
       "</div>"
      ],
      "text/plain": [
       "                                         customer_id  \\\n",
       "0  000058a12d5b43e67d225668fa1f8d618c13dc232df0ca...   \n",
       "1  0015f37f752a41a75c3be6f3f92deedc4c87d039f1758e...   \n",
       "2  00282135561702f5b3b750fa3382d8fd83ce5d761a507e...   \n",
       "3  00356a94bb9bed341f6dba58ad722974b01a1cbd9f06ef...   \n",
       "4  00462904b288681a9facb555f75dd2cf4d0f730a6e0ea7...   \n",
       "\n",
       "                                          article_id  \n",
       "0                                       [0794321007]  \n",
       "1  [0778745010, 0778745010, 0610776105, 092974500...  \n",
       "2                           [0855249006, 0822171001]  \n",
       "3  [0920012003, 0572797002, 0572797002, 056860104...  \n",
       "4  [0827968001, 0887757001, 0673677002, 079936500...  "
      ]
     },
     "execution_count": 388,
     "metadata": {},
     "output_type": "execute_result"
    }
   ],
   "source": [
    "test_set_act = test_set.groupby('customer_id')['article_id'].apply(lambda x: list(x)).reset_index()\n",
    "print(test_set_act.shape)\n",
    "test_set_act.head()"
   ]
  },
  {
   "cell_type": "code",
   "execution_count": 389,
   "id": "65dc4763",
   "metadata": {},
   "outputs": [
    {
     "data": {
      "text/html": [
       "<div>\n",
       "<style scoped>\n",
       "    .dataframe tbody tr th:only-of-type {\n",
       "        vertical-align: middle;\n",
       "    }\n",
       "\n",
       "    .dataframe tbody tr th {\n",
       "        vertical-align: top;\n",
       "    }\n",
       "\n",
       "    .dataframe thead th {\n",
       "        text-align: right;\n",
       "    }\n",
       "</style>\n",
       "<table border=\"1\" class=\"dataframe\">\n",
       "  <thead>\n",
       "    <tr style=\"text-align: right;\">\n",
       "      <th></th>\n",
       "      <th>customer_id</th>\n",
       "      <th>article_id_act</th>\n",
       "      <th>article_id_pred</th>\n",
       "      <th>number_of_prev</th>\n",
       "      <th>filler_articles</th>\n",
       "    </tr>\n",
       "  </thead>\n",
       "  <tbody>\n",
       "    <tr>\n",
       "      <th>0</th>\n",
       "      <td>000058a12d5b43e67d225668fa1f8d618c13dc232df0ca...</td>\n",
       "      <td>[0794321007]</td>\n",
       "      <td>[0663713001, 0541518023, 0663713001, 057802000...</td>\n",
       "      <td>17</td>\n",
       "      <td>[0715255013, 0909370001, 0915526001, 089615200...</td>\n",
       "    </tr>\n",
       "    <tr>\n",
       "      <th>1</th>\n",
       "      <td>0015f37f752a41a75c3be6f3f92deedc4c87d039f1758e...</td>\n",
       "      <td>[0778745010, 0778745010, 0610776105, 092974500...</td>\n",
       "      <td>[0656491001, 0676573005, 0504154019, 068421000...</td>\n",
       "      <td>48</td>\n",
       "      <td>[0715255013, 0909370001, 0915526001, 089615200...</td>\n",
       "    </tr>\n",
       "    <tr>\n",
       "      <th>2</th>\n",
       "      <td>00282135561702f5b3b750fa3382d8fd83ce5d761a507e...</td>\n",
       "      <td>[0855249006, 0822171001]</td>\n",
       "      <td>[0573626001, 0688632001, 0569974001, 057000200...</td>\n",
       "      <td>55</td>\n",
       "      <td>[0715255013, 0909370001, 0915526001, 089615200...</td>\n",
       "    </tr>\n",
       "    <tr>\n",
       "      <th>3</th>\n",
       "      <td>00356a94bb9bed341f6dba58ad722974b01a1cbd9f06ef...</td>\n",
       "      <td>[0920012003, 0572797002, 0572797002, 056860104...</td>\n",
       "      <td>[0487932038, 0487932038, 0628458001, 068054200...</td>\n",
       "      <td>12</td>\n",
       "      <td>[0715255013, 0909370001, 0915526001, 089615200...</td>\n",
       "    </tr>\n",
       "    <tr>\n",
       "      <th>4</th>\n",
       "      <td>00462904b288681a9facb555f75dd2cf4d0f730a6e0ea7...</td>\n",
       "      <td>[0827968001, 0887757001, 0673677002, 079936500...</td>\n",
       "      <td>[0201219001, 0322017003, 0156231001, 075475100...</td>\n",
       "      <td>23</td>\n",
       "      <td>[0715255013, 0909370001, 0915526001, 089615200...</td>\n",
       "    </tr>\n",
       "  </tbody>\n",
       "</table>\n",
       "</div>"
      ],
      "text/plain": [
       "                                         customer_id  \\\n",
       "0  000058a12d5b43e67d225668fa1f8d618c13dc232df0ca...   \n",
       "1  0015f37f752a41a75c3be6f3f92deedc4c87d039f1758e...   \n",
       "2  00282135561702f5b3b750fa3382d8fd83ce5d761a507e...   \n",
       "3  00356a94bb9bed341f6dba58ad722974b01a1cbd9f06ef...   \n",
       "4  00462904b288681a9facb555f75dd2cf4d0f730a6e0ea7...   \n",
       "\n",
       "                                      article_id_act  \\\n",
       "0                                       [0794321007]   \n",
       "1  [0778745010, 0778745010, 0610776105, 092974500...   \n",
       "2                           [0855249006, 0822171001]   \n",
       "3  [0920012003, 0572797002, 0572797002, 056860104...   \n",
       "4  [0827968001, 0887757001, 0673677002, 079936500...   \n",
       "\n",
       "                                     article_id_pred  number_of_prev  \\\n",
       "0  [0663713001, 0541518023, 0663713001, 057802000...              17   \n",
       "1  [0656491001, 0676573005, 0504154019, 068421000...              48   \n",
       "2  [0573626001, 0688632001, 0569974001, 057000200...              55   \n",
       "3  [0487932038, 0487932038, 0628458001, 068054200...              12   \n",
       "4  [0201219001, 0322017003, 0156231001, 075475100...              23   \n",
       "\n",
       "                                     filler_articles  \n",
       "0  [0715255013, 0909370001, 0915526001, 089615200...  \n",
       "1  [0715255013, 0909370001, 0915526001, 089615200...  \n",
       "2  [0715255013, 0909370001, 0915526001, 089615200...  \n",
       "3  [0715255013, 0909370001, 0915526001, 089615200...  \n",
       "4  [0715255013, 0909370001, 0915526001, 089615200...  "
      ]
     },
     "execution_count": 389,
     "metadata": {},
     "output_type": "execute_result"
    }
   ],
   "source": [
    "compare = test_set_act.merge(test_set_pred, on='customer_id', suffixes=('_act', '_pred'))\n",
    "compare.head()"
   ]
  },
  {
   "cell_type": "code",
   "execution_count": 390,
   "id": "beae74ec",
   "metadata": {},
   "outputs": [],
   "source": [
    "def precision(a: list, b: list):\n",
    "    a = set(a)\n",
    "    b = set(b)\n",
    "    num_common = len(a.intersection(b))\n",
    "    return num_common / len(a)"
   ]
  },
  {
   "cell_type": "code",
   "execution_count": 391,
   "id": "a0105a6d",
   "metadata": {},
   "outputs": [
    {
     "data": {
      "text/plain": [
       "0.3998263326525364"
      ]
     },
     "execution_count": 391,
     "metadata": {},
     "output_type": "execute_result"
    }
   ],
   "source": [
    "compare.apply(lambda x: precision(x['article_id_act'], x['article_id_pred']), axis=1).mean()"
   ]
  },
  {
   "cell_type": "markdown",
   "id": "3d40f470",
   "metadata": {},
   "source": [
    "Compute MAP@12 if items were perfectly sorted (gives an idea of maximum possible MAP with this candidate generation technique)"
   ]
  },
  {
   "cell_type": "code",
   "execution_count": 392,
   "id": "e428ca49",
   "metadata": {},
   "outputs": [
    {
     "data": {
      "text/plain": [
       "0       1.000000\n",
       "1       0.571429\n",
       "2       0.500000\n",
       "3       0.166667\n",
       "4       0.500000\n",
       "          ...   \n",
       "9203    1.000000\n",
       "9204    1.000000\n",
       "9205    0.500000\n",
       "9206    0.000000\n",
       "9207    0.666667\n",
       "Length: 9208, dtype: float64"
      ]
     },
     "execution_count": 392,
     "metadata": {},
     "output_type": "execute_result"
    }
   ],
   "source": [
    "compare.apply(lambda x: precision(x['article_id_act'], x['article_id_pred']), axis=1)"
   ]
  },
  {
   "cell_type": "code",
   "execution_count": 393,
   "id": "78ca1c7b",
   "metadata": {},
   "outputs": [
    {
     "data": {
      "text/plain": [
       "['0827968001',\n",
       " '0887757001',\n",
       " '0673677002',\n",
       " '0799365004',\n",
       " '0874819002',\n",
       " '0910457001',\n",
       " '0799365001',\n",
       " '0754751001']"
      ]
     },
     "execution_count": 393,
     "metadata": {},
     "output_type": "execute_result"
    }
   ],
   "source": [
    "compare.iloc[4]['article_id_act']"
   ]
  },
  {
   "cell_type": "code",
   "execution_count": 394,
   "id": "eeeebc40",
   "metadata": {},
   "outputs": [
    {
     "data": {
      "text/plain": [
       "['0201219001', '0322017003', '0156231001', '0754751001', '0297067002']"
      ]
     },
     "execution_count": 394,
     "metadata": {},
     "output_type": "execute_result"
    }
   ],
   "source": [
    "compare.iloc[4]['article_id_pred'][:5]"
   ]
  },
  {
   "cell_type": "code",
   "execution_count": 395,
   "id": "e6da58d4",
   "metadata": {},
   "outputs": [
    {
     "data": {
      "text/plain": [
       "['0827968001', '0673677002', '0874819002', '0754751001']"
      ]
     },
     "execution_count": 395,
     "metadata": {},
     "output_type": "execute_result"
    }
   ],
   "source": [
    "[i for i in compare.iloc[4]['article_id_act'] if i in compare.iloc[4]['article_id_pred']]"
   ]
  },
  {
   "cell_type": "code",
   "execution_count": 396,
   "id": "86b298d1",
   "metadata": {},
   "outputs": [],
   "source": [
    "compare['article_id_pred_ordered'] = compare.apply(lambda x: [i for i in x['article_id_act'] if i in x['article_id_pred']], axis=1)"
   ]
  },
  {
   "cell_type": "code",
   "execution_count": 397,
   "id": "87168338",
   "metadata": {},
   "outputs": [],
   "source": [
    "preds = compare['article_id_pred_ordered'].tolist()\n",
    "acts = compare['article_id_act'].tolist()"
   ]
  },
  {
   "cell_type": "code",
   "execution_count": 398,
   "id": "5e2bf06b",
   "metadata": {},
   "outputs": [
    {
     "data": {
      "text/plain": [
       "0.3716438398610566"
      ]
     },
     "execution_count": 398,
     "metadata": {},
     "output_type": "execute_result"
    }
   ],
   "source": [
    "mapk(acts, preds, 12)"
   ]
  },
  {
   "cell_type": "markdown",
   "id": "b44ced6f",
   "metadata": {},
   "source": [
    "Metrics by starting point for top-k items:\n",
    "\n",
    "`2020-01-01`:\n",
    "- Precision = 0.20\n",
    "- MAP@12 = 0.19\n",
    "\n",
    "`2020-07-01`:\n",
    "- Precision = 0.31\n",
    "- MAP@12 = 0.29\n",
    "\n",
    "** `2020-08-01`:\n",
    "- Precision = 0.35\n",
    "- MAP@12 = 0.33\n",
    "\n",
    "`2020-09-01`:\n",
    "- Precision = 0.4\n",
    "- MAP@12 = 0.37\n",
    "\n",
    "`2020-09-07`:\n",
    "- Precision = 0.39\n",
    "- MAP@12 = 0.37\n",
    "\n",
    "Also tried all data in months 7, 8, 9 but this led to lower precision"
   ]
  },
  {
   "cell_type": "code",
   "execution_count": 427,
   "id": "e9c0c0f0",
   "metadata": {},
   "outputs": [
    {
     "name": "stdout",
     "output_type": "stream",
     "text": [
      "(41952, 3)\n",
      "(13137, 3)\n",
      "(7458, 3)\n"
     ]
    }
   ],
   "source": [
    "print(train_set_orig[train_set_orig['t_dat'] > '2020-08-01'].shape)\n",
    "print(train_set_orig[train_set_orig['t_dat'] > '2020-09-01'].shape)\n",
    "print(train_set_orig[train_set_orig['t_dat'] > '2020-09-07'].shape)"
   ]
  },
  {
   "cell_type": "markdown",
   "id": "9ceb353b",
   "metadata": {},
   "source": [
    "** Whilst `2020-08-01` doesn't have the highest precision we use this starting point to benefit from more positive examples to pass to our model"
   ]
  }
 ],
 "metadata": {
  "kernelspec": {
   "display_name": "Python 3 (ipykernel)",
   "language": "python",
   "name": "python3"
  },
  "language_info": {
   "codemirror_mode": {
    "name": "ipython",
    "version": 3
   },
   "file_extension": ".py",
   "mimetype": "text/x-python",
   "name": "python",
   "nbconvert_exporter": "python",
   "pygments_lexer": "ipython3",
   "version": "3.8.12"
  }
 },
 "nbformat": 4,
 "nbformat_minor": 5
}
