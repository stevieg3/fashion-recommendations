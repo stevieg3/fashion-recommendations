{
 "cells": [
  {
   "cell_type": "markdown",
   "id": "c319939d",
   "metadata": {
    "id": "d735c753"
   },
   "source": [
    "TBC"
   ]
  },
  {
   "cell_type": "code",
   "execution_count": 1,
   "id": "085adcc6",
   "metadata": {
    "colab": {
     "base_uri": "https://localhost:8080/"
    },
    "executionInfo": {
     "elapsed": 2383,
     "status": "ok",
     "timestamp": 1649692188955,
     "user": {
      "displayName": "Steven George",
      "userId": "07709250839253394649"
     },
     "user_tz": -60
    },
    "id": "52f14bce",
    "outputId": "cd23de3a-c1cd-4c9c-cc43-a9af16cd5e2a"
   },
   "outputs": [],
   "source": [
    "# from google.colab import drive\n",
    "# drive.mount('/content/drive', force_remount=True)"
   ]
  },
  {
   "cell_type": "code",
   "execution_count": 2,
   "id": "e5a92252",
   "metadata": {
    "executionInfo": {
     "elapsed": 1160,
     "status": "ok",
     "timestamp": 1649692190112,
     "user": {
      "displayName": "Steven George",
      "userId": "07709250839253394649"
     },
     "user_tz": -60
    },
    "id": "562972be"
   },
   "outputs": [],
   "source": [
    "import os\n",
    "import datetime\n",
    "\n",
    "import pandas as pd\n",
    "import numpy as np\n",
    "import matplotlib.pyplot as plt\n",
    "import torch\n",
    "import torch.nn as nn\n",
    "from torch.utils.data import Dataset, DataLoader\n",
    "from tqdm import tqdm"
   ]
  },
  {
   "cell_type": "code",
   "execution_count": 3,
   "id": "6040d2ed",
   "metadata": {
    "executionInfo": {
     "elapsed": 11,
     "status": "ok",
     "timestamp": 1649692190113,
     "user": {
      "displayName": "Steven George",
      "userId": "07709250839253394649"
     },
     "user_tz": -60
    },
    "id": "627d0e90"
   },
   "outputs": [],
   "source": [
    "os.chdir('..')\n",
    "# os.chdir('drive/My Drive/Colab Notebooks/Github/fashion-recommendations') "
   ]
  },
  {
   "cell_type": "code",
   "execution_count": 4,
   "id": "bc8b05d6",
   "metadata": {
    "executionInfo": {
     "elapsed": 10,
     "status": "ok",
     "timestamp": 1649692190113,
     "user": {
      "displayName": "Steven George",
      "userId": "07709250839253394649"
     },
     "user_tz": -60
    },
    "id": "ed516b5d"
   },
   "outputs": [],
   "source": [
    "from fashion_recommendations.metrics.average_precision import mapk"
   ]
  },
  {
   "cell_type": "code",
   "execution_count": 5,
   "id": "100dfb82",
   "metadata": {
    "executionInfo": {
     "elapsed": 11,
     "status": "ok",
     "timestamp": 1649692190114,
     "user": {
      "displayName": "Steven George",
      "userId": "07709250839253394649"
     },
     "user_tz": -60
    },
    "id": "9f676b44"
   },
   "outputs": [],
   "source": [
    "pd.options.display.max_columns = None"
   ]
  },
  {
   "cell_type": "code",
   "execution_count": 6,
   "id": "9b4f8663",
   "metadata": {
    "colab": {
     "base_uri": "https://localhost:8080/"
    },
    "executionInfo": {
     "elapsed": 10,
     "status": "ok",
     "timestamp": 1649692190114,
     "user": {
      "displayName": "Steven George",
      "userId": "07709250839253394649"
     },
     "user_tz": -60
    },
    "id": "f32f6ce3",
    "outputId": "b8b104d5-8a14-478a-8a96-84784c8016ee"
   },
   "outputs": [
    {
     "name": "stdout",
     "output_type": "stream",
     "text": [
      "cpu\n"
     ]
    }
   ],
   "source": [
    "device = torch.device(\"cuda:0\" if torch.cuda.is_available() else \"cpu\")\n",
    "print(device)"
   ]
  },
  {
   "cell_type": "code",
   "execution_count": 7,
   "id": "89b06d61",
   "metadata": {
    "colab": {
     "base_uri": "https://localhost:8080/",
     "height": 224
    },
    "executionInfo": {
     "elapsed": 1082,
     "status": "ok",
     "timestamp": 1649692191191,
     "user": {
      "displayName": "Steven George",
      "userId": "07709250839253394649"
     },
     "user_tz": -60
    },
    "id": "72888e65",
    "outputId": "b288fd18-402b-4d9c-d27d-9a982dea9a7a"
   },
   "outputs": [
    {
     "name": "stdout",
     "output_type": "stream",
     "text": [
      "(588758, 5)\n"
     ]
    },
    {
     "data": {
      "text/html": [
       "<div>\n",
       "<style scoped>\n",
       "    .dataframe tbody tr th:only-of-type {\n",
       "        vertical-align: middle;\n",
       "    }\n",
       "\n",
       "    .dataframe tbody tr th {\n",
       "        vertical-align: top;\n",
       "    }\n",
       "\n",
       "    .dataframe thead th {\n",
       "        text-align: right;\n",
       "    }\n",
       "</style>\n",
       "<table border=\"1\" class=\"dataframe\">\n",
       "  <thead>\n",
       "    <tr style=\"text-align: right;\">\n",
       "      <th></th>\n",
       "      <th>t_dat</th>\n",
       "      <th>customer_id</th>\n",
       "      <th>article_id</th>\n",
       "      <th>price</th>\n",
       "      <th>sales_channel_id</th>\n",
       "    </tr>\n",
       "  </thead>\n",
       "  <tbody>\n",
       "    <tr>\n",
       "      <th>0</th>\n",
       "      <td>2018-09-20</td>\n",
       "      <td>000058a12d5b43e67d225668fa1f8d618c13dc232df0ca...</td>\n",
       "      <td>0663713001</td>\n",
       "      <td>0.050831</td>\n",
       "      <td>2</td>\n",
       "    </tr>\n",
       "    <tr>\n",
       "      <th>1</th>\n",
       "      <td>2018-09-20</td>\n",
       "      <td>000058a12d5b43e67d225668fa1f8d618c13dc232df0ca...</td>\n",
       "      <td>0541518023</td>\n",
       "      <td>0.030492</td>\n",
       "      <td>2</td>\n",
       "    </tr>\n",
       "    <tr>\n",
       "      <th>2</th>\n",
       "      <td>2018-09-20</td>\n",
       "      <td>016d8f0519d9e0572b3abebeab87408bad7a5c3a284016...</td>\n",
       "      <td>0650193004</td>\n",
       "      <td>0.050831</td>\n",
       "      <td>1</td>\n",
       "    </tr>\n",
       "    <tr>\n",
       "      <th>3</th>\n",
       "      <td>2018-09-20</td>\n",
       "      <td>016d8f0519d9e0572b3abebeab87408bad7a5c3a284016...</td>\n",
       "      <td>0527687006</td>\n",
       "      <td>0.101678</td>\n",
       "      <td>1</td>\n",
       "    </tr>\n",
       "    <tr>\n",
       "      <th>4</th>\n",
       "      <td>2018-09-20</td>\n",
       "      <td>02bfe1a5248beb9cd28ad4ac630a6d75e78d9a3e14551a...</td>\n",
       "      <td>0668767002</td>\n",
       "      <td>0.016932</td>\n",
       "      <td>2</td>\n",
       "    </tr>\n",
       "  </tbody>\n",
       "</table>\n",
       "</div>"
      ],
      "text/plain": [
       "        t_dat                                        customer_id  article_id  \\\n",
       "0  2018-09-20  000058a12d5b43e67d225668fa1f8d618c13dc232df0ca...  0663713001   \n",
       "1  2018-09-20  000058a12d5b43e67d225668fa1f8d618c13dc232df0ca...  0541518023   \n",
       "2  2018-09-20  016d8f0519d9e0572b3abebeab87408bad7a5c3a284016...  0650193004   \n",
       "3  2018-09-20  016d8f0519d9e0572b3abebeab87408bad7a5c3a284016...  0527687006   \n",
       "4  2018-09-20  02bfe1a5248beb9cd28ad4ac630a6d75e78d9a3e14551a...  0668767002   \n",
       "\n",
       "      price  sales_channel_id  \n",
       "0  0.050831                 2  \n",
       "1  0.030492                 2  \n",
       "2  0.050831                 1  \n",
       "3  0.101678                 1  \n",
       "4  0.016932                 2  "
      ]
     },
     "execution_count": 7,
     "metadata": {},
     "output_type": "execute_result"
    }
   ],
   "source": [
    "train_set_orig = pd.read_csv('data/splits/train_subset.tsv', sep='\\t', dtype={'article_id': str})\n",
    "print(train_set_orig.shape)\n",
    "train_set_orig.head()"
   ]
  },
  {
   "cell_type": "code",
   "execution_count": 8,
   "id": "9ff730c8",
   "metadata": {
    "colab": {
     "base_uri": "https://localhost:8080/",
     "height": 224
    },
    "executionInfo": {
     "elapsed": 13,
     "status": "ok",
     "timestamp": 1649692191192,
     "user": {
      "displayName": "Steven George",
      "userId": "07709250839253394649"
     },
     "user_tz": -60
    },
    "id": "07eb9c3c",
    "outputId": "2eb7f30a-1293-44c3-b805-53c0404c3f6e"
   },
   "outputs": [
    {
     "name": "stdout",
     "output_type": "stream",
     "text": [
      "(32995, 5)\n"
     ]
    },
    {
     "data": {
      "text/html": [
       "<div>\n",
       "<style scoped>\n",
       "    .dataframe tbody tr th:only-of-type {\n",
       "        vertical-align: middle;\n",
       "    }\n",
       "\n",
       "    .dataframe tbody tr th {\n",
       "        vertical-align: top;\n",
       "    }\n",
       "\n",
       "    .dataframe thead th {\n",
       "        text-align: right;\n",
       "    }\n",
       "</style>\n",
       "<table border=\"1\" class=\"dataframe\">\n",
       "  <thead>\n",
       "    <tr style=\"text-align: right;\">\n",
       "      <th></th>\n",
       "      <th>t_dat</th>\n",
       "      <th>customer_id</th>\n",
       "      <th>article_id</th>\n",
       "      <th>price</th>\n",
       "      <th>sales_channel_id</th>\n",
       "    </tr>\n",
       "  </thead>\n",
       "  <tbody>\n",
       "    <tr>\n",
       "      <th>0</th>\n",
       "      <td>2020-09-15</td>\n",
       "      <td>000058a12d5b43e67d225668fa1f8d618c13dc232df0ca...</td>\n",
       "      <td>0794321007</td>\n",
       "      <td>0.061000</td>\n",
       "      <td>2</td>\n",
       "    </tr>\n",
       "    <tr>\n",
       "      <th>1</th>\n",
       "      <td>2020-09-15</td>\n",
       "      <td>0015f37f752a41a75c3be6f3f92deedc4c87d039f1758e...</td>\n",
       "      <td>0778745010</td>\n",
       "      <td>0.033881</td>\n",
       "      <td>2</td>\n",
       "    </tr>\n",
       "    <tr>\n",
       "      <th>2</th>\n",
       "      <td>2020-09-15</td>\n",
       "      <td>0015f37f752a41a75c3be6f3f92deedc4c87d039f1758e...</td>\n",
       "      <td>0778745010</td>\n",
       "      <td>0.033881</td>\n",
       "      <td>2</td>\n",
       "    </tr>\n",
       "    <tr>\n",
       "      <th>3</th>\n",
       "      <td>2020-09-15</td>\n",
       "      <td>0015f37f752a41a75c3be6f3f92deedc4c87d039f1758e...</td>\n",
       "      <td>0610776105</td>\n",
       "      <td>0.008458</td>\n",
       "      <td>2</td>\n",
       "    </tr>\n",
       "    <tr>\n",
       "      <th>4</th>\n",
       "      <td>2020-09-15</td>\n",
       "      <td>0015f37f752a41a75c3be6f3f92deedc4c87d039f1758e...</td>\n",
       "      <td>0929745001</td>\n",
       "      <td>0.050831</td>\n",
       "      <td>2</td>\n",
       "    </tr>\n",
       "  </tbody>\n",
       "</table>\n",
       "</div>"
      ],
      "text/plain": [
       "        t_dat                                        customer_id  article_id  \\\n",
       "0  2020-09-15  000058a12d5b43e67d225668fa1f8d618c13dc232df0ca...  0794321007   \n",
       "1  2020-09-15  0015f37f752a41a75c3be6f3f92deedc4c87d039f1758e...  0778745010   \n",
       "2  2020-09-15  0015f37f752a41a75c3be6f3f92deedc4c87d039f1758e...  0778745010   \n",
       "3  2020-09-15  0015f37f752a41a75c3be6f3f92deedc4c87d039f1758e...  0610776105   \n",
       "4  2020-09-15  0015f37f752a41a75c3be6f3f92deedc4c87d039f1758e...  0929745001   \n",
       "\n",
       "      price  sales_channel_id  \n",
       "0  0.061000                 2  \n",
       "1  0.033881                 2  \n",
       "2  0.033881                 2  \n",
       "3  0.008458                 2  \n",
       "4  0.050831                 2  "
      ]
     },
     "execution_count": 8,
     "metadata": {},
     "output_type": "execute_result"
    }
   ],
   "source": [
    "test_set = pd.read_csv('data/splits/test_subset.tsv', sep='\\t', dtype={'article_id': str})\n",
    "print(test_set.shape)\n",
    "test_set.head()"
   ]
  },
  {
   "cell_type": "code",
   "execution_count": 9,
   "id": "fa0ad3ea",
   "metadata": {},
   "outputs": [
    {
     "name": "stdout",
     "output_type": "stream",
     "text": [
      "(1371980, 7)\n"
     ]
    },
    {
     "data": {
      "text/html": [
       "<div>\n",
       "<style scoped>\n",
       "    .dataframe tbody tr th:only-of-type {\n",
       "        vertical-align: middle;\n",
       "    }\n",
       "\n",
       "    .dataframe tbody tr th {\n",
       "        vertical-align: top;\n",
       "    }\n",
       "\n",
       "    .dataframe thead th {\n",
       "        text-align: right;\n",
       "    }\n",
       "</style>\n",
       "<table border=\"1\" class=\"dataframe\">\n",
       "  <thead>\n",
       "    <tr style=\"text-align: right;\">\n",
       "      <th></th>\n",
       "      <th>customer_id</th>\n",
       "      <th>FN</th>\n",
       "      <th>Active</th>\n",
       "      <th>club_member_status</th>\n",
       "      <th>fashion_news_frequency</th>\n",
       "      <th>age</th>\n",
       "      <th>postal_code</th>\n",
       "    </tr>\n",
       "  </thead>\n",
       "  <tbody>\n",
       "    <tr>\n",
       "      <th>0</th>\n",
       "      <td>00000dbacae5abe5e23885899a1fa44253a17956c6d1c3...</td>\n",
       "      <td>NaN</td>\n",
       "      <td>NaN</td>\n",
       "      <td>ACTIVE</td>\n",
       "      <td>NONE</td>\n",
       "      <td>49.0</td>\n",
       "      <td>52043ee2162cf5aa7ee79974281641c6f11a68d276429a...</td>\n",
       "    </tr>\n",
       "    <tr>\n",
       "      <th>1</th>\n",
       "      <td>0000423b00ade91418cceaf3b26c6af3dd342b51fd051e...</td>\n",
       "      <td>NaN</td>\n",
       "      <td>NaN</td>\n",
       "      <td>ACTIVE</td>\n",
       "      <td>NONE</td>\n",
       "      <td>25.0</td>\n",
       "      <td>2973abc54daa8a5f8ccfe9362140c63247c5eee03f1d93...</td>\n",
       "    </tr>\n",
       "    <tr>\n",
       "      <th>2</th>\n",
       "      <td>000058a12d5b43e67d225668fa1f8d618c13dc232df0ca...</td>\n",
       "      <td>NaN</td>\n",
       "      <td>NaN</td>\n",
       "      <td>ACTIVE</td>\n",
       "      <td>NONE</td>\n",
       "      <td>24.0</td>\n",
       "      <td>64f17e6a330a85798e4998f62d0930d14db8db1c054af6...</td>\n",
       "    </tr>\n",
       "    <tr>\n",
       "      <th>3</th>\n",
       "      <td>00005ca1c9ed5f5146b52ac8639a40ca9d57aeff4d1bd2...</td>\n",
       "      <td>NaN</td>\n",
       "      <td>NaN</td>\n",
       "      <td>ACTIVE</td>\n",
       "      <td>NONE</td>\n",
       "      <td>54.0</td>\n",
       "      <td>5d36574f52495e81f019b680c843c443bd343d5ca5b1c2...</td>\n",
       "    </tr>\n",
       "    <tr>\n",
       "      <th>4</th>\n",
       "      <td>00006413d8573cd20ed7128e53b7b13819fe5cfc2d801f...</td>\n",
       "      <td>1.0</td>\n",
       "      <td>1.0</td>\n",
       "      <td>ACTIVE</td>\n",
       "      <td>Regularly</td>\n",
       "      <td>52.0</td>\n",
       "      <td>25fa5ddee9aac01b35208d01736e57942317d756b32ddd...</td>\n",
       "    </tr>\n",
       "  </tbody>\n",
       "</table>\n",
       "</div>"
      ],
      "text/plain": [
       "                                         customer_id   FN  Active  \\\n",
       "0  00000dbacae5abe5e23885899a1fa44253a17956c6d1c3...  NaN     NaN   \n",
       "1  0000423b00ade91418cceaf3b26c6af3dd342b51fd051e...  NaN     NaN   \n",
       "2  000058a12d5b43e67d225668fa1f8d618c13dc232df0ca...  NaN     NaN   \n",
       "3  00005ca1c9ed5f5146b52ac8639a40ca9d57aeff4d1bd2...  NaN     NaN   \n",
       "4  00006413d8573cd20ed7128e53b7b13819fe5cfc2d801f...  1.0     1.0   \n",
       "\n",
       "  club_member_status fashion_news_frequency   age  \\\n",
       "0             ACTIVE                   NONE  49.0   \n",
       "1             ACTIVE                   NONE  25.0   \n",
       "2             ACTIVE                   NONE  24.0   \n",
       "3             ACTIVE                   NONE  54.0   \n",
       "4             ACTIVE              Regularly  52.0   \n",
       "\n",
       "                                         postal_code  \n",
       "0  52043ee2162cf5aa7ee79974281641c6f11a68d276429a...  \n",
       "1  2973abc54daa8a5f8ccfe9362140c63247c5eee03f1d93...  \n",
       "2  64f17e6a330a85798e4998f62d0930d14db8db1c054af6...  \n",
       "3  5d36574f52495e81f019b680c843c443bd343d5ca5b1c2...  \n",
       "4  25fa5ddee9aac01b35208d01736e57942317d756b32ddd...  "
      ]
     },
     "execution_count": 9,
     "metadata": {},
     "output_type": "execute_result"
    }
   ],
   "source": [
    "customers = pd.read_csv('data/customers.csv')\n",
    "print(customers.shape)\n",
    "customers.head()"
   ]
  },
  {
   "cell_type": "code",
   "execution_count": 10,
   "id": "05724ff0",
   "metadata": {},
   "outputs": [
    {
     "data": {
      "text/plain": [
       "customer_id               0.000000\n",
       "FN                        0.652378\n",
       "Active                    0.661508\n",
       "club_member_status        0.004418\n",
       "fashion_news_frequency    0.011669\n",
       "age                       0.011561\n",
       "postal_code               0.000000\n",
       "dtype: float64"
      ]
     },
     "execution_count": 10,
     "metadata": {},
     "output_type": "execute_result"
    }
   ],
   "source": [
    "customers.isnull().sum() / customers.shape[0]"
   ]
  },
  {
   "cell_type": "code",
   "execution_count": 11,
   "id": "39962a50",
   "metadata": {},
   "outputs": [
    {
     "name": "stdout",
     "output_type": "stream",
     "text": [
      "customer_id\n",
      "['00000dbacae5abe5e23885899a1fa44253a17956c6d1c3d25f88aa139fdfc657'\n",
      " '0000423b00ade91418cceaf3b26c6af3dd342b51fd051eec9c12fb36984420fa'\n",
      " '000058a12d5b43e67d225668fa1f8d618c13dc232df0cad8ffe7ad4a1091e318' ...\n",
      " 'ffffcf35913a0bee60e8741cb2b4e78b8a98ee5ff2e6a1778d0116cffd259264'\n",
      " 'ffffd7744cebcf3aca44ae7049d2a94b87074c3d4ffe38b2236865d949d4df6a'\n",
      " 'ffffd9ac14e89946416d80e791d064701994755c3ab686a1eaf3458c36f52241']\n",
      "\n",
      "\n",
      "FN\n",
      "[nan  1.]\n",
      "\n",
      "\n",
      "Active\n",
      "[nan  1.]\n",
      "\n",
      "\n",
      "club_member_status\n",
      "['ACTIVE' nan 'PRE-CREATE' 'LEFT CLUB']\n",
      "\n",
      "\n",
      "fashion_news_frequency\n",
      "['NONE' 'Regularly' nan 'Monthly' 'None']\n",
      "\n",
      "\n",
      "age\n",
      "[49. 25. 24. 54. 52. nan 20. 32. 29. 31. 56. 75. 41. 27. 30. 48. 35. 22.\n",
      " 40. 38. 45. 68. 55. 19. 60. 44. 21. 26. 28. 53. 33. 17. 23. 51. 18. 34.\n",
      " 57. 47. 70. 50. 63. 58. 43. 67. 72. 42. 39. 79. 71. 59. 36. 62. 37. 46.\n",
      " 73. 64. 74. 61. 85. 69. 76. 66. 65. 82. 16. 90. 80. 78. 81. 84. 77. 97.\n",
      " 89. 83. 98. 88. 86. 87. 93. 91. 99. 96. 94. 92. 95.]\n",
      "\n",
      "\n",
      "postal_code\n",
      "['52043ee2162cf5aa7ee79974281641c6f11a68d276429a91f8ca0d4b6efa8100'\n",
      " '2973abc54daa8a5f8ccfe9362140c63247c5eee03f1d93f4c830291c32bc3057'\n",
      " '64f17e6a330a85798e4998f62d0930d14db8db1c054af6c9090f7dd3e38380dc' ...\n",
      " 'c9d6890a6a194925f2c7712bde35b4ea973971cbe27c993ee907fe6d97a3ab0c'\n",
      " 'c9e32043e0338a51dfd94705cfd8f75eb98c2ec34730497c9726b21e59ee4572'\n",
      " '0a1a03306fb2f62164c2a439b38c0caa64b40deaae868799ccb93ac69444b79d']\n",
      "\n",
      "\n"
     ]
    }
   ],
   "source": [
    "for col in customers:\n",
    "    print(col)\n",
    "    print(customers[col].unique())\n",
    "    print('\\n')"
   ]
  },
  {
   "cell_type": "markdown",
   "id": "71edf156",
   "metadata": {},
   "source": [
    "- Impute NULLs in [`FN`, `Active`] with 0\n",
    "- Lower case categories\n",
    "- Replace `-` and spaces with `_`\n",
    "- Impute `club_member_status` with `missing`\n",
    "- Impute `fashion_news_frequency` with `missing`\n",
    "- Mean imputation for `age` during training"
   ]
  },
  {
   "cell_type": "code",
   "execution_count": 12,
   "id": "89a077af",
   "metadata": {},
   "outputs": [],
   "source": [
    "customers[['FN', 'Active']] = customers[['FN', 'Active']].fillna(0)"
   ]
  },
  {
   "cell_type": "code",
   "execution_count": 13,
   "id": "4e2910e4",
   "metadata": {},
   "outputs": [],
   "source": [
    "customers['club_member_status'] = customers['club_member_status'].str.lower().str.replace('-', '_').str.replace(' ', '_').fillna('missing')"
   ]
  },
  {
   "cell_type": "code",
   "execution_count": 14,
   "id": "4fd22fb9",
   "metadata": {},
   "outputs": [],
   "source": [
    "customers['fashion_news_frequency'] = customers['fashion_news_frequency'].str.lower().str.replace('-', '_').str.replace(' ', '_').fillna('missing')"
   ]
  },
  {
   "cell_type": "code",
   "execution_count": 15,
   "id": "34abd946",
   "metadata": {},
   "outputs": [],
   "source": [
    "customers['fashion_news_frequency'] = customers['fashion_news_frequency'].replace('none', 'missing')"
   ]
  },
  {
   "cell_type": "code",
   "execution_count": 16,
   "id": "88377d3f",
   "metadata": {},
   "outputs": [
    {
     "data": {
      "text/html": [
       "<div>\n",
       "<style scoped>\n",
       "    .dataframe tbody tr th:only-of-type {\n",
       "        vertical-align: middle;\n",
       "    }\n",
       "\n",
       "    .dataframe tbody tr th {\n",
       "        vertical-align: top;\n",
       "    }\n",
       "\n",
       "    .dataframe thead th {\n",
       "        text-align: right;\n",
       "    }\n",
       "</style>\n",
       "<table border=\"1\" class=\"dataframe\">\n",
       "  <thead>\n",
       "    <tr style=\"text-align: right;\">\n",
       "      <th></th>\n",
       "      <th>customer_id</th>\n",
       "      <th>FN</th>\n",
       "      <th>Active</th>\n",
       "      <th>club_member_status</th>\n",
       "      <th>fashion_news_frequency</th>\n",
       "      <th>age</th>\n",
       "      <th>postal_code</th>\n",
       "    </tr>\n",
       "  </thead>\n",
       "  <tbody>\n",
       "    <tr>\n",
       "      <th>0</th>\n",
       "      <td>00000dbacae5abe5e23885899a1fa44253a17956c6d1c3...</td>\n",
       "      <td>0.0</td>\n",
       "      <td>0.0</td>\n",
       "      <td>active</td>\n",
       "      <td>missing</td>\n",
       "      <td>49.0</td>\n",
       "      <td>52043ee2162cf5aa7ee79974281641c6f11a68d276429a...</td>\n",
       "    </tr>\n",
       "    <tr>\n",
       "      <th>1</th>\n",
       "      <td>0000423b00ade91418cceaf3b26c6af3dd342b51fd051e...</td>\n",
       "      <td>0.0</td>\n",
       "      <td>0.0</td>\n",
       "      <td>active</td>\n",
       "      <td>missing</td>\n",
       "      <td>25.0</td>\n",
       "      <td>2973abc54daa8a5f8ccfe9362140c63247c5eee03f1d93...</td>\n",
       "    </tr>\n",
       "    <tr>\n",
       "      <th>2</th>\n",
       "      <td>000058a12d5b43e67d225668fa1f8d618c13dc232df0ca...</td>\n",
       "      <td>0.0</td>\n",
       "      <td>0.0</td>\n",
       "      <td>active</td>\n",
       "      <td>missing</td>\n",
       "      <td>24.0</td>\n",
       "      <td>64f17e6a330a85798e4998f62d0930d14db8db1c054af6...</td>\n",
       "    </tr>\n",
       "    <tr>\n",
       "      <th>3</th>\n",
       "      <td>00005ca1c9ed5f5146b52ac8639a40ca9d57aeff4d1bd2...</td>\n",
       "      <td>0.0</td>\n",
       "      <td>0.0</td>\n",
       "      <td>active</td>\n",
       "      <td>missing</td>\n",
       "      <td>54.0</td>\n",
       "      <td>5d36574f52495e81f019b680c843c443bd343d5ca5b1c2...</td>\n",
       "    </tr>\n",
       "    <tr>\n",
       "      <th>4</th>\n",
       "      <td>00006413d8573cd20ed7128e53b7b13819fe5cfc2d801f...</td>\n",
       "      <td>1.0</td>\n",
       "      <td>1.0</td>\n",
       "      <td>active</td>\n",
       "      <td>regularly</td>\n",
       "      <td>52.0</td>\n",
       "      <td>25fa5ddee9aac01b35208d01736e57942317d756b32ddd...</td>\n",
       "    </tr>\n",
       "  </tbody>\n",
       "</table>\n",
       "</div>"
      ],
      "text/plain": [
       "                                         customer_id   FN  Active  \\\n",
       "0  00000dbacae5abe5e23885899a1fa44253a17956c6d1c3...  0.0     0.0   \n",
       "1  0000423b00ade91418cceaf3b26c6af3dd342b51fd051e...  0.0     0.0   \n",
       "2  000058a12d5b43e67d225668fa1f8d618c13dc232df0ca...  0.0     0.0   \n",
       "3  00005ca1c9ed5f5146b52ac8639a40ca9d57aeff4d1bd2...  0.0     0.0   \n",
       "4  00006413d8573cd20ed7128e53b7b13819fe5cfc2d801f...  1.0     1.0   \n",
       "\n",
       "  club_member_status fashion_news_frequency   age  \\\n",
       "0             active                missing  49.0   \n",
       "1             active                missing  25.0   \n",
       "2             active                missing  24.0   \n",
       "3             active                missing  54.0   \n",
       "4             active              regularly  52.0   \n",
       "\n",
       "                                         postal_code  \n",
       "0  52043ee2162cf5aa7ee79974281641c6f11a68d276429a...  \n",
       "1  2973abc54daa8a5f8ccfe9362140c63247c5eee03f1d93...  \n",
       "2  64f17e6a330a85798e4998f62d0930d14db8db1c054af6...  \n",
       "3  5d36574f52495e81f019b680c843c443bd343d5ca5b1c2...  \n",
       "4  25fa5ddee9aac01b35208d01736e57942317d756b32ddd...  "
      ]
     },
     "execution_count": 16,
     "metadata": {},
     "output_type": "execute_result"
    }
   ],
   "source": [
    "customers.head()"
   ]
  },
  {
   "cell_type": "markdown",
   "id": "745cd77c",
   "metadata": {
    "id": "089130fb"
   },
   "source": [
    "### Map `customer_id` and `article_id` to indices"
   ]
  },
  {
   "cell_type": "markdown",
   "id": "3d252dff",
   "metadata": {
    "id": "21c96c61"
   },
   "source": [
    "Test set doesn't include anyone not in training set"
   ]
  },
  {
   "cell_type": "code",
   "execution_count": 17,
   "id": "a02d8e96",
   "metadata": {
    "colab": {
     "base_uri": "https://localhost:8080/"
    },
    "executionInfo": {
     "elapsed": 295,
     "status": "ok",
     "timestamp": 1649692191481,
     "user": {
      "displayName": "Steven George",
      "userId": "07709250839253394649"
     },
     "user_tz": -60
    },
    "id": "e631aa98",
    "outputId": "61114bf0-c6c8-4145-c31d-1d8d8ecccee0"
   },
   "outputs": [
    {
     "data": {
      "text/plain": [
       "9208"
      ]
     },
     "execution_count": 17,
     "metadata": {},
     "output_type": "execute_result"
    }
   ],
   "source": [
    "unique_customers_df = train_set_orig[['customer_id']].drop_duplicates().reset_index(drop=True)\n",
    "\n",
    "customer_id_to_idx = dict(\n",
    "    zip(\n",
    "        unique_customers_df['customer_id'],\n",
    "        unique_customers_df.index\n",
    "    )\n",
    ")\n",
    "\n",
    "len(customer_id_to_idx)"
   ]
  },
  {
   "cell_type": "code",
   "execution_count": 18,
   "id": "5fdf68e5",
   "metadata": {
    "colab": {
     "base_uri": "https://localhost:8080/",
     "height": 548
    },
    "executionInfo": {
     "elapsed": 666,
     "status": "ok",
     "timestamp": 1649692192145,
     "user": {
      "displayName": "Steven George",
      "userId": "07709250839253394649"
     },
     "user_tz": -60
    },
    "id": "0cbe19ca",
    "outputId": "147376d5-bebc-4602-91c0-f01a63050594"
   },
   "outputs": [
    {
     "name": "stdout",
     "output_type": "stream",
     "text": [
      "(105542, 25)\n"
     ]
    },
    {
     "data": {
      "text/html": [
       "<div>\n",
       "<style scoped>\n",
       "    .dataframe tbody tr th:only-of-type {\n",
       "        vertical-align: middle;\n",
       "    }\n",
       "\n",
       "    .dataframe tbody tr th {\n",
       "        vertical-align: top;\n",
       "    }\n",
       "\n",
       "    .dataframe thead th {\n",
       "        text-align: right;\n",
       "    }\n",
       "</style>\n",
       "<table border=\"1\" class=\"dataframe\">\n",
       "  <thead>\n",
       "    <tr style=\"text-align: right;\">\n",
       "      <th></th>\n",
       "      <th>article_id</th>\n",
       "      <th>product_code</th>\n",
       "      <th>prod_name</th>\n",
       "      <th>product_type_no</th>\n",
       "      <th>product_type_name</th>\n",
       "      <th>product_group_name</th>\n",
       "      <th>graphical_appearance_no</th>\n",
       "      <th>graphical_appearance_name</th>\n",
       "      <th>colour_group_code</th>\n",
       "      <th>colour_group_name</th>\n",
       "      <th>perceived_colour_value_id</th>\n",
       "      <th>perceived_colour_value_name</th>\n",
       "      <th>perceived_colour_master_id</th>\n",
       "      <th>perceived_colour_master_name</th>\n",
       "      <th>department_no</th>\n",
       "      <th>department_name</th>\n",
       "      <th>index_code</th>\n",
       "      <th>index_name</th>\n",
       "      <th>index_group_no</th>\n",
       "      <th>index_group_name</th>\n",
       "      <th>section_no</th>\n",
       "      <th>section_name</th>\n",
       "      <th>garment_group_no</th>\n",
       "      <th>garment_group_name</th>\n",
       "      <th>detail_desc</th>\n",
       "    </tr>\n",
       "  </thead>\n",
       "  <tbody>\n",
       "    <tr>\n",
       "      <th>0</th>\n",
       "      <td>0108775015</td>\n",
       "      <td>108775</td>\n",
       "      <td>Strap top</td>\n",
       "      <td>253</td>\n",
       "      <td>Vest top</td>\n",
       "      <td>Garment Upper body</td>\n",
       "      <td>1010016</td>\n",
       "      <td>Solid</td>\n",
       "      <td>9</td>\n",
       "      <td>Black</td>\n",
       "      <td>4</td>\n",
       "      <td>Dark</td>\n",
       "      <td>5</td>\n",
       "      <td>Black</td>\n",
       "      <td>1676</td>\n",
       "      <td>Jersey Basic</td>\n",
       "      <td>A</td>\n",
       "      <td>Ladieswear</td>\n",
       "      <td>1</td>\n",
       "      <td>Ladieswear</td>\n",
       "      <td>16</td>\n",
       "      <td>Womens Everyday Basics</td>\n",
       "      <td>1002</td>\n",
       "      <td>Jersey Basic</td>\n",
       "      <td>Jersey top with narrow shoulder straps.</td>\n",
       "    </tr>\n",
       "    <tr>\n",
       "      <th>1</th>\n",
       "      <td>0108775044</td>\n",
       "      <td>108775</td>\n",
       "      <td>Strap top</td>\n",
       "      <td>253</td>\n",
       "      <td>Vest top</td>\n",
       "      <td>Garment Upper body</td>\n",
       "      <td>1010016</td>\n",
       "      <td>Solid</td>\n",
       "      <td>10</td>\n",
       "      <td>White</td>\n",
       "      <td>3</td>\n",
       "      <td>Light</td>\n",
       "      <td>9</td>\n",
       "      <td>White</td>\n",
       "      <td>1676</td>\n",
       "      <td>Jersey Basic</td>\n",
       "      <td>A</td>\n",
       "      <td>Ladieswear</td>\n",
       "      <td>1</td>\n",
       "      <td>Ladieswear</td>\n",
       "      <td>16</td>\n",
       "      <td>Womens Everyday Basics</td>\n",
       "      <td>1002</td>\n",
       "      <td>Jersey Basic</td>\n",
       "      <td>Jersey top with narrow shoulder straps.</td>\n",
       "    </tr>\n",
       "    <tr>\n",
       "      <th>2</th>\n",
       "      <td>0108775051</td>\n",
       "      <td>108775</td>\n",
       "      <td>Strap top (1)</td>\n",
       "      <td>253</td>\n",
       "      <td>Vest top</td>\n",
       "      <td>Garment Upper body</td>\n",
       "      <td>1010017</td>\n",
       "      <td>Stripe</td>\n",
       "      <td>11</td>\n",
       "      <td>Off White</td>\n",
       "      <td>1</td>\n",
       "      <td>Dusty Light</td>\n",
       "      <td>9</td>\n",
       "      <td>White</td>\n",
       "      <td>1676</td>\n",
       "      <td>Jersey Basic</td>\n",
       "      <td>A</td>\n",
       "      <td>Ladieswear</td>\n",
       "      <td>1</td>\n",
       "      <td>Ladieswear</td>\n",
       "      <td>16</td>\n",
       "      <td>Womens Everyday Basics</td>\n",
       "      <td>1002</td>\n",
       "      <td>Jersey Basic</td>\n",
       "      <td>Jersey top with narrow shoulder straps.</td>\n",
       "    </tr>\n",
       "    <tr>\n",
       "      <th>3</th>\n",
       "      <td>0110065001</td>\n",
       "      <td>110065</td>\n",
       "      <td>OP T-shirt (Idro)</td>\n",
       "      <td>306</td>\n",
       "      <td>Bra</td>\n",
       "      <td>Underwear</td>\n",
       "      <td>1010016</td>\n",
       "      <td>Solid</td>\n",
       "      <td>9</td>\n",
       "      <td>Black</td>\n",
       "      <td>4</td>\n",
       "      <td>Dark</td>\n",
       "      <td>5</td>\n",
       "      <td>Black</td>\n",
       "      <td>1339</td>\n",
       "      <td>Clean Lingerie</td>\n",
       "      <td>B</td>\n",
       "      <td>Lingeries/Tights</td>\n",
       "      <td>1</td>\n",
       "      <td>Ladieswear</td>\n",
       "      <td>61</td>\n",
       "      <td>Womens Lingerie</td>\n",
       "      <td>1017</td>\n",
       "      <td>Under-, Nightwear</td>\n",
       "      <td>Microfibre T-shirt bra with underwired, moulde...</td>\n",
       "    </tr>\n",
       "    <tr>\n",
       "      <th>4</th>\n",
       "      <td>0110065002</td>\n",
       "      <td>110065</td>\n",
       "      <td>OP T-shirt (Idro)</td>\n",
       "      <td>306</td>\n",
       "      <td>Bra</td>\n",
       "      <td>Underwear</td>\n",
       "      <td>1010016</td>\n",
       "      <td>Solid</td>\n",
       "      <td>10</td>\n",
       "      <td>White</td>\n",
       "      <td>3</td>\n",
       "      <td>Light</td>\n",
       "      <td>9</td>\n",
       "      <td>White</td>\n",
       "      <td>1339</td>\n",
       "      <td>Clean Lingerie</td>\n",
       "      <td>B</td>\n",
       "      <td>Lingeries/Tights</td>\n",
       "      <td>1</td>\n",
       "      <td>Ladieswear</td>\n",
       "      <td>61</td>\n",
       "      <td>Womens Lingerie</td>\n",
       "      <td>1017</td>\n",
       "      <td>Under-, Nightwear</td>\n",
       "      <td>Microfibre T-shirt bra with underwired, moulde...</td>\n",
       "    </tr>\n",
       "  </tbody>\n",
       "</table>\n",
       "</div>"
      ],
      "text/plain": [
       "   article_id  product_code          prod_name  product_type_no  \\\n",
       "0  0108775015        108775          Strap top              253   \n",
       "1  0108775044        108775          Strap top              253   \n",
       "2  0108775051        108775      Strap top (1)              253   \n",
       "3  0110065001        110065  OP T-shirt (Idro)              306   \n",
       "4  0110065002        110065  OP T-shirt (Idro)              306   \n",
       "\n",
       "  product_type_name  product_group_name  graphical_appearance_no  \\\n",
       "0          Vest top  Garment Upper body                  1010016   \n",
       "1          Vest top  Garment Upper body                  1010016   \n",
       "2          Vest top  Garment Upper body                  1010017   \n",
       "3               Bra           Underwear                  1010016   \n",
       "4               Bra           Underwear                  1010016   \n",
       "\n",
       "  graphical_appearance_name  colour_group_code colour_group_name  \\\n",
       "0                     Solid                  9             Black   \n",
       "1                     Solid                 10             White   \n",
       "2                    Stripe                 11         Off White   \n",
       "3                     Solid                  9             Black   \n",
       "4                     Solid                 10             White   \n",
       "\n",
       "   perceived_colour_value_id perceived_colour_value_name  \\\n",
       "0                          4                        Dark   \n",
       "1                          3                       Light   \n",
       "2                          1                 Dusty Light   \n",
       "3                          4                        Dark   \n",
       "4                          3                       Light   \n",
       "\n",
       "   perceived_colour_master_id perceived_colour_master_name  department_no  \\\n",
       "0                           5                        Black           1676   \n",
       "1                           9                        White           1676   \n",
       "2                           9                        White           1676   \n",
       "3                           5                        Black           1339   \n",
       "4                           9                        White           1339   \n",
       "\n",
       "  department_name index_code        index_name  index_group_no  \\\n",
       "0    Jersey Basic          A        Ladieswear               1   \n",
       "1    Jersey Basic          A        Ladieswear               1   \n",
       "2    Jersey Basic          A        Ladieswear               1   \n",
       "3  Clean Lingerie          B  Lingeries/Tights               1   \n",
       "4  Clean Lingerie          B  Lingeries/Tights               1   \n",
       "\n",
       "  index_group_name  section_no            section_name  garment_group_no  \\\n",
       "0       Ladieswear          16  Womens Everyday Basics              1002   \n",
       "1       Ladieswear          16  Womens Everyday Basics              1002   \n",
       "2       Ladieswear          16  Womens Everyday Basics              1002   \n",
       "3       Ladieswear          61         Womens Lingerie              1017   \n",
       "4       Ladieswear          61         Womens Lingerie              1017   \n",
       "\n",
       "  garment_group_name                                        detail_desc  \n",
       "0       Jersey Basic            Jersey top with narrow shoulder straps.  \n",
       "1       Jersey Basic            Jersey top with narrow shoulder straps.  \n",
       "2       Jersey Basic            Jersey top with narrow shoulder straps.  \n",
       "3  Under-, Nightwear  Microfibre T-shirt bra with underwired, moulde...  \n",
       "4  Under-, Nightwear  Microfibre T-shirt bra with underwired, moulde...  "
      ]
     },
     "execution_count": 18,
     "metadata": {},
     "output_type": "execute_result"
    }
   ],
   "source": [
    "articles_df = pd.read_csv(\n",
    "    'data/articles.csv', \n",
    "    dtype={'article_id': str}, \n",
    "#     usecols=['article_id', 'prod_name', 'product_type_name', 'product_group_name', 'detail_desc']\n",
    ")\n",
    "print(articles_df.shape)\n",
    "articles_df.head()"
   ]
  },
  {
   "cell_type": "code",
   "execution_count": 19,
   "id": "038fdf7a",
   "metadata": {
    "executionInfo": {
     "elapsed": 13,
     "status": "ok",
     "timestamp": 1649692192145,
     "user": {
      "displayName": "Steven George",
      "userId": "07709250839253394649"
     },
     "user_tz": -60
    },
    "id": "973bcaa8"
   },
   "outputs": [],
   "source": [
    "articles_df['product_group_no'] = articles_df['product_group_name'].copy()"
   ]
  },
  {
   "cell_type": "code",
   "execution_count": 20,
   "id": "f10da2df",
   "metadata": {
    "executionInfo": {
     "elapsed": 13,
     "status": "ok",
     "timestamp": 1649692192146,
     "user": {
      "displayName": "Steven George",
      "userId": "07709250839253394649"
     },
     "user_tz": -60
    },
    "id": "5d423c4e"
   },
   "outputs": [],
   "source": [
    "CATEGORICAL_FEATURES = [\n",
    "    'product_code', \n",
    "    'product_type_no', \n",
    "    'product_group_no', \n",
    "    'graphical_appearance_no', \n",
    "    'colour_group_code', \n",
    "    'perceived_colour_value_id', \n",
    "    'perceived_colour_master_id', \n",
    "    'department_no', \n",
    "    'index_code', \n",
    "    'index_group_no', \n",
    "    'section_no', \n",
    "    'garment_group_no'\n",
    "]"
   ]
  },
  {
   "cell_type": "code",
   "execution_count": 21,
   "id": "e9895dcf",
   "metadata": {
    "colab": {
     "base_uri": "https://localhost:8080/"
    },
    "executionInfo": {
     "elapsed": 13,
     "status": "ok",
     "timestamp": 1649692192146,
     "user": {
      "displayName": "Steven George",
      "userId": "07709250839253394649"
     },
     "user_tz": -60
    },
    "id": "1dfbb367",
    "outputId": "2cb07162-a949-49b8-9abb-d22996d3ee95"
   },
   "outputs": [
    {
     "name": "stdout",
     "output_type": "stream",
     "text": [
      "product_code\n",
      "47224\n",
      "\n",
      "\n",
      "product_type_no\n",
      "132\n",
      "\n",
      "\n",
      "product_group_no\n",
      "19\n",
      "\n",
      "\n",
      "graphical_appearance_no\n",
      "30\n",
      "\n",
      "\n",
      "colour_group_code\n",
      "50\n",
      "\n",
      "\n",
      "perceived_colour_value_id\n",
      "8\n",
      "\n",
      "\n",
      "perceived_colour_master_id\n",
      "20\n",
      "\n",
      "\n",
      "department_no\n",
      "299\n",
      "\n",
      "\n",
      "index_code\n",
      "10\n",
      "\n",
      "\n",
      "index_group_no\n",
      "5\n",
      "\n",
      "\n",
      "section_no\n",
      "57\n",
      "\n",
      "\n",
      "garment_group_no\n",
      "21\n",
      "\n",
      "\n"
     ]
    }
   ],
   "source": [
    "for cat in CATEGORICAL_FEATURES:\n",
    "    print(cat)\n",
    "    print(articles_df[cat].nunique())\n",
    "    print('\\n')"
   ]
  },
  {
   "cell_type": "code",
   "execution_count": 22,
   "id": "ae75d8cb",
   "metadata": {
    "executionInfo": {
     "elapsed": 7,
     "status": "ok",
     "timestamp": 1649692192147,
     "user": {
      "displayName": "Steven George",
      "userId": "07709250839253394649"
     },
     "user_tz": -60
    },
    "id": "7a89ac5c"
   },
   "outputs": [],
   "source": [
    "cat_code_to_indices = {}\n",
    "\n",
    "for cat in CATEGORICAL_FEATURES:\n",
    "    cat_code_to_indices[cat] = {v: k for k, v in dict(enumerate(articles_df[cat].unique())).items()}"
   ]
  },
  {
   "cell_type": "code",
   "execution_count": 23,
   "id": "bfb764c2",
   "metadata": {
    "executionInfo": {
     "elapsed": 313,
     "status": "ok",
     "timestamp": 1649692192454,
     "user": {
      "displayName": "Steven George",
      "userId": "07709250839253394649"
     },
     "user_tz": -60
    },
    "id": "bbf454b1"
   },
   "outputs": [],
   "source": [
    "for cat in CATEGORICAL_FEATURES:\n",
    "    articles_df[cat] = articles_df[cat].map(cat_code_to_indices[cat])"
   ]
  },
  {
   "cell_type": "code",
   "execution_count": 24,
   "id": "0ae4976d",
   "metadata": {
    "colab": {
     "base_uri": "https://localhost:8080/",
     "height": 530
    },
    "executionInfo": {
     "elapsed": 5,
     "status": "ok",
     "timestamp": 1649692192454,
     "user": {
      "displayName": "Steven George",
      "userId": "07709250839253394649"
     },
     "user_tz": -60
    },
    "id": "0428dc3e",
    "outputId": "459d3bde-9b01-4d2c-b1f8-7c809a417e97"
   },
   "outputs": [
    {
     "data": {
      "text/html": [
       "<div>\n",
       "<style scoped>\n",
       "    .dataframe tbody tr th:only-of-type {\n",
       "        vertical-align: middle;\n",
       "    }\n",
       "\n",
       "    .dataframe tbody tr th {\n",
       "        vertical-align: top;\n",
       "    }\n",
       "\n",
       "    .dataframe thead th {\n",
       "        text-align: right;\n",
       "    }\n",
       "</style>\n",
       "<table border=\"1\" class=\"dataframe\">\n",
       "  <thead>\n",
       "    <tr style=\"text-align: right;\">\n",
       "      <th></th>\n",
       "      <th>article_id</th>\n",
       "      <th>product_code</th>\n",
       "      <th>prod_name</th>\n",
       "      <th>product_type_no</th>\n",
       "      <th>product_type_name</th>\n",
       "      <th>product_group_name</th>\n",
       "      <th>graphical_appearance_no</th>\n",
       "      <th>graphical_appearance_name</th>\n",
       "      <th>colour_group_code</th>\n",
       "      <th>colour_group_name</th>\n",
       "      <th>perceived_colour_value_id</th>\n",
       "      <th>perceived_colour_value_name</th>\n",
       "      <th>perceived_colour_master_id</th>\n",
       "      <th>perceived_colour_master_name</th>\n",
       "      <th>department_no</th>\n",
       "      <th>department_name</th>\n",
       "      <th>index_code</th>\n",
       "      <th>index_name</th>\n",
       "      <th>index_group_no</th>\n",
       "      <th>index_group_name</th>\n",
       "      <th>section_no</th>\n",
       "      <th>section_name</th>\n",
       "      <th>garment_group_no</th>\n",
       "      <th>garment_group_name</th>\n",
       "      <th>detail_desc</th>\n",
       "      <th>product_group_no</th>\n",
       "    </tr>\n",
       "  </thead>\n",
       "  <tbody>\n",
       "    <tr>\n",
       "      <th>0</th>\n",
       "      <td>0108775015</td>\n",
       "      <td>0</td>\n",
       "      <td>Strap top</td>\n",
       "      <td>0</td>\n",
       "      <td>Vest top</td>\n",
       "      <td>Garment Upper body</td>\n",
       "      <td>0</td>\n",
       "      <td>Solid</td>\n",
       "      <td>0</td>\n",
       "      <td>Black</td>\n",
       "      <td>0</td>\n",
       "      <td>Dark</td>\n",
       "      <td>0</td>\n",
       "      <td>Black</td>\n",
       "      <td>0</td>\n",
       "      <td>Jersey Basic</td>\n",
       "      <td>0</td>\n",
       "      <td>Ladieswear</td>\n",
       "      <td>0</td>\n",
       "      <td>Ladieswear</td>\n",
       "      <td>0</td>\n",
       "      <td>Womens Everyday Basics</td>\n",
       "      <td>0</td>\n",
       "      <td>Jersey Basic</td>\n",
       "      <td>Jersey top with narrow shoulder straps.</td>\n",
       "      <td>0</td>\n",
       "    </tr>\n",
       "    <tr>\n",
       "      <th>1</th>\n",
       "      <td>0108775044</td>\n",
       "      <td>0</td>\n",
       "      <td>Strap top</td>\n",
       "      <td>0</td>\n",
       "      <td>Vest top</td>\n",
       "      <td>Garment Upper body</td>\n",
       "      <td>0</td>\n",
       "      <td>Solid</td>\n",
       "      <td>1</td>\n",
       "      <td>White</td>\n",
       "      <td>1</td>\n",
       "      <td>Light</td>\n",
       "      <td>1</td>\n",
       "      <td>White</td>\n",
       "      <td>0</td>\n",
       "      <td>Jersey Basic</td>\n",
       "      <td>0</td>\n",
       "      <td>Ladieswear</td>\n",
       "      <td>0</td>\n",
       "      <td>Ladieswear</td>\n",
       "      <td>0</td>\n",
       "      <td>Womens Everyday Basics</td>\n",
       "      <td>0</td>\n",
       "      <td>Jersey Basic</td>\n",
       "      <td>Jersey top with narrow shoulder straps.</td>\n",
       "      <td>0</td>\n",
       "    </tr>\n",
       "    <tr>\n",
       "      <th>2</th>\n",
       "      <td>0108775051</td>\n",
       "      <td>0</td>\n",
       "      <td>Strap top (1)</td>\n",
       "      <td>0</td>\n",
       "      <td>Vest top</td>\n",
       "      <td>Garment Upper body</td>\n",
       "      <td>1</td>\n",
       "      <td>Stripe</td>\n",
       "      <td>2</td>\n",
       "      <td>Off White</td>\n",
       "      <td>2</td>\n",
       "      <td>Dusty Light</td>\n",
       "      <td>1</td>\n",
       "      <td>White</td>\n",
       "      <td>0</td>\n",
       "      <td>Jersey Basic</td>\n",
       "      <td>0</td>\n",
       "      <td>Ladieswear</td>\n",
       "      <td>0</td>\n",
       "      <td>Ladieswear</td>\n",
       "      <td>0</td>\n",
       "      <td>Womens Everyday Basics</td>\n",
       "      <td>0</td>\n",
       "      <td>Jersey Basic</td>\n",
       "      <td>Jersey top with narrow shoulder straps.</td>\n",
       "      <td>0</td>\n",
       "    </tr>\n",
       "    <tr>\n",
       "      <th>3</th>\n",
       "      <td>0110065001</td>\n",
       "      <td>1</td>\n",
       "      <td>OP T-shirt (Idro)</td>\n",
       "      <td>1</td>\n",
       "      <td>Bra</td>\n",
       "      <td>Underwear</td>\n",
       "      <td>0</td>\n",
       "      <td>Solid</td>\n",
       "      <td>0</td>\n",
       "      <td>Black</td>\n",
       "      <td>0</td>\n",
       "      <td>Dark</td>\n",
       "      <td>0</td>\n",
       "      <td>Black</td>\n",
       "      <td>1</td>\n",
       "      <td>Clean Lingerie</td>\n",
       "      <td>1</td>\n",
       "      <td>Lingeries/Tights</td>\n",
       "      <td>0</td>\n",
       "      <td>Ladieswear</td>\n",
       "      <td>1</td>\n",
       "      <td>Womens Lingerie</td>\n",
       "      <td>1</td>\n",
       "      <td>Under-, Nightwear</td>\n",
       "      <td>Microfibre T-shirt bra with underwired, moulde...</td>\n",
       "      <td>1</td>\n",
       "    </tr>\n",
       "    <tr>\n",
       "      <th>4</th>\n",
       "      <td>0110065002</td>\n",
       "      <td>1</td>\n",
       "      <td>OP T-shirt (Idro)</td>\n",
       "      <td>1</td>\n",
       "      <td>Bra</td>\n",
       "      <td>Underwear</td>\n",
       "      <td>0</td>\n",
       "      <td>Solid</td>\n",
       "      <td>1</td>\n",
       "      <td>White</td>\n",
       "      <td>1</td>\n",
       "      <td>Light</td>\n",
       "      <td>1</td>\n",
       "      <td>White</td>\n",
       "      <td>1</td>\n",
       "      <td>Clean Lingerie</td>\n",
       "      <td>1</td>\n",
       "      <td>Lingeries/Tights</td>\n",
       "      <td>0</td>\n",
       "      <td>Ladieswear</td>\n",
       "      <td>1</td>\n",
       "      <td>Womens Lingerie</td>\n",
       "      <td>1</td>\n",
       "      <td>Under-, Nightwear</td>\n",
       "      <td>Microfibre T-shirt bra with underwired, moulde...</td>\n",
       "      <td>1</td>\n",
       "    </tr>\n",
       "  </tbody>\n",
       "</table>\n",
       "</div>"
      ],
      "text/plain": [
       "   article_id  product_code          prod_name  product_type_no  \\\n",
       "0  0108775015             0          Strap top                0   \n",
       "1  0108775044             0          Strap top                0   \n",
       "2  0108775051             0      Strap top (1)                0   \n",
       "3  0110065001             1  OP T-shirt (Idro)                1   \n",
       "4  0110065002             1  OP T-shirt (Idro)                1   \n",
       "\n",
       "  product_type_name  product_group_name  graphical_appearance_no  \\\n",
       "0          Vest top  Garment Upper body                        0   \n",
       "1          Vest top  Garment Upper body                        0   \n",
       "2          Vest top  Garment Upper body                        1   \n",
       "3               Bra           Underwear                        0   \n",
       "4               Bra           Underwear                        0   \n",
       "\n",
       "  graphical_appearance_name  colour_group_code colour_group_name  \\\n",
       "0                     Solid                  0             Black   \n",
       "1                     Solid                  1             White   \n",
       "2                    Stripe                  2         Off White   \n",
       "3                     Solid                  0             Black   \n",
       "4                     Solid                  1             White   \n",
       "\n",
       "   perceived_colour_value_id perceived_colour_value_name  \\\n",
       "0                          0                        Dark   \n",
       "1                          1                       Light   \n",
       "2                          2                 Dusty Light   \n",
       "3                          0                        Dark   \n",
       "4                          1                       Light   \n",
       "\n",
       "   perceived_colour_master_id perceived_colour_master_name  department_no  \\\n",
       "0                           0                        Black              0   \n",
       "1                           1                        White              0   \n",
       "2                           1                        White              0   \n",
       "3                           0                        Black              1   \n",
       "4                           1                        White              1   \n",
       "\n",
       "  department_name  index_code        index_name  index_group_no  \\\n",
       "0    Jersey Basic           0        Ladieswear               0   \n",
       "1    Jersey Basic           0        Ladieswear               0   \n",
       "2    Jersey Basic           0        Ladieswear               0   \n",
       "3  Clean Lingerie           1  Lingeries/Tights               0   \n",
       "4  Clean Lingerie           1  Lingeries/Tights               0   \n",
       "\n",
       "  index_group_name  section_no            section_name  garment_group_no  \\\n",
       "0       Ladieswear           0  Womens Everyday Basics                 0   \n",
       "1       Ladieswear           0  Womens Everyday Basics                 0   \n",
       "2       Ladieswear           0  Womens Everyday Basics                 0   \n",
       "3       Ladieswear           1         Womens Lingerie                 1   \n",
       "4       Ladieswear           1         Womens Lingerie                 1   \n",
       "\n",
       "  garment_group_name                                        detail_desc  \\\n",
       "0       Jersey Basic            Jersey top with narrow shoulder straps.   \n",
       "1       Jersey Basic            Jersey top with narrow shoulder straps.   \n",
       "2       Jersey Basic            Jersey top with narrow shoulder straps.   \n",
       "3  Under-, Nightwear  Microfibre T-shirt bra with underwired, moulde...   \n",
       "4  Under-, Nightwear  Microfibre T-shirt bra with underwired, moulde...   \n",
       "\n",
       "   product_group_no  \n",
       "0                 0  \n",
       "1                 0  \n",
       "2                 0  \n",
       "3                 1  \n",
       "4                 1  "
      ]
     },
     "execution_count": 24,
     "metadata": {},
     "output_type": "execute_result"
    }
   ],
   "source": [
    "articles_df.head()"
   ]
  },
  {
   "cell_type": "code",
   "execution_count": 25,
   "id": "a9a9f328",
   "metadata": {
    "executionInfo": {
     "elapsed": 5,
     "status": "ok",
     "timestamp": 1649692192455,
     "user": {
      "displayName": "Steven George",
      "userId": "07709250839253394649"
     },
     "user_tz": -60
    },
    "id": "3bd23f23"
   },
   "outputs": [],
   "source": [
    "article_id_to_idx = dict(\n",
    "    zip(\n",
    "        articles_df['article_id'],\n",
    "        articles_df.index\n",
    "    )\n",
    ")"
   ]
  },
  {
   "cell_type": "code",
   "execution_count": 26,
   "id": "ab4fe675",
   "metadata": {
    "executionInfo": {
     "elapsed": 275,
     "status": "ok",
     "timestamp": 1649692192726,
     "user": {
      "displayName": "Steven George",
      "userId": "07709250839253394649"
     },
     "user_tz": -60
    },
    "id": "f13b2c87"
   },
   "outputs": [],
   "source": [
    "articles_df['article_id_idx'] = articles_df['article_id'].map(article_id_to_idx)"
   ]
  },
  {
   "cell_type": "code",
   "execution_count": 27,
   "id": "bae07c94",
   "metadata": {},
   "outputs": [
    {
     "data": {
      "text/html": [
       "<div>\n",
       "<style scoped>\n",
       "    .dataframe tbody tr th:only-of-type {\n",
       "        vertical-align: middle;\n",
       "    }\n",
       "\n",
       "    .dataframe tbody tr th {\n",
       "        vertical-align: top;\n",
       "    }\n",
       "\n",
       "    .dataframe thead th {\n",
       "        text-align: right;\n",
       "    }\n",
       "</style>\n",
       "<table border=\"1\" class=\"dataframe\">\n",
       "  <thead>\n",
       "    <tr style=\"text-align: right;\">\n",
       "      <th></th>\n",
       "      <th>customer_id</th>\n",
       "      <th>FN</th>\n",
       "      <th>Active</th>\n",
       "      <th>club_member_status</th>\n",
       "      <th>fashion_news_frequency</th>\n",
       "      <th>age</th>\n",
       "      <th>postal_code</th>\n",
       "    </tr>\n",
       "  </thead>\n",
       "  <tbody>\n",
       "    <tr>\n",
       "      <th>0</th>\n",
       "      <td>00000dbacae5abe5e23885899a1fa44253a17956c6d1c3...</td>\n",
       "      <td>0.0</td>\n",
       "      <td>0.0</td>\n",
       "      <td>active</td>\n",
       "      <td>missing</td>\n",
       "      <td>49.0</td>\n",
       "      <td>52043ee2162cf5aa7ee79974281641c6f11a68d276429a...</td>\n",
       "    </tr>\n",
       "    <tr>\n",
       "      <th>1</th>\n",
       "      <td>0000423b00ade91418cceaf3b26c6af3dd342b51fd051e...</td>\n",
       "      <td>0.0</td>\n",
       "      <td>0.0</td>\n",
       "      <td>active</td>\n",
       "      <td>missing</td>\n",
       "      <td>25.0</td>\n",
       "      <td>2973abc54daa8a5f8ccfe9362140c63247c5eee03f1d93...</td>\n",
       "    </tr>\n",
       "    <tr>\n",
       "      <th>2</th>\n",
       "      <td>000058a12d5b43e67d225668fa1f8d618c13dc232df0ca...</td>\n",
       "      <td>0.0</td>\n",
       "      <td>0.0</td>\n",
       "      <td>active</td>\n",
       "      <td>missing</td>\n",
       "      <td>24.0</td>\n",
       "      <td>64f17e6a330a85798e4998f62d0930d14db8db1c054af6...</td>\n",
       "    </tr>\n",
       "    <tr>\n",
       "      <th>3</th>\n",
       "      <td>00005ca1c9ed5f5146b52ac8639a40ca9d57aeff4d1bd2...</td>\n",
       "      <td>0.0</td>\n",
       "      <td>0.0</td>\n",
       "      <td>active</td>\n",
       "      <td>missing</td>\n",
       "      <td>54.0</td>\n",
       "      <td>5d36574f52495e81f019b680c843c443bd343d5ca5b1c2...</td>\n",
       "    </tr>\n",
       "    <tr>\n",
       "      <th>4</th>\n",
       "      <td>00006413d8573cd20ed7128e53b7b13819fe5cfc2d801f...</td>\n",
       "      <td>1.0</td>\n",
       "      <td>1.0</td>\n",
       "      <td>active</td>\n",
       "      <td>regularly</td>\n",
       "      <td>52.0</td>\n",
       "      <td>25fa5ddee9aac01b35208d01736e57942317d756b32ddd...</td>\n",
       "    </tr>\n",
       "  </tbody>\n",
       "</table>\n",
       "</div>"
      ],
      "text/plain": [
       "                                         customer_id   FN  Active  \\\n",
       "0  00000dbacae5abe5e23885899a1fa44253a17956c6d1c3...  0.0     0.0   \n",
       "1  0000423b00ade91418cceaf3b26c6af3dd342b51fd051e...  0.0     0.0   \n",
       "2  000058a12d5b43e67d225668fa1f8d618c13dc232df0ca...  0.0     0.0   \n",
       "3  00005ca1c9ed5f5146b52ac8639a40ca9d57aeff4d1bd2...  0.0     0.0   \n",
       "4  00006413d8573cd20ed7128e53b7b13819fe5cfc2d801f...  1.0     1.0   \n",
       "\n",
       "  club_member_status fashion_news_frequency   age  \\\n",
       "0             active                missing  49.0   \n",
       "1             active                missing  25.0   \n",
       "2             active                missing  24.0   \n",
       "3             active                missing  54.0   \n",
       "4             active              regularly  52.0   \n",
       "\n",
       "                                         postal_code  \n",
       "0  52043ee2162cf5aa7ee79974281641c6f11a68d276429a...  \n",
       "1  2973abc54daa8a5f8ccfe9362140c63247c5eee03f1d93...  \n",
       "2  64f17e6a330a85798e4998f62d0930d14db8db1c054af6...  \n",
       "3  5d36574f52495e81f019b680c843c443bd343d5ca5b1c2...  \n",
       "4  25fa5ddee9aac01b35208d01736e57942317d756b32ddd...  "
      ]
     },
     "execution_count": 27,
     "metadata": {},
     "output_type": "execute_result"
    }
   ],
   "source": [
    "customers.head()"
   ]
  },
  {
   "cell_type": "code",
   "execution_count": 28,
   "id": "6385569f",
   "metadata": {},
   "outputs": [],
   "source": [
    "customers_cat_code_to_indices = {}\n",
    "\n",
    "for cat in ['club_member_status', 'fashion_news_frequency', 'postal_code']:\n",
    "    customers_cat_code_to_indices[cat] = {v: k for k, v in dict(enumerate(customers[cat].unique())).items()}"
   ]
  },
  {
   "cell_type": "code",
   "execution_count": 29,
   "id": "501c193e",
   "metadata": {
    "executionInfo": {
     "elapsed": 313,
     "status": "ok",
     "timestamp": 1649692192454,
     "user": {
      "displayName": "Steven George",
      "userId": "07709250839253394649"
     },
     "user_tz": -60
    },
    "id": "bbf454b1"
   },
   "outputs": [],
   "source": [
    "for cat in ['club_member_status', 'fashion_news_frequency', 'postal_code']:\n",
    "    customers[cat] = customers[cat].map(customers_cat_code_to_indices[cat])"
   ]
  },
  {
   "cell_type": "code",
   "execution_count": 30,
   "id": "150a6148",
   "metadata": {},
   "outputs": [],
   "source": [
    "customers['customer_id_idx'] = customers['customer_id'].map(customer_id_to_idx)"
   ]
  },
  {
   "cell_type": "code",
   "execution_count": 31,
   "id": "47713a57",
   "metadata": {},
   "outputs": [
    {
     "data": {
      "text/html": [
       "<div>\n",
       "<style scoped>\n",
       "    .dataframe tbody tr th:only-of-type {\n",
       "        vertical-align: middle;\n",
       "    }\n",
       "\n",
       "    .dataframe tbody tr th {\n",
       "        vertical-align: top;\n",
       "    }\n",
       "\n",
       "    .dataframe thead th {\n",
       "        text-align: right;\n",
       "    }\n",
       "</style>\n",
       "<table border=\"1\" class=\"dataframe\">\n",
       "  <thead>\n",
       "    <tr style=\"text-align: right;\">\n",
       "      <th></th>\n",
       "      <th>customer_id</th>\n",
       "      <th>FN</th>\n",
       "      <th>Active</th>\n",
       "      <th>club_member_status</th>\n",
       "      <th>fashion_news_frequency</th>\n",
       "      <th>age</th>\n",
       "      <th>postal_code</th>\n",
       "      <th>customer_id_idx</th>\n",
       "    </tr>\n",
       "  </thead>\n",
       "  <tbody>\n",
       "    <tr>\n",
       "      <th>0</th>\n",
       "      <td>00000dbacae5abe5e23885899a1fa44253a17956c6d1c3...</td>\n",
       "      <td>0.0</td>\n",
       "      <td>0.0</td>\n",
       "      <td>0</td>\n",
       "      <td>0</td>\n",
       "      <td>49.0</td>\n",
       "      <td>0</td>\n",
       "      <td>NaN</td>\n",
       "    </tr>\n",
       "    <tr>\n",
       "      <th>1</th>\n",
       "      <td>0000423b00ade91418cceaf3b26c6af3dd342b51fd051e...</td>\n",
       "      <td>0.0</td>\n",
       "      <td>0.0</td>\n",
       "      <td>0</td>\n",
       "      <td>0</td>\n",
       "      <td>25.0</td>\n",
       "      <td>1</td>\n",
       "      <td>NaN</td>\n",
       "    </tr>\n",
       "    <tr>\n",
       "      <th>2</th>\n",
       "      <td>000058a12d5b43e67d225668fa1f8d618c13dc232df0ca...</td>\n",
       "      <td>0.0</td>\n",
       "      <td>0.0</td>\n",
       "      <td>0</td>\n",
       "      <td>0</td>\n",
       "      <td>24.0</td>\n",
       "      <td>2</td>\n",
       "      <td>0.0</td>\n",
       "    </tr>\n",
       "    <tr>\n",
       "      <th>3</th>\n",
       "      <td>00005ca1c9ed5f5146b52ac8639a40ca9d57aeff4d1bd2...</td>\n",
       "      <td>0.0</td>\n",
       "      <td>0.0</td>\n",
       "      <td>0</td>\n",
       "      <td>0</td>\n",
       "      <td>54.0</td>\n",
       "      <td>3</td>\n",
       "      <td>NaN</td>\n",
       "    </tr>\n",
       "    <tr>\n",
       "      <th>4</th>\n",
       "      <td>00006413d8573cd20ed7128e53b7b13819fe5cfc2d801f...</td>\n",
       "      <td>1.0</td>\n",
       "      <td>1.0</td>\n",
       "      <td>0</td>\n",
       "      <td>1</td>\n",
       "      <td>52.0</td>\n",
       "      <td>4</td>\n",
       "      <td>NaN</td>\n",
       "    </tr>\n",
       "  </tbody>\n",
       "</table>\n",
       "</div>"
      ],
      "text/plain": [
       "                                         customer_id   FN  Active  \\\n",
       "0  00000dbacae5abe5e23885899a1fa44253a17956c6d1c3...  0.0     0.0   \n",
       "1  0000423b00ade91418cceaf3b26c6af3dd342b51fd051e...  0.0     0.0   \n",
       "2  000058a12d5b43e67d225668fa1f8d618c13dc232df0ca...  0.0     0.0   \n",
       "3  00005ca1c9ed5f5146b52ac8639a40ca9d57aeff4d1bd2...  0.0     0.0   \n",
       "4  00006413d8573cd20ed7128e53b7b13819fe5cfc2d801f...  1.0     1.0   \n",
       "\n",
       "   club_member_status  fashion_news_frequency   age  postal_code  \\\n",
       "0                   0                       0  49.0            0   \n",
       "1                   0                       0  25.0            1   \n",
       "2                   0                       0  24.0            2   \n",
       "3                   0                       0  54.0            3   \n",
       "4                   0                       1  52.0            4   \n",
       "\n",
       "   customer_id_idx  \n",
       "0              NaN  \n",
       "1              NaN  \n",
       "2              0.0  \n",
       "3              NaN  \n",
       "4              NaN  "
      ]
     },
     "execution_count": 31,
     "metadata": {},
     "output_type": "execute_result"
    }
   ],
   "source": [
    "customers.head()"
   ]
  },
  {
   "cell_type": "code",
   "execution_count": 32,
   "id": "5bd9d757",
   "metadata": {
    "colab": {
     "base_uri": "https://localhost:8080/",
     "height": 206
    },
    "executionInfo": {
     "elapsed": 205,
     "status": "ok",
     "timestamp": 1649692192927,
     "user": {
      "displayName": "Steven George",
      "userId": "07709250839253394649"
     },
     "user_tz": -60
    },
    "id": "00fb18b8",
    "outputId": "b9a44957-19fc-4790-87d5-fdc53ac54014"
   },
   "outputs": [
    {
     "data": {
      "text/html": [
       "<div>\n",
       "<style scoped>\n",
       "    .dataframe tbody tr th:only-of-type {\n",
       "        vertical-align: middle;\n",
       "    }\n",
       "\n",
       "    .dataframe tbody tr th {\n",
       "        vertical-align: top;\n",
       "    }\n",
       "\n",
       "    .dataframe thead th {\n",
       "        text-align: right;\n",
       "    }\n",
       "</style>\n",
       "<table border=\"1\" class=\"dataframe\">\n",
       "  <thead>\n",
       "    <tr style=\"text-align: right;\">\n",
       "      <th></th>\n",
       "      <th>t_dat</th>\n",
       "      <th>customer_id</th>\n",
       "      <th>article_id</th>\n",
       "      <th>price</th>\n",
       "      <th>sales_channel_id</th>\n",
       "      <th>customer_id_idx</th>\n",
       "      <th>article_id_idx</th>\n",
       "    </tr>\n",
       "  </thead>\n",
       "  <tbody>\n",
       "    <tr>\n",
       "      <th>0</th>\n",
       "      <td>2018-09-20</td>\n",
       "      <td>000058a12d5b43e67d225668fa1f8d618c13dc232df0ca...</td>\n",
       "      <td>0663713001</td>\n",
       "      <td>0.050831</td>\n",
       "      <td>2</td>\n",
       "      <td>0</td>\n",
       "      <td>40179</td>\n",
       "    </tr>\n",
       "    <tr>\n",
       "      <th>1</th>\n",
       "      <td>2018-09-20</td>\n",
       "      <td>000058a12d5b43e67d225668fa1f8d618c13dc232df0ca...</td>\n",
       "      <td>0541518023</td>\n",
       "      <td>0.030492</td>\n",
       "      <td>2</td>\n",
       "      <td>0</td>\n",
       "      <td>10520</td>\n",
       "    </tr>\n",
       "    <tr>\n",
       "      <th>2</th>\n",
       "      <td>2018-09-20</td>\n",
       "      <td>016d8f0519d9e0572b3abebeab87408bad7a5c3a284016...</td>\n",
       "      <td>0650193004</td>\n",
       "      <td>0.050831</td>\n",
       "      <td>1</td>\n",
       "      <td>1</td>\n",
       "      <td>36302</td>\n",
       "    </tr>\n",
       "    <tr>\n",
       "      <th>3</th>\n",
       "      <td>2018-09-20</td>\n",
       "      <td>016d8f0519d9e0572b3abebeab87408bad7a5c3a284016...</td>\n",
       "      <td>0527687006</td>\n",
       "      <td>0.101678</td>\n",
       "      <td>1</td>\n",
       "      <td>1</td>\n",
       "      <td>8963</td>\n",
       "    </tr>\n",
       "    <tr>\n",
       "      <th>4</th>\n",
       "      <td>2018-09-20</td>\n",
       "      <td>02bfe1a5248beb9cd28ad4ac630a6d75e78d9a3e14551a...</td>\n",
       "      <td>0668767002</td>\n",
       "      <td>0.016932</td>\n",
       "      <td>2</td>\n",
       "      <td>2</td>\n",
       "      <td>41390</td>\n",
       "    </tr>\n",
       "  </tbody>\n",
       "</table>\n",
       "</div>"
      ],
      "text/plain": [
       "        t_dat                                        customer_id  article_id  \\\n",
       "0  2018-09-20  000058a12d5b43e67d225668fa1f8d618c13dc232df0ca...  0663713001   \n",
       "1  2018-09-20  000058a12d5b43e67d225668fa1f8d618c13dc232df0ca...  0541518023   \n",
       "2  2018-09-20  016d8f0519d9e0572b3abebeab87408bad7a5c3a284016...  0650193004   \n",
       "3  2018-09-20  016d8f0519d9e0572b3abebeab87408bad7a5c3a284016...  0527687006   \n",
       "4  2018-09-20  02bfe1a5248beb9cd28ad4ac630a6d75e78d9a3e14551a...  0668767002   \n",
       "\n",
       "      price  sales_channel_id  customer_id_idx  article_id_idx  \n",
       "0  0.050831                 2                0           40179  \n",
       "1  0.030492                 2                0           10520  \n",
       "2  0.050831                 1                1           36302  \n",
       "3  0.101678                 1                1            8963  \n",
       "4  0.016932                 2                2           41390  "
      ]
     },
     "execution_count": 32,
     "metadata": {},
     "output_type": "execute_result"
    }
   ],
   "source": [
    "train_set_orig['customer_id_idx'] = train_set_orig['customer_id'].map(customer_id_to_idx)\n",
    "train_set_orig['article_id_idx'] = train_set_orig['article_id'].map(article_id_to_idx)\n",
    "\n",
    "train_set_orig.head()"
   ]
  },
  {
   "cell_type": "markdown",
   "id": "f441aad0",
   "metadata": {
    "id": "e7320bec"
   },
   "source": [
    "Merge article features"
   ]
  },
  {
   "cell_type": "code",
   "execution_count": 33,
   "id": "9384fc54",
   "metadata": {
    "executionInfo": {
     "elapsed": 7,
     "status": "ok",
     "timestamp": 1649692192928,
     "user": {
      "displayName": "Steven George",
      "userId": "07709250839253394649"
     },
     "user_tz": -60
    },
    "id": "7818b15e"
   },
   "outputs": [],
   "source": [
    "train_set_orig = train_set_orig.merge(\n",
    "    articles_df[['article_id_idx'] + CATEGORICAL_FEATURES], \n",
    "    on='article_id_idx', \n",
    "    how='inner'\n",
    ")"
   ]
  },
  {
   "cell_type": "code",
   "execution_count": 34,
   "id": "e4aa5353",
   "metadata": {
    "colab": {
     "base_uri": "https://localhost:8080/",
     "height": 357
    },
    "executionInfo": {
     "elapsed": 6,
     "status": "ok",
     "timestamp": 1649692192928,
     "user": {
      "displayName": "Steven George",
      "userId": "07709250839253394649"
     },
     "user_tz": -60
    },
    "id": "d29a3bb1",
    "outputId": "81026f65-0a55-4380-ec6a-fb370253bc64"
   },
   "outputs": [
    {
     "data": {
      "text/html": [
       "<div>\n",
       "<style scoped>\n",
       "    .dataframe tbody tr th:only-of-type {\n",
       "        vertical-align: middle;\n",
       "    }\n",
       "\n",
       "    .dataframe tbody tr th {\n",
       "        vertical-align: top;\n",
       "    }\n",
       "\n",
       "    .dataframe thead th {\n",
       "        text-align: right;\n",
       "    }\n",
       "</style>\n",
       "<table border=\"1\" class=\"dataframe\">\n",
       "  <thead>\n",
       "    <tr style=\"text-align: right;\">\n",
       "      <th></th>\n",
       "      <th>t_dat</th>\n",
       "      <th>customer_id</th>\n",
       "      <th>article_id</th>\n",
       "      <th>price</th>\n",
       "      <th>sales_channel_id</th>\n",
       "      <th>customer_id_idx</th>\n",
       "      <th>article_id_idx</th>\n",
       "      <th>product_code</th>\n",
       "      <th>product_type_no</th>\n",
       "      <th>product_group_no</th>\n",
       "      <th>graphical_appearance_no</th>\n",
       "      <th>colour_group_code</th>\n",
       "      <th>perceived_colour_value_id</th>\n",
       "      <th>perceived_colour_master_id</th>\n",
       "      <th>department_no</th>\n",
       "      <th>index_code</th>\n",
       "      <th>index_group_no</th>\n",
       "      <th>section_no</th>\n",
       "      <th>garment_group_no</th>\n",
       "    </tr>\n",
       "  </thead>\n",
       "  <tbody>\n",
       "    <tr>\n",
       "      <th>0</th>\n",
       "      <td>2018-09-20</td>\n",
       "      <td>000058a12d5b43e67d225668fa1f8d618c13dc232df0ca...</td>\n",
       "      <td>0663713001</td>\n",
       "      <td>0.050831</td>\n",
       "      <td>2</td>\n",
       "      <td>0</td>\n",
       "      <td>40179</td>\n",
       "      <td>16361</td>\n",
       "      <td>65</td>\n",
       "      <td>1</td>\n",
       "      <td>0</td>\n",
       "      <td>0</td>\n",
       "      <td>0</td>\n",
       "      <td>0</td>\n",
       "      <td>47</td>\n",
       "      <td>1</td>\n",
       "      <td>0</td>\n",
       "      <td>1</td>\n",
       "      <td>1</td>\n",
       "    </tr>\n",
       "    <tr>\n",
       "      <th>1</th>\n",
       "      <td>2018-09-24</td>\n",
       "      <td>000058a12d5b43e67d225668fa1f8d618c13dc232df0ca...</td>\n",
       "      <td>0663713001</td>\n",
       "      <td>0.050831</td>\n",
       "      <td>2</td>\n",
       "      <td>0</td>\n",
       "      <td>40179</td>\n",
       "      <td>16361</td>\n",
       "      <td>65</td>\n",
       "      <td>1</td>\n",
       "      <td>0</td>\n",
       "      <td>0</td>\n",
       "      <td>0</td>\n",
       "      <td>0</td>\n",
       "      <td>47</td>\n",
       "      <td>1</td>\n",
       "      <td>0</td>\n",
       "      <td>1</td>\n",
       "      <td>1</td>\n",
       "    </tr>\n",
       "    <tr>\n",
       "      <th>2</th>\n",
       "      <td>2018-10-26</td>\n",
       "      <td>8256c9d0a398717ab5f575acfa5184a11ab1a1e89f7fbc...</td>\n",
       "      <td>0663713001</td>\n",
       "      <td>0.048288</td>\n",
       "      <td>1</td>\n",
       "      <td>2480</td>\n",
       "      <td>40179</td>\n",
       "      <td>16361</td>\n",
       "      <td>65</td>\n",
       "      <td>1</td>\n",
       "      <td>0</td>\n",
       "      <td>0</td>\n",
       "      <td>0</td>\n",
       "      <td>0</td>\n",
       "      <td>47</td>\n",
       "      <td>1</td>\n",
       "      <td>0</td>\n",
       "      <td>1</td>\n",
       "      <td>1</td>\n",
       "    </tr>\n",
       "    <tr>\n",
       "      <th>3</th>\n",
       "      <td>2018-11-02</td>\n",
       "      <td>b333b5b934a0a54154ec46a352ba16a3e0fb7815cb46dc...</td>\n",
       "      <td>0663713001</td>\n",
       "      <td>0.050831</td>\n",
       "      <td>2</td>\n",
       "      <td>3856</td>\n",
       "      <td>40179</td>\n",
       "      <td>16361</td>\n",
       "      <td>65</td>\n",
       "      <td>1</td>\n",
       "      <td>0</td>\n",
       "      <td>0</td>\n",
       "      <td>0</td>\n",
       "      <td>0</td>\n",
       "      <td>47</td>\n",
       "      <td>1</td>\n",
       "      <td>0</td>\n",
       "      <td>1</td>\n",
       "      <td>1</td>\n",
       "    </tr>\n",
       "    <tr>\n",
       "      <th>4</th>\n",
       "      <td>2018-12-09</td>\n",
       "      <td>6cebb7f0bf845b15e8926474096ce615874ec23e7fb59e...</td>\n",
       "      <td>0663713001</td>\n",
       "      <td>0.050831</td>\n",
       "      <td>2</td>\n",
       "      <td>2087</td>\n",
       "      <td>40179</td>\n",
       "      <td>16361</td>\n",
       "      <td>65</td>\n",
       "      <td>1</td>\n",
       "      <td>0</td>\n",
       "      <td>0</td>\n",
       "      <td>0</td>\n",
       "      <td>0</td>\n",
       "      <td>47</td>\n",
       "      <td>1</td>\n",
       "      <td>0</td>\n",
       "      <td>1</td>\n",
       "      <td>1</td>\n",
       "    </tr>\n",
       "  </tbody>\n",
       "</table>\n",
       "</div>"
      ],
      "text/plain": [
       "        t_dat                                        customer_id  article_id  \\\n",
       "0  2018-09-20  000058a12d5b43e67d225668fa1f8d618c13dc232df0ca...  0663713001   \n",
       "1  2018-09-24  000058a12d5b43e67d225668fa1f8d618c13dc232df0ca...  0663713001   \n",
       "2  2018-10-26  8256c9d0a398717ab5f575acfa5184a11ab1a1e89f7fbc...  0663713001   \n",
       "3  2018-11-02  b333b5b934a0a54154ec46a352ba16a3e0fb7815cb46dc...  0663713001   \n",
       "4  2018-12-09  6cebb7f0bf845b15e8926474096ce615874ec23e7fb59e...  0663713001   \n",
       "\n",
       "      price  sales_channel_id  customer_id_idx  article_id_idx  product_code  \\\n",
       "0  0.050831                 2                0           40179         16361   \n",
       "1  0.050831                 2                0           40179         16361   \n",
       "2  0.048288                 1             2480           40179         16361   \n",
       "3  0.050831                 2             3856           40179         16361   \n",
       "4  0.050831                 2             2087           40179         16361   \n",
       "\n",
       "   product_type_no  product_group_no  graphical_appearance_no  \\\n",
       "0               65                 1                        0   \n",
       "1               65                 1                        0   \n",
       "2               65                 1                        0   \n",
       "3               65                 1                        0   \n",
       "4               65                 1                        0   \n",
       "\n",
       "   colour_group_code  perceived_colour_value_id  perceived_colour_master_id  \\\n",
       "0                  0                          0                           0   \n",
       "1                  0                          0                           0   \n",
       "2                  0                          0                           0   \n",
       "3                  0                          0                           0   \n",
       "4                  0                          0                           0   \n",
       "\n",
       "   department_no  index_code  index_group_no  section_no  garment_group_no  \n",
       "0             47           1               0           1                 1  \n",
       "1             47           1               0           1                 1  \n",
       "2             47           1               0           1                 1  \n",
       "3             47           1               0           1                 1  \n",
       "4             47           1               0           1                 1  "
      ]
     },
     "execution_count": 34,
     "metadata": {},
     "output_type": "execute_result"
    }
   ],
   "source": [
    "train_set_orig.head()"
   ]
  },
  {
   "cell_type": "code",
   "execution_count": 35,
   "id": "bac24842",
   "metadata": {
    "executionInfo": {
     "elapsed": 241,
     "status": "ok",
     "timestamp": 1649692193165,
     "user": {
      "displayName": "Steven George",
      "userId": "07709250839253394649"
     },
     "user_tz": -60
    },
    "id": "be09fde5"
   },
   "outputs": [],
   "source": [
    "train_set_orig.drop(columns=['price', 'sales_channel_id'], inplace=True)"
   ]
  },
  {
   "cell_type": "markdown",
   "id": "9ab99f15",
   "metadata": {},
   "source": [
    "Merge customer features"
   ]
  },
  {
   "cell_type": "code",
   "execution_count": 36,
   "id": "0dfb2bf5",
   "metadata": {},
   "outputs": [
    {
     "data": {
      "text/plain": [
       "(588758, 17)"
      ]
     },
     "execution_count": 36,
     "metadata": {},
     "output_type": "execute_result"
    }
   ],
   "source": [
    "train_set_orig.shape"
   ]
  },
  {
   "cell_type": "code",
   "execution_count": 37,
   "id": "5bd40c5f",
   "metadata": {},
   "outputs": [],
   "source": [
    "train_set_orig = train_set_orig.merge(\n",
    "    customers.drop(columns='customer_id'),\n",
    "    on='customer_id_idx'\n",
    ")"
   ]
  },
  {
   "cell_type": "code",
   "execution_count": 38,
   "id": "42423d80",
   "metadata": {},
   "outputs": [
    {
     "data": {
      "text/html": [
       "<div>\n",
       "<style scoped>\n",
       "    .dataframe tbody tr th:only-of-type {\n",
       "        vertical-align: middle;\n",
       "    }\n",
       "\n",
       "    .dataframe tbody tr th {\n",
       "        vertical-align: top;\n",
       "    }\n",
       "\n",
       "    .dataframe thead th {\n",
       "        text-align: right;\n",
       "    }\n",
       "</style>\n",
       "<table border=\"1\" class=\"dataframe\">\n",
       "  <thead>\n",
       "    <tr style=\"text-align: right;\">\n",
       "      <th></th>\n",
       "      <th>t_dat</th>\n",
       "      <th>customer_id</th>\n",
       "      <th>article_id</th>\n",
       "      <th>customer_id_idx</th>\n",
       "      <th>article_id_idx</th>\n",
       "      <th>product_code</th>\n",
       "      <th>product_type_no</th>\n",
       "      <th>product_group_no</th>\n",
       "      <th>graphical_appearance_no</th>\n",
       "      <th>colour_group_code</th>\n",
       "      <th>perceived_colour_value_id</th>\n",
       "      <th>perceived_colour_master_id</th>\n",
       "      <th>department_no</th>\n",
       "      <th>index_code</th>\n",
       "      <th>index_group_no</th>\n",
       "      <th>section_no</th>\n",
       "      <th>garment_group_no</th>\n",
       "      <th>FN</th>\n",
       "      <th>Active</th>\n",
       "      <th>club_member_status</th>\n",
       "      <th>fashion_news_frequency</th>\n",
       "      <th>age</th>\n",
       "      <th>postal_code</th>\n",
       "    </tr>\n",
       "  </thead>\n",
       "  <tbody>\n",
       "    <tr>\n",
       "      <th>0</th>\n",
       "      <td>2018-09-20</td>\n",
       "      <td>000058a12d5b43e67d225668fa1f8d618c13dc232df0ca...</td>\n",
       "      <td>0663713001</td>\n",
       "      <td>0</td>\n",
       "      <td>40179</td>\n",
       "      <td>16361</td>\n",
       "      <td>65</td>\n",
       "      <td>1</td>\n",
       "      <td>0</td>\n",
       "      <td>0</td>\n",
       "      <td>0</td>\n",
       "      <td>0</td>\n",
       "      <td>47</td>\n",
       "      <td>1</td>\n",
       "      <td>0</td>\n",
       "      <td>1</td>\n",
       "      <td>1</td>\n",
       "      <td>0.0</td>\n",
       "      <td>0.0</td>\n",
       "      <td>0</td>\n",
       "      <td>0</td>\n",
       "      <td>24.0</td>\n",
       "      <td>2</td>\n",
       "    </tr>\n",
       "    <tr>\n",
       "      <th>1</th>\n",
       "      <td>2018-09-24</td>\n",
       "      <td>000058a12d5b43e67d225668fa1f8d618c13dc232df0ca...</td>\n",
       "      <td>0663713001</td>\n",
       "      <td>0</td>\n",
       "      <td>40179</td>\n",
       "      <td>16361</td>\n",
       "      <td>65</td>\n",
       "      <td>1</td>\n",
       "      <td>0</td>\n",
       "      <td>0</td>\n",
       "      <td>0</td>\n",
       "      <td>0</td>\n",
       "      <td>47</td>\n",
       "      <td>1</td>\n",
       "      <td>0</td>\n",
       "      <td>1</td>\n",
       "      <td>1</td>\n",
       "      <td>0.0</td>\n",
       "      <td>0.0</td>\n",
       "      <td>0</td>\n",
       "      <td>0</td>\n",
       "      <td>24.0</td>\n",
       "      <td>2</td>\n",
       "    </tr>\n",
       "    <tr>\n",
       "      <th>2</th>\n",
       "      <td>2018-09-20</td>\n",
       "      <td>000058a12d5b43e67d225668fa1f8d618c13dc232df0ca...</td>\n",
       "      <td>0541518023</td>\n",
       "      <td>0</td>\n",
       "      <td>10520</td>\n",
       "      <td>3431</td>\n",
       "      <td>1</td>\n",
       "      <td>1</td>\n",
       "      <td>0</td>\n",
       "      <td>16</td>\n",
       "      <td>2</td>\n",
       "      <td>5</td>\n",
       "      <td>4</td>\n",
       "      <td>1</td>\n",
       "      <td>0</td>\n",
       "      <td>1</td>\n",
       "      <td>1</td>\n",
       "      <td>0.0</td>\n",
       "      <td>0.0</td>\n",
       "      <td>0</td>\n",
       "      <td>0</td>\n",
       "      <td>24.0</td>\n",
       "      <td>2</td>\n",
       "    </tr>\n",
       "    <tr>\n",
       "      <th>3</th>\n",
       "      <td>2020-02-03</td>\n",
       "      <td>000058a12d5b43e67d225668fa1f8d618c13dc232df0ca...</td>\n",
       "      <td>0351484002</td>\n",
       "      <td>0</td>\n",
       "      <td>1469</td>\n",
       "      <td>383</td>\n",
       "      <td>20</td>\n",
       "      <td>10</td>\n",
       "      <td>0</td>\n",
       "      <td>0</td>\n",
       "      <td>0</td>\n",
       "      <td>0</td>\n",
       "      <td>21</td>\n",
       "      <td>1</td>\n",
       "      <td>0</td>\n",
       "      <td>14</td>\n",
       "      <td>8</td>\n",
       "      <td>0.0</td>\n",
       "      <td>0.0</td>\n",
       "      <td>0</td>\n",
       "      <td>0</td>\n",
       "      <td>24.0</td>\n",
       "      <td>2</td>\n",
       "    </tr>\n",
       "    <tr>\n",
       "      <th>4</th>\n",
       "      <td>2020-02-03</td>\n",
       "      <td>000058a12d5b43e67d225668fa1f8d618c13dc232df0ca...</td>\n",
       "      <td>0351484002</td>\n",
       "      <td>0</td>\n",
       "      <td>1469</td>\n",
       "      <td>383</td>\n",
       "      <td>20</td>\n",
       "      <td>10</td>\n",
       "      <td>0</td>\n",
       "      <td>0</td>\n",
       "      <td>0</td>\n",
       "      <td>0</td>\n",
       "      <td>21</td>\n",
       "      <td>1</td>\n",
       "      <td>0</td>\n",
       "      <td>14</td>\n",
       "      <td>8</td>\n",
       "      <td>0.0</td>\n",
       "      <td>0.0</td>\n",
       "      <td>0</td>\n",
       "      <td>0</td>\n",
       "      <td>24.0</td>\n",
       "      <td>2</td>\n",
       "    </tr>\n",
       "  </tbody>\n",
       "</table>\n",
       "</div>"
      ],
      "text/plain": [
       "        t_dat                                        customer_id  article_id  \\\n",
       "0  2018-09-20  000058a12d5b43e67d225668fa1f8d618c13dc232df0ca...  0663713001   \n",
       "1  2018-09-24  000058a12d5b43e67d225668fa1f8d618c13dc232df0ca...  0663713001   \n",
       "2  2018-09-20  000058a12d5b43e67d225668fa1f8d618c13dc232df0ca...  0541518023   \n",
       "3  2020-02-03  000058a12d5b43e67d225668fa1f8d618c13dc232df0ca...  0351484002   \n",
       "4  2020-02-03  000058a12d5b43e67d225668fa1f8d618c13dc232df0ca...  0351484002   \n",
       "\n",
       "   customer_id_idx  article_id_idx  product_code  product_type_no  \\\n",
       "0                0           40179         16361               65   \n",
       "1                0           40179         16361               65   \n",
       "2                0           10520          3431                1   \n",
       "3                0            1469           383               20   \n",
       "4                0            1469           383               20   \n",
       "\n",
       "   product_group_no  graphical_appearance_no  colour_group_code  \\\n",
       "0                 1                        0                  0   \n",
       "1                 1                        0                  0   \n",
       "2                 1                        0                 16   \n",
       "3                10                        0                  0   \n",
       "4                10                        0                  0   \n",
       "\n",
       "   perceived_colour_value_id  perceived_colour_master_id  department_no  \\\n",
       "0                          0                           0             47   \n",
       "1                          0                           0             47   \n",
       "2                          2                           5              4   \n",
       "3                          0                           0             21   \n",
       "4                          0                           0             21   \n",
       "\n",
       "   index_code  index_group_no  section_no  garment_group_no   FN  Active  \\\n",
       "0           1               0           1                 1  0.0     0.0   \n",
       "1           1               0           1                 1  0.0     0.0   \n",
       "2           1               0           1                 1  0.0     0.0   \n",
       "3           1               0          14                 8  0.0     0.0   \n",
       "4           1               0          14                 8  0.0     0.0   \n",
       "\n",
       "   club_member_status  fashion_news_frequency   age  postal_code  \n",
       "0                   0                       0  24.0            2  \n",
       "1                   0                       0  24.0            2  \n",
       "2                   0                       0  24.0            2  \n",
       "3                   0                       0  24.0            2  \n",
       "4                   0                       0  24.0            2  "
      ]
     },
     "execution_count": 38,
     "metadata": {},
     "output_type": "execute_result"
    }
   ],
   "source": [
    "train_set_orig.head()"
   ]
  },
  {
   "cell_type": "markdown",
   "id": "00501e9e",
   "metadata": {},
   "source": [
    "### Create example age and time-related features"
   ]
  },
  {
   "cell_type": "code",
   "execution_count": 39,
   "id": "48347526",
   "metadata": {
    "executionInfo": {
     "elapsed": 5,
     "status": "ok",
     "timestamp": 1649692193165,
     "user": {
      "displayName": "Steven George",
      "userId": "07709250839253394649"
     },
     "user_tz": -60
    },
    "id": "cafb6ff8"
   },
   "outputs": [],
   "source": [
    "train_set_orig['t_dat'] = pd.to_datetime(train_set_orig['t_dat'])"
   ]
  },
  {
   "cell_type": "code",
   "execution_count": 40,
   "id": "204ca416",
   "metadata": {
    "colab": {
     "base_uri": "https://localhost:8080/"
    },
    "executionInfo": {
     "elapsed": 4,
     "status": "ok",
     "timestamp": 1649692193165,
     "user": {
      "displayName": "Steven George",
      "userId": "07709250839253394649"
     },
     "user_tz": -60
    },
    "id": "5c145c4c",
    "outputId": "9b3a2916-807d-4662-d6b2-abcaf6371725"
   },
   "outputs": [
    {
     "data": {
      "text/plain": [
       "(Timestamp('2020-09-07 00:00:00'), Timestamp('2020-09-14 00:00:00'))"
      ]
     },
     "execution_count": 40,
     "metadata": {},
     "output_type": "execute_result"
    }
   ],
   "source": [
    "end = train_set_orig['t_dat'].max()\n",
    "endm1 = end - datetime.timedelta(days=7)\n",
    "\n",
    "endm1, end"
   ]
  },
  {
   "cell_type": "code",
   "execution_count": 41,
   "id": "662c3cc3",
   "metadata": {},
   "outputs": [],
   "source": [
    "train_set_orig['example_age'] = (end - train_set_orig['t_dat']).dt.days"
   ]
  },
  {
   "cell_type": "code",
   "execution_count": 42,
   "id": "ca3514c8",
   "metadata": {},
   "outputs": [
    {
     "data": {
      "text/plain": [
       "<AxesSubplot:>"
      ]
     },
     "execution_count": 42,
     "metadata": {},
     "output_type": "execute_result"
    },
    {
     "data": {
      "image/png": "[encoded data removed]",
      "text/plain": [
       "<Figure size 432x288 with 1 Axes>"
      ]
     },
     "metadata": {
      "needs_background": "light"
     },
     "output_type": "display_data"
    }
   ],
   "source": [
    "train_set_orig['example_age'].hist()"
   ]
  },
  {
   "cell_type": "code",
   "execution_count": 43,
   "id": "f89a5c09",
   "metadata": {},
   "outputs": [],
   "source": [
    "train_set_orig['t_dat_quarter'] = train_set_orig['t_dat'].dt.quarter"
   ]
  },
  {
   "cell_type": "code",
   "execution_count": 44,
   "id": "5a5d5648",
   "metadata": {},
   "outputs": [],
   "source": [
    "train_set_orig = pd.get_dummies(train_set_orig, columns=['t_dat_quarter'])"
   ]
  },
  {
   "cell_type": "code",
   "execution_count": 45,
   "id": "4e670016",
   "metadata": {},
   "outputs": [
    {
     "data": {
      "text/html": [
       "<div>\n",
       "<style scoped>\n",
       "    .dataframe tbody tr th:only-of-type {\n",
       "        vertical-align: middle;\n",
       "    }\n",
       "\n",
       "    .dataframe tbody tr th {\n",
       "        vertical-align: top;\n",
       "    }\n",
       "\n",
       "    .dataframe thead th {\n",
       "        text-align: right;\n",
       "    }\n",
       "</style>\n",
       "<table border=\"1\" class=\"dataframe\">\n",
       "  <thead>\n",
       "    <tr style=\"text-align: right;\">\n",
       "      <th></th>\n",
       "      <th>t_dat</th>\n",
       "      <th>customer_id</th>\n",
       "      <th>article_id</th>\n",
       "      <th>customer_id_idx</th>\n",
       "      <th>article_id_idx</th>\n",
       "      <th>product_code</th>\n",
       "      <th>product_type_no</th>\n",
       "      <th>product_group_no</th>\n",
       "      <th>graphical_appearance_no</th>\n",
       "      <th>colour_group_code</th>\n",
       "      <th>perceived_colour_value_id</th>\n",
       "      <th>perceived_colour_master_id</th>\n",
       "      <th>department_no</th>\n",
       "      <th>index_code</th>\n",
       "      <th>index_group_no</th>\n",
       "      <th>section_no</th>\n",
       "      <th>garment_group_no</th>\n",
       "      <th>FN</th>\n",
       "      <th>Active</th>\n",
       "      <th>club_member_status</th>\n",
       "      <th>fashion_news_frequency</th>\n",
       "      <th>age</th>\n",
       "      <th>postal_code</th>\n",
       "      <th>example_age</th>\n",
       "      <th>t_dat_quarter_1</th>\n",
       "      <th>t_dat_quarter_2</th>\n",
       "      <th>t_dat_quarter_3</th>\n",
       "      <th>t_dat_quarter_4</th>\n",
       "    </tr>\n",
       "  </thead>\n",
       "  <tbody>\n",
       "    <tr>\n",
       "      <th>0</th>\n",
       "      <td>2018-09-20</td>\n",
       "      <td>000058a12d5b43e67d225668fa1f8d618c13dc232df0ca...</td>\n",
       "      <td>0663713001</td>\n",
       "      <td>0</td>\n",
       "      <td>40179</td>\n",
       "      <td>16361</td>\n",
       "      <td>65</td>\n",
       "      <td>1</td>\n",
       "      <td>0</td>\n",
       "      <td>0</td>\n",
       "      <td>0</td>\n",
       "      <td>0</td>\n",
       "      <td>47</td>\n",
       "      <td>1</td>\n",
       "      <td>0</td>\n",
       "      <td>1</td>\n",
       "      <td>1</td>\n",
       "      <td>0.0</td>\n",
       "      <td>0.0</td>\n",
       "      <td>0</td>\n",
       "      <td>0</td>\n",
       "      <td>24.0</td>\n",
       "      <td>2</td>\n",
       "      <td>725</td>\n",
       "      <td>0</td>\n",
       "      <td>0</td>\n",
       "      <td>1</td>\n",
       "      <td>0</td>\n",
       "    </tr>\n",
       "    <tr>\n",
       "      <th>1</th>\n",
       "      <td>2018-09-24</td>\n",
       "      <td>000058a12d5b43e67d225668fa1f8d618c13dc232df0ca...</td>\n",
       "      <td>0663713001</td>\n",
       "      <td>0</td>\n",
       "      <td>40179</td>\n",
       "      <td>16361</td>\n",
       "      <td>65</td>\n",
       "      <td>1</td>\n",
       "      <td>0</td>\n",
       "      <td>0</td>\n",
       "      <td>0</td>\n",
       "      <td>0</td>\n",
       "      <td>47</td>\n",
       "      <td>1</td>\n",
       "      <td>0</td>\n",
       "      <td>1</td>\n",
       "      <td>1</td>\n",
       "      <td>0.0</td>\n",
       "      <td>0.0</td>\n",
       "      <td>0</td>\n",
       "      <td>0</td>\n",
       "      <td>24.0</td>\n",
       "      <td>2</td>\n",
       "      <td>721</td>\n",
       "      <td>0</td>\n",
       "      <td>0</td>\n",
       "      <td>1</td>\n",
       "      <td>0</td>\n",
       "    </tr>\n",
       "    <tr>\n",
       "      <th>2</th>\n",
       "      <td>2018-09-20</td>\n",
       "      <td>000058a12d5b43e67d225668fa1f8d618c13dc232df0ca...</td>\n",
       "      <td>0541518023</td>\n",
       "      <td>0</td>\n",
       "      <td>10520</td>\n",
       "      <td>3431</td>\n",
       "      <td>1</td>\n",
       "      <td>1</td>\n",
       "      <td>0</td>\n",
       "      <td>16</td>\n",
       "      <td>2</td>\n",
       "      <td>5</td>\n",
       "      <td>4</td>\n",
       "      <td>1</td>\n",
       "      <td>0</td>\n",
       "      <td>1</td>\n",
       "      <td>1</td>\n",
       "      <td>0.0</td>\n",
       "      <td>0.0</td>\n",
       "      <td>0</td>\n",
       "      <td>0</td>\n",
       "      <td>24.0</td>\n",
       "      <td>2</td>\n",
       "      <td>725</td>\n",
       "      <td>0</td>\n",
       "      <td>0</td>\n",
       "      <td>1</td>\n",
       "      <td>0</td>\n",
       "    </tr>\n",
       "    <tr>\n",
       "      <th>3</th>\n",
       "      <td>2020-02-03</td>\n",
       "      <td>000058a12d5b43e67d225668fa1f8d618c13dc232df0ca...</td>\n",
       "      <td>0351484002</td>\n",
       "      <td>0</td>\n",
       "      <td>1469</td>\n",
       "      <td>383</td>\n",
       "      <td>20</td>\n",
       "      <td>10</td>\n",
       "      <td>0</td>\n",
       "      <td>0</td>\n",
       "      <td>0</td>\n",
       "      <td>0</td>\n",
       "      <td>21</td>\n",
       "      <td>1</td>\n",
       "      <td>0</td>\n",
       "      <td>14</td>\n",
       "      <td>8</td>\n",
       "      <td>0.0</td>\n",
       "      <td>0.0</td>\n",
       "      <td>0</td>\n",
       "      <td>0</td>\n",
       "      <td>24.0</td>\n",
       "      <td>2</td>\n",
       "      <td>224</td>\n",
       "      <td>1</td>\n",
       "      <td>0</td>\n",
       "      <td>0</td>\n",
       "      <td>0</td>\n",
       "    </tr>\n",
       "    <tr>\n",
       "      <th>4</th>\n",
       "      <td>2020-02-03</td>\n",
       "      <td>000058a12d5b43e67d225668fa1f8d618c13dc232df0ca...</td>\n",
       "      <td>0351484002</td>\n",
       "      <td>0</td>\n",
       "      <td>1469</td>\n",
       "      <td>383</td>\n",
       "      <td>20</td>\n",
       "      <td>10</td>\n",
       "      <td>0</td>\n",
       "      <td>0</td>\n",
       "      <td>0</td>\n",
       "      <td>0</td>\n",
       "      <td>21</td>\n",
       "      <td>1</td>\n",
       "      <td>0</td>\n",
       "      <td>14</td>\n",
       "      <td>8</td>\n",
       "      <td>0.0</td>\n",
       "      <td>0.0</td>\n",
       "      <td>0</td>\n",
       "      <td>0</td>\n",
       "      <td>24.0</td>\n",
       "      <td>2</td>\n",
       "      <td>224</td>\n",
       "      <td>1</td>\n",
       "      <td>0</td>\n",
       "      <td>0</td>\n",
       "      <td>0</td>\n",
       "    </tr>\n",
       "  </tbody>\n",
       "</table>\n",
       "</div>"
      ],
      "text/plain": [
       "       t_dat                                        customer_id  article_id  \\\n",
       "0 2018-09-20  000058a12d5b43e67d225668fa1f8d618c13dc232df0ca...  0663713001   \n",
       "1 2018-09-24  000058a12d5b43e67d225668fa1f8d618c13dc232df0ca...  0663713001   \n",
       "2 2018-09-20  000058a12d5b43e67d225668fa1f8d618c13dc232df0ca...  0541518023   \n",
       "3 2020-02-03  000058a12d5b43e67d225668fa1f8d618c13dc232df0ca...  0351484002   \n",
       "4 2020-02-03  000058a12d5b43e67d225668fa1f8d618c13dc232df0ca...  0351484002   \n",
       "\n",
       "   customer_id_idx  article_id_idx  product_code  product_type_no  \\\n",
       "0                0           40179         16361               65   \n",
       "1                0           40179         16361               65   \n",
       "2                0           10520          3431                1   \n",
       "3                0            1469           383               20   \n",
       "4                0            1469           383               20   \n",
       "\n",
       "   product_group_no  graphical_appearance_no  colour_group_code  \\\n",
       "0                 1                        0                  0   \n",
       "1                 1                        0                  0   \n",
       "2                 1                        0                 16   \n",
       "3                10                        0                  0   \n",
       "4                10                        0                  0   \n",
       "\n",
       "   perceived_colour_value_id  perceived_colour_master_id  department_no  \\\n",
       "0                          0                           0             47   \n",
       "1                          0                           0             47   \n",
       "2                          2                           5              4   \n",
       "3                          0                           0             21   \n",
       "4                          0                           0             21   \n",
       "\n",
       "   index_code  index_group_no  section_no  garment_group_no   FN  Active  \\\n",
       "0           1               0           1                 1  0.0     0.0   \n",
       "1           1               0           1                 1  0.0     0.0   \n",
       "2           1               0           1                 1  0.0     0.0   \n",
       "3           1               0          14                 8  0.0     0.0   \n",
       "4           1               0          14                 8  0.0     0.0   \n",
       "\n",
       "   club_member_status  fashion_news_frequency   age  postal_code  example_age  \\\n",
       "0                   0                       0  24.0            2          725   \n",
       "1                   0                       0  24.0            2          721   \n",
       "2                   0                       0  24.0            2          725   \n",
       "3                   0                       0  24.0            2          224   \n",
       "4                   0                       0  24.0            2          224   \n",
       "\n",
       "   t_dat_quarter_1  t_dat_quarter_2  t_dat_quarter_3  t_dat_quarter_4  \n",
       "0                0                0                1                0  \n",
       "1                0                0                1                0  \n",
       "2                0                0                1                0  \n",
       "3                1                0                0                0  \n",
       "4                1                0                0                0  "
      ]
     },
     "execution_count": 45,
     "metadata": {},
     "output_type": "execute_result"
    }
   ],
   "source": [
    "train_set_orig.head()"
   ]
  },
  {
   "cell_type": "markdown",
   "id": "d734086b",
   "metadata": {
    "id": "8167fe05"
   },
   "source": [
    "### Create development set"
   ]
  },
  {
   "cell_type": "code",
   "execution_count": 46,
   "id": "8eaa30f2",
   "metadata": {
    "executionInfo": {
     "elapsed": 369,
     "status": "ok",
     "timestamp": 1649692193798,
     "user": {
      "displayName": "Steven George",
      "userId": "07709250839253394649"
     },
     "user_tz": -60
    },
    "id": "e2e26834"
   },
   "outputs": [],
   "source": [
    "# Remove customers from dev set who are not in the new training set\n",
    "customers_to_remove = (\n",
    "    set(train_set_orig[train_set_orig['t_dat'] >= endm1]['customer_id']) - \n",
    "    set(train_set_orig[train_set_orig['t_dat'] < endm1]['customer_id'])\n",
    ")"
   ]
  },
  {
   "cell_type": "code",
   "execution_count": 47,
   "id": "ffcd4826",
   "metadata": {
    "colab": {
     "base_uri": "https://localhost:8080/"
    },
    "executionInfo": {
     "elapsed": 19,
     "status": "ok",
     "timestamp": 1649692193799,
     "user": {
      "displayName": "Steven George",
      "userId": "07709250839253394649"
     },
     "user_tz": -60
    },
    "id": "cac9a937",
    "outputId": "04c88fc0-5b77-4b86-a6d8-bf7bebe606d7"
   },
   "outputs": [
    {
     "data": {
      "text/plain": [
       "60"
      ]
     },
     "execution_count": 47,
     "metadata": {},
     "output_type": "execute_result"
    }
   ],
   "source": [
    "len(customers_to_remove)"
   ]
  },
  {
   "cell_type": "code",
   "execution_count": 48,
   "id": "6161f90a",
   "metadata": {
    "colab": {
     "base_uri": "https://localhost:8080/"
    },
    "executionInfo": {
     "elapsed": 12,
     "status": "ok",
     "timestamp": 1649692193799,
     "user": {
      "displayName": "Steven George",
      "userId": "07709250839253394649"
     },
     "user_tz": -60
    },
    "id": "7e3ce90b",
    "outputId": "0047eec9-3f8c-4dc9-b0cf-95b7f87efeb2"
   },
   "outputs": [
    {
     "data": {
      "text/plain": [
       "((580395, 28), (8363, 28))"
      ]
     },
     "execution_count": 48,
     "metadata": {},
     "output_type": "execute_result"
    }
   ],
   "source": [
    "train_set = train_set_orig.copy()[train_set_orig['t_dat'] < endm1]\n",
    "\n",
    "dev_set = train_set_orig.copy()[train_set_orig['t_dat'] >= endm1]\n",
    "\n",
    "train_set.shape, dev_set.shape"
   ]
  },
  {
   "cell_type": "code",
   "execution_count": 49,
   "id": "97f875c9",
   "metadata": {
    "colab": {
     "base_uri": "https://localhost:8080/",
     "height": 375
    },
    "executionInfo": {
     "elapsed": 9,
     "status": "ok",
     "timestamp": 1649692193799,
     "user": {
      "displayName": "Steven George",
      "userId": "07709250839253394649"
     },
     "user_tz": -60
    },
    "id": "35777b23",
    "outputId": "931bfa67-e2f2-4081-a83d-37487a720dca"
   },
   "outputs": [
    {
     "name": "stdout",
     "output_type": "stream",
     "text": [
      "(8131, 28)\n"
     ]
    },
    {
     "data": {
      "text/html": [
       "<div>\n",
       "<style scoped>\n",
       "    .dataframe tbody tr th:only-of-type {\n",
       "        vertical-align: middle;\n",
       "    }\n",
       "\n",
       "    .dataframe tbody tr th {\n",
       "        vertical-align: top;\n",
       "    }\n",
       "\n",
       "    .dataframe thead th {\n",
       "        text-align: right;\n",
       "    }\n",
       "</style>\n",
       "<table border=\"1\" class=\"dataframe\">\n",
       "  <thead>\n",
       "    <tr style=\"text-align: right;\">\n",
       "      <th></th>\n",
       "      <th>t_dat</th>\n",
       "      <th>customer_id</th>\n",
       "      <th>article_id</th>\n",
       "      <th>customer_id_idx</th>\n",
       "      <th>article_id_idx</th>\n",
       "      <th>product_code</th>\n",
       "      <th>product_type_no</th>\n",
       "      <th>product_group_no</th>\n",
       "      <th>graphical_appearance_no</th>\n",
       "      <th>colour_group_code</th>\n",
       "      <th>perceived_colour_value_id</th>\n",
       "      <th>perceived_colour_master_id</th>\n",
       "      <th>department_no</th>\n",
       "      <th>index_code</th>\n",
       "      <th>index_group_no</th>\n",
       "      <th>section_no</th>\n",
       "      <th>garment_group_no</th>\n",
       "      <th>FN</th>\n",
       "      <th>Active</th>\n",
       "      <th>club_member_status</th>\n",
       "      <th>fashion_news_frequency</th>\n",
       "      <th>age</th>\n",
       "      <th>postal_code</th>\n",
       "      <th>example_age</th>\n",
       "      <th>t_dat_quarter_1</th>\n",
       "      <th>t_dat_quarter_2</th>\n",
       "      <th>t_dat_quarter_3</th>\n",
       "      <th>t_dat_quarter_4</th>\n",
       "    </tr>\n",
       "  </thead>\n",
       "  <tbody>\n",
       "    <tr>\n",
       "      <th>270</th>\n",
       "      <td>2020-09-08</td>\n",
       "      <td>6cebb7f0bf845b15e8926474096ce615874ec23e7fb59e...</td>\n",
       "      <td>0879605001</td>\n",
       "      <td>2087</td>\n",
       "      <td>98504</td>\n",
       "      <td>42861</td>\n",
       "      <td>21</td>\n",
       "      <td>1</td>\n",
       "      <td>0</td>\n",
       "      <td>0</td>\n",
       "      <td>0</td>\n",
       "      <td>0</td>\n",
       "      <td>16</td>\n",
       "      <td>7</td>\n",
       "      <td>4</td>\n",
       "      <td>9</td>\n",
       "      <td>1</td>\n",
       "      <td>0.0</td>\n",
       "      <td>0.0</td>\n",
       "      <td>0</td>\n",
       "      <td>0</td>\n",
       "      <td>49.0</td>\n",
       "      <td>76294</td>\n",
       "      <td>6</td>\n",
       "      <td>0</td>\n",
       "      <td>0</td>\n",
       "      <td>1</td>\n",
       "      <td>0</td>\n",
       "    </tr>\n",
       "    <tr>\n",
       "      <th>356</th>\n",
       "      <td>2020-09-12</td>\n",
       "      <td>e55d65809939bdc0e612404523492e113623d4db936d83...</td>\n",
       "      <td>0767423001</td>\n",
       "      <td>5435</td>\n",
       "      <td>72351</td>\n",
       "      <td>30052</td>\n",
       "      <td>5</td>\n",
       "      <td>0</td>\n",
       "      <td>0</td>\n",
       "      <td>1</td>\n",
       "      <td>1</td>\n",
       "      <td>1</td>\n",
       "      <td>127</td>\n",
       "      <td>7</td>\n",
       "      <td>4</td>\n",
       "      <td>25</td>\n",
       "      <td>9</td>\n",
       "      <td>0.0</td>\n",
       "      <td>0.0</td>\n",
       "      <td>0</td>\n",
       "      <td>0</td>\n",
       "      <td>28.0</td>\n",
       "      <td>17065</td>\n",
       "      <td>2</td>\n",
       "      <td>0</td>\n",
       "      <td>0</td>\n",
       "      <td>1</td>\n",
       "      <td>0</td>\n",
       "    </tr>\n",
       "    <tr>\n",
       "      <th>367</th>\n",
       "      <td>2020-09-12</td>\n",
       "      <td>e55d65809939bdc0e612404523492e113623d4db936d83...</td>\n",
       "      <td>0752814018</td>\n",
       "      <td>5435</td>\n",
       "      <td>67951</td>\n",
       "      <td>28101</td>\n",
       "      <td>7</td>\n",
       "      <td>3</td>\n",
       "      <td>3</td>\n",
       "      <td>3</td>\n",
       "      <td>2</td>\n",
       "      <td>2</td>\n",
       "      <td>48</td>\n",
       "      <td>0</td>\n",
       "      <td>0</td>\n",
       "      <td>21</td>\n",
       "      <td>11</td>\n",
       "      <td>0.0</td>\n",
       "      <td>0.0</td>\n",
       "      <td>0</td>\n",
       "      <td>0</td>\n",
       "      <td>28.0</td>\n",
       "      <td>17065</td>\n",
       "      <td>2</td>\n",
       "      <td>0</td>\n",
       "      <td>0</td>\n",
       "      <td>1</td>\n",
       "      <td>0</td>\n",
       "    </tr>\n",
       "    <tr>\n",
       "      <th>371</th>\n",
       "      <td>2020-09-12</td>\n",
       "      <td>e55d65809939bdc0e612404523492e113623d4db936d83...</td>\n",
       "      <td>0895610001</td>\n",
       "      <td>5435</td>\n",
       "      <td>101302</td>\n",
       "      <td>44484</td>\n",
       "      <td>7</td>\n",
       "      <td>3</td>\n",
       "      <td>0</td>\n",
       "      <td>34</td>\n",
       "      <td>3</td>\n",
       "      <td>2</td>\n",
       "      <td>90</td>\n",
       "      <td>0</td>\n",
       "      <td>0</td>\n",
       "      <td>32</td>\n",
       "      <td>11</td>\n",
       "      <td>0.0</td>\n",
       "      <td>0.0</td>\n",
       "      <td>0</td>\n",
       "      <td>0</td>\n",
       "      <td>28.0</td>\n",
       "      <td>17065</td>\n",
       "      <td>2</td>\n",
       "      <td>0</td>\n",
       "      <td>0</td>\n",
       "      <td>1</td>\n",
       "      <td>0</td>\n",
       "    </tr>\n",
       "    <tr>\n",
       "      <th>372</th>\n",
       "      <td>2020-09-12</td>\n",
       "      <td>e55d65809939bdc0e612404523492e113623d4db936d83...</td>\n",
       "      <td>0895610001</td>\n",
       "      <td>5435</td>\n",
       "      <td>101302</td>\n",
       "      <td>44484</td>\n",
       "      <td>7</td>\n",
       "      <td>3</td>\n",
       "      <td>0</td>\n",
       "      <td>34</td>\n",
       "      <td>3</td>\n",
       "      <td>2</td>\n",
       "      <td>90</td>\n",
       "      <td>0</td>\n",
       "      <td>0</td>\n",
       "      <td>32</td>\n",
       "      <td>11</td>\n",
       "      <td>0.0</td>\n",
       "      <td>0.0</td>\n",
       "      <td>0</td>\n",
       "      <td>0</td>\n",
       "      <td>28.0</td>\n",
       "      <td>17065</td>\n",
       "      <td>2</td>\n",
       "      <td>0</td>\n",
       "      <td>0</td>\n",
       "      <td>1</td>\n",
       "      <td>0</td>\n",
       "    </tr>\n",
       "  </tbody>\n",
       "</table>\n",
       "</div>"
      ],
      "text/plain": [
       "         t_dat                                        customer_id  article_id  \\\n",
       "270 2020-09-08  6cebb7f0bf845b15e8926474096ce615874ec23e7fb59e...  0879605001   \n",
       "356 2020-09-12  e55d65809939bdc0e612404523492e113623d4db936d83...  0767423001   \n",
       "367 2020-09-12  e55d65809939bdc0e612404523492e113623d4db936d83...  0752814018   \n",
       "371 2020-09-12  e55d65809939bdc0e612404523492e113623d4db936d83...  0895610001   \n",
       "372 2020-09-12  e55d65809939bdc0e612404523492e113623d4db936d83...  0895610001   \n",
       "\n",
       "     customer_id_idx  article_id_idx  product_code  product_type_no  \\\n",
       "270             2087           98504         42861               21   \n",
       "356             5435           72351         30052                5   \n",
       "367             5435           67951         28101                7   \n",
       "371             5435          101302         44484                7   \n",
       "372             5435          101302         44484                7   \n",
       "\n",
       "     product_group_no  graphical_appearance_no  colour_group_code  \\\n",
       "270                 1                        0                  0   \n",
       "356                 0                        0                  1   \n",
       "367                 3                        3                  3   \n",
       "371                 3                        0                 34   \n",
       "372                 3                        0                 34   \n",
       "\n",
       "     perceived_colour_value_id  perceived_colour_master_id  department_no  \\\n",
       "270                          0                           0             16   \n",
       "356                          1                           1            127   \n",
       "367                          2                           2             48   \n",
       "371                          3                           2             90   \n",
       "372                          3                           2             90   \n",
       "\n",
       "     index_code  index_group_no  section_no  garment_group_no   FN  Active  \\\n",
       "270           7               4           9                 1  0.0     0.0   \n",
       "356           7               4          25                 9  0.0     0.0   \n",
       "367           0               0          21                11  0.0     0.0   \n",
       "371           0               0          32                11  0.0     0.0   \n",
       "372           0               0          32                11  0.0     0.0   \n",
       "\n",
       "     club_member_status  fashion_news_frequency   age  postal_code  \\\n",
       "270                   0                       0  49.0        76294   \n",
       "356                   0                       0  28.0        17065   \n",
       "367                   0                       0  28.0        17065   \n",
       "371                   0                       0  28.0        17065   \n",
       "372                   0                       0  28.0        17065   \n",
       "\n",
       "     example_age  t_dat_quarter_1  t_dat_quarter_2  t_dat_quarter_3  \\\n",
       "270            6                0                0                1   \n",
       "356            2                0                0                1   \n",
       "367            2                0                0                1   \n",
       "371            2                0                0                1   \n",
       "372            2                0                0                1   \n",
       "\n",
       "     t_dat_quarter_4  \n",
       "270                0  \n",
       "356                0  \n",
       "367                0  \n",
       "371                0  \n",
       "372                0  "
      ]
     },
     "execution_count": 49,
     "metadata": {},
     "output_type": "execute_result"
    }
   ],
   "source": [
    "dev_set = dev_set.copy()[~dev_set['customer_id'].isin(customers_to_remove)]\n",
    "print(dev_set.shape)\n",
    "dev_set.head()"
   ]
  },
  {
   "cell_type": "code",
   "execution_count": 50,
   "id": "fbeac9e4",
   "metadata": {
    "colab": {
     "base_uri": "https://localhost:8080/",
     "height": 206
    },
    "executionInfo": {
     "elapsed": 373,
     "status": "ok",
     "timestamp": 1649692194167,
     "user": {
      "displayName": "Steven George",
      "userId": "07709250839253394649"
     },
     "user_tz": -60
    },
    "id": "2dc94254",
    "outputId": "abe072b4-23f1-4c27-9b54-4f78e097e82a"
   },
   "outputs": [
    {
     "data": {
      "text/html": [
       "<div>\n",
       "<style scoped>\n",
       "    .dataframe tbody tr th:only-of-type {\n",
       "        vertical-align: middle;\n",
       "    }\n",
       "\n",
       "    .dataframe tbody tr th {\n",
       "        vertical-align: top;\n",
       "    }\n",
       "\n",
       "    .dataframe thead th {\n",
       "        text-align: right;\n",
       "    }\n",
       "</style>\n",
       "<table border=\"1\" class=\"dataframe\">\n",
       "  <thead>\n",
       "    <tr style=\"text-align: right;\">\n",
       "      <th></th>\n",
       "      <th>customer_id</th>\n",
       "      <th>article_id_idx</th>\n",
       "    </tr>\n",
       "  </thead>\n",
       "  <tbody>\n",
       "    <tr>\n",
       "      <th>0</th>\n",
       "      <td>00462904b288681a9facb555f75dd2cf4d0f730a6e0ea7...</td>\n",
       "      <td>[102443]</td>\n",
       "    </tr>\n",
       "    <tr>\n",
       "      <th>1</th>\n",
       "      <td>0054c50274d19af58d53ef3ce0c004bea446c80bd51cf2...</td>\n",
       "      <td>[71167, 72000, 16023]</td>\n",
       "    </tr>\n",
       "    <tr>\n",
       "      <th>2</th>\n",
       "      <td>00639e775b90554156986100685c4d408723c77e411e37...</td>\n",
       "      <td>[100645, 100645, 100648]</td>\n",
       "    </tr>\n",
       "    <tr>\n",
       "      <th>3</th>\n",
       "      <td>00798bd464457d23d6af401715fe32d5c676ad9ee4010d...</td>\n",
       "      <td>[103885]</td>\n",
       "    </tr>\n",
       "    <tr>\n",
       "      <th>4</th>\n",
       "      <td>0099238196d8f71659fceaa115b36e400398bcfc169b5f...</td>\n",
       "      <td>[3091, 49553, 49553, 99182, 99182, 95789, 9578...</td>\n",
       "    </tr>\n",
       "  </tbody>\n",
       "</table>\n",
       "</div>"
      ],
      "text/plain": [
       "                                         customer_id  \\\n",
       "0  00462904b288681a9facb555f75dd2cf4d0f730a6e0ea7...   \n",
       "1  0054c50274d19af58d53ef3ce0c004bea446c80bd51cf2...   \n",
       "2  00639e775b90554156986100685c4d408723c77e411e37...   \n",
       "3  00798bd464457d23d6af401715fe32d5c676ad9ee4010d...   \n",
       "4  0099238196d8f71659fceaa115b36e400398bcfc169b5f...   \n",
       "\n",
       "                                      article_id_idx  \n",
       "0                                           [102443]  \n",
       "1                              [71167, 72000, 16023]  \n",
       "2                           [100645, 100645, 100648]  \n",
       "3                                           [103885]  \n",
       "4  [3091, 49553, 49553, 99182, 99182, 95789, 9578...  "
      ]
     },
     "execution_count": 50,
     "metadata": {},
     "output_type": "execute_result"
    }
   ],
   "source": [
    "dev_set_by_customer = dev_set.groupby('customer_id').apply(lambda x: list(x['article_id_idx'])).reset_index().rename(columns={0: 'article_id_idx'})\n",
    "dev_set_by_customer.head()"
   ]
  },
  {
   "cell_type": "code",
   "execution_count": 51,
   "id": "7af13dde",
   "metadata": {
    "executionInfo": {
     "elapsed": 11,
     "status": "ok",
     "timestamp": 1649692194168,
     "user": {
      "displayName": "Steven George",
      "userId": "07709250839253394649"
     },
     "user_tz": -60
    },
    "id": "9604e4da"
   },
   "outputs": [],
   "source": [
    "customer_id_idx_ordered = dev_set_by_customer['customer_id'].map(customer_id_to_idx).tolist()"
   ]
  },
  {
   "cell_type": "code",
   "execution_count": 52,
   "id": "756c65a7",
   "metadata": {
    "executionInfo": {
     "elapsed": 10,
     "status": "ok",
     "timestamp": 1649692194168,
     "user": {
      "displayName": "Steven George",
      "userId": "07709250839253394649"
     },
     "user_tz": -60
    },
    "id": "1d4971f2"
   },
   "outputs": [],
   "source": [
    "dev_actuals = dev_set_by_customer['article_id_idx'].to_list()"
   ]
  },
  {
   "cell_type": "markdown",
   "id": "dc28699b",
   "metadata": {
    "id": "26e0c9c8"
   },
   "source": [
    "### Explore transactions"
   ]
  },
  {
   "cell_type": "markdown",
   "id": "076d58ad",
   "metadata": {
    "id": "542cb299"
   },
   "source": [
    "Only include articles bought after 2020-01:"
   ]
  },
  {
   "cell_type": "code",
   "execution_count": 53,
   "id": "3094b9f2",
   "metadata": {
    "executionInfo": {
     "elapsed": 11,
     "status": "ok",
     "timestamp": 1649692195053,
     "user": {
      "displayName": "Steven George",
      "userId": "07709250839253394649"
     },
     "user_tz": -60
    },
    "id": "973187a8"
   },
   "outputs": [],
   "source": [
    "article_id_idx_to_keep = train_set[train_set['t_dat'] > '2020-01-01']['article_id_idx'].unique()"
   ]
  },
  {
   "cell_type": "code",
   "execution_count": 54,
   "id": "25505b67",
   "metadata": {
    "colab": {
     "base_uri": "https://localhost:8080/"
    },
    "executionInfo": {
     "elapsed": 11,
     "status": "ok",
     "timestamp": 1649692195054,
     "user": {
      "displayName": "Steven George",
      "userId": "07709250839253394649"
     },
     "user_tz": -60
    },
    "id": "29218720",
    "outputId": "829ec887-fb30-45eb-c2b0-fbcb1368b617"
   },
   "outputs": [
    {
     "name": "stdout",
     "output_type": "stream",
     "text": [
      "(580395, 28)\n",
      "(386503, 28)\n"
     ]
    }
   ],
   "source": [
    "print(train_set.shape)\n",
    "train_set = train_set.copy()[train_set['article_id_idx'].isin(article_id_idx_to_keep)]\n",
    "print(train_set.shape)"
   ]
  },
  {
   "cell_type": "code",
   "execution_count": 55,
   "id": "075467a3",
   "metadata": {
    "colab": {
     "base_uri": "https://localhost:8080/",
     "height": 374
    },
    "executionInfo": {
     "elapsed": 734,
     "status": "ok",
     "timestamp": 1649692195783,
     "user": {
      "displayName": "Steven George",
      "userId": "07709250839253394649"
     },
     "user_tz": -60
    },
    "id": "fc5579c6",
    "outputId": "d1696ef1-be69-45ea-94ac-a863eae678d5"
   },
   "outputs": [
    {
     "data": {
      "image/png": "[encoded data removed]",
      "text/plain": [
       "<Figure size 720x432 with 1 Axes>"
      ]
     },
     "metadata": {
      "needs_background": "light"
     },
     "output_type": "display_data"
    }
   ],
   "source": [
    "# First recorded transaction for each item\n",
    "plt.figure(figsize=(10, 6))\n",
    "train_set.groupby('article_id_idx')['t_dat'].min().hist(bins=30)\n",
    "plt.show()"
   ]
  },
  {
   "cell_type": "markdown",
   "id": "eb283757",
   "metadata": {
    "id": "84774935"
   },
   "source": [
    "Can see that even though we restrict items to after 2020 some were available before then"
   ]
  },
  {
   "cell_type": "markdown",
   "id": "f9b265ce",
   "metadata": {
    "id": "6e038b9c"
   },
   "source": [
    "### Format data"
   ]
  },
  {
   "cell_type": "markdown",
   "id": "c9405224",
   "metadata": {
    "id": "73287567"
   },
   "source": [
    "Since all the users in the test said are included in training we utilise the full training set."
   ]
  },
  {
   "cell_type": "code",
   "execution_count": 56,
   "id": "9fc90ec4",
   "metadata": {
    "colab": {
     "base_uri": "https://localhost:8080/",
     "height": 357
    },
    "executionInfo": {
     "elapsed": 12,
     "status": "ok",
     "timestamp": 1649692195784,
     "user": {
      "displayName": "Steven George",
      "userId": "07709250839253394649"
     },
     "user_tz": -60
    },
    "id": "9c517bac",
    "outputId": "b7cb4d1c-3d38-4e0e-fbb9-117e37ecc1e1"
   },
   "outputs": [
    {
     "data": {
      "text/html": [
       "<div>\n",
       "<style scoped>\n",
       "    .dataframe tbody tr th:only-of-type {\n",
       "        vertical-align: middle;\n",
       "    }\n",
       "\n",
       "    .dataframe tbody tr th {\n",
       "        vertical-align: top;\n",
       "    }\n",
       "\n",
       "    .dataframe thead th {\n",
       "        text-align: right;\n",
       "    }\n",
       "</style>\n",
       "<table border=\"1\" class=\"dataframe\">\n",
       "  <thead>\n",
       "    <tr style=\"text-align: right;\">\n",
       "      <th></th>\n",
       "      <th>t_dat</th>\n",
       "      <th>customer_id</th>\n",
       "      <th>article_id</th>\n",
       "      <th>customer_id_idx</th>\n",
       "      <th>article_id_idx</th>\n",
       "      <th>product_code</th>\n",
       "      <th>product_type_no</th>\n",
       "      <th>product_group_no</th>\n",
       "      <th>graphical_appearance_no</th>\n",
       "      <th>colour_group_code</th>\n",
       "      <th>perceived_colour_value_id</th>\n",
       "      <th>perceived_colour_master_id</th>\n",
       "      <th>department_no</th>\n",
       "      <th>index_code</th>\n",
       "      <th>index_group_no</th>\n",
       "      <th>section_no</th>\n",
       "      <th>garment_group_no</th>\n",
       "      <th>FN</th>\n",
       "      <th>Active</th>\n",
       "      <th>club_member_status</th>\n",
       "      <th>fashion_news_frequency</th>\n",
       "      <th>age</th>\n",
       "      <th>postal_code</th>\n",
       "      <th>example_age</th>\n",
       "      <th>t_dat_quarter_1</th>\n",
       "      <th>t_dat_quarter_2</th>\n",
       "      <th>t_dat_quarter_3</th>\n",
       "      <th>t_dat_quarter_4</th>\n",
       "    </tr>\n",
       "  </thead>\n",
       "  <tbody>\n",
       "    <tr>\n",
       "      <th>3</th>\n",
       "      <td>2020-02-03</td>\n",
       "      <td>000058a12d5b43e67d225668fa1f8d618c13dc232df0ca...</td>\n",
       "      <td>0351484002</td>\n",
       "      <td>0</td>\n",
       "      <td>1469</td>\n",
       "      <td>383</td>\n",
       "      <td>20</td>\n",
       "      <td>10</td>\n",
       "      <td>0</td>\n",
       "      <td>0</td>\n",
       "      <td>0</td>\n",
       "      <td>0</td>\n",
       "      <td>21</td>\n",
       "      <td>1</td>\n",
       "      <td>0</td>\n",
       "      <td>14</td>\n",
       "      <td>8</td>\n",
       "      <td>0.0</td>\n",
       "      <td>0.0</td>\n",
       "      <td>0</td>\n",
       "      <td>0</td>\n",
       "      <td>24.0</td>\n",
       "      <td>2</td>\n",
       "      <td>224</td>\n",
       "      <td>1</td>\n",
       "      <td>0</td>\n",
       "      <td>0</td>\n",
       "      <td>0</td>\n",
       "    </tr>\n",
       "    <tr>\n",
       "      <th>4</th>\n",
       "      <td>2020-02-03</td>\n",
       "      <td>000058a12d5b43e67d225668fa1f8d618c13dc232df0ca...</td>\n",
       "      <td>0351484002</td>\n",
       "      <td>0</td>\n",
       "      <td>1469</td>\n",
       "      <td>383</td>\n",
       "      <td>20</td>\n",
       "      <td>10</td>\n",
       "      <td>0</td>\n",
       "      <td>0</td>\n",
       "      <td>0</td>\n",
       "      <td>0</td>\n",
       "      <td>21</td>\n",
       "      <td>1</td>\n",
       "      <td>0</td>\n",
       "      <td>14</td>\n",
       "      <td>8</td>\n",
       "      <td>0.0</td>\n",
       "      <td>0.0</td>\n",
       "      <td>0</td>\n",
       "      <td>0</td>\n",
       "      <td>24.0</td>\n",
       "      <td>2</td>\n",
       "      <td>224</td>\n",
       "      <td>1</td>\n",
       "      <td>0</td>\n",
       "      <td>0</td>\n",
       "      <td>0</td>\n",
       "    </tr>\n",
       "    <tr>\n",
       "      <th>6</th>\n",
       "      <td>2020-02-03</td>\n",
       "      <td>000058a12d5b43e67d225668fa1f8d618c13dc232df0ca...</td>\n",
       "      <td>0723529001</td>\n",
       "      <td>0</td>\n",
       "      <td>59458</td>\n",
       "      <td>24374</td>\n",
       "      <td>19</td>\n",
       "      <td>10</td>\n",
       "      <td>0</td>\n",
       "      <td>0</td>\n",
       "      <td>0</td>\n",
       "      <td>0</td>\n",
       "      <td>21</td>\n",
       "      <td>1</td>\n",
       "      <td>0</td>\n",
       "      <td>14</td>\n",
       "      <td>8</td>\n",
       "      <td>0.0</td>\n",
       "      <td>0.0</td>\n",
       "      <td>0</td>\n",
       "      <td>0</td>\n",
       "      <td>24.0</td>\n",
       "      <td>2</td>\n",
       "      <td>224</td>\n",
       "      <td>1</td>\n",
       "      <td>0</td>\n",
       "      <td>0</td>\n",
       "      <td>0</td>\n",
       "    </tr>\n",
       "    <tr>\n",
       "      <th>7</th>\n",
       "      <td>2020-04-01</td>\n",
       "      <td>000058a12d5b43e67d225668fa1f8d618c13dc232df0ca...</td>\n",
       "      <td>0727808001</td>\n",
       "      <td>0</td>\n",
       "      <td>60253</td>\n",
       "      <td>24801</td>\n",
       "      <td>5</td>\n",
       "      <td>0</td>\n",
       "      <td>0</td>\n",
       "      <td>0</td>\n",
       "      <td>0</td>\n",
       "      <td>0</td>\n",
       "      <td>96</td>\n",
       "      <td>3</td>\n",
       "      <td>2</td>\n",
       "      <td>20</td>\n",
       "      <td>9</td>\n",
       "      <td>0.0</td>\n",
       "      <td>0.0</td>\n",
       "      <td>0</td>\n",
       "      <td>0</td>\n",
       "      <td>24.0</td>\n",
       "      <td>2</td>\n",
       "      <td>166</td>\n",
       "      <td>0</td>\n",
       "      <td>1</td>\n",
       "      <td>0</td>\n",
       "      <td>0</td>\n",
       "    </tr>\n",
       "    <tr>\n",
       "      <th>8</th>\n",
       "      <td>2020-04-01</td>\n",
       "      <td>000058a12d5b43e67d225668fa1f8d618c13dc232df0ca...</td>\n",
       "      <td>0727808007</td>\n",
       "      <td>0</td>\n",
       "      <td>60259</td>\n",
       "      <td>24801</td>\n",
       "      <td>5</td>\n",
       "      <td>0</td>\n",
       "      <td>3</td>\n",
       "      <td>5</td>\n",
       "      <td>3</td>\n",
       "      <td>3</td>\n",
       "      <td>96</td>\n",
       "      <td>3</td>\n",
       "      <td>2</td>\n",
       "      <td>20</td>\n",
       "      <td>9</td>\n",
       "      <td>0.0</td>\n",
       "      <td>0.0</td>\n",
       "      <td>0</td>\n",
       "      <td>0</td>\n",
       "      <td>24.0</td>\n",
       "      <td>2</td>\n",
       "      <td>166</td>\n",
       "      <td>0</td>\n",
       "      <td>1</td>\n",
       "      <td>0</td>\n",
       "      <td>0</td>\n",
       "    </tr>\n",
       "  </tbody>\n",
       "</table>\n",
       "</div>"
      ],
      "text/plain": [
       "       t_dat                                        customer_id  article_id  \\\n",
       "3 2020-02-03  000058a12d5b43e67d225668fa1f8d618c13dc232df0ca...  0351484002   \n",
       "4 2020-02-03  000058a12d5b43e67d225668fa1f8d618c13dc232df0ca...  0351484002   \n",
       "6 2020-02-03  000058a12d5b43e67d225668fa1f8d618c13dc232df0ca...  0723529001   \n",
       "7 2020-04-01  000058a12d5b43e67d225668fa1f8d618c13dc232df0ca...  0727808001   \n",
       "8 2020-04-01  000058a12d5b43e67d225668fa1f8d618c13dc232df0ca...  0727808007   \n",
       "\n",
       "   customer_id_idx  article_id_idx  product_code  product_type_no  \\\n",
       "3                0            1469           383               20   \n",
       "4                0            1469           383               20   \n",
       "6                0           59458         24374               19   \n",
       "7                0           60253         24801                5   \n",
       "8                0           60259         24801                5   \n",
       "\n",
       "   product_group_no  graphical_appearance_no  colour_group_code  \\\n",
       "3                10                        0                  0   \n",
       "4                10                        0                  0   \n",
       "6                10                        0                  0   \n",
       "7                 0                        0                  0   \n",
       "8                 0                        3                  5   \n",
       "\n",
       "   perceived_colour_value_id  perceived_colour_master_id  department_no  \\\n",
       "3                          0                           0             21   \n",
       "4                          0                           0             21   \n",
       "6                          0                           0             21   \n",
       "7                          0                           0             96   \n",
       "8                          3                           3             96   \n",
       "\n",
       "   index_code  index_group_no  section_no  garment_group_no   FN  Active  \\\n",
       "3           1               0          14                 8  0.0     0.0   \n",
       "4           1               0          14                 8  0.0     0.0   \n",
       "6           1               0          14                 8  0.0     0.0   \n",
       "7           3               2          20                 9  0.0     0.0   \n",
       "8           3               2          20                 9  0.0     0.0   \n",
       "\n",
       "   club_member_status  fashion_news_frequency   age  postal_code  example_age  \\\n",
       "3                   0                       0  24.0            2          224   \n",
       "4                   0                       0  24.0            2          224   \n",
       "6                   0                       0  24.0            2          224   \n",
       "7                   0                       0  24.0            2          166   \n",
       "8                   0                       0  24.0            2          166   \n",
       "\n",
       "   t_dat_quarter_1  t_dat_quarter_2  t_dat_quarter_3  t_dat_quarter_4  \n",
       "3                1                0                0                0  \n",
       "4                1                0                0                0  \n",
       "6                1                0                0                0  \n",
       "7                0                1                0                0  \n",
       "8                0                1                0                0  "
      ]
     },
     "execution_count": 56,
     "metadata": {},
     "output_type": "execute_result"
    }
   ],
   "source": [
    "train_set.head()"
   ]
  },
  {
   "cell_type": "markdown",
   "id": "f12db8f0",
   "metadata": {
    "id": "154d906c"
   },
   "source": [
    "- Keep distinct purchases only\n",
    "- Discard date, price and channel columns"
   ]
  },
  {
   "cell_type": "code",
   "execution_count": 57,
   "id": "8519d04a",
   "metadata": {
    "colab": {
     "base_uri": "https://localhost:8080/"
    },
    "executionInfo": {
     "elapsed": 13,
     "status": "ok",
     "timestamp": 1649692195785,
     "user": {
      "displayName": "Steven George",
      "userId": "07709250839253394649"
     },
     "user_tz": -60
    },
    "id": "8ed93c5a",
    "outputId": "b94b7ea0-e645-4910-958e-3c02d3d74c5a"
   },
   "outputs": [
    {
     "data": {
      "text/plain": [
       "Timestamp('2020-09-07 00:00:00')"
      ]
     },
     "execution_count": 57,
     "metadata": {},
     "output_type": "execute_result"
    }
   ],
   "source": [
    "endm1"
   ]
  },
  {
   "cell_type": "code",
   "execution_count": 58,
   "id": "a30ebadd",
   "metadata": {
    "executionInfo": {
     "elapsed": 8,
     "status": "ok",
     "timestamp": 1649692195785,
     "user": {
      "displayName": "Steven George",
      "userId": "07709250839253394649"
     },
     "user_tz": -60
    },
    "id": "3b8a57b0"
   },
   "outputs": [],
   "source": [
    "# # Latest transactions only\n",
    "# train_set = train_set.copy()[train_set['t_dat'] > endm1 - datetime.timedelta(days=7*52)]"
   ]
  },
  {
   "cell_type": "code",
   "execution_count": 59,
   "id": "2b9f92db",
   "metadata": {},
   "outputs": [
    {
     "data": {
      "text/plain": [
       "(386503, 28)"
      ]
     },
     "execution_count": 59,
     "metadata": {},
     "output_type": "execute_result"
    }
   ],
   "source": [
    "train_set.shape"
   ]
  },
  {
   "cell_type": "code",
   "execution_count": 60,
   "id": "d64e6008",
   "metadata": {
    "colab": {
     "base_uri": "https://localhost:8080/"
    },
    "executionInfo": {
     "elapsed": 293,
     "status": "ok",
     "timestamp": 1649692196070,
     "user": {
      "displayName": "Steven George",
      "userId": "07709250839253394649"
     },
     "user_tz": -60
    },
    "id": "0eff3e25",
    "outputId": "da317eaa-6289-4609-ed1d-be1b388641dd"
   },
   "outputs": [
    {
     "data": {
      "text/plain": [
       "(386503, 28)"
      ]
     },
     "execution_count": 60,
     "metadata": {},
     "output_type": "execute_result"
    }
   ],
   "source": [
    "# train_set_processed = train_set.copy().drop(columns=['t_dat']).drop_duplicates()\n",
    "train_set_processed = train_set.copy()\n",
    "train_set_processed.shape"
   ]
  },
  {
   "cell_type": "code",
   "execution_count": 61,
   "id": "9e6213ec",
   "metadata": {
    "colab": {
     "base_uri": "https://localhost:8080/",
     "height": 270
    },
    "executionInfo": {
     "elapsed": 5,
     "status": "ok",
     "timestamp": 1649692196070,
     "user": {
      "displayName": "Steven George",
      "userId": "07709250839253394649"
     },
     "user_tz": -60
    },
    "id": "565616fc",
    "outputId": "918c941d-dc6a-484d-dd52-ed62a2e65b58"
   },
   "outputs": [
    {
     "data": {
      "text/html": [
       "<div>\n",
       "<style scoped>\n",
       "    .dataframe tbody tr th:only-of-type {\n",
       "        vertical-align: middle;\n",
       "    }\n",
       "\n",
       "    .dataframe tbody tr th {\n",
       "        vertical-align: top;\n",
       "    }\n",
       "\n",
       "    .dataframe thead th {\n",
       "        text-align: right;\n",
       "    }\n",
       "</style>\n",
       "<table border=\"1\" class=\"dataframe\">\n",
       "  <thead>\n",
       "    <tr style=\"text-align: right;\">\n",
       "      <th></th>\n",
       "      <th>t_dat</th>\n",
       "      <th>customer_id</th>\n",
       "      <th>article_id</th>\n",
       "      <th>customer_id_idx</th>\n",
       "      <th>article_id_idx</th>\n",
       "      <th>product_code</th>\n",
       "      <th>product_type_no</th>\n",
       "      <th>product_group_no</th>\n",
       "      <th>graphical_appearance_no</th>\n",
       "      <th>colour_group_code</th>\n",
       "      <th>perceived_colour_value_id</th>\n",
       "      <th>perceived_colour_master_id</th>\n",
       "      <th>department_no</th>\n",
       "      <th>index_code</th>\n",
       "      <th>index_group_no</th>\n",
       "      <th>section_no</th>\n",
       "      <th>garment_group_no</th>\n",
       "      <th>FN</th>\n",
       "      <th>Active</th>\n",
       "      <th>club_member_status</th>\n",
       "      <th>fashion_news_frequency</th>\n",
       "      <th>age</th>\n",
       "      <th>postal_code</th>\n",
       "      <th>example_age</th>\n",
       "      <th>t_dat_quarter_1</th>\n",
       "      <th>t_dat_quarter_2</th>\n",
       "      <th>t_dat_quarter_3</th>\n",
       "      <th>t_dat_quarter_4</th>\n",
       "    </tr>\n",
       "  </thead>\n",
       "  <tbody>\n",
       "    <tr>\n",
       "      <th>3</th>\n",
       "      <td>2020-02-03</td>\n",
       "      <td>000058a12d5b43e67d225668fa1f8d618c13dc232df0ca...</td>\n",
       "      <td>0351484002</td>\n",
       "      <td>0</td>\n",
       "      <td>1469</td>\n",
       "      <td>383</td>\n",
       "      <td>20</td>\n",
       "      <td>10</td>\n",
       "      <td>0</td>\n",
       "      <td>0</td>\n",
       "      <td>0</td>\n",
       "      <td>0</td>\n",
       "      <td>21</td>\n",
       "      <td>1</td>\n",
       "      <td>0</td>\n",
       "      <td>14</td>\n",
       "      <td>8</td>\n",
       "      <td>0.0</td>\n",
       "      <td>0.0</td>\n",
       "      <td>0</td>\n",
       "      <td>0</td>\n",
       "      <td>24.0</td>\n",
       "      <td>2</td>\n",
       "      <td>224</td>\n",
       "      <td>1</td>\n",
       "      <td>0</td>\n",
       "      <td>0</td>\n",
       "      <td>0</td>\n",
       "    </tr>\n",
       "    <tr>\n",
       "      <th>4</th>\n",
       "      <td>2020-02-03</td>\n",
       "      <td>000058a12d5b43e67d225668fa1f8d618c13dc232df0ca...</td>\n",
       "      <td>0351484002</td>\n",
       "      <td>0</td>\n",
       "      <td>1469</td>\n",
       "      <td>383</td>\n",
       "      <td>20</td>\n",
       "      <td>10</td>\n",
       "      <td>0</td>\n",
       "      <td>0</td>\n",
       "      <td>0</td>\n",
       "      <td>0</td>\n",
       "      <td>21</td>\n",
       "      <td>1</td>\n",
       "      <td>0</td>\n",
       "      <td>14</td>\n",
       "      <td>8</td>\n",
       "      <td>0.0</td>\n",
       "      <td>0.0</td>\n",
       "      <td>0</td>\n",
       "      <td>0</td>\n",
       "      <td>24.0</td>\n",
       "      <td>2</td>\n",
       "      <td>224</td>\n",
       "      <td>1</td>\n",
       "      <td>0</td>\n",
       "      <td>0</td>\n",
       "      <td>0</td>\n",
       "    </tr>\n",
       "    <tr>\n",
       "      <th>6</th>\n",
       "      <td>2020-02-03</td>\n",
       "      <td>000058a12d5b43e67d225668fa1f8d618c13dc232df0ca...</td>\n",
       "      <td>0723529001</td>\n",
       "      <td>0</td>\n",
       "      <td>59458</td>\n",
       "      <td>24374</td>\n",
       "      <td>19</td>\n",
       "      <td>10</td>\n",
       "      <td>0</td>\n",
       "      <td>0</td>\n",
       "      <td>0</td>\n",
       "      <td>0</td>\n",
       "      <td>21</td>\n",
       "      <td>1</td>\n",
       "      <td>0</td>\n",
       "      <td>14</td>\n",
       "      <td>8</td>\n",
       "      <td>0.0</td>\n",
       "      <td>0.0</td>\n",
       "      <td>0</td>\n",
       "      <td>0</td>\n",
       "      <td>24.0</td>\n",
       "      <td>2</td>\n",
       "      <td>224</td>\n",
       "      <td>1</td>\n",
       "      <td>0</td>\n",
       "      <td>0</td>\n",
       "      <td>0</td>\n",
       "    </tr>\n",
       "    <tr>\n",
       "      <th>7</th>\n",
       "      <td>2020-04-01</td>\n",
       "      <td>000058a12d5b43e67d225668fa1f8d618c13dc232df0ca...</td>\n",
       "      <td>0727808001</td>\n",
       "      <td>0</td>\n",
       "      <td>60253</td>\n",
       "      <td>24801</td>\n",
       "      <td>5</td>\n",
       "      <td>0</td>\n",
       "      <td>0</td>\n",
       "      <td>0</td>\n",
       "      <td>0</td>\n",
       "      <td>0</td>\n",
       "      <td>96</td>\n",
       "      <td>3</td>\n",
       "      <td>2</td>\n",
       "      <td>20</td>\n",
       "      <td>9</td>\n",
       "      <td>0.0</td>\n",
       "      <td>0.0</td>\n",
       "      <td>0</td>\n",
       "      <td>0</td>\n",
       "      <td>24.0</td>\n",
       "      <td>2</td>\n",
       "      <td>166</td>\n",
       "      <td>0</td>\n",
       "      <td>1</td>\n",
       "      <td>0</td>\n",
       "      <td>0</td>\n",
       "    </tr>\n",
       "    <tr>\n",
       "      <th>8</th>\n",
       "      <td>2020-04-01</td>\n",
       "      <td>000058a12d5b43e67d225668fa1f8d618c13dc232df0ca...</td>\n",
       "      <td>0727808007</td>\n",
       "      <td>0</td>\n",
       "      <td>60259</td>\n",
       "      <td>24801</td>\n",
       "      <td>5</td>\n",
       "      <td>0</td>\n",
       "      <td>3</td>\n",
       "      <td>5</td>\n",
       "      <td>3</td>\n",
       "      <td>3</td>\n",
       "      <td>96</td>\n",
       "      <td>3</td>\n",
       "      <td>2</td>\n",
       "      <td>20</td>\n",
       "      <td>9</td>\n",
       "      <td>0.0</td>\n",
       "      <td>0.0</td>\n",
       "      <td>0</td>\n",
       "      <td>0</td>\n",
       "      <td>24.0</td>\n",
       "      <td>2</td>\n",
       "      <td>166</td>\n",
       "      <td>0</td>\n",
       "      <td>1</td>\n",
       "      <td>0</td>\n",
       "      <td>0</td>\n",
       "    </tr>\n",
       "  </tbody>\n",
       "</table>\n",
       "</div>"
      ],
      "text/plain": [
       "       t_dat                                        customer_id  article_id  \\\n",
       "3 2020-02-03  000058a12d5b43e67d225668fa1f8d618c13dc232df0ca...  0351484002   \n",
       "4 2020-02-03  000058a12d5b43e67d225668fa1f8d618c13dc232df0ca...  0351484002   \n",
       "6 2020-02-03  000058a12d5b43e67d225668fa1f8d618c13dc232df0ca...  0723529001   \n",
       "7 2020-04-01  000058a12d5b43e67d225668fa1f8d618c13dc232df0ca...  0727808001   \n",
       "8 2020-04-01  000058a12d5b43e67d225668fa1f8d618c13dc232df0ca...  0727808007   \n",
       "\n",
       "   customer_id_idx  article_id_idx  product_code  product_type_no  \\\n",
       "3                0            1469           383               20   \n",
       "4                0            1469           383               20   \n",
       "6                0           59458         24374               19   \n",
       "7                0           60253         24801                5   \n",
       "8                0           60259         24801                5   \n",
       "\n",
       "   product_group_no  graphical_appearance_no  colour_group_code  \\\n",
       "3                10                        0                  0   \n",
       "4                10                        0                  0   \n",
       "6                10                        0                  0   \n",
       "7                 0                        0                  0   \n",
       "8                 0                        3                  5   \n",
       "\n",
       "   perceived_colour_value_id  perceived_colour_master_id  department_no  \\\n",
       "3                          0                           0             21   \n",
       "4                          0                           0             21   \n",
       "6                          0                           0             21   \n",
       "7                          0                           0             96   \n",
       "8                          3                           3             96   \n",
       "\n",
       "   index_code  index_group_no  section_no  garment_group_no   FN  Active  \\\n",
       "3           1               0          14                 8  0.0     0.0   \n",
       "4           1               0          14                 8  0.0     0.0   \n",
       "6           1               0          14                 8  0.0     0.0   \n",
       "7           3               2          20                 9  0.0     0.0   \n",
       "8           3               2          20                 9  0.0     0.0   \n",
       "\n",
       "   club_member_status  fashion_news_frequency   age  postal_code  example_age  \\\n",
       "3                   0                       0  24.0            2          224   \n",
       "4                   0                       0  24.0            2          224   \n",
       "6                   0                       0  24.0            2          224   \n",
       "7                   0                       0  24.0            2          166   \n",
       "8                   0                       0  24.0            2          166   \n",
       "\n",
       "   t_dat_quarter_1  t_dat_quarter_2  t_dat_quarter_3  t_dat_quarter_4  \n",
       "3                1                0                0                0  \n",
       "4                1                0                0                0  \n",
       "6                1                0                0                0  \n",
       "7                0                1                0                0  \n",
       "8                0                1                0                0  "
      ]
     },
     "execution_count": 61,
     "metadata": {},
     "output_type": "execute_result"
    }
   ],
   "source": [
    "train_set_processed.head()"
   ]
  },
  {
   "cell_type": "markdown",
   "id": "d194b1e4",
   "metadata": {
    "id": "7d1bce11"
   },
   "source": [
    "For each customer sample up to X non-purchased items to use as negative samples"
   ]
  },
  {
   "cell_type": "code",
   "execution_count": 63,
   "id": "68a81cf7",
   "metadata": {},
   "outputs": [
    {
     "data": {
      "text/plain": [
       "(9052, 2)"
      ]
     },
     "execution_count": 63,
     "metadata": {},
     "output_type": "execute_result"
    }
   ],
   "source": [
    "train_set.copy().drop(columns=['t_dat']).drop_duplicates().groupby(['customer_id_idx'])['article_id_idx'].apply(lambda x: list(x)).reset_index().shape"
   ]
  },
  {
   "cell_type": "code",
   "execution_count": 64,
   "id": "be679097",
   "metadata": {
    "colab": {
     "base_uri": "https://localhost:8080/",
     "height": 206
    },
    "executionInfo": {
     "elapsed": 213,
     "status": "ok",
     "timestamp": 1649692196279,
     "user": {
      "displayName": "Steven George",
      "userId": "07709250839253394649"
     },
     "user_tz": -60
    },
    "id": "e6fef542",
    "outputId": "ddfc261f-2772-41ec-8ba9-3dc2d46d9310"
   },
   "outputs": [
    {
     "name": "stdout",
     "output_type": "stream",
     "text": [
      "(132850, 3)\n"
     ]
    },
    {
     "data": {
      "text/html": [
       "<div>\n",
       "<style scoped>\n",
       "    .dataframe tbody tr th:only-of-type {\n",
       "        vertical-align: middle;\n",
       "    }\n",
       "\n",
       "    .dataframe tbody tr th {\n",
       "        vertical-align: top;\n",
       "    }\n",
       "\n",
       "    .dataframe thead th {\n",
       "        text-align: right;\n",
       "    }\n",
       "</style>\n",
       "<table border=\"1\" class=\"dataframe\">\n",
       "  <thead>\n",
       "    <tr style=\"text-align: right;\">\n",
       "      <th></th>\n",
       "      <th>customer_id_idx</th>\n",
       "      <th>t_dat</th>\n",
       "      <th>article_id_idx</th>\n",
       "    </tr>\n",
       "  </thead>\n",
       "  <tbody>\n",
       "    <tr>\n",
       "      <th>0</th>\n",
       "      <td>0</td>\n",
       "      <td>2020-02-03</td>\n",
       "      <td>[1469, 1469, 59458]</td>\n",
       "    </tr>\n",
       "    <tr>\n",
       "      <th>1</th>\n",
       "      <td>0</td>\n",
       "      <td>2020-04-01</td>\n",
       "      <td>[60253, 60259]</td>\n",
       "    </tr>\n",
       "    <tr>\n",
       "      <th>2</th>\n",
       "      <td>0</td>\n",
       "      <td>2020-04-18</td>\n",
       "      <td>[91841, 93585, 92158, 92159, 67274, 67274, 963...</td>\n",
       "    </tr>\n",
       "    <tr>\n",
       "      <th>3</th>\n",
       "      <td>1</td>\n",
       "      <td>2019-05-25</td>\n",
       "      <td>[15137, 74821]</td>\n",
       "    </tr>\n",
       "    <tr>\n",
       "      <th>4</th>\n",
       "      <td>1</td>\n",
       "      <td>2019-06-06</td>\n",
       "      <td>[50471]</td>\n",
       "    </tr>\n",
       "  </tbody>\n",
       "</table>\n",
       "</div>"
      ],
      "text/plain": [
       "   customer_id_idx      t_dat  \\\n",
       "0                0 2020-02-03   \n",
       "1                0 2020-04-01   \n",
       "2                0 2020-04-18   \n",
       "3                1 2019-05-25   \n",
       "4                1 2019-06-06   \n",
       "\n",
       "                                      article_id_idx  \n",
       "0                                [1469, 1469, 59458]  \n",
       "1                                     [60253, 60259]  \n",
       "2  [91841, 93585, 92158, 92159, 67274, 67274, 963...  \n",
       "3                                     [15137, 74821]  \n",
       "4                                            [50471]  "
      ]
     },
     "execution_count": 64,
     "metadata": {},
     "output_type": "execute_result"
    }
   ],
   "source": [
    "purchases_by_customer_id_idx = train_set_processed.groupby(['customer_id_idx', 't_dat'])['article_id_idx'].apply(lambda x: list(x)).reset_index()\n",
    "print(purchases_by_customer_id_idx.shape)\n",
    "purchases_by_customer_id_idx.head()"
   ]
  },
  {
   "cell_type": "code",
   "execution_count": 66,
   "id": "d91d8ef7",
   "metadata": {},
   "outputs": [],
   "source": [
    "purchases_by_customer_id_idx = purchases_by_customer_id_idx.groupby('customer_id_idx').sample(n=1)"
   ]
  },
  {
   "cell_type": "code",
   "execution_count": 67,
   "id": "666b43d9",
   "metadata": {
    "executionInfo": {
     "elapsed": 317,
     "status": "ok",
     "timestamp": 1649692196593,
     "user": {
      "displayName": "Steven George",
      "userId": "07709250839253394649"
     },
     "user_tz": -60
    },
    "id": "a5609a29"
   },
   "outputs": [],
   "source": [
    "def negative_samples(excl):\n",
    "    # samples = set(np.random.choice(len(article_id_to_idx), replace=False, size=1000))\n",
    "    samples = set(np.random.choice(article_id_idx_to_keep, replace=False, size=1000))\n",
    "    neg_samples = samples - set(excl)\n",
    "    return list(neg_samples)"
   ]
  },
  {
   "cell_type": "code",
   "execution_count": 68,
   "id": "f5384b0d",
   "metadata": {
    "executionInfo": {
     "elapsed": 4,
     "status": "ok",
     "timestamp": 1649692196593,
     "user": {
      "displayName": "Steven George",
      "userId": "07709250839253394649"
     },
     "user_tz": -60
    },
    "id": "43746297"
   },
   "outputs": [],
   "source": [
    "# negative_samples(purchases_by_customer_id_idx.iloc[0]['article_id_idx'])"
   ]
  },
  {
   "cell_type": "code",
   "execution_count": 69,
   "id": "0f530fcc",
   "metadata": {
    "colab": {
     "base_uri": "https://localhost:8080/"
    },
    "executionInfo": {
     "elapsed": 6381,
     "status": "ok",
     "timestamp": 1649692202971,
     "user": {
      "displayName": "Steven George",
      "userId": "07709250839253394649"
     },
     "user_tz": -60
    },
    "id": "29928fce",
    "outputId": "f97cce79-9796-4428-f82a-d89d37a6933e"
   },
   "outputs": [
    {
     "name": "stdout",
     "output_type": "stream",
     "text": [
      "CPU times: user 4.6 s, sys: 99.1 ms, total: 4.7 s\n",
      "Wall time: 4.7 s\n"
     ]
    }
   ],
   "source": [
    "%%time\n",
    "purchases_by_customer_id_idx['negative_samples'] = purchases_by_customer_id_idx['article_id_idx'].apply(negative_samples)"
   ]
  },
  {
   "cell_type": "code",
   "execution_count": 70,
   "id": "5b68b976",
   "metadata": {
    "colab": {
     "base_uri": "https://localhost:8080/",
     "height": 206
    },
    "executionInfo": {
     "elapsed": 21,
     "status": "ok",
     "timestamp": 1649692202971,
     "user": {
      "displayName": "Steven George",
      "userId": "07709250839253394649"
     },
     "user_tz": -60
    },
    "id": "8375ea07",
    "outputId": "2ce5e34e-14fd-4226-9c94-501e8c92b8f7"
   },
   "outputs": [
    {
     "data": {
      "text/html": [
       "<div>\n",
       "<style scoped>\n",
       "    .dataframe tbody tr th:only-of-type {\n",
       "        vertical-align: middle;\n",
       "    }\n",
       "\n",
       "    .dataframe tbody tr th {\n",
       "        vertical-align: top;\n",
       "    }\n",
       "\n",
       "    .dataframe thead th {\n",
       "        text-align: right;\n",
       "    }\n",
       "</style>\n",
       "<table border=\"1\" class=\"dataframe\">\n",
       "  <thead>\n",
       "    <tr style=\"text-align: right;\">\n",
       "      <th></th>\n",
       "      <th>customer_id_idx</th>\n",
       "      <th>t_dat</th>\n",
       "      <th>article_id_idx</th>\n",
       "      <th>negative_samples</th>\n",
       "    </tr>\n",
       "  </thead>\n",
       "  <tbody>\n",
       "    <tr>\n",
       "      <th>0</th>\n",
       "      <td>0</td>\n",
       "      <td>2020-02-03</td>\n",
       "      <td>[1469, 1469, 59458]</td>\n",
       "      <td>[77826, 63491, 94210, 102411, 94231, 8216, 839...</td>\n",
       "    </tr>\n",
       "    <tr>\n",
       "      <th>20</th>\n",
       "      <td>1</td>\n",
       "      <td>2020-09-04</td>\n",
       "      <td>[105108]</td>\n",
       "      <td>[32772, 65545, 83978, 100364, 96268, 59404, 94...</td>\n",
       "    </tr>\n",
       "    <tr>\n",
       "      <th>22</th>\n",
       "      <td>2</td>\n",
       "      <td>2018-12-05</td>\n",
       "      <td>[176, 44368]</td>\n",
       "      <td>[92160, 81925, 67591, 98311, 100362, 79883, 86...</td>\n",
       "    </tr>\n",
       "    <tr>\n",
       "      <th>51</th>\n",
       "      <td>3</td>\n",
       "      <td>2019-04-23</td>\n",
       "      <td>[20062, 22711, 22711]</td>\n",
       "      <td>[10243, 67588, 59398, 102413, 69650, 43027, 96...</td>\n",
       "    </tr>\n",
       "    <tr>\n",
       "      <th>75</th>\n",
       "      <td>4</td>\n",
       "      <td>2019-11-08</td>\n",
       "      <td>[64855, 86490]</td>\n",
       "      <td>[100352, 67584, 100354, 88066, 92164, 67589, 6...</td>\n",
       "    </tr>\n",
       "  </tbody>\n",
       "</table>\n",
       "</div>"
      ],
      "text/plain": [
       "    customer_id_idx      t_dat         article_id_idx  \\\n",
       "0                 0 2020-02-03    [1469, 1469, 59458]   \n",
       "20                1 2020-09-04               [105108]   \n",
       "22                2 2018-12-05           [176, 44368]   \n",
       "51                3 2019-04-23  [20062, 22711, 22711]   \n",
       "75                4 2019-11-08         [64855, 86490]   \n",
       "\n",
       "                                     negative_samples  \n",
       "0   [77826, 63491, 94210, 102411, 94231, 8216, 839...  \n",
       "20  [32772, 65545, 83978, 100364, 96268, 59404, 94...  \n",
       "22  [92160, 81925, 67591, 98311, 100362, 79883, 86...  \n",
       "51  [10243, 67588, 59398, 102413, 69650, 43027, 96...  \n",
       "75  [100352, 67584, 100354, 88066, 92164, 67589, 6...  "
      ]
     },
     "execution_count": 70,
     "metadata": {},
     "output_type": "execute_result"
    }
   ],
   "source": [
    "purchases_by_customer_id_idx.head()"
   ]
  },
  {
   "cell_type": "code",
   "execution_count": 71,
   "id": "bd1e10c1",
   "metadata": {
    "colab": {
     "base_uri": "https://localhost:8080/"
    },
    "executionInfo": {
     "elapsed": 20,
     "status": "ok",
     "timestamp": 1649692202972,
     "user": {
      "displayName": "Steven George",
      "userId": "07709250839253394649"
     },
     "user_tz": -60
    },
    "id": "5c0ef608",
    "outputId": "34cbc55c-a251-47b2-9c77-326d059d101a"
   },
   "outputs": [
    {
     "data": {
      "text/plain": [
       "1000    8220\n",
       "999      780\n",
       "998       46\n",
       "997        6\n",
       "Name: negative_samples, dtype: int64"
      ]
     },
     "execution_count": 71,
     "metadata": {},
     "output_type": "execute_result"
    }
   ],
   "source": [
    "purchases_by_customer_id_idx['negative_samples'].apply(len).value_counts()"
   ]
  },
  {
   "cell_type": "code",
   "execution_count": 72,
   "id": "87fde861",
   "metadata": {
    "colab": {
     "base_uri": "https://localhost:8080/",
     "height": 206
    },
    "executionInfo": {
     "elapsed": 1023,
     "status": "ok",
     "timestamp": 1649692203980,
     "user": {
      "displayName": "Steven George",
      "userId": "07709250839253394649"
     },
     "user_tz": -60
    },
    "id": "73858ce2",
    "outputId": "6a489f20-cb84-40c5-89a7-b2772a4bf7a2"
   },
   "outputs": [
    {
     "data": {
      "text/html": [
       "<div>\n",
       "<style scoped>\n",
       "    .dataframe tbody tr th:only-of-type {\n",
       "        vertical-align: middle;\n",
       "    }\n",
       "\n",
       "    .dataframe tbody tr th {\n",
       "        vertical-align: top;\n",
       "    }\n",
       "\n",
       "    .dataframe thead th {\n",
       "        text-align: right;\n",
       "    }\n",
       "</style>\n",
       "<table border=\"1\" class=\"dataframe\">\n",
       "  <thead>\n",
       "    <tr style=\"text-align: right;\">\n",
       "      <th></th>\n",
       "      <th>customer_id_idx</th>\n",
       "      <th>t_dat</th>\n",
       "      <th>negative_samples</th>\n",
       "    </tr>\n",
       "  </thead>\n",
       "  <tbody>\n",
       "    <tr>\n",
       "      <th>0</th>\n",
       "      <td>0</td>\n",
       "      <td>2020-02-03</td>\n",
       "      <td>77826</td>\n",
       "    </tr>\n",
       "    <tr>\n",
       "      <th>0</th>\n",
       "      <td>0</td>\n",
       "      <td>2020-02-03</td>\n",
       "      <td>63491</td>\n",
       "    </tr>\n",
       "    <tr>\n",
       "      <th>0</th>\n",
       "      <td>0</td>\n",
       "      <td>2020-02-03</td>\n",
       "      <td>94210</td>\n",
       "    </tr>\n",
       "    <tr>\n",
       "      <th>0</th>\n",
       "      <td>0</td>\n",
       "      <td>2020-02-03</td>\n",
       "      <td>102411</td>\n",
       "    </tr>\n",
       "    <tr>\n",
       "      <th>0</th>\n",
       "      <td>0</td>\n",
       "      <td>2020-02-03</td>\n",
       "      <td>94231</td>\n",
       "    </tr>\n",
       "  </tbody>\n",
       "</table>\n",
       "</div>"
      ],
      "text/plain": [
       "   customer_id_idx      t_dat negative_samples\n",
       "0                0 2020-02-03            77826\n",
       "0                0 2020-02-03            63491\n",
       "0                0 2020-02-03            94210\n",
       "0                0 2020-02-03           102411\n",
       "0                0 2020-02-03            94231"
      ]
     },
     "execution_count": 72,
     "metadata": {},
     "output_type": "execute_result"
    }
   ],
   "source": [
    "negative_samples_df = purchases_by_customer_id_idx[['customer_id_idx', 't_dat', 'negative_samples']].explode('negative_samples')\n",
    "negative_samples_df.head()"
   ]
  },
  {
   "cell_type": "code",
   "execution_count": 73,
   "id": "50da814e",
   "metadata": {
    "colab": {
     "base_uri": "https://localhost:8080/"
    },
    "executionInfo": {
     "elapsed": 837,
     "status": "ok",
     "timestamp": 1649692204814,
     "user": {
      "displayName": "Steven George",
      "userId": "07709250839253394649"
     },
     "user_tz": -60
    },
    "id": "ac21f96c",
    "outputId": "a72d5cb3-c97e-4835-d038-caa7c5363a79"
   },
   "outputs": [
    {
     "data": {
      "text/plain": [
       "customer_id_idx     0\n",
       "t_dat               0\n",
       "negative_samples    0\n",
       "dtype: int64"
      ]
     },
     "execution_count": 73,
     "metadata": {},
     "output_type": "execute_result"
    }
   ],
   "source": [
    "negative_samples_df.isnull().sum()"
   ]
  },
  {
   "cell_type": "code",
   "execution_count": 74,
   "id": "1b2e1a2d",
   "metadata": {
    "executionInfo": {
     "elapsed": 822,
     "status": "ok",
     "timestamp": 1649692205633,
     "user": {
      "displayName": "Steven George",
      "userId": "07709250839253394649"
     },
     "user_tz": -60
    },
    "id": "2ade36df"
   },
   "outputs": [],
   "source": [
    "negative_samples_df.dropna(subset=['negative_samples'], inplace=True)"
   ]
  },
  {
   "cell_type": "code",
   "execution_count": 75,
   "id": "245d94c7",
   "metadata": {
    "executionInfo": {
     "elapsed": 10,
     "status": "ok",
     "timestamp": 1649692205634,
     "user": {
      "displayName": "Steven George",
      "userId": "07709250839253394649"
     },
     "user_tz": -60
    },
    "id": "ece3b968"
   },
   "outputs": [],
   "source": [
    "negative_samples_df.rename(columns={'negative_samples': 'article_id_idx'}, inplace=True)\n",
    "negative_samples_df['purchased'] = 0"
   ]
  },
  {
   "cell_type": "code",
   "execution_count": 76,
   "id": "da5010f0",
   "metadata": {
    "colab": {
     "base_uri": "https://localhost:8080/",
     "height": 224
    },
    "executionInfo": {
     "elapsed": 9,
     "status": "ok",
     "timestamp": 1649692205634,
     "user": {
      "displayName": "Steven George",
      "userId": "07709250839253394649"
     },
     "user_tz": -60
    },
    "id": "2609a2df",
    "outputId": "49adcc13-c59d-4e3e-dcbd-f10a9ce0f6af"
   },
   "outputs": [
    {
     "name": "stdout",
     "output_type": "stream",
     "text": [
      "(9051110, 4)\n"
     ]
    },
    {
     "data": {
      "text/html": [
       "<div>\n",
       "<style scoped>\n",
       "    .dataframe tbody tr th:only-of-type {\n",
       "        vertical-align: middle;\n",
       "    }\n",
       "\n",
       "    .dataframe tbody tr th {\n",
       "        vertical-align: top;\n",
       "    }\n",
       "\n",
       "    .dataframe thead th {\n",
       "        text-align: right;\n",
       "    }\n",
       "</style>\n",
       "<table border=\"1\" class=\"dataframe\">\n",
       "  <thead>\n",
       "    <tr style=\"text-align: right;\">\n",
       "      <th></th>\n",
       "      <th>customer_id_idx</th>\n",
       "      <th>t_dat</th>\n",
       "      <th>article_id_idx</th>\n",
       "      <th>purchased</th>\n",
       "    </tr>\n",
       "  </thead>\n",
       "  <tbody>\n",
       "    <tr>\n",
       "      <th>0</th>\n",
       "      <td>0</td>\n",
       "      <td>2020-02-03</td>\n",
       "      <td>77826</td>\n",
       "      <td>0</td>\n",
       "    </tr>\n",
       "    <tr>\n",
       "      <th>0</th>\n",
       "      <td>0</td>\n",
       "      <td>2020-02-03</td>\n",
       "      <td>63491</td>\n",
       "      <td>0</td>\n",
       "    </tr>\n",
       "    <tr>\n",
       "      <th>0</th>\n",
       "      <td>0</td>\n",
       "      <td>2020-02-03</td>\n",
       "      <td>94210</td>\n",
       "      <td>0</td>\n",
       "    </tr>\n",
       "    <tr>\n",
       "      <th>0</th>\n",
       "      <td>0</td>\n",
       "      <td>2020-02-03</td>\n",
       "      <td>102411</td>\n",
       "      <td>0</td>\n",
       "    </tr>\n",
       "    <tr>\n",
       "      <th>0</th>\n",
       "      <td>0</td>\n",
       "      <td>2020-02-03</td>\n",
       "      <td>94231</td>\n",
       "      <td>0</td>\n",
       "    </tr>\n",
       "  </tbody>\n",
       "</table>\n",
       "</div>"
      ],
      "text/plain": [
       "   customer_id_idx      t_dat article_id_idx  purchased\n",
       "0                0 2020-02-03          77826          0\n",
       "0                0 2020-02-03          63491          0\n",
       "0                0 2020-02-03          94210          0\n",
       "0                0 2020-02-03         102411          0\n",
       "0                0 2020-02-03          94231          0"
      ]
     },
     "execution_count": 76,
     "metadata": {},
     "output_type": "execute_result"
    }
   ],
   "source": [
    "print(negative_samples_df.shape)\n",
    "negative_samples_df.head()"
   ]
  },
  {
   "cell_type": "code",
   "execution_count": 77,
   "id": "cad9d59e",
   "metadata": {
    "colab": {
     "base_uri": "https://localhost:8080/",
     "height": 288
    },
    "executionInfo": {
     "elapsed": 6506,
     "status": "ok",
     "timestamp": 1649692212135,
     "user": {
      "displayName": "Steven George",
      "userId": "07709250839253394649"
     },
     "user_tz": -60
    },
    "id": "1d4a9ce5",
    "outputId": "b48ddf60-abc5-40ba-85d4-0f106740c453"
   },
   "outputs": [
    {
     "name": "stdout",
     "output_type": "stream",
     "text": [
      "(9051110, 22)\n"
     ]
    },
    {
     "data": {
      "text/html": [
       "<div>\n",
       "<style scoped>\n",
       "    .dataframe tbody tr th:only-of-type {\n",
       "        vertical-align: middle;\n",
       "    }\n",
       "\n",
       "    .dataframe tbody tr th {\n",
       "        vertical-align: top;\n",
       "    }\n",
       "\n",
       "    .dataframe thead th {\n",
       "        text-align: right;\n",
       "    }\n",
       "</style>\n",
       "<table border=\"1\" class=\"dataframe\">\n",
       "  <thead>\n",
       "    <tr style=\"text-align: right;\">\n",
       "      <th></th>\n",
       "      <th>customer_id_idx</th>\n",
       "      <th>t_dat</th>\n",
       "      <th>article_id_idx</th>\n",
       "      <th>purchased</th>\n",
       "      <th>product_code</th>\n",
       "      <th>product_type_no</th>\n",
       "      <th>product_group_no</th>\n",
       "      <th>graphical_appearance_no</th>\n",
       "      <th>colour_group_code</th>\n",
       "      <th>perceived_colour_value_id</th>\n",
       "      <th>perceived_colour_master_id</th>\n",
       "      <th>department_no</th>\n",
       "      <th>index_code</th>\n",
       "      <th>index_group_no</th>\n",
       "      <th>section_no</th>\n",
       "      <th>garment_group_no</th>\n",
       "      <th>FN</th>\n",
       "      <th>Active</th>\n",
       "      <th>club_member_status</th>\n",
       "      <th>fashion_news_frequency</th>\n",
       "      <th>age</th>\n",
       "      <th>postal_code</th>\n",
       "    </tr>\n",
       "  </thead>\n",
       "  <tbody>\n",
       "    <tr>\n",
       "      <th>0</th>\n",
       "      <td>0</td>\n",
       "      <td>2020-02-03</td>\n",
       "      <td>77826</td>\n",
       "      <td>0</td>\n",
       "      <td>32713</td>\n",
       "      <td>24</td>\n",
       "      <td>0</td>\n",
       "      <td>2</td>\n",
       "      <td>7</td>\n",
       "      <td>2</td>\n",
       "      <td>3</td>\n",
       "      <td>177</td>\n",
       "      <td>6</td>\n",
       "      <td>1</td>\n",
       "      <td>8</td>\n",
       "      <td>3</td>\n",
       "      <td>0.0</td>\n",
       "      <td>0.0</td>\n",
       "      <td>0</td>\n",
       "      <td>0</td>\n",
       "      <td>24.0</td>\n",
       "      <td>2</td>\n",
       "    </tr>\n",
       "    <tr>\n",
       "      <th>1</th>\n",
       "      <td>0</td>\n",
       "      <td>2020-02-03</td>\n",
       "      <td>63491</td>\n",
       "      <td>0</td>\n",
       "      <td>26244</td>\n",
       "      <td>1</td>\n",
       "      <td>1</td>\n",
       "      <td>0</td>\n",
       "      <td>0</td>\n",
       "      <td>0</td>\n",
       "      <td>0</td>\n",
       "      <td>4</td>\n",
       "      <td>1</td>\n",
       "      <td>0</td>\n",
       "      <td>1</td>\n",
       "      <td>1</td>\n",
       "      <td>0.0</td>\n",
       "      <td>0.0</td>\n",
       "      <td>0</td>\n",
       "      <td>0</td>\n",
       "      <td>24.0</td>\n",
       "      <td>2</td>\n",
       "    </tr>\n",
       "    <tr>\n",
       "      <th>2</th>\n",
       "      <td>0</td>\n",
       "      <td>2020-02-03</td>\n",
       "      <td>94210</td>\n",
       "      <td>0</td>\n",
       "      <td>40786</td>\n",
       "      <td>28</td>\n",
       "      <td>3</td>\n",
       "      <td>0</td>\n",
       "      <td>22</td>\n",
       "      <td>0</td>\n",
       "      <td>14</td>\n",
       "      <td>171</td>\n",
       "      <td>0</td>\n",
       "      <td>0</td>\n",
       "      <td>39</td>\n",
       "      <td>13</td>\n",
       "      <td>0.0</td>\n",
       "      <td>0.0</td>\n",
       "      <td>0</td>\n",
       "      <td>0</td>\n",
       "      <td>24.0</td>\n",
       "      <td>2</td>\n",
       "    </tr>\n",
       "    <tr>\n",
       "      <th>3</th>\n",
       "      <td>0</td>\n",
       "      <td>2020-02-03</td>\n",
       "      <td>102411</td>\n",
       "      <td>0</td>\n",
       "      <td>45151</td>\n",
       "      <td>5</td>\n",
       "      <td>0</td>\n",
       "      <td>10</td>\n",
       "      <td>2</td>\n",
       "      <td>2</td>\n",
       "      <td>1</td>\n",
       "      <td>227</td>\n",
       "      <td>0</td>\n",
       "      <td>0</td>\n",
       "      <td>32</td>\n",
       "      <td>9</td>\n",
       "      <td>0.0</td>\n",
       "      <td>0.0</td>\n",
       "      <td>0</td>\n",
       "      <td>0</td>\n",
       "      <td>24.0</td>\n",
       "      <td>2</td>\n",
       "    </tr>\n",
       "    <tr>\n",
       "      <th>4</th>\n",
       "      <td>0</td>\n",
       "      <td>2020-02-03</td>\n",
       "      <td>94231</td>\n",
       "      <td>0</td>\n",
       "      <td>40799</td>\n",
       "      <td>24</td>\n",
       "      <td>0</td>\n",
       "      <td>2</td>\n",
       "      <td>16</td>\n",
       "      <td>2</td>\n",
       "      <td>5</td>\n",
       "      <td>112</td>\n",
       "      <td>7</td>\n",
       "      <td>4</td>\n",
       "      <td>33</td>\n",
       "      <td>3</td>\n",
       "      <td>0.0</td>\n",
       "      <td>0.0</td>\n",
       "      <td>0</td>\n",
       "      <td>0</td>\n",
       "      <td>24.0</td>\n",
       "      <td>2</td>\n",
       "    </tr>\n",
       "  </tbody>\n",
       "</table>\n",
       "</div>"
      ],
      "text/plain": [
       "   customer_id_idx      t_dat article_id_idx  purchased  product_code  \\\n",
       "0                0 2020-02-03          77826          0         32713   \n",
       "1                0 2020-02-03          63491          0         26244   \n",
       "2                0 2020-02-03          94210          0         40786   \n",
       "3                0 2020-02-03         102411          0         45151   \n",
       "4                0 2020-02-03          94231          0         40799   \n",
       "\n",
       "   product_type_no  product_group_no  graphical_appearance_no  \\\n",
       "0               24                 0                        2   \n",
       "1                1                 1                        0   \n",
       "2               28                 3                        0   \n",
       "3                5                 0                       10   \n",
       "4               24                 0                        2   \n",
       "\n",
       "   colour_group_code  perceived_colour_value_id  perceived_colour_master_id  \\\n",
       "0                  7                          2                           3   \n",
       "1                  0                          0                           0   \n",
       "2                 22                          0                          14   \n",
       "3                  2                          2                           1   \n",
       "4                 16                          2                           5   \n",
       "\n",
       "   department_no  index_code  index_group_no  section_no  garment_group_no  \\\n",
       "0            177           6               1           8                 3   \n",
       "1              4           1               0           1                 1   \n",
       "2            171           0               0          39                13   \n",
       "3            227           0               0          32                 9   \n",
       "4            112           7               4          33                 3   \n",
       "\n",
       "    FN  Active  club_member_status  fashion_news_frequency   age  postal_code  \n",
       "0  0.0     0.0                   0                       0  24.0            2  \n",
       "1  0.0     0.0                   0                       0  24.0            2  \n",
       "2  0.0     0.0                   0                       0  24.0            2  \n",
       "3  0.0     0.0                   0                       0  24.0            2  \n",
       "4  0.0     0.0                   0                       0  24.0            2  "
      ]
     },
     "execution_count": 77,
     "metadata": {},
     "output_type": "execute_result"
    }
   ],
   "source": [
    "negative_samples_df = negative_samples_df.merge(articles_df[['article_id_idx'] + CATEGORICAL_FEATURES], on='article_id_idx')\n",
    "negative_samples_df = negative_samples_df.merge(\n",
    "    customers.drop(columns='customer_id'),\n",
    "    on='customer_id_idx'\n",
    ")\n",
    "print(negative_samples_df.shape)\n",
    "negative_samples_df.head()"
   ]
  },
  {
   "cell_type": "code",
   "execution_count": 78,
   "id": "3a0b1257",
   "metadata": {},
   "outputs": [],
   "source": [
    "negative_samples_df['example_age'] = (end - negative_samples_df['t_dat']).dt.days"
   ]
  },
  {
   "cell_type": "code",
   "execution_count": 79,
   "id": "45809101",
   "metadata": {},
   "outputs": [],
   "source": [
    "negative_samples_df['t_dat_quarter'] = negative_samples_df['t_dat'].dt.quarter"
   ]
  },
  {
   "cell_type": "code",
   "execution_count": 80,
   "id": "be7162d1",
   "metadata": {},
   "outputs": [],
   "source": [
    "negative_samples_df = pd.get_dummies(negative_samples_df, columns=['t_dat_quarter'])"
   ]
  },
  {
   "cell_type": "code",
   "execution_count": 82,
   "id": "08ae75bc",
   "metadata": {},
   "outputs": [],
   "source": [
    "negative_samples_df.drop(columns=['t_dat'], inplace=True)"
   ]
  },
  {
   "cell_type": "code",
   "execution_count": 83,
   "id": "6f147380",
   "metadata": {},
   "outputs": [
    {
     "name": "stdout",
     "output_type": "stream",
     "text": [
      "(9051110, 26)\n"
     ]
    },
    {
     "data": {
      "text/html": [
       "<div>\n",
       "<style scoped>\n",
       "    .dataframe tbody tr th:only-of-type {\n",
       "        vertical-align: middle;\n",
       "    }\n",
       "\n",
       "    .dataframe tbody tr th {\n",
       "        vertical-align: top;\n",
       "    }\n",
       "\n",
       "    .dataframe thead th {\n",
       "        text-align: right;\n",
       "    }\n",
       "</style>\n",
       "<table border=\"1\" class=\"dataframe\">\n",
       "  <thead>\n",
       "    <tr style=\"text-align: right;\">\n",
       "      <th></th>\n",
       "      <th>customer_id_idx</th>\n",
       "      <th>article_id_idx</th>\n",
       "      <th>purchased</th>\n",
       "      <th>product_code</th>\n",
       "      <th>product_type_no</th>\n",
       "      <th>product_group_no</th>\n",
       "      <th>graphical_appearance_no</th>\n",
       "      <th>colour_group_code</th>\n",
       "      <th>perceived_colour_value_id</th>\n",
       "      <th>perceived_colour_master_id</th>\n",
       "      <th>department_no</th>\n",
       "      <th>index_code</th>\n",
       "      <th>index_group_no</th>\n",
       "      <th>section_no</th>\n",
       "      <th>garment_group_no</th>\n",
       "      <th>FN</th>\n",
       "      <th>Active</th>\n",
       "      <th>club_member_status</th>\n",
       "      <th>fashion_news_frequency</th>\n",
       "      <th>age</th>\n",
       "      <th>postal_code</th>\n",
       "      <th>example_age</th>\n",
       "      <th>t_dat_quarter_1</th>\n",
       "      <th>t_dat_quarter_2</th>\n",
       "      <th>t_dat_quarter_3</th>\n",
       "      <th>t_dat_quarter_4</th>\n",
       "    </tr>\n",
       "  </thead>\n",
       "  <tbody>\n",
       "    <tr>\n",
       "      <th>0</th>\n",
       "      <td>0</td>\n",
       "      <td>77826</td>\n",
       "      <td>0</td>\n",
       "      <td>32713</td>\n",
       "      <td>24</td>\n",
       "      <td>0</td>\n",
       "      <td>2</td>\n",
       "      <td>7</td>\n",
       "      <td>2</td>\n",
       "      <td>3</td>\n",
       "      <td>177</td>\n",
       "      <td>6</td>\n",
       "      <td>1</td>\n",
       "      <td>8</td>\n",
       "      <td>3</td>\n",
       "      <td>0.0</td>\n",
       "      <td>0.0</td>\n",
       "      <td>0</td>\n",
       "      <td>0</td>\n",
       "      <td>24.0</td>\n",
       "      <td>2</td>\n",
       "      <td>224</td>\n",
       "      <td>1</td>\n",
       "      <td>0</td>\n",
       "      <td>0</td>\n",
       "      <td>0</td>\n",
       "    </tr>\n",
       "    <tr>\n",
       "      <th>1</th>\n",
       "      <td>0</td>\n",
       "      <td>63491</td>\n",
       "      <td>0</td>\n",
       "      <td>26244</td>\n",
       "      <td>1</td>\n",
       "      <td>1</td>\n",
       "      <td>0</td>\n",
       "      <td>0</td>\n",
       "      <td>0</td>\n",
       "      <td>0</td>\n",
       "      <td>4</td>\n",
       "      <td>1</td>\n",
       "      <td>0</td>\n",
       "      <td>1</td>\n",
       "      <td>1</td>\n",
       "      <td>0.0</td>\n",
       "      <td>0.0</td>\n",
       "      <td>0</td>\n",
       "      <td>0</td>\n",
       "      <td>24.0</td>\n",
       "      <td>2</td>\n",
       "      <td>224</td>\n",
       "      <td>1</td>\n",
       "      <td>0</td>\n",
       "      <td>0</td>\n",
       "      <td>0</td>\n",
       "    </tr>\n",
       "    <tr>\n",
       "      <th>2</th>\n",
       "      <td>0</td>\n",
       "      <td>94210</td>\n",
       "      <td>0</td>\n",
       "      <td>40786</td>\n",
       "      <td>28</td>\n",
       "      <td>3</td>\n",
       "      <td>0</td>\n",
       "      <td>22</td>\n",
       "      <td>0</td>\n",
       "      <td>14</td>\n",
       "      <td>171</td>\n",
       "      <td>0</td>\n",
       "      <td>0</td>\n",
       "      <td>39</td>\n",
       "      <td>13</td>\n",
       "      <td>0.0</td>\n",
       "      <td>0.0</td>\n",
       "      <td>0</td>\n",
       "      <td>0</td>\n",
       "      <td>24.0</td>\n",
       "      <td>2</td>\n",
       "      <td>224</td>\n",
       "      <td>1</td>\n",
       "      <td>0</td>\n",
       "      <td>0</td>\n",
       "      <td>0</td>\n",
       "    </tr>\n",
       "    <tr>\n",
       "      <th>3</th>\n",
       "      <td>0</td>\n",
       "      <td>102411</td>\n",
       "      <td>0</td>\n",
       "      <td>45151</td>\n",
       "      <td>5</td>\n",
       "      <td>0</td>\n",
       "      <td>10</td>\n",
       "      <td>2</td>\n",
       "      <td>2</td>\n",
       "      <td>1</td>\n",
       "      <td>227</td>\n",
       "      <td>0</td>\n",
       "      <td>0</td>\n",
       "      <td>32</td>\n",
       "      <td>9</td>\n",
       "      <td>0.0</td>\n",
       "      <td>0.0</td>\n",
       "      <td>0</td>\n",
       "      <td>0</td>\n",
       "      <td>24.0</td>\n",
       "      <td>2</td>\n",
       "      <td>224</td>\n",
       "      <td>1</td>\n",
       "      <td>0</td>\n",
       "      <td>0</td>\n",
       "      <td>0</td>\n",
       "    </tr>\n",
       "    <tr>\n",
       "      <th>4</th>\n",
       "      <td>0</td>\n",
       "      <td>94231</td>\n",
       "      <td>0</td>\n",
       "      <td>40799</td>\n",
       "      <td>24</td>\n",
       "      <td>0</td>\n",
       "      <td>2</td>\n",
       "      <td>16</td>\n",
       "      <td>2</td>\n",
       "      <td>5</td>\n",
       "      <td>112</td>\n",
       "      <td>7</td>\n",
       "      <td>4</td>\n",
       "      <td>33</td>\n",
       "      <td>3</td>\n",
       "      <td>0.0</td>\n",
       "      <td>0.0</td>\n",
       "      <td>0</td>\n",
       "      <td>0</td>\n",
       "      <td>24.0</td>\n",
       "      <td>2</td>\n",
       "      <td>224</td>\n",
       "      <td>1</td>\n",
       "      <td>0</td>\n",
       "      <td>0</td>\n",
       "      <td>0</td>\n",
       "    </tr>\n",
       "  </tbody>\n",
       "</table>\n",
       "</div>"
      ],
      "text/plain": [
       "   customer_id_idx article_id_idx  purchased  product_code  product_type_no  \\\n",
       "0                0          77826          0         32713               24   \n",
       "1                0          63491          0         26244                1   \n",
       "2                0          94210          0         40786               28   \n",
       "3                0         102411          0         45151                5   \n",
       "4                0          94231          0         40799               24   \n",
       "\n",
       "   product_group_no  graphical_appearance_no  colour_group_code  \\\n",
       "0                 0                        2                  7   \n",
       "1                 1                        0                  0   \n",
       "2                 3                        0                 22   \n",
       "3                 0                       10                  2   \n",
       "4                 0                        2                 16   \n",
       "\n",
       "   perceived_colour_value_id  perceived_colour_master_id  department_no  \\\n",
       "0                          2                           3            177   \n",
       "1                          0                           0              4   \n",
       "2                          0                          14            171   \n",
       "3                          2                           1            227   \n",
       "4                          2                           5            112   \n",
       "\n",
       "   index_code  index_group_no  section_no  garment_group_no   FN  Active  \\\n",
       "0           6               1           8                 3  0.0     0.0   \n",
       "1           1               0           1                 1  0.0     0.0   \n",
       "2           0               0          39                13  0.0     0.0   \n",
       "3           0               0          32                 9  0.0     0.0   \n",
       "4           7               4          33                 3  0.0     0.0   \n",
       "\n",
       "   club_member_status  fashion_news_frequency   age  postal_code  example_age  \\\n",
       "0                   0                       0  24.0            2          224   \n",
       "1                   0                       0  24.0            2          224   \n",
       "2                   0                       0  24.0            2          224   \n",
       "3                   0                       0  24.0            2          224   \n",
       "4                   0                       0  24.0            2          224   \n",
       "\n",
       "   t_dat_quarter_1  t_dat_quarter_2  t_dat_quarter_3  t_dat_quarter_4  \n",
       "0                1                0                0                0  \n",
       "1                1                0                0                0  \n",
       "2                1                0                0                0  \n",
       "3                1                0                0                0  \n",
       "4                1                0                0                0  "
      ]
     },
     "execution_count": 83,
     "metadata": {},
     "output_type": "execute_result"
    }
   ],
   "source": [
    "print(negative_samples_df.shape)\n",
    "negative_samples_df.head()"
   ]
  },
  {
   "cell_type": "code",
   "execution_count": 124,
   "id": "1159e786",
   "metadata": {
    "colab": {
     "base_uri": "https://localhost:8080/",
     "height": 288
    },
    "executionInfo": {
     "elapsed": 23,
     "status": "ok",
     "timestamp": 1649692212136,
     "user": {
      "displayName": "Steven George",
      "userId": "07709250839253394649"
     },
     "user_tz": -60
    },
    "id": "9637d2e9",
    "outputId": "53a88f4e-b648-46d2-efa6-8a82c721f42e"
   },
   "outputs": [
    {
     "name": "stdout",
     "output_type": "stream",
     "text": [
      "(386503, 26)\n"
     ]
    },
    {
     "data": {
      "text/html": [
       "<div>\n",
       "<style scoped>\n",
       "    .dataframe tbody tr th:only-of-type {\n",
       "        vertical-align: middle;\n",
       "    }\n",
       "\n",
       "    .dataframe tbody tr th {\n",
       "        vertical-align: top;\n",
       "    }\n",
       "\n",
       "    .dataframe thead th {\n",
       "        text-align: right;\n",
       "    }\n",
       "</style>\n",
       "<table border=\"1\" class=\"dataframe\">\n",
       "  <thead>\n",
       "    <tr style=\"text-align: right;\">\n",
       "      <th></th>\n",
       "      <th>customer_id_idx</th>\n",
       "      <th>article_id_idx</th>\n",
       "      <th>product_code</th>\n",
       "      <th>product_type_no</th>\n",
       "      <th>product_group_no</th>\n",
       "      <th>graphical_appearance_no</th>\n",
       "      <th>colour_group_code</th>\n",
       "      <th>perceived_colour_value_id</th>\n",
       "      <th>perceived_colour_master_id</th>\n",
       "      <th>department_no</th>\n",
       "      <th>index_code</th>\n",
       "      <th>index_group_no</th>\n",
       "      <th>section_no</th>\n",
       "      <th>garment_group_no</th>\n",
       "      <th>FN</th>\n",
       "      <th>Active</th>\n",
       "      <th>club_member_status</th>\n",
       "      <th>fashion_news_frequency</th>\n",
       "      <th>age</th>\n",
       "      <th>postal_code</th>\n",
       "      <th>example_age</th>\n",
       "      <th>t_dat_quarter_1</th>\n",
       "      <th>t_dat_quarter_2</th>\n",
       "      <th>t_dat_quarter_3</th>\n",
       "      <th>t_dat_quarter_4</th>\n",
       "      <th>purchased</th>\n",
       "    </tr>\n",
       "  </thead>\n",
       "  <tbody>\n",
       "    <tr>\n",
       "      <th>3</th>\n",
       "      <td>0</td>\n",
       "      <td>1469</td>\n",
       "      <td>383</td>\n",
       "      <td>20</td>\n",
       "      <td>10</td>\n",
       "      <td>0</td>\n",
       "      <td>0</td>\n",
       "      <td>0</td>\n",
       "      <td>0</td>\n",
       "      <td>21</td>\n",
       "      <td>1</td>\n",
       "      <td>0</td>\n",
       "      <td>14</td>\n",
       "      <td>8</td>\n",
       "      <td>0.0</td>\n",
       "      <td>0.0</td>\n",
       "      <td>0</td>\n",
       "      <td>0</td>\n",
       "      <td>24.0</td>\n",
       "      <td>2</td>\n",
       "      <td>224</td>\n",
       "      <td>1</td>\n",
       "      <td>0</td>\n",
       "      <td>0</td>\n",
       "      <td>0</td>\n",
       "      <td>1</td>\n",
       "    </tr>\n",
       "    <tr>\n",
       "      <th>4</th>\n",
       "      <td>0</td>\n",
       "      <td>1469</td>\n",
       "      <td>383</td>\n",
       "      <td>20</td>\n",
       "      <td>10</td>\n",
       "      <td>0</td>\n",
       "      <td>0</td>\n",
       "      <td>0</td>\n",
       "      <td>0</td>\n",
       "      <td>21</td>\n",
       "      <td>1</td>\n",
       "      <td>0</td>\n",
       "      <td>14</td>\n",
       "      <td>8</td>\n",
       "      <td>0.0</td>\n",
       "      <td>0.0</td>\n",
       "      <td>0</td>\n",
       "      <td>0</td>\n",
       "      <td>24.0</td>\n",
       "      <td>2</td>\n",
       "      <td>224</td>\n",
       "      <td>1</td>\n",
       "      <td>0</td>\n",
       "      <td>0</td>\n",
       "      <td>0</td>\n",
       "      <td>1</td>\n",
       "    </tr>\n",
       "    <tr>\n",
       "      <th>6</th>\n",
       "      <td>0</td>\n",
       "      <td>59458</td>\n",
       "      <td>24374</td>\n",
       "      <td>19</td>\n",
       "      <td>10</td>\n",
       "      <td>0</td>\n",
       "      <td>0</td>\n",
       "      <td>0</td>\n",
       "      <td>0</td>\n",
       "      <td>21</td>\n",
       "      <td>1</td>\n",
       "      <td>0</td>\n",
       "      <td>14</td>\n",
       "      <td>8</td>\n",
       "      <td>0.0</td>\n",
       "      <td>0.0</td>\n",
       "      <td>0</td>\n",
       "      <td>0</td>\n",
       "      <td>24.0</td>\n",
       "      <td>2</td>\n",
       "      <td>224</td>\n",
       "      <td>1</td>\n",
       "      <td>0</td>\n",
       "      <td>0</td>\n",
       "      <td>0</td>\n",
       "      <td>1</td>\n",
       "    </tr>\n",
       "    <tr>\n",
       "      <th>7</th>\n",
       "      <td>0</td>\n",
       "      <td>60253</td>\n",
       "      <td>24801</td>\n",
       "      <td>5</td>\n",
       "      <td>0</td>\n",
       "      <td>0</td>\n",
       "      <td>0</td>\n",
       "      <td>0</td>\n",
       "      <td>0</td>\n",
       "      <td>96</td>\n",
       "      <td>3</td>\n",
       "      <td>2</td>\n",
       "      <td>20</td>\n",
       "      <td>9</td>\n",
       "      <td>0.0</td>\n",
       "      <td>0.0</td>\n",
       "      <td>0</td>\n",
       "      <td>0</td>\n",
       "      <td>24.0</td>\n",
       "      <td>2</td>\n",
       "      <td>166</td>\n",
       "      <td>0</td>\n",
       "      <td>1</td>\n",
       "      <td>0</td>\n",
       "      <td>0</td>\n",
       "      <td>1</td>\n",
       "    </tr>\n",
       "    <tr>\n",
       "      <th>8</th>\n",
       "      <td>0</td>\n",
       "      <td>60259</td>\n",
       "      <td>24801</td>\n",
       "      <td>5</td>\n",
       "      <td>0</td>\n",
       "      <td>3</td>\n",
       "      <td>5</td>\n",
       "      <td>3</td>\n",
       "      <td>3</td>\n",
       "      <td>96</td>\n",
       "      <td>3</td>\n",
       "      <td>2</td>\n",
       "      <td>20</td>\n",
       "      <td>9</td>\n",
       "      <td>0.0</td>\n",
       "      <td>0.0</td>\n",
       "      <td>0</td>\n",
       "      <td>0</td>\n",
       "      <td>24.0</td>\n",
       "      <td>2</td>\n",
       "      <td>166</td>\n",
       "      <td>0</td>\n",
       "      <td>1</td>\n",
       "      <td>0</td>\n",
       "      <td>0</td>\n",
       "      <td>1</td>\n",
       "    </tr>\n",
       "  </tbody>\n",
       "</table>\n",
       "</div>"
      ],
      "text/plain": [
       "   customer_id_idx  article_id_idx  product_code  product_type_no  \\\n",
       "3                0            1469           383               20   \n",
       "4                0            1469           383               20   \n",
       "6                0           59458         24374               19   \n",
       "7                0           60253         24801                5   \n",
       "8                0           60259         24801                5   \n",
       "\n",
       "   product_group_no  graphical_appearance_no  colour_group_code  \\\n",
       "3                10                        0                  0   \n",
       "4                10                        0                  0   \n",
       "6                10                        0                  0   \n",
       "7                 0                        0                  0   \n",
       "8                 0                        3                  5   \n",
       "\n",
       "   perceived_colour_value_id  perceived_colour_master_id  department_no  \\\n",
       "3                          0                           0             21   \n",
       "4                          0                           0             21   \n",
       "6                          0                           0             21   \n",
       "7                          0                           0             96   \n",
       "8                          3                           3             96   \n",
       "\n",
       "   index_code  index_group_no  section_no  garment_group_no   FN  Active  \\\n",
       "3           1               0          14                 8  0.0     0.0   \n",
       "4           1               0          14                 8  0.0     0.0   \n",
       "6           1               0          14                 8  0.0     0.0   \n",
       "7           3               2          20                 9  0.0     0.0   \n",
       "8           3               2          20                 9  0.0     0.0   \n",
       "\n",
       "   club_member_status  fashion_news_frequency   age  postal_code  example_age  \\\n",
       "3                   0                       0  24.0            2          224   \n",
       "4                   0                       0  24.0            2          224   \n",
       "6                   0                       0  24.0            2          224   \n",
       "7                   0                       0  24.0            2          166   \n",
       "8                   0                       0  24.0            2          166   \n",
       "\n",
       "   t_dat_quarter_1  t_dat_quarter_2  t_dat_quarter_3  t_dat_quarter_4  \\\n",
       "3                1                0                0                0   \n",
       "4                1                0                0                0   \n",
       "6                1                0                0                0   \n",
       "7                0                1                0                0   \n",
       "8                0                1                0                0   \n",
       "\n",
       "   purchased  \n",
       "3          1  \n",
       "4          1  \n",
       "6          1  \n",
       "7          1  \n",
       "8          1  "
      ]
     },
     "execution_count": 124,
     "metadata": {},
     "output_type": "execute_result"
    }
   ],
   "source": [
    "positive_samples_df = train_set_processed.copy().drop(columns=['customer_id', 'article_id', 't_dat'])\n",
    "positive_samples_df['purchased'] = 1\n",
    "\n",
    "print(positive_samples_df.shape)\n",
    "positive_samples_df.head()"
   ]
  },
  {
   "cell_type": "code",
   "execution_count": 125,
   "id": "87bf095d",
   "metadata": {
    "colab": {
     "base_uri": "https://localhost:8080/"
    },
    "executionInfo": {
     "elapsed": 704,
     "status": "ok",
     "timestamp": 1649692212824,
     "user": {
      "displayName": "Steven George",
      "userId": "07709250839253394649"
     },
     "user_tz": -60
    },
    "id": "c1ae3a66",
    "outputId": "b2113754-b07f-44a3-a002-22e2a9c8bc62"
   },
   "outputs": [
    {
     "name": "stderr",
     "output_type": "stream",
     "text": [
      "/var/folders/y7/s4mqr2gn1xs617jmcj6fc_ph0000gn/T/ipykernel_81512/1159554460.py:1: FutureWarning: The frame.append method is deprecated and will be removed from pandas in a future version. Use pandas.concat instead.\n",
      "  training_data_full = positive_samples_df.append(negative_samples_df)\n"
     ]
    },
    {
     "data": {
      "text/plain": [
       "(9437613, 26)"
      ]
     },
     "execution_count": 125,
     "metadata": {},
     "output_type": "execute_result"
    }
   ],
   "source": [
    "training_data_full = positive_samples_df.append(negative_samples_df)\n",
    "training_data_full.shape"
   ]
  },
  {
   "cell_type": "code",
   "execution_count": 126,
   "id": "109582ea",
   "metadata": {
    "colab": {
     "base_uri": "https://localhost:8080/"
    },
    "executionInfo": {
     "elapsed": 9,
     "status": "ok",
     "timestamp": 1649692212825,
     "user": {
      "displayName": "Steven George",
      "userId": "07709250839253394649"
     },
     "user_tz": -60
    },
    "id": "f85e244a",
    "outputId": "110147cb-3ddb-4188-caa0-73b28b45878f"
   },
   "outputs": [
    {
     "data": {
      "text/plain": [
       "0.040953469908121896"
      ]
     },
     "execution_count": 126,
     "metadata": {},
     "output_type": "execute_result"
    }
   ],
   "source": [
    "training_data_full['purchased'].mean()"
   ]
  },
  {
   "cell_type": "code",
   "execution_count": 127,
   "id": "ce3354cb",
   "metadata": {
    "colab": {
     "base_uri": "https://localhost:8080/",
     "height": 270
    },
    "executionInfo": {
     "elapsed": 6,
     "status": "ok",
     "timestamp": 1649692212825,
     "user": {
      "displayName": "Steven George",
      "userId": "07709250839253394649"
     },
     "user_tz": -60
    },
    "id": "72c193af",
    "outputId": "479081b8-eac0-4b7a-b641-a585a357076b"
   },
   "outputs": [
    {
     "data": {
      "text/html": [
       "<div>\n",
       "<style scoped>\n",
       "    .dataframe tbody tr th:only-of-type {\n",
       "        vertical-align: middle;\n",
       "    }\n",
       "\n",
       "    .dataframe tbody tr th {\n",
       "        vertical-align: top;\n",
       "    }\n",
       "\n",
       "    .dataframe thead th {\n",
       "        text-align: right;\n",
       "    }\n",
       "</style>\n",
       "<table border=\"1\" class=\"dataframe\">\n",
       "  <thead>\n",
       "    <tr style=\"text-align: right;\">\n",
       "      <th></th>\n",
       "      <th>customer_id_idx</th>\n",
       "      <th>article_id_idx</th>\n",
       "      <th>product_code</th>\n",
       "      <th>product_type_no</th>\n",
       "      <th>product_group_no</th>\n",
       "      <th>graphical_appearance_no</th>\n",
       "      <th>colour_group_code</th>\n",
       "      <th>perceived_colour_value_id</th>\n",
       "      <th>perceived_colour_master_id</th>\n",
       "      <th>department_no</th>\n",
       "      <th>index_code</th>\n",
       "      <th>index_group_no</th>\n",
       "      <th>section_no</th>\n",
       "      <th>garment_group_no</th>\n",
       "      <th>FN</th>\n",
       "      <th>Active</th>\n",
       "      <th>club_member_status</th>\n",
       "      <th>fashion_news_frequency</th>\n",
       "      <th>age</th>\n",
       "      <th>postal_code</th>\n",
       "      <th>example_age</th>\n",
       "      <th>t_dat_quarter_1</th>\n",
       "      <th>t_dat_quarter_2</th>\n",
       "      <th>t_dat_quarter_3</th>\n",
       "      <th>t_dat_quarter_4</th>\n",
       "      <th>purchased</th>\n",
       "    </tr>\n",
       "  </thead>\n",
       "  <tbody>\n",
       "    <tr>\n",
       "      <th>3</th>\n",
       "      <td>0</td>\n",
       "      <td>1469</td>\n",
       "      <td>383</td>\n",
       "      <td>20</td>\n",
       "      <td>10</td>\n",
       "      <td>0</td>\n",
       "      <td>0</td>\n",
       "      <td>0</td>\n",
       "      <td>0</td>\n",
       "      <td>21</td>\n",
       "      <td>1</td>\n",
       "      <td>0</td>\n",
       "      <td>14</td>\n",
       "      <td>8</td>\n",
       "      <td>0.0</td>\n",
       "      <td>0.0</td>\n",
       "      <td>0</td>\n",
       "      <td>0</td>\n",
       "      <td>24.0</td>\n",
       "      <td>2</td>\n",
       "      <td>224</td>\n",
       "      <td>1</td>\n",
       "      <td>0</td>\n",
       "      <td>0</td>\n",
       "      <td>0</td>\n",
       "      <td>1</td>\n",
       "    </tr>\n",
       "    <tr>\n",
       "      <th>4</th>\n",
       "      <td>0</td>\n",
       "      <td>1469</td>\n",
       "      <td>383</td>\n",
       "      <td>20</td>\n",
       "      <td>10</td>\n",
       "      <td>0</td>\n",
       "      <td>0</td>\n",
       "      <td>0</td>\n",
       "      <td>0</td>\n",
       "      <td>21</td>\n",
       "      <td>1</td>\n",
       "      <td>0</td>\n",
       "      <td>14</td>\n",
       "      <td>8</td>\n",
       "      <td>0.0</td>\n",
       "      <td>0.0</td>\n",
       "      <td>0</td>\n",
       "      <td>0</td>\n",
       "      <td>24.0</td>\n",
       "      <td>2</td>\n",
       "      <td>224</td>\n",
       "      <td>1</td>\n",
       "      <td>0</td>\n",
       "      <td>0</td>\n",
       "      <td>0</td>\n",
       "      <td>1</td>\n",
       "    </tr>\n",
       "    <tr>\n",
       "      <th>6</th>\n",
       "      <td>0</td>\n",
       "      <td>59458</td>\n",
       "      <td>24374</td>\n",
       "      <td>19</td>\n",
       "      <td>10</td>\n",
       "      <td>0</td>\n",
       "      <td>0</td>\n",
       "      <td>0</td>\n",
       "      <td>0</td>\n",
       "      <td>21</td>\n",
       "      <td>1</td>\n",
       "      <td>0</td>\n",
       "      <td>14</td>\n",
       "      <td>8</td>\n",
       "      <td>0.0</td>\n",
       "      <td>0.0</td>\n",
       "      <td>0</td>\n",
       "      <td>0</td>\n",
       "      <td>24.0</td>\n",
       "      <td>2</td>\n",
       "      <td>224</td>\n",
       "      <td>1</td>\n",
       "      <td>0</td>\n",
       "      <td>0</td>\n",
       "      <td>0</td>\n",
       "      <td>1</td>\n",
       "    </tr>\n",
       "    <tr>\n",
       "      <th>7</th>\n",
       "      <td>0</td>\n",
       "      <td>60253</td>\n",
       "      <td>24801</td>\n",
       "      <td>5</td>\n",
       "      <td>0</td>\n",
       "      <td>0</td>\n",
       "      <td>0</td>\n",
       "      <td>0</td>\n",
       "      <td>0</td>\n",
       "      <td>96</td>\n",
       "      <td>3</td>\n",
       "      <td>2</td>\n",
       "      <td>20</td>\n",
       "      <td>9</td>\n",
       "      <td>0.0</td>\n",
       "      <td>0.0</td>\n",
       "      <td>0</td>\n",
       "      <td>0</td>\n",
       "      <td>24.0</td>\n",
       "      <td>2</td>\n",
       "      <td>166</td>\n",
       "      <td>0</td>\n",
       "      <td>1</td>\n",
       "      <td>0</td>\n",
       "      <td>0</td>\n",
       "      <td>1</td>\n",
       "    </tr>\n",
       "    <tr>\n",
       "      <th>8</th>\n",
       "      <td>0</td>\n",
       "      <td>60259</td>\n",
       "      <td>24801</td>\n",
       "      <td>5</td>\n",
       "      <td>0</td>\n",
       "      <td>3</td>\n",
       "      <td>5</td>\n",
       "      <td>3</td>\n",
       "      <td>3</td>\n",
       "      <td>96</td>\n",
       "      <td>3</td>\n",
       "      <td>2</td>\n",
       "      <td>20</td>\n",
       "      <td>9</td>\n",
       "      <td>0.0</td>\n",
       "      <td>0.0</td>\n",
       "      <td>0</td>\n",
       "      <td>0</td>\n",
       "      <td>24.0</td>\n",
       "      <td>2</td>\n",
       "      <td>166</td>\n",
       "      <td>0</td>\n",
       "      <td>1</td>\n",
       "      <td>0</td>\n",
       "      <td>0</td>\n",
       "      <td>1</td>\n",
       "    </tr>\n",
       "  </tbody>\n",
       "</table>\n",
       "</div>"
      ],
      "text/plain": [
       "   customer_id_idx article_id_idx  product_code  product_type_no  \\\n",
       "3                0           1469           383               20   \n",
       "4                0           1469           383               20   \n",
       "6                0          59458         24374               19   \n",
       "7                0          60253         24801                5   \n",
       "8                0          60259         24801                5   \n",
       "\n",
       "   product_group_no  graphical_appearance_no  colour_group_code  \\\n",
       "3                10                        0                  0   \n",
       "4                10                        0                  0   \n",
       "6                10                        0                  0   \n",
       "7                 0                        0                  0   \n",
       "8                 0                        3                  5   \n",
       "\n",
       "   perceived_colour_value_id  perceived_colour_master_id  department_no  \\\n",
       "3                          0                           0             21   \n",
       "4                          0                           0             21   \n",
       "6                          0                           0             21   \n",
       "7                          0                           0             96   \n",
       "8                          3                           3             96   \n",
       "\n",
       "   index_code  index_group_no  section_no  garment_group_no   FN  Active  \\\n",
       "3           1               0          14                 8  0.0     0.0   \n",
       "4           1               0          14                 8  0.0     0.0   \n",
       "6           1               0          14                 8  0.0     0.0   \n",
       "7           3               2          20                 9  0.0     0.0   \n",
       "8           3               2          20                 9  0.0     0.0   \n",
       "\n",
       "   club_member_status  fashion_news_frequency   age  postal_code  example_age  \\\n",
       "3                   0                       0  24.0            2          224   \n",
       "4                   0                       0  24.0            2          224   \n",
       "6                   0                       0  24.0            2          224   \n",
       "7                   0                       0  24.0            2          166   \n",
       "8                   0                       0  24.0            2          166   \n",
       "\n",
       "   t_dat_quarter_1  t_dat_quarter_2  t_dat_quarter_3  t_dat_quarter_4  \\\n",
       "3                1                0                0                0   \n",
       "4                1                0                0                0   \n",
       "6                1                0                0                0   \n",
       "7                0                1                0                0   \n",
       "8                0                1                0                0   \n",
       "\n",
       "   purchased  \n",
       "3          1  \n",
       "4          1  \n",
       "6          1  \n",
       "7          1  \n",
       "8          1  "
      ]
     },
     "execution_count": 127,
     "metadata": {},
     "output_type": "execute_result"
    }
   ],
   "source": [
    "training_data_full.head()"
   ]
  },
  {
   "cell_type": "markdown",
   "id": "5712b31d",
   "metadata": {
    "id": "b229801d"
   },
   "source": [
    "Create another dev split to measure classification loss during training"
   ]
  },
  {
   "cell_type": "code",
   "execution_count": 129,
   "id": "69844cce",
   "metadata": {
    "executionInfo": {
     "elapsed": 598,
     "status": "ok",
     "timestamp": 1649692213418,
     "user": {
      "displayName": "Steven George",
      "userId": "07709250839253394649"
     },
     "user_tz": -60
    },
    "id": "e5a9bc13"
   },
   "outputs": [],
   "source": [
    "from sklearn.model_selection import train_test_split"
   ]
  },
  {
   "cell_type": "code",
   "execution_count": 130,
   "id": "9444c35a",
   "metadata": {
    "executionInfo": {
     "elapsed": 3853,
     "status": "ok",
     "timestamp": 1649692217266,
     "user": {
      "displayName": "Steven George",
      "userId": "07709250839253394649"
     },
     "user_tz": -60
    },
    "id": "ef4c5a9a"
   },
   "outputs": [],
   "source": [
    "training_data_full, dev_data_full = train_test_split(training_data_full, test_size=0.3)"
   ]
  },
  {
   "cell_type": "code",
   "execution_count": 131,
   "id": "a4c8ad7b",
   "metadata": {},
   "outputs": [],
   "source": [
    "from sklearn.impute import SimpleImputer"
   ]
  },
  {
   "cell_type": "code",
   "execution_count": 132,
   "id": "1b8e8656",
   "metadata": {},
   "outputs": [],
   "source": [
    "imp_mean = SimpleImputer()"
   ]
  },
  {
   "cell_type": "code",
   "execution_count": 133,
   "id": "cea4ba34",
   "metadata": {},
   "outputs": [
    {
     "data": {
      "text/plain": [
       "SimpleImputer()"
      ]
     },
     "execution_count": 133,
     "metadata": {},
     "output_type": "execute_result"
    }
   ],
   "source": [
    "imp_mean.fit(training_data_full['age'].values.reshape(-1, 1))"
   ]
  },
  {
   "cell_type": "code",
   "execution_count": 134,
   "id": "4e584bda",
   "metadata": {},
   "outputs": [],
   "source": [
    "training_data_full['age'] = imp_mean.transform(training_data_full['age'].values.reshape(-1, 1))\n",
    "dev_data_full['age'] = imp_mean.transform(dev_data_full['age'].values.reshape(-1, 1))"
   ]
  },
  {
   "cell_type": "code",
   "execution_count": 135,
   "id": "2feb0f03",
   "metadata": {},
   "outputs": [],
   "source": [
    "from sklearn.preprocessing import MinMaxScaler"
   ]
  },
  {
   "cell_type": "code",
   "execution_count": 136,
   "id": "cf8f7ad5",
   "metadata": {},
   "outputs": [],
   "source": [
    "scaler = MinMaxScaler()"
   ]
  },
  {
   "cell_type": "code",
   "execution_count": 137,
   "id": "9f0acec9",
   "metadata": {},
   "outputs": [
    {
     "data": {
      "text/plain": [
       "MinMaxScaler()"
      ]
     },
     "execution_count": 137,
     "metadata": {},
     "output_type": "execute_result"
    }
   ],
   "source": [
    "scaler.fit(training_data_full[['age', 'example_age']])"
   ]
  },
  {
   "cell_type": "code",
   "execution_count": 138,
   "id": "a72e401a",
   "metadata": {},
   "outputs": [],
   "source": [
    "training_data_full[['age', 'example_age']] = scaler.transform(training_data_full[['age', 'example_age']])\n",
    "dev_data_full[['age', 'example_age']] = scaler.transform(dev_data_full[['age', 'example_age']])"
   ]
  },
  {
   "cell_type": "code",
   "execution_count": 139,
   "id": "3f0efe18",
   "metadata": {},
   "outputs": [
    {
     "data": {
      "text/html": [
       "<div>\n",
       "<style scoped>\n",
       "    .dataframe tbody tr th:only-of-type {\n",
       "        vertical-align: middle;\n",
       "    }\n",
       "\n",
       "    .dataframe tbody tr th {\n",
       "        vertical-align: top;\n",
       "    }\n",
       "\n",
       "    .dataframe thead th {\n",
       "        text-align: right;\n",
       "    }\n",
       "</style>\n",
       "<table border=\"1\" class=\"dataframe\">\n",
       "  <thead>\n",
       "    <tr style=\"text-align: right;\">\n",
       "      <th></th>\n",
       "      <th>customer_id_idx</th>\n",
       "      <th>article_id_idx</th>\n",
       "      <th>product_code</th>\n",
       "      <th>product_type_no</th>\n",
       "      <th>product_group_no</th>\n",
       "      <th>graphical_appearance_no</th>\n",
       "      <th>colour_group_code</th>\n",
       "      <th>perceived_colour_value_id</th>\n",
       "      <th>perceived_colour_master_id</th>\n",
       "      <th>department_no</th>\n",
       "      <th>index_code</th>\n",
       "      <th>index_group_no</th>\n",
       "      <th>section_no</th>\n",
       "      <th>garment_group_no</th>\n",
       "      <th>FN</th>\n",
       "      <th>Active</th>\n",
       "      <th>club_member_status</th>\n",
       "      <th>fashion_news_frequency</th>\n",
       "      <th>age</th>\n",
       "      <th>postal_code</th>\n",
       "      <th>example_age</th>\n",
       "      <th>t_dat_quarter_1</th>\n",
       "      <th>t_dat_quarter_2</th>\n",
       "      <th>t_dat_quarter_3</th>\n",
       "      <th>t_dat_quarter_4</th>\n",
       "      <th>purchased</th>\n",
       "    </tr>\n",
       "  </thead>\n",
       "  <tbody>\n",
       "    <tr>\n",
       "      <th>316807</th>\n",
       "      <td>1763</td>\n",
       "      <td>84525</td>\n",
       "      <td>35780</td>\n",
       "      <td>25</td>\n",
       "      <td>11</td>\n",
       "      <td>0</td>\n",
       "      <td>22</td>\n",
       "      <td>0</td>\n",
       "      <td>14</td>\n",
       "      <td>158</td>\n",
       "      <td>0</td>\n",
       "      <td>0</td>\n",
       "      <td>21</td>\n",
       "      <td>14</td>\n",
       "      <td>0.0</td>\n",
       "      <td>0.0</td>\n",
       "      <td>0</td>\n",
       "      <td>0</td>\n",
       "      <td>0.140845</td>\n",
       "      <td>23191</td>\n",
       "      <td>0.050209</td>\n",
       "      <td>0</td>\n",
       "      <td>0</td>\n",
       "      <td>1</td>\n",
       "      <td>0</td>\n",
       "      <td>1</td>\n",
       "    </tr>\n",
       "    <tr>\n",
       "      <th>8968357</th>\n",
       "      <td>2476</td>\n",
       "      <td>84457</td>\n",
       "      <td>35745</td>\n",
       "      <td>26</td>\n",
       "      <td>4</td>\n",
       "      <td>0</td>\n",
       "      <td>0</td>\n",
       "      <td>0</td>\n",
       "      <td>0</td>\n",
       "      <td>35</td>\n",
       "      <td>7</td>\n",
       "      <td>4</td>\n",
       "      <td>13</td>\n",
       "      <td>4</td>\n",
       "      <td>0.0</td>\n",
       "      <td>0.0</td>\n",
       "      <td>0</td>\n",
       "      <td>0</td>\n",
       "      <td>0.211268</td>\n",
       "      <td>243465</td>\n",
       "      <td>0.977685</td>\n",
       "      <td>0</td>\n",
       "      <td>0</td>\n",
       "      <td>0</td>\n",
       "      <td>1</td>\n",
       "      <td>0</td>\n",
       "    </tr>\n",
       "    <tr>\n",
       "      <th>6204963</th>\n",
       "      <td>2583</td>\n",
       "      <td>90375</td>\n",
       "      <td>38730</td>\n",
       "      <td>24</td>\n",
       "      <td>0</td>\n",
       "      <td>0</td>\n",
       "      <td>1</td>\n",
       "      <td>1</td>\n",
       "      <td>1</td>\n",
       "      <td>123</td>\n",
       "      <td>3</td>\n",
       "      <td>2</td>\n",
       "      <td>4</td>\n",
       "      <td>0</td>\n",
       "      <td>1.0</td>\n",
       "      <td>1.0</td>\n",
       "      <td>0</td>\n",
       "      <td>1</td>\n",
       "      <td>0.408451</td>\n",
       "      <td>90658</td>\n",
       "      <td>0.668061</td>\n",
       "      <td>0</td>\n",
       "      <td>1</td>\n",
       "      <td>0</td>\n",
       "      <td>0</td>\n",
       "      <td>0</td>\n",
       "    </tr>\n",
       "    <tr>\n",
       "      <th>5418194</th>\n",
       "      <td>2565</td>\n",
       "      <td>67291</td>\n",
       "      <td>27800</td>\n",
       "      <td>7</td>\n",
       "      <td>3</td>\n",
       "      <td>0</td>\n",
       "      <td>22</td>\n",
       "      <td>2</td>\n",
       "      <td>14</td>\n",
       "      <td>179</td>\n",
       "      <td>0</td>\n",
       "      <td>0</td>\n",
       "      <td>39</td>\n",
       "      <td>11</td>\n",
       "      <td>1.0</td>\n",
       "      <td>1.0</td>\n",
       "      <td>0</td>\n",
       "      <td>1</td>\n",
       "      <td>0.112676</td>\n",
       "      <td>18871</td>\n",
       "      <td>0.430962</td>\n",
       "      <td>0</td>\n",
       "      <td>0</td>\n",
       "      <td>0</td>\n",
       "      <td>1</td>\n",
       "      <td>0</td>\n",
       "    </tr>\n",
       "    <tr>\n",
       "      <th>7988566</th>\n",
       "      <td>3854</td>\n",
       "      <td>99079</td>\n",
       "      <td>43178</td>\n",
       "      <td>48</td>\n",
       "      <td>4</td>\n",
       "      <td>0</td>\n",
       "      <td>1</td>\n",
       "      <td>1</td>\n",
       "      <td>1</td>\n",
       "      <td>9</td>\n",
       "      <td>4</td>\n",
       "      <td>0</td>\n",
       "      <td>6</td>\n",
       "      <td>4</td>\n",
       "      <td>0.0</td>\n",
       "      <td>0.0</td>\n",
       "      <td>0</td>\n",
       "      <td>0</td>\n",
       "      <td>0.535211</td>\n",
       "      <td>170664</td>\n",
       "      <td>0.810321</td>\n",
       "      <td>1</td>\n",
       "      <td>0</td>\n",
       "      <td>0</td>\n",
       "      <td>0</td>\n",
       "      <td>0</td>\n",
       "    </tr>\n",
       "  </tbody>\n",
       "</table>\n",
       "</div>"
      ],
      "text/plain": [
       "         customer_id_idx article_id_idx  product_code  product_type_no  \\\n",
       "316807              1763          84525         35780               25   \n",
       "8968357             2476          84457         35745               26   \n",
       "6204963             2583          90375         38730               24   \n",
       "5418194             2565          67291         27800                7   \n",
       "7988566             3854          99079         43178               48   \n",
       "\n",
       "         product_group_no  graphical_appearance_no  colour_group_code  \\\n",
       "316807                 11                        0                 22   \n",
       "8968357                 4                        0                  0   \n",
       "6204963                 0                        0                  1   \n",
       "5418194                 3                        0                 22   \n",
       "7988566                 4                        0                  1   \n",
       "\n",
       "         perceived_colour_value_id  perceived_colour_master_id  department_no  \\\n",
       "316807                           0                          14            158   \n",
       "8968357                          0                           0             35   \n",
       "6204963                          1                           1            123   \n",
       "5418194                          2                          14            179   \n",
       "7988566                          1                           1              9   \n",
       "\n",
       "         index_code  index_group_no  section_no  garment_group_no   FN  \\\n",
       "316807            0               0          21                14  0.0   \n",
       "8968357           7               4          13                 4  0.0   \n",
       "6204963           3               2           4                 0  1.0   \n",
       "5418194           0               0          39                11  1.0   \n",
       "7988566           4               0           6                 4  0.0   \n",
       "\n",
       "         Active  club_member_status  fashion_news_frequency       age  \\\n",
       "316807      0.0                   0                       0  0.140845   \n",
       "8968357     0.0                   0                       0  0.211268   \n",
       "6204963     1.0                   0                       1  0.408451   \n",
       "5418194     1.0                   0                       1  0.112676   \n",
       "7988566     0.0                   0                       0  0.535211   \n",
       "\n",
       "         postal_code  example_age  t_dat_quarter_1  t_dat_quarter_2  \\\n",
       "316807         23191     0.050209                0                0   \n",
       "8968357       243465     0.977685                0                0   \n",
       "6204963        90658     0.668061                0                1   \n",
       "5418194        18871     0.430962                0                0   \n",
       "7988566       170664     0.810321                1                0   \n",
       "\n",
       "         t_dat_quarter_3  t_dat_quarter_4  purchased  \n",
       "316807                 1                0          1  \n",
       "8968357                0                1          0  \n",
       "6204963                0                0          0  \n",
       "5418194                0                1          0  \n",
       "7988566                0                0          0  "
      ]
     },
     "execution_count": 139,
     "metadata": {},
     "output_type": "execute_result"
    }
   ],
   "source": [
    "training_data_full.head()"
   ]
  },
  {
   "cell_type": "code",
   "execution_count": 147,
   "id": "deccdd41",
   "metadata": {},
   "outputs": [],
   "source": [
    "NUMERIC_FEATURES = [\n",
    "    'FN', \n",
    "    'Active', \n",
    "    'age', \n",
    "    'example_age', \n",
    "    't_dat_quarter_1', \n",
    "    't_dat_quarter_2', \n",
    "    't_dat_quarter_3', \n",
    "    't_dat_quarter_4'\n",
    "]"
   ]
  },
  {
   "cell_type": "code",
   "execution_count": 148,
   "id": "ad43bdc4",
   "metadata": {
    "executionInfo": {
     "elapsed": 6,
     "status": "ok",
     "timestamp": 1649692217266,
     "user": {
      "displayName": "Steven George",
      "userId": "07709250839253394649"
     },
     "user_tz": -60
    },
    "id": "f302d77d"
   },
   "outputs": [],
   "source": [
    "class PurchasesDatasetWithArticleFeatures(Dataset):\n",
    "\n",
    "    def __init__(self, df):\n",
    "        self.customer_id_idx = df['customer_id_idx'].values\n",
    "        self.article_id_idx = df['article_id_idx'].values\n",
    "        self.product_code = df['product_code'].values\n",
    "        self.product_type_no = df['product_type_no'].values\n",
    "        self.product_group_no = df['product_group_no'].values\n",
    "        self.graphical_appearance_no = df['graphical_appearance_no'].values\n",
    "        self.colour_group_code = df['colour_group_code'].values\n",
    "        self.perceived_colour_value_id = df['perceived_colour_value_id'].values\n",
    "        self.perceived_colour_master_id = df['perceived_colour_master_id'].values\n",
    "        self.department_no = df['department_no'].values\n",
    "        self.index_code = df['index_code'].values\n",
    "        self.index_group_no = df['index_group_no'].values\n",
    "        self.section_no = df['section_no'].values\n",
    "        self.garment_group_no = df['garment_group_no'].values\n",
    "        \n",
    "        self.club_member_status = df['club_member_status'].values\n",
    "        self.fashion_news_frequency = df['fashion_news_frequency'].values\n",
    "        self.postal_code = df['postal_code'].values\n",
    "        self.numeric_features = df[NUMERIC_FEATURES].values\n",
    "        \n",
    "        self.purchased = df['purchased'].values\n",
    "\n",
    "    def __len__(self):\n",
    "        return self.customer_id_idx.shape[0]\n",
    "\n",
    "    def __getitem__(self, idx):\n",
    "        if torch.is_tensor(idx):\n",
    "            idx = idx.tolist()\n",
    "        \n",
    "        return (\n",
    "            self.customer_id_idx[idx],\n",
    "            self.article_id_idx[idx],\n",
    "            self.product_code[idx],\n",
    "            self.product_type_no[idx],\n",
    "            self.product_group_no[idx],\n",
    "            self.graphical_appearance_no[idx],\n",
    "            self.colour_group_code[idx],\n",
    "            self.perceived_colour_value_id[idx],\n",
    "            self.perceived_colour_master_id[idx],\n",
    "            self.department_no[idx],\n",
    "            self.index_code[idx],\n",
    "            self.index_group_no[idx],\n",
    "            self.section_no[idx],\n",
    "            self.garment_group_no[idx],\n",
    "            self.club_member_status[idx],\n",
    "            self.fashion_news_frequency[idx],\n",
    "            self.postal_code[idx],\n",
    "            self.numeric_features[idx],\n",
    "            self.purchased[idx]\n",
    "        )"
   ]
  },
  {
   "cell_type": "code",
   "execution_count": 149,
   "id": "f1c03100",
   "metadata": {
    "executionInfo": {
     "elapsed": 6,
     "status": "ok",
     "timestamp": 1649692217267,
     "user": {
      "displayName": "Steven George",
      "userId": "07709250839253394649"
     },
     "user_tz": -60
    },
    "id": "d6111e1d"
   },
   "outputs": [],
   "source": [
    "train_dataset = PurchasesDatasetWithArticleFeatures(training_data_full)\n",
    "dev_dataset = PurchasesDatasetWithArticleFeatures(dev_data_full)"
   ]
  },
  {
   "cell_type": "code",
   "execution_count": 150,
   "id": "0a4dd7c2",
   "metadata": {
    "executionInfo": {
     "elapsed": 5,
     "status": "ok",
     "timestamp": 1649692217267,
     "user": {
      "displayName": "Steven George",
      "userId": "07709250839253394649"
     },
     "user_tz": -60
    },
    "id": "826f5af6"
   },
   "outputs": [],
   "source": [
    "BATCH_SIZE = 2048\n",
    "\n",
    "train_loader = DataLoader(train_dataset, batch_size=BATCH_SIZE, shuffle=True)  \n",
    "dev_loader = DataLoader(dev_dataset, batch_size=BATCH_SIZE, shuffle=True)  "
   ]
  },
  {
   "cell_type": "code",
   "execution_count": 151,
   "id": "b6ad466e",
   "metadata": {
    "executionInfo": {
     "elapsed": 5,
     "status": "ok",
     "timestamp": 1649692217267,
     "user": {
      "displayName": "Steven George",
      "userId": "07709250839253394649"
     },
     "user_tz": -60
    },
    "id": "74196e72"
   },
   "outputs": [],
   "source": [
    "# # Selecting a subset of data\n",
    "# subset = torch.utils.data.Subset(train_dataset, [1])\n",
    "\n",
    "# train_loader = DataLoader(subset, batch_size=BATCH_SIZE)  "
   ]
  },
  {
   "cell_type": "code",
   "execution_count": 156,
   "id": "6c65eed6",
   "metadata": {
    "executionInfo": {
     "elapsed": 5,
     "status": "ok",
     "timestamp": 1649692217268,
     "user": {
      "displayName": "Steven George",
      "userId": "07709250839253394649"
     },
     "user_tz": -60
    },
    "id": "92d805ba"
   },
   "outputs": [],
   "source": [
    "class FashionRecV2(nn.Module):\n",
    "\n",
    "    def __init__(self, embedding_dim):\n",
    "        super(FashionRecV2, self).__init__()\n",
    "        \n",
    "        # Embeddings\n",
    "        self.user_embeddings = nn.Embedding(num_embeddings=len(customer_id_to_idx), embedding_dim=embedding_dim)        \n",
    "        self.item_embeddings = nn.Embedding(num_embeddings=len(article_id_to_idx), embedding_dim=embedding_dim)\n",
    "        self.product_code_embeddings = nn.Embedding(num_embeddings=len(cat_code_to_indices['product_code']), embedding_dim=embedding_dim)\n",
    "        self.product_type_no_embeddings = nn.Embedding(num_embeddings=len(cat_code_to_indices['product_type_no']), embedding_dim=embedding_dim)\n",
    "        self.product_group_no_embeddings = nn.Embedding(num_embeddings=len(cat_code_to_indices['product_group_no']), embedding_dim=embedding_dim)\n",
    "        self.graphical_appearance_no_embeddings = nn.Embedding(num_embeddings=len(cat_code_to_indices['graphical_appearance_no']), embedding_dim=embedding_dim)\n",
    "        self.colour_group_code_embeddings = nn.Embedding(num_embeddings=len(cat_code_to_indices['colour_group_code']), embedding_dim=embedding_dim)\n",
    "        self.perceived_colour_value_id_embeddings = nn.Embedding(num_embeddings=len(cat_code_to_indices['perceived_colour_value_id']), embedding_dim=embedding_dim)\n",
    "        self.perceived_colour_master_id_embeddings = nn.Embedding(num_embeddings=len(cat_code_to_indices['perceived_colour_master_id']), embedding_dim=embedding_dim)\n",
    "        self.department_no_embeddings = nn.Embedding(num_embeddings=len(cat_code_to_indices['department_no']), embedding_dim=embedding_dim)\n",
    "        self.index_code_embeddings = nn.Embedding(num_embeddings=len(cat_code_to_indices['index_code']), embedding_dim=embedding_dim)\n",
    "        self.index_group_no_embeddings = nn.Embedding(num_embeddings=len(cat_code_to_indices['index_group_no']), embedding_dim=embedding_dim)\n",
    "        self.section_no_embeddings = nn.Embedding(num_embeddings=len(cat_code_to_indices['section_no']), embedding_dim=embedding_dim)\n",
    "        self.garment_group_no_embeddings = nn.Embedding(num_embeddings=len(cat_code_to_indices['garment_group_no']), embedding_dim=embedding_dim)\n",
    "        \n",
    "        self.club_member_status_embeddings = nn.Embedding(num_embeddings=len(customers_cat_code_to_indices['club_member_status']), embedding_dim=embedding_dim)\n",
    "        self.fashion_news_frequency_embeddings = nn.Embedding(num_embeddings=len(customers_cat_code_to_indices['fashion_news_frequency']), embedding_dim=embedding_dim)\n",
    "        self.postal_code_embeddings = nn.Embedding(num_embeddings=len(customers_cat_code_to_indices['postal_code']), embedding_dim=embedding_dim)\n",
    "\n",
    "        # Initialise embeddings\n",
    "        torch.nn.init.xavier_uniform_(self.user_embeddings.weight)\n",
    "        torch.nn.init.xavier_uniform_(self.item_embeddings.weight)        \n",
    "        torch.nn.init.xavier_uniform_(self.product_code_embeddings.weight)\n",
    "        torch.nn.init.xavier_uniform_(self.product_type_no_embeddings.weight)\n",
    "        torch.nn.init.xavier_uniform_(self.product_group_no_embeddings.weight)\n",
    "        torch.nn.init.xavier_uniform_(self.graphical_appearance_no_embeddings.weight)\n",
    "        torch.nn.init.xavier_uniform_(self.colour_group_code_embeddings.weight)\n",
    "        torch.nn.init.xavier_uniform_(self.perceived_colour_value_id_embeddings.weight)\n",
    "        torch.nn.init.xavier_uniform_(self.perceived_colour_master_id_embeddings.weight)\n",
    "        torch.nn.init.xavier_uniform_(self.department_no_embeddings.weight)\n",
    "        torch.nn.init.xavier_uniform_(self.index_code_embeddings.weight)\n",
    "        torch.nn.init.xavier_uniform_(self.index_group_no_embeddings.weight)\n",
    "        torch.nn.init.xavier_uniform_(self.section_no_embeddings.weight)\n",
    "        torch.nn.init.xavier_uniform_(self.garment_group_no_embeddings.weight)\n",
    "        torch.nn.init.xavier_uniform_(self.club_member_status_embeddings.weight)\n",
    "        torch.nn.init.xavier_uniform_(self.fashion_news_frequency_embeddings.weight)\n",
    "        torch.nn.init.xavier_uniform_(self.postal_code_embeddings.weight)\n",
    "        \n",
    "        # FC layers\n",
    "        self.fc_1 = nn.Linear(in_features=embedding_dim*17+len(NUMERIC_FEATURES), out_features=500)            \n",
    "        self.fc_2 = nn.Linear(in_features=500, out_features=250)\n",
    "        # self.fc_3 = nn.Linear(in_features=500, out_features=250)        \n",
    "        self.fc_3 = nn.Linear(in_features=250, out_features=1)\n",
    "        \n",
    "        # Activation functions\n",
    "        self.relu = nn.ReLU()        \n",
    "        self.sigmoid = nn.Sigmoid()\n",
    "        \n",
    "        # Dropout\n",
    "        self.dropout = nn.Dropout(0.2)\n",
    "        \n",
    "    def forward(\n",
    "        self, \n",
    "        user_id, \n",
    "        item_id,\n",
    "        product_code, \n",
    "        product_type_no, \n",
    "        product_group_no, \n",
    "        graphical_appearance_no, \n",
    "        colour_group_code, \n",
    "        perceived_colour_value_id, \n",
    "        perceived_colour_master_id, \n",
    "        department_no, \n",
    "        index_code, \n",
    "        index_group_no, \n",
    "        section_no, \n",
    "        garment_group_no,\n",
    "        club_member_status,\n",
    "        fashion_news_frequency,\n",
    "        postal_code,\n",
    "        numeric_features,\n",
    "    ):\n",
    "\n",
    "        user_emb = self.user_embeddings(user_id)\n",
    "        item_emb = self.item_embeddings(item_id)\n",
    "        product_code_emb = self.product_code_embeddings(product_code)\n",
    "        product_type_no_emb = self.product_type_no_embeddings(product_type_no)\n",
    "        product_group_no_emb = self.product_group_no_embeddings(product_group_no)\n",
    "        graphical_appearance_no_emb = self.graphical_appearance_no_embeddings(graphical_appearance_no)\n",
    "        colour_group_code_emb = self.colour_group_code_embeddings(colour_group_code)\n",
    "        perceived_colour_value_id_emb = self.perceived_colour_value_id_embeddings(perceived_colour_value_id)\n",
    "        perceived_colour_master_id_emb = self.perceived_colour_master_id_embeddings(perceived_colour_master_id)\n",
    "        department_no_emb = self.department_no_embeddings(department_no)\n",
    "        index_code_emb = self.index_code_embeddings(index_code)\n",
    "        index_group_no_emb = self.index_group_no_embeddings(index_group_no)\n",
    "        section_no_emb = self.section_no_embeddings(section_no)\n",
    "        garment_group_no_emb = self.garment_group_no_embeddings(garment_group_no)\n",
    "        \n",
    "        club_member_status_emb = self.club_member_status_embeddings(club_member_status)\n",
    "        fashion_news_frequency_emb = self.fashion_news_frequency_embeddings(fashion_news_frequency)\n",
    "        postal_code_emb = self.postal_code_embeddings(postal_code)\n",
    "              \n",
    "        concatenated_emb = torch.concat(\n",
    "            [\n",
    "                user_emb, \n",
    "                item_emb,\n",
    "                product_code_emb,\n",
    "                product_type_no_emb,\n",
    "                product_group_no_emb,\n",
    "                graphical_appearance_no_emb,\n",
    "                colour_group_code_emb,\n",
    "                perceived_colour_value_id_emb,\n",
    "                perceived_colour_master_id_emb,\n",
    "                department_no_emb,\n",
    "                index_code_emb,\n",
    "                index_group_no_emb,\n",
    "                section_no_emb,\n",
    "                garment_group_no_emb,\n",
    "                club_member_status_emb,\n",
    "                fashion_news_frequency_emb,\n",
    "                postal_code_emb,\n",
    "                numeric_features\n",
    "            ], \n",
    "            dim=1\n",
    "        )\n",
    "        \n",
    "        x = self.fc_1(concatenated_emb)\n",
    "        x = self.relu(x)\n",
    "        x = self.dropout(x)\n",
    "        \n",
    "        x = self.fc_2(x)\n",
    "        x = self.relu(x)\n",
    "        x = self.dropout(x)\n",
    "        \n",
    "        x = self.fc_3(x)\n",
    "        x = self.sigmoid(x)\n",
    "\n",
    "        return x"
   ]
  },
  {
   "cell_type": "code",
   "execution_count": 157,
   "id": "54c91adf",
   "metadata": {
    "executionInfo": {
     "elapsed": 415,
     "status": "ok",
     "timestamp": 1649692217678,
     "user": {
      "displayName": "Steven George",
      "userId": "07709250839253394649"
     },
     "user_tz": -60
    },
    "id": "81c8fc66"
   },
   "outputs": [],
   "source": [
    "fashion_rec_v2 = FashionRecV2(embedding_dim=32)"
   ]
  },
  {
   "cell_type": "code",
   "execution_count": 158,
   "id": "3f72d2f6",
   "metadata": {
    "colab": {
     "base_uri": "https://localhost:8080/"
    },
    "executionInfo": {
     "elapsed": 2366,
     "status": "ok",
     "timestamp": 1649692220041,
     "user": {
      "displayName": "Steven George",
      "userId": "07709250839253394649"
     },
     "user_tz": -60
    },
    "id": "f2e25fed",
    "outputId": "e47caeb3-066e-47ea-95ad-2a0a9051737a"
   },
   "outputs": [
    {
     "data": {
      "text/plain": [
       "FashionRecV2(\n",
       "  (user_embeddings): Embedding(9208, 32)\n",
       "  (item_embeddings): Embedding(105542, 32)\n",
       "  (product_code_embeddings): Embedding(47224, 32)\n",
       "  (product_type_no_embeddings): Embedding(132, 32)\n",
       "  (product_group_no_embeddings): Embedding(19, 32)\n",
       "  (graphical_appearance_no_embeddings): Embedding(30, 32)\n",
       "  (colour_group_code_embeddings): Embedding(50, 32)\n",
       "  (perceived_colour_value_id_embeddings): Embedding(8, 32)\n",
       "  (perceived_colour_master_id_embeddings): Embedding(20, 32)\n",
       "  (department_no_embeddings): Embedding(299, 32)\n",
       "  (index_code_embeddings): Embedding(10, 32)\n",
       "  (index_group_no_embeddings): Embedding(5, 32)\n",
       "  (section_no_embeddings): Embedding(57, 32)\n",
       "  (garment_group_no_embeddings): Embedding(21, 32)\n",
       "  (club_member_status_embeddings): Embedding(4, 32)\n",
       "  (fashion_news_frequency_embeddings): Embedding(3, 32)\n",
       "  (postal_code_embeddings): Embedding(352899, 32)\n",
       "  (fc_1): Linear(in_features=552, out_features=500, bias=True)\n",
       "  (fc_2): Linear(in_features=500, out_features=250, bias=True)\n",
       "  (fc_3): Linear(in_features=250, out_features=1, bias=True)\n",
       "  (relu): ReLU()\n",
       "  (sigmoid): Sigmoid()\n",
       "  (dropout): Dropout(p=0.2, inplace=False)\n",
       ")"
      ]
     },
     "execution_count": 158,
     "metadata": {},
     "output_type": "execute_result"
    }
   ],
   "source": [
    "fashion_rec_v2.to(device)"
   ]
  },
  {
   "cell_type": "code",
   "execution_count": 159,
   "id": "9dd0e171",
   "metadata": {
    "executionInfo": {
     "elapsed": 17,
     "status": "ok",
     "timestamp": 1649692220041,
     "user": {
      "displayName": "Steven George",
      "userId": "07709250839253394649"
     },
     "user_tz": -60
    },
    "id": "f107210d"
   },
   "outputs": [],
   "source": [
    "# fashion_rec_v2(torch.tensor([0]), torch.tensor([0]), torch.tensor([0]), torch.tensor([0]), torch.tensor([0]), torch.tensor([0]), torch.tensor([0]), torch.tensor([0]), torch.tensor([0]), torch.tensor([0]), torch.tensor([0]), torch.tensor([0]), torch.tensor([0]), torch.tensor([0]), )"
   ]
  },
  {
   "cell_type": "code",
   "execution_count": 160,
   "id": "4f3e4d4f",
   "metadata": {
    "executionInfo": {
     "elapsed": 17,
     "status": "ok",
     "timestamp": 1649692220042,
     "user": {
      "displayName": "Steven George",
      "userId": "07709250839253394649"
     },
     "user_tz": -60
    },
    "id": "1bfe3cfa"
   },
   "outputs": [],
   "source": [
    "optimizer = torch.optim.Adam(params=fashion_rec_v2.parameters(), lr=0.001)"
   ]
  },
  {
   "cell_type": "markdown",
   "id": "750fc4dc",
   "metadata": {
    "id": "3225040b"
   },
   "source": [
    "Switched to BCELoss instead of weighted MSE. Had more success with this."
   ]
  },
  {
   "cell_type": "code",
   "execution_count": 161,
   "id": "c8e7cfcf",
   "metadata": {
    "executionInfo": {
     "elapsed": 16,
     "status": "ok",
     "timestamp": 1649692220042,
     "user": {
      "displayName": "Steven George",
      "userId": "07709250839253394649"
     },
     "user_tz": -60
    },
    "id": "91d670a1"
   },
   "outputs": [],
   "source": [
    "criterion = nn.BCELoss()"
   ]
  },
  {
   "cell_type": "code",
   "execution_count": 164,
   "id": "685eb450",
   "metadata": {
    "colab": {
     "base_uri": "https://localhost:8080/"
    },
    "executionInfo": {
     "elapsed": 716164,
     "status": "ok",
     "timestamp": 1649692936190,
     "user": {
      "displayName": "Steven George",
      "userId": "07709250839253394649"
     },
     "user_tz": -60
    },
    "id": "8f37766e",
    "outputId": "33b3f175-7f2f-45cd-aa6d-d59017371f3b"
   },
   "outputs": [],
   "source": [
    "MAX_EPOCHS = 5\n",
    "training_losses = []\n",
    "dev_losses = []\n",
    "\n",
    "for epoch in range(MAX_EPOCHS):\n",
    "    \n",
    "    for data in tqdm(train_loader):\n",
    "        \n",
    "        user_id, item_id, product_code, product_type_no, product_group_no, graphical_appearance_no, colour_group_code, perceived_colour_value_id, perceived_colour_master_id, department_no, index_code, index_group_no, section_no, garment_group_no, club_member_status, fashion_news_frequency, postal_code, numeric_features, label = data\n",
    "        \n",
    "        user_id, item_id, product_code, product_type_no, product_group_no, graphical_appearance_no, colour_group_code, perceived_colour_value_id, perceived_colour_master_id, department_no, index_code, index_group_no, section_no, garment_group_no, club_member_status, fashion_news_frequency, postal_code, numeric_features, label = (\n",
    "            user_id.to(device), \n",
    "            item_id.to(device), \n",
    "            product_code.to(device), \n",
    "            product_type_no.to(device), \n",
    "            product_group_no.to(device), \n",
    "            graphical_appearance_no.to(device), \n",
    "            colour_group_code.to(device), \n",
    "            perceived_colour_value_id.to(device), \n",
    "            perceived_colour_master_id.to(device), \n",
    "            department_no.to(device), \n",
    "            index_code.to(device), \n",
    "            index_group_no.to(device), \n",
    "            section_no.to(device), \n",
    "            garment_group_no.to(device), \n",
    "            club_member_status.to(device), \n",
    "            fashion_news_frequency.to(device), \n",
    "            postal_code.to(device), \n",
    "            numeric_features.to(device),\n",
    "            label.to(device)\n",
    "        )    \n",
    "\n",
    "        optimizer.zero_grad()  # Set gradients to 0 otherwise will accumulate\n",
    "\n",
    "        pred = fashion_rec_v2(\n",
    "            user_id, \n",
    "            item_id, \n",
    "            product_code, \n",
    "            product_type_no, \n",
    "            product_group_no, \n",
    "            graphical_appearance_no, \n",
    "            colour_group_code, \n",
    "            perceived_colour_value_id, \n",
    "            perceived_colour_master_id, \n",
    "            department_no, \n",
    "            index_code, \n",
    "            index_group_no, \n",
    "            section_no, \n",
    "            garment_group_no,\n",
    "            club_member_status,\n",
    "            fashion_news_frequency,\n",
    "            postal_code,\n",
    "            numeric_features.float()\n",
    "        )\n",
    "\n",
    "        loss = criterion(pred.flatten(), label.float())\n",
    "\n",
    "        loss.backward()  \n",
    "        \n",
    "        optimizer.step()\n",
    "        \n",
    "    # Compute training loss\n",
    "    \n",
    "    total_train_loss = 0\n",
    "\n",
    "    fashion_rec_v2.eval()\n",
    "\n",
    "    with torch.no_grad():\n",
    "        for data in tqdm(DataLoader(train_dataset, batch_size=BATCH_SIZE*4)):\n",
    "            \n",
    "            user_id, item_id, product_code, product_type_no, product_group_no, graphical_appearance_no, colour_group_code, perceived_colour_value_id, perceived_colour_master_id, department_no, index_code, index_group_no, section_no, garment_group_no, club_member_status, fashion_news_frequency, postal_code, numeric_features, label = data\n",
    "\n",
    "            user_id, item_id, product_code, product_type_no, product_group_no, graphical_appearance_no, colour_group_code, perceived_colour_value_id, perceived_colour_master_id, department_no, index_code, index_group_no, section_no, garment_group_no, club_member_status, fashion_news_frequency, postal_code, numeric_features, label = (\n",
    "                user_id.to(device), \n",
    "                item_id.to(device), \n",
    "                product_code.to(device), \n",
    "                product_type_no.to(device), \n",
    "                product_group_no.to(device), \n",
    "                graphical_appearance_no.to(device), \n",
    "                colour_group_code.to(device), \n",
    "                perceived_colour_value_id.to(device), \n",
    "                perceived_colour_master_id.to(device), \n",
    "                department_no.to(device), \n",
    "                index_code.to(device), \n",
    "                index_group_no.to(device), \n",
    "                section_no.to(device), \n",
    "                garment_group_no.to(device), \n",
    "                club_member_status.to(device), \n",
    "                fashion_news_frequency.to(device), \n",
    "                postal_code.to(device), \n",
    "                numeric_features.to(device),\n",
    "                label.to(device)\n",
    "            )\n",
    "\n",
    "            pred = fashion_rec_v2(\n",
    "                user_id, \n",
    "                item_id, \n",
    "                product_code, \n",
    "                product_type_no, \n",
    "                product_group_no, \n",
    "                graphical_appearance_no, \n",
    "                colour_group_code, \n",
    "                perceived_colour_value_id, \n",
    "                perceived_colour_master_id, \n",
    "                department_no, \n",
    "                index_code, \n",
    "                index_group_no, \n",
    "                section_no, \n",
    "                garment_group_no,\n",
    "                club_member_status,\n",
    "                fashion_news_frequency,\n",
    "                postal_code,\n",
    "                numeric_features.float()\n",
    "            )\n",
    "\n",
    "            loss = nn.BCELoss(reduction='sum')(pred.flatten(), label.float())\n",
    "\n",
    "            total_train_loss += loss.item()\n",
    "\n",
    "        mean_train_loss = total_train_loss / len(train_dataset)\n",
    "\n",
    "        print(f\"Training loss: {mean_train_loss}\")\n",
    "        training_losses.append(mean_train_loss)\n",
    "    \n",
    "    # Compute dev loss\n",
    "    \n",
    "    total_dev_loss = 0\n",
    "\n",
    "    with torch.no_grad():\n",
    "        for data in tqdm(DataLoader(dev_dataset, batch_size=BATCH_SIZE*4)):\n",
    "            \n",
    "            user_id, item_id, product_code, product_type_no, product_group_no, graphical_appearance_no, colour_group_code, perceived_colour_value_id, perceived_colour_master_id, department_no, index_code, index_group_no, section_no, garment_group_no, club_member_status, fashion_news_frequency, postal_code, numeric_features, label = data\n",
    "        \n",
    "            user_id, item_id, product_code, product_type_no, product_group_no, graphical_appearance_no, colour_group_code, perceived_colour_value_id, perceived_colour_master_id, department_no, index_code, index_group_no, section_no, garment_group_no, club_member_status, fashion_news_frequency, postal_code, numeric_features, label = (\n",
    "                user_id.to(device), \n",
    "                item_id.to(device), \n",
    "                product_code.to(device), \n",
    "                product_type_no.to(device), \n",
    "                product_group_no.to(device), \n",
    "                graphical_appearance_no.to(device), \n",
    "                colour_group_code.to(device), \n",
    "                perceived_colour_value_id.to(device), \n",
    "                perceived_colour_master_id.to(device), \n",
    "                department_no.to(device), \n",
    "                index_code.to(device), \n",
    "                index_group_no.to(device), \n",
    "                section_no.to(device), \n",
    "                garment_group_no.to(device), \n",
    "                club_member_status.to(device), \n",
    "                fashion_news_frequency.to(device), \n",
    "                postal_code.to(device), \n",
    "                numeric_features.to(device),\n",
    "                label.to(device)\n",
    "            )    \n",
    "\n",
    "            optimizer.zero_grad()  # Set gradients to 0 otherwise will accumulate\n",
    "\n",
    "            pred = fashion_rec_v2(\n",
    "                user_id, \n",
    "                item_id, \n",
    "                product_code, \n",
    "                product_type_no, \n",
    "                product_group_no, \n",
    "                graphical_appearance_no, \n",
    "                colour_group_code, \n",
    "                perceived_colour_value_id, \n",
    "                perceived_colour_master_id, \n",
    "                department_no, \n",
    "                index_code, \n",
    "                index_group_no, \n",
    "                section_no, \n",
    "                garment_group_no,\n",
    "                club_member_status,\n",
    "                fashion_news_frequency,\n",
    "                postal_code,\n",
    "                numeric_features.float()\n",
    "            )\n",
    "\n",
    "            loss = nn.BCELoss(reduction='sum')(pred.flatten(), label.float())\n",
    "\n",
    "            total_dev_loss += loss.item()\n",
    "\n",
    "        mean_dev_loss = total_dev_loss / len(dev_dataset)\n",
    "\n",
    "        print(f\"Dev loss: {mean_dev_loss}\")\n",
    "        dev_losses.append(mean_dev_loss)\n",
    "    \n",
    "    fashion_rec_v2.train()"
   ]
  },
  {
   "cell_type": "markdown",
   "id": "411b041c",
   "metadata": {
    "id": "d86ac90d"
   },
   "source": [
    "### Test set evaluation"
   ]
  },
  {
   "cell_type": "code",
   "execution_count": 79,
   "id": "efad89a0",
   "metadata": {
    "executionInfo": {
     "elapsed": 16,
     "status": "ok",
     "timestamp": 1649692936190,
     "user": {
      "displayName": "Steven George",
      "userId": "07709250839253394649"
     },
     "user_tz": -60
    },
    "id": "e09a85d8"
   },
   "outputs": [],
   "source": [
    "test_set['article_id_idx'] = test_set['article_id'].map(article_id_to_idx)"
   ]
  },
  {
   "cell_type": "code",
   "execution_count": 80,
   "id": "0d1d0128",
   "metadata": {
    "colab": {
     "base_uri": "https://localhost:8080/",
     "height": 206
    },
    "executionInfo": {
     "elapsed": 410,
     "status": "ok",
     "timestamp": 1649692936587,
     "user": {
      "displayName": "Steven George",
      "userId": "07709250839253394649"
     },
     "user_tz": -60
    },
    "id": "ee252a44",
    "outputId": "68c55649-8eab-498e-db47-0965282d6e86"
   },
   "outputs": [
    {
     "data": {
      "text/html": [
       "\n",
       "  <div id=\"df-8bfd38e9-9c90-4ee4-a78d-ccd12aa1f915\">\n",
       "    <div class=\"colab-df-container\">\n",
       "      <div>\n",
       "<style scoped>\n",
       "    .dataframe tbody tr th:only-of-type {\n",
       "        vertical-align: middle;\n",
       "    }\n",
       "\n",
       "    .dataframe tbody tr th {\n",
       "        vertical-align: top;\n",
       "    }\n",
       "\n",
       "    .dataframe thead th {\n",
       "        text-align: right;\n",
       "    }\n",
       "</style>\n",
       "<table border=\"1\" class=\"dataframe\">\n",
       "  <thead>\n",
       "    <tr style=\"text-align: right;\">\n",
       "      <th></th>\n",
       "      <th>customer_id</th>\n",
       "      <th>article_id_idx</th>\n",
       "    </tr>\n",
       "  </thead>\n",
       "  <tbody>\n",
       "    <tr>\n",
       "      <th>0</th>\n",
       "      <td>000058a12d5b43e67d225668fa1f8d618c13dc232df0ca...</td>\n",
       "      <td>[78503]</td>\n",
       "    </tr>\n",
       "    <tr>\n",
       "      <th>1</th>\n",
       "      <td>0015f37f752a41a75c3be6f3f92deedc4c87d039f1758e...</td>\n",
       "      <td>[74893, 74893, 24872, 104987, 9801, 9801, 6912...</td>\n",
       "    </tr>\n",
       "    <tr>\n",
       "      <th>2</th>\n",
       "      <td>00282135561702f5b3b750fa3382d8fd83ce5d761a507e...</td>\n",
       "      <td>[92815, 86041]</td>\n",
       "    </tr>\n",
       "    <tr>\n",
       "      <th>3</th>\n",
       "      <td>00356a94bb9bed341f6dba58ad722974b01a1cbd9f06ef...</td>\n",
       "      <td>[104211, 17044, 17044, 16024, 29250, 98445, 66...</td>\n",
       "    </tr>\n",
       "    <tr>\n",
       "      <th>4</th>\n",
       "      <td>00462904b288681a9facb555f75dd2cf4d0f730a6e0ea7...</td>\n",
       "      <td>[87467, 99966, 42626, 79834, 97540, 103280, 79...</td>\n",
       "    </tr>\n",
       "  </tbody>\n",
       "</table>\n",
       "</div>\n",
       "      <button class=\"colab-df-convert\" onclick=\"convertToInteractive('df-8bfd38e9-9c90-4ee4-a78d-ccd12aa1f915')\"\n",
       "              title=\"Convert this dataframe to an interactive table.\"\n",
       "              style=\"display:none;\">\n",
       "        \n",
       "  <svg xmlns=\"http://www.w3.org/2000/svg\" height=\"24px\"viewBox=\"0 0 24 24\"\n",
       "       width=\"24px\">\n",
       "    <path d=\"M0 0h24v24H0V0z\" fill=\"none\"/>\n",
       "    <path d=\"M18.56 5.44l.94 2.06.94-2.06 2.06-.94-2.06-.94-.94-2.06-.94 2.06-2.06.94zm-11 1L8.5 8.5l.94-2.06 2.06-.94-2.06-.94L8.5 2.5l-.94 2.06-2.06.94zm10 10l.94 2.06.94-2.06 2.06-.94-2.06-.94-.94-2.06-.94 2.06-2.06.94z\"/><path d=\"M17.41 7.96l-1.37-1.37c-.4-.4-.92-.59-1.43-.59-.52 0-1.04.2-1.43.59L10.3 9.45l-7.72 7.72c-.78.78-.78 2.05 0 2.83L4 21.41c.39.39.9.59 1.41.59.51 0 1.02-.2 1.41-.59l7.78-7.78 2.81-2.81c.8-.78.8-2.07 0-2.86zM5.41 20L4 18.59l7.72-7.72 1.47 1.35L5.41 20z\"/>\n",
       "  </svg>\n",
       "      </button>\n",
       "      \n",
       "  <style>\n",
       "    .colab-df-container {\n",
       "      display:flex;\n",
       "      flex-wrap:wrap;\n",
       "      gap: 12px;\n",
       "    }\n",
       "\n",
       "    .colab-df-convert {\n",
       "      background-color: #E8F0FE;\n",
       "      border: none;\n",
       "      border-radius: 50%;\n",
       "      cursor: pointer;\n",
       "      display: none;\n",
       "      fill: #1967D2;\n",
       "      height: 32px;\n",
       "      padding: 0 0 0 0;\n",
       "      width: 32px;\n",
       "    }\n",
       "\n",
       "    .colab-df-convert:hover {\n",
       "      background-color: #E2EBFA;\n",
       "      box-shadow: 0px 1px 2px rgba(60, 64, 67, 0.3), 0px 1px 3px 1px rgba(60, 64, 67, 0.15);\n",
       "      fill: #174EA6;\n",
       "    }\n",
       "\n",
       "    [theme=dark] .colab-df-convert {\n",
       "      background-color: #3B4455;\n",
       "      fill: #D2E3FC;\n",
       "    }\n",
       "\n",
       "    [theme=dark] .colab-df-convert:hover {\n",
       "      background-color: #434B5C;\n",
       "      box-shadow: 0px 1px 3px 1px rgba(0, 0, 0, 0.15);\n",
       "      filter: drop-shadow(0px 1px 2px rgba(0, 0, 0, 0.3));\n",
       "      fill: #FFFFFF;\n",
       "    }\n",
       "  </style>\n",
       "\n",
       "      <script>\n",
       "        const buttonEl =\n",
       "          document.querySelector('#df-8bfd38e9-9c90-4ee4-a78d-ccd12aa1f915 button.colab-df-convert');\n",
       "        buttonEl.style.display =\n",
       "          google.colab.kernel.accessAllowed ? 'block' : 'none';\n",
       "\n",
       "        async function convertToInteractive(key) {\n",
       "          const element = document.querySelector('#df-8bfd38e9-9c90-4ee4-a78d-ccd12aa1f915');\n",
       "          const dataTable =\n",
       "            await google.colab.kernel.invokeFunction('convertToInteractive',\n",
       "                                                     [key], {});\n",
       "          if (!dataTable) return;\n",
       "\n",
       "          const docLinkHtml = 'Like what you see? Visit the ' +\n",
       "            '<a target=\"_blank\" href=https://colab.research.google.com/notebooks/data_table.ipynb>data table notebook</a>'\n",
       "            + ' to learn more about interactive tables.';\n",
       "          element.innerHTML = '';\n",
       "          dataTable['output_type'] = 'display_data';\n",
       "          await google.colab.output.renderOutput(dataTable, element);\n",
       "          const docLink = document.createElement('div');\n",
       "          docLink.innerHTML = docLinkHtml;\n",
       "          element.appendChild(docLink);\n",
       "        }\n",
       "      </script>\n",
       "    </div>\n",
       "  </div>\n",
       "  "
      ],
      "text/plain": [
       "                                         customer_id  \\\n",
       "0  000058a12d5b43e67d225668fa1f8d618c13dc232df0ca...   \n",
       "1  0015f37f752a41a75c3be6f3f92deedc4c87d039f1758e...   \n",
       "2  00282135561702f5b3b750fa3382d8fd83ce5d761a507e...   \n",
       "3  00356a94bb9bed341f6dba58ad722974b01a1cbd9f06ef...   \n",
       "4  00462904b288681a9facb555f75dd2cf4d0f730a6e0ea7...   \n",
       "\n",
       "                                      article_id_idx  \n",
       "0                                            [78503]  \n",
       "1  [74893, 74893, 24872, 104987, 9801, 9801, 6912...  \n",
       "2                                     [92815, 86041]  \n",
       "3  [104211, 17044, 17044, 16024, 29250, 98445, 66...  \n",
       "4  [87467, 99966, 42626, 79834, 97540, 103280, 79...  "
      ]
     },
     "execution_count": 80,
     "metadata": {},
     "output_type": "execute_result"
    }
   ],
   "source": [
    "test_set_by_customer = test_set.groupby('customer_id').apply(lambda x: list(x['article_id_idx'])).reset_index().rename(columns={0: 'article_id_idx'})\n",
    "test_set_by_customer.head()"
   ]
  },
  {
   "cell_type": "code",
   "execution_count": 81,
   "id": "8ed70942",
   "metadata": {
    "colab": {
     "base_uri": "https://localhost:8080/"
    },
    "executionInfo": {
     "elapsed": 16,
     "status": "ok",
     "timestamp": 1649692936588,
     "user": {
      "displayName": "Steven George",
      "userId": "07709250839253394649"
     },
     "user_tz": -60
    },
    "id": "507f5e6e",
    "outputId": "b3f36298-569c-4d2f-988b-97782772702e"
   },
   "outputs": [
    {
     "data": {
      "text/plain": [
       "(32995, 6)"
      ]
     },
     "execution_count": 81,
     "metadata": {},
     "output_type": "execute_result"
    }
   ],
   "source": [
    "test_set.shape"
   ]
  },
  {
   "cell_type": "code",
   "execution_count": 82,
   "id": "456ebc61",
   "metadata": {
    "colab": {
     "base_uri": "https://localhost:8080/"
    },
    "executionInfo": {
     "elapsed": 12,
     "status": "ok",
     "timestamp": 1649692936589,
     "user": {
      "displayName": "Steven George",
      "userId": "07709250839253394649"
     },
     "user_tz": -60
    },
    "id": "612522bf",
    "outputId": "21209125-4ec9-4f78-95a0-61960b696352"
   },
   "outputs": [
    {
     "data": {
      "text/plain": [
       "0.17618544494812244"
      ]
     },
     "execution_count": 82,
     "metadata": {},
     "output_type": "execute_result"
    }
   ],
   "source": [
    "test_set.shape[0] * 100 / len(dev_dataset) * 9 / 60"
   ]
  },
  {
   "cell_type": "code",
   "execution_count": 83,
   "id": "4d26fb02",
   "metadata": {
    "colab": {
     "base_uri": "https://localhost:8080/",
     "height": 270
    },
    "executionInfo": {
     "elapsed": 9,
     "status": "ok",
     "timestamp": 1649692936589,
     "user": {
      "displayName": "Steven George",
      "userId": "07709250839253394649"
     },
     "user_tz": -60
    },
    "id": "83d733ff",
    "outputId": "5714c5ea-20d1-433f-d272-0ddbdc3d5b43"
   },
   "outputs": [
    {
     "data": {
      "text/html": [
       "\n",
       "  <div id=\"df-376801dd-bc4d-49b0-94c5-5d32c2878fdb\">\n",
       "    <div class=\"colab-df-container\">\n",
       "      <div>\n",
       "<style scoped>\n",
       "    .dataframe tbody tr th:only-of-type {\n",
       "        vertical-align: middle;\n",
       "    }\n",
       "\n",
       "    .dataframe tbody tr th {\n",
       "        vertical-align: top;\n",
       "    }\n",
       "\n",
       "    .dataframe thead th {\n",
       "        text-align: right;\n",
       "    }\n",
       "</style>\n",
       "<table border=\"1\" class=\"dataframe\">\n",
       "  <thead>\n",
       "    <tr style=\"text-align: right;\">\n",
       "      <th></th>\n",
       "      <th>customer_id_idx</th>\n",
       "      <th>article_id_idx</th>\n",
       "      <th>product_code</th>\n",
       "      <th>product_type_no</th>\n",
       "      <th>product_group_no</th>\n",
       "      <th>graphical_appearance_no</th>\n",
       "      <th>colour_group_code</th>\n",
       "      <th>perceived_colour_value_id</th>\n",
       "      <th>perceived_colour_master_id</th>\n",
       "      <th>department_no</th>\n",
       "      <th>index_code</th>\n",
       "      <th>index_group_no</th>\n",
       "      <th>section_no</th>\n",
       "      <th>garment_group_no</th>\n",
       "      <th>purchased</th>\n",
       "    </tr>\n",
       "  </thead>\n",
       "  <tbody>\n",
       "    <tr>\n",
       "      <th>5885273</th>\n",
       "      <td>2847</td>\n",
       "      <td>73698</td>\n",
       "      <td>30654</td>\n",
       "      <td>6</td>\n",
       "      <td>0</td>\n",
       "      <td>0</td>\n",
       "      <td>0</td>\n",
       "      <td>0</td>\n",
       "      <td>0</td>\n",
       "      <td>23</td>\n",
       "      <td>7</td>\n",
       "      <td>4</td>\n",
       "      <td>9</td>\n",
       "      <td>0</td>\n",
       "      <td>0</td>\n",
       "    </tr>\n",
       "    <tr>\n",
       "      <th>541363</th>\n",
       "      <td>3804</td>\n",
       "      <td>64918</td>\n",
       "      <td>26815</td>\n",
       "      <td>61</td>\n",
       "      <td>4</td>\n",
       "      <td>17</td>\n",
       "      <td>23</td>\n",
       "      <td>0</td>\n",
       "      <td>2</td>\n",
       "      <td>79</td>\n",
       "      <td>3</td>\n",
       "      <td>2</td>\n",
       "      <td>19</td>\n",
       "      <td>4</td>\n",
       "      <td>0</td>\n",
       "    </tr>\n",
       "    <tr>\n",
       "      <th>975898</th>\n",
       "      <td>4791</td>\n",
       "      <td>82204</td>\n",
       "      <td>34722</td>\n",
       "      <td>23</td>\n",
       "      <td>3</td>\n",
       "      <td>0</td>\n",
       "      <td>0</td>\n",
       "      <td>0</td>\n",
       "      <td>0</td>\n",
       "      <td>186</td>\n",
       "      <td>0</td>\n",
       "      <td>0</td>\n",
       "      <td>47</td>\n",
       "      <td>16</td>\n",
       "      <td>0</td>\n",
       "    </tr>\n",
       "    <tr>\n",
       "      <th>5642562</th>\n",
       "      <td>5364</td>\n",
       "      <td>75582</td>\n",
       "      <td>31615</td>\n",
       "      <td>38</td>\n",
       "      <td>0</td>\n",
       "      <td>0</td>\n",
       "      <td>0</td>\n",
       "      <td>0</td>\n",
       "      <td>0</td>\n",
       "      <td>209</td>\n",
       "      <td>0</td>\n",
       "      <td>0</td>\n",
       "      <td>32</td>\n",
       "      <td>12</td>\n",
       "      <td>0</td>\n",
       "    </tr>\n",
       "    <tr>\n",
       "      <th>2614341</th>\n",
       "      <td>5348</td>\n",
       "      <td>62200</td>\n",
       "      <td>25649</td>\n",
       "      <td>21</td>\n",
       "      <td>1</td>\n",
       "      <td>0</td>\n",
       "      <td>11</td>\n",
       "      <td>5</td>\n",
       "      <td>7</td>\n",
       "      <td>4</td>\n",
       "      <td>1</td>\n",
       "      <td>0</td>\n",
       "      <td>1</td>\n",
       "      <td>1</td>\n",
       "      <td>0</td>\n",
       "    </tr>\n",
       "  </tbody>\n",
       "</table>\n",
       "</div>\n",
       "      <button class=\"colab-df-convert\" onclick=\"convertToInteractive('df-376801dd-bc4d-49b0-94c5-5d32c2878fdb')\"\n",
       "              title=\"Convert this dataframe to an interactive table.\"\n",
       "              style=\"display:none;\">\n",
       "        \n",
       "  <svg xmlns=\"http://www.w3.org/2000/svg\" height=\"24px\"viewBox=\"0 0 24 24\"\n",
       "       width=\"24px\">\n",
       "    <path d=\"M0 0h24v24H0V0z\" fill=\"none\"/>\n",
       "    <path d=\"M18.56 5.44l.94 2.06.94-2.06 2.06-.94-2.06-.94-.94-2.06-.94 2.06-2.06.94zm-11 1L8.5 8.5l.94-2.06 2.06-.94-2.06-.94L8.5 2.5l-.94 2.06-2.06.94zm10 10l.94 2.06.94-2.06 2.06-.94-2.06-.94-.94-2.06-.94 2.06-2.06.94z\"/><path d=\"M17.41 7.96l-1.37-1.37c-.4-.4-.92-.59-1.43-.59-.52 0-1.04.2-1.43.59L10.3 9.45l-7.72 7.72c-.78.78-.78 2.05 0 2.83L4 21.41c.39.39.9.59 1.41.59.51 0 1.02-.2 1.41-.59l7.78-7.78 2.81-2.81c.8-.78.8-2.07 0-2.86zM5.41 20L4 18.59l7.72-7.72 1.47 1.35L5.41 20z\"/>\n",
       "  </svg>\n",
       "      </button>\n",
       "      \n",
       "  <style>\n",
       "    .colab-df-container {\n",
       "      display:flex;\n",
       "      flex-wrap:wrap;\n",
       "      gap: 12px;\n",
       "    }\n",
       "\n",
       "    .colab-df-convert {\n",
       "      background-color: #E8F0FE;\n",
       "      border: none;\n",
       "      border-radius: 50%;\n",
       "      cursor: pointer;\n",
       "      display: none;\n",
       "      fill: #1967D2;\n",
       "      height: 32px;\n",
       "      padding: 0 0 0 0;\n",
       "      width: 32px;\n",
       "    }\n",
       "\n",
       "    .colab-df-convert:hover {\n",
       "      background-color: #E2EBFA;\n",
       "      box-shadow: 0px 1px 2px rgba(60, 64, 67, 0.3), 0px 1px 3px 1px rgba(60, 64, 67, 0.15);\n",
       "      fill: #174EA6;\n",
       "    }\n",
       "\n",
       "    [theme=dark] .colab-df-convert {\n",
       "      background-color: #3B4455;\n",
       "      fill: #D2E3FC;\n",
       "    }\n",
       "\n",
       "    [theme=dark] .colab-df-convert:hover {\n",
       "      background-color: #434B5C;\n",
       "      box-shadow: 0px 1px 3px 1px rgba(0, 0, 0, 0.15);\n",
       "      filter: drop-shadow(0px 1px 2px rgba(0, 0, 0, 0.3));\n",
       "      fill: #FFFFFF;\n",
       "    }\n",
       "  </style>\n",
       "\n",
       "      <script>\n",
       "        const buttonEl =\n",
       "          document.querySelector('#df-376801dd-bc4d-49b0-94c5-5d32c2878fdb button.colab-df-convert');\n",
       "        buttonEl.style.display =\n",
       "          google.colab.kernel.accessAllowed ? 'block' : 'none';\n",
       "\n",
       "        async function convertToInteractive(key) {\n",
       "          const element = document.querySelector('#df-376801dd-bc4d-49b0-94c5-5d32c2878fdb');\n",
       "          const dataTable =\n",
       "            await google.colab.kernel.invokeFunction('convertToInteractive',\n",
       "                                                     [key], {});\n",
       "          if (!dataTable) return;\n",
       "\n",
       "          const docLinkHtml = 'Like what you see? Visit the ' +\n",
       "            '<a target=\"_blank\" href=https://colab.research.google.com/notebooks/data_table.ipynb>data table notebook</a>'\n",
       "            + ' to learn more about interactive tables.';\n",
       "          element.innerHTML = '';\n",
       "          dataTable['output_type'] = 'display_data';\n",
       "          await google.colab.output.renderOutput(dataTable, element);\n",
       "          const docLink = document.createElement('div');\n",
       "          docLink.innerHTML = docLinkHtml;\n",
       "          element.appendChild(docLink);\n",
       "        }\n",
       "      </script>\n",
       "    </div>\n",
       "  </div>\n",
       "  "
      ],
      "text/plain": [
       "         customer_id_idx article_id_idx  product_code  product_type_no  \\\n",
       "5885273             2847          73698         30654                6   \n",
       "541363              3804          64918         26815               61   \n",
       "975898              4791          82204         34722               23   \n",
       "5642562             5364          75582         31615               38   \n",
       "2614341             5348          62200         25649               21   \n",
       "\n",
       "         product_group_no  graphical_appearance_no  colour_group_code  \\\n",
       "5885273                 0                        0                  0   \n",
       "541363                  4                       17                 23   \n",
       "975898                  3                        0                  0   \n",
       "5642562                 0                        0                  0   \n",
       "2614341                 1                        0                 11   \n",
       "\n",
       "         perceived_colour_value_id  perceived_colour_master_id  department_no  \\\n",
       "5885273                          0                           0             23   \n",
       "541363                           0                           2             79   \n",
       "975898                           0                           0            186   \n",
       "5642562                          0                           0            209   \n",
       "2614341                          5                           7              4   \n",
       "\n",
       "         index_code  index_group_no  section_no  garment_group_no  purchased  \n",
       "5885273           7               4           9                 0          0  \n",
       "541363            3               2          19                 4          0  \n",
       "975898            0               0          47                16          0  \n",
       "5642562           0               0          32                12          0  \n",
       "2614341           1               0           1                 1          0  "
      ]
     },
     "execution_count": 83,
     "metadata": {},
     "output_type": "execute_result"
    }
   ],
   "source": [
    "training_data_full.head()"
   ]
  },
  {
   "cell_type": "code",
   "execution_count": 84,
   "id": "a590932a",
   "metadata": {
    "executionInfo": {
     "elapsed": 247,
     "status": "ok",
     "timestamp": 1649692936828,
     "user": {
      "displayName": "Steven George",
      "userId": "07709250839253394649"
     },
     "user_tz": -60
    },
    "id": "759650e3"
   },
   "outputs": [],
   "source": [
    "top100_items = (train_set.groupby('article_id_idx')['customer_id'].count() / train_set.shape[0]).sort_values(ascending=False).head(1000).index.tolist()"
   ]
  },
  {
   "cell_type": "code",
   "execution_count": 85,
   "id": "676ba685",
   "metadata": {
    "colab": {
     "base_uri": "https://localhost:8080/",
     "height": 206
    },
    "executionInfo": {
     "elapsed": 8,
     "status": "ok",
     "timestamp": 1649692936828,
     "user": {
      "displayName": "Steven George",
      "userId": "07709250839253394649"
     },
     "user_tz": -60
    },
    "id": "8f121c25",
    "outputId": "270560ce-36c6-48db-b6ef-11f23e380d65"
   },
   "outputs": [
    {
     "data": {
      "text/html": [
       "\n",
       "  <div id=\"df-ace47ca6-4ec3-401f-be91-4176b571df84\">\n",
       "    <div class=\"colab-df-container\">\n",
       "      <div>\n",
       "<style scoped>\n",
       "    .dataframe tbody tr th:only-of-type {\n",
       "        vertical-align: middle;\n",
       "    }\n",
       "\n",
       "    .dataframe tbody tr th {\n",
       "        vertical-align: top;\n",
       "    }\n",
       "\n",
       "    .dataframe thead th {\n",
       "        text-align: right;\n",
       "    }\n",
       "</style>\n",
       "<table border=\"1\" class=\"dataframe\">\n",
       "  <thead>\n",
       "    <tr style=\"text-align: right;\">\n",
       "      <th></th>\n",
       "      <th>customer_id_idx</th>\n",
       "    </tr>\n",
       "  </thead>\n",
       "  <tbody>\n",
       "    <tr>\n",
       "      <th>0</th>\n",
       "      <td>0</td>\n",
       "    </tr>\n",
       "    <tr>\n",
       "      <th>1</th>\n",
       "      <td>4003</td>\n",
       "    </tr>\n",
       "    <tr>\n",
       "      <th>2</th>\n",
       "      <td>238</td>\n",
       "    </tr>\n",
       "    <tr>\n",
       "      <th>3</th>\n",
       "      <td>3419</td>\n",
       "    </tr>\n",
       "    <tr>\n",
       "      <th>4</th>\n",
       "      <td>7876</td>\n",
       "    </tr>\n",
       "  </tbody>\n",
       "</table>\n",
       "</div>\n",
       "      <button class=\"colab-df-convert\" onclick=\"convertToInteractive('df-ace47ca6-4ec3-401f-be91-4176b571df84')\"\n",
       "              title=\"Convert this dataframe to an interactive table.\"\n",
       "              style=\"display:none;\">\n",
       "        \n",
       "  <svg xmlns=\"http://www.w3.org/2000/svg\" height=\"24px\"viewBox=\"0 0 24 24\"\n",
       "       width=\"24px\">\n",
       "    <path d=\"M0 0h24v24H0V0z\" fill=\"none\"/>\n",
       "    <path d=\"M18.56 5.44l.94 2.06.94-2.06 2.06-.94-2.06-.94-.94-2.06-.94 2.06-2.06.94zm-11 1L8.5 8.5l.94-2.06 2.06-.94-2.06-.94L8.5 2.5l-.94 2.06-2.06.94zm10 10l.94 2.06.94-2.06 2.06-.94-2.06-.94-.94-2.06-.94 2.06-2.06.94z\"/><path d=\"M17.41 7.96l-1.37-1.37c-.4-.4-.92-.59-1.43-.59-.52 0-1.04.2-1.43.59L10.3 9.45l-7.72 7.72c-.78.78-.78 2.05 0 2.83L4 21.41c.39.39.9.59 1.41.59.51 0 1.02-.2 1.41-.59l7.78-7.78 2.81-2.81c.8-.78.8-2.07 0-2.86zM5.41 20L4 18.59l7.72-7.72 1.47 1.35L5.41 20z\"/>\n",
       "  </svg>\n",
       "      </button>\n",
       "      \n",
       "  <style>\n",
       "    .colab-df-container {\n",
       "      display:flex;\n",
       "      flex-wrap:wrap;\n",
       "      gap: 12px;\n",
       "    }\n",
       "\n",
       "    .colab-df-convert {\n",
       "      background-color: #E8F0FE;\n",
       "      border: none;\n",
       "      border-radius: 50%;\n",
       "      cursor: pointer;\n",
       "      display: none;\n",
       "      fill: #1967D2;\n",
       "      height: 32px;\n",
       "      padding: 0 0 0 0;\n",
       "      width: 32px;\n",
       "    }\n",
       "\n",
       "    .colab-df-convert:hover {\n",
       "      background-color: #E2EBFA;\n",
       "      box-shadow: 0px 1px 2px rgba(60, 64, 67, 0.3), 0px 1px 3px 1px rgba(60, 64, 67, 0.15);\n",
       "      fill: #174EA6;\n",
       "    }\n",
       "\n",
       "    [theme=dark] .colab-df-convert {\n",
       "      background-color: #3B4455;\n",
       "      fill: #D2E3FC;\n",
       "    }\n",
       "\n",
       "    [theme=dark] .colab-df-convert:hover {\n",
       "      background-color: #434B5C;\n",
       "      box-shadow: 0px 1px 3px 1px rgba(0, 0, 0, 0.15);\n",
       "      filter: drop-shadow(0px 1px 2px rgba(0, 0, 0, 0.3));\n",
       "      fill: #FFFFFF;\n",
       "    }\n",
       "  </style>\n",
       "\n",
       "      <script>\n",
       "        const buttonEl =\n",
       "          document.querySelector('#df-ace47ca6-4ec3-401f-be91-4176b571df84 button.colab-df-convert');\n",
       "        buttonEl.style.display =\n",
       "          google.colab.kernel.accessAllowed ? 'block' : 'none';\n",
       "\n",
       "        async function convertToInteractive(key) {\n",
       "          const element = document.querySelector('#df-ace47ca6-4ec3-401f-be91-4176b571df84');\n",
       "          const dataTable =\n",
       "            await google.colab.kernel.invokeFunction('convertToInteractive',\n",
       "                                                     [key], {});\n",
       "          if (!dataTable) return;\n",
       "\n",
       "          const docLinkHtml = 'Like what you see? Visit the ' +\n",
       "            '<a target=\"_blank\" href=https://colab.research.google.com/notebooks/data_table.ipynb>data table notebook</a>'\n",
       "            + ' to learn more about interactive tables.';\n",
       "          element.innerHTML = '';\n",
       "          dataTable['output_type'] = 'display_data';\n",
       "          await google.colab.output.renderOutput(dataTable, element);\n",
       "          const docLink = document.createElement('div');\n",
       "          docLink.innerHTML = docLinkHtml;\n",
       "          element.appendChild(docLink);\n",
       "        }\n",
       "      </script>\n",
       "    </div>\n",
       "  </div>\n",
       "  "
      ],
      "text/plain": [
       "   customer_id_idx\n",
       "0                0\n",
       "1             4003\n",
       "2              238\n",
       "3             3419\n",
       "4             7876"
      ]
     },
     "execution_count": 85,
     "metadata": {},
     "output_type": "execute_result"
    }
   ],
   "source": [
    "test_data = test_set_by_customer.copy()[['customer_id']]\n",
    "test_data['customer_id_idx'] = test_data['customer_id'].map(customer_id_to_idx)\n",
    "test_data.drop(columns='customer_id', inplace=True)\n",
    "test_data.head()"
   ]
  },
  {
   "cell_type": "code",
   "execution_count": 86,
   "id": "718bc08a",
   "metadata": {
    "executionInfo": {
     "elapsed": 8,
     "status": "ok",
     "timestamp": 1649692936829,
     "user": {
      "displayName": "Steven George",
      "userId": "07709250839253394649"
     },
     "user_tz": -60
    },
    "id": "2264f006"
   },
   "outputs": [],
   "source": [
    "test_data['join_key'] = 1"
   ]
  },
  {
   "cell_type": "code",
   "execution_count": 87,
   "id": "7d5788be",
   "metadata": {
    "colab": {
     "base_uri": "https://localhost:8080/",
     "height": 206
    },
    "executionInfo": {
     "elapsed": 7,
     "status": "ok",
     "timestamp": 1649692936829,
     "user": {
      "displayName": "Steven George",
      "userId": "07709250839253394649"
     },
     "user_tz": -60
    },
    "id": "b676fe1e",
    "outputId": "b16abb62-990e-4da2-b755-e4b51d005ddb"
   },
   "outputs": [
    {
     "data": {
      "text/html": [
       "\n",
       "  <div id=\"df-7a96ac62-a2d4-4d3c-860c-b9f9e4b506ee\">\n",
       "    <div class=\"colab-df-container\">\n",
       "      <div>\n",
       "<style scoped>\n",
       "    .dataframe tbody tr th:only-of-type {\n",
       "        vertical-align: middle;\n",
       "    }\n",
       "\n",
       "    .dataframe tbody tr th {\n",
       "        vertical-align: top;\n",
       "    }\n",
       "\n",
       "    .dataframe thead th {\n",
       "        text-align: right;\n",
       "    }\n",
       "</style>\n",
       "<table border=\"1\" class=\"dataframe\">\n",
       "  <thead>\n",
       "    <tr style=\"text-align: right;\">\n",
       "      <th></th>\n",
       "      <th>article_id_idx</th>\n",
       "      <th>join_key</th>\n",
       "    </tr>\n",
       "  </thead>\n",
       "  <tbody>\n",
       "    <tr>\n",
       "      <th>0</th>\n",
       "      <td>53892</td>\n",
       "      <td>1</td>\n",
       "    </tr>\n",
       "    <tr>\n",
       "      <th>1</th>\n",
       "      <td>53893</td>\n",
       "      <td>1</td>\n",
       "    </tr>\n",
       "    <tr>\n",
       "      <th>2</th>\n",
       "      <td>1713</td>\n",
       "      <td>1</td>\n",
       "    </tr>\n",
       "    <tr>\n",
       "      <th>3</th>\n",
       "      <td>24837</td>\n",
       "      <td>1</td>\n",
       "    </tr>\n",
       "    <tr>\n",
       "      <th>4</th>\n",
       "      <td>70221</td>\n",
       "      <td>1</td>\n",
       "    </tr>\n",
       "  </tbody>\n",
       "</table>\n",
       "</div>\n",
       "      <button class=\"colab-df-convert\" onclick=\"convertToInteractive('df-7a96ac62-a2d4-4d3c-860c-b9f9e4b506ee')\"\n",
       "              title=\"Convert this dataframe to an interactive table.\"\n",
       "              style=\"display:none;\">\n",
       "        \n",
       "  <svg xmlns=\"http://www.w3.org/2000/svg\" height=\"24px\"viewBox=\"0 0 24 24\"\n",
       "       width=\"24px\">\n",
       "    <path d=\"M0 0h24v24H0V0z\" fill=\"none\"/>\n",
       "    <path d=\"M18.56 5.44l.94 2.06.94-2.06 2.06-.94-2.06-.94-.94-2.06-.94 2.06-2.06.94zm-11 1L8.5 8.5l.94-2.06 2.06-.94-2.06-.94L8.5 2.5l-.94 2.06-2.06.94zm10 10l.94 2.06.94-2.06 2.06-.94-2.06-.94-.94-2.06-.94 2.06-2.06.94z\"/><path d=\"M17.41 7.96l-1.37-1.37c-.4-.4-.92-.59-1.43-.59-.52 0-1.04.2-1.43.59L10.3 9.45l-7.72 7.72c-.78.78-.78 2.05 0 2.83L4 21.41c.39.39.9.59 1.41.59.51 0 1.02-.2 1.41-.59l7.78-7.78 2.81-2.81c.8-.78.8-2.07 0-2.86zM5.41 20L4 18.59l7.72-7.72 1.47 1.35L5.41 20z\"/>\n",
       "  </svg>\n",
       "      </button>\n",
       "      \n",
       "  <style>\n",
       "    .colab-df-container {\n",
       "      display:flex;\n",
       "      flex-wrap:wrap;\n",
       "      gap: 12px;\n",
       "    }\n",
       "\n",
       "    .colab-df-convert {\n",
       "      background-color: #E8F0FE;\n",
       "      border: none;\n",
       "      border-radius: 50%;\n",
       "      cursor: pointer;\n",
       "      display: none;\n",
       "      fill: #1967D2;\n",
       "      height: 32px;\n",
       "      padding: 0 0 0 0;\n",
       "      width: 32px;\n",
       "    }\n",
       "\n",
       "    .colab-df-convert:hover {\n",
       "      background-color: #E2EBFA;\n",
       "      box-shadow: 0px 1px 2px rgba(60, 64, 67, 0.3), 0px 1px 3px 1px rgba(60, 64, 67, 0.15);\n",
       "      fill: #174EA6;\n",
       "    }\n",
       "\n",
       "    [theme=dark] .colab-df-convert {\n",
       "      background-color: #3B4455;\n",
       "      fill: #D2E3FC;\n",
       "    }\n",
       "\n",
       "    [theme=dark] .colab-df-convert:hover {\n",
       "      background-color: #434B5C;\n",
       "      box-shadow: 0px 1px 3px 1px rgba(0, 0, 0, 0.15);\n",
       "      filter: drop-shadow(0px 1px 2px rgba(0, 0, 0, 0.3));\n",
       "      fill: #FFFFFF;\n",
       "    }\n",
       "  </style>\n",
       "\n",
       "      <script>\n",
       "        const buttonEl =\n",
       "          document.querySelector('#df-7a96ac62-a2d4-4d3c-860c-b9f9e4b506ee button.colab-df-convert');\n",
       "        buttonEl.style.display =\n",
       "          google.colab.kernel.accessAllowed ? 'block' : 'none';\n",
       "\n",
       "        async function convertToInteractive(key) {\n",
       "          const element = document.querySelector('#df-7a96ac62-a2d4-4d3c-860c-b9f9e4b506ee');\n",
       "          const dataTable =\n",
       "            await google.colab.kernel.invokeFunction('convertToInteractive',\n",
       "                                                     [key], {});\n",
       "          if (!dataTable) return;\n",
       "\n",
       "          const docLinkHtml = 'Like what you see? Visit the ' +\n",
       "            '<a target=\"_blank\" href=https://colab.research.google.com/notebooks/data_table.ipynb>data table notebook</a>'\n",
       "            + ' to learn more about interactive tables.';\n",
       "          element.innerHTML = '';\n",
       "          dataTable['output_type'] = 'display_data';\n",
       "          await google.colab.output.renderOutput(dataTable, element);\n",
       "          const docLink = document.createElement('div');\n",
       "          docLink.innerHTML = docLinkHtml;\n",
       "          element.appendChild(docLink);\n",
       "        }\n",
       "      </script>\n",
       "    </div>\n",
       "  </div>\n",
       "  "
      ],
      "text/plain": [
       "   article_id_idx  join_key\n",
       "0           53892         1\n",
       "1           53893         1\n",
       "2            1713         1\n",
       "3           24837         1\n",
       "4           70221         1"
      ]
     },
     "execution_count": 87,
     "metadata": {},
     "output_type": "execute_result"
    }
   ],
   "source": [
    "top100_items_df = pd.DataFrame({'article_id_idx': top100_items})\n",
    "top100_items_df['join_key'] = 1\n",
    "top100_items_df.head()"
   ]
  },
  {
   "cell_type": "code",
   "execution_count": 88,
   "id": "83c916e2",
   "metadata": {
    "executionInfo": {
     "elapsed": 244,
     "status": "ok",
     "timestamp": 1649692937066,
     "user": {
      "displayName": "Steven George",
      "userId": "07709250839253394649"
     },
     "user_tz": -60
    },
    "id": "c6b982ae"
   },
   "outputs": [],
   "source": [
    "test_data = test_data.merge(top100_items_df, on='join_key').drop('join_key', axis=1)"
   ]
  },
  {
   "cell_type": "code",
   "execution_count": 89,
   "id": "7511dc7e",
   "metadata": {
    "executionInfo": {
     "elapsed": 819,
     "status": "ok",
     "timestamp": 1649692937883,
     "user": {
      "displayName": "Steven George",
      "userId": "07709250839253394649"
     },
     "user_tz": -60
    },
    "id": "84bc059e"
   },
   "outputs": [],
   "source": [
    "test_data = test_data.merge(articles_df[['article_id_idx'] + CATEGORICAL_FEATURES], on=['article_id_idx'])"
   ]
  },
  {
   "cell_type": "code",
   "execution_count": 90,
   "id": "b1b7b84c",
   "metadata": {
    "executionInfo": {
     "elapsed": 8,
     "status": "ok",
     "timestamp": 1649692937884,
     "user": {
      "displayName": "Steven George",
      "userId": "07709250839253394649"
     },
     "user_tz": -60
    },
    "id": "f3e699c0"
   },
   "outputs": [],
   "source": [
    "test_data['purchased'] = 999"
   ]
  },
  {
   "cell_type": "code",
   "execution_count": 91,
   "id": "d888697e",
   "metadata": {
    "executionInfo": {
     "elapsed": 7,
     "status": "ok",
     "timestamp": 1649692937884,
     "user": {
      "displayName": "Steven George",
      "userId": "07709250839253394649"
     },
     "user_tz": -60
    },
    "id": "d49848a9"
   },
   "outputs": [],
   "source": [
    "test_dataset = PurchasesDatasetWithArticleFeatures(test_data)"
   ]
  },
  {
   "cell_type": "code",
   "execution_count": 92,
   "id": "5031ae42",
   "metadata": {
    "executionInfo": {
     "elapsed": 7,
     "status": "ok",
     "timestamp": 1649692937885,
     "user": {
      "displayName": "Steven George",
      "userId": "07709250839253394649"
     },
     "user_tz": -60
    },
    "id": "cf38e48d"
   },
   "outputs": [],
   "source": [
    "test_loader = DataLoader(test_dataset, batch_size=BATCH_SIZE*4)  "
   ]
  },
  {
   "cell_type": "code",
   "execution_count": 93,
   "id": "85258758",
   "metadata": {
    "colab": {
     "base_uri": "https://localhost:8080/"
    },
    "executionInfo": {
     "elapsed": 75739,
     "status": "ok",
     "timestamp": 1649693013617,
     "user": {
      "displayName": "Steven George",
      "userId": "07709250839253394649"
     },
     "user_tz": -60
    },
    "id": "55a48141",
    "outputId": "511917ab-2440-4003-8ea2-42560239cb00"
   },
   "outputs": [
    {
     "name": "stderr",
     "output_type": "stream",
     "text": [
      "100%|██████████| 1125/1125 [01:15<00:00, 14.89it/s]\n"
     ]
    }
   ],
   "source": [
    "test_predictions = []\n",
    "\n",
    "fashion_rec_v2.eval()\n",
    "\n",
    "with torch.no_grad():\n",
    "    for data in tqdm(test_loader):\n",
    "\n",
    "        user_id, item_id, product_code, product_type_no, product_group_no, graphical_appearance_no, colour_group_code, perceived_colour_value_id, perceived_colour_master_id, department_no, index_code, index_group_no, section_no, garment_group_no, label = data\n",
    "\n",
    "        user_id, item_id, product_code, product_type_no, product_group_no, graphical_appearance_no, colour_group_code, perceived_colour_value_id, perceived_colour_master_id, department_no, index_code, index_group_no, section_no, garment_group_no, label = (\n",
    "            user_id.to(device), \n",
    "            item_id.to(device), \n",
    "            product_code.to(device), \n",
    "            product_type_no.to(device), \n",
    "            product_group_no.to(device), \n",
    "            graphical_appearance_no.to(device), \n",
    "            colour_group_code.to(device), \n",
    "            perceived_colour_value_id.to(device), \n",
    "            perceived_colour_master_id.to(device), \n",
    "            department_no.to(device), \n",
    "            index_code.to(device), \n",
    "            index_group_no.to(device), \n",
    "            section_no.to(device), \n",
    "            garment_group_no.to(device), \n",
    "            label.to(device)\n",
    "        )    \n",
    "\n",
    "        pred = fashion_rec_v2(\n",
    "            user_id, \n",
    "            item_id, \n",
    "            product_code, \n",
    "            product_type_no, \n",
    "            product_group_no, \n",
    "            graphical_appearance_no, \n",
    "            colour_group_code, \n",
    "            perceived_colour_value_id, \n",
    "            perceived_colour_master_id, \n",
    "            department_no, \n",
    "            index_code, \n",
    "            index_group_no, \n",
    "            section_no, \n",
    "            garment_group_no\n",
    "        )\n",
    "        \n",
    "        test_predictions += pred.flatten().tolist()"
   ]
  },
  {
   "cell_type": "code",
   "execution_count": 94,
   "id": "efea2711",
   "metadata": {
    "colab": {
     "base_uri": "https://localhost:8080/"
    },
    "executionInfo": {
     "elapsed": 22,
     "status": "ok",
     "timestamp": 1649693013618,
     "user": {
      "displayName": "Steven George",
      "userId": "07709250839253394649"
     },
     "user_tz": -60
    },
    "id": "7ff94dc9",
    "outputId": "801a5580-db4a-4af5-c1c3-d60be08c503b"
   },
   "outputs": [
    {
     "data": {
      "text/plain": [
       "9208000"
      ]
     },
     "execution_count": 94,
     "metadata": {},
     "output_type": "execute_result"
    }
   ],
   "source": [
    "len(test_predictions)"
   ]
  },
  {
   "cell_type": "code",
   "execution_count": 95,
   "id": "9f219681",
   "metadata": {
    "colab": {
     "base_uri": "https://localhost:8080/"
    },
    "executionInfo": {
     "elapsed": 17,
     "status": "ok",
     "timestamp": 1649693013618,
     "user": {
      "displayName": "Steven George",
      "userId": "07709250839253394649"
     },
     "user_tz": -60
    },
    "id": "22579ede",
    "outputId": "36f2e452-95aa-4e2f-8b27-67b070050d3c"
   },
   "outputs": [
    {
     "data": {
      "text/plain": [
       "9208000"
      ]
     },
     "execution_count": 95,
     "metadata": {},
     "output_type": "execute_result"
    }
   ],
   "source": [
    "len(test_dataset)"
   ]
  },
  {
   "cell_type": "code",
   "execution_count": 96,
   "id": "39cf61ec",
   "metadata": {
    "executionInfo": {
     "elapsed": 944,
     "status": "ok",
     "timestamp": 1649693014549,
     "user": {
      "displayName": "Steven George",
      "userId": "07709250839253394649"
     },
     "user_tz": -60
    },
    "id": "8a6de29c"
   },
   "outputs": [],
   "source": [
    "test_data['prediction'] = test_predictions"
   ]
  },
  {
   "cell_type": "code",
   "execution_count": 97,
   "id": "56b90bad",
   "metadata": {
    "executionInfo": {
     "elapsed": 11851,
     "status": "ok",
     "timestamp": 1649693026397,
     "user": {
      "displayName": "Steven George",
      "userId": "07709250839253394649"
     },
     "user_tz": -60
    },
    "id": "dbeeb6a6"
   },
   "outputs": [],
   "source": [
    "test_data.sort_values(['customer_id_idx', 'prediction'], ascending=False, inplace=True)"
   ]
  },
  {
   "cell_type": "code",
   "execution_count": 98,
   "id": "324f54b3",
   "metadata": {
    "colab": {
     "base_uri": "https://localhost:8080/",
     "height": 423
    },
    "executionInfo": {
     "elapsed": 1834,
     "status": "ok",
     "timestamp": 1649693028214,
     "user": {
      "displayName": "Steven George",
      "userId": "07709250839253394649"
     },
     "user_tz": -60
    },
    "id": "cd815711",
    "outputId": "784b5669-df1f-4259-a005-c00b578d6b44"
   },
   "outputs": [
    {
     "data": {
      "text/html": [
       "\n",
       "  <div id=\"df-d32e4430-a133-4f55-8d47-dae227efeb94\">\n",
       "    <div class=\"colab-df-container\">\n",
       "      <div>\n",
       "<style scoped>\n",
       "    .dataframe tbody tr th:only-of-type {\n",
       "        vertical-align: middle;\n",
       "    }\n",
       "\n",
       "    .dataframe tbody tr th {\n",
       "        vertical-align: top;\n",
       "    }\n",
       "\n",
       "    .dataframe thead th {\n",
       "        text-align: right;\n",
       "    }\n",
       "</style>\n",
       "<table border=\"1\" class=\"dataframe\">\n",
       "  <thead>\n",
       "    <tr style=\"text-align: right;\">\n",
       "      <th></th>\n",
       "      <th>customer_id_idx</th>\n",
       "      <th>predictions</th>\n",
       "    </tr>\n",
       "  </thead>\n",
       "  <tbody>\n",
       "    <tr>\n",
       "      <th>0</th>\n",
       "      <td>0</td>\n",
       "      <td>[46351, 46384, 46425, 16453, 46382, 58491, 464...</td>\n",
       "    </tr>\n",
       "    <tr>\n",
       "      <th>1</th>\n",
       "      <td>1</td>\n",
       "      <td>[81826, 81825, 81828, 58491, 24836, 4444, 7022...</td>\n",
       "    </tr>\n",
       "    <tr>\n",
       "      <th>2</th>\n",
       "      <td>2</td>\n",
       "      <td>[53892, 53893, 53894, 53896, 53902, 70221, 702...</td>\n",
       "    </tr>\n",
       "    <tr>\n",
       "      <th>3</th>\n",
       "      <td>3</td>\n",
       "      <td>[46425, 58584, 46351, 46426, 22465, 16453, 463...</td>\n",
       "    </tr>\n",
       "    <tr>\n",
       "      <th>4</th>\n",
       "      <td>4</td>\n",
       "      <td>[53892, 53893, 2236, 24837, 70221, 70220, 3091...</td>\n",
       "    </tr>\n",
       "    <tr>\n",
       "      <th>...</th>\n",
       "      <td>...</td>\n",
       "      <td>...</td>\n",
       "    </tr>\n",
       "    <tr>\n",
       "      <th>9203</th>\n",
       "      <td>9203</td>\n",
       "      <td>[53892, 3091, 1713, 24837, 4444, 67522, 53893,...</td>\n",
       "    </tr>\n",
       "    <tr>\n",
       "      <th>9204</th>\n",
       "      <td>9204</td>\n",
       "      <td>[53892, 24837, 4444, 3091, 1713, 67522, 58491,...</td>\n",
       "    </tr>\n",
       "    <tr>\n",
       "      <th>9205</th>\n",
       "      <td>9205</td>\n",
       "      <td>[53892, 3091, 4444, 53893, 24837, 70221, 67522...</td>\n",
       "    </tr>\n",
       "    <tr>\n",
       "      <th>9206</th>\n",
       "      <td>9206</td>\n",
       "      <td>[53892, 3091, 4444, 24837, 67522, 58491, 53893...</td>\n",
       "    </tr>\n",
       "    <tr>\n",
       "      <th>9207</th>\n",
       "      <td>9207</td>\n",
       "      <td>[53892, 3091, 4444, 24837, 1713, 58491, 70221,...</td>\n",
       "    </tr>\n",
       "  </tbody>\n",
       "</table>\n",
       "<p>9208 rows × 2 columns</p>\n",
       "</div>\n",
       "      <button class=\"colab-df-convert\" onclick=\"convertToInteractive('df-d32e4430-a133-4f55-8d47-dae227efeb94')\"\n",
       "              title=\"Convert this dataframe to an interactive table.\"\n",
       "              style=\"display:none;\">\n",
       "        \n",
       "  <svg xmlns=\"http://www.w3.org/2000/svg\" height=\"24px\"viewBox=\"0 0 24 24\"\n",
       "       width=\"24px\">\n",
       "    <path d=\"M0 0h24v24H0V0z\" fill=\"none\"/>\n",
       "    <path d=\"M18.56 5.44l.94 2.06.94-2.06 2.06-.94-2.06-.94-.94-2.06-.94 2.06-2.06.94zm-11 1L8.5 8.5l.94-2.06 2.06-.94-2.06-.94L8.5 2.5l-.94 2.06-2.06.94zm10 10l.94 2.06.94-2.06 2.06-.94-2.06-.94-.94-2.06-.94 2.06-2.06.94z\"/><path d=\"M17.41 7.96l-1.37-1.37c-.4-.4-.92-.59-1.43-.59-.52 0-1.04.2-1.43.59L10.3 9.45l-7.72 7.72c-.78.78-.78 2.05 0 2.83L4 21.41c.39.39.9.59 1.41.59.51 0 1.02-.2 1.41-.59l7.78-7.78 2.81-2.81c.8-.78.8-2.07 0-2.86zM5.41 20L4 18.59l7.72-7.72 1.47 1.35L5.41 20z\"/>\n",
       "  </svg>\n",
       "      </button>\n",
       "      \n",
       "  <style>\n",
       "    .colab-df-container {\n",
       "      display:flex;\n",
       "      flex-wrap:wrap;\n",
       "      gap: 12px;\n",
       "    }\n",
       "\n",
       "    .colab-df-convert {\n",
       "      background-color: #E8F0FE;\n",
       "      border: none;\n",
       "      border-radius: 50%;\n",
       "      cursor: pointer;\n",
       "      display: none;\n",
       "      fill: #1967D2;\n",
       "      height: 32px;\n",
       "      padding: 0 0 0 0;\n",
       "      width: 32px;\n",
       "    }\n",
       "\n",
       "    .colab-df-convert:hover {\n",
       "      background-color: #E2EBFA;\n",
       "      box-shadow: 0px 1px 2px rgba(60, 64, 67, 0.3), 0px 1px 3px 1px rgba(60, 64, 67, 0.15);\n",
       "      fill: #174EA6;\n",
       "    }\n",
       "\n",
       "    [theme=dark] .colab-df-convert {\n",
       "      background-color: #3B4455;\n",
       "      fill: #D2E3FC;\n",
       "    }\n",
       "\n",
       "    [theme=dark] .colab-df-convert:hover {\n",
       "      background-color: #434B5C;\n",
       "      box-shadow: 0px 1px 3px 1px rgba(0, 0, 0, 0.15);\n",
       "      filter: drop-shadow(0px 1px 2px rgba(0, 0, 0, 0.3));\n",
       "      fill: #FFFFFF;\n",
       "    }\n",
       "  </style>\n",
       "\n",
       "      <script>\n",
       "        const buttonEl =\n",
       "          document.querySelector('#df-d32e4430-a133-4f55-8d47-dae227efeb94 button.colab-df-convert');\n",
       "        buttonEl.style.display =\n",
       "          google.colab.kernel.accessAllowed ? 'block' : 'none';\n",
       "\n",
       "        async function convertToInteractive(key) {\n",
       "          const element = document.querySelector('#df-d32e4430-a133-4f55-8d47-dae227efeb94');\n",
       "          const dataTable =\n",
       "            await google.colab.kernel.invokeFunction('convertToInteractive',\n",
       "                                                     [key], {});\n",
       "          if (!dataTable) return;\n",
       "\n",
       "          const docLinkHtml = 'Like what you see? Visit the ' +\n",
       "            '<a target=\"_blank\" href=https://colab.research.google.com/notebooks/data_table.ipynb>data table notebook</a>'\n",
       "            + ' to learn more about interactive tables.';\n",
       "          element.innerHTML = '';\n",
       "          dataTable['output_type'] = 'display_data';\n",
       "          await google.colab.output.renderOutput(dataTable, element);\n",
       "          const docLink = document.createElement('div');\n",
       "          docLink.innerHTML = docLinkHtml;\n",
       "          element.appendChild(docLink);\n",
       "        }\n",
       "      </script>\n",
       "    </div>\n",
       "  </div>\n",
       "  "
      ],
      "text/plain": [
       "      customer_id_idx                                        predictions\n",
       "0                   0  [46351, 46384, 46425, 16453, 46382, 58491, 464...\n",
       "1                   1  [81826, 81825, 81828, 58491, 24836, 4444, 7022...\n",
       "2                   2  [53892, 53893, 53894, 53896, 53902, 70221, 702...\n",
       "3                   3  [46425, 58584, 46351, 46426, 22465, 16453, 463...\n",
       "4                   4  [53892, 53893, 2236, 24837, 70221, 70220, 3091...\n",
       "...               ...                                                ...\n",
       "9203             9203  [53892, 3091, 1713, 24837, 4444, 67522, 53893,...\n",
       "9204             9204  [53892, 24837, 4444, 3091, 1713, 67522, 58491,...\n",
       "9205             9205  [53892, 3091, 4444, 53893, 24837, 70221, 67522...\n",
       "9206             9206  [53892, 3091, 4444, 24837, 67522, 58491, 53893...\n",
       "9207             9207  [53892, 3091, 4444, 24837, 1713, 58491, 70221,...\n",
       "\n",
       "[9208 rows x 2 columns]"
      ]
     },
     "execution_count": 98,
     "metadata": {},
     "output_type": "execute_result"
    }
   ],
   "source": [
    "test_data_top12 = test_data.groupby('customer_id_idx').head(12).groupby('customer_id_idx').apply(lambda x: list(x['article_id_idx'])).reset_index().rename(columns={0: 'predictions'})\n",
    "test_data_top12"
   ]
  },
  {
   "cell_type": "code",
   "execution_count": 99,
   "id": "ee29bef1",
   "metadata": {
    "executionInfo": {
     "elapsed": 37,
     "status": "ok",
     "timestamp": 1649693028215,
     "user": {
      "displayName": "Steven George",
      "userId": "07709250839253394649"
     },
     "user_tz": -60
    },
    "id": "59436f56"
   },
   "outputs": [],
   "source": [
    "test_set_by_customer['customer_id_idx'] = test_set_by_customer['customer_id'].map(customer_id_to_idx)"
   ]
  },
  {
   "cell_type": "code",
   "execution_count": 100,
   "id": "589ffc5b",
   "metadata": {
    "colab": {
     "base_uri": "https://localhost:8080/",
     "height": 206
    },
    "executionInfo": {
     "elapsed": 37,
     "status": "ok",
     "timestamp": 1649693028217,
     "user": {
      "displayName": "Steven George",
      "userId": "07709250839253394649"
     },
     "user_tz": -60
    },
    "id": "b488bb80",
    "outputId": "df4db953-5099-47d5-fc6c-87ff7025e5b5"
   },
   "outputs": [
    {
     "data": {
      "text/html": [
       "\n",
       "  <div id=\"df-6387c488-7044-4644-bda9-7dabc1a0f621\">\n",
       "    <div class=\"colab-df-container\">\n",
       "      <div>\n",
       "<style scoped>\n",
       "    .dataframe tbody tr th:only-of-type {\n",
       "        vertical-align: middle;\n",
       "    }\n",
       "\n",
       "    .dataframe tbody tr th {\n",
       "        vertical-align: top;\n",
       "    }\n",
       "\n",
       "    .dataframe thead th {\n",
       "        text-align: right;\n",
       "    }\n",
       "</style>\n",
       "<table border=\"1\" class=\"dataframe\">\n",
       "  <thead>\n",
       "    <tr style=\"text-align: right;\">\n",
       "      <th></th>\n",
       "      <th>customer_id</th>\n",
       "      <th>article_id_idx</th>\n",
       "      <th>customer_id_idx</th>\n",
       "    </tr>\n",
       "  </thead>\n",
       "  <tbody>\n",
       "    <tr>\n",
       "      <th>0</th>\n",
       "      <td>000058a12d5b43e67d225668fa1f8d618c13dc232df0ca...</td>\n",
       "      <td>[78503]</td>\n",
       "      <td>0</td>\n",
       "    </tr>\n",
       "    <tr>\n",
       "      <th>1</th>\n",
       "      <td>0015f37f752a41a75c3be6f3f92deedc4c87d039f1758e...</td>\n",
       "      <td>[74893, 74893, 24872, 104987, 9801, 9801, 6912...</td>\n",
       "      <td>4003</td>\n",
       "    </tr>\n",
       "    <tr>\n",
       "      <th>2</th>\n",
       "      <td>00282135561702f5b3b750fa3382d8fd83ce5d761a507e...</td>\n",
       "      <td>[92815, 86041]</td>\n",
       "      <td>238</td>\n",
       "    </tr>\n",
       "    <tr>\n",
       "      <th>3</th>\n",
       "      <td>00356a94bb9bed341f6dba58ad722974b01a1cbd9f06ef...</td>\n",
       "      <td>[104211, 17044, 17044, 16024, 29250, 98445, 66...</td>\n",
       "      <td>3419</td>\n",
       "    </tr>\n",
       "    <tr>\n",
       "      <th>4</th>\n",
       "      <td>00462904b288681a9facb555f75dd2cf4d0f730a6e0ea7...</td>\n",
       "      <td>[87467, 99966, 42626, 79834, 97540, 103280, 79...</td>\n",
       "      <td>7876</td>\n",
       "    </tr>\n",
       "  </tbody>\n",
       "</table>\n",
       "</div>\n",
       "      <button class=\"colab-df-convert\" onclick=\"convertToInteractive('df-6387c488-7044-4644-bda9-7dabc1a0f621')\"\n",
       "              title=\"Convert this dataframe to an interactive table.\"\n",
       "              style=\"display:none;\">\n",
       "        \n",
       "  <svg xmlns=\"http://www.w3.org/2000/svg\" height=\"24px\"viewBox=\"0 0 24 24\"\n",
       "       width=\"24px\">\n",
       "    <path d=\"M0 0h24v24H0V0z\" fill=\"none\"/>\n",
       "    <path d=\"M18.56 5.44l.94 2.06.94-2.06 2.06-.94-2.06-.94-.94-2.06-.94 2.06-2.06.94zm-11 1L8.5 8.5l.94-2.06 2.06-.94-2.06-.94L8.5 2.5l-.94 2.06-2.06.94zm10 10l.94 2.06.94-2.06 2.06-.94-2.06-.94-.94-2.06-.94 2.06-2.06.94z\"/><path d=\"M17.41 7.96l-1.37-1.37c-.4-.4-.92-.59-1.43-.59-.52 0-1.04.2-1.43.59L10.3 9.45l-7.72 7.72c-.78.78-.78 2.05 0 2.83L4 21.41c.39.39.9.59 1.41.59.51 0 1.02-.2 1.41-.59l7.78-7.78 2.81-2.81c.8-.78.8-2.07 0-2.86zM5.41 20L4 18.59l7.72-7.72 1.47 1.35L5.41 20z\"/>\n",
       "  </svg>\n",
       "      </button>\n",
       "      \n",
       "  <style>\n",
       "    .colab-df-container {\n",
       "      display:flex;\n",
       "      flex-wrap:wrap;\n",
       "      gap: 12px;\n",
       "    }\n",
       "\n",
       "    .colab-df-convert {\n",
       "      background-color: #E8F0FE;\n",
       "      border: none;\n",
       "      border-radius: 50%;\n",
       "      cursor: pointer;\n",
       "      display: none;\n",
       "      fill: #1967D2;\n",
       "      height: 32px;\n",
       "      padding: 0 0 0 0;\n",
       "      width: 32px;\n",
       "    }\n",
       "\n",
       "    .colab-df-convert:hover {\n",
       "      background-color: #E2EBFA;\n",
       "      box-shadow: 0px 1px 2px rgba(60, 64, 67, 0.3), 0px 1px 3px 1px rgba(60, 64, 67, 0.15);\n",
       "      fill: #174EA6;\n",
       "    }\n",
       "\n",
       "    [theme=dark] .colab-df-convert {\n",
       "      background-color: #3B4455;\n",
       "      fill: #D2E3FC;\n",
       "    }\n",
       "\n",
       "    [theme=dark] .colab-df-convert:hover {\n",
       "      background-color: #434B5C;\n",
       "      box-shadow: 0px 1px 3px 1px rgba(0, 0, 0, 0.15);\n",
       "      filter: drop-shadow(0px 1px 2px rgba(0, 0, 0, 0.3));\n",
       "      fill: #FFFFFF;\n",
       "    }\n",
       "  </style>\n",
       "\n",
       "      <script>\n",
       "        const buttonEl =\n",
       "          document.querySelector('#df-6387c488-7044-4644-bda9-7dabc1a0f621 button.colab-df-convert');\n",
       "        buttonEl.style.display =\n",
       "          google.colab.kernel.accessAllowed ? 'block' : 'none';\n",
       "\n",
       "        async function convertToInteractive(key) {\n",
       "          const element = document.querySelector('#df-6387c488-7044-4644-bda9-7dabc1a0f621');\n",
       "          const dataTable =\n",
       "            await google.colab.kernel.invokeFunction('convertToInteractive',\n",
       "                                                     [key], {});\n",
       "          if (!dataTable) return;\n",
       "\n",
       "          const docLinkHtml = 'Like what you see? Visit the ' +\n",
       "            '<a target=\"_blank\" href=https://colab.research.google.com/notebooks/data_table.ipynb>data table notebook</a>'\n",
       "            + ' to learn more about interactive tables.';\n",
       "          element.innerHTML = '';\n",
       "          dataTable['output_type'] = 'display_data';\n",
       "          await google.colab.output.renderOutput(dataTable, element);\n",
       "          const docLink = document.createElement('div');\n",
       "          docLink.innerHTML = docLinkHtml;\n",
       "          element.appendChild(docLink);\n",
       "        }\n",
       "      </script>\n",
       "    </div>\n",
       "  </div>\n",
       "  "
      ],
      "text/plain": [
       "                                         customer_id  \\\n",
       "0  000058a12d5b43e67d225668fa1f8d618c13dc232df0ca...   \n",
       "1  0015f37f752a41a75c3be6f3f92deedc4c87d039f1758e...   \n",
       "2  00282135561702f5b3b750fa3382d8fd83ce5d761a507e...   \n",
       "3  00356a94bb9bed341f6dba58ad722974b01a1cbd9f06ef...   \n",
       "4  00462904b288681a9facb555f75dd2cf4d0f730a6e0ea7...   \n",
       "\n",
       "                                      article_id_idx  customer_id_idx  \n",
       "0                                            [78503]                0  \n",
       "1  [74893, 74893, 24872, 104987, 9801, 9801, 6912...             4003  \n",
       "2                                     [92815, 86041]              238  \n",
       "3  [104211, 17044, 17044, 16024, 29250, 98445, 66...             3419  \n",
       "4  [87467, 99966, 42626, 79834, 97540, 103280, 79...             7876  "
      ]
     },
     "execution_count": 100,
     "metadata": {},
     "output_type": "execute_result"
    }
   ],
   "source": [
    "test_set_by_customer.head()"
   ]
  },
  {
   "cell_type": "code",
   "execution_count": 101,
   "id": "b89c5809",
   "metadata": {
    "colab": {
     "base_uri": "https://localhost:8080/",
     "height": 206
    },
    "executionInfo": {
     "elapsed": 37,
     "status": "ok",
     "timestamp": 1649693028218,
     "user": {
      "displayName": "Steven George",
      "userId": "07709250839253394649"
     },
     "user_tz": -60
    },
    "id": "1c6a9380",
    "outputId": "f9b04dd4-3d75-417a-cf50-392a42e4d302"
   },
   "outputs": [
    {
     "data": {
      "text/html": [
       "\n",
       "  <div id=\"df-b11c5f5b-acdd-4ef6-8c68-63b802598bd1\">\n",
       "    <div class=\"colab-df-container\">\n",
       "      <div>\n",
       "<style scoped>\n",
       "    .dataframe tbody tr th:only-of-type {\n",
       "        vertical-align: middle;\n",
       "    }\n",
       "\n",
       "    .dataframe tbody tr th {\n",
       "        vertical-align: top;\n",
       "    }\n",
       "\n",
       "    .dataframe thead th {\n",
       "        text-align: right;\n",
       "    }\n",
       "</style>\n",
       "<table border=\"1\" class=\"dataframe\">\n",
       "  <thead>\n",
       "    <tr style=\"text-align: right;\">\n",
       "      <th></th>\n",
       "      <th>customer_id</th>\n",
       "      <th>article_id_idx</th>\n",
       "      <th>customer_id_idx</th>\n",
       "      <th>predictions</th>\n",
       "    </tr>\n",
       "  </thead>\n",
       "  <tbody>\n",
       "    <tr>\n",
       "      <th>0</th>\n",
       "      <td>000058a12d5b43e67d225668fa1f8d618c13dc232df0ca...</td>\n",
       "      <td>[78503]</td>\n",
       "      <td>0</td>\n",
       "      <td>[46351, 46384, 46425, 16453, 46382, 58491, 464...</td>\n",
       "    </tr>\n",
       "    <tr>\n",
       "      <th>1</th>\n",
       "      <td>0015f37f752a41a75c3be6f3f92deedc4c87d039f1758e...</td>\n",
       "      <td>[74893, 74893, 24872, 104987, 9801, 9801, 6912...</td>\n",
       "      <td>4003</td>\n",
       "      <td>[67522, 24837, 24836, 42626, 17383, 18586, 499...</td>\n",
       "    </tr>\n",
       "    <tr>\n",
       "      <th>2</th>\n",
       "      <td>00282135561702f5b3b750fa3382d8fd83ce5d761a507e...</td>\n",
       "      <td>[92815, 86041]</td>\n",
       "      <td>238</td>\n",
       "      <td>[58584, 58581, 16453, 16452, 46351, 22465, 464...</td>\n",
       "    </tr>\n",
       "    <tr>\n",
       "      <th>3</th>\n",
       "      <td>00356a94bb9bed341f6dba58ad722974b01a1cbd9f06ef...</td>\n",
       "      <td>[104211, 17044, 17044, 16024, 29250, 98445, 66...</td>\n",
       "      <td>3419</td>\n",
       "      <td>[53892, 46382, 58491, 46386, 70221, 17669, 538...</td>\n",
       "    </tr>\n",
       "    <tr>\n",
       "      <th>4</th>\n",
       "      <td>00462904b288681a9facb555f75dd2cf4d0f730a6e0ea7...</td>\n",
       "      <td>[87467, 99966, 42626, 79834, 97540, 103280, 79...</td>\n",
       "      <td>7876</td>\n",
       "      <td>[53892, 53893, 2236, 58491, 70221, 3091, 67522...</td>\n",
       "    </tr>\n",
       "  </tbody>\n",
       "</table>\n",
       "</div>\n",
       "      <button class=\"colab-df-convert\" onclick=\"convertToInteractive('df-b11c5f5b-acdd-4ef6-8c68-63b802598bd1')\"\n",
       "              title=\"Convert this dataframe to an interactive table.\"\n",
       "              style=\"display:none;\">\n",
       "        \n",
       "  <svg xmlns=\"http://www.w3.org/2000/svg\" height=\"24px\"viewBox=\"0 0 24 24\"\n",
       "       width=\"24px\">\n",
       "    <path d=\"M0 0h24v24H0V0z\" fill=\"none\"/>\n",
       "    <path d=\"M18.56 5.44l.94 2.06.94-2.06 2.06-.94-2.06-.94-.94-2.06-.94 2.06-2.06.94zm-11 1L8.5 8.5l.94-2.06 2.06-.94-2.06-.94L8.5 2.5l-.94 2.06-2.06.94zm10 10l.94 2.06.94-2.06 2.06-.94-2.06-.94-.94-2.06-.94 2.06-2.06.94z\"/><path d=\"M17.41 7.96l-1.37-1.37c-.4-.4-.92-.59-1.43-.59-.52 0-1.04.2-1.43.59L10.3 9.45l-7.72 7.72c-.78.78-.78 2.05 0 2.83L4 21.41c.39.39.9.59 1.41.59.51 0 1.02-.2 1.41-.59l7.78-7.78 2.81-2.81c.8-.78.8-2.07 0-2.86zM5.41 20L4 18.59l7.72-7.72 1.47 1.35L5.41 20z\"/>\n",
       "  </svg>\n",
       "      </button>\n",
       "      \n",
       "  <style>\n",
       "    .colab-df-container {\n",
       "      display:flex;\n",
       "      flex-wrap:wrap;\n",
       "      gap: 12px;\n",
       "    }\n",
       "\n",
       "    .colab-df-convert {\n",
       "      background-color: #E8F0FE;\n",
       "      border: none;\n",
       "      border-radius: 50%;\n",
       "      cursor: pointer;\n",
       "      display: none;\n",
       "      fill: #1967D2;\n",
       "      height: 32px;\n",
       "      padding: 0 0 0 0;\n",
       "      width: 32px;\n",
       "    }\n",
       "\n",
       "    .colab-df-convert:hover {\n",
       "      background-color: #E2EBFA;\n",
       "      box-shadow: 0px 1px 2px rgba(60, 64, 67, 0.3), 0px 1px 3px 1px rgba(60, 64, 67, 0.15);\n",
       "      fill: #174EA6;\n",
       "    }\n",
       "\n",
       "    [theme=dark] .colab-df-convert {\n",
       "      background-color: #3B4455;\n",
       "      fill: #D2E3FC;\n",
       "    }\n",
       "\n",
       "    [theme=dark] .colab-df-convert:hover {\n",
       "      background-color: #434B5C;\n",
       "      box-shadow: 0px 1px 3px 1px rgba(0, 0, 0, 0.15);\n",
       "      filter: drop-shadow(0px 1px 2px rgba(0, 0, 0, 0.3));\n",
       "      fill: #FFFFFF;\n",
       "    }\n",
       "  </style>\n",
       "\n",
       "      <script>\n",
       "        const buttonEl =\n",
       "          document.querySelector('#df-b11c5f5b-acdd-4ef6-8c68-63b802598bd1 button.colab-df-convert');\n",
       "        buttonEl.style.display =\n",
       "          google.colab.kernel.accessAllowed ? 'block' : 'none';\n",
       "\n",
       "        async function convertToInteractive(key) {\n",
       "          const element = document.querySelector('#df-b11c5f5b-acdd-4ef6-8c68-63b802598bd1');\n",
       "          const dataTable =\n",
       "            await google.colab.kernel.invokeFunction('convertToInteractive',\n",
       "                                                     [key], {});\n",
       "          if (!dataTable) return;\n",
       "\n",
       "          const docLinkHtml = 'Like what you see? Visit the ' +\n",
       "            '<a target=\"_blank\" href=https://colab.research.google.com/notebooks/data_table.ipynb>data table notebook</a>'\n",
       "            + ' to learn more about interactive tables.';\n",
       "          element.innerHTML = '';\n",
       "          dataTable['output_type'] = 'display_data';\n",
       "          await google.colab.output.renderOutput(dataTable, element);\n",
       "          const docLink = document.createElement('div');\n",
       "          docLink.innerHTML = docLinkHtml;\n",
       "          element.appendChild(docLink);\n",
       "        }\n",
       "      </script>\n",
       "    </div>\n",
       "  </div>\n",
       "  "
      ],
      "text/plain": [
       "                                         customer_id  \\\n",
       "0  000058a12d5b43e67d225668fa1f8d618c13dc232df0ca...   \n",
       "1  0015f37f752a41a75c3be6f3f92deedc4c87d039f1758e...   \n",
       "2  00282135561702f5b3b750fa3382d8fd83ce5d761a507e...   \n",
       "3  00356a94bb9bed341f6dba58ad722974b01a1cbd9f06ef...   \n",
       "4  00462904b288681a9facb555f75dd2cf4d0f730a6e0ea7...   \n",
       "\n",
       "                                      article_id_idx  customer_id_idx  \\\n",
       "0                                            [78503]                0   \n",
       "1  [74893, 74893, 24872, 104987, 9801, 9801, 6912...             4003   \n",
       "2                                     [92815, 86041]              238   \n",
       "3  [104211, 17044, 17044, 16024, 29250, 98445, 66...             3419   \n",
       "4  [87467, 99966, 42626, 79834, 97540, 103280, 79...             7876   \n",
       "\n",
       "                                         predictions  \n",
       "0  [46351, 46384, 46425, 16453, 46382, 58491, 464...  \n",
       "1  [67522, 24837, 24836, 42626, 17383, 18586, 499...  \n",
       "2  [58584, 58581, 16453, 16452, 46351, 22465, 464...  \n",
       "3  [53892, 46382, 58491, 46386, 70221, 17669, 538...  \n",
       "4  [53892, 53893, 2236, 58491, 70221, 3091, 67522...  "
      ]
     },
     "execution_count": 101,
     "metadata": {},
     "output_type": "execute_result"
    }
   ],
   "source": [
    "test_set_by_customer = test_set_by_customer.merge(test_data_top12, on='customer_id_idx')\n",
    "test_set_by_customer.head()"
   ]
  },
  {
   "cell_type": "code",
   "execution_count": 102,
   "id": "65231e90",
   "metadata": {
    "executionInfo": {
     "elapsed": 36,
     "status": "ok",
     "timestamp": 1649693028219,
     "user": {
      "displayName": "Steven George",
      "userId": "07709250839253394649"
     },
     "user_tz": -60
    },
    "id": "5f087524"
   },
   "outputs": [],
   "source": [
    "predictions = test_set_by_customer['predictions'].to_list()"
   ]
  },
  {
   "cell_type": "code",
   "execution_count": 103,
   "id": "c345bd14",
   "metadata": {
    "executionInfo": {
     "elapsed": 37,
     "status": "ok",
     "timestamp": 1649693028220,
     "user": {
      "displayName": "Steven George",
      "userId": "07709250839253394649"
     },
     "user_tz": -60
    },
    "id": "382567c1"
   },
   "outputs": [],
   "source": [
    "actuals = test_set_by_customer['article_id_idx'].to_list()"
   ]
  },
  {
   "cell_type": "code",
   "execution_count": 104,
   "id": "5bcd6775",
   "metadata": {
    "colab": {
     "base_uri": "https://localhost:8080/"
    },
    "executionInfo": {
     "elapsed": 37,
     "status": "ok",
     "timestamp": 1649693028221,
     "user": {
      "displayName": "Steven George",
      "userId": "07709250839253394649"
     },
     "user_tz": -60
    },
    "id": "a8756bbd",
    "outputId": "948a31f3-b8aa-49e6-afa6-08c36a4f6705"
   },
   "outputs": [
    {
     "data": {
      "text/plain": [
       "0.003228173021132559"
      ]
     },
     "execution_count": 104,
     "metadata": {},
     "output_type": "execute_result"
    }
   ],
   "source": [
    "mapk(actuals, predictions, k=12)"
   ]
  },
  {
   "cell_type": "code",
   "execution_count": 105,
   "id": "523486d7",
   "metadata": {
    "colab": {
     "base_uri": "https://localhost:8080/"
    },
    "executionInfo": {
     "elapsed": 32,
     "status": "ok",
     "timestamp": 1649693028221,
     "user": {
      "displayName": "Steven George",
      "userId": "07709250839253394649"
     },
     "user_tz": -60
    },
    "id": "IbCuWrvsThoI",
    "outputId": "a42e73a6-9107-40a3-b792-3455f5d9e34d"
   },
   "outputs": [
    {
     "data": {
      "text/plain": [
       "9177"
      ]
     },
     "execution_count": 105,
     "metadata": {},
     "output_type": "execute_result"
    }
   ],
   "source": [
    "test_set_by_customer['predictions'].astype(str).nunique()"
   ]
  },
  {
   "cell_type": "code",
   "execution_count": 106,
   "id": "08e5b637",
   "metadata": {
    "colab": {
     "base_uri": "https://localhost:8080/"
    },
    "executionInfo": {
     "elapsed": 28,
     "status": "ok",
     "timestamp": 1649693028221,
     "user": {
      "displayName": "Steven George",
      "userId": "07709250839253394649"
     },
     "user_tz": -60
    },
    "id": "nlgmSVgeTrM2",
    "outputId": "0f8f07c5-aa85-467b-94fe-af39b7b84018"
   },
   "outputs": [
    {
     "data": {
      "text/plain": [
       "(9208, 4)"
      ]
     },
     "execution_count": 106,
     "metadata": {},
     "output_type": "execute_result"
    }
   ],
   "source": [
    "test_set_by_customer.shape"
   ]
  },
  {
   "cell_type": "code",
   "execution_count": 107,
   "id": "08c302de",
   "metadata": {
    "colab": {
     "base_uri": "https://localhost:8080/"
    },
    "executionInfo": {
     "elapsed": 25,
     "status": "ok",
     "timestamp": 1649693028222,
     "user": {
      "displayName": "Steven George",
      "userId": "07709250839253394649"
     },
     "user_tz": -60
    },
    "id": "b1TtPdb5JbCR",
    "outputId": "4c5b3c56-feb7-4221-bffe-63a20b9baf01"
   },
   "outputs": [
    {
     "data": {
      "text/plain": [
       "{1713,\n",
       " 1714,\n",
       " 2236,\n",
       " 3091,\n",
       " 24836,\n",
       " 24837,\n",
       " 42626,\n",
       " 53892,\n",
       " 53893,\n",
       " 58491,\n",
       " 67522,\n",
       " 70221}"
      ]
     },
     "execution_count": 107,
     "metadata": {},
     "output_type": "execute_result"
    }
   ],
   "source": [
    "most_pop_12 = (train_set.groupby('article_id_idx')['customer_id'].count()).sort_values(ascending=False).head(12).index.to_list()\n",
    "most_pop_12 = set(most_pop_12)\n",
    "most_pop_12"
   ]
  },
  {
   "cell_type": "code",
   "execution_count": 108,
   "id": "1e5b7b87",
   "metadata": {
    "executionInfo": {
     "elapsed": 22,
     "status": "ok",
     "timestamp": 1649693028222,
     "user": {
      "displayName": "Steven George",
      "userId": "07709250839253394649"
     },
     "user_tz": -60
    },
    "id": "tP_pJ8ciJzyR"
   },
   "outputs": [],
   "source": [
    "test_set_by_customer['num_top_12_items'] = test_set_by_customer['predictions'].apply(lambda x: len(set(x).intersection(most_pop_12)))"
   ]
  },
  {
   "cell_type": "code",
   "execution_count": 109,
   "id": "be376d24",
   "metadata": {
    "colab": {
     "base_uri": "https://localhost:8080/"
    },
    "executionInfo": {
     "elapsed": 21,
     "status": "ok",
     "timestamp": 1649693028222,
     "user": {
      "displayName": "Steven George",
      "userId": "07709250839253394649"
     },
     "user_tz": -60
    },
    "id": "bnTt5ZTCKLFP",
    "outputId": "8ae28998-4d94-47cf-805a-cdced8a503b5"
   },
   "outputs": [
    {
     "data": {
      "text/plain": [
       "0     1093\n",
       "1      800\n",
       "2      810\n",
       "3     1084\n",
       "4     1498\n",
       "5     1314\n",
       "6     1028\n",
       "7      770\n",
       "8      415\n",
       "9      298\n",
       "10      93\n",
       "11       5\n",
       "Name: num_top_12_items, dtype: int64"
      ]
     },
     "execution_count": 109,
     "metadata": {},
     "output_type": "execute_result"
    }
   ],
   "source": [
    "test_set_by_customer['num_top_12_items'].value_counts().sort_index()"
   ]
  },
  {
   "cell_type": "markdown",
   "id": "12b044c7",
   "metadata": {
    "id": "435ce7da"
   },
   "source": [
    "Finally we beat our naive baseline, albeit not by much (0.003196 vs. 0.003228). Still a way to go in terms of leaderboard performance.\n",
    "\n",
    "Interestingly the model is able to do this by producing varied predictions for each customer and doesn't draw frequently from the top-12 most popular items.\n",
    "\n",
    "Things that seemed to work:\n",
    "- Limiting articles to ones where there was an observed transaction after 2020. We assume that items before that were removed from the catalog and hence are no longer available\n",
    "- Added embeddings for article meta-data, concatenating and feed-forward\n",
    "- Treating as binary classification problem with up to 1,000 negative samples per customer\n",
    "- When drawing negative samples we only use the reduced set of items\n",
    "- To avoid making a prediction for all items we only make evaluations for the overall top-1000 items (a naive form of candidate generation)\n",
    "\n",
    "Possible improvements:\n",
    "- Most popular items by season?\n",
    "- User features\n",
    "- Negative sampling from candidates (top-1000) only\n",
    "- Way of doing candidate generation within the model (end-to-end)"
   ]
  }
 ],
 "metadata": {
  "accelerator": "GPU",
  "colab": {
   "machine_shape": "hm",
   "name": "10-Adding article features.ipynb",
   "provenance": []
  },
  "kernelspec": {
   "display_name": "Python 3 (ipykernel)",
   "language": "python",
   "name": "python3"
  },
  "language_info": {
   "codemirror_mode": {
    "name": "ipython",
    "version": 3
   },
   "file_extension": ".py",
   "mimetype": "text/x-python",
   "name": "python",
   "nbconvert_exporter": "python",
   "pygments_lexer": "ipython3",
   "version": "3.8.12"
  }
 },
 "nbformat": 4,
 "nbformat_minor": 5
}
