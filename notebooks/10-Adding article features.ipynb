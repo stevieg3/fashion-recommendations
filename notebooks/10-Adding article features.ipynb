{
 "cells": [
  {
   "cell_type": "markdown",
   "id": "d735c753",
   "metadata": {
    "id": "66f06412"
   },
   "source": [
    "TBC"
   ]
  },
  {
   "cell_type": "code",
   "execution_count": 1,
   "id": "52f14bce",
   "metadata": {
    "colab": {
     "base_uri": "https://localhost:8080/"
    },
    "executionInfo": {
     "elapsed": 14777,
     "status": "ok",
     "timestamp": 1649541825643,
     "user": {
      "displayName": "Steven George",
      "userId": "07709250839253394649"
     },
     "user_tz": -60
    },
    "id": "ODcrlDPwJpFz",
    "outputId": "51378ea2-2cb1-455b-d03d-d5767ac348e3"
   },
   "outputs": [],
   "source": [
    "# from google.colab import drive\n",
    "# drive.mount('/content/drive', force_remount=True)"
   ]
  },
  {
   "cell_type": "code",
   "execution_count": 2,
   "id": "562972be",
   "metadata": {
    "executionInfo": {
     "elapsed": 5657,
     "status": "ok",
     "timestamp": 1649541831294,
     "user": {
      "displayName": "Steven George",
      "userId": "07709250839253394649"
     },
     "user_tz": -60
    },
    "id": "37792a66"
   },
   "outputs": [],
   "source": [
    "import os\n",
    "import datetime\n",
    "\n",
    "import pandas as pd\n",
    "import numpy as np\n",
    "import matplotlib.pyplot as plt\n",
    "import torch\n",
    "import torch.nn as nn\n",
    "from torch.utils.data import Dataset, DataLoader\n",
    "from tqdm import tqdm"
   ]
  },
  {
   "cell_type": "code",
   "execution_count": 3,
   "id": "627d0e90",
   "metadata": {
    "executionInfo": {
     "elapsed": 589,
     "status": "ok",
     "timestamp": 1649541831877,
     "user": {
      "displayName": "Steven George",
      "userId": "07709250839253394649"
     },
     "user_tz": -60
    },
    "id": "418a2c3e"
   },
   "outputs": [],
   "source": [
    "os.chdir('..')\n",
    "# os.chdir('drive/My Drive/Colab Notebooks/Github/fashion-recommendations') "
   ]
  },
  {
   "cell_type": "code",
   "execution_count": 4,
   "id": "ed516b5d",
   "metadata": {
    "executionInfo": {
     "elapsed": 822,
     "status": "ok",
     "timestamp": 1649541832696,
     "user": {
      "displayName": "Steven George",
      "userId": "07709250839253394649"
     },
     "user_tz": -60
    },
    "id": "fcbcbcb4"
   },
   "outputs": [],
   "source": [
    "from fashion_recommendations.metrics.average_precision import mapk"
   ]
  },
  {
   "cell_type": "code",
   "execution_count": 5,
   "id": "9f676b44",
   "metadata": {},
   "outputs": [],
   "source": [
    "pd.options.display.max_columns = None"
   ]
  },
  {
   "cell_type": "code",
   "execution_count": 6,
   "id": "f32f6ce3",
   "metadata": {
    "colab": {
     "base_uri": "https://localhost:8080/"
    },
    "executionInfo": {
     "elapsed": 8,
     "status": "ok",
     "timestamp": 1649541832697,
     "user": {
      "displayName": "Steven George",
      "userId": "07709250839253394649"
     },
     "user_tz": -60
    },
    "id": "aad570c4",
    "outputId": "87263d7a-7851-478e-bb7c-271aa70d6b69"
   },
   "outputs": [
    {
     "name": "stdout",
     "output_type": "stream",
     "text": [
      "cpu\n"
     ]
    }
   ],
   "source": [
    "device = torch.device(\"cuda:0\" if torch.cuda.is_available() else \"cpu\")\n",
    "print(device)"
   ]
  },
  {
   "cell_type": "code",
   "execution_count": 7,
   "id": "72888e65",
   "metadata": {
    "colab": {
     "base_uri": "https://localhost:8080/",
     "height": 224
    },
    "executionInfo": {
     "elapsed": 1436,
     "status": "ok",
     "timestamp": 1649541834128,
     "user": {
      "displayName": "Steven George",
      "userId": "07709250839253394649"
     },
     "user_tz": -60
    },
    "id": "1f9da182",
    "outputId": "4b6b207e-9a6d-4c1e-a9cf-da21ef644396"
   },
   "outputs": [
    {
     "name": "stdout",
     "output_type": "stream",
     "text": [
      "(588758, 5)\n"
     ]
    },
    {
     "data": {
      "text/html": [
       "<div>\n",
       "<style scoped>\n",
       "    .dataframe tbody tr th:only-of-type {\n",
       "        vertical-align: middle;\n",
       "    }\n",
       "\n",
       "    .dataframe tbody tr th {\n",
       "        vertical-align: top;\n",
       "    }\n",
       "\n",
       "    .dataframe thead th {\n",
       "        text-align: right;\n",
       "    }\n",
       "</style>\n",
       "<table border=\"1\" class=\"dataframe\">\n",
       "  <thead>\n",
       "    <tr style=\"text-align: right;\">\n",
       "      <th></th>\n",
       "      <th>t_dat</th>\n",
       "      <th>customer_id</th>\n",
       "      <th>article_id</th>\n",
       "      <th>price</th>\n",
       "      <th>sales_channel_id</th>\n",
       "    </tr>\n",
       "  </thead>\n",
       "  <tbody>\n",
       "    <tr>\n",
       "      <th>0</th>\n",
       "      <td>2018-09-20</td>\n",
       "      <td>000058a12d5b43e67d225668fa1f8d618c13dc232df0ca...</td>\n",
       "      <td>0663713001</td>\n",
       "      <td>0.050831</td>\n",
       "      <td>2</td>\n",
       "    </tr>\n",
       "    <tr>\n",
       "      <th>1</th>\n",
       "      <td>2018-09-20</td>\n",
       "      <td>000058a12d5b43e67d225668fa1f8d618c13dc232df0ca...</td>\n",
       "      <td>0541518023</td>\n",
       "      <td>0.030492</td>\n",
       "      <td>2</td>\n",
       "    </tr>\n",
       "    <tr>\n",
       "      <th>2</th>\n",
       "      <td>2018-09-20</td>\n",
       "      <td>016d8f0519d9e0572b3abebeab87408bad7a5c3a284016...</td>\n",
       "      <td>0650193004</td>\n",
       "      <td>0.050831</td>\n",
       "      <td>1</td>\n",
       "    </tr>\n",
       "    <tr>\n",
       "      <th>3</th>\n",
       "      <td>2018-09-20</td>\n",
       "      <td>016d8f0519d9e0572b3abebeab87408bad7a5c3a284016...</td>\n",
       "      <td>0527687006</td>\n",
       "      <td>0.101678</td>\n",
       "      <td>1</td>\n",
       "    </tr>\n",
       "    <tr>\n",
       "      <th>4</th>\n",
       "      <td>2018-09-20</td>\n",
       "      <td>02bfe1a5248beb9cd28ad4ac630a6d75e78d9a3e14551a...</td>\n",
       "      <td>0668767002</td>\n",
       "      <td>0.016932</td>\n",
       "      <td>2</td>\n",
       "    </tr>\n",
       "  </tbody>\n",
       "</table>\n",
       "</div>"
      ],
      "text/plain": [
       "        t_dat                                        customer_id  article_id  \\\n",
       "0  2018-09-20  000058a12d5b43e67d225668fa1f8d618c13dc232df0ca...  0663713001   \n",
       "1  2018-09-20  000058a12d5b43e67d225668fa1f8d618c13dc232df0ca...  0541518023   \n",
       "2  2018-09-20  016d8f0519d9e0572b3abebeab87408bad7a5c3a284016...  0650193004   \n",
       "3  2018-09-20  016d8f0519d9e0572b3abebeab87408bad7a5c3a284016...  0527687006   \n",
       "4  2018-09-20  02bfe1a5248beb9cd28ad4ac630a6d75e78d9a3e14551a...  0668767002   \n",
       "\n",
       "      price  sales_channel_id  \n",
       "0  0.050831                 2  \n",
       "1  0.030492                 2  \n",
       "2  0.050831                 1  \n",
       "3  0.101678                 1  \n",
       "4  0.016932                 2  "
      ]
     },
     "execution_count": 7,
     "metadata": {},
     "output_type": "execute_result"
    }
   ],
   "source": [
    "train_set_orig = pd.read_csv('data/splits/train_subset.tsv', sep='\\t', dtype={'article_id': str})\n",
    "print(train_set_orig.shape)\n",
    "train_set_orig.head()"
   ]
  },
  {
   "cell_type": "code",
   "execution_count": 8,
   "id": "07eb9c3c",
   "metadata": {
    "colab": {
     "base_uri": "https://localhost:8080/",
     "height": 224
    },
    "executionInfo": {
     "elapsed": 689,
     "status": "ok",
     "timestamp": 1649541834812,
     "user": {
      "displayName": "Steven George",
      "userId": "07709250839253394649"
     },
     "user_tz": -60
    },
    "id": "d619539c",
    "outputId": "90cca4ea-75e8-477e-f4db-a80de2d2ef99"
   },
   "outputs": [
    {
     "name": "stdout",
     "output_type": "stream",
     "text": [
      "(32995, 5)\n"
     ]
    },
    {
     "data": {
      "text/html": [
       "<div>\n",
       "<style scoped>\n",
       "    .dataframe tbody tr th:only-of-type {\n",
       "        vertical-align: middle;\n",
       "    }\n",
       "\n",
       "    .dataframe tbody tr th {\n",
       "        vertical-align: top;\n",
       "    }\n",
       "\n",
       "    .dataframe thead th {\n",
       "        text-align: right;\n",
       "    }\n",
       "</style>\n",
       "<table border=\"1\" class=\"dataframe\">\n",
       "  <thead>\n",
       "    <tr style=\"text-align: right;\">\n",
       "      <th></th>\n",
       "      <th>t_dat</th>\n",
       "      <th>customer_id</th>\n",
       "      <th>article_id</th>\n",
       "      <th>price</th>\n",
       "      <th>sales_channel_id</th>\n",
       "    </tr>\n",
       "  </thead>\n",
       "  <tbody>\n",
       "    <tr>\n",
       "      <th>0</th>\n",
       "      <td>2020-09-15</td>\n",
       "      <td>000058a12d5b43e67d225668fa1f8d618c13dc232df0ca...</td>\n",
       "      <td>0794321007</td>\n",
       "      <td>0.061000</td>\n",
       "      <td>2</td>\n",
       "    </tr>\n",
       "    <tr>\n",
       "      <th>1</th>\n",
       "      <td>2020-09-15</td>\n",
       "      <td>0015f37f752a41a75c3be6f3f92deedc4c87d039f1758e...</td>\n",
       "      <td>0778745010</td>\n",
       "      <td>0.033881</td>\n",
       "      <td>2</td>\n",
       "    </tr>\n",
       "    <tr>\n",
       "      <th>2</th>\n",
       "      <td>2020-09-15</td>\n",
       "      <td>0015f37f752a41a75c3be6f3f92deedc4c87d039f1758e...</td>\n",
       "      <td>0778745010</td>\n",
       "      <td>0.033881</td>\n",
       "      <td>2</td>\n",
       "    </tr>\n",
       "    <tr>\n",
       "      <th>3</th>\n",
       "      <td>2020-09-15</td>\n",
       "      <td>0015f37f752a41a75c3be6f3f92deedc4c87d039f1758e...</td>\n",
       "      <td>0610776105</td>\n",
       "      <td>0.008458</td>\n",
       "      <td>2</td>\n",
       "    </tr>\n",
       "    <tr>\n",
       "      <th>4</th>\n",
       "      <td>2020-09-15</td>\n",
       "      <td>0015f37f752a41a75c3be6f3f92deedc4c87d039f1758e...</td>\n",
       "      <td>0929745001</td>\n",
       "      <td>0.050831</td>\n",
       "      <td>2</td>\n",
       "    </tr>\n",
       "  </tbody>\n",
       "</table>\n",
       "</div>"
      ],
      "text/plain": [
       "        t_dat                                        customer_id  article_id  \\\n",
       "0  2020-09-15  000058a12d5b43e67d225668fa1f8d618c13dc232df0ca...  0794321007   \n",
       "1  2020-09-15  0015f37f752a41a75c3be6f3f92deedc4c87d039f1758e...  0778745010   \n",
       "2  2020-09-15  0015f37f752a41a75c3be6f3f92deedc4c87d039f1758e...  0778745010   \n",
       "3  2020-09-15  0015f37f752a41a75c3be6f3f92deedc4c87d039f1758e...  0610776105   \n",
       "4  2020-09-15  0015f37f752a41a75c3be6f3f92deedc4c87d039f1758e...  0929745001   \n",
       "\n",
       "      price  sales_channel_id  \n",
       "0  0.061000                 2  \n",
       "1  0.033881                 2  \n",
       "2  0.033881                 2  \n",
       "3  0.008458                 2  \n",
       "4  0.050831                 2  "
      ]
     },
     "execution_count": 8,
     "metadata": {},
     "output_type": "execute_result"
    }
   ],
   "source": [
    "test_set = pd.read_csv('data/splits/test_subset.tsv', sep='\\t', dtype={'article_id': str})\n",
    "print(test_set.shape)\n",
    "test_set.head()"
   ]
  },
  {
   "cell_type": "markdown",
   "id": "089130fb",
   "metadata": {
    "id": "98c83d6b"
   },
   "source": [
    "### Map `customer_id` and `article_id` to indices"
   ]
  },
  {
   "cell_type": "markdown",
   "id": "21c96c61",
   "metadata": {
    "id": "8acefd46"
   },
   "source": [
    "Test set doesn't include anyone not in training set"
   ]
  },
  {
   "cell_type": "code",
   "execution_count": 9,
   "id": "e631aa98",
   "metadata": {
    "colab": {
     "base_uri": "https://localhost:8080/"
    },
    "executionInfo": {
     "elapsed": 9,
     "status": "ok",
     "timestamp": 1649541834813,
     "user": {
      "displayName": "Steven George",
      "userId": "07709250839253394649"
     },
     "user_tz": -60
    },
    "id": "eaeafb92",
    "outputId": "cc5f995c-c9b5-44cf-faed-4512777a0aea"
   },
   "outputs": [
    {
     "data": {
      "text/plain": [
       "9208"
      ]
     },
     "execution_count": 9,
     "metadata": {},
     "output_type": "execute_result"
    }
   ],
   "source": [
    "unique_customers_df = train_set_orig[['customer_id']].drop_duplicates().reset_index(drop=True)\n",
    "\n",
    "customer_id_to_idx = dict(\n",
    "    zip(\n",
    "        unique_customers_df['customer_id'],\n",
    "        unique_customers_df.index\n",
    "    )\n",
    ")\n",
    "\n",
    "len(customer_id_to_idx)"
   ]
  },
  {
   "cell_type": "code",
   "execution_count": 10,
   "id": "0cbe19ca",
   "metadata": {
    "colab": {
     "base_uri": "https://localhost:8080/",
     "height": 224
    },
    "executionInfo": {
     "elapsed": 519,
     "status": "ok",
     "timestamp": 1649541835327,
     "user": {
      "displayName": "Steven George",
      "userId": "07709250839253394649"
     },
     "user_tz": -60
    },
    "id": "110dff6e",
    "outputId": "118485f4-a32d-4999-f05a-ec208674faba"
   },
   "outputs": [
    {
     "name": "stdout",
     "output_type": "stream",
     "text": [
      "(105542, 25)\n"
     ]
    },
    {
     "data": {
      "text/html": [
       "<div>\n",
       "<style scoped>\n",
       "    .dataframe tbody tr th:only-of-type {\n",
       "        vertical-align: middle;\n",
       "    }\n",
       "\n",
       "    .dataframe tbody tr th {\n",
       "        vertical-align: top;\n",
       "    }\n",
       "\n",
       "    .dataframe thead th {\n",
       "        text-align: right;\n",
       "    }\n",
       "</style>\n",
       "<table border=\"1\" class=\"dataframe\">\n",
       "  <thead>\n",
       "    <tr style=\"text-align: right;\">\n",
       "      <th></th>\n",
       "      <th>article_id</th>\n",
       "      <th>product_code</th>\n",
       "      <th>prod_name</th>\n",
       "      <th>product_type_no</th>\n",
       "      <th>product_type_name</th>\n",
       "      <th>product_group_name</th>\n",
       "      <th>graphical_appearance_no</th>\n",
       "      <th>graphical_appearance_name</th>\n",
       "      <th>colour_group_code</th>\n",
       "      <th>colour_group_name</th>\n",
       "      <th>perceived_colour_value_id</th>\n",
       "      <th>perceived_colour_value_name</th>\n",
       "      <th>perceived_colour_master_id</th>\n",
       "      <th>perceived_colour_master_name</th>\n",
       "      <th>department_no</th>\n",
       "      <th>department_name</th>\n",
       "      <th>index_code</th>\n",
       "      <th>index_name</th>\n",
       "      <th>index_group_no</th>\n",
       "      <th>index_group_name</th>\n",
       "      <th>section_no</th>\n",
       "      <th>section_name</th>\n",
       "      <th>garment_group_no</th>\n",
       "      <th>garment_group_name</th>\n",
       "      <th>detail_desc</th>\n",
       "    </tr>\n",
       "  </thead>\n",
       "  <tbody>\n",
       "    <tr>\n",
       "      <th>0</th>\n",
       "      <td>0108775015</td>\n",
       "      <td>108775</td>\n",
       "      <td>Strap top</td>\n",
       "      <td>253</td>\n",
       "      <td>Vest top</td>\n",
       "      <td>Garment Upper body</td>\n",
       "      <td>1010016</td>\n",
       "      <td>Solid</td>\n",
       "      <td>9</td>\n",
       "      <td>Black</td>\n",
       "      <td>4</td>\n",
       "      <td>Dark</td>\n",
       "      <td>5</td>\n",
       "      <td>Black</td>\n",
       "      <td>1676</td>\n",
       "      <td>Jersey Basic</td>\n",
       "      <td>A</td>\n",
       "      <td>Ladieswear</td>\n",
       "      <td>1</td>\n",
       "      <td>Ladieswear</td>\n",
       "      <td>16</td>\n",
       "      <td>Womens Everyday Basics</td>\n",
       "      <td>1002</td>\n",
       "      <td>Jersey Basic</td>\n",
       "      <td>Jersey top with narrow shoulder straps.</td>\n",
       "    </tr>\n",
       "    <tr>\n",
       "      <th>1</th>\n",
       "      <td>0108775044</td>\n",
       "      <td>108775</td>\n",
       "      <td>Strap top</td>\n",
       "      <td>253</td>\n",
       "      <td>Vest top</td>\n",
       "      <td>Garment Upper body</td>\n",
       "      <td>1010016</td>\n",
       "      <td>Solid</td>\n",
       "      <td>10</td>\n",
       "      <td>White</td>\n",
       "      <td>3</td>\n",
       "      <td>Light</td>\n",
       "      <td>9</td>\n",
       "      <td>White</td>\n",
       "      <td>1676</td>\n",
       "      <td>Jersey Basic</td>\n",
       "      <td>A</td>\n",
       "      <td>Ladieswear</td>\n",
       "      <td>1</td>\n",
       "      <td>Ladieswear</td>\n",
       "      <td>16</td>\n",
       "      <td>Womens Everyday Basics</td>\n",
       "      <td>1002</td>\n",
       "      <td>Jersey Basic</td>\n",
       "      <td>Jersey top with narrow shoulder straps.</td>\n",
       "    </tr>\n",
       "    <tr>\n",
       "      <th>2</th>\n",
       "      <td>0108775051</td>\n",
       "      <td>108775</td>\n",
       "      <td>Strap top (1)</td>\n",
       "      <td>253</td>\n",
       "      <td>Vest top</td>\n",
       "      <td>Garment Upper body</td>\n",
       "      <td>1010017</td>\n",
       "      <td>Stripe</td>\n",
       "      <td>11</td>\n",
       "      <td>Off White</td>\n",
       "      <td>1</td>\n",
       "      <td>Dusty Light</td>\n",
       "      <td>9</td>\n",
       "      <td>White</td>\n",
       "      <td>1676</td>\n",
       "      <td>Jersey Basic</td>\n",
       "      <td>A</td>\n",
       "      <td>Ladieswear</td>\n",
       "      <td>1</td>\n",
       "      <td>Ladieswear</td>\n",
       "      <td>16</td>\n",
       "      <td>Womens Everyday Basics</td>\n",
       "      <td>1002</td>\n",
       "      <td>Jersey Basic</td>\n",
       "      <td>Jersey top with narrow shoulder straps.</td>\n",
       "    </tr>\n",
       "    <tr>\n",
       "      <th>3</th>\n",
       "      <td>0110065001</td>\n",
       "      <td>110065</td>\n",
       "      <td>OP T-shirt (Idro)</td>\n",
       "      <td>306</td>\n",
       "      <td>Bra</td>\n",
       "      <td>Underwear</td>\n",
       "      <td>1010016</td>\n",
       "      <td>Solid</td>\n",
       "      <td>9</td>\n",
       "      <td>Black</td>\n",
       "      <td>4</td>\n",
       "      <td>Dark</td>\n",
       "      <td>5</td>\n",
       "      <td>Black</td>\n",
       "      <td>1339</td>\n",
       "      <td>Clean Lingerie</td>\n",
       "      <td>B</td>\n",
       "      <td>Lingeries/Tights</td>\n",
       "      <td>1</td>\n",
       "      <td>Ladieswear</td>\n",
       "      <td>61</td>\n",
       "      <td>Womens Lingerie</td>\n",
       "      <td>1017</td>\n",
       "      <td>Under-, Nightwear</td>\n",
       "      <td>Microfibre T-shirt bra with underwired, moulde...</td>\n",
       "    </tr>\n",
       "    <tr>\n",
       "      <th>4</th>\n",
       "      <td>0110065002</td>\n",
       "      <td>110065</td>\n",
       "      <td>OP T-shirt (Idro)</td>\n",
       "      <td>306</td>\n",
       "      <td>Bra</td>\n",
       "      <td>Underwear</td>\n",
       "      <td>1010016</td>\n",
       "      <td>Solid</td>\n",
       "      <td>10</td>\n",
       "      <td>White</td>\n",
       "      <td>3</td>\n",
       "      <td>Light</td>\n",
       "      <td>9</td>\n",
       "      <td>White</td>\n",
       "      <td>1339</td>\n",
       "      <td>Clean Lingerie</td>\n",
       "      <td>B</td>\n",
       "      <td>Lingeries/Tights</td>\n",
       "      <td>1</td>\n",
       "      <td>Ladieswear</td>\n",
       "      <td>61</td>\n",
       "      <td>Womens Lingerie</td>\n",
       "      <td>1017</td>\n",
       "      <td>Under-, Nightwear</td>\n",
       "      <td>Microfibre T-shirt bra with underwired, moulde...</td>\n",
       "    </tr>\n",
       "  </tbody>\n",
       "</table>\n",
       "</div>"
      ],
      "text/plain": [
       "   article_id  product_code          prod_name  product_type_no  \\\n",
       "0  0108775015        108775          Strap top              253   \n",
       "1  0108775044        108775          Strap top              253   \n",
       "2  0108775051        108775      Strap top (1)              253   \n",
       "3  0110065001        110065  OP T-shirt (Idro)              306   \n",
       "4  0110065002        110065  OP T-shirt (Idro)              306   \n",
       "\n",
       "  product_type_name  product_group_name  graphical_appearance_no  \\\n",
       "0          Vest top  Garment Upper body                  1010016   \n",
       "1          Vest top  Garment Upper body                  1010016   \n",
       "2          Vest top  Garment Upper body                  1010017   \n",
       "3               Bra           Underwear                  1010016   \n",
       "4               Bra           Underwear                  1010016   \n",
       "\n",
       "  graphical_appearance_name  colour_group_code colour_group_name  \\\n",
       "0                     Solid                  9             Black   \n",
       "1                     Solid                 10             White   \n",
       "2                    Stripe                 11         Off White   \n",
       "3                     Solid                  9             Black   \n",
       "4                     Solid                 10             White   \n",
       "\n",
       "   perceived_colour_value_id perceived_colour_value_name  \\\n",
       "0                          4                        Dark   \n",
       "1                          3                       Light   \n",
       "2                          1                 Dusty Light   \n",
       "3                          4                        Dark   \n",
       "4                          3                       Light   \n",
       "\n",
       "   perceived_colour_master_id perceived_colour_master_name  department_no  \\\n",
       "0                           5                        Black           1676   \n",
       "1                           9                        White           1676   \n",
       "2                           9                        White           1676   \n",
       "3                           5                        Black           1339   \n",
       "4                           9                        White           1339   \n",
       "\n",
       "  department_name index_code        index_name  index_group_no  \\\n",
       "0    Jersey Basic          A        Ladieswear               1   \n",
       "1    Jersey Basic          A        Ladieswear               1   \n",
       "2    Jersey Basic          A        Ladieswear               1   \n",
       "3  Clean Lingerie          B  Lingeries/Tights               1   \n",
       "4  Clean Lingerie          B  Lingeries/Tights               1   \n",
       "\n",
       "  index_group_name  section_no            section_name  garment_group_no  \\\n",
       "0       Ladieswear          16  Womens Everyday Basics              1002   \n",
       "1       Ladieswear          16  Womens Everyday Basics              1002   \n",
       "2       Ladieswear          16  Womens Everyday Basics              1002   \n",
       "3       Ladieswear          61         Womens Lingerie              1017   \n",
       "4       Ladieswear          61         Womens Lingerie              1017   \n",
       "\n",
       "  garment_group_name                                        detail_desc  \n",
       "0       Jersey Basic            Jersey top with narrow shoulder straps.  \n",
       "1       Jersey Basic            Jersey top with narrow shoulder straps.  \n",
       "2       Jersey Basic            Jersey top with narrow shoulder straps.  \n",
       "3  Under-, Nightwear  Microfibre T-shirt bra with underwired, moulde...  \n",
       "4  Under-, Nightwear  Microfibre T-shirt bra with underwired, moulde...  "
      ]
     },
     "execution_count": 10,
     "metadata": {},
     "output_type": "execute_result"
    }
   ],
   "source": [
    "articles_df = pd.read_csv(\n",
    "    'data/articles.csv', \n",
    "    dtype={'article_id': str}, \n",
    "#     usecols=['article_id', 'prod_name', 'product_type_name', 'product_group_name', 'detail_desc']\n",
    ")\n",
    "print(articles_df.shape)\n",
    "articles_df.head()"
   ]
  },
  {
   "cell_type": "code",
   "execution_count": 11,
   "id": "973bcaa8",
   "metadata": {},
   "outputs": [],
   "source": [
    "articles_df['product_group_no'] = articles_df['product_group_name'].copy()"
   ]
  },
  {
   "cell_type": "code",
   "execution_count": 12,
   "id": "5d423c4e",
   "metadata": {},
   "outputs": [],
   "source": [
    "CATEGORICAL_FEATURES = [\n",
    "    'product_code', \n",
    "    'product_type_no', \n",
    "    'product_group_no', \n",
    "    'graphical_appearance_no', \n",
    "    'colour_group_code', \n",
    "    'perceived_colour_value_id', \n",
    "    'perceived_colour_master_id', \n",
    "    'department_no', \n",
    "    'index_code', \n",
    "    'index_group_no', \n",
    "    'section_no', \n",
    "    'garment_group_no'\n",
    "]"
   ]
  },
  {
   "cell_type": "code",
   "execution_count": 13,
   "id": "1dfbb367",
   "metadata": {},
   "outputs": [
    {
     "name": "stdout",
     "output_type": "stream",
     "text": [
      "product_code\n",
      "47224\n",
      "\n",
      "\n",
      "product_type_no\n",
      "132\n",
      "\n",
      "\n",
      "product_group_no\n",
      "19\n",
      "\n",
      "\n",
      "graphical_appearance_no\n",
      "30\n",
      "\n",
      "\n",
      "colour_group_code\n",
      "50\n",
      "\n",
      "\n",
      "perceived_colour_value_id\n",
      "8\n",
      "\n",
      "\n",
      "perceived_colour_master_id\n",
      "20\n",
      "\n",
      "\n",
      "department_no\n",
      "299\n",
      "\n",
      "\n",
      "index_code\n",
      "10\n",
      "\n",
      "\n",
      "index_group_no\n",
      "5\n",
      "\n",
      "\n",
      "section_no\n",
      "57\n",
      "\n",
      "\n",
      "garment_group_no\n",
      "21\n",
      "\n",
      "\n"
     ]
    }
   ],
   "source": [
    "for cat in CATEGORICAL_FEATURES:\n",
    "    print(cat)\n",
    "    print(articles_df[cat].nunique())\n",
    "    print('\\n')"
   ]
  },
  {
   "cell_type": "code",
   "execution_count": 14,
   "id": "7a89ac5c",
   "metadata": {},
   "outputs": [],
   "source": [
    "cat_code_to_indices = {}\n",
    "\n",
    "for cat in CATEGORICAL_FEATURES:\n",
    "    cat_code_to_indices[cat] = {v: k for k, v in dict(enumerate(articles_df[cat].unique())).items()}"
   ]
  },
  {
   "cell_type": "code",
   "execution_count": 15,
   "id": "bbf454b1",
   "metadata": {},
   "outputs": [],
   "source": [
    "for cat in CATEGORICAL_FEATURES:\n",
    "    articles_df[cat] = articles_df[cat].map(cat_code_to_indices[cat])"
   ]
  },
  {
   "cell_type": "code",
   "execution_count": 16,
   "id": "0428dc3e",
   "metadata": {},
   "outputs": [
    {
     "data": {
      "text/html": [
       "<div>\n",
       "<style scoped>\n",
       "    .dataframe tbody tr th:only-of-type {\n",
       "        vertical-align: middle;\n",
       "    }\n",
       "\n",
       "    .dataframe tbody tr th {\n",
       "        vertical-align: top;\n",
       "    }\n",
       "\n",
       "    .dataframe thead th {\n",
       "        text-align: right;\n",
       "    }\n",
       "</style>\n",
       "<table border=\"1\" class=\"dataframe\">\n",
       "  <thead>\n",
       "    <tr style=\"text-align: right;\">\n",
       "      <th></th>\n",
       "      <th>article_id</th>\n",
       "      <th>product_code</th>\n",
       "      <th>prod_name</th>\n",
       "      <th>product_type_no</th>\n",
       "      <th>product_type_name</th>\n",
       "      <th>product_group_name</th>\n",
       "      <th>graphical_appearance_no</th>\n",
       "      <th>graphical_appearance_name</th>\n",
       "      <th>colour_group_code</th>\n",
       "      <th>colour_group_name</th>\n",
       "      <th>perceived_colour_value_id</th>\n",
       "      <th>perceived_colour_value_name</th>\n",
       "      <th>perceived_colour_master_id</th>\n",
       "      <th>perceived_colour_master_name</th>\n",
       "      <th>department_no</th>\n",
       "      <th>department_name</th>\n",
       "      <th>index_code</th>\n",
       "      <th>index_name</th>\n",
       "      <th>index_group_no</th>\n",
       "      <th>index_group_name</th>\n",
       "      <th>section_no</th>\n",
       "      <th>section_name</th>\n",
       "      <th>garment_group_no</th>\n",
       "      <th>garment_group_name</th>\n",
       "      <th>detail_desc</th>\n",
       "      <th>product_group_no</th>\n",
       "    </tr>\n",
       "  </thead>\n",
       "  <tbody>\n",
       "    <tr>\n",
       "      <th>0</th>\n",
       "      <td>0108775015</td>\n",
       "      <td>0</td>\n",
       "      <td>Strap top</td>\n",
       "      <td>0</td>\n",
       "      <td>Vest top</td>\n",
       "      <td>Garment Upper body</td>\n",
       "      <td>0</td>\n",
       "      <td>Solid</td>\n",
       "      <td>0</td>\n",
       "      <td>Black</td>\n",
       "      <td>0</td>\n",
       "      <td>Dark</td>\n",
       "      <td>0</td>\n",
       "      <td>Black</td>\n",
       "      <td>0</td>\n",
       "      <td>Jersey Basic</td>\n",
       "      <td>0</td>\n",
       "      <td>Ladieswear</td>\n",
       "      <td>0</td>\n",
       "      <td>Ladieswear</td>\n",
       "      <td>0</td>\n",
       "      <td>Womens Everyday Basics</td>\n",
       "      <td>0</td>\n",
       "      <td>Jersey Basic</td>\n",
       "      <td>Jersey top with narrow shoulder straps.</td>\n",
       "      <td>0</td>\n",
       "    </tr>\n",
       "    <tr>\n",
       "      <th>1</th>\n",
       "      <td>0108775044</td>\n",
       "      <td>0</td>\n",
       "      <td>Strap top</td>\n",
       "      <td>0</td>\n",
       "      <td>Vest top</td>\n",
       "      <td>Garment Upper body</td>\n",
       "      <td>0</td>\n",
       "      <td>Solid</td>\n",
       "      <td>1</td>\n",
       "      <td>White</td>\n",
       "      <td>1</td>\n",
       "      <td>Light</td>\n",
       "      <td>1</td>\n",
       "      <td>White</td>\n",
       "      <td>0</td>\n",
       "      <td>Jersey Basic</td>\n",
       "      <td>0</td>\n",
       "      <td>Ladieswear</td>\n",
       "      <td>0</td>\n",
       "      <td>Ladieswear</td>\n",
       "      <td>0</td>\n",
       "      <td>Womens Everyday Basics</td>\n",
       "      <td>0</td>\n",
       "      <td>Jersey Basic</td>\n",
       "      <td>Jersey top with narrow shoulder straps.</td>\n",
       "      <td>0</td>\n",
       "    </tr>\n",
       "    <tr>\n",
       "      <th>2</th>\n",
       "      <td>0108775051</td>\n",
       "      <td>0</td>\n",
       "      <td>Strap top (1)</td>\n",
       "      <td>0</td>\n",
       "      <td>Vest top</td>\n",
       "      <td>Garment Upper body</td>\n",
       "      <td>1</td>\n",
       "      <td>Stripe</td>\n",
       "      <td>2</td>\n",
       "      <td>Off White</td>\n",
       "      <td>2</td>\n",
       "      <td>Dusty Light</td>\n",
       "      <td>1</td>\n",
       "      <td>White</td>\n",
       "      <td>0</td>\n",
       "      <td>Jersey Basic</td>\n",
       "      <td>0</td>\n",
       "      <td>Ladieswear</td>\n",
       "      <td>0</td>\n",
       "      <td>Ladieswear</td>\n",
       "      <td>0</td>\n",
       "      <td>Womens Everyday Basics</td>\n",
       "      <td>0</td>\n",
       "      <td>Jersey Basic</td>\n",
       "      <td>Jersey top with narrow shoulder straps.</td>\n",
       "      <td>0</td>\n",
       "    </tr>\n",
       "    <tr>\n",
       "      <th>3</th>\n",
       "      <td>0110065001</td>\n",
       "      <td>1</td>\n",
       "      <td>OP T-shirt (Idro)</td>\n",
       "      <td>1</td>\n",
       "      <td>Bra</td>\n",
       "      <td>Underwear</td>\n",
       "      <td>0</td>\n",
       "      <td>Solid</td>\n",
       "      <td>0</td>\n",
       "      <td>Black</td>\n",
       "      <td>0</td>\n",
       "      <td>Dark</td>\n",
       "      <td>0</td>\n",
       "      <td>Black</td>\n",
       "      <td>1</td>\n",
       "      <td>Clean Lingerie</td>\n",
       "      <td>1</td>\n",
       "      <td>Lingeries/Tights</td>\n",
       "      <td>0</td>\n",
       "      <td>Ladieswear</td>\n",
       "      <td>1</td>\n",
       "      <td>Womens Lingerie</td>\n",
       "      <td>1</td>\n",
       "      <td>Under-, Nightwear</td>\n",
       "      <td>Microfibre T-shirt bra with underwired, moulde...</td>\n",
       "      <td>1</td>\n",
       "    </tr>\n",
       "    <tr>\n",
       "      <th>4</th>\n",
       "      <td>0110065002</td>\n",
       "      <td>1</td>\n",
       "      <td>OP T-shirt (Idro)</td>\n",
       "      <td>1</td>\n",
       "      <td>Bra</td>\n",
       "      <td>Underwear</td>\n",
       "      <td>0</td>\n",
       "      <td>Solid</td>\n",
       "      <td>1</td>\n",
       "      <td>White</td>\n",
       "      <td>1</td>\n",
       "      <td>Light</td>\n",
       "      <td>1</td>\n",
       "      <td>White</td>\n",
       "      <td>1</td>\n",
       "      <td>Clean Lingerie</td>\n",
       "      <td>1</td>\n",
       "      <td>Lingeries/Tights</td>\n",
       "      <td>0</td>\n",
       "      <td>Ladieswear</td>\n",
       "      <td>1</td>\n",
       "      <td>Womens Lingerie</td>\n",
       "      <td>1</td>\n",
       "      <td>Under-, Nightwear</td>\n",
       "      <td>Microfibre T-shirt bra with underwired, moulde...</td>\n",
       "      <td>1</td>\n",
       "    </tr>\n",
       "  </tbody>\n",
       "</table>\n",
       "</div>"
      ],
      "text/plain": [
       "   article_id  product_code          prod_name  product_type_no  \\\n",
       "0  0108775015             0          Strap top                0   \n",
       "1  0108775044             0          Strap top                0   \n",
       "2  0108775051             0      Strap top (1)                0   \n",
       "3  0110065001             1  OP T-shirt (Idro)                1   \n",
       "4  0110065002             1  OP T-shirt (Idro)                1   \n",
       "\n",
       "  product_type_name  product_group_name  graphical_appearance_no  \\\n",
       "0          Vest top  Garment Upper body                        0   \n",
       "1          Vest top  Garment Upper body                        0   \n",
       "2          Vest top  Garment Upper body                        1   \n",
       "3               Bra           Underwear                        0   \n",
       "4               Bra           Underwear                        0   \n",
       "\n",
       "  graphical_appearance_name  colour_group_code colour_group_name  \\\n",
       "0                     Solid                  0             Black   \n",
       "1                     Solid                  1             White   \n",
       "2                    Stripe                  2         Off White   \n",
       "3                     Solid                  0             Black   \n",
       "4                     Solid                  1             White   \n",
       "\n",
       "   perceived_colour_value_id perceived_colour_value_name  \\\n",
       "0                          0                        Dark   \n",
       "1                          1                       Light   \n",
       "2                          2                 Dusty Light   \n",
       "3                          0                        Dark   \n",
       "4                          1                       Light   \n",
       "\n",
       "   perceived_colour_master_id perceived_colour_master_name  department_no  \\\n",
       "0                           0                        Black              0   \n",
       "1                           1                        White              0   \n",
       "2                           1                        White              0   \n",
       "3                           0                        Black              1   \n",
       "4                           1                        White              1   \n",
       "\n",
       "  department_name  index_code        index_name  index_group_no  \\\n",
       "0    Jersey Basic           0        Ladieswear               0   \n",
       "1    Jersey Basic           0        Ladieswear               0   \n",
       "2    Jersey Basic           0        Ladieswear               0   \n",
       "3  Clean Lingerie           1  Lingeries/Tights               0   \n",
       "4  Clean Lingerie           1  Lingeries/Tights               0   \n",
       "\n",
       "  index_group_name  section_no            section_name  garment_group_no  \\\n",
       "0       Ladieswear           0  Womens Everyday Basics                 0   \n",
       "1       Ladieswear           0  Womens Everyday Basics                 0   \n",
       "2       Ladieswear           0  Womens Everyday Basics                 0   \n",
       "3       Ladieswear           1         Womens Lingerie                 1   \n",
       "4       Ladieswear           1         Womens Lingerie                 1   \n",
       "\n",
       "  garment_group_name                                        detail_desc  \\\n",
       "0       Jersey Basic            Jersey top with narrow shoulder straps.   \n",
       "1       Jersey Basic            Jersey top with narrow shoulder straps.   \n",
       "2       Jersey Basic            Jersey top with narrow shoulder straps.   \n",
       "3  Under-, Nightwear  Microfibre T-shirt bra with underwired, moulde...   \n",
       "4  Under-, Nightwear  Microfibre T-shirt bra with underwired, moulde...   \n",
       "\n",
       "   product_group_no  \n",
       "0                 0  \n",
       "1                 0  \n",
       "2                 0  \n",
       "3                 1  \n",
       "4                 1  "
      ]
     },
     "execution_count": 16,
     "metadata": {},
     "output_type": "execute_result"
    }
   ],
   "source": [
    "articles_df.head()"
   ]
  },
  {
   "cell_type": "code",
   "execution_count": 17,
   "id": "3bd23f23",
   "metadata": {
    "executionInfo": {
     "elapsed": 5,
     "status": "ok",
     "timestamp": 1649541835328,
     "user": {
      "displayName": "Steven George",
      "userId": "07709250839253394649"
     },
     "user_tz": -60
    },
    "id": "3a243ee2"
   },
   "outputs": [],
   "source": [
    "article_id_to_idx = dict(\n",
    "    zip(\n",
    "        articles_df['article_id'],\n",
    "        articles_df.index\n",
    "    )\n",
    ")"
   ]
  },
  {
   "cell_type": "code",
   "execution_count": 18,
   "id": "f13b2c87",
   "metadata": {},
   "outputs": [],
   "source": [
    "articles_df['article_id_idx'] = articles_df['article_id'].map(article_id_to_idx)"
   ]
  },
  {
   "cell_type": "code",
   "execution_count": 19,
   "id": "00fb18b8",
   "metadata": {
    "colab": {
     "base_uri": "https://localhost:8080/",
     "height": 206
    },
    "executionInfo": {
     "elapsed": 561,
     "status": "ok",
     "timestamp": 1649541835884,
     "user": {
      "displayName": "Steven George",
      "userId": "07709250839253394649"
     },
     "user_tz": -60
    },
    "id": "bb85b7d0",
    "outputId": "1ae878a1-b6c0-436a-97d3-2f512076c45a"
   },
   "outputs": [
    {
     "data": {
      "text/html": [
       "<div>\n",
       "<style scoped>\n",
       "    .dataframe tbody tr th:only-of-type {\n",
       "        vertical-align: middle;\n",
       "    }\n",
       "\n",
       "    .dataframe tbody tr th {\n",
       "        vertical-align: top;\n",
       "    }\n",
       "\n",
       "    .dataframe thead th {\n",
       "        text-align: right;\n",
       "    }\n",
       "</style>\n",
       "<table border=\"1\" class=\"dataframe\">\n",
       "  <thead>\n",
       "    <tr style=\"text-align: right;\">\n",
       "      <th></th>\n",
       "      <th>t_dat</th>\n",
       "      <th>customer_id</th>\n",
       "      <th>article_id</th>\n",
       "      <th>price</th>\n",
       "      <th>sales_channel_id</th>\n",
       "      <th>customer_id_idx</th>\n",
       "      <th>article_id_idx</th>\n",
       "    </tr>\n",
       "  </thead>\n",
       "  <tbody>\n",
       "    <tr>\n",
       "      <th>0</th>\n",
       "      <td>2018-09-20</td>\n",
       "      <td>000058a12d5b43e67d225668fa1f8d618c13dc232df0ca...</td>\n",
       "      <td>0663713001</td>\n",
       "      <td>0.050831</td>\n",
       "      <td>2</td>\n",
       "      <td>0</td>\n",
       "      <td>40179</td>\n",
       "    </tr>\n",
       "    <tr>\n",
       "      <th>1</th>\n",
       "      <td>2018-09-20</td>\n",
       "      <td>000058a12d5b43e67d225668fa1f8d618c13dc232df0ca...</td>\n",
       "      <td>0541518023</td>\n",
       "      <td>0.030492</td>\n",
       "      <td>2</td>\n",
       "      <td>0</td>\n",
       "      <td>10520</td>\n",
       "    </tr>\n",
       "    <tr>\n",
       "      <th>2</th>\n",
       "      <td>2018-09-20</td>\n",
       "      <td>016d8f0519d9e0572b3abebeab87408bad7a5c3a284016...</td>\n",
       "      <td>0650193004</td>\n",
       "      <td>0.050831</td>\n",
       "      <td>1</td>\n",
       "      <td>1</td>\n",
       "      <td>36302</td>\n",
       "    </tr>\n",
       "    <tr>\n",
       "      <th>3</th>\n",
       "      <td>2018-09-20</td>\n",
       "      <td>016d8f0519d9e0572b3abebeab87408bad7a5c3a284016...</td>\n",
       "      <td>0527687006</td>\n",
       "      <td>0.101678</td>\n",
       "      <td>1</td>\n",
       "      <td>1</td>\n",
       "      <td>8963</td>\n",
       "    </tr>\n",
       "    <tr>\n",
       "      <th>4</th>\n",
       "      <td>2018-09-20</td>\n",
       "      <td>02bfe1a5248beb9cd28ad4ac630a6d75e78d9a3e14551a...</td>\n",
       "      <td>0668767002</td>\n",
       "      <td>0.016932</td>\n",
       "      <td>2</td>\n",
       "      <td>2</td>\n",
       "      <td>41390</td>\n",
       "    </tr>\n",
       "  </tbody>\n",
       "</table>\n",
       "</div>"
      ],
      "text/plain": [
       "        t_dat                                        customer_id  article_id  \\\n",
       "0  2018-09-20  000058a12d5b43e67d225668fa1f8d618c13dc232df0ca...  0663713001   \n",
       "1  2018-09-20  000058a12d5b43e67d225668fa1f8d618c13dc232df0ca...  0541518023   \n",
       "2  2018-09-20  016d8f0519d9e0572b3abebeab87408bad7a5c3a284016...  0650193004   \n",
       "3  2018-09-20  016d8f0519d9e0572b3abebeab87408bad7a5c3a284016...  0527687006   \n",
       "4  2018-09-20  02bfe1a5248beb9cd28ad4ac630a6d75e78d9a3e14551a...  0668767002   \n",
       "\n",
       "      price  sales_channel_id  customer_id_idx  article_id_idx  \n",
       "0  0.050831                 2                0           40179  \n",
       "1  0.030492                 2                0           10520  \n",
       "2  0.050831                 1                1           36302  \n",
       "3  0.101678                 1                1            8963  \n",
       "4  0.016932                 2                2           41390  "
      ]
     },
     "execution_count": 19,
     "metadata": {},
     "output_type": "execute_result"
    }
   ],
   "source": [
    "train_set_orig['customer_id_idx'] = train_set_orig['customer_id'].map(customer_id_to_idx)\n",
    "train_set_orig['article_id_idx'] = train_set_orig['article_id'].map(article_id_to_idx)\n",
    "\n",
    "train_set_orig.head()"
   ]
  },
  {
   "cell_type": "markdown",
   "id": "e7320bec",
   "metadata": {},
   "source": [
    "Merge article features"
   ]
  },
  {
   "cell_type": "code",
   "execution_count": 20,
   "id": "7818b15e",
   "metadata": {},
   "outputs": [],
   "source": [
    "train_set_orig = train_set_orig.merge(\n",
    "    articles_df[['article_id_idx'] + CATEGORICAL_FEATURES], \n",
    "    on='article_id_idx', \n",
    "    how='inner'\n",
    ")"
   ]
  },
  {
   "cell_type": "code",
   "execution_count": 21,
   "id": "d29a3bb1",
   "metadata": {},
   "outputs": [
    {
     "data": {
      "text/html": [
       "<div>\n",
       "<style scoped>\n",
       "    .dataframe tbody tr th:only-of-type {\n",
       "        vertical-align: middle;\n",
       "    }\n",
       "\n",
       "    .dataframe tbody tr th {\n",
       "        vertical-align: top;\n",
       "    }\n",
       "\n",
       "    .dataframe thead th {\n",
       "        text-align: right;\n",
       "    }\n",
       "</style>\n",
       "<table border=\"1\" class=\"dataframe\">\n",
       "  <thead>\n",
       "    <tr style=\"text-align: right;\">\n",
       "      <th></th>\n",
       "      <th>t_dat</th>\n",
       "      <th>customer_id</th>\n",
       "      <th>article_id</th>\n",
       "      <th>price</th>\n",
       "      <th>sales_channel_id</th>\n",
       "      <th>customer_id_idx</th>\n",
       "      <th>article_id_idx</th>\n",
       "      <th>product_code</th>\n",
       "      <th>product_type_no</th>\n",
       "      <th>product_group_no</th>\n",
       "      <th>graphical_appearance_no</th>\n",
       "      <th>colour_group_code</th>\n",
       "      <th>perceived_colour_value_id</th>\n",
       "      <th>perceived_colour_master_id</th>\n",
       "      <th>department_no</th>\n",
       "      <th>index_code</th>\n",
       "      <th>index_group_no</th>\n",
       "      <th>section_no</th>\n",
       "      <th>garment_group_no</th>\n",
       "    </tr>\n",
       "  </thead>\n",
       "  <tbody>\n",
       "    <tr>\n",
       "      <th>0</th>\n",
       "      <td>2018-09-20</td>\n",
       "      <td>000058a12d5b43e67d225668fa1f8d618c13dc232df0ca...</td>\n",
       "      <td>0663713001</td>\n",
       "      <td>0.050831</td>\n",
       "      <td>2</td>\n",
       "      <td>0</td>\n",
       "      <td>40179</td>\n",
       "      <td>16361</td>\n",
       "      <td>65</td>\n",
       "      <td>1</td>\n",
       "      <td>0</td>\n",
       "      <td>0</td>\n",
       "      <td>0</td>\n",
       "      <td>0</td>\n",
       "      <td>47</td>\n",
       "      <td>1</td>\n",
       "      <td>0</td>\n",
       "      <td>1</td>\n",
       "      <td>1</td>\n",
       "    </tr>\n",
       "    <tr>\n",
       "      <th>1</th>\n",
       "      <td>2018-09-24</td>\n",
       "      <td>000058a12d5b43e67d225668fa1f8d618c13dc232df0ca...</td>\n",
       "      <td>0663713001</td>\n",
       "      <td>0.050831</td>\n",
       "      <td>2</td>\n",
       "      <td>0</td>\n",
       "      <td>40179</td>\n",
       "      <td>16361</td>\n",
       "      <td>65</td>\n",
       "      <td>1</td>\n",
       "      <td>0</td>\n",
       "      <td>0</td>\n",
       "      <td>0</td>\n",
       "      <td>0</td>\n",
       "      <td>47</td>\n",
       "      <td>1</td>\n",
       "      <td>0</td>\n",
       "      <td>1</td>\n",
       "      <td>1</td>\n",
       "    </tr>\n",
       "    <tr>\n",
       "      <th>2</th>\n",
       "      <td>2018-10-26</td>\n",
       "      <td>8256c9d0a398717ab5f575acfa5184a11ab1a1e89f7fbc...</td>\n",
       "      <td>0663713001</td>\n",
       "      <td>0.048288</td>\n",
       "      <td>1</td>\n",
       "      <td>2480</td>\n",
       "      <td>40179</td>\n",
       "      <td>16361</td>\n",
       "      <td>65</td>\n",
       "      <td>1</td>\n",
       "      <td>0</td>\n",
       "      <td>0</td>\n",
       "      <td>0</td>\n",
       "      <td>0</td>\n",
       "      <td>47</td>\n",
       "      <td>1</td>\n",
       "      <td>0</td>\n",
       "      <td>1</td>\n",
       "      <td>1</td>\n",
       "    </tr>\n",
       "    <tr>\n",
       "      <th>3</th>\n",
       "      <td>2018-11-02</td>\n",
       "      <td>b333b5b934a0a54154ec46a352ba16a3e0fb7815cb46dc...</td>\n",
       "      <td>0663713001</td>\n",
       "      <td>0.050831</td>\n",
       "      <td>2</td>\n",
       "      <td>3856</td>\n",
       "      <td>40179</td>\n",
       "      <td>16361</td>\n",
       "      <td>65</td>\n",
       "      <td>1</td>\n",
       "      <td>0</td>\n",
       "      <td>0</td>\n",
       "      <td>0</td>\n",
       "      <td>0</td>\n",
       "      <td>47</td>\n",
       "      <td>1</td>\n",
       "      <td>0</td>\n",
       "      <td>1</td>\n",
       "      <td>1</td>\n",
       "    </tr>\n",
       "    <tr>\n",
       "      <th>4</th>\n",
       "      <td>2018-12-09</td>\n",
       "      <td>6cebb7f0bf845b15e8926474096ce615874ec23e7fb59e...</td>\n",
       "      <td>0663713001</td>\n",
       "      <td>0.050831</td>\n",
       "      <td>2</td>\n",
       "      <td>2087</td>\n",
       "      <td>40179</td>\n",
       "      <td>16361</td>\n",
       "      <td>65</td>\n",
       "      <td>1</td>\n",
       "      <td>0</td>\n",
       "      <td>0</td>\n",
       "      <td>0</td>\n",
       "      <td>0</td>\n",
       "      <td>47</td>\n",
       "      <td>1</td>\n",
       "      <td>0</td>\n",
       "      <td>1</td>\n",
       "      <td>1</td>\n",
       "    </tr>\n",
       "  </tbody>\n",
       "</table>\n",
       "</div>"
      ],
      "text/plain": [
       "        t_dat                                        customer_id  article_id  \\\n",
       "0  2018-09-20  000058a12d5b43e67d225668fa1f8d618c13dc232df0ca...  0663713001   \n",
       "1  2018-09-24  000058a12d5b43e67d225668fa1f8d618c13dc232df0ca...  0663713001   \n",
       "2  2018-10-26  8256c9d0a398717ab5f575acfa5184a11ab1a1e89f7fbc...  0663713001   \n",
       "3  2018-11-02  b333b5b934a0a54154ec46a352ba16a3e0fb7815cb46dc...  0663713001   \n",
       "4  2018-12-09  6cebb7f0bf845b15e8926474096ce615874ec23e7fb59e...  0663713001   \n",
       "\n",
       "      price  sales_channel_id  customer_id_idx  article_id_idx  product_code  \\\n",
       "0  0.050831                 2                0           40179         16361   \n",
       "1  0.050831                 2                0           40179         16361   \n",
       "2  0.048288                 1             2480           40179         16361   \n",
       "3  0.050831                 2             3856           40179         16361   \n",
       "4  0.050831                 2             2087           40179         16361   \n",
       "\n",
       "   product_type_no  product_group_no  graphical_appearance_no  \\\n",
       "0               65                 1                        0   \n",
       "1               65                 1                        0   \n",
       "2               65                 1                        0   \n",
       "3               65                 1                        0   \n",
       "4               65                 1                        0   \n",
       "\n",
       "   colour_group_code  perceived_colour_value_id  perceived_colour_master_id  \\\n",
       "0                  0                          0                           0   \n",
       "1                  0                          0                           0   \n",
       "2                  0                          0                           0   \n",
       "3                  0                          0                           0   \n",
       "4                  0                          0                           0   \n",
       "\n",
       "   department_no  index_code  index_group_no  section_no  garment_group_no  \n",
       "0             47           1               0           1                 1  \n",
       "1             47           1               0           1                 1  \n",
       "2             47           1               0           1                 1  \n",
       "3             47           1               0           1                 1  \n",
       "4             47           1               0           1                 1  "
      ]
     },
     "execution_count": 21,
     "metadata": {},
     "output_type": "execute_result"
    }
   ],
   "source": [
    "train_set_orig.head()"
   ]
  },
  {
   "cell_type": "code",
   "execution_count": 22,
   "id": "be09fde5",
   "metadata": {},
   "outputs": [],
   "source": [
    "train_set_orig.drop(columns=['price', 'sales_channel_id'], inplace=True)"
   ]
  },
  {
   "cell_type": "markdown",
   "id": "8167fe05",
   "metadata": {
    "id": "0f249f3a"
   },
   "source": [
    "### Create development set"
   ]
  },
  {
   "cell_type": "code",
   "execution_count": 23,
   "id": "cafb6ff8",
   "metadata": {
    "executionInfo": {
     "elapsed": 21,
     "status": "ok",
     "timestamp": 1649541835885,
     "user": {
      "displayName": "Steven George",
      "userId": "07709250839253394649"
     },
     "user_tz": -60
    },
    "id": "b77b5dde"
   },
   "outputs": [],
   "source": [
    "train_set_orig['t_dat'] = pd.to_datetime(train_set_orig['t_dat'])"
   ]
  },
  {
   "cell_type": "code",
   "execution_count": 24,
   "id": "5c145c4c",
   "metadata": {
    "colab": {
     "base_uri": "https://localhost:8080/"
    },
    "executionInfo": {
     "elapsed": 22,
     "status": "ok",
     "timestamp": 1649541835886,
     "user": {
      "displayName": "Steven George",
      "userId": "07709250839253394649"
     },
     "user_tz": -60
    },
    "id": "6fc2175d",
    "outputId": "2d140f25-43fd-4b61-cc99-5d918208cb2e"
   },
   "outputs": [
    {
     "data": {
      "text/plain": [
       "(Timestamp('2020-09-07 00:00:00'), Timestamp('2020-09-14 00:00:00'))"
      ]
     },
     "execution_count": 24,
     "metadata": {},
     "output_type": "execute_result"
    }
   ],
   "source": [
    "end = train_set_orig['t_dat'].max()\n",
    "endm1 = end - datetime.timedelta(days=7)\n",
    "\n",
    "endm1, end"
   ]
  },
  {
   "cell_type": "code",
   "execution_count": 25,
   "id": "d70b0144",
   "metadata": {
    "colab": {
     "base_uri": "https://localhost:8080/"
    },
    "executionInfo": {
     "elapsed": 17,
     "status": "ok",
     "timestamp": 1649541835886,
     "user": {
      "displayName": "Steven George",
      "userId": "07709250839253394649"
     },
     "user_tz": -60
    },
    "id": "fd7f31fb",
    "outputId": "9c09b7a3-eba9-4d5a-b019-e8f390f3af43"
   },
   "outputs": [
    {
     "data": {
      "text/plain": [
       "9148"
      ]
     },
     "execution_count": 25,
     "metadata": {},
     "output_type": "execute_result"
    }
   ],
   "source": [
    "train_set_orig[train_set_orig['t_dat'] < endm1]['customer_id'].nunique()"
   ]
  },
  {
   "cell_type": "code",
   "execution_count": 26,
   "id": "63a159ec",
   "metadata": {
    "colab": {
     "base_uri": "https://localhost:8080/"
    },
    "executionInfo": {
     "elapsed": 14,
     "status": "ok",
     "timestamp": 1649541835887,
     "user": {
      "displayName": "Steven George",
      "userId": "07709250839253394649"
     },
     "user_tz": -60
    },
    "id": "034ccaf7",
    "outputId": "ba52ea72-bc10-41e1-e632-05c578768b7c"
   },
   "outputs": [
    {
     "data": {
      "text/plain": [
       "1998"
      ]
     },
     "execution_count": 26,
     "metadata": {},
     "output_type": "execute_result"
    }
   ],
   "source": [
    "train_set_orig[train_set_orig['t_dat'] >= endm1]['customer_id'].nunique()"
   ]
  },
  {
   "cell_type": "code",
   "execution_count": 27,
   "id": "e2e26834",
   "metadata": {
    "executionInfo": {
     "elapsed": 625,
     "status": "ok",
     "timestamp": 1649541836502,
     "user": {
      "displayName": "Steven George",
      "userId": "07709250839253394649"
     },
     "user_tz": -60
    },
    "id": "e073ce6a"
   },
   "outputs": [],
   "source": [
    "# Remove customers from dev set who are not in the new training set\n",
    "customers_to_remove = (\n",
    "    set(train_set_orig[train_set_orig['t_dat'] >= endm1]['customer_id']) - \n",
    "    set(train_set_orig[train_set_orig['t_dat'] < endm1]['customer_id'])\n",
    ")"
   ]
  },
  {
   "cell_type": "code",
   "execution_count": 28,
   "id": "cac9a937",
   "metadata": {
    "colab": {
     "base_uri": "https://localhost:8080/"
    },
    "executionInfo": {
     "elapsed": 34,
     "status": "ok",
     "timestamp": 1649541836504,
     "user": {
      "displayName": "Steven George",
      "userId": "07709250839253394649"
     },
     "user_tz": -60
    },
    "id": "44982a8b",
    "outputId": "9c1383a5-6c92-4add-979a-5a1335b456c1"
   },
   "outputs": [
    {
     "data": {
      "text/plain": [
       "60"
      ]
     },
     "execution_count": 28,
     "metadata": {},
     "output_type": "execute_result"
    }
   ],
   "source": [
    "len(customers_to_remove)"
   ]
  },
  {
   "cell_type": "code",
   "execution_count": 29,
   "id": "7e3ce90b",
   "metadata": {
    "colab": {
     "base_uri": "https://localhost:8080/"
    },
    "executionInfo": {
     "elapsed": 24,
     "status": "ok",
     "timestamp": 1649541836506,
     "user": {
      "displayName": "Steven George",
      "userId": "07709250839253394649"
     },
     "user_tz": -60
    },
    "id": "077ce30d",
    "outputId": "5cdcaae1-c301-445f-89d1-e335aefab4f7"
   },
   "outputs": [
    {
     "data": {
      "text/plain": [
       "((580395, 17), (8363, 17))"
      ]
     },
     "execution_count": 29,
     "metadata": {},
     "output_type": "execute_result"
    }
   ],
   "source": [
    "train_set = train_set_orig.copy()[train_set_orig['t_dat'] < endm1]\n",
    "\n",
    "dev_set = train_set_orig.copy()[train_set_orig['t_dat'] >= endm1]\n",
    "\n",
    "train_set.shape, dev_set.shape"
   ]
  },
  {
   "cell_type": "code",
   "execution_count": 30,
   "id": "35777b23",
   "metadata": {
    "colab": {
     "base_uri": "https://localhost:8080/",
     "height": 224
    },
    "executionInfo": {
     "elapsed": 21,
     "status": "ok",
     "timestamp": 1649541836507,
     "user": {
      "displayName": "Steven George",
      "userId": "07709250839253394649"
     },
     "user_tz": -60
    },
    "id": "c09a93fe",
    "outputId": "62fdb518-980a-41c2-9dfd-7c175c965310"
   },
   "outputs": [
    {
     "name": "stdout",
     "output_type": "stream",
     "text": [
      "(8131, 17)\n"
     ]
    },
    {
     "data": {
      "text/html": [
       "<div>\n",
       "<style scoped>\n",
       "    .dataframe tbody tr th:only-of-type {\n",
       "        vertical-align: middle;\n",
       "    }\n",
       "\n",
       "    .dataframe tbody tr th {\n",
       "        vertical-align: top;\n",
       "    }\n",
       "\n",
       "    .dataframe thead th {\n",
       "        text-align: right;\n",
       "    }\n",
       "</style>\n",
       "<table border=\"1\" class=\"dataframe\">\n",
       "  <thead>\n",
       "    <tr style=\"text-align: right;\">\n",
       "      <th></th>\n",
       "      <th>t_dat</th>\n",
       "      <th>customer_id</th>\n",
       "      <th>article_id</th>\n",
       "      <th>customer_id_idx</th>\n",
       "      <th>article_id_idx</th>\n",
       "      <th>product_code</th>\n",
       "      <th>product_type_no</th>\n",
       "      <th>product_group_no</th>\n",
       "      <th>graphical_appearance_no</th>\n",
       "      <th>colour_group_code</th>\n",
       "      <th>perceived_colour_value_id</th>\n",
       "      <th>perceived_colour_master_id</th>\n",
       "      <th>department_no</th>\n",
       "      <th>index_code</th>\n",
       "      <th>index_group_no</th>\n",
       "      <th>section_no</th>\n",
       "      <th>garment_group_no</th>\n",
       "    </tr>\n",
       "  </thead>\n",
       "  <tbody>\n",
       "    <tr>\n",
       "      <th>771</th>\n",
       "      <td>2020-09-07</td>\n",
       "      <td>6640b7aa1645aefed9daf069304f20b29a3b000f1851dc...</td>\n",
       "      <td>0579541001</td>\n",
       "      <td>1267</td>\n",
       "      <td>18586</td>\n",
       "      <td>6656</td>\n",
       "      <td>34</td>\n",
       "      <td>0</td>\n",
       "      <td>0</td>\n",
       "      <td>0</td>\n",
       "      <td>0</td>\n",
       "      <td>0</td>\n",
       "      <td>227</td>\n",
       "      <td>0</td>\n",
       "      <td>0</td>\n",
       "      <td>32</td>\n",
       "      <td>9</td>\n",
       "    </tr>\n",
       "    <tr>\n",
       "      <th>772</th>\n",
       "      <td>2020-09-09</td>\n",
       "      <td>32df71b976afea7a5dbab3c3e3a5f741a6e1c73400322a...</td>\n",
       "      <td>0579541001</td>\n",
       "      <td>6508</td>\n",
       "      <td>18586</td>\n",
       "      <td>6656</td>\n",
       "      <td>34</td>\n",
       "      <td>0</td>\n",
       "      <td>0</td>\n",
       "      <td>0</td>\n",
       "      <td>0</td>\n",
       "      <td>0</td>\n",
       "      <td>227</td>\n",
       "      <td>0</td>\n",
       "      <td>0</td>\n",
       "      <td>32</td>\n",
       "      <td>9</td>\n",
       "    </tr>\n",
       "    <tr>\n",
       "      <th>773</th>\n",
       "      <td>2020-09-09</td>\n",
       "      <td>99153b037284ccb2ac48942ba5fb4a518dae90c425976c...</td>\n",
       "      <td>0579541001</td>\n",
       "      <td>3516</td>\n",
       "      <td>18586</td>\n",
       "      <td>6656</td>\n",
       "      <td>34</td>\n",
       "      <td>0</td>\n",
       "      <td>0</td>\n",
       "      <td>0</td>\n",
       "      <td>0</td>\n",
       "      <td>0</td>\n",
       "      <td>227</td>\n",
       "      <td>0</td>\n",
       "      <td>0</td>\n",
       "      <td>32</td>\n",
       "      <td>9</td>\n",
       "    </tr>\n",
       "    <tr>\n",
       "      <th>774</th>\n",
       "      <td>2020-09-10</td>\n",
       "      <td>a571ce8a653c7e052b631d33edd97ba12654b20c174de7...</td>\n",
       "      <td>0579541001</td>\n",
       "      <td>6717</td>\n",
       "      <td>18586</td>\n",
       "      <td>6656</td>\n",
       "      <td>34</td>\n",
       "      <td>0</td>\n",
       "      <td>0</td>\n",
       "      <td>0</td>\n",
       "      <td>0</td>\n",
       "      <td>0</td>\n",
       "      <td>227</td>\n",
       "      <td>0</td>\n",
       "      <td>0</td>\n",
       "      <td>32</td>\n",
       "      <td>9</td>\n",
       "    </tr>\n",
       "    <tr>\n",
       "      <th>775</th>\n",
       "      <td>2020-09-13</td>\n",
       "      <td>2f87bff502f2a401f85ed3cb945a85f5cf5019b776d735...</td>\n",
       "      <td>0579541001</td>\n",
       "      <td>764</td>\n",
       "      <td>18586</td>\n",
       "      <td>6656</td>\n",
       "      <td>34</td>\n",
       "      <td>0</td>\n",
       "      <td>0</td>\n",
       "      <td>0</td>\n",
       "      <td>0</td>\n",
       "      <td>0</td>\n",
       "      <td>227</td>\n",
       "      <td>0</td>\n",
       "      <td>0</td>\n",
       "      <td>32</td>\n",
       "      <td>9</td>\n",
       "    </tr>\n",
       "  </tbody>\n",
       "</table>\n",
       "</div>"
      ],
      "text/plain": [
       "         t_dat                                        customer_id  article_id  \\\n",
       "771 2020-09-07  6640b7aa1645aefed9daf069304f20b29a3b000f1851dc...  0579541001   \n",
       "772 2020-09-09  32df71b976afea7a5dbab3c3e3a5f741a6e1c73400322a...  0579541001   \n",
       "773 2020-09-09  99153b037284ccb2ac48942ba5fb4a518dae90c425976c...  0579541001   \n",
       "774 2020-09-10  a571ce8a653c7e052b631d33edd97ba12654b20c174de7...  0579541001   \n",
       "775 2020-09-13  2f87bff502f2a401f85ed3cb945a85f5cf5019b776d735...  0579541001   \n",
       "\n",
       "     customer_id_idx  article_id_idx  product_code  product_type_no  \\\n",
       "771             1267           18586          6656               34   \n",
       "772             6508           18586          6656               34   \n",
       "773             3516           18586          6656               34   \n",
       "774             6717           18586          6656               34   \n",
       "775              764           18586          6656               34   \n",
       "\n",
       "     product_group_no  graphical_appearance_no  colour_group_code  \\\n",
       "771                 0                        0                  0   \n",
       "772                 0                        0                  0   \n",
       "773                 0                        0                  0   \n",
       "774                 0                        0                  0   \n",
       "775                 0                        0                  0   \n",
       "\n",
       "     perceived_colour_value_id  perceived_colour_master_id  department_no  \\\n",
       "771                          0                           0            227   \n",
       "772                          0                           0            227   \n",
       "773                          0                           0            227   \n",
       "774                          0                           0            227   \n",
       "775                          0                           0            227   \n",
       "\n",
       "     index_code  index_group_no  section_no  garment_group_no  \n",
       "771           0               0          32                 9  \n",
       "772           0               0          32                 9  \n",
       "773           0               0          32                 9  \n",
       "774           0               0          32                 9  \n",
       "775           0               0          32                 9  "
      ]
     },
     "execution_count": 30,
     "metadata": {},
     "output_type": "execute_result"
    }
   ],
   "source": [
    "dev_set = dev_set.copy()[~dev_set['customer_id'].isin(customers_to_remove)]\n",
    "print(dev_set.shape)\n",
    "dev_set.head()"
   ]
  },
  {
   "cell_type": "code",
   "execution_count": 31,
   "id": "2dc94254",
   "metadata": {
    "colab": {
     "base_uri": "https://localhost:8080/",
     "height": 206
    },
    "executionInfo": {
     "elapsed": 19,
     "status": "ok",
     "timestamp": 1649541836509,
     "user": {
      "displayName": "Steven George",
      "userId": "07709250839253394649"
     },
     "user_tz": -60
    },
    "id": "fd5188d8",
    "outputId": "c18c3b9c-1808-45b6-a60f-4b874245672c"
   },
   "outputs": [
    {
     "data": {
      "text/html": [
       "<div>\n",
       "<style scoped>\n",
       "    .dataframe tbody tr th:only-of-type {\n",
       "        vertical-align: middle;\n",
       "    }\n",
       "\n",
       "    .dataframe tbody tr th {\n",
       "        vertical-align: top;\n",
       "    }\n",
       "\n",
       "    .dataframe thead th {\n",
       "        text-align: right;\n",
       "    }\n",
       "</style>\n",
       "<table border=\"1\" class=\"dataframe\">\n",
       "  <thead>\n",
       "    <tr style=\"text-align: right;\">\n",
       "      <th></th>\n",
       "      <th>customer_id</th>\n",
       "      <th>article_id_idx</th>\n",
       "    </tr>\n",
       "  </thead>\n",
       "  <tbody>\n",
       "    <tr>\n",
       "      <th>0</th>\n",
       "      <td>00462904b288681a9facb555f75dd2cf4d0f730a6e0ea7...</td>\n",
       "      <td>[102443]</td>\n",
       "    </tr>\n",
       "    <tr>\n",
       "      <th>1</th>\n",
       "      <td>0054c50274d19af58d53ef3ce0c004bea446c80bd51cf2...</td>\n",
       "      <td>[71167, 72000, 16023]</td>\n",
       "    </tr>\n",
       "    <tr>\n",
       "      <th>2</th>\n",
       "      <td>00639e775b90554156986100685c4d408723c77e411e37...</td>\n",
       "      <td>[100645, 100645, 100648]</td>\n",
       "    </tr>\n",
       "    <tr>\n",
       "      <th>3</th>\n",
       "      <td>00798bd464457d23d6af401715fe32d5c676ad9ee4010d...</td>\n",
       "      <td>[103885]</td>\n",
       "    </tr>\n",
       "    <tr>\n",
       "      <th>4</th>\n",
       "      <td>0099238196d8f71659fceaa115b36e400398bcfc169b5f...</td>\n",
       "      <td>[3091, 49553, 49553, 99182, 99182, 95789, 9578...</td>\n",
       "    </tr>\n",
       "  </tbody>\n",
       "</table>\n",
       "</div>"
      ],
      "text/plain": [
       "                                         customer_id  \\\n",
       "0  00462904b288681a9facb555f75dd2cf4d0f730a6e0ea7...   \n",
       "1  0054c50274d19af58d53ef3ce0c004bea446c80bd51cf2...   \n",
       "2  00639e775b90554156986100685c4d408723c77e411e37...   \n",
       "3  00798bd464457d23d6af401715fe32d5c676ad9ee4010d...   \n",
       "4  0099238196d8f71659fceaa115b36e400398bcfc169b5f...   \n",
       "\n",
       "                                      article_id_idx  \n",
       "0                                           [102443]  \n",
       "1                              [71167, 72000, 16023]  \n",
       "2                           [100645, 100645, 100648]  \n",
       "3                                           [103885]  \n",
       "4  [3091, 49553, 49553, 99182, 99182, 95789, 9578...  "
      ]
     },
     "execution_count": 31,
     "metadata": {},
     "output_type": "execute_result"
    }
   ],
   "source": [
    "dev_set_by_customer = dev_set.groupby('customer_id').apply(lambda x: list(x['article_id_idx'])).reset_index().rename(columns={0: 'article_id_idx'})\n",
    "dev_set_by_customer.head()"
   ]
  },
  {
   "cell_type": "code",
   "execution_count": 32,
   "id": "9604e4da",
   "metadata": {
    "executionInfo": {
     "elapsed": 4,
     "status": "ok",
     "timestamp": 1649541837089,
     "user": {
      "displayName": "Steven George",
      "userId": "07709250839253394649"
     },
     "user_tz": -60
    },
    "id": "d147fd2f"
   },
   "outputs": [],
   "source": [
    "customer_id_idx_ordered = dev_set_by_customer['customer_id'].map(customer_id_to_idx).tolist()"
   ]
  },
  {
   "cell_type": "code",
   "execution_count": 33,
   "id": "1d4971f2",
   "metadata": {
    "executionInfo": {
     "elapsed": 5,
     "status": "ok",
     "timestamp": 1649541837091,
     "user": {
      "displayName": "Steven George",
      "userId": "07709250839253394649"
     },
     "user_tz": -60
    },
    "id": "758a0141"
   },
   "outputs": [],
   "source": [
    "dev_actuals = dev_set_by_customer['article_id_idx'].to_list()"
   ]
  },
  {
   "cell_type": "markdown",
   "id": "26e0c9c8",
   "metadata": {},
   "source": [
    "### Explore transactions"
   ]
  },
  {
   "cell_type": "code",
   "execution_count": 34,
   "id": "9f55b016",
   "metadata": {},
   "outputs": [
    {
     "data": {
      "text/html": [
       "<div>\n",
       "<style scoped>\n",
       "    .dataframe tbody tr th:only-of-type {\n",
       "        vertical-align: middle;\n",
       "    }\n",
       "\n",
       "    .dataframe tbody tr th {\n",
       "        vertical-align: top;\n",
       "    }\n",
       "\n",
       "    .dataframe thead th {\n",
       "        text-align: right;\n",
       "    }\n",
       "</style>\n",
       "<table border=\"1\" class=\"dataframe\">\n",
       "  <thead>\n",
       "    <tr style=\"text-align: right;\">\n",
       "      <th></th>\n",
       "      <th>t_dat</th>\n",
       "      <th>customer_id</th>\n",
       "      <th>article_id</th>\n",
       "      <th>customer_id_idx</th>\n",
       "      <th>article_id_idx</th>\n",
       "      <th>product_code</th>\n",
       "      <th>product_type_no</th>\n",
       "      <th>product_group_no</th>\n",
       "      <th>graphical_appearance_no</th>\n",
       "      <th>colour_group_code</th>\n",
       "      <th>perceived_colour_value_id</th>\n",
       "      <th>perceived_colour_master_id</th>\n",
       "      <th>department_no</th>\n",
       "      <th>index_code</th>\n",
       "      <th>index_group_no</th>\n",
       "      <th>section_no</th>\n",
       "      <th>garment_group_no</th>\n",
       "    </tr>\n",
       "  </thead>\n",
       "  <tbody>\n",
       "    <tr>\n",
       "      <th>0</th>\n",
       "      <td>2018-09-20</td>\n",
       "      <td>000058a12d5b43e67d225668fa1f8d618c13dc232df0ca...</td>\n",
       "      <td>0663713001</td>\n",
       "      <td>0</td>\n",
       "      <td>40179</td>\n",
       "      <td>16361</td>\n",
       "      <td>65</td>\n",
       "      <td>1</td>\n",
       "      <td>0</td>\n",
       "      <td>0</td>\n",
       "      <td>0</td>\n",
       "      <td>0</td>\n",
       "      <td>47</td>\n",
       "      <td>1</td>\n",
       "      <td>0</td>\n",
       "      <td>1</td>\n",
       "      <td>1</td>\n",
       "    </tr>\n",
       "    <tr>\n",
       "      <th>1</th>\n",
       "      <td>2018-09-24</td>\n",
       "      <td>000058a12d5b43e67d225668fa1f8d618c13dc232df0ca...</td>\n",
       "      <td>0663713001</td>\n",
       "      <td>0</td>\n",
       "      <td>40179</td>\n",
       "      <td>16361</td>\n",
       "      <td>65</td>\n",
       "      <td>1</td>\n",
       "      <td>0</td>\n",
       "      <td>0</td>\n",
       "      <td>0</td>\n",
       "      <td>0</td>\n",
       "      <td>47</td>\n",
       "      <td>1</td>\n",
       "      <td>0</td>\n",
       "      <td>1</td>\n",
       "      <td>1</td>\n",
       "    </tr>\n",
       "    <tr>\n",
       "      <th>2</th>\n",
       "      <td>2018-10-26</td>\n",
       "      <td>8256c9d0a398717ab5f575acfa5184a11ab1a1e89f7fbc...</td>\n",
       "      <td>0663713001</td>\n",
       "      <td>2480</td>\n",
       "      <td>40179</td>\n",
       "      <td>16361</td>\n",
       "      <td>65</td>\n",
       "      <td>1</td>\n",
       "      <td>0</td>\n",
       "      <td>0</td>\n",
       "      <td>0</td>\n",
       "      <td>0</td>\n",
       "      <td>47</td>\n",
       "      <td>1</td>\n",
       "      <td>0</td>\n",
       "      <td>1</td>\n",
       "      <td>1</td>\n",
       "    </tr>\n",
       "    <tr>\n",
       "      <th>3</th>\n",
       "      <td>2018-11-02</td>\n",
       "      <td>b333b5b934a0a54154ec46a352ba16a3e0fb7815cb46dc...</td>\n",
       "      <td>0663713001</td>\n",
       "      <td>3856</td>\n",
       "      <td>40179</td>\n",
       "      <td>16361</td>\n",
       "      <td>65</td>\n",
       "      <td>1</td>\n",
       "      <td>0</td>\n",
       "      <td>0</td>\n",
       "      <td>0</td>\n",
       "      <td>0</td>\n",
       "      <td>47</td>\n",
       "      <td>1</td>\n",
       "      <td>0</td>\n",
       "      <td>1</td>\n",
       "      <td>1</td>\n",
       "    </tr>\n",
       "    <tr>\n",
       "      <th>4</th>\n",
       "      <td>2018-12-09</td>\n",
       "      <td>6cebb7f0bf845b15e8926474096ce615874ec23e7fb59e...</td>\n",
       "      <td>0663713001</td>\n",
       "      <td>2087</td>\n",
       "      <td>40179</td>\n",
       "      <td>16361</td>\n",
       "      <td>65</td>\n",
       "      <td>1</td>\n",
       "      <td>0</td>\n",
       "      <td>0</td>\n",
       "      <td>0</td>\n",
       "      <td>0</td>\n",
       "      <td>47</td>\n",
       "      <td>1</td>\n",
       "      <td>0</td>\n",
       "      <td>1</td>\n",
       "      <td>1</td>\n",
       "    </tr>\n",
       "  </tbody>\n",
       "</table>\n",
       "</div>"
      ],
      "text/plain": [
       "       t_dat                                        customer_id  article_id  \\\n",
       "0 2018-09-20  000058a12d5b43e67d225668fa1f8d618c13dc232df0ca...  0663713001   \n",
       "1 2018-09-24  000058a12d5b43e67d225668fa1f8d618c13dc232df0ca...  0663713001   \n",
       "2 2018-10-26  8256c9d0a398717ab5f575acfa5184a11ab1a1e89f7fbc...  0663713001   \n",
       "3 2018-11-02  b333b5b934a0a54154ec46a352ba16a3e0fb7815cb46dc...  0663713001   \n",
       "4 2018-12-09  6cebb7f0bf845b15e8926474096ce615874ec23e7fb59e...  0663713001   \n",
       "\n",
       "   customer_id_idx  article_id_idx  product_code  product_type_no  \\\n",
       "0                0           40179         16361               65   \n",
       "1                0           40179         16361               65   \n",
       "2             2480           40179         16361               65   \n",
       "3             3856           40179         16361               65   \n",
       "4             2087           40179         16361               65   \n",
       "\n",
       "   product_group_no  graphical_appearance_no  colour_group_code  \\\n",
       "0                 1                        0                  0   \n",
       "1                 1                        0                  0   \n",
       "2                 1                        0                  0   \n",
       "3                 1                        0                  0   \n",
       "4                 1                        0                  0   \n",
       "\n",
       "   perceived_colour_value_id  perceived_colour_master_id  department_no  \\\n",
       "0                          0                           0             47   \n",
       "1                          0                           0             47   \n",
       "2                          0                           0             47   \n",
       "3                          0                           0             47   \n",
       "4                          0                           0             47   \n",
       "\n",
       "   index_code  index_group_no  section_no  garment_group_no  \n",
       "0           1               0           1                 1  \n",
       "1           1               0           1                 1  \n",
       "2           1               0           1                 1  \n",
       "3           1               0           1                 1  \n",
       "4           1               0           1                 1  "
      ]
     },
     "execution_count": 34,
     "metadata": {},
     "output_type": "execute_result"
    }
   ],
   "source": [
    "train_set.head()"
   ]
  },
  {
   "cell_type": "code",
   "execution_count": 35,
   "id": "9e2f0bcc",
   "metadata": {},
   "outputs": [
    {
     "data": {
      "text/plain": [
       "105542"
      ]
     },
     "execution_count": 35,
     "metadata": {},
     "output_type": "execute_result"
    }
   ],
   "source": [
    "len(article_id_to_idx)"
   ]
  },
  {
   "cell_type": "code",
   "execution_count": 36,
   "id": "ad8494e4",
   "metadata": {},
   "outputs": [
    {
     "data": {
      "text/plain": [
       "60777"
      ]
     },
     "execution_count": 36,
     "metadata": {},
     "output_type": "execute_result"
    }
   ],
   "source": [
    "train_set['article_id_idx'].nunique()"
   ]
  },
  {
   "cell_type": "code",
   "execution_count": 37,
   "id": "9abc35a9",
   "metadata": {},
   "outputs": [
    {
     "data": {
      "text/plain": [
       "0.5758560573042012"
      ]
     },
     "execution_count": 37,
     "metadata": {},
     "output_type": "execute_result"
    }
   ],
   "source": [
    "train_set['article_id_idx'].nunique() / len(article_id_to_idx)"
   ]
  },
  {
   "cell_type": "markdown",
   "id": "1104599f",
   "metadata": {},
   "source": [
    "Only about half of all articles are bought"
   ]
  },
  {
   "cell_type": "code",
   "execution_count": 38,
   "id": "a915cca2",
   "metadata": {},
   "outputs": [
    {
     "data": {
      "image/png": "[encoded data removed]",
      "text/plain": [
       "<Figure size 720x432 with 1 Axes>"
      ]
     },
     "metadata": {
      "needs_background": "light"
     },
     "output_type": "display_data"
    }
   ],
   "source": [
    "# Latest recorded transaction for each item\n",
    "plt.figure(figsize=(10, 6))\n",
    "train_set.groupby('article_id_idx')['t_dat'].max().hist(bins=30)\n",
    "plt.show()"
   ]
  },
  {
   "cell_type": "code",
   "execution_count": 39,
   "id": "146c2819",
   "metadata": {},
   "outputs": [
    {
     "data": {
      "image/png": "[encoded data removed]",
      "text/plain": [
       "<Figure size 720x432 with 1 Axes>"
      ]
     },
     "metadata": {
      "needs_background": "light"
     },
     "output_type": "display_data"
    }
   ],
   "source": [
    "# First recorded transaction for each item\n",
    "plt.figure(figsize=(10, 6))\n",
    "train_set.groupby('article_id_idx')['t_dat'].min().hist(bins=30)\n",
    "plt.show()"
   ]
  },
  {
   "cell_type": "markdown",
   "id": "f440a59e",
   "metadata": {},
   "source": [
    "First chart suggests items may be removed from the catalog over time"
   ]
  },
  {
   "cell_type": "markdown",
   "id": "542cb299",
   "metadata": {},
   "source": [
    "Only include articles bought after 2020-01:"
   ]
  },
  {
   "cell_type": "code",
   "execution_count": 40,
   "id": "973187a8",
   "metadata": {},
   "outputs": [],
   "source": [
    "article_id_idx_to_keep = train_set[train_set['t_dat'] > '2020-01-01']['article_id_idx'].unique()"
   ]
  },
  {
   "cell_type": "code",
   "execution_count": 41,
   "id": "29218720",
   "metadata": {},
   "outputs": [
    {
     "name": "stdout",
     "output_type": "stream",
     "text": [
      "(580395, 17)\n",
      "(386503, 17)\n"
     ]
    }
   ],
   "source": [
    "print(train_set.shape)\n",
    "train_set = train_set.copy()[train_set['article_id_idx'].isin(article_id_idx_to_keep)]\n",
    "print(train_set.shape)"
   ]
  },
  {
   "cell_type": "code",
   "execution_count": 42,
   "id": "fc5579c6",
   "metadata": {},
   "outputs": [
    {
     "data": {
      "image/png": "[encoded data removed]",
      "text/plain": [
       "<Figure size 720x432 with 1 Axes>"
      ]
     },
     "metadata": {
      "needs_background": "light"
     },
     "output_type": "display_data"
    }
   ],
   "source": [
    "# First recorded transaction for each item\n",
    "plt.figure(figsize=(10, 6))\n",
    "train_set.groupby('article_id_idx')['t_dat'].min().hist(bins=30)\n",
    "plt.show()"
   ]
  },
  {
   "cell_type": "markdown",
   "id": "84774935",
   "metadata": {},
   "source": [
    "Can see that even though we restrict items to after 2020 some were available before then"
   ]
  },
  {
   "cell_type": "code",
   "execution_count": 43,
   "id": "20a487a7",
   "metadata": {},
   "outputs": [
    {
     "data": {
      "text/plain": [
       "article_id_idx\n",
       "53892    0.002124\n",
       "53893    0.001250\n",
       "1713     0.001175\n",
       "24837    0.001164\n",
       "70221    0.001141\n",
       "3091     0.001087\n",
       "42626    0.000981\n",
       "24836    0.000962\n",
       "1714     0.000906\n",
       "67522    0.000906\n",
       "58491    0.000887\n",
       "2236     0.000877\n",
       "Name: customer_id, dtype: float64"
      ]
     },
     "execution_count": 43,
     "metadata": {},
     "output_type": "execute_result"
    }
   ],
   "source": [
    "(train_set.groupby('article_id_idx')['customer_id'].count() / train_set.shape[0]).sort_values(ascending=False).head(12)"
   ]
  },
  {
   "cell_type": "code",
   "execution_count": 44,
   "id": "2a7bc4ef",
   "metadata": {},
   "outputs": [
    {
     "data": {
      "image/png": "[encoded data removed]",
      "text/plain": [
       "<Figure size 432x288 with 1 Axes>"
      ]
     },
     "metadata": {
      "needs_background": "light"
     },
     "output_type": "display_data"
    }
   ],
   "source": [
    "plt.plot((train_set.groupby('article_id_idx')['customer_id'].count() / train_set.shape[0]).sort_values(ascending=False).cumsum().values)\n",
    "plt.grid()\n",
    "plt.show()"
   ]
  },
  {
   "cell_type": "markdown",
   "id": "31121a40",
   "metadata": {},
   "source": [
    "Top 10,000 most popular items account for ~80% of transactions"
   ]
  },
  {
   "cell_type": "markdown",
   "id": "6e038b9c",
   "metadata": {
    "id": "970f449a"
   },
   "source": [
    "### Format data"
   ]
  },
  {
   "cell_type": "markdown",
   "id": "73287567",
   "metadata": {
    "id": "3962d69b"
   },
   "source": [
    "Since all the users in the test said are included in training we utilise the full training set."
   ]
  },
  {
   "cell_type": "code",
   "execution_count": 45,
   "id": "9c517bac",
   "metadata": {
    "colab": {
     "base_uri": "https://localhost:8080/",
     "height": 206
    },
    "executionInfo": {
     "elapsed": 409,
     "status": "ok",
     "timestamp": 1649541842770,
     "user": {
      "displayName": "Steven George",
      "userId": "07709250839253394649"
     },
     "user_tz": -60
    },
    "id": "19fa1c05",
    "outputId": "b811a69e-ad2b-4bb1-a279-fb8a1999c5de"
   },
   "outputs": [
    {
     "data": {
      "text/html": [
       "<div>\n",
       "<style scoped>\n",
       "    .dataframe tbody tr th:only-of-type {\n",
       "        vertical-align: middle;\n",
       "    }\n",
       "\n",
       "    .dataframe tbody tr th {\n",
       "        vertical-align: top;\n",
       "    }\n",
       "\n",
       "    .dataframe thead th {\n",
       "        text-align: right;\n",
       "    }\n",
       "</style>\n",
       "<table border=\"1\" class=\"dataframe\">\n",
       "  <thead>\n",
       "    <tr style=\"text-align: right;\">\n",
       "      <th></th>\n",
       "      <th>t_dat</th>\n",
       "      <th>customer_id</th>\n",
       "      <th>article_id</th>\n",
       "      <th>customer_id_idx</th>\n",
       "      <th>article_id_idx</th>\n",
       "      <th>product_code</th>\n",
       "      <th>product_type_no</th>\n",
       "      <th>product_group_no</th>\n",
       "      <th>graphical_appearance_no</th>\n",
       "      <th>colour_group_code</th>\n",
       "      <th>perceived_colour_value_id</th>\n",
       "      <th>perceived_colour_master_id</th>\n",
       "      <th>department_no</th>\n",
       "      <th>index_code</th>\n",
       "      <th>index_group_no</th>\n",
       "      <th>section_no</th>\n",
       "      <th>garment_group_no</th>\n",
       "    </tr>\n",
       "  </thead>\n",
       "  <tbody>\n",
       "    <tr>\n",
       "      <th>95</th>\n",
       "      <td>2018-09-20</td>\n",
       "      <td>02d796ea767fa2e94fc6228fe70d8af1a570da973c32f7...</td>\n",
       "      <td>0564358010</td>\n",
       "      <td>3</td>\n",
       "      <td>14832</td>\n",
       "      <td>5169</td>\n",
       "      <td>5</td>\n",
       "      <td>0</td>\n",
       "      <td>3</td>\n",
       "      <td>7</td>\n",
       "      <td>2</td>\n",
       "      <td>3</td>\n",
       "      <td>70</td>\n",
       "      <td>3</td>\n",
       "      <td>2</td>\n",
       "      <td>27</td>\n",
       "      <td>9</td>\n",
       "    </tr>\n",
       "    <tr>\n",
       "      <th>96</th>\n",
       "      <td>2018-11-11</td>\n",
       "      <td>250f3b498d9db02c2e63ff0a51d8891b0ae77e2bdf62e0...</td>\n",
       "      <td>0564358010</td>\n",
       "      <td>462</td>\n",
       "      <td>14832</td>\n",
       "      <td>5169</td>\n",
       "      <td>5</td>\n",
       "      <td>0</td>\n",
       "      <td>3</td>\n",
       "      <td>7</td>\n",
       "      <td>2</td>\n",
       "      <td>3</td>\n",
       "      <td>70</td>\n",
       "      <td>3</td>\n",
       "      <td>2</td>\n",
       "      <td>27</td>\n",
       "      <td>9</td>\n",
       "    </tr>\n",
       "    <tr>\n",
       "      <th>97</th>\n",
       "      <td>2018-11-23</td>\n",
       "      <td>093d9f68df61795d0e5193cd6e08d6f2c02b3054161a7f...</td>\n",
       "      <td>0564358010</td>\n",
       "      <td>2136</td>\n",
       "      <td>14832</td>\n",
       "      <td>5169</td>\n",
       "      <td>5</td>\n",
       "      <td>0</td>\n",
       "      <td>3</td>\n",
       "      <td>7</td>\n",
       "      <td>2</td>\n",
       "      <td>3</td>\n",
       "      <td>70</td>\n",
       "      <td>3</td>\n",
       "      <td>2</td>\n",
       "      <td>27</td>\n",
       "      <td>9</td>\n",
       "    </tr>\n",
       "    <tr>\n",
       "      <th>98</th>\n",
       "      <td>2018-11-26</td>\n",
       "      <td>32063e800a552f2feb957c4e5b442e134273db2eb3af5b...</td>\n",
       "      <td>0564358010</td>\n",
       "      <td>2614</td>\n",
       "      <td>14832</td>\n",
       "      <td>5169</td>\n",
       "      <td>5</td>\n",
       "      <td>0</td>\n",
       "      <td>3</td>\n",
       "      <td>7</td>\n",
       "      <td>2</td>\n",
       "      <td>3</td>\n",
       "      <td>70</td>\n",
       "      <td>3</td>\n",
       "      <td>2</td>\n",
       "      <td>27</td>\n",
       "      <td>9</td>\n",
       "    </tr>\n",
       "    <tr>\n",
       "      <th>99</th>\n",
       "      <td>2019-08-14</td>\n",
       "      <td>9570fb7ef5d4f30e34473c18bb6630b28df1f0933bed6c...</td>\n",
       "      <td>0564358010</td>\n",
       "      <td>3209</td>\n",
       "      <td>14832</td>\n",
       "      <td>5169</td>\n",
       "      <td>5</td>\n",
       "      <td>0</td>\n",
       "      <td>3</td>\n",
       "      <td>7</td>\n",
       "      <td>2</td>\n",
       "      <td>3</td>\n",
       "      <td>70</td>\n",
       "      <td>3</td>\n",
       "      <td>2</td>\n",
       "      <td>27</td>\n",
       "      <td>9</td>\n",
       "    </tr>\n",
       "  </tbody>\n",
       "</table>\n",
       "</div>"
      ],
      "text/plain": [
       "        t_dat                                        customer_id  article_id  \\\n",
       "95 2018-09-20  02d796ea767fa2e94fc6228fe70d8af1a570da973c32f7...  0564358010   \n",
       "96 2018-11-11  250f3b498d9db02c2e63ff0a51d8891b0ae77e2bdf62e0...  0564358010   \n",
       "97 2018-11-23  093d9f68df61795d0e5193cd6e08d6f2c02b3054161a7f...  0564358010   \n",
       "98 2018-11-26  32063e800a552f2feb957c4e5b442e134273db2eb3af5b...  0564358010   \n",
       "99 2019-08-14  9570fb7ef5d4f30e34473c18bb6630b28df1f0933bed6c...  0564358010   \n",
       "\n",
       "    customer_id_idx  article_id_idx  product_code  product_type_no  \\\n",
       "95                3           14832          5169                5   \n",
       "96              462           14832          5169                5   \n",
       "97             2136           14832          5169                5   \n",
       "98             2614           14832          5169                5   \n",
       "99             3209           14832          5169                5   \n",
       "\n",
       "    product_group_no  graphical_appearance_no  colour_group_code  \\\n",
       "95                 0                        3                  7   \n",
       "96                 0                        3                  7   \n",
       "97                 0                        3                  7   \n",
       "98                 0                        3                  7   \n",
       "99                 0                        3                  7   \n",
       "\n",
       "    perceived_colour_value_id  perceived_colour_master_id  department_no  \\\n",
       "95                          2                           3             70   \n",
       "96                          2                           3             70   \n",
       "97                          2                           3             70   \n",
       "98                          2                           3             70   \n",
       "99                          2                           3             70   \n",
       "\n",
       "    index_code  index_group_no  section_no  garment_group_no  \n",
       "95           3               2          27                 9  \n",
       "96           3               2          27                 9  \n",
       "97           3               2          27                 9  \n",
       "98           3               2          27                 9  \n",
       "99           3               2          27                 9  "
      ]
     },
     "execution_count": 45,
     "metadata": {},
     "output_type": "execute_result"
    }
   ],
   "source": [
    "train_set.head()"
   ]
  },
  {
   "cell_type": "markdown",
   "id": "154d906c",
   "metadata": {
    "id": "49a897b2"
   },
   "source": [
    "- Keep distinct purchases only\n",
    "- Discard date, price and channel columns"
   ]
  },
  {
   "cell_type": "code",
   "execution_count": 46,
   "id": "8ed93c5a",
   "metadata": {
    "colab": {
     "base_uri": "https://localhost:8080/"
    },
    "executionInfo": {
     "elapsed": 205,
     "status": "ok",
     "timestamp": 1649541998751,
     "user": {
      "displayName": "Steven George",
      "userId": "07709250839253394649"
     },
     "user_tz": -60
    },
    "id": "5oTQHPbeXWGq",
    "outputId": "6efbc8c5-ab0c-4521-e933-ef7140deee0e"
   },
   "outputs": [
    {
     "data": {
      "text/plain": [
       "Timestamp('2020-09-07 00:00:00')"
      ]
     },
     "execution_count": 46,
     "metadata": {},
     "output_type": "execute_result"
    }
   ],
   "source": [
    "endm1"
   ]
  },
  {
   "cell_type": "code",
   "execution_count": 47,
   "id": "3b8a57b0",
   "metadata": {
    "executionInfo": {
     "elapsed": 200,
     "status": "ok",
     "timestamp": 1649542049555,
     "user": {
      "displayName": "Steven George",
      "userId": "07709250839253394649"
     },
     "user_tz": -60
    },
    "id": "LyoIpKoMWz09"
   },
   "outputs": [],
   "source": [
    "# train_set = train_set.copy()[train_set['t_dat'] > endm1 - datetime.timedelta(days=7*52)]"
   ]
  },
  {
   "cell_type": "code",
   "execution_count": 48,
   "id": "0eff3e25",
   "metadata": {
    "colab": {
     "base_uri": "https://localhost:8080/"
    },
    "executionInfo": {
     "elapsed": 199,
     "status": "ok",
     "timestamp": 1649542967012,
     "user": {
      "displayName": "Steven George",
      "userId": "07709250839253394649"
     },
     "user_tz": -60
    },
    "id": "6001a24c",
    "outputId": "a5ff1eef-60ee-4177-aacb-a4ea2d9a5031"
   },
   "outputs": [
    {
     "data": {
      "text/plain": [
       "(323296, 16)"
      ]
     },
     "execution_count": 48,
     "metadata": {},
     "output_type": "execute_result"
    }
   ],
   "source": [
    "train_set_processed = train_set.copy().drop(columns=['t_dat']).drop_duplicates()\n",
    "train_set_processed.shape"
   ]
  },
  {
   "cell_type": "code",
   "execution_count": 49,
   "id": "565616fc",
   "metadata": {
    "colab": {
     "base_uri": "https://localhost:8080/",
     "height": 206
    },
    "executionInfo": {
     "elapsed": 7,
     "status": "ok",
     "timestamp": 1649542967945,
     "user": {
      "displayName": "Steven George",
      "userId": "07709250839253394649"
     },
     "user_tz": -60
    },
    "id": "8f4f58e5",
    "outputId": "64f6ba8c-0c20-43d6-ddd7-e81b2c911242"
   },
   "outputs": [
    {
     "data": {
      "text/html": [
       "<div>\n",
       "<style scoped>\n",
       "    .dataframe tbody tr th:only-of-type {\n",
       "        vertical-align: middle;\n",
       "    }\n",
       "\n",
       "    .dataframe tbody tr th {\n",
       "        vertical-align: top;\n",
       "    }\n",
       "\n",
       "    .dataframe thead th {\n",
       "        text-align: right;\n",
       "    }\n",
       "</style>\n",
       "<table border=\"1\" class=\"dataframe\">\n",
       "  <thead>\n",
       "    <tr style=\"text-align: right;\">\n",
       "      <th></th>\n",
       "      <th>customer_id</th>\n",
       "      <th>article_id</th>\n",
       "      <th>customer_id_idx</th>\n",
       "      <th>article_id_idx</th>\n",
       "      <th>product_code</th>\n",
       "      <th>product_type_no</th>\n",
       "      <th>product_group_no</th>\n",
       "      <th>graphical_appearance_no</th>\n",
       "      <th>colour_group_code</th>\n",
       "      <th>perceived_colour_value_id</th>\n",
       "      <th>perceived_colour_master_id</th>\n",
       "      <th>department_no</th>\n",
       "      <th>index_code</th>\n",
       "      <th>index_group_no</th>\n",
       "      <th>section_no</th>\n",
       "      <th>garment_group_no</th>\n",
       "    </tr>\n",
       "  </thead>\n",
       "  <tbody>\n",
       "    <tr>\n",
       "      <th>95</th>\n",
       "      <td>02d796ea767fa2e94fc6228fe70d8af1a570da973c32f7...</td>\n",
       "      <td>0564358010</td>\n",
       "      <td>3</td>\n",
       "      <td>14832</td>\n",
       "      <td>5169</td>\n",
       "      <td>5</td>\n",
       "      <td>0</td>\n",
       "      <td>3</td>\n",
       "      <td>7</td>\n",
       "      <td>2</td>\n",
       "      <td>3</td>\n",
       "      <td>70</td>\n",
       "      <td>3</td>\n",
       "      <td>2</td>\n",
       "      <td>27</td>\n",
       "      <td>9</td>\n",
       "    </tr>\n",
       "    <tr>\n",
       "      <th>96</th>\n",
       "      <td>250f3b498d9db02c2e63ff0a51d8891b0ae77e2bdf62e0...</td>\n",
       "      <td>0564358010</td>\n",
       "      <td>462</td>\n",
       "      <td>14832</td>\n",
       "      <td>5169</td>\n",
       "      <td>5</td>\n",
       "      <td>0</td>\n",
       "      <td>3</td>\n",
       "      <td>7</td>\n",
       "      <td>2</td>\n",
       "      <td>3</td>\n",
       "      <td>70</td>\n",
       "      <td>3</td>\n",
       "      <td>2</td>\n",
       "      <td>27</td>\n",
       "      <td>9</td>\n",
       "    </tr>\n",
       "    <tr>\n",
       "      <th>97</th>\n",
       "      <td>093d9f68df61795d0e5193cd6e08d6f2c02b3054161a7f...</td>\n",
       "      <td>0564358010</td>\n",
       "      <td>2136</td>\n",
       "      <td>14832</td>\n",
       "      <td>5169</td>\n",
       "      <td>5</td>\n",
       "      <td>0</td>\n",
       "      <td>3</td>\n",
       "      <td>7</td>\n",
       "      <td>2</td>\n",
       "      <td>3</td>\n",
       "      <td>70</td>\n",
       "      <td>3</td>\n",
       "      <td>2</td>\n",
       "      <td>27</td>\n",
       "      <td>9</td>\n",
       "    </tr>\n",
       "    <tr>\n",
       "      <th>98</th>\n",
       "      <td>32063e800a552f2feb957c4e5b442e134273db2eb3af5b...</td>\n",
       "      <td>0564358010</td>\n",
       "      <td>2614</td>\n",
       "      <td>14832</td>\n",
       "      <td>5169</td>\n",
       "      <td>5</td>\n",
       "      <td>0</td>\n",
       "      <td>3</td>\n",
       "      <td>7</td>\n",
       "      <td>2</td>\n",
       "      <td>3</td>\n",
       "      <td>70</td>\n",
       "      <td>3</td>\n",
       "      <td>2</td>\n",
       "      <td>27</td>\n",
       "      <td>9</td>\n",
       "    </tr>\n",
       "    <tr>\n",
       "      <th>99</th>\n",
       "      <td>9570fb7ef5d4f30e34473c18bb6630b28df1f0933bed6c...</td>\n",
       "      <td>0564358010</td>\n",
       "      <td>3209</td>\n",
       "      <td>14832</td>\n",
       "      <td>5169</td>\n",
       "      <td>5</td>\n",
       "      <td>0</td>\n",
       "      <td>3</td>\n",
       "      <td>7</td>\n",
       "      <td>2</td>\n",
       "      <td>3</td>\n",
       "      <td>70</td>\n",
       "      <td>3</td>\n",
       "      <td>2</td>\n",
       "      <td>27</td>\n",
       "      <td>9</td>\n",
       "    </tr>\n",
       "  </tbody>\n",
       "</table>\n",
       "</div>"
      ],
      "text/plain": [
       "                                          customer_id  article_id  \\\n",
       "95  02d796ea767fa2e94fc6228fe70d8af1a570da973c32f7...  0564358010   \n",
       "96  250f3b498d9db02c2e63ff0a51d8891b0ae77e2bdf62e0...  0564358010   \n",
       "97  093d9f68df61795d0e5193cd6e08d6f2c02b3054161a7f...  0564358010   \n",
       "98  32063e800a552f2feb957c4e5b442e134273db2eb3af5b...  0564358010   \n",
       "99  9570fb7ef5d4f30e34473c18bb6630b28df1f0933bed6c...  0564358010   \n",
       "\n",
       "    customer_id_idx  article_id_idx  product_code  product_type_no  \\\n",
       "95                3           14832          5169                5   \n",
       "96              462           14832          5169                5   \n",
       "97             2136           14832          5169                5   \n",
       "98             2614           14832          5169                5   \n",
       "99             3209           14832          5169                5   \n",
       "\n",
       "    product_group_no  graphical_appearance_no  colour_group_code  \\\n",
       "95                 0                        3                  7   \n",
       "96                 0                        3                  7   \n",
       "97                 0                        3                  7   \n",
       "98                 0                        3                  7   \n",
       "99                 0                        3                  7   \n",
       "\n",
       "    perceived_colour_value_id  perceived_colour_master_id  department_no  \\\n",
       "95                          2                           3             70   \n",
       "96                          2                           3             70   \n",
       "97                          2                           3             70   \n",
       "98                          2                           3             70   \n",
       "99                          2                           3             70   \n",
       "\n",
       "    index_code  index_group_no  section_no  garment_group_no  \n",
       "95           3               2          27                 9  \n",
       "96           3               2          27                 9  \n",
       "97           3               2          27                 9  \n",
       "98           3               2          27                 9  \n",
       "99           3               2          27                 9  "
      ]
     },
     "execution_count": 49,
     "metadata": {},
     "output_type": "execute_result"
    }
   ],
   "source": [
    "train_set_processed.head()"
   ]
  },
  {
   "cell_type": "markdown",
   "id": "7d1bce11",
   "metadata": {
    "id": "15816fab"
   },
   "source": [
    "For each customer sample up to X non-purchased items to use as negative samples"
   ]
  },
  {
   "cell_type": "code",
   "execution_count": 50,
   "id": "e6fef542",
   "metadata": {
    "colab": {
     "base_uri": "https://localhost:8080/",
     "height": 206
    },
    "executionInfo": {
     "elapsed": 585,
     "status": "ok",
     "timestamp": 1649542970085,
     "user": {
      "displayName": "Steven George",
      "userId": "07709250839253394649"
     },
     "user_tz": -60
    },
    "id": "3fdfbe25",
    "outputId": "167e73e8-7636-4985-8382-de6a3f81f0bd"
   },
   "outputs": [
    {
     "data": {
      "text/html": [
       "<div>\n",
       "<style scoped>\n",
       "    .dataframe tbody tr th:only-of-type {\n",
       "        vertical-align: middle;\n",
       "    }\n",
       "\n",
       "    .dataframe tbody tr th {\n",
       "        vertical-align: top;\n",
       "    }\n",
       "\n",
       "    .dataframe thead th {\n",
       "        text-align: right;\n",
       "    }\n",
       "</style>\n",
       "<table border=\"1\" class=\"dataframe\">\n",
       "  <thead>\n",
       "    <tr style=\"text-align: right;\">\n",
       "      <th></th>\n",
       "      <th>customer_id_idx</th>\n",
       "      <th>article_id_idx</th>\n",
       "    </tr>\n",
       "  </thead>\n",
       "  <tbody>\n",
       "    <tr>\n",
       "      <th>0</th>\n",
       "      <td>0</td>\n",
       "      <td>[1469, 59458, 60253, 60259, 91841, 93585, 9215...</td>\n",
       "    </tr>\n",
       "    <tr>\n",
       "      <th>1</th>\n",
       "      <td>1</td>\n",
       "      <td>[15137, 50471, 62125, 43421, 43952, 32311, 648...</td>\n",
       "    </tr>\n",
       "    <tr>\n",
       "      <th>2</th>\n",
       "      <td>2</td>\n",
       "      <td>[176, 2252, 9773, 28971, 12589, 12585, 32742, ...</td>\n",
       "    </tr>\n",
       "    <tr>\n",
       "      <th>3</th>\n",
       "      <td>3</td>\n",
       "      <td>[14832, 17669, 14240, 40411, 2255, 2252, 14246...</td>\n",
       "    </tr>\n",
       "    <tr>\n",
       "      <th>4</th>\n",
       "      <td>4</td>\n",
       "      <td>[74, 60342, 1569, 67, 17383, 55777, 47592, 648...</td>\n",
       "    </tr>\n",
       "  </tbody>\n",
       "</table>\n",
       "</div>"
      ],
      "text/plain": [
       "   customer_id_idx                                     article_id_idx\n",
       "0                0  [1469, 59458, 60253, 60259, 91841, 93585, 9215...\n",
       "1                1  [15137, 50471, 62125, 43421, 43952, 32311, 648...\n",
       "2                2  [176, 2252, 9773, 28971, 12589, 12585, 32742, ...\n",
       "3                3  [14832, 17669, 14240, 40411, 2255, 2252, 14246...\n",
       "4                4  [74, 60342, 1569, 67, 17383, 55777, 47592, 648..."
      ]
     },
     "execution_count": 50,
     "metadata": {},
     "output_type": "execute_result"
    }
   ],
   "source": [
    "purchases_by_customer_id_idx = train_set_processed.groupby('customer_id_idx')['article_id_idx'].apply(lambda x: list(x)).reset_index()\n",
    "purchases_by_customer_id_idx.head()"
   ]
  },
  {
   "cell_type": "code",
   "execution_count": 51,
   "id": "a5609a29",
   "metadata": {
    "executionInfo": {
     "elapsed": 3,
     "status": "ok",
     "timestamp": 1649542970695,
     "user": {
      "displayName": "Steven George",
      "userId": "07709250839253394649"
     },
     "user_tz": -60
    },
    "id": "a8180f3d"
   },
   "outputs": [],
   "source": [
    "def negative_samples(excl):\n",
    "    samples = set(np.random.choice(len(article_id_to_idx), replace=False, size=1000))\n",
    "    neg_samples = samples - set(excl)\n",
    "    return list(neg_samples)"
   ]
  },
  {
   "cell_type": "code",
   "execution_count": 52,
   "id": "43746297",
   "metadata": {
    "executionInfo": {
     "elapsed": 197,
     "status": "ok",
     "timestamp": 1649544454610,
     "user": {
      "displayName": "Steven George",
      "userId": "07709250839253394649"
     },
     "user_tz": -60
    },
    "id": "9e23d765"
   },
   "outputs": [],
   "source": [
    "# negative_samples(purchases_by_customer_id_idx.iloc[0]['article_id_idx'])"
   ]
  },
  {
   "cell_type": "code",
   "execution_count": 53,
   "id": "29928fce",
   "metadata": {
    "colab": {
     "base_uri": "https://localhost:8080/"
    },
    "executionInfo": {
     "elapsed": 21471,
     "status": "ok",
     "timestamp": 1649542994012,
     "user": {
      "displayName": "Steven George",
      "userId": "07709250839253394649"
     },
     "user_tz": -60
    },
    "id": "a8f85eea",
    "outputId": "ba84c405-b8bc-4fbc-f1c0-e780c08de015"
   },
   "outputs": [
    {
     "name": "stdout",
     "output_type": "stream",
     "text": [
      "CPU times: user 14.6 s, sys: 349 ms, total: 14.9 s\n",
      "Wall time: 14.9 s\n"
     ]
    }
   ],
   "source": [
    "%%time\n",
    "purchases_by_customer_id_idx['negative_samples'] = purchases_by_customer_id_idx['article_id_idx'].apply(negative_samples)"
   ]
  },
  {
   "cell_type": "code",
   "execution_count": 54,
   "id": "8375ea07",
   "metadata": {
    "colab": {
     "base_uri": "https://localhost:8080/",
     "height": 206
    },
    "executionInfo": {
     "elapsed": 20,
     "status": "ok",
     "timestamp": 1649542994012,
     "user": {
      "displayName": "Steven George",
      "userId": "07709250839253394649"
     },
     "user_tz": -60
    },
    "id": "f4984a89",
    "outputId": "9ed3d894-78fb-4b29-d7bc-74ac4d4fbba9"
   },
   "outputs": [
    {
     "data": {
      "text/html": [
       "<div>\n",
       "<style scoped>\n",
       "    .dataframe tbody tr th:only-of-type {\n",
       "        vertical-align: middle;\n",
       "    }\n",
       "\n",
       "    .dataframe tbody tr th {\n",
       "        vertical-align: top;\n",
       "    }\n",
       "\n",
       "    .dataframe thead th {\n",
       "        text-align: right;\n",
       "    }\n",
       "</style>\n",
       "<table border=\"1\" class=\"dataframe\">\n",
       "  <thead>\n",
       "    <tr style=\"text-align: right;\">\n",
       "      <th></th>\n",
       "      <th>customer_id_idx</th>\n",
       "      <th>article_id_idx</th>\n",
       "      <th>negative_samples</th>\n",
       "    </tr>\n",
       "  </thead>\n",
       "  <tbody>\n",
       "    <tr>\n",
       "      <th>0</th>\n",
       "      <td>0</td>\n",
       "      <td>[1469, 59458, 60253, 60259, 91841, 93585, 9215...</td>\n",
       "      <td>[98305, 59395, 14339, 104452, 71687, 49160, 73...</td>\n",
       "    </tr>\n",
       "    <tr>\n",
       "      <th>1</th>\n",
       "      <td>1</td>\n",
       "      <td>[15137, 50471, 62125, 43421, 43952, 32311, 648...</td>\n",
       "      <td>[79872, 98315, 55310, 8210, 43028, 53269, 6760...</td>\n",
       "    </tr>\n",
       "    <tr>\n",
       "      <th>2</th>\n",
       "      <td>2</td>\n",
       "      <td>[176, 2252, 9773, 28971, 12589, 12585, 32742, ...</td>\n",
       "      <td>[53250, 38914, 26628, 2054, 28679, 102407, 962...</td>\n",
       "    </tr>\n",
       "    <tr>\n",
       "      <th>3</th>\n",
       "      <td>3</td>\n",
       "      <td>[14832, 17669, 14240, 40411, 2255, 2252, 14246...</td>\n",
       "      <td>[77825, 6146, 12289, 51206, 73736, 43017, 6759...</td>\n",
       "    </tr>\n",
       "    <tr>\n",
       "      <th>4</th>\n",
       "      <td>4</td>\n",
       "      <td>[74, 60342, 1569, 67, 17383, 55777, 47592, 648...</td>\n",
       "      <td>[51200, 79873, 10243, 47109, 83978, 102411, 12...</td>\n",
       "    </tr>\n",
       "  </tbody>\n",
       "</table>\n",
       "</div>"
      ],
      "text/plain": [
       "   customer_id_idx                                     article_id_idx  \\\n",
       "0                0  [1469, 59458, 60253, 60259, 91841, 93585, 9215...   \n",
       "1                1  [15137, 50471, 62125, 43421, 43952, 32311, 648...   \n",
       "2                2  [176, 2252, 9773, 28971, 12589, 12585, 32742, ...   \n",
       "3                3  [14832, 17669, 14240, 40411, 2255, 2252, 14246...   \n",
       "4                4  [74, 60342, 1569, 67, 17383, 55777, 47592, 648...   \n",
       "\n",
       "                                    negative_samples  \n",
       "0  [98305, 59395, 14339, 104452, 71687, 49160, 73...  \n",
       "1  [79872, 98315, 55310, 8210, 43028, 53269, 6760...  \n",
       "2  [53250, 38914, 26628, 2054, 28679, 102407, 962...  \n",
       "3  [77825, 6146, 12289, 51206, 73736, 43017, 6759...  \n",
       "4  [51200, 79873, 10243, 47109, 83978, 102411, 12...  "
      ]
     },
     "execution_count": 54,
     "metadata": {},
     "output_type": "execute_result"
    }
   ],
   "source": [
    "purchases_by_customer_id_idx.head()"
   ]
  },
  {
   "cell_type": "code",
   "execution_count": 55,
   "id": "5c0ef608",
   "metadata": {
    "colab": {
     "base_uri": "https://localhost:8080/"
    },
    "executionInfo": {
     "elapsed": 18,
     "status": "ok",
     "timestamp": 1649542994013,
     "user": {
      "displayName": "Steven George",
      "userId": "07709250839253394649"
     },
     "user_tz": -60
    },
    "id": "3a1c29d7",
    "outputId": "540794db-5cbb-4750-f690-501e1b7ae4cb"
   },
   "outputs": [
    {
     "data": {
      "text/plain": [
       "1000    6758\n",
       "999     1704\n",
       "998      435\n",
       "997      103\n",
       "996       32\n",
       "995       10\n",
       "994        6\n",
       "993        4\n",
       "Name: negative_samples, dtype: int64"
      ]
     },
     "execution_count": 55,
     "metadata": {},
     "output_type": "execute_result"
    }
   ],
   "source": [
    "purchases_by_customer_id_idx['negative_samples'].apply(len).value_counts()"
   ]
  },
  {
   "cell_type": "code",
   "execution_count": 56,
   "id": "73858ce2",
   "metadata": {
    "colab": {
     "base_uri": "https://localhost:8080/",
     "height": 206
    },
    "executionInfo": {
     "elapsed": 341,
     "status": "ok",
     "timestamp": 1649542994339,
     "user": {
      "displayName": "Steven George",
      "userId": "07709250839253394649"
     },
     "user_tz": -60
    },
    "id": "f3ecf804",
    "outputId": "5c2496b5-5720-48b4-a0b4-f873e55995a2"
   },
   "outputs": [
    {
     "data": {
      "text/html": [
       "<div>\n",
       "<style scoped>\n",
       "    .dataframe tbody tr th:only-of-type {\n",
       "        vertical-align: middle;\n",
       "    }\n",
       "\n",
       "    .dataframe tbody tr th {\n",
       "        vertical-align: top;\n",
       "    }\n",
       "\n",
       "    .dataframe thead th {\n",
       "        text-align: right;\n",
       "    }\n",
       "</style>\n",
       "<table border=\"1\" class=\"dataframe\">\n",
       "  <thead>\n",
       "    <tr style=\"text-align: right;\">\n",
       "      <th></th>\n",
       "      <th>customer_id_idx</th>\n",
       "      <th>negative_samples</th>\n",
       "    </tr>\n",
       "  </thead>\n",
       "  <tbody>\n",
       "    <tr>\n",
       "      <th>0</th>\n",
       "      <td>0</td>\n",
       "      <td>98305</td>\n",
       "    </tr>\n",
       "    <tr>\n",
       "      <th>0</th>\n",
       "      <td>0</td>\n",
       "      <td>59395</td>\n",
       "    </tr>\n",
       "    <tr>\n",
       "      <th>0</th>\n",
       "      <td>0</td>\n",
       "      <td>14339</td>\n",
       "    </tr>\n",
       "    <tr>\n",
       "      <th>0</th>\n",
       "      <td>0</td>\n",
       "      <td>104452</td>\n",
       "    </tr>\n",
       "    <tr>\n",
       "      <th>0</th>\n",
       "      <td>0</td>\n",
       "      <td>71687</td>\n",
       "    </tr>\n",
       "  </tbody>\n",
       "</table>\n",
       "</div>"
      ],
      "text/plain": [
       "   customer_id_idx negative_samples\n",
       "0                0            98305\n",
       "0                0            59395\n",
       "0                0            14339\n",
       "0                0           104452\n",
       "0                0            71687"
      ]
     },
     "execution_count": 56,
     "metadata": {},
     "output_type": "execute_result"
    }
   ],
   "source": [
    "negative_samples_df = purchases_by_customer_id_idx[['customer_id_idx', 'negative_samples']].explode('negative_samples')\n",
    "negative_samples_df.head()"
   ]
  },
  {
   "cell_type": "code",
   "execution_count": 57,
   "id": "ac21f96c",
   "metadata": {
    "colab": {
     "base_uri": "https://localhost:8080/"
    },
    "executionInfo": {
     "elapsed": 245,
     "status": "ok",
     "timestamp": 1649542994579,
     "user": {
      "displayName": "Steven George",
      "userId": "07709250839253394649"
     },
     "user_tz": -60
    },
    "id": "D8HYqeb9phex",
    "outputId": "0eff4bd3-6e4e-4a7d-d3b4-acaf7a67b300"
   },
   "outputs": [
    {
     "data": {
      "text/plain": [
       "customer_id_idx     0\n",
       "negative_samples    0\n",
       "dtype: int64"
      ]
     },
     "execution_count": 57,
     "metadata": {},
     "output_type": "execute_result"
    }
   ],
   "source": [
    "negative_samples_df.isnull().sum()"
   ]
  },
  {
   "cell_type": "code",
   "execution_count": 58,
   "id": "2ade36df",
   "metadata": {
    "executionInfo": {
     "elapsed": 690,
     "status": "ok",
     "timestamp": 1649542995267,
     "user": {
      "displayName": "Steven George",
      "userId": "07709250839253394649"
     },
     "user_tz": -60
    },
    "id": "zrIytdpgpnvB"
   },
   "outputs": [],
   "source": [
    "negative_samples_df.dropna(subset=['negative_samples'], inplace=True)"
   ]
  },
  {
   "cell_type": "code",
   "execution_count": 59,
   "id": "ece3b968",
   "metadata": {
    "executionInfo": {
     "elapsed": 17,
     "status": "ok",
     "timestamp": 1649542995268,
     "user": {
      "displayName": "Steven George",
      "userId": "07709250839253394649"
     },
     "user_tz": -60
    },
    "id": "57c0159f"
   },
   "outputs": [],
   "source": [
    "negative_samples_df.rename(columns={'negative_samples': 'article_id_idx'}, inplace=True)\n",
    "negative_samples_df['purchased'] = 0"
   ]
  },
  {
   "cell_type": "code",
   "execution_count": 60,
   "id": "2609a2df",
   "metadata": {
    "colab": {
     "base_uri": "https://localhost:8080/",
     "height": 206
    },
    "executionInfo": {
     "elapsed": 16,
     "status": "ok",
     "timestamp": 1649542995268,
     "user": {
      "displayName": "Steven George",
      "userId": "07709250839253394649"
     },
     "user_tz": -60
    },
    "id": "c178639c",
    "outputId": "88d39e10-67a1-4ac7-a534-d5d2293fc4a7"
   },
   "outputs": [
    {
     "name": "stdout",
     "output_type": "stream",
     "text": [
      "(9048875, 3)\n"
     ]
    },
    {
     "data": {
      "text/html": [
       "<div>\n",
       "<style scoped>\n",
       "    .dataframe tbody tr th:only-of-type {\n",
       "        vertical-align: middle;\n",
       "    }\n",
       "\n",
       "    .dataframe tbody tr th {\n",
       "        vertical-align: top;\n",
       "    }\n",
       "\n",
       "    .dataframe thead th {\n",
       "        text-align: right;\n",
       "    }\n",
       "</style>\n",
       "<table border=\"1\" class=\"dataframe\">\n",
       "  <thead>\n",
       "    <tr style=\"text-align: right;\">\n",
       "      <th></th>\n",
       "      <th>customer_id_idx</th>\n",
       "      <th>article_id_idx</th>\n",
       "      <th>purchased</th>\n",
       "    </tr>\n",
       "  </thead>\n",
       "  <tbody>\n",
       "    <tr>\n",
       "      <th>0</th>\n",
       "      <td>0</td>\n",
       "      <td>98305</td>\n",
       "      <td>0</td>\n",
       "    </tr>\n",
       "    <tr>\n",
       "      <th>0</th>\n",
       "      <td>0</td>\n",
       "      <td>59395</td>\n",
       "      <td>0</td>\n",
       "    </tr>\n",
       "    <tr>\n",
       "      <th>0</th>\n",
       "      <td>0</td>\n",
       "      <td>14339</td>\n",
       "      <td>0</td>\n",
       "    </tr>\n",
       "    <tr>\n",
       "      <th>0</th>\n",
       "      <td>0</td>\n",
       "      <td>104452</td>\n",
       "      <td>0</td>\n",
       "    </tr>\n",
       "    <tr>\n",
       "      <th>0</th>\n",
       "      <td>0</td>\n",
       "      <td>71687</td>\n",
       "      <td>0</td>\n",
       "    </tr>\n",
       "  </tbody>\n",
       "</table>\n",
       "</div>"
      ],
      "text/plain": [
       "   customer_id_idx article_id_idx  purchased\n",
       "0                0          98305          0\n",
       "0                0          59395          0\n",
       "0                0          14339          0\n",
       "0                0         104452          0\n",
       "0                0          71687          0"
      ]
     },
     "execution_count": 60,
     "metadata": {},
     "output_type": "execute_result"
    }
   ],
   "source": [
    "print(negative_samples_df.shape)\n",
    "negative_samples_df.head()"
   ]
  },
  {
   "cell_type": "code",
   "execution_count": 61,
   "id": "1d4a9ce5",
   "metadata": {},
   "outputs": [
    {
     "name": "stdout",
     "output_type": "stream",
     "text": [
      "(9048875, 15)\n"
     ]
    },
    {
     "data": {
      "text/html": [
       "<div>\n",
       "<style scoped>\n",
       "    .dataframe tbody tr th:only-of-type {\n",
       "        vertical-align: middle;\n",
       "    }\n",
       "\n",
       "    .dataframe tbody tr th {\n",
       "        vertical-align: top;\n",
       "    }\n",
       "\n",
       "    .dataframe thead th {\n",
       "        text-align: right;\n",
       "    }\n",
       "</style>\n",
       "<table border=\"1\" class=\"dataframe\">\n",
       "  <thead>\n",
       "    <tr style=\"text-align: right;\">\n",
       "      <th></th>\n",
       "      <th>customer_id_idx</th>\n",
       "      <th>article_id_idx</th>\n",
       "      <th>purchased</th>\n",
       "      <th>product_code</th>\n",
       "      <th>product_type_no</th>\n",
       "      <th>product_group_no</th>\n",
       "      <th>graphical_appearance_no</th>\n",
       "      <th>colour_group_code</th>\n",
       "      <th>perceived_colour_value_id</th>\n",
       "      <th>perceived_colour_master_id</th>\n",
       "      <th>department_no</th>\n",
       "      <th>index_code</th>\n",
       "      <th>index_group_no</th>\n",
       "      <th>section_no</th>\n",
       "      <th>garment_group_no</th>\n",
       "    </tr>\n",
       "  </thead>\n",
       "  <tbody>\n",
       "    <tr>\n",
       "      <th>0</th>\n",
       "      <td>0</td>\n",
       "      <td>98305</td>\n",
       "      <td>0</td>\n",
       "      <td>42753</td>\n",
       "      <td>25</td>\n",
       "      <td>11</td>\n",
       "      <td>18</td>\n",
       "      <td>16</td>\n",
       "      <td>2</td>\n",
       "      <td>5</td>\n",
       "      <td>272</td>\n",
       "      <td>7</td>\n",
       "      <td>4</td>\n",
       "      <td>52</td>\n",
       "      <td>14</td>\n",
       "    </tr>\n",
       "    <tr>\n",
       "      <th>1</th>\n",
       "      <td>134</td>\n",
       "      <td>98305</td>\n",
       "      <td>0</td>\n",
       "      <td>42753</td>\n",
       "      <td>25</td>\n",
       "      <td>11</td>\n",
       "      <td>18</td>\n",
       "      <td>16</td>\n",
       "      <td>2</td>\n",
       "      <td>5</td>\n",
       "      <td>272</td>\n",
       "      <td>7</td>\n",
       "      <td>4</td>\n",
       "      <td>52</td>\n",
       "      <td>14</td>\n",
       "    </tr>\n",
       "    <tr>\n",
       "      <th>2</th>\n",
       "      <td>175</td>\n",
       "      <td>98305</td>\n",
       "      <td>0</td>\n",
       "      <td>42753</td>\n",
       "      <td>25</td>\n",
       "      <td>11</td>\n",
       "      <td>18</td>\n",
       "      <td>16</td>\n",
       "      <td>2</td>\n",
       "      <td>5</td>\n",
       "      <td>272</td>\n",
       "      <td>7</td>\n",
       "      <td>4</td>\n",
       "      <td>52</td>\n",
       "      <td>14</td>\n",
       "    </tr>\n",
       "    <tr>\n",
       "      <th>3</th>\n",
       "      <td>352</td>\n",
       "      <td>98305</td>\n",
       "      <td>0</td>\n",
       "      <td>42753</td>\n",
       "      <td>25</td>\n",
       "      <td>11</td>\n",
       "      <td>18</td>\n",
       "      <td>16</td>\n",
       "      <td>2</td>\n",
       "      <td>5</td>\n",
       "      <td>272</td>\n",
       "      <td>7</td>\n",
       "      <td>4</td>\n",
       "      <td>52</td>\n",
       "      <td>14</td>\n",
       "    </tr>\n",
       "    <tr>\n",
       "      <th>4</th>\n",
       "      <td>508</td>\n",
       "      <td>98305</td>\n",
       "      <td>0</td>\n",
       "      <td>42753</td>\n",
       "      <td>25</td>\n",
       "      <td>11</td>\n",
       "      <td>18</td>\n",
       "      <td>16</td>\n",
       "      <td>2</td>\n",
       "      <td>5</td>\n",
       "      <td>272</td>\n",
       "      <td>7</td>\n",
       "      <td>4</td>\n",
       "      <td>52</td>\n",
       "      <td>14</td>\n",
       "    </tr>\n",
       "  </tbody>\n",
       "</table>\n",
       "</div>"
      ],
      "text/plain": [
       "   customer_id_idx article_id_idx  purchased  product_code  product_type_no  \\\n",
       "0                0          98305          0         42753               25   \n",
       "1              134          98305          0         42753               25   \n",
       "2              175          98305          0         42753               25   \n",
       "3              352          98305          0         42753               25   \n",
       "4              508          98305          0         42753               25   \n",
       "\n",
       "   product_group_no  graphical_appearance_no  colour_group_code  \\\n",
       "0                11                       18                 16   \n",
       "1                11                       18                 16   \n",
       "2                11                       18                 16   \n",
       "3                11                       18                 16   \n",
       "4                11                       18                 16   \n",
       "\n",
       "   perceived_colour_value_id  perceived_colour_master_id  department_no  \\\n",
       "0                          2                           5            272   \n",
       "1                          2                           5            272   \n",
       "2                          2                           5            272   \n",
       "3                          2                           5            272   \n",
       "4                          2                           5            272   \n",
       "\n",
       "   index_code  index_group_no  section_no  garment_group_no  \n",
       "0           7               4          52                14  \n",
       "1           7               4          52                14  \n",
       "2           7               4          52                14  \n",
       "3           7               4          52                14  \n",
       "4           7               4          52                14  "
      ]
     },
     "execution_count": 61,
     "metadata": {},
     "output_type": "execute_result"
    }
   ],
   "source": [
    "negative_samples_df = negative_samples_df.merge(articles_df[['article_id_idx'] + CATEGORICAL_FEATURES], on='article_id_idx')\n",
    "print(negative_samples_df.shape)\n",
    "negative_samples_df.head()"
   ]
  },
  {
   "cell_type": "code",
   "execution_count": 62,
   "id": "9637d2e9",
   "metadata": {
    "colab": {
     "base_uri": "https://localhost:8080/",
     "height": 206
    },
    "executionInfo": {
     "elapsed": 15,
     "status": "ok",
     "timestamp": 1649542995269,
     "user": {
      "displayName": "Steven George",
      "userId": "07709250839253394649"
     },
     "user_tz": -60
    },
    "id": "9b931aff",
    "outputId": "753f5216-53b3-49e8-c382-657c777c0c0c"
   },
   "outputs": [
    {
     "name": "stdout",
     "output_type": "stream",
     "text": [
      "(323296, 15)\n"
     ]
    },
    {
     "data": {
      "text/html": [
       "<div>\n",
       "<style scoped>\n",
       "    .dataframe tbody tr th:only-of-type {\n",
       "        vertical-align: middle;\n",
       "    }\n",
       "\n",
       "    .dataframe tbody tr th {\n",
       "        vertical-align: top;\n",
       "    }\n",
       "\n",
       "    .dataframe thead th {\n",
       "        text-align: right;\n",
       "    }\n",
       "</style>\n",
       "<table border=\"1\" class=\"dataframe\">\n",
       "  <thead>\n",
       "    <tr style=\"text-align: right;\">\n",
       "      <th></th>\n",
       "      <th>customer_id_idx</th>\n",
       "      <th>article_id_idx</th>\n",
       "      <th>product_code</th>\n",
       "      <th>product_type_no</th>\n",
       "      <th>product_group_no</th>\n",
       "      <th>graphical_appearance_no</th>\n",
       "      <th>colour_group_code</th>\n",
       "      <th>perceived_colour_value_id</th>\n",
       "      <th>perceived_colour_master_id</th>\n",
       "      <th>department_no</th>\n",
       "      <th>index_code</th>\n",
       "      <th>index_group_no</th>\n",
       "      <th>section_no</th>\n",
       "      <th>garment_group_no</th>\n",
       "      <th>purchased</th>\n",
       "    </tr>\n",
       "  </thead>\n",
       "  <tbody>\n",
       "    <tr>\n",
       "      <th>95</th>\n",
       "      <td>3</td>\n",
       "      <td>14832</td>\n",
       "      <td>5169</td>\n",
       "      <td>5</td>\n",
       "      <td>0</td>\n",
       "      <td>3</td>\n",
       "      <td>7</td>\n",
       "      <td>2</td>\n",
       "      <td>3</td>\n",
       "      <td>70</td>\n",
       "      <td>3</td>\n",
       "      <td>2</td>\n",
       "      <td>27</td>\n",
       "      <td>9</td>\n",
       "      <td>1</td>\n",
       "    </tr>\n",
       "    <tr>\n",
       "      <th>96</th>\n",
       "      <td>462</td>\n",
       "      <td>14832</td>\n",
       "      <td>5169</td>\n",
       "      <td>5</td>\n",
       "      <td>0</td>\n",
       "      <td>3</td>\n",
       "      <td>7</td>\n",
       "      <td>2</td>\n",
       "      <td>3</td>\n",
       "      <td>70</td>\n",
       "      <td>3</td>\n",
       "      <td>2</td>\n",
       "      <td>27</td>\n",
       "      <td>9</td>\n",
       "      <td>1</td>\n",
       "    </tr>\n",
       "    <tr>\n",
       "      <th>97</th>\n",
       "      <td>2136</td>\n",
       "      <td>14832</td>\n",
       "      <td>5169</td>\n",
       "      <td>5</td>\n",
       "      <td>0</td>\n",
       "      <td>3</td>\n",
       "      <td>7</td>\n",
       "      <td>2</td>\n",
       "      <td>3</td>\n",
       "      <td>70</td>\n",
       "      <td>3</td>\n",
       "      <td>2</td>\n",
       "      <td>27</td>\n",
       "      <td>9</td>\n",
       "      <td>1</td>\n",
       "    </tr>\n",
       "    <tr>\n",
       "      <th>98</th>\n",
       "      <td>2614</td>\n",
       "      <td>14832</td>\n",
       "      <td>5169</td>\n",
       "      <td>5</td>\n",
       "      <td>0</td>\n",
       "      <td>3</td>\n",
       "      <td>7</td>\n",
       "      <td>2</td>\n",
       "      <td>3</td>\n",
       "      <td>70</td>\n",
       "      <td>3</td>\n",
       "      <td>2</td>\n",
       "      <td>27</td>\n",
       "      <td>9</td>\n",
       "      <td>1</td>\n",
       "    </tr>\n",
       "    <tr>\n",
       "      <th>99</th>\n",
       "      <td>3209</td>\n",
       "      <td>14832</td>\n",
       "      <td>5169</td>\n",
       "      <td>5</td>\n",
       "      <td>0</td>\n",
       "      <td>3</td>\n",
       "      <td>7</td>\n",
       "      <td>2</td>\n",
       "      <td>3</td>\n",
       "      <td>70</td>\n",
       "      <td>3</td>\n",
       "      <td>2</td>\n",
       "      <td>27</td>\n",
       "      <td>9</td>\n",
       "      <td>1</td>\n",
       "    </tr>\n",
       "  </tbody>\n",
       "</table>\n",
       "</div>"
      ],
      "text/plain": [
       "    customer_id_idx  article_id_idx  product_code  product_type_no  \\\n",
       "95                3           14832          5169                5   \n",
       "96              462           14832          5169                5   \n",
       "97             2136           14832          5169                5   \n",
       "98             2614           14832          5169                5   \n",
       "99             3209           14832          5169                5   \n",
       "\n",
       "    product_group_no  graphical_appearance_no  colour_group_code  \\\n",
       "95                 0                        3                  7   \n",
       "96                 0                        3                  7   \n",
       "97                 0                        3                  7   \n",
       "98                 0                        3                  7   \n",
       "99                 0                        3                  7   \n",
       "\n",
       "    perceived_colour_value_id  perceived_colour_master_id  department_no  \\\n",
       "95                          2                           3             70   \n",
       "96                          2                           3             70   \n",
       "97                          2                           3             70   \n",
       "98                          2                           3             70   \n",
       "99                          2                           3             70   \n",
       "\n",
       "    index_code  index_group_no  section_no  garment_group_no  purchased  \n",
       "95           3               2          27                 9          1  \n",
       "96           3               2          27                 9          1  \n",
       "97           3               2          27                 9          1  \n",
       "98           3               2          27                 9          1  \n",
       "99           3               2          27                 9          1  "
      ]
     },
     "execution_count": 62,
     "metadata": {},
     "output_type": "execute_result"
    }
   ],
   "source": [
    "positive_samples_df = train_set_processed.copy().drop(columns=['customer_id', 'article_id'])\n",
    "positive_samples_df['purchased'] = 1\n",
    "\n",
    "print(positive_samples_df.shape)\n",
    "positive_samples_df.head()"
   ]
  },
  {
   "cell_type": "code",
   "execution_count": 63,
   "id": "c1ae3a66",
   "metadata": {
    "colab": {
     "base_uri": "https://localhost:8080/"
    },
    "executionInfo": {
     "elapsed": 214,
     "status": "ok",
     "timestamp": 1649542995475,
     "user": {
      "displayName": "Steven George",
      "userId": "07709250839253394649"
     },
     "user_tz": -60
    },
    "id": "dd22a295",
    "outputId": "c6809b01-eee4-4293-c519-d9a7c6173637"
   },
   "outputs": [
    {
     "name": "stderr",
     "output_type": "stream",
     "text": [
      "/var/folders/y7/s4mqr2gn1xs617jmcj6fc_ph0000gn/T/ipykernel_71597/1159554460.py:1: FutureWarning: The frame.append method is deprecated and will be removed from pandas in a future version. Use pandas.concat instead.\n",
      "  training_data_full = positive_samples_df.append(negative_samples_df)\n"
     ]
    },
    {
     "data": {
      "text/plain": [
       "(9372171, 15)"
      ]
     },
     "execution_count": 63,
     "metadata": {},
     "output_type": "execute_result"
    }
   ],
   "source": [
    "training_data_full = positive_samples_df.append(negative_samples_df)\n",
    "training_data_full.shape"
   ]
  },
  {
   "cell_type": "code",
   "execution_count": 64,
   "id": "f85e244a",
   "metadata": {
    "colab": {
     "base_uri": "https://localhost:8080/"
    },
    "executionInfo": {
     "elapsed": 7,
     "status": "ok",
     "timestamp": 1649542995476,
     "user": {
      "displayName": "Steven George",
      "userId": "07709250839253394649"
     },
     "user_tz": -60
    },
    "id": "9f8d6519",
    "outputId": "19924602-4876-4a17-9ff0-19db1763e176"
   },
   "outputs": [
    {
     "data": {
      "text/plain": [
       "0.034495315973214744"
      ]
     },
     "execution_count": 64,
     "metadata": {},
     "output_type": "execute_result"
    }
   ],
   "source": [
    "training_data_full['purchased'].mean()"
   ]
  },
  {
   "cell_type": "code",
   "execution_count": 65,
   "id": "72c193af",
   "metadata": {
    "colab": {
     "base_uri": "https://localhost:8080/",
     "height": 206
    },
    "executionInfo": {
     "elapsed": 253,
     "status": "ok",
     "timestamp": 1649543004756,
     "user": {
      "displayName": "Steven George",
      "userId": "07709250839253394649"
     },
     "user_tz": -60
    },
    "id": "9e91ebd5",
    "outputId": "09217083-ac39-4c9a-fc65-2521424e9ec3"
   },
   "outputs": [
    {
     "data": {
      "text/html": [
       "<div>\n",
       "<style scoped>\n",
       "    .dataframe tbody tr th:only-of-type {\n",
       "        vertical-align: middle;\n",
       "    }\n",
       "\n",
       "    .dataframe tbody tr th {\n",
       "        vertical-align: top;\n",
       "    }\n",
       "\n",
       "    .dataframe thead th {\n",
       "        text-align: right;\n",
       "    }\n",
       "</style>\n",
       "<table border=\"1\" class=\"dataframe\">\n",
       "  <thead>\n",
       "    <tr style=\"text-align: right;\">\n",
       "      <th></th>\n",
       "      <th>customer_id_idx</th>\n",
       "      <th>article_id_idx</th>\n",
       "      <th>product_code</th>\n",
       "      <th>product_type_no</th>\n",
       "      <th>product_group_no</th>\n",
       "      <th>graphical_appearance_no</th>\n",
       "      <th>colour_group_code</th>\n",
       "      <th>perceived_colour_value_id</th>\n",
       "      <th>perceived_colour_master_id</th>\n",
       "      <th>department_no</th>\n",
       "      <th>index_code</th>\n",
       "      <th>index_group_no</th>\n",
       "      <th>section_no</th>\n",
       "      <th>garment_group_no</th>\n",
       "      <th>purchased</th>\n",
       "    </tr>\n",
       "  </thead>\n",
       "  <tbody>\n",
       "    <tr>\n",
       "      <th>95</th>\n",
       "      <td>3</td>\n",
       "      <td>14832</td>\n",
       "      <td>5169</td>\n",
       "      <td>5</td>\n",
       "      <td>0</td>\n",
       "      <td>3</td>\n",
       "      <td>7</td>\n",
       "      <td>2</td>\n",
       "      <td>3</td>\n",
       "      <td>70</td>\n",
       "      <td>3</td>\n",
       "      <td>2</td>\n",
       "      <td>27</td>\n",
       "      <td>9</td>\n",
       "      <td>1</td>\n",
       "    </tr>\n",
       "    <tr>\n",
       "      <th>96</th>\n",
       "      <td>462</td>\n",
       "      <td>14832</td>\n",
       "      <td>5169</td>\n",
       "      <td>5</td>\n",
       "      <td>0</td>\n",
       "      <td>3</td>\n",
       "      <td>7</td>\n",
       "      <td>2</td>\n",
       "      <td>3</td>\n",
       "      <td>70</td>\n",
       "      <td>3</td>\n",
       "      <td>2</td>\n",
       "      <td>27</td>\n",
       "      <td>9</td>\n",
       "      <td>1</td>\n",
       "    </tr>\n",
       "    <tr>\n",
       "      <th>97</th>\n",
       "      <td>2136</td>\n",
       "      <td>14832</td>\n",
       "      <td>5169</td>\n",
       "      <td>5</td>\n",
       "      <td>0</td>\n",
       "      <td>3</td>\n",
       "      <td>7</td>\n",
       "      <td>2</td>\n",
       "      <td>3</td>\n",
       "      <td>70</td>\n",
       "      <td>3</td>\n",
       "      <td>2</td>\n",
       "      <td>27</td>\n",
       "      <td>9</td>\n",
       "      <td>1</td>\n",
       "    </tr>\n",
       "    <tr>\n",
       "      <th>98</th>\n",
       "      <td>2614</td>\n",
       "      <td>14832</td>\n",
       "      <td>5169</td>\n",
       "      <td>5</td>\n",
       "      <td>0</td>\n",
       "      <td>3</td>\n",
       "      <td>7</td>\n",
       "      <td>2</td>\n",
       "      <td>3</td>\n",
       "      <td>70</td>\n",
       "      <td>3</td>\n",
       "      <td>2</td>\n",
       "      <td>27</td>\n",
       "      <td>9</td>\n",
       "      <td>1</td>\n",
       "    </tr>\n",
       "    <tr>\n",
       "      <th>99</th>\n",
       "      <td>3209</td>\n",
       "      <td>14832</td>\n",
       "      <td>5169</td>\n",
       "      <td>5</td>\n",
       "      <td>0</td>\n",
       "      <td>3</td>\n",
       "      <td>7</td>\n",
       "      <td>2</td>\n",
       "      <td>3</td>\n",
       "      <td>70</td>\n",
       "      <td>3</td>\n",
       "      <td>2</td>\n",
       "      <td>27</td>\n",
       "      <td>9</td>\n",
       "      <td>1</td>\n",
       "    </tr>\n",
       "  </tbody>\n",
       "</table>\n",
       "</div>"
      ],
      "text/plain": [
       "    customer_id_idx article_id_idx  product_code  product_type_no  \\\n",
       "95                3          14832          5169                5   \n",
       "96              462          14832          5169                5   \n",
       "97             2136          14832          5169                5   \n",
       "98             2614          14832          5169                5   \n",
       "99             3209          14832          5169                5   \n",
       "\n",
       "    product_group_no  graphical_appearance_no  colour_group_code  \\\n",
       "95                 0                        3                  7   \n",
       "96                 0                        3                  7   \n",
       "97                 0                        3                  7   \n",
       "98                 0                        3                  7   \n",
       "99                 0                        3                  7   \n",
       "\n",
       "    perceived_colour_value_id  perceived_colour_master_id  department_no  \\\n",
       "95                          2                           3             70   \n",
       "96                          2                           3             70   \n",
       "97                          2                           3             70   \n",
       "98                          2                           3             70   \n",
       "99                          2                           3             70   \n",
       "\n",
       "    index_code  index_group_no  section_no  garment_group_no  purchased  \n",
       "95           3               2          27                 9          1  \n",
       "96           3               2          27                 9          1  \n",
       "97           3               2          27                 9          1  \n",
       "98           3               2          27                 9          1  \n",
       "99           3               2          27                 9          1  "
      ]
     },
     "execution_count": 65,
     "metadata": {},
     "output_type": "execute_result"
    }
   ],
   "source": [
    "training_data_full.head()"
   ]
  },
  {
   "cell_type": "markdown",
   "id": "b229801d",
   "metadata": {},
   "source": [
    "Create another dev split to measure classification loss during training"
   ]
  },
  {
   "cell_type": "code",
   "execution_count": 66,
   "id": "e5a9bc13",
   "metadata": {},
   "outputs": [],
   "source": [
    "from sklearn.model_selection import train_test_split"
   ]
  },
  {
   "cell_type": "code",
   "execution_count": 67,
   "id": "ef4c5a9a",
   "metadata": {},
   "outputs": [],
   "source": [
    "training_data_full, dev_data_full = train_test_split(training_data_full, test_size=0.3)"
   ]
  },
  {
   "cell_type": "code",
   "execution_count": 68,
   "id": "f302d77d",
   "metadata": {
    "executionInfo": {
     "elapsed": 187,
     "status": "ok",
     "timestamp": 1649543006135,
     "user": {
      "displayName": "Steven George",
      "userId": "07709250839253394649"
     },
     "user_tz": -60
    },
    "id": "b8a04f45"
   },
   "outputs": [],
   "source": [
    "class PurchasesDatasetWithArticleFeatures(Dataset):\n",
    "\n",
    "    def __init__(self, df):\n",
    "        self.customer_id_idx = df['customer_id_idx'].values\n",
    "        self.article_id_idx = df['article_id_idx'].values\n",
    "        self.product_code = df['product_code'].values\n",
    "        self.product_type_no = df['product_type_no'].values\n",
    "        self.product_group_no = df['product_group_no'].values\n",
    "        self.graphical_appearance_no = df['graphical_appearance_no'].values\n",
    "        self.colour_group_code = df['colour_group_code'].values\n",
    "        self.perceived_colour_value_id = df['perceived_colour_value_id'].values\n",
    "        self.perceived_colour_master_id = df['perceived_colour_master_id'].values\n",
    "        self.department_no = df['department_no'].values\n",
    "        self.index_code = df['index_code'].values\n",
    "        self.index_group_no = df['index_group_no'].values\n",
    "        self.section_no = df['section_no'].values\n",
    "        self.garment_group_no = df['garment_group_no'].values\n",
    "        self.purchased = df['purchased'].values\n",
    "\n",
    "    def __len__(self):\n",
    "        return self.customer_id_idx.shape[0]\n",
    "\n",
    "    def __getitem__(self, idx):\n",
    "        if torch.is_tensor(idx):\n",
    "            idx = idx.tolist()\n",
    "        \n",
    "        return (\n",
    "            self.customer_id_idx[idx],\n",
    "            self.article_id_idx[idx],\n",
    "            self.product_code[idx],\n",
    "            self.product_type_no[idx],\n",
    "            self.product_group_no[idx],\n",
    "            self.graphical_appearance_no[idx],\n",
    "            self.colour_group_code[idx],\n",
    "            self.perceived_colour_value_id[idx],\n",
    "            self.perceived_colour_master_id[idx],\n",
    "            self.department_no[idx],\n",
    "            self.index_code[idx],\n",
    "            self.index_group_no[idx],\n",
    "            self.section_no[idx],\n",
    "            self.garment_group_no[idx],\n",
    "            self.purchased[idx]\n",
    "        )"
   ]
  },
  {
   "cell_type": "code",
   "execution_count": 69,
   "id": "d6111e1d",
   "metadata": {
    "executionInfo": {
     "elapsed": 204,
     "status": "ok",
     "timestamp": 1649543014578,
     "user": {
      "displayName": "Steven George",
      "userId": "07709250839253394649"
     },
     "user_tz": -60
    },
    "id": "4b39d123"
   },
   "outputs": [],
   "source": [
    "train_dataset = PurchasesDatasetWithArticleFeatures(training_data_full)\n",
    "dev_dataset = PurchasesDatasetWithArticleFeatures(dev_data_full)"
   ]
  },
  {
   "cell_type": "code",
   "execution_count": 70,
   "id": "826f5af6",
   "metadata": {
    "executionInfo": {
     "elapsed": 2,
     "status": "ok",
     "timestamp": 1649543015341,
     "user": {
      "displayName": "Steven George",
      "userId": "07709250839253394649"
     },
     "user_tz": -60
    },
    "id": "48294797"
   },
   "outputs": [],
   "source": [
    "BATCH_SIZE = 2048\n",
    "\n",
    "train_loader = DataLoader(train_dataset, batch_size=BATCH_SIZE, shuffle=True)  \n",
    "dev_loader = DataLoader(dev_dataset, batch_size=BATCH_SIZE, shuffle=True)  "
   ]
  },
  {
   "cell_type": "code",
   "execution_count": 71,
   "id": "74196e72",
   "metadata": {
    "executionInfo": {
     "elapsed": 3,
     "status": "ok",
     "timestamp": 1649543016501,
     "user": {
      "displayName": "Steven George",
      "userId": "07709250839253394649"
     },
     "user_tz": -60
    },
    "id": "9a21949e"
   },
   "outputs": [],
   "source": [
    "# # Selecting a subset of data\n",
    "# subset = torch.utils.data.Subset(train_dataset, [1])\n",
    "\n",
    "# train_loader = DataLoader(subset, batch_size=BATCH_SIZE)  "
   ]
  },
  {
   "cell_type": "code",
   "execution_count": 72,
   "id": "92d805ba",
   "metadata": {
    "executionInfo": {
     "elapsed": 1,
     "status": "ok",
     "timestamp": 1649543007036,
     "user": {
      "displayName": "Steven George",
      "userId": "07709250839253394649"
     },
     "user_tz": -60
    },
    "id": "73937b3f"
   },
   "outputs": [],
   "source": [
    "class FashionRecV2(nn.Module):\n",
    "\n",
    "    def __init__(self, embedding_dim):\n",
    "        super(FashionRecV2, self).__init__()\n",
    "        \n",
    "        # Embeddings\n",
    "        self.user_embeddings = nn.Embedding(num_embeddings=len(customer_id_to_idx), embedding_dim=embedding_dim)        \n",
    "        self.item_embeddings = nn.Embedding(num_embeddings=len(article_id_to_idx), embedding_dim=embedding_dim)\n",
    "        self.product_code_embeddings = nn.Embedding(num_embeddings=len(cat_code_to_indices['product_code']), embedding_dim=embedding_dim)\n",
    "        self.product_type_no_embeddings = nn.Embedding(num_embeddings=len(cat_code_to_indices['product_type_no']), embedding_dim=embedding_dim)\n",
    "        self.product_group_no_embeddings = nn.Embedding(num_embeddings=len(cat_code_to_indices['product_group_no']), embedding_dim=embedding_dim)\n",
    "        self.graphical_appearance_no_embeddings = nn.Embedding(num_embeddings=len(cat_code_to_indices['graphical_appearance_no']), embedding_dim=embedding_dim)\n",
    "        self.colour_group_code_embeddings = nn.Embedding(num_embeddings=len(cat_code_to_indices['colour_group_code']), embedding_dim=embedding_dim)\n",
    "        self.perceived_colour_value_id_embeddings = nn.Embedding(num_embeddings=len(cat_code_to_indices['perceived_colour_value_id']), embedding_dim=embedding_dim)\n",
    "        self.perceived_colour_master_id_embeddings = nn.Embedding(num_embeddings=len(cat_code_to_indices['perceived_colour_master_id']), embedding_dim=embedding_dim)\n",
    "        self.department_no_embeddings = nn.Embedding(num_embeddings=len(cat_code_to_indices['department_no']), embedding_dim=embedding_dim)\n",
    "        self.index_code_embeddings = nn.Embedding(num_embeddings=len(cat_code_to_indices['index_code']), embedding_dim=embedding_dim)\n",
    "        self.index_group_no_embeddings = nn.Embedding(num_embeddings=len(cat_code_to_indices['index_group_no']), embedding_dim=embedding_dim)\n",
    "        self.section_no_embeddings = nn.Embedding(num_embeddings=len(cat_code_to_indices['section_no']), embedding_dim=embedding_dim)\n",
    "        self.garment_group_no_embeddings = nn.Embedding(num_embeddings=len(cat_code_to_indices['garment_group_no']), embedding_dim=embedding_dim)\n",
    "\n",
    "        # Initialise embeddings\n",
    "        torch.nn.init.xavier_uniform_(self.user_embeddings.weight)\n",
    "        torch.nn.init.xavier_uniform_(self.item_embeddings.weight)        \n",
    "        torch.nn.init.xavier_uniform_(self.product_code_embeddings.weight)\n",
    "        torch.nn.init.xavier_uniform_(self.product_type_no_embeddings.weight)\n",
    "        torch.nn.init.xavier_uniform_(self.product_group_no_embeddings.weight)\n",
    "        torch.nn.init.xavier_uniform_(self.graphical_appearance_no_embeddings.weight)\n",
    "        torch.nn.init.xavier_uniform_(self.colour_group_code_embeddings.weight)\n",
    "        torch.nn.init.xavier_uniform_(self.perceived_colour_value_id_embeddings.weight)\n",
    "        torch.nn.init.xavier_uniform_(self.perceived_colour_master_id_embeddings.weight)\n",
    "        torch.nn.init.xavier_uniform_(self.department_no_embeddings.weight)\n",
    "        torch.nn.init.xavier_uniform_(self.index_code_embeddings.weight)\n",
    "        torch.nn.init.xavier_uniform_(self.index_group_no_embeddings.weight)\n",
    "        torch.nn.init.xavier_uniform_(self.section_no_embeddings.weight)\n",
    "        torch.nn.init.xavier_uniform_(self.garment_group_no_embeddings.weight)\n",
    "        \n",
    "        # FC layers\n",
    "        self.fc_1 = nn.Linear(in_features=embedding_dim*14, out_features=1000)            \n",
    "\n",
    "        self.fc_2 = nn.Linear(in_features=1000, out_features=500)\n",
    "        \n",
    "        self.fc_3 = nn.Linear(in_features=500, out_features=250)\n",
    "        \n",
    "        self.fc_4 = nn.Linear(in_features=250, out_features=1)\n",
    "        \n",
    "        # Activation functions\n",
    "        self.relu = nn.ReLU()        \n",
    "        self.sigmoid = nn.Sigmoid()\n",
    "        \n",
    "        # Dropout\n",
    "        self.dropout = nn.Dropout(0.2)\n",
    "        \n",
    "    def forward(\n",
    "        self, \n",
    "        user_id, \n",
    "        item_id,\n",
    "        product_code, \n",
    "        product_type_no, \n",
    "        product_group_no, \n",
    "        graphical_appearance_no, \n",
    "        colour_group_code, \n",
    "        perceived_colour_value_id, \n",
    "        perceived_colour_master_id, \n",
    "        department_no, \n",
    "        index_code, \n",
    "        index_group_no, \n",
    "        section_no, \n",
    "        garment_group_no\n",
    "    ):\n",
    "\n",
    "        user_emb = self.user_embeddings(user_id)\n",
    "        item_emb = self.item_embeddings(item_id)\n",
    "        product_code_emb = self.product_code_embeddings(product_code)\n",
    "        product_type_no_emb = self.product_type_no_embeddings(product_type_no)\n",
    "        product_group_no_emb = self.product_group_no_embeddings(product_group_no)\n",
    "        graphical_appearance_no_emb = self.graphical_appearance_no_embeddings(graphical_appearance_no)\n",
    "        colour_group_code_emb = self.colour_group_code_embeddings(colour_group_code)\n",
    "        perceived_colour_value_id_emb = self.perceived_colour_value_id_embeddings(perceived_colour_value_id)\n",
    "        perceived_colour_master_id_emb = self.perceived_colour_master_id_embeddings(perceived_colour_master_id)\n",
    "        department_no_emb = self.department_no_embeddings(department_no)\n",
    "        index_code_emb = self.index_code_embeddings(index_code)\n",
    "        index_group_no_emb = self.index_group_no_embeddings(index_group_no)\n",
    "        section_no_emb = self.section_no_embeddings(section_no)\n",
    "        garment_group_no_emb = self.garment_group_no_embeddings(garment_group_no)\n",
    "        \n",
    "        concatenated_emb = torch.concat(\n",
    "            [\n",
    "                user_emb, \n",
    "                item_emb,\n",
    "                product_code_emb,\n",
    "                product_type_no_emb,\n",
    "                product_group_no_emb,\n",
    "                graphical_appearance_no_emb,\n",
    "                colour_group_code_emb,\n",
    "                perceived_colour_value_id_emb,\n",
    "                perceived_colour_master_id_emb,\n",
    "                department_no_emb,\n",
    "                index_code_emb,\n",
    "                index_group_no_emb,\n",
    "                section_no_emb,\n",
    "                garment_group_no_emb\n",
    "            ], \n",
    "            dim=1\n",
    "        )\n",
    "        \n",
    "        x = self.fc_1(concatenated_emb)\n",
    "        x = self.relu(x)\n",
    "        x = self.dropout(x)\n",
    "        \n",
    "        x = self.fc_2(x)\n",
    "        x = self.relu(x)\n",
    "        x = self.dropout(x)\n",
    "        \n",
    "        x = self.fc_3(x)\n",
    "        x = self.relu(x)\n",
    "        x = self.dropout(x)\n",
    "        \n",
    "        x = self.fc_4(x)\n",
    "        x = self.sigmoid(x)\n",
    "\n",
    "        return x"
   ]
  },
  {
   "cell_type": "code",
   "execution_count": 73,
   "id": "81c8fc66",
   "metadata": {
    "executionInfo": {
     "elapsed": 517,
     "status": "ok",
     "timestamp": 1649543012660,
     "user": {
      "displayName": "Steven George",
      "userId": "07709250839253394649"
     },
     "user_tz": -60
    },
    "id": "d3d912c1"
   },
   "outputs": [],
   "source": [
    "fashion_rec_v2 = FashionRecV2(embedding_dim=50)"
   ]
  },
  {
   "cell_type": "code",
   "execution_count": 74,
   "id": "f2e25fed",
   "metadata": {
    "colab": {
     "base_uri": "https://localhost:8080/"
    },
    "executionInfo": {
     "elapsed": 3,
     "status": "ok",
     "timestamp": 1649543013198,
     "user": {
      "displayName": "Steven George",
      "userId": "07709250839253394649"
     },
     "user_tz": -60
    },
    "id": "15VhM1vcKeAr",
    "outputId": "0183ec7b-f84e-456c-c57e-1837b96776aa"
   },
   "outputs": [
    {
     "data": {
      "text/plain": [
       "FashionRecV2(\n",
       "  (user_embeddings): Embedding(9208, 50)\n",
       "  (item_embeddings): Embedding(105542, 50)\n",
       "  (product_code_embeddings): Embedding(47224, 50)\n",
       "  (product_type_no_embeddings): Embedding(132, 50)\n",
       "  (product_group_no_embeddings): Embedding(19, 50)\n",
       "  (graphical_appearance_no_embeddings): Embedding(30, 50)\n",
       "  (colour_group_code_embeddings): Embedding(50, 50)\n",
       "  (perceived_colour_value_id_embeddings): Embedding(8, 50)\n",
       "  (perceived_colour_master_id_embeddings): Embedding(20, 50)\n",
       "  (department_no_embeddings): Embedding(299, 50)\n",
       "  (index_code_embeddings): Embedding(10, 50)\n",
       "  (index_group_no_embeddings): Embedding(5, 50)\n",
       "  (section_no_embeddings): Embedding(57, 50)\n",
       "  (garment_group_no_embeddings): Embedding(21, 50)\n",
       "  (fc_1): Linear(in_features=700, out_features=1000, bias=True)\n",
       "  (fc_2): Linear(in_features=1000, out_features=500, bias=True)\n",
       "  (fc_3): Linear(in_features=500, out_features=250, bias=True)\n",
       "  (fc_4): Linear(in_features=250, out_features=1, bias=True)\n",
       "  (relu): ReLU()\n",
       "  (sigmoid): Sigmoid()\n",
       "  (dropout): Dropout(p=0.2, inplace=False)\n",
       ")"
      ]
     },
     "execution_count": 74,
     "metadata": {},
     "output_type": "execute_result"
    }
   ],
   "source": [
    "fashion_rec_v2.to(device)"
   ]
  },
  {
   "cell_type": "code",
   "execution_count": 75,
   "id": "f107210d",
   "metadata": {},
   "outputs": [],
   "source": [
    "# fashion_rec_v2(torch.tensor([0]), torch.tensor([0]), torch.tensor([0]), torch.tensor([0]), torch.tensor([0]), torch.tensor([0]), torch.tensor([0]), torch.tensor([0]), torch.tensor([0]), torch.tensor([0]), torch.tensor([0]), torch.tensor([0]), torch.tensor([0]), torch.tensor([0]), )"
   ]
  },
  {
   "cell_type": "code",
   "execution_count": 76,
   "id": "1bfe3cfa",
   "metadata": {
    "executionInfo": {
     "elapsed": 216,
     "status": "ok",
     "timestamp": 1649543018745,
     "user": {
      "displayName": "Steven George",
      "userId": "07709250839253394649"
     },
     "user_tz": -60
    },
    "id": "0e68dcdb"
   },
   "outputs": [],
   "source": [
    "optimizer = torch.optim.Adam(params=fashion_rec_v2.parameters(), lr=0.001)"
   ]
  },
  {
   "cell_type": "markdown",
   "id": "3225040b",
   "metadata": {
    "id": "Fw5XqVpwhpm2"
   },
   "source": [
    "Switched to BCELoss instead of weighted MSE. Had more success with this."
   ]
  },
  {
   "cell_type": "code",
   "execution_count": 77,
   "id": "91d670a1",
   "metadata": {
    "executionInfo": {
     "elapsed": 2,
     "status": "ok",
     "timestamp": 1649543019514,
     "user": {
      "displayName": "Steven George",
      "userId": "07709250839253394649"
     },
     "user_tz": -60
    },
    "id": "AAeYEiIxegYe"
   },
   "outputs": [],
   "source": [
    "criterion = nn.BCELoss()"
   ]
  },
  {
   "cell_type": "code",
   "execution_count": 78,
   "id": "8f37766e",
   "metadata": {
    "colab": {
     "base_uri": "https://localhost:8080/"
    },
    "executionInfo": {
     "elapsed": 502945,
     "status": "ok",
     "timestamp": 1649543523211,
     "user": {
      "displayName": "Steven George",
      "userId": "07709250839253394649"
     },
     "user_tz": -60
    },
    "id": "792ca20b",
    "outputId": "4d9b506e-711f-4600-a2a0-0b4c9146729a"
   },
   "outputs": [
    {
     "name": "stderr",
     "output_type": "stream",
     "text": [
      "  3%|███▋                                                                                                                                    | 86/3204 [00:23<13:59,  3.72it/s]\n"
     ]
    },
    {
     "ename": "KeyboardInterrupt",
     "evalue": "",
     "output_type": "error",
     "traceback": [
      "\u001b[0;31m---------------------------------------------------------------------------\u001b[0m",
      "\u001b[0;31mKeyboardInterrupt\u001b[0m                         Traceback (most recent call last)",
      "Input \u001b[0;32mIn [78]\u001b[0m, in \u001b[0;36m<module>\u001b[0;34m\u001b[0m\n\u001b[1;32m     31\u001b[0m     pred \u001b[38;5;241m=\u001b[39m fashion_rec_v2(\n\u001b[1;32m     32\u001b[0m         user_id, \n\u001b[1;32m     33\u001b[0m         item_id, \n\u001b[0;32m   (...)\u001b[0m\n\u001b[1;32m     45\u001b[0m         garment_group_no\n\u001b[1;32m     46\u001b[0m     )\n\u001b[1;32m     48\u001b[0m     loss \u001b[38;5;241m=\u001b[39m criterion(pred\u001b[38;5;241m.\u001b[39mflatten(), label\u001b[38;5;241m.\u001b[39mfloat())\n\u001b[0;32m---> 50\u001b[0m     \u001b[43mloss\u001b[49m\u001b[38;5;241;43m.\u001b[39;49m\u001b[43mbackward\u001b[49m\u001b[43m(\u001b[49m\u001b[43m)\u001b[49m  \n\u001b[1;32m     52\u001b[0m     optimizer\u001b[38;5;241m.\u001b[39mstep()\n\u001b[1;32m     54\u001b[0m \u001b[38;5;66;03m# Compute training loss\u001b[39;00m\n",
      "File \u001b[0;32m~/opt/anaconda3/envs/fashion_rec/lib/python3.8/site-packages/torch/_tensor.py:363\u001b[0m, in \u001b[0;36mTensor.backward\u001b[0;34m(self, gradient, retain_graph, create_graph, inputs)\u001b[0m\n\u001b[1;32m    354\u001b[0m \u001b[38;5;28;01mif\u001b[39;00m has_torch_function_unary(\u001b[38;5;28mself\u001b[39m):\n\u001b[1;32m    355\u001b[0m     \u001b[38;5;28;01mreturn\u001b[39;00m handle_torch_function(\n\u001b[1;32m    356\u001b[0m         Tensor\u001b[38;5;241m.\u001b[39mbackward,\n\u001b[1;32m    357\u001b[0m         (\u001b[38;5;28mself\u001b[39m,),\n\u001b[0;32m   (...)\u001b[0m\n\u001b[1;32m    361\u001b[0m         create_graph\u001b[38;5;241m=\u001b[39mcreate_graph,\n\u001b[1;32m    362\u001b[0m         inputs\u001b[38;5;241m=\u001b[39minputs)\n\u001b[0;32m--> 363\u001b[0m \u001b[43mtorch\u001b[49m\u001b[38;5;241;43m.\u001b[39;49m\u001b[43mautograd\u001b[49m\u001b[38;5;241;43m.\u001b[39;49m\u001b[43mbackward\u001b[49m\u001b[43m(\u001b[49m\u001b[38;5;28;43mself\u001b[39;49m\u001b[43m,\u001b[49m\u001b[43m \u001b[49m\u001b[43mgradient\u001b[49m\u001b[43m,\u001b[49m\u001b[43m \u001b[49m\u001b[43mretain_graph\u001b[49m\u001b[43m,\u001b[49m\u001b[43m \u001b[49m\u001b[43mcreate_graph\u001b[49m\u001b[43m,\u001b[49m\u001b[43m \u001b[49m\u001b[43minputs\u001b[49m\u001b[38;5;241;43m=\u001b[39;49m\u001b[43minputs\u001b[49m\u001b[43m)\u001b[49m\n",
      "File \u001b[0;32m~/opt/anaconda3/envs/fashion_rec/lib/python3.8/site-packages/torch/autograd/__init__.py:173\u001b[0m, in \u001b[0;36mbackward\u001b[0;34m(tensors, grad_tensors, retain_graph, create_graph, grad_variables, inputs)\u001b[0m\n\u001b[1;32m    168\u001b[0m     retain_graph \u001b[38;5;241m=\u001b[39m create_graph\n\u001b[1;32m    170\u001b[0m \u001b[38;5;66;03m# The reason we repeat same the comment below is that\u001b[39;00m\n\u001b[1;32m    171\u001b[0m \u001b[38;5;66;03m# some Python versions print out the first line of a multi-line function\u001b[39;00m\n\u001b[1;32m    172\u001b[0m \u001b[38;5;66;03m# calls in the traceback and some print out the last line\u001b[39;00m\n\u001b[0;32m--> 173\u001b[0m \u001b[43mVariable\u001b[49m\u001b[38;5;241;43m.\u001b[39;49m\u001b[43m_execution_engine\u001b[49m\u001b[38;5;241;43m.\u001b[39;49m\u001b[43mrun_backward\u001b[49m\u001b[43m(\u001b[49m\u001b[43m  \u001b[49m\u001b[38;5;66;43;03m# Calls into the C++ engine to run the backward pass\u001b[39;49;00m\n\u001b[1;32m    174\u001b[0m \u001b[43m    \u001b[49m\u001b[43mtensors\u001b[49m\u001b[43m,\u001b[49m\u001b[43m \u001b[49m\u001b[43mgrad_tensors_\u001b[49m\u001b[43m,\u001b[49m\u001b[43m \u001b[49m\u001b[43mretain_graph\u001b[49m\u001b[43m,\u001b[49m\u001b[43m \u001b[49m\u001b[43mcreate_graph\u001b[49m\u001b[43m,\u001b[49m\u001b[43m \u001b[49m\u001b[43minputs\u001b[49m\u001b[43m,\u001b[49m\n\u001b[1;32m    175\u001b[0m \u001b[43m    \u001b[49m\u001b[43mallow_unreachable\u001b[49m\u001b[38;5;241;43m=\u001b[39;49m\u001b[38;5;28;43;01mTrue\u001b[39;49;00m\u001b[43m,\u001b[49m\u001b[43m \u001b[49m\u001b[43maccumulate_grad\u001b[49m\u001b[38;5;241;43m=\u001b[39;49m\u001b[38;5;28;43;01mTrue\u001b[39;49;00m\u001b[43m)\u001b[49m\n",
      "\u001b[0;31mKeyboardInterrupt\u001b[0m: "
     ]
    }
   ],
   "source": [
    "MAX_EPOCHS = 3\n",
    "training_losses = []\n",
    "dev_losses = []\n",
    "\n",
    "for epoch in range(MAX_EPOCHS):\n",
    "    \n",
    "    for data in tqdm(train_loader):\n",
    "        \n",
    "        user_id, item_id, product_code, product_type_no, product_group_no, graphical_appearance_no, colour_group_code, perceived_colour_value_id, perceived_colour_master_id, department_no, index_code, index_group_no, section_no, garment_group_no, label = data\n",
    "        \n",
    "        user_id, item_id, product_code, product_type_no, product_group_no, graphical_appearance_no, colour_group_code, perceived_colour_value_id, perceived_colour_master_id, department_no, index_code, index_group_no, section_no, garment_group_no, label = (\n",
    "            user_id.to(device), \n",
    "            item_id.to(device), \n",
    "            product_code.to(device), \n",
    "            product_type_no.to(device), \n",
    "            product_group_no.to(device), \n",
    "            graphical_appearance_no.to(device), \n",
    "            colour_group_code.to(device), \n",
    "            perceived_colour_value_id.to(device), \n",
    "            perceived_colour_master_id.to(device), \n",
    "            department_no.to(device), \n",
    "            index_code.to(device), \n",
    "            index_group_no.to(device), \n",
    "            section_no.to(device), \n",
    "            garment_group_no.to(device), \n",
    "            label.to(device)\n",
    "        )    \n",
    "\n",
    "        optimizer.zero_grad()  # Set gradients to 0 otherwise will accumulate\n",
    "\n",
    "        pred = fashion_rec_v2(\n",
    "            user_id, \n",
    "            item_id, \n",
    "            product_code, \n",
    "            product_type_no, \n",
    "            product_group_no, \n",
    "            graphical_appearance_no, \n",
    "            colour_group_code, \n",
    "            perceived_colour_value_id, \n",
    "            perceived_colour_master_id, \n",
    "            department_no, \n",
    "            index_code, \n",
    "            index_group_no, \n",
    "            section_no, \n",
    "            garment_group_no\n",
    "        )\n",
    "\n",
    "        loss = criterion(pred.flatten(), label.float())\n",
    "\n",
    "        loss.backward()  \n",
    "        \n",
    "        optimizer.step()\n",
    "        \n",
    "    # Compute training loss\n",
    "    \n",
    "    total_train_loss = 0\n",
    "\n",
    "    fashion_rec_v2.eval()\n",
    "\n",
    "    with torch.no_grad():\n",
    "        for data in tqdm(DataLoader(train_dataset, batch_size=BATCH_SIZE*4)):\n",
    "            \n",
    "            user_id, item_id, product_code, product_type_no, product_group_no, graphical_appearance_no, colour_group_code, perceived_colour_value_id, perceived_colour_master_id, department_no, index_code, index_group_no, section_no, garment_group_no, label = data\n",
    "        \n",
    "            user_id, item_id, product_code, product_type_no, product_group_no, graphical_appearance_no, colour_group_code, perceived_colour_value_id, perceived_colour_master_id, department_no, index_code, index_group_no, section_no, garment_group_no, label = (\n",
    "                user_id.to(device), \n",
    "                item_id.to(device), \n",
    "                product_code.to(device), \n",
    "                product_type_no.to(device), \n",
    "                product_group_no.to(device), \n",
    "                graphical_appearance_no.to(device), \n",
    "                colour_group_code.to(device), \n",
    "                perceived_colour_value_id.to(device), \n",
    "                perceived_colour_master_id.to(device), \n",
    "                department_no.to(device), \n",
    "                index_code.to(device), \n",
    "                index_group_no.to(device), \n",
    "                section_no.to(device), \n",
    "                garment_group_no.to(device), \n",
    "                label.to(device)\n",
    "            )    \n",
    "\n",
    "            optimizer.zero_grad()  # Set gradients to 0 otherwise will accumulate\n",
    "\n",
    "            pred = fashion_rec_v2(\n",
    "                user_id, \n",
    "                item_id, \n",
    "                product_code, \n",
    "                product_type_no, \n",
    "                product_group_no, \n",
    "                graphical_appearance_no, \n",
    "                colour_group_code, \n",
    "                perceived_colour_value_id, \n",
    "                perceived_colour_master_id, \n",
    "                department_no, \n",
    "                index_code, \n",
    "                index_group_no, \n",
    "                section_no, \n",
    "                garment_group_no\n",
    "            )\n",
    "\n",
    "            loss = nn.BCELoss(reduction='sum')(pred.flatten(), label.float())\n",
    "\n",
    "            total_train_loss += loss.item()\n",
    "\n",
    "        mean_train_loss = total_train_loss / len(train_dataset)\n",
    "\n",
    "        print(f\"Training loss: {mean_train_loss}\")\n",
    "        training_losses.append(mean_train_loss)\n",
    "    \n",
    "    # Compute dev loss\n",
    "    \n",
    "    total_dev_loss = 0\n",
    "\n",
    "    with torch.no_grad():\n",
    "        for data in tqdm(DataLoader(dev_dataset, batch_size=BATCH_SIZE*4)):\n",
    "            \n",
    "            user_id, item_id, product_code, product_type_no, product_group_no, graphical_appearance_no, colour_group_code, perceived_colour_value_id, perceived_colour_master_id, department_no, index_code, index_group_no, section_no, garment_group_no, label = data\n",
    "        \n",
    "            user_id, item_id, product_code, product_type_no, product_group_no, graphical_appearance_no, colour_group_code, perceived_colour_value_id, perceived_colour_master_id, department_no, index_code, index_group_no, section_no, garment_group_no, label = (\n",
    "                user_id.to(device), \n",
    "                item_id.to(device), \n",
    "                product_code.to(device), \n",
    "                product_type_no.to(device), \n",
    "                product_group_no.to(device), \n",
    "                graphical_appearance_no.to(device), \n",
    "                colour_group_code.to(device), \n",
    "                perceived_colour_value_id.to(device), \n",
    "                perceived_colour_master_id.to(device), \n",
    "                department_no.to(device), \n",
    "                index_code.to(device), \n",
    "                index_group_no.to(device), \n",
    "                section_no.to(device), \n",
    "                garment_group_no.to(device), \n",
    "                label.to(device)\n",
    "            )    \n",
    "\n",
    "            optimizer.zero_grad()  # Set gradients to 0 otherwise will accumulate\n",
    "\n",
    "            pred = fashion_rec_v2(\n",
    "                user_id, \n",
    "                item_id, \n",
    "                product_code, \n",
    "                product_type_no, \n",
    "                product_group_no, \n",
    "                graphical_appearance_no, \n",
    "                colour_group_code, \n",
    "                perceived_colour_value_id, \n",
    "                perceived_colour_master_id, \n",
    "                department_no, \n",
    "                index_code, \n",
    "                index_group_no, \n",
    "                section_no, \n",
    "                garment_group_no\n",
    "            )\n",
    "\n",
    "            loss = nn.BCELoss(reduction='sum')(pred.flatten(), label.float())\n",
    "\n",
    "            total_dev_loss += loss.item()\n",
    "\n",
    "        mean_dev_loss = total_dev_loss / len(dev_dataset)\n",
    "\n",
    "        print(f\"Dev loss: {mean_dev_loss}\")\n",
    "        dev_losses.append(mean_dev_loss)\n",
    "    \n",
    "    fashion_rec_v2.train()"
   ]
  },
  {
   "cell_type": "markdown",
   "id": "d86ac90d",
   "metadata": {
    "id": "b0b951c0"
   },
   "source": [
    "### Test set evaluation"
   ]
  },
  {
   "cell_type": "code",
   "execution_count": 190,
   "id": "e09a85d8",
   "metadata": {
    "executionInfo": {
     "elapsed": 246,
     "status": "ok",
     "timestamp": 1649544414735,
     "user": {
      "displayName": "Steven George",
      "userId": "07709250839253394649"
     },
     "user_tz": -60
    },
    "id": "88fce805"
   },
   "outputs": [],
   "source": [
    "test_set['article_id_idx'] = test_set['article_id'].map(article_id_to_idx)"
   ]
  },
  {
   "cell_type": "code",
   "execution_count": 268,
   "id": "ee252a44",
   "metadata": {
    "colab": {
     "base_uri": "https://localhost:8080/",
     "height": 206
    },
    "executionInfo": {
     "elapsed": 1774,
     "status": "ok",
     "timestamp": 1649544417362,
     "user": {
      "displayName": "Steven George",
      "userId": "07709250839253394649"
     },
     "user_tz": -60
    },
    "id": "60cc11e3",
    "outputId": "ca1ef7b6-2e9b-420f-c47e-601c79c27cce"
   },
   "outputs": [
    {
     "data": {
      "text/html": [
       "<div>\n",
       "<style scoped>\n",
       "    .dataframe tbody tr th:only-of-type {\n",
       "        vertical-align: middle;\n",
       "    }\n",
       "\n",
       "    .dataframe tbody tr th {\n",
       "        vertical-align: top;\n",
       "    }\n",
       "\n",
       "    .dataframe thead th {\n",
       "        text-align: right;\n",
       "    }\n",
       "</style>\n",
       "<table border=\"1\" class=\"dataframe\">\n",
       "  <thead>\n",
       "    <tr style=\"text-align: right;\">\n",
       "      <th></th>\n",
       "      <th>customer_id</th>\n",
       "      <th>article_id_idx</th>\n",
       "    </tr>\n",
       "  </thead>\n",
       "  <tbody>\n",
       "    <tr>\n",
       "      <th>0</th>\n",
       "      <td>000058a12d5b43e67d225668fa1f8d618c13dc232df0ca...</td>\n",
       "      <td>[78503]</td>\n",
       "    </tr>\n",
       "    <tr>\n",
       "      <th>1</th>\n",
       "      <td>0015f37f752a41a75c3be6f3f92deedc4c87d039f1758e...</td>\n",
       "      <td>[74893, 74893, 24872, 104987, 9801, 9801, 6912...</td>\n",
       "    </tr>\n",
       "    <tr>\n",
       "      <th>2</th>\n",
       "      <td>00282135561702f5b3b750fa3382d8fd83ce5d761a507e...</td>\n",
       "      <td>[92815, 86041]</td>\n",
       "    </tr>\n",
       "    <tr>\n",
       "      <th>3</th>\n",
       "      <td>00356a94bb9bed341f6dba58ad722974b01a1cbd9f06ef...</td>\n",
       "      <td>[104211, 17044, 17044, 16024, 29250, 98445, 66...</td>\n",
       "    </tr>\n",
       "    <tr>\n",
       "      <th>4</th>\n",
       "      <td>00462904b288681a9facb555f75dd2cf4d0f730a6e0ea7...</td>\n",
       "      <td>[87467, 99966, 42626, 79834, 97540, 103280, 79...</td>\n",
       "    </tr>\n",
       "  </tbody>\n",
       "</table>\n",
       "</div>"
      ],
      "text/plain": [
       "                                         customer_id  \\\n",
       "0  000058a12d5b43e67d225668fa1f8d618c13dc232df0ca...   \n",
       "1  0015f37f752a41a75c3be6f3f92deedc4c87d039f1758e...   \n",
       "2  00282135561702f5b3b750fa3382d8fd83ce5d761a507e...   \n",
       "3  00356a94bb9bed341f6dba58ad722974b01a1cbd9f06ef...   \n",
       "4  00462904b288681a9facb555f75dd2cf4d0f730a6e0ea7...   \n",
       "\n",
       "                                      article_id_idx  \n",
       "0                                            [78503]  \n",
       "1  [74893, 74893, 24872, 104987, 9801, 9801, 6912...  \n",
       "2                                     [92815, 86041]  \n",
       "3  [104211, 17044, 17044, 16024, 29250, 98445, 66...  \n",
       "4  [87467, 99966, 42626, 79834, 97540, 103280, 79...  "
      ]
     },
     "execution_count": 268,
     "metadata": {},
     "output_type": "execute_result"
    }
   ],
   "source": [
    "test_set_by_customer = test_set.groupby('customer_id').apply(lambda x: list(x['article_id_idx'])).reset_index().rename(columns={0: 'article_id_idx'})\n",
    "test_set_by_customer.head()"
   ]
  },
  {
   "cell_type": "code",
   "execution_count": 269,
   "id": "507f5e6e",
   "metadata": {},
   "outputs": [
    {
     "data": {
      "text/plain": [
       "(32995, 6)"
      ]
     },
     "execution_count": 269,
     "metadata": {},
     "output_type": "execute_result"
    }
   ],
   "source": [
    "test_set.shape"
   ]
  },
  {
   "cell_type": "code",
   "execution_count": 270,
   "id": "612522bf",
   "metadata": {},
   "outputs": [
    {
     "data": {
      "text/plain": [
       "2.1266516274572993"
      ]
     },
     "execution_count": 270,
     "metadata": {},
     "output_type": "execute_result"
    }
   ],
   "source": [
    "test_set.shape[0] * 100 / len(dev_dataset) * 9 / 60"
   ]
  },
  {
   "cell_type": "code",
   "execution_count": 271,
   "id": "83d733ff",
   "metadata": {},
   "outputs": [
    {
     "data": {
      "text/html": [
       "<div>\n",
       "<style scoped>\n",
       "    .dataframe tbody tr th:only-of-type {\n",
       "        vertical-align: middle;\n",
       "    }\n",
       "\n",
       "    .dataframe tbody tr th {\n",
       "        vertical-align: top;\n",
       "    }\n",
       "\n",
       "    .dataframe thead th {\n",
       "        text-align: right;\n",
       "    }\n",
       "</style>\n",
       "<table border=\"1\" class=\"dataframe\">\n",
       "  <thead>\n",
       "    <tr style=\"text-align: right;\">\n",
       "      <th></th>\n",
       "      <th>customer_id_idx</th>\n",
       "      <th>article_id_idx</th>\n",
       "      <th>product_code</th>\n",
       "      <th>product_type_no</th>\n",
       "      <th>product_group_no</th>\n",
       "      <th>graphical_appearance_no</th>\n",
       "      <th>colour_group_code</th>\n",
       "      <th>perceived_colour_value_id</th>\n",
       "      <th>perceived_colour_master_id</th>\n",
       "      <th>department_no</th>\n",
       "      <th>index_code</th>\n",
       "      <th>index_group_no</th>\n",
       "      <th>section_no</th>\n",
       "      <th>garment_group_no</th>\n",
       "      <th>purchased</th>\n",
       "    </tr>\n",
       "  </thead>\n",
       "  <tbody>\n",
       "    <tr>\n",
       "      <th>513448</th>\n",
       "      <td>4510</td>\n",
       "      <td>62123</td>\n",
       "      <td>25600</td>\n",
       "      <td>24</td>\n",
       "      <td>0</td>\n",
       "      <td>2</td>\n",
       "      <td>1</td>\n",
       "      <td>1</td>\n",
       "      <td>17</td>\n",
       "      <td>62</td>\n",
       "      <td>0</td>\n",
       "      <td>0</td>\n",
       "      <td>24</td>\n",
       "      <td>3</td>\n",
       "      <td>1</td>\n",
       "    </tr>\n",
       "    <tr>\n",
       "      <th>385048</th>\n",
       "      <td>3881</td>\n",
       "      <td>71087</td>\n",
       "      <td>29480</td>\n",
       "      <td>5</td>\n",
       "      <td>0</td>\n",
       "      <td>0</td>\n",
       "      <td>0</td>\n",
       "      <td>0</td>\n",
       "      <td>0</td>\n",
       "      <td>227</td>\n",
       "      <td>0</td>\n",
       "      <td>0</td>\n",
       "      <td>32</td>\n",
       "      <td>9</td>\n",
       "      <td>1</td>\n",
       "    </tr>\n",
       "    <tr>\n",
       "      <th>255703</th>\n",
       "      <td>3890</td>\n",
       "      <td>47915</td>\n",
       "      <td>19539</td>\n",
       "      <td>22</td>\n",
       "      <td>10</td>\n",
       "      <td>0</td>\n",
       "      <td>0</td>\n",
       "      <td>0</td>\n",
       "      <td>0</td>\n",
       "      <td>21</td>\n",
       "      <td>1</td>\n",
       "      <td>0</td>\n",
       "      <td>14</td>\n",
       "      <td>8</td>\n",
       "      <td>1</td>\n",
       "    </tr>\n",
       "    <tr>\n",
       "      <th>274433</th>\n",
       "      <td>2492</td>\n",
       "      <td>78976</td>\n",
       "      <td>33231</td>\n",
       "      <td>25</td>\n",
       "      <td>11</td>\n",
       "      <td>0</td>\n",
       "      <td>33</td>\n",
       "      <td>4</td>\n",
       "      <td>9</td>\n",
       "      <td>253</td>\n",
       "      <td>0</td>\n",
       "      <td>0</td>\n",
       "      <td>21</td>\n",
       "      <td>16</td>\n",
       "      <td>0</td>\n",
       "    </tr>\n",
       "    <tr>\n",
       "      <th>424014</th>\n",
       "      <td>320</td>\n",
       "      <td>418</td>\n",
       "      <td>124</td>\n",
       "      <td>14</td>\n",
       "      <td>0</td>\n",
       "      <td>3</td>\n",
       "      <td>5</td>\n",
       "      <td>2</td>\n",
       "      <td>3</td>\n",
       "      <td>0</td>\n",
       "      <td>0</td>\n",
       "      <td>0</td>\n",
       "      <td>0</td>\n",
       "      <td>0</td>\n",
       "      <td>1</td>\n",
       "    </tr>\n",
       "  </tbody>\n",
       "</table>\n",
       "</div>"
      ],
      "text/plain": [
       "        customer_id_idx article_id_idx  product_code  product_type_no  \\\n",
       "513448             4510          62123         25600               24   \n",
       "385048             3881          71087         29480                5   \n",
       "255703             3890          47915         19539               22   \n",
       "274433             2492          78976         33231               25   \n",
       "424014              320            418           124               14   \n",
       "\n",
       "        product_group_no  graphical_appearance_no  colour_group_code  \\\n",
       "513448                 0                        2                  1   \n",
       "385048                 0                        0                  0   \n",
       "255703                10                        0                  0   \n",
       "274433                11                        0                 33   \n",
       "424014                 0                        3                  5   \n",
       "\n",
       "        perceived_colour_value_id  perceived_colour_master_id  department_no  \\\n",
       "513448                          1                          17             62   \n",
       "385048                          0                           0            227   \n",
       "255703                          0                           0             21   \n",
       "274433                          4                           9            253   \n",
       "424014                          2                           3              0   \n",
       "\n",
       "        index_code  index_group_no  section_no  garment_group_no  purchased  \n",
       "513448           0               0          24                 3          1  \n",
       "385048           0               0          32                 9          1  \n",
       "255703           1               0          14                 8          1  \n",
       "274433           0               0          21                16          0  \n",
       "424014           0               0           0                 0          1  "
      ]
     },
     "execution_count": 271,
     "metadata": {},
     "output_type": "execute_result"
    }
   ],
   "source": [
    "training_data_full.head()"
   ]
  },
  {
   "cell_type": "code",
   "execution_count": 272,
   "id": "759650e3",
   "metadata": {},
   "outputs": [],
   "source": [
    "top100_items = (train_set.groupby('article_id_idx')['customer_id'].count() / train_set.shape[0]).sort_values(ascending=False).head(1000).index.tolist()"
   ]
  },
  {
   "cell_type": "code",
   "execution_count": 273,
   "id": "8f121c25",
   "metadata": {},
   "outputs": [
    {
     "data": {
      "text/html": [
       "<div>\n",
       "<style scoped>\n",
       "    .dataframe tbody tr th:only-of-type {\n",
       "        vertical-align: middle;\n",
       "    }\n",
       "\n",
       "    .dataframe tbody tr th {\n",
       "        vertical-align: top;\n",
       "    }\n",
       "\n",
       "    .dataframe thead th {\n",
       "        text-align: right;\n",
       "    }\n",
       "</style>\n",
       "<table border=\"1\" class=\"dataframe\">\n",
       "  <thead>\n",
       "    <tr style=\"text-align: right;\">\n",
       "      <th></th>\n",
       "      <th>customer_id_idx</th>\n",
       "    </tr>\n",
       "  </thead>\n",
       "  <tbody>\n",
       "    <tr>\n",
       "      <th>0</th>\n",
       "      <td>0</td>\n",
       "    </tr>\n",
       "    <tr>\n",
       "      <th>1</th>\n",
       "      <td>4003</td>\n",
       "    </tr>\n",
       "    <tr>\n",
       "      <th>2</th>\n",
       "      <td>238</td>\n",
       "    </tr>\n",
       "    <tr>\n",
       "      <th>3</th>\n",
       "      <td>3419</td>\n",
       "    </tr>\n",
       "    <tr>\n",
       "      <th>4</th>\n",
       "      <td>7876</td>\n",
       "    </tr>\n",
       "  </tbody>\n",
       "</table>\n",
       "</div>"
      ],
      "text/plain": [
       "   customer_id_idx\n",
       "0                0\n",
       "1             4003\n",
       "2              238\n",
       "3             3419\n",
       "4             7876"
      ]
     },
     "execution_count": 273,
     "metadata": {},
     "output_type": "execute_result"
    }
   ],
   "source": [
    "test_data = test_set_by_customer.copy()[['customer_id']]\n",
    "test_data['customer_id_idx'] = test_data['customer_id'].map(customer_id_to_idx)\n",
    "test_data.drop(columns='customer_id', inplace=True)\n",
    "test_data.head()"
   ]
  },
  {
   "cell_type": "code",
   "execution_count": 274,
   "id": "2264f006",
   "metadata": {},
   "outputs": [],
   "source": [
    "test_data['join_key'] = 1"
   ]
  },
  {
   "cell_type": "code",
   "execution_count": 275,
   "id": "b676fe1e",
   "metadata": {},
   "outputs": [
    {
     "data": {
      "text/html": [
       "<div>\n",
       "<style scoped>\n",
       "    .dataframe tbody tr th:only-of-type {\n",
       "        vertical-align: middle;\n",
       "    }\n",
       "\n",
       "    .dataframe tbody tr th {\n",
       "        vertical-align: top;\n",
       "    }\n",
       "\n",
       "    .dataframe thead th {\n",
       "        text-align: right;\n",
       "    }\n",
       "</style>\n",
       "<table border=\"1\" class=\"dataframe\">\n",
       "  <thead>\n",
       "    <tr style=\"text-align: right;\">\n",
       "      <th></th>\n",
       "      <th>article_id_idx</th>\n",
       "      <th>join_key</th>\n",
       "    </tr>\n",
       "  </thead>\n",
       "  <tbody>\n",
       "    <tr>\n",
       "      <th>0</th>\n",
       "      <td>53892</td>\n",
       "      <td>1</td>\n",
       "    </tr>\n",
       "    <tr>\n",
       "      <th>1</th>\n",
       "      <td>53893</td>\n",
       "      <td>1</td>\n",
       "    </tr>\n",
       "    <tr>\n",
       "      <th>2</th>\n",
       "      <td>1713</td>\n",
       "      <td>1</td>\n",
       "    </tr>\n",
       "    <tr>\n",
       "      <th>3</th>\n",
       "      <td>24837</td>\n",
       "      <td>1</td>\n",
       "    </tr>\n",
       "    <tr>\n",
       "      <th>4</th>\n",
       "      <td>70221</td>\n",
       "      <td>1</td>\n",
       "    </tr>\n",
       "  </tbody>\n",
       "</table>\n",
       "</div>"
      ],
      "text/plain": [
       "   article_id_idx  join_key\n",
       "0           53892         1\n",
       "1           53893         1\n",
       "2            1713         1\n",
       "3           24837         1\n",
       "4           70221         1"
      ]
     },
     "execution_count": 275,
     "metadata": {},
     "output_type": "execute_result"
    }
   ],
   "source": [
    "top100_items_df = pd.DataFrame({'article_id_idx': top100_items})\n",
    "top100_items_df['join_key'] = 1\n",
    "top100_items_df.head()"
   ]
  },
  {
   "cell_type": "code",
   "execution_count": 276,
   "id": "c6b982ae",
   "metadata": {},
   "outputs": [],
   "source": [
    "test_data = test_data.merge(top100_items_df, on='join_key').drop('join_key', axis=1)"
   ]
  },
  {
   "cell_type": "code",
   "execution_count": 277,
   "id": "84bc059e",
   "metadata": {},
   "outputs": [],
   "source": [
    "test_data = test_data.merge(articles_df[['article_id_idx'] + CATEGORICAL_FEATURES], on=['article_id_idx'])"
   ]
  },
  {
   "cell_type": "code",
   "execution_count": 278,
   "id": "f3e699c0",
   "metadata": {},
   "outputs": [],
   "source": [
    "test_data['purchased'] = 999"
   ]
  },
  {
   "cell_type": "code",
   "execution_count": 279,
   "id": "d49848a9",
   "metadata": {
    "executionInfo": {
     "elapsed": 204,
     "status": "ok",
     "timestamp": 1649543014578,
     "user": {
      "displayName": "Steven George",
      "userId": "07709250839253394649"
     },
     "user_tz": -60
    },
    "id": "4b39d123"
   },
   "outputs": [],
   "source": [
    "test_dataset = PurchasesDatasetWithArticleFeatures(test_data)"
   ]
  },
  {
   "cell_type": "code",
   "execution_count": 280,
   "id": "cf38e48d",
   "metadata": {
    "executionInfo": {
     "elapsed": 2,
     "status": "ok",
     "timestamp": 1649543015341,
     "user": {
      "displayName": "Steven George",
      "userId": "07709250839253394649"
     },
     "user_tz": -60
    },
    "id": "48294797"
   },
   "outputs": [],
   "source": [
    "test_loader = DataLoader(test_dataset, batch_size=BATCH_SIZE*4)  "
   ]
  },
  {
   "cell_type": "code",
   "execution_count": 281,
   "id": "55a48141",
   "metadata": {},
   "outputs": [
    {
     "name": "stderr",
     "output_type": "stream",
     "text": [
      "100%|██████████████████████████████████████████████████████████████████████████████████████████████████████████████████████████████████████| 1125/1125 [05:47<00:00,  3.24it/s]\n"
     ]
    }
   ],
   "source": [
    "test_predictions = []\n",
    "\n",
    "fashion_rec_v2.eval()\n",
    "\n",
    "with torch.no_grad():\n",
    "    for data in tqdm(test_loader):\n",
    "\n",
    "        user_id, item_id, product_code, product_type_no, product_group_no, graphical_appearance_no, colour_group_code, perceived_colour_value_id, perceived_colour_master_id, department_no, index_code, index_group_no, section_no, garment_group_no, label = data\n",
    "\n",
    "        user_id, item_id, product_code, product_type_no, product_group_no, graphical_appearance_no, colour_group_code, perceived_colour_value_id, perceived_colour_master_id, department_no, index_code, index_group_no, section_no, garment_group_no, label = (\n",
    "            user_id.to(device), \n",
    "            item_id.to(device), \n",
    "            product_code.to(device), \n",
    "            product_type_no.to(device), \n",
    "            product_group_no.to(device), \n",
    "            graphical_appearance_no.to(device), \n",
    "            colour_group_code.to(device), \n",
    "            perceived_colour_value_id.to(device), \n",
    "            perceived_colour_master_id.to(device), \n",
    "            department_no.to(device), \n",
    "            index_code.to(device), \n",
    "            index_group_no.to(device), \n",
    "            section_no.to(device), \n",
    "            garment_group_no.to(device), \n",
    "            label.to(device)\n",
    "        )    \n",
    "\n",
    "        pred = fashion_rec_v2(\n",
    "            user_id, \n",
    "            item_id, \n",
    "            product_code, \n",
    "            product_type_no, \n",
    "            product_group_no, \n",
    "            graphical_appearance_no, \n",
    "            colour_group_code, \n",
    "            perceived_colour_value_id, \n",
    "            perceived_colour_master_id, \n",
    "            department_no, \n",
    "            index_code, \n",
    "            index_group_no, \n",
    "            section_no, \n",
    "            garment_group_no\n",
    "        )\n",
    "        \n",
    "        test_predictions += pred.flatten().tolist()"
   ]
  },
  {
   "cell_type": "code",
   "execution_count": 282,
   "id": "7ff94dc9",
   "metadata": {},
   "outputs": [
    {
     "data": {
      "text/plain": [
       "9208000"
      ]
     },
     "execution_count": 282,
     "metadata": {},
     "output_type": "execute_result"
    }
   ],
   "source": [
    "len(test_predictions)"
   ]
  },
  {
   "cell_type": "code",
   "execution_count": 283,
   "id": "22579ede",
   "metadata": {},
   "outputs": [
    {
     "data": {
      "text/plain": [
       "9208000"
      ]
     },
     "execution_count": 283,
     "metadata": {},
     "output_type": "execute_result"
    }
   ],
   "source": [
    "len(test_dataset)"
   ]
  },
  {
   "cell_type": "code",
   "execution_count": 284,
   "id": "8a6de29c",
   "metadata": {},
   "outputs": [],
   "source": [
    "test_data['prediction'] = test_predictions"
   ]
  },
  {
   "cell_type": "code",
   "execution_count": 285,
   "id": "dbeeb6a6",
   "metadata": {},
   "outputs": [],
   "source": [
    "test_data.sort_values(['customer_id_idx', 'prediction'], ascending=False, inplace=True)"
   ]
  },
  {
   "cell_type": "code",
   "execution_count": 286,
   "id": "cd815711",
   "metadata": {},
   "outputs": [
    {
     "data": {
      "text/html": [
       "<div>\n",
       "<style scoped>\n",
       "    .dataframe tbody tr th:only-of-type {\n",
       "        vertical-align: middle;\n",
       "    }\n",
       "\n",
       "    .dataframe tbody tr th {\n",
       "        vertical-align: top;\n",
       "    }\n",
       "\n",
       "    .dataframe thead th {\n",
       "        text-align: right;\n",
       "    }\n",
       "</style>\n",
       "<table border=\"1\" class=\"dataframe\">\n",
       "  <thead>\n",
       "    <tr style=\"text-align: right;\">\n",
       "      <th></th>\n",
       "      <th>customer_id_idx</th>\n",
       "      <th>predictions</th>\n",
       "    </tr>\n",
       "  </thead>\n",
       "  <tbody>\n",
       "    <tr>\n",
       "      <th>0</th>\n",
       "      <td>0</td>\n",
       "      <td>[2236, 73660, 22639, 86195, 88302, 80935, 9158...</td>\n",
       "    </tr>\n",
       "    <tr>\n",
       "      <th>1</th>\n",
       "      <td>1</td>\n",
       "      <td>[2236, 73660, 22639, 88302, 86195, 80935, 9158...</td>\n",
       "    </tr>\n",
       "    <tr>\n",
       "      <th>2</th>\n",
       "      <td>2</td>\n",
       "      <td>[2236, 73660, 22639, 88302, 91582, 86195, 8093...</td>\n",
       "    </tr>\n",
       "    <tr>\n",
       "      <th>3</th>\n",
       "      <td>3</td>\n",
       "      <td>[2236, 88302, 73660, 22639, 91582, 86195, 8093...</td>\n",
       "    </tr>\n",
       "    <tr>\n",
       "      <th>4</th>\n",
       "      <td>4</td>\n",
       "      <td>[2236, 73660, 22639, 86195, 80935, 88302, 9158...</td>\n",
       "    </tr>\n",
       "    <tr>\n",
       "      <th>...</th>\n",
       "      <td>...</td>\n",
       "      <td>...</td>\n",
       "    </tr>\n",
       "    <tr>\n",
       "      <th>9203</th>\n",
       "      <td>9203</td>\n",
       "      <td>[2236, 73660, 22639, 88302, 91582, 86195, 8093...</td>\n",
       "    </tr>\n",
       "    <tr>\n",
       "      <th>9204</th>\n",
       "      <td>9204</td>\n",
       "      <td>[2236, 73660, 22639, 88302, 91582, 86195, 8093...</td>\n",
       "    </tr>\n",
       "    <tr>\n",
       "      <th>9205</th>\n",
       "      <td>9205</td>\n",
       "      <td>[2236, 73660, 22639, 88302, 86195, 91582, 8093...</td>\n",
       "    </tr>\n",
       "    <tr>\n",
       "      <th>9206</th>\n",
       "      <td>9206</td>\n",
       "      <td>[2236, 73660, 22639, 88302, 91582, 86195, 8093...</td>\n",
       "    </tr>\n",
       "    <tr>\n",
       "      <th>9207</th>\n",
       "      <td>9207</td>\n",
       "      <td>[2236, 73660, 22639, 88302, 91582, 86195, 8093...</td>\n",
       "    </tr>\n",
       "  </tbody>\n",
       "</table>\n",
       "<p>9208 rows × 2 columns</p>\n",
       "</div>"
      ],
      "text/plain": [
       "      customer_id_idx                                        predictions\n",
       "0                   0  [2236, 73660, 22639, 86195, 88302, 80935, 9158...\n",
       "1                   1  [2236, 73660, 22639, 88302, 86195, 80935, 9158...\n",
       "2                   2  [2236, 73660, 22639, 88302, 91582, 86195, 8093...\n",
       "3                   3  [2236, 88302, 73660, 22639, 91582, 86195, 8093...\n",
       "4                   4  [2236, 73660, 22639, 86195, 80935, 88302, 9158...\n",
       "...               ...                                                ...\n",
       "9203             9203  [2236, 73660, 22639, 88302, 91582, 86195, 8093...\n",
       "9204             9204  [2236, 73660, 22639, 88302, 91582, 86195, 8093...\n",
       "9205             9205  [2236, 73660, 22639, 88302, 86195, 91582, 8093...\n",
       "9206             9206  [2236, 73660, 22639, 88302, 91582, 86195, 8093...\n",
       "9207             9207  [2236, 73660, 22639, 88302, 91582, 86195, 8093...\n",
       "\n",
       "[9208 rows x 2 columns]"
      ]
     },
     "execution_count": 286,
     "metadata": {},
     "output_type": "execute_result"
    }
   ],
   "source": [
    "test_data_top12 = test_data.groupby('customer_id_idx').head(12).groupby('customer_id_idx').apply(lambda x: list(x['article_id_idx'])).reset_index().rename(columns={0: 'predictions'})\n",
    "test_data_top12"
   ]
  },
  {
   "cell_type": "code",
   "execution_count": 287,
   "id": "59436f56",
   "metadata": {},
   "outputs": [],
   "source": [
    "test_set_by_customer['customer_id_idx'] = test_set_by_customer['customer_id'].map(customer_id_to_idx)"
   ]
  },
  {
   "cell_type": "code",
   "execution_count": 288,
   "id": "b488bb80",
   "metadata": {},
   "outputs": [
    {
     "data": {
      "text/html": [
       "<div>\n",
       "<style scoped>\n",
       "    .dataframe tbody tr th:only-of-type {\n",
       "        vertical-align: middle;\n",
       "    }\n",
       "\n",
       "    .dataframe tbody tr th {\n",
       "        vertical-align: top;\n",
       "    }\n",
       "\n",
       "    .dataframe thead th {\n",
       "        text-align: right;\n",
       "    }\n",
       "</style>\n",
       "<table border=\"1\" class=\"dataframe\">\n",
       "  <thead>\n",
       "    <tr style=\"text-align: right;\">\n",
       "      <th></th>\n",
       "      <th>customer_id</th>\n",
       "      <th>article_id_idx</th>\n",
       "      <th>customer_id_idx</th>\n",
       "    </tr>\n",
       "  </thead>\n",
       "  <tbody>\n",
       "    <tr>\n",
       "      <th>0</th>\n",
       "      <td>000058a12d5b43e67d225668fa1f8d618c13dc232df0ca...</td>\n",
       "      <td>[78503]</td>\n",
       "      <td>0</td>\n",
       "    </tr>\n",
       "    <tr>\n",
       "      <th>1</th>\n",
       "      <td>0015f37f752a41a75c3be6f3f92deedc4c87d039f1758e...</td>\n",
       "      <td>[74893, 74893, 24872, 104987, 9801, 9801, 6912...</td>\n",
       "      <td>4003</td>\n",
       "    </tr>\n",
       "    <tr>\n",
       "      <th>2</th>\n",
       "      <td>00282135561702f5b3b750fa3382d8fd83ce5d761a507e...</td>\n",
       "      <td>[92815, 86041]</td>\n",
       "      <td>238</td>\n",
       "    </tr>\n",
       "    <tr>\n",
       "      <th>3</th>\n",
       "      <td>00356a94bb9bed341f6dba58ad722974b01a1cbd9f06ef...</td>\n",
       "      <td>[104211, 17044, 17044, 16024, 29250, 98445, 66...</td>\n",
       "      <td>3419</td>\n",
       "    </tr>\n",
       "    <tr>\n",
       "      <th>4</th>\n",
       "      <td>00462904b288681a9facb555f75dd2cf4d0f730a6e0ea7...</td>\n",
       "      <td>[87467, 99966, 42626, 79834, 97540, 103280, 79...</td>\n",
       "      <td>7876</td>\n",
       "    </tr>\n",
       "  </tbody>\n",
       "</table>\n",
       "</div>"
      ],
      "text/plain": [
       "                                         customer_id  \\\n",
       "0  000058a12d5b43e67d225668fa1f8d618c13dc232df0ca...   \n",
       "1  0015f37f752a41a75c3be6f3f92deedc4c87d039f1758e...   \n",
       "2  00282135561702f5b3b750fa3382d8fd83ce5d761a507e...   \n",
       "3  00356a94bb9bed341f6dba58ad722974b01a1cbd9f06ef...   \n",
       "4  00462904b288681a9facb555f75dd2cf4d0f730a6e0ea7...   \n",
       "\n",
       "                                      article_id_idx  customer_id_idx  \n",
       "0                                            [78503]                0  \n",
       "1  [74893, 74893, 24872, 104987, 9801, 9801, 6912...             4003  \n",
       "2                                     [92815, 86041]              238  \n",
       "3  [104211, 17044, 17044, 16024, 29250, 98445, 66...             3419  \n",
       "4  [87467, 99966, 42626, 79834, 97540, 103280, 79...             7876  "
      ]
     },
     "execution_count": 288,
     "metadata": {},
     "output_type": "execute_result"
    }
   ],
   "source": [
    "test_set_by_customer.head()"
   ]
  },
  {
   "cell_type": "code",
   "execution_count": 289,
   "id": "1c6a9380",
   "metadata": {},
   "outputs": [
    {
     "data": {
      "text/html": [
       "<div>\n",
       "<style scoped>\n",
       "    .dataframe tbody tr th:only-of-type {\n",
       "        vertical-align: middle;\n",
       "    }\n",
       "\n",
       "    .dataframe tbody tr th {\n",
       "        vertical-align: top;\n",
       "    }\n",
       "\n",
       "    .dataframe thead th {\n",
       "        text-align: right;\n",
       "    }\n",
       "</style>\n",
       "<table border=\"1\" class=\"dataframe\">\n",
       "  <thead>\n",
       "    <tr style=\"text-align: right;\">\n",
       "      <th></th>\n",
       "      <th>customer_id</th>\n",
       "      <th>article_id_idx</th>\n",
       "      <th>customer_id_idx</th>\n",
       "      <th>predictions</th>\n",
       "    </tr>\n",
       "  </thead>\n",
       "  <tbody>\n",
       "    <tr>\n",
       "      <th>0</th>\n",
       "      <td>000058a12d5b43e67d225668fa1f8d618c13dc232df0ca...</td>\n",
       "      <td>[78503]</td>\n",
       "      <td>0</td>\n",
       "      <td>[2236, 73660, 22639, 86195, 88302, 80935, 9158...</td>\n",
       "    </tr>\n",
       "    <tr>\n",
       "      <th>1</th>\n",
       "      <td>0015f37f752a41a75c3be6f3f92deedc4c87d039f1758e...</td>\n",
       "      <td>[74893, 74893, 24872, 104987, 9801, 9801, 6912...</td>\n",
       "      <td>4003</td>\n",
       "      <td>[2236, 73660, 22639, 88302, 86195, 80935, 9158...</td>\n",
       "    </tr>\n",
       "    <tr>\n",
       "      <th>2</th>\n",
       "      <td>00282135561702f5b3b750fa3382d8fd83ce5d761a507e...</td>\n",
       "      <td>[92815, 86041]</td>\n",
       "      <td>238</td>\n",
       "      <td>[2236, 73660, 22639, 88302, 91582, 86195, 8093...</td>\n",
       "    </tr>\n",
       "    <tr>\n",
       "      <th>3</th>\n",
       "      <td>00356a94bb9bed341f6dba58ad722974b01a1cbd9f06ef...</td>\n",
       "      <td>[104211, 17044, 17044, 16024, 29250, 98445, 66...</td>\n",
       "      <td>3419</td>\n",
       "      <td>[2236, 73660, 22639, 86195, 80935, 63471, 6480...</td>\n",
       "    </tr>\n",
       "    <tr>\n",
       "      <th>4</th>\n",
       "      <td>00462904b288681a9facb555f75dd2cf4d0f730a6e0ea7...</td>\n",
       "      <td>[87467, 99966, 42626, 79834, 97540, 103280, 79...</td>\n",
       "      <td>7876</td>\n",
       "      <td>[2236, 73660, 22639, 86195, 88302, 80935, 9158...</td>\n",
       "    </tr>\n",
       "  </tbody>\n",
       "</table>\n",
       "</div>"
      ],
      "text/plain": [
       "                                         customer_id  \\\n",
       "0  000058a12d5b43e67d225668fa1f8d618c13dc232df0ca...   \n",
       "1  0015f37f752a41a75c3be6f3f92deedc4c87d039f1758e...   \n",
       "2  00282135561702f5b3b750fa3382d8fd83ce5d761a507e...   \n",
       "3  00356a94bb9bed341f6dba58ad722974b01a1cbd9f06ef...   \n",
       "4  00462904b288681a9facb555f75dd2cf4d0f730a6e0ea7...   \n",
       "\n",
       "                                      article_id_idx  customer_id_idx  \\\n",
       "0                                            [78503]                0   \n",
       "1  [74893, 74893, 24872, 104987, 9801, 9801, 6912...             4003   \n",
       "2                                     [92815, 86041]              238   \n",
       "3  [104211, 17044, 17044, 16024, 29250, 98445, 66...             3419   \n",
       "4  [87467, 99966, 42626, 79834, 97540, 103280, 79...             7876   \n",
       "\n",
       "                                         predictions  \n",
       "0  [2236, 73660, 22639, 86195, 88302, 80935, 9158...  \n",
       "1  [2236, 73660, 22639, 88302, 86195, 80935, 9158...  \n",
       "2  [2236, 73660, 22639, 88302, 91582, 86195, 8093...  \n",
       "3  [2236, 73660, 22639, 86195, 80935, 63471, 6480...  \n",
       "4  [2236, 73660, 22639, 86195, 88302, 80935, 9158...  "
      ]
     },
     "execution_count": 289,
     "metadata": {},
     "output_type": "execute_result"
    }
   ],
   "source": [
    "test_set_by_customer = test_set_by_customer.merge(test_data_top12, on='customer_id_idx')\n",
    "test_set_by_customer.head()"
   ]
  },
  {
   "cell_type": "code",
   "execution_count": 290,
   "id": "5f087524",
   "metadata": {
    "executionInfo": {
     "elapsed": 3,
     "status": "ok",
     "timestamp": 1649544419082,
     "user": {
      "displayName": "Steven George",
      "userId": "07709250839253394649"
     },
     "user_tz": -60
    },
    "id": "8015baf0"
   },
   "outputs": [],
   "source": [
    "predictions = test_set_by_customer['predictions'].to_list()"
   ]
  },
  {
   "cell_type": "code",
   "execution_count": 291,
   "id": "382567c1",
   "metadata": {
    "executionInfo": {
     "elapsed": 3,
     "status": "ok",
     "timestamp": 1649544419951,
     "user": {
      "displayName": "Steven George",
      "userId": "07709250839253394649"
     },
     "user_tz": -60
    },
    "id": "9b0b7f2d"
   },
   "outputs": [],
   "source": [
    "actuals = test_set_by_customer['article_id_idx'].to_list()"
   ]
  },
  {
   "cell_type": "code",
   "execution_count": 292,
   "id": "a8756bbd",
   "metadata": {
    "colab": {
     "base_uri": "https://localhost:8080/"
    },
    "executionInfo": {
     "elapsed": 219,
     "status": "ok",
     "timestamp": 1649544425909,
     "user": {
      "displayName": "Steven George",
      "userId": "07709250839253394649"
     },
     "user_tz": -60
    },
    "id": "c4d19423",
    "outputId": "17ace643-16c7-400a-bcd1-302ae9033e98"
   },
   "outputs": [
    {
     "data": {
      "text/plain": [
       "0.0002395478250712829"
      ]
     },
     "execution_count": 292,
     "metadata": {},
     "output_type": "execute_result"
    }
   ],
   "source": [
    "mapk(actuals, predictions, k=12)"
   ]
  },
  {
   "cell_type": "markdown",
   "id": "435ce7da",
   "metadata": {
    "id": "JzATzjCkhDPB"
   },
   "source": [
    "CF doesn't do better than simple heuristic (top 12 most popular). Possibly explains why earlier attempts at training embeddings failed."
   ]
  }
 ],
 "metadata": {
  "accelerator": "GPU",
  "colab": {
   "machine_shape": "hm",
   "name": "09-CF Weighted Matrix Factorisation.ipynb",
   "provenance": []
  },
  "kernelspec": {
   "display_name": "Python 3 (ipykernel)",
   "language": "python",
   "name": "python3"
  },
  "language_info": {
   "codemirror_mode": {
    "name": "ipython",
    "version": 3
   },
   "file_extension": ".py",
   "mimetype": "text/x-python",
   "name": "python",
   "nbconvert_exporter": "python",
   "pygments_lexer": "ipython3",
   "version": "3.8.12"
  }
 },
 "nbformat": 4,
 "nbformat_minor": 5
}
