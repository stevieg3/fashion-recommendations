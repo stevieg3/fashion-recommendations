{
 "cells": [
  {
   "cell_type": "code",
   "execution_count": 2,
   "id": "1ac4d37a",
   "metadata": {
    "colab": {
     "base_uri": "https://localhost:8080/"
    },
    "executionInfo": {
     "elapsed": 3254,
     "status": "ok",
     "timestamp": 1651409327837,
     "user": {
      "displayName": "Steven George",
      "userId": "07709250839253394649"
     },
     "user_tz": -60
    },
    "id": "v099b4lQvmL4",
    "outputId": "4a259a23-0623-40c0-f4a0-837399bed495"
   },
   "outputs": [
    {
     "name": "stdout",
     "output_type": "stream",
     "text": [
      "Requirement already satisfied: sentence-transformers in /usr/local/lib/python3.7/dist-packages (2.2.0)\n",
      "Requirement already satisfied: torch>=1.6.0 in /usr/local/lib/python3.7/dist-packages (from sentence-transformers) (1.11.0+cu113)\n",
      "Requirement already satisfied: transformers<5.0.0,>=4.6.0 in /usr/local/lib/python3.7/dist-packages (from sentence-transformers) (4.18.0)\n",
      "Requirement already satisfied: scipy in /usr/local/lib/python3.7/dist-packages (from sentence-transformers) (1.4.1)\n",
      "Requirement already satisfied: torchvision in /usr/local/lib/python3.7/dist-packages (from sentence-transformers) (0.12.0+cu113)\n",
      "Requirement already satisfied: numpy in /usr/local/lib/python3.7/dist-packages (from sentence-transformers) (1.21.6)\n",
      "Requirement already satisfied: nltk in /usr/local/lib/python3.7/dist-packages (from sentence-transformers) (3.2.5)\n",
      "Requirement already satisfied: sentencepiece in /usr/local/lib/python3.7/dist-packages (from sentence-transformers) (0.1.96)\n",
      "Requirement already satisfied: huggingface-hub in /usr/local/lib/python3.7/dist-packages (from sentence-transformers) (0.5.1)\n",
      "Requirement already satisfied: scikit-learn in /usr/local/lib/python3.7/dist-packages (from sentence-transformers) (1.0.2)\n",
      "Requirement already satisfied: tqdm in /usr/local/lib/python3.7/dist-packages (from sentence-transformers) (4.64.0)\n",
      "Requirement already satisfied: typing-extensions in /usr/local/lib/python3.7/dist-packages (from torch>=1.6.0->sentence-transformers) (4.2.0)\n",
      "Requirement already satisfied: pyyaml>=5.1 in /usr/local/lib/python3.7/dist-packages (from transformers<5.0.0,>=4.6.0->sentence-transformers) (6.0)\n",
      "Requirement already satisfied: filelock in /usr/local/lib/python3.7/dist-packages (from transformers<5.0.0,>=4.6.0->sentence-transformers) (3.6.0)\n",
      "Requirement already satisfied: sacremoses in /usr/local/lib/python3.7/dist-packages (from transformers<5.0.0,>=4.6.0->sentence-transformers) (0.0.49)\n",
      "Requirement already satisfied: requests in /usr/local/lib/python3.7/dist-packages (from transformers<5.0.0,>=4.6.0->sentence-transformers) (2.23.0)\n",
      "Requirement already satisfied: packaging>=20.0 in /usr/local/lib/python3.7/dist-packages (from transformers<5.0.0,>=4.6.0->sentence-transformers) (21.3)\n",
      "Requirement already satisfied: tokenizers!=0.11.3,<0.13,>=0.11.1 in /usr/local/lib/python3.7/dist-packages (from transformers<5.0.0,>=4.6.0->sentence-transformers) (0.12.1)\n",
      "Requirement already satisfied: regex!=2019.12.17 in /usr/local/lib/python3.7/dist-packages (from transformers<5.0.0,>=4.6.0->sentence-transformers) (2019.12.20)\n",
      "Requirement already satisfied: importlib-metadata in /usr/local/lib/python3.7/dist-packages (from transformers<5.0.0,>=4.6.0->sentence-transformers) (4.11.3)\n",
      "Requirement already satisfied: pyparsing!=3.0.5,>=2.0.2 in /usr/local/lib/python3.7/dist-packages (from packaging>=20.0->transformers<5.0.0,>=4.6.0->sentence-transformers) (3.0.8)\n",
      "Requirement already satisfied: zipp>=0.5 in /usr/local/lib/python3.7/dist-packages (from importlib-metadata->transformers<5.0.0,>=4.6.0->sentence-transformers) (3.8.0)\n",
      "Requirement already satisfied: six in /usr/local/lib/python3.7/dist-packages (from nltk->sentence-transformers) (1.15.0)\n",
      "Requirement already satisfied: chardet<4,>=3.0.2 in /usr/local/lib/python3.7/dist-packages (from requests->transformers<5.0.0,>=4.6.0->sentence-transformers) (3.0.4)\n",
      "Requirement already satisfied: certifi>=2017.4.17 in /usr/local/lib/python3.7/dist-packages (from requests->transformers<5.0.0,>=4.6.0->sentence-transformers) (2021.10.8)\n",
      "Requirement already satisfied: idna<3,>=2.5 in /usr/local/lib/python3.7/dist-packages (from requests->transformers<5.0.0,>=4.6.0->sentence-transformers) (2.10)\n",
      "Requirement already satisfied: urllib3!=1.25.0,!=1.25.1,<1.26,>=1.21.1 in /usr/local/lib/python3.7/dist-packages (from requests->transformers<5.0.0,>=4.6.0->sentence-transformers) (1.24.3)\n",
      "Requirement already satisfied: joblib in /usr/local/lib/python3.7/dist-packages (from sacremoses->transformers<5.0.0,>=4.6.0->sentence-transformers) (1.1.0)\n",
      "Requirement already satisfied: click in /usr/local/lib/python3.7/dist-packages (from sacremoses->transformers<5.0.0,>=4.6.0->sentence-transformers) (7.1.2)\n",
      "Requirement already satisfied: threadpoolctl>=2.0.0 in /usr/local/lib/python3.7/dist-packages (from scikit-learn->sentence-transformers) (3.1.0)\n",
      "Requirement already satisfied: pillow!=8.3.*,>=5.3.0 in /usr/local/lib/python3.7/dist-packages (from torchvision->sentence-transformers) (7.1.2)\n"
     ]
    }
   ],
   "source": [
    "!pip install -U sentence-transformers"
   ]
  },
  {
   "cell_type": "code",
   "execution_count": 3,
   "id": "0cc32ec2",
   "metadata": {
    "colab": {
     "base_uri": "https://localhost:8080/"
    },
    "executionInfo": {
     "elapsed": 3210,
     "status": "ok",
     "timestamp": 1651409331042,
     "user": {
      "displayName": "Steven George",
      "userId": "07709250839253394649"
     },
     "user_tz": -60
    },
    "id": "684c29dc",
    "outputId": "20372b5e-61e6-403f-8590-9a9c8594986c"
   },
   "outputs": [
    {
     "name": "stdout",
     "output_type": "stream",
     "text": [
      "Mounted at /content/drive\n"
     ]
    }
   ],
   "source": [
    "from google.colab import drive\n",
    "drive.mount('/content/drive', force_remount=True)"
   ]
  },
  {
   "cell_type": "code",
   "execution_count": 4,
   "id": "5e33b689",
   "metadata": {
    "executionInfo": {
     "elapsed": 840,
     "status": "ok",
     "timestamp": 1651409331879,
     "user": {
      "displayName": "Steven George",
      "userId": "07709250839253394649"
     },
     "user_tz": -60
    },
    "id": "ed2a56ae"
   },
   "outputs": [],
   "source": [
    "import os\n",
    "import datetime\n",
    "\n",
    "import pandas as pd\n",
    "import numpy as np\n",
    "import matplotlib.pyplot as plt\n",
    "import torch\n",
    "import torch.nn as nn\n",
    "from torch.utils.data import Dataset, DataLoader\n",
    "from tqdm import tqdm"
   ]
  },
  {
   "cell_type": "code",
   "execution_count": 5,
   "id": "f7627e2f",
   "metadata": {
    "executionInfo": {
     "elapsed": 7,
     "status": "ok",
     "timestamp": 1651409331880,
     "user": {
      "displayName": "Steven George",
      "userId": "07709250839253394649"
     },
     "user_tz": -60
    },
    "id": "5c91b0f7"
   },
   "outputs": [],
   "source": [
    "# os.chdir('..')\n",
    "os.chdir('drive/My Drive/Colab Notebooks/Github/fashion-recommendations') "
   ]
  },
  {
   "cell_type": "code",
   "execution_count": 6,
   "id": "657ce776",
   "metadata": {
    "executionInfo": {
     "elapsed": 6,
     "status": "ok",
     "timestamp": 1651409331880,
     "user": {
      "displayName": "Steven George",
      "userId": "07709250839253394649"
     },
     "user_tz": -60
    },
    "id": "66c257b2"
   },
   "outputs": [],
   "source": [
    "from fashion_recommendations.metrics.average_precision import mapk"
   ]
  },
  {
   "cell_type": "code",
   "execution_count": 7,
   "id": "402f5b8a",
   "metadata": {
    "executionInfo": {
     "elapsed": 5,
     "status": "ok",
     "timestamp": 1651409331880,
     "user": {
      "displayName": "Steven George",
      "userId": "07709250839253394649"
     },
     "user_tz": -60
    },
    "id": "f7a7dcef"
   },
   "outputs": [],
   "source": [
    "pd.options.display.max_columns = None"
   ]
  },
  {
   "cell_type": "code",
   "execution_count": 8,
   "id": "1453920b",
   "metadata": {
    "colab": {
     "base_uri": "https://localhost:8080/"
    },
    "executionInfo": {
     "elapsed": 6,
     "status": "ok",
     "timestamp": 1651409331881,
     "user": {
      "displayName": "Steven George",
      "userId": "07709250839253394649"
     },
     "user_tz": -60
    },
    "id": "c8a9e80a",
    "outputId": "18e22a32-4e25-4bbe-9252-4890c3f2bf65"
   },
   "outputs": [
    {
     "name": "stdout",
     "output_type": "stream",
     "text": [
      "cuda:0\n"
     ]
    }
   ],
   "source": [
    "device = torch.device(\"cuda:0\" if torch.cuda.is_available() else \"cpu\")\n",
    "print(device)"
   ]
  },
  {
   "cell_type": "markdown",
   "id": "11f2d313",
   "metadata": {
    "id": "cb50efc7"
   },
   "source": [
    "### Load transactions"
   ]
  },
  {
   "cell_type": "code",
   "execution_count": 9,
   "id": "82c7e626",
   "metadata": {
    "colab": {
     "base_uri": "https://localhost:8080/",
     "height": 224
    },
    "executionInfo": {
     "elapsed": 541,
     "status": "ok",
     "timestamp": 1651409332418,
     "user": {
      "displayName": "Steven George",
      "userId": "07709250839253394649"
     },
     "user_tz": -60
    },
    "id": "04dbf99c",
    "outputId": "652fa50d-df29-4385-884f-21a45523e8a1"
   },
   "outputs": [
    {
     "name": "stdout",
     "output_type": "stream",
     "text": [
      "(588758, 3)\n"
     ]
    },
    {
     "data": {
      "text/html": [
       "\n",
       "  <div id=\"df-2ac85923-419c-4876-9d5e-9c3c74762e4e\">\n",
       "    <div class=\"colab-df-container\">\n",
       "      <div>\n",
       "<style scoped>\n",
       "    .dataframe tbody tr th:only-of-type {\n",
       "        vertical-align: middle;\n",
       "    }\n",
       "\n",
       "    .dataframe tbody tr th {\n",
       "        vertical-align: top;\n",
       "    }\n",
       "\n",
       "    .dataframe thead th {\n",
       "        text-align: right;\n",
       "    }\n",
       "</style>\n",
       "<table border=\"1\" class=\"dataframe\">\n",
       "  <thead>\n",
       "    <tr style=\"text-align: right;\">\n",
       "      <th></th>\n",
       "      <th>t_dat</th>\n",
       "      <th>customer_id</th>\n",
       "      <th>article_id</th>\n",
       "    </tr>\n",
       "  </thead>\n",
       "  <tbody>\n",
       "    <tr>\n",
       "      <th>0</th>\n",
       "      <td>2018-09-20</td>\n",
       "      <td>000058a12d5b43e67d225668fa1f8d618c13dc232df0ca...</td>\n",
       "      <td>0663713001</td>\n",
       "    </tr>\n",
       "    <tr>\n",
       "      <th>1</th>\n",
       "      <td>2018-09-20</td>\n",
       "      <td>000058a12d5b43e67d225668fa1f8d618c13dc232df0ca...</td>\n",
       "      <td>0541518023</td>\n",
       "    </tr>\n",
       "    <tr>\n",
       "      <th>2</th>\n",
       "      <td>2018-09-20</td>\n",
       "      <td>016d8f0519d9e0572b3abebeab87408bad7a5c3a284016...</td>\n",
       "      <td>0650193004</td>\n",
       "    </tr>\n",
       "    <tr>\n",
       "      <th>3</th>\n",
       "      <td>2018-09-20</td>\n",
       "      <td>016d8f0519d9e0572b3abebeab87408bad7a5c3a284016...</td>\n",
       "      <td>0527687006</td>\n",
       "    </tr>\n",
       "    <tr>\n",
       "      <th>4</th>\n",
       "      <td>2018-09-20</td>\n",
       "      <td>02bfe1a5248beb9cd28ad4ac630a6d75e78d9a3e14551a...</td>\n",
       "      <td>0668767002</td>\n",
       "    </tr>\n",
       "  </tbody>\n",
       "</table>\n",
       "</div>\n",
       "      <button class=\"colab-df-convert\" onclick=\"convertToInteractive('df-2ac85923-419c-4876-9d5e-9c3c74762e4e')\"\n",
       "              title=\"Convert this dataframe to an interactive table.\"\n",
       "              style=\"display:none;\">\n",
       "        \n",
       "  <svg xmlns=\"http://www.w3.org/2000/svg\" height=\"24px\"viewBox=\"0 0 24 24\"\n",
       "       width=\"24px\">\n",
       "    <path d=\"M0 0h24v24H0V0z\" fill=\"none\"/>\n",
       "    <path d=\"M18.56 5.44l.94 2.06.94-2.06 2.06-.94-2.06-.94-.94-2.06-.94 2.06-2.06.94zm-11 1L8.5 8.5l.94-2.06 2.06-.94-2.06-.94L8.5 2.5l-.94 2.06-2.06.94zm10 10l.94 2.06.94-2.06 2.06-.94-2.06-.94-.94-2.06-.94 2.06-2.06.94z\"/><path d=\"M17.41 7.96l-1.37-1.37c-.4-.4-.92-.59-1.43-.59-.52 0-1.04.2-1.43.59L10.3 9.45l-7.72 7.72c-.78.78-.78 2.05 0 2.83L4 21.41c.39.39.9.59 1.41.59.51 0 1.02-.2 1.41-.59l7.78-7.78 2.81-2.81c.8-.78.8-2.07 0-2.86zM5.41 20L4 18.59l7.72-7.72 1.47 1.35L5.41 20z\"/>\n",
       "  </svg>\n",
       "      </button>\n",
       "      \n",
       "  <style>\n",
       "    .colab-df-container {\n",
       "      display:flex;\n",
       "      flex-wrap:wrap;\n",
       "      gap: 12px;\n",
       "    }\n",
       "\n",
       "    .colab-df-convert {\n",
       "      background-color: #E8F0FE;\n",
       "      border: none;\n",
       "      border-radius: 50%;\n",
       "      cursor: pointer;\n",
       "      display: none;\n",
       "      fill: #1967D2;\n",
       "      height: 32px;\n",
       "      padding: 0 0 0 0;\n",
       "      width: 32px;\n",
       "    }\n",
       "\n",
       "    .colab-df-convert:hover {\n",
       "      background-color: #E2EBFA;\n",
       "      box-shadow: 0px 1px 2px rgba(60, 64, 67, 0.3), 0px 1px 3px 1px rgba(60, 64, 67, 0.15);\n",
       "      fill: #174EA6;\n",
       "    }\n",
       "\n",
       "    [theme=dark] .colab-df-convert {\n",
       "      background-color: #3B4455;\n",
       "      fill: #D2E3FC;\n",
       "    }\n",
       "\n",
       "    [theme=dark] .colab-df-convert:hover {\n",
       "      background-color: #434B5C;\n",
       "      box-shadow: 0px 1px 3px 1px rgba(0, 0, 0, 0.15);\n",
       "      filter: drop-shadow(0px 1px 2px rgba(0, 0, 0, 0.3));\n",
       "      fill: #FFFFFF;\n",
       "    }\n",
       "  </style>\n",
       "\n",
       "      <script>\n",
       "        const buttonEl =\n",
       "          document.querySelector('#df-2ac85923-419c-4876-9d5e-9c3c74762e4e button.colab-df-convert');\n",
       "        buttonEl.style.display =\n",
       "          google.colab.kernel.accessAllowed ? 'block' : 'none';\n",
       "\n",
       "        async function convertToInteractive(key) {\n",
       "          const element = document.querySelector('#df-2ac85923-419c-4876-9d5e-9c3c74762e4e');\n",
       "          const dataTable =\n",
       "            await google.colab.kernel.invokeFunction('convertToInteractive',\n",
       "                                                     [key], {});\n",
       "          if (!dataTable) return;\n",
       "\n",
       "          const docLinkHtml = 'Like what you see? Visit the ' +\n",
       "            '<a target=\"_blank\" href=https://colab.research.google.com/notebooks/data_table.ipynb>data table notebook</a>'\n",
       "            + ' to learn more about interactive tables.';\n",
       "          element.innerHTML = '';\n",
       "          dataTable['output_type'] = 'display_data';\n",
       "          await google.colab.output.renderOutput(dataTable, element);\n",
       "          const docLink = document.createElement('div');\n",
       "          docLink.innerHTML = docLinkHtml;\n",
       "          element.appendChild(docLink);\n",
       "        }\n",
       "      </script>\n",
       "    </div>\n",
       "  </div>\n",
       "  "
      ],
      "text/plain": [
       "        t_dat                                        customer_id  article_id\n",
       "0  2018-09-20  000058a12d5b43e67d225668fa1f8d618c13dc232df0ca...  0663713001\n",
       "1  2018-09-20  000058a12d5b43e67d225668fa1f8d618c13dc232df0ca...  0541518023\n",
       "2  2018-09-20  016d8f0519d9e0572b3abebeab87408bad7a5c3a284016...  0650193004\n",
       "3  2018-09-20  016d8f0519d9e0572b3abebeab87408bad7a5c3a284016...  0527687006\n",
       "4  2018-09-20  02bfe1a5248beb9cd28ad4ac630a6d75e78d9a3e14551a...  0668767002"
      ]
     },
     "execution_count": 9,
     "metadata": {},
     "output_type": "execute_result"
    }
   ],
   "source": [
    "train_set_orig = pd.read_csv('data/splits/train_subset.tsv', sep='\\t', dtype={'article_id': str}, usecols=['t_dat', 'customer_id', 'article_id'])\n",
    "print(train_set_orig.shape)\n",
    "train_set_orig.head()"
   ]
  },
  {
   "cell_type": "code",
   "execution_count": 10,
   "id": "12d55d5c",
   "metadata": {
    "colab": {
     "base_uri": "https://localhost:8080/",
     "height": 224
    },
    "executionInfo": {
     "elapsed": 14,
     "status": "ok",
     "timestamp": 1651409332418,
     "user": {
      "displayName": "Steven George",
      "userId": "07709250839253394649"
     },
     "user_tz": -60
    },
    "id": "e60898ff",
    "outputId": "423bb154-5ac3-4a17-8a25-614a9375f2c9"
   },
   "outputs": [
    {
     "name": "stdout",
     "output_type": "stream",
     "text": [
      "(32995, 3)\n"
     ]
    },
    {
     "data": {
      "text/html": [
       "\n",
       "  <div id=\"df-b0b0301c-38a4-4473-b697-3ad1a0604847\">\n",
       "    <div class=\"colab-df-container\">\n",
       "      <div>\n",
       "<style scoped>\n",
       "    .dataframe tbody tr th:only-of-type {\n",
       "        vertical-align: middle;\n",
       "    }\n",
       "\n",
       "    .dataframe tbody tr th {\n",
       "        vertical-align: top;\n",
       "    }\n",
       "\n",
       "    .dataframe thead th {\n",
       "        text-align: right;\n",
       "    }\n",
       "</style>\n",
       "<table border=\"1\" class=\"dataframe\">\n",
       "  <thead>\n",
       "    <tr style=\"text-align: right;\">\n",
       "      <th></th>\n",
       "      <th>t_dat</th>\n",
       "      <th>customer_id</th>\n",
       "      <th>article_id</th>\n",
       "    </tr>\n",
       "  </thead>\n",
       "  <tbody>\n",
       "    <tr>\n",
       "      <th>0</th>\n",
       "      <td>2020-09-15</td>\n",
       "      <td>000058a12d5b43e67d225668fa1f8d618c13dc232df0ca...</td>\n",
       "      <td>0794321007</td>\n",
       "    </tr>\n",
       "    <tr>\n",
       "      <th>1</th>\n",
       "      <td>2020-09-15</td>\n",
       "      <td>0015f37f752a41a75c3be6f3f92deedc4c87d039f1758e...</td>\n",
       "      <td>0778745010</td>\n",
       "    </tr>\n",
       "    <tr>\n",
       "      <th>2</th>\n",
       "      <td>2020-09-15</td>\n",
       "      <td>0015f37f752a41a75c3be6f3f92deedc4c87d039f1758e...</td>\n",
       "      <td>0778745010</td>\n",
       "    </tr>\n",
       "    <tr>\n",
       "      <th>3</th>\n",
       "      <td>2020-09-15</td>\n",
       "      <td>0015f37f752a41a75c3be6f3f92deedc4c87d039f1758e...</td>\n",
       "      <td>0610776105</td>\n",
       "    </tr>\n",
       "    <tr>\n",
       "      <th>4</th>\n",
       "      <td>2020-09-15</td>\n",
       "      <td>0015f37f752a41a75c3be6f3f92deedc4c87d039f1758e...</td>\n",
       "      <td>0929745001</td>\n",
       "    </tr>\n",
       "  </tbody>\n",
       "</table>\n",
       "</div>\n",
       "      <button class=\"colab-df-convert\" onclick=\"convertToInteractive('df-b0b0301c-38a4-4473-b697-3ad1a0604847')\"\n",
       "              title=\"Convert this dataframe to an interactive table.\"\n",
       "              style=\"display:none;\">\n",
       "        \n",
       "  <svg xmlns=\"http://www.w3.org/2000/svg\" height=\"24px\"viewBox=\"0 0 24 24\"\n",
       "       width=\"24px\">\n",
       "    <path d=\"M0 0h24v24H0V0z\" fill=\"none\"/>\n",
       "    <path d=\"M18.56 5.44l.94 2.06.94-2.06 2.06-.94-2.06-.94-.94-2.06-.94 2.06-2.06.94zm-11 1L8.5 8.5l.94-2.06 2.06-.94-2.06-.94L8.5 2.5l-.94 2.06-2.06.94zm10 10l.94 2.06.94-2.06 2.06-.94-2.06-.94-.94-2.06-.94 2.06-2.06.94z\"/><path d=\"M17.41 7.96l-1.37-1.37c-.4-.4-.92-.59-1.43-.59-.52 0-1.04.2-1.43.59L10.3 9.45l-7.72 7.72c-.78.78-.78 2.05 0 2.83L4 21.41c.39.39.9.59 1.41.59.51 0 1.02-.2 1.41-.59l7.78-7.78 2.81-2.81c.8-.78.8-2.07 0-2.86zM5.41 20L4 18.59l7.72-7.72 1.47 1.35L5.41 20z\"/>\n",
       "  </svg>\n",
       "      </button>\n",
       "      \n",
       "  <style>\n",
       "    .colab-df-container {\n",
       "      display:flex;\n",
       "      flex-wrap:wrap;\n",
       "      gap: 12px;\n",
       "    }\n",
       "\n",
       "    .colab-df-convert {\n",
       "      background-color: #E8F0FE;\n",
       "      border: none;\n",
       "      border-radius: 50%;\n",
       "      cursor: pointer;\n",
       "      display: none;\n",
       "      fill: #1967D2;\n",
       "      height: 32px;\n",
       "      padding: 0 0 0 0;\n",
       "      width: 32px;\n",
       "    }\n",
       "\n",
       "    .colab-df-convert:hover {\n",
       "      background-color: #E2EBFA;\n",
       "      box-shadow: 0px 1px 2px rgba(60, 64, 67, 0.3), 0px 1px 3px 1px rgba(60, 64, 67, 0.15);\n",
       "      fill: #174EA6;\n",
       "    }\n",
       "\n",
       "    [theme=dark] .colab-df-convert {\n",
       "      background-color: #3B4455;\n",
       "      fill: #D2E3FC;\n",
       "    }\n",
       "\n",
       "    [theme=dark] .colab-df-convert:hover {\n",
       "      background-color: #434B5C;\n",
       "      box-shadow: 0px 1px 3px 1px rgba(0, 0, 0, 0.15);\n",
       "      filter: drop-shadow(0px 1px 2px rgba(0, 0, 0, 0.3));\n",
       "      fill: #FFFFFF;\n",
       "    }\n",
       "  </style>\n",
       "\n",
       "      <script>\n",
       "        const buttonEl =\n",
       "          document.querySelector('#df-b0b0301c-38a4-4473-b697-3ad1a0604847 button.colab-df-convert');\n",
       "        buttonEl.style.display =\n",
       "          google.colab.kernel.accessAllowed ? 'block' : 'none';\n",
       "\n",
       "        async function convertToInteractive(key) {\n",
       "          const element = document.querySelector('#df-b0b0301c-38a4-4473-b697-3ad1a0604847');\n",
       "          const dataTable =\n",
       "            await google.colab.kernel.invokeFunction('convertToInteractive',\n",
       "                                                     [key], {});\n",
       "          if (!dataTable) return;\n",
       "\n",
       "          const docLinkHtml = 'Like what you see? Visit the ' +\n",
       "            '<a target=\"_blank\" href=https://colab.research.google.com/notebooks/data_table.ipynb>data table notebook</a>'\n",
       "            + ' to learn more about interactive tables.';\n",
       "          element.innerHTML = '';\n",
       "          dataTable['output_type'] = 'display_data';\n",
       "          await google.colab.output.renderOutput(dataTable, element);\n",
       "          const docLink = document.createElement('div');\n",
       "          docLink.innerHTML = docLinkHtml;\n",
       "          element.appendChild(docLink);\n",
       "        }\n",
       "      </script>\n",
       "    </div>\n",
       "  </div>\n",
       "  "
      ],
      "text/plain": [
       "        t_dat                                        customer_id  article_id\n",
       "0  2020-09-15  000058a12d5b43e67d225668fa1f8d618c13dc232df0ca...  0794321007\n",
       "1  2020-09-15  0015f37f752a41a75c3be6f3f92deedc4c87d039f1758e...  0778745010\n",
       "2  2020-09-15  0015f37f752a41a75c3be6f3f92deedc4c87d039f1758e...  0778745010\n",
       "3  2020-09-15  0015f37f752a41a75c3be6f3f92deedc4c87d039f1758e...  0610776105\n",
       "4  2020-09-15  0015f37f752a41a75c3be6f3f92deedc4c87d039f1758e...  0929745001"
      ]
     },
     "execution_count": 10,
     "metadata": {},
     "output_type": "execute_result"
    }
   ],
   "source": [
    "test_set = pd.read_csv('data/splits/test_subset.tsv', sep='\\t', dtype={'article_id': str}, usecols=['t_dat', 'customer_id', 'article_id'])\n",
    "print(test_set.shape)\n",
    "test_set.head()"
   ]
  },
  {
   "cell_type": "markdown",
   "id": "73014318",
   "metadata": {
    "id": "tqGRTdFJfU9n"
   },
   "source": [
    "Only include articles bought after 2020-01"
   ]
  },
  {
   "cell_type": "code",
   "execution_count": 11,
   "id": "8f58426a",
   "metadata": {
    "executionInfo": {
     "elapsed": 10,
     "status": "ok",
     "timestamp": 1651409332419,
     "user": {
      "displayName": "Steven George",
      "userId": "07709250839253394649"
     },
     "user_tz": -60
    },
    "id": "NIKAHtHXfSLZ"
   },
   "outputs": [],
   "source": [
    "train_set_orig['t_dat'] = pd.to_datetime(train_set_orig['t_dat'])"
   ]
  },
  {
   "cell_type": "code",
   "execution_count": 12,
   "id": "05dde5fa",
   "metadata": {
    "colab": {
     "base_uri": "https://localhost:8080/"
    },
    "executionInfo": {
     "elapsed": 9,
     "status": "ok",
     "timestamp": 1651409332419,
     "user": {
      "displayName": "Steven George",
      "userId": "07709250839253394649"
     },
     "user_tz": -60
    },
    "id": "zYwFjToofaXO",
    "outputId": "71e12c4a-2e49-4b2b-874c-c0f84c5af887"
   },
   "outputs": [
    {
     "data": {
      "text/plain": [
       "11270"
      ]
     },
     "execution_count": 12,
     "metadata": {},
     "output_type": "execute_result"
    }
   ],
   "source": [
    "article_id_to_keep = train_set_orig[train_set_orig['t_dat'] > '2020-08-01']['article_id'].unique()\n",
    "len(article_id_to_keep)"
   ]
  },
  {
   "cell_type": "code",
   "execution_count": 13,
   "id": "27f173eb",
   "metadata": {
    "colab": {
     "base_uri": "https://localhost:8080/"
    },
    "executionInfo": {
     "elapsed": 557,
     "status": "ok",
     "timestamp": 1651409332970,
     "user": {
      "displayName": "Steven George",
      "userId": "07709250839253394649"
     },
     "user_tz": -60
    },
    "id": "RH0ib69yfaOw",
    "outputId": "968fcebf-98f6-4774-e963-5563c3fd761d"
   },
   "outputs": [
    {
     "name": "stdout",
     "output_type": "stream",
     "text": [
      "(588758, 3)\n",
      "(202947, 3)\n"
     ]
    }
   ],
   "source": [
    "print(train_set_orig.shape)\n",
    "train_set_orig = train_set_orig.copy()[train_set_orig['article_id'].isin(article_id_to_keep)]\n",
    "print(train_set_orig.shape)"
   ]
  },
  {
   "cell_type": "markdown",
   "id": "ded743fc",
   "metadata": {
    "id": "7a10f655"
   },
   "source": [
    "### Load customer features"
   ]
  },
  {
   "cell_type": "code",
   "execution_count": 14,
   "id": "95e955e0",
   "metadata": {
    "colab": {
     "base_uri": "https://localhost:8080/",
     "height": 224
    },
    "executionInfo": {
     "elapsed": 4590,
     "status": "ok",
     "timestamp": 1651409345569,
     "user": {
      "displayName": "Steven George",
      "userId": "07709250839253394649"
     },
     "user_tz": -60
    },
    "id": "0a789f95",
    "outputId": "a5f65d2c-0eef-43d7-f0d3-38981a6b0c07"
   },
   "outputs": [
    {
     "name": "stdout",
     "output_type": "stream",
     "text": [
      "(1371980, 7)\n"
     ]
    },
    {
     "data": {
      "text/html": [
       "\n",
       "  <div id=\"df-cc27c066-532c-46d7-9277-9b3000d30cb4\">\n",
       "    <div class=\"colab-df-container\">\n",
       "      <div>\n",
       "<style scoped>\n",
       "    .dataframe tbody tr th:only-of-type {\n",
       "        vertical-align: middle;\n",
       "    }\n",
       "\n",
       "    .dataframe tbody tr th {\n",
       "        vertical-align: top;\n",
       "    }\n",
       "\n",
       "    .dataframe thead th {\n",
       "        text-align: right;\n",
       "    }\n",
       "</style>\n",
       "<table border=\"1\" class=\"dataframe\">\n",
       "  <thead>\n",
       "    <tr style=\"text-align: right;\">\n",
       "      <th></th>\n",
       "      <th>customer_id</th>\n",
       "      <th>FN</th>\n",
       "      <th>Active</th>\n",
       "      <th>club_member_status</th>\n",
       "      <th>fashion_news_frequency</th>\n",
       "      <th>age</th>\n",
       "      <th>postal_code</th>\n",
       "    </tr>\n",
       "  </thead>\n",
       "  <tbody>\n",
       "    <tr>\n",
       "      <th>0</th>\n",
       "      <td>00000dbacae5abe5e23885899a1fa44253a17956c6d1c3...</td>\n",
       "      <td>NaN</td>\n",
       "      <td>NaN</td>\n",
       "      <td>ACTIVE</td>\n",
       "      <td>NONE</td>\n",
       "      <td>49.0</td>\n",
       "      <td>52043ee2162cf5aa7ee79974281641c6f11a68d276429a...</td>\n",
       "    </tr>\n",
       "    <tr>\n",
       "      <th>1</th>\n",
       "      <td>0000423b00ade91418cceaf3b26c6af3dd342b51fd051e...</td>\n",
       "      <td>NaN</td>\n",
       "      <td>NaN</td>\n",
       "      <td>ACTIVE</td>\n",
       "      <td>NONE</td>\n",
       "      <td>25.0</td>\n",
       "      <td>2973abc54daa8a5f8ccfe9362140c63247c5eee03f1d93...</td>\n",
       "    </tr>\n",
       "    <tr>\n",
       "      <th>2</th>\n",
       "      <td>000058a12d5b43e67d225668fa1f8d618c13dc232df0ca...</td>\n",
       "      <td>NaN</td>\n",
       "      <td>NaN</td>\n",
       "      <td>ACTIVE</td>\n",
       "      <td>NONE</td>\n",
       "      <td>24.0</td>\n",
       "      <td>64f17e6a330a85798e4998f62d0930d14db8db1c054af6...</td>\n",
       "    </tr>\n",
       "    <tr>\n",
       "      <th>3</th>\n",
       "      <td>00005ca1c9ed5f5146b52ac8639a40ca9d57aeff4d1bd2...</td>\n",
       "      <td>NaN</td>\n",
       "      <td>NaN</td>\n",
       "      <td>ACTIVE</td>\n",
       "      <td>NONE</td>\n",
       "      <td>54.0</td>\n",
       "      <td>5d36574f52495e81f019b680c843c443bd343d5ca5b1c2...</td>\n",
       "    </tr>\n",
       "    <tr>\n",
       "      <th>4</th>\n",
       "      <td>00006413d8573cd20ed7128e53b7b13819fe5cfc2d801f...</td>\n",
       "      <td>1.0</td>\n",
       "      <td>1.0</td>\n",
       "      <td>ACTIVE</td>\n",
       "      <td>Regularly</td>\n",
       "      <td>52.0</td>\n",
       "      <td>25fa5ddee9aac01b35208d01736e57942317d756b32ddd...</td>\n",
       "    </tr>\n",
       "  </tbody>\n",
       "</table>\n",
       "</div>\n",
       "      <button class=\"colab-df-convert\" onclick=\"convertToInteractive('df-cc27c066-532c-46d7-9277-9b3000d30cb4')\"\n",
       "              title=\"Convert this dataframe to an interactive table.\"\n",
       "              style=\"display:none;\">\n",
       "        \n",
       "  <svg xmlns=\"http://www.w3.org/2000/svg\" height=\"24px\"viewBox=\"0 0 24 24\"\n",
       "       width=\"24px\">\n",
       "    <path d=\"M0 0h24v24H0V0z\" fill=\"none\"/>\n",
       "    <path d=\"M18.56 5.44l.94 2.06.94-2.06 2.06-.94-2.06-.94-.94-2.06-.94 2.06-2.06.94zm-11 1L8.5 8.5l.94-2.06 2.06-.94-2.06-.94L8.5 2.5l-.94 2.06-2.06.94zm10 10l.94 2.06.94-2.06 2.06-.94-2.06-.94-.94-2.06-.94 2.06-2.06.94z\"/><path d=\"M17.41 7.96l-1.37-1.37c-.4-.4-.92-.59-1.43-.59-.52 0-1.04.2-1.43.59L10.3 9.45l-7.72 7.72c-.78.78-.78 2.05 0 2.83L4 21.41c.39.39.9.59 1.41.59.51 0 1.02-.2 1.41-.59l7.78-7.78 2.81-2.81c.8-.78.8-2.07 0-2.86zM5.41 20L4 18.59l7.72-7.72 1.47 1.35L5.41 20z\"/>\n",
       "  </svg>\n",
       "      </button>\n",
       "      \n",
       "  <style>\n",
       "    .colab-df-container {\n",
       "      display:flex;\n",
       "      flex-wrap:wrap;\n",
       "      gap: 12px;\n",
       "    }\n",
       "\n",
       "    .colab-df-convert {\n",
       "      background-color: #E8F0FE;\n",
       "      border: none;\n",
       "      border-radius: 50%;\n",
       "      cursor: pointer;\n",
       "      display: none;\n",
       "      fill: #1967D2;\n",
       "      height: 32px;\n",
       "      padding: 0 0 0 0;\n",
       "      width: 32px;\n",
       "    }\n",
       "\n",
       "    .colab-df-convert:hover {\n",
       "      background-color: #E2EBFA;\n",
       "      box-shadow: 0px 1px 2px rgba(60, 64, 67, 0.3), 0px 1px 3px 1px rgba(60, 64, 67, 0.15);\n",
       "      fill: #174EA6;\n",
       "    }\n",
       "\n",
       "    [theme=dark] .colab-df-convert {\n",
       "      background-color: #3B4455;\n",
       "      fill: #D2E3FC;\n",
       "    }\n",
       "\n",
       "    [theme=dark] .colab-df-convert:hover {\n",
       "      background-color: #434B5C;\n",
       "      box-shadow: 0px 1px 3px 1px rgba(0, 0, 0, 0.15);\n",
       "      filter: drop-shadow(0px 1px 2px rgba(0, 0, 0, 0.3));\n",
       "      fill: #FFFFFF;\n",
       "    }\n",
       "  </style>\n",
       "\n",
       "      <script>\n",
       "        const buttonEl =\n",
       "          document.querySelector('#df-cc27c066-532c-46d7-9277-9b3000d30cb4 button.colab-df-convert');\n",
       "        buttonEl.style.display =\n",
       "          google.colab.kernel.accessAllowed ? 'block' : 'none';\n",
       "\n",
       "        async function convertToInteractive(key) {\n",
       "          const element = document.querySelector('#df-cc27c066-532c-46d7-9277-9b3000d30cb4');\n",
       "          const dataTable =\n",
       "            await google.colab.kernel.invokeFunction('convertToInteractive',\n",
       "                                                     [key], {});\n",
       "          if (!dataTable) return;\n",
       "\n",
       "          const docLinkHtml = 'Like what you see? Visit the ' +\n",
       "            '<a target=\"_blank\" href=https://colab.research.google.com/notebooks/data_table.ipynb>data table notebook</a>'\n",
       "            + ' to learn more about interactive tables.';\n",
       "          element.innerHTML = '';\n",
       "          dataTable['output_type'] = 'display_data';\n",
       "          await google.colab.output.renderOutput(dataTable, element);\n",
       "          const docLink = document.createElement('div');\n",
       "          docLink.innerHTML = docLinkHtml;\n",
       "          element.appendChild(docLink);\n",
       "        }\n",
       "      </script>\n",
       "    </div>\n",
       "  </div>\n",
       "  "
      ],
      "text/plain": [
       "                                         customer_id   FN  Active  \\\n",
       "0  00000dbacae5abe5e23885899a1fa44253a17956c6d1c3...  NaN     NaN   \n",
       "1  0000423b00ade91418cceaf3b26c6af3dd342b51fd051e...  NaN     NaN   \n",
       "2  000058a12d5b43e67d225668fa1f8d618c13dc232df0ca...  NaN     NaN   \n",
       "3  00005ca1c9ed5f5146b52ac8639a40ca9d57aeff4d1bd2...  NaN     NaN   \n",
       "4  00006413d8573cd20ed7128e53b7b13819fe5cfc2d801f...  1.0     1.0   \n",
       "\n",
       "  club_member_status fashion_news_frequency   age  \\\n",
       "0             ACTIVE                   NONE  49.0   \n",
       "1             ACTIVE                   NONE  25.0   \n",
       "2             ACTIVE                   NONE  24.0   \n",
       "3             ACTIVE                   NONE  54.0   \n",
       "4             ACTIVE              Regularly  52.0   \n",
       "\n",
       "                                         postal_code  \n",
       "0  52043ee2162cf5aa7ee79974281641c6f11a68d276429a...  \n",
       "1  2973abc54daa8a5f8ccfe9362140c63247c5eee03f1d93...  \n",
       "2  64f17e6a330a85798e4998f62d0930d14db8db1c054af6...  \n",
       "3  5d36574f52495e81f019b680c843c443bd343d5ca5b1c2...  \n",
       "4  25fa5ddee9aac01b35208d01736e57942317d756b32ddd...  "
      ]
     },
     "execution_count": 14,
     "metadata": {},
     "output_type": "execute_result"
    }
   ],
   "source": [
    "customers = pd.read_csv('data/customers.csv')\n",
    "print(customers.shape)\n",
    "customers.head()"
   ]
  },
  {
   "cell_type": "code",
   "execution_count": 15,
   "id": "d842d88c",
   "metadata": {
    "colab": {
     "base_uri": "https://localhost:8080/"
    },
    "executionInfo": {
     "elapsed": 9,
     "status": "ok",
     "timestamp": 1651409345569,
     "user": {
      "displayName": "Steven George",
      "userId": "07709250839253394649"
     },
     "user_tz": -60
    },
    "id": "2cc539c0",
    "outputId": "8b132f08-da57-4444-9a9f-a13b7c23e42d"
   },
   "outputs": [
    {
     "data": {
      "text/plain": [
       "customer_id               0.000000\n",
       "FN                        0.652378\n",
       "Active                    0.661508\n",
       "club_member_status        0.004418\n",
       "fashion_news_frequency    0.011669\n",
       "age                       0.011561\n",
       "postal_code               0.000000\n",
       "dtype: float64"
      ]
     },
     "execution_count": 15,
     "metadata": {},
     "output_type": "execute_result"
    }
   ],
   "source": [
    "customers.isnull().sum() / customers.shape[0]"
   ]
  },
  {
   "cell_type": "code",
   "execution_count": 16,
   "id": "0a20ca3e",
   "metadata": {
    "executionInfo": {
     "elapsed": 434,
     "status": "ok",
     "timestamp": 1651409345999,
     "user": {
      "displayName": "Steven George",
      "userId": "07709250839253394649"
     },
     "user_tz": -60
    },
    "id": "d18788c7"
   },
   "outputs": [],
   "source": [
    "customers[['FN', 'Active']] = customers[['FN', 'Active']].fillna(0)"
   ]
  },
  {
   "cell_type": "code",
   "execution_count": 17,
   "id": "bf3a9617",
   "metadata": {
    "executionInfo": {
     "elapsed": 1619,
     "status": "ok",
     "timestamp": 1651409347616,
     "user": {
      "displayName": "Steven George",
      "userId": "07709250839253394649"
     },
     "user_tz": -60
    },
    "id": "c38f90bc"
   },
   "outputs": [],
   "source": [
    "customers['club_member_status'] = customers['club_member_status'].str.lower().str.replace('-', '_').str.replace(' ', '_').fillna('missing')"
   ]
  },
  {
   "cell_type": "code",
   "execution_count": 18,
   "id": "39570603",
   "metadata": {
    "executionInfo": {
     "elapsed": 1551,
     "status": "ok",
     "timestamp": 1651409349162,
     "user": {
      "displayName": "Steven George",
      "userId": "07709250839253394649"
     },
     "user_tz": -60
    },
    "id": "dcd44ad4"
   },
   "outputs": [],
   "source": [
    "customers['fashion_news_frequency'] = customers['fashion_news_frequency'].str.lower().str.replace('-', '_').str.replace(' ', '_').fillna('missing')"
   ]
  },
  {
   "cell_type": "code",
   "execution_count": 19,
   "id": "9a288218",
   "metadata": {
    "executionInfo": {
     "elapsed": 4,
     "status": "ok",
     "timestamp": 1651409349162,
     "user": {
      "displayName": "Steven George",
      "userId": "07709250839253394649"
     },
     "user_tz": -60
    },
    "id": "dbf1d4ad"
   },
   "outputs": [],
   "source": [
    "customers['fashion_news_frequency'] = customers['fashion_news_frequency'].replace('none', 'missing')"
   ]
  },
  {
   "cell_type": "code",
   "execution_count": 20,
   "id": "b310cbc4",
   "metadata": {
    "colab": {
     "base_uri": "https://localhost:8080/"
    },
    "executionInfo": {
     "elapsed": 548,
     "status": "ok",
     "timestamp": 1651409349706,
     "user": {
      "displayName": "Steven George",
      "userId": "07709250839253394649"
     },
     "user_tz": -60
    },
    "id": "ea23afff",
    "outputId": "c044523c-5212-4c15-96b9-27f23dd50191"
   },
   "outputs": [
    {
     "data": {
      "text/plain": [
       "customer_id                   0\n",
       "FN                            0\n",
       "Active                        0\n",
       "club_member_status            0\n",
       "fashion_news_frequency        0\n",
       "age                       15861\n",
       "postal_code                   0\n",
       "dtype: int64"
      ]
     },
     "execution_count": 20,
     "metadata": {},
     "output_type": "execute_result"
    }
   ],
   "source": [
    "customers.isnull().sum()"
   ]
  },
  {
   "cell_type": "markdown",
   "id": "36098f04",
   "metadata": {
    "id": "b1e1a18c"
   },
   "source": [
    "`customer_id` to indices"
   ]
  },
  {
   "cell_type": "code",
   "execution_count": 21,
   "id": "2e24d12f",
   "metadata": {
    "colab": {
     "base_uri": "https://localhost:8080/"
    },
    "executionInfo": {
     "elapsed": 11,
     "status": "ok",
     "timestamp": 1651409349707,
     "user": {
      "displayName": "Steven George",
      "userId": "07709250839253394649"
     },
     "user_tz": -60
    },
    "id": "44cc534e",
    "outputId": "8b3f073a-837c-4ffe-e902-4abcfd846d66"
   },
   "outputs": [
    {
     "data": {
      "text/plain": [
       "9208"
      ]
     },
     "execution_count": 21,
     "metadata": {},
     "output_type": "execute_result"
    }
   ],
   "source": [
    "unique_customers_df = test_set[['customer_id']].drop_duplicates().reset_index(drop=True)\n",
    "\n",
    "customer_id_to_idx = dict(\n",
    "    zip(\n",
    "        unique_customers_df['customer_id'],\n",
    "        unique_customers_df.index\n",
    "    )\n",
    ")\n",
    "\n",
    "len(customer_id_to_idx)"
   ]
  },
  {
   "cell_type": "code",
   "execution_count": 22,
   "id": "749db05a",
   "metadata": {
    "executionInfo": {
     "elapsed": 493,
     "status": "ok",
     "timestamp": 1651409350196,
     "user": {
      "displayName": "Steven George",
      "userId": "07709250839253394649"
     },
     "user_tz": -60
    },
    "id": "4c0fc72f"
   },
   "outputs": [],
   "source": [
    "customers_cat_code_to_indices = {}\n",
    "\n",
    "for cat in ['club_member_status', 'fashion_news_frequency', 'postal_code']:\n",
    "    customers_cat_code_to_indices[cat] = {v: k for k, v in dict(enumerate(customers[cat].unique())).items()}"
   ]
  },
  {
   "cell_type": "code",
   "execution_count": 23,
   "id": "68d31f6b",
   "metadata": {
    "executionInfo": {
     "elapsed": 1289,
     "status": "ok",
     "timestamp": 1651409351483,
     "user": {
      "displayName": "Steven George",
      "userId": "07709250839253394649"
     },
     "user_tz": -60
    },
    "id": "f3ae2532"
   },
   "outputs": [],
   "source": [
    "for cat in ['club_member_status', 'fashion_news_frequency', 'postal_code']:\n",
    "    customers[cat] = customers[cat].map(customers_cat_code_to_indices[cat])"
   ]
  },
  {
   "cell_type": "code",
   "execution_count": 24,
   "id": "1ed2444a",
   "metadata": {
    "executionInfo": {
     "elapsed": 18,
     "status": "ok",
     "timestamp": 1651409351484,
     "user": {
      "displayName": "Steven George",
      "userId": "07709250839253394649"
     },
     "user_tz": -60
    },
    "id": "19fec6c9"
   },
   "outputs": [],
   "source": [
    "customers['customer_id_idx'] = customers['customer_id'].map(customer_id_to_idx)"
   ]
  },
  {
   "cell_type": "code",
   "execution_count": 25,
   "id": "67d9c1c7",
   "metadata": {
    "colab": {
     "base_uri": "https://localhost:8080/",
     "height": 206
    },
    "executionInfo": {
     "elapsed": 18,
     "status": "ok",
     "timestamp": 1651409351484,
     "user": {
      "displayName": "Steven George",
      "userId": "07709250839253394649"
     },
     "user_tz": -60
    },
    "id": "6a29db5e",
    "outputId": "d830e136-9d46-4067-ed9f-b303bf9d3a35"
   },
   "outputs": [
    {
     "data": {
      "text/html": [
       "\n",
       "  <div id=\"df-f45862c7-c074-48ec-91f7-ad699104047c\">\n",
       "    <div class=\"colab-df-container\">\n",
       "      <div>\n",
       "<style scoped>\n",
       "    .dataframe tbody tr th:only-of-type {\n",
       "        vertical-align: middle;\n",
       "    }\n",
       "\n",
       "    .dataframe tbody tr th {\n",
       "        vertical-align: top;\n",
       "    }\n",
       "\n",
       "    .dataframe thead th {\n",
       "        text-align: right;\n",
       "    }\n",
       "</style>\n",
       "<table border=\"1\" class=\"dataframe\">\n",
       "  <thead>\n",
       "    <tr style=\"text-align: right;\">\n",
       "      <th></th>\n",
       "      <th>customer_id</th>\n",
       "      <th>FN</th>\n",
       "      <th>Active</th>\n",
       "      <th>club_member_status</th>\n",
       "      <th>fashion_news_frequency</th>\n",
       "      <th>age</th>\n",
       "      <th>postal_code</th>\n",
       "      <th>customer_id_idx</th>\n",
       "    </tr>\n",
       "  </thead>\n",
       "  <tbody>\n",
       "    <tr>\n",
       "      <th>0</th>\n",
       "      <td>00000dbacae5abe5e23885899a1fa44253a17956c6d1c3...</td>\n",
       "      <td>0.0</td>\n",
       "      <td>0.0</td>\n",
       "      <td>0</td>\n",
       "      <td>0</td>\n",
       "      <td>49.0</td>\n",
       "      <td>0</td>\n",
       "      <td>NaN</td>\n",
       "    </tr>\n",
       "    <tr>\n",
       "      <th>1</th>\n",
       "      <td>0000423b00ade91418cceaf3b26c6af3dd342b51fd051e...</td>\n",
       "      <td>0.0</td>\n",
       "      <td>0.0</td>\n",
       "      <td>0</td>\n",
       "      <td>0</td>\n",
       "      <td>25.0</td>\n",
       "      <td>1</td>\n",
       "      <td>NaN</td>\n",
       "    </tr>\n",
       "    <tr>\n",
       "      <th>2</th>\n",
       "      <td>000058a12d5b43e67d225668fa1f8d618c13dc232df0ca...</td>\n",
       "      <td>0.0</td>\n",
       "      <td>0.0</td>\n",
       "      <td>0</td>\n",
       "      <td>0</td>\n",
       "      <td>24.0</td>\n",
       "      <td>2</td>\n",
       "      <td>0.0</td>\n",
       "    </tr>\n",
       "    <tr>\n",
       "      <th>3</th>\n",
       "      <td>00005ca1c9ed5f5146b52ac8639a40ca9d57aeff4d1bd2...</td>\n",
       "      <td>0.0</td>\n",
       "      <td>0.0</td>\n",
       "      <td>0</td>\n",
       "      <td>0</td>\n",
       "      <td>54.0</td>\n",
       "      <td>3</td>\n",
       "      <td>NaN</td>\n",
       "    </tr>\n",
       "    <tr>\n",
       "      <th>4</th>\n",
       "      <td>00006413d8573cd20ed7128e53b7b13819fe5cfc2d801f...</td>\n",
       "      <td>1.0</td>\n",
       "      <td>1.0</td>\n",
       "      <td>0</td>\n",
       "      <td>1</td>\n",
       "      <td>52.0</td>\n",
       "      <td>4</td>\n",
       "      <td>NaN</td>\n",
       "    </tr>\n",
       "  </tbody>\n",
       "</table>\n",
       "</div>\n",
       "      <button class=\"colab-df-convert\" onclick=\"convertToInteractive('df-f45862c7-c074-48ec-91f7-ad699104047c')\"\n",
       "              title=\"Convert this dataframe to an interactive table.\"\n",
       "              style=\"display:none;\">\n",
       "        \n",
       "  <svg xmlns=\"http://www.w3.org/2000/svg\" height=\"24px\"viewBox=\"0 0 24 24\"\n",
       "       width=\"24px\">\n",
       "    <path d=\"M0 0h24v24H0V0z\" fill=\"none\"/>\n",
       "    <path d=\"M18.56 5.44l.94 2.06.94-2.06 2.06-.94-2.06-.94-.94-2.06-.94 2.06-2.06.94zm-11 1L8.5 8.5l.94-2.06 2.06-.94-2.06-.94L8.5 2.5l-.94 2.06-2.06.94zm10 10l.94 2.06.94-2.06 2.06-.94-2.06-.94-.94-2.06-.94 2.06-2.06.94z\"/><path d=\"M17.41 7.96l-1.37-1.37c-.4-.4-.92-.59-1.43-.59-.52 0-1.04.2-1.43.59L10.3 9.45l-7.72 7.72c-.78.78-.78 2.05 0 2.83L4 21.41c.39.39.9.59 1.41.59.51 0 1.02-.2 1.41-.59l7.78-7.78 2.81-2.81c.8-.78.8-2.07 0-2.86zM5.41 20L4 18.59l7.72-7.72 1.47 1.35L5.41 20z\"/>\n",
       "  </svg>\n",
       "      </button>\n",
       "      \n",
       "  <style>\n",
       "    .colab-df-container {\n",
       "      display:flex;\n",
       "      flex-wrap:wrap;\n",
       "      gap: 12px;\n",
       "    }\n",
       "\n",
       "    .colab-df-convert {\n",
       "      background-color: #E8F0FE;\n",
       "      border: none;\n",
       "      border-radius: 50%;\n",
       "      cursor: pointer;\n",
       "      display: none;\n",
       "      fill: #1967D2;\n",
       "      height: 32px;\n",
       "      padding: 0 0 0 0;\n",
       "      width: 32px;\n",
       "    }\n",
       "\n",
       "    .colab-df-convert:hover {\n",
       "      background-color: #E2EBFA;\n",
       "      box-shadow: 0px 1px 2px rgba(60, 64, 67, 0.3), 0px 1px 3px 1px rgba(60, 64, 67, 0.15);\n",
       "      fill: #174EA6;\n",
       "    }\n",
       "\n",
       "    [theme=dark] .colab-df-convert {\n",
       "      background-color: #3B4455;\n",
       "      fill: #D2E3FC;\n",
       "    }\n",
       "\n",
       "    [theme=dark] .colab-df-convert:hover {\n",
       "      background-color: #434B5C;\n",
       "      box-shadow: 0px 1px 3px 1px rgba(0, 0, 0, 0.15);\n",
       "      filter: drop-shadow(0px 1px 2px rgba(0, 0, 0, 0.3));\n",
       "      fill: #FFFFFF;\n",
       "    }\n",
       "  </style>\n",
       "\n",
       "      <script>\n",
       "        const buttonEl =\n",
       "          document.querySelector('#df-f45862c7-c074-48ec-91f7-ad699104047c button.colab-df-convert');\n",
       "        buttonEl.style.display =\n",
       "          google.colab.kernel.accessAllowed ? 'block' : 'none';\n",
       "\n",
       "        async function convertToInteractive(key) {\n",
       "          const element = document.querySelector('#df-f45862c7-c074-48ec-91f7-ad699104047c');\n",
       "          const dataTable =\n",
       "            await google.colab.kernel.invokeFunction('convertToInteractive',\n",
       "                                                     [key], {});\n",
       "          if (!dataTable) return;\n",
       "\n",
       "          const docLinkHtml = 'Like what you see? Visit the ' +\n",
       "            '<a target=\"_blank\" href=https://colab.research.google.com/notebooks/data_table.ipynb>data table notebook</a>'\n",
       "            + ' to learn more about interactive tables.';\n",
       "          element.innerHTML = '';\n",
       "          dataTable['output_type'] = 'display_data';\n",
       "          await google.colab.output.renderOutput(dataTable, element);\n",
       "          const docLink = document.createElement('div');\n",
       "          docLink.innerHTML = docLinkHtml;\n",
       "          element.appendChild(docLink);\n",
       "        }\n",
       "      </script>\n",
       "    </div>\n",
       "  </div>\n",
       "  "
      ],
      "text/plain": [
       "                                         customer_id   FN  Active  \\\n",
       "0  00000dbacae5abe5e23885899a1fa44253a17956c6d1c3...  0.0     0.0   \n",
       "1  0000423b00ade91418cceaf3b26c6af3dd342b51fd051e...  0.0     0.0   \n",
       "2  000058a12d5b43e67d225668fa1f8d618c13dc232df0ca...  0.0     0.0   \n",
       "3  00005ca1c9ed5f5146b52ac8639a40ca9d57aeff4d1bd2...  0.0     0.0   \n",
       "4  00006413d8573cd20ed7128e53b7b13819fe5cfc2d801f...  1.0     1.0   \n",
       "\n",
       "   club_member_status  fashion_news_frequency   age  postal_code  \\\n",
       "0                   0                       0  49.0            0   \n",
       "1                   0                       0  25.0            1   \n",
       "2                   0                       0  24.0            2   \n",
       "3                   0                       0  54.0            3   \n",
       "4                   0                       1  52.0            4   \n",
       "\n",
       "   customer_id_idx  \n",
       "0              NaN  \n",
       "1              NaN  \n",
       "2              0.0  \n",
       "3              NaN  \n",
       "4              NaN  "
      ]
     },
     "execution_count": 25,
     "metadata": {},
     "output_type": "execute_result"
    }
   ],
   "source": [
    "customers.head()"
   ]
  },
  {
   "cell_type": "code",
   "execution_count": 26,
   "id": "1ad43392",
   "metadata": {
    "executionInfo": {
     "elapsed": 17,
     "status": "ok",
     "timestamp": 1651409351485,
     "user": {
      "displayName": "Steven George",
      "userId": "07709250839253394649"
     },
     "user_tz": -60
    },
    "id": "bffe671d"
   },
   "outputs": [],
   "source": [
    "train_set_orig['customer_id_idx'] = train_set_orig['customer_id'].map(customer_id_to_idx)"
   ]
  },
  {
   "cell_type": "markdown",
   "id": "45aae218",
   "metadata": {
    "id": "6de682b4"
   },
   "source": [
    "### Train-dev split"
   ]
  },
  {
   "cell_type": "code",
   "execution_count": 27,
   "id": "a2f21b64",
   "metadata": {
    "colab": {
     "base_uri": "https://localhost:8080/"
    },
    "executionInfo": {
     "elapsed": 17,
     "status": "ok",
     "timestamp": 1651409351485,
     "user": {
      "displayName": "Steven George",
      "userId": "07709250839253394649"
     },
     "user_tz": -60
    },
    "id": "65e0f019",
    "outputId": "0117edd0-e6af-4df2-a784-2a7a76676789"
   },
   "outputs": [
    {
     "data": {
      "text/plain": [
       "(Timestamp('2020-09-07 00:00:00'), Timestamp('2020-09-14 00:00:00'))"
      ]
     },
     "execution_count": 27,
     "metadata": {},
     "output_type": "execute_result"
    }
   ],
   "source": [
    "end = train_set_orig['t_dat'].max()\n",
    "endm1 = end - datetime.timedelta(days=7)\n",
    "\n",
    "endm1, end"
   ]
  },
  {
   "cell_type": "code",
   "execution_count": 28,
   "id": "e8c93105",
   "metadata": {
    "colab": {
     "base_uri": "https://localhost:8080/"
    },
    "executionInfo": {
     "elapsed": 12,
     "status": "ok",
     "timestamp": 1651409351486,
     "user": {
      "displayName": "Steven George",
      "userId": "07709250839253394649"
     },
     "user_tz": -60
    },
    "id": "8364996c",
    "outputId": "bafe09c5-8560-472e-bb48-ec093c3d513b"
   },
   "outputs": [
    {
     "data": {
      "text/plain": [
       "((194584, 3), (8363, 3))"
      ]
     },
     "execution_count": 28,
     "metadata": {},
     "output_type": "execute_result"
    }
   ],
   "source": [
    "train_set = train_set_orig.copy()[train_set_orig['t_dat'] < endm1]\n",
    "\n",
    "dev_set = train_set_orig.copy()[train_set_orig['t_dat'] >= endm1]\n",
    "\n",
    "train_set.drop(columns=['t_dat'], inplace=True)\n",
    "dev_set.drop(columns=['t_dat'], inplace=True)\n",
    "\n",
    "train_set.shape, dev_set.shape"
   ]
  },
  {
   "cell_type": "markdown",
   "id": "a943fd4d",
   "metadata": {
    "id": "d480f28a"
   },
   "source": [
    "### Generate negative samples"
   ]
  },
  {
   "cell_type": "code",
   "execution_count": 29,
   "id": "769b8b5f",
   "metadata": {
    "colab": {
     "base_uri": "https://localhost:8080/",
     "height": 206
    },
    "executionInfo": {
     "elapsed": 335,
     "status": "ok",
     "timestamp": 1651409355025,
     "user": {
      "displayName": "Steven George",
      "userId": "07709250839253394649"
     },
     "user_tz": -60
    },
    "id": "7f2639f7",
    "outputId": "6375d99e-d08b-4a5b-e279-f1544e15bd33"
   },
   "outputs": [
    {
     "data": {
      "text/html": [
       "\n",
       "  <div id=\"df-0f76521c-df74-463c-a66d-b9df3e8f0e57\">\n",
       "    <div class=\"colab-df-container\">\n",
       "      <div>\n",
       "<style scoped>\n",
       "    .dataframe tbody tr th:only-of-type {\n",
       "        vertical-align: middle;\n",
       "    }\n",
       "\n",
       "    .dataframe tbody tr th {\n",
       "        vertical-align: top;\n",
       "    }\n",
       "\n",
       "    .dataframe thead th {\n",
       "        text-align: right;\n",
       "    }\n",
       "</style>\n",
       "<table border=\"1\" class=\"dataframe\">\n",
       "  <thead>\n",
       "    <tr style=\"text-align: right;\">\n",
       "      <th></th>\n",
       "      <th>customer_id</th>\n",
       "      <th>article_id</th>\n",
       "      <th>customer_id_idx</th>\n",
       "    </tr>\n",
       "  </thead>\n",
       "  <tbody>\n",
       "    <tr>\n",
       "      <th>17</th>\n",
       "      <td>02d796ea767fa2e94fc6228fe70d8af1a570da973c32f7...</td>\n",
       "      <td>0575347003</td>\n",
       "      <td>3631</td>\n",
       "    </tr>\n",
       "    <tr>\n",
       "      <th>43</th>\n",
       "      <td>09bca14258b7e9b9ee968adffe54d45c1e370e8ed79a22...</td>\n",
       "      <td>0579541001</td>\n",
       "      <td>1120</td>\n",
       "    </tr>\n",
       "    <tr>\n",
       "      <th>55</th>\n",
       "      <td>183c939bc508ee9c530be249a4e940aace700cdc774e2c...</td>\n",
       "      <td>0615141002</td>\n",
       "      <td>8343</td>\n",
       "    </tr>\n",
       "    <tr>\n",
       "      <th>72</th>\n",
       "      <td>1b9496dbe47dd45ffff1630aa2b532d1a5c924c6104d66...</td>\n",
       "      <td>0562245046</td>\n",
       "      <td>2259</td>\n",
       "    </tr>\n",
       "    <tr>\n",
       "      <th>77</th>\n",
       "      <td>1b9496dbe47dd45ffff1630aa2b532d1a5c924c6104d66...</td>\n",
       "      <td>0562245001</td>\n",
       "      <td>2259</td>\n",
       "    </tr>\n",
       "  </tbody>\n",
       "</table>\n",
       "</div>\n",
       "      <button class=\"colab-df-convert\" onclick=\"convertToInteractive('df-0f76521c-df74-463c-a66d-b9df3e8f0e57')\"\n",
       "              title=\"Convert this dataframe to an interactive table.\"\n",
       "              style=\"display:none;\">\n",
       "        \n",
       "  <svg xmlns=\"http://www.w3.org/2000/svg\" height=\"24px\"viewBox=\"0 0 24 24\"\n",
       "       width=\"24px\">\n",
       "    <path d=\"M0 0h24v24H0V0z\" fill=\"none\"/>\n",
       "    <path d=\"M18.56 5.44l.94 2.06.94-2.06 2.06-.94-2.06-.94-.94-2.06-.94 2.06-2.06.94zm-11 1L8.5 8.5l.94-2.06 2.06-.94-2.06-.94L8.5 2.5l-.94 2.06-2.06.94zm10 10l.94 2.06.94-2.06 2.06-.94-2.06-.94-.94-2.06-.94 2.06-2.06.94z\"/><path d=\"M17.41 7.96l-1.37-1.37c-.4-.4-.92-.59-1.43-.59-.52 0-1.04.2-1.43.59L10.3 9.45l-7.72 7.72c-.78.78-.78 2.05 0 2.83L4 21.41c.39.39.9.59 1.41.59.51 0 1.02-.2 1.41-.59l7.78-7.78 2.81-2.81c.8-.78.8-2.07 0-2.86zM5.41 20L4 18.59l7.72-7.72 1.47 1.35L5.41 20z\"/>\n",
       "  </svg>\n",
       "      </button>\n",
       "      \n",
       "  <style>\n",
       "    .colab-df-container {\n",
       "      display:flex;\n",
       "      flex-wrap:wrap;\n",
       "      gap: 12px;\n",
       "    }\n",
       "\n",
       "    .colab-df-convert {\n",
       "      background-color: #E8F0FE;\n",
       "      border: none;\n",
       "      border-radius: 50%;\n",
       "      cursor: pointer;\n",
       "      display: none;\n",
       "      fill: #1967D2;\n",
       "      height: 32px;\n",
       "      padding: 0 0 0 0;\n",
       "      width: 32px;\n",
       "    }\n",
       "\n",
       "    .colab-df-convert:hover {\n",
       "      background-color: #E2EBFA;\n",
       "      box-shadow: 0px 1px 2px rgba(60, 64, 67, 0.3), 0px 1px 3px 1px rgba(60, 64, 67, 0.15);\n",
       "      fill: #174EA6;\n",
       "    }\n",
       "\n",
       "    [theme=dark] .colab-df-convert {\n",
       "      background-color: #3B4455;\n",
       "      fill: #D2E3FC;\n",
       "    }\n",
       "\n",
       "    [theme=dark] .colab-df-convert:hover {\n",
       "      background-color: #434B5C;\n",
       "      box-shadow: 0px 1px 3px 1px rgba(0, 0, 0, 0.15);\n",
       "      filter: drop-shadow(0px 1px 2px rgba(0, 0, 0, 0.3));\n",
       "      fill: #FFFFFF;\n",
       "    }\n",
       "  </style>\n",
       "\n",
       "      <script>\n",
       "        const buttonEl =\n",
       "          document.querySelector('#df-0f76521c-df74-463c-a66d-b9df3e8f0e57 button.colab-df-convert');\n",
       "        buttonEl.style.display =\n",
       "          google.colab.kernel.accessAllowed ? 'block' : 'none';\n",
       "\n",
       "        async function convertToInteractive(key) {\n",
       "          const element = document.querySelector('#df-0f76521c-df74-463c-a66d-b9df3e8f0e57');\n",
       "          const dataTable =\n",
       "            await google.colab.kernel.invokeFunction('convertToInteractive',\n",
       "                                                     [key], {});\n",
       "          if (!dataTable) return;\n",
       "\n",
       "          const docLinkHtml = 'Like what you see? Visit the ' +\n",
       "            '<a target=\"_blank\" href=https://colab.research.google.com/notebooks/data_table.ipynb>data table notebook</a>'\n",
       "            + ' to learn more about interactive tables.';\n",
       "          element.innerHTML = '';\n",
       "          dataTable['output_type'] = 'display_data';\n",
       "          await google.colab.output.renderOutput(dataTable, element);\n",
       "          const docLink = document.createElement('div');\n",
       "          docLink.innerHTML = docLinkHtml;\n",
       "          element.appendChild(docLink);\n",
       "        }\n",
       "      </script>\n",
       "    </div>\n",
       "  </div>\n",
       "  "
      ],
      "text/plain": [
       "                                          customer_id  article_id  \\\n",
       "17  02d796ea767fa2e94fc6228fe70d8af1a570da973c32f7...  0575347003   \n",
       "43  09bca14258b7e9b9ee968adffe54d45c1e370e8ed79a22...  0579541001   \n",
       "55  183c939bc508ee9c530be249a4e940aace700cdc774e2c...  0615141002   \n",
       "72  1b9496dbe47dd45ffff1630aa2b532d1a5c924c6104d66...  0562245046   \n",
       "77  1b9496dbe47dd45ffff1630aa2b532d1a5c924c6104d66...  0562245001   \n",
       "\n",
       "    customer_id_idx  \n",
       "17             3631  \n",
       "43             1120  \n",
       "55             8343  \n",
       "72             2259  \n",
       "77             2259  "
      ]
     },
     "execution_count": 29,
     "metadata": {},
     "output_type": "execute_result"
    }
   ],
   "source": [
    "train_set.head()"
   ]
  },
  {
   "cell_type": "code",
   "execution_count": 30,
   "id": "9b285796",
   "metadata": {
    "colab": {
     "base_uri": "https://localhost:8080/"
    },
    "executionInfo": {
     "elapsed": 4,
     "status": "ok",
     "timestamp": 1651409356040,
     "user": {
      "displayName": "Steven George",
      "userId": "07709250839253394649"
     },
     "user_tz": -60
    },
    "id": "094badc9",
    "outputId": "eb919e26-ee47-43ea-9f04-f8223aed86e2"
   },
   "outputs": [
    {
     "data": {
      "text/plain": [
       "['0706016001', '0706016002', '0372860001', '0610776002', '0759871002']"
      ]
     },
     "execution_count": 30,
     "metadata": {},
     "output_type": "execute_result"
    }
   ],
   "source": [
    "top_1000 = train_set['article_id'].value_counts().head(1000).index.tolist()\n",
    "top_1000[:5]"
   ]
  },
  {
   "cell_type": "code",
   "execution_count": 31,
   "id": "d1e3a231",
   "metadata": {
    "executionInfo": {
     "elapsed": 327,
     "status": "ok",
     "timestamp": 1651409361979,
     "user": {
      "displayName": "Steven George",
      "userId": "07709250839253394649"
     },
     "user_tz": -60
    },
    "id": "044bf21e"
   },
   "outputs": [],
   "source": [
    "# print(train_set.shape)\n",
    "# train_set = train_set.copy()[train_set['article_id'].isin(top_1000)]\n",
    "# print(train_set.shape)"
   ]
  },
  {
   "cell_type": "code",
   "execution_count": 32,
   "id": "0eed80aa",
   "metadata": {
    "executionInfo": {
     "elapsed": 2,
     "status": "ok",
     "timestamp": 1651409362490,
     "user": {
      "displayName": "Steven George",
      "userId": "07709250839253394649"
     },
     "user_tz": -60
    },
    "id": "5362707b"
   },
   "outputs": [],
   "source": [
    "# print(dev_set.shape)\n",
    "# dev_set = dev_set.copy()[dev_set['article_id'].isin(top_1000)]\n",
    "# print(dev_set.shape)"
   ]
  },
  {
   "cell_type": "code",
   "execution_count": 33,
   "id": "a34d92f0",
   "metadata": {
    "colab": {
     "base_uri": "https://localhost:8080/",
     "height": 224
    },
    "executionInfo": {
     "elapsed": 406,
     "status": "ok",
     "timestamp": 1651409368404,
     "user": {
      "displayName": "Steven George",
      "userId": "07709250839253394649"
     },
     "user_tz": -60
    },
    "id": "afc2411e",
    "outputId": "52203e44-aca1-49bb-9c1b-37fece472a20"
   },
   "outputs": [
    {
     "name": "stdout",
     "output_type": "stream",
     "text": [
      "(8778, 2)\n"
     ]
    },
    {
     "data": {
      "text/html": [
       "\n",
       "  <div id=\"df-25a1f167-02fc-4147-9c81-738867763a0e\">\n",
       "    <div class=\"colab-df-container\">\n",
       "      <div>\n",
       "<style scoped>\n",
       "    .dataframe tbody tr th:only-of-type {\n",
       "        vertical-align: middle;\n",
       "    }\n",
       "\n",
       "    .dataframe tbody tr th {\n",
       "        vertical-align: top;\n",
       "    }\n",
       "\n",
       "    .dataframe thead th {\n",
       "        text-align: right;\n",
       "    }\n",
       "</style>\n",
       "<table border=\"1\" class=\"dataframe\">\n",
       "  <thead>\n",
       "    <tr style=\"text-align: right;\">\n",
       "      <th></th>\n",
       "      <th>customer_id</th>\n",
       "      <th>article_id</th>\n",
       "    </tr>\n",
       "  </thead>\n",
       "  <tbody>\n",
       "    <tr>\n",
       "      <th>0</th>\n",
       "      <td>000058a12d5b43e67d225668fa1f8d618c13dc232df0ca...</td>\n",
       "      <td>[0723529001, 0351484002, 0351484002, 0851400006]</td>\n",
       "    </tr>\n",
       "    <tr>\n",
       "      <th>1</th>\n",
       "      <td>0015f37f752a41a75c3be6f3f92deedc4c87d039f1758e...</td>\n",
       "      <td>[0714029002, 0591334019, 0685813001, 075147100...</td>\n",
       "    </tr>\n",
       "    <tr>\n",
       "      <th>2</th>\n",
       "      <td>00282135561702f5b3b750fa3382d8fd83ce5d761a507e...</td>\n",
       "      <td>[0570002001, 0770816001, 0501620042, 082217100...</td>\n",
       "    </tr>\n",
       "    <tr>\n",
       "      <th>3</th>\n",
       "      <td>00462904b288681a9facb555f75dd2cf4d0f730a6e0ea7...</td>\n",
       "      <td>[0201219001, 0322017003, 0156231001, 075475100...</td>\n",
       "    </tr>\n",
       "    <tr>\n",
       "      <th>4</th>\n",
       "      <td>004d932f7a27ac3167c77db81d9cfd89392729e7f7e0d4...</td>\n",
       "      <td>[0679854005, 0679854005, 0679854005, 057371601...</td>\n",
       "    </tr>\n",
       "  </tbody>\n",
       "</table>\n",
       "</div>\n",
       "      <button class=\"colab-df-convert\" onclick=\"convertToInteractive('df-25a1f167-02fc-4147-9c81-738867763a0e')\"\n",
       "              title=\"Convert this dataframe to an interactive table.\"\n",
       "              style=\"display:none;\">\n",
       "        \n",
       "  <svg xmlns=\"http://www.w3.org/2000/svg\" height=\"24px\"viewBox=\"0 0 24 24\"\n",
       "       width=\"24px\">\n",
       "    <path d=\"M0 0h24v24H0V0z\" fill=\"none\"/>\n",
       "    <path d=\"M18.56 5.44l.94 2.06.94-2.06 2.06-.94-2.06-.94-.94-2.06-.94 2.06-2.06.94zm-11 1L8.5 8.5l.94-2.06 2.06-.94-2.06-.94L8.5 2.5l-.94 2.06-2.06.94zm10 10l.94 2.06.94-2.06 2.06-.94-2.06-.94-.94-2.06-.94 2.06-2.06.94z\"/><path d=\"M17.41 7.96l-1.37-1.37c-.4-.4-.92-.59-1.43-.59-.52 0-1.04.2-1.43.59L10.3 9.45l-7.72 7.72c-.78.78-.78 2.05 0 2.83L4 21.41c.39.39.9.59 1.41.59.51 0 1.02-.2 1.41-.59l7.78-7.78 2.81-2.81c.8-.78.8-2.07 0-2.86zM5.41 20L4 18.59l7.72-7.72 1.47 1.35L5.41 20z\"/>\n",
       "  </svg>\n",
       "      </button>\n",
       "      \n",
       "  <style>\n",
       "    .colab-df-container {\n",
       "      display:flex;\n",
       "      flex-wrap:wrap;\n",
       "      gap: 12px;\n",
       "    }\n",
       "\n",
       "    .colab-df-convert {\n",
       "      background-color: #E8F0FE;\n",
       "      border: none;\n",
       "      border-radius: 50%;\n",
       "      cursor: pointer;\n",
       "      display: none;\n",
       "      fill: #1967D2;\n",
       "      height: 32px;\n",
       "      padding: 0 0 0 0;\n",
       "      width: 32px;\n",
       "    }\n",
       "\n",
       "    .colab-df-convert:hover {\n",
       "      background-color: #E2EBFA;\n",
       "      box-shadow: 0px 1px 2px rgba(60, 64, 67, 0.3), 0px 1px 3px 1px rgba(60, 64, 67, 0.15);\n",
       "      fill: #174EA6;\n",
       "    }\n",
       "\n",
       "    [theme=dark] .colab-df-convert {\n",
       "      background-color: #3B4455;\n",
       "      fill: #D2E3FC;\n",
       "    }\n",
       "\n",
       "    [theme=dark] .colab-df-convert:hover {\n",
       "      background-color: #434B5C;\n",
       "      box-shadow: 0px 1px 3px 1px rgba(0, 0, 0, 0.15);\n",
       "      filter: drop-shadow(0px 1px 2px rgba(0, 0, 0, 0.3));\n",
       "      fill: #FFFFFF;\n",
       "    }\n",
       "  </style>\n",
       "\n",
       "      <script>\n",
       "        const buttonEl =\n",
       "          document.querySelector('#df-25a1f167-02fc-4147-9c81-738867763a0e button.colab-df-convert');\n",
       "        buttonEl.style.display =\n",
       "          google.colab.kernel.accessAllowed ? 'block' : 'none';\n",
       "\n",
       "        async function convertToInteractive(key) {\n",
       "          const element = document.querySelector('#df-25a1f167-02fc-4147-9c81-738867763a0e');\n",
       "          const dataTable =\n",
       "            await google.colab.kernel.invokeFunction('convertToInteractive',\n",
       "                                                     [key], {});\n",
       "          if (!dataTable) return;\n",
       "\n",
       "          const docLinkHtml = 'Like what you see? Visit the ' +\n",
       "            '<a target=\"_blank\" href=https://colab.research.google.com/notebooks/data_table.ipynb>data table notebook</a>'\n",
       "            + ' to learn more about interactive tables.';\n",
       "          element.innerHTML = '';\n",
       "          dataTable['output_type'] = 'display_data';\n",
       "          await google.colab.output.renderOutput(dataTable, element);\n",
       "          const docLink = document.createElement('div');\n",
       "          docLink.innerHTML = docLinkHtml;\n",
       "          element.appendChild(docLink);\n",
       "        }\n",
       "      </script>\n",
       "    </div>\n",
       "  </div>\n",
       "  "
      ],
      "text/plain": [
       "                                         customer_id  \\\n",
       "0  000058a12d5b43e67d225668fa1f8d618c13dc232df0ca...   \n",
       "1  0015f37f752a41a75c3be6f3f92deedc4c87d039f1758e...   \n",
       "2  00282135561702f5b3b750fa3382d8fd83ce5d761a507e...   \n",
       "3  00462904b288681a9facb555f75dd2cf4d0f730a6e0ea7...   \n",
       "4  004d932f7a27ac3167c77db81d9cfd89392729e7f7e0d4...   \n",
       "\n",
       "                                          article_id  \n",
       "0   [0723529001, 0351484002, 0351484002, 0851400006]  \n",
       "1  [0714029002, 0591334019, 0685813001, 075147100...  \n",
       "2  [0570002001, 0770816001, 0501620042, 082217100...  \n",
       "3  [0201219001, 0322017003, 0156231001, 075475100...  \n",
       "4  [0679854005, 0679854005, 0679854005, 057371601...  "
      ]
     },
     "execution_count": 33,
     "metadata": {},
     "output_type": "execute_result"
    }
   ],
   "source": [
    "train_set_by_customer = train_set.groupby('customer_id')['article_id'].apply(lambda x: list(x)).reset_index()\n",
    "print(train_set_by_customer.shape)\n",
    "train_set_by_customer.head()"
   ]
  },
  {
   "cell_type": "code",
   "execution_count": 34,
   "id": "07e82eb0",
   "metadata": {
    "executionInfo": {
     "elapsed": 854,
     "status": "ok",
     "timestamp": 1651409377760,
     "user": {
      "displayName": "Steven George",
      "userId": "07709250839253394649"
     },
     "user_tz": -60
    },
    "id": "7d8d30c8"
   },
   "outputs": [],
   "source": [
    "train_set_by_customer['negative_samples'] = train_set_by_customer.apply(lambda x: list(set(top_1000) - set(x['article_id'])), axis=1)"
   ]
  },
  {
   "cell_type": "code",
   "execution_count": 35,
   "id": "ad814f5a",
   "metadata": {
    "executionInfo": {
     "elapsed": 4,
     "status": "ok",
     "timestamp": 1651409378913,
     "user": {
      "displayName": "Steven George",
      "userId": "07709250839253394649"
     },
     "user_tz": -60
    },
    "id": "365ae391"
   },
   "outputs": [],
   "source": [
    "train_set_by_customer['num_negative_samples'] = train_set_by_customer['negative_samples'].apply(len)"
   ]
  },
  {
   "cell_type": "code",
   "execution_count": 36,
   "id": "98bd04a0",
   "metadata": {
    "colab": {
     "base_uri": "https://localhost:8080/",
     "height": 282
    },
    "executionInfo": {
     "elapsed": 436,
     "status": "ok",
     "timestamp": 1651409380640,
     "user": {
      "displayName": "Steven George",
      "userId": "07709250839253394649"
     },
     "user_tz": -60
    },
    "id": "39dd6114",
    "outputId": "545c4c09-16cb-4dcf-f42e-cc49cf7c3f10"
   },
   "outputs": [
    {
     "data": {
      "text/plain": [
       "<matplotlib.axes._subplots.AxesSubplot at 0x7fca5ed65bd0>"
      ]
     },
     "execution_count": 36,
     "metadata": {},
     "output_type": "execute_result"
    },
    {
     "data": {
      "image/png": "[encoded data removed]",
      "text/plain": [
       "<Figure size 432x288 with 1 Axes>"
      ]
     },
     "metadata": {
      "needs_background": "light"
     },
     "output_type": "display_data"
    }
   ],
   "source": [
    "train_set_by_customer['num_negative_samples'].hist()"
   ]
  },
  {
   "cell_type": "code",
   "execution_count": 38,
   "id": "96e1a272",
   "metadata": {
    "executionInfo": {
     "elapsed": 343,
     "status": "ok",
     "timestamp": 1651409430053,
     "user": {
      "displayName": "Steven George",
      "userId": "07709250839253394649"
     },
     "user_tz": -60
    },
    "id": "cb620f2e"
   },
   "outputs": [],
   "source": [
    "# (train_set_by_customer['num_negative_samples'] == 1000).mean()"
   ]
  },
  {
   "cell_type": "markdown",
   "id": "b444afe2",
   "metadata": {
    "id": "336bbee4"
   },
   "source": [
    "Drop customers with 1000 negative examples, which means they had no positive examples in this set"
   ]
  },
  {
   "cell_type": "code",
   "execution_count": 39,
   "id": "28db89f3",
   "metadata": {
    "executionInfo": {
     "elapsed": 432,
     "status": "ok",
     "timestamp": 1651409434362,
     "user": {
      "displayName": "Steven George",
      "userId": "07709250839253394649"
     },
     "user_tz": -60
    },
    "id": "8c368443"
   },
   "outputs": [],
   "source": [
    "# train_set_by_customer = train_set_by_customer.copy()[train_set_by_customer['num_negative_samples'] != 1000]"
   ]
  },
  {
   "cell_type": "code",
   "execution_count": 40,
   "id": "aed121ca",
   "metadata": {
    "colab": {
     "base_uri": "https://localhost:8080/",
     "height": 206
    },
    "executionInfo": {
     "elapsed": 589,
     "status": "ok",
     "timestamp": 1651409437974,
     "user": {
      "displayName": "Steven George",
      "userId": "07709250839253394649"
     },
     "user_tz": -60
    },
    "id": "cbd4b282",
    "outputId": "7f155e73-d971-4c76-c666-24fd0eb136eb"
   },
   "outputs": [
    {
     "data": {
      "text/html": [
       "\n",
       "  <div id=\"df-c69534ff-75fd-4567-b2eb-53aeb53ada9c\">\n",
       "    <div class=\"colab-df-container\">\n",
       "      <div>\n",
       "<style scoped>\n",
       "    .dataframe tbody tr th:only-of-type {\n",
       "        vertical-align: middle;\n",
       "    }\n",
       "\n",
       "    .dataframe tbody tr th {\n",
       "        vertical-align: top;\n",
       "    }\n",
       "\n",
       "    .dataframe thead th {\n",
       "        text-align: right;\n",
       "    }\n",
       "</style>\n",
       "<table border=\"1\" class=\"dataframe\">\n",
       "  <thead>\n",
       "    <tr style=\"text-align: right;\">\n",
       "      <th></th>\n",
       "      <th>customer_id</th>\n",
       "      <th>article_id</th>\n",
       "      <th>negative_samples</th>\n",
       "      <th>num_negative_samples</th>\n",
       "    </tr>\n",
       "  </thead>\n",
       "  <tbody>\n",
       "    <tr>\n",
       "      <th>0</th>\n",
       "      <td>000058a12d5b43e67d225668fa1f8d618c13dc232df0ca...</td>\n",
       "      <td>[0723529001, 0351484002, 0351484002, 0851400006]</td>\n",
       "      <td>[0554450027, 0685814001, 0857812006, 081803100...</td>\n",
       "      <td>998</td>\n",
       "    </tr>\n",
       "    <tr>\n",
       "      <th>1</th>\n",
       "      <td>0015f37f752a41a75c3be6f3f92deedc4c87d039f1758e...</td>\n",
       "      <td>[0714029002, 0591334019, 0685813001, 075147100...</td>\n",
       "      <td>[0554450027, 0685814001, 0857812006, 081803100...</td>\n",
       "      <td>989</td>\n",
       "    </tr>\n",
       "    <tr>\n",
       "      <th>2</th>\n",
       "      <td>00282135561702f5b3b750fa3382d8fd83ce5d761a507e...</td>\n",
       "      <td>[0570002001, 0770816001, 0501620042, 082217100...</td>\n",
       "      <td>[0554450027, 0685814001, 0857812006, 081803100...</td>\n",
       "      <td>999</td>\n",
       "    </tr>\n",
       "    <tr>\n",
       "      <th>3</th>\n",
       "      <td>00462904b288681a9facb555f75dd2cf4d0f730a6e0ea7...</td>\n",
       "      <td>[0201219001, 0322017003, 0156231001, 075475100...</td>\n",
       "      <td>[0554450027, 0685814001, 0857812006, 081803100...</td>\n",
       "      <td>990</td>\n",
       "    </tr>\n",
       "    <tr>\n",
       "      <th>4</th>\n",
       "      <td>004d932f7a27ac3167c77db81d9cfd89392729e7f7e0d4...</td>\n",
       "      <td>[0679854005, 0679854005, 0679854005, 057371601...</td>\n",
       "      <td>[0554450027, 0685814001, 0857812006, 081803100...</td>\n",
       "      <td>988</td>\n",
       "    </tr>\n",
       "  </tbody>\n",
       "</table>\n",
       "</div>\n",
       "      <button class=\"colab-df-convert\" onclick=\"convertToInteractive('df-c69534ff-75fd-4567-b2eb-53aeb53ada9c')\"\n",
       "              title=\"Convert this dataframe to an interactive table.\"\n",
       "              style=\"display:none;\">\n",
       "        \n",
       "  <svg xmlns=\"http://www.w3.org/2000/svg\" height=\"24px\"viewBox=\"0 0 24 24\"\n",
       "       width=\"24px\">\n",
       "    <path d=\"M0 0h24v24H0V0z\" fill=\"none\"/>\n",
       "    <path d=\"M18.56 5.44l.94 2.06.94-2.06 2.06-.94-2.06-.94-.94-2.06-.94 2.06-2.06.94zm-11 1L8.5 8.5l.94-2.06 2.06-.94-2.06-.94L8.5 2.5l-.94 2.06-2.06.94zm10 10l.94 2.06.94-2.06 2.06-.94-2.06-.94-.94-2.06-.94 2.06-2.06.94z\"/><path d=\"M17.41 7.96l-1.37-1.37c-.4-.4-.92-.59-1.43-.59-.52 0-1.04.2-1.43.59L10.3 9.45l-7.72 7.72c-.78.78-.78 2.05 0 2.83L4 21.41c.39.39.9.59 1.41.59.51 0 1.02-.2 1.41-.59l7.78-7.78 2.81-2.81c.8-.78.8-2.07 0-2.86zM5.41 20L4 18.59l7.72-7.72 1.47 1.35L5.41 20z\"/>\n",
       "  </svg>\n",
       "      </button>\n",
       "      \n",
       "  <style>\n",
       "    .colab-df-container {\n",
       "      display:flex;\n",
       "      flex-wrap:wrap;\n",
       "      gap: 12px;\n",
       "    }\n",
       "\n",
       "    .colab-df-convert {\n",
       "      background-color: #E8F0FE;\n",
       "      border: none;\n",
       "      border-radius: 50%;\n",
       "      cursor: pointer;\n",
       "      display: none;\n",
       "      fill: #1967D2;\n",
       "      height: 32px;\n",
       "      padding: 0 0 0 0;\n",
       "      width: 32px;\n",
       "    }\n",
       "\n",
       "    .colab-df-convert:hover {\n",
       "      background-color: #E2EBFA;\n",
       "      box-shadow: 0px 1px 2px rgba(60, 64, 67, 0.3), 0px 1px 3px 1px rgba(60, 64, 67, 0.15);\n",
       "      fill: #174EA6;\n",
       "    }\n",
       "\n",
       "    [theme=dark] .colab-df-convert {\n",
       "      background-color: #3B4455;\n",
       "      fill: #D2E3FC;\n",
       "    }\n",
       "\n",
       "    [theme=dark] .colab-df-convert:hover {\n",
       "      background-color: #434B5C;\n",
       "      box-shadow: 0px 1px 3px 1px rgba(0, 0, 0, 0.15);\n",
       "      filter: drop-shadow(0px 1px 2px rgba(0, 0, 0, 0.3));\n",
       "      fill: #FFFFFF;\n",
       "    }\n",
       "  </style>\n",
       "\n",
       "      <script>\n",
       "        const buttonEl =\n",
       "          document.querySelector('#df-c69534ff-75fd-4567-b2eb-53aeb53ada9c button.colab-df-convert');\n",
       "        buttonEl.style.display =\n",
       "          google.colab.kernel.accessAllowed ? 'block' : 'none';\n",
       "\n",
       "        async function convertToInteractive(key) {\n",
       "          const element = document.querySelector('#df-c69534ff-75fd-4567-b2eb-53aeb53ada9c');\n",
       "          const dataTable =\n",
       "            await google.colab.kernel.invokeFunction('convertToInteractive',\n",
       "                                                     [key], {});\n",
       "          if (!dataTable) return;\n",
       "\n",
       "          const docLinkHtml = 'Like what you see? Visit the ' +\n",
       "            '<a target=\"_blank\" href=https://colab.research.google.com/notebooks/data_table.ipynb>data table notebook</a>'\n",
       "            + ' to learn more about interactive tables.';\n",
       "          element.innerHTML = '';\n",
       "          dataTable['output_type'] = 'display_data';\n",
       "          await google.colab.output.renderOutput(dataTable, element);\n",
       "          const docLink = document.createElement('div');\n",
       "          docLink.innerHTML = docLinkHtml;\n",
       "          element.appendChild(docLink);\n",
       "        }\n",
       "      </script>\n",
       "    </div>\n",
       "  </div>\n",
       "  "
      ],
      "text/plain": [
       "                                         customer_id  \\\n",
       "0  000058a12d5b43e67d225668fa1f8d618c13dc232df0ca...   \n",
       "1  0015f37f752a41a75c3be6f3f92deedc4c87d039f1758e...   \n",
       "2  00282135561702f5b3b750fa3382d8fd83ce5d761a507e...   \n",
       "3  00462904b288681a9facb555f75dd2cf4d0f730a6e0ea7...   \n",
       "4  004d932f7a27ac3167c77db81d9cfd89392729e7f7e0d4...   \n",
       "\n",
       "                                          article_id  \\\n",
       "0   [0723529001, 0351484002, 0351484002, 0851400006]   \n",
       "1  [0714029002, 0591334019, 0685813001, 075147100...   \n",
       "2  [0570002001, 0770816001, 0501620042, 082217100...   \n",
       "3  [0201219001, 0322017003, 0156231001, 075475100...   \n",
       "4  [0679854005, 0679854005, 0679854005, 057371601...   \n",
       "\n",
       "                                    negative_samples  num_negative_samples  \n",
       "0  [0554450027, 0685814001, 0857812006, 081803100...                   998  \n",
       "1  [0554450027, 0685814001, 0857812006, 081803100...                   989  \n",
       "2  [0554450027, 0685814001, 0857812006, 081803100...                   999  \n",
       "3  [0554450027, 0685814001, 0857812006, 081803100...                   990  \n",
       "4  [0554450027, 0685814001, 0857812006, 081803100...                   988  "
      ]
     },
     "execution_count": 40,
     "metadata": {},
     "output_type": "execute_result"
    }
   ],
   "source": [
    "train_set_by_customer.head()"
   ]
  },
  {
   "cell_type": "code",
   "execution_count": 41,
   "id": "03277ba4",
   "metadata": {
    "colab": {
     "base_uri": "https://localhost:8080/",
     "height": 224
    },
    "executionInfo": {
     "elapsed": 1178,
     "status": "ok",
     "timestamp": 1651409443386,
     "user": {
      "displayName": "Steven George",
      "userId": "07709250839253394649"
     },
     "user_tz": -60
    },
    "id": "0415107c",
    "outputId": "df1c293d-4803-4a39-d8b7-d04402ac6c46"
   },
   "outputs": [
    {
     "name": "stdout",
     "output_type": "stream",
     "text": [
      "(8710061, 3)\n"
     ]
    },
    {
     "data": {
      "text/html": [
       "\n",
       "  <div id=\"df-34bbd2e5-1fb2-41c8-8812-46cf10b7a852\">\n",
       "    <div class=\"colab-df-container\">\n",
       "      <div>\n",
       "<style scoped>\n",
       "    .dataframe tbody tr th:only-of-type {\n",
       "        vertical-align: middle;\n",
       "    }\n",
       "\n",
       "    .dataframe tbody tr th {\n",
       "        vertical-align: top;\n",
       "    }\n",
       "\n",
       "    .dataframe thead th {\n",
       "        text-align: right;\n",
       "    }\n",
       "</style>\n",
       "<table border=\"1\" class=\"dataframe\">\n",
       "  <thead>\n",
       "    <tr style=\"text-align: right;\">\n",
       "      <th></th>\n",
       "      <th>customer_id</th>\n",
       "      <th>article_id</th>\n",
       "      <th>purchased</th>\n",
       "    </tr>\n",
       "  </thead>\n",
       "  <tbody>\n",
       "    <tr>\n",
       "      <th>0</th>\n",
       "      <td>000058a12d5b43e67d225668fa1f8d618c13dc232df0ca...</td>\n",
       "      <td>0554450027</td>\n",
       "      <td>0</td>\n",
       "    </tr>\n",
       "    <tr>\n",
       "      <th>0</th>\n",
       "      <td>000058a12d5b43e67d225668fa1f8d618c13dc232df0ca...</td>\n",
       "      <td>0685814001</td>\n",
       "      <td>0</td>\n",
       "    </tr>\n",
       "    <tr>\n",
       "      <th>0</th>\n",
       "      <td>000058a12d5b43e67d225668fa1f8d618c13dc232df0ca...</td>\n",
       "      <td>0857812006</td>\n",
       "      <td>0</td>\n",
       "    </tr>\n",
       "    <tr>\n",
       "      <th>0</th>\n",
       "      <td>000058a12d5b43e67d225668fa1f8d618c13dc232df0ca...</td>\n",
       "      <td>0818031003</td>\n",
       "      <td>0</td>\n",
       "    </tr>\n",
       "    <tr>\n",
       "      <th>0</th>\n",
       "      <td>000058a12d5b43e67d225668fa1f8d618c13dc232df0ca...</td>\n",
       "      <td>0832359001</td>\n",
       "      <td>0</td>\n",
       "    </tr>\n",
       "  </tbody>\n",
       "</table>\n",
       "</div>\n",
       "      <button class=\"colab-df-convert\" onclick=\"convertToInteractive('df-34bbd2e5-1fb2-41c8-8812-46cf10b7a852')\"\n",
       "              title=\"Convert this dataframe to an interactive table.\"\n",
       "              style=\"display:none;\">\n",
       "        \n",
       "  <svg xmlns=\"http://www.w3.org/2000/svg\" height=\"24px\"viewBox=\"0 0 24 24\"\n",
       "       width=\"24px\">\n",
       "    <path d=\"M0 0h24v24H0V0z\" fill=\"none\"/>\n",
       "    <path d=\"M18.56 5.44l.94 2.06.94-2.06 2.06-.94-2.06-.94-.94-2.06-.94 2.06-2.06.94zm-11 1L8.5 8.5l.94-2.06 2.06-.94-2.06-.94L8.5 2.5l-.94 2.06-2.06.94zm10 10l.94 2.06.94-2.06 2.06-.94-2.06-.94-.94-2.06-.94 2.06-2.06.94z\"/><path d=\"M17.41 7.96l-1.37-1.37c-.4-.4-.92-.59-1.43-.59-.52 0-1.04.2-1.43.59L10.3 9.45l-7.72 7.72c-.78.78-.78 2.05 0 2.83L4 21.41c.39.39.9.59 1.41.59.51 0 1.02-.2 1.41-.59l7.78-7.78 2.81-2.81c.8-.78.8-2.07 0-2.86zM5.41 20L4 18.59l7.72-7.72 1.47 1.35L5.41 20z\"/>\n",
       "  </svg>\n",
       "      </button>\n",
       "      \n",
       "  <style>\n",
       "    .colab-df-container {\n",
       "      display:flex;\n",
       "      flex-wrap:wrap;\n",
       "      gap: 12px;\n",
       "    }\n",
       "\n",
       "    .colab-df-convert {\n",
       "      background-color: #E8F0FE;\n",
       "      border: none;\n",
       "      border-radius: 50%;\n",
       "      cursor: pointer;\n",
       "      display: none;\n",
       "      fill: #1967D2;\n",
       "      height: 32px;\n",
       "      padding: 0 0 0 0;\n",
       "      width: 32px;\n",
       "    }\n",
       "\n",
       "    .colab-df-convert:hover {\n",
       "      background-color: #E2EBFA;\n",
       "      box-shadow: 0px 1px 2px rgba(60, 64, 67, 0.3), 0px 1px 3px 1px rgba(60, 64, 67, 0.15);\n",
       "      fill: #174EA6;\n",
       "    }\n",
       "\n",
       "    [theme=dark] .colab-df-convert {\n",
       "      background-color: #3B4455;\n",
       "      fill: #D2E3FC;\n",
       "    }\n",
       "\n",
       "    [theme=dark] .colab-df-convert:hover {\n",
       "      background-color: #434B5C;\n",
       "      box-shadow: 0px 1px 3px 1px rgba(0, 0, 0, 0.15);\n",
       "      filter: drop-shadow(0px 1px 2px rgba(0, 0, 0, 0.3));\n",
       "      fill: #FFFFFF;\n",
       "    }\n",
       "  </style>\n",
       "\n",
       "      <script>\n",
       "        const buttonEl =\n",
       "          document.querySelector('#df-34bbd2e5-1fb2-41c8-8812-46cf10b7a852 button.colab-df-convert');\n",
       "        buttonEl.style.display =\n",
       "          google.colab.kernel.accessAllowed ? 'block' : 'none';\n",
       "\n",
       "        async function convertToInteractive(key) {\n",
       "          const element = document.querySelector('#df-34bbd2e5-1fb2-41c8-8812-46cf10b7a852');\n",
       "          const dataTable =\n",
       "            await google.colab.kernel.invokeFunction('convertToInteractive',\n",
       "                                                     [key], {});\n",
       "          if (!dataTable) return;\n",
       "\n",
       "          const docLinkHtml = 'Like what you see? Visit the ' +\n",
       "            '<a target=\"_blank\" href=https://colab.research.google.com/notebooks/data_table.ipynb>data table notebook</a>'\n",
       "            + ' to learn more about interactive tables.';\n",
       "          element.innerHTML = '';\n",
       "          dataTable['output_type'] = 'display_data';\n",
       "          await google.colab.output.renderOutput(dataTable, element);\n",
       "          const docLink = document.createElement('div');\n",
       "          docLink.innerHTML = docLinkHtml;\n",
       "          element.appendChild(docLink);\n",
       "        }\n",
       "      </script>\n",
       "    </div>\n",
       "  </div>\n",
       "  "
      ],
      "text/plain": [
       "                                         customer_id  article_id  purchased\n",
       "0  000058a12d5b43e67d225668fa1f8d618c13dc232df0ca...  0554450027          0\n",
       "0  000058a12d5b43e67d225668fa1f8d618c13dc232df0ca...  0685814001          0\n",
       "0  000058a12d5b43e67d225668fa1f8d618c13dc232df0ca...  0857812006          0\n",
       "0  000058a12d5b43e67d225668fa1f8d618c13dc232df0ca...  0818031003          0\n",
       "0  000058a12d5b43e67d225668fa1f8d618c13dc232df0ca...  0832359001          0"
      ]
     },
     "execution_count": 41,
     "metadata": {},
     "output_type": "execute_result"
    }
   ],
   "source": [
    "negative_samples_df = train_set_by_customer[['customer_id', 'negative_samples']].explode('negative_samples')\n",
    "negative_samples_df['purchased'] = 0\n",
    "negative_samples_df.rename(columns={'negative_samples': 'article_id'}, inplace=True)\n",
    "print(negative_samples_df.shape)\n",
    "negative_samples_df.head()"
   ]
  },
  {
   "cell_type": "code",
   "execution_count": 42,
   "id": "35e1a61c",
   "metadata": {
    "colab": {
     "base_uri": "https://localhost:8080/",
     "height": 224
    },
    "executionInfo": {
     "elapsed": 347,
     "status": "ok",
     "timestamp": 1651409450040,
     "user": {
      "displayName": "Steven George",
      "userId": "07709250839253394649"
     },
     "user_tz": -60
    },
    "id": "16ef5e96",
    "outputId": "4fe3bf35-c431-4eaf-c34f-312974309873"
   },
   "outputs": [
    {
     "name": "stdout",
     "output_type": "stream",
     "text": [
      "(194584, 4)\n"
     ]
    },
    {
     "data": {
      "text/html": [
       "\n",
       "  <div id=\"df-364c4e5d-e4f8-4ae3-8a8d-5231fe5b0188\">\n",
       "    <div class=\"colab-df-container\">\n",
       "      <div>\n",
       "<style scoped>\n",
       "    .dataframe tbody tr th:only-of-type {\n",
       "        vertical-align: middle;\n",
       "    }\n",
       "\n",
       "    .dataframe tbody tr th {\n",
       "        vertical-align: top;\n",
       "    }\n",
       "\n",
       "    .dataframe thead th {\n",
       "        text-align: right;\n",
       "    }\n",
       "</style>\n",
       "<table border=\"1\" class=\"dataframe\">\n",
       "  <thead>\n",
       "    <tr style=\"text-align: right;\">\n",
       "      <th></th>\n",
       "      <th>customer_id</th>\n",
       "      <th>article_id</th>\n",
       "      <th>customer_id_idx</th>\n",
       "      <th>purchased</th>\n",
       "    </tr>\n",
       "  </thead>\n",
       "  <tbody>\n",
       "    <tr>\n",
       "      <th>17</th>\n",
       "      <td>02d796ea767fa2e94fc6228fe70d8af1a570da973c32f7...</td>\n",
       "      <td>0575347003</td>\n",
       "      <td>3631</td>\n",
       "      <td>1</td>\n",
       "    </tr>\n",
       "    <tr>\n",
       "      <th>43</th>\n",
       "      <td>09bca14258b7e9b9ee968adffe54d45c1e370e8ed79a22...</td>\n",
       "      <td>0579541001</td>\n",
       "      <td>1120</td>\n",
       "      <td>1</td>\n",
       "    </tr>\n",
       "    <tr>\n",
       "      <th>55</th>\n",
       "      <td>183c939bc508ee9c530be249a4e940aace700cdc774e2c...</td>\n",
       "      <td>0615141002</td>\n",
       "      <td>8343</td>\n",
       "      <td>1</td>\n",
       "    </tr>\n",
       "    <tr>\n",
       "      <th>72</th>\n",
       "      <td>1b9496dbe47dd45ffff1630aa2b532d1a5c924c6104d66...</td>\n",
       "      <td>0562245046</td>\n",
       "      <td>2259</td>\n",
       "      <td>1</td>\n",
       "    </tr>\n",
       "    <tr>\n",
       "      <th>77</th>\n",
       "      <td>1b9496dbe47dd45ffff1630aa2b532d1a5c924c6104d66...</td>\n",
       "      <td>0562245001</td>\n",
       "      <td>2259</td>\n",
       "      <td>1</td>\n",
       "    </tr>\n",
       "  </tbody>\n",
       "</table>\n",
       "</div>\n",
       "      <button class=\"colab-df-convert\" onclick=\"convertToInteractive('df-364c4e5d-e4f8-4ae3-8a8d-5231fe5b0188')\"\n",
       "              title=\"Convert this dataframe to an interactive table.\"\n",
       "              style=\"display:none;\">\n",
       "        \n",
       "  <svg xmlns=\"http://www.w3.org/2000/svg\" height=\"24px\"viewBox=\"0 0 24 24\"\n",
       "       width=\"24px\">\n",
       "    <path d=\"M0 0h24v24H0V0z\" fill=\"none\"/>\n",
       "    <path d=\"M18.56 5.44l.94 2.06.94-2.06 2.06-.94-2.06-.94-.94-2.06-.94 2.06-2.06.94zm-11 1L8.5 8.5l.94-2.06 2.06-.94-2.06-.94L8.5 2.5l-.94 2.06-2.06.94zm10 10l.94 2.06.94-2.06 2.06-.94-2.06-.94-.94-2.06-.94 2.06-2.06.94z\"/><path d=\"M17.41 7.96l-1.37-1.37c-.4-.4-.92-.59-1.43-.59-.52 0-1.04.2-1.43.59L10.3 9.45l-7.72 7.72c-.78.78-.78 2.05 0 2.83L4 21.41c.39.39.9.59 1.41.59.51 0 1.02-.2 1.41-.59l7.78-7.78 2.81-2.81c.8-.78.8-2.07 0-2.86zM5.41 20L4 18.59l7.72-7.72 1.47 1.35L5.41 20z\"/>\n",
       "  </svg>\n",
       "      </button>\n",
       "      \n",
       "  <style>\n",
       "    .colab-df-container {\n",
       "      display:flex;\n",
       "      flex-wrap:wrap;\n",
       "      gap: 12px;\n",
       "    }\n",
       "\n",
       "    .colab-df-convert {\n",
       "      background-color: #E8F0FE;\n",
       "      border: none;\n",
       "      border-radius: 50%;\n",
       "      cursor: pointer;\n",
       "      display: none;\n",
       "      fill: #1967D2;\n",
       "      height: 32px;\n",
       "      padding: 0 0 0 0;\n",
       "      width: 32px;\n",
       "    }\n",
       "\n",
       "    .colab-df-convert:hover {\n",
       "      background-color: #E2EBFA;\n",
       "      box-shadow: 0px 1px 2px rgba(60, 64, 67, 0.3), 0px 1px 3px 1px rgba(60, 64, 67, 0.15);\n",
       "      fill: #174EA6;\n",
       "    }\n",
       "\n",
       "    [theme=dark] .colab-df-convert {\n",
       "      background-color: #3B4455;\n",
       "      fill: #D2E3FC;\n",
       "    }\n",
       "\n",
       "    [theme=dark] .colab-df-convert:hover {\n",
       "      background-color: #434B5C;\n",
       "      box-shadow: 0px 1px 3px 1px rgba(0, 0, 0, 0.15);\n",
       "      filter: drop-shadow(0px 1px 2px rgba(0, 0, 0, 0.3));\n",
       "      fill: #FFFFFF;\n",
       "    }\n",
       "  </style>\n",
       "\n",
       "      <script>\n",
       "        const buttonEl =\n",
       "          document.querySelector('#df-364c4e5d-e4f8-4ae3-8a8d-5231fe5b0188 button.colab-df-convert');\n",
       "        buttonEl.style.display =\n",
       "          google.colab.kernel.accessAllowed ? 'block' : 'none';\n",
       "\n",
       "        async function convertToInteractive(key) {\n",
       "          const element = document.querySelector('#df-364c4e5d-e4f8-4ae3-8a8d-5231fe5b0188');\n",
       "          const dataTable =\n",
       "            await google.colab.kernel.invokeFunction('convertToInteractive',\n",
       "                                                     [key], {});\n",
       "          if (!dataTable) return;\n",
       "\n",
       "          const docLinkHtml = 'Like what you see? Visit the ' +\n",
       "            '<a target=\"_blank\" href=https://colab.research.google.com/notebooks/data_table.ipynb>data table notebook</a>'\n",
       "            + ' to learn more about interactive tables.';\n",
       "          element.innerHTML = '';\n",
       "          dataTable['output_type'] = 'display_data';\n",
       "          await google.colab.output.renderOutput(dataTable, element);\n",
       "          const docLink = document.createElement('div');\n",
       "          docLink.innerHTML = docLinkHtml;\n",
       "          element.appendChild(docLink);\n",
       "        }\n",
       "      </script>\n",
       "    </div>\n",
       "  </div>\n",
       "  "
      ],
      "text/plain": [
       "                                          customer_id  article_id  \\\n",
       "17  02d796ea767fa2e94fc6228fe70d8af1a570da973c32f7...  0575347003   \n",
       "43  09bca14258b7e9b9ee968adffe54d45c1e370e8ed79a22...  0579541001   \n",
       "55  183c939bc508ee9c530be249a4e940aace700cdc774e2c...  0615141002   \n",
       "72  1b9496dbe47dd45ffff1630aa2b532d1a5c924c6104d66...  0562245046   \n",
       "77  1b9496dbe47dd45ffff1630aa2b532d1a5c924c6104d66...  0562245001   \n",
       "\n",
       "    customer_id_idx  purchased  \n",
       "17             3631          1  \n",
       "43             1120          1  \n",
       "55             8343          1  \n",
       "72             2259          1  \n",
       "77             2259          1  "
      ]
     },
     "execution_count": 42,
     "metadata": {},
     "output_type": "execute_result"
    }
   ],
   "source": [
    "positive_samples = train_set.copy()\n",
    "positive_samples['purchased'] = 1\n",
    "print(positive_samples.shape)\n",
    "positive_samples.head()"
   ]
  },
  {
   "cell_type": "code",
   "execution_count": 43,
   "id": "122e1120",
   "metadata": {
    "colab": {
     "base_uri": "https://localhost:8080/",
     "height": 224
    },
    "executionInfo": {
     "elapsed": 3415,
     "status": "ok",
     "timestamp": 1651409457523,
     "user": {
      "displayName": "Steven George",
      "userId": "07709250839253394649"
     },
     "user_tz": -60
    },
    "id": "93fed6bb",
    "outputId": "7dae6e3a-f720-4f94-dcac-9e6428ac9290"
   },
   "outputs": [
    {
     "name": "stdout",
     "output_type": "stream",
     "text": [
      "(8904645, 4)\n"
     ]
    },
    {
     "data": {
      "text/html": [
       "\n",
       "  <div id=\"df-944c641d-0a9b-47ad-9c54-517ba9677e86\">\n",
       "    <div class=\"colab-df-container\">\n",
       "      <div>\n",
       "<style scoped>\n",
       "    .dataframe tbody tr th:only-of-type {\n",
       "        vertical-align: middle;\n",
       "    }\n",
       "\n",
       "    .dataframe tbody tr th {\n",
       "        vertical-align: top;\n",
       "    }\n",
       "\n",
       "    .dataframe thead th {\n",
       "        text-align: right;\n",
       "    }\n",
       "</style>\n",
       "<table border=\"1\" class=\"dataframe\">\n",
       "  <thead>\n",
       "    <tr style=\"text-align: right;\">\n",
       "      <th></th>\n",
       "      <th>customer_id</th>\n",
       "      <th>article_id</th>\n",
       "      <th>customer_id_idx</th>\n",
       "      <th>purchased</th>\n",
       "    </tr>\n",
       "  </thead>\n",
       "  <tbody>\n",
       "    <tr>\n",
       "      <th>5015</th>\n",
       "      <td>9165937ca0e3520ebe0533ffd6bb41eb5f3d2d61d04338...</td>\n",
       "      <td>0554450001</td>\n",
       "      <td>NaN</td>\n",
       "      <td>0</td>\n",
       "    </tr>\n",
       "    <tr>\n",
       "      <th>6805</th>\n",
       "      <td>c57b05d88861137cb87f02719a38968ec5a4b7e6c970bf...</td>\n",
       "      <td>0685814002</td>\n",
       "      <td>NaN</td>\n",
       "      <td>0</td>\n",
       "    </tr>\n",
       "    <tr>\n",
       "      <th>4477</th>\n",
       "      <td>804895ebec804fab7bc7d8b96a2a74e00e0af79759b119...</td>\n",
       "      <td>0770315007</td>\n",
       "      <td>NaN</td>\n",
       "      <td>0</td>\n",
       "    </tr>\n",
       "    <tr>\n",
       "      <th>6345</th>\n",
       "      <td>b6f4078b1474d782c8316694af3afdd64041209f6114ac...</td>\n",
       "      <td>0746775001</td>\n",
       "      <td>NaN</td>\n",
       "      <td>0</td>\n",
       "    </tr>\n",
       "    <tr>\n",
       "      <th>7911</th>\n",
       "      <td>e60e66e755cda27055e3e22328012d6c0ab7b28b18f7ec...</td>\n",
       "      <td>0733803001</td>\n",
       "      <td>NaN</td>\n",
       "      <td>0</td>\n",
       "    </tr>\n",
       "  </tbody>\n",
       "</table>\n",
       "</div>\n",
       "      <button class=\"colab-df-convert\" onclick=\"convertToInteractive('df-944c641d-0a9b-47ad-9c54-517ba9677e86')\"\n",
       "              title=\"Convert this dataframe to an interactive table.\"\n",
       "              style=\"display:none;\">\n",
       "        \n",
       "  <svg xmlns=\"http://www.w3.org/2000/svg\" height=\"24px\"viewBox=\"0 0 24 24\"\n",
       "       width=\"24px\">\n",
       "    <path d=\"M0 0h24v24H0V0z\" fill=\"none\"/>\n",
       "    <path d=\"M18.56 5.44l.94 2.06.94-2.06 2.06-.94-2.06-.94-.94-2.06-.94 2.06-2.06.94zm-11 1L8.5 8.5l.94-2.06 2.06-.94-2.06-.94L8.5 2.5l-.94 2.06-2.06.94zm10 10l.94 2.06.94-2.06 2.06-.94-2.06-.94-.94-2.06-.94 2.06-2.06.94z\"/><path d=\"M17.41 7.96l-1.37-1.37c-.4-.4-.92-.59-1.43-.59-.52 0-1.04.2-1.43.59L10.3 9.45l-7.72 7.72c-.78.78-.78 2.05 0 2.83L4 21.41c.39.39.9.59 1.41.59.51 0 1.02-.2 1.41-.59l7.78-7.78 2.81-2.81c.8-.78.8-2.07 0-2.86zM5.41 20L4 18.59l7.72-7.72 1.47 1.35L5.41 20z\"/>\n",
       "  </svg>\n",
       "      </button>\n",
       "      \n",
       "  <style>\n",
       "    .colab-df-container {\n",
       "      display:flex;\n",
       "      flex-wrap:wrap;\n",
       "      gap: 12px;\n",
       "    }\n",
       "\n",
       "    .colab-df-convert {\n",
       "      background-color: #E8F0FE;\n",
       "      border: none;\n",
       "      border-radius: 50%;\n",
       "      cursor: pointer;\n",
       "      display: none;\n",
       "      fill: #1967D2;\n",
       "      height: 32px;\n",
       "      padding: 0 0 0 0;\n",
       "      width: 32px;\n",
       "    }\n",
       "\n",
       "    .colab-df-convert:hover {\n",
       "      background-color: #E2EBFA;\n",
       "      box-shadow: 0px 1px 2px rgba(60, 64, 67, 0.3), 0px 1px 3px 1px rgba(60, 64, 67, 0.15);\n",
       "      fill: #174EA6;\n",
       "    }\n",
       "\n",
       "    [theme=dark] .colab-df-convert {\n",
       "      background-color: #3B4455;\n",
       "      fill: #D2E3FC;\n",
       "    }\n",
       "\n",
       "    [theme=dark] .colab-df-convert:hover {\n",
       "      background-color: #434B5C;\n",
       "      box-shadow: 0px 1px 3px 1px rgba(0, 0, 0, 0.15);\n",
       "      filter: drop-shadow(0px 1px 2px rgba(0, 0, 0, 0.3));\n",
       "      fill: #FFFFFF;\n",
       "    }\n",
       "  </style>\n",
       "\n",
       "      <script>\n",
       "        const buttonEl =\n",
       "          document.querySelector('#df-944c641d-0a9b-47ad-9c54-517ba9677e86 button.colab-df-convert');\n",
       "        buttonEl.style.display =\n",
       "          google.colab.kernel.accessAllowed ? 'block' : 'none';\n",
       "\n",
       "        async function convertToInteractive(key) {\n",
       "          const element = document.querySelector('#df-944c641d-0a9b-47ad-9c54-517ba9677e86');\n",
       "          const dataTable =\n",
       "            await google.colab.kernel.invokeFunction('convertToInteractive',\n",
       "                                                     [key], {});\n",
       "          if (!dataTable) return;\n",
       "\n",
       "          const docLinkHtml = 'Like what you see? Visit the ' +\n",
       "            '<a target=\"_blank\" href=https://colab.research.google.com/notebooks/data_table.ipynb>data table notebook</a>'\n",
       "            + ' to learn more about interactive tables.';\n",
       "          element.innerHTML = '';\n",
       "          dataTable['output_type'] = 'display_data';\n",
       "          await google.colab.output.renderOutput(dataTable, element);\n",
       "          const docLink = document.createElement('div');\n",
       "          docLink.innerHTML = docLinkHtml;\n",
       "          element.appendChild(docLink);\n",
       "        }\n",
       "      </script>\n",
       "    </div>\n",
       "  </div>\n",
       "  "
      ],
      "text/plain": [
       "                                            customer_id  article_id  \\\n",
       "5015  9165937ca0e3520ebe0533ffd6bb41eb5f3d2d61d04338...  0554450001   \n",
       "6805  c57b05d88861137cb87f02719a38968ec5a4b7e6c970bf...  0685814002   \n",
       "4477  804895ebec804fab7bc7d8b96a2a74e00e0af79759b119...  0770315007   \n",
       "6345  b6f4078b1474d782c8316694af3afdd64041209f6114ac...  0746775001   \n",
       "7911  e60e66e755cda27055e3e22328012d6c0ab7b28b18f7ec...  0733803001   \n",
       "\n",
       "      customer_id_idx  purchased  \n",
       "5015              NaN          0  \n",
       "6805              NaN          0  \n",
       "4477              NaN          0  \n",
       "6345              NaN          0  \n",
       "7911              NaN          0  "
      ]
     },
     "execution_count": 43,
     "metadata": {},
     "output_type": "execute_result"
    }
   ],
   "source": [
    "train_set = pd.concat([\n",
    "    positive_samples,\n",
    "    negative_samples_df\n",
    "])\n",
    "\n",
    "train_set = train_set.sample(frac=1, random_state=3)  # shuffle\n",
    "print(train_set.shape)\n",
    "train_set.head()"
   ]
  },
  {
   "cell_type": "code",
   "execution_count": 44,
   "id": "7b411982",
   "metadata": {
    "colab": {
     "base_uri": "https://localhost:8080/"
    },
    "executionInfo": {
     "elapsed": 344,
     "status": "ok",
     "timestamp": 1651409459818,
     "user": {
      "displayName": "Steven George",
      "userId": "07709250839253394649"
     },
     "user_tz": -60
    },
    "id": "25c06b09",
    "outputId": "e2753f82-57ad-4ee8-e968-c6fb497e51d0"
   },
   "outputs": [
    {
     "data": {
      "text/plain": [
       "0.021851966024473743"
      ]
     },
     "execution_count": 44,
     "metadata": {},
     "output_type": "execute_result"
    }
   ],
   "source": [
    "train_set['purchased'].mean()"
   ]
  },
  {
   "cell_type": "code",
   "execution_count": 45,
   "id": "85d40436",
   "metadata": {
    "colab": {
     "base_uri": "https://localhost:8080/"
    },
    "executionInfo": {
     "elapsed": 2287,
     "status": "ok",
     "timestamp": 1651409467475,
     "user": {
      "displayName": "Steven George",
      "userId": "07709250839253394649"
     },
     "user_tz": -60
    },
    "id": "66cc0a25",
    "outputId": "1e074293-a5d9-4ea2-cbba-2ba1fb03fcad"
   },
   "outputs": [
    {
     "data": {
      "text/plain": [
       "True"
      ]
     },
     "execution_count": 45,
     "metadata": {},
     "output_type": "execute_result"
    }
   ],
   "source": [
    "# Check at least 1 positive label per customer\n",
    "train_set.groupby('customer_id')['purchased'].sum().min() >= 1"
   ]
  },
  {
   "cell_type": "markdown",
   "id": "05c458a1",
   "metadata": {
    "id": "cb193e9e"
   },
   "source": [
    "Dev set prep"
   ]
  },
  {
   "cell_type": "code",
   "execution_count": 46,
   "id": "641abfc6",
   "metadata": {
    "colab": {
     "base_uri": "https://localhost:8080/",
     "height": 206
    },
    "executionInfo": {
     "elapsed": 323,
     "status": "ok",
     "timestamp": 1651409472411,
     "user": {
      "displayName": "Steven George",
      "userId": "07709250839253394649"
     },
     "user_tz": -60
    },
    "id": "ca70056f",
    "outputId": "f796d9e2-e36c-4f87-ea75-b0e7e5951aa6"
   },
   "outputs": [
    {
     "data": {
      "text/html": [
       "\n",
       "  <div id=\"df-adf7a24b-2fab-4d25-b816-b2d86ff7e617\">\n",
       "    <div class=\"colab-df-container\">\n",
       "      <div>\n",
       "<style scoped>\n",
       "    .dataframe tbody tr th:only-of-type {\n",
       "        vertical-align: middle;\n",
       "    }\n",
       "\n",
       "    .dataframe tbody tr th {\n",
       "        vertical-align: top;\n",
       "    }\n",
       "\n",
       "    .dataframe thead th {\n",
       "        text-align: right;\n",
       "    }\n",
       "</style>\n",
       "<table border=\"1\" class=\"dataframe\">\n",
       "  <thead>\n",
       "    <tr style=\"text-align: right;\">\n",
       "      <th></th>\n",
       "      <th>customer_id</th>\n",
       "      <th>article_id</th>\n",
       "      <th>customer_id_idx</th>\n",
       "    </tr>\n",
       "  </thead>\n",
       "  <tbody>\n",
       "    <tr>\n",
       "      <th>580395</th>\n",
       "      <td>00639e775b90554156986100685c4d408723c77e411e37...</td>\n",
       "      <td>0891591007</td>\n",
       "      <td>1072</td>\n",
       "    </tr>\n",
       "    <tr>\n",
       "      <th>580396</th>\n",
       "      <td>00639e775b90554156986100685c4d408723c77e411e37...</td>\n",
       "      <td>0891591001</td>\n",
       "      <td>1072</td>\n",
       "    </tr>\n",
       "    <tr>\n",
       "      <th>580397</th>\n",
       "      <td>016f3b7c2b7652870b4b2dbdcb1805a7c8c262036f5511...</td>\n",
       "      <td>0909924004</td>\n",
       "      <td>8244</td>\n",
       "    </tr>\n",
       "    <tr>\n",
       "      <th>580398</th>\n",
       "      <td>016f3b7c2b7652870b4b2dbdcb1805a7c8c262036f5511...</td>\n",
       "      <td>0921266005</td>\n",
       "      <td>8244</td>\n",
       "    </tr>\n",
       "    <tr>\n",
       "      <th>580399</th>\n",
       "      <td>016f3b7c2b7652870b4b2dbdcb1805a7c8c262036f5511...</td>\n",
       "      <td>0857163001</td>\n",
       "      <td>8244</td>\n",
       "    </tr>\n",
       "  </tbody>\n",
       "</table>\n",
       "</div>\n",
       "      <button class=\"colab-df-convert\" onclick=\"convertToInteractive('df-adf7a24b-2fab-4d25-b816-b2d86ff7e617')\"\n",
       "              title=\"Convert this dataframe to an interactive table.\"\n",
       "              style=\"display:none;\">\n",
       "        \n",
       "  <svg xmlns=\"http://www.w3.org/2000/svg\" height=\"24px\"viewBox=\"0 0 24 24\"\n",
       "       width=\"24px\">\n",
       "    <path d=\"M0 0h24v24H0V0z\" fill=\"none\"/>\n",
       "    <path d=\"M18.56 5.44l.94 2.06.94-2.06 2.06-.94-2.06-.94-.94-2.06-.94 2.06-2.06.94zm-11 1L8.5 8.5l.94-2.06 2.06-.94-2.06-.94L8.5 2.5l-.94 2.06-2.06.94zm10 10l.94 2.06.94-2.06 2.06-.94-2.06-.94-.94-2.06-.94 2.06-2.06.94z\"/><path d=\"M17.41 7.96l-1.37-1.37c-.4-.4-.92-.59-1.43-.59-.52 0-1.04.2-1.43.59L10.3 9.45l-7.72 7.72c-.78.78-.78 2.05 0 2.83L4 21.41c.39.39.9.59 1.41.59.51 0 1.02-.2 1.41-.59l7.78-7.78 2.81-2.81c.8-.78.8-2.07 0-2.86zM5.41 20L4 18.59l7.72-7.72 1.47 1.35L5.41 20z\"/>\n",
       "  </svg>\n",
       "      </button>\n",
       "      \n",
       "  <style>\n",
       "    .colab-df-container {\n",
       "      display:flex;\n",
       "      flex-wrap:wrap;\n",
       "      gap: 12px;\n",
       "    }\n",
       "\n",
       "    .colab-df-convert {\n",
       "      background-color: #E8F0FE;\n",
       "      border: none;\n",
       "      border-radius: 50%;\n",
       "      cursor: pointer;\n",
       "      display: none;\n",
       "      fill: #1967D2;\n",
       "      height: 32px;\n",
       "      padding: 0 0 0 0;\n",
       "      width: 32px;\n",
       "    }\n",
       "\n",
       "    .colab-df-convert:hover {\n",
       "      background-color: #E2EBFA;\n",
       "      box-shadow: 0px 1px 2px rgba(60, 64, 67, 0.3), 0px 1px 3px 1px rgba(60, 64, 67, 0.15);\n",
       "      fill: #174EA6;\n",
       "    }\n",
       "\n",
       "    [theme=dark] .colab-df-convert {\n",
       "      background-color: #3B4455;\n",
       "      fill: #D2E3FC;\n",
       "    }\n",
       "\n",
       "    [theme=dark] .colab-df-convert:hover {\n",
       "      background-color: #434B5C;\n",
       "      box-shadow: 0px 1px 3px 1px rgba(0, 0, 0, 0.15);\n",
       "      filter: drop-shadow(0px 1px 2px rgba(0, 0, 0, 0.3));\n",
       "      fill: #FFFFFF;\n",
       "    }\n",
       "  </style>\n",
       "\n",
       "      <script>\n",
       "        const buttonEl =\n",
       "          document.querySelector('#df-adf7a24b-2fab-4d25-b816-b2d86ff7e617 button.colab-df-convert');\n",
       "        buttonEl.style.display =\n",
       "          google.colab.kernel.accessAllowed ? 'block' : 'none';\n",
       "\n",
       "        async function convertToInteractive(key) {\n",
       "          const element = document.querySelector('#df-adf7a24b-2fab-4d25-b816-b2d86ff7e617');\n",
       "          const dataTable =\n",
       "            await google.colab.kernel.invokeFunction('convertToInteractive',\n",
       "                                                     [key], {});\n",
       "          if (!dataTable) return;\n",
       "\n",
       "          const docLinkHtml = 'Like what you see? Visit the ' +\n",
       "            '<a target=\"_blank\" href=https://colab.research.google.com/notebooks/data_table.ipynb>data table notebook</a>'\n",
       "            + ' to learn more about interactive tables.';\n",
       "          element.innerHTML = '';\n",
       "          dataTable['output_type'] = 'display_data';\n",
       "          await google.colab.output.renderOutput(dataTable, element);\n",
       "          const docLink = document.createElement('div');\n",
       "          docLink.innerHTML = docLinkHtml;\n",
       "          element.appendChild(docLink);\n",
       "        }\n",
       "      </script>\n",
       "    </div>\n",
       "  </div>\n",
       "  "
      ],
      "text/plain": [
       "                                              customer_id  article_id  \\\n",
       "580395  00639e775b90554156986100685c4d408723c77e411e37...  0891591007   \n",
       "580396  00639e775b90554156986100685c4d408723c77e411e37...  0891591001   \n",
       "580397  016f3b7c2b7652870b4b2dbdcb1805a7c8c262036f5511...  0909924004   \n",
       "580398  016f3b7c2b7652870b4b2dbdcb1805a7c8c262036f5511...  0921266005   \n",
       "580399  016f3b7c2b7652870b4b2dbdcb1805a7c8c262036f5511...  0857163001   \n",
       "\n",
       "        customer_id_idx  \n",
       "580395             1072  \n",
       "580396             1072  \n",
       "580397             8244  \n",
       "580398             8244  \n",
       "580399             8244  "
      ]
     },
     "execution_count": 46,
     "metadata": {},
     "output_type": "execute_result"
    }
   ],
   "source": [
    "dev_set.head()"
   ]
  },
  {
   "cell_type": "code",
   "execution_count": 48,
   "id": "bf981158",
   "metadata": {
    "executionInfo": {
     "elapsed": 323,
     "status": "ok",
     "timestamp": 1651409491940,
     "user": {
      "displayName": "Steven George",
      "userId": "07709250839253394649"
     },
     "user_tz": -60
    },
    "id": "6f0e4851"
   },
   "outputs": [],
   "source": [
    "# # For purposes of dev set only include transactions in top-1000\n",
    "# dev_set['article_id'].isin(top_1000).mean()"
   ]
  },
  {
   "cell_type": "code",
   "execution_count": 49,
   "id": "5d51b7fa",
   "metadata": {
    "colab": {
     "base_uri": "https://localhost:8080/",
     "height": 224
    },
    "executionInfo": {
     "elapsed": 324,
     "status": "ok",
     "timestamp": 1651409512429,
     "user": {
      "displayName": "Steven George",
      "userId": "07709250839253394649"
     },
     "user_tz": -60
    },
    "id": "f9e942f2",
    "outputId": "308f94b7-628e-4e75-ff84-954029869f6c"
   },
   "outputs": [
    {
     "name": "stdout",
     "output_type": "stream",
     "text": [
      "(8363, 4)\n"
     ]
    },
    {
     "data": {
      "text/html": [
       "\n",
       "  <div id=\"df-d8c15ab8-5c45-4a68-a6e6-84bf081da039\">\n",
       "    <div class=\"colab-df-container\">\n",
       "      <div>\n",
       "<style scoped>\n",
       "    .dataframe tbody tr th:only-of-type {\n",
       "        vertical-align: middle;\n",
       "    }\n",
       "\n",
       "    .dataframe tbody tr th {\n",
       "        vertical-align: top;\n",
       "    }\n",
       "\n",
       "    .dataframe thead th {\n",
       "        text-align: right;\n",
       "    }\n",
       "</style>\n",
       "<table border=\"1\" class=\"dataframe\">\n",
       "  <thead>\n",
       "    <tr style=\"text-align: right;\">\n",
       "      <th></th>\n",
       "      <th>customer_id</th>\n",
       "      <th>article_id</th>\n",
       "      <th>customer_id_idx</th>\n",
       "      <th>purchased</th>\n",
       "    </tr>\n",
       "  </thead>\n",
       "  <tbody>\n",
       "    <tr>\n",
       "      <th>580395</th>\n",
       "      <td>00639e775b90554156986100685c4d408723c77e411e37...</td>\n",
       "      <td>0891591007</td>\n",
       "      <td>1072</td>\n",
       "      <td>1</td>\n",
       "    </tr>\n",
       "    <tr>\n",
       "      <th>580396</th>\n",
       "      <td>00639e775b90554156986100685c4d408723c77e411e37...</td>\n",
       "      <td>0891591001</td>\n",
       "      <td>1072</td>\n",
       "      <td>1</td>\n",
       "    </tr>\n",
       "    <tr>\n",
       "      <th>580397</th>\n",
       "      <td>016f3b7c2b7652870b4b2dbdcb1805a7c8c262036f5511...</td>\n",
       "      <td>0909924004</td>\n",
       "      <td>8244</td>\n",
       "      <td>1</td>\n",
       "    </tr>\n",
       "    <tr>\n",
       "      <th>580398</th>\n",
       "      <td>016f3b7c2b7652870b4b2dbdcb1805a7c8c262036f5511...</td>\n",
       "      <td>0921266005</td>\n",
       "      <td>8244</td>\n",
       "      <td>1</td>\n",
       "    </tr>\n",
       "    <tr>\n",
       "      <th>580399</th>\n",
       "      <td>016f3b7c2b7652870b4b2dbdcb1805a7c8c262036f5511...</td>\n",
       "      <td>0857163001</td>\n",
       "      <td>8244</td>\n",
       "      <td>1</td>\n",
       "    </tr>\n",
       "  </tbody>\n",
       "</table>\n",
       "</div>\n",
       "      <button class=\"colab-df-convert\" onclick=\"convertToInteractive('df-d8c15ab8-5c45-4a68-a6e6-84bf081da039')\"\n",
       "              title=\"Convert this dataframe to an interactive table.\"\n",
       "              style=\"display:none;\">\n",
       "        \n",
       "  <svg xmlns=\"http://www.w3.org/2000/svg\" height=\"24px\"viewBox=\"0 0 24 24\"\n",
       "       width=\"24px\">\n",
       "    <path d=\"M0 0h24v24H0V0z\" fill=\"none\"/>\n",
       "    <path d=\"M18.56 5.44l.94 2.06.94-2.06 2.06-.94-2.06-.94-.94-2.06-.94 2.06-2.06.94zm-11 1L8.5 8.5l.94-2.06 2.06-.94-2.06-.94L8.5 2.5l-.94 2.06-2.06.94zm10 10l.94 2.06.94-2.06 2.06-.94-2.06-.94-.94-2.06-.94 2.06-2.06.94z\"/><path d=\"M17.41 7.96l-1.37-1.37c-.4-.4-.92-.59-1.43-.59-.52 0-1.04.2-1.43.59L10.3 9.45l-7.72 7.72c-.78.78-.78 2.05 0 2.83L4 21.41c.39.39.9.59 1.41.59.51 0 1.02-.2 1.41-.59l7.78-7.78 2.81-2.81c.8-.78.8-2.07 0-2.86zM5.41 20L4 18.59l7.72-7.72 1.47 1.35L5.41 20z\"/>\n",
       "  </svg>\n",
       "      </button>\n",
       "      \n",
       "  <style>\n",
       "    .colab-df-container {\n",
       "      display:flex;\n",
       "      flex-wrap:wrap;\n",
       "      gap: 12px;\n",
       "    }\n",
       "\n",
       "    .colab-df-convert {\n",
       "      background-color: #E8F0FE;\n",
       "      border: none;\n",
       "      border-radius: 50%;\n",
       "      cursor: pointer;\n",
       "      display: none;\n",
       "      fill: #1967D2;\n",
       "      height: 32px;\n",
       "      padding: 0 0 0 0;\n",
       "      width: 32px;\n",
       "    }\n",
       "\n",
       "    .colab-df-convert:hover {\n",
       "      background-color: #E2EBFA;\n",
       "      box-shadow: 0px 1px 2px rgba(60, 64, 67, 0.3), 0px 1px 3px 1px rgba(60, 64, 67, 0.15);\n",
       "      fill: #174EA6;\n",
       "    }\n",
       "\n",
       "    [theme=dark] .colab-df-convert {\n",
       "      background-color: #3B4455;\n",
       "      fill: #D2E3FC;\n",
       "    }\n",
       "\n",
       "    [theme=dark] .colab-df-convert:hover {\n",
       "      background-color: #434B5C;\n",
       "      box-shadow: 0px 1px 3px 1px rgba(0, 0, 0, 0.15);\n",
       "      filter: drop-shadow(0px 1px 2px rgba(0, 0, 0, 0.3));\n",
       "      fill: #FFFFFF;\n",
       "    }\n",
       "  </style>\n",
       "\n",
       "      <script>\n",
       "        const buttonEl =\n",
       "          document.querySelector('#df-d8c15ab8-5c45-4a68-a6e6-84bf081da039 button.colab-df-convert');\n",
       "        buttonEl.style.display =\n",
       "          google.colab.kernel.accessAllowed ? 'block' : 'none';\n",
       "\n",
       "        async function convertToInteractive(key) {\n",
       "          const element = document.querySelector('#df-d8c15ab8-5c45-4a68-a6e6-84bf081da039');\n",
       "          const dataTable =\n",
       "            await google.colab.kernel.invokeFunction('convertToInteractive',\n",
       "                                                     [key], {});\n",
       "          if (!dataTable) return;\n",
       "\n",
       "          const docLinkHtml = 'Like what you see? Visit the ' +\n",
       "            '<a target=\"_blank\" href=https://colab.research.google.com/notebooks/data_table.ipynb>data table notebook</a>'\n",
       "            + ' to learn more about interactive tables.';\n",
       "          element.innerHTML = '';\n",
       "          dataTable['output_type'] = 'display_data';\n",
       "          await google.colab.output.renderOutput(dataTable, element);\n",
       "          const docLink = document.createElement('div');\n",
       "          docLink.innerHTML = docLinkHtml;\n",
       "          element.appendChild(docLink);\n",
       "        }\n",
       "      </script>\n",
       "    </div>\n",
       "  </div>\n",
       "  "
      ],
      "text/plain": [
       "                                              customer_id  article_id  \\\n",
       "580395  00639e775b90554156986100685c4d408723c77e411e37...  0891591007   \n",
       "580396  00639e775b90554156986100685c4d408723c77e411e37...  0891591001   \n",
       "580397  016f3b7c2b7652870b4b2dbdcb1805a7c8c262036f5511...  0909924004   \n",
       "580398  016f3b7c2b7652870b4b2dbdcb1805a7c8c262036f5511...  0921266005   \n",
       "580399  016f3b7c2b7652870b4b2dbdcb1805a7c8c262036f5511...  0857163001   \n",
       "\n",
       "        customer_id_idx  purchased  \n",
       "580395             1072          1  \n",
       "580396             1072          1  \n",
       "580397             8244          1  \n",
       "580398             8244          1  \n",
       "580399             8244          1  "
      ]
     },
     "execution_count": 49,
     "metadata": {},
     "output_type": "execute_result"
    }
   ],
   "source": [
    "# positive_samples_dev = dev_set.copy()[dev_set['article_id'].isin(top_1000)]\n",
    "positive_samples_dev = dev_set.copy()\n",
    "positive_samples_dev['purchased'] = 1\n",
    "print(positive_samples_dev.shape)\n",
    "positive_samples_dev.head()"
   ]
  },
  {
   "cell_type": "code",
   "execution_count": 50,
   "id": "c66e4284",
   "metadata": {
    "colab": {
     "base_uri": "https://localhost:8080/",
     "height": 224
    },
    "executionInfo": {
     "elapsed": 336,
     "status": "ok",
     "timestamp": 1651409524051,
     "user": {
      "displayName": "Steven George",
      "userId": "07709250839253394649"
     },
     "user_tz": -60
    },
    "id": "46b0f7e4",
    "outputId": "20c55a52-0548-4ea0-b879-c994025e08ef"
   },
   "outputs": [
    {
     "name": "stdout",
     "output_type": "stream",
     "text": [
      "(1998, 2)\n"
     ]
    },
    {
     "data": {
      "text/html": [
       "\n",
       "  <div id=\"df-3551b621-81e7-4ee0-884b-42f3378d16b6\">\n",
       "    <div class=\"colab-df-container\">\n",
       "      <div>\n",
       "<style scoped>\n",
       "    .dataframe tbody tr th:only-of-type {\n",
       "        vertical-align: middle;\n",
       "    }\n",
       "\n",
       "    .dataframe tbody tr th {\n",
       "        vertical-align: top;\n",
       "    }\n",
       "\n",
       "    .dataframe thead th {\n",
       "        text-align: right;\n",
       "    }\n",
       "</style>\n",
       "<table border=\"1\" class=\"dataframe\">\n",
       "  <thead>\n",
       "    <tr style=\"text-align: right;\">\n",
       "      <th></th>\n",
       "      <th>customer_id</th>\n",
       "      <th>article_id</th>\n",
       "    </tr>\n",
       "  </thead>\n",
       "  <tbody>\n",
       "    <tr>\n",
       "      <th>0</th>\n",
       "      <td>00462904b288681a9facb555f75dd2cf4d0f730a6e0ea7...</td>\n",
       "      <td>[0903924001]</td>\n",
       "    </tr>\n",
       "    <tr>\n",
       "      <th>1</th>\n",
       "      <td>0054c50274d19af58d53ef3ce0c004bea446c80bd51cf2...</td>\n",
       "      <td>[0766346011, 0568601043, 0763037001]</td>\n",
       "    </tr>\n",
       "    <tr>\n",
       "      <th>2</th>\n",
       "      <td>00639e775b90554156986100685c4d408723c77e411e37...</td>\n",
       "      <td>[0891591007, 0891591001, 0891591001]</td>\n",
       "    </tr>\n",
       "    <tr>\n",
       "      <th>3</th>\n",
       "      <td>00798bd464457d23d6af401715fe32d5c676ad9ee4010d...</td>\n",
       "      <td>[0916775002]</td>\n",
       "    </tr>\n",
       "    <tr>\n",
       "      <th>4</th>\n",
       "      <td>0099238196d8f71659fceaa115b36e400398bcfc169b5f...</td>\n",
       "      <td>[0867969003, 0867969003, 0448509014, 088290001...</td>\n",
       "    </tr>\n",
       "  </tbody>\n",
       "</table>\n",
       "</div>\n",
       "      <button class=\"colab-df-convert\" onclick=\"convertToInteractive('df-3551b621-81e7-4ee0-884b-42f3378d16b6')\"\n",
       "              title=\"Convert this dataframe to an interactive table.\"\n",
       "              style=\"display:none;\">\n",
       "        \n",
       "  <svg xmlns=\"http://www.w3.org/2000/svg\" height=\"24px\"viewBox=\"0 0 24 24\"\n",
       "       width=\"24px\">\n",
       "    <path d=\"M0 0h24v24H0V0z\" fill=\"none\"/>\n",
       "    <path d=\"M18.56 5.44l.94 2.06.94-2.06 2.06-.94-2.06-.94-.94-2.06-.94 2.06-2.06.94zm-11 1L8.5 8.5l.94-2.06 2.06-.94-2.06-.94L8.5 2.5l-.94 2.06-2.06.94zm10 10l.94 2.06.94-2.06 2.06-.94-2.06-.94-.94-2.06-.94 2.06-2.06.94z\"/><path d=\"M17.41 7.96l-1.37-1.37c-.4-.4-.92-.59-1.43-.59-.52 0-1.04.2-1.43.59L10.3 9.45l-7.72 7.72c-.78.78-.78 2.05 0 2.83L4 21.41c.39.39.9.59 1.41.59.51 0 1.02-.2 1.41-.59l7.78-7.78 2.81-2.81c.8-.78.8-2.07 0-2.86zM5.41 20L4 18.59l7.72-7.72 1.47 1.35L5.41 20z\"/>\n",
       "  </svg>\n",
       "      </button>\n",
       "      \n",
       "  <style>\n",
       "    .colab-df-container {\n",
       "      display:flex;\n",
       "      flex-wrap:wrap;\n",
       "      gap: 12px;\n",
       "    }\n",
       "\n",
       "    .colab-df-convert {\n",
       "      background-color: #E8F0FE;\n",
       "      border: none;\n",
       "      border-radius: 50%;\n",
       "      cursor: pointer;\n",
       "      display: none;\n",
       "      fill: #1967D2;\n",
       "      height: 32px;\n",
       "      padding: 0 0 0 0;\n",
       "      width: 32px;\n",
       "    }\n",
       "\n",
       "    .colab-df-convert:hover {\n",
       "      background-color: #E2EBFA;\n",
       "      box-shadow: 0px 1px 2px rgba(60, 64, 67, 0.3), 0px 1px 3px 1px rgba(60, 64, 67, 0.15);\n",
       "      fill: #174EA6;\n",
       "    }\n",
       "\n",
       "    [theme=dark] .colab-df-convert {\n",
       "      background-color: #3B4455;\n",
       "      fill: #D2E3FC;\n",
       "    }\n",
       "\n",
       "    [theme=dark] .colab-df-convert:hover {\n",
       "      background-color: #434B5C;\n",
       "      box-shadow: 0px 1px 3px 1px rgba(0, 0, 0, 0.15);\n",
       "      filter: drop-shadow(0px 1px 2px rgba(0, 0, 0, 0.3));\n",
       "      fill: #FFFFFF;\n",
       "    }\n",
       "  </style>\n",
       "\n",
       "      <script>\n",
       "        const buttonEl =\n",
       "          document.querySelector('#df-3551b621-81e7-4ee0-884b-42f3378d16b6 button.colab-df-convert');\n",
       "        buttonEl.style.display =\n",
       "          google.colab.kernel.accessAllowed ? 'block' : 'none';\n",
       "\n",
       "        async function convertToInteractive(key) {\n",
       "          const element = document.querySelector('#df-3551b621-81e7-4ee0-884b-42f3378d16b6');\n",
       "          const dataTable =\n",
       "            await google.colab.kernel.invokeFunction('convertToInteractive',\n",
       "                                                     [key], {});\n",
       "          if (!dataTable) return;\n",
       "\n",
       "          const docLinkHtml = 'Like what you see? Visit the ' +\n",
       "            '<a target=\"_blank\" href=https://colab.research.google.com/notebooks/data_table.ipynb>data table notebook</a>'\n",
       "            + ' to learn more about interactive tables.';\n",
       "          element.innerHTML = '';\n",
       "          dataTable['output_type'] = 'display_data';\n",
       "          await google.colab.output.renderOutput(dataTable, element);\n",
       "          const docLink = document.createElement('div');\n",
       "          docLink.innerHTML = docLinkHtml;\n",
       "          element.appendChild(docLink);\n",
       "        }\n",
       "      </script>\n",
       "    </div>\n",
       "  </div>\n",
       "  "
      ],
      "text/plain": [
       "                                         customer_id  \\\n",
       "0  00462904b288681a9facb555f75dd2cf4d0f730a6e0ea7...   \n",
       "1  0054c50274d19af58d53ef3ce0c004bea446c80bd51cf2...   \n",
       "2  00639e775b90554156986100685c4d408723c77e411e37...   \n",
       "3  00798bd464457d23d6af401715fe32d5c676ad9ee4010d...   \n",
       "4  0099238196d8f71659fceaa115b36e400398bcfc169b5f...   \n",
       "\n",
       "                                          article_id  \n",
       "0                                       [0903924001]  \n",
       "1               [0766346011, 0568601043, 0763037001]  \n",
       "2               [0891591007, 0891591001, 0891591001]  \n",
       "3                                       [0916775002]  \n",
       "4  [0867969003, 0867969003, 0448509014, 088290001...  "
      ]
     },
     "execution_count": 50,
     "metadata": {},
     "output_type": "execute_result"
    }
   ],
   "source": [
    "positive_samples_dev_by_customer = positive_samples_dev.groupby('customer_id')['article_id'].apply(lambda x: list(x)).reset_index()\n",
    "print(positive_samples_dev_by_customer.shape)\n",
    "positive_samples_dev_by_customer.head()"
   ]
  },
  {
   "cell_type": "code",
   "execution_count": 51,
   "id": "780f424b",
   "metadata": {
    "executionInfo": {
     "elapsed": 319,
     "status": "ok",
     "timestamp": 1651409531190,
     "user": {
      "displayName": "Steven George",
      "userId": "07709250839253394649"
     },
     "user_tz": -60
    },
    "id": "e726fd7d"
   },
   "outputs": [],
   "source": [
    "positive_samples_dev_by_customer['negative_samples'] = positive_samples_dev_by_customer.apply(lambda x: list(set(top_1000) - set(x['article_id'])), axis=1)"
   ]
  },
  {
   "cell_type": "code",
   "execution_count": 52,
   "id": "c51f8e7c",
   "metadata": {
    "colab": {
     "base_uri": "https://localhost:8080/",
     "height": 224
    },
    "executionInfo": {
     "elapsed": 355,
     "status": "ok",
     "timestamp": 1651409536195,
     "user": {
      "displayName": "Steven George",
      "userId": "07709250839253394649"
     },
     "user_tz": -60
    },
    "id": "2c0dceb0",
    "outputId": "c77c86be-d55e-498c-d657-dfa6d695bc08"
   },
   "outputs": [
    {
     "name": "stdout",
     "output_type": "stream",
     "text": [
      "(1996939, 3)\n"
     ]
    },
    {
     "data": {
      "text/html": [
       "\n",
       "  <div id=\"df-5d27b984-7a8a-4d9b-b293-b6773f56d111\">\n",
       "    <div class=\"colab-df-container\">\n",
       "      <div>\n",
       "<style scoped>\n",
       "    .dataframe tbody tr th:only-of-type {\n",
       "        vertical-align: middle;\n",
       "    }\n",
       "\n",
       "    .dataframe tbody tr th {\n",
       "        vertical-align: top;\n",
       "    }\n",
       "\n",
       "    .dataframe thead th {\n",
       "        text-align: right;\n",
       "    }\n",
       "</style>\n",
       "<table border=\"1\" class=\"dataframe\">\n",
       "  <thead>\n",
       "    <tr style=\"text-align: right;\">\n",
       "      <th></th>\n",
       "      <th>customer_id</th>\n",
       "      <th>article_id</th>\n",
       "      <th>purchased</th>\n",
       "    </tr>\n",
       "  </thead>\n",
       "  <tbody>\n",
       "    <tr>\n",
       "      <th>0</th>\n",
       "      <td>00462904b288681a9facb555f75dd2cf4d0f730a6e0ea7...</td>\n",
       "      <td>0554450027</td>\n",
       "      <td>0</td>\n",
       "    </tr>\n",
       "    <tr>\n",
       "      <th>0</th>\n",
       "      <td>00462904b288681a9facb555f75dd2cf4d0f730a6e0ea7...</td>\n",
       "      <td>0685814001</td>\n",
       "      <td>0</td>\n",
       "    </tr>\n",
       "    <tr>\n",
       "      <th>0</th>\n",
       "      <td>00462904b288681a9facb555f75dd2cf4d0f730a6e0ea7...</td>\n",
       "      <td>0857812006</td>\n",
       "      <td>0</td>\n",
       "    </tr>\n",
       "    <tr>\n",
       "      <th>0</th>\n",
       "      <td>00462904b288681a9facb555f75dd2cf4d0f730a6e0ea7...</td>\n",
       "      <td>0818031003</td>\n",
       "      <td>0</td>\n",
       "    </tr>\n",
       "    <tr>\n",
       "      <th>0</th>\n",
       "      <td>00462904b288681a9facb555f75dd2cf4d0f730a6e0ea7...</td>\n",
       "      <td>0832359001</td>\n",
       "      <td>0</td>\n",
       "    </tr>\n",
       "  </tbody>\n",
       "</table>\n",
       "</div>\n",
       "      <button class=\"colab-df-convert\" onclick=\"convertToInteractive('df-5d27b984-7a8a-4d9b-b293-b6773f56d111')\"\n",
       "              title=\"Convert this dataframe to an interactive table.\"\n",
       "              style=\"display:none;\">\n",
       "        \n",
       "  <svg xmlns=\"http://www.w3.org/2000/svg\" height=\"24px\"viewBox=\"0 0 24 24\"\n",
       "       width=\"24px\">\n",
       "    <path d=\"M0 0h24v24H0V0z\" fill=\"none\"/>\n",
       "    <path d=\"M18.56 5.44l.94 2.06.94-2.06 2.06-.94-2.06-.94-.94-2.06-.94 2.06-2.06.94zm-11 1L8.5 8.5l.94-2.06 2.06-.94-2.06-.94L8.5 2.5l-.94 2.06-2.06.94zm10 10l.94 2.06.94-2.06 2.06-.94-2.06-.94-.94-2.06-.94 2.06-2.06.94z\"/><path d=\"M17.41 7.96l-1.37-1.37c-.4-.4-.92-.59-1.43-.59-.52 0-1.04.2-1.43.59L10.3 9.45l-7.72 7.72c-.78.78-.78 2.05 0 2.83L4 21.41c.39.39.9.59 1.41.59.51 0 1.02-.2 1.41-.59l7.78-7.78 2.81-2.81c.8-.78.8-2.07 0-2.86zM5.41 20L4 18.59l7.72-7.72 1.47 1.35L5.41 20z\"/>\n",
       "  </svg>\n",
       "      </button>\n",
       "      \n",
       "  <style>\n",
       "    .colab-df-container {\n",
       "      display:flex;\n",
       "      flex-wrap:wrap;\n",
       "      gap: 12px;\n",
       "    }\n",
       "\n",
       "    .colab-df-convert {\n",
       "      background-color: #E8F0FE;\n",
       "      border: none;\n",
       "      border-radius: 50%;\n",
       "      cursor: pointer;\n",
       "      display: none;\n",
       "      fill: #1967D2;\n",
       "      height: 32px;\n",
       "      padding: 0 0 0 0;\n",
       "      width: 32px;\n",
       "    }\n",
       "\n",
       "    .colab-df-convert:hover {\n",
       "      background-color: #E2EBFA;\n",
       "      box-shadow: 0px 1px 2px rgba(60, 64, 67, 0.3), 0px 1px 3px 1px rgba(60, 64, 67, 0.15);\n",
       "      fill: #174EA6;\n",
       "    }\n",
       "\n",
       "    [theme=dark] .colab-df-convert {\n",
       "      background-color: #3B4455;\n",
       "      fill: #D2E3FC;\n",
       "    }\n",
       "\n",
       "    [theme=dark] .colab-df-convert:hover {\n",
       "      background-color: #434B5C;\n",
       "      box-shadow: 0px 1px 3px 1px rgba(0, 0, 0, 0.15);\n",
       "      filter: drop-shadow(0px 1px 2px rgba(0, 0, 0, 0.3));\n",
       "      fill: #FFFFFF;\n",
       "    }\n",
       "  </style>\n",
       "\n",
       "      <script>\n",
       "        const buttonEl =\n",
       "          document.querySelector('#df-5d27b984-7a8a-4d9b-b293-b6773f56d111 button.colab-df-convert');\n",
       "        buttonEl.style.display =\n",
       "          google.colab.kernel.accessAllowed ? 'block' : 'none';\n",
       "\n",
       "        async function convertToInteractive(key) {\n",
       "          const element = document.querySelector('#df-5d27b984-7a8a-4d9b-b293-b6773f56d111');\n",
       "          const dataTable =\n",
       "            await google.colab.kernel.invokeFunction('convertToInteractive',\n",
       "                                                     [key], {});\n",
       "          if (!dataTable) return;\n",
       "\n",
       "          const docLinkHtml = 'Like what you see? Visit the ' +\n",
       "            '<a target=\"_blank\" href=https://colab.research.google.com/notebooks/data_table.ipynb>data table notebook</a>'\n",
       "            + ' to learn more about interactive tables.';\n",
       "          element.innerHTML = '';\n",
       "          dataTable['output_type'] = 'display_data';\n",
       "          await google.colab.output.renderOutput(dataTable, element);\n",
       "          const docLink = document.createElement('div');\n",
       "          docLink.innerHTML = docLinkHtml;\n",
       "          element.appendChild(docLink);\n",
       "        }\n",
       "      </script>\n",
       "    </div>\n",
       "  </div>\n",
       "  "
      ],
      "text/plain": [
       "                                         customer_id  article_id  purchased\n",
       "0  00462904b288681a9facb555f75dd2cf4d0f730a6e0ea7...  0554450027          0\n",
       "0  00462904b288681a9facb555f75dd2cf4d0f730a6e0ea7...  0685814001          0\n",
       "0  00462904b288681a9facb555f75dd2cf4d0f730a6e0ea7...  0857812006          0\n",
       "0  00462904b288681a9facb555f75dd2cf4d0f730a6e0ea7...  0818031003          0\n",
       "0  00462904b288681a9facb555f75dd2cf4d0f730a6e0ea7...  0832359001          0"
      ]
     },
     "execution_count": 52,
     "metadata": {},
     "output_type": "execute_result"
    }
   ],
   "source": [
    "negative_samples_df = positive_samples_dev_by_customer[['customer_id', 'negative_samples']].explode('negative_samples')\n",
    "negative_samples_df['purchased'] = 0\n",
    "negative_samples_df.rename(columns={'negative_samples': 'article_id'}, inplace=True)\n",
    "print(negative_samples_df.shape)\n",
    "negative_samples_df.head()"
   ]
  },
  {
   "cell_type": "code",
   "execution_count": 53,
   "id": "a0ad5e37",
   "metadata": {
    "colab": {
     "base_uri": "https://localhost:8080/",
     "height": 224
    },
    "executionInfo": {
     "elapsed": 519,
     "status": "ok",
     "timestamp": 1651409538355,
     "user": {
      "displayName": "Steven George",
      "userId": "07709250839253394649"
     },
     "user_tz": -60
    },
    "id": "77ca4963",
    "outputId": "eb084d92-5a38-4896-af57-00ff8d05e046"
   },
   "outputs": [
    {
     "name": "stdout",
     "output_type": "stream",
     "text": [
      "(2005302, 4)\n"
     ]
    },
    {
     "data": {
      "text/html": [
       "\n",
       "  <div id=\"df-fa021fec-5fe6-4476-8cd5-2dde8d4d4a05\">\n",
       "    <div class=\"colab-df-container\">\n",
       "      <div>\n",
       "<style scoped>\n",
       "    .dataframe tbody tr th:only-of-type {\n",
       "        vertical-align: middle;\n",
       "    }\n",
       "\n",
       "    .dataframe tbody tr th {\n",
       "        vertical-align: top;\n",
       "    }\n",
       "\n",
       "    .dataframe thead th {\n",
       "        text-align: right;\n",
       "    }\n",
       "</style>\n",
       "<table border=\"1\" class=\"dataframe\">\n",
       "  <thead>\n",
       "    <tr style=\"text-align: right;\">\n",
       "      <th></th>\n",
       "      <th>customer_id</th>\n",
       "      <th>article_id</th>\n",
       "      <th>customer_id_idx</th>\n",
       "      <th>purchased</th>\n",
       "    </tr>\n",
       "  </thead>\n",
       "  <tbody>\n",
       "    <tr>\n",
       "      <th>1922</th>\n",
       "      <td>f7cff47ca5eed528a9990e21e619878b002d7ce393f471...</td>\n",
       "      <td>0610776001</td>\n",
       "      <td>NaN</td>\n",
       "      <td>0</td>\n",
       "    </tr>\n",
       "    <tr>\n",
       "      <th>1247</th>\n",
       "      <td>9d4f9874a43da353c42bfdf70368ac6ef7c080613a0ab0...</td>\n",
       "      <td>0841434003</td>\n",
       "      <td>NaN</td>\n",
       "      <td>0</td>\n",
       "    </tr>\n",
       "    <tr>\n",
       "      <th>73</th>\n",
       "      <td>0b50b5aeb1d21ccf35ab72b056b041950806e6474d2be6...</td>\n",
       "      <td>0843793004</td>\n",
       "      <td>NaN</td>\n",
       "      <td>0</td>\n",
       "    </tr>\n",
       "    <tr>\n",
       "      <th>1502</th>\n",
       "      <td>c037b35b7422f7c90b50c85f76fe0c35af5b633f90b63d...</td>\n",
       "      <td>0780297001</td>\n",
       "      <td>NaN</td>\n",
       "      <td>0</td>\n",
       "    </tr>\n",
       "    <tr>\n",
       "      <th>135</th>\n",
       "      <td>136b571bf08e948b9fc5ef62c1e300a9a2f00e2bbddd9f...</td>\n",
       "      <td>0842605001</td>\n",
       "      <td>NaN</td>\n",
       "      <td>0</td>\n",
       "    </tr>\n",
       "  </tbody>\n",
       "</table>\n",
       "</div>\n",
       "      <button class=\"colab-df-convert\" onclick=\"convertToInteractive('df-fa021fec-5fe6-4476-8cd5-2dde8d4d4a05')\"\n",
       "              title=\"Convert this dataframe to an interactive table.\"\n",
       "              style=\"display:none;\">\n",
       "        \n",
       "  <svg xmlns=\"http://www.w3.org/2000/svg\" height=\"24px\"viewBox=\"0 0 24 24\"\n",
       "       width=\"24px\">\n",
       "    <path d=\"M0 0h24v24H0V0z\" fill=\"none\"/>\n",
       "    <path d=\"M18.56 5.44l.94 2.06.94-2.06 2.06-.94-2.06-.94-.94-2.06-.94 2.06-2.06.94zm-11 1L8.5 8.5l.94-2.06 2.06-.94-2.06-.94L8.5 2.5l-.94 2.06-2.06.94zm10 10l.94 2.06.94-2.06 2.06-.94-2.06-.94-.94-2.06-.94 2.06-2.06.94z\"/><path d=\"M17.41 7.96l-1.37-1.37c-.4-.4-.92-.59-1.43-.59-.52 0-1.04.2-1.43.59L10.3 9.45l-7.72 7.72c-.78.78-.78 2.05 0 2.83L4 21.41c.39.39.9.59 1.41.59.51 0 1.02-.2 1.41-.59l7.78-7.78 2.81-2.81c.8-.78.8-2.07 0-2.86zM5.41 20L4 18.59l7.72-7.72 1.47 1.35L5.41 20z\"/>\n",
       "  </svg>\n",
       "      </button>\n",
       "      \n",
       "  <style>\n",
       "    .colab-df-container {\n",
       "      display:flex;\n",
       "      flex-wrap:wrap;\n",
       "      gap: 12px;\n",
       "    }\n",
       "\n",
       "    .colab-df-convert {\n",
       "      background-color: #E8F0FE;\n",
       "      border: none;\n",
       "      border-radius: 50%;\n",
       "      cursor: pointer;\n",
       "      display: none;\n",
       "      fill: #1967D2;\n",
       "      height: 32px;\n",
       "      padding: 0 0 0 0;\n",
       "      width: 32px;\n",
       "    }\n",
       "\n",
       "    .colab-df-convert:hover {\n",
       "      background-color: #E2EBFA;\n",
       "      box-shadow: 0px 1px 2px rgba(60, 64, 67, 0.3), 0px 1px 3px 1px rgba(60, 64, 67, 0.15);\n",
       "      fill: #174EA6;\n",
       "    }\n",
       "\n",
       "    [theme=dark] .colab-df-convert {\n",
       "      background-color: #3B4455;\n",
       "      fill: #D2E3FC;\n",
       "    }\n",
       "\n",
       "    [theme=dark] .colab-df-convert:hover {\n",
       "      background-color: #434B5C;\n",
       "      box-shadow: 0px 1px 3px 1px rgba(0, 0, 0, 0.15);\n",
       "      filter: drop-shadow(0px 1px 2px rgba(0, 0, 0, 0.3));\n",
       "      fill: #FFFFFF;\n",
       "    }\n",
       "  </style>\n",
       "\n",
       "      <script>\n",
       "        const buttonEl =\n",
       "          document.querySelector('#df-fa021fec-5fe6-4476-8cd5-2dde8d4d4a05 button.colab-df-convert');\n",
       "        buttonEl.style.display =\n",
       "          google.colab.kernel.accessAllowed ? 'block' : 'none';\n",
       "\n",
       "        async function convertToInteractive(key) {\n",
       "          const element = document.querySelector('#df-fa021fec-5fe6-4476-8cd5-2dde8d4d4a05');\n",
       "          const dataTable =\n",
       "            await google.colab.kernel.invokeFunction('convertToInteractive',\n",
       "                                                     [key], {});\n",
       "          if (!dataTable) return;\n",
       "\n",
       "          const docLinkHtml = 'Like what you see? Visit the ' +\n",
       "            '<a target=\"_blank\" href=https://colab.research.google.com/notebooks/data_table.ipynb>data table notebook</a>'\n",
       "            + ' to learn more about interactive tables.';\n",
       "          element.innerHTML = '';\n",
       "          dataTable['output_type'] = 'display_data';\n",
       "          await google.colab.output.renderOutput(dataTable, element);\n",
       "          const docLink = document.createElement('div');\n",
       "          docLink.innerHTML = docLinkHtml;\n",
       "          element.appendChild(docLink);\n",
       "        }\n",
       "      </script>\n",
       "    </div>\n",
       "  </div>\n",
       "  "
      ],
      "text/plain": [
       "                                            customer_id  article_id  \\\n",
       "1922  f7cff47ca5eed528a9990e21e619878b002d7ce393f471...  0610776001   \n",
       "1247  9d4f9874a43da353c42bfdf70368ac6ef7c080613a0ab0...  0841434003   \n",
       "73    0b50b5aeb1d21ccf35ab72b056b041950806e6474d2be6...  0843793004   \n",
       "1502  c037b35b7422f7c90b50c85f76fe0c35af5b633f90b63d...  0780297001   \n",
       "135   136b571bf08e948b9fc5ef62c1e300a9a2f00e2bbddd9f...  0842605001   \n",
       "\n",
       "      customer_id_idx  purchased  \n",
       "1922              NaN          0  \n",
       "1247              NaN          0  \n",
       "73                NaN          0  \n",
       "1502              NaN          0  \n",
       "135               NaN          0  "
      ]
     },
     "execution_count": 53,
     "metadata": {},
     "output_type": "execute_result"
    }
   ],
   "source": [
    "dev_set = pd.concat([\n",
    "    positive_samples_dev,\n",
    "    negative_samples_df\n",
    "])\n",
    "\n",
    "dev_set = dev_set.sample(frac=1, random_state=3)  # shuffle\n",
    "print(dev_set.shape)\n",
    "dev_set.head()"
   ]
  },
  {
   "cell_type": "code",
   "execution_count": 54,
   "id": "533b3170",
   "metadata": {
    "colab": {
     "base_uri": "https://localhost:8080/"
    },
    "executionInfo": {
     "elapsed": 320,
     "status": "ok",
     "timestamp": 1651409540576,
     "user": {
      "displayName": "Steven George",
      "userId": "07709250839253394649"
     },
     "user_tz": -60
    },
    "id": "96ab1d30",
    "outputId": "86971f62-4498-4647-e220-31d6cd0ee7c3"
   },
   "outputs": [
    {
     "data": {
      "text/plain": [
       "0.004170444152551586"
      ]
     },
     "execution_count": 54,
     "metadata": {},
     "output_type": "execute_result"
    }
   ],
   "source": [
    "dev_set['purchased'].mean()"
   ]
  },
  {
   "cell_type": "markdown",
   "id": "61e7f38b",
   "metadata": {
    "id": "da9e9d1f"
   },
   "source": [
    "`article_id` to indices"
   ]
  },
  {
   "cell_type": "code",
   "execution_count": 59,
   "id": "ef4e8bac",
   "metadata": {
    "colab": {
     "base_uri": "https://localhost:8080/",
     "height": 224
    },
    "executionInfo": {
     "elapsed": 941,
     "status": "ok",
     "timestamp": 1651409661299,
     "user": {
      "displayName": "Steven George",
      "userId": "07709250839253394649"
     },
     "user_tz": -60
    },
    "id": "6f984ba4",
    "outputId": "b2f0c19a-9425-44b0-9517-65e2ec58e253"
   },
   "outputs": [
    {
     "name": "stdout",
     "output_type": "stream",
     "text": [
      "(105542, 3)\n"
     ]
    },
    {
     "data": {
      "text/html": [
       "\n",
       "  <div id=\"df-1a190106-65ba-4863-a169-8c74360cdce4\">\n",
       "    <div class=\"colab-df-container\">\n",
       "      <div>\n",
       "<style scoped>\n",
       "    .dataframe tbody tr th:only-of-type {\n",
       "        vertical-align: middle;\n",
       "    }\n",
       "\n",
       "    .dataframe tbody tr th {\n",
       "        vertical-align: top;\n",
       "    }\n",
       "\n",
       "    .dataframe thead th {\n",
       "        text-align: right;\n",
       "    }\n",
       "</style>\n",
       "<table border=\"1\" class=\"dataframe\">\n",
       "  <thead>\n",
       "    <tr style=\"text-align: right;\">\n",
       "      <th></th>\n",
       "      <th>article_id</th>\n",
       "      <th>garment_group_name</th>\n",
       "      <th>detail_desc</th>\n",
       "    </tr>\n",
       "  </thead>\n",
       "  <tbody>\n",
       "    <tr>\n",
       "      <th>0</th>\n",
       "      <td>0108775015</td>\n",
       "      <td>Jersey Basic</td>\n",
       "      <td>Jersey top with narrow shoulder straps.</td>\n",
       "    </tr>\n",
       "    <tr>\n",
       "      <th>1</th>\n",
       "      <td>0108775044</td>\n",
       "      <td>Jersey Basic</td>\n",
       "      <td>Jersey top with narrow shoulder straps.</td>\n",
       "    </tr>\n",
       "    <tr>\n",
       "      <th>2</th>\n",
       "      <td>0108775051</td>\n",
       "      <td>Jersey Basic</td>\n",
       "      <td>Jersey top with narrow shoulder straps.</td>\n",
       "    </tr>\n",
       "    <tr>\n",
       "      <th>3</th>\n",
       "      <td>0110065001</td>\n",
       "      <td>Under-, Nightwear</td>\n",
       "      <td>Microfibre T-shirt bra with underwired, moulde...</td>\n",
       "    </tr>\n",
       "    <tr>\n",
       "      <th>4</th>\n",
       "      <td>0110065002</td>\n",
       "      <td>Under-, Nightwear</td>\n",
       "      <td>Microfibre T-shirt bra with underwired, moulde...</td>\n",
       "    </tr>\n",
       "  </tbody>\n",
       "</table>\n",
       "</div>\n",
       "      <button class=\"colab-df-convert\" onclick=\"convertToInteractive('df-1a190106-65ba-4863-a169-8c74360cdce4')\"\n",
       "              title=\"Convert this dataframe to an interactive table.\"\n",
       "              style=\"display:none;\">\n",
       "        \n",
       "  <svg xmlns=\"http://www.w3.org/2000/svg\" height=\"24px\"viewBox=\"0 0 24 24\"\n",
       "       width=\"24px\">\n",
       "    <path d=\"M0 0h24v24H0V0z\" fill=\"none\"/>\n",
       "    <path d=\"M18.56 5.44l.94 2.06.94-2.06 2.06-.94-2.06-.94-.94-2.06-.94 2.06-2.06.94zm-11 1L8.5 8.5l.94-2.06 2.06-.94-2.06-.94L8.5 2.5l-.94 2.06-2.06.94zm10 10l.94 2.06.94-2.06 2.06-.94-2.06-.94-.94-2.06-.94 2.06-2.06.94z\"/><path d=\"M17.41 7.96l-1.37-1.37c-.4-.4-.92-.59-1.43-.59-.52 0-1.04.2-1.43.59L10.3 9.45l-7.72 7.72c-.78.78-.78 2.05 0 2.83L4 21.41c.39.39.9.59 1.41.59.51 0 1.02-.2 1.41-.59l7.78-7.78 2.81-2.81c.8-.78.8-2.07 0-2.86zM5.41 20L4 18.59l7.72-7.72 1.47 1.35L5.41 20z\"/>\n",
       "  </svg>\n",
       "      </button>\n",
       "      \n",
       "  <style>\n",
       "    .colab-df-container {\n",
       "      display:flex;\n",
       "      flex-wrap:wrap;\n",
       "      gap: 12px;\n",
       "    }\n",
       "\n",
       "    .colab-df-convert {\n",
       "      background-color: #E8F0FE;\n",
       "      border: none;\n",
       "      border-radius: 50%;\n",
       "      cursor: pointer;\n",
       "      display: none;\n",
       "      fill: #1967D2;\n",
       "      height: 32px;\n",
       "      padding: 0 0 0 0;\n",
       "      width: 32px;\n",
       "    }\n",
       "\n",
       "    .colab-df-convert:hover {\n",
       "      background-color: #E2EBFA;\n",
       "      box-shadow: 0px 1px 2px rgba(60, 64, 67, 0.3), 0px 1px 3px 1px rgba(60, 64, 67, 0.15);\n",
       "      fill: #174EA6;\n",
       "    }\n",
       "\n",
       "    [theme=dark] .colab-df-convert {\n",
       "      background-color: #3B4455;\n",
       "      fill: #D2E3FC;\n",
       "    }\n",
       "\n",
       "    [theme=dark] .colab-df-convert:hover {\n",
       "      background-color: #434B5C;\n",
       "      box-shadow: 0px 1px 3px 1px rgba(0, 0, 0, 0.15);\n",
       "      filter: drop-shadow(0px 1px 2px rgba(0, 0, 0, 0.3));\n",
       "      fill: #FFFFFF;\n",
       "    }\n",
       "  </style>\n",
       "\n",
       "      <script>\n",
       "        const buttonEl =\n",
       "          document.querySelector('#df-1a190106-65ba-4863-a169-8c74360cdce4 button.colab-df-convert');\n",
       "        buttonEl.style.display =\n",
       "          google.colab.kernel.accessAllowed ? 'block' : 'none';\n",
       "\n",
       "        async function convertToInteractive(key) {\n",
       "          const element = document.querySelector('#df-1a190106-65ba-4863-a169-8c74360cdce4');\n",
       "          const dataTable =\n",
       "            await google.colab.kernel.invokeFunction('convertToInteractive',\n",
       "                                                     [key], {});\n",
       "          if (!dataTable) return;\n",
       "\n",
       "          const docLinkHtml = 'Like what you see? Visit the ' +\n",
       "            '<a target=\"_blank\" href=https://colab.research.google.com/notebooks/data_table.ipynb>data table notebook</a>'\n",
       "            + ' to learn more about interactive tables.';\n",
       "          element.innerHTML = '';\n",
       "          dataTable['output_type'] = 'display_data';\n",
       "          await google.colab.output.renderOutput(dataTable, element);\n",
       "          const docLink = document.createElement('div');\n",
       "          docLink.innerHTML = docLinkHtml;\n",
       "          element.appendChild(docLink);\n",
       "        }\n",
       "      </script>\n",
       "    </div>\n",
       "  </div>\n",
       "  "
      ],
      "text/plain": [
       "   article_id garment_group_name  \\\n",
       "0  0108775015       Jersey Basic   \n",
       "1  0108775044       Jersey Basic   \n",
       "2  0108775051       Jersey Basic   \n",
       "3  0110065001  Under-, Nightwear   \n",
       "4  0110065002  Under-, Nightwear   \n",
       "\n",
       "                                         detail_desc  \n",
       "0            Jersey top with narrow shoulder straps.  \n",
       "1            Jersey top with narrow shoulder straps.  \n",
       "2            Jersey top with narrow shoulder straps.  \n",
       "3  Microfibre T-shirt bra with underwired, moulde...  \n",
       "4  Microfibre T-shirt bra with underwired, moulde...  "
      ]
     },
     "execution_count": 59,
     "metadata": {},
     "output_type": "execute_result"
    }
   ],
   "source": [
    "articles_df = pd.read_csv(\n",
    "    'data/articles.csv', \n",
    "    dtype={'article_id': str},\n",
    "    usecols=['article_id', 'garment_group_name', 'detail_desc']\n",
    ")\n",
    "print(articles_df.shape)\n",
    "articles_df.head()"
   ]
  },
  {
   "cell_type": "code",
   "execution_count": 60,
   "id": "d5a15289",
   "metadata": {
    "executionInfo": {
     "elapsed": 391,
     "status": "ok",
     "timestamp": 1651409663053,
     "user": {
      "displayName": "Steven George",
      "userId": "07709250839253394649"
     },
     "user_tz": -60
    },
    "id": "1ed50637"
   },
   "outputs": [],
   "source": [
    "# articles_df = articles_df.copy()[articles_df['article_id'].isin(top_1000)]"
   ]
  },
  {
   "cell_type": "code",
   "execution_count": 61,
   "id": "64b5bf61",
   "metadata": {
    "executionInfo": {
     "elapsed": 416,
     "status": "ok",
     "timestamp": 1651409666404,
     "user": {
      "displayName": "Steven George",
      "userId": "07709250839253394649"
     },
     "user_tz": -60
    },
    "id": "etePvo8Tha6f"
   },
   "outputs": [],
   "source": [
    "articles_df.reset_index(drop=True, inplace=True)"
   ]
  },
  {
   "cell_type": "code",
   "execution_count": 62,
   "id": "59a02e5f",
   "metadata": {
    "colab": {
     "base_uri": "https://localhost:8080/",
     "height": 224
    },
    "executionInfo": {
     "elapsed": 420,
     "status": "ok",
     "timestamp": 1651409668558,
     "user": {
      "displayName": "Steven George",
      "userId": "07709250839253394649"
     },
     "user_tz": -60
    },
    "id": "8ddff17c",
    "outputId": "1b60e938-83c7-4303-cc9e-24038ef85abd"
   },
   "outputs": [
    {
     "name": "stdout",
     "output_type": "stream",
     "text": [
      "(105542, 3)\n"
     ]
    },
    {
     "data": {
      "text/html": [
       "\n",
       "  <div id=\"df-4294fdbb-4bf8-4138-b462-6312e43e4ed0\">\n",
       "    <div class=\"colab-df-container\">\n",
       "      <div>\n",
       "<style scoped>\n",
       "    .dataframe tbody tr th:only-of-type {\n",
       "        vertical-align: middle;\n",
       "    }\n",
       "\n",
       "    .dataframe tbody tr th {\n",
       "        vertical-align: top;\n",
       "    }\n",
       "\n",
       "    .dataframe thead th {\n",
       "        text-align: right;\n",
       "    }\n",
       "</style>\n",
       "<table border=\"1\" class=\"dataframe\">\n",
       "  <thead>\n",
       "    <tr style=\"text-align: right;\">\n",
       "      <th></th>\n",
       "      <th>article_id</th>\n",
       "      <th>garment_group_name</th>\n",
       "      <th>detail_desc</th>\n",
       "    </tr>\n",
       "  </thead>\n",
       "  <tbody>\n",
       "    <tr>\n",
       "      <th>0</th>\n",
       "      <td>0108775015</td>\n",
       "      <td>Jersey Basic</td>\n",
       "      <td>Jersey top with narrow shoulder straps.</td>\n",
       "    </tr>\n",
       "    <tr>\n",
       "      <th>1</th>\n",
       "      <td>0108775044</td>\n",
       "      <td>Jersey Basic</td>\n",
       "      <td>Jersey top with narrow shoulder straps.</td>\n",
       "    </tr>\n",
       "    <tr>\n",
       "      <th>2</th>\n",
       "      <td>0108775051</td>\n",
       "      <td>Jersey Basic</td>\n",
       "      <td>Jersey top with narrow shoulder straps.</td>\n",
       "    </tr>\n",
       "    <tr>\n",
       "      <th>3</th>\n",
       "      <td>0110065001</td>\n",
       "      <td>Under-, Nightwear</td>\n",
       "      <td>Microfibre T-shirt bra with underwired, moulde...</td>\n",
       "    </tr>\n",
       "    <tr>\n",
       "      <th>4</th>\n",
       "      <td>0110065002</td>\n",
       "      <td>Under-, Nightwear</td>\n",
       "      <td>Microfibre T-shirt bra with underwired, moulde...</td>\n",
       "    </tr>\n",
       "  </tbody>\n",
       "</table>\n",
       "</div>\n",
       "      <button class=\"colab-df-convert\" onclick=\"convertToInteractive('df-4294fdbb-4bf8-4138-b462-6312e43e4ed0')\"\n",
       "              title=\"Convert this dataframe to an interactive table.\"\n",
       "              style=\"display:none;\">\n",
       "        \n",
       "  <svg xmlns=\"http://www.w3.org/2000/svg\" height=\"24px\"viewBox=\"0 0 24 24\"\n",
       "       width=\"24px\">\n",
       "    <path d=\"M0 0h24v24H0V0z\" fill=\"none\"/>\n",
       "    <path d=\"M18.56 5.44l.94 2.06.94-2.06 2.06-.94-2.06-.94-.94-2.06-.94 2.06-2.06.94zm-11 1L8.5 8.5l.94-2.06 2.06-.94-2.06-.94L8.5 2.5l-.94 2.06-2.06.94zm10 10l.94 2.06.94-2.06 2.06-.94-2.06-.94-.94-2.06-.94 2.06-2.06.94z\"/><path d=\"M17.41 7.96l-1.37-1.37c-.4-.4-.92-.59-1.43-.59-.52 0-1.04.2-1.43.59L10.3 9.45l-7.72 7.72c-.78.78-.78 2.05 0 2.83L4 21.41c.39.39.9.59 1.41.59.51 0 1.02-.2 1.41-.59l7.78-7.78 2.81-2.81c.8-.78.8-2.07 0-2.86zM5.41 20L4 18.59l7.72-7.72 1.47 1.35L5.41 20z\"/>\n",
       "  </svg>\n",
       "      </button>\n",
       "      \n",
       "  <style>\n",
       "    .colab-df-container {\n",
       "      display:flex;\n",
       "      flex-wrap:wrap;\n",
       "      gap: 12px;\n",
       "    }\n",
       "\n",
       "    .colab-df-convert {\n",
       "      background-color: #E8F0FE;\n",
       "      border: none;\n",
       "      border-radius: 50%;\n",
       "      cursor: pointer;\n",
       "      display: none;\n",
       "      fill: #1967D2;\n",
       "      height: 32px;\n",
       "      padding: 0 0 0 0;\n",
       "      width: 32px;\n",
       "    }\n",
       "\n",
       "    .colab-df-convert:hover {\n",
       "      background-color: #E2EBFA;\n",
       "      box-shadow: 0px 1px 2px rgba(60, 64, 67, 0.3), 0px 1px 3px 1px rgba(60, 64, 67, 0.15);\n",
       "      fill: #174EA6;\n",
       "    }\n",
       "\n",
       "    [theme=dark] .colab-df-convert {\n",
       "      background-color: #3B4455;\n",
       "      fill: #D2E3FC;\n",
       "    }\n",
       "\n",
       "    [theme=dark] .colab-df-convert:hover {\n",
       "      background-color: #434B5C;\n",
       "      box-shadow: 0px 1px 3px 1px rgba(0, 0, 0, 0.15);\n",
       "      filter: drop-shadow(0px 1px 2px rgba(0, 0, 0, 0.3));\n",
       "      fill: #FFFFFF;\n",
       "    }\n",
       "  </style>\n",
       "\n",
       "      <script>\n",
       "        const buttonEl =\n",
       "          document.querySelector('#df-4294fdbb-4bf8-4138-b462-6312e43e4ed0 button.colab-df-convert');\n",
       "        buttonEl.style.display =\n",
       "          google.colab.kernel.accessAllowed ? 'block' : 'none';\n",
       "\n",
       "        async function convertToInteractive(key) {\n",
       "          const element = document.querySelector('#df-4294fdbb-4bf8-4138-b462-6312e43e4ed0');\n",
       "          const dataTable =\n",
       "            await google.colab.kernel.invokeFunction('convertToInteractive',\n",
       "                                                     [key], {});\n",
       "          if (!dataTable) return;\n",
       "\n",
       "          const docLinkHtml = 'Like what you see? Visit the ' +\n",
       "            '<a target=\"_blank\" href=https://colab.research.google.com/notebooks/data_table.ipynb>data table notebook</a>'\n",
       "            + ' to learn more about interactive tables.';\n",
       "          element.innerHTML = '';\n",
       "          dataTable['output_type'] = 'display_data';\n",
       "          await google.colab.output.renderOutput(dataTable, element);\n",
       "          const docLink = document.createElement('div');\n",
       "          docLink.innerHTML = docLinkHtml;\n",
       "          element.appendChild(docLink);\n",
       "        }\n",
       "      </script>\n",
       "    </div>\n",
       "  </div>\n",
       "  "
      ],
      "text/plain": [
       "   article_id garment_group_name  \\\n",
       "0  0108775015       Jersey Basic   \n",
       "1  0108775044       Jersey Basic   \n",
       "2  0108775051       Jersey Basic   \n",
       "3  0110065001  Under-, Nightwear   \n",
       "4  0110065002  Under-, Nightwear   \n",
       "\n",
       "                                         detail_desc  \n",
       "0            Jersey top with narrow shoulder straps.  \n",
       "1            Jersey top with narrow shoulder straps.  \n",
       "2            Jersey top with narrow shoulder straps.  \n",
       "3  Microfibre T-shirt bra with underwired, moulde...  \n",
       "4  Microfibre T-shirt bra with underwired, moulde...  "
      ]
     },
     "execution_count": 62,
     "metadata": {},
     "output_type": "execute_result"
    }
   ],
   "source": [
    "print(articles_df.shape)\n",
    "articles_df.head()"
   ]
  },
  {
   "cell_type": "code",
   "execution_count": 63,
   "id": "150956c5",
   "metadata": {
    "executionInfo": {
     "elapsed": 492,
     "status": "ok",
     "timestamp": 1651409672549,
     "user": {
      "displayName": "Steven George",
      "userId": "07709250839253394649"
     },
     "user_tz": -60
    },
    "id": "Winhj1eyh3bX"
   },
   "outputs": [],
   "source": [
    "articles_df['article_id_idx'] = articles_df.index"
   ]
  },
  {
   "cell_type": "code",
   "execution_count": 64,
   "id": "af4d9da6",
   "metadata": {
    "colab": {
     "base_uri": "https://localhost:8080/"
    },
    "executionInfo": {
     "elapsed": 445,
     "status": "ok",
     "timestamp": 1651409675006,
     "user": {
      "displayName": "Steven George",
      "userId": "07709250839253394649"
     },
     "user_tz": -60
    },
    "id": "hKeNv0dTh9pS",
    "outputId": "3ed54a53-2899-4c55-d7ff-23447ad0dcae"
   },
   "outputs": [
    {
     "data": {
      "text/plain": [
       "article_id              0\n",
       "garment_group_name      0\n",
       "detail_desc           416\n",
       "article_id_idx          0\n",
       "dtype: int64"
      ]
     },
     "execution_count": 64,
     "metadata": {},
     "output_type": "execute_result"
    }
   ],
   "source": [
    "articles_df.isnull().sum()"
   ]
  },
  {
   "cell_type": "code",
   "execution_count": 65,
   "id": "92a973b5",
   "metadata": {
    "executionInfo": {
     "elapsed": 410,
     "status": "ok",
     "timestamp": 1651409677254,
     "user": {
      "displayName": "Steven George",
      "userId": "07709250839253394649"
     },
     "user_tz": -60
    },
    "id": "niRO9Et8ieIa"
   },
   "outputs": [],
   "source": [
    "articles_df['detail_desc'] = np.where(\n",
    "    articles_df['detail_desc'].isnull(), \n",
    "    articles_df['garment_group_name'],\n",
    "    articles_df['detail_desc']\n",
    ")"
   ]
  },
  {
   "cell_type": "code",
   "execution_count": 66,
   "id": "fbc24a3a",
   "metadata": {
    "executionInfo": {
     "elapsed": 13005,
     "status": "ok",
     "timestamp": 1651409691487,
     "user": {
      "displayName": "Steven George",
      "userId": "07709250839253394649"
     },
     "user_tz": -60
    },
    "id": "RAT0CyIZicJK"
   },
   "outputs": [],
   "source": [
    "from sentence_transformers import SentenceTransformer\n",
    "model = SentenceTransformer('paraphrase-MiniLM-L6-v2')"
   ]
  },
  {
   "cell_type": "code",
   "execution_count": 67,
   "id": "288594d9",
   "metadata": {
    "colab": {
     "base_uri": "https://localhost:8080/"
    },
    "executionInfo": {
     "elapsed": 15,
     "status": "ok",
     "timestamp": 1651409691488,
     "user": {
      "displayName": "Steven George",
      "userId": "07709250839253394649"
     },
     "user_tz": -60
    },
    "id": "7AwKMXQ1icJK",
    "outputId": "529911b5-c236-4cef-d257-5b03a214c191"
   },
   "outputs": [
    {
     "data": {
      "text/plain": [
       "['Jersey top with narrow shoulder straps.',\n",
       " 'Jersey top with narrow shoulder straps.',\n",
       " 'Jersey top with narrow shoulder straps.',\n",
       " 'Microfibre T-shirt bra with underwired, moulded, lightly padded cups that shape the bust and provide good support. Narrow adjustable shoulder straps and a narrow hook-and-eye fastening at the back. Without visible seams for greater comfort.',\n",
       " 'Microfibre T-shirt bra with underwired, moulded, lightly padded cups that shape the bust and provide good support. Narrow adjustable shoulder straps and a narrow hook-and-eye fastening at the back. Without visible seams for greater comfort.']"
      ]
     },
     "execution_count": 67,
     "metadata": {},
     "output_type": "execute_result"
    }
   ],
   "source": [
    "article_descriptions = articles_df['detail_desc'].to_list()\n",
    "article_descriptions[:5]"
   ]
  },
  {
   "cell_type": "code",
   "execution_count": 68,
   "id": "2f3368f3",
   "metadata": {
    "executionInfo": {
     "elapsed": 47705,
     "status": "ok",
     "timestamp": 1651409739180,
     "user": {
      "displayName": "Steven George",
      "userId": "07709250839253394649"
     },
     "user_tz": -60
    },
    "id": "TvvfcljIicJK"
   },
   "outputs": [],
   "source": [
    "embeddings = model.encode(article_descriptions)"
   ]
  },
  {
   "cell_type": "code",
   "execution_count": 69,
   "id": "2909b433",
   "metadata": {
    "executionInfo": {
     "elapsed": 19,
     "status": "ok",
     "timestamp": 1651409739181,
     "user": {
      "displayName": "Steven George",
      "userId": "07709250839253394649"
     },
     "user_tz": -60
    },
    "id": "hr0LQYFRicJL"
   },
   "outputs": [],
   "source": [
    "embeddings = torch.tensor(embeddings)"
   ]
  },
  {
   "cell_type": "code",
   "execution_count": 70,
   "id": "1027b68a",
   "metadata": {
    "colab": {
     "base_uri": "https://localhost:8080/"
    },
    "executionInfo": {
     "elapsed": 18,
     "status": "ok",
     "timestamp": 1651409739181,
     "user": {
      "displayName": "Steven George",
      "userId": "07709250839253394649"
     },
     "user_tz": -60
    },
    "id": "_GGYgPIni3_t",
    "outputId": "2dc95c9a-536e-41c2-afee-131f5fba9380"
   },
   "outputs": [
    {
     "data": {
      "text/plain": [
       "torch.Size([105542, 384])"
      ]
     },
     "execution_count": 70,
     "metadata": {},
     "output_type": "execute_result"
    }
   ],
   "source": [
    "embeddings.shape"
   ]
  },
  {
   "cell_type": "code",
   "execution_count": 71,
   "id": "52e1eeca",
   "metadata": {
    "executionInfo": {
     "elapsed": 442,
     "status": "ok",
     "timestamp": 1651409742417,
     "user": {
      "displayName": "Steven George",
      "userId": "07709250839253394649"
     },
     "user_tz": -60
    },
    "id": "A7ZW93LJh9iq"
   },
   "outputs": [],
   "source": [
    "article_id_to_idx = dict(\n",
    "    zip(\n",
    "        articles_df['article_id'], \n",
    "        articles_df['article_id_idx']\n",
    "    )\n",
    ")"
   ]
  },
  {
   "cell_type": "code",
   "execution_count": 72,
   "id": "ad8eab0b",
   "metadata": {
    "executionInfo": {
     "elapsed": 1132,
     "status": "ok",
     "timestamp": 1651409744982,
     "user": {
      "displayName": "Steven George",
      "userId": "07709250839253394649"
     },
     "user_tz": -60
    },
    "id": "e4a4767e"
   },
   "outputs": [],
   "source": [
    "train_set['article_id_idx'] = train_set['article_id'].map(article_id_to_idx)\n",
    "dev_set['article_id_idx'] = dev_set['article_id'].map(article_id_to_idx)"
   ]
  },
  {
   "cell_type": "code",
   "execution_count": 73,
   "id": "c0d1358f",
   "metadata": {
    "colab": {
     "base_uri": "https://localhost:8080/",
     "height": 206
    },
    "executionInfo": {
     "elapsed": 9,
     "status": "ok",
     "timestamp": 1651409744983,
     "user": {
      "displayName": "Steven George",
      "userId": "07709250839253394649"
     },
     "user_tz": -60
    },
    "id": "dcc1cbcc",
    "outputId": "57f92230-6799-4e4e-ad0a-73703413b883"
   },
   "outputs": [
    {
     "data": {
      "text/html": [
       "\n",
       "  <div id=\"df-708cea3d-a62f-47e6-8ce3-d48344f8a226\">\n",
       "    <div class=\"colab-df-container\">\n",
       "      <div>\n",
       "<style scoped>\n",
       "    .dataframe tbody tr th:only-of-type {\n",
       "        vertical-align: middle;\n",
       "    }\n",
       "\n",
       "    .dataframe tbody tr th {\n",
       "        vertical-align: top;\n",
       "    }\n",
       "\n",
       "    .dataframe thead th {\n",
       "        text-align: right;\n",
       "    }\n",
       "</style>\n",
       "<table border=\"1\" class=\"dataframe\">\n",
       "  <thead>\n",
       "    <tr style=\"text-align: right;\">\n",
       "      <th></th>\n",
       "      <th>customer_id</th>\n",
       "      <th>article_id</th>\n",
       "      <th>customer_id_idx</th>\n",
       "      <th>purchased</th>\n",
       "      <th>article_id_idx</th>\n",
       "    </tr>\n",
       "  </thead>\n",
       "  <tbody>\n",
       "    <tr>\n",
       "      <th>5015</th>\n",
       "      <td>9165937ca0e3520ebe0533ffd6bb41eb5f3d2d61d04338...</td>\n",
       "      <td>0554450001</td>\n",
       "      <td>NaN</td>\n",
       "      <td>0</td>\n",
       "      <td>12585</td>\n",
       "    </tr>\n",
       "    <tr>\n",
       "      <th>6805</th>\n",
       "      <td>c57b05d88861137cb87f02719a38968ec5a4b7e6c970bf...</td>\n",
       "      <td>0685814002</td>\n",
       "      <td>NaN</td>\n",
       "      <td>0</td>\n",
       "      <td>46383</td>\n",
       "    </tr>\n",
       "    <tr>\n",
       "      <th>4477</th>\n",
       "      <td>804895ebec804fab7bc7d8b96a2a74e00e0af79759b119...</td>\n",
       "      <td>0770315007</td>\n",
       "      <td>NaN</td>\n",
       "      <td>0</td>\n",
       "      <td>73050</td>\n",
       "    </tr>\n",
       "    <tr>\n",
       "      <th>6345</th>\n",
       "      <td>b6f4078b1474d782c8316694af3afdd64041209f6114ac...</td>\n",
       "      <td>0746775001</td>\n",
       "      <td>NaN</td>\n",
       "      <td>0</td>\n",
       "      <td>66108</td>\n",
       "    </tr>\n",
       "    <tr>\n",
       "      <th>7911</th>\n",
       "      <td>e60e66e755cda27055e3e22328012d6c0ab7b28b18f7ec...</td>\n",
       "      <td>0733803001</td>\n",
       "      <td>NaN</td>\n",
       "      <td>0</td>\n",
       "      <td>61632</td>\n",
       "    </tr>\n",
       "  </tbody>\n",
       "</table>\n",
       "</div>\n",
       "      <button class=\"colab-df-convert\" onclick=\"convertToInteractive('df-708cea3d-a62f-47e6-8ce3-d48344f8a226')\"\n",
       "              title=\"Convert this dataframe to an interactive table.\"\n",
       "              style=\"display:none;\">\n",
       "        \n",
       "  <svg xmlns=\"http://www.w3.org/2000/svg\" height=\"24px\"viewBox=\"0 0 24 24\"\n",
       "       width=\"24px\">\n",
       "    <path d=\"M0 0h24v24H0V0z\" fill=\"none\"/>\n",
       "    <path d=\"M18.56 5.44l.94 2.06.94-2.06 2.06-.94-2.06-.94-.94-2.06-.94 2.06-2.06.94zm-11 1L8.5 8.5l.94-2.06 2.06-.94-2.06-.94L8.5 2.5l-.94 2.06-2.06.94zm10 10l.94 2.06.94-2.06 2.06-.94-2.06-.94-.94-2.06-.94 2.06-2.06.94z\"/><path d=\"M17.41 7.96l-1.37-1.37c-.4-.4-.92-.59-1.43-.59-.52 0-1.04.2-1.43.59L10.3 9.45l-7.72 7.72c-.78.78-.78 2.05 0 2.83L4 21.41c.39.39.9.59 1.41.59.51 0 1.02-.2 1.41-.59l7.78-7.78 2.81-2.81c.8-.78.8-2.07 0-2.86zM5.41 20L4 18.59l7.72-7.72 1.47 1.35L5.41 20z\"/>\n",
       "  </svg>\n",
       "      </button>\n",
       "      \n",
       "  <style>\n",
       "    .colab-df-container {\n",
       "      display:flex;\n",
       "      flex-wrap:wrap;\n",
       "      gap: 12px;\n",
       "    }\n",
       "\n",
       "    .colab-df-convert {\n",
       "      background-color: #E8F0FE;\n",
       "      border: none;\n",
       "      border-radius: 50%;\n",
       "      cursor: pointer;\n",
       "      display: none;\n",
       "      fill: #1967D2;\n",
       "      height: 32px;\n",
       "      padding: 0 0 0 0;\n",
       "      width: 32px;\n",
       "    }\n",
       "\n",
       "    .colab-df-convert:hover {\n",
       "      background-color: #E2EBFA;\n",
       "      box-shadow: 0px 1px 2px rgba(60, 64, 67, 0.3), 0px 1px 3px 1px rgba(60, 64, 67, 0.15);\n",
       "      fill: #174EA6;\n",
       "    }\n",
       "\n",
       "    [theme=dark] .colab-df-convert {\n",
       "      background-color: #3B4455;\n",
       "      fill: #D2E3FC;\n",
       "    }\n",
       "\n",
       "    [theme=dark] .colab-df-convert:hover {\n",
       "      background-color: #434B5C;\n",
       "      box-shadow: 0px 1px 3px 1px rgba(0, 0, 0, 0.15);\n",
       "      filter: drop-shadow(0px 1px 2px rgba(0, 0, 0, 0.3));\n",
       "      fill: #FFFFFF;\n",
       "    }\n",
       "  </style>\n",
       "\n",
       "      <script>\n",
       "        const buttonEl =\n",
       "          document.querySelector('#df-708cea3d-a62f-47e6-8ce3-d48344f8a226 button.colab-df-convert');\n",
       "        buttonEl.style.display =\n",
       "          google.colab.kernel.accessAllowed ? 'block' : 'none';\n",
       "\n",
       "        async function convertToInteractive(key) {\n",
       "          const element = document.querySelector('#df-708cea3d-a62f-47e6-8ce3-d48344f8a226');\n",
       "          const dataTable =\n",
       "            await google.colab.kernel.invokeFunction('convertToInteractive',\n",
       "                                                     [key], {});\n",
       "          if (!dataTable) return;\n",
       "\n",
       "          const docLinkHtml = 'Like what you see? Visit the ' +\n",
       "            '<a target=\"_blank\" href=https://colab.research.google.com/notebooks/data_table.ipynb>data table notebook</a>'\n",
       "            + ' to learn more about interactive tables.';\n",
       "          element.innerHTML = '';\n",
       "          dataTable['output_type'] = 'display_data';\n",
       "          await google.colab.output.renderOutput(dataTable, element);\n",
       "          const docLink = document.createElement('div');\n",
       "          docLink.innerHTML = docLinkHtml;\n",
       "          element.appendChild(docLink);\n",
       "        }\n",
       "      </script>\n",
       "    </div>\n",
       "  </div>\n",
       "  "
      ],
      "text/plain": [
       "                                            customer_id  article_id  \\\n",
       "5015  9165937ca0e3520ebe0533ffd6bb41eb5f3d2d61d04338...  0554450001   \n",
       "6805  c57b05d88861137cb87f02719a38968ec5a4b7e6c970bf...  0685814002   \n",
       "4477  804895ebec804fab7bc7d8b96a2a74e00e0af79759b119...  0770315007   \n",
       "6345  b6f4078b1474d782c8316694af3afdd64041209f6114ac...  0746775001   \n",
       "7911  e60e66e755cda27055e3e22328012d6c0ab7b28b18f7ec...  0733803001   \n",
       "\n",
       "      customer_id_idx  purchased  article_id_idx  \n",
       "5015              NaN          0           12585  \n",
       "6805              NaN          0           46383  \n",
       "4477              NaN          0           73050  \n",
       "6345              NaN          0           66108  \n",
       "7911              NaN          0           61632  "
      ]
     },
     "execution_count": 73,
     "metadata": {},
     "output_type": "execute_result"
    }
   ],
   "source": [
    "train_set.head()"
   ]
  },
  {
   "cell_type": "code",
   "execution_count": 74,
   "id": "15ff60b8",
   "metadata": {
    "colab": {
     "base_uri": "https://localhost:8080/",
     "height": 206
    },
    "executionInfo": {
     "elapsed": 9,
     "status": "ok",
     "timestamp": 1651409744984,
     "user": {
      "displayName": "Steven George",
      "userId": "07709250839253394649"
     },
     "user_tz": -60
    },
    "id": "d665c053",
    "outputId": "5293d066-dce7-4e97-b3d7-fa2f45bdb9ae"
   },
   "outputs": [
    {
     "data": {
      "text/html": [
       "\n",
       "  <div id=\"df-1e2538f5-700d-4c29-84ff-5bb79d97956a\">\n",
       "    <div class=\"colab-df-container\">\n",
       "      <div>\n",
       "<style scoped>\n",
       "    .dataframe tbody tr th:only-of-type {\n",
       "        vertical-align: middle;\n",
       "    }\n",
       "\n",
       "    .dataframe tbody tr th {\n",
       "        vertical-align: top;\n",
       "    }\n",
       "\n",
       "    .dataframe thead th {\n",
       "        text-align: right;\n",
       "    }\n",
       "</style>\n",
       "<table border=\"1\" class=\"dataframe\">\n",
       "  <thead>\n",
       "    <tr style=\"text-align: right;\">\n",
       "      <th></th>\n",
       "      <th>customer_id</th>\n",
       "      <th>article_id</th>\n",
       "      <th>customer_id_idx</th>\n",
       "      <th>purchased</th>\n",
       "      <th>article_id_idx</th>\n",
       "    </tr>\n",
       "  </thead>\n",
       "  <tbody>\n",
       "    <tr>\n",
       "      <th>1922</th>\n",
       "      <td>f7cff47ca5eed528a9990e21e619878b002d7ce393f471...</td>\n",
       "      <td>0610776001</td>\n",
       "      <td>NaN</td>\n",
       "      <td>0</td>\n",
       "      <td>24836</td>\n",
       "    </tr>\n",
       "    <tr>\n",
       "      <th>1247</th>\n",
       "      <td>9d4f9874a43da353c42bfdf70368ac6ef7c080613a0ab0...</td>\n",
       "      <td>0841434003</td>\n",
       "      <td>NaN</td>\n",
       "      <td>0</td>\n",
       "      <td>90096</td>\n",
       "    </tr>\n",
       "    <tr>\n",
       "      <th>73</th>\n",
       "      <td>0b50b5aeb1d21ccf35ab72b056b041950806e6474d2be6...</td>\n",
       "      <td>0843793004</td>\n",
       "      <td>NaN</td>\n",
       "      <td>0</td>\n",
       "      <td>90582</td>\n",
       "    </tr>\n",
       "    <tr>\n",
       "      <th>1502</th>\n",
       "      <td>c037b35b7422f7c90b50c85f76fe0c35af5b633f90b63d...</td>\n",
       "      <td>0780297001</td>\n",
       "      <td>NaN</td>\n",
       "      <td>0</td>\n",
       "      <td>75215</td>\n",
       "    </tr>\n",
       "    <tr>\n",
       "      <th>135</th>\n",
       "      <td>136b571bf08e948b9fc5ef62c1e300a9a2f00e2bbddd9f...</td>\n",
       "      <td>0842605001</td>\n",
       "      <td>NaN</td>\n",
       "      <td>0</td>\n",
       "      <td>90340</td>\n",
       "    </tr>\n",
       "  </tbody>\n",
       "</table>\n",
       "</div>\n",
       "      <button class=\"colab-df-convert\" onclick=\"convertToInteractive('df-1e2538f5-700d-4c29-84ff-5bb79d97956a')\"\n",
       "              title=\"Convert this dataframe to an interactive table.\"\n",
       "              style=\"display:none;\">\n",
       "        \n",
       "  <svg xmlns=\"http://www.w3.org/2000/svg\" height=\"24px\"viewBox=\"0 0 24 24\"\n",
       "       width=\"24px\">\n",
       "    <path d=\"M0 0h24v24H0V0z\" fill=\"none\"/>\n",
       "    <path d=\"M18.56 5.44l.94 2.06.94-2.06 2.06-.94-2.06-.94-.94-2.06-.94 2.06-2.06.94zm-11 1L8.5 8.5l.94-2.06 2.06-.94-2.06-.94L8.5 2.5l-.94 2.06-2.06.94zm10 10l.94 2.06.94-2.06 2.06-.94-2.06-.94-.94-2.06-.94 2.06-2.06.94z\"/><path d=\"M17.41 7.96l-1.37-1.37c-.4-.4-.92-.59-1.43-.59-.52 0-1.04.2-1.43.59L10.3 9.45l-7.72 7.72c-.78.78-.78 2.05 0 2.83L4 21.41c.39.39.9.59 1.41.59.51 0 1.02-.2 1.41-.59l7.78-7.78 2.81-2.81c.8-.78.8-2.07 0-2.86zM5.41 20L4 18.59l7.72-7.72 1.47 1.35L5.41 20z\"/>\n",
       "  </svg>\n",
       "      </button>\n",
       "      \n",
       "  <style>\n",
       "    .colab-df-container {\n",
       "      display:flex;\n",
       "      flex-wrap:wrap;\n",
       "      gap: 12px;\n",
       "    }\n",
       "\n",
       "    .colab-df-convert {\n",
       "      background-color: #E8F0FE;\n",
       "      border: none;\n",
       "      border-radius: 50%;\n",
       "      cursor: pointer;\n",
       "      display: none;\n",
       "      fill: #1967D2;\n",
       "      height: 32px;\n",
       "      padding: 0 0 0 0;\n",
       "      width: 32px;\n",
       "    }\n",
       "\n",
       "    .colab-df-convert:hover {\n",
       "      background-color: #E2EBFA;\n",
       "      box-shadow: 0px 1px 2px rgba(60, 64, 67, 0.3), 0px 1px 3px 1px rgba(60, 64, 67, 0.15);\n",
       "      fill: #174EA6;\n",
       "    }\n",
       "\n",
       "    [theme=dark] .colab-df-convert {\n",
       "      background-color: #3B4455;\n",
       "      fill: #D2E3FC;\n",
       "    }\n",
       "\n",
       "    [theme=dark] .colab-df-convert:hover {\n",
       "      background-color: #434B5C;\n",
       "      box-shadow: 0px 1px 3px 1px rgba(0, 0, 0, 0.15);\n",
       "      filter: drop-shadow(0px 1px 2px rgba(0, 0, 0, 0.3));\n",
       "      fill: #FFFFFF;\n",
       "    }\n",
       "  </style>\n",
       "\n",
       "      <script>\n",
       "        const buttonEl =\n",
       "          document.querySelector('#df-1e2538f5-700d-4c29-84ff-5bb79d97956a button.colab-df-convert');\n",
       "        buttonEl.style.display =\n",
       "          google.colab.kernel.accessAllowed ? 'block' : 'none';\n",
       "\n",
       "        async function convertToInteractive(key) {\n",
       "          const element = document.querySelector('#df-1e2538f5-700d-4c29-84ff-5bb79d97956a');\n",
       "          const dataTable =\n",
       "            await google.colab.kernel.invokeFunction('convertToInteractive',\n",
       "                                                     [key], {});\n",
       "          if (!dataTable) return;\n",
       "\n",
       "          const docLinkHtml = 'Like what you see? Visit the ' +\n",
       "            '<a target=\"_blank\" href=https://colab.research.google.com/notebooks/data_table.ipynb>data table notebook</a>'\n",
       "            + ' to learn more about interactive tables.';\n",
       "          element.innerHTML = '';\n",
       "          dataTable['output_type'] = 'display_data';\n",
       "          await google.colab.output.renderOutput(dataTable, element);\n",
       "          const docLink = document.createElement('div');\n",
       "          docLink.innerHTML = docLinkHtml;\n",
       "          element.appendChild(docLink);\n",
       "        }\n",
       "      </script>\n",
       "    </div>\n",
       "  </div>\n",
       "  "
      ],
      "text/plain": [
       "                                            customer_id  article_id  \\\n",
       "1922  f7cff47ca5eed528a9990e21e619878b002d7ce393f471...  0610776001   \n",
       "1247  9d4f9874a43da353c42bfdf70368ac6ef7c080613a0ab0...  0841434003   \n",
       "73    0b50b5aeb1d21ccf35ab72b056b041950806e6474d2be6...  0843793004   \n",
       "1502  c037b35b7422f7c90b50c85f76fe0c35af5b633f90b63d...  0780297001   \n",
       "135   136b571bf08e948b9fc5ef62c1e300a9a2f00e2bbddd9f...  0842605001   \n",
       "\n",
       "      customer_id_idx  purchased  article_id_idx  \n",
       "1922              NaN          0           24836  \n",
       "1247              NaN          0           90096  \n",
       "73                NaN          0           90582  \n",
       "1502              NaN          0           75215  \n",
       "135               NaN          0           90340  "
      ]
     },
     "execution_count": 74,
     "metadata": {},
     "output_type": "execute_result"
    }
   ],
   "source": [
    "dev_set.head()"
   ]
  },
  {
   "cell_type": "code",
   "execution_count": 75,
   "id": "b8e2f7d2",
   "metadata": {
    "executionInfo": {
     "elapsed": 1347,
     "status": "ok",
     "timestamp": 1651409748753,
     "user": {
      "displayName": "Steven George",
      "userId": "07709250839253394649"
     },
     "user_tz": -60
    },
    "id": "4329143e"
   },
   "outputs": [],
   "source": [
    "train_set['customer_id_idx'] = train_set['customer_id'].map(customer_id_to_idx)\n",
    "dev_set['customer_id_idx'] = dev_set['customer_id'].map(customer_id_to_idx)"
   ]
  },
  {
   "cell_type": "code",
   "execution_count": 76,
   "id": "83a6d61d",
   "metadata": {
    "colab": {
     "base_uri": "https://localhost:8080/"
    },
    "executionInfo": {
     "elapsed": 10,
     "status": "ok",
     "timestamp": 1651409748753,
     "user": {
      "displayName": "Steven George",
      "userId": "07709250839253394649"
     },
     "user_tz": -60
    },
    "id": "258ca347",
    "outputId": "7c5c4606-df1a-4e84-9f39-be6fbe78e7a5"
   },
   "outputs": [
    {
     "data": {
      "text/plain": [
       "0"
      ]
     },
     "execution_count": 76,
     "metadata": {},
     "output_type": "execute_result"
    }
   ],
   "source": [
    "train_set['customer_id_idx'].isnull().sum() + dev_set['customer_id_idx'].isnull().sum()"
   ]
  },
  {
   "cell_type": "code",
   "execution_count": 77,
   "id": "ce165b3f",
   "metadata": {
    "colab": {
     "base_uri": "https://localhost:8080/"
    },
    "executionInfo": {
     "elapsed": 9,
     "status": "ok",
     "timestamp": 1651409748754,
     "user": {
      "displayName": "Steven George",
      "userId": "07709250839253394649"
     },
     "user_tz": -60
    },
    "id": "ba30fdf1",
    "outputId": "d4f2f4c7-76dc-45c0-9264-a9150b8aa6ed"
   },
   "outputs": [
    {
     "data": {
      "text/plain": [
       "0"
      ]
     },
     "execution_count": 77,
     "metadata": {},
     "output_type": "execute_result"
    }
   ],
   "source": [
    "train_set['article_id_idx'].isnull().sum() + dev_set['article_id_idx'].isnull().sum()"
   ]
  },
  {
   "cell_type": "markdown",
   "id": "653f815c",
   "metadata": {
    "id": "8a1d2825"
   },
   "source": [
    "### Merge features"
   ]
  },
  {
   "cell_type": "code",
   "execution_count": 78,
   "id": "d0e25b64",
   "metadata": {
    "colab": {
     "base_uri": "https://localhost:8080/",
     "height": 206
    },
    "executionInfo": {
     "elapsed": 448,
     "status": "ok",
     "timestamp": 1651409751433,
     "user": {
      "displayName": "Steven George",
      "userId": "07709250839253394649"
     },
     "user_tz": -60
    },
    "id": "vXsLk0FkjpQJ",
    "outputId": "29b5fac5-df99-4aca-dfc8-bcc0acd29ac4"
   },
   "outputs": [
    {
     "data": {
      "text/html": [
       "\n",
       "  <div id=\"df-75aec5f2-c06c-419b-8463-c5bca27c15a3\">\n",
       "    <div class=\"colab-df-container\">\n",
       "      <div>\n",
       "<style scoped>\n",
       "    .dataframe tbody tr th:only-of-type {\n",
       "        vertical-align: middle;\n",
       "    }\n",
       "\n",
       "    .dataframe tbody tr th {\n",
       "        vertical-align: top;\n",
       "    }\n",
       "\n",
       "    .dataframe thead th {\n",
       "        text-align: right;\n",
       "    }\n",
       "</style>\n",
       "<table border=\"1\" class=\"dataframe\">\n",
       "  <thead>\n",
       "    <tr style=\"text-align: right;\">\n",
       "      <th></th>\n",
       "      <th>customer_id</th>\n",
       "      <th>article_id</th>\n",
       "      <th>customer_id_idx</th>\n",
       "      <th>purchased</th>\n",
       "      <th>article_id_idx</th>\n",
       "    </tr>\n",
       "  </thead>\n",
       "  <tbody>\n",
       "    <tr>\n",
       "      <th>5015</th>\n",
       "      <td>9165937ca0e3520ebe0533ffd6bb41eb5f3d2d61d04338...</td>\n",
       "      <td>0554450001</td>\n",
       "      <td>8789</td>\n",
       "      <td>0</td>\n",
       "      <td>12585</td>\n",
       "    </tr>\n",
       "    <tr>\n",
       "      <th>6805</th>\n",
       "      <td>c57b05d88861137cb87f02719a38968ec5a4b7e6c970bf...</td>\n",
       "      <td>0685814002</td>\n",
       "      <td>1892</td>\n",
       "      <td>0</td>\n",
       "      <td>46383</td>\n",
       "    </tr>\n",
       "    <tr>\n",
       "      <th>4477</th>\n",
       "      <td>804895ebec804fab7bc7d8b96a2a74e00e0af79759b119...</td>\n",
       "      <td>0770315007</td>\n",
       "      <td>6818</td>\n",
       "      <td>0</td>\n",
       "      <td>73050</td>\n",
       "    </tr>\n",
       "    <tr>\n",
       "      <th>6345</th>\n",
       "      <td>b6f4078b1474d782c8316694af3afdd64041209f6114ac...</td>\n",
       "      <td>0746775001</td>\n",
       "      <td>5935</td>\n",
       "      <td>0</td>\n",
       "      <td>66108</td>\n",
       "    </tr>\n",
       "    <tr>\n",
       "      <th>7911</th>\n",
       "      <td>e60e66e755cda27055e3e22328012d6c0ab7b28b18f7ec...</td>\n",
       "      <td>0733803001</td>\n",
       "      <td>6136</td>\n",
       "      <td>0</td>\n",
       "      <td>61632</td>\n",
       "    </tr>\n",
       "  </tbody>\n",
       "</table>\n",
       "</div>\n",
       "      <button class=\"colab-df-convert\" onclick=\"convertToInteractive('df-75aec5f2-c06c-419b-8463-c5bca27c15a3')\"\n",
       "              title=\"Convert this dataframe to an interactive table.\"\n",
       "              style=\"display:none;\">\n",
       "        \n",
       "  <svg xmlns=\"http://www.w3.org/2000/svg\" height=\"24px\"viewBox=\"0 0 24 24\"\n",
       "       width=\"24px\">\n",
       "    <path d=\"M0 0h24v24H0V0z\" fill=\"none\"/>\n",
       "    <path d=\"M18.56 5.44l.94 2.06.94-2.06 2.06-.94-2.06-.94-.94-2.06-.94 2.06-2.06.94zm-11 1L8.5 8.5l.94-2.06 2.06-.94-2.06-.94L8.5 2.5l-.94 2.06-2.06.94zm10 10l.94 2.06.94-2.06 2.06-.94-2.06-.94-.94-2.06-.94 2.06-2.06.94z\"/><path d=\"M17.41 7.96l-1.37-1.37c-.4-.4-.92-.59-1.43-.59-.52 0-1.04.2-1.43.59L10.3 9.45l-7.72 7.72c-.78.78-.78 2.05 0 2.83L4 21.41c.39.39.9.59 1.41.59.51 0 1.02-.2 1.41-.59l7.78-7.78 2.81-2.81c.8-.78.8-2.07 0-2.86zM5.41 20L4 18.59l7.72-7.72 1.47 1.35L5.41 20z\"/>\n",
       "  </svg>\n",
       "      </button>\n",
       "      \n",
       "  <style>\n",
       "    .colab-df-container {\n",
       "      display:flex;\n",
       "      flex-wrap:wrap;\n",
       "      gap: 12px;\n",
       "    }\n",
       "\n",
       "    .colab-df-convert {\n",
       "      background-color: #E8F0FE;\n",
       "      border: none;\n",
       "      border-radius: 50%;\n",
       "      cursor: pointer;\n",
       "      display: none;\n",
       "      fill: #1967D2;\n",
       "      height: 32px;\n",
       "      padding: 0 0 0 0;\n",
       "      width: 32px;\n",
       "    }\n",
       "\n",
       "    .colab-df-convert:hover {\n",
       "      background-color: #E2EBFA;\n",
       "      box-shadow: 0px 1px 2px rgba(60, 64, 67, 0.3), 0px 1px 3px 1px rgba(60, 64, 67, 0.15);\n",
       "      fill: #174EA6;\n",
       "    }\n",
       "\n",
       "    [theme=dark] .colab-df-convert {\n",
       "      background-color: #3B4455;\n",
       "      fill: #D2E3FC;\n",
       "    }\n",
       "\n",
       "    [theme=dark] .colab-df-convert:hover {\n",
       "      background-color: #434B5C;\n",
       "      box-shadow: 0px 1px 3px 1px rgba(0, 0, 0, 0.15);\n",
       "      filter: drop-shadow(0px 1px 2px rgba(0, 0, 0, 0.3));\n",
       "      fill: #FFFFFF;\n",
       "    }\n",
       "  </style>\n",
       "\n",
       "      <script>\n",
       "        const buttonEl =\n",
       "          document.querySelector('#df-75aec5f2-c06c-419b-8463-c5bca27c15a3 button.colab-df-convert');\n",
       "        buttonEl.style.display =\n",
       "          google.colab.kernel.accessAllowed ? 'block' : 'none';\n",
       "\n",
       "        async function convertToInteractive(key) {\n",
       "          const element = document.querySelector('#df-75aec5f2-c06c-419b-8463-c5bca27c15a3');\n",
       "          const dataTable =\n",
       "            await google.colab.kernel.invokeFunction('convertToInteractive',\n",
       "                                                     [key], {});\n",
       "          if (!dataTable) return;\n",
       "\n",
       "          const docLinkHtml = 'Like what you see? Visit the ' +\n",
       "            '<a target=\"_blank\" href=https://colab.research.google.com/notebooks/data_table.ipynb>data table notebook</a>'\n",
       "            + ' to learn more about interactive tables.';\n",
       "          element.innerHTML = '';\n",
       "          dataTable['output_type'] = 'display_data';\n",
       "          await google.colab.output.renderOutput(dataTable, element);\n",
       "          const docLink = document.createElement('div');\n",
       "          docLink.innerHTML = docLinkHtml;\n",
       "          element.appendChild(docLink);\n",
       "        }\n",
       "      </script>\n",
       "    </div>\n",
       "  </div>\n",
       "  "
      ],
      "text/plain": [
       "                                            customer_id  article_id  \\\n",
       "5015  9165937ca0e3520ebe0533ffd6bb41eb5f3d2d61d04338...  0554450001   \n",
       "6805  c57b05d88861137cb87f02719a38968ec5a4b7e6c970bf...  0685814002   \n",
       "4477  804895ebec804fab7bc7d8b96a2a74e00e0af79759b119...  0770315007   \n",
       "6345  b6f4078b1474d782c8316694af3afdd64041209f6114ac...  0746775001   \n",
       "7911  e60e66e755cda27055e3e22328012d6c0ab7b28b18f7ec...  0733803001   \n",
       "\n",
       "      customer_id_idx  purchased  article_id_idx  \n",
       "5015             8789          0           12585  \n",
       "6805             1892          0           46383  \n",
       "4477             6818          0           73050  \n",
       "6345             5935          0           66108  \n",
       "7911             6136          0           61632  "
      ]
     },
     "execution_count": 78,
     "metadata": {},
     "output_type": "execute_result"
    }
   ],
   "source": [
    "train_set.head()"
   ]
  },
  {
   "cell_type": "code",
   "execution_count": 79,
   "id": "80bdbca2",
   "metadata": {
    "colab": {
     "base_uri": "https://localhost:8080/",
     "height": 224
    },
    "executionInfo": {
     "elapsed": 3182,
     "status": "ok",
     "timestamp": 1651409755086,
     "user": {
      "displayName": "Steven George",
      "userId": "07709250839253394649"
     },
     "user_tz": -60
    },
    "id": "61be1a30",
    "outputId": "1565a02f-11c5-49cf-8293-09f06d8b8bcf"
   },
   "outputs": [
    {
     "name": "stdout",
     "output_type": "stream",
     "text": [
      "(8904645, 10)\n"
     ]
    },
    {
     "data": {
      "text/html": [
       "\n",
       "  <div id=\"df-56d144b6-25da-44c2-8383-df06c377623f\">\n",
       "    <div class=\"colab-df-container\">\n",
       "      <div>\n",
       "<style scoped>\n",
       "    .dataframe tbody tr th:only-of-type {\n",
       "        vertical-align: middle;\n",
       "    }\n",
       "\n",
       "    .dataframe tbody tr th {\n",
       "        vertical-align: top;\n",
       "    }\n",
       "\n",
       "    .dataframe thead th {\n",
       "        text-align: right;\n",
       "    }\n",
       "</style>\n",
       "<table border=\"1\" class=\"dataframe\">\n",
       "  <thead>\n",
       "    <tr style=\"text-align: right;\">\n",
       "      <th></th>\n",
       "      <th>purchased</th>\n",
       "      <th>customer_id_idx</th>\n",
       "      <th>article_id_idx</th>\n",
       "      <th>customer_id</th>\n",
       "      <th>FN</th>\n",
       "      <th>Active</th>\n",
       "      <th>club_member_status</th>\n",
       "      <th>fashion_news_frequency</th>\n",
       "      <th>age</th>\n",
       "      <th>postal_code</th>\n",
       "    </tr>\n",
       "  </thead>\n",
       "  <tbody>\n",
       "    <tr>\n",
       "      <th>0</th>\n",
       "      <td>0</td>\n",
       "      <td>8789</td>\n",
       "      <td>12585</td>\n",
       "      <td>9165937ca0e3520ebe0533ffd6bb41eb5f3d2d61d04338...</td>\n",
       "      <td>0.0</td>\n",
       "      <td>0.0</td>\n",
       "      <td>0</td>\n",
       "      <td>0</td>\n",
       "      <td>30.0</td>\n",
       "      <td>293202</td>\n",
       "    </tr>\n",
       "    <tr>\n",
       "      <th>1</th>\n",
       "      <td>0</td>\n",
       "      <td>1892</td>\n",
       "      <td>46383</td>\n",
       "      <td>c57b05d88861137cb87f02719a38968ec5a4b7e6c970bf...</td>\n",
       "      <td>1.0</td>\n",
       "      <td>1.0</td>\n",
       "      <td>0</td>\n",
       "      <td>1</td>\n",
       "      <td>21.0</td>\n",
       "      <td>83211</td>\n",
       "    </tr>\n",
       "    <tr>\n",
       "      <th>2</th>\n",
       "      <td>0</td>\n",
       "      <td>6818</td>\n",
       "      <td>73050</td>\n",
       "      <td>804895ebec804fab7bc7d8b96a2a74e00e0af79759b119...</td>\n",
       "      <td>0.0</td>\n",
       "      <td>0.0</td>\n",
       "      <td>0</td>\n",
       "      <td>0</td>\n",
       "      <td>23.0</td>\n",
       "      <td>17012</td>\n",
       "    </tr>\n",
       "    <tr>\n",
       "      <th>3</th>\n",
       "      <td>0</td>\n",
       "      <td>5935</td>\n",
       "      <td>66108</td>\n",
       "      <td>b6f4078b1474d782c8316694af3afdd64041209f6114ac...</td>\n",
       "      <td>1.0</td>\n",
       "      <td>1.0</td>\n",
       "      <td>0</td>\n",
       "      <td>1</td>\n",
       "      <td>49.0</td>\n",
       "      <td>319383</td>\n",
       "    </tr>\n",
       "    <tr>\n",
       "      <th>4</th>\n",
       "      <td>0</td>\n",
       "      <td>6136</td>\n",
       "      <td>61632</td>\n",
       "      <td>e60e66e755cda27055e3e22328012d6c0ab7b28b18f7ec...</td>\n",
       "      <td>0.0</td>\n",
       "      <td>0.0</td>\n",
       "      <td>0</td>\n",
       "      <td>0</td>\n",
       "      <td>20.0</td>\n",
       "      <td>28596</td>\n",
       "    </tr>\n",
       "  </tbody>\n",
       "</table>\n",
       "</div>\n",
       "      <button class=\"colab-df-convert\" onclick=\"convertToInteractive('df-56d144b6-25da-44c2-8383-df06c377623f')\"\n",
       "              title=\"Convert this dataframe to an interactive table.\"\n",
       "              style=\"display:none;\">\n",
       "        \n",
       "  <svg xmlns=\"http://www.w3.org/2000/svg\" height=\"24px\"viewBox=\"0 0 24 24\"\n",
       "       width=\"24px\">\n",
       "    <path d=\"M0 0h24v24H0V0z\" fill=\"none\"/>\n",
       "    <path d=\"M18.56 5.44l.94 2.06.94-2.06 2.06-.94-2.06-.94-.94-2.06-.94 2.06-2.06.94zm-11 1L8.5 8.5l.94-2.06 2.06-.94-2.06-.94L8.5 2.5l-.94 2.06-2.06.94zm10 10l.94 2.06.94-2.06 2.06-.94-2.06-.94-.94-2.06-.94 2.06-2.06.94z\"/><path d=\"M17.41 7.96l-1.37-1.37c-.4-.4-.92-.59-1.43-.59-.52 0-1.04.2-1.43.59L10.3 9.45l-7.72 7.72c-.78.78-.78 2.05 0 2.83L4 21.41c.39.39.9.59 1.41.59.51 0 1.02-.2 1.41-.59l7.78-7.78 2.81-2.81c.8-.78.8-2.07 0-2.86zM5.41 20L4 18.59l7.72-7.72 1.47 1.35L5.41 20z\"/>\n",
       "  </svg>\n",
       "      </button>\n",
       "      \n",
       "  <style>\n",
       "    .colab-df-container {\n",
       "      display:flex;\n",
       "      flex-wrap:wrap;\n",
       "      gap: 12px;\n",
       "    }\n",
       "\n",
       "    .colab-df-convert {\n",
       "      background-color: #E8F0FE;\n",
       "      border: none;\n",
       "      border-radius: 50%;\n",
       "      cursor: pointer;\n",
       "      display: none;\n",
       "      fill: #1967D2;\n",
       "      height: 32px;\n",
       "      padding: 0 0 0 0;\n",
       "      width: 32px;\n",
       "    }\n",
       "\n",
       "    .colab-df-convert:hover {\n",
       "      background-color: #E2EBFA;\n",
       "      box-shadow: 0px 1px 2px rgba(60, 64, 67, 0.3), 0px 1px 3px 1px rgba(60, 64, 67, 0.15);\n",
       "      fill: #174EA6;\n",
       "    }\n",
       "\n",
       "    [theme=dark] .colab-df-convert {\n",
       "      background-color: #3B4455;\n",
       "      fill: #D2E3FC;\n",
       "    }\n",
       "\n",
       "    [theme=dark] .colab-df-convert:hover {\n",
       "      background-color: #434B5C;\n",
       "      box-shadow: 0px 1px 3px 1px rgba(0, 0, 0, 0.15);\n",
       "      filter: drop-shadow(0px 1px 2px rgba(0, 0, 0, 0.3));\n",
       "      fill: #FFFFFF;\n",
       "    }\n",
       "  </style>\n",
       "\n",
       "      <script>\n",
       "        const buttonEl =\n",
       "          document.querySelector('#df-56d144b6-25da-44c2-8383-df06c377623f button.colab-df-convert');\n",
       "        buttonEl.style.display =\n",
       "          google.colab.kernel.accessAllowed ? 'block' : 'none';\n",
       "\n",
       "        async function convertToInteractive(key) {\n",
       "          const element = document.querySelector('#df-56d144b6-25da-44c2-8383-df06c377623f');\n",
       "          const dataTable =\n",
       "            await google.colab.kernel.invokeFunction('convertToInteractive',\n",
       "                                                     [key], {});\n",
       "          if (!dataTable) return;\n",
       "\n",
       "          const docLinkHtml = 'Like what you see? Visit the ' +\n",
       "            '<a target=\"_blank\" href=https://colab.research.google.com/notebooks/data_table.ipynb>data table notebook</a>'\n",
       "            + ' to learn more about interactive tables.';\n",
       "          element.innerHTML = '';\n",
       "          dataTable['output_type'] = 'display_data';\n",
       "          await google.colab.output.renderOutput(dataTable, element);\n",
       "          const docLink = document.createElement('div');\n",
       "          docLink.innerHTML = docLinkHtml;\n",
       "          element.appendChild(docLink);\n",
       "        }\n",
       "      </script>\n",
       "    </div>\n",
       "  </div>\n",
       "  "
      ],
      "text/plain": [
       "   purchased  customer_id_idx  article_id_idx  \\\n",
       "0          0             8789           12585   \n",
       "1          0             1892           46383   \n",
       "2          0             6818           73050   \n",
       "3          0             5935           66108   \n",
       "4          0             6136           61632   \n",
       "\n",
       "                                         customer_id   FN  Active  \\\n",
       "0  9165937ca0e3520ebe0533ffd6bb41eb5f3d2d61d04338...  0.0     0.0   \n",
       "1  c57b05d88861137cb87f02719a38968ec5a4b7e6c970bf...  1.0     1.0   \n",
       "2  804895ebec804fab7bc7d8b96a2a74e00e0af79759b119...  0.0     0.0   \n",
       "3  b6f4078b1474d782c8316694af3afdd64041209f6114ac...  1.0     1.0   \n",
       "4  e60e66e755cda27055e3e22328012d6c0ab7b28b18f7ec...  0.0     0.0   \n",
       "\n",
       "   club_member_status  fashion_news_frequency   age  postal_code  \n",
       "0                   0                       0  30.0       293202  \n",
       "1                   0                       1  21.0        83211  \n",
       "2                   0                       0  23.0        17012  \n",
       "3                   0                       1  49.0       319383  \n",
       "4                   0                       0  20.0        28596  "
      ]
     },
     "execution_count": 79,
     "metadata": {},
     "output_type": "execute_result"
    }
   ],
   "source": [
    "train_set = (\n",
    "    train_set[['purchased', 'customer_id_idx', 'article_id_idx']]\n",
    "    .merge(customers, on='customer_id_idx', how='left')\n",
    "    # .merge(articles_df, on='article_id_idx', how='left')\n",
    ")\n",
    "print(train_set.shape)\n",
    "train_set.head()"
   ]
  },
  {
   "cell_type": "code",
   "execution_count": 80,
   "id": "b3fcf5ce",
   "metadata": {
    "colab": {
     "base_uri": "https://localhost:8080/",
     "height": 224
    },
    "executionInfo": {
     "elapsed": 400,
     "status": "ok",
     "timestamp": 1651409755480,
     "user": {
      "displayName": "Steven George",
      "userId": "07709250839253394649"
     },
     "user_tz": -60
    },
    "id": "d01953aa",
    "outputId": "e92ade3e-803d-4a69-a6e1-4184df3140b3"
   },
   "outputs": [
    {
     "name": "stdout",
     "output_type": "stream",
     "text": [
      "(2005302, 10)\n"
     ]
    },
    {
     "data": {
      "text/html": [
       "\n",
       "  <div id=\"df-0604b11d-5d81-44ae-a5f8-d45fd0f75eff\">\n",
       "    <div class=\"colab-df-container\">\n",
       "      <div>\n",
       "<style scoped>\n",
       "    .dataframe tbody tr th:only-of-type {\n",
       "        vertical-align: middle;\n",
       "    }\n",
       "\n",
       "    .dataframe tbody tr th {\n",
       "        vertical-align: top;\n",
       "    }\n",
       "\n",
       "    .dataframe thead th {\n",
       "        text-align: right;\n",
       "    }\n",
       "</style>\n",
       "<table border=\"1\" class=\"dataframe\">\n",
       "  <thead>\n",
       "    <tr style=\"text-align: right;\">\n",
       "      <th></th>\n",
       "      <th>purchased</th>\n",
       "      <th>customer_id_idx</th>\n",
       "      <th>article_id_idx</th>\n",
       "      <th>customer_id</th>\n",
       "      <th>FN</th>\n",
       "      <th>Active</th>\n",
       "      <th>club_member_status</th>\n",
       "      <th>fashion_news_frequency</th>\n",
       "      <th>age</th>\n",
       "      <th>postal_code</th>\n",
       "    </tr>\n",
       "  </thead>\n",
       "  <tbody>\n",
       "    <tr>\n",
       "      <th>0</th>\n",
       "      <td>0</td>\n",
       "      <td>4933</td>\n",
       "      <td>24836</td>\n",
       "      <td>f7cff47ca5eed528a9990e21e619878b002d7ce393f471...</td>\n",
       "      <td>0.0</td>\n",
       "      <td>0.0</td>\n",
       "      <td>0</td>\n",
       "      <td>0</td>\n",
       "      <td>24.0</td>\n",
       "      <td>272622</td>\n",
       "    </tr>\n",
       "    <tr>\n",
       "      <th>1</th>\n",
       "      <td>0</td>\n",
       "      <td>660</td>\n",
       "      <td>90096</td>\n",
       "      <td>9d4f9874a43da353c42bfdf70368ac6ef7c080613a0ab0...</td>\n",
       "      <td>0.0</td>\n",
       "      <td>0.0</td>\n",
       "      <td>0</td>\n",
       "      <td>0</td>\n",
       "      <td>43.0</td>\n",
       "      <td>233912</td>\n",
       "    </tr>\n",
       "    <tr>\n",
       "      <th>2</th>\n",
       "      <td>0</td>\n",
       "      <td>5034</td>\n",
       "      <td>90582</td>\n",
       "      <td>0b50b5aeb1d21ccf35ab72b056b041950806e6474d2be6...</td>\n",
       "      <td>1.0</td>\n",
       "      <td>1.0</td>\n",
       "      <td>0</td>\n",
       "      <td>1</td>\n",
       "      <td>20.0</td>\n",
       "      <td>49473</td>\n",
       "    </tr>\n",
       "    <tr>\n",
       "      <th>3</th>\n",
       "      <td>0</td>\n",
       "      <td>7060</td>\n",
       "      <td>75215</td>\n",
       "      <td>c037b35b7422f7c90b50c85f76fe0c35af5b633f90b63d...</td>\n",
       "      <td>1.0</td>\n",
       "      <td>1.0</td>\n",
       "      <td>0</td>\n",
       "      <td>1</td>\n",
       "      <td>53.0</td>\n",
       "      <td>17595</td>\n",
       "    </tr>\n",
       "    <tr>\n",
       "      <th>4</th>\n",
       "      <td>0</td>\n",
       "      <td>80</td>\n",
       "      <td>90340</td>\n",
       "      <td>136b571bf08e948b9fc5ef62c1e300a9a2f00e2bbddd9f...</td>\n",
       "      <td>0.0</td>\n",
       "      <td>0.0</td>\n",
       "      <td>0</td>\n",
       "      <td>0</td>\n",
       "      <td>20.0</td>\n",
       "      <td>32754</td>\n",
       "    </tr>\n",
       "  </tbody>\n",
       "</table>\n",
       "</div>\n",
       "      <button class=\"colab-df-convert\" onclick=\"convertToInteractive('df-0604b11d-5d81-44ae-a5f8-d45fd0f75eff')\"\n",
       "              title=\"Convert this dataframe to an interactive table.\"\n",
       "              style=\"display:none;\">\n",
       "        \n",
       "  <svg xmlns=\"http://www.w3.org/2000/svg\" height=\"24px\"viewBox=\"0 0 24 24\"\n",
       "       width=\"24px\">\n",
       "    <path d=\"M0 0h24v24H0V0z\" fill=\"none\"/>\n",
       "    <path d=\"M18.56 5.44l.94 2.06.94-2.06 2.06-.94-2.06-.94-.94-2.06-.94 2.06-2.06.94zm-11 1L8.5 8.5l.94-2.06 2.06-.94-2.06-.94L8.5 2.5l-.94 2.06-2.06.94zm10 10l.94 2.06.94-2.06 2.06-.94-2.06-.94-.94-2.06-.94 2.06-2.06.94z\"/><path d=\"M17.41 7.96l-1.37-1.37c-.4-.4-.92-.59-1.43-.59-.52 0-1.04.2-1.43.59L10.3 9.45l-7.72 7.72c-.78.78-.78 2.05 0 2.83L4 21.41c.39.39.9.59 1.41.59.51 0 1.02-.2 1.41-.59l7.78-7.78 2.81-2.81c.8-.78.8-2.07 0-2.86zM5.41 20L4 18.59l7.72-7.72 1.47 1.35L5.41 20z\"/>\n",
       "  </svg>\n",
       "      </button>\n",
       "      \n",
       "  <style>\n",
       "    .colab-df-container {\n",
       "      display:flex;\n",
       "      flex-wrap:wrap;\n",
       "      gap: 12px;\n",
       "    }\n",
       "\n",
       "    .colab-df-convert {\n",
       "      background-color: #E8F0FE;\n",
       "      border: none;\n",
       "      border-radius: 50%;\n",
       "      cursor: pointer;\n",
       "      display: none;\n",
       "      fill: #1967D2;\n",
       "      height: 32px;\n",
       "      padding: 0 0 0 0;\n",
       "      width: 32px;\n",
       "    }\n",
       "\n",
       "    .colab-df-convert:hover {\n",
       "      background-color: #E2EBFA;\n",
       "      box-shadow: 0px 1px 2px rgba(60, 64, 67, 0.3), 0px 1px 3px 1px rgba(60, 64, 67, 0.15);\n",
       "      fill: #174EA6;\n",
       "    }\n",
       "\n",
       "    [theme=dark] .colab-df-convert {\n",
       "      background-color: #3B4455;\n",
       "      fill: #D2E3FC;\n",
       "    }\n",
       "\n",
       "    [theme=dark] .colab-df-convert:hover {\n",
       "      background-color: #434B5C;\n",
       "      box-shadow: 0px 1px 3px 1px rgba(0, 0, 0, 0.15);\n",
       "      filter: drop-shadow(0px 1px 2px rgba(0, 0, 0, 0.3));\n",
       "      fill: #FFFFFF;\n",
       "    }\n",
       "  </style>\n",
       "\n",
       "      <script>\n",
       "        const buttonEl =\n",
       "          document.querySelector('#df-0604b11d-5d81-44ae-a5f8-d45fd0f75eff button.colab-df-convert');\n",
       "        buttonEl.style.display =\n",
       "          google.colab.kernel.accessAllowed ? 'block' : 'none';\n",
       "\n",
       "        async function convertToInteractive(key) {\n",
       "          const element = document.querySelector('#df-0604b11d-5d81-44ae-a5f8-d45fd0f75eff');\n",
       "          const dataTable =\n",
       "            await google.colab.kernel.invokeFunction('convertToInteractive',\n",
       "                                                     [key], {});\n",
       "          if (!dataTable) return;\n",
       "\n",
       "          const docLinkHtml = 'Like what you see? Visit the ' +\n",
       "            '<a target=\"_blank\" href=https://colab.research.google.com/notebooks/data_table.ipynb>data table notebook</a>'\n",
       "            + ' to learn more about interactive tables.';\n",
       "          element.innerHTML = '';\n",
       "          dataTable['output_type'] = 'display_data';\n",
       "          await google.colab.output.renderOutput(dataTable, element);\n",
       "          const docLink = document.createElement('div');\n",
       "          docLink.innerHTML = docLinkHtml;\n",
       "          element.appendChild(docLink);\n",
       "        }\n",
       "      </script>\n",
       "    </div>\n",
       "  </div>\n",
       "  "
      ],
      "text/plain": [
       "   purchased  customer_id_idx  article_id_idx  \\\n",
       "0          0             4933           24836   \n",
       "1          0              660           90096   \n",
       "2          0             5034           90582   \n",
       "3          0             7060           75215   \n",
       "4          0               80           90340   \n",
       "\n",
       "                                         customer_id   FN  Active  \\\n",
       "0  f7cff47ca5eed528a9990e21e619878b002d7ce393f471...  0.0     0.0   \n",
       "1  9d4f9874a43da353c42bfdf70368ac6ef7c080613a0ab0...  0.0     0.0   \n",
       "2  0b50b5aeb1d21ccf35ab72b056b041950806e6474d2be6...  1.0     1.0   \n",
       "3  c037b35b7422f7c90b50c85f76fe0c35af5b633f90b63d...  1.0     1.0   \n",
       "4  136b571bf08e948b9fc5ef62c1e300a9a2f00e2bbddd9f...  0.0     0.0   \n",
       "\n",
       "   club_member_status  fashion_news_frequency   age  postal_code  \n",
       "0                   0                       0  24.0       272622  \n",
       "1                   0                       0  43.0       233912  \n",
       "2                   0                       1  20.0        49473  \n",
       "3                   0                       1  53.0        17595  \n",
       "4                   0                       0  20.0        32754  "
      ]
     },
     "execution_count": 80,
     "metadata": {},
     "output_type": "execute_result"
    }
   ],
   "source": [
    "dev_set = (\n",
    "    dev_set[['purchased', 'customer_id_idx', 'article_id_idx']]\n",
    "    .merge(customers, on='customer_id_idx', how='left')\n",
    "    # .merge(articles_df, on='article_id_idx', how='left')\n",
    ")\n",
    "print(dev_set.shape)\n",
    "dev_set.head()"
   ]
  },
  {
   "cell_type": "markdown",
   "id": "4f6e801f",
   "metadata": {
    "id": "cf7e3575"
   },
   "source": [
    "### Impute `NULL`s"
   ]
  },
  {
   "cell_type": "code",
   "execution_count": 81,
   "id": "ab24e056",
   "metadata": {
    "colab": {
     "base_uri": "https://localhost:8080/"
    },
    "executionInfo": {
     "elapsed": 1555,
     "status": "ok",
     "timestamp": 1651409757032,
     "user": {
      "displayName": "Steven George",
      "userId": "07709250839253394649"
     },
     "user_tz": -60
    },
    "id": "e2cb0c22",
    "outputId": "803c2a24-a234-409f-ef65-2dbe2a3ac7fe"
   },
   "outputs": [
    {
     "data": {
      "text/plain": [
       "age    32229\n",
       "dtype: int64"
      ]
     },
     "execution_count": 81,
     "metadata": {},
     "output_type": "execute_result"
    }
   ],
   "source": [
    "train_set.isnull().sum()[train_set.isnull().sum() > 0]"
   ]
  },
  {
   "cell_type": "code",
   "execution_count": 82,
   "id": "97b24733",
   "metadata": {
    "colab": {
     "base_uri": "https://localhost:8080/"
    },
    "executionInfo": {
     "elapsed": 8,
     "status": "ok",
     "timestamp": 1651409757033,
     "user": {
      "displayName": "Steven George",
      "userId": "07709250839253394649"
     },
     "user_tz": -60
    },
    "id": "e7d65ec4",
    "outputId": "260818ca-d9e6-4bc2-a39d-a092c81e534e"
   },
   "outputs": [
    {
     "data": {
      "text/plain": [
       "age    7020\n",
       "dtype: int64"
      ]
     },
     "execution_count": 82,
     "metadata": {},
     "output_type": "execute_result"
    }
   ],
   "source": [
    "dev_set.isnull().sum()[dev_set.isnull().sum() > 0]"
   ]
  },
  {
   "cell_type": "code",
   "execution_count": 83,
   "id": "d0b92c73",
   "metadata": {
    "executionInfo": {
     "elapsed": 6,
     "status": "ok",
     "timestamp": 1651409757033,
     "user": {
      "displayName": "Steven George",
      "userId": "07709250839253394649"
     },
     "user_tz": -60
    },
    "id": "febd3c61"
   },
   "outputs": [],
   "source": [
    "from sklearn.impute import SimpleImputer"
   ]
  },
  {
   "cell_type": "code",
   "execution_count": 84,
   "id": "63e36f3d",
   "metadata": {
    "executionInfo": {
     "elapsed": 6,
     "status": "ok",
     "timestamp": 1651409757033,
     "user": {
      "displayName": "Steven George",
      "userId": "07709250839253394649"
     },
     "user_tz": -60
    },
    "id": "2c81503c"
   },
   "outputs": [],
   "source": [
    "age_imputer = SimpleImputer()"
   ]
  },
  {
   "cell_type": "code",
   "execution_count": 85,
   "id": "2863b8b1",
   "metadata": {
    "colab": {
     "base_uri": "https://localhost:8080/"
    },
    "executionInfo": {
     "elapsed": 481,
     "status": "ok",
     "timestamp": 1651409757509,
     "user": {
      "displayName": "Steven George",
      "userId": "07709250839253394649"
     },
     "user_tz": -60
    },
    "id": "8a858f99",
    "outputId": "56de199b-5280-4fa2-e3cd-5b0995036748"
   },
   "outputs": [
    {
     "data": {
      "text/plain": [
       "SimpleImputer()"
      ]
     },
     "execution_count": 85,
     "metadata": {},
     "output_type": "execute_result"
    }
   ],
   "source": [
    "age_imputer.fit(train_set['age'].values.reshape(-1, 1))"
   ]
  },
  {
   "cell_type": "code",
   "execution_count": 86,
   "id": "104d705b",
   "metadata": {
    "executionInfo": {
     "elapsed": 8,
     "status": "ok",
     "timestamp": 1651409757510,
     "user": {
      "displayName": "Steven George",
      "userId": "07709250839253394649"
     },
     "user_tz": -60
    },
    "id": "89e9799e"
   },
   "outputs": [],
   "source": [
    "train_set['age'] = age_imputer.transform(train_set['age'].values.reshape(-1, 1))"
   ]
  },
  {
   "cell_type": "code",
   "execution_count": 87,
   "id": "631eadb0",
   "metadata": {
    "executionInfo": {
     "elapsed": 8,
     "status": "ok",
     "timestamp": 1651409757511,
     "user": {
      "displayName": "Steven George",
      "userId": "07709250839253394649"
     },
     "user_tz": -60
    },
    "id": "851a268e"
   },
   "outputs": [],
   "source": [
    "dev_set['age'] = age_imputer.transform(dev_set['age'].values.reshape(-1, 1))"
   ]
  },
  {
   "cell_type": "code",
   "execution_count": 88,
   "id": "79354756",
   "metadata": {
    "colab": {
     "base_uri": "https://localhost:8080/",
     "height": 206
    },
    "executionInfo": {
     "elapsed": 8,
     "status": "ok",
     "timestamp": 1651409757511,
     "user": {
      "displayName": "Steven George",
      "userId": "07709250839253394649"
     },
     "user_tz": -60
    },
    "id": "ea8d6721",
    "outputId": "67cf5714-914f-4fe1-f44a-c29938226583"
   },
   "outputs": [
    {
     "data": {
      "text/html": [
       "\n",
       "  <div id=\"df-642c6897-d59b-42cb-ad81-44769b0de5f5\">\n",
       "    <div class=\"colab-df-container\">\n",
       "      <div>\n",
       "<style scoped>\n",
       "    .dataframe tbody tr th:only-of-type {\n",
       "        vertical-align: middle;\n",
       "    }\n",
       "\n",
       "    .dataframe tbody tr th {\n",
       "        vertical-align: top;\n",
       "    }\n",
       "\n",
       "    .dataframe thead th {\n",
       "        text-align: right;\n",
       "    }\n",
       "</style>\n",
       "<table border=\"1\" class=\"dataframe\">\n",
       "  <thead>\n",
       "    <tr style=\"text-align: right;\">\n",
       "      <th></th>\n",
       "      <th>purchased</th>\n",
       "      <th>customer_id_idx</th>\n",
       "      <th>article_id_idx</th>\n",
       "      <th>customer_id</th>\n",
       "      <th>FN</th>\n",
       "      <th>Active</th>\n",
       "      <th>club_member_status</th>\n",
       "      <th>fashion_news_frequency</th>\n",
       "      <th>age</th>\n",
       "      <th>postal_code</th>\n",
       "    </tr>\n",
       "  </thead>\n",
       "  <tbody>\n",
       "    <tr>\n",
       "      <th>0</th>\n",
       "      <td>0</td>\n",
       "      <td>8789</td>\n",
       "      <td>12585</td>\n",
       "      <td>9165937ca0e3520ebe0533ffd6bb41eb5f3d2d61d04338...</td>\n",
       "      <td>0.0</td>\n",
       "      <td>0.0</td>\n",
       "      <td>0</td>\n",
       "      <td>0</td>\n",
       "      <td>30.0</td>\n",
       "      <td>293202</td>\n",
       "    </tr>\n",
       "    <tr>\n",
       "      <th>1</th>\n",
       "      <td>0</td>\n",
       "      <td>1892</td>\n",
       "      <td>46383</td>\n",
       "      <td>c57b05d88861137cb87f02719a38968ec5a4b7e6c970bf...</td>\n",
       "      <td>1.0</td>\n",
       "      <td>1.0</td>\n",
       "      <td>0</td>\n",
       "      <td>1</td>\n",
       "      <td>21.0</td>\n",
       "      <td>83211</td>\n",
       "    </tr>\n",
       "    <tr>\n",
       "      <th>2</th>\n",
       "      <td>0</td>\n",
       "      <td>6818</td>\n",
       "      <td>73050</td>\n",
       "      <td>804895ebec804fab7bc7d8b96a2a74e00e0af79759b119...</td>\n",
       "      <td>0.0</td>\n",
       "      <td>0.0</td>\n",
       "      <td>0</td>\n",
       "      <td>0</td>\n",
       "      <td>23.0</td>\n",
       "      <td>17012</td>\n",
       "    </tr>\n",
       "    <tr>\n",
       "      <th>3</th>\n",
       "      <td>0</td>\n",
       "      <td>5935</td>\n",
       "      <td>66108</td>\n",
       "      <td>b6f4078b1474d782c8316694af3afdd64041209f6114ac...</td>\n",
       "      <td>1.0</td>\n",
       "      <td>1.0</td>\n",
       "      <td>0</td>\n",
       "      <td>1</td>\n",
       "      <td>49.0</td>\n",
       "      <td>319383</td>\n",
       "    </tr>\n",
       "    <tr>\n",
       "      <th>4</th>\n",
       "      <td>0</td>\n",
       "      <td>6136</td>\n",
       "      <td>61632</td>\n",
       "      <td>e60e66e755cda27055e3e22328012d6c0ab7b28b18f7ec...</td>\n",
       "      <td>0.0</td>\n",
       "      <td>0.0</td>\n",
       "      <td>0</td>\n",
       "      <td>0</td>\n",
       "      <td>20.0</td>\n",
       "      <td>28596</td>\n",
       "    </tr>\n",
       "  </tbody>\n",
       "</table>\n",
       "</div>\n",
       "      <button class=\"colab-df-convert\" onclick=\"convertToInteractive('df-642c6897-d59b-42cb-ad81-44769b0de5f5')\"\n",
       "              title=\"Convert this dataframe to an interactive table.\"\n",
       "              style=\"display:none;\">\n",
       "        \n",
       "  <svg xmlns=\"http://www.w3.org/2000/svg\" height=\"24px\"viewBox=\"0 0 24 24\"\n",
       "       width=\"24px\">\n",
       "    <path d=\"M0 0h24v24H0V0z\" fill=\"none\"/>\n",
       "    <path d=\"M18.56 5.44l.94 2.06.94-2.06 2.06-.94-2.06-.94-.94-2.06-.94 2.06-2.06.94zm-11 1L8.5 8.5l.94-2.06 2.06-.94-2.06-.94L8.5 2.5l-.94 2.06-2.06.94zm10 10l.94 2.06.94-2.06 2.06-.94-2.06-.94-.94-2.06-.94 2.06-2.06.94z\"/><path d=\"M17.41 7.96l-1.37-1.37c-.4-.4-.92-.59-1.43-.59-.52 0-1.04.2-1.43.59L10.3 9.45l-7.72 7.72c-.78.78-.78 2.05 0 2.83L4 21.41c.39.39.9.59 1.41.59.51 0 1.02-.2 1.41-.59l7.78-7.78 2.81-2.81c.8-.78.8-2.07 0-2.86zM5.41 20L4 18.59l7.72-7.72 1.47 1.35L5.41 20z\"/>\n",
       "  </svg>\n",
       "      </button>\n",
       "      \n",
       "  <style>\n",
       "    .colab-df-container {\n",
       "      display:flex;\n",
       "      flex-wrap:wrap;\n",
       "      gap: 12px;\n",
       "    }\n",
       "\n",
       "    .colab-df-convert {\n",
       "      background-color: #E8F0FE;\n",
       "      border: none;\n",
       "      border-radius: 50%;\n",
       "      cursor: pointer;\n",
       "      display: none;\n",
       "      fill: #1967D2;\n",
       "      height: 32px;\n",
       "      padding: 0 0 0 0;\n",
       "      width: 32px;\n",
       "    }\n",
       "\n",
       "    .colab-df-convert:hover {\n",
       "      background-color: #E2EBFA;\n",
       "      box-shadow: 0px 1px 2px rgba(60, 64, 67, 0.3), 0px 1px 3px 1px rgba(60, 64, 67, 0.15);\n",
       "      fill: #174EA6;\n",
       "    }\n",
       "\n",
       "    [theme=dark] .colab-df-convert {\n",
       "      background-color: #3B4455;\n",
       "      fill: #D2E3FC;\n",
       "    }\n",
       "\n",
       "    [theme=dark] .colab-df-convert:hover {\n",
       "      background-color: #434B5C;\n",
       "      box-shadow: 0px 1px 3px 1px rgba(0, 0, 0, 0.15);\n",
       "      filter: drop-shadow(0px 1px 2px rgba(0, 0, 0, 0.3));\n",
       "      fill: #FFFFFF;\n",
       "    }\n",
       "  </style>\n",
       "\n",
       "      <script>\n",
       "        const buttonEl =\n",
       "          document.querySelector('#df-642c6897-d59b-42cb-ad81-44769b0de5f5 button.colab-df-convert');\n",
       "        buttonEl.style.display =\n",
       "          google.colab.kernel.accessAllowed ? 'block' : 'none';\n",
       "\n",
       "        async function convertToInteractive(key) {\n",
       "          const element = document.querySelector('#df-642c6897-d59b-42cb-ad81-44769b0de5f5');\n",
       "          const dataTable =\n",
       "            await google.colab.kernel.invokeFunction('convertToInteractive',\n",
       "                                                     [key], {});\n",
       "          if (!dataTable) return;\n",
       "\n",
       "          const docLinkHtml = 'Like what you see? Visit the ' +\n",
       "            '<a target=\"_blank\" href=https://colab.research.google.com/notebooks/data_table.ipynb>data table notebook</a>'\n",
       "            + ' to learn more about interactive tables.';\n",
       "          element.innerHTML = '';\n",
       "          dataTable['output_type'] = 'display_data';\n",
       "          await google.colab.output.renderOutput(dataTable, element);\n",
       "          const docLink = document.createElement('div');\n",
       "          docLink.innerHTML = docLinkHtml;\n",
       "          element.appendChild(docLink);\n",
       "        }\n",
       "      </script>\n",
       "    </div>\n",
       "  </div>\n",
       "  "
      ],
      "text/plain": [
       "   purchased  customer_id_idx  article_id_idx  \\\n",
       "0          0             8789           12585   \n",
       "1          0             1892           46383   \n",
       "2          0             6818           73050   \n",
       "3          0             5935           66108   \n",
       "4          0             6136           61632   \n",
       "\n",
       "                                         customer_id   FN  Active  \\\n",
       "0  9165937ca0e3520ebe0533ffd6bb41eb5f3d2d61d04338...  0.0     0.0   \n",
       "1  c57b05d88861137cb87f02719a38968ec5a4b7e6c970bf...  1.0     1.0   \n",
       "2  804895ebec804fab7bc7d8b96a2a74e00e0af79759b119...  0.0     0.0   \n",
       "3  b6f4078b1474d782c8316694af3afdd64041209f6114ac...  1.0     1.0   \n",
       "4  e60e66e755cda27055e3e22328012d6c0ab7b28b18f7ec...  0.0     0.0   \n",
       "\n",
       "   club_member_status  fashion_news_frequency   age  postal_code  \n",
       "0                   0                       0  30.0       293202  \n",
       "1                   0                       1  21.0        83211  \n",
       "2                   0                       0  23.0        17012  \n",
       "3                   0                       1  49.0       319383  \n",
       "4                   0                       0  20.0        28596  "
      ]
     },
     "execution_count": 88,
     "metadata": {},
     "output_type": "execute_result"
    }
   ],
   "source": [
    "train_set.head()"
   ]
  },
  {
   "cell_type": "markdown",
   "id": "95d73cca",
   "metadata": {
    "id": "53944b80"
   },
   "source": [
    "### Train model"
   ]
  },
  {
   "cell_type": "code",
   "execution_count": 89,
   "id": "5ce832a9",
   "metadata": {
    "executionInfo": {
     "elapsed": 4,
     "status": "ok",
     "timestamp": 1651409758358,
     "user": {
      "displayName": "Steven George",
      "userId": "07709250839253394649"
     },
     "user_tz": -60
    },
    "id": "b9bc7f27"
   },
   "outputs": [],
   "source": [
    "NUMERIC_FEATURES = [\n",
    "    'FN', \n",
    "    'Active', \n",
    "    'age'\n",
    "]"
   ]
  },
  {
   "cell_type": "code",
   "execution_count": 90,
   "id": "7d0de6f7",
   "metadata": {
    "executionInfo": {
     "elapsed": 1,
     "status": "ok",
     "timestamp": 1651409758899,
     "user": {
      "displayName": "Steven George",
      "userId": "07709250839253394649"
     },
     "user_tz": -60
    },
    "id": "a52a88b6"
   },
   "outputs": [],
   "source": [
    "# train_set[[\n",
    "#     'customer_id_idx',\n",
    "#     'article_id_idx',\n",
    "#     'product_code',\n",
    "#     'product_type_no',\n",
    "#     'graphical_appearance_no',\n",
    "#     'perceived_colour_value_id',\n",
    "#     'perceived_colour_master_id',\n",
    "#     'department_no',\n",
    "#     'index_code',\n",
    "#     'index_group_no',\n",
    "#     'section_no',\n",
    "#     'garment_group_no',\n",
    "#     'club_member_status',\n",
    "#     'fashion_news_frequency',\n",
    "#     'postal_code',\n",
    "#     'purchased'] +\n",
    "#     NUMERIC_FEATURES\n",
    "# ]"
   ]
  },
  {
   "cell_type": "code",
   "execution_count": 91,
   "id": "46a69e97",
   "metadata": {
    "colab": {
     "base_uri": "https://localhost:8080/",
     "height": 206
    },
    "executionInfo": {
     "elapsed": 6,
     "status": "ok",
     "timestamp": 1651409759761,
     "user": {
      "displayName": "Steven George",
      "userId": "07709250839253394649"
     },
     "user_tz": -60
    },
    "id": "c5bZ5fjJkf7C",
    "outputId": "e8b5dcb1-3532-492d-db28-5b991fc761fd"
   },
   "outputs": [
    {
     "data": {
      "text/html": [
       "\n",
       "  <div id=\"df-30448be0-ea57-4c64-aad4-89b2f66bd525\">\n",
       "    <div class=\"colab-df-container\">\n",
       "      <div>\n",
       "<style scoped>\n",
       "    .dataframe tbody tr th:only-of-type {\n",
       "        vertical-align: middle;\n",
       "    }\n",
       "\n",
       "    .dataframe tbody tr th {\n",
       "        vertical-align: top;\n",
       "    }\n",
       "\n",
       "    .dataframe thead th {\n",
       "        text-align: right;\n",
       "    }\n",
       "</style>\n",
       "<table border=\"1\" class=\"dataframe\">\n",
       "  <thead>\n",
       "    <tr style=\"text-align: right;\">\n",
       "      <th></th>\n",
       "      <th>purchased</th>\n",
       "      <th>customer_id_idx</th>\n",
       "      <th>article_id_idx</th>\n",
       "      <th>customer_id</th>\n",
       "      <th>FN</th>\n",
       "      <th>Active</th>\n",
       "      <th>club_member_status</th>\n",
       "      <th>fashion_news_frequency</th>\n",
       "      <th>age</th>\n",
       "      <th>postal_code</th>\n",
       "    </tr>\n",
       "  </thead>\n",
       "  <tbody>\n",
       "    <tr>\n",
       "      <th>0</th>\n",
       "      <td>0</td>\n",
       "      <td>8789</td>\n",
       "      <td>12585</td>\n",
       "      <td>9165937ca0e3520ebe0533ffd6bb41eb5f3d2d61d04338...</td>\n",
       "      <td>0.0</td>\n",
       "      <td>0.0</td>\n",
       "      <td>0</td>\n",
       "      <td>0</td>\n",
       "      <td>30.0</td>\n",
       "      <td>293202</td>\n",
       "    </tr>\n",
       "    <tr>\n",
       "      <th>1</th>\n",
       "      <td>0</td>\n",
       "      <td>1892</td>\n",
       "      <td>46383</td>\n",
       "      <td>c57b05d88861137cb87f02719a38968ec5a4b7e6c970bf...</td>\n",
       "      <td>1.0</td>\n",
       "      <td>1.0</td>\n",
       "      <td>0</td>\n",
       "      <td>1</td>\n",
       "      <td>21.0</td>\n",
       "      <td>83211</td>\n",
       "    </tr>\n",
       "    <tr>\n",
       "      <th>2</th>\n",
       "      <td>0</td>\n",
       "      <td>6818</td>\n",
       "      <td>73050</td>\n",
       "      <td>804895ebec804fab7bc7d8b96a2a74e00e0af79759b119...</td>\n",
       "      <td>0.0</td>\n",
       "      <td>0.0</td>\n",
       "      <td>0</td>\n",
       "      <td>0</td>\n",
       "      <td>23.0</td>\n",
       "      <td>17012</td>\n",
       "    </tr>\n",
       "    <tr>\n",
       "      <th>3</th>\n",
       "      <td>0</td>\n",
       "      <td>5935</td>\n",
       "      <td>66108</td>\n",
       "      <td>b6f4078b1474d782c8316694af3afdd64041209f6114ac...</td>\n",
       "      <td>1.0</td>\n",
       "      <td>1.0</td>\n",
       "      <td>0</td>\n",
       "      <td>1</td>\n",
       "      <td>49.0</td>\n",
       "      <td>319383</td>\n",
       "    </tr>\n",
       "    <tr>\n",
       "      <th>4</th>\n",
       "      <td>0</td>\n",
       "      <td>6136</td>\n",
       "      <td>61632</td>\n",
       "      <td>e60e66e755cda27055e3e22328012d6c0ab7b28b18f7ec...</td>\n",
       "      <td>0.0</td>\n",
       "      <td>0.0</td>\n",
       "      <td>0</td>\n",
       "      <td>0</td>\n",
       "      <td>20.0</td>\n",
       "      <td>28596</td>\n",
       "    </tr>\n",
       "  </tbody>\n",
       "</table>\n",
       "</div>\n",
       "      <button class=\"colab-df-convert\" onclick=\"convertToInteractive('df-30448be0-ea57-4c64-aad4-89b2f66bd525')\"\n",
       "              title=\"Convert this dataframe to an interactive table.\"\n",
       "              style=\"display:none;\">\n",
       "        \n",
       "  <svg xmlns=\"http://www.w3.org/2000/svg\" height=\"24px\"viewBox=\"0 0 24 24\"\n",
       "       width=\"24px\">\n",
       "    <path d=\"M0 0h24v24H0V0z\" fill=\"none\"/>\n",
       "    <path d=\"M18.56 5.44l.94 2.06.94-2.06 2.06-.94-2.06-.94-.94-2.06-.94 2.06-2.06.94zm-11 1L8.5 8.5l.94-2.06 2.06-.94-2.06-.94L8.5 2.5l-.94 2.06-2.06.94zm10 10l.94 2.06.94-2.06 2.06-.94-2.06-.94-.94-2.06-.94 2.06-2.06.94z\"/><path d=\"M17.41 7.96l-1.37-1.37c-.4-.4-.92-.59-1.43-.59-.52 0-1.04.2-1.43.59L10.3 9.45l-7.72 7.72c-.78.78-.78 2.05 0 2.83L4 21.41c.39.39.9.59 1.41.59.51 0 1.02-.2 1.41-.59l7.78-7.78 2.81-2.81c.8-.78.8-2.07 0-2.86zM5.41 20L4 18.59l7.72-7.72 1.47 1.35L5.41 20z\"/>\n",
       "  </svg>\n",
       "      </button>\n",
       "      \n",
       "  <style>\n",
       "    .colab-df-container {\n",
       "      display:flex;\n",
       "      flex-wrap:wrap;\n",
       "      gap: 12px;\n",
       "    }\n",
       "\n",
       "    .colab-df-convert {\n",
       "      background-color: #E8F0FE;\n",
       "      border: none;\n",
       "      border-radius: 50%;\n",
       "      cursor: pointer;\n",
       "      display: none;\n",
       "      fill: #1967D2;\n",
       "      height: 32px;\n",
       "      padding: 0 0 0 0;\n",
       "      width: 32px;\n",
       "    }\n",
       "\n",
       "    .colab-df-convert:hover {\n",
       "      background-color: #E2EBFA;\n",
       "      box-shadow: 0px 1px 2px rgba(60, 64, 67, 0.3), 0px 1px 3px 1px rgba(60, 64, 67, 0.15);\n",
       "      fill: #174EA6;\n",
       "    }\n",
       "\n",
       "    [theme=dark] .colab-df-convert {\n",
       "      background-color: #3B4455;\n",
       "      fill: #D2E3FC;\n",
       "    }\n",
       "\n",
       "    [theme=dark] .colab-df-convert:hover {\n",
       "      background-color: #434B5C;\n",
       "      box-shadow: 0px 1px 3px 1px rgba(0, 0, 0, 0.15);\n",
       "      filter: drop-shadow(0px 1px 2px rgba(0, 0, 0, 0.3));\n",
       "      fill: #FFFFFF;\n",
       "    }\n",
       "  </style>\n",
       "\n",
       "      <script>\n",
       "        const buttonEl =\n",
       "          document.querySelector('#df-30448be0-ea57-4c64-aad4-89b2f66bd525 button.colab-df-convert');\n",
       "        buttonEl.style.display =\n",
       "          google.colab.kernel.accessAllowed ? 'block' : 'none';\n",
       "\n",
       "        async function convertToInteractive(key) {\n",
       "          const element = document.querySelector('#df-30448be0-ea57-4c64-aad4-89b2f66bd525');\n",
       "          const dataTable =\n",
       "            await google.colab.kernel.invokeFunction('convertToInteractive',\n",
       "                                                     [key], {});\n",
       "          if (!dataTable) return;\n",
       "\n",
       "          const docLinkHtml = 'Like what you see? Visit the ' +\n",
       "            '<a target=\"_blank\" href=https://colab.research.google.com/notebooks/data_table.ipynb>data table notebook</a>'\n",
       "            + ' to learn more about interactive tables.';\n",
       "          element.innerHTML = '';\n",
       "          dataTable['output_type'] = 'display_data';\n",
       "          await google.colab.output.renderOutput(dataTable, element);\n",
       "          const docLink = document.createElement('div');\n",
       "          docLink.innerHTML = docLinkHtml;\n",
       "          element.appendChild(docLink);\n",
       "        }\n",
       "      </script>\n",
       "    </div>\n",
       "  </div>\n",
       "  "
      ],
      "text/plain": [
       "   purchased  customer_id_idx  article_id_idx  \\\n",
       "0          0             8789           12585   \n",
       "1          0             1892           46383   \n",
       "2          0             6818           73050   \n",
       "3          0             5935           66108   \n",
       "4          0             6136           61632   \n",
       "\n",
       "                                         customer_id   FN  Active  \\\n",
       "0  9165937ca0e3520ebe0533ffd6bb41eb5f3d2d61d04338...  0.0     0.0   \n",
       "1  c57b05d88861137cb87f02719a38968ec5a4b7e6c970bf...  1.0     1.0   \n",
       "2  804895ebec804fab7bc7d8b96a2a74e00e0af79759b119...  0.0     0.0   \n",
       "3  b6f4078b1474d782c8316694af3afdd64041209f6114ac...  1.0     1.0   \n",
       "4  e60e66e755cda27055e3e22328012d6c0ab7b28b18f7ec...  0.0     0.0   \n",
       "\n",
       "   club_member_status  fashion_news_frequency   age  postal_code  \n",
       "0                   0                       0  30.0       293202  \n",
       "1                   0                       1  21.0        83211  \n",
       "2                   0                       0  23.0        17012  \n",
       "3                   0                       1  49.0       319383  \n",
       "4                   0                       0  20.0        28596  "
      ]
     },
     "execution_count": 91,
     "metadata": {},
     "output_type": "execute_result"
    }
   ],
   "source": [
    "train_set.head()"
   ]
  },
  {
   "cell_type": "code",
   "execution_count": 92,
   "id": "f158d76f",
   "metadata": {
    "executionInfo": {
     "elapsed": 3,
     "status": "ok",
     "timestamp": 1651409760722,
     "user": {
      "displayName": "Steven George",
      "userId": "07709250839253394649"
     },
     "user_tz": -60
    },
    "id": "52f6b918"
   },
   "outputs": [],
   "source": [
    "class PurchasesDatasetWithArticleFeatures(Dataset):\n",
    "\n",
    "    def __init__(self, df):\n",
    "        self.customer_id_idx = df['customer_id_idx'].values\n",
    "        self.article_id_idx = df['article_id_idx'].values\n",
    "        # self.product_code = df['product_code'].values\n",
    "        # self.product_type_no = df['product_type_no'].values\n",
    "        # self.product_group_no = df['product_group_no'].values\n",
    "        # self.graphical_appearance_no = df['graphical_appearance_no'].values\n",
    "        # self.colour_group_code = df['colour_group_code'].values\n",
    "        # self.perceived_colour_value_id = df['perceived_colour_value_id'].values\n",
    "        # self.perceived_colour_master_id = df['perceived_colour_master_id'].values\n",
    "        # self.department_no = df['department_no'].values\n",
    "        # self.index_code = df['index_code'].values\n",
    "        # self.index_group_no = df['index_group_no'].values\n",
    "        # self.section_no = df['section_no'].values\n",
    "        # self.garment_group_no = df['garment_group_no'].values\n",
    "        \n",
    "        # self.club_member_status = df['club_member_status'].values\n",
    "        # self.fashion_news_frequency = df['fashion_news_frequency'].values\n",
    "        # self.postal_code = df['postal_code'].values\n",
    "        self.numeric_features = df[NUMERIC_FEATURES].values\n",
    "        \n",
    "        self.purchased = df['purchased'].values\n",
    "\n",
    "    def __len__(self):\n",
    "        return self.customer_id_idx.shape[0]\n",
    "\n",
    "    def __getitem__(self, idx):\n",
    "        if torch.is_tensor(idx):\n",
    "            idx = idx.tolist()\n",
    "        \n",
    "        return (\n",
    "            self.customer_id_idx[idx],\n",
    "            self.article_id_idx[idx],\n",
    "            # self.product_code[idx],\n",
    "            # self.product_type_no[idx],\n",
    "            # self.product_group_no[idx],\n",
    "            # self.graphical_appearance_no[idx],\n",
    "            # self.colour_group_code[idx],\n",
    "            # self.perceived_colour_value_id[idx],\n",
    "            # self.perceived_colour_master_id[idx],\n",
    "            # self.department_no[idx],\n",
    "            # self.index_code[idx],\n",
    "            # self.index_group_no[idx],\n",
    "            # self.section_no[idx],\n",
    "            # self.garment_group_no[idx],\n",
    "            # self.club_member_status[idx],\n",
    "            # self.fashion_news_frequency[idx],\n",
    "            # self.postal_code[idx],\n",
    "            self.numeric_features[idx],\n",
    "            self.purchased[idx]\n",
    "        )"
   ]
  },
  {
   "cell_type": "code",
   "execution_count": 93,
   "id": "755f7c0c",
   "metadata": {
    "executionInfo": {
     "elapsed": 518,
     "status": "ok",
     "timestamp": 1651409762056,
     "user": {
      "displayName": "Steven George",
      "userId": "07709250839253394649"
     },
     "user_tz": -60
    },
    "id": "f0766a43"
   },
   "outputs": [],
   "source": [
    "train_dataset = PurchasesDatasetWithArticleFeatures(train_set)\n",
    "dev_dataset = PurchasesDatasetWithArticleFeatures(dev_set)"
   ]
  },
  {
   "cell_type": "code",
   "execution_count": 94,
   "id": "2483f29f",
   "metadata": {
    "executionInfo": {
     "elapsed": 3,
     "status": "ok",
     "timestamp": 1651409762603,
     "user": {
      "displayName": "Steven George",
      "userId": "07709250839253394649"
     },
     "user_tz": -60
    },
    "id": "3cca0794"
   },
   "outputs": [],
   "source": [
    "BATCH_SIZE = 2048\n",
    "\n",
    "train_loader = DataLoader(train_dataset, batch_size=BATCH_SIZE, shuffle=True)  \n",
    "dev_loader = DataLoader(dev_dataset, batch_size=BATCH_SIZE, shuffle=True)  "
   ]
  },
  {
   "cell_type": "code",
   "execution_count": 95,
   "id": "fe128157",
   "metadata": {
    "executionInfo": {
     "elapsed": 3,
     "status": "ok",
     "timestamp": 1651409764188,
     "user": {
      "displayName": "Steven George",
      "userId": "07709250839253394649"
     },
     "user_tz": -60
    },
    "id": "d61c2f88"
   },
   "outputs": [],
   "source": [
    "# # Selecting a subset of data\n",
    "# subset = torch.utils.data.Subset(train_dataset, [1])\n",
    "\n",
    "# train_loader = DataLoader(subset, batch_size=BATCH_SIZE)  "
   ]
  },
  {
   "cell_type": "code",
   "execution_count": 225,
   "id": "5632c086",
   "metadata": {
    "executionInfo": {
     "elapsed": 688,
     "status": "ok",
     "timestamp": 1651415237936,
     "user": {
      "displayName": "Steven George",
      "userId": "07709250839253394649"
     },
     "user_tz": -60
    },
    "id": "0e998c3f"
   },
   "outputs": [],
   "source": [
    "class FashionRecV2(nn.Module):\n",
    "\n",
    "    def __init__(self, embedding_dim):\n",
    "        super(FashionRecV2, self).__init__()\n",
    "        \n",
    "        # Embeddings\n",
    "        self.user_embeddings = nn.Embedding(num_embeddings=len(customer_id_to_idx), embedding_dim=embedding_dim)        \n",
    "        # self.item_embeddings = nn.Embedding(num_embeddings=len(article_id_to_idx), embedding_dim=embedding_dim)\n",
    "        self.item_embeddings = nn.Embedding.from_pretrained(embeddings, freeze=True)\n",
    "        # self.product_code_embeddings = nn.Embedding(num_embeddings=len(cat_code_to_indices['product_code']), embedding_dim=embedding_dim)\n",
    "        # self.product_type_no_embeddings = nn.Embedding(num_embeddings=len(cat_code_to_indices['product_type_no']), embedding_dim=embedding_dim)\n",
    "        # self.product_group_no_embeddings = nn.Embedding(num_embeddings=len(cat_code_to_indices['product_group_no']), embedding_dim=embedding_dim)\n",
    "        # self.graphical_appearance_no_embeddings = nn.Embedding(num_embeddings=len(cat_code_to_indices['graphical_appearance_no']), embedding_dim=embedding_dim)\n",
    "        # self.colour_group_code_embeddings = nn.Embedding(num_embeddings=len(cat_code_to_indices['colour_group_code']), embedding_dim=embedding_dim)\n",
    "        # self.perceived_colour_value_id_embeddings = nn.Embedding(num_embeddings=len(cat_code_to_indices['perceived_colour_value_id']), embedding_dim=embedding_dim)\n",
    "        # self.perceived_colour_master_id_embeddings = nn.Embedding(num_embeddings=len(cat_code_to_indices['perceived_colour_master_id']), embedding_dim=embedding_dim)\n",
    "        # self.department_no_embeddings = nn.Embedding(num_embeddings=len(cat_code_to_indices['department_no']), embedding_dim=embedding_dim)\n",
    "        # self.index_code_embeddings = nn.Embedding(num_embeddings=len(cat_code_to_indices['index_code']), embedding_dim=embedding_dim)\n",
    "        # self.index_group_no_embeddings = nn.Embedding(num_embeddings=len(cat_code_to_indices['index_group_no']), embedding_dim=embedding_dim)\n",
    "        # self.section_no_embeddings = nn.Embedding(num_embeddings=len(cat_code_to_indices['section_no']), embedding_dim=embedding_dim)\n",
    "        # self.garment_group_no_embeddings = nn.Embedding(num_embeddings=len(cat_code_to_indices['garment_group_no']), embedding_dim=embedding_dim)\n",
    "        \n",
    "        # self.club_member_status_embeddings = nn.Embedding(num_embeddings=len(customers_cat_code_to_indices['club_member_status']), embedding_dim=embedding_dim)\n",
    "        # self.fashion_news_frequency_embeddings = nn.Embedding(num_embeddings=len(customers_cat_code_to_indices['fashion_news_frequency']), embedding_dim=embedding_dim)\n",
    "        # self.postal_code_embeddings = nn.Embedding(num_embeddings=len(customers_cat_code_to_indices['postal_code']), embedding_dim=embedding_dim)\n",
    "\n",
    "        # Initialise embeddings\n",
    "        torch.nn.init.xavier_uniform_(self.user_embeddings.weight)\n",
    "        torch.nn.init.xavier_uniform_(self.item_embeddings.weight)        \n",
    "        # torch.nn.init.xavier_uniform_(self.product_code_embeddings.weight)\n",
    "        # torch.nn.init.xavier_uniform_(self.product_type_no_embeddings.weight)\n",
    "        # torch.nn.init.xavier_uniform_(self.product_group_no_embeddings.weight)\n",
    "        # torch.nn.init.xavier_uniform_(self.graphical_appearance_no_embeddings.weight)\n",
    "        # torch.nn.init.xavier_uniform_(self.colour_group_code_embeddings.weight)\n",
    "        # torch.nn.init.xavier_uniform_(self.perceived_colour_value_id_embeddings.weight)\n",
    "        # torch.nn.init.xavier_uniform_(self.perceived_colour_master_id_embeddings.weight)\n",
    "        # torch.nn.init.xavier_uniform_(self.department_no_embeddings.weight)\n",
    "        # torch.nn.init.xavier_uniform_(self.index_code_embeddings.weight)\n",
    "        # torch.nn.init.xavier_uniform_(self.index_group_no_embeddings.weight)\n",
    "        # torch.nn.init.xavier_uniform_(self.section_no_embeddings.weight)\n",
    "        # torch.nn.init.xavier_uniform_(self.garment_group_no_embeddings.weight)\n",
    "        # torch.nn.init.xavier_uniform_(self.club_member_status_embeddings.weight)\n",
    "        # torch.nn.init.xavier_uniform_(self.fashion_news_frequency_embeddings.weight)\n",
    "        # torch.nn.init.xavier_uniform_(self.postal_code_embeddings.weight)\n",
    "        \n",
    "        # FC layers\n",
    "        # self.fc_1 = nn.Linear(in_features=embedding_dim*17+len(NUMERIC_FEATURES), out_features=128)            \n",
    "        self.fc_1 = nn.Linear(in_features=embedding_dim + 384 +len(NUMERIC_FEATURES), out_features=256)            \n",
    "        self.fc_2 = nn.Linear(in_features=256, out_features=128)\n",
    "        # self.fc_3 = nn.Linear(in_features=500, out_features=250)        \n",
    "        self.fc_3 = nn.Linear(in_features=128, out_features=1)\n",
    "        \n",
    "        # Activation functions\n",
    "        self.relu = nn.ReLU()        \n",
    "        self.sigmoid = nn.Sigmoid()\n",
    "        \n",
    "        # Dropout\n",
    "        self.dropout = nn.Dropout(0.2)\n",
    "        \n",
    "    def forward(\n",
    "        self, \n",
    "        user_id, \n",
    "        item_id,\n",
    "        # product_code, \n",
    "        # product_type_no, \n",
    "        # product_group_no, \n",
    "        # graphical_appearance_no, \n",
    "        # colour_group_code, \n",
    "        # perceived_colour_value_id, \n",
    "        # perceived_colour_master_id, \n",
    "        # department_no, \n",
    "        # index_code, \n",
    "        # index_group_no, \n",
    "        # section_no, \n",
    "        # garment_group_no,\n",
    "        # club_member_status,\n",
    "        # fashion_news_frequency,\n",
    "        # postal_code,\n",
    "        numeric_features,\n",
    "    ):\n",
    "\n",
    "        user_emb = self.user_embeddings(user_id)\n",
    "        item_emb = self.item_embeddings(item_id)\n",
    "        # product_code_emb = self.product_code_embeddings(product_code)\n",
    "        # product_type_no_emb = self.product_type_no_embeddings(product_type_no)\n",
    "        # product_group_no_emb = self.product_group_no_embeddings(product_group_no)\n",
    "        # graphical_appearance_no_emb = self.graphical_appearance_no_embeddings(graphical_appearance_no)\n",
    "        # colour_group_code_emb = self.colour_group_code_embeddings(colour_group_code)\n",
    "        # perceived_colour_value_id_emb = self.perceived_colour_value_id_embeddings(perceived_colour_value_id)\n",
    "        # perceived_colour_master_id_emb = self.perceived_colour_master_id_embeddings(perceived_colour_master_id)\n",
    "        # department_no_emb = self.department_no_embeddings(department_no)\n",
    "        # index_code_emb = self.index_code_embeddings(index_code)\n",
    "        # index_group_no_emb = self.index_group_no_embeddings(index_group_no)\n",
    "        # section_no_emb = self.section_no_embeddings(section_no)\n",
    "        # garment_group_no_emb = self.garment_group_no_embeddings(garment_group_no)\n",
    "        \n",
    "        # club_member_status_emb = self.club_member_status_embeddings(club_member_status)\n",
    "        # fashion_news_frequency_emb = self.fashion_news_frequency_embeddings(fashion_news_frequency)\n",
    "        # postal_code_emb = self.postal_code_embeddings(postal_code)\n",
    "              \n",
    "        concatenated_emb = torch.concat(\n",
    "            [\n",
    "                user_emb, \n",
    "                item_emb,\n",
    "                # product_code_emb,\n",
    "                # product_type_no_emb,\n",
    "                # product_group_no_emb,\n",
    "                # graphical_appearance_no_emb,\n",
    "                # colour_group_code_emb,\n",
    "                # perceived_colour_value_id_emb,\n",
    "                # perceived_colour_master_id_emb,\n",
    "                # department_no_emb,\n",
    "                # index_code_emb,\n",
    "                # index_group_no_emb,\n",
    "                # section_no_emb,\n",
    "                # garment_group_no_emb,\n",
    "                # club_member_status_emb,\n",
    "                # fashion_news_frequency_emb,\n",
    "                # postal_code_emb,\n",
    "                numeric_features\n",
    "            ], \n",
    "            dim=1\n",
    "        )\n",
    "        \n",
    "        x = self.fc_1(concatenated_emb)\n",
    "        x = self.relu(x)\n",
    "        x = self.dropout(x)\n",
    "        \n",
    "        x = self.fc_2(x)\n",
    "        x = self.relu(x)\n",
    "        x = self.dropout(x)\n",
    "        \n",
    "        x = self.fc_3(x)\n",
    "        x = self.sigmoid(x)\n",
    "\n",
    "        return x"
   ]
  },
  {
   "cell_type": "code",
   "execution_count": 253,
   "id": "4ea6988a",
   "metadata": {
    "executionInfo": {
     "elapsed": 615,
     "status": "ok",
     "timestamp": 1651417783041,
     "user": {
      "displayName": "Steven George",
      "userId": "07709250839253394649"
     },
     "user_tz": -60
    },
    "id": "283c46e6"
   },
   "outputs": [],
   "source": [
    "fashion_rec_v2 = FashionRecV2(embedding_dim=128)"
   ]
  },
  {
   "cell_type": "code",
   "execution_count": 254,
   "id": "5ec5fa3c",
   "metadata": {
    "colab": {
     "base_uri": "https://localhost:8080/"
    },
    "executionInfo": {
     "elapsed": 4,
     "status": "ok",
     "timestamp": 1651417784038,
     "user": {
      "displayName": "Steven George",
      "userId": "07709250839253394649"
     },
     "user_tz": -60
    },
    "id": "c93d8822",
    "outputId": "8ccc30b2-8741-45fe-c438-1bba925a6592"
   },
   "outputs": [
    {
     "data": {
      "text/plain": [
       "FashionRecV2(\n",
       "  (user_embeddings): Embedding(9208, 128)\n",
       "  (item_embeddings): Embedding(105542, 384)\n",
       "  (fc_1): Linear(in_features=515, out_features=256, bias=True)\n",
       "  (fc_2): Linear(in_features=256, out_features=128, bias=True)\n",
       "  (fc_3): Linear(in_features=128, out_features=1, bias=True)\n",
       "  (relu): ReLU()\n",
       "  (sigmoid): Sigmoid()\n",
       "  (dropout): Dropout(p=0.2, inplace=False)\n",
       ")"
      ]
     },
     "execution_count": 254,
     "metadata": {},
     "output_type": "execute_result"
    }
   ],
   "source": [
    "fashion_rec_v2.to(device)"
   ]
  },
  {
   "cell_type": "code",
   "execution_count": 255,
   "id": "8bae3149",
   "metadata": {
    "executionInfo": {
     "elapsed": 331,
     "status": "ok",
     "timestamp": 1651417785630,
     "user": {
      "displayName": "Steven George",
      "userId": "07709250839253394649"
     },
     "user_tz": -60
    },
    "id": "15027b7f"
   },
   "outputs": [],
   "source": [
    "# fashion_rec_v2(torch.tensor([0]), torch.tensor([0]), torch.tensor([0]), torch.tensor([0]), torch.tensor([0]), torch.tensor([0]), torch.tensor([0]), torch.tensor([0]), torch.tensor([0]), torch.tensor([0]), torch.tensor([0]), torch.tensor([0]), torch.tensor([0]), torch.tensor([0]), )"
   ]
  },
  {
   "cell_type": "code",
   "execution_count": 256,
   "id": "af76169f",
   "metadata": {
    "executionInfo": {
     "elapsed": 411,
     "status": "ok",
     "timestamp": 1651417803215,
     "user": {
      "displayName": "Steven George",
      "userId": "07709250839253394649"
     },
     "user_tz": -60
    },
    "id": "bc0763cb"
   },
   "outputs": [],
   "source": [
    "# optimizer = torch.optim.Adam(params=fashion_rec_v2.parameters(), lr=0.001)\n",
    "optimizer = torch.optim.Adam(params=fashion_rec_v2.parameters(), lr=0.0003)\n",
    "scheduler = torch.optim.lr_scheduler.ExponentialLR(optimizer, gamma=0.9)"
   ]
  },
  {
   "cell_type": "markdown",
   "id": "690d0639",
   "metadata": {
    "id": "66b457dd"
   },
   "source": [
    "Switched to BCELoss instead of weighted MSE. Had more success with this."
   ]
  },
  {
   "cell_type": "code",
   "execution_count": 257,
   "id": "a186f5d8",
   "metadata": {
    "executionInfo": {
     "elapsed": 4,
     "status": "ok",
     "timestamp": 1651417804846,
     "user": {
      "displayName": "Steven George",
      "userId": "07709250839253394649"
     },
     "user_tz": -60
    },
    "id": "4633519c"
   },
   "outputs": [],
   "source": [
    "criterion = nn.BCELoss()"
   ]
  },
  {
   "cell_type": "code",
   "execution_count": 258,
   "id": "556e25df",
   "metadata": {
    "executionInfo": {
     "elapsed": 517,
     "status": "ok",
     "timestamp": 1651417806605,
     "user": {
      "displayName": "Steven George",
      "userId": "07709250839253394649"
     },
     "user_tz": -60
    },
    "id": "fc2f56b1"
   },
   "outputs": [],
   "source": [
    "# MAX_EPOCHS = 5\n",
    "# training_losses = []\n",
    "# dev_losses = []\n",
    "\n",
    "# for epoch in range(MAX_EPOCHS):\n",
    "    \n",
    "#     for data in tqdm(train_loader):\n",
    "        \n",
    "#         user_id, item_id, product_code, product_type_no, product_group_no, graphical_appearance_no, colour_group_code, perceived_colour_value_id, perceived_colour_master_id, department_no, index_code, index_group_no, section_no, garment_group_no, club_member_status, fashion_news_frequency, postal_code, numeric_features, label = data    \n",
    "        \n",
    "#         user_id, item_id, product_code, product_type_no, product_group_no, graphical_appearance_no, colour_group_code, perceived_colour_value_id, perceived_colour_master_id, department_no, index_code, index_group_no, section_no, garment_group_no, club_member_status, fashion_news_frequency, postal_code, numeric_features, label = (\n",
    "#             user_id.to(device), \n",
    "#             item_id.to(device), \n",
    "#             product_code.to(device), \n",
    "#             product_type_no.to(device), \n",
    "#             product_group_no.to(device), \n",
    "#             graphical_appearance_no.to(device), \n",
    "#             colour_group_code.to(device), \n",
    "#             perceived_colour_value_id.to(device), \n",
    "#             perceived_colour_master_id.to(device), \n",
    "#             department_no.to(device), \n",
    "#             index_code.to(device), \n",
    "#             index_group_no.to(device), \n",
    "#             section_no.to(device), \n",
    "#             garment_group_no.to(device), \n",
    "#             club_member_status.to(device), \n",
    "#             fashion_news_frequency.to(device), \n",
    "#             postal_code.to(device), \n",
    "#             numeric_features.to(device),\n",
    "#             label.to(device)\n",
    "#         )    \n",
    "\n",
    "#         optimizer.zero_grad()  # Set gradients to 0 otherwise will accumulate\n",
    "\n",
    "#         pred = fashion_rec_v2(\n",
    "#             user_id, \n",
    "#             item_id, \n",
    "#             product_code, \n",
    "#             product_type_no, \n",
    "#             product_group_no, \n",
    "#             graphical_appearance_no, \n",
    "#             colour_group_code, \n",
    "#             perceived_colour_value_id, \n",
    "#             perceived_colour_master_id, \n",
    "#             department_no, \n",
    "#             index_code, \n",
    "#             index_group_no, \n",
    "#             section_no, \n",
    "#             garment_group_no,\n",
    "#             club_member_status,\n",
    "#             fashion_news_frequency,\n",
    "#             postal_code,\n",
    "#             numeric_features.float()\n",
    "#         )\n",
    "\n",
    "#         loss = criterion(pred.flatten(), label.float())\n",
    "\n",
    "#         loss.backward()  \n",
    "        \n",
    "#         optimizer.step()\n",
    "        \n",
    "#     # Compute training loss\n",
    "    \n",
    "#     total_train_loss = 0\n",
    "\n",
    "#     fashion_rec_v2.eval()\n",
    "\n",
    "#     with torch.no_grad():\n",
    "#         for data in tqdm(DataLoader(train_dataset, batch_size=BATCH_SIZE*4)):\n",
    "            \n",
    "#             user_id, item_id, product_code, product_type_no, product_group_no, graphical_appearance_no, colour_group_code, perceived_colour_value_id, perceived_colour_master_id, department_no, index_code, index_group_no, section_no, garment_group_no, club_member_status, fashion_news_frequency, postal_code, numeric_features, label = data\n",
    "\n",
    "#             user_id, item_id, product_code, product_type_no, product_group_no, graphical_appearance_no, colour_group_code, perceived_colour_value_id, perceived_colour_master_id, department_no, index_code, index_group_no, section_no, garment_group_no, club_member_status, fashion_news_frequency, postal_code, numeric_features, label = (\n",
    "#                 user_id.to(device), \n",
    "#                 item_id.to(device), \n",
    "#                 product_code.to(device), \n",
    "#                 product_type_no.to(device), \n",
    "#                 product_group_no.to(device), \n",
    "#                 graphical_appearance_no.to(device), \n",
    "#                 colour_group_code.to(device), \n",
    "#                 perceived_colour_value_id.to(device), \n",
    "#                 perceived_colour_master_id.to(device), \n",
    "#                 department_no.to(device), \n",
    "#                 index_code.to(device), \n",
    "#                 index_group_no.to(device), \n",
    "#                 section_no.to(device), \n",
    "#                 garment_group_no.to(device), \n",
    "#                 club_member_status.to(device), \n",
    "#                 fashion_news_frequency.to(device), \n",
    "#                 postal_code.to(device), \n",
    "#                 numeric_features.to(device),\n",
    "#                 label.to(device)\n",
    "#             )\n",
    "\n",
    "#             pred = fashion_rec_v2(\n",
    "#                 user_id, \n",
    "#                 item_id, \n",
    "#                 product_code, \n",
    "#                 product_type_no, \n",
    "#                 product_group_no, \n",
    "#                 graphical_appearance_no, \n",
    "#                 colour_group_code, \n",
    "#                 perceived_colour_value_id, \n",
    "#                 perceived_colour_master_id, \n",
    "#                 department_no, \n",
    "#                 index_code, \n",
    "#                 index_group_no, \n",
    "#                 section_no, \n",
    "#                 garment_group_no,\n",
    "#                 club_member_status,\n",
    "#                 fashion_news_frequency,\n",
    "#                 postal_code,\n",
    "#                 numeric_features.float()\n",
    "#             )\n",
    "\n",
    "#             loss = nn.BCELoss(reduction='sum')(pred.flatten(), label.float())\n",
    "\n",
    "#             total_train_loss += loss.item()\n",
    "\n",
    "#         mean_train_loss = total_train_loss / len(train_dataset)\n",
    "\n",
    "#         print(f\"Training loss: {mean_train_loss}\")\n",
    "#         training_losses.append(mean_train_loss)\n",
    "    \n",
    "#     # Compute dev loss\n",
    "    \n",
    "#     total_dev_loss = 0\n",
    "\n",
    "#     with torch.no_grad():\n",
    "#         for data in tqdm(DataLoader(dev_dataset, batch_size=BATCH_SIZE*4)):\n",
    "            \n",
    "#             user_id, item_id, product_code, product_type_no, product_group_no, graphical_appearance_no, colour_group_code, perceived_colour_value_id, perceived_colour_master_id, department_no, index_code, index_group_no, section_no, garment_group_no, club_member_status, fashion_news_frequency, postal_code, numeric_features, label = data                    \n",
    "        \n",
    "#             user_id, item_id, product_code, product_type_no, product_group_no, graphical_appearance_no, colour_group_code, perceived_colour_value_id, perceived_colour_master_id, department_no, index_code, index_group_no, section_no, garment_group_no, club_member_status, fashion_news_frequency, postal_code, numeric_features, label = (\n",
    "#                 user_id.to(device), \n",
    "#                 item_id.to(device), \n",
    "#                 product_code.to(device), \n",
    "#                 product_type_no.to(device), \n",
    "#                 product_group_no.to(device), \n",
    "#                 graphical_appearance_no.to(device), \n",
    "#                 colour_group_code.to(device), \n",
    "#                 perceived_colour_value_id.to(device), \n",
    "#                 perceived_colour_master_id.to(device), \n",
    "#                 department_no.to(device), \n",
    "#                 index_code.to(device), \n",
    "#                 index_group_no.to(device), \n",
    "#                 section_no.to(device), \n",
    "#                 garment_group_no.to(device), \n",
    "#                 club_member_status.to(device), \n",
    "#                 fashion_news_frequency.to(device), \n",
    "#                 postal_code.to(device), \n",
    "#                 numeric_features.to(device),\n",
    "#                 label.to(device)\n",
    "#             )    \n",
    "\n",
    "#             optimizer.zero_grad()  # Set gradients to 0 otherwise will accumulate\n",
    "\n",
    "#             pred = fashion_rec_v2(\n",
    "#                 user_id, \n",
    "#                 item_id, \n",
    "#                 product_code, \n",
    "#                 product_type_no, \n",
    "#                 product_group_no, \n",
    "#                 graphical_appearance_no, \n",
    "#                 colour_group_code, \n",
    "#                 perceived_colour_value_id, \n",
    "#                 perceived_colour_master_id, \n",
    "#                 department_no, \n",
    "#                 index_code, \n",
    "#                 index_group_no, \n",
    "#                 section_no, \n",
    "#                 garment_group_no,\n",
    "#                 club_member_status,\n",
    "#                 fashion_news_frequency,\n",
    "#                 postal_code,\n",
    "#                 numeric_features.float()\n",
    "#             )\n",
    "\n",
    "#             loss = nn.BCELoss(reduction='sum')(pred.flatten(), label.float())\n",
    "\n",
    "#             total_dev_loss += loss.item()\n",
    "\n",
    "#         mean_dev_loss = total_dev_loss / len(dev_dataset)\n",
    "\n",
    "#         print(f\"Dev loss: {mean_dev_loss}\")\n",
    "#         dev_losses.append(mean_dev_loss)\n",
    "    \n",
    "#     fashion_rec_v2.train()"
   ]
  },
  {
   "cell_type": "code",
   "execution_count": 287,
   "id": "c0490ecb",
   "metadata": {
    "colab": {
     "base_uri": "https://localhost:8080/"
    },
    "executionInfo": {
     "elapsed": 4052353,
     "status": "ok",
     "timestamp": 1651426021200,
     "user": {
      "displayName": "Steven George",
      "userId": "07709250839253394649"
     },
     "user_tz": -60
    },
    "id": "qio52HNhnOyR",
    "outputId": "9869486b-a141-4468-ebf5-65bdaab88bc4"
   },
   "outputs": [
    {
     "name": "stderr",
     "output_type": "stream",
     "text": [
      "100%|██████████| 4348/4348 [00:57<00:00, 75.57it/s]\n",
      "100%|██████████| 1087/1087 [01:03<00:00, 17.08it/s]\n"
     ]
    },
    {
     "name": "stdout",
     "output_type": "stream",
     "text": [
      "Training loss: 0.05674469082749658\n"
     ]
    },
    {
     "name": "stderr",
     "output_type": "stream",
     "text": [
      "100%|██████████| 245/245 [00:14<00:00, 17.09it/s]\n"
     ]
    },
    {
     "name": "stdout",
     "output_type": "stream",
     "text": [
      "Dev loss: 0.034017162520286165\n"
     ]
    },
    {
     "name": "stderr",
     "output_type": "stream",
     "text": [
      "100%|██████████| 4348/4348 [00:57<00:00, 75.60it/s]\n",
      "100%|██████████| 1087/1087 [01:03<00:00, 17.17it/s]\n"
     ]
    },
    {
     "name": "stdout",
     "output_type": "stream",
     "text": [
      "Training loss: 0.058183734427078464\n"
     ]
    },
    {
     "name": "stderr",
     "output_type": "stream",
     "text": [
      "100%|██████████| 245/245 [00:14<00:00, 17.14it/s]\n"
     ]
    },
    {
     "name": "stdout",
     "output_type": "stream",
     "text": [
      "Dev loss: 0.03027127766024447\n"
     ]
    },
    {
     "name": "stderr",
     "output_type": "stream",
     "text": [
      "100%|██████████| 4348/4348 [00:57<00:00, 76.10it/s]\n",
      "100%|██████████| 1087/1087 [01:03<00:00, 17.09it/s]\n"
     ]
    },
    {
     "name": "stdout",
     "output_type": "stream",
     "text": [
      "Training loss: 0.05820635467673117\n"
     ]
    },
    {
     "name": "stderr",
     "output_type": "stream",
     "text": [
      "100%|██████████| 245/245 [00:14<00:00, 16.94it/s]\n"
     ]
    },
    {
     "name": "stdout",
     "output_type": "stream",
     "text": [
      "Dev loss: 0.029730188124675042\n"
     ]
    },
    {
     "name": "stderr",
     "output_type": "stream",
     "text": [
      "100%|██████████| 4348/4348 [00:57<00:00, 75.70it/s]\n",
      "100%|██████████| 1087/1087 [01:03<00:00, 17.07it/s]\n"
     ]
    },
    {
     "name": "stdout",
     "output_type": "stream",
     "text": [
      "Training loss: 0.057412660109527766\n"
     ]
    },
    {
     "name": "stderr",
     "output_type": "stream",
     "text": [
      "100%|██████████| 245/245 [00:14<00:00, 17.35it/s]\n"
     ]
    },
    {
     "name": "stdout",
     "output_type": "stream",
     "text": [
      "Dev loss: 0.03401460595088884\n"
     ]
    },
    {
     "name": "stderr",
     "output_type": "stream",
     "text": [
      "100%|██████████| 4348/4348 [00:57<00:00, 75.32it/s]\n",
      "100%|██████████| 1087/1087 [01:03<00:00, 17.01it/s]\n"
     ]
    },
    {
     "name": "stdout",
     "output_type": "stream",
     "text": [
      "Training loss: 0.05759683340708785\n"
     ]
    },
    {
     "name": "stderr",
     "output_type": "stream",
     "text": [
      "100%|██████████| 245/245 [00:14<00:00, 17.07it/s]\n"
     ]
    },
    {
     "name": "stdout",
     "output_type": "stream",
     "text": [
      "Dev loss: 0.030972075165272506\n"
     ]
    },
    {
     "name": "stderr",
     "output_type": "stream",
     "text": [
      "100%|██████████| 4348/4348 [00:57<00:00, 76.00it/s]\n",
      "100%|██████████| 1087/1087 [01:04<00:00, 16.81it/s]\n"
     ]
    },
    {
     "name": "stdout",
     "output_type": "stream",
     "text": [
      "Training loss: 0.057532629416348506\n"
     ]
    },
    {
     "name": "stderr",
     "output_type": "stream",
     "text": [
      "100%|██████████| 245/245 [00:14<00:00, 16.93it/s]\n"
     ]
    },
    {
     "name": "stdout",
     "output_type": "stream",
     "text": [
      "Dev loss: 0.030921305169738674\n"
     ]
    },
    {
     "name": "stderr",
     "output_type": "stream",
     "text": [
      "100%|██████████| 4348/4348 [00:57<00:00, 75.27it/s]\n",
      "100%|██████████| 1087/1087 [01:03<00:00, 17.07it/s]\n"
     ]
    },
    {
     "name": "stdout",
     "output_type": "stream",
     "text": [
      "Training loss: 0.057444858178268984\n"
     ]
    },
    {
     "name": "stderr",
     "output_type": "stream",
     "text": [
      "100%|██████████| 245/245 [00:14<00:00, 16.99it/s]\n"
     ]
    },
    {
     "name": "stdout",
     "output_type": "stream",
     "text": [
      "Dev loss: 0.030333176227360332\n"
     ]
    },
    {
     "name": "stderr",
     "output_type": "stream",
     "text": [
      "100%|██████████| 4348/4348 [00:57<00:00, 75.73it/s]\n",
      "100%|██████████| 1087/1087 [01:03<00:00, 17.09it/s]\n"
     ]
    },
    {
     "name": "stdout",
     "output_type": "stream",
     "text": [
      "Training loss: 0.05734024220365861\n"
     ]
    },
    {
     "name": "stderr",
     "output_type": "stream",
     "text": [
      "100%|██████████| 245/245 [00:14<00:00, 17.04it/s]\n"
     ]
    },
    {
     "name": "stdout",
     "output_type": "stream",
     "text": [
      "Dev loss: 0.030636030343520266\n"
     ]
    },
    {
     "name": "stderr",
     "output_type": "stream",
     "text": [
      "100%|██████████| 4348/4348 [00:57<00:00, 75.90it/s]\n",
      "100%|██████████| 1087/1087 [01:03<00:00, 17.05it/s]\n"
     ]
    },
    {
     "name": "stdout",
     "output_type": "stream",
     "text": [
      "Training loss: 0.05688338052410186\n"
     ]
    },
    {
     "name": "stderr",
     "output_type": "stream",
     "text": [
      "100%|██████████| 245/245 [00:14<00:00, 16.99it/s]\n"
     ]
    },
    {
     "name": "stdout",
     "output_type": "stream",
     "text": [
      "Dev loss: 0.032084568404800964\n"
     ]
    },
    {
     "name": "stderr",
     "output_type": "stream",
     "text": [
      "100%|██████████| 4348/4348 [00:57<00:00, 75.76it/s]\n",
      "100%|██████████| 1087/1087 [01:03<00:00, 17.06it/s]\n"
     ]
    },
    {
     "name": "stdout",
     "output_type": "stream",
     "text": [
      "Training loss: 0.05673002521516356\n"
     ]
    },
    {
     "name": "stderr",
     "output_type": "stream",
     "text": [
      "100%|██████████| 245/245 [00:14<00:00, 16.96it/s]\n"
     ]
    },
    {
     "name": "stdout",
     "output_type": "stream",
     "text": [
      "Dev loss: 0.03265326022752258\n"
     ]
    },
    {
     "name": "stderr",
     "output_type": "stream",
     "text": [
      "100%|██████████| 4348/4348 [00:57<00:00, 75.78it/s]\n",
      "100%|██████████| 1087/1087 [01:03<00:00, 17.08it/s]\n"
     ]
    },
    {
     "name": "stdout",
     "output_type": "stream",
     "text": [
      "Training loss: 0.05683489428842773\n"
     ]
    },
    {
     "name": "stderr",
     "output_type": "stream",
     "text": [
      "100%|██████████| 245/245 [00:14<00:00, 16.85it/s]\n"
     ]
    },
    {
     "name": "stdout",
     "output_type": "stream",
     "text": [
      "Dev loss: 0.03154926185549053\n"
     ]
    },
    {
     "name": "stderr",
     "output_type": "stream",
     "text": [
      "100%|██████████| 4348/4348 [00:57<00:00, 76.06it/s]\n",
      "100%|██████████| 1087/1087 [01:03<00:00, 17.09it/s]\n"
     ]
    },
    {
     "name": "stdout",
     "output_type": "stream",
     "text": [
      "Training loss: 0.05663732547104256\n"
     ]
    },
    {
     "name": "stderr",
     "output_type": "stream",
     "text": [
      "100%|██████████| 245/245 [00:14<00:00, 17.00it/s]\n"
     ]
    },
    {
     "name": "stdout",
     "output_type": "stream",
     "text": [
      "Dev loss: 0.031257103848362056\n"
     ]
    },
    {
     "name": "stderr",
     "output_type": "stream",
     "text": [
      "100%|██████████| 4348/4348 [00:57<00:00, 76.09it/s]\n",
      "100%|██████████| 1087/1087 [01:03<00:00, 17.03it/s]\n"
     ]
    },
    {
     "name": "stdout",
     "output_type": "stream",
     "text": [
      "Training loss: 0.05645864154334422\n"
     ]
    },
    {
     "name": "stderr",
     "output_type": "stream",
     "text": [
      "100%|██████████| 245/245 [00:14<00:00, 16.97it/s]\n"
     ]
    },
    {
     "name": "stdout",
     "output_type": "stream",
     "text": [
      "Dev loss: 0.03257163991017381\n"
     ]
    },
    {
     "name": "stderr",
     "output_type": "stream",
     "text": [
      "100%|██████████| 4348/4348 [00:57<00:00, 75.85it/s]\n",
      "100%|██████████| 1087/1087 [01:03<00:00, 17.04it/s]\n"
     ]
    },
    {
     "name": "stdout",
     "output_type": "stream",
     "text": [
      "Training loss: 0.05648611547401358\n"
     ]
    },
    {
     "name": "stderr",
     "output_type": "stream",
     "text": [
      "100%|██████████| 245/245 [00:14<00:00, 16.84it/s]\n"
     ]
    },
    {
     "name": "stdout",
     "output_type": "stream",
     "text": [
      "Dev loss: 0.03151272147124155\n"
     ]
    },
    {
     "name": "stderr",
     "output_type": "stream",
     "text": [
      "100%|██████████| 4348/4348 [00:57<00:00, 75.31it/s]\n",
      "100%|██████████| 1087/1087 [01:03<00:00, 17.02it/s]\n"
     ]
    },
    {
     "name": "stdout",
     "output_type": "stream",
     "text": [
      "Training loss: 0.05618313012656531\n"
     ]
    },
    {
     "name": "stderr",
     "output_type": "stream",
     "text": [
      "100%|██████████| 245/245 [00:14<00:00, 17.03it/s]\n"
     ]
    },
    {
     "name": "stdout",
     "output_type": "stream",
     "text": [
      "Dev loss: 0.03372732591953419\n"
     ]
    },
    {
     "name": "stderr",
     "output_type": "stream",
     "text": [
      "100%|██████████| 4348/4348 [00:57<00:00, 75.67it/s]\n",
      "100%|██████████| 1087/1087 [01:03<00:00, 16.99it/s]\n"
     ]
    },
    {
     "name": "stdout",
     "output_type": "stream",
     "text": [
      "Training loss: 0.05620785951795778\n"
     ]
    },
    {
     "name": "stderr",
     "output_type": "stream",
     "text": [
      "100%|██████████| 245/245 [00:14<00:00, 17.08it/s]\n"
     ]
    },
    {
     "name": "stdout",
     "output_type": "stream",
     "text": [
      "Dev loss: 0.0328010307726585\n"
     ]
    },
    {
     "name": "stderr",
     "output_type": "stream",
     "text": [
      "100%|██████████| 4348/4348 [00:57<00:00, 75.53it/s]\n",
      "100%|██████████| 1087/1087 [01:03<00:00, 16.99it/s]\n"
     ]
    },
    {
     "name": "stdout",
     "output_type": "stream",
     "text": [
      "Training loss: 0.05653191876662624\n"
     ]
    },
    {
     "name": "stderr",
     "output_type": "stream",
     "text": [
      "100%|██████████| 245/245 [00:14<00:00, 16.81it/s]\n"
     ]
    },
    {
     "name": "stdout",
     "output_type": "stream",
     "text": [
      "Dev loss: 0.030999723503439162\n"
     ]
    },
    {
     "name": "stderr",
     "output_type": "stream",
     "text": [
      "100%|██████████| 4348/4348 [00:57<00:00, 75.56it/s]\n",
      "100%|██████████| 1087/1087 [01:04<00:00, 16.88it/s]\n"
     ]
    },
    {
     "name": "stdout",
     "output_type": "stream",
     "text": [
      "Training loss: 0.05627298404533862\n"
     ]
    },
    {
     "name": "stderr",
     "output_type": "stream",
     "text": [
      "100%|██████████| 245/245 [00:14<00:00, 16.85it/s]\n"
     ]
    },
    {
     "name": "stdout",
     "output_type": "stream",
     "text": [
      "Dev loss: 0.03150145649673731\n"
     ]
    },
    {
     "name": "stderr",
     "output_type": "stream",
     "text": [
      "100%|██████████| 4348/4348 [00:58<00:00, 74.47it/s]\n",
      "100%|██████████| 1087/1087 [01:03<00:00, 17.10it/s]\n"
     ]
    },
    {
     "name": "stdout",
     "output_type": "stream",
     "text": [
      "Training loss: 0.0561326694431067\n"
     ]
    },
    {
     "name": "stderr",
     "output_type": "stream",
     "text": [
      "100%|██████████| 245/245 [00:14<00:00, 17.27it/s]\n"
     ]
    },
    {
     "name": "stdout",
     "output_type": "stream",
     "text": [
      "Dev loss: 0.03295956864914831\n"
     ]
    },
    {
     "name": "stderr",
     "output_type": "stream",
     "text": [
      "100%|██████████| 4348/4348 [00:57<00:00, 75.83it/s]\n",
      "100%|██████████| 1087/1087 [01:05<00:00, 16.62it/s]\n"
     ]
    },
    {
     "name": "stdout",
     "output_type": "stream",
     "text": [
      "Training loss: 0.056020185613537235\n"
     ]
    },
    {
     "name": "stderr",
     "output_type": "stream",
     "text": [
      "100%|██████████| 245/245 [00:14<00:00, 17.34it/s]\n"
     ]
    },
    {
     "name": "stdout",
     "output_type": "stream",
     "text": [
      "Dev loss: 0.032959475223114675\n"
     ]
    },
    {
     "name": "stderr",
     "output_type": "stream",
     "text": [
      "100%|██████████| 4348/4348 [00:56<00:00, 76.57it/s]\n",
      "100%|██████████| 1087/1087 [01:02<00:00, 17.34it/s]\n"
     ]
    },
    {
     "name": "stdout",
     "output_type": "stream",
     "text": [
      "Training loss: 0.055964571650800383\n"
     ]
    },
    {
     "name": "stderr",
     "output_type": "stream",
     "text": [
      "100%|██████████| 245/245 [00:14<00:00, 17.03it/s]\n"
     ]
    },
    {
     "name": "stdout",
     "output_type": "stream",
     "text": [
      "Dev loss: 0.033050081370212855\n"
     ]
    },
    {
     "name": "stderr",
     "output_type": "stream",
     "text": [
      "100%|██████████| 4348/4348 [00:57<00:00, 75.74it/s]\n",
      "100%|██████████| 1087/1087 [01:02<00:00, 17.37it/s]\n"
     ]
    },
    {
     "name": "stdout",
     "output_type": "stream",
     "text": [
      "Training loss: 0.056099984561033524\n"
     ]
    },
    {
     "name": "stderr",
     "output_type": "stream",
     "text": [
      "100%|██████████| 245/245 [00:13<00:00, 17.51it/s]\n"
     ]
    },
    {
     "name": "stdout",
     "output_type": "stream",
     "text": [
      "Dev loss: 0.031573953866147524\n"
     ]
    },
    {
     "name": "stderr",
     "output_type": "stream",
     "text": [
      "100%|██████████| 4348/4348 [00:57<00:00, 75.95it/s]\n",
      "100%|██████████| 1087/1087 [01:02<00:00, 17.36it/s]\n"
     ]
    },
    {
     "name": "stdout",
     "output_type": "stream",
     "text": [
      "Training loss: 0.0560390962788395\n"
     ]
    },
    {
     "name": "stderr",
     "output_type": "stream",
     "text": [
      "100%|██████████| 245/245 [00:14<00:00, 17.43it/s]\n"
     ]
    },
    {
     "name": "stdout",
     "output_type": "stream",
     "text": [
      "Dev loss: 0.03229538927179535\n"
     ]
    },
    {
     "name": "stderr",
     "output_type": "stream",
     "text": [
      "100%|██████████| 4348/4348 [00:56<00:00, 76.78it/s]\n",
      "100%|██████████| 1087/1087 [01:01<00:00, 17.55it/s]\n"
     ]
    },
    {
     "name": "stdout",
     "output_type": "stream",
     "text": [
      "Training loss: 0.05598719586566876\n"
     ]
    },
    {
     "name": "stderr",
     "output_type": "stream",
     "text": [
      "100%|██████████| 245/245 [00:14<00:00, 17.40it/s]\n"
     ]
    },
    {
     "name": "stdout",
     "output_type": "stream",
     "text": [
      "Dev loss: 0.032340038073958514\n"
     ]
    },
    {
     "name": "stderr",
     "output_type": "stream",
     "text": [
      "100%|██████████| 4348/4348 [00:57<00:00, 76.12it/s]\n",
      "100%|██████████| 1087/1087 [01:02<00:00, 17.39it/s]\n"
     ]
    },
    {
     "name": "stdout",
     "output_type": "stream",
     "text": [
      "Training loss: 0.05586170153288962\n"
     ]
    },
    {
     "name": "stderr",
     "output_type": "stream",
     "text": [
      "100%|██████████| 245/245 [00:14<00:00, 17.47it/s]\n"
     ]
    },
    {
     "name": "stdout",
     "output_type": "stream",
     "text": [
      "Dev loss: 0.0337048641035038\n"
     ]
    },
    {
     "name": "stderr",
     "output_type": "stream",
     "text": [
      "100%|██████████| 4348/4348 [00:57<00:00, 75.71it/s]\n",
      "100%|██████████| 1087/1087 [01:02<00:00, 17.31it/s]\n"
     ]
    },
    {
     "name": "stdout",
     "output_type": "stream",
     "text": [
      "Training loss: 0.05597697588041656\n"
     ]
    },
    {
     "name": "stderr",
     "output_type": "stream",
     "text": [
      "100%|██████████| 245/245 [00:14<00:00, 17.22it/s]\n"
     ]
    },
    {
     "name": "stdout",
     "output_type": "stream",
     "text": [
      "Dev loss: 0.032549779991251006\n"
     ]
    },
    {
     "name": "stderr",
     "output_type": "stream",
     "text": [
      "100%|██████████| 4348/4348 [00:56<00:00, 76.47it/s]\n",
      "100%|██████████| 1087/1087 [01:02<00:00, 17.51it/s]\n"
     ]
    },
    {
     "name": "stdout",
     "output_type": "stream",
     "text": [
      "Training loss: 0.05589874487241477\n"
     ]
    },
    {
     "name": "stderr",
     "output_type": "stream",
     "text": [
      "100%|██████████| 245/245 [00:14<00:00, 17.15it/s]\n"
     ]
    },
    {
     "name": "stdout",
     "output_type": "stream",
     "text": [
      "Dev loss: 0.032357455538565505\n"
     ]
    },
    {
     "name": "stderr",
     "output_type": "stream",
     "text": [
      "100%|██████████| 4348/4348 [00:56<00:00, 76.32it/s]\n",
      "100%|██████████| 1087/1087 [01:02<00:00, 17.36it/s]\n"
     ]
    },
    {
     "name": "stdout",
     "output_type": "stream",
     "text": [
      "Training loss: 0.05602609234548154\n"
     ]
    },
    {
     "name": "stderr",
     "output_type": "stream",
     "text": [
      "100%|██████████| 245/245 [00:14<00:00, 17.33it/s]\n"
     ]
    },
    {
     "name": "stdout",
     "output_type": "stream",
     "text": [
      "Dev loss: 0.0318123060110299\n"
     ]
    },
    {
     "name": "stderr",
     "output_type": "stream",
     "text": [
      "100%|██████████| 4348/4348 [00:57<00:00, 76.22it/s]\n",
      "100%|██████████| 1087/1087 [01:02<00:00, 17.35it/s]\n"
     ]
    },
    {
     "name": "stdout",
     "output_type": "stream",
     "text": [
      "Training loss: 0.055880026734269554\n"
     ]
    },
    {
     "name": "stderr",
     "output_type": "stream",
     "text": [
      "100%|██████████| 245/245 [00:14<00:00, 17.26it/s]\n"
     ]
    },
    {
     "name": "stdout",
     "output_type": "stream",
     "text": [
      "Dev loss: 0.03235434362528375\n"
     ]
    },
    {
     "name": "stderr",
     "output_type": "stream",
     "text": [
      "100%|██████████| 4348/4348 [00:56<00:00, 76.53it/s]\n",
      "100%|██████████| 1087/1087 [01:02<00:00, 17.42it/s]\n"
     ]
    },
    {
     "name": "stdout",
     "output_type": "stream",
     "text": [
      "Training loss: 0.055938248993254974\n"
     ]
    },
    {
     "name": "stderr",
     "output_type": "stream",
     "text": [
      "100%|██████████| 245/245 [00:14<00:00, 17.41it/s]"
     ]
    },
    {
     "name": "stdout",
     "output_type": "stream",
     "text": [
      "Dev loss: 0.032122836318439346\n"
     ]
    },
    {
     "name": "stderr",
     "output_type": "stream",
     "text": [
      "\n"
     ]
    }
   ],
   "source": [
    "MAX_EPOCHS = 30\n",
    "# training_losses = []\n",
    "# dev_losses = []\n",
    "\n",
    "for epoch in range(MAX_EPOCHS):\n",
    "    \n",
    "    for data in tqdm(train_loader):\n",
    "        \n",
    "        user_id, item_id, numeric_features, label = data    \n",
    "        \n",
    "        user_id, item_id, numeric_features, label = (\n",
    "            user_id.to(device), \n",
    "            item_id.to(device), \n",
    "            numeric_features.to(device),\n",
    "            label.to(device)\n",
    "        )    \n",
    "\n",
    "        optimizer.zero_grad()  # Set gradients to 0 otherwise will accumulate\n",
    "\n",
    "        pred = fashion_rec_v2(\n",
    "            user_id, \n",
    "            item_id, \n",
    "            numeric_features.float()\n",
    "        )\n",
    "\n",
    "        loss = criterion(pred.flatten(), label.float())\n",
    "\n",
    "        loss.backward()  \n",
    "        \n",
    "        optimizer.step()\n",
    "\n",
    "    scheduler.step()\n",
    "        \n",
    "    # Compute training loss\n",
    "    \n",
    "    total_train_loss = 0\n",
    "\n",
    "    fashion_rec_v2.eval()\n",
    "\n",
    "    with torch.no_grad():\n",
    "        for data in tqdm(DataLoader(train_dataset, batch_size=BATCH_SIZE*4)):\n",
    "            \n",
    "            user_id, item_id, numeric_features, label = data\n",
    "\n",
    "            user_id, item_id, numeric_features, label = (\n",
    "                user_id.to(device), \n",
    "                item_id.to(device), \n",
    "                numeric_features.to(device),\n",
    "                label.to(device)\n",
    "            )\n",
    "\n",
    "            pred = fashion_rec_v2(\n",
    "                user_id, \n",
    "                item_id, \n",
    "                numeric_features.float()\n",
    "            )\n",
    "\n",
    "            loss = nn.BCELoss(reduction='sum')(pred.flatten(), label.float())\n",
    "\n",
    "            total_train_loss += loss.item()\n",
    "\n",
    "        mean_train_loss = total_train_loss / len(train_dataset)\n",
    "\n",
    "        print(f\"Training loss: {mean_train_loss}\")\n",
    "        training_losses.append(mean_train_loss)\n",
    "    \n",
    "    # Compute dev loss\n",
    "    \n",
    "    total_dev_loss = 0\n",
    "\n",
    "    with torch.no_grad():\n",
    "        for data in tqdm(DataLoader(dev_dataset, batch_size=BATCH_SIZE*4)):\n",
    "            \n",
    "            user_id, item_id, numeric_features, label = data                    \n",
    "        \n",
    "            user_id, item_id, numeric_features, label = (\n",
    "                user_id.to(device), \n",
    "                item_id.to(device), \n",
    "                numeric_features.to(device),\n",
    "                label.to(device)\n",
    "            )    \n",
    "\n",
    "            optimizer.zero_grad()  # Set gradients to 0 otherwise will accumulate\n",
    "\n",
    "            pred = fashion_rec_v2(\n",
    "                user_id, \n",
    "                item_id, \n",
    "                numeric_features.float()\n",
    "            )\n",
    "\n",
    "            loss = nn.BCELoss(reduction='sum')(pred.flatten(), label.float())\n",
    "\n",
    "            total_dev_loss += loss.item()\n",
    "\n",
    "        mean_dev_loss = total_dev_loss / len(dev_dataset)\n",
    "\n",
    "        print(f\"Dev loss: {mean_dev_loss}\")\n",
    "        dev_losses.append(mean_dev_loss)\n",
    "    \n",
    "    fashion_rec_v2.train()"
   ]
  },
  {
   "cell_type": "markdown",
   "id": "b399899c",
   "metadata": {
    "id": "0yA06l_UA2B6"
   },
   "source": [
    "Training loss: 0.0576722645855583\n",
    "100%|██████████| 245/245 [00:13<00:00, 17.61it/s]Dev loss: 0.030502201788668592"
   ]
  },
  {
   "cell_type": "code",
   "execution_count": 288,
   "id": "62ec9823",
   "metadata": {
    "colab": {
     "base_uri": "https://localhost:8080/"
    },
    "executionInfo": {
     "elapsed": 23,
     "status": "ok",
     "timestamp": 1651426021201,
     "user": {
      "displayName": "Steven George",
      "userId": "07709250839253394649"
     },
     "user_tz": -60
    },
    "id": "f3u5_dRzozf-",
    "outputId": "2138b449-4042-4f4c-90bc-c2112e1d10a6"
   },
   "outputs": [
    {
     "data": {
      "text/plain": [
       "(0.021851966024473743, 0.004170444152551586)"
      ]
     },
     "execution_count": 288,
     "metadata": {},
     "output_type": "execute_result"
    }
   ],
   "source": [
    "train_set['purchased'].mean(), dev_set['purchased'].mean()"
   ]
  },
  {
   "cell_type": "code",
   "execution_count": 289,
   "id": "084ce5e7",
   "metadata": {
    "colab": {
     "base_uri": "https://localhost:8080/",
     "height": 265
    },
    "executionInfo": {
     "elapsed": 17,
     "status": "ok",
     "timestamp": 1651426021201,
     "user": {
      "displayName": "Steven George",
      "userId": "07709250839253394649"
     },
     "user_tz": -60
    },
    "id": "4be8ce09",
    "outputId": "50bc4bc0-3dc4-4e4b-c676-c5855adc0b6b"
   },
   "outputs": [
    {
     "data": {
      "image/png": "[encoded data removed]",
      "text/plain": [
       "<Figure size 432x288 with 1 Axes>"
      ]
     },
     "metadata": {
      "needs_background": "light"
     },
     "output_type": "display_data"
    }
   ],
   "source": [
    "plt.plot(training_losses, label='train')\n",
    "plt.plot(dev_losses, label='dev')\n",
    "plt.legend()\n",
    "plt.show()"
   ]
  },
  {
   "cell_type": "markdown",
   "id": "e3d2ea86",
   "metadata": {
    "id": "5dd679de"
   },
   "source": [
    "### Test set evaluation"
   ]
  },
  {
   "cell_type": "code",
   "execution_count": 290,
   "id": "bde84a5a",
   "metadata": {
    "colab": {
     "base_uri": "https://localhost:8080/",
     "height": 206
    },
    "executionInfo": {
     "elapsed": 620,
     "status": "ok",
     "timestamp": 1651426021805,
     "user": {
      "displayName": "Steven George",
      "userId": "07709250839253394649"
     },
     "user_tz": -60
    },
    "id": "tQuG9vpjz8_7",
    "outputId": "71ed049a-c5ea-4889-8d1f-ed9e8020541e"
   },
   "outputs": [
    {
     "data": {
      "text/html": [
       "\n",
       "  <div id=\"df-9ba734a4-c446-4c41-84d9-ff75a43a28e1\">\n",
       "    <div class=\"colab-df-container\">\n",
       "      <div>\n",
       "<style scoped>\n",
       "    .dataframe tbody tr th:only-of-type {\n",
       "        vertical-align: middle;\n",
       "    }\n",
       "\n",
       "    .dataframe tbody tr th {\n",
       "        vertical-align: top;\n",
       "    }\n",
       "\n",
       "    .dataframe thead th {\n",
       "        text-align: right;\n",
       "    }\n",
       "</style>\n",
       "<table border=\"1\" class=\"dataframe\">\n",
       "  <thead>\n",
       "    <tr style=\"text-align: right;\">\n",
       "      <th></th>\n",
       "      <th>t_dat</th>\n",
       "      <th>customer_id</th>\n",
       "      <th>article_id</th>\n",
       "      <th>article_id_idx</th>\n",
       "    </tr>\n",
       "  </thead>\n",
       "  <tbody>\n",
       "    <tr>\n",
       "      <th>0</th>\n",
       "      <td>2020-09-15</td>\n",
       "      <td>000058a12d5b43e67d225668fa1f8d618c13dc232df0ca...</td>\n",
       "      <td>0794321007</td>\n",
       "      <td>78503</td>\n",
       "    </tr>\n",
       "    <tr>\n",
       "      <th>1</th>\n",
       "      <td>2020-09-15</td>\n",
       "      <td>0015f37f752a41a75c3be6f3f92deedc4c87d039f1758e...</td>\n",
       "      <td>0778745010</td>\n",
       "      <td>74893</td>\n",
       "    </tr>\n",
       "    <tr>\n",
       "      <th>2</th>\n",
       "      <td>2020-09-15</td>\n",
       "      <td>0015f37f752a41a75c3be6f3f92deedc4c87d039f1758e...</td>\n",
       "      <td>0778745010</td>\n",
       "      <td>74893</td>\n",
       "    </tr>\n",
       "    <tr>\n",
       "      <th>3</th>\n",
       "      <td>2020-09-15</td>\n",
       "      <td>0015f37f752a41a75c3be6f3f92deedc4c87d039f1758e...</td>\n",
       "      <td>0610776105</td>\n",
       "      <td>24872</td>\n",
       "    </tr>\n",
       "    <tr>\n",
       "      <th>4</th>\n",
       "      <td>2020-09-15</td>\n",
       "      <td>0015f37f752a41a75c3be6f3f92deedc4c87d039f1758e...</td>\n",
       "      <td>0929745001</td>\n",
       "      <td>104987</td>\n",
       "    </tr>\n",
       "  </tbody>\n",
       "</table>\n",
       "</div>\n",
       "      <button class=\"colab-df-convert\" onclick=\"convertToInteractive('df-9ba734a4-c446-4c41-84d9-ff75a43a28e1')\"\n",
       "              title=\"Convert this dataframe to an interactive table.\"\n",
       "              style=\"display:none;\">\n",
       "        \n",
       "  <svg xmlns=\"http://www.w3.org/2000/svg\" height=\"24px\"viewBox=\"0 0 24 24\"\n",
       "       width=\"24px\">\n",
       "    <path d=\"M0 0h24v24H0V0z\" fill=\"none\"/>\n",
       "    <path d=\"M18.56 5.44l.94 2.06.94-2.06 2.06-.94-2.06-.94-.94-2.06-.94 2.06-2.06.94zm-11 1L8.5 8.5l.94-2.06 2.06-.94-2.06-.94L8.5 2.5l-.94 2.06-2.06.94zm10 10l.94 2.06.94-2.06 2.06-.94-2.06-.94-.94-2.06-.94 2.06-2.06.94z\"/><path d=\"M17.41 7.96l-1.37-1.37c-.4-.4-.92-.59-1.43-.59-.52 0-1.04.2-1.43.59L10.3 9.45l-7.72 7.72c-.78.78-.78 2.05 0 2.83L4 21.41c.39.39.9.59 1.41.59.51 0 1.02-.2 1.41-.59l7.78-7.78 2.81-2.81c.8-.78.8-2.07 0-2.86zM5.41 20L4 18.59l7.72-7.72 1.47 1.35L5.41 20z\"/>\n",
       "  </svg>\n",
       "      </button>\n",
       "      \n",
       "  <style>\n",
       "    .colab-df-container {\n",
       "      display:flex;\n",
       "      flex-wrap:wrap;\n",
       "      gap: 12px;\n",
       "    }\n",
       "\n",
       "    .colab-df-convert {\n",
       "      background-color: #E8F0FE;\n",
       "      border: none;\n",
       "      border-radius: 50%;\n",
       "      cursor: pointer;\n",
       "      display: none;\n",
       "      fill: #1967D2;\n",
       "      height: 32px;\n",
       "      padding: 0 0 0 0;\n",
       "      width: 32px;\n",
       "    }\n",
       "\n",
       "    .colab-df-convert:hover {\n",
       "      background-color: #E2EBFA;\n",
       "      box-shadow: 0px 1px 2px rgba(60, 64, 67, 0.3), 0px 1px 3px 1px rgba(60, 64, 67, 0.15);\n",
       "      fill: #174EA6;\n",
       "    }\n",
       "\n",
       "    [theme=dark] .colab-df-convert {\n",
       "      background-color: #3B4455;\n",
       "      fill: #D2E3FC;\n",
       "    }\n",
       "\n",
       "    [theme=dark] .colab-df-convert:hover {\n",
       "      background-color: #434B5C;\n",
       "      box-shadow: 0px 1px 3px 1px rgba(0, 0, 0, 0.15);\n",
       "      filter: drop-shadow(0px 1px 2px rgba(0, 0, 0, 0.3));\n",
       "      fill: #FFFFFF;\n",
       "    }\n",
       "  </style>\n",
       "\n",
       "      <script>\n",
       "        const buttonEl =\n",
       "          document.querySelector('#df-9ba734a4-c446-4c41-84d9-ff75a43a28e1 button.colab-df-convert');\n",
       "        buttonEl.style.display =\n",
       "          google.colab.kernel.accessAllowed ? 'block' : 'none';\n",
       "\n",
       "        async function convertToInteractive(key) {\n",
       "          const element = document.querySelector('#df-9ba734a4-c446-4c41-84d9-ff75a43a28e1');\n",
       "          const dataTable =\n",
       "            await google.colab.kernel.invokeFunction('convertToInteractive',\n",
       "                                                     [key], {});\n",
       "          if (!dataTable) return;\n",
       "\n",
       "          const docLinkHtml = 'Like what you see? Visit the ' +\n",
       "            '<a target=\"_blank\" href=https://colab.research.google.com/notebooks/data_table.ipynb>data table notebook</a>'\n",
       "            + ' to learn more about interactive tables.';\n",
       "          element.innerHTML = '';\n",
       "          dataTable['output_type'] = 'display_data';\n",
       "          await google.colab.output.renderOutput(dataTable, element);\n",
       "          const docLink = document.createElement('div');\n",
       "          docLink.innerHTML = docLinkHtml;\n",
       "          element.appendChild(docLink);\n",
       "        }\n",
       "      </script>\n",
       "    </div>\n",
       "  </div>\n",
       "  "
      ],
      "text/plain": [
       "        t_dat                                        customer_id  article_id  \\\n",
       "0  2020-09-15  000058a12d5b43e67d225668fa1f8d618c13dc232df0ca...  0794321007   \n",
       "1  2020-09-15  0015f37f752a41a75c3be6f3f92deedc4c87d039f1758e...  0778745010   \n",
       "2  2020-09-15  0015f37f752a41a75c3be6f3f92deedc4c87d039f1758e...  0778745010   \n",
       "3  2020-09-15  0015f37f752a41a75c3be6f3f92deedc4c87d039f1758e...  0610776105   \n",
       "4  2020-09-15  0015f37f752a41a75c3be6f3f92deedc4c87d039f1758e...  0929745001   \n",
       "\n",
       "   article_id_idx  \n",
       "0           78503  \n",
       "1           74893  \n",
       "2           74893  \n",
       "3           24872  \n",
       "4          104987  "
      ]
     },
     "execution_count": 290,
     "metadata": {},
     "output_type": "execute_result"
    }
   ],
   "source": [
    "test_set.head()"
   ]
  },
  {
   "cell_type": "code",
   "execution_count": 291,
   "id": "71ceb9ce",
   "metadata": {
    "colab": {
     "base_uri": "https://localhost:8080/",
     "height": 206
    },
    "executionInfo": {
     "elapsed": 18,
     "status": "ok",
     "timestamp": 1651426021806,
     "user": {
      "displayName": "Steven George",
      "userId": "07709250839253394649"
     },
     "user_tz": -60
    },
    "id": "sEVOarJwz8C7",
    "outputId": "6cc24167-16f7-4db6-f2c9-842d50c9582c"
   },
   "outputs": [
    {
     "data": {
      "text/html": [
       "\n",
       "  <div id=\"df-79a3b467-6898-461e-a047-a9c9323d6157\">\n",
       "    <div class=\"colab-df-container\">\n",
       "      <div>\n",
       "<style scoped>\n",
       "    .dataframe tbody tr th:only-of-type {\n",
       "        vertical-align: middle;\n",
       "    }\n",
       "\n",
       "    .dataframe tbody tr th {\n",
       "        vertical-align: top;\n",
       "    }\n",
       "\n",
       "    .dataframe thead th {\n",
       "        text-align: right;\n",
       "    }\n",
       "</style>\n",
       "<table border=\"1\" class=\"dataframe\">\n",
       "  <thead>\n",
       "    <tr style=\"text-align: right;\">\n",
       "      <th></th>\n",
       "      <th>customer_id</th>\n",
       "      <th>article_id_idx</th>\n",
       "    </tr>\n",
       "  </thead>\n",
       "  <tbody>\n",
       "    <tr>\n",
       "      <th>0</th>\n",
       "      <td>000058a12d5b43e67d225668fa1f8d618c13dc232df0ca...</td>\n",
       "      <td>[78503]</td>\n",
       "    </tr>\n",
       "    <tr>\n",
       "      <th>1</th>\n",
       "      <td>0015f37f752a41a75c3be6f3f92deedc4c87d039f1758e...</td>\n",
       "      <td>[74893, 74893, 24872, 104987, 9801, 9801, 6912...</td>\n",
       "    </tr>\n",
       "    <tr>\n",
       "      <th>2</th>\n",
       "      <td>00282135561702f5b3b750fa3382d8fd83ce5d761a507e...</td>\n",
       "      <td>[92815, 86041]</td>\n",
       "    </tr>\n",
       "    <tr>\n",
       "      <th>3</th>\n",
       "      <td>00356a94bb9bed341f6dba58ad722974b01a1cbd9f06ef...</td>\n",
       "      <td>[104211, 17044, 17044, 16024, 29250, 98445, 66...</td>\n",
       "    </tr>\n",
       "    <tr>\n",
       "      <th>4</th>\n",
       "      <td>00462904b288681a9facb555f75dd2cf4d0f730a6e0ea7...</td>\n",
       "      <td>[87467, 99966, 42626, 79834, 97540, 103280, 79...</td>\n",
       "    </tr>\n",
       "  </tbody>\n",
       "</table>\n",
       "</div>\n",
       "      <button class=\"colab-df-convert\" onclick=\"convertToInteractive('df-79a3b467-6898-461e-a047-a9c9323d6157')\"\n",
       "              title=\"Convert this dataframe to an interactive table.\"\n",
       "              style=\"display:none;\">\n",
       "        \n",
       "  <svg xmlns=\"http://www.w3.org/2000/svg\" height=\"24px\"viewBox=\"0 0 24 24\"\n",
       "       width=\"24px\">\n",
       "    <path d=\"M0 0h24v24H0V0z\" fill=\"none\"/>\n",
       "    <path d=\"M18.56 5.44l.94 2.06.94-2.06 2.06-.94-2.06-.94-.94-2.06-.94 2.06-2.06.94zm-11 1L8.5 8.5l.94-2.06 2.06-.94-2.06-.94L8.5 2.5l-.94 2.06-2.06.94zm10 10l.94 2.06.94-2.06 2.06-.94-2.06-.94-.94-2.06-.94 2.06-2.06.94z\"/><path d=\"M17.41 7.96l-1.37-1.37c-.4-.4-.92-.59-1.43-.59-.52 0-1.04.2-1.43.59L10.3 9.45l-7.72 7.72c-.78.78-.78 2.05 0 2.83L4 21.41c.39.39.9.59 1.41.59.51 0 1.02-.2 1.41-.59l7.78-7.78 2.81-2.81c.8-.78.8-2.07 0-2.86zM5.41 20L4 18.59l7.72-7.72 1.47 1.35L5.41 20z\"/>\n",
       "  </svg>\n",
       "      </button>\n",
       "      \n",
       "  <style>\n",
       "    .colab-df-container {\n",
       "      display:flex;\n",
       "      flex-wrap:wrap;\n",
       "      gap: 12px;\n",
       "    }\n",
       "\n",
       "    .colab-df-convert {\n",
       "      background-color: #E8F0FE;\n",
       "      border: none;\n",
       "      border-radius: 50%;\n",
       "      cursor: pointer;\n",
       "      display: none;\n",
       "      fill: #1967D2;\n",
       "      height: 32px;\n",
       "      padding: 0 0 0 0;\n",
       "      width: 32px;\n",
       "    }\n",
       "\n",
       "    .colab-df-convert:hover {\n",
       "      background-color: #E2EBFA;\n",
       "      box-shadow: 0px 1px 2px rgba(60, 64, 67, 0.3), 0px 1px 3px 1px rgba(60, 64, 67, 0.15);\n",
       "      fill: #174EA6;\n",
       "    }\n",
       "\n",
       "    [theme=dark] .colab-df-convert {\n",
       "      background-color: #3B4455;\n",
       "      fill: #D2E3FC;\n",
       "    }\n",
       "\n",
       "    [theme=dark] .colab-df-convert:hover {\n",
       "      background-color: #434B5C;\n",
       "      box-shadow: 0px 1px 3px 1px rgba(0, 0, 0, 0.15);\n",
       "      filter: drop-shadow(0px 1px 2px rgba(0, 0, 0, 0.3));\n",
       "      fill: #FFFFFF;\n",
       "    }\n",
       "  </style>\n",
       "\n",
       "      <script>\n",
       "        const buttonEl =\n",
       "          document.querySelector('#df-79a3b467-6898-461e-a047-a9c9323d6157 button.colab-df-convert');\n",
       "        buttonEl.style.display =\n",
       "          google.colab.kernel.accessAllowed ? 'block' : 'none';\n",
       "\n",
       "        async function convertToInteractive(key) {\n",
       "          const element = document.querySelector('#df-79a3b467-6898-461e-a047-a9c9323d6157');\n",
       "          const dataTable =\n",
       "            await google.colab.kernel.invokeFunction('convertToInteractive',\n",
       "                                                     [key], {});\n",
       "          if (!dataTable) return;\n",
       "\n",
       "          const docLinkHtml = 'Like what you see? Visit the ' +\n",
       "            '<a target=\"_blank\" href=https://colab.research.google.com/notebooks/data_table.ipynb>data table notebook</a>'\n",
       "            + ' to learn more about interactive tables.';\n",
       "          element.innerHTML = '';\n",
       "          dataTable['output_type'] = 'display_data';\n",
       "          await google.colab.output.renderOutput(dataTable, element);\n",
       "          const docLink = document.createElement('div');\n",
       "          docLink.innerHTML = docLinkHtml;\n",
       "          element.appendChild(docLink);\n",
       "        }\n",
       "      </script>\n",
       "    </div>\n",
       "  </div>\n",
       "  "
      ],
      "text/plain": [
       "                                         customer_id  \\\n",
       "0  000058a12d5b43e67d225668fa1f8d618c13dc232df0ca...   \n",
       "1  0015f37f752a41a75c3be6f3f92deedc4c87d039f1758e...   \n",
       "2  00282135561702f5b3b750fa3382d8fd83ce5d761a507e...   \n",
       "3  00356a94bb9bed341f6dba58ad722974b01a1cbd9f06ef...   \n",
       "4  00462904b288681a9facb555f75dd2cf4d0f730a6e0ea7...   \n",
       "\n",
       "                                      article_id_idx  \n",
       "0                                            [78503]  \n",
       "1  [74893, 74893, 24872, 104987, 9801, 9801, 6912...  \n",
       "2                                     [92815, 86041]  \n",
       "3  [104211, 17044, 17044, 16024, 29250, 98445, 66...  \n",
       "4  [87467, 99966, 42626, 79834, 97540, 103280, 79...  "
      ]
     },
     "execution_count": 291,
     "metadata": {},
     "output_type": "execute_result"
    }
   ],
   "source": [
    "test_set['article_id_idx'] = test_set['article_id'].map(article_id_to_idx)\n",
    "\n",
    "test_set['article_id_idx'].fillna(999999, inplace=True)\n",
    "\n",
    "test_set_by_customer = test_set.groupby('customer_id').apply(lambda x: list(x['article_id_idx'])).reset_index().rename(columns={0: 'article_id_idx'})\n",
    "test_set_by_customer.head()"
   ]
  },
  {
   "cell_type": "code",
   "execution_count": 292,
   "id": "ccb79990",
   "metadata": {
    "colab": {
     "base_uri": "https://localhost:8080/"
    },
    "executionInfo": {
     "elapsed": 18,
     "status": "ok",
     "timestamp": 1651426021807,
     "user": {
      "displayName": "Steven George",
      "userId": "07709250839253394649"
     },
     "user_tz": -60
    },
    "id": "mFu5vl060gqK",
    "outputId": "ea1a75be-a0a3-4350-b137-ad5a7bcf25ef"
   },
   "outputs": [
    {
     "data": {
      "text/plain": [
       "(32995, 4)"
      ]
     },
     "execution_count": 292,
     "metadata": {},
     "output_type": "execute_result"
    }
   ],
   "source": [
    "test_set.shape"
   ]
  },
  {
   "cell_type": "code",
   "execution_count": 293,
   "id": "ce719408",
   "metadata": {
    "colab": {
     "base_uri": "https://localhost:8080/",
     "height": 206
    },
    "executionInfo": {
     "elapsed": 14,
     "status": "ok",
     "timestamp": 1651426021809,
     "user": {
      "displayName": "Steven George",
      "userId": "07709250839253394649"
     },
     "user_tz": -60
    },
    "id": "SfoIY_RS0h1k",
    "outputId": "58f73ee6-6b08-4a9f-c987-b5eac5ace20b"
   },
   "outputs": [
    {
     "data": {
      "text/html": [
       "\n",
       "  <div id=\"df-07f88183-76f2-48e1-83cf-41a2bea06139\">\n",
       "    <div class=\"colab-df-container\">\n",
       "      <div>\n",
       "<style scoped>\n",
       "    .dataframe tbody tr th:only-of-type {\n",
       "        vertical-align: middle;\n",
       "    }\n",
       "\n",
       "    .dataframe tbody tr th {\n",
       "        vertical-align: top;\n",
       "    }\n",
       "\n",
       "    .dataframe thead th {\n",
       "        text-align: right;\n",
       "    }\n",
       "</style>\n",
       "<table border=\"1\" class=\"dataframe\">\n",
       "  <thead>\n",
       "    <tr style=\"text-align: right;\">\n",
       "      <th></th>\n",
       "      <th>purchased</th>\n",
       "      <th>customer_id_idx</th>\n",
       "      <th>article_id_idx</th>\n",
       "      <th>customer_id</th>\n",
       "      <th>FN</th>\n",
       "      <th>Active</th>\n",
       "      <th>club_member_status</th>\n",
       "      <th>fashion_news_frequency</th>\n",
       "      <th>age</th>\n",
       "      <th>postal_code</th>\n",
       "    </tr>\n",
       "  </thead>\n",
       "  <tbody>\n",
       "    <tr>\n",
       "      <th>0</th>\n",
       "      <td>0</td>\n",
       "      <td>8789</td>\n",
       "      <td>12585</td>\n",
       "      <td>9165937ca0e3520ebe0533ffd6bb41eb5f3d2d61d04338...</td>\n",
       "      <td>0.0</td>\n",
       "      <td>0.0</td>\n",
       "      <td>0</td>\n",
       "      <td>0</td>\n",
       "      <td>30.0</td>\n",
       "      <td>293202</td>\n",
       "    </tr>\n",
       "    <tr>\n",
       "      <th>1</th>\n",
       "      <td>0</td>\n",
       "      <td>1892</td>\n",
       "      <td>46383</td>\n",
       "      <td>c57b05d88861137cb87f02719a38968ec5a4b7e6c970bf...</td>\n",
       "      <td>1.0</td>\n",
       "      <td>1.0</td>\n",
       "      <td>0</td>\n",
       "      <td>1</td>\n",
       "      <td>21.0</td>\n",
       "      <td>83211</td>\n",
       "    </tr>\n",
       "    <tr>\n",
       "      <th>2</th>\n",
       "      <td>0</td>\n",
       "      <td>6818</td>\n",
       "      <td>73050</td>\n",
       "      <td>804895ebec804fab7bc7d8b96a2a74e00e0af79759b119...</td>\n",
       "      <td>0.0</td>\n",
       "      <td>0.0</td>\n",
       "      <td>0</td>\n",
       "      <td>0</td>\n",
       "      <td>23.0</td>\n",
       "      <td>17012</td>\n",
       "    </tr>\n",
       "    <tr>\n",
       "      <th>3</th>\n",
       "      <td>0</td>\n",
       "      <td>5935</td>\n",
       "      <td>66108</td>\n",
       "      <td>b6f4078b1474d782c8316694af3afdd64041209f6114ac...</td>\n",
       "      <td>1.0</td>\n",
       "      <td>1.0</td>\n",
       "      <td>0</td>\n",
       "      <td>1</td>\n",
       "      <td>49.0</td>\n",
       "      <td>319383</td>\n",
       "    </tr>\n",
       "    <tr>\n",
       "      <th>4</th>\n",
       "      <td>0</td>\n",
       "      <td>6136</td>\n",
       "      <td>61632</td>\n",
       "      <td>e60e66e755cda27055e3e22328012d6c0ab7b28b18f7ec...</td>\n",
       "      <td>0.0</td>\n",
       "      <td>0.0</td>\n",
       "      <td>0</td>\n",
       "      <td>0</td>\n",
       "      <td>20.0</td>\n",
       "      <td>28596</td>\n",
       "    </tr>\n",
       "  </tbody>\n",
       "</table>\n",
       "</div>\n",
       "      <button class=\"colab-df-convert\" onclick=\"convertToInteractive('df-07f88183-76f2-48e1-83cf-41a2bea06139')\"\n",
       "              title=\"Convert this dataframe to an interactive table.\"\n",
       "              style=\"display:none;\">\n",
       "        \n",
       "  <svg xmlns=\"http://www.w3.org/2000/svg\" height=\"24px\"viewBox=\"0 0 24 24\"\n",
       "       width=\"24px\">\n",
       "    <path d=\"M0 0h24v24H0V0z\" fill=\"none\"/>\n",
       "    <path d=\"M18.56 5.44l.94 2.06.94-2.06 2.06-.94-2.06-.94-.94-2.06-.94 2.06-2.06.94zm-11 1L8.5 8.5l.94-2.06 2.06-.94-2.06-.94L8.5 2.5l-.94 2.06-2.06.94zm10 10l.94 2.06.94-2.06 2.06-.94-2.06-.94-.94-2.06-.94 2.06-2.06.94z\"/><path d=\"M17.41 7.96l-1.37-1.37c-.4-.4-.92-.59-1.43-.59-.52 0-1.04.2-1.43.59L10.3 9.45l-7.72 7.72c-.78.78-.78 2.05 0 2.83L4 21.41c.39.39.9.59 1.41.59.51 0 1.02-.2 1.41-.59l7.78-7.78 2.81-2.81c.8-.78.8-2.07 0-2.86zM5.41 20L4 18.59l7.72-7.72 1.47 1.35L5.41 20z\"/>\n",
       "  </svg>\n",
       "      </button>\n",
       "      \n",
       "  <style>\n",
       "    .colab-df-container {\n",
       "      display:flex;\n",
       "      flex-wrap:wrap;\n",
       "      gap: 12px;\n",
       "    }\n",
       "\n",
       "    .colab-df-convert {\n",
       "      background-color: #E8F0FE;\n",
       "      border: none;\n",
       "      border-radius: 50%;\n",
       "      cursor: pointer;\n",
       "      display: none;\n",
       "      fill: #1967D2;\n",
       "      height: 32px;\n",
       "      padding: 0 0 0 0;\n",
       "      width: 32px;\n",
       "    }\n",
       "\n",
       "    .colab-df-convert:hover {\n",
       "      background-color: #E2EBFA;\n",
       "      box-shadow: 0px 1px 2px rgba(60, 64, 67, 0.3), 0px 1px 3px 1px rgba(60, 64, 67, 0.15);\n",
       "      fill: #174EA6;\n",
       "    }\n",
       "\n",
       "    [theme=dark] .colab-df-convert {\n",
       "      background-color: #3B4455;\n",
       "      fill: #D2E3FC;\n",
       "    }\n",
       "\n",
       "    [theme=dark] .colab-df-convert:hover {\n",
       "      background-color: #434B5C;\n",
       "      box-shadow: 0px 1px 3px 1px rgba(0, 0, 0, 0.15);\n",
       "      filter: drop-shadow(0px 1px 2px rgba(0, 0, 0, 0.3));\n",
       "      fill: #FFFFFF;\n",
       "    }\n",
       "  </style>\n",
       "\n",
       "      <script>\n",
       "        const buttonEl =\n",
       "          document.querySelector('#df-07f88183-76f2-48e1-83cf-41a2bea06139 button.colab-df-convert');\n",
       "        buttonEl.style.display =\n",
       "          google.colab.kernel.accessAllowed ? 'block' : 'none';\n",
       "\n",
       "        async function convertToInteractive(key) {\n",
       "          const element = document.querySelector('#df-07f88183-76f2-48e1-83cf-41a2bea06139');\n",
       "          const dataTable =\n",
       "            await google.colab.kernel.invokeFunction('convertToInteractive',\n",
       "                                                     [key], {});\n",
       "          if (!dataTable) return;\n",
       "\n",
       "          const docLinkHtml = 'Like what you see? Visit the ' +\n",
       "            '<a target=\"_blank\" href=https://colab.research.google.com/notebooks/data_table.ipynb>data table notebook</a>'\n",
       "            + ' to learn more about interactive tables.';\n",
       "          element.innerHTML = '';\n",
       "          dataTable['output_type'] = 'display_data';\n",
       "          await google.colab.output.renderOutput(dataTable, element);\n",
       "          const docLink = document.createElement('div');\n",
       "          docLink.innerHTML = docLinkHtml;\n",
       "          element.appendChild(docLink);\n",
       "        }\n",
       "      </script>\n",
       "    </div>\n",
       "  </div>\n",
       "  "
      ],
      "text/plain": [
       "   purchased  customer_id_idx  article_id_idx  \\\n",
       "0          0             8789           12585   \n",
       "1          0             1892           46383   \n",
       "2          0             6818           73050   \n",
       "3          0             5935           66108   \n",
       "4          0             6136           61632   \n",
       "\n",
       "                                         customer_id   FN  Active  \\\n",
       "0  9165937ca0e3520ebe0533ffd6bb41eb5f3d2d61d04338...  0.0     0.0   \n",
       "1  c57b05d88861137cb87f02719a38968ec5a4b7e6c970bf...  1.0     1.0   \n",
       "2  804895ebec804fab7bc7d8b96a2a74e00e0af79759b119...  0.0     0.0   \n",
       "3  b6f4078b1474d782c8316694af3afdd64041209f6114ac...  1.0     1.0   \n",
       "4  e60e66e755cda27055e3e22328012d6c0ab7b28b18f7ec...  0.0     0.0   \n",
       "\n",
       "   club_member_status  fashion_news_frequency   age  postal_code  \n",
       "0                   0                       0  30.0       293202  \n",
       "1                   0                       1  21.0        83211  \n",
       "2                   0                       0  23.0        17012  \n",
       "3                   0                       1  49.0       319383  \n",
       "4                   0                       0  20.0        28596  "
      ]
     },
     "execution_count": 293,
     "metadata": {},
     "output_type": "execute_result"
    }
   ],
   "source": [
    "train_set.head()"
   ]
  },
  {
   "cell_type": "code",
   "execution_count": 294,
   "id": "d144c100",
   "metadata": {
    "colab": {
     "base_uri": "https://localhost:8080/",
     "height": 206
    },
    "executionInfo": {
     "elapsed": 13,
     "status": "ok",
     "timestamp": 1651426021809,
     "user": {
      "displayName": "Steven George",
      "userId": "07709250839253394649"
     },
     "user_tz": -60
    },
    "id": "-Yw9iPZV0taZ",
    "outputId": "c94cb9a1-4f96-4bfe-8899-0ddacbbf6aaa"
   },
   "outputs": [
    {
     "data": {
      "text/html": [
       "\n",
       "  <div id=\"df-e2cfc688-5e59-47c3-a7e3-84e4da2cd7fa\">\n",
       "    <div class=\"colab-df-container\">\n",
       "      <div>\n",
       "<style scoped>\n",
       "    .dataframe tbody tr th:only-of-type {\n",
       "        vertical-align: middle;\n",
       "    }\n",
       "\n",
       "    .dataframe tbody tr th {\n",
       "        vertical-align: top;\n",
       "    }\n",
       "\n",
       "    .dataframe thead th {\n",
       "        text-align: right;\n",
       "    }\n",
       "</style>\n",
       "<table border=\"1\" class=\"dataframe\">\n",
       "  <thead>\n",
       "    <tr style=\"text-align: right;\">\n",
       "      <th></th>\n",
       "      <th>customer_id_idx</th>\n",
       "    </tr>\n",
       "  </thead>\n",
       "  <tbody>\n",
       "    <tr>\n",
       "      <th>0</th>\n",
       "      <td>0</td>\n",
       "    </tr>\n",
       "    <tr>\n",
       "      <th>1</th>\n",
       "      <td>1</td>\n",
       "    </tr>\n",
       "    <tr>\n",
       "      <th>2</th>\n",
       "      <td>4987</td>\n",
       "    </tr>\n",
       "    <tr>\n",
       "      <th>3</th>\n",
       "      <td>1071</td>\n",
       "    </tr>\n",
       "    <tr>\n",
       "      <th>4</th>\n",
       "      <td>6281</td>\n",
       "    </tr>\n",
       "  </tbody>\n",
       "</table>\n",
       "</div>\n",
       "      <button class=\"colab-df-convert\" onclick=\"convertToInteractive('df-e2cfc688-5e59-47c3-a7e3-84e4da2cd7fa')\"\n",
       "              title=\"Convert this dataframe to an interactive table.\"\n",
       "              style=\"display:none;\">\n",
       "        \n",
       "  <svg xmlns=\"http://www.w3.org/2000/svg\" height=\"24px\"viewBox=\"0 0 24 24\"\n",
       "       width=\"24px\">\n",
       "    <path d=\"M0 0h24v24H0V0z\" fill=\"none\"/>\n",
       "    <path d=\"M18.56 5.44l.94 2.06.94-2.06 2.06-.94-2.06-.94-.94-2.06-.94 2.06-2.06.94zm-11 1L8.5 8.5l.94-2.06 2.06-.94-2.06-.94L8.5 2.5l-.94 2.06-2.06.94zm10 10l.94 2.06.94-2.06 2.06-.94-2.06-.94-.94-2.06-.94 2.06-2.06.94z\"/><path d=\"M17.41 7.96l-1.37-1.37c-.4-.4-.92-.59-1.43-.59-.52 0-1.04.2-1.43.59L10.3 9.45l-7.72 7.72c-.78.78-.78 2.05 0 2.83L4 21.41c.39.39.9.59 1.41.59.51 0 1.02-.2 1.41-.59l7.78-7.78 2.81-2.81c.8-.78.8-2.07 0-2.86zM5.41 20L4 18.59l7.72-7.72 1.47 1.35L5.41 20z\"/>\n",
       "  </svg>\n",
       "      </button>\n",
       "      \n",
       "  <style>\n",
       "    .colab-df-container {\n",
       "      display:flex;\n",
       "      flex-wrap:wrap;\n",
       "      gap: 12px;\n",
       "    }\n",
       "\n",
       "    .colab-df-convert {\n",
       "      background-color: #E8F0FE;\n",
       "      border: none;\n",
       "      border-radius: 50%;\n",
       "      cursor: pointer;\n",
       "      display: none;\n",
       "      fill: #1967D2;\n",
       "      height: 32px;\n",
       "      padding: 0 0 0 0;\n",
       "      width: 32px;\n",
       "    }\n",
       "\n",
       "    .colab-df-convert:hover {\n",
       "      background-color: #E2EBFA;\n",
       "      box-shadow: 0px 1px 2px rgba(60, 64, 67, 0.3), 0px 1px 3px 1px rgba(60, 64, 67, 0.15);\n",
       "      fill: #174EA6;\n",
       "    }\n",
       "\n",
       "    [theme=dark] .colab-df-convert {\n",
       "      background-color: #3B4455;\n",
       "      fill: #D2E3FC;\n",
       "    }\n",
       "\n",
       "    [theme=dark] .colab-df-convert:hover {\n",
       "      background-color: #434B5C;\n",
       "      box-shadow: 0px 1px 3px 1px rgba(0, 0, 0, 0.15);\n",
       "      filter: drop-shadow(0px 1px 2px rgba(0, 0, 0, 0.3));\n",
       "      fill: #FFFFFF;\n",
       "    }\n",
       "  </style>\n",
       "\n",
       "      <script>\n",
       "        const buttonEl =\n",
       "          document.querySelector('#df-e2cfc688-5e59-47c3-a7e3-84e4da2cd7fa button.colab-df-convert');\n",
       "        buttonEl.style.display =\n",
       "          google.colab.kernel.accessAllowed ? 'block' : 'none';\n",
       "\n",
       "        async function convertToInteractive(key) {\n",
       "          const element = document.querySelector('#df-e2cfc688-5e59-47c3-a7e3-84e4da2cd7fa');\n",
       "          const dataTable =\n",
       "            await google.colab.kernel.invokeFunction('convertToInteractive',\n",
       "                                                     [key], {});\n",
       "          if (!dataTable) return;\n",
       "\n",
       "          const docLinkHtml = 'Like what you see? Visit the ' +\n",
       "            '<a target=\"_blank\" href=https://colab.research.google.com/notebooks/data_table.ipynb>data table notebook</a>'\n",
       "            + ' to learn more about interactive tables.';\n",
       "          element.innerHTML = '';\n",
       "          dataTable['output_type'] = 'display_data';\n",
       "          await google.colab.output.renderOutput(dataTable, element);\n",
       "          const docLink = document.createElement('div');\n",
       "          docLink.innerHTML = docLinkHtml;\n",
       "          element.appendChild(docLink);\n",
       "        }\n",
       "      </script>\n",
       "    </div>\n",
       "  </div>\n",
       "  "
      ],
      "text/plain": [
       "   customer_id_idx\n",
       "0                0\n",
       "1                1\n",
       "2             4987\n",
       "3             1071\n",
       "4             6281"
      ]
     },
     "execution_count": 294,
     "metadata": {},
     "output_type": "execute_result"
    }
   ],
   "source": [
    "test_data = test_set_by_customer.copy()[['customer_id']]\n",
    "test_data['customer_id_idx'] = test_data['customer_id'].map(customer_id_to_idx)\n",
    "test_data.drop(columns='customer_id', inplace=True)\n",
    "test_data.head()"
   ]
  },
  {
   "cell_type": "code",
   "execution_count": 295,
   "id": "071bf41e",
   "metadata": {
    "executionInfo": {
     "elapsed": 13,
     "status": "ok",
     "timestamp": 1651426021810,
     "user": {
      "displayName": "Steven George",
      "userId": "07709250839253394649"
     },
     "user_tz": -60
    },
    "id": "9GZtGBad0xh0"
   },
   "outputs": [],
   "source": [
    "test_data['join_key'] = 1"
   ]
  },
  {
   "cell_type": "code",
   "execution_count": 296,
   "id": "a7a484a5",
   "metadata": {
    "colab": {
     "base_uri": "https://localhost:8080/",
     "height": 206
    },
    "executionInfo": {
     "elapsed": 13,
     "status": "ok",
     "timestamp": 1651426021810,
     "user": {
      "displayName": "Steven George",
      "userId": "07709250839253394649"
     },
     "user_tz": -60
    },
    "id": "JtaJ162J0zwC",
    "outputId": "c94f2db2-d9ec-43bd-9b7d-80d16ede5d7a"
   },
   "outputs": [
    {
     "data": {
      "text/html": [
       "\n",
       "  <div id=\"df-35b59f9f-96cb-4df8-9edd-c3ff9bb64057\">\n",
       "    <div class=\"colab-df-container\">\n",
       "      <div>\n",
       "<style scoped>\n",
       "    .dataframe tbody tr th:only-of-type {\n",
       "        vertical-align: middle;\n",
       "    }\n",
       "\n",
       "    .dataframe tbody tr th {\n",
       "        vertical-align: top;\n",
       "    }\n",
       "\n",
       "    .dataframe thead th {\n",
       "        text-align: right;\n",
       "    }\n",
       "</style>\n",
       "<table border=\"1\" class=\"dataframe\">\n",
       "  <thead>\n",
       "    <tr style=\"text-align: right;\">\n",
       "      <th></th>\n",
       "      <th>article_id_idx</th>\n",
       "      <th>join_key</th>\n",
       "    </tr>\n",
       "  </thead>\n",
       "  <tbody>\n",
       "    <tr>\n",
       "      <th>0</th>\n",
       "      <td>53892</td>\n",
       "      <td>1</td>\n",
       "    </tr>\n",
       "    <tr>\n",
       "      <th>1</th>\n",
       "      <td>53893</td>\n",
       "      <td>1</td>\n",
       "    </tr>\n",
       "    <tr>\n",
       "      <th>2</th>\n",
       "      <td>1713</td>\n",
       "      <td>1</td>\n",
       "    </tr>\n",
       "    <tr>\n",
       "      <th>3</th>\n",
       "      <td>24837</td>\n",
       "      <td>1</td>\n",
       "    </tr>\n",
       "    <tr>\n",
       "      <th>4</th>\n",
       "      <td>70221</td>\n",
       "      <td>1</td>\n",
       "    </tr>\n",
       "  </tbody>\n",
       "</table>\n",
       "</div>\n",
       "      <button class=\"colab-df-convert\" onclick=\"convertToInteractive('df-35b59f9f-96cb-4df8-9edd-c3ff9bb64057')\"\n",
       "              title=\"Convert this dataframe to an interactive table.\"\n",
       "              style=\"display:none;\">\n",
       "        \n",
       "  <svg xmlns=\"http://www.w3.org/2000/svg\" height=\"24px\"viewBox=\"0 0 24 24\"\n",
       "       width=\"24px\">\n",
       "    <path d=\"M0 0h24v24H0V0z\" fill=\"none\"/>\n",
       "    <path d=\"M18.56 5.44l.94 2.06.94-2.06 2.06-.94-2.06-.94-.94-2.06-.94 2.06-2.06.94zm-11 1L8.5 8.5l.94-2.06 2.06-.94-2.06-.94L8.5 2.5l-.94 2.06-2.06.94zm10 10l.94 2.06.94-2.06 2.06-.94-2.06-.94-.94-2.06-.94 2.06-2.06.94z\"/><path d=\"M17.41 7.96l-1.37-1.37c-.4-.4-.92-.59-1.43-.59-.52 0-1.04.2-1.43.59L10.3 9.45l-7.72 7.72c-.78.78-.78 2.05 0 2.83L4 21.41c.39.39.9.59 1.41.59.51 0 1.02-.2 1.41-.59l7.78-7.78 2.81-2.81c.8-.78.8-2.07 0-2.86zM5.41 20L4 18.59l7.72-7.72 1.47 1.35L5.41 20z\"/>\n",
       "  </svg>\n",
       "      </button>\n",
       "      \n",
       "  <style>\n",
       "    .colab-df-container {\n",
       "      display:flex;\n",
       "      flex-wrap:wrap;\n",
       "      gap: 12px;\n",
       "    }\n",
       "\n",
       "    .colab-df-convert {\n",
       "      background-color: #E8F0FE;\n",
       "      border: none;\n",
       "      border-radius: 50%;\n",
       "      cursor: pointer;\n",
       "      display: none;\n",
       "      fill: #1967D2;\n",
       "      height: 32px;\n",
       "      padding: 0 0 0 0;\n",
       "      width: 32px;\n",
       "    }\n",
       "\n",
       "    .colab-df-convert:hover {\n",
       "      background-color: #E2EBFA;\n",
       "      box-shadow: 0px 1px 2px rgba(60, 64, 67, 0.3), 0px 1px 3px 1px rgba(60, 64, 67, 0.15);\n",
       "      fill: #174EA6;\n",
       "    }\n",
       "\n",
       "    [theme=dark] .colab-df-convert {\n",
       "      background-color: #3B4455;\n",
       "      fill: #D2E3FC;\n",
       "    }\n",
       "\n",
       "    [theme=dark] .colab-df-convert:hover {\n",
       "      background-color: #434B5C;\n",
       "      box-shadow: 0px 1px 3px 1px rgba(0, 0, 0, 0.15);\n",
       "      filter: drop-shadow(0px 1px 2px rgba(0, 0, 0, 0.3));\n",
       "      fill: #FFFFFF;\n",
       "    }\n",
       "  </style>\n",
       "\n",
       "      <script>\n",
       "        const buttonEl =\n",
       "          document.querySelector('#df-35b59f9f-96cb-4df8-9edd-c3ff9bb64057 button.colab-df-convert');\n",
       "        buttonEl.style.display =\n",
       "          google.colab.kernel.accessAllowed ? 'block' : 'none';\n",
       "\n",
       "        async function convertToInteractive(key) {\n",
       "          const element = document.querySelector('#df-35b59f9f-96cb-4df8-9edd-c3ff9bb64057');\n",
       "          const dataTable =\n",
       "            await google.colab.kernel.invokeFunction('convertToInteractive',\n",
       "                                                     [key], {});\n",
       "          if (!dataTable) return;\n",
       "\n",
       "          const docLinkHtml = 'Like what you see? Visit the ' +\n",
       "            '<a target=\"_blank\" href=https://colab.research.google.com/notebooks/data_table.ipynb>data table notebook</a>'\n",
       "            + ' to learn more about interactive tables.';\n",
       "          element.innerHTML = '';\n",
       "          dataTable['output_type'] = 'display_data';\n",
       "          await google.colab.output.renderOutput(dataTable, element);\n",
       "          const docLink = document.createElement('div');\n",
       "          docLink.innerHTML = docLinkHtml;\n",
       "          element.appendChild(docLink);\n",
       "        }\n",
       "      </script>\n",
       "    </div>\n",
       "  </div>\n",
       "  "
      ],
      "text/plain": [
       "   article_id_idx  join_key\n",
       "0           53892         1\n",
       "1           53893         1\n",
       "2            1713         1\n",
       "3           24837         1\n",
       "4           70221         1"
      ]
     },
     "execution_count": 296,
     "metadata": {},
     "output_type": "execute_result"
    }
   ],
   "source": [
    "top1000_items_df = pd.DataFrame({'article_id': top_1000})\n",
    "top1000_items_df['article_id_idx'] = top1000_items_df['article_id'].map(article_id_to_idx)\n",
    "top1000_items_df.drop(columns=['article_id'], inplace=True)\n",
    "top1000_items_df['join_key'] = 1\n",
    "top1000_items_df.head()"
   ]
  },
  {
   "cell_type": "code",
   "execution_count": 297,
   "id": "70be770a",
   "metadata": {
    "colab": {
     "base_uri": "https://localhost:8080/",
     "height": 206
    },
    "executionInfo": {
     "elapsed": 516,
     "status": "ok",
     "timestamp": 1651426022314,
     "user": {
      "displayName": "Steven George",
      "userId": "07709250839253394649"
     },
     "user_tz": -60
    },
    "id": "tPphvDBR1KPL",
    "outputId": "e414674e-b0f2-442f-93c3-c21fa1d82266"
   },
   "outputs": [
    {
     "data": {
      "text/html": [
       "\n",
       "  <div id=\"df-a032ef23-1a9c-421c-9570-c3391ba06f34\">\n",
       "    <div class=\"colab-df-container\">\n",
       "      <div>\n",
       "<style scoped>\n",
       "    .dataframe tbody tr th:only-of-type {\n",
       "        vertical-align: middle;\n",
       "    }\n",
       "\n",
       "    .dataframe tbody tr th {\n",
       "        vertical-align: top;\n",
       "    }\n",
       "\n",
       "    .dataframe thead th {\n",
       "        text-align: right;\n",
       "    }\n",
       "</style>\n",
       "<table border=\"1\" class=\"dataframe\">\n",
       "  <thead>\n",
       "    <tr style=\"text-align: right;\">\n",
       "      <th></th>\n",
       "      <th>customer_id_idx</th>\n",
       "      <th>article_id_idx</th>\n",
       "    </tr>\n",
       "  </thead>\n",
       "  <tbody>\n",
       "    <tr>\n",
       "      <th>0</th>\n",
       "      <td>0</td>\n",
       "      <td>53892</td>\n",
       "    </tr>\n",
       "    <tr>\n",
       "      <th>1</th>\n",
       "      <td>0</td>\n",
       "      <td>53893</td>\n",
       "    </tr>\n",
       "    <tr>\n",
       "      <th>2</th>\n",
       "      <td>0</td>\n",
       "      <td>1713</td>\n",
       "    </tr>\n",
       "    <tr>\n",
       "      <th>3</th>\n",
       "      <td>0</td>\n",
       "      <td>24837</td>\n",
       "    </tr>\n",
       "    <tr>\n",
       "      <th>4</th>\n",
       "      <td>0</td>\n",
       "      <td>70221</td>\n",
       "    </tr>\n",
       "  </tbody>\n",
       "</table>\n",
       "</div>\n",
       "      <button class=\"colab-df-convert\" onclick=\"convertToInteractive('df-a032ef23-1a9c-421c-9570-c3391ba06f34')\"\n",
       "              title=\"Convert this dataframe to an interactive table.\"\n",
       "              style=\"display:none;\">\n",
       "        \n",
       "  <svg xmlns=\"http://www.w3.org/2000/svg\" height=\"24px\"viewBox=\"0 0 24 24\"\n",
       "       width=\"24px\">\n",
       "    <path d=\"M0 0h24v24H0V0z\" fill=\"none\"/>\n",
       "    <path d=\"M18.56 5.44l.94 2.06.94-2.06 2.06-.94-2.06-.94-.94-2.06-.94 2.06-2.06.94zm-11 1L8.5 8.5l.94-2.06 2.06-.94-2.06-.94L8.5 2.5l-.94 2.06-2.06.94zm10 10l.94 2.06.94-2.06 2.06-.94-2.06-.94-.94-2.06-.94 2.06-2.06.94z\"/><path d=\"M17.41 7.96l-1.37-1.37c-.4-.4-.92-.59-1.43-.59-.52 0-1.04.2-1.43.59L10.3 9.45l-7.72 7.72c-.78.78-.78 2.05 0 2.83L4 21.41c.39.39.9.59 1.41.59.51 0 1.02-.2 1.41-.59l7.78-7.78 2.81-2.81c.8-.78.8-2.07 0-2.86zM5.41 20L4 18.59l7.72-7.72 1.47 1.35L5.41 20z\"/>\n",
       "  </svg>\n",
       "      </button>\n",
       "      \n",
       "  <style>\n",
       "    .colab-df-container {\n",
       "      display:flex;\n",
       "      flex-wrap:wrap;\n",
       "      gap: 12px;\n",
       "    }\n",
       "\n",
       "    .colab-df-convert {\n",
       "      background-color: #E8F0FE;\n",
       "      border: none;\n",
       "      border-radius: 50%;\n",
       "      cursor: pointer;\n",
       "      display: none;\n",
       "      fill: #1967D2;\n",
       "      height: 32px;\n",
       "      padding: 0 0 0 0;\n",
       "      width: 32px;\n",
       "    }\n",
       "\n",
       "    .colab-df-convert:hover {\n",
       "      background-color: #E2EBFA;\n",
       "      box-shadow: 0px 1px 2px rgba(60, 64, 67, 0.3), 0px 1px 3px 1px rgba(60, 64, 67, 0.15);\n",
       "      fill: #174EA6;\n",
       "    }\n",
       "\n",
       "    [theme=dark] .colab-df-convert {\n",
       "      background-color: #3B4455;\n",
       "      fill: #D2E3FC;\n",
       "    }\n",
       "\n",
       "    [theme=dark] .colab-df-convert:hover {\n",
       "      background-color: #434B5C;\n",
       "      box-shadow: 0px 1px 3px 1px rgba(0, 0, 0, 0.15);\n",
       "      filter: drop-shadow(0px 1px 2px rgba(0, 0, 0, 0.3));\n",
       "      fill: #FFFFFF;\n",
       "    }\n",
       "  </style>\n",
       "\n",
       "      <script>\n",
       "        const buttonEl =\n",
       "          document.querySelector('#df-a032ef23-1a9c-421c-9570-c3391ba06f34 button.colab-df-convert');\n",
       "        buttonEl.style.display =\n",
       "          google.colab.kernel.accessAllowed ? 'block' : 'none';\n",
       "\n",
       "        async function convertToInteractive(key) {\n",
       "          const element = document.querySelector('#df-a032ef23-1a9c-421c-9570-c3391ba06f34');\n",
       "          const dataTable =\n",
       "            await google.colab.kernel.invokeFunction('convertToInteractive',\n",
       "                                                     [key], {});\n",
       "          if (!dataTable) return;\n",
       "\n",
       "          const docLinkHtml = 'Like what you see? Visit the ' +\n",
       "            '<a target=\"_blank\" href=https://colab.research.google.com/notebooks/data_table.ipynb>data table notebook</a>'\n",
       "            + ' to learn more about interactive tables.';\n",
       "          element.innerHTML = '';\n",
       "          dataTable['output_type'] = 'display_data';\n",
       "          await google.colab.output.renderOutput(dataTable, element);\n",
       "          const docLink = document.createElement('div');\n",
       "          docLink.innerHTML = docLinkHtml;\n",
       "          element.appendChild(docLink);\n",
       "        }\n",
       "      </script>\n",
       "    </div>\n",
       "  </div>\n",
       "  "
      ],
      "text/plain": [
       "   customer_id_idx  article_id_idx\n",
       "0                0           53892\n",
       "1                0           53893\n",
       "2                0            1713\n",
       "3                0           24837\n",
       "4                0           70221"
      ]
     },
     "execution_count": 297,
     "metadata": {},
     "output_type": "execute_result"
    }
   ],
   "source": [
    "test_data = test_data.merge(top1000_items_df, on='join_key').drop('join_key', axis=1)\n",
    "\n",
    "test_data.head()"
   ]
  },
  {
   "cell_type": "code",
   "execution_count": 298,
   "id": "e4096289",
   "metadata": {
    "colab": {
     "base_uri": "https://localhost:8080/"
    },
    "executionInfo": {
     "elapsed": 8,
     "status": "ok",
     "timestamp": 1651426022315,
     "user": {
      "displayName": "Steven George",
      "userId": "07709250839253394649"
     },
     "user_tz": -60
    },
    "id": "TuJhguQJ1RDv",
    "outputId": "612d8aab-d07a-48da-85d9-e06bb20316d8"
   },
   "outputs": [
    {
     "data": {
      "text/plain": [
       "(9208000, 2)"
      ]
     },
     "execution_count": 298,
     "metadata": {},
     "output_type": "execute_result"
    }
   ],
   "source": [
    "test_data.shape"
   ]
  },
  {
   "cell_type": "code",
   "execution_count": 299,
   "id": "de91ff8c",
   "metadata": {
    "colab": {
     "base_uri": "https://localhost:8080/",
     "height": 224
    },
    "executionInfo": {
     "elapsed": 1839,
     "status": "ok",
     "timestamp": 1651426024150,
     "user": {
      "displayName": "Steven George",
      "userId": "07709250839253394649"
     },
     "user_tz": -60
    },
    "id": "4tUTBaFB1Xtc",
    "outputId": "eb03a84b-06ae-4b40-e371-ed3310a4344d"
   },
   "outputs": [
    {
     "name": "stdout",
     "output_type": "stream",
     "text": [
      "(9208000, 8)\n"
     ]
    },
    {
     "data": {
      "text/html": [
       "\n",
       "  <div id=\"df-01f95a18-9363-4319-b3fa-06763b2c63d9\">\n",
       "    <div class=\"colab-df-container\">\n",
       "      <div>\n",
       "<style scoped>\n",
       "    .dataframe tbody tr th:only-of-type {\n",
       "        vertical-align: middle;\n",
       "    }\n",
       "\n",
       "    .dataframe tbody tr th {\n",
       "        vertical-align: top;\n",
       "    }\n",
       "\n",
       "    .dataframe thead th {\n",
       "        text-align: right;\n",
       "    }\n",
       "</style>\n",
       "<table border=\"1\" class=\"dataframe\">\n",
       "  <thead>\n",
       "    <tr style=\"text-align: right;\">\n",
       "      <th></th>\n",
       "      <th>customer_id_idx</th>\n",
       "      <th>article_id_idx</th>\n",
       "      <th>FN</th>\n",
       "      <th>Active</th>\n",
       "      <th>club_member_status</th>\n",
       "      <th>fashion_news_frequency</th>\n",
       "      <th>age</th>\n",
       "      <th>postal_code</th>\n",
       "    </tr>\n",
       "  </thead>\n",
       "  <tbody>\n",
       "    <tr>\n",
       "      <th>0</th>\n",
       "      <td>0</td>\n",
       "      <td>53892</td>\n",
       "      <td>0.0</td>\n",
       "      <td>0.0</td>\n",
       "      <td>0</td>\n",
       "      <td>0</td>\n",
       "      <td>24.0</td>\n",
       "      <td>2</td>\n",
       "    </tr>\n",
       "    <tr>\n",
       "      <th>1</th>\n",
       "      <td>0</td>\n",
       "      <td>53893</td>\n",
       "      <td>0.0</td>\n",
       "      <td>0.0</td>\n",
       "      <td>0</td>\n",
       "      <td>0</td>\n",
       "      <td>24.0</td>\n",
       "      <td>2</td>\n",
       "    </tr>\n",
       "    <tr>\n",
       "      <th>2</th>\n",
       "      <td>0</td>\n",
       "      <td>1713</td>\n",
       "      <td>0.0</td>\n",
       "      <td>0.0</td>\n",
       "      <td>0</td>\n",
       "      <td>0</td>\n",
       "      <td>24.0</td>\n",
       "      <td>2</td>\n",
       "    </tr>\n",
       "    <tr>\n",
       "      <th>3</th>\n",
       "      <td>0</td>\n",
       "      <td>24837</td>\n",
       "      <td>0.0</td>\n",
       "      <td>0.0</td>\n",
       "      <td>0</td>\n",
       "      <td>0</td>\n",
       "      <td>24.0</td>\n",
       "      <td>2</td>\n",
       "    </tr>\n",
       "    <tr>\n",
       "      <th>4</th>\n",
       "      <td>0</td>\n",
       "      <td>70221</td>\n",
       "      <td>0.0</td>\n",
       "      <td>0.0</td>\n",
       "      <td>0</td>\n",
       "      <td>0</td>\n",
       "      <td>24.0</td>\n",
       "      <td>2</td>\n",
       "    </tr>\n",
       "  </tbody>\n",
       "</table>\n",
       "</div>\n",
       "      <button class=\"colab-df-convert\" onclick=\"convertToInteractive('df-01f95a18-9363-4319-b3fa-06763b2c63d9')\"\n",
       "              title=\"Convert this dataframe to an interactive table.\"\n",
       "              style=\"display:none;\">\n",
       "        \n",
       "  <svg xmlns=\"http://www.w3.org/2000/svg\" height=\"24px\"viewBox=\"0 0 24 24\"\n",
       "       width=\"24px\">\n",
       "    <path d=\"M0 0h24v24H0V0z\" fill=\"none\"/>\n",
       "    <path d=\"M18.56 5.44l.94 2.06.94-2.06 2.06-.94-2.06-.94-.94-2.06-.94 2.06-2.06.94zm-11 1L8.5 8.5l.94-2.06 2.06-.94-2.06-.94L8.5 2.5l-.94 2.06-2.06.94zm10 10l.94 2.06.94-2.06 2.06-.94-2.06-.94-.94-2.06-.94 2.06-2.06.94z\"/><path d=\"M17.41 7.96l-1.37-1.37c-.4-.4-.92-.59-1.43-.59-.52 0-1.04.2-1.43.59L10.3 9.45l-7.72 7.72c-.78.78-.78 2.05 0 2.83L4 21.41c.39.39.9.59 1.41.59.51 0 1.02-.2 1.41-.59l7.78-7.78 2.81-2.81c.8-.78.8-2.07 0-2.86zM5.41 20L4 18.59l7.72-7.72 1.47 1.35L5.41 20z\"/>\n",
       "  </svg>\n",
       "      </button>\n",
       "      \n",
       "  <style>\n",
       "    .colab-df-container {\n",
       "      display:flex;\n",
       "      flex-wrap:wrap;\n",
       "      gap: 12px;\n",
       "    }\n",
       "\n",
       "    .colab-df-convert {\n",
       "      background-color: #E8F0FE;\n",
       "      border: none;\n",
       "      border-radius: 50%;\n",
       "      cursor: pointer;\n",
       "      display: none;\n",
       "      fill: #1967D2;\n",
       "      height: 32px;\n",
       "      padding: 0 0 0 0;\n",
       "      width: 32px;\n",
       "    }\n",
       "\n",
       "    .colab-df-convert:hover {\n",
       "      background-color: #E2EBFA;\n",
       "      box-shadow: 0px 1px 2px rgba(60, 64, 67, 0.3), 0px 1px 3px 1px rgba(60, 64, 67, 0.15);\n",
       "      fill: #174EA6;\n",
       "    }\n",
       "\n",
       "    [theme=dark] .colab-df-convert {\n",
       "      background-color: #3B4455;\n",
       "      fill: #D2E3FC;\n",
       "    }\n",
       "\n",
       "    [theme=dark] .colab-df-convert:hover {\n",
       "      background-color: #434B5C;\n",
       "      box-shadow: 0px 1px 3px 1px rgba(0, 0, 0, 0.15);\n",
       "      filter: drop-shadow(0px 1px 2px rgba(0, 0, 0, 0.3));\n",
       "      fill: #FFFFFF;\n",
       "    }\n",
       "  </style>\n",
       "\n",
       "      <script>\n",
       "        const buttonEl =\n",
       "          document.querySelector('#df-01f95a18-9363-4319-b3fa-06763b2c63d9 button.colab-df-convert');\n",
       "        buttonEl.style.display =\n",
       "          google.colab.kernel.accessAllowed ? 'block' : 'none';\n",
       "\n",
       "        async function convertToInteractive(key) {\n",
       "          const element = document.querySelector('#df-01f95a18-9363-4319-b3fa-06763b2c63d9');\n",
       "          const dataTable =\n",
       "            await google.colab.kernel.invokeFunction('convertToInteractive',\n",
       "                                                     [key], {});\n",
       "          if (!dataTable) return;\n",
       "\n",
       "          const docLinkHtml = 'Like what you see? Visit the ' +\n",
       "            '<a target=\"_blank\" href=https://colab.research.google.com/notebooks/data_table.ipynb>data table notebook</a>'\n",
       "            + ' to learn more about interactive tables.';\n",
       "          element.innerHTML = '';\n",
       "          dataTable['output_type'] = 'display_data';\n",
       "          await google.colab.output.renderOutput(dataTable, element);\n",
       "          const docLink = document.createElement('div');\n",
       "          docLink.innerHTML = docLinkHtml;\n",
       "          element.appendChild(docLink);\n",
       "        }\n",
       "      </script>\n",
       "    </div>\n",
       "  </div>\n",
       "  "
      ],
      "text/plain": [
       "   customer_id_idx  article_id_idx   FN  Active  club_member_status  \\\n",
       "0                0           53892  0.0     0.0                   0   \n",
       "1                0           53893  0.0     0.0                   0   \n",
       "2                0            1713  0.0     0.0                   0   \n",
       "3                0           24837  0.0     0.0                   0   \n",
       "4                0           70221  0.0     0.0                   0   \n",
       "\n",
       "   fashion_news_frequency   age  postal_code  \n",
       "0                       0  24.0            2  \n",
       "1                       0  24.0            2  \n",
       "2                       0  24.0            2  \n",
       "3                       0  24.0            2  \n",
       "4                       0  24.0            2  "
      ]
     },
     "execution_count": 299,
     "metadata": {},
     "output_type": "execute_result"
    }
   ],
   "source": [
    "# test_data = test_data.merge(articles_df[['article_id_idx'] + CATEGORICAL_FEATURES], on=['article_id_idx'])\n",
    "\n",
    "test_data = test_data.merge(\n",
    "    customers.drop(columns='customer_id'),\n",
    "    on='customer_id_idx'\n",
    ")\n",
    "\n",
    "print(test_data.shape)\n",
    "\n",
    "test_data.head()"
   ]
  },
  {
   "cell_type": "code",
   "execution_count": 300,
   "id": "80672995",
   "metadata": {
    "executionInfo": {
     "elapsed": 6,
     "status": "ok",
     "timestamp": 1651426024151,
     "user": {
      "displayName": "Steven George",
      "userId": "07709250839253394649"
     },
     "user_tz": -60
    },
    "id": "8GlweU6l15C7"
   },
   "outputs": [],
   "source": [
    "test_data['purchased'] = 999"
   ]
  },
  {
   "cell_type": "code",
   "execution_count": 301,
   "id": "d830ccbb",
   "metadata": {
    "executionInfo": {
     "elapsed": 430,
     "status": "ok",
     "timestamp": 1651426024575,
     "user": {
      "displayName": "Steven George",
      "userId": "07709250839253394649"
     },
     "user_tz": -60
    },
    "id": "WjYqn6xd1xiz"
   },
   "outputs": [],
   "source": [
    "test_dataset = PurchasesDatasetWithArticleFeatures(test_data)\n",
    "\n",
    "test_loader = DataLoader(test_dataset, batch_size=BATCH_SIZE*4)  "
   ]
  },
  {
   "cell_type": "code",
   "execution_count": 302,
   "id": "ed93fe4e",
   "metadata": {
    "colab": {
     "base_uri": "https://localhost:8080/"
    },
    "executionInfo": {
     "elapsed": 62138,
     "status": "ok",
     "timestamp": 1651426086709,
     "user": {
      "displayName": "Steven George",
      "userId": "07709250839253394649"
     },
     "user_tz": -60
    },
    "id": "vhoe15N913E0",
    "outputId": "8eb2f528-acef-47a0-f681-e56c275b9a50"
   },
   "outputs": [
    {
     "name": "stderr",
     "output_type": "stream",
     "text": [
      "100%|██████████| 1125/1125 [01:02<00:00, 18.14it/s]\n"
     ]
    }
   ],
   "source": [
    "test_predictions = []\n",
    "\n",
    "fashion_rec_v2.eval()\n",
    "\n",
    "with torch.no_grad():\n",
    "    for data in tqdm(test_loader):\n",
    "\n",
    "        user_id, item_id, numeric_features, label = data\n",
    "        \n",
    "        user_id, item_id, numeric_features, label = (\n",
    "            user_id.to(device), \n",
    "            item_id.to(device), \n",
    "            numeric_features.to(device),\n",
    "            label.to(device)\n",
    "        )    \n",
    "\n",
    "        optimizer.zero_grad()  # Set gradients to 0 otherwise will accumulate\n",
    "\n",
    "        pred = fashion_rec_v2(\n",
    "            user_id, \n",
    "            item_id, \n",
    "            numeric_features.float()\n",
    "        )\n",
    "        \n",
    "        test_predictions += pred.flatten().tolist()"
   ]
  },
  {
   "cell_type": "code",
   "execution_count": 303,
   "id": "3fc6f9e5",
   "metadata": {
    "colab": {
     "base_uri": "https://localhost:8080/"
    },
    "executionInfo": {
     "elapsed": 23,
     "status": "ok",
     "timestamp": 1651426086710,
     "user": {
      "displayName": "Steven George",
      "userId": "07709250839253394649"
     },
     "user_tz": -60
    },
    "id": "vxp_Mo2A2ddH",
    "outputId": "d6604664-0462-4b09-afda-1e1738807977"
   },
   "outputs": [
    {
     "data": {
      "text/plain": [
       "9208000"
      ]
     },
     "execution_count": 303,
     "metadata": {},
     "output_type": "execute_result"
    }
   ],
   "source": [
    "len(test_predictions)"
   ]
  },
  {
   "cell_type": "code",
   "execution_count": 304,
   "id": "2a1316dd",
   "metadata": {
    "colab": {
     "base_uri": "https://localhost:8080/"
    },
    "executionInfo": {
     "elapsed": 18,
     "status": "ok",
     "timestamp": 1651426086710,
     "user": {
      "displayName": "Steven George",
      "userId": "07709250839253394649"
     },
     "user_tz": -60
    },
    "id": "Mt6FJqnq2fTB",
    "outputId": "de46c3d5-e397-4aad-9a22-46ec796716bf"
   },
   "outputs": [
    {
     "data": {
      "text/plain": [
       "9208000"
      ]
     },
     "execution_count": 304,
     "metadata": {},
     "output_type": "execute_result"
    }
   ],
   "source": [
    "len(test_dataset)"
   ]
  },
  {
   "cell_type": "code",
   "execution_count": 305,
   "id": "ec54b53d",
   "metadata": {
    "executionInfo": {
     "elapsed": 929,
     "status": "ok",
     "timestamp": 1651426087625,
     "user": {
      "displayName": "Steven George",
      "userId": "07709250839253394649"
     },
     "user_tz": -60
    },
    "id": "1ch6dmfp2hf3"
   },
   "outputs": [],
   "source": [
    "test_data['prediction'] = test_predictions"
   ]
  },
  {
   "cell_type": "code",
   "execution_count": 306,
   "id": "1a1bd79e",
   "metadata": {
    "colab": {
     "base_uri": "https://localhost:8080/",
     "height": 206
    },
    "executionInfo": {
     "elapsed": 6,
     "status": "ok",
     "timestamp": 1651426087625,
     "user": {
      "displayName": "Steven George",
      "userId": "07709250839253394649"
     },
     "user_tz": -60
    },
    "id": "xLMinNCF2iyn",
    "outputId": "52cd417f-a23f-45a2-cbd8-e0571d36f141"
   },
   "outputs": [
    {
     "data": {
      "text/html": [
       "\n",
       "  <div id=\"df-0cfe70be-e734-4281-8b62-012154013ebc\">\n",
       "    <div class=\"colab-df-container\">\n",
       "      <div>\n",
       "<style scoped>\n",
       "    .dataframe tbody tr th:only-of-type {\n",
       "        vertical-align: middle;\n",
       "    }\n",
       "\n",
       "    .dataframe tbody tr th {\n",
       "        vertical-align: top;\n",
       "    }\n",
       "\n",
       "    .dataframe thead th {\n",
       "        text-align: right;\n",
       "    }\n",
       "</style>\n",
       "<table border=\"1\" class=\"dataframe\">\n",
       "  <thead>\n",
       "    <tr style=\"text-align: right;\">\n",
       "      <th></th>\n",
       "      <th>customer_id_idx</th>\n",
       "      <th>article_id_idx</th>\n",
       "      <th>FN</th>\n",
       "      <th>Active</th>\n",
       "      <th>club_member_status</th>\n",
       "      <th>fashion_news_frequency</th>\n",
       "      <th>age</th>\n",
       "      <th>postal_code</th>\n",
       "      <th>purchased</th>\n",
       "      <th>prediction</th>\n",
       "    </tr>\n",
       "  </thead>\n",
       "  <tbody>\n",
       "    <tr>\n",
       "      <th>0</th>\n",
       "      <td>0</td>\n",
       "      <td>53892</td>\n",
       "      <td>0.0</td>\n",
       "      <td>0.0</td>\n",
       "      <td>0</td>\n",
       "      <td>0</td>\n",
       "      <td>24.0</td>\n",
       "      <td>2</td>\n",
       "      <td>999</td>\n",
       "      <td>0.010274</td>\n",
       "    </tr>\n",
       "    <tr>\n",
       "      <th>1</th>\n",
       "      <td>0</td>\n",
       "      <td>53893</td>\n",
       "      <td>0.0</td>\n",
       "      <td>0.0</td>\n",
       "      <td>0</td>\n",
       "      <td>0</td>\n",
       "      <td>24.0</td>\n",
       "      <td>2</td>\n",
       "      <td>999</td>\n",
       "      <td>0.001635</td>\n",
       "    </tr>\n",
       "    <tr>\n",
       "      <th>2</th>\n",
       "      <td>0</td>\n",
       "      <td>1713</td>\n",
       "      <td>0.0</td>\n",
       "      <td>0.0</td>\n",
       "      <td>0</td>\n",
       "      <td>0</td>\n",
       "      <td>24.0</td>\n",
       "      <td>2</td>\n",
       "      <td>999</td>\n",
       "      <td>0.003027</td>\n",
       "    </tr>\n",
       "    <tr>\n",
       "      <th>3</th>\n",
       "      <td>0</td>\n",
       "      <td>24837</td>\n",
       "      <td>0.0</td>\n",
       "      <td>0.0</td>\n",
       "      <td>0</td>\n",
       "      <td>0</td>\n",
       "      <td>24.0</td>\n",
       "      <td>2</td>\n",
       "      <td>999</td>\n",
       "      <td>0.013558</td>\n",
       "    </tr>\n",
       "    <tr>\n",
       "      <th>4</th>\n",
       "      <td>0</td>\n",
       "      <td>70221</td>\n",
       "      <td>0.0</td>\n",
       "      <td>0.0</td>\n",
       "      <td>0</td>\n",
       "      <td>0</td>\n",
       "      <td>24.0</td>\n",
       "      <td>2</td>\n",
       "      <td>999</td>\n",
       "      <td>0.000654</td>\n",
       "    </tr>\n",
       "  </tbody>\n",
       "</table>\n",
       "</div>\n",
       "      <button class=\"colab-df-convert\" onclick=\"convertToInteractive('df-0cfe70be-e734-4281-8b62-012154013ebc')\"\n",
       "              title=\"Convert this dataframe to an interactive table.\"\n",
       "              style=\"display:none;\">\n",
       "        \n",
       "  <svg xmlns=\"http://www.w3.org/2000/svg\" height=\"24px\"viewBox=\"0 0 24 24\"\n",
       "       width=\"24px\">\n",
       "    <path d=\"M0 0h24v24H0V0z\" fill=\"none\"/>\n",
       "    <path d=\"M18.56 5.44l.94 2.06.94-2.06 2.06-.94-2.06-.94-.94-2.06-.94 2.06-2.06.94zm-11 1L8.5 8.5l.94-2.06 2.06-.94-2.06-.94L8.5 2.5l-.94 2.06-2.06.94zm10 10l.94 2.06.94-2.06 2.06-.94-2.06-.94-.94-2.06-.94 2.06-2.06.94z\"/><path d=\"M17.41 7.96l-1.37-1.37c-.4-.4-.92-.59-1.43-.59-.52 0-1.04.2-1.43.59L10.3 9.45l-7.72 7.72c-.78.78-.78 2.05 0 2.83L4 21.41c.39.39.9.59 1.41.59.51 0 1.02-.2 1.41-.59l7.78-7.78 2.81-2.81c.8-.78.8-2.07 0-2.86zM5.41 20L4 18.59l7.72-7.72 1.47 1.35L5.41 20z\"/>\n",
       "  </svg>\n",
       "      </button>\n",
       "      \n",
       "  <style>\n",
       "    .colab-df-container {\n",
       "      display:flex;\n",
       "      flex-wrap:wrap;\n",
       "      gap: 12px;\n",
       "    }\n",
       "\n",
       "    .colab-df-convert {\n",
       "      background-color: #E8F0FE;\n",
       "      border: none;\n",
       "      border-radius: 50%;\n",
       "      cursor: pointer;\n",
       "      display: none;\n",
       "      fill: #1967D2;\n",
       "      height: 32px;\n",
       "      padding: 0 0 0 0;\n",
       "      width: 32px;\n",
       "    }\n",
       "\n",
       "    .colab-df-convert:hover {\n",
       "      background-color: #E2EBFA;\n",
       "      box-shadow: 0px 1px 2px rgba(60, 64, 67, 0.3), 0px 1px 3px 1px rgba(60, 64, 67, 0.15);\n",
       "      fill: #174EA6;\n",
       "    }\n",
       "\n",
       "    [theme=dark] .colab-df-convert {\n",
       "      background-color: #3B4455;\n",
       "      fill: #D2E3FC;\n",
       "    }\n",
       "\n",
       "    [theme=dark] .colab-df-convert:hover {\n",
       "      background-color: #434B5C;\n",
       "      box-shadow: 0px 1px 3px 1px rgba(0, 0, 0, 0.15);\n",
       "      filter: drop-shadow(0px 1px 2px rgba(0, 0, 0, 0.3));\n",
       "      fill: #FFFFFF;\n",
       "    }\n",
       "  </style>\n",
       "\n",
       "      <script>\n",
       "        const buttonEl =\n",
       "          document.querySelector('#df-0cfe70be-e734-4281-8b62-012154013ebc button.colab-df-convert');\n",
       "        buttonEl.style.display =\n",
       "          google.colab.kernel.accessAllowed ? 'block' : 'none';\n",
       "\n",
       "        async function convertToInteractive(key) {\n",
       "          const element = document.querySelector('#df-0cfe70be-e734-4281-8b62-012154013ebc');\n",
       "          const dataTable =\n",
       "            await google.colab.kernel.invokeFunction('convertToInteractive',\n",
       "                                                     [key], {});\n",
       "          if (!dataTable) return;\n",
       "\n",
       "          const docLinkHtml = 'Like what you see? Visit the ' +\n",
       "            '<a target=\"_blank\" href=https://colab.research.google.com/notebooks/data_table.ipynb>data table notebook</a>'\n",
       "            + ' to learn more about interactive tables.';\n",
       "          element.innerHTML = '';\n",
       "          dataTable['output_type'] = 'display_data';\n",
       "          await google.colab.output.renderOutput(dataTable, element);\n",
       "          const docLink = document.createElement('div');\n",
       "          docLink.innerHTML = docLinkHtml;\n",
       "          element.appendChild(docLink);\n",
       "        }\n",
       "      </script>\n",
       "    </div>\n",
       "  </div>\n",
       "  "
      ],
      "text/plain": [
       "   customer_id_idx  article_id_idx   FN  Active  club_member_status  \\\n",
       "0                0           53892  0.0     0.0                   0   \n",
       "1                0           53893  0.0     0.0                   0   \n",
       "2                0            1713  0.0     0.0                   0   \n",
       "3                0           24837  0.0     0.0                   0   \n",
       "4                0           70221  0.0     0.0                   0   \n",
       "\n",
       "   fashion_news_frequency   age  postal_code  purchased  prediction  \n",
       "0                       0  24.0            2        999    0.010274  \n",
       "1                       0  24.0            2        999    0.001635  \n",
       "2                       0  24.0            2        999    0.003027  \n",
       "3                       0  24.0            2        999    0.013558  \n",
       "4                       0  24.0            2        999    0.000654  "
      ]
     },
     "execution_count": 306,
     "metadata": {},
     "output_type": "execute_result"
    }
   ],
   "source": [
    "test_data.head()"
   ]
  },
  {
   "cell_type": "code",
   "execution_count": 307,
   "id": "60286935",
   "metadata": {
    "colab": {
     "base_uri": "https://localhost:8080/",
     "height": 206
    },
    "executionInfo": {
     "elapsed": 10661,
     "status": "ok",
     "timestamp": 1651426098282,
     "user": {
      "displayName": "Steven George",
      "userId": "07709250839253394649"
     },
     "user_tz": -60
    },
    "id": "Wab2dVza2qSs",
    "outputId": "41c078ff-ae48-479a-f551-54b61e4f38b2"
   },
   "outputs": [
    {
     "data": {
      "text/html": [
       "\n",
       "  <div id=\"df-6b917094-e3bb-4f10-8296-19ac435b194d\">\n",
       "    <div class=\"colab-df-container\">\n",
       "      <div>\n",
       "<style scoped>\n",
       "    .dataframe tbody tr th:only-of-type {\n",
       "        vertical-align: middle;\n",
       "    }\n",
       "\n",
       "    .dataframe tbody tr th {\n",
       "        vertical-align: top;\n",
       "    }\n",
       "\n",
       "    .dataframe thead th {\n",
       "        text-align: right;\n",
       "    }\n",
       "</style>\n",
       "<table border=\"1\" class=\"dataframe\">\n",
       "  <thead>\n",
       "    <tr style=\"text-align: right;\">\n",
       "      <th></th>\n",
       "      <th>customer_id_idx</th>\n",
       "      <th>predictions</th>\n",
       "    </tr>\n",
       "  </thead>\n",
       "  <tbody>\n",
       "    <tr>\n",
       "      <th>0</th>\n",
       "      <td>0</td>\n",
       "      <td>[1469, 81825, 24266, 53902, 72214, 77908, 5558...</td>\n",
       "    </tr>\n",
       "    <tr>\n",
       "      <th>1</th>\n",
       "      <td>1</td>\n",
       "      <td>[53892, 46351, 3091, 81825, 24837, 53894, 5558...</td>\n",
       "    </tr>\n",
       "    <tr>\n",
       "      <th>2</th>\n",
       "      <td>2</td>\n",
       "      <td>[12598, 70220, 3091, 14240, 75912, 47295, 4438...</td>\n",
       "    </tr>\n",
       "    <tr>\n",
       "      <th>3</th>\n",
       "      <td>3</td>\n",
       "      <td>[3091, 17043, 81826, 81825, 57638, 17125, 5558...</td>\n",
       "    </tr>\n",
       "    <tr>\n",
       "      <th>4</th>\n",
       "      <td>4</td>\n",
       "      <td>[74, 65449, 3091, 28967, 10648, 81825, 74740, ...</td>\n",
       "    </tr>\n",
       "  </tbody>\n",
       "</table>\n",
       "</div>\n",
       "      <button class=\"colab-df-convert\" onclick=\"convertToInteractive('df-6b917094-e3bb-4f10-8296-19ac435b194d')\"\n",
       "              title=\"Convert this dataframe to an interactive table.\"\n",
       "              style=\"display:none;\">\n",
       "        \n",
       "  <svg xmlns=\"http://www.w3.org/2000/svg\" height=\"24px\"viewBox=\"0 0 24 24\"\n",
       "       width=\"24px\">\n",
       "    <path d=\"M0 0h24v24H0V0z\" fill=\"none\"/>\n",
       "    <path d=\"M18.56 5.44l.94 2.06.94-2.06 2.06-.94-2.06-.94-.94-2.06-.94 2.06-2.06.94zm-11 1L8.5 8.5l.94-2.06 2.06-.94-2.06-.94L8.5 2.5l-.94 2.06-2.06.94zm10 10l.94 2.06.94-2.06 2.06-.94-2.06-.94-.94-2.06-.94 2.06-2.06.94z\"/><path d=\"M17.41 7.96l-1.37-1.37c-.4-.4-.92-.59-1.43-.59-.52 0-1.04.2-1.43.59L10.3 9.45l-7.72 7.72c-.78.78-.78 2.05 0 2.83L4 21.41c.39.39.9.59 1.41.59.51 0 1.02-.2 1.41-.59l7.78-7.78 2.81-2.81c.8-.78.8-2.07 0-2.86zM5.41 20L4 18.59l7.72-7.72 1.47 1.35L5.41 20z\"/>\n",
       "  </svg>\n",
       "      </button>\n",
       "      \n",
       "  <style>\n",
       "    .colab-df-container {\n",
       "      display:flex;\n",
       "      flex-wrap:wrap;\n",
       "      gap: 12px;\n",
       "    }\n",
       "\n",
       "    .colab-df-convert {\n",
       "      background-color: #E8F0FE;\n",
       "      border: none;\n",
       "      border-radius: 50%;\n",
       "      cursor: pointer;\n",
       "      display: none;\n",
       "      fill: #1967D2;\n",
       "      height: 32px;\n",
       "      padding: 0 0 0 0;\n",
       "      width: 32px;\n",
       "    }\n",
       "\n",
       "    .colab-df-convert:hover {\n",
       "      background-color: #E2EBFA;\n",
       "      box-shadow: 0px 1px 2px rgba(60, 64, 67, 0.3), 0px 1px 3px 1px rgba(60, 64, 67, 0.15);\n",
       "      fill: #174EA6;\n",
       "    }\n",
       "\n",
       "    [theme=dark] .colab-df-convert {\n",
       "      background-color: #3B4455;\n",
       "      fill: #D2E3FC;\n",
       "    }\n",
       "\n",
       "    [theme=dark] .colab-df-convert:hover {\n",
       "      background-color: #434B5C;\n",
       "      box-shadow: 0px 1px 3px 1px rgba(0, 0, 0, 0.15);\n",
       "      filter: drop-shadow(0px 1px 2px rgba(0, 0, 0, 0.3));\n",
       "      fill: #FFFFFF;\n",
       "    }\n",
       "  </style>\n",
       "\n",
       "      <script>\n",
       "        const buttonEl =\n",
       "          document.querySelector('#df-6b917094-e3bb-4f10-8296-19ac435b194d button.colab-df-convert');\n",
       "        buttonEl.style.display =\n",
       "          google.colab.kernel.accessAllowed ? 'block' : 'none';\n",
       "\n",
       "        async function convertToInteractive(key) {\n",
       "          const element = document.querySelector('#df-6b917094-e3bb-4f10-8296-19ac435b194d');\n",
       "          const dataTable =\n",
       "            await google.colab.kernel.invokeFunction('convertToInteractive',\n",
       "                                                     [key], {});\n",
       "          if (!dataTable) return;\n",
       "\n",
       "          const docLinkHtml = 'Like what you see? Visit the ' +\n",
       "            '<a target=\"_blank\" href=https://colab.research.google.com/notebooks/data_table.ipynb>data table notebook</a>'\n",
       "            + ' to learn more about interactive tables.';\n",
       "          element.innerHTML = '';\n",
       "          dataTable['output_type'] = 'display_data';\n",
       "          await google.colab.output.renderOutput(dataTable, element);\n",
       "          const docLink = document.createElement('div');\n",
       "          docLink.innerHTML = docLinkHtml;\n",
       "          element.appendChild(docLink);\n",
       "        }\n",
       "      </script>\n",
       "    </div>\n",
       "  </div>\n",
       "  "
      ],
      "text/plain": [
       "   customer_id_idx                                        predictions\n",
       "0                0  [1469, 81825, 24266, 53902, 72214, 77908, 5558...\n",
       "1                1  [53892, 46351, 3091, 81825, 24837, 53894, 5558...\n",
       "2                2  [12598, 70220, 3091, 14240, 75912, 47295, 4438...\n",
       "3                3  [3091, 17043, 81826, 81825, 57638, 17125, 5558...\n",
       "4                4  [74, 65449, 3091, 28967, 10648, 81825, 74740, ..."
      ]
     },
     "execution_count": 307,
     "metadata": {},
     "output_type": "execute_result"
    }
   ],
   "source": [
    "test_data.sort_values(['customer_id_idx', 'prediction'], ascending=False, inplace=True)\n",
    "\n",
    "test_data_top12 = test_data.groupby('customer_id_idx').head(12).groupby('customer_id_idx').apply(lambda x: list(x['article_id_idx'])).reset_index().rename(columns={0: 'predictions'})\n",
    "test_data_top12.head()"
   ]
  },
  {
   "cell_type": "code",
   "execution_count": 308,
   "id": "8f498111",
   "metadata": {
    "colab": {
     "base_uri": "https://localhost:8080/",
     "height": 206
    },
    "executionInfo": {
     "elapsed": 20,
     "status": "ok",
     "timestamp": 1651426098283,
     "user": {
      "displayName": "Steven George",
      "userId": "07709250839253394649"
     },
     "user_tz": -60
    },
    "id": "nnHFZmV82w3J",
    "outputId": "b2075414-c752-4a94-9be3-337d40acf01d"
   },
   "outputs": [
    {
     "data": {
      "text/html": [
       "\n",
       "  <div id=\"df-fe38ef9a-b555-4445-9c61-e1d1bf8c5e68\">\n",
       "    <div class=\"colab-df-container\">\n",
       "      <div>\n",
       "<style scoped>\n",
       "    .dataframe tbody tr th:only-of-type {\n",
       "        vertical-align: middle;\n",
       "    }\n",
       "\n",
       "    .dataframe tbody tr th {\n",
       "        vertical-align: top;\n",
       "    }\n",
       "\n",
       "    .dataframe thead th {\n",
       "        text-align: right;\n",
       "    }\n",
       "</style>\n",
       "<table border=\"1\" class=\"dataframe\">\n",
       "  <thead>\n",
       "    <tr style=\"text-align: right;\">\n",
       "      <th></th>\n",
       "      <th>customer_id</th>\n",
       "      <th>article_id_idx</th>\n",
       "      <th>customer_id_idx</th>\n",
       "    </tr>\n",
       "  </thead>\n",
       "  <tbody>\n",
       "    <tr>\n",
       "      <th>0</th>\n",
       "      <td>000058a12d5b43e67d225668fa1f8d618c13dc232df0ca...</td>\n",
       "      <td>[78503]</td>\n",
       "      <td>0</td>\n",
       "    </tr>\n",
       "    <tr>\n",
       "      <th>1</th>\n",
       "      <td>0015f37f752a41a75c3be6f3f92deedc4c87d039f1758e...</td>\n",
       "      <td>[74893, 74893, 24872, 104987, 9801, 9801, 6912...</td>\n",
       "      <td>1</td>\n",
       "    </tr>\n",
       "    <tr>\n",
       "      <th>2</th>\n",
       "      <td>00282135561702f5b3b750fa3382d8fd83ce5d761a507e...</td>\n",
       "      <td>[92815, 86041]</td>\n",
       "      <td>4987</td>\n",
       "    </tr>\n",
       "    <tr>\n",
       "      <th>3</th>\n",
       "      <td>00356a94bb9bed341f6dba58ad722974b01a1cbd9f06ef...</td>\n",
       "      <td>[104211, 17044, 17044, 16024, 29250, 98445, 66...</td>\n",
       "      <td>1071</td>\n",
       "    </tr>\n",
       "    <tr>\n",
       "      <th>4</th>\n",
       "      <td>00462904b288681a9facb555f75dd2cf4d0f730a6e0ea7...</td>\n",
       "      <td>[87467, 99966, 42626, 79834, 97540, 103280, 79...</td>\n",
       "      <td>6281</td>\n",
       "    </tr>\n",
       "  </tbody>\n",
       "</table>\n",
       "</div>\n",
       "      <button class=\"colab-df-convert\" onclick=\"convertToInteractive('df-fe38ef9a-b555-4445-9c61-e1d1bf8c5e68')\"\n",
       "              title=\"Convert this dataframe to an interactive table.\"\n",
       "              style=\"display:none;\">\n",
       "        \n",
       "  <svg xmlns=\"http://www.w3.org/2000/svg\" height=\"24px\"viewBox=\"0 0 24 24\"\n",
       "       width=\"24px\">\n",
       "    <path d=\"M0 0h24v24H0V0z\" fill=\"none\"/>\n",
       "    <path d=\"M18.56 5.44l.94 2.06.94-2.06 2.06-.94-2.06-.94-.94-2.06-.94 2.06-2.06.94zm-11 1L8.5 8.5l.94-2.06 2.06-.94-2.06-.94L8.5 2.5l-.94 2.06-2.06.94zm10 10l.94 2.06.94-2.06 2.06-.94-2.06-.94-.94-2.06-.94 2.06-2.06.94z\"/><path d=\"M17.41 7.96l-1.37-1.37c-.4-.4-.92-.59-1.43-.59-.52 0-1.04.2-1.43.59L10.3 9.45l-7.72 7.72c-.78.78-.78 2.05 0 2.83L4 21.41c.39.39.9.59 1.41.59.51 0 1.02-.2 1.41-.59l7.78-7.78 2.81-2.81c.8-.78.8-2.07 0-2.86zM5.41 20L4 18.59l7.72-7.72 1.47 1.35L5.41 20z\"/>\n",
       "  </svg>\n",
       "      </button>\n",
       "      \n",
       "  <style>\n",
       "    .colab-df-container {\n",
       "      display:flex;\n",
       "      flex-wrap:wrap;\n",
       "      gap: 12px;\n",
       "    }\n",
       "\n",
       "    .colab-df-convert {\n",
       "      background-color: #E8F0FE;\n",
       "      border: none;\n",
       "      border-radius: 50%;\n",
       "      cursor: pointer;\n",
       "      display: none;\n",
       "      fill: #1967D2;\n",
       "      height: 32px;\n",
       "      padding: 0 0 0 0;\n",
       "      width: 32px;\n",
       "    }\n",
       "\n",
       "    .colab-df-convert:hover {\n",
       "      background-color: #E2EBFA;\n",
       "      box-shadow: 0px 1px 2px rgba(60, 64, 67, 0.3), 0px 1px 3px 1px rgba(60, 64, 67, 0.15);\n",
       "      fill: #174EA6;\n",
       "    }\n",
       "\n",
       "    [theme=dark] .colab-df-convert {\n",
       "      background-color: #3B4455;\n",
       "      fill: #D2E3FC;\n",
       "    }\n",
       "\n",
       "    [theme=dark] .colab-df-convert:hover {\n",
       "      background-color: #434B5C;\n",
       "      box-shadow: 0px 1px 3px 1px rgba(0, 0, 0, 0.15);\n",
       "      filter: drop-shadow(0px 1px 2px rgba(0, 0, 0, 0.3));\n",
       "      fill: #FFFFFF;\n",
       "    }\n",
       "  </style>\n",
       "\n",
       "      <script>\n",
       "        const buttonEl =\n",
       "          document.querySelector('#df-fe38ef9a-b555-4445-9c61-e1d1bf8c5e68 button.colab-df-convert');\n",
       "        buttonEl.style.display =\n",
       "          google.colab.kernel.accessAllowed ? 'block' : 'none';\n",
       "\n",
       "        async function convertToInteractive(key) {\n",
       "          const element = document.querySelector('#df-fe38ef9a-b555-4445-9c61-e1d1bf8c5e68');\n",
       "          const dataTable =\n",
       "            await google.colab.kernel.invokeFunction('convertToInteractive',\n",
       "                                                     [key], {});\n",
       "          if (!dataTable) return;\n",
       "\n",
       "          const docLinkHtml = 'Like what you see? Visit the ' +\n",
       "            '<a target=\"_blank\" href=https://colab.research.google.com/notebooks/data_table.ipynb>data table notebook</a>'\n",
       "            + ' to learn more about interactive tables.';\n",
       "          element.innerHTML = '';\n",
       "          dataTable['output_type'] = 'display_data';\n",
       "          await google.colab.output.renderOutput(dataTable, element);\n",
       "          const docLink = document.createElement('div');\n",
       "          docLink.innerHTML = docLinkHtml;\n",
       "          element.appendChild(docLink);\n",
       "        }\n",
       "      </script>\n",
       "    </div>\n",
       "  </div>\n",
       "  "
      ],
      "text/plain": [
       "                                         customer_id  \\\n",
       "0  000058a12d5b43e67d225668fa1f8d618c13dc232df0ca...   \n",
       "1  0015f37f752a41a75c3be6f3f92deedc4c87d039f1758e...   \n",
       "2  00282135561702f5b3b750fa3382d8fd83ce5d761a507e...   \n",
       "3  00356a94bb9bed341f6dba58ad722974b01a1cbd9f06ef...   \n",
       "4  00462904b288681a9facb555f75dd2cf4d0f730a6e0ea7...   \n",
       "\n",
       "                                      article_id_idx  customer_id_idx  \n",
       "0                                            [78503]                0  \n",
       "1  [74893, 74893, 24872, 104987, 9801, 9801, 6912...                1  \n",
       "2                                     [92815, 86041]             4987  \n",
       "3  [104211, 17044, 17044, 16024, 29250, 98445, 66...             1071  \n",
       "4  [87467, 99966, 42626, 79834, 97540, 103280, 79...             6281  "
      ]
     },
     "execution_count": 308,
     "metadata": {},
     "output_type": "execute_result"
    }
   ],
   "source": [
    "test_set_by_customer['customer_id_idx'] = test_set_by_customer['customer_id'].map(customer_id_to_idx)\n",
    "\n",
    "test_set_by_customer.head()"
   ]
  },
  {
   "cell_type": "code",
   "execution_count": 309,
   "id": "0ff87552",
   "metadata": {
    "colab": {
     "base_uri": "https://localhost:8080/",
     "height": 206
    },
    "executionInfo": {
     "elapsed": 18,
     "status": "ok",
     "timestamp": 1651426098283,
     "user": {
      "displayName": "Steven George",
      "userId": "07709250839253394649"
     },
     "user_tz": -60
    },
    "id": "Og8ABfKb2ysC",
    "outputId": "20486b3f-a4b1-448c-ceda-d8b4ef3cb1e6"
   },
   "outputs": [
    {
     "data": {
      "text/html": [
       "\n",
       "  <div id=\"df-7325bc7f-ca26-4759-b87e-7f761cdc7446\">\n",
       "    <div class=\"colab-df-container\">\n",
       "      <div>\n",
       "<style scoped>\n",
       "    .dataframe tbody tr th:only-of-type {\n",
       "        vertical-align: middle;\n",
       "    }\n",
       "\n",
       "    .dataframe tbody tr th {\n",
       "        vertical-align: top;\n",
       "    }\n",
       "\n",
       "    .dataframe thead th {\n",
       "        text-align: right;\n",
       "    }\n",
       "</style>\n",
       "<table border=\"1\" class=\"dataframe\">\n",
       "  <thead>\n",
       "    <tr style=\"text-align: right;\">\n",
       "      <th></th>\n",
       "      <th>customer_id</th>\n",
       "      <th>article_id_idx</th>\n",
       "      <th>customer_id_idx</th>\n",
       "      <th>predictions</th>\n",
       "    </tr>\n",
       "  </thead>\n",
       "  <tbody>\n",
       "    <tr>\n",
       "      <th>0</th>\n",
       "      <td>000058a12d5b43e67d225668fa1f8d618c13dc232df0ca...</td>\n",
       "      <td>[78503]</td>\n",
       "      <td>0</td>\n",
       "      <td>[1469, 81825, 24266, 53902, 72214, 77908, 5558...</td>\n",
       "    </tr>\n",
       "    <tr>\n",
       "      <th>1</th>\n",
       "      <td>0015f37f752a41a75c3be6f3f92deedc4c87d039f1758e...</td>\n",
       "      <td>[74893, 74893, 24872, 104987, 9801, 9801, 6912...</td>\n",
       "      <td>1</td>\n",
       "      <td>[53892, 46351, 3091, 81825, 24837, 53894, 5558...</td>\n",
       "    </tr>\n",
       "    <tr>\n",
       "      <th>2</th>\n",
       "      <td>00282135561702f5b3b750fa3382d8fd83ce5d761a507e...</td>\n",
       "      <td>[92815, 86041]</td>\n",
       "      <td>4987</td>\n",
       "      <td>[33872, 18586, 78968, 2193, 42626, 70223, 4028...</td>\n",
       "    </tr>\n",
       "    <tr>\n",
       "      <th>3</th>\n",
       "      <td>00356a94bb9bed341f6dba58ad722974b01a1cbd9f06ef...</td>\n",
       "      <td>[104211, 17044, 17044, 16024, 29250, 98445, 66...</td>\n",
       "      <td>1071</td>\n",
       "      <td>[53892, 2252, 42557, 53897, 17669, 53893, 1713...</td>\n",
       "    </tr>\n",
       "    <tr>\n",
       "      <th>4</th>\n",
       "      <td>00462904b288681a9facb555f75dd2cf4d0f730a6e0ea7...</td>\n",
       "      <td>[87467, 99966, 42626, 79834, 97540, 103280, 79...</td>\n",
       "      <td>6281</td>\n",
       "      <td>[79833, 24837, 67, 1714, 42626, 18586, 24266, ...</td>\n",
       "    </tr>\n",
       "  </tbody>\n",
       "</table>\n",
       "</div>\n",
       "      <button class=\"colab-df-convert\" onclick=\"convertToInteractive('df-7325bc7f-ca26-4759-b87e-7f761cdc7446')\"\n",
       "              title=\"Convert this dataframe to an interactive table.\"\n",
       "              style=\"display:none;\">\n",
       "        \n",
       "  <svg xmlns=\"http://www.w3.org/2000/svg\" height=\"24px\"viewBox=\"0 0 24 24\"\n",
       "       width=\"24px\">\n",
       "    <path d=\"M0 0h24v24H0V0z\" fill=\"none\"/>\n",
       "    <path d=\"M18.56 5.44l.94 2.06.94-2.06 2.06-.94-2.06-.94-.94-2.06-.94 2.06-2.06.94zm-11 1L8.5 8.5l.94-2.06 2.06-.94-2.06-.94L8.5 2.5l-.94 2.06-2.06.94zm10 10l.94 2.06.94-2.06 2.06-.94-2.06-.94-.94-2.06-.94 2.06-2.06.94z\"/><path d=\"M17.41 7.96l-1.37-1.37c-.4-.4-.92-.59-1.43-.59-.52 0-1.04.2-1.43.59L10.3 9.45l-7.72 7.72c-.78.78-.78 2.05 0 2.83L4 21.41c.39.39.9.59 1.41.59.51 0 1.02-.2 1.41-.59l7.78-7.78 2.81-2.81c.8-.78.8-2.07 0-2.86zM5.41 20L4 18.59l7.72-7.72 1.47 1.35L5.41 20z\"/>\n",
       "  </svg>\n",
       "      </button>\n",
       "      \n",
       "  <style>\n",
       "    .colab-df-container {\n",
       "      display:flex;\n",
       "      flex-wrap:wrap;\n",
       "      gap: 12px;\n",
       "    }\n",
       "\n",
       "    .colab-df-convert {\n",
       "      background-color: #E8F0FE;\n",
       "      border: none;\n",
       "      border-radius: 50%;\n",
       "      cursor: pointer;\n",
       "      display: none;\n",
       "      fill: #1967D2;\n",
       "      height: 32px;\n",
       "      padding: 0 0 0 0;\n",
       "      width: 32px;\n",
       "    }\n",
       "\n",
       "    .colab-df-convert:hover {\n",
       "      background-color: #E2EBFA;\n",
       "      box-shadow: 0px 1px 2px rgba(60, 64, 67, 0.3), 0px 1px 3px 1px rgba(60, 64, 67, 0.15);\n",
       "      fill: #174EA6;\n",
       "    }\n",
       "\n",
       "    [theme=dark] .colab-df-convert {\n",
       "      background-color: #3B4455;\n",
       "      fill: #D2E3FC;\n",
       "    }\n",
       "\n",
       "    [theme=dark] .colab-df-convert:hover {\n",
       "      background-color: #434B5C;\n",
       "      box-shadow: 0px 1px 3px 1px rgba(0, 0, 0, 0.15);\n",
       "      filter: drop-shadow(0px 1px 2px rgba(0, 0, 0, 0.3));\n",
       "      fill: #FFFFFF;\n",
       "    }\n",
       "  </style>\n",
       "\n",
       "      <script>\n",
       "        const buttonEl =\n",
       "          document.querySelector('#df-7325bc7f-ca26-4759-b87e-7f761cdc7446 button.colab-df-convert');\n",
       "        buttonEl.style.display =\n",
       "          google.colab.kernel.accessAllowed ? 'block' : 'none';\n",
       "\n",
       "        async function convertToInteractive(key) {\n",
       "          const element = document.querySelector('#df-7325bc7f-ca26-4759-b87e-7f761cdc7446');\n",
       "          const dataTable =\n",
       "            await google.colab.kernel.invokeFunction('convertToInteractive',\n",
       "                                                     [key], {});\n",
       "          if (!dataTable) return;\n",
       "\n",
       "          const docLinkHtml = 'Like what you see? Visit the ' +\n",
       "            '<a target=\"_blank\" href=https://colab.research.google.com/notebooks/data_table.ipynb>data table notebook</a>'\n",
       "            + ' to learn more about interactive tables.';\n",
       "          element.innerHTML = '';\n",
       "          dataTable['output_type'] = 'display_data';\n",
       "          await google.colab.output.renderOutput(dataTable, element);\n",
       "          const docLink = document.createElement('div');\n",
       "          docLink.innerHTML = docLinkHtml;\n",
       "          element.appendChild(docLink);\n",
       "        }\n",
       "      </script>\n",
       "    </div>\n",
       "  </div>\n",
       "  "
      ],
      "text/plain": [
       "                                         customer_id  \\\n",
       "0  000058a12d5b43e67d225668fa1f8d618c13dc232df0ca...   \n",
       "1  0015f37f752a41a75c3be6f3f92deedc4c87d039f1758e...   \n",
       "2  00282135561702f5b3b750fa3382d8fd83ce5d761a507e...   \n",
       "3  00356a94bb9bed341f6dba58ad722974b01a1cbd9f06ef...   \n",
       "4  00462904b288681a9facb555f75dd2cf4d0f730a6e0ea7...   \n",
       "\n",
       "                                      article_id_idx  customer_id_idx  \\\n",
       "0                                            [78503]                0   \n",
       "1  [74893, 74893, 24872, 104987, 9801, 9801, 6912...                1   \n",
       "2                                     [92815, 86041]             4987   \n",
       "3  [104211, 17044, 17044, 16024, 29250, 98445, 66...             1071   \n",
       "4  [87467, 99966, 42626, 79834, 97540, 103280, 79...             6281   \n",
       "\n",
       "                                         predictions  \n",
       "0  [1469, 81825, 24266, 53902, 72214, 77908, 5558...  \n",
       "1  [53892, 46351, 3091, 81825, 24837, 53894, 5558...  \n",
       "2  [33872, 18586, 78968, 2193, 42626, 70223, 4028...  \n",
       "3  [53892, 2252, 42557, 53897, 17669, 53893, 1713...  \n",
       "4  [79833, 24837, 67, 1714, 42626, 18586, 24266, ...  "
      ]
     },
     "execution_count": 309,
     "metadata": {},
     "output_type": "execute_result"
    }
   ],
   "source": [
    "test_set_by_customer = test_set_by_customer.merge(test_data_top12, on='customer_id_idx')\n",
    "test_set_by_customer.head()"
   ]
  },
  {
   "cell_type": "code",
   "execution_count": 310,
   "id": "45b09e5f",
   "metadata": {
    "executionInfo": {
     "elapsed": 18,
     "status": "ok",
     "timestamp": 1651426098284,
     "user": {
      "displayName": "Steven George",
      "userId": "07709250839253394649"
     },
     "user_tz": -60
    },
    "id": "poJphtPk22Hk"
   },
   "outputs": [],
   "source": [
    "predictions = test_set_by_customer['predictions'].to_list()\n",
    "\n",
    "actuals = test_set_by_customer['article_id_idx'].to_list()"
   ]
  },
  {
   "cell_type": "code",
   "execution_count": 311,
   "id": "720fa75d",
   "metadata": {
    "colab": {
     "base_uri": "https://localhost:8080/"
    },
    "executionInfo": {
     "elapsed": 19,
     "status": "ok",
     "timestamp": 1651426098286,
     "user": {
      "displayName": "Steven George",
      "userId": "07709250839253394649"
     },
     "user_tz": -60
    },
    "id": "DDNv-fXV24Dx",
    "outputId": "d96551e0-5de3-4182-cd47-ea40d6e0cf2d"
   },
   "outputs": [
    {
     "data": {
      "text/plain": [
       "0.004514818941946643"
      ]
     },
     "execution_count": 311,
     "metadata": {},
     "output_type": "execute_result"
    }
   ],
   "source": [
    "mapk(actuals, predictions, k=12)"
   ]
  },
  {
   "cell_type": "code",
   "execution_count": 312,
   "id": "1946c992",
   "metadata": {
    "colab": {
     "base_uri": "https://localhost:8080/"
    },
    "executionInfo": {
     "elapsed": 15,
     "status": "ok",
     "timestamp": 1651426098286,
     "user": {
      "displayName": "Steven George",
      "userId": "07709250839253394649"
     },
     "user_tz": -60
    },
    "id": "lIxlRnSd3EzD",
    "outputId": "1c997a7a-3717-4d4b-ac01-7bd6b369297f"
   },
   "outputs": [
    {
     "data": {
      "text/plain": [
       "9172"
      ]
     },
     "execution_count": 312,
     "metadata": {},
     "output_type": "execute_result"
    }
   ],
   "source": [
    "test_set_by_customer['predictions'].astype(str).nunique()"
   ]
  },
  {
   "cell_type": "code",
   "execution_count": 313,
   "id": "e77651c3",
   "metadata": {
    "colab": {
     "base_uri": "https://localhost:8080/"
    },
    "executionInfo": {
     "elapsed": 887,
     "status": "ok",
     "timestamp": 1651426099161,
     "user": {
      "displayName": "Steven George",
      "userId": "07709250839253394649"
     },
     "user_tz": -60
    },
    "id": "KQNXt9wf3GNP",
    "outputId": "5fc685ae-ab76-4c99-88b5-703b33ec80bb"
   },
   "outputs": [
    {
     "data": {
      "text/plain": [
       "{8, 67, 73, 75, 115, 367, 1713, 2236, 3091, 24837, 53892, 53893}"
      ]
     },
     "execution_count": 313,
     "metadata": {},
     "output_type": "execute_result"
    }
   ],
   "source": [
    "most_pop_12 = (train_set.groupby('article_id_idx')['customer_id'].count()).sort_values(ascending=False).head(12).index.to_list()\n",
    "most_pop_12 = set(most_pop_12)\n",
    "most_pop_12"
   ]
  },
  {
   "cell_type": "code",
   "execution_count": 314,
   "id": "1368c810",
   "metadata": {
    "colab": {
     "base_uri": "https://localhost:8080/"
    },
    "executionInfo": {
     "elapsed": 13,
     "status": "ok",
     "timestamp": 1651426099162,
     "user": {
      "displayName": "Steven George",
      "userId": "07709250839253394649"
     },
     "user_tz": -60
    },
    "id": "9XP-ionxzw9q",
    "outputId": "52c65e54-8714-4745-dcc1-a1f218502d96"
   },
   "outputs": [
    {
     "data": {
      "text/plain": [
       "0    2459\n",
       "1    3394\n",
       "2    1809\n",
       "3     969\n",
       "4     448\n",
       "5      79\n",
       "6      50\n",
       "Name: num_top_12_items, dtype: int64"
      ]
     },
     "execution_count": 314,
     "metadata": {},
     "output_type": "execute_result"
    }
   ],
   "source": [
    "test_set_by_customer['num_top_12_items'] = test_set_by_customer['predictions'].apply(lambda x: len(set(x).intersection(most_pop_12)))\n",
    "\n",
    "test_set_by_customer['num_top_12_items'].value_counts().sort_index()"
   ]
  }
 ],
 "metadata": {
  "accelerator": "GPU",
  "colab": {
   "machine_shape": "hm",
   "name": "17-Simple candidate generation and NN ranker with sentence embeddings.ipynb",
   "provenance": []
  },
  "kernelspec": {
   "display_name": "Python 3 (ipykernel)",
   "language": "python",
   "name": "python3"
  },
  "language_info": {
   "codemirror_mode": {
    "name": "ipython",
    "version": 3
   },
   "file_extension": ".py",
   "mimetype": "text/x-python",
   "name": "python",
   "nbconvert_exporter": "python",
   "pygments_lexer": "ipython3",
   "version": "3.8.12"
  }
 },
 "nbformat": 4,
 "nbformat_minor": 5
}
