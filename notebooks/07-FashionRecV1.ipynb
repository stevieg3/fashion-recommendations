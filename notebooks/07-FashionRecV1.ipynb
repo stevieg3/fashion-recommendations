{
 "cells": [
  {
   "cell_type": "code",
   "execution_count": 1,
   "id": "85ec4627",
   "metadata": {
    "colab": {
     "base_uri": "https://localhost:8080/"
    },
    "executionInfo": {
     "elapsed": 3727,
     "status": "ok",
     "timestamp": 1648487107280,
     "user": {
      "displayName": "Steven George",
      "photoUrl": "https://lh3.googleusercontent.com/a/default-user=s64",
      "userId": "07709250839253394649"
     },
     "user_tz": -60
    },
    "id": "85ec4627",
    "outputId": "3391b656-5d34-4c78-a979-a8b26b61b18c"
   },
   "outputs": [
    {
     "name": "stdout",
     "output_type": "stream",
     "text": [
      "Mounted at /content/drive\n"
     ]
    }
   ],
   "source": [
    "from google.colab import drive\n",
    "drive.mount('/content/drive', force_remount=True)"
   ]
  },
  {
   "cell_type": "markdown",
   "id": "bd6ff5df",
   "metadata": {
    "id": "bd6ff5df"
   },
   "source": [
    "![title](https://raw.githubusercontent.com/google/eng-edu/main/ml/recommendation-systems/images/softmax-model.png)"
   ]
  },
  {
   "cell_type": "code",
   "execution_count": 2,
   "id": "2b20294c",
   "metadata": {
    "executionInfo": {
     "elapsed": 1302,
     "status": "ok",
     "timestamp": 1648487108570,
     "user": {
      "displayName": "Steven George",
      "photoUrl": "https://lh3.googleusercontent.com/a/default-user=s64",
      "userId": "07709250839253394649"
     },
     "user_tz": -60
    },
    "id": "2b20294c"
   },
   "outputs": [],
   "source": [
    "import os\n",
    "import time\n",
    "\n",
    "import pandas as pd\n",
    "import numpy as np\n",
    "import matplotlib.pyplot as plt\n",
    "import torch\n",
    "import torch.nn as nn\n",
    "from torch.utils.data import DataLoader\n",
    "from tqdm import tqdm"
   ]
  },
  {
   "cell_type": "code",
   "execution_count": 3,
   "id": "7440df29",
   "metadata": {
    "executionInfo": {
     "elapsed": 7,
     "status": "ok",
     "timestamp": 1648487108570,
     "user": {
      "displayName": "Steven George",
      "photoUrl": "https://lh3.googleusercontent.com/a/default-user=s64",
      "userId": "07709250839253394649"
     },
     "user_tz": -60
    },
    "id": "7440df29"
   },
   "outputs": [],
   "source": [
    "# os.chdir('..')\n",
    "os.chdir('drive/My Drive/Colab Notebooks/Github/fashion-recommendations') "
   ]
  },
  {
   "cell_type": "code",
   "execution_count": 4,
   "id": "3d8fb119",
   "metadata": {
    "executionInfo": {
     "elapsed": 7,
     "status": "ok",
     "timestamp": 1648487108571,
     "user": {
      "displayName": "Steven George",
      "photoUrl": "https://lh3.googleusercontent.com/a/default-user=s64",
      "userId": "07709250839253394649"
     },
     "user_tz": -60
    },
    "id": "3d8fb119"
   },
   "outputs": [],
   "source": [
    "from fashion_recommendations.metrics.average_precision import mapk"
   ]
  },
  {
   "cell_type": "code",
   "execution_count": 5,
   "id": "vxs1oKftBmPc",
   "metadata": {
    "colab": {
     "base_uri": "https://localhost:8080/"
    },
    "executionInfo": {
     "elapsed": 7,
     "status": "ok",
     "timestamp": 1648487108571,
     "user": {
      "displayName": "Steven George",
      "photoUrl": "https://lh3.googleusercontent.com/a/default-user=s64",
      "userId": "07709250839253394649"
     },
     "user_tz": -60
    },
    "id": "vxs1oKftBmPc",
    "outputId": "e362c087-0187-462a-9d4e-0541e2040fa7"
   },
   "outputs": [
    {
     "name": "stdout",
     "output_type": "stream",
     "text": [
      "cuda:0\n"
     ]
    }
   ],
   "source": [
    "device = torch.device(\"cuda:0\" if torch.cuda.is_available() else \"cpu\")\n",
    "print(device)"
   ]
  },
  {
   "cell_type": "markdown",
   "id": "8e231dba",
   "metadata": {
    "id": "8e231dba"
   },
   "source": [
    "### Datasets"
   ]
  },
  {
   "cell_type": "code",
   "execution_count": 6,
   "id": "9ef83f1a",
   "metadata": {
    "executionInfo": {
     "elapsed": 6,
     "status": "ok",
     "timestamp": 1648487108571,
     "user": {
      "displayName": "Steven George",
      "photoUrl": "https://lh3.googleusercontent.com/a/default-user=s64",
      "userId": "07709250839253394649"
     },
     "user_tz": -60
    },
    "id": "9ef83f1a"
   },
   "outputs": [],
   "source": [
    "from itertools import cycle, islice\n",
    "\n",
    "import torch\n",
    "import torch.nn.functional as F\n",
    "from torch.utils.data import IterableDataset, DataLoader"
   ]
  },
  {
   "cell_type": "code",
   "execution_count": 7,
   "id": "c04a0081",
   "metadata": {
    "executionInfo": {
     "elapsed": 7,
     "status": "ok",
     "timestamp": 1648487108572,
     "user": {
      "displayName": "Steven George",
      "photoUrl": "https://lh3.googleusercontent.com/a/default-user=s64",
      "userId": "07709250839253394649"
     },
     "user_tz": -60
    },
    "id": "c04a0081"
   },
   "outputs": [],
   "source": [
    "class FashionDatasetSingleLabel(IterableDataset):\n",
    "\n",
    "    def __init__(self, dataset_filepath, max_length, padding_value):\n",
    "        \n",
    "        self.dataset_itr = open(dataset_filepath, 'r')\n",
    "        next(self.dataset_itr)  # skip header\n",
    "        \n",
    "        self.max_length = max_length\n",
    "        \n",
    "        self.padding_value = padding_value\n",
    "    \n",
    "    def process_label(self, label: str):\n",
    "\n",
    "        return torch.tensor(int(label))\n",
    "    \n",
    "    def process_input(self, input_str: str, max_length, padding_value):\n",
    "        \n",
    "        input_tensor = torch.tensor([int(v) for v in input_str.split(',')])\n",
    "        \n",
    "        len_orig = len(input_tensor)\n",
    "        \n",
    "        if len_orig >= max_length:\n",
    "            \n",
    "            input_tensor = input_tensor[-max_length:]  # Take latest items\n",
    "            \n",
    "        else:\n",
    "            \n",
    "            num_pad = max_length - len_orig\n",
    "            \n",
    "            input_tensor = F.pad(input_tensor, (0, num_pad), value=padding_value)\n",
    "            \n",
    "        return input_tensor\n",
    "    \n",
    "    def parse_itr(self, dataset_itr):\n",
    "        \n",
    "        for line in dataset_itr:\n",
    "        \n",
    "            line_items = line.rstrip('\\n').split('\\t')  # [customer_id, label, input]\n",
    "            \n",
    "            label = self.process_label(line_items[1])\n",
    "            \n",
    "            input_seq = self.process_input(line_items[2], self.max_length, self.padding_value)\n",
    "\n",
    "            yield input_seq, label\n",
    "        \n",
    "    def get_stream(self, dataset_itr):\n",
    "        \n",
    "        return self.parse_itr(dataset_itr)\n",
    "\n",
    "    def __iter__(self):\n",
    "        \n",
    "        return self.get_stream(self.dataset_itr)"
   ]
  },
  {
   "cell_type": "markdown",
   "id": "0b9a0eb5",
   "metadata": {
    "id": "0b9a0eb5"
   },
   "source": [
    "### fashrec-v1\n",
    "\n",
    "- Use order history only\n",
    "- Embedding for each item\n",
    "- If item ordered X times index its embedding X times\n",
    "- BoW of all item history embeddings\n",
    "- For each customer take random transaction and roll-back data"
   ]
  },
  {
   "cell_type": "markdown",
   "id": "d48100cb",
   "metadata": {
    "id": "d48100cb"
   },
   "source": [
    "### Train model"
   ]
  },
  {
   "cell_type": "code",
   "execution_count": 8,
   "id": "ec0d2d0c",
   "metadata": {
    "colab": {
     "base_uri": "https://localhost:8080/"
    },
    "executionInfo": {
     "elapsed": 1066,
     "status": "ok",
     "timestamp": 1648487109632,
     "user": {
      "displayName": "Steven George",
      "photoUrl": "https://lh3.googleusercontent.com/a/default-user=s64",
      "userId": "07709250839253394649"
     },
     "user_tz": -60
    },
    "id": "ec0d2d0c",
    "outputId": "af98c08e-2249-4781-c83e-828f9d04b42b"
   },
   "outputs": [
    {
     "data": {
      "text/plain": [
       "105542"
      ]
     },
     "execution_count": 8,
     "metadata": {},
     "output_type": "execute_result"
    }
   ],
   "source": [
    "total_num_articles = pd.read_csv('data/articles.csv').shape[0]\n",
    "total_num_articles"
   ]
  },
  {
   "cell_type": "code",
   "execution_count": 9,
   "id": "f8d29b05",
   "metadata": {
    "executionInfo": {
     "elapsed": 5,
     "status": "ok",
     "timestamp": 1648487109633,
     "user": {
      "displayName": "Steven George",
      "photoUrl": "https://lh3.googleusercontent.com/a/default-user=s64",
      "userId": "07709250839253394649"
     },
     "user_tz": -60
    },
    "id": "f8d29b05"
   },
   "outputs": [],
   "source": [
    "class FashionRecV1(nn.Module):\n",
    "\n",
    "    def __init__(self, mask_value, embedding_dim):\n",
    "        super(FashionRecV1, self).__init__()\n",
    "        \n",
    "        self.embedding_dim = embedding_dim\n",
    "        \n",
    "        self.embedding = nn.Embedding(num_embeddings=total_num_articles, embedding_dim=self.embedding_dim)\n",
    "        \n",
    "        self.fc_1 = nn.Linear(in_features=self.embedding_dim, out_features=128)            \n",
    "\n",
    "        self.fc_2 = nn.Linear(in_features=128, out_features=total_num_articles)\n",
    "        \n",
    "        self.relu = nn.ReLU()\n",
    "        \n",
    "        self.tanh = nn.Tanh()\n",
    "\n",
    "        self.dropout = nn.Dropout(0.3)\n",
    "        \n",
    "        self.mask_value = mask_value\n",
    "\n",
    "    def forward(self, padded_sequences):\n",
    "        \n",
    "        x = self.embedding(padded_sequences)\n",
    "\n",
    "        mask = padded_sequences != self.mask_value\n",
    "        \n",
    "        # Repeat mask so that shape matches output of embedding\n",
    "        mask = torch.unsqueeze(mask, dim=2)\n",
    "        mask = mask.repeat(1, 1, self.embedding_dim)\n",
    "\n",
    "        x = mask * x\n",
    "        \n",
    "        # Compute average over non-padding embeddings:\n",
    "        x = x.sum(dim=1)\n",
    "        num_embeddings = mask[:, :, 0].sum(dim=1).reshape(-1, 1)  # Divide by number of (non-padding) embeddings to get mean embedding\n",
    "\n",
    "        x = torch.div(\n",
    "            x, \n",
    "            num_embeddings\n",
    "        )\n",
    "\n",
    "        x = self.fc_1(x)\n",
    "        x = self.tanh(x)\n",
    "        x = self.dropout(x)\n",
    "\n",
    "        x = self.fc_2(x)\n",
    "        x = self.tanh(x)\n",
    "        \n",
    "        return x"
   ]
  },
  {
   "cell_type": "code",
   "execution_count": 10,
   "id": "8ea03a43",
   "metadata": {
    "executionInfo": {
     "elapsed": 4,
     "status": "ok",
     "timestamp": 1648487109633,
     "user": {
      "displayName": "Steven George",
      "photoUrl": "https://lh3.googleusercontent.com/a/default-user=s64",
      "userId": "07709250839253394649"
     },
     "user_tz": -60
    },
    "id": "8ea03a43"
   },
   "outputs": [],
   "source": [
    "BATCH_SIZE = 512"
   ]
  },
  {
   "cell_type": "code",
   "execution_count": 11,
   "id": "c6d1b82b",
   "metadata": {
    "colab": {
     "base_uri": "https://localhost:8080/"
    },
    "executionInfo": {
     "elapsed": 3640,
     "status": "ok",
     "timestamp": 1648487113269,
     "user": {
      "displayName": "Steven George",
      "photoUrl": "https://lh3.googleusercontent.com/a/default-user=s64",
      "userId": "07709250839253394649"
     },
     "user_tz": -60
    },
    "id": "c6d1b82b",
    "outputId": "2de09ecc-7bc0-4cfb-a6bb-08c4185cf91c"
   },
   "outputs": [
    {
     "data": {
      "text/plain": [
       "2044.0"
      ]
     },
     "execution_count": 11,
     "metadata": {},
     "output_type": "execute_result"
    }
   ],
   "source": [
    "total_training_examples = pd.read_csv('data/splits/train_single_purchase_label.tsv', sep='\\t', low_memory=False).shape[0]\n",
    "total_batches = np.ceil(total_training_examples/BATCH_SIZE)\n",
    "total_batches"
   ]
  },
  {
   "cell_type": "code",
   "execution_count": 12,
   "id": "77eed2fa",
   "metadata": {
    "colab": {
     "base_uri": "https://localhost:8080/"
    },
    "executionInfo": {
     "elapsed": 15,
     "status": "ok",
     "timestamp": 1648487113269,
     "user": {
      "displayName": "Steven George",
      "photoUrl": "https://lh3.googleusercontent.com/a/default-user=s64",
      "userId": "07709250839253394649"
     },
     "user_tz": -60
    },
    "id": "77eed2fa",
    "outputId": "ec777e06-0e4d-419a-fdd6-4a7a90cacc64"
   },
   "outputs": [
    {
     "data": {
      "text/plain": [
       "62622"
      ]
     },
     "execution_count": 12,
     "metadata": {},
     "output_type": "execute_result"
    }
   ],
   "source": [
    "total_dev_examples = pd.read_csv('data/splits/dev_single_purchase_label.tsv', sep='\\t', low_memory=False).shape[0]\n",
    "total_dev_examples"
   ]
  },
  {
   "cell_type": "code",
   "execution_count": 13,
   "id": "c99cc4ed",
   "metadata": {
    "executionInfo": {
     "elapsed": 1354,
     "status": "ok",
     "timestamp": 1648487114610,
     "user": {
      "displayName": "Steven George",
      "photoUrl": "https://lh3.googleusercontent.com/a/default-user=s64",
      "userId": "07709250839253394649"
     },
     "user_tz": -60
    },
    "id": "c99cc4ed"
   },
   "outputs": [],
   "source": [
    "dev_actuals = pd.read_csv('data/splits/dev_all_purchase_label.tsv', sep='\\t')['article_id_idx_label'].str.split(',').apply(lambda x: [int(i) for i in x]).tolist()"
   ]
  },
  {
   "cell_type": "code",
   "execution_count": 14,
   "id": "773c00fc",
   "metadata": {
    "executionInfo": {
     "elapsed": 4,
     "status": "ok",
     "timestamp": 1648487114610,
     "user": {
      "displayName": "Steven George",
      "photoUrl": "https://lh3.googleusercontent.com/a/default-user=s64",
      "userId": "07709250839253394649"
     },
     "user_tz": -60
    },
    "id": "773c00fc"
   },
   "outputs": [],
   "source": [
    "PADDING_VALUE = 0"
   ]
  },
  {
   "cell_type": "code",
   "execution_count": 15,
   "id": "25e3578a",
   "metadata": {
    "executionInfo": {
     "elapsed": 560,
     "status": "ok",
     "timestamp": 1648487115168,
     "user": {
      "displayName": "Steven George",
      "photoUrl": "https://lh3.googleusercontent.com/a/default-user=s64",
      "userId": "07709250839253394649"
     },
     "user_tz": -60
    },
    "id": "25e3578a"
   },
   "outputs": [],
   "source": [
    "fashion_rec_v1 = FashionRecV1(mask_value=PADDING_VALUE, embedding_dim=1024)"
   ]
  },
  {
   "cell_type": "code",
   "execution_count": 16,
   "id": "HTApNjqgB0lm",
   "metadata": {
    "colab": {
     "base_uri": "https://localhost:8080/"
    },
    "executionInfo": {
     "elapsed": 2971,
     "status": "ok",
     "timestamp": 1648487118137,
     "user": {
      "displayName": "Steven George",
      "photoUrl": "https://lh3.googleusercontent.com/a/default-user=s64",
      "userId": "07709250839253394649"
     },
     "user_tz": -60
    },
    "id": "HTApNjqgB0lm",
    "outputId": "ca6fa549-3f08-4f19-ce4d-d92db139703f"
   },
   "outputs": [
    {
     "data": {
      "text/plain": [
       "FashionRecV1(\n",
       "  (embedding): Embedding(105542, 1024)\n",
       "  (fc_1): Linear(in_features=1024, out_features=128, bias=True)\n",
       "  (fc_2): Linear(in_features=128, out_features=105542, bias=True)\n",
       "  (relu): ReLU()\n",
       "  (tanh): Tanh()\n",
       "  (dropout): Dropout(p=0.3, inplace=False)\n",
       ")"
      ]
     },
     "execution_count": 16,
     "metadata": {},
     "output_type": "execute_result"
    }
   ],
   "source": [
    "fashion_rec_v1.to(device)"
   ]
  },
  {
   "cell_type": "code",
   "execution_count": 17,
   "id": "c95e9dc1",
   "metadata": {
    "executionInfo": {
     "elapsed": 9,
     "status": "ok",
     "timestamp": 1648487118137,
     "user": {
      "displayName": "Steven George",
      "photoUrl": "https://lh3.googleusercontent.com/a/default-user=s64",
      "userId": "07709250839253394649"
     },
     "user_tz": -60
    },
    "id": "c95e9dc1"
   },
   "outputs": [],
   "source": [
    "criterion = nn.CrossEntropyLoss()\n",
    "optimizer = torch.optim.Adam(params=fashion_rec_v1.parameters(), lr=0.0001)"
   ]
  },
  {
   "cell_type": "code",
   "execution_count": 18,
   "id": "da972de1",
   "metadata": {
    "executionInfo": {
     "elapsed": 9,
     "status": "ok",
     "timestamp": 1648487118138,
     "user": {
      "displayName": "Steven George",
      "photoUrl": "https://lh3.googleusercontent.com/a/default-user=s64",
      "userId": "07709250839253394649"
     },
     "user_tz": -60
    },
    "id": "da972de1"
   },
   "outputs": [],
   "source": [
    "BATCH_SIZE_INFERENCE = 1024"
   ]
  },
  {
   "cell_type": "code",
   "execution_count": 19,
   "id": "6616f106",
   "metadata": {
    "executionInfo": {
     "elapsed": 8,
     "status": "ok",
     "timestamp": 1648487118138,
     "user": {
      "displayName": "Steven George",
      "photoUrl": "https://lh3.googleusercontent.com/a/default-user=s64",
      "userId": "07709250839253394649"
     },
     "user_tz": -60
    },
    "id": "6616f106"
   },
   "outputs": [],
   "source": [
    "MAX_EPOCHS = 3"
   ]
  },
  {
   "cell_type": "code",
   "execution_count": 20,
   "id": "5DaEF6BYBM6C",
   "metadata": {
    "executionInfo": {
     "elapsed": 9,
     "status": "ok",
     "timestamp": 1648487118139,
     "user": {
      "displayName": "Steven George",
      "photoUrl": "https://lh3.googleusercontent.com/a/default-user=s64",
      "userId": "07709250839253394649"
     },
     "user_tz": -60
    },
    "id": "5DaEF6BYBM6C"
   },
   "outputs": [],
   "source": [
    "EVAL_BATCH_INTERVAL = 2000"
   ]
  },
  {
   "cell_type": "code",
   "execution_count": 21,
   "id": "C8T-prz9MP07",
   "metadata": {
    "executionInfo": {
     "elapsed": 8,
     "status": "ok",
     "timestamp": 1648487118139,
     "user": {
      "displayName": "Steven George",
      "photoUrl": "https://lh3.googleusercontent.com/a/default-user=s64",
      "userId": "07709250839253394649"
     },
     "user_tz": -60
    },
    "id": "C8T-prz9MP07"
   },
   "outputs": [],
   "source": [
    "MAX_LENGTH_HISTORY = 100"
   ]
  },
  {
   "cell_type": "code",
   "execution_count": 22,
   "id": "6fb8a00f",
   "metadata": {
    "colab": {
     "base_uri": "https://localhost:8080/"
    },
    "executionInfo": {
     "elapsed": 516449,
     "status": "ok",
     "timestamp": 1648487634580,
     "user": {
      "displayName": "Steven George",
      "photoUrl": "https://lh3.googleusercontent.com/a/default-user=s64",
      "userId": "07709250839253394649"
     },
     "user_tz": -60
    },
    "id": "6fb8a00f",
    "outputId": "32151221-fe6a-4e28-e32b-05bdbf136591"
   },
   "outputs": [
    {
     "name": "stderr",
     "output_type": "stream",
     "text": [
      "100%|██████████| 2044/2044.0 [01:42<00:00, 19.95it/s]\n"
     ]
    },
    {
     "name": "stdout",
     "output_type": "stream",
     "text": [
      "Training loss: 10.868403206738751\n",
      "Dev loss: 11.233678394929347\n",
      "Dev MAP@12: 0.0030367311423693693\n"
     ]
    },
    {
     "name": "stderr",
     "output_type": "stream",
     "text": [
      "100%|██████████| 2044/2044.0 [01:40<00:00, 20.33it/s]\n"
     ]
    },
    {
     "name": "stdout",
     "output_type": "stream",
     "text": [
      "Training loss: 10.73203340666917\n",
      "Dev loss: 11.2103862713109\n",
      "Dev MAP@12: 0.0030345626706499975\n"
     ]
    },
    {
     "name": "stderr",
     "output_type": "stream",
     "text": [
      "100%|██████████| 2044/2044.0 [01:40<00:00, 20.36it/s]\n"
     ]
    },
    {
     "name": "stdout",
     "output_type": "stream",
     "text": [
      "Training loss: 10.684267703515347\n",
      "Dev loss: 11.207890143751897\n",
      "Dev MAP@12: 0.0029406277547743935\n"
     ]
    }
   ],
   "source": [
    "training_losses = []\n",
    "dev_losses = []\n",
    "dev_maps = []\n",
    "\n",
    "for epoch in range(MAX_EPOCHS):\n",
    "    \n",
    "    # Since we use an IterableDataset we need to reinstaniate the dataset since file end will have been reached:\n",
    "    train_dataset = FashionDatasetSingleLabel(dataset_filepath='data/splits/train_single_purchase_label.tsv', max_length=MAX_LENGTH_HISTORY, padding_value=0)    \n",
    "    \n",
    "    train_loader = DataLoader(train_dataset, batch_size=BATCH_SIZE)  \n",
    "    \n",
    "    for idx, data in enumerate(tqdm(train_loader, total=total_batches)):\n",
    "        \n",
    "        X, y = data\n",
    "        X, y = X.to(device), y.to(device)\n",
    "\n",
    "        optimizer.zero_grad()  # Set gradients to 0 otherwise will accumulate\n",
    "\n",
    "        y_pred = fashion_rec_v1(X)\n",
    "        \n",
    "        loss = criterion(y_pred, y)  # Need index for loss in PyTorch\n",
    "\n",
    "        loss.backward()    \n",
    "        \n",
    "        optimizer.step()\n",
    "    \n",
    "        # if idx % EVAL_BATCH_INTERVAL == 0:\n",
    "\n",
    "        #     # Compute train loss\n",
    "        #     train_dataset_for_loss = FashionDatasetSingleLabel(dataset_filepath='data/splits/train_single_purchase_label.tsv', max_length=MAX_LENGTH_HISTORY, padding_value=0)     \n",
    "        #     total_train_loss = 0\n",
    "\n",
    "        #     with torch.no_grad():\n",
    "        #         for data in DataLoader(train_dataset_for_loss, batch_size=BATCH_SIZE_INFERENCE):\n",
    "        #             X, y = data\n",
    "        #             X, y = X.to(device), y.to(device)\n",
    "        #             y_pred = fashion_rec_v1(X)\n",
    "        #             loss = nn.CrossEntropyLoss(reduction='sum')(y_pred, y).item()\n",
    "        #             total_train_loss += loss\n",
    "\n",
    "        #         mean_train_loss = total_train_loss / total_training_examples\n",
    "\n",
    "        #         print(f\"Training loss: {mean_train_loss}\")\n",
    "        #         training_losses.append(mean_train_loss)\n",
    "\n",
    "        #     # Compute dev loss\n",
    "        #     dev_dataset_for_loss = FashionDatasetSingleLabel(dataset_filepath='data/splits/dev_single_purchase_label.tsv', max_length=MAX_LENGTH_HISTORY, padding_value=0)     \n",
    "        #     total_dev_loss = 0\n",
    "        #     top_12_predictions = []\n",
    "\n",
    "        #     with torch.no_grad():\n",
    "        #         for data in DataLoader(dev_dataset_for_loss, batch_size=BATCH_SIZE_INFERENCE):\n",
    "        #             X, y = data\n",
    "        #             X, y = X.to(device), y.to(device)\n",
    "        #             y_pred = fashion_rec_v1(X)\n",
    "        #             loss = nn.CrossEntropyLoss(reduction='sum')(y_pred, y).item()\n",
    "        #             total_dev_loss += loss\n",
    "\n",
    "        #             top_12 = y_pred.argsort(dim=1, descending=True)[:, :12].tolist()\n",
    "        #             top_12_predictions += top_12\n",
    "\n",
    "        #         mean_dev_loss = total_dev_loss / total_dev_examples\n",
    "\n",
    "        #         print(f\"Dev loss: {mean_dev_loss}\")\n",
    "        #         dev_losses.append(mean_dev_loss)\n",
    "\n",
    "        #     # Compute dev MAP@12\n",
    "        #     dev_mapk12 = mapk(dev_actuals, top_12_predictions, k=12)\n",
    "        #     print(f\"Dev MAP@12: {dev_mapk12}\")\n",
    "        #     dev_maps.append(dev_mapk12)\n",
    "\n",
    "        #     time.sleep(5)\n",
    "\n",
    "    # Compute end of epoch metrics\n",
    "    train_dataset_for_loss = FashionDatasetSingleLabel(dataset_filepath='data/splits/train_single_purchase_label.tsv', max_length=MAX_LENGTH_HISTORY, padding_value=0)     \n",
    "    total_train_loss = 0\n",
    "\n",
    "    fashion_rec_v1.eval()\n",
    "\n",
    "    with torch.no_grad():\n",
    "        for data in DataLoader(train_dataset_for_loss, batch_size=BATCH_SIZE_INFERENCE):\n",
    "            X, y = data\n",
    "            X, y = X.to(device), y.to(device)\n",
    "            y_pred = fashion_rec_v1(X)\n",
    "            loss = nn.CrossEntropyLoss(reduction='sum')(y_pred, y).item()\n",
    "            total_train_loss += loss\n",
    "\n",
    "        mean_train_loss = total_train_loss / total_training_examples\n",
    "\n",
    "        print(f\"Training loss: {mean_train_loss}\")\n",
    "        training_losses.append(mean_train_loss)\n",
    "\n",
    "    # Compute dev loss\n",
    "    dev_dataset_for_loss = FashionDatasetSingleLabel(dataset_filepath='data/splits/dev_single_purchase_label.tsv', max_length=MAX_LENGTH_HISTORY, padding_value=0)     \n",
    "    total_dev_loss = 0\n",
    "    top_12_predictions = []\n",
    "\n",
    "    with torch.no_grad():\n",
    "        for data in DataLoader(dev_dataset_for_loss, batch_size=BATCH_SIZE_INFERENCE):\n",
    "            X, y = data\n",
    "            X, y = X.to(device), y.to(device)            \n",
    "            y_pred = fashion_rec_v1(X)\n",
    "            loss = nn.CrossEntropyLoss(reduction='sum')(y_pred, y).item()\n",
    "            total_dev_loss += loss\n",
    "\n",
    "            top_12 = y_pred.argsort(dim=1, descending=True)[:, :12].tolist()\n",
    "            top_12_predictions += top_12\n",
    "\n",
    "        mean_dev_loss = total_dev_loss / total_dev_examples\n",
    "\n",
    "        print(f\"Dev loss: {mean_dev_loss}\")\n",
    "        dev_losses.append(mean_dev_loss)\n",
    "\n",
    "    # Compute dev MAP@12\n",
    "    dev_mapk12 = mapk(dev_actuals, top_12_predictions, k=12)\n",
    "    print(f\"Dev MAP@12: {dev_mapk12}\")\n",
    "    dev_maps.append(dev_mapk12)\n",
    "\n",
    "    time.sleep(5)\n",
    "\n",
    "    fashion_rec_v1.train()"
   ]
  },
  {
   "cell_type": "code",
   "execution_count": 23,
   "id": "zXdZBmFnQhsi",
   "metadata": {
    "colab": {
     "base_uri": "https://localhost:8080/",
     "height": 283
    },
    "executionInfo": {
     "elapsed": 376,
     "status": "ok",
     "timestamp": 1648487743553,
     "user": {
      "displayName": "Steven George",
      "photoUrl": "https://lh3.googleusercontent.com/a/default-user=s64",
      "userId": "07709250839253394649"
     },
     "user_tz": -60
    },
    "id": "zXdZBmFnQhsi",
    "outputId": "c8258776-013b-49e1-9329-101ccdc7cb1b"
   },
   "outputs": [
    {
     "data": {
      "text/plain": [
       "[<matplotlib.lines.Line2D at 0x7f1341c13ad0>]"
      ]
     },
     "execution_count": 23,
     "metadata": {},
     "output_type": "execute_result"
    },
    {
     "data": {
      "image/png": "[encoded data removed]",
      "text/plain": [
       "<Figure size 432x288 with 1 Axes>"
      ]
     },
     "metadata": {
      "needs_background": "light"
     },
     "output_type": "display_data"
    }
   ],
   "source": [
    "plt.plot(dev_maps)"
   ]
  },
  {
   "cell_type": "code",
   "execution_count": 24,
   "id": "_t-v9JGZQr69",
   "metadata": {
    "colab": {
     "base_uri": "https://localhost:8080/",
     "height": 265
    },
    "executionInfo": {
     "elapsed": 369,
     "status": "ok",
     "timestamp": 1648487747167,
     "user": {
      "displayName": "Steven George",
      "photoUrl": "https://lh3.googleusercontent.com/a/default-user=s64",
      "userId": "07709250839253394649"
     },
     "user_tz": -60
    },
    "id": "_t-v9JGZQr69",
    "outputId": "e4a764b9-c395-4f7e-9ed6-c299074eb35c"
   },
   "outputs": [
    {
     "data": {
      "image/png": "[encoded data removed]",
      "text/plain": [
       "<Figure size 432x288 with 1 Axes>"
      ]
     },
     "metadata": {
      "needs_background": "light"
     },
     "output_type": "display_data"
    }
   ],
   "source": [
    "plt.plot(dev_losses, label='dev')\n",
    "plt.plot(training_losses, label='train')\n",
    "plt.legend()\n",
    "plt.show()"
   ]
  },
  {
   "cell_type": "code",
   "execution_count": 25,
   "id": "uifuaAVIF7kF",
   "metadata": {
    "colab": {
     "base_uri": "https://localhost:8080/"
    },
    "executionInfo": {
     "elapsed": 367,
     "status": "ok",
     "timestamp": 1648476889710,
     "user": {
      "displayName": "Steven George",
      "photoUrl": "https://lh3.googleusercontent.com/a/default-user=s64",
      "userId": "07709250839253394649"
     },
     "user_tz": -60
    },
    "id": "uifuaAVIF7kF",
    "outputId": "900ae60c-f53f-4acd-965d-09907137840e"
   },
   "outputs": [
    {
     "data": {
      "text/plain": [
       "FashionRecV1(\n",
       "  (embedding): Embedding(105542, 1024)\n",
       "  (fc_1): Linear(in_features=1024, out_features=128, bias=True)\n",
       "  (fc_2): Linear(in_features=128, out_features=105542, bias=True)\n",
       "  (relu): ReLU()\n",
       "  (tanh): Tanh()\n",
       "  (dropout): Dropout(p=0.3, inplace=False)\n",
       ")"
      ]
     },
     "execution_count": 25,
     "metadata": {},
     "output_type": "execute_result"
    }
   ],
   "source": [
    "fashion_rec_v1"
   ]
  },
  {
   "cell_type": "code",
   "execution_count": 26,
   "id": "LGMlS8_lGXnv",
   "metadata": {
    "colab": {
     "base_uri": "https://localhost:8080/"
    },
    "executionInfo": {
     "elapsed": 4463,
     "status": "ok",
     "timestamp": 1648476895645,
     "user": {
      "displayName": "Steven George",
      "photoUrl": "https://lh3.googleusercontent.com/a/default-user=s64",
      "userId": "07709250839253394649"
     },
     "user_tz": -60
    },
    "id": "LGMlS8_lGXnv",
    "outputId": "4eae52ea-fc70-473c-f34b-a75a79158952"
   },
   "outputs": [
    {
     "data": {
      "text/plain": [
       "1340.0"
      ]
     },
     "execution_count": 26,
     "metadata": {},
     "output_type": "execute_result"
    }
   ],
   "source": [
    "total_sub_batches = np.ceil(pd.read_csv('data/splits/submission_inputs.tsv', sep='\\t').shape[0] / BATCH_SIZE_INFERENCE)\n",
    "total_sub_batches"
   ]
  },
  {
   "cell_type": "code",
   "execution_count": 27,
   "id": "lqnnpjLIF_J3",
   "metadata": {
    "colab": {
     "base_uri": "https://localhost:8080/"
    },
    "executionInfo": {
     "elapsed": 145269,
     "status": "ok",
     "timestamp": 1648477040910,
     "user": {
      "displayName": "Steven George",
      "photoUrl": "https://lh3.googleusercontent.com/a/default-user=s64",
      "userId": "07709250839253394649"
     },
     "user_tz": -60
    },
    "id": "lqnnpjLIF_J3",
    "outputId": "f19bacb2-bbb0-488d-eae7-9d7c82b939c1"
   },
   "outputs": [
    {
     "name": "stderr",
     "output_type": "stream",
     "text": [
      "100%|██████████| 1340/1340.0 [02:25<00:00,  9.23it/s]\n"
     ]
    }
   ],
   "source": [
    "submission_dataset = FashionDatasetSingleLabel(dataset_filepath='data/splits/submission_inputs.tsv', max_length=50, padding_value=0)     \n",
    "\n",
    "top_12_predictions = []\n",
    "\n",
    "with torch.no_grad():\n",
    "    for data in tqdm(DataLoader(submission_dataset, batch_size=BATCH_SIZE_INFERENCE), total=total_sub_batches):\n",
    "        X, _ = data\n",
    "        X = X.to(device)\n",
    "        y_pred = fashion_rec_v1(X)\n",
    "        top_12 = y_pred.argsort(dim=1, descending=True)[:, :12].tolist()\n",
    "        top_12_predictions += top_12"
   ]
  },
  {
   "cell_type": "code",
   "execution_count": 28,
   "id": "Y44L__I8GvnZ",
   "metadata": {
    "colab": {
     "base_uri": "https://localhost:8080/",
     "height": 577
    },
    "executionInfo": {
     "elapsed": 447,
     "status": "ok",
     "timestamp": 1648477041345,
     "user": {
      "displayName": "Steven George",
      "photoUrl": "https://lh3.googleusercontent.com/a/default-user=s64",
      "userId": "07709250839253394649"
     },
     "user_tz": -60
    },
    "id": "Y44L__I8GvnZ",
    "outputId": "52fcea8b-33b9-45b8-812d-c13b9308a994"
   },
   "outputs": [
    {
     "name": "stdout",
     "output_type": "stream",
     "text": [
      "(105542, 25)\n"
     ]
    },
    {
     "data": {
      "text/html": [
       "\n",
       "  <div id=\"df-e3b0bc28-b311-4f13-a85b-8e0543732116\">\n",
       "    <div class=\"colab-df-container\">\n",
       "      <div>\n",
       "<style scoped>\n",
       "    .dataframe tbody tr th:only-of-type {\n",
       "        vertical-align: middle;\n",
       "    }\n",
       "\n",
       "    .dataframe tbody tr th {\n",
       "        vertical-align: top;\n",
       "    }\n",
       "\n",
       "    .dataframe thead th {\n",
       "        text-align: right;\n",
       "    }\n",
       "</style>\n",
       "<table border=\"1\" class=\"dataframe\">\n",
       "  <thead>\n",
       "    <tr style=\"text-align: right;\">\n",
       "      <th></th>\n",
       "      <th>article_id</th>\n",
       "      <th>product_code</th>\n",
       "      <th>prod_name</th>\n",
       "      <th>product_type_no</th>\n",
       "      <th>product_type_name</th>\n",
       "      <th>product_group_name</th>\n",
       "      <th>graphical_appearance_no</th>\n",
       "      <th>graphical_appearance_name</th>\n",
       "      <th>colour_group_code</th>\n",
       "      <th>colour_group_name</th>\n",
       "      <th>...</th>\n",
       "      <th>department_name</th>\n",
       "      <th>index_code</th>\n",
       "      <th>index_name</th>\n",
       "      <th>index_group_no</th>\n",
       "      <th>index_group_name</th>\n",
       "      <th>section_no</th>\n",
       "      <th>section_name</th>\n",
       "      <th>garment_group_no</th>\n",
       "      <th>garment_group_name</th>\n",
       "      <th>detail_desc</th>\n",
       "    </tr>\n",
       "  </thead>\n",
       "  <tbody>\n",
       "    <tr>\n",
       "      <th>0</th>\n",
       "      <td>0108775015</td>\n",
       "      <td>108775</td>\n",
       "      <td>Strap top</td>\n",
       "      <td>253</td>\n",
       "      <td>Vest top</td>\n",
       "      <td>Garment Upper body</td>\n",
       "      <td>1010016</td>\n",
       "      <td>Solid</td>\n",
       "      <td>9</td>\n",
       "      <td>Black</td>\n",
       "      <td>...</td>\n",
       "      <td>Jersey Basic</td>\n",
       "      <td>A</td>\n",
       "      <td>Ladieswear</td>\n",
       "      <td>1</td>\n",
       "      <td>Ladieswear</td>\n",
       "      <td>16</td>\n",
       "      <td>Womens Everyday Basics</td>\n",
       "      <td>1002</td>\n",
       "      <td>Jersey Basic</td>\n",
       "      <td>Jersey top with narrow shoulder straps.</td>\n",
       "    </tr>\n",
       "    <tr>\n",
       "      <th>1</th>\n",
       "      <td>0108775044</td>\n",
       "      <td>108775</td>\n",
       "      <td>Strap top</td>\n",
       "      <td>253</td>\n",
       "      <td>Vest top</td>\n",
       "      <td>Garment Upper body</td>\n",
       "      <td>1010016</td>\n",
       "      <td>Solid</td>\n",
       "      <td>10</td>\n",
       "      <td>White</td>\n",
       "      <td>...</td>\n",
       "      <td>Jersey Basic</td>\n",
       "      <td>A</td>\n",
       "      <td>Ladieswear</td>\n",
       "      <td>1</td>\n",
       "      <td>Ladieswear</td>\n",
       "      <td>16</td>\n",
       "      <td>Womens Everyday Basics</td>\n",
       "      <td>1002</td>\n",
       "      <td>Jersey Basic</td>\n",
       "      <td>Jersey top with narrow shoulder straps.</td>\n",
       "    </tr>\n",
       "    <tr>\n",
       "      <th>2</th>\n",
       "      <td>0108775051</td>\n",
       "      <td>108775</td>\n",
       "      <td>Strap top (1)</td>\n",
       "      <td>253</td>\n",
       "      <td>Vest top</td>\n",
       "      <td>Garment Upper body</td>\n",
       "      <td>1010017</td>\n",
       "      <td>Stripe</td>\n",
       "      <td>11</td>\n",
       "      <td>Off White</td>\n",
       "      <td>...</td>\n",
       "      <td>Jersey Basic</td>\n",
       "      <td>A</td>\n",
       "      <td>Ladieswear</td>\n",
       "      <td>1</td>\n",
       "      <td>Ladieswear</td>\n",
       "      <td>16</td>\n",
       "      <td>Womens Everyday Basics</td>\n",
       "      <td>1002</td>\n",
       "      <td>Jersey Basic</td>\n",
       "      <td>Jersey top with narrow shoulder straps.</td>\n",
       "    </tr>\n",
       "    <tr>\n",
       "      <th>3</th>\n",
       "      <td>0110065001</td>\n",
       "      <td>110065</td>\n",
       "      <td>OP T-shirt (Idro)</td>\n",
       "      <td>306</td>\n",
       "      <td>Bra</td>\n",
       "      <td>Underwear</td>\n",
       "      <td>1010016</td>\n",
       "      <td>Solid</td>\n",
       "      <td>9</td>\n",
       "      <td>Black</td>\n",
       "      <td>...</td>\n",
       "      <td>Clean Lingerie</td>\n",
       "      <td>B</td>\n",
       "      <td>Lingeries/Tights</td>\n",
       "      <td>1</td>\n",
       "      <td>Ladieswear</td>\n",
       "      <td>61</td>\n",
       "      <td>Womens Lingerie</td>\n",
       "      <td>1017</td>\n",
       "      <td>Under-, Nightwear</td>\n",
       "      <td>Microfibre T-shirt bra with underwired, moulde...</td>\n",
       "    </tr>\n",
       "    <tr>\n",
       "      <th>4</th>\n",
       "      <td>0110065002</td>\n",
       "      <td>110065</td>\n",
       "      <td>OP T-shirt (Idro)</td>\n",
       "      <td>306</td>\n",
       "      <td>Bra</td>\n",
       "      <td>Underwear</td>\n",
       "      <td>1010016</td>\n",
       "      <td>Solid</td>\n",
       "      <td>10</td>\n",
       "      <td>White</td>\n",
       "      <td>...</td>\n",
       "      <td>Clean Lingerie</td>\n",
       "      <td>B</td>\n",
       "      <td>Lingeries/Tights</td>\n",
       "      <td>1</td>\n",
       "      <td>Ladieswear</td>\n",
       "      <td>61</td>\n",
       "      <td>Womens Lingerie</td>\n",
       "      <td>1017</td>\n",
       "      <td>Under-, Nightwear</td>\n",
       "      <td>Microfibre T-shirt bra with underwired, moulde...</td>\n",
       "    </tr>\n",
       "  </tbody>\n",
       "</table>\n",
       "<p>5 rows × 25 columns</p>\n",
       "</div>\n",
       "      <button class=\"colab-df-convert\" onclick=\"convertToInteractive('df-e3b0bc28-b311-4f13-a85b-8e0543732116')\"\n",
       "              title=\"Convert this dataframe to an interactive table.\"\n",
       "              style=\"display:none;\">\n",
       "        \n",
       "  <svg xmlns=\"http://www.w3.org/2000/svg\" height=\"24px\"viewBox=\"0 0 24 24\"\n",
       "       width=\"24px\">\n",
       "    <path d=\"M0 0h24v24H0V0z\" fill=\"none\"/>\n",
       "    <path d=\"M18.56 5.44l.94 2.06.94-2.06 2.06-.94-2.06-.94-.94-2.06-.94 2.06-2.06.94zm-11 1L8.5 8.5l.94-2.06 2.06-.94-2.06-.94L8.5 2.5l-.94 2.06-2.06.94zm10 10l.94 2.06.94-2.06 2.06-.94-2.06-.94-.94-2.06-.94 2.06-2.06.94z\"/><path d=\"M17.41 7.96l-1.37-1.37c-.4-.4-.92-.59-1.43-.59-.52 0-1.04.2-1.43.59L10.3 9.45l-7.72 7.72c-.78.78-.78 2.05 0 2.83L4 21.41c.39.39.9.59 1.41.59.51 0 1.02-.2 1.41-.59l7.78-7.78 2.81-2.81c.8-.78.8-2.07 0-2.86zM5.41 20L4 18.59l7.72-7.72 1.47 1.35L5.41 20z\"/>\n",
       "  </svg>\n",
       "      </button>\n",
       "      \n",
       "  <style>\n",
       "    .colab-df-container {\n",
       "      display:flex;\n",
       "      flex-wrap:wrap;\n",
       "      gap: 12px;\n",
       "    }\n",
       "\n",
       "    .colab-df-convert {\n",
       "      background-color: #E8F0FE;\n",
       "      border: none;\n",
       "      border-radius: 50%;\n",
       "      cursor: pointer;\n",
       "      display: none;\n",
       "      fill: #1967D2;\n",
       "      height: 32px;\n",
       "      padding: 0 0 0 0;\n",
       "      width: 32px;\n",
       "    }\n",
       "\n",
       "    .colab-df-convert:hover {\n",
       "      background-color: #E2EBFA;\n",
       "      box-shadow: 0px 1px 2px rgba(60, 64, 67, 0.3), 0px 1px 3px 1px rgba(60, 64, 67, 0.15);\n",
       "      fill: #174EA6;\n",
       "    }\n",
       "\n",
       "    [theme=dark] .colab-df-convert {\n",
       "      background-color: #3B4455;\n",
       "      fill: #D2E3FC;\n",
       "    }\n",
       "\n",
       "    [theme=dark] .colab-df-convert:hover {\n",
       "      background-color: #434B5C;\n",
       "      box-shadow: 0px 1px 3px 1px rgba(0, 0, 0, 0.15);\n",
       "      filter: drop-shadow(0px 1px 2px rgba(0, 0, 0, 0.3));\n",
       "      fill: #FFFFFF;\n",
       "    }\n",
       "  </style>\n",
       "\n",
       "      <script>\n",
       "        const buttonEl =\n",
       "          document.querySelector('#df-e3b0bc28-b311-4f13-a85b-8e0543732116 button.colab-df-convert');\n",
       "        buttonEl.style.display =\n",
       "          google.colab.kernel.accessAllowed ? 'block' : 'none';\n",
       "\n",
       "        async function convertToInteractive(key) {\n",
       "          const element = document.querySelector('#df-e3b0bc28-b311-4f13-a85b-8e0543732116');\n",
       "          const dataTable =\n",
       "            await google.colab.kernel.invokeFunction('convertToInteractive',\n",
       "                                                     [key], {});\n",
       "          if (!dataTable) return;\n",
       "\n",
       "          const docLinkHtml = 'Like what you see? Visit the ' +\n",
       "            '<a target=\"_blank\" href=https://colab.research.google.com/notebooks/data_table.ipynb>data table notebook</a>'\n",
       "            + ' to learn more about interactive tables.';\n",
       "          element.innerHTML = '';\n",
       "          dataTable['output_type'] = 'display_data';\n",
       "          await google.colab.output.renderOutput(dataTable, element);\n",
       "          const docLink = document.createElement('div');\n",
       "          docLink.innerHTML = docLinkHtml;\n",
       "          element.appendChild(docLink);\n",
       "        }\n",
       "      </script>\n",
       "    </div>\n",
       "  </div>\n",
       "  "
      ],
      "text/plain": [
       "   article_id  product_code          prod_name  product_type_no  \\\n",
       "0  0108775015        108775          Strap top              253   \n",
       "1  0108775044        108775          Strap top              253   \n",
       "2  0108775051        108775      Strap top (1)              253   \n",
       "3  0110065001        110065  OP T-shirt (Idro)              306   \n",
       "4  0110065002        110065  OP T-shirt (Idro)              306   \n",
       "\n",
       "  product_type_name  product_group_name  graphical_appearance_no  \\\n",
       "0          Vest top  Garment Upper body                  1010016   \n",
       "1          Vest top  Garment Upper body                  1010016   \n",
       "2          Vest top  Garment Upper body                  1010017   \n",
       "3               Bra           Underwear                  1010016   \n",
       "4               Bra           Underwear                  1010016   \n",
       "\n",
       "  graphical_appearance_name  colour_group_code colour_group_name  ...  \\\n",
       "0                     Solid                  9             Black  ...   \n",
       "1                     Solid                 10             White  ...   \n",
       "2                    Stripe                 11         Off White  ...   \n",
       "3                     Solid                  9             Black  ...   \n",
       "4                     Solid                 10             White  ...   \n",
       "\n",
       "   department_name index_code        index_name index_group_no  \\\n",
       "0     Jersey Basic          A        Ladieswear              1   \n",
       "1     Jersey Basic          A        Ladieswear              1   \n",
       "2     Jersey Basic          A        Ladieswear              1   \n",
       "3   Clean Lingerie          B  Lingeries/Tights              1   \n",
       "4   Clean Lingerie          B  Lingeries/Tights              1   \n",
       "\n",
       "   index_group_name section_no            section_name garment_group_no  \\\n",
       "0        Ladieswear         16  Womens Everyday Basics             1002   \n",
       "1        Ladieswear         16  Womens Everyday Basics             1002   \n",
       "2        Ladieswear         16  Womens Everyday Basics             1002   \n",
       "3        Ladieswear         61         Womens Lingerie             1017   \n",
       "4        Ladieswear         61         Womens Lingerie             1017   \n",
       "\n",
       "   garment_group_name                                        detail_desc  \n",
       "0        Jersey Basic            Jersey top with narrow shoulder straps.  \n",
       "1        Jersey Basic            Jersey top with narrow shoulder straps.  \n",
       "2        Jersey Basic            Jersey top with narrow shoulder straps.  \n",
       "3   Under-, Nightwear  Microfibre T-shirt bra with underwired, moulde...  \n",
       "4   Under-, Nightwear  Microfibre T-shirt bra with underwired, moulde...  \n",
       "\n",
       "[5 rows x 25 columns]"
      ]
     },
     "execution_count": 28,
     "metadata": {},
     "output_type": "execute_result"
    }
   ],
   "source": [
    "articles_df = pd.read_csv('data/articles.csv', dtype={'article_id': str})  # Make sure article_id is being loading in as a string\n",
    "print(articles_df.shape)\n",
    "articles_df.head()"
   ]
  },
  {
   "cell_type": "code",
   "execution_count": 29,
   "id": "JwK3uo9kHj5W",
   "metadata": {
    "executionInfo": {
     "elapsed": 5,
     "status": "ok",
     "timestamp": 1648477041346,
     "user": {
      "displayName": "Steven George",
      "photoUrl": "https://lh3.googleusercontent.com/a/default-user=s64",
      "userId": "07709250839253394649"
     },
     "user_tz": -60
    },
    "id": "JwK3uo9kHj5W"
   },
   "outputs": [],
   "source": [
    "article_idx_to_id = dict(\n",
    "    zip(\n",
    "        articles_df.index + 2,\n",
    "        articles_df['article_id']\n",
    "    )\n",
    ")\n",
    "\n",
    "# Map to random article for 0 (pad) and 1 (no history) indices\n",
    "article_idx_to_id[0] = '0108775015'\n",
    "article_idx_to_id[1] = '0108775015'"
   ]
  },
  {
   "cell_type": "code",
   "execution_count": 30,
   "id": "25JbeAIWH96W",
   "metadata": {
    "colab": {
     "base_uri": "https://localhost:8080/",
     "height": 224
    },
    "executionInfo": {
     "elapsed": 5031,
     "status": "ok",
     "timestamp": 1648477046373,
     "user": {
      "displayName": "Steven George",
      "photoUrl": "https://lh3.googleusercontent.com/a/default-user=s64",
      "userId": "07709250839253394649"
     },
     "user_tz": -60
    },
    "id": "25JbeAIWH96W",
    "outputId": "88b5a763-2bb7-4608-f064-8b0b9dfa3447"
   },
   "outputs": [
    {
     "name": "stdout",
     "output_type": "stream",
     "text": [
      "(1371980, 12)\n"
     ]
    },
    {
     "data": {
      "text/html": [
       "\n",
       "  <div id=\"df-df8b5b6c-062d-4f8f-8b25-65d72a823641\">\n",
       "    <div class=\"colab-df-container\">\n",
       "      <div>\n",
       "<style scoped>\n",
       "    .dataframe tbody tr th:only-of-type {\n",
       "        vertical-align: middle;\n",
       "    }\n",
       "\n",
       "    .dataframe tbody tr th {\n",
       "        vertical-align: top;\n",
       "    }\n",
       "\n",
       "    .dataframe thead th {\n",
       "        text-align: right;\n",
       "    }\n",
       "</style>\n",
       "<table border=\"1\" class=\"dataframe\">\n",
       "  <thead>\n",
       "    <tr style=\"text-align: right;\">\n",
       "      <th></th>\n",
       "      <th>0</th>\n",
       "      <th>1</th>\n",
       "      <th>2</th>\n",
       "      <th>3</th>\n",
       "      <th>4</th>\n",
       "      <th>5</th>\n",
       "      <th>6</th>\n",
       "      <th>7</th>\n",
       "      <th>8</th>\n",
       "      <th>9</th>\n",
       "      <th>10</th>\n",
       "      <th>11</th>\n",
       "    </tr>\n",
       "  </thead>\n",
       "  <tbody>\n",
       "    <tr>\n",
       "      <th>0</th>\n",
       "      <td>70223</td>\n",
       "      <td>1715</td>\n",
       "      <td>53895</td>\n",
       "      <td>1716</td>\n",
       "      <td>24268</td>\n",
       "      <td>53894</td>\n",
       "      <td>42559</td>\n",
       "      <td>2254</td>\n",
       "      <td>76</td>\n",
       "      <td>32744</td>\n",
       "      <td>14242</td>\n",
       "      <td>67054</td>\n",
       "    </tr>\n",
       "    <tr>\n",
       "      <th>1</th>\n",
       "      <td>70223</td>\n",
       "      <td>24839</td>\n",
       "      <td>53894</td>\n",
       "      <td>42559</td>\n",
       "      <td>58493</td>\n",
       "      <td>3713</td>\n",
       "      <td>46384</td>\n",
       "      <td>1716</td>\n",
       "      <td>67524</td>\n",
       "      <td>2238</td>\n",
       "      <td>14255</td>\n",
       "      <td>57645</td>\n",
       "    </tr>\n",
       "    <tr>\n",
       "      <th>2</th>\n",
       "      <td>53895</td>\n",
       "      <td>24839</td>\n",
       "      <td>16005</td>\n",
       "      <td>17046</td>\n",
       "      <td>24268</td>\n",
       "      <td>1716</td>\n",
       "      <td>53894</td>\n",
       "      <td>2254</td>\n",
       "      <td>70223</td>\n",
       "      <td>1715</td>\n",
       "      <td>90084</td>\n",
       "      <td>58493</td>\n",
       "    </tr>\n",
       "    <tr>\n",
       "      <th>3</th>\n",
       "      <td>53895</td>\n",
       "      <td>3713</td>\n",
       "      <td>70223</td>\n",
       "      <td>47300</td>\n",
       "      <td>42559</td>\n",
       "      <td>53894</td>\n",
       "      <td>24268</td>\n",
       "      <td>56696</td>\n",
       "      <td>17385</td>\n",
       "      <td>67053</td>\n",
       "      <td>1716</td>\n",
       "      <td>58378</td>\n",
       "    </tr>\n",
       "    <tr>\n",
       "      <th>4</th>\n",
       "      <td>14242</td>\n",
       "      <td>1716</td>\n",
       "      <td>58493</td>\n",
       "      <td>24838</td>\n",
       "      <td>24839</td>\n",
       "      <td>53895</td>\n",
       "      <td>14255</td>\n",
       "      <td>16005</td>\n",
       "      <td>53894</td>\n",
       "      <td>2238</td>\n",
       "      <td>46384</td>\n",
       "      <td>24268</td>\n",
       "    </tr>\n",
       "  </tbody>\n",
       "</table>\n",
       "</div>\n",
       "      <button class=\"colab-df-convert\" onclick=\"convertToInteractive('df-df8b5b6c-062d-4f8f-8b25-65d72a823641')\"\n",
       "              title=\"Convert this dataframe to an interactive table.\"\n",
       "              style=\"display:none;\">\n",
       "        \n",
       "  <svg xmlns=\"http://www.w3.org/2000/svg\" height=\"24px\"viewBox=\"0 0 24 24\"\n",
       "       width=\"24px\">\n",
       "    <path d=\"M0 0h24v24H0V0z\" fill=\"none\"/>\n",
       "    <path d=\"M18.56 5.44l.94 2.06.94-2.06 2.06-.94-2.06-.94-.94-2.06-.94 2.06-2.06.94zm-11 1L8.5 8.5l.94-2.06 2.06-.94-2.06-.94L8.5 2.5l-.94 2.06-2.06.94zm10 10l.94 2.06.94-2.06 2.06-.94-2.06-.94-.94-2.06-.94 2.06-2.06.94z\"/><path d=\"M17.41 7.96l-1.37-1.37c-.4-.4-.92-.59-1.43-.59-.52 0-1.04.2-1.43.59L10.3 9.45l-7.72 7.72c-.78.78-.78 2.05 0 2.83L4 21.41c.39.39.9.59 1.41.59.51 0 1.02-.2 1.41-.59l7.78-7.78 2.81-2.81c.8-.78.8-2.07 0-2.86zM5.41 20L4 18.59l7.72-7.72 1.47 1.35L5.41 20z\"/>\n",
       "  </svg>\n",
       "      </button>\n",
       "      \n",
       "  <style>\n",
       "    .colab-df-container {\n",
       "      display:flex;\n",
       "      flex-wrap:wrap;\n",
       "      gap: 12px;\n",
       "    }\n",
       "\n",
       "    .colab-df-convert {\n",
       "      background-color: #E8F0FE;\n",
       "      border: none;\n",
       "      border-radius: 50%;\n",
       "      cursor: pointer;\n",
       "      display: none;\n",
       "      fill: #1967D2;\n",
       "      height: 32px;\n",
       "      padding: 0 0 0 0;\n",
       "      width: 32px;\n",
       "    }\n",
       "\n",
       "    .colab-df-convert:hover {\n",
       "      background-color: #E2EBFA;\n",
       "      box-shadow: 0px 1px 2px rgba(60, 64, 67, 0.3), 0px 1px 3px 1px rgba(60, 64, 67, 0.15);\n",
       "      fill: #174EA6;\n",
       "    }\n",
       "\n",
       "    [theme=dark] .colab-df-convert {\n",
       "      background-color: #3B4455;\n",
       "      fill: #D2E3FC;\n",
       "    }\n",
       "\n",
       "    [theme=dark] .colab-df-convert:hover {\n",
       "      background-color: #434B5C;\n",
       "      box-shadow: 0px 1px 3px 1px rgba(0, 0, 0, 0.15);\n",
       "      filter: drop-shadow(0px 1px 2px rgba(0, 0, 0, 0.3));\n",
       "      fill: #FFFFFF;\n",
       "    }\n",
       "  </style>\n",
       "\n",
       "      <script>\n",
       "        const buttonEl =\n",
       "          document.querySelector('#df-df8b5b6c-062d-4f8f-8b25-65d72a823641 button.colab-df-convert');\n",
       "        buttonEl.style.display =\n",
       "          google.colab.kernel.accessAllowed ? 'block' : 'none';\n",
       "\n",
       "        async function convertToInteractive(key) {\n",
       "          const element = document.querySelector('#df-df8b5b6c-062d-4f8f-8b25-65d72a823641');\n",
       "          const dataTable =\n",
       "            await google.colab.kernel.invokeFunction('convertToInteractive',\n",
       "                                                     [key], {});\n",
       "          if (!dataTable) return;\n",
       "\n",
       "          const docLinkHtml = 'Like what you see? Visit the ' +\n",
       "            '<a target=\"_blank\" href=https://colab.research.google.com/notebooks/data_table.ipynb>data table notebook</a>'\n",
       "            + ' to learn more about interactive tables.';\n",
       "          element.innerHTML = '';\n",
       "          dataTable['output_type'] = 'display_data';\n",
       "          await google.colab.output.renderOutput(dataTable, element);\n",
       "          const docLink = document.createElement('div');\n",
       "          docLink.innerHTML = docLinkHtml;\n",
       "          element.appendChild(docLink);\n",
       "        }\n",
       "      </script>\n",
       "    </div>\n",
       "  </div>\n",
       "  "
      ],
      "text/plain": [
       "      0      1      2      3      4      5      6      7      8      9   \\\n",
       "0  70223   1715  53895   1716  24268  53894  42559   2254     76  32744   \n",
       "1  70223  24839  53894  42559  58493   3713  46384   1716  67524   2238   \n",
       "2  53895  24839  16005  17046  24268   1716  53894   2254  70223   1715   \n",
       "3  53895   3713  70223  47300  42559  53894  24268  56696  17385  67053   \n",
       "4  14242   1716  58493  24838  24839  53895  14255  16005  53894   2238   \n",
       "\n",
       "      10     11  \n",
       "0  14242  67054  \n",
       "1  14255  57645  \n",
       "2  90084  58493  \n",
       "3   1716  58378  \n",
       "4  46384  24268  "
      ]
     },
     "execution_count": 30,
     "metadata": {},
     "output_type": "execute_result"
    }
   ],
   "source": [
    "top_12_predictions_df = pd.DataFrame(top_12_predictions)\n",
    "print(top_12_predictions_df.shape)\n",
    "top_12_predictions_df.head()"
   ]
  },
  {
   "cell_type": "code",
   "execution_count": 31,
   "id": "Vq5fPcMvIAX_",
   "metadata": {
    "executionInfo": {
     "elapsed": 1098,
     "status": "ok",
     "timestamp": 1648477047457,
     "user": {
      "displayName": "Steven George",
      "photoUrl": "https://lh3.googleusercontent.com/a/default-user=s64",
      "userId": "07709250839253394649"
     },
     "user_tz": -60
    },
    "id": "Vq5fPcMvIAX_"
   },
   "outputs": [],
   "source": [
    "for col in range(12):\n",
    "  top_12_predictions_df[col] = top_12_predictions_df[col].map(article_idx_to_id)"
   ]
  },
  {
   "cell_type": "code",
   "execution_count": 32,
   "id": "lYyV0lUyI-DS",
   "metadata": {
    "colab": {
     "base_uri": "https://localhost:8080/"
    },
    "executionInfo": {
     "elapsed": 515,
     "status": "ok",
     "timestamp": 1648477047970,
     "user": {
      "displayName": "Steven George",
      "photoUrl": "https://lh3.googleusercontent.com/a/default-user=s64",
      "userId": "07709250839253394649"
     },
     "user_tz": -60
    },
    "id": "lYyV0lUyI-DS",
    "outputId": "a617dba0-d6bf-4dfa-8372-d25e1cab77c2"
   },
   "outputs": [
    {
     "data": {
      "text/plain": [
       "0"
      ]
     },
     "execution_count": 32,
     "metadata": {},
     "output_type": "execute_result"
    }
   ],
   "source": [
    "top_12_predictions_df.isnull().sum().sum()"
   ]
  },
  {
   "cell_type": "code",
   "execution_count": 33,
   "id": "0y1dWfOsJYGR",
   "metadata": {
    "colab": {
     "base_uri": "https://localhost:8080/",
     "height": 206
    },
    "executionInfo": {
     "elapsed": 6,
     "status": "ok",
     "timestamp": 1648477047971,
     "user": {
      "displayName": "Steven George",
      "photoUrl": "https://lh3.googleusercontent.com/a/default-user=s64",
      "userId": "07709250839253394649"
     },
     "user_tz": -60
    },
    "id": "0y1dWfOsJYGR",
    "outputId": "36feacec-d6ac-4690-bbc0-177a8769df9f"
   },
   "outputs": [
    {
     "data": {
      "text/html": [
       "\n",
       "  <div id=\"df-4073035c-24d4-41d4-bb0b-1d55c7059ade\">\n",
       "    <div class=\"colab-df-container\">\n",
       "      <div>\n",
       "<style scoped>\n",
       "    .dataframe tbody tr th:only-of-type {\n",
       "        vertical-align: middle;\n",
       "    }\n",
       "\n",
       "    .dataframe tbody tr th {\n",
       "        vertical-align: top;\n",
       "    }\n",
       "\n",
       "    .dataframe thead th {\n",
       "        text-align: right;\n",
       "    }\n",
       "</style>\n",
       "<table border=\"1\" class=\"dataframe\">\n",
       "  <thead>\n",
       "    <tr style=\"text-align: right;\">\n",
       "      <th></th>\n",
       "      <th>0</th>\n",
       "      <th>1</th>\n",
       "      <th>2</th>\n",
       "      <th>3</th>\n",
       "      <th>4</th>\n",
       "      <th>5</th>\n",
       "      <th>6</th>\n",
       "      <th>7</th>\n",
       "      <th>8</th>\n",
       "      <th>9</th>\n",
       "      <th>10</th>\n",
       "      <th>11</th>\n",
       "    </tr>\n",
       "  </thead>\n",
       "  <tbody>\n",
       "    <tr>\n",
       "      <th>0</th>\n",
       "      <td>0759871002</td>\n",
       "      <td>0372860001</td>\n",
       "      <td>0706016002</td>\n",
       "      <td>0372860002</td>\n",
       "      <td>0608776002</td>\n",
       "      <td>0706016001</td>\n",
       "      <td>0673396002</td>\n",
       "      <td>0399256001</td>\n",
       "      <td>0160442007</td>\n",
       "      <td>0636323001</td>\n",
       "      <td>0562245001</td>\n",
       "      <td>0749699002</td>\n",
       "    </tr>\n",
       "    <tr>\n",
       "      <th>1</th>\n",
       "      <td>0759871002</td>\n",
       "      <td>0610776002</td>\n",
       "      <td>0706016001</td>\n",
       "      <td>0673396002</td>\n",
       "      <td>0720125001</td>\n",
       "      <td>0464297007</td>\n",
       "      <td>0685814001</td>\n",
       "      <td>0372860002</td>\n",
       "      <td>0751471001</td>\n",
       "      <td>0399223001</td>\n",
       "      <td>0562245046</td>\n",
       "      <td>0717490008</td>\n",
       "    </tr>\n",
       "    <tr>\n",
       "      <th>2</th>\n",
       "      <td>0706016002</td>\n",
       "      <td>0610776002</td>\n",
       "      <td>0568601006</td>\n",
       "      <td>0572797002</td>\n",
       "      <td>0608776002</td>\n",
       "      <td>0372860002</td>\n",
       "      <td>0706016001</td>\n",
       "      <td>0399256001</td>\n",
       "      <td>0759871002</td>\n",
       "      <td>0372860001</td>\n",
       "      <td>0841383002</td>\n",
       "      <td>0720125001</td>\n",
       "    </tr>\n",
       "    <tr>\n",
       "      <th>3</th>\n",
       "      <td>0706016002</td>\n",
       "      <td>0464297007</td>\n",
       "      <td>0759871002</td>\n",
       "      <td>0688537011</td>\n",
       "      <td>0673396002</td>\n",
       "      <td>0706016001</td>\n",
       "      <td>0608776002</td>\n",
       "      <td>0714790020</td>\n",
       "      <td>0573716012</td>\n",
       "      <td>0749699001</td>\n",
       "      <td>0372860002</td>\n",
       "      <td>0719655001</td>\n",
       "    </tr>\n",
       "    <tr>\n",
       "      <th>4</th>\n",
       "      <td>0562245001</td>\n",
       "      <td>0372860002</td>\n",
       "      <td>0720125001</td>\n",
       "      <td>0610776001</td>\n",
       "      <td>0610776002</td>\n",
       "      <td>0706016002</td>\n",
       "      <td>0562245046</td>\n",
       "      <td>0568601006</td>\n",
       "      <td>0706016001</td>\n",
       "      <td>0399223001</td>\n",
       "      <td>0685814001</td>\n",
       "      <td>0608776002</td>\n",
       "    </tr>\n",
       "  </tbody>\n",
       "</table>\n",
       "</div>\n",
       "      <button class=\"colab-df-convert\" onclick=\"convertToInteractive('df-4073035c-24d4-41d4-bb0b-1d55c7059ade')\"\n",
       "              title=\"Convert this dataframe to an interactive table.\"\n",
       "              style=\"display:none;\">\n",
       "        \n",
       "  <svg xmlns=\"http://www.w3.org/2000/svg\" height=\"24px\"viewBox=\"0 0 24 24\"\n",
       "       width=\"24px\">\n",
       "    <path d=\"M0 0h24v24H0V0z\" fill=\"none\"/>\n",
       "    <path d=\"M18.56 5.44l.94 2.06.94-2.06 2.06-.94-2.06-.94-.94-2.06-.94 2.06-2.06.94zm-11 1L8.5 8.5l.94-2.06 2.06-.94-2.06-.94L8.5 2.5l-.94 2.06-2.06.94zm10 10l.94 2.06.94-2.06 2.06-.94-2.06-.94-.94-2.06-.94 2.06-2.06.94z\"/><path d=\"M17.41 7.96l-1.37-1.37c-.4-.4-.92-.59-1.43-.59-.52 0-1.04.2-1.43.59L10.3 9.45l-7.72 7.72c-.78.78-.78 2.05 0 2.83L4 21.41c.39.39.9.59 1.41.59.51 0 1.02-.2 1.41-.59l7.78-7.78 2.81-2.81c.8-.78.8-2.07 0-2.86zM5.41 20L4 18.59l7.72-7.72 1.47 1.35L5.41 20z\"/>\n",
       "  </svg>\n",
       "      </button>\n",
       "      \n",
       "  <style>\n",
       "    .colab-df-container {\n",
       "      display:flex;\n",
       "      flex-wrap:wrap;\n",
       "      gap: 12px;\n",
       "    }\n",
       "\n",
       "    .colab-df-convert {\n",
       "      background-color: #E8F0FE;\n",
       "      border: none;\n",
       "      border-radius: 50%;\n",
       "      cursor: pointer;\n",
       "      display: none;\n",
       "      fill: #1967D2;\n",
       "      height: 32px;\n",
       "      padding: 0 0 0 0;\n",
       "      width: 32px;\n",
       "    }\n",
       "\n",
       "    .colab-df-convert:hover {\n",
       "      background-color: #E2EBFA;\n",
       "      box-shadow: 0px 1px 2px rgba(60, 64, 67, 0.3), 0px 1px 3px 1px rgba(60, 64, 67, 0.15);\n",
       "      fill: #174EA6;\n",
       "    }\n",
       "\n",
       "    [theme=dark] .colab-df-convert {\n",
       "      background-color: #3B4455;\n",
       "      fill: #D2E3FC;\n",
       "    }\n",
       "\n",
       "    [theme=dark] .colab-df-convert:hover {\n",
       "      background-color: #434B5C;\n",
       "      box-shadow: 0px 1px 3px 1px rgba(0, 0, 0, 0.15);\n",
       "      filter: drop-shadow(0px 1px 2px rgba(0, 0, 0, 0.3));\n",
       "      fill: #FFFFFF;\n",
       "    }\n",
       "  </style>\n",
       "\n",
       "      <script>\n",
       "        const buttonEl =\n",
       "          document.querySelector('#df-4073035c-24d4-41d4-bb0b-1d55c7059ade button.colab-df-convert');\n",
       "        buttonEl.style.display =\n",
       "          google.colab.kernel.accessAllowed ? 'block' : 'none';\n",
       "\n",
       "        async function convertToInteractive(key) {\n",
       "          const element = document.querySelector('#df-4073035c-24d4-41d4-bb0b-1d55c7059ade');\n",
       "          const dataTable =\n",
       "            await google.colab.kernel.invokeFunction('convertToInteractive',\n",
       "                                                     [key], {});\n",
       "          if (!dataTable) return;\n",
       "\n",
       "          const docLinkHtml = 'Like what you see? Visit the ' +\n",
       "            '<a target=\"_blank\" href=https://colab.research.google.com/notebooks/data_table.ipynb>data table notebook</a>'\n",
       "            + ' to learn more about interactive tables.';\n",
       "          element.innerHTML = '';\n",
       "          dataTable['output_type'] = 'display_data';\n",
       "          await google.colab.output.renderOutput(dataTable, element);\n",
       "          const docLink = document.createElement('div');\n",
       "          docLink.innerHTML = docLinkHtml;\n",
       "          element.appendChild(docLink);\n",
       "        }\n",
       "      </script>\n",
       "    </div>\n",
       "  </div>\n",
       "  "
      ],
      "text/plain": [
       "           0           1           2           3           4           5   \\\n",
       "0  0759871002  0372860001  0706016002  0372860002  0608776002  0706016001   \n",
       "1  0759871002  0610776002  0706016001  0673396002  0720125001  0464297007   \n",
       "2  0706016002  0610776002  0568601006  0572797002  0608776002  0372860002   \n",
       "3  0706016002  0464297007  0759871002  0688537011  0673396002  0706016001   \n",
       "4  0562245001  0372860002  0720125001  0610776001  0610776002  0706016002   \n",
       "\n",
       "           6           7           8           9           10          11  \n",
       "0  0673396002  0399256001  0160442007  0636323001  0562245001  0749699002  \n",
       "1  0685814001  0372860002  0751471001  0399223001  0562245046  0717490008  \n",
       "2  0706016001  0399256001  0759871002  0372860001  0841383002  0720125001  \n",
       "3  0608776002  0714790020  0573716012  0749699001  0372860002  0719655001  \n",
       "4  0562245046  0568601006  0706016001  0399223001  0685814001  0608776002  "
      ]
     },
     "execution_count": 33,
     "metadata": {},
     "output_type": "execute_result"
    }
   ],
   "source": [
    "top_12_predictions_df.head()"
   ]
  },
  {
   "cell_type": "code",
   "execution_count": 34,
   "id": "jCJXsAltJfJa",
   "metadata": {
    "executionInfo": {
     "elapsed": 50889,
     "status": "ok",
     "timestamp": 1648477098856,
     "user": {
      "displayName": "Steven George",
      "photoUrl": "https://lh3.googleusercontent.com/a/default-user=s64",
      "userId": "07709250839253394649"
     },
     "user_tz": -60
    },
    "id": "jCJXsAltJfJa"
   },
   "outputs": [],
   "source": [
    "top_12_predictions_df['prediction'] = top_12_predictions_df[list(range(12))].agg(' '.join, axis=1)"
   ]
  },
  {
   "cell_type": "code",
   "execution_count": 35,
   "id": "gP1ADzsHJzSm",
   "metadata": {
    "colab": {
     "base_uri": "https://localhost:8080/",
     "height": 206
    },
    "executionInfo": {
     "elapsed": 4207,
     "status": "ok",
     "timestamp": 1648477103048,
     "user": {
      "displayName": "Steven George",
      "photoUrl": "https://lh3.googleusercontent.com/a/default-user=s64",
      "userId": "07709250839253394649"
     },
     "user_tz": -60
    },
    "id": "gP1ADzsHJzSm",
    "outputId": "10b3d501-f55d-42b3-fbee-8eadf6ff1942"
   },
   "outputs": [
    {
     "data": {
      "text/html": [
       "\n",
       "  <div id=\"df-5bdcf04f-a0cd-4990-8f1a-24c7994ed514\">\n",
       "    <div class=\"colab-df-container\">\n",
       "      <div>\n",
       "<style scoped>\n",
       "    .dataframe tbody tr th:only-of-type {\n",
       "        vertical-align: middle;\n",
       "    }\n",
       "\n",
       "    .dataframe tbody tr th {\n",
       "        vertical-align: top;\n",
       "    }\n",
       "\n",
       "    .dataframe thead th {\n",
       "        text-align: right;\n",
       "    }\n",
       "</style>\n",
       "<table border=\"1\" class=\"dataframe\">\n",
       "  <thead>\n",
       "    <tr style=\"text-align: right;\">\n",
       "      <th></th>\n",
       "      <th>customer_id</th>\n",
       "      <th>dummy_label</th>\n",
       "      <th>article_id_idx_historical</th>\n",
       "    </tr>\n",
       "  </thead>\n",
       "  <tbody>\n",
       "    <tr>\n",
       "      <th>0</th>\n",
       "      <td>00000dbacae5abe5e23885899a1fa44253a17956c6d1c3...</td>\n",
       "      <td>999</td>\n",
       "      <td>29518,101,30329,50726,16005,16005,23998,65669,...</td>\n",
       "    </tr>\n",
       "    <tr>\n",
       "      <th>1</th>\n",
       "      <td>0000423b00ade91418cceaf3b26c6af3dd342b51fd051e...</td>\n",
       "      <td>999</td>\n",
       "      <td>19335,33750,33993,8218,41026,19335,42628,41026...</td>\n",
       "    </tr>\n",
       "    <tr>\n",
       "      <th>2</th>\n",
       "      <td>000058a12d5b43e67d225668fa1f8d618c13dc232df0ca...</td>\n",
       "      <td>999</td>\n",
       "      <td>40181,10522,40181,18199,59460,1471,1471,60255,...</td>\n",
       "    </tr>\n",
       "    <tr>\n",
       "      <th>3</th>\n",
       "      <td>00005ca1c9ed5f5146b52ac8639a40ca9d57aeff4d1bd2...</td>\n",
       "      <td>999</td>\n",
       "      <td>64527,61177</td>\n",
       "    </tr>\n",
       "    <tr>\n",
       "      <th>4</th>\n",
       "      <td>00006413d8573cd20ed7128e53b7b13819fe5cfc2d801f...</td>\n",
       "      <td>999</td>\n",
       "      <td>32249,43444,51126,54463,2183,2183,20519,87478,...</td>\n",
       "    </tr>\n",
       "  </tbody>\n",
       "</table>\n",
       "</div>\n",
       "      <button class=\"colab-df-convert\" onclick=\"convertToInteractive('df-5bdcf04f-a0cd-4990-8f1a-24c7994ed514')\"\n",
       "              title=\"Convert this dataframe to an interactive table.\"\n",
       "              style=\"display:none;\">\n",
       "        \n",
       "  <svg xmlns=\"http://www.w3.org/2000/svg\" height=\"24px\"viewBox=\"0 0 24 24\"\n",
       "       width=\"24px\">\n",
       "    <path d=\"M0 0h24v24H0V0z\" fill=\"none\"/>\n",
       "    <path d=\"M18.56 5.44l.94 2.06.94-2.06 2.06-.94-2.06-.94-.94-2.06-.94 2.06-2.06.94zm-11 1L8.5 8.5l.94-2.06 2.06-.94-2.06-.94L8.5 2.5l-.94 2.06-2.06.94zm10 10l.94 2.06.94-2.06 2.06-.94-2.06-.94-.94-2.06-.94 2.06-2.06.94z\"/><path d=\"M17.41 7.96l-1.37-1.37c-.4-.4-.92-.59-1.43-.59-.52 0-1.04.2-1.43.59L10.3 9.45l-7.72 7.72c-.78.78-.78 2.05 0 2.83L4 21.41c.39.39.9.59 1.41.59.51 0 1.02-.2 1.41-.59l7.78-7.78 2.81-2.81c.8-.78.8-2.07 0-2.86zM5.41 20L4 18.59l7.72-7.72 1.47 1.35L5.41 20z\"/>\n",
       "  </svg>\n",
       "      </button>\n",
       "      \n",
       "  <style>\n",
       "    .colab-df-container {\n",
       "      display:flex;\n",
       "      flex-wrap:wrap;\n",
       "      gap: 12px;\n",
       "    }\n",
       "\n",
       "    .colab-df-convert {\n",
       "      background-color: #E8F0FE;\n",
       "      border: none;\n",
       "      border-radius: 50%;\n",
       "      cursor: pointer;\n",
       "      display: none;\n",
       "      fill: #1967D2;\n",
       "      height: 32px;\n",
       "      padding: 0 0 0 0;\n",
       "      width: 32px;\n",
       "    }\n",
       "\n",
       "    .colab-df-convert:hover {\n",
       "      background-color: #E2EBFA;\n",
       "      box-shadow: 0px 1px 2px rgba(60, 64, 67, 0.3), 0px 1px 3px 1px rgba(60, 64, 67, 0.15);\n",
       "      fill: #174EA6;\n",
       "    }\n",
       "\n",
       "    [theme=dark] .colab-df-convert {\n",
       "      background-color: #3B4455;\n",
       "      fill: #D2E3FC;\n",
       "    }\n",
       "\n",
       "    [theme=dark] .colab-df-convert:hover {\n",
       "      background-color: #434B5C;\n",
       "      box-shadow: 0px 1px 3px 1px rgba(0, 0, 0, 0.15);\n",
       "      filter: drop-shadow(0px 1px 2px rgba(0, 0, 0, 0.3));\n",
       "      fill: #FFFFFF;\n",
       "    }\n",
       "  </style>\n",
       "\n",
       "      <script>\n",
       "        const buttonEl =\n",
       "          document.querySelector('#df-5bdcf04f-a0cd-4990-8f1a-24c7994ed514 button.colab-df-convert');\n",
       "        buttonEl.style.display =\n",
       "          google.colab.kernel.accessAllowed ? 'block' : 'none';\n",
       "\n",
       "        async function convertToInteractive(key) {\n",
       "          const element = document.querySelector('#df-5bdcf04f-a0cd-4990-8f1a-24c7994ed514');\n",
       "          const dataTable =\n",
       "            await google.colab.kernel.invokeFunction('convertToInteractive',\n",
       "                                                     [key], {});\n",
       "          if (!dataTable) return;\n",
       "\n",
       "          const docLinkHtml = 'Like what you see? Visit the ' +\n",
       "            '<a target=\"_blank\" href=https://colab.research.google.com/notebooks/data_table.ipynb>data table notebook</a>'\n",
       "            + ' to learn more about interactive tables.';\n",
       "          element.innerHTML = '';\n",
       "          dataTable['output_type'] = 'display_data';\n",
       "          await google.colab.output.renderOutput(dataTable, element);\n",
       "          const docLink = document.createElement('div');\n",
       "          docLink.innerHTML = docLinkHtml;\n",
       "          element.appendChild(docLink);\n",
       "        }\n",
       "      </script>\n",
       "    </div>\n",
       "  </div>\n",
       "  "
      ],
      "text/plain": [
       "                                         customer_id  dummy_label  \\\n",
       "0  00000dbacae5abe5e23885899a1fa44253a17956c6d1c3...          999   \n",
       "1  0000423b00ade91418cceaf3b26c6af3dd342b51fd051e...          999   \n",
       "2  000058a12d5b43e67d225668fa1f8d618c13dc232df0ca...          999   \n",
       "3  00005ca1c9ed5f5146b52ac8639a40ca9d57aeff4d1bd2...          999   \n",
       "4  00006413d8573cd20ed7128e53b7b13819fe5cfc2d801f...          999   \n",
       "\n",
       "                           article_id_idx_historical  \n",
       "0  29518,101,30329,50726,16005,16005,23998,65669,...  \n",
       "1  19335,33750,33993,8218,41026,19335,42628,41026...  \n",
       "2  40181,10522,40181,18199,59460,1471,1471,60255,...  \n",
       "3                                        64527,61177  \n",
       "4  32249,43444,51126,54463,2183,2183,20519,87478,...  "
      ]
     },
     "execution_count": 35,
     "metadata": {},
     "output_type": "execute_result"
    }
   ],
   "source": [
    "final_submission = pd.read_csv('data/splits/submission_inputs.tsv', sep='\\t')\n",
    "final_submission.head()"
   ]
  },
  {
   "cell_type": "code",
   "execution_count": 36,
   "id": "2RY9qEAxKbmE",
   "metadata": {
    "colab": {
     "base_uri": "https://localhost:8080/"
    },
    "executionInfo": {
     "elapsed": 6,
     "status": "ok",
     "timestamp": 1648477103048,
     "user": {
      "displayName": "Steven George",
      "photoUrl": "https://lh3.googleusercontent.com/a/default-user=s64",
      "userId": "07709250839253394649"
     },
     "user_tz": -60
    },
    "id": "2RY9qEAxKbmE",
    "outputId": "8e1edaa3-7ef8-4e24-c243-0b4a678355e3"
   },
   "outputs": [
    {
     "data": {
      "text/plain": [
       "((1371980, 3), (1371980, 13))"
      ]
     },
     "execution_count": 36,
     "metadata": {},
     "output_type": "execute_result"
    }
   ],
   "source": [
    "final_submission.shape, top_12_predictions_df.shape"
   ]
  },
  {
   "cell_type": "code",
   "execution_count": 37,
   "id": "DA2FS9-xKfsw",
   "metadata": {
    "colab": {
     "base_uri": "https://localhost:8080/",
     "height": 224
    },
    "executionInfo": {
     "elapsed": 992,
     "status": "ok",
     "timestamp": 1648477104036,
     "user": {
      "displayName": "Steven George",
      "photoUrl": "https://lh3.googleusercontent.com/a/default-user=s64",
      "userId": "07709250839253394649"
     },
     "user_tz": -60
    },
    "id": "DA2FS9-xKfsw",
    "outputId": "eb4626af-b1dc-4723-f4ad-e4634fc469a0"
   },
   "outputs": [
    {
     "name": "stdout",
     "output_type": "stream",
     "text": [
      "(1371980, 2)\n"
     ]
    },
    {
     "data": {
      "text/html": [
       "\n",
       "  <div id=\"df-1a8d5d4d-444a-4416-a0cf-230c8cf45b82\">\n",
       "    <div class=\"colab-df-container\">\n",
       "      <div>\n",
       "<style scoped>\n",
       "    .dataframe tbody tr th:only-of-type {\n",
       "        vertical-align: middle;\n",
       "    }\n",
       "\n",
       "    .dataframe tbody tr th {\n",
       "        vertical-align: top;\n",
       "    }\n",
       "\n",
       "    .dataframe thead th {\n",
       "        text-align: right;\n",
       "    }\n",
       "</style>\n",
       "<table border=\"1\" class=\"dataframe\">\n",
       "  <thead>\n",
       "    <tr style=\"text-align: right;\">\n",
       "      <th></th>\n",
       "      <th>customer_id</th>\n",
       "      <th>prediction</th>\n",
       "    </tr>\n",
       "  </thead>\n",
       "  <tbody>\n",
       "    <tr>\n",
       "      <th>0</th>\n",
       "      <td>00000dbacae5abe5e23885899a1fa44253a17956c6d1c3...</td>\n",
       "      <td>0759871002 0372860001 0706016002 0372860002 06...</td>\n",
       "    </tr>\n",
       "    <tr>\n",
       "      <th>1</th>\n",
       "      <td>0000423b00ade91418cceaf3b26c6af3dd342b51fd051e...</td>\n",
       "      <td>0759871002 0610776002 0706016001 0673396002 07...</td>\n",
       "    </tr>\n",
       "    <tr>\n",
       "      <th>2</th>\n",
       "      <td>000058a12d5b43e67d225668fa1f8d618c13dc232df0ca...</td>\n",
       "      <td>0706016002 0610776002 0568601006 0572797002 06...</td>\n",
       "    </tr>\n",
       "    <tr>\n",
       "      <th>3</th>\n",
       "      <td>00005ca1c9ed5f5146b52ac8639a40ca9d57aeff4d1bd2...</td>\n",
       "      <td>0706016002 0464297007 0759871002 0688537011 06...</td>\n",
       "    </tr>\n",
       "    <tr>\n",
       "      <th>4</th>\n",
       "      <td>00006413d8573cd20ed7128e53b7b13819fe5cfc2d801f...</td>\n",
       "      <td>0562245001 0372860002 0720125001 0610776001 06...</td>\n",
       "    </tr>\n",
       "  </tbody>\n",
       "</table>\n",
       "</div>\n",
       "      <button class=\"colab-df-convert\" onclick=\"convertToInteractive('df-1a8d5d4d-444a-4416-a0cf-230c8cf45b82')\"\n",
       "              title=\"Convert this dataframe to an interactive table.\"\n",
       "              style=\"display:none;\">\n",
       "        \n",
       "  <svg xmlns=\"http://www.w3.org/2000/svg\" height=\"24px\"viewBox=\"0 0 24 24\"\n",
       "       width=\"24px\">\n",
       "    <path d=\"M0 0h24v24H0V0z\" fill=\"none\"/>\n",
       "    <path d=\"M18.56 5.44l.94 2.06.94-2.06 2.06-.94-2.06-.94-.94-2.06-.94 2.06-2.06.94zm-11 1L8.5 8.5l.94-2.06 2.06-.94-2.06-.94L8.5 2.5l-.94 2.06-2.06.94zm10 10l.94 2.06.94-2.06 2.06-.94-2.06-.94-.94-2.06-.94 2.06-2.06.94z\"/><path d=\"M17.41 7.96l-1.37-1.37c-.4-.4-.92-.59-1.43-.59-.52 0-1.04.2-1.43.59L10.3 9.45l-7.72 7.72c-.78.78-.78 2.05 0 2.83L4 21.41c.39.39.9.59 1.41.59.51 0 1.02-.2 1.41-.59l7.78-7.78 2.81-2.81c.8-.78.8-2.07 0-2.86zM5.41 20L4 18.59l7.72-7.72 1.47 1.35L5.41 20z\"/>\n",
       "  </svg>\n",
       "      </button>\n",
       "      \n",
       "  <style>\n",
       "    .colab-df-container {\n",
       "      display:flex;\n",
       "      flex-wrap:wrap;\n",
       "      gap: 12px;\n",
       "    }\n",
       "\n",
       "    .colab-df-convert {\n",
       "      background-color: #E8F0FE;\n",
       "      border: none;\n",
       "      border-radius: 50%;\n",
       "      cursor: pointer;\n",
       "      display: none;\n",
       "      fill: #1967D2;\n",
       "      height: 32px;\n",
       "      padding: 0 0 0 0;\n",
       "      width: 32px;\n",
       "    }\n",
       "\n",
       "    .colab-df-convert:hover {\n",
       "      background-color: #E2EBFA;\n",
       "      box-shadow: 0px 1px 2px rgba(60, 64, 67, 0.3), 0px 1px 3px 1px rgba(60, 64, 67, 0.15);\n",
       "      fill: #174EA6;\n",
       "    }\n",
       "\n",
       "    [theme=dark] .colab-df-convert {\n",
       "      background-color: #3B4455;\n",
       "      fill: #D2E3FC;\n",
       "    }\n",
       "\n",
       "    [theme=dark] .colab-df-convert:hover {\n",
       "      background-color: #434B5C;\n",
       "      box-shadow: 0px 1px 3px 1px rgba(0, 0, 0, 0.15);\n",
       "      filter: drop-shadow(0px 1px 2px rgba(0, 0, 0, 0.3));\n",
       "      fill: #FFFFFF;\n",
       "    }\n",
       "  </style>\n",
       "\n",
       "      <script>\n",
       "        const buttonEl =\n",
       "          document.querySelector('#df-1a8d5d4d-444a-4416-a0cf-230c8cf45b82 button.colab-df-convert');\n",
       "        buttonEl.style.display =\n",
       "          google.colab.kernel.accessAllowed ? 'block' : 'none';\n",
       "\n",
       "        async function convertToInteractive(key) {\n",
       "          const element = document.querySelector('#df-1a8d5d4d-444a-4416-a0cf-230c8cf45b82');\n",
       "          const dataTable =\n",
       "            await google.colab.kernel.invokeFunction('convertToInteractive',\n",
       "                                                     [key], {});\n",
       "          if (!dataTable) return;\n",
       "\n",
       "          const docLinkHtml = 'Like what you see? Visit the ' +\n",
       "            '<a target=\"_blank\" href=https://colab.research.google.com/notebooks/data_table.ipynb>data table notebook</a>'\n",
       "            + ' to learn more about interactive tables.';\n",
       "          element.innerHTML = '';\n",
       "          dataTable['output_type'] = 'display_data';\n",
       "          await google.colab.output.renderOutput(dataTable, element);\n",
       "          const docLink = document.createElement('div');\n",
       "          docLink.innerHTML = docLinkHtml;\n",
       "          element.appendChild(docLink);\n",
       "        }\n",
       "      </script>\n",
       "    </div>\n",
       "  </div>\n",
       "  "
      ],
      "text/plain": [
       "                                         customer_id  \\\n",
       "0  00000dbacae5abe5e23885899a1fa44253a17956c6d1c3...   \n",
       "1  0000423b00ade91418cceaf3b26c6af3dd342b51fd051e...   \n",
       "2  000058a12d5b43e67d225668fa1f8d618c13dc232df0ca...   \n",
       "3  00005ca1c9ed5f5146b52ac8639a40ca9d57aeff4d1bd2...   \n",
       "4  00006413d8573cd20ed7128e53b7b13819fe5cfc2d801f...   \n",
       "\n",
       "                                          prediction  \n",
       "0  0759871002 0372860001 0706016002 0372860002 06...  \n",
       "1  0759871002 0610776002 0706016001 0673396002 07...  \n",
       "2  0706016002 0610776002 0568601006 0572797002 06...  \n",
       "3  0706016002 0464297007 0759871002 0688537011 06...  \n",
       "4  0562245001 0372860002 0720125001 0610776001 06...  "
      ]
     },
     "execution_count": 37,
     "metadata": {},
     "output_type": "execute_result"
    }
   ],
   "source": [
    "final_submission = pd.concat([final_submission, top_12_predictions_df], axis=1)[['customer_id', 'prediction']]\n",
    "print(final_submission.shape)\n",
    "final_submission.head()"
   ]
  },
  {
   "cell_type": "code",
   "execution_count": 38,
   "id": "3CKIPNh-Ty_O",
   "metadata": {
    "executionInfo": {
     "elapsed": 9135,
     "status": "ok",
     "timestamp": 1648477113167,
     "user": {
      "displayName": "Steven George",
      "photoUrl": "https://lh3.googleusercontent.com/a/default-user=s64",
      "userId": "07709250839253394649"
     },
     "user_tz": -60
    },
    "id": "3CKIPNh-Ty_O"
   },
   "outputs": [],
   "source": [
    "final_submission.to_csv('data/20220327-fashionrecv1_4.csv', index=False)"
   ]
  },
  {
   "cell_type": "markdown",
   "id": "HD7zjeYHfqSG",
   "metadata": {
    "id": "HD7zjeYHfqSG"
   },
   "source": [
    "**Observations**\n",
    "\n",
    "- IterableDataset facilitates use of full training data without exceeding memory constraints. Training is also fast.\n",
    "- Whilst performance on dev set is good (MAP@12), performance on the competition dataset is always poor, only marginally beating the simple baseline\n",
    "- We suspect this is because the model is not trained on data in the 2 weeks before the competition dataset. We reserved these for dev and test but we should train on this to provide the model with recent customer interaction data\n",
    "- Validation should then be conducted as a series of folds where the training window is shifted\n",
    "- We will create new splits following this strategy and run the model again"
   ]
  }
 ],
 "metadata": {
  "accelerator": "GPU",
  "colab": {
   "machine_shape": "hm",
   "name": "05-FashionRecV1.ipynb",
   "provenance": []
  },
  "kernelspec": {
   "display_name": "Python 3 (ipykernel)",
   "language": "python",
   "name": "python3"
  },
  "language_info": {
   "codemirror_mode": {
    "name": "ipython",
    "version": 3
   },
   "file_extension": ".py",
   "mimetype": "text/x-python",
   "name": "python",
   "nbconvert_exporter": "python",
   "pygments_lexer": "ipython3",
   "version": "3.8.12"
  }
 },
 "nbformat": 4,
 "nbformat_minor": 5
}
