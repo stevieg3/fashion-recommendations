{
 "cells": [
  {
   "cell_type": "code",
   "execution_count": 1,
   "id": "c0f86e99",
   "metadata": {
    "colab": {
     "base_uri": "https://localhost:8080/"
    },
    "executionInfo": {
     "elapsed": 3210,
     "status": "ok",
     "timestamp": 1651409331042,
     "user": {
      "displayName": "Steven George",
      "userId": "07709250839253394649"
     },
     "user_tz": -60
    },
    "id": "684c29dc",
    "outputId": "20372b5e-61e6-403f-8590-9a9c8594986c"
   },
   "outputs": [],
   "source": [
    "# from google.colab import drive\n",
    "# drive.mount('/content/drive', force_remount=True)"
   ]
  },
  {
   "cell_type": "code",
   "execution_count": 2,
   "id": "01865680",
   "metadata": {
    "executionInfo": {
     "elapsed": 840,
     "status": "ok",
     "timestamp": 1651409331879,
     "user": {
      "displayName": "Steven George",
      "userId": "07709250839253394649"
     },
     "user_tz": -60
    },
    "id": "ed2a56ae"
   },
   "outputs": [],
   "source": [
    "import os\n",
    "import datetime\n",
    "\n",
    "import pandas as pd\n",
    "import numpy as np\n",
    "import matplotlib.pyplot as plt\n",
    "import torch\n",
    "import torch.nn as nn\n",
    "from torch.utils.data import Dataset, DataLoader, IterableDataset\n",
    "from tqdm import tqdm"
   ]
  },
  {
   "cell_type": "code",
   "execution_count": 3,
   "id": "856a1a2f",
   "metadata": {
    "executionInfo": {
     "elapsed": 7,
     "status": "ok",
     "timestamp": 1651409331880,
     "user": {
      "displayName": "Steven George",
      "userId": "07709250839253394649"
     },
     "user_tz": -60
    },
    "id": "5c91b0f7"
   },
   "outputs": [],
   "source": [
    "os.chdir('..')\n",
    "# os.chdir('drive/My Drive/Colab Notebooks/Github/fashion-recommendations') "
   ]
  },
  {
   "cell_type": "code",
   "execution_count": 4,
   "id": "bf0926a8",
   "metadata": {
    "executionInfo": {
     "elapsed": 6,
     "status": "ok",
     "timestamp": 1651409331880,
     "user": {
      "displayName": "Steven George",
      "userId": "07709250839253394649"
     },
     "user_tz": -60
    },
    "id": "66c257b2"
   },
   "outputs": [],
   "source": [
    "from fashion_recommendations.metrics.average_precision import mapk"
   ]
  },
  {
   "cell_type": "code",
   "execution_count": 5,
   "id": "d19cae7d",
   "metadata": {
    "executionInfo": {
     "elapsed": 5,
     "status": "ok",
     "timestamp": 1651409331880,
     "user": {
      "displayName": "Steven George",
      "userId": "07709250839253394649"
     },
     "user_tz": -60
    },
    "id": "f7a7dcef"
   },
   "outputs": [],
   "source": [
    "pd.options.display.max_columns = None"
   ]
  },
  {
   "cell_type": "code",
   "execution_count": 6,
   "id": "a1def69b",
   "metadata": {
    "colab": {
     "base_uri": "https://localhost:8080/"
    },
    "executionInfo": {
     "elapsed": 6,
     "status": "ok",
     "timestamp": 1651409331881,
     "user": {
      "displayName": "Steven George",
      "userId": "07709250839253394649"
     },
     "user_tz": -60
    },
    "id": "c8a9e80a",
    "outputId": "18e22a32-4e25-4bbe-9252-4890c3f2bf65"
   },
   "outputs": [
    {
     "name": "stdout",
     "output_type": "stream",
     "text": [
      "cpu\n"
     ]
    }
   ],
   "source": [
    "device = torch.device(\"cuda:0\" if torch.cuda.is_available() else \"cpu\")\n",
    "print(device)"
   ]
  },
  {
   "cell_type": "markdown",
   "id": "b6fb6f72",
   "metadata": {
    "id": "cb50efc7"
   },
   "source": [
    "### Load transactions"
   ]
  },
  {
   "cell_type": "code",
   "execution_count": 7,
   "id": "d9e90564",
   "metadata": {},
   "outputs": [],
   "source": [
    "# ' '.join(transactions_train['article_id'].value_counts().head(12).index.tolist())"
   ]
  },
  {
   "cell_type": "code",
   "execution_count": 8,
   "id": "0a7befdc",
   "metadata": {},
   "outputs": [
    {
     "name": "stdout",
     "output_type": "stream",
     "text": [
      "(31788324, 5)\n"
     ]
    },
    {
     "data": {
      "text/html": [
       "<div>\n",
       "<style scoped>\n",
       "    .dataframe tbody tr th:only-of-type {\n",
       "        vertical-align: middle;\n",
       "    }\n",
       "\n",
       "    .dataframe tbody tr th {\n",
       "        vertical-align: top;\n",
       "    }\n",
       "\n",
       "    .dataframe thead th {\n",
       "        text-align: right;\n",
       "    }\n",
       "</style>\n",
       "<table border=\"1\" class=\"dataframe\">\n",
       "  <thead>\n",
       "    <tr style=\"text-align: right;\">\n",
       "      <th></th>\n",
       "      <th>t_dat</th>\n",
       "      <th>customer_id</th>\n",
       "      <th>article_id</th>\n",
       "      <th>price</th>\n",
       "      <th>sales_channel_id</th>\n",
       "    </tr>\n",
       "  </thead>\n",
       "  <tbody>\n",
       "    <tr>\n",
       "      <th>0</th>\n",
       "      <td>2018-09-20</td>\n",
       "      <td>000058a12d5b43e67d225668fa1f8d618c13dc232df0ca...</td>\n",
       "      <td>0663713001</td>\n",
       "      <td>0.050831</td>\n",
       "      <td>2</td>\n",
       "    </tr>\n",
       "    <tr>\n",
       "      <th>1</th>\n",
       "      <td>2018-09-20</td>\n",
       "      <td>000058a12d5b43e67d225668fa1f8d618c13dc232df0ca...</td>\n",
       "      <td>0541518023</td>\n",
       "      <td>0.030492</td>\n",
       "      <td>2</td>\n",
       "    </tr>\n",
       "    <tr>\n",
       "      <th>2</th>\n",
       "      <td>2018-09-20</td>\n",
       "      <td>00007d2de826758b65a93dd24ce629ed66842531df6699...</td>\n",
       "      <td>0505221004</td>\n",
       "      <td>0.015237</td>\n",
       "      <td>2</td>\n",
       "    </tr>\n",
       "    <tr>\n",
       "      <th>3</th>\n",
       "      <td>2018-09-20</td>\n",
       "      <td>00007d2de826758b65a93dd24ce629ed66842531df6699...</td>\n",
       "      <td>0685687003</td>\n",
       "      <td>0.016932</td>\n",
       "      <td>2</td>\n",
       "    </tr>\n",
       "    <tr>\n",
       "      <th>4</th>\n",
       "      <td>2018-09-20</td>\n",
       "      <td>00007d2de826758b65a93dd24ce629ed66842531df6699...</td>\n",
       "      <td>0685687004</td>\n",
       "      <td>0.016932</td>\n",
       "      <td>2</td>\n",
       "    </tr>\n",
       "  </tbody>\n",
       "</table>\n",
       "</div>"
      ],
      "text/plain": [
       "        t_dat                                        customer_id  article_id  \\\n",
       "0  2018-09-20  000058a12d5b43e67d225668fa1f8d618c13dc232df0ca...  0663713001   \n",
       "1  2018-09-20  000058a12d5b43e67d225668fa1f8d618c13dc232df0ca...  0541518023   \n",
       "2  2018-09-20  00007d2de826758b65a93dd24ce629ed66842531df6699...  0505221004   \n",
       "3  2018-09-20  00007d2de826758b65a93dd24ce629ed66842531df6699...  0685687003   \n",
       "4  2018-09-20  00007d2de826758b65a93dd24ce629ed66842531df6699...  0685687004   \n",
       "\n",
       "      price  sales_channel_id  \n",
       "0  0.050831                 2  \n",
       "1  0.030492                 2  \n",
       "2  0.015237                 2  \n",
       "3  0.016932                 2  \n",
       "4  0.016932                 2  "
      ]
     },
     "execution_count": 8,
     "metadata": {},
     "output_type": "execute_result"
    }
   ],
   "source": [
    "transactions_train = pd.read_csv('data/transactions_train.csv', dtype={'article_id': str})\n",
    "print(transactions_train.shape)\n",
    "transactions_train.head()"
   ]
  },
  {
   "cell_type": "code",
   "execution_count": 9,
   "id": "c7cb0487",
   "metadata": {},
   "outputs": [],
   "source": [
    "transactions_train['t_dat'] = pd.to_datetime(transactions_train['t_dat'])"
   ]
  },
  {
   "cell_type": "code",
   "execution_count": 10,
   "id": "91a8b249",
   "metadata": {},
   "outputs": [
    {
     "data": {
      "text/plain": [
       "count    1.362281e+06\n",
       "mean     2.333463e+01\n",
       "std      3.924225e+01\n",
       "min      1.000000e+00\n",
       "25%      3.000000e+00\n",
       "50%      9.000000e+00\n",
       "75%      2.700000e+01\n",
       "max      1.895000e+03\n",
       "Name: article_id, dtype: float64"
      ]
     },
     "execution_count": 10,
     "metadata": {},
     "output_type": "execute_result"
    }
   ],
   "source": [
    "transactions_train.groupby('customer_id')['article_id'].count().describe()"
   ]
  },
  {
   "cell_type": "markdown",
   "id": "f11bdb2e",
   "metadata": {},
   "source": [
    "### Load articles"
   ]
  },
  {
   "cell_type": "code",
   "execution_count": 11,
   "id": "1a359081",
   "metadata": {},
   "outputs": [
    {
     "name": "stdout",
     "output_type": "stream",
     "text": [
      "(105542, 3)\n"
     ]
    },
    {
     "data": {
      "text/html": [
       "<div>\n",
       "<style scoped>\n",
       "    .dataframe tbody tr th:only-of-type {\n",
       "        vertical-align: middle;\n",
       "    }\n",
       "\n",
       "    .dataframe tbody tr th {\n",
       "        vertical-align: top;\n",
       "    }\n",
       "\n",
       "    .dataframe thead th {\n",
       "        text-align: right;\n",
       "    }\n",
       "</style>\n",
       "<table border=\"1\" class=\"dataframe\">\n",
       "  <thead>\n",
       "    <tr style=\"text-align: right;\">\n",
       "      <th></th>\n",
       "      <th>article_id</th>\n",
       "      <th>garment_group_name</th>\n",
       "      <th>detail_desc</th>\n",
       "    </tr>\n",
       "  </thead>\n",
       "  <tbody>\n",
       "    <tr>\n",
       "      <th>0</th>\n",
       "      <td>0108775015</td>\n",
       "      <td>Jersey Basic</td>\n",
       "      <td>Jersey top with narrow shoulder straps.</td>\n",
       "    </tr>\n",
       "    <tr>\n",
       "      <th>1</th>\n",
       "      <td>0108775044</td>\n",
       "      <td>Jersey Basic</td>\n",
       "      <td>Jersey top with narrow shoulder straps.</td>\n",
       "    </tr>\n",
       "    <tr>\n",
       "      <th>2</th>\n",
       "      <td>0108775051</td>\n",
       "      <td>Jersey Basic</td>\n",
       "      <td>Jersey top with narrow shoulder straps.</td>\n",
       "    </tr>\n",
       "    <tr>\n",
       "      <th>3</th>\n",
       "      <td>0110065001</td>\n",
       "      <td>Under-, Nightwear</td>\n",
       "      <td>Microfibre T-shirt bra with underwired, moulde...</td>\n",
       "    </tr>\n",
       "    <tr>\n",
       "      <th>4</th>\n",
       "      <td>0110065002</td>\n",
       "      <td>Under-, Nightwear</td>\n",
       "      <td>Microfibre T-shirt bra with underwired, moulde...</td>\n",
       "    </tr>\n",
       "  </tbody>\n",
       "</table>\n",
       "</div>"
      ],
      "text/plain": [
       "   article_id garment_group_name  \\\n",
       "0  0108775015       Jersey Basic   \n",
       "1  0108775044       Jersey Basic   \n",
       "2  0108775051       Jersey Basic   \n",
       "3  0110065001  Under-, Nightwear   \n",
       "4  0110065002  Under-, Nightwear   \n",
       "\n",
       "                                         detail_desc  \n",
       "0            Jersey top with narrow shoulder straps.  \n",
       "1            Jersey top with narrow shoulder straps.  \n",
       "2            Jersey top with narrow shoulder straps.  \n",
       "3  Microfibre T-shirt bra with underwired, moulde...  \n",
       "4  Microfibre T-shirt bra with underwired, moulde...  "
      ]
     },
     "execution_count": 11,
     "metadata": {},
     "output_type": "execute_result"
    }
   ],
   "source": [
    "articles_df = pd.read_csv(\n",
    "    'data/articles.csv', \n",
    "    dtype={'article_id': str},\n",
    "    usecols=['article_id', 'garment_group_name', 'detail_desc']\n",
    ")\n",
    "print(articles_df.shape)\n",
    "articles_df.head()"
   ]
  },
  {
   "cell_type": "code",
   "execution_count": 12,
   "id": "8741e383",
   "metadata": {},
   "outputs": [
    {
     "data": {
      "text/plain": [
       "article_id              0\n",
       "garment_group_name      0\n",
       "detail_desc           416\n",
       "dtype: int64"
      ]
     },
     "execution_count": 12,
     "metadata": {},
     "output_type": "execute_result"
    }
   ],
   "source": [
    "articles_df.isnull().sum()"
   ]
  },
  {
   "cell_type": "code",
   "execution_count": 13,
   "id": "9afdcec6",
   "metadata": {},
   "outputs": [],
   "source": [
    "articles_df['detail_desc'] = np.where(\n",
    "    articles_df['detail_desc'].isnull(), \n",
    "    articles_df['garment_group_name'], \n",
    "    articles_df['detail_desc']\n",
    ")"
   ]
  },
  {
   "cell_type": "markdown",
   "id": "86f3dcf5",
   "metadata": {},
   "source": [
    "### Find cut-offs"
   ]
  },
  {
   "cell_type": "code",
   "execution_count": 14,
   "id": "87d24739",
   "metadata": {},
   "outputs": [],
   "source": [
    "end = transactions_train['t_dat'].max()\n",
    "endm1 = end - datetime.timedelta(days=7)\n",
    "endm2 = endm1 - datetime.timedelta(days=7)\n",
    "endm3 = endm2 - datetime.timedelta(days=7)"
   ]
  },
  {
   "cell_type": "code",
   "execution_count": 15,
   "id": "77976572",
   "metadata": {},
   "outputs": [
    {
     "data": {
      "text/plain": [
       "(Timestamp('2020-09-22 00:00:00'),\n",
       " Timestamp('2020-09-15 00:00:00'),\n",
       " Timestamp('2020-09-08 00:00:00'),\n",
       " Timestamp('2020-09-01 00:00:00'))"
      ]
     },
     "execution_count": 15,
     "metadata": {},
     "output_type": "execute_result"
    }
   ],
   "source": [
    "end, endm1, endm2, endm3"
   ]
  },
  {
   "cell_type": "markdown",
   "id": "942bcb4f",
   "metadata": {},
   "source": [
    "train\n",
    "- inputs: start - endm3\n",
    "- labels: emdm3 - endm2\n",
    "\n",
    "dev\n",
    "- inputs: start - endm2\n",
    "- labels: emdm2 - endm1\n",
    "\n",
    "test \n",
    "- inputs: start - endm1\n",
    "- labels: endm1 - end"
   ]
  },
  {
   "cell_type": "code",
   "execution_count": 16,
   "id": "5f675ab2",
   "metadata": {},
   "outputs": [],
   "source": [
    "# transactions_train = transactions_train.copy()[transactions_train['t_dat'] > '2020-05-01']"
   ]
  },
  {
   "cell_type": "code",
   "execution_count": 17,
   "id": "db58bf08",
   "metadata": {},
   "outputs": [
    {
     "data": {
      "text/plain": [
       "1362281"
      ]
     },
     "execution_count": 17,
     "metadata": {},
     "output_type": "execute_result"
    }
   ],
   "source": [
    "transactions_train['customer_id'].nunique()"
   ]
  },
  {
   "cell_type": "code",
   "execution_count": 18,
   "id": "11fa3c9e",
   "metadata": {},
   "outputs": [
    {
     "data": {
      "text/plain": [
       "0.0370843989769821"
      ]
     },
     "execution_count": 18,
     "metadata": {},
     "output_type": "execute_result"
    }
   ],
   "source": [
    "# % of items in last week which didn't appear in prior weeks' transactions\n",
    "len(set(transactions_train[transactions_train['t_dat'] > endm1]['article_id']) - set(transactions_train[transactions_train['t_dat'] <= endm1]['article_id'])) / transactions_train[transactions_train['t_dat'] > endm1]['article_id'].nunique()"
   ]
  },
  {
   "cell_type": "code",
   "execution_count": 19,
   "id": "49c6272e",
   "metadata": {},
   "outputs": [
    {
     "data": {
      "text/plain": [
       "(31788324, 5)"
      ]
     },
     "execution_count": 19,
     "metadata": {},
     "output_type": "execute_result"
    }
   ],
   "source": [
    "transactions_train.shape"
   ]
  },
  {
   "cell_type": "code",
   "execution_count": 20,
   "id": "29ace160",
   "metadata": {},
   "outputs": [
    {
     "data": {
      "text/plain": [
       "0.9905724735176518"
      ]
     },
     "execution_count": 20,
     "metadata": {},
     "output_type": "execute_result"
    }
   ],
   "source": [
    "transactions_train['article_id'].nunique() / articles_df.shape[0]"
   ]
  },
  {
   "cell_type": "markdown",
   "id": "17aeb651",
   "metadata": {},
   "source": [
    "### Filter out unnecessary articles"
   ]
  },
  {
   "cell_type": "code",
   "execution_count": 21,
   "id": "4696c71a",
   "metadata": {},
   "outputs": [
    {
     "name": "stdout",
     "output_type": "stream",
     "text": [
      "(104547, 2)\n"
     ]
    },
    {
     "data": {
      "text/html": [
       "<div>\n",
       "<style scoped>\n",
       "    .dataframe tbody tr th:only-of-type {\n",
       "        vertical-align: middle;\n",
       "    }\n",
       "\n",
       "    .dataframe tbody tr th {\n",
       "        vertical-align: top;\n",
       "    }\n",
       "\n",
       "    .dataframe thead th {\n",
       "        text-align: right;\n",
       "    }\n",
       "</style>\n",
       "<table border=\"1\" class=\"dataframe\">\n",
       "  <thead>\n",
       "    <tr style=\"text-align: right;\">\n",
       "      <th></th>\n",
       "      <th>article_id</th>\n",
       "      <th>detail_desc</th>\n",
       "    </tr>\n",
       "  </thead>\n",
       "  <tbody>\n",
       "    <tr>\n",
       "      <th>0</th>\n",
       "      <td>0108775015</td>\n",
       "      <td>Jersey top with narrow shoulder straps.</td>\n",
       "    </tr>\n",
       "    <tr>\n",
       "      <th>1</th>\n",
       "      <td>0108775044</td>\n",
       "      <td>Jersey top with narrow shoulder straps.</td>\n",
       "    </tr>\n",
       "    <tr>\n",
       "      <th>2</th>\n",
       "      <td>0108775051</td>\n",
       "      <td>Jersey top with narrow shoulder straps.</td>\n",
       "    </tr>\n",
       "    <tr>\n",
       "      <th>3</th>\n",
       "      <td>0110065001</td>\n",
       "      <td>Microfibre T-shirt bra with underwired, moulde...</td>\n",
       "    </tr>\n",
       "    <tr>\n",
       "      <th>4</th>\n",
       "      <td>0110065002</td>\n",
       "      <td>Microfibre T-shirt bra with underwired, moulde...</td>\n",
       "    </tr>\n",
       "  </tbody>\n",
       "</table>\n",
       "</div>"
      ],
      "text/plain": [
       "   article_id                                        detail_desc\n",
       "0  0108775015            Jersey top with narrow shoulder straps.\n",
       "1  0108775044            Jersey top with narrow shoulder straps.\n",
       "2  0108775051            Jersey top with narrow shoulder straps.\n",
       "3  0110065001  Microfibre T-shirt bra with underwired, moulde...\n",
       "4  0110065002  Microfibre T-shirt bra with underwired, moulde..."
      ]
     },
     "execution_count": 21,
     "metadata": {},
     "output_type": "execute_result"
    }
   ],
   "source": [
    "articles_df = articles_df.copy()[\n",
    "    articles_df['article_id'].isin(transactions_train['article_id'].unique())\n",
    "]\n",
    "\n",
    "articles_df.reset_index(drop=True, inplace=True)\n",
    "articles_df.drop(columns=['garment_group_name'], inplace=True)\n",
    "print(articles_df.shape)\n",
    "articles_df.head()"
   ]
  },
  {
   "cell_type": "code",
   "execution_count": 22,
   "id": "3b31c9e1",
   "metadata": {},
   "outputs": [],
   "source": [
    "articles_df['article_id_idx'] = articles_df.index"
   ]
  },
  {
   "cell_type": "code",
   "execution_count": 23,
   "id": "281979e4",
   "metadata": {},
   "outputs": [],
   "source": [
    "article_id_to_idx = dict(zip(articles_df['article_id'], articles_df['article_id_idx']))"
   ]
  },
  {
   "cell_type": "code",
   "execution_count": 24,
   "id": "e52b5e8a",
   "metadata": {},
   "outputs": [],
   "source": [
    "transactions_train['article_id_idx'] = transactions_train['article_id'].map(article_id_to_idx)\n",
    "transactions_train['article_id_idx'] = transactions_train['article_id_idx'].astype(str)"
   ]
  },
  {
   "cell_type": "markdown",
   "id": "71ce6711",
   "metadata": {},
   "source": [
    "### Create splits\n",
    "\n",
    "#### Illustrative steps:"
   ]
  },
  {
   "cell_type": "code",
   "execution_count": 25,
   "id": "c9e6010b",
   "metadata": {},
   "outputs": [],
   "source": [
    "dev_labels = transactions_train.copy()[transactions_train['t_dat'] > endm1]"
   ]
  },
  {
   "cell_type": "code",
   "execution_count": null,
   "id": "c0fc3d18",
   "metadata": {},
   "outputs": [],
   "source": [
    "dev_inputs = transactions_train.copy()[transactions_train['t_dat'] <= endm1]"
   ]
  },
  {
   "cell_type": "code",
   "execution_count": null,
   "id": "5b597da4",
   "metadata": {},
   "outputs": [],
   "source": [
    "print(dev_inputs.shape)\n",
    "dev_inputs.head()"
   ]
  },
  {
   "cell_type": "code",
   "execution_count": null,
   "id": "66a27490",
   "metadata": {},
   "outputs": [],
   "source": [
    "dev_inputs.sort_values(['customer_id', 't_dat'], inplace=True)\n",
    "dev_inputs.head()"
   ]
  },
  {
   "cell_type": "code",
   "execution_count": null,
   "id": "37a98168",
   "metadata": {},
   "outputs": [],
   "source": [
    "# dev_inputs['total_purchases'] = dev_inputs.groupby('customer_id')['article_id'].transform('count')"
   ]
  },
  {
   "cell_type": "code",
   "execution_count": null,
   "id": "83a71317",
   "metadata": {},
   "outputs": [],
   "source": [
    "# print(dev_inputs.shape)\n",
    "# dev_inputs = dev_inputs.copy()[dev_inputs['total_purchases'] >= 10]\n",
    "# print(dev_inputs.shape)"
   ]
  },
  {
   "cell_type": "code",
   "execution_count": null,
   "id": "283d3f00",
   "metadata": {},
   "outputs": [],
   "source": [
    "dev_inputs['article_id_idx'] = dev_inputs['article_id_idx'].astype(str)"
   ]
  },
  {
   "cell_type": "markdown",
   "id": "4b9b0cb7",
   "metadata": {},
   "source": [
    "- Age of last transaction\n",
    "- Transaction count\n",
    "- Incoporate count in vector representation"
   ]
  },
  {
   "cell_type": "code",
   "execution_count": null,
   "id": "1a28cc71",
   "metadata": {},
   "outputs": [],
   "source": [
    "latest_transaction_date_by_cust = dev_inputs.groupby('customer_id')[['customer_id', 't_dat']].tail(1)\n",
    "latest_transaction_date_by_cust.head()"
   ]
  },
  {
   "cell_type": "code",
   "execution_count": null,
   "id": "c41d9a72",
   "metadata": {},
   "outputs": [],
   "source": [
    "dev_inputs = (\n",
    "    dev_inputs\n",
    "        .groupby('customer_id')\n",
    "        .tail(10)  # Most recent articles only\n",
    "        .groupby('customer_id')['article_id_idx']\n",
    "        .apply(lambda x: ','.join(x))\n",
    "        .reset_index()\n",
    ")\n",
    "print(dev_inputs.shape)\n",
    "dev_inputs.head()"
   ]
  },
  {
   "cell_type": "code",
   "execution_count": null,
   "id": "3dec0166",
   "metadata": {},
   "outputs": [],
   "source": [
    "dev_inputs = dev_inputs.merge(latest_transaction_date_by_cust.rename(columns={'t_dat': 't_dat_latest'}), on='customer_id')\n",
    "print(dev_inputs.shape)\n",
    "dev_inputs.head()"
   ]
  },
  {
   "cell_type": "code",
   "execution_count": null,
   "id": "5caaa5ec",
   "metadata": {},
   "outputs": [],
   "source": [
    "dev_labels.shape"
   ]
  },
  {
   "cell_type": "code",
   "execution_count": null,
   "id": "90627111",
   "metadata": {},
   "outputs": [],
   "source": [
    "dev_labels.head()"
   ]
  },
  {
   "cell_type": "code",
   "execution_count": null,
   "id": "aef3b371",
   "metadata": {},
   "outputs": [],
   "source": [
    "num_purchases_df = dev_labels.groupby(['customer_id', 'article_id'])['t_dat'].count().reset_index().rename(columns={'t_dat': 'num_purchases'})\n",
    "print(num_purchases_df.shape)\n",
    "num_purchases_df.head()"
   ]
  },
  {
   "cell_type": "code",
   "execution_count": null,
   "id": "381425a2",
   "metadata": {},
   "outputs": [],
   "source": [
    "num_purchases_df['num_purchases'] = num_purchases_df['num_purchases'].astype(str)"
   ]
  },
  {
   "cell_type": "code",
   "execution_count": null,
   "id": "326082e4",
   "metadata": {},
   "outputs": [],
   "source": [
    "dev_labels = num_purchases_df.groupby('customer_id').agg(\n",
    "    {\n",
    "        'article_id': lambda x: ','.join(x),\n",
    "        'num_purchases': lambda x: ','.join(x)\n",
    "    }\n",
    ").reset_index()\n",
    "\n",
    "print(dev_labels.shape)\n",
    "dev_labels.head()"
   ]
  },
  {
   "cell_type": "code",
   "execution_count": null,
   "id": "030150d2",
   "metadata": {},
   "outputs": [],
   "source": [
    "dev_set = dev_inputs.merge(dev_labels, on='customer_id', how='outer', indicator=True, suffixes=('_last10', '_label'))\n",
    "dev_set.shape"
   ]
  },
  {
   "cell_type": "code",
   "execution_count": null,
   "id": "43fedec2",
   "metadata": {},
   "outputs": [],
   "source": [
    "dev_set['_merge'].value_counts() / dev_set.shape[0]"
   ]
  },
  {
   "cell_type": "markdown",
   "id": "96d0cbf1",
   "metadata": {},
   "source": [
    "`left_only` = customers who did not make purchases in last week\n",
    "\n",
    "`both` = customers who did make purchases in last week and made purchases in the past\n",
    "\n",
    "`right_only` = customers who did make purchases in last week but made no purchases in the past (cold start)\n",
    "\n",
    "Keep `both` only. For cold start we can just predict top-12 and `left_only` won't contribute to MAP"
   ]
  },
  {
   "cell_type": "code",
   "execution_count": null,
   "id": "020d6c56",
   "metadata": {},
   "outputs": [],
   "source": [
    "dev_set = dev_set.copy()[dev_set['_merge'] == 'both']\n",
    "dev_set.drop('_merge', inplace=True, axis=1)\n",
    "print(dev_set.shape)\n",
    "dev_set.head()"
   ]
  },
  {
   "cell_type": "code",
   "execution_count": null,
   "id": "c364db39",
   "metadata": {},
   "outputs": [],
   "source": [
    "endm3"
   ]
  },
  {
   "cell_type": "code",
   "execution_count": null,
   "id": "a86d70ad",
   "metadata": {},
   "outputs": [],
   "source": [
    "endm3 - datetime.timedelta(days=100)"
   ]
  },
  {
   "cell_type": "code",
   "execution_count": null,
   "id": "9175ac43",
   "metadata": {},
   "outputs": [],
   "source": [
    "dev_set['example_age'] = (endm3 - dev_set['t_dat_latest']).dt.days / 100"
   ]
  },
  {
   "cell_type": "code",
   "execution_count": null,
   "id": "e7db6743",
   "metadata": {},
   "outputs": [],
   "source": [
    "dev_set['example_age'].hist()"
   ]
  },
  {
   "cell_type": "code",
   "execution_count": null,
   "id": "8270954e",
   "metadata": {},
   "outputs": [],
   "source": [
    "dev_set.head()"
   ]
  },
  {
   "cell_type": "markdown",
   "id": "97b5b253",
   "metadata": {},
   "source": [
    "#### Function"
   ]
  },
  {
   "cell_type": "markdown",
   "id": "a2182813",
   "metadata": {},
   "source": [
    "train\n",
    "- inputs: start - endm3\n",
    "- labels: emdm3 - endm2\n",
    "\n",
    "dev\n",
    "- inputs: start - endm2\n",
    "- labels: emdm2 - endm1\n",
    "\n",
    "test \n",
    "- inputs: start - endm1\n",
    "- labels: endm1 - end"
   ]
  },
  {
   "cell_type": "code",
   "execution_count": 25,
   "id": "d2d229ae",
   "metadata": {},
   "outputs": [],
   "source": [
    "MAX_PURCHASE_HISTORY = 100\n",
    "\n",
    "def create_article_input_output_df(inputs, labels, example_age_end, max_purchase_history=MAX_PURCHASE_HISTORY):\n",
    "    \n",
    "    inputs = inputs.copy()\n",
    "    labels = labels.copy()\n",
    "    \n",
    "    inputs.sort_values(['customer_id', 't_dat'], inplace=True)\n",
    "\n",
    "    inputs['article_id_idx'] = inputs['article_id_idx'].astype(str)\n",
    "    \n",
    "    latest_transaction_date_by_cust = (\n",
    "        inputs\n",
    "            .groupby('customer_id')[['customer_id', 't_dat']]\n",
    "            .tail(1)\n",
    "    )\n",
    "    \n",
    "    inputs = (\n",
    "        inputs\n",
    "            .groupby('customer_id')\n",
    "            .tail(max_purchase_history)  # Most recent articles only\n",
    "            .groupby('customer_id')['article_id_idx']\n",
    "            .apply(lambda x: ','.join(x))\n",
    "            .reset_index()\n",
    "    )\n",
    "    \n",
    "    inputs = inputs.merge(\n",
    "        latest_transaction_date_by_cust.rename(columns={'t_dat': 't_dat_latest'}), \n",
    "        on='customer_id'\n",
    "    )\n",
    "    \n",
    "    num_purchases_df = (\n",
    "        labels\n",
    "            .groupby(['customer_id', 'article_id_idx'])['t_dat']\n",
    "            .count()\n",
    "            .reset_index()\n",
    "            .rename(columns={'t_dat': 'num_purchases'})\n",
    "    )\n",
    "    \n",
    "    num_purchases_df['num_purchases'] = num_purchases_df['num_purchases'].astype(str)\n",
    "    \n",
    "    labels = num_purchases_df.groupby('customer_id').agg(\n",
    "        {\n",
    "            'article_id_idx': lambda x: ','.join(x),\n",
    "            'num_purchases': lambda x: ','.join(x)\n",
    "        }\n",
    "    ).reset_index()\n",
    "\n",
    "    data_set = inputs.merge(labels, on='customer_id', how='outer', indicator=True, suffixes=('_last10', '_label'))\n",
    "\n",
    "    data_set = data_set.copy()[data_set['_merge'] == 'both']\n",
    "    data_set.drop('_merge', inplace=True, axis=1)\n",
    "    \n",
    "    data_set['example_age'] = (example_age_end - data_set['t_dat_latest']).dt.days / 100\n",
    "\n",
    "    return data_set"
   ]
  },
  {
   "cell_type": "code",
   "execution_count": 26,
   "id": "d23df39f",
   "metadata": {},
   "outputs": [
    {
     "name": "stdout",
     "output_type": "stream",
     "text": [
      "(63412, 6)\n"
     ]
    },
    {
     "data": {
      "text/html": [
       "<div>\n",
       "<style scoped>\n",
       "    .dataframe tbody tr th:only-of-type {\n",
       "        vertical-align: middle;\n",
       "    }\n",
       "\n",
       "    .dataframe tbody tr th {\n",
       "        vertical-align: top;\n",
       "    }\n",
       "\n",
       "    .dataframe thead th {\n",
       "        text-align: right;\n",
       "    }\n",
       "</style>\n",
       "<table border=\"1\" class=\"dataframe\">\n",
       "  <thead>\n",
       "    <tr style=\"text-align: right;\">\n",
       "      <th></th>\n",
       "      <th>customer_id</th>\n",
       "      <th>article_id_idx_last10</th>\n",
       "      <th>t_dat_latest</th>\n",
       "      <th>article_id_idx_label</th>\n",
       "      <th>num_purchases</th>\n",
       "      <th>example_age</th>\n",
       "    </tr>\n",
       "  </thead>\n",
       "  <tbody>\n",
       "    <tr>\n",
       "      <th>80</th>\n",
       "      <td>00039306476aaf41a07fed942884f16b30abfa83a2a8be...</td>\n",
       "      <td>32760,29651,41973,6290,31593,4375,40958,37967,...</td>\n",
       "      <td>2020-02-06</td>\n",
       "      <td>28934</td>\n",
       "      <td>1</td>\n",
       "      <td>2.22</td>\n",
       "    </tr>\n",
       "    <tr>\n",
       "      <th>86</th>\n",
       "      <td>0003e867a930d0d6842f923d6ba7c9b77aba33fe2a0fbf...</td>\n",
       "      <td>86029,1778,96324,61533,97316,76071,96896,96896...</td>\n",
       "      <td>2020-09-14</td>\n",
       "      <td>87181</td>\n",
       "      <td>1</td>\n",
       "      <td>0.01</td>\n",
       "    </tr>\n",
       "    <tr>\n",
       "      <th>107</th>\n",
       "      <td>000493dd9fc463df1acc2081450c9e75ef8e87d5dd17ed...</td>\n",
       "      <td>87702,90734,69614,68970,38959,78364,34418,5383...</td>\n",
       "      <td>2020-09-09</td>\n",
       "      <td>33837,69614,77117</td>\n",
       "      <td>1,1,1</td>\n",
       "      <td>0.06</td>\n",
       "    </tr>\n",
       "    <tr>\n",
       "      <th>177</th>\n",
       "      <td>00077dbd5c4a4991e092e63893ccf29294a9d5c46e8501...</td>\n",
       "      <td>43294,46256,39859,9113,55796,58456,50354,22894...</td>\n",
       "      <td>2020-09-12</td>\n",
       "      <td>101827,102244,103079,103080,103285,104210,1043...</td>\n",
       "      <td>1,1,1,1,1,1,1,1,1,1,1,1,1,1</td>\n",
       "      <td>0.03</td>\n",
       "    </tr>\n",
       "    <tr>\n",
       "      <th>326</th>\n",
       "      <td>000fb6e772c5d0023892065e659963da90b1866035558e...</td>\n",
       "      <td>90827,76405,101370,79097,62637,89883,17021,946...</td>\n",
       "      <td>2020-09-10</td>\n",
       "      <td>102870,103396,76557,96449,99876</td>\n",
       "      <td>2,1,1,3,2</td>\n",
       "      <td>0.05</td>\n",
       "    </tr>\n",
       "  </tbody>\n",
       "</table>\n",
       "</div>"
      ],
      "text/plain": [
       "                                           customer_id  \\\n",
       "80   00039306476aaf41a07fed942884f16b30abfa83a2a8be...   \n",
       "86   0003e867a930d0d6842f923d6ba7c9b77aba33fe2a0fbf...   \n",
       "107  000493dd9fc463df1acc2081450c9e75ef8e87d5dd17ed...   \n",
       "177  00077dbd5c4a4991e092e63893ccf29294a9d5c46e8501...   \n",
       "326  000fb6e772c5d0023892065e659963da90b1866035558e...   \n",
       "\n",
       "                                 article_id_idx_last10 t_dat_latest  \\\n",
       "80   32760,29651,41973,6290,31593,4375,40958,37967,...   2020-02-06   \n",
       "86   86029,1778,96324,61533,97316,76071,96896,96896...   2020-09-14   \n",
       "107  87702,90734,69614,68970,38959,78364,34418,5383...   2020-09-09   \n",
       "177  43294,46256,39859,9113,55796,58456,50354,22894...   2020-09-12   \n",
       "326  90827,76405,101370,79097,62637,89883,17021,946...   2020-09-10   \n",
       "\n",
       "                                  article_id_idx_label  \\\n",
       "80                                               28934   \n",
       "86                                               87181   \n",
       "107                                  33837,69614,77117   \n",
       "177  101827,102244,103079,103080,103285,104210,1043...   \n",
       "326                    102870,103396,76557,96449,99876   \n",
       "\n",
       "                   num_purchases  example_age  \n",
       "80                             1         2.22  \n",
       "86                             1         0.01  \n",
       "107                        1,1,1         0.06  \n",
       "177  1,1,1,1,1,1,1,1,1,1,1,1,1,1         0.03  \n",
       "326                    2,1,1,3,2         0.05  "
      ]
     },
     "execution_count": 26,
     "metadata": {},
     "output_type": "execute_result"
    }
   ],
   "source": [
    "train_set = create_article_input_output_df(\n",
    "    inputs=transactions_train.copy()[transactions_train['t_dat'] <= endm1], \n",
    "    labels=transactions_train.copy()[\n",
    "        (transactions_train['t_dat'] > endm1)\n",
    "    ],\n",
    "    example_age_end=endm1\n",
    ")\n",
    "\n",
    "print(train_set.shape)\n",
    "train_set.head()"
   ]
  },
  {
   "cell_type": "code",
   "execution_count": 27,
   "id": "3affe602",
   "metadata": {},
   "outputs": [
    {
     "data": {
      "text/plain": [
       "(0.0, 7.26)"
      ]
     },
     "execution_count": 27,
     "metadata": {},
     "output_type": "execute_result"
    }
   ],
   "source": [
    "train_set['example_age'].min(), train_set['example_age'].max()"
   ]
  },
  {
   "cell_type": "markdown",
   "id": "bc4e8774",
   "metadata": {},
   "source": [
    "Inputs for submission:"
   ]
  },
  {
   "cell_type": "code",
   "execution_count": 28,
   "id": "642d927e",
   "metadata": {},
   "outputs": [],
   "source": [
    "submission_inputs = transactions_train.copy()\n",
    "\n",
    "submission_inputs.sort_values(['customer_id', 't_dat'], inplace=True)\n",
    "\n",
    "submission_inputs['article_id_idx'] = submission_inputs['article_id_idx'].astype(str)\n",
    "\n",
    "latest_transaction_date_by_cust = (\n",
    "    submission_inputs\n",
    "        .groupby('customer_id')[['customer_id', 't_dat']]\n",
    "        .tail(1)\n",
    ")\n",
    "\n",
    "submission_inputs = (\n",
    "    submission_inputs\n",
    "        .groupby('customer_id')\n",
    "        .tail(MAX_PURCHASE_HISTORY)  # Most recent articles only\n",
    "        .groupby('customer_id')['article_id_idx']\n",
    "        .apply(lambda x: ','.join(x))\n",
    "        .reset_index()\n",
    ")\n",
    "\n",
    "submission_inputs = submission_inputs.merge(\n",
    "    latest_transaction_date_by_cust.rename(columns={'t_dat': 't_dat_latest'}), \n",
    "    on='customer_id'\n",
    ")\n",
    "\n",
    "submission_inputs['example_age'] = (endm1 - submission_inputs['t_dat_latest']).dt.days / 100"
   ]
  },
  {
   "cell_type": "code",
   "execution_count": 29,
   "id": "ca4d6a7c",
   "metadata": {},
   "outputs": [
    {
     "data": {
      "text/html": [
       "<div>\n",
       "<style scoped>\n",
       "    .dataframe tbody tr th:only-of-type {\n",
       "        vertical-align: middle;\n",
       "    }\n",
       "\n",
       "    .dataframe tbody tr th {\n",
       "        vertical-align: top;\n",
       "    }\n",
       "\n",
       "    .dataframe thead th {\n",
       "        text-align: right;\n",
       "    }\n",
       "</style>\n",
       "<table border=\"1\" class=\"dataframe\">\n",
       "  <thead>\n",
       "    <tr style=\"text-align: right;\">\n",
       "      <th></th>\n",
       "      <th>customer_id</th>\n",
       "      <th>article_id_idx</th>\n",
       "      <th>t_dat_latest</th>\n",
       "      <th>example_age</th>\n",
       "    </tr>\n",
       "  </thead>\n",
       "  <tbody>\n",
       "    <tr>\n",
       "      <th>0</th>\n",
       "      <td>00000dbacae5abe5e23885899a1fa44253a17956c6d1c3...</td>\n",
       "      <td>29482,99,30292,50666,15980,15980,23967,65586,3...</td>\n",
       "      <td>2020-09-05</td>\n",
       "      <td>0.10</td>\n",
       "    </tr>\n",
       "    <tr>\n",
       "      <th>1</th>\n",
       "      <td>0000423b00ade91418cceaf3b26c6af3dd342b51fd051e...</td>\n",
       "      <td>19306,33713,33956,8206,40984,19306,42583,40984...</td>\n",
       "      <td>2020-07-08</td>\n",
       "      <td>0.69</td>\n",
       "    </tr>\n",
       "    <tr>\n",
       "      <th>2</th>\n",
       "      <td>000058a12d5b43e67d225668fa1f8d618c13dc232df0ca...</td>\n",
       "      <td>40140,10505,40140,18172,59394,1467,1467,60185,...</td>\n",
       "      <td>2020-09-15</td>\n",
       "      <td>0.00</td>\n",
       "    </tr>\n",
       "    <tr>\n",
       "      <th>3</th>\n",
       "      <td>00005ca1c9ed5f5146b52ac8639a40ca9d57aeff4d1bd2...</td>\n",
       "      <td>64452,61106</td>\n",
       "      <td>2019-06-09</td>\n",
       "      <td>4.64</td>\n",
       "    </tr>\n",
       "    <tr>\n",
       "      <th>4</th>\n",
       "      <td>00006413d8573cd20ed7128e53b7b13819fe5cfc2d801f...</td>\n",
       "      <td>32212,43399,51066,54401,2178,2178,20490,87285,...</td>\n",
       "      <td>2020-08-12</td>\n",
       "      <td>0.34</td>\n",
       "    </tr>\n",
       "  </tbody>\n",
       "</table>\n",
       "</div>"
      ],
      "text/plain": [
       "                                         customer_id  \\\n",
       "0  00000dbacae5abe5e23885899a1fa44253a17956c6d1c3...   \n",
       "1  0000423b00ade91418cceaf3b26c6af3dd342b51fd051e...   \n",
       "2  000058a12d5b43e67d225668fa1f8d618c13dc232df0ca...   \n",
       "3  00005ca1c9ed5f5146b52ac8639a40ca9d57aeff4d1bd2...   \n",
       "4  00006413d8573cd20ed7128e53b7b13819fe5cfc2d801f...   \n",
       "\n",
       "                                      article_id_idx t_dat_latest  example_age  \n",
       "0  29482,99,30292,50666,15980,15980,23967,65586,3...   2020-09-05         0.10  \n",
       "1  19306,33713,33956,8206,40984,19306,42583,40984...   2020-07-08         0.69  \n",
       "2  40140,10505,40140,18172,59394,1467,1467,60185,...   2020-09-15         0.00  \n",
       "3                                        64452,61106   2019-06-09         4.64  \n",
       "4  32212,43399,51066,54401,2178,2178,20490,87285,...   2020-08-12         0.34  "
      ]
     },
     "execution_count": 29,
     "metadata": {},
     "output_type": "execute_result"
    }
   ],
   "source": [
    "submission_inputs.head()"
   ]
  },
  {
   "cell_type": "code",
   "execution_count": 30,
   "id": "2e0a566d",
   "metadata": {},
   "outputs": [
    {
     "name": "stdout",
     "output_type": "stream",
     "text": [
      "(1362281, 5)\n"
     ]
    },
    {
     "data": {
      "text/html": [
       "<div>\n",
       "<style scoped>\n",
       "    .dataframe tbody tr th:only-of-type {\n",
       "        vertical-align: middle;\n",
       "    }\n",
       "\n",
       "    .dataframe tbody tr th {\n",
       "        vertical-align: top;\n",
       "    }\n",
       "\n",
       "    .dataframe thead th {\n",
       "        text-align: right;\n",
       "    }\n",
       "</style>\n",
       "<table border=\"1\" class=\"dataframe\">\n",
       "  <thead>\n",
       "    <tr style=\"text-align: right;\">\n",
       "      <th></th>\n",
       "      <th>customer_id</th>\n",
       "      <th>article_id_idx_last10</th>\n",
       "      <th>t_dat_latest</th>\n",
       "      <th>example_age</th>\n",
       "      <th>article_id_idx_label</th>\n",
       "    </tr>\n",
       "  </thead>\n",
       "  <tbody>\n",
       "    <tr>\n",
       "      <th>0</th>\n",
       "      <td>00000dbacae5abe5e23885899a1fa44253a17956c6d1c3...</td>\n",
       "      <td>29482,99,30292,50666,15980,15980,23967,65586,3...</td>\n",
       "      <td>2020-09-05</td>\n",
       "      <td>0.10</td>\n",
       "      <td>0</td>\n",
       "    </tr>\n",
       "    <tr>\n",
       "      <th>1</th>\n",
       "      <td>0000423b00ade91418cceaf3b26c6af3dd342b51fd051e...</td>\n",
       "      <td>19306,33713,33956,8206,40984,19306,42583,40984...</td>\n",
       "      <td>2020-07-08</td>\n",
       "      <td>0.69</td>\n",
       "      <td>0</td>\n",
       "    </tr>\n",
       "    <tr>\n",
       "      <th>2</th>\n",
       "      <td>000058a12d5b43e67d225668fa1f8d618c13dc232df0ca...</td>\n",
       "      <td>40140,10505,40140,18172,59394,1467,1467,60185,...</td>\n",
       "      <td>2020-09-15</td>\n",
       "      <td>0.00</td>\n",
       "      <td>0</td>\n",
       "    </tr>\n",
       "    <tr>\n",
       "      <th>3</th>\n",
       "      <td>00005ca1c9ed5f5146b52ac8639a40ca9d57aeff4d1bd2...</td>\n",
       "      <td>64452,61106</td>\n",
       "      <td>2019-06-09</td>\n",
       "      <td>4.64</td>\n",
       "      <td>0</td>\n",
       "    </tr>\n",
       "    <tr>\n",
       "      <th>4</th>\n",
       "      <td>00006413d8573cd20ed7128e53b7b13819fe5cfc2d801f...</td>\n",
       "      <td>32212,43399,51066,54401,2178,2178,20490,87285,...</td>\n",
       "      <td>2020-08-12</td>\n",
       "      <td>0.34</td>\n",
       "      <td>0</td>\n",
       "    </tr>\n",
       "  </tbody>\n",
       "</table>\n",
       "</div>"
      ],
      "text/plain": [
       "                                         customer_id  \\\n",
       "0  00000dbacae5abe5e23885899a1fa44253a17956c6d1c3...   \n",
       "1  0000423b00ade91418cceaf3b26c6af3dd342b51fd051e...   \n",
       "2  000058a12d5b43e67d225668fa1f8d618c13dc232df0ca...   \n",
       "3  00005ca1c9ed5f5146b52ac8639a40ca9d57aeff4d1bd2...   \n",
       "4  00006413d8573cd20ed7128e53b7b13819fe5cfc2d801f...   \n",
       "\n",
       "                               article_id_idx_last10 t_dat_latest  \\\n",
       "0  29482,99,30292,50666,15980,15980,23967,65586,3...   2020-09-05   \n",
       "1  19306,33713,33956,8206,40984,19306,42583,40984...   2020-07-08   \n",
       "2  40140,10505,40140,18172,59394,1467,1467,60185,...   2020-09-15   \n",
       "3                                        64452,61106   2019-06-09   \n",
       "4  32212,43399,51066,54401,2178,2178,20490,87285,...   2020-08-12   \n",
       "\n",
       "   example_age article_id_idx_label  \n",
       "0         0.10                    0  \n",
       "1         0.69                    0  \n",
       "2         0.00                    0  \n",
       "3         4.64                    0  \n",
       "4         0.34                    0  "
      ]
     },
     "execution_count": 30,
     "metadata": {},
     "output_type": "execute_result"
    }
   ],
   "source": [
    "submission_inputs.rename(columns={'article_id_idx': 'article_id_idx_last10'}, inplace=True)\n",
    "submission_inputs['article_id_idx_label'] = '0'\n",
    "print(submission_inputs.shape)\n",
    "submission_inputs.head()"
   ]
  },
  {
   "cell_type": "markdown",
   "id": "ca49126d",
   "metadata": {},
   "source": [
    "In a given week what proportion of total customers make a purchase?"
   ]
  },
  {
   "cell_type": "code",
   "execution_count": 31,
   "id": "a2aaabba",
   "metadata": {},
   "outputs": [],
   "source": [
    "submission_inputs['num_purchases'] = '1'"
   ]
  },
  {
   "cell_type": "code",
   "execution_count": 32,
   "id": "8bc61651",
   "metadata": {},
   "outputs": [],
   "source": [
    "all_customers = pd.read_csv('data/sample_submission.csv').shape[0]"
   ]
  },
  {
   "cell_type": "code",
   "execution_count": 33,
   "id": "421a6905",
   "metadata": {},
   "outputs": [
    {
     "data": {
      "text/plain": [
       "1362281"
      ]
     },
     "execution_count": 33,
     "metadata": {},
     "output_type": "execute_result"
    }
   ],
   "source": [
    "submission_inputs.shape[0]"
   ]
  },
  {
   "cell_type": "code",
   "execution_count": 34,
   "id": "dfd7ce68",
   "metadata": {},
   "outputs": [
    {
     "data": {
      "text/plain": [
       "(63412, 6)"
      ]
     },
     "execution_count": 34,
     "metadata": {},
     "output_type": "execute_result"
    }
   ],
   "source": [
    "train_set.shape"
   ]
  },
  {
   "cell_type": "code",
   "execution_count": 35,
   "id": "612e326e",
   "metadata": {},
   "outputs": [
    {
     "data": {
      "text/plain": [
       "<AxesSubplot:>"
      ]
     },
     "execution_count": 35,
     "metadata": {},
     "output_type": "execute_result"
    },
    {
     "data": {
      "image/png": "[encoded data removed]",
      "text/plain": [
       "<Figure size 432x288 with 1 Axes>"
      ]
     },
     "metadata": {
      "needs_background": "light"
     },
     "output_type": "display_data"
    }
   ],
   "source": [
    "train_set['article_id_idx_last10'].str.split(',').apply(len).hist()"
   ]
  },
  {
   "cell_type": "markdown",
   "id": "1a61efe5",
   "metadata": {},
   "source": [
    "### Filter customers and get customer features"
   ]
  },
  {
   "cell_type": "code",
   "execution_count": 36,
   "id": "a126df35",
   "metadata": {},
   "outputs": [],
   "source": [
    "customers = pd.read_csv('data/customers.csv')"
   ]
  },
  {
   "cell_type": "code",
   "execution_count": 37,
   "id": "2eafabae",
   "metadata": {},
   "outputs": [
    {
     "data": {
      "text/html": [
       "<div>\n",
       "<style scoped>\n",
       "    .dataframe tbody tr th:only-of-type {\n",
       "        vertical-align: middle;\n",
       "    }\n",
       "\n",
       "    .dataframe tbody tr th {\n",
       "        vertical-align: top;\n",
       "    }\n",
       "\n",
       "    .dataframe thead th {\n",
       "        text-align: right;\n",
       "    }\n",
       "</style>\n",
       "<table border=\"1\" class=\"dataframe\">\n",
       "  <thead>\n",
       "    <tr style=\"text-align: right;\">\n",
       "      <th></th>\n",
       "      <th>customer_id</th>\n",
       "      <th>FN</th>\n",
       "      <th>Active</th>\n",
       "      <th>club_member_status</th>\n",
       "      <th>fashion_news_frequency</th>\n",
       "      <th>age</th>\n",
       "      <th>postal_code</th>\n",
       "    </tr>\n",
       "  </thead>\n",
       "  <tbody>\n",
       "    <tr>\n",
       "      <th>0</th>\n",
       "      <td>00000dbacae5abe5e23885899a1fa44253a17956c6d1c3...</td>\n",
       "      <td>NaN</td>\n",
       "      <td>NaN</td>\n",
       "      <td>ACTIVE</td>\n",
       "      <td>NONE</td>\n",
       "      <td>49.0</td>\n",
       "      <td>52043ee2162cf5aa7ee79974281641c6f11a68d276429a...</td>\n",
       "    </tr>\n",
       "    <tr>\n",
       "      <th>1</th>\n",
       "      <td>0000423b00ade91418cceaf3b26c6af3dd342b51fd051e...</td>\n",
       "      <td>NaN</td>\n",
       "      <td>NaN</td>\n",
       "      <td>ACTIVE</td>\n",
       "      <td>NONE</td>\n",
       "      <td>25.0</td>\n",
       "      <td>2973abc54daa8a5f8ccfe9362140c63247c5eee03f1d93...</td>\n",
       "    </tr>\n",
       "    <tr>\n",
       "      <th>2</th>\n",
       "      <td>000058a12d5b43e67d225668fa1f8d618c13dc232df0ca...</td>\n",
       "      <td>NaN</td>\n",
       "      <td>NaN</td>\n",
       "      <td>ACTIVE</td>\n",
       "      <td>NONE</td>\n",
       "      <td>24.0</td>\n",
       "      <td>64f17e6a330a85798e4998f62d0930d14db8db1c054af6...</td>\n",
       "    </tr>\n",
       "    <tr>\n",
       "      <th>3</th>\n",
       "      <td>00005ca1c9ed5f5146b52ac8639a40ca9d57aeff4d1bd2...</td>\n",
       "      <td>NaN</td>\n",
       "      <td>NaN</td>\n",
       "      <td>ACTIVE</td>\n",
       "      <td>NONE</td>\n",
       "      <td>54.0</td>\n",
       "      <td>5d36574f52495e81f019b680c843c443bd343d5ca5b1c2...</td>\n",
       "    </tr>\n",
       "    <tr>\n",
       "      <th>4</th>\n",
       "      <td>00006413d8573cd20ed7128e53b7b13819fe5cfc2d801f...</td>\n",
       "      <td>1.0</td>\n",
       "      <td>1.0</td>\n",
       "      <td>ACTIVE</td>\n",
       "      <td>Regularly</td>\n",
       "      <td>52.0</td>\n",
       "      <td>25fa5ddee9aac01b35208d01736e57942317d756b32ddd...</td>\n",
       "    </tr>\n",
       "  </tbody>\n",
       "</table>\n",
       "</div>"
      ],
      "text/plain": [
       "                                         customer_id   FN  Active  \\\n",
       "0  00000dbacae5abe5e23885899a1fa44253a17956c6d1c3...  NaN     NaN   \n",
       "1  0000423b00ade91418cceaf3b26c6af3dd342b51fd051e...  NaN     NaN   \n",
       "2  000058a12d5b43e67d225668fa1f8d618c13dc232df0ca...  NaN     NaN   \n",
       "3  00005ca1c9ed5f5146b52ac8639a40ca9d57aeff4d1bd2...  NaN     NaN   \n",
       "4  00006413d8573cd20ed7128e53b7b13819fe5cfc2d801f...  1.0     1.0   \n",
       "\n",
       "  club_member_status fashion_news_frequency   age  \\\n",
       "0             ACTIVE                   NONE  49.0   \n",
       "1             ACTIVE                   NONE  25.0   \n",
       "2             ACTIVE                   NONE  24.0   \n",
       "3             ACTIVE                   NONE  54.0   \n",
       "4             ACTIVE              Regularly  52.0   \n",
       "\n",
       "                                         postal_code  \n",
       "0  52043ee2162cf5aa7ee79974281641c6f11a68d276429a...  \n",
       "1  2973abc54daa8a5f8ccfe9362140c63247c5eee03f1d93...  \n",
       "2  64f17e6a330a85798e4998f62d0930d14db8db1c054af6...  \n",
       "3  5d36574f52495e81f019b680c843c443bd343d5ca5b1c2...  \n",
       "4  25fa5ddee9aac01b35208d01736e57942317d756b32ddd...  "
      ]
     },
     "execution_count": 37,
     "metadata": {},
     "output_type": "execute_result"
    }
   ],
   "source": [
    "customers.head()"
   ]
  },
  {
   "cell_type": "code",
   "execution_count": 38,
   "id": "8717a3e6",
   "metadata": {},
   "outputs": [
    {
     "data": {
      "text/plain": [
       "customer_id               0.000000\n",
       "FN                        0.652378\n",
       "Active                    0.661508\n",
       "club_member_status        0.004418\n",
       "fashion_news_frequency    0.011669\n",
       "age                       0.011561\n",
       "postal_code               0.000000\n",
       "dtype: float64"
      ]
     },
     "execution_count": 38,
     "metadata": {},
     "output_type": "execute_result"
    }
   ],
   "source": [
    "customers.isnull().sum() / customers.shape[0]"
   ]
  },
  {
   "cell_type": "code",
   "execution_count": 39,
   "id": "7c73b5e4",
   "metadata": {},
   "outputs": [
    {
     "data": {
      "text/plain": [
       "array(['ACTIVE', nan, 'PRE-CREATE', 'LEFT CLUB'], dtype=object)"
      ]
     },
     "execution_count": 39,
     "metadata": {},
     "output_type": "execute_result"
    }
   ],
   "source": [
    "customers['club_member_status'].unique()"
   ]
  },
  {
   "cell_type": "code",
   "execution_count": 40,
   "id": "174126b2",
   "metadata": {},
   "outputs": [
    {
     "data": {
      "text/plain": [
       "array(['NONE', 'Regularly', nan, 'Monthly', 'None'], dtype=object)"
      ]
     },
     "execution_count": 40,
     "metadata": {},
     "output_type": "execute_result"
    }
   ],
   "source": [
    "customers['fashion_news_frequency'].unique()"
   ]
  },
  {
   "cell_type": "code",
   "execution_count": 41,
   "id": "b2afb2c3",
   "metadata": {},
   "outputs": [
    {
     "data": {
      "text/plain": [
       "352899"
      ]
     },
     "execution_count": 41,
     "metadata": {},
     "output_type": "execute_result"
    }
   ],
   "source": [
    "customers['postal_code'].nunique()"
   ]
  },
  {
   "cell_type": "code",
   "execution_count": 42,
   "id": "05b8dcd5",
   "metadata": {},
   "outputs": [],
   "source": [
    "customers['fashion_news_frequency'] = customers['fashion_news_frequency'].replace({'NONE': np.nan, 'None': np.nan})"
   ]
  },
  {
   "cell_type": "code",
   "execution_count": 43,
   "id": "c0063697",
   "metadata": {},
   "outputs": [
    {
     "data": {
      "text/plain": [
       "0.6514103704135629"
      ]
     },
     "execution_count": 43,
     "metadata": {},
     "output_type": "execute_result"
    }
   ],
   "source": [
    "customers['fashion_news_frequency'].isnull().sum() / customers.shape[0]"
   ]
  },
  {
   "cell_type": "code",
   "execution_count": 44,
   "id": "2d8bd50a",
   "metadata": {},
   "outputs": [],
   "source": [
    "customers['fashion_news_frequency'].fillna('MISSING', inplace=True)"
   ]
  },
  {
   "cell_type": "code",
   "execution_count": 45,
   "id": "3ea62876",
   "metadata": {},
   "outputs": [],
   "source": [
    "customers['club_member_status'].fillna('MISSING', inplace=True)"
   ]
  },
  {
   "cell_type": "code",
   "execution_count": 46,
   "id": "e7ef68d0",
   "metadata": {},
   "outputs": [
    {
     "data": {
      "text/plain": [
       "array(['ACTIVE', 'MISSING', 'PRE-CREATE', 'LEFT CLUB'], dtype=object)"
      ]
     },
     "execution_count": 46,
     "metadata": {},
     "output_type": "execute_result"
    }
   ],
   "source": [
    "customers['club_member_status'].unique()"
   ]
  },
  {
   "cell_type": "code",
   "execution_count": 47,
   "id": "5ab89b9a",
   "metadata": {},
   "outputs": [
    {
     "data": {
      "text/plain": [
       "array(['MISSING', 'Regularly', 'Monthly'], dtype=object)"
      ]
     },
     "execution_count": 47,
     "metadata": {},
     "output_type": "execute_result"
    }
   ],
   "source": [
    "customers['fashion_news_frequency'].unique()"
   ]
  },
  {
   "cell_type": "code",
   "execution_count": 48,
   "id": "a92e94aa",
   "metadata": {},
   "outputs": [],
   "source": [
    "club_member_status_to_idx = {\n",
    "    'ACTIVE': 0, \n",
    "    'MISSING': 1, \n",
    "    'PRE-CREATE': 2, \n",
    "    'LEFT CLUB': 3\n",
    "}"
   ]
  },
  {
   "cell_type": "code",
   "execution_count": 49,
   "id": "ea5ea506",
   "metadata": {},
   "outputs": [],
   "source": [
    "fashion_news_frequency_to_idx = {\n",
    "    'MISSING': 0, \n",
    "    'Regularly': 1, \n",
    "    'Monthly': 2\n",
    "}"
   ]
  },
  {
   "cell_type": "code",
   "execution_count": 50,
   "id": "ace69b33",
   "metadata": {
    "colab": {
     "base_uri": "https://localhost:8080/",
     "height": 224
    },
    "executionInfo": {
     "elapsed": 4590,
     "status": "ok",
     "timestamp": 1651409345569,
     "user": {
      "displayName": "Steven George",
      "userId": "07709250839253394649"
     },
     "user_tz": -60
    },
    "id": "0a789f95",
    "outputId": "a5f65d2c-0eef-43d7-f0d3-38981a6b0c07"
   },
   "outputs": [
    {
     "name": "stdout",
     "output_type": "stream",
     "text": [
      "(1371980, 7)\n"
     ]
    },
    {
     "data": {
      "text/html": [
       "<div>\n",
       "<style scoped>\n",
       "    .dataframe tbody tr th:only-of-type {\n",
       "        vertical-align: middle;\n",
       "    }\n",
       "\n",
       "    .dataframe tbody tr th {\n",
       "        vertical-align: top;\n",
       "    }\n",
       "\n",
       "    .dataframe thead th {\n",
       "        text-align: right;\n",
       "    }\n",
       "</style>\n",
       "<table border=\"1\" class=\"dataframe\">\n",
       "  <thead>\n",
       "    <tr style=\"text-align: right;\">\n",
       "      <th></th>\n",
       "      <th>customer_id</th>\n",
       "      <th>FN</th>\n",
       "      <th>Active</th>\n",
       "      <th>club_member_status</th>\n",
       "      <th>fashion_news_frequency</th>\n",
       "      <th>age</th>\n",
       "      <th>postal_code</th>\n",
       "    </tr>\n",
       "  </thead>\n",
       "  <tbody>\n",
       "    <tr>\n",
       "      <th>0</th>\n",
       "      <td>00000dbacae5abe5e23885899a1fa44253a17956c6d1c3...</td>\n",
       "      <td>NaN</td>\n",
       "      <td>NaN</td>\n",
       "      <td>ACTIVE</td>\n",
       "      <td>NONE</td>\n",
       "      <td>49.0</td>\n",
       "      <td>52043ee2162cf5aa7ee79974281641c6f11a68d276429a...</td>\n",
       "    </tr>\n",
       "    <tr>\n",
       "      <th>1</th>\n",
       "      <td>0000423b00ade91418cceaf3b26c6af3dd342b51fd051e...</td>\n",
       "      <td>NaN</td>\n",
       "      <td>NaN</td>\n",
       "      <td>ACTIVE</td>\n",
       "      <td>NONE</td>\n",
       "      <td>25.0</td>\n",
       "      <td>2973abc54daa8a5f8ccfe9362140c63247c5eee03f1d93...</td>\n",
       "    </tr>\n",
       "    <tr>\n",
       "      <th>2</th>\n",
       "      <td>000058a12d5b43e67d225668fa1f8d618c13dc232df0ca...</td>\n",
       "      <td>NaN</td>\n",
       "      <td>NaN</td>\n",
       "      <td>ACTIVE</td>\n",
       "      <td>NONE</td>\n",
       "      <td>24.0</td>\n",
       "      <td>64f17e6a330a85798e4998f62d0930d14db8db1c054af6...</td>\n",
       "    </tr>\n",
       "    <tr>\n",
       "      <th>3</th>\n",
       "      <td>00005ca1c9ed5f5146b52ac8639a40ca9d57aeff4d1bd2...</td>\n",
       "      <td>NaN</td>\n",
       "      <td>NaN</td>\n",
       "      <td>ACTIVE</td>\n",
       "      <td>NONE</td>\n",
       "      <td>54.0</td>\n",
       "      <td>5d36574f52495e81f019b680c843c443bd343d5ca5b1c2...</td>\n",
       "    </tr>\n",
       "    <tr>\n",
       "      <th>4</th>\n",
       "      <td>00006413d8573cd20ed7128e53b7b13819fe5cfc2d801f...</td>\n",
       "      <td>1.0</td>\n",
       "      <td>1.0</td>\n",
       "      <td>ACTIVE</td>\n",
       "      <td>Regularly</td>\n",
       "      <td>52.0</td>\n",
       "      <td>25fa5ddee9aac01b35208d01736e57942317d756b32ddd...</td>\n",
       "    </tr>\n",
       "  </tbody>\n",
       "</table>\n",
       "</div>"
      ],
      "text/plain": [
       "                                         customer_id   FN  Active  \\\n",
       "0  00000dbacae5abe5e23885899a1fa44253a17956c6d1c3...  NaN     NaN   \n",
       "1  0000423b00ade91418cceaf3b26c6af3dd342b51fd051e...  NaN     NaN   \n",
       "2  000058a12d5b43e67d225668fa1f8d618c13dc232df0ca...  NaN     NaN   \n",
       "3  00005ca1c9ed5f5146b52ac8639a40ca9d57aeff4d1bd2...  NaN     NaN   \n",
       "4  00006413d8573cd20ed7128e53b7b13819fe5cfc2d801f...  1.0     1.0   \n",
       "\n",
       "  club_member_status fashion_news_frequency   age  \\\n",
       "0             ACTIVE                   NONE  49.0   \n",
       "1             ACTIVE                   NONE  25.0   \n",
       "2             ACTIVE                   NONE  24.0   \n",
       "3             ACTIVE                   NONE  54.0   \n",
       "4             ACTIVE              Regularly  52.0   \n",
       "\n",
       "                                         postal_code  \n",
       "0  52043ee2162cf5aa7ee79974281641c6f11a68d276429a...  \n",
       "1  2973abc54daa8a5f8ccfe9362140c63247c5eee03f1d93...  \n",
       "2  64f17e6a330a85798e4998f62d0930d14db8db1c054af6...  \n",
       "3  5d36574f52495e81f019b680c843c443bd343d5ca5b1c2...  \n",
       "4  25fa5ddee9aac01b35208d01736e57942317d756b32ddd...  "
      ]
     },
     "execution_count": 50,
     "metadata": {},
     "output_type": "execute_result"
    }
   ],
   "source": [
    "customers = pd.read_csv('data/customers.csv', usecols=['customer_id', 'FN', 'Active', 'age', 'club_member_status', 'fashion_news_frequency', 'postal_code'])\n",
    "print(customers.shape)\n",
    "customers.head()"
   ]
  },
  {
   "cell_type": "code",
   "execution_count": 51,
   "id": "49136516",
   "metadata": {},
   "outputs": [
    {
     "data": {
      "text/plain": [
       "63412"
      ]
     },
     "execution_count": 51,
     "metadata": {},
     "output_type": "execute_result"
    }
   ],
   "source": [
    "customers_to_keep = set(train_set['customer_id'])\n",
    "len(customers_to_keep)"
   ]
  },
  {
   "cell_type": "markdown",
   "id": "9e450d94",
   "metadata": {},
   "source": [
    "Filter out other customers from submission inputs (for other customers we'll just predict top-12)"
   ]
  },
  {
   "cell_type": "code",
   "execution_count": 52,
   "id": "0583d9bf",
   "metadata": {},
   "outputs": [
    {
     "data": {
      "text/plain": [
       "0.04654839933904972"
      ]
     },
     "execution_count": 52,
     "metadata": {},
     "output_type": "execute_result"
    }
   ],
   "source": [
    "len(customers_to_keep) / len(submission_inputs)"
   ]
  },
  {
   "cell_type": "code",
   "execution_count": 53,
   "id": "61af59fa",
   "metadata": {},
   "outputs": [
    {
     "data": {
      "text/plain": [
       "(63412, 6)"
      ]
     },
     "execution_count": 53,
     "metadata": {},
     "output_type": "execute_result"
    }
   ],
   "source": [
    "submission_inputs = submission_inputs.copy()[submission_inputs['customer_id'].isin(customers_to_keep)]\n",
    "submission_inputs.shape"
   ]
  },
  {
   "cell_type": "code",
   "execution_count": 54,
   "id": "8319d5ed",
   "metadata": {},
   "outputs": [
    {
     "data": {
      "text/html": [
       "<div>\n",
       "<style scoped>\n",
       "    .dataframe tbody tr th:only-of-type {\n",
       "        vertical-align: middle;\n",
       "    }\n",
       "\n",
       "    .dataframe tbody tr th {\n",
       "        vertical-align: top;\n",
       "    }\n",
       "\n",
       "    .dataframe thead th {\n",
       "        text-align: right;\n",
       "    }\n",
       "</style>\n",
       "<table border=\"1\" class=\"dataframe\">\n",
       "  <thead>\n",
       "    <tr style=\"text-align: right;\">\n",
       "      <th></th>\n",
       "      <th>customer_id</th>\n",
       "      <th>FN</th>\n",
       "      <th>Active</th>\n",
       "      <th>club_member_status</th>\n",
       "      <th>fashion_news_frequency</th>\n",
       "      <th>age</th>\n",
       "      <th>postal_code</th>\n",
       "    </tr>\n",
       "  </thead>\n",
       "  <tbody>\n",
       "    <tr>\n",
       "      <th>0</th>\n",
       "      <td>00039306476aaf41a07fed942884f16b30abfa83a2a8be...</td>\n",
       "      <td>NaN</td>\n",
       "      <td>NaN</td>\n",
       "      <td>ACTIVE</td>\n",
       "      <td>NONE</td>\n",
       "      <td>27.0</td>\n",
       "      <td>43cbf97df3d118b937551fb21a08d513bfb2e58223315f...</td>\n",
       "    </tr>\n",
       "    <tr>\n",
       "      <th>1</th>\n",
       "      <td>0003e867a930d0d6842f923d6ba7c9b77aba33fe2a0fbf...</td>\n",
       "      <td>1.0</td>\n",
       "      <td>1.0</td>\n",
       "      <td>ACTIVE</td>\n",
       "      <td>Regularly</td>\n",
       "      <td>33.0</td>\n",
       "      <td>d647e4ede3d0eb4ce0750440a110350b5f4c758165d89d...</td>\n",
       "    </tr>\n",
       "    <tr>\n",
       "      <th>2</th>\n",
       "      <td>000493dd9fc463df1acc2081450c9e75ef8e87d5dd17ed...</td>\n",
       "      <td>NaN</td>\n",
       "      <td>NaN</td>\n",
       "      <td>ACTIVE</td>\n",
       "      <td>NONE</td>\n",
       "      <td>29.0</td>\n",
       "      <td>72afbb92c0200628bfa8f983c241eb0dc14e107f87d95b...</td>\n",
       "    </tr>\n",
       "    <tr>\n",
       "      <th>3</th>\n",
       "      <td>00077dbd5c4a4991e092e63893ccf29294a9d5c46e8501...</td>\n",
       "      <td>NaN</td>\n",
       "      <td>NaN</td>\n",
       "      <td>ACTIVE</td>\n",
       "      <td>NONE</td>\n",
       "      <td>23.0</td>\n",
       "      <td>3119ea10ffe5ac3419b9127589a61b33e1ae38ecbb997b...</td>\n",
       "    </tr>\n",
       "    <tr>\n",
       "      <th>4</th>\n",
       "      <td>000fb6e772c5d0023892065e659963da90b1866035558e...</td>\n",
       "      <td>1.0</td>\n",
       "      <td>1.0</td>\n",
       "      <td>ACTIVE</td>\n",
       "      <td>Regularly</td>\n",
       "      <td>42.0</td>\n",
       "      <td>68ca4d9d6051d9c10b917d36bf9cb4afbadc551f7e4feb...</td>\n",
       "    </tr>\n",
       "  </tbody>\n",
       "</table>\n",
       "</div>"
      ],
      "text/plain": [
       "                                         customer_id   FN  Active  \\\n",
       "0  00039306476aaf41a07fed942884f16b30abfa83a2a8be...  NaN     NaN   \n",
       "1  0003e867a930d0d6842f923d6ba7c9b77aba33fe2a0fbf...  1.0     1.0   \n",
       "2  000493dd9fc463df1acc2081450c9e75ef8e87d5dd17ed...  NaN     NaN   \n",
       "3  00077dbd5c4a4991e092e63893ccf29294a9d5c46e8501...  NaN     NaN   \n",
       "4  000fb6e772c5d0023892065e659963da90b1866035558e...  1.0     1.0   \n",
       "\n",
       "  club_member_status fashion_news_frequency   age  \\\n",
       "0             ACTIVE                   NONE  27.0   \n",
       "1             ACTIVE              Regularly  33.0   \n",
       "2             ACTIVE                   NONE  29.0   \n",
       "3             ACTIVE                   NONE  23.0   \n",
       "4             ACTIVE              Regularly  42.0   \n",
       "\n",
       "                                         postal_code  \n",
       "0  43cbf97df3d118b937551fb21a08d513bfb2e58223315f...  \n",
       "1  d647e4ede3d0eb4ce0750440a110350b5f4c758165d89d...  \n",
       "2  72afbb92c0200628bfa8f983c241eb0dc14e107f87d95b...  \n",
       "3  3119ea10ffe5ac3419b9127589a61b33e1ae38ecbb997b...  \n",
       "4  68ca4d9d6051d9c10b917d36bf9cb4afbadc551f7e4feb...  "
      ]
     },
     "execution_count": 54,
     "metadata": {},
     "output_type": "execute_result"
    }
   ],
   "source": [
    "customers = customers.copy()[customers['customer_id'].isin(customers_to_keep)]\n",
    "customers.reset_index(drop=True, inplace=True)\n",
    "customers.head()"
   ]
  },
  {
   "cell_type": "code",
   "execution_count": 55,
   "id": "059f14b0",
   "metadata": {
    "colab": {
     "base_uri": "https://localhost:8080/"
    },
    "executionInfo": {
     "elapsed": 9,
     "status": "ok",
     "timestamp": 1651409345569,
     "user": {
      "displayName": "Steven George",
      "userId": "07709250839253394649"
     },
     "user_tz": -60
    },
    "id": "2cc539c0",
    "outputId": "8b132f08-da57-4444-9a9f-a13b7c23e42d"
   },
   "outputs": [
    {
     "data": {
      "text/plain": [
       "customer_id               0.000000\n",
       "FN                        0.540513\n",
       "Active                    0.547420\n",
       "club_member_status        0.001419\n",
       "fashion_news_frequency    0.002602\n",
       "age                       0.004069\n",
       "postal_code               0.000000\n",
       "dtype: float64"
      ]
     },
     "execution_count": 55,
     "metadata": {},
     "output_type": "execute_result"
    }
   ],
   "source": [
    "customers.isnull().sum() / customers.shape[0]"
   ]
  },
  {
   "cell_type": "code",
   "execution_count": 56,
   "id": "93b2ae0b",
   "metadata": {
    "executionInfo": {
     "elapsed": 434,
     "status": "ok",
     "timestamp": 1651409345999,
     "user": {
      "displayName": "Steven George",
      "userId": "07709250839253394649"
     },
     "user_tz": -60
    },
    "id": "d18788c7"
   },
   "outputs": [],
   "source": [
    "customers[['FN', 'Active']] = customers[['FN', 'Active']].fillna(0)"
   ]
  },
  {
   "cell_type": "markdown",
   "id": "2661e7a2",
   "metadata": {},
   "source": [
    "Despite potential data leakage we impute the nulls for age here:"
   ]
  },
  {
   "cell_type": "code",
   "execution_count": 57,
   "id": "42927fad",
   "metadata": {},
   "outputs": [
    {
     "data": {
      "text/plain": [
       "(63412, 7)"
      ]
     },
     "execution_count": 57,
     "metadata": {},
     "output_type": "execute_result"
    }
   ],
   "source": [
    "customers.shape"
   ]
  },
  {
   "cell_type": "code",
   "execution_count": 58,
   "id": "b3386752",
   "metadata": {},
   "outputs": [],
   "source": [
    "from sklearn.impute import SimpleImputer"
   ]
  },
  {
   "cell_type": "code",
   "execution_count": 59,
   "id": "0d5594fc",
   "metadata": {},
   "outputs": [],
   "source": [
    "simple_imputer = SimpleImputer()"
   ]
  },
  {
   "cell_type": "code",
   "execution_count": 60,
   "id": "dd526afc",
   "metadata": {},
   "outputs": [],
   "source": [
    "customers[['age']] = simple_imputer.fit_transform(customers[['age']])"
   ]
  },
  {
   "cell_type": "code",
   "execution_count": 61,
   "id": "52ca6234",
   "metadata": {},
   "outputs": [],
   "source": [
    "customers['age'] /= 100"
   ]
  },
  {
   "cell_type": "code",
   "execution_count": 62,
   "id": "3c6487d4",
   "metadata": {
    "colab": {
     "base_uri": "https://localhost:8080/"
    },
    "executionInfo": {
     "elapsed": 9,
     "status": "ok",
     "timestamp": 1651409345569,
     "user": {
      "displayName": "Steven George",
      "userId": "07709250839253394649"
     },
     "user_tz": -60
    },
    "id": "2cc539c0",
    "outputId": "8b132f08-da57-4444-9a9f-a13b7c23e42d"
   },
   "outputs": [
    {
     "data": {
      "text/plain": [
       "customer_id               0.000000\n",
       "FN                        0.000000\n",
       "Active                    0.000000\n",
       "club_member_status        0.001419\n",
       "fashion_news_frequency    0.002602\n",
       "age                       0.000000\n",
       "postal_code               0.000000\n",
       "dtype: float64"
      ]
     },
     "execution_count": 62,
     "metadata": {},
     "output_type": "execute_result"
    }
   ],
   "source": [
    "customers.isnull().sum() / customers.shape[0]"
   ]
  },
  {
   "cell_type": "code",
   "execution_count": 63,
   "id": "f258d291",
   "metadata": {},
   "outputs": [],
   "source": [
    "customers['customer_id_idx'] = customers.index"
   ]
  },
  {
   "cell_type": "markdown",
   "id": "8cdf5295",
   "metadata": {},
   "source": [
    "Map `club_member_status` and `fashion_frequency` to IDs"
   ]
  },
  {
   "cell_type": "code",
   "execution_count": 64,
   "id": "4b79e420",
   "metadata": {},
   "outputs": [],
   "source": [
    "customers['fashion_news_frequency'] = customers['fashion_news_frequency'].replace({'NONE': np.nan, 'None': np.nan})"
   ]
  },
  {
   "cell_type": "code",
   "execution_count": 65,
   "id": "b9460051",
   "metadata": {},
   "outputs": [
    {
     "data": {
      "text/plain": [
       "0.5392197060493282"
      ]
     },
     "execution_count": 65,
     "metadata": {},
     "output_type": "execute_result"
    }
   ],
   "source": [
    "customers['fashion_news_frequency'].isnull().sum() / customers.shape[0]"
   ]
  },
  {
   "cell_type": "code",
   "execution_count": 66,
   "id": "de791007",
   "metadata": {},
   "outputs": [],
   "source": [
    "customers['fashion_news_frequency'].fillna('MISSING', inplace=True)"
   ]
  },
  {
   "cell_type": "code",
   "execution_count": 67,
   "id": "f5db7f58",
   "metadata": {},
   "outputs": [],
   "source": [
    "customers['club_member_status'].fillna('MISSING', inplace=True)"
   ]
  },
  {
   "cell_type": "code",
   "execution_count": 68,
   "id": "f8752782",
   "metadata": {},
   "outputs": [],
   "source": [
    "customers['fashion_news_frequency_idx'] = customers['fashion_news_frequency'].map(fashion_news_frequency_to_idx)"
   ]
  },
  {
   "cell_type": "code",
   "execution_count": 69,
   "id": "c1ad2e94",
   "metadata": {},
   "outputs": [],
   "source": [
    "customers['club_member_status_idx'] = customers['club_member_status'].map(club_member_status_to_idx)"
   ]
  },
  {
   "cell_type": "code",
   "execution_count": 70,
   "id": "51226276",
   "metadata": {
    "colab": {
     "base_uri": "https://localhost:8080/"
    },
    "executionInfo": {
     "elapsed": 9,
     "status": "ok",
     "timestamp": 1651409345569,
     "user": {
      "displayName": "Steven George",
      "userId": "07709250839253394649"
     },
     "user_tz": -60
    },
    "id": "2cc539c0",
    "outputId": "8b132f08-da57-4444-9a9f-a13b7c23e42d"
   },
   "outputs": [
    {
     "data": {
      "text/plain": [
       "customer_id                   0.0\n",
       "FN                            0.0\n",
       "Active                        0.0\n",
       "club_member_status            0.0\n",
       "fashion_news_frequency        0.0\n",
       "age                           0.0\n",
       "postal_code                   0.0\n",
       "customer_id_idx               0.0\n",
       "fashion_news_frequency_idx    0.0\n",
       "club_member_status_idx        0.0\n",
       "dtype: float64"
      ]
     },
     "execution_count": 70,
     "metadata": {},
     "output_type": "execute_result"
    }
   ],
   "source": [
    "customers.isnull().sum() / customers.shape[0]"
   ]
  },
  {
   "cell_type": "markdown",
   "id": "6535255d",
   "metadata": {},
   "source": [
    "Postal code"
   ]
  },
  {
   "cell_type": "code",
   "execution_count": 71,
   "id": "a08a1665",
   "metadata": {},
   "outputs": [
    {
     "data": {
      "text/plain": [
       "54126"
      ]
     },
     "execution_count": 71,
     "metadata": {},
     "output_type": "execute_result"
    }
   ],
   "source": [
    "customers['postal_code'].nunique()"
   ]
  },
  {
   "cell_type": "code",
   "execution_count": 72,
   "id": "e8d242d2",
   "metadata": {},
   "outputs": [
    {
     "data": {
      "text/plain": [
       "2c29ae653a9282cce4151bd87643c907644e09541abc28ae87dea0d1f6603b1c    999\n",
       "1f5bd429acc88fbbf24de844a59e438704aa8761bc7b99fd977cad297c50b74c     13\n",
       "4f88f48fd1345f6ae3a634caadee2d9355d50a34f3ec53c4f9a0532e4180707b      9\n",
       "f680358c8948524daef52657d1d6f791eb0e4b0e057290c9889c07f37622180b      9\n",
       "45dc52765eb24eb8bc8a4a40a682d5e430aed58a9aba44e7f67d9516e54ba0d1      8\n",
       "                                                                   ... \n",
       "5b721186855e1fe3266cef02f8ae7e8e471d8885ebb039e66152870fda024e83      1\n",
       "08f52e22e81abd4f4f749a84f46694d880b3b0de68c515f314373f4671967be4      1\n",
       "1c4b3b2f7b41c9eef6aa94ed28442537a8098788f4a3873f357905d733323ee9      1\n",
       "5d113bf4656a7376fcf41e2c730ba688b0fd66d8d47c21417b4df5df0b99871d      1\n",
       "47258851e6f73dd2583ef4775814f9b88e43a9e2741c645dfb460573726fc1f9      1\n",
       "Name: postal_code, Length: 54126, dtype: int64"
      ]
     },
     "execution_count": 72,
     "metadata": {},
     "output_type": "execute_result"
    }
   ],
   "source": [
    "customers['postal_code'].value_counts()"
   ]
  },
  {
   "cell_type": "code",
   "execution_count": 73,
   "id": "c2bf474c",
   "metadata": {},
   "outputs": [
    {
     "name": "stdout",
     "output_type": "stream",
     "text": [
      "(54126, 1)\n"
     ]
    },
    {
     "data": {
      "text/html": [
       "<div>\n",
       "<style scoped>\n",
       "    .dataframe tbody tr th:only-of-type {\n",
       "        vertical-align: middle;\n",
       "    }\n",
       "\n",
       "    .dataframe tbody tr th {\n",
       "        vertical-align: top;\n",
       "    }\n",
       "\n",
       "    .dataframe thead th {\n",
       "        text-align: right;\n",
       "    }\n",
       "</style>\n",
       "<table border=\"1\" class=\"dataframe\">\n",
       "  <thead>\n",
       "    <tr style=\"text-align: right;\">\n",
       "      <th></th>\n",
       "      <th>postal_code</th>\n",
       "    </tr>\n",
       "  </thead>\n",
       "  <tbody>\n",
       "    <tr>\n",
       "      <th>0</th>\n",
       "      <td>43cbf97df3d118b937551fb21a08d513bfb2e58223315f...</td>\n",
       "    </tr>\n",
       "    <tr>\n",
       "      <th>1</th>\n",
       "      <td>d647e4ede3d0eb4ce0750440a110350b5f4c758165d89d...</td>\n",
       "    </tr>\n",
       "    <tr>\n",
       "      <th>2</th>\n",
       "      <td>72afbb92c0200628bfa8f983c241eb0dc14e107f87d95b...</td>\n",
       "    </tr>\n",
       "    <tr>\n",
       "      <th>3</th>\n",
       "      <td>3119ea10ffe5ac3419b9127589a61b33e1ae38ecbb997b...</td>\n",
       "    </tr>\n",
       "    <tr>\n",
       "      <th>4</th>\n",
       "      <td>68ca4d9d6051d9c10b917d36bf9cb4afbadc551f7e4feb...</td>\n",
       "    </tr>\n",
       "  </tbody>\n",
       "</table>\n",
       "</div>"
      ],
      "text/plain": [
       "                                         postal_code\n",
       "0  43cbf97df3d118b937551fb21a08d513bfb2e58223315f...\n",
       "1  d647e4ede3d0eb4ce0750440a110350b5f4c758165d89d...\n",
       "2  72afbb92c0200628bfa8f983c241eb0dc14e107f87d95b...\n",
       "3  3119ea10ffe5ac3419b9127589a61b33e1ae38ecbb997b...\n",
       "4  68ca4d9d6051d9c10b917d36bf9cb4afbadc551f7e4feb..."
      ]
     },
     "execution_count": 73,
     "metadata": {},
     "output_type": "execute_result"
    }
   ],
   "source": [
    "postal_code_df = customers[['postal_code']].drop_duplicates()\n",
    "postal_code_df.reset_index(drop=True, inplace=True)\n",
    "print(postal_code_df.shape)\n",
    "postal_code_df.head()"
   ]
  },
  {
   "cell_type": "code",
   "execution_count": 74,
   "id": "16b0ffb4",
   "metadata": {},
   "outputs": [],
   "source": [
    "postal_code_to_idx = dict(zip(postal_code_df['postal_code'], postal_code_df.index.tolist()))"
   ]
  },
  {
   "cell_type": "code",
   "execution_count": 75,
   "id": "f58120ba",
   "metadata": {},
   "outputs": [],
   "source": [
    "customers['postal_code_idx'] = customers['postal_code'].map(postal_code_to_idx)"
   ]
  },
  {
   "cell_type": "code",
   "execution_count": 76,
   "id": "b1de6840",
   "metadata": {
    "colab": {
     "base_uri": "https://localhost:8080/"
    },
    "executionInfo": {
     "elapsed": 9,
     "status": "ok",
     "timestamp": 1651409345569,
     "user": {
      "displayName": "Steven George",
      "userId": "07709250839253394649"
     },
     "user_tz": -60
    },
    "id": "2cc539c0",
    "outputId": "8b132f08-da57-4444-9a9f-a13b7c23e42d"
   },
   "outputs": [
    {
     "data": {
      "text/html": [
       "<div>\n",
       "<style scoped>\n",
       "    .dataframe tbody tr th:only-of-type {\n",
       "        vertical-align: middle;\n",
       "    }\n",
       "\n",
       "    .dataframe tbody tr th {\n",
       "        vertical-align: top;\n",
       "    }\n",
       "\n",
       "    .dataframe thead th {\n",
       "        text-align: right;\n",
       "    }\n",
       "</style>\n",
       "<table border=\"1\" class=\"dataframe\">\n",
       "  <thead>\n",
       "    <tr style=\"text-align: right;\">\n",
       "      <th></th>\n",
       "      <th>customer_id</th>\n",
       "      <th>FN</th>\n",
       "      <th>Active</th>\n",
       "      <th>club_member_status</th>\n",
       "      <th>fashion_news_frequency</th>\n",
       "      <th>age</th>\n",
       "      <th>postal_code</th>\n",
       "      <th>customer_id_idx</th>\n",
       "      <th>fashion_news_frequency_idx</th>\n",
       "      <th>club_member_status_idx</th>\n",
       "      <th>postal_code_idx</th>\n",
       "    </tr>\n",
       "  </thead>\n",
       "  <tbody>\n",
       "    <tr>\n",
       "      <th>0</th>\n",
       "      <td>00039306476aaf41a07fed942884f16b30abfa83a2a8be...</td>\n",
       "      <td>0.0</td>\n",
       "      <td>0.0</td>\n",
       "      <td>ACTIVE</td>\n",
       "      <td>MISSING</td>\n",
       "      <td>0.27</td>\n",
       "      <td>43cbf97df3d118b937551fb21a08d513bfb2e58223315f...</td>\n",
       "      <td>0</td>\n",
       "      <td>0</td>\n",
       "      <td>0</td>\n",
       "      <td>0</td>\n",
       "    </tr>\n",
       "    <tr>\n",
       "      <th>1</th>\n",
       "      <td>0003e867a930d0d6842f923d6ba7c9b77aba33fe2a0fbf...</td>\n",
       "      <td>1.0</td>\n",
       "      <td>1.0</td>\n",
       "      <td>ACTIVE</td>\n",
       "      <td>Regularly</td>\n",
       "      <td>0.33</td>\n",
       "      <td>d647e4ede3d0eb4ce0750440a110350b5f4c758165d89d...</td>\n",
       "      <td>1</td>\n",
       "      <td>1</td>\n",
       "      <td>0</td>\n",
       "      <td>1</td>\n",
       "    </tr>\n",
       "    <tr>\n",
       "      <th>2</th>\n",
       "      <td>000493dd9fc463df1acc2081450c9e75ef8e87d5dd17ed...</td>\n",
       "      <td>0.0</td>\n",
       "      <td>0.0</td>\n",
       "      <td>ACTIVE</td>\n",
       "      <td>MISSING</td>\n",
       "      <td>0.29</td>\n",
       "      <td>72afbb92c0200628bfa8f983c241eb0dc14e107f87d95b...</td>\n",
       "      <td>2</td>\n",
       "      <td>0</td>\n",
       "      <td>0</td>\n",
       "      <td>2</td>\n",
       "    </tr>\n",
       "    <tr>\n",
       "      <th>3</th>\n",
       "      <td>00077dbd5c4a4991e092e63893ccf29294a9d5c46e8501...</td>\n",
       "      <td>0.0</td>\n",
       "      <td>0.0</td>\n",
       "      <td>ACTIVE</td>\n",
       "      <td>MISSING</td>\n",
       "      <td>0.23</td>\n",
       "      <td>3119ea10ffe5ac3419b9127589a61b33e1ae38ecbb997b...</td>\n",
       "      <td>3</td>\n",
       "      <td>0</td>\n",
       "      <td>0</td>\n",
       "      <td>3</td>\n",
       "    </tr>\n",
       "    <tr>\n",
       "      <th>4</th>\n",
       "      <td>000fb6e772c5d0023892065e659963da90b1866035558e...</td>\n",
       "      <td>1.0</td>\n",
       "      <td>1.0</td>\n",
       "      <td>ACTIVE</td>\n",
       "      <td>Regularly</td>\n",
       "      <td>0.42</td>\n",
       "      <td>68ca4d9d6051d9c10b917d36bf9cb4afbadc551f7e4feb...</td>\n",
       "      <td>4</td>\n",
       "      <td>1</td>\n",
       "      <td>0</td>\n",
       "      <td>4</td>\n",
       "    </tr>\n",
       "  </tbody>\n",
       "</table>\n",
       "</div>"
      ],
      "text/plain": [
       "                                         customer_id   FN  Active  \\\n",
       "0  00039306476aaf41a07fed942884f16b30abfa83a2a8be...  0.0     0.0   \n",
       "1  0003e867a930d0d6842f923d6ba7c9b77aba33fe2a0fbf...  1.0     1.0   \n",
       "2  000493dd9fc463df1acc2081450c9e75ef8e87d5dd17ed...  0.0     0.0   \n",
       "3  00077dbd5c4a4991e092e63893ccf29294a9d5c46e8501...  0.0     0.0   \n",
       "4  000fb6e772c5d0023892065e659963da90b1866035558e...  1.0     1.0   \n",
       "\n",
       "  club_member_status fashion_news_frequency   age  \\\n",
       "0             ACTIVE                MISSING  0.27   \n",
       "1             ACTIVE              Regularly  0.33   \n",
       "2             ACTIVE                MISSING  0.29   \n",
       "3             ACTIVE                MISSING  0.23   \n",
       "4             ACTIVE              Regularly  0.42   \n",
       "\n",
       "                                         postal_code  customer_id_idx  \\\n",
       "0  43cbf97df3d118b937551fb21a08d513bfb2e58223315f...                0   \n",
       "1  d647e4ede3d0eb4ce0750440a110350b5f4c758165d89d...                1   \n",
       "2  72afbb92c0200628bfa8f983c241eb0dc14e107f87d95b...                2   \n",
       "3  3119ea10ffe5ac3419b9127589a61b33e1ae38ecbb997b...                3   \n",
       "4  68ca4d9d6051d9c10b917d36bf9cb4afbadc551f7e4feb...                4   \n",
       "\n",
       "   fashion_news_frequency_idx  club_member_status_idx  postal_code_idx  \n",
       "0                           0                       0                0  \n",
       "1                           1                       0                1  \n",
       "2                           0                       0                2  \n",
       "3                           0                       0                3  \n",
       "4                           1                       0                4  "
      ]
     },
     "execution_count": 76,
     "metadata": {},
     "output_type": "execute_result"
    }
   ],
   "source": [
    "customers.head()"
   ]
  },
  {
   "cell_type": "code",
   "execution_count": 77,
   "id": "dc80a09b",
   "metadata": {},
   "outputs": [],
   "source": [
    "train_set = train_set.merge(customers, on=['customer_id'])"
   ]
  },
  {
   "cell_type": "code",
   "execution_count": 78,
   "id": "64808c9b",
   "metadata": {},
   "outputs": [],
   "source": [
    "submission_inputs = submission_inputs.merge(customers, on=['customer_id'])"
   ]
  },
  {
   "cell_type": "code",
   "execution_count": 79,
   "id": "67205083",
   "metadata": {},
   "outputs": [
    {
     "data": {
      "text/html": [
       "<div>\n",
       "<style scoped>\n",
       "    .dataframe tbody tr th:only-of-type {\n",
       "        vertical-align: middle;\n",
       "    }\n",
       "\n",
       "    .dataframe tbody tr th {\n",
       "        vertical-align: top;\n",
       "    }\n",
       "\n",
       "    .dataframe thead th {\n",
       "        text-align: right;\n",
       "    }\n",
       "</style>\n",
       "<table border=\"1\" class=\"dataframe\">\n",
       "  <thead>\n",
       "    <tr style=\"text-align: right;\">\n",
       "      <th></th>\n",
       "      <th>customer_id</th>\n",
       "      <th>article_id_idx_last10</th>\n",
       "      <th>t_dat_latest</th>\n",
       "      <th>article_id_idx_label</th>\n",
       "      <th>num_purchases</th>\n",
       "      <th>example_age</th>\n",
       "      <th>FN</th>\n",
       "      <th>Active</th>\n",
       "      <th>club_member_status</th>\n",
       "      <th>fashion_news_frequency</th>\n",
       "      <th>age</th>\n",
       "      <th>postal_code</th>\n",
       "      <th>customer_id_idx</th>\n",
       "      <th>fashion_news_frequency_idx</th>\n",
       "      <th>club_member_status_idx</th>\n",
       "      <th>postal_code_idx</th>\n",
       "    </tr>\n",
       "  </thead>\n",
       "  <tbody>\n",
       "    <tr>\n",
       "      <th>0</th>\n",
       "      <td>00039306476aaf41a07fed942884f16b30abfa83a2a8be...</td>\n",
       "      <td>32760,29651,41973,6290,31593,4375,40958,37967,...</td>\n",
       "      <td>2020-02-06</td>\n",
       "      <td>28934</td>\n",
       "      <td>1</td>\n",
       "      <td>2.22</td>\n",
       "      <td>0.0</td>\n",
       "      <td>0.0</td>\n",
       "      <td>ACTIVE</td>\n",
       "      <td>MISSING</td>\n",
       "      <td>0.27</td>\n",
       "      <td>43cbf97df3d118b937551fb21a08d513bfb2e58223315f...</td>\n",
       "      <td>0</td>\n",
       "      <td>0</td>\n",
       "      <td>0</td>\n",
       "      <td>0</td>\n",
       "    </tr>\n",
       "    <tr>\n",
       "      <th>1</th>\n",
       "      <td>0003e867a930d0d6842f923d6ba7c9b77aba33fe2a0fbf...</td>\n",
       "      <td>86029,1778,96324,61533,97316,76071,96896,96896...</td>\n",
       "      <td>2020-09-14</td>\n",
       "      <td>87181</td>\n",
       "      <td>1</td>\n",
       "      <td>0.01</td>\n",
       "      <td>1.0</td>\n",
       "      <td>1.0</td>\n",
       "      <td>ACTIVE</td>\n",
       "      <td>Regularly</td>\n",
       "      <td>0.33</td>\n",
       "      <td>d647e4ede3d0eb4ce0750440a110350b5f4c758165d89d...</td>\n",
       "      <td>1</td>\n",
       "      <td>1</td>\n",
       "      <td>0</td>\n",
       "      <td>1</td>\n",
       "    </tr>\n",
       "    <tr>\n",
       "      <th>2</th>\n",
       "      <td>000493dd9fc463df1acc2081450c9e75ef8e87d5dd17ed...</td>\n",
       "      <td>87702,90734,69614,68970,38959,78364,34418,5383...</td>\n",
       "      <td>2020-09-09</td>\n",
       "      <td>33837,69614,77117</td>\n",
       "      <td>1,1,1</td>\n",
       "      <td>0.06</td>\n",
       "      <td>0.0</td>\n",
       "      <td>0.0</td>\n",
       "      <td>ACTIVE</td>\n",
       "      <td>MISSING</td>\n",
       "      <td>0.29</td>\n",
       "      <td>72afbb92c0200628bfa8f983c241eb0dc14e107f87d95b...</td>\n",
       "      <td>2</td>\n",
       "      <td>0</td>\n",
       "      <td>0</td>\n",
       "      <td>2</td>\n",
       "    </tr>\n",
       "    <tr>\n",
       "      <th>3</th>\n",
       "      <td>00077dbd5c4a4991e092e63893ccf29294a9d5c46e8501...</td>\n",
       "      <td>43294,46256,39859,9113,55796,58456,50354,22894...</td>\n",
       "      <td>2020-09-12</td>\n",
       "      <td>101827,102244,103079,103080,103285,104210,1043...</td>\n",
       "      <td>1,1,1,1,1,1,1,1,1,1,1,1,1,1</td>\n",
       "      <td>0.03</td>\n",
       "      <td>0.0</td>\n",
       "      <td>0.0</td>\n",
       "      <td>ACTIVE</td>\n",
       "      <td>MISSING</td>\n",
       "      <td>0.23</td>\n",
       "      <td>3119ea10ffe5ac3419b9127589a61b33e1ae38ecbb997b...</td>\n",
       "      <td>3</td>\n",
       "      <td>0</td>\n",
       "      <td>0</td>\n",
       "      <td>3</td>\n",
       "    </tr>\n",
       "    <tr>\n",
       "      <th>4</th>\n",
       "      <td>000fb6e772c5d0023892065e659963da90b1866035558e...</td>\n",
       "      <td>90827,76405,101370,79097,62637,89883,17021,946...</td>\n",
       "      <td>2020-09-10</td>\n",
       "      <td>102870,103396,76557,96449,99876</td>\n",
       "      <td>2,1,1,3,2</td>\n",
       "      <td>0.05</td>\n",
       "      <td>1.0</td>\n",
       "      <td>1.0</td>\n",
       "      <td>ACTIVE</td>\n",
       "      <td>Regularly</td>\n",
       "      <td>0.42</td>\n",
       "      <td>68ca4d9d6051d9c10b917d36bf9cb4afbadc551f7e4feb...</td>\n",
       "      <td>4</td>\n",
       "      <td>1</td>\n",
       "      <td>0</td>\n",
       "      <td>4</td>\n",
       "    </tr>\n",
       "  </tbody>\n",
       "</table>\n",
       "</div>"
      ],
      "text/plain": [
       "                                         customer_id  \\\n",
       "0  00039306476aaf41a07fed942884f16b30abfa83a2a8be...   \n",
       "1  0003e867a930d0d6842f923d6ba7c9b77aba33fe2a0fbf...   \n",
       "2  000493dd9fc463df1acc2081450c9e75ef8e87d5dd17ed...   \n",
       "3  00077dbd5c4a4991e092e63893ccf29294a9d5c46e8501...   \n",
       "4  000fb6e772c5d0023892065e659963da90b1866035558e...   \n",
       "\n",
       "                               article_id_idx_last10 t_dat_latest  \\\n",
       "0  32760,29651,41973,6290,31593,4375,40958,37967,...   2020-02-06   \n",
       "1  86029,1778,96324,61533,97316,76071,96896,96896...   2020-09-14   \n",
       "2  87702,90734,69614,68970,38959,78364,34418,5383...   2020-09-09   \n",
       "3  43294,46256,39859,9113,55796,58456,50354,22894...   2020-09-12   \n",
       "4  90827,76405,101370,79097,62637,89883,17021,946...   2020-09-10   \n",
       "\n",
       "                                article_id_idx_label  \\\n",
       "0                                              28934   \n",
       "1                                              87181   \n",
       "2                                  33837,69614,77117   \n",
       "3  101827,102244,103079,103080,103285,104210,1043...   \n",
       "4                    102870,103396,76557,96449,99876   \n",
       "\n",
       "                 num_purchases  example_age   FN  Active club_member_status  \\\n",
       "0                            1         2.22  0.0     0.0             ACTIVE   \n",
       "1                            1         0.01  1.0     1.0             ACTIVE   \n",
       "2                        1,1,1         0.06  0.0     0.0             ACTIVE   \n",
       "3  1,1,1,1,1,1,1,1,1,1,1,1,1,1         0.03  0.0     0.0             ACTIVE   \n",
       "4                    2,1,1,3,2         0.05  1.0     1.0             ACTIVE   \n",
       "\n",
       "  fashion_news_frequency   age  \\\n",
       "0                MISSING  0.27   \n",
       "1              Regularly  0.33   \n",
       "2                MISSING  0.29   \n",
       "3                MISSING  0.23   \n",
       "4              Regularly  0.42   \n",
       "\n",
       "                                         postal_code  customer_id_idx  \\\n",
       "0  43cbf97df3d118b937551fb21a08d513bfb2e58223315f...                0   \n",
       "1  d647e4ede3d0eb4ce0750440a110350b5f4c758165d89d...                1   \n",
       "2  72afbb92c0200628bfa8f983c241eb0dc14e107f87d95b...                2   \n",
       "3  3119ea10ffe5ac3419b9127589a61b33e1ae38ecbb997b...                3   \n",
       "4  68ca4d9d6051d9c10b917d36bf9cb4afbadc551f7e4feb...                4   \n",
       "\n",
       "   fashion_news_frequency_idx  club_member_status_idx  postal_code_idx  \n",
       "0                           0                       0                0  \n",
       "1                           1                       0                1  \n",
       "2                           0                       0                2  \n",
       "3                           0                       0                3  \n",
       "4                           1                       0                4  "
      ]
     },
     "execution_count": 79,
     "metadata": {},
     "output_type": "execute_result"
    }
   ],
   "source": [
    "train_set.head()"
   ]
  },
  {
   "cell_type": "code",
   "execution_count": 80,
   "id": "ebd44562",
   "metadata": {},
   "outputs": [],
   "source": [
    "train_set = train_set[['customer_id_idx', 'article_id_idx_last10', 'article_id_idx_label', 'FN', 'Active', 'age', 'num_purchases', 'example_age', 'fashion_news_frequency_idx', 'club_member_status_idx', 'postal_code_idx']]"
   ]
  },
  {
   "cell_type": "code",
   "execution_count": 81,
   "id": "76f10651",
   "metadata": {},
   "outputs": [],
   "source": [
    "submission_inputs = submission_inputs[['customer_id_idx', 'article_id_idx_last10', 'article_id_idx_label', 'FN', 'Active', 'age', 'num_purchases', 'example_age', 'fashion_news_frequency_idx', 'club_member_status_idx', 'postal_code_idx']]"
   ]
  },
  {
   "cell_type": "code",
   "execution_count": 82,
   "id": "4222a58f",
   "metadata": {},
   "outputs": [
    {
     "data": {
      "text/html": [
       "<div>\n",
       "<style scoped>\n",
       "    .dataframe tbody tr th:only-of-type {\n",
       "        vertical-align: middle;\n",
       "    }\n",
       "\n",
       "    .dataframe tbody tr th {\n",
       "        vertical-align: top;\n",
       "    }\n",
       "\n",
       "    .dataframe thead th {\n",
       "        text-align: right;\n",
       "    }\n",
       "</style>\n",
       "<table border=\"1\" class=\"dataframe\">\n",
       "  <thead>\n",
       "    <tr style=\"text-align: right;\">\n",
       "      <th></th>\n",
       "      <th>customer_id_idx</th>\n",
       "      <th>article_id_idx_last10</th>\n",
       "      <th>article_id_idx_label</th>\n",
       "      <th>FN</th>\n",
       "      <th>Active</th>\n",
       "      <th>age</th>\n",
       "      <th>num_purchases</th>\n",
       "      <th>example_age</th>\n",
       "      <th>fashion_news_frequency_idx</th>\n",
       "      <th>club_member_status_idx</th>\n",
       "      <th>postal_code_idx</th>\n",
       "    </tr>\n",
       "  </thead>\n",
       "  <tbody>\n",
       "    <tr>\n",
       "      <th>0</th>\n",
       "      <td>0</td>\n",
       "      <td>32760,29651,41973,6290,31593,4375,40958,37967,...</td>\n",
       "      <td>28934</td>\n",
       "      <td>0.0</td>\n",
       "      <td>0.0</td>\n",
       "      <td>0.27</td>\n",
       "      <td>1</td>\n",
       "      <td>2.22</td>\n",
       "      <td>0</td>\n",
       "      <td>0</td>\n",
       "      <td>0</td>\n",
       "    </tr>\n",
       "    <tr>\n",
       "      <th>1</th>\n",
       "      <td>1</td>\n",
       "      <td>86029,1778,96324,61533,97316,76071,96896,96896...</td>\n",
       "      <td>87181</td>\n",
       "      <td>1.0</td>\n",
       "      <td>1.0</td>\n",
       "      <td>0.33</td>\n",
       "      <td>1</td>\n",
       "      <td>0.01</td>\n",
       "      <td>1</td>\n",
       "      <td>0</td>\n",
       "      <td>1</td>\n",
       "    </tr>\n",
       "    <tr>\n",
       "      <th>2</th>\n",
       "      <td>2</td>\n",
       "      <td>87702,90734,69614,68970,38959,78364,34418,5383...</td>\n",
       "      <td>33837,69614,77117</td>\n",
       "      <td>0.0</td>\n",
       "      <td>0.0</td>\n",
       "      <td>0.29</td>\n",
       "      <td>1,1,1</td>\n",
       "      <td>0.06</td>\n",
       "      <td>0</td>\n",
       "      <td>0</td>\n",
       "      <td>2</td>\n",
       "    </tr>\n",
       "    <tr>\n",
       "      <th>3</th>\n",
       "      <td>3</td>\n",
       "      <td>43294,46256,39859,9113,55796,58456,50354,22894...</td>\n",
       "      <td>101827,102244,103079,103080,103285,104210,1043...</td>\n",
       "      <td>0.0</td>\n",
       "      <td>0.0</td>\n",
       "      <td>0.23</td>\n",
       "      <td>1,1,1,1,1,1,1,1,1,1,1,1,1,1</td>\n",
       "      <td>0.03</td>\n",
       "      <td>0</td>\n",
       "      <td>0</td>\n",
       "      <td>3</td>\n",
       "    </tr>\n",
       "    <tr>\n",
       "      <th>4</th>\n",
       "      <td>4</td>\n",
       "      <td>90827,76405,101370,79097,62637,89883,17021,946...</td>\n",
       "      <td>102870,103396,76557,96449,99876</td>\n",
       "      <td>1.0</td>\n",
       "      <td>1.0</td>\n",
       "      <td>0.42</td>\n",
       "      <td>2,1,1,3,2</td>\n",
       "      <td>0.05</td>\n",
       "      <td>1</td>\n",
       "      <td>0</td>\n",
       "      <td>4</td>\n",
       "    </tr>\n",
       "  </tbody>\n",
       "</table>\n",
       "</div>"
      ],
      "text/plain": [
       "   customer_id_idx                              article_id_idx_last10  \\\n",
       "0                0  32760,29651,41973,6290,31593,4375,40958,37967,...   \n",
       "1                1  86029,1778,96324,61533,97316,76071,96896,96896...   \n",
       "2                2  87702,90734,69614,68970,38959,78364,34418,5383...   \n",
       "3                3  43294,46256,39859,9113,55796,58456,50354,22894...   \n",
       "4                4  90827,76405,101370,79097,62637,89883,17021,946...   \n",
       "\n",
       "                                article_id_idx_label   FN  Active   age  \\\n",
       "0                                              28934  0.0     0.0  0.27   \n",
       "1                                              87181  1.0     1.0  0.33   \n",
       "2                                  33837,69614,77117  0.0     0.0  0.29   \n",
       "3  101827,102244,103079,103080,103285,104210,1043...  0.0     0.0  0.23   \n",
       "4                    102870,103396,76557,96449,99876  1.0     1.0  0.42   \n",
       "\n",
       "                 num_purchases  example_age  fashion_news_frequency_idx  \\\n",
       "0                            1         2.22                           0   \n",
       "1                            1         0.01                           1   \n",
       "2                        1,1,1         0.06                           0   \n",
       "3  1,1,1,1,1,1,1,1,1,1,1,1,1,1         0.03                           0   \n",
       "4                    2,1,1,3,2         0.05                           1   \n",
       "\n",
       "   club_member_status_idx  postal_code_idx  \n",
       "0                       0                0  \n",
       "1                       0                1  \n",
       "2                       0                2  \n",
       "3                       0                3  \n",
       "4                       0                4  "
      ]
     },
     "execution_count": 82,
     "metadata": {},
     "output_type": "execute_result"
    }
   ],
   "source": [
    "train_set.head()"
   ]
  },
  {
   "cell_type": "code",
   "execution_count": 83,
   "id": "dad4b0b1",
   "metadata": {},
   "outputs": [
    {
     "data": {
      "text/html": [
       "<div>\n",
       "<style scoped>\n",
       "    .dataframe tbody tr th:only-of-type {\n",
       "        vertical-align: middle;\n",
       "    }\n",
       "\n",
       "    .dataframe tbody tr th {\n",
       "        vertical-align: top;\n",
       "    }\n",
       "\n",
       "    .dataframe thead th {\n",
       "        text-align: right;\n",
       "    }\n",
       "</style>\n",
       "<table border=\"1\" class=\"dataframe\">\n",
       "  <thead>\n",
       "    <tr style=\"text-align: right;\">\n",
       "      <th></th>\n",
       "      <th>customer_id_idx</th>\n",
       "      <th>article_id_idx_last10</th>\n",
       "      <th>article_id_idx_label</th>\n",
       "      <th>FN</th>\n",
       "      <th>Active</th>\n",
       "      <th>age</th>\n",
       "      <th>num_purchases</th>\n",
       "      <th>example_age</th>\n",
       "      <th>fashion_news_frequency_idx</th>\n",
       "      <th>club_member_status_idx</th>\n",
       "      <th>postal_code_idx</th>\n",
       "    </tr>\n",
       "  </thead>\n",
       "  <tbody>\n",
       "    <tr>\n",
       "      <th>0</th>\n",
       "      <td>0</td>\n",
       "      <td>32760,29651,41973,6290,31593,4375,40958,37967,...</td>\n",
       "      <td>0</td>\n",
       "      <td>0.0</td>\n",
       "      <td>0.0</td>\n",
       "      <td>0.27</td>\n",
       "      <td>1</td>\n",
       "      <td>-0.05</td>\n",
       "      <td>0</td>\n",
       "      <td>0</td>\n",
       "      <td>0</td>\n",
       "    </tr>\n",
       "    <tr>\n",
       "      <th>1</th>\n",
       "      <td>1</td>\n",
       "      <td>86029,1778,96324,61533,97316,76071,96896,96896...</td>\n",
       "      <td>0</td>\n",
       "      <td>1.0</td>\n",
       "      <td>1.0</td>\n",
       "      <td>0.33</td>\n",
       "      <td>1</td>\n",
       "      <td>-0.07</td>\n",
       "      <td>1</td>\n",
       "      <td>0</td>\n",
       "      <td>1</td>\n",
       "    </tr>\n",
       "    <tr>\n",
       "      <th>2</th>\n",
       "      <td>2</td>\n",
       "      <td>87702,90734,69614,68970,38959,78364,34418,5383...</td>\n",
       "      <td>0</td>\n",
       "      <td>0.0</td>\n",
       "      <td>0.0</td>\n",
       "      <td>0.29</td>\n",
       "      <td>1</td>\n",
       "      <td>-0.06</td>\n",
       "      <td>0</td>\n",
       "      <td>0</td>\n",
       "      <td>2</td>\n",
       "    </tr>\n",
       "    <tr>\n",
       "      <th>3</th>\n",
       "      <td>3</td>\n",
       "      <td>43294,46256,39859,9113,55796,58456,50354,22894...</td>\n",
       "      <td>0</td>\n",
       "      <td>0.0</td>\n",
       "      <td>0.0</td>\n",
       "      <td>0.23</td>\n",
       "      <td>1</td>\n",
       "      <td>-0.06</td>\n",
       "      <td>0</td>\n",
       "      <td>0</td>\n",
       "      <td>3</td>\n",
       "    </tr>\n",
       "    <tr>\n",
       "      <th>4</th>\n",
       "      <td>4</td>\n",
       "      <td>17039,24807,91350,91350,74560,82265,93589,9284...</td>\n",
       "      <td>0</td>\n",
       "      <td>1.0</td>\n",
       "      <td>1.0</td>\n",
       "      <td>0.42</td>\n",
       "      <td>1</td>\n",
       "      <td>-0.06</td>\n",
       "      <td>1</td>\n",
       "      <td>0</td>\n",
       "      <td>4</td>\n",
       "    </tr>\n",
       "  </tbody>\n",
       "</table>\n",
       "</div>"
      ],
      "text/plain": [
       "   customer_id_idx                              article_id_idx_last10  \\\n",
       "0                0  32760,29651,41973,6290,31593,4375,40958,37967,...   \n",
       "1                1  86029,1778,96324,61533,97316,76071,96896,96896...   \n",
       "2                2  87702,90734,69614,68970,38959,78364,34418,5383...   \n",
       "3                3  43294,46256,39859,9113,55796,58456,50354,22894...   \n",
       "4                4  17039,24807,91350,91350,74560,82265,93589,9284...   \n",
       "\n",
       "  article_id_idx_label   FN  Active   age num_purchases  example_age  \\\n",
       "0                    0  0.0     0.0  0.27             1        -0.05   \n",
       "1                    0  1.0     1.0  0.33             1        -0.07   \n",
       "2                    0  0.0     0.0  0.29             1        -0.06   \n",
       "3                    0  0.0     0.0  0.23             1        -0.06   \n",
       "4                    0  1.0     1.0  0.42             1        -0.06   \n",
       "\n",
       "   fashion_news_frequency_idx  club_member_status_idx  postal_code_idx  \n",
       "0                           0                       0                0  \n",
       "1                           1                       0                1  \n",
       "2                           0                       0                2  \n",
       "3                           0                       0                3  \n",
       "4                           1                       0                4  "
      ]
     },
     "execution_count": 83,
     "metadata": {},
     "output_type": "execute_result"
    }
   ],
   "source": [
    "submission_inputs.head()"
   ]
  },
  {
   "cell_type": "markdown",
   "id": "67afb567",
   "metadata": {},
   "source": [
    "### Save files"
   ]
  },
  {
   "cell_type": "code",
   "execution_count": 84,
   "id": "430aa80e",
   "metadata": {},
   "outputs": [],
   "source": [
    "train_set.to_csv('data/final_train_set_with_counts_and_age_extended_100_hist_with_more_cust_feat_for_submission.tsv', sep='\\t', index=False)\n",
    "submission_inputs.to_csv('data/final_submission_inputs_with_counts_and_age_extended_100_hist_with_more_cust_feat_for_submission.tsv', sep='\\t', index=False)\n",
    "\n",
    "articles_df.to_csv('data/articles_df_filt_with_counts_and_age_extended_100_hist_with_more_cust_feat_for_submission.csv', index=False)\n",
    "customers.to_csv('data/customers_filt_with_counts_and_age_extended_100_hist_with_more_cust_feat_for_submission.csv', index=False)"
   ]
  },
  {
   "cell_type": "markdown",
   "id": "04205721",
   "metadata": {},
   "source": [
    "### IterableDataset"
   ]
  },
  {
   "cell_type": "code",
   "execution_count": 70,
   "id": "334ced3d",
   "metadata": {},
   "outputs": [],
   "source": [
    "class RecommendationDatasetMultiLabel(IterableDataset):\n",
    "\n",
    "    def __init__(self, dataset_filepath, article_emb_bag, total_articles):\n",
    "        \n",
    "        self.dataset_itr = open(dataset_filepath, 'r')\n",
    "        next(self.dataset_itr)  # skip header\n",
    "        \n",
    "        self.article_emb_bag = article_emb_bag\n",
    "        \n",
    "        self.total_articles = total_articles\n",
    "    \n",
    "    def process_label(self, label_str: str, num_purchases_str: str):\n",
    "        \n",
    "        labels = torch.tensor([int(v) for v in label_str.split(',')])\n",
    "        \n",
    "        num_purchases = torch.tensor([float(v) for v in num_purchases_str.split(',')])\n",
    "        \n",
    "        target = torch.zeros(self.total_articles).scatter_(0, labels, num_purchases)\n",
    "\n",
    "        return target\n",
    "    \n",
    "    def mean_historical_purchases_embedding(self, input_str: str):\n",
    "        \n",
    "        indices = torch.tensor([int(v) for v in input_str.split(',')])\n",
    "\n",
    "        mean_emb = self.article_emb_bag(indices.unsqueeze(0)).flatten()\n",
    "            \n",
    "        return mean_emb\n",
    "    \n",
    "    def process_numeric_features(self, fn: str, active: str, age: str, example_age: str):\n",
    "        numeric_features_tensor = torch.tensor([\n",
    "            float(fn),\n",
    "            float(active),\n",
    "            float(age),\n",
    "            float(example_age)\n",
    "        ])\n",
    "\n",
    "        return numeric_features_tensor\n",
    "    \n",
    "    def parse_itr(self, dataset_itr):\n",
    "        \n",
    "        for line in dataset_itr:\n",
    "        \n",
    "            line_items = line.rstrip('\\n').split('\\t')\n",
    "            \n",
    "            customer_id_idx, article_id_idx_last10, article_id_idx_label, fn, active, age, num_purchases, example_age = line_items\n",
    "            \n",
    "            customer_id_idx = int(customer_id_idx)\n",
    "            \n",
    "            numeric_features_tensor = self.process_numeric_features(fn, active, age, example_age)\n",
    "            \n",
    "            mean_emb = self.mean_historical_purchases_embedding(article_id_idx_last10)\n",
    "\n",
    "            label = self.process_label(article_id_idx_label, num_purchases)    \n",
    "            \n",
    "            inputs = torch.concat((mean_emb, numeric_features_tensor))\n",
    "\n",
    "            yield customer_id_idx, inputs, label\n",
    "        \n",
    "    def get_stream(self, dataset_itr):\n",
    "        \n",
    "        return self.parse_itr(dataset_itr)\n",
    "\n",
    "    def __iter__(self):\n",
    "        \n",
    "        return self.get_stream(self.dataset_itr)"
   ]
  },
  {
   "cell_type": "code",
   "execution_count": 81,
   "id": "a06d1711",
   "metadata": {},
   "outputs": [],
   "source": [
    "dataset = RecommendationDatasetMultiLabel(dataset_filepath='data/final_train_set_with_counts_and_age.tsv', article_emb_bag=article_emb_bag, total_articles=total_articles)"
   ]
  },
  {
   "cell_type": "code",
   "execution_count": 84,
   "id": "2646eced",
   "metadata": {},
   "outputs": [
    {
     "data": {
      "text/html": [
       "<div>\n",
       "<style scoped>\n",
       "    .dataframe tbody tr th:only-of-type {\n",
       "        vertical-align: middle;\n",
       "    }\n",
       "\n",
       "    .dataframe tbody tr th {\n",
       "        vertical-align: top;\n",
       "    }\n",
       "\n",
       "    .dataframe thead th {\n",
       "        text-align: right;\n",
       "    }\n",
       "</style>\n",
       "<table border=\"1\" class=\"dataframe\">\n",
       "  <thead>\n",
       "    <tr style=\"text-align: right;\">\n",
       "      <th></th>\n",
       "      <th>customer_id_idx</th>\n",
       "      <th>article_id_idx_last10</th>\n",
       "      <th>article_id_idx_label</th>\n",
       "      <th>FN</th>\n",
       "      <th>Active</th>\n",
       "      <th>age</th>\n",
       "      <th>num_purchases</th>\n",
       "      <th>example_age</th>\n",
       "    </tr>\n",
       "  </thead>\n",
       "  <tbody>\n",
       "    <tr>\n",
       "      <th>0</th>\n",
       "      <td>0</td>\n",
       "      <td>15861</td>\n",
       "      <td>7705</td>\n",
       "      <td>0.0</td>\n",
       "      <td>0.0</td>\n",
       "      <td>0.45</td>\n",
       "      <td>3</td>\n",
       "      <td>0.42</td>\n",
       "    </tr>\n",
       "    <tr>\n",
       "      <th>1</th>\n",
       "      <td>1</td>\n",
       "      <td>38882,3152,31459,3157,39673,39510,17255,26222,...</td>\n",
       "      <td>3160,35654,38515,39642,40340</td>\n",
       "      <td>1.0</td>\n",
       "      <td>1.0</td>\n",
       "      <td>0.44</td>\n",
       "      <td>1,1,1,1,1</td>\n",
       "      <td>0.00</td>\n",
       "    </tr>\n",
       "    <tr>\n",
       "      <th>2</th>\n",
       "      <td>2</td>\n",
       "      <td>21627,21175,23351</td>\n",
       "      <td>23816</td>\n",
       "      <td>0.0</td>\n",
       "      <td>0.0</td>\n",
       "      <td>0.21</td>\n",
       "      <td>1</td>\n",
       "      <td>0.25</td>\n",
       "    </tr>\n",
       "    <tr>\n",
       "      <th>3</th>\n",
       "      <td>3</td>\n",
       "      <td>18099,33097,33097,39942,39441,36213</td>\n",
       "      <td>37897,38110,38872</td>\n",
       "      <td>1.0</td>\n",
       "      <td>1.0</td>\n",
       "      <td>0.33</td>\n",
       "      <td>1,1,1</td>\n",
       "      <td>0.21</td>\n",
       "    </tr>\n",
       "    <tr>\n",
       "      <th>4</th>\n",
       "      <td>4</td>\n",
       "      <td>23950,25602,10293,29865,19920,34107,25721,2152...</td>\n",
       "      <td>10396,15220,15224,21141,23930,37733,37735,37827</td>\n",
       "      <td>0.0</td>\n",
       "      <td>0.0</td>\n",
       "      <td>0.21</td>\n",
       "      <td>1,1,1,1,1,1,1,1</td>\n",
       "      <td>0.51</td>\n",
       "    </tr>\n",
       "    <tr>\n",
       "      <th>5</th>\n",
       "      <td>5</td>\n",
       "      <td>23368,29644,546,7957</td>\n",
       "      <td>23326,34657,34797,37783</td>\n",
       "      <td>0.0</td>\n",
       "      <td>0.0</td>\n",
       "      <td>0.19</td>\n",
       "      <td>2,1,1,1</td>\n",
       "      <td>0.32</td>\n",
       "    </tr>\n",
       "    <tr>\n",
       "      <th>6</th>\n",
       "      <td>6</td>\n",
       "      <td>32407,33337,34491,34150,39072,14076,14074,2120...</td>\n",
       "      <td>39072,40138</td>\n",
       "      <td>0.0</td>\n",
       "      <td>0.0</td>\n",
       "      <td>0.36</td>\n",
       "      <td>1,1</td>\n",
       "      <td>0.02</td>\n",
       "    </tr>\n",
       "    <tr>\n",
       "      <th>7</th>\n",
       "      <td>7</td>\n",
       "      <td>4388,37067,32054,30795,33397,15496,26253,1059,...</td>\n",
       "      <td>24455,30121</td>\n",
       "      <td>0.0</td>\n",
       "      <td>0.0</td>\n",
       "      <td>0.40</td>\n",
       "      <td>1,1</td>\n",
       "      <td>0.19</td>\n",
       "    </tr>\n",
       "    <tr>\n",
       "      <th>8</th>\n",
       "      <td>8</td>\n",
       "      <td>21970,10865</td>\n",
       "      <td>2471,35881,37827</td>\n",
       "      <td>1.0</td>\n",
       "      <td>1.0</td>\n",
       "      <td>0.22</td>\n",
       "      <td>1,1,1</td>\n",
       "      <td>0.50</td>\n",
       "    </tr>\n",
       "    <tr>\n",
       "      <th>9</th>\n",
       "      <td>9</td>\n",
       "      <td>25681,24592,30530,2370</td>\n",
       "      <td>23806,30609,37567</td>\n",
       "      <td>1.0</td>\n",
       "      <td>1.0</td>\n",
       "      <td>0.59</td>\n",
       "      <td>1,1,1</td>\n",
       "      <td>0.35</td>\n",
       "    </tr>\n",
       "    <tr>\n",
       "      <th>10</th>\n",
       "      <td>10</td>\n",
       "      <td>7604,7997</td>\n",
       "      <td>16262,16263,37624</td>\n",
       "      <td>0.0</td>\n",
       "      <td>0.0</td>\n",
       "      <td>0.21</td>\n",
       "      <td>1,1,1</td>\n",
       "      <td>0.52</td>\n",
       "    </tr>\n",
       "    <tr>\n",
       "      <th>11</th>\n",
       "      <td>11</td>\n",
       "      <td>2370</td>\n",
       "      <td>9483</td>\n",
       "      <td>0.0</td>\n",
       "      <td>0.0</td>\n",
       "      <td>0.44</td>\n",
       "      <td>1</td>\n",
       "      <td>0.03</td>\n",
       "    </tr>\n",
       "    <tr>\n",
       "      <th>12</th>\n",
       "      <td>12</td>\n",
       "      <td>36624,36624,34836,24961,34839,22200,25670</td>\n",
       "      <td>30582,37260</td>\n",
       "      <td>0.0</td>\n",
       "      <td>0.0</td>\n",
       "      <td>0.27</td>\n",
       "      <td>1,1</td>\n",
       "      <td>0.00</td>\n",
       "    </tr>\n",
       "    <tr>\n",
       "      <th>13</th>\n",
       "      <td>13</td>\n",
       "      <td>26177,26177,26177,31831,31831,31831,32833,3436...</td>\n",
       "      <td>30784,7682,7697</td>\n",
       "      <td>0.0</td>\n",
       "      <td>0.0</td>\n",
       "      <td>0.41</td>\n",
       "      <td>1,1,1</td>\n",
       "      <td>0.40</td>\n",
       "    </tr>\n",
       "    <tr>\n",
       "      <th>14</th>\n",
       "      <td>14</td>\n",
       "      <td>35034,22574,9569</td>\n",
       "      <td>33397,36503,38321</td>\n",
       "      <td>0.0</td>\n",
       "      <td>0.0</td>\n",
       "      <td>0.37</td>\n",
       "      <td>1,1,1</td>\n",
       "      <td>0.45</td>\n",
       "    </tr>\n",
       "    <tr>\n",
       "      <th>15</th>\n",
       "      <td>15</td>\n",
       "      <td>37540,4953,37677,15355,40180,39072,36872,38476...</td>\n",
       "      <td>19793,24455,25547,37728,4387</td>\n",
       "      <td>1.0</td>\n",
       "      <td>1.0</td>\n",
       "      <td>0.42</td>\n",
       "      <td>1,1,1,1,1</td>\n",
       "      <td>0.03</td>\n",
       "    </tr>\n",
       "    <tr>\n",
       "      <th>16</th>\n",
       "      <td>16</td>\n",
       "      <td>26013</td>\n",
       "      <td>1355,21208,25034,25385,2810</td>\n",
       "      <td>0.0</td>\n",
       "      <td>0.0</td>\n",
       "      <td>0.30</td>\n",
       "      <td>1,1,1,1,1</td>\n",
       "      <td>0.41</td>\n",
       "    </tr>\n",
       "    <tr>\n",
       "      <th>17</th>\n",
       "      <td>17</td>\n",
       "      <td>15270,2258,2260</td>\n",
       "      <td>23407,40262,40264</td>\n",
       "      <td>1.0</td>\n",
       "      <td>1.0</td>\n",
       "      <td>0.23</td>\n",
       "      <td>1,1,1</td>\n",
       "      <td>0.43</td>\n",
       "    </tr>\n",
       "    <tr>\n",
       "      <th>18</th>\n",
       "      <td>18</td>\n",
       "      <td>40445,40443,30867,11803,4930,8586,8580,8580,30...</td>\n",
       "      <td>37585,38298</td>\n",
       "      <td>0.0</td>\n",
       "      <td>0.0</td>\n",
       "      <td>0.39</td>\n",
       "      <td>1,1</td>\n",
       "      <td>0.34</td>\n",
       "    </tr>\n",
       "    <tr>\n",
       "      <th>19</th>\n",
       "      <td>19</td>\n",
       "      <td>17141,3962,3974,22183,2873,3126,2587</td>\n",
       "      <td>18835,19767,25165,36841,37017,39416,40392</td>\n",
       "      <td>0.0</td>\n",
       "      <td>0.0</td>\n",
       "      <td>0.32</td>\n",
       "      <td>1,1,1,1,1,1,1</td>\n",
       "      <td>0.24</td>\n",
       "    </tr>\n",
       "  </tbody>\n",
       "</table>\n",
       "</div>"
      ],
      "text/plain": [
       "    customer_id_idx                              article_id_idx_last10  \\\n",
       "0                 0                                              15861   \n",
       "1                 1  38882,3152,31459,3157,39673,39510,17255,26222,...   \n",
       "2                 2                                  21627,21175,23351   \n",
       "3                 3                18099,33097,33097,39942,39441,36213   \n",
       "4                 4  23950,25602,10293,29865,19920,34107,25721,2152...   \n",
       "5                 5                               23368,29644,546,7957   \n",
       "6                 6  32407,33337,34491,34150,39072,14076,14074,2120...   \n",
       "7                 7  4388,37067,32054,30795,33397,15496,26253,1059,...   \n",
       "8                 8                                        21970,10865   \n",
       "9                 9                             25681,24592,30530,2370   \n",
       "10               10                                          7604,7997   \n",
       "11               11                                               2370   \n",
       "12               12          36624,36624,34836,24961,34839,22200,25670   \n",
       "13               13  26177,26177,26177,31831,31831,31831,32833,3436...   \n",
       "14               14                                   35034,22574,9569   \n",
       "15               15  37540,4953,37677,15355,40180,39072,36872,38476...   \n",
       "16               16                                              26013   \n",
       "17               17                                    15270,2258,2260   \n",
       "18               18  40445,40443,30867,11803,4930,8586,8580,8580,30...   \n",
       "19               19               17141,3962,3974,22183,2873,3126,2587   \n",
       "\n",
       "                               article_id_idx_label   FN  Active   age  \\\n",
       "0                                              7705  0.0     0.0  0.45   \n",
       "1                      3160,35654,38515,39642,40340  1.0     1.0  0.44   \n",
       "2                                             23816  0.0     0.0  0.21   \n",
       "3                                 37897,38110,38872  1.0     1.0  0.33   \n",
       "4   10396,15220,15224,21141,23930,37733,37735,37827  0.0     0.0  0.21   \n",
       "5                           23326,34657,34797,37783  0.0     0.0  0.19   \n",
       "6                                       39072,40138  0.0     0.0  0.36   \n",
       "7                                       24455,30121  0.0     0.0  0.40   \n",
       "8                                  2471,35881,37827  1.0     1.0  0.22   \n",
       "9                                 23806,30609,37567  1.0     1.0  0.59   \n",
       "10                                16262,16263,37624  0.0     0.0  0.21   \n",
       "11                                             9483  0.0     0.0  0.44   \n",
       "12                                      30582,37260  0.0     0.0  0.27   \n",
       "13                                  30784,7682,7697  0.0     0.0  0.41   \n",
       "14                                33397,36503,38321  0.0     0.0  0.37   \n",
       "15                     19793,24455,25547,37728,4387  1.0     1.0  0.42   \n",
       "16                      1355,21208,25034,25385,2810  0.0     0.0  0.30   \n",
       "17                                23407,40262,40264  1.0     1.0  0.23   \n",
       "18                                      37585,38298  0.0     0.0  0.39   \n",
       "19        18835,19767,25165,36841,37017,39416,40392  0.0     0.0  0.32   \n",
       "\n",
       "      num_purchases  example_age  \n",
       "0                 3         0.42  \n",
       "1         1,1,1,1,1         0.00  \n",
       "2                 1         0.25  \n",
       "3             1,1,1         0.21  \n",
       "4   1,1,1,1,1,1,1,1         0.51  \n",
       "5           2,1,1,1         0.32  \n",
       "6               1,1         0.02  \n",
       "7               1,1         0.19  \n",
       "8             1,1,1         0.50  \n",
       "9             1,1,1         0.35  \n",
       "10            1,1,1         0.52  \n",
       "11                1         0.03  \n",
       "12              1,1         0.00  \n",
       "13            1,1,1         0.40  \n",
       "14            1,1,1         0.45  \n",
       "15        1,1,1,1,1         0.03  \n",
       "16        1,1,1,1,1         0.41  \n",
       "17            1,1,1         0.43  \n",
       "18              1,1         0.34  \n",
       "19    1,1,1,1,1,1,1         0.24  "
      ]
     },
     "execution_count": 84,
     "metadata": {},
     "output_type": "execute_result"
    }
   ],
   "source": [
    "pd.read_csv('data/final_train_set_with_counts_and_age.tsv', sep='\\t').head(20)"
   ]
  },
  {
   "cell_type": "code",
   "execution_count": 83,
   "id": "92285ba9",
   "metadata": {},
   "outputs": [
    {
     "name": "stdout",
     "output_type": "stream",
     "text": [
      "tensor([0, 1, 2, 3])\n",
      "tensor([[-1.2173,  0.1219, -0.2311,  ...,  0.0000,  0.4500,  0.4200],\n",
      "        [-0.1295, -0.0226,  0.2097,  ...,  1.0000,  0.4400,  0.0000],\n",
      "        [ 0.0787, -0.0579,  0.0796,  ...,  0.0000,  0.2100,  0.2500],\n",
      "        [ 0.2321,  0.9143, -1.3484,  ...,  1.0000,  0.3300,  0.2100]],\n",
      "       grad_fn=<StackBackward0>)\n",
      "tensor([[0., 0., 0.,  ..., 0., 0., 0.],\n",
      "        [0., 0., 0.,  ..., 0., 0., 0.],\n",
      "        [0., 0., 0.,  ..., 0., 0., 0.],\n",
      "        [0., 0., 0.,  ..., 0., 0., 0.]])\n",
      "torch.return_types.max(\n",
      "values=tensor([3., 1., 1., 1.]),\n",
      "indices=tensor([ 7705,  3160, 23816, 37897]))\n",
      "\n",
      "\n",
      "tensor([4, 5, 6, 7])\n",
      "tensor([[ 0.4209,  0.1502,  0.3306,  ...,  0.0000,  0.2100,  0.5100],\n",
      "        [ 0.3754, -0.4886, -0.1319,  ...,  0.0000,  0.1900,  0.3200],\n",
      "        [-0.6902,  0.3733, -0.0310,  ...,  0.0000,  0.3600,  0.0200],\n",
      "        [-0.5472,  0.3336,  0.1550,  ...,  0.0000,  0.4000,  0.1900]],\n",
      "       grad_fn=<StackBackward0>)\n",
      "tensor([[0., 0., 0.,  ..., 0., 0., 0.],\n",
      "        [0., 0., 0.,  ..., 0., 0., 0.],\n",
      "        [0., 0., 0.,  ..., 0., 0., 0.],\n",
      "        [0., 0., 0.,  ..., 0., 0., 0.]])\n",
      "torch.return_types.max(\n",
      "values=tensor([1., 2., 1., 1.]),\n",
      "indices=tensor([10396, 23326, 39072, 24455]))\n",
      "\n",
      "\n",
      "tensor([ 8,  9, 10, 11])\n",
      "tensor([[-0.5309, -0.4889,  0.5154,  ...,  1.0000,  0.2200,  0.5000],\n",
      "        [-0.7312,  0.0419, -0.5416,  ...,  1.0000,  0.5900,  0.3500],\n",
      "        [-0.0412, -0.7534,  1.4518,  ...,  0.0000,  0.2100,  0.5200],\n",
      "        [-1.4641,  0.2654, -1.1431,  ...,  0.0000,  0.4400,  0.0300]],\n",
      "       grad_fn=<StackBackward0>)\n",
      "tensor([[0., 0., 0.,  ..., 0., 0., 0.],\n",
      "        [0., 0., 0.,  ..., 0., 0., 0.],\n",
      "        [0., 0., 0.,  ..., 0., 0., 0.],\n",
      "        [0., 0., 0.,  ..., 0., 0., 0.]])\n",
      "torch.return_types.max(\n",
      "values=tensor([1., 1., 1., 1.]),\n",
      "indices=tensor([ 2471, 23806, 16262,  9483]))\n",
      "\n",
      "\n",
      "tensor([12, 13, 14, 15])\n",
      "tensor([[-0.3044,  0.0482,  0.0610,  ...,  0.0000,  0.2700,  0.0000],\n",
      "        [-0.5861,  0.3548,  0.7979,  ...,  0.0000,  0.4100,  0.4000],\n",
      "        [-0.5776,  0.4464,  0.6976,  ...,  0.0000,  0.3700,  0.4500],\n",
      "        [ 0.1667, -0.3388, -0.0524,  ...,  1.0000,  0.4200,  0.0300]],\n",
      "       grad_fn=<StackBackward0>)\n",
      "tensor([[0., 0., 0.,  ..., 0., 0., 0.],\n",
      "        [0., 0., 0.,  ..., 0., 0., 0.],\n",
      "        [0., 0., 0.,  ..., 0., 0., 0.],\n",
      "        [0., 0., 0.,  ..., 0., 0., 0.]])\n",
      "torch.return_types.max(\n",
      "values=tensor([1., 1., 1., 1.]),\n",
      "indices=tensor([30582,  7682, 33397,  4387]))\n",
      "\n",
      "\n",
      "tensor([16, 17, 18, 19])\n",
      "tensor([[ 7.6444e-01,  2.1942e-01, -3.2852e-02,  ...,  0.0000e+00,\n",
      "          3.0000e-01,  4.1000e-01],\n",
      "        [-8.1559e-02, -2.4208e-01, -2.1895e-01,  ...,  1.0000e+00,\n",
      "          2.3000e-01,  4.3000e-01],\n",
      "        [-5.4514e-01,  5.4441e-01, -2.8163e-01,  ...,  0.0000e+00,\n",
      "          3.9000e-01,  3.4000e-01],\n",
      "        [-8.6927e-04, -3.1023e-01, -5.1820e-01,  ...,  0.0000e+00,\n",
      "          3.2000e-01,  2.4000e-01]], grad_fn=<StackBackward0>)\n",
      "tensor([[0., 0., 0.,  ..., 0., 0., 0.],\n",
      "        [0., 0., 0.,  ..., 0., 0., 0.],\n",
      "        [0., 0., 0.,  ..., 0., 0., 0.],\n",
      "        [0., 0., 0.,  ..., 0., 0., 0.]])\n",
      "torch.return_types.max(\n",
      "values=tensor([1., 1., 1., 1.]),\n",
      "indices=tensor([ 1355, 23407, 37585, 18835]))\n",
      "\n",
      "\n"
     ]
    }
   ],
   "source": [
    "train_loader = DataLoader(dataset, batch_size=4)  \n",
    "    \n",
    "for idx, data in enumerate(train_loader):\n",
    "    \n",
    "    if idx == 5:\n",
    "        break\n",
    "    else:\n",
    "        customer_id_idx, inputs, label = data\n",
    "        print(customer_id_idx)\n",
    "        print(inputs)\n",
    "        print(label)\n",
    "        print(label.max(dim=1))\n",
    "        print('\\n')"
   ]
  },
  {
   "cell_type": "code",
   "execution_count": 78,
   "id": "5995326c",
   "metadata": {},
   "outputs": [
    {
     "data": {
      "text/plain": [
       "torch.return_types.max(\n",
       "values=tensor([1., 1., 1., 1.]),\n",
       "indices=tensor([ 1355, 23407, 37585, 18835]))"
      ]
     },
     "execution_count": 78,
     "metadata": {},
     "output_type": "execute_result"
    }
   ],
   "source": []
  },
  {
   "cell_type": "code",
   "execution_count": null,
   "id": "c057030a",
   "metadata": {},
   "outputs": [],
   "source": []
  },
  {
   "cell_type": "code",
   "execution_count": null,
   "id": "9c31e6d1",
   "metadata": {},
   "outputs": [],
   "source": []
  },
  {
   "cell_type": "code",
   "execution_count": null,
   "id": "283a3304",
   "metadata": {},
   "outputs": [],
   "source": []
  },
  {
   "cell_type": "markdown",
   "id": "8fb35d51",
   "metadata": {},
   "source": [
    "### TODO\n",
    "\n",
    "- Wrap processing steps in a function and apply to train, test sets  [DONE]\n",
    "- Add customer features here (FN, Active, Age)  [DONE]\n",
    "- Save sets as CSVs  [DONE]\n",
    "- Save reduced articles df - use to generate correct embeddings by index  [DONE]\n",
    "- Save customers df - use to generate correct embeddings by index  [DONE]\n",
    "- Write iterable dataset which processes dataset  [DONE]\n",
    "    - Get mean for each of inputs and take average to use as input\n",
    "    - Multi-hot encode label"
   ]
  },
  {
   "cell_type": "markdown",
   "id": "b7587522",
   "metadata": {},
   "source": [
    "Checks of proecessing steps:"
   ]
  },
  {
   "cell_type": "markdown",
   "id": "f5c83a6a",
   "metadata": {},
   "source": [
    "Multi-hot encoding:\n",
    "\n",
    "https://discuss.pytorch.org/t/what-kind-of-loss-is-better-to-use-in-multilabel-classification/32203/3"
   ]
  },
  {
   "cell_type": "code",
   "execution_count": 101,
   "id": "27b344f4",
   "metadata": {},
   "outputs": [
    {
     "data": {
      "text/plain": [
       "'18345,38864,35941,32663,39388'"
      ]
     },
     "execution_count": 101,
     "metadata": {},
     "output_type": "execute_result"
    }
   ],
   "source": [
    "article_id_idx_label = dev_set.iloc[3]['article_id_idx_label']\n",
    "article_id_idx_label"
   ]
  },
  {
   "cell_type": "code",
   "execution_count": 72,
   "id": "03409cd4",
   "metadata": {},
   "outputs": [],
   "source": [
    "total_articles = articles_df.shape[0]"
   ]
  },
  {
   "cell_type": "code",
   "execution_count": 112,
   "id": "cc901ccd",
   "metadata": {},
   "outputs": [
    {
     "data": {
      "text/plain": [
       "tensor([18345, 38864, 35941, 32663, 39388])"
      ]
     },
     "execution_count": 112,
     "metadata": {},
     "output_type": "execute_result"
    }
   ],
   "source": [
    "labels = torch.tensor([int(v) for v in article_id_idx_label.split(',')])\n",
    "labels"
   ]
  },
  {
   "cell_type": "code",
   "execution_count": 111,
   "id": "236fef2c",
   "metadata": {},
   "outputs": [
    {
     "data": {
      "text/plain": [
       "tensor([0., 0., 0.,  ..., 0., 0., 0.])"
      ]
     },
     "execution_count": 111,
     "metadata": {},
     "output_type": "execute_result"
    }
   ],
   "source": [
    "target = torch.zeros(total_articles).scatter_(0, labels, 1.)\n",
    "target"
   ]
  },
  {
   "cell_type": "code",
   "execution_count": 114,
   "id": "65e49023",
   "metadata": {},
   "outputs": [
    {
     "data": {
      "text/plain": [
       "tensor([1., 1., 1., 1., 1.])"
      ]
     },
     "execution_count": 114,
     "metadata": {},
     "output_type": "execute_result"
    }
   ],
   "source": [
    "target[labels]"
   ]
  },
  {
   "cell_type": "code",
   "execution_count": 115,
   "id": "7c0591d2",
   "metadata": {},
   "outputs": [
    {
     "data": {
      "text/plain": [
       "tensor(5.)"
      ]
     },
     "execution_count": 115,
     "metadata": {},
     "output_type": "execute_result"
    }
   ],
   "source": [
    "target.sum()"
   ]
  },
  {
   "cell_type": "markdown",
   "id": "c8a3edc6",
   "metadata": {},
   "source": [
    "Getting mean encoding of historical basket"
   ]
  },
  {
   "cell_type": "code",
   "execution_count": 73,
   "id": "87c5701b",
   "metadata": {},
   "outputs": [],
   "source": [
    "article_emb_bag = nn.EmbeddingBag(num_embeddings=total_articles, embedding_dim=384)"
   ]
  },
  {
   "cell_type": "code",
   "execution_count": 135,
   "id": "f42e0e6d",
   "metadata": {},
   "outputs": [
    {
     "data": {
      "text/plain": [
       "'37757,34393,5646,38997'"
      ]
     },
     "execution_count": 135,
     "metadata": {},
     "output_type": "execute_result"
    }
   ],
   "source": [
    "article_id_idx_last10 = dev_set.iloc[5]['article_id_idx_last10']\n",
    "article_id_idx_last10"
   ]
  },
  {
   "cell_type": "code",
   "execution_count": 136,
   "id": "801a90b9",
   "metadata": {},
   "outputs": [
    {
     "data": {
      "text/plain": [
       "tensor([37757, 34393,  5646, 38997])"
      ]
     },
     "execution_count": 136,
     "metadata": {},
     "output_type": "execute_result"
    }
   ],
   "source": [
    "indices = torch.tensor([int(v) for v in article_id_idx_last10.split(',')])\n",
    "indices"
   ]
  },
  {
   "cell_type": "code",
   "execution_count": 137,
   "id": "b1b1d6af",
   "metadata": {},
   "outputs": [
    {
     "data": {
      "text/plain": [
       "tensor([[37757, 34393,  5646, 38997]])"
      ]
     },
     "execution_count": 137,
     "metadata": {},
     "output_type": "execute_result"
    }
   ],
   "source": [
    "indices.unsqueeze(0)"
   ]
  },
  {
   "cell_type": "code",
   "execution_count": 138,
   "id": "57ed9d5a",
   "metadata": {},
   "outputs": [
    {
     "data": {
      "text/plain": [
       "torch.Size([1, 384])"
      ]
     },
     "execution_count": 138,
     "metadata": {},
     "output_type": "execute_result"
    }
   ],
   "source": [
    "mean_emb = article_emb_bag(indices.unsqueeze(0))\n",
    "mean_emb.shape"
   ]
  },
  {
   "cell_type": "code",
   "execution_count": 139,
   "id": "5d943f0c",
   "metadata": {},
   "outputs": [],
   "source": [
    "torch.testing.assert_allclose(\n",
    "    mean_emb.flatten(),\n",
    "    article_emb_bag.weight[indices].mean(dim=0)\n",
    ")"
   ]
  },
  {
   "cell_type": "code",
   "execution_count": 141,
   "id": "106dc5c7",
   "metadata": {},
   "outputs": [
    {
     "data": {
      "text/plain": [
       "torch.Size([1, 384])"
      ]
     },
     "execution_count": 141,
     "metadata": {},
     "output_type": "execute_result"
    }
   ],
   "source": [
    "mean_emb = article_emb_bag(indices, offsets=torch.tensor([0]))\n",
    "mean_emb.shape"
   ]
  },
  {
   "cell_type": "code",
   "execution_count": 142,
   "id": "ff9eaaca",
   "metadata": {},
   "outputs": [],
   "source": [
    "torch.testing.assert_allclose(\n",
    "    mean_emb.flatten(),\n",
    "    article_emb_bag.weight[indices].mean(dim=0)\n",
    ")"
   ]
  }
 ],
 "metadata": {
  "accelerator": "GPU",
  "colab": {
   "machine_shape": "hm",
   "name": "17-Simple candidate generation and NN ranker with sentence embeddings.ipynb",
   "provenance": []
  },
  "kernelspec": {
   "display_name": "Python 3 (ipykernel)",
   "language": "python",
   "name": "python3"
  },
  "language_info": {
   "codemirror_mode": {
    "name": "ipython",
    "version": 3
   },
   "file_extension": ".py",
   "mimetype": "text/x-python",
   "name": "python",
   "nbconvert_exporter": "python",
   "pygments_lexer": "ipython3",
   "version": "3.8.12"
  }
 },
 "nbformat": 4,
 "nbformat_minor": 5
}
