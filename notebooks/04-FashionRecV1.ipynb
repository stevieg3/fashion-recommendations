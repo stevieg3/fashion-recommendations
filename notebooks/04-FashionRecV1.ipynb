{
 "cells": [
  {
   "cell_type": "markdown",
   "id": "098bf28c",
   "metadata": {},
   "source": [
    "![title](https://raw.githubusercontent.com/google/eng-edu/main/ml/recommendation-systems/images/softmax-model.png)"
   ]
  },
  {
   "cell_type": "code",
   "execution_count": 1,
   "id": "a17e3efc",
   "metadata": {},
   "outputs": [],
   "source": [
    "import os\n",
    "\n",
    "import pandas as pd\n",
    "import numpy as np\n",
    "import matplotlib.pyplot as plt\n",
    "import torch\n",
    "import torch.nn as nn\n",
    "from torch.utils.data import DataLoader\n",
    "from tqdm import tqdm"
   ]
  },
  {
   "cell_type": "code",
   "execution_count": 2,
   "id": "fdc558b4",
   "metadata": {},
   "outputs": [],
   "source": [
    "os.chdir('..')"
   ]
  },
  {
   "cell_type": "code",
   "execution_count": 3,
   "id": "2389e2d2",
   "metadata": {},
   "outputs": [
    {
     "name": "stdout",
     "output_type": "stream",
     "text": [
      "(30143457, 5)\n"
     ]
    },
    {
     "data": {
      "text/html": [
       "<div>\n",
       "<style scoped>\n",
       "    .dataframe tbody tr th:only-of-type {\n",
       "        vertical-align: middle;\n",
       "    }\n",
       "\n",
       "    .dataframe tbody tr th {\n",
       "        vertical-align: top;\n",
       "    }\n",
       "\n",
       "    .dataframe thead th {\n",
       "        text-align: right;\n",
       "    }\n",
       "</style>\n",
       "<table border=\"1\" class=\"dataframe\">\n",
       "  <thead>\n",
       "    <tr style=\"text-align: right;\">\n",
       "      <th></th>\n",
       "      <th>t_dat</th>\n",
       "      <th>customer_id</th>\n",
       "      <th>article_id</th>\n",
       "      <th>price</th>\n",
       "      <th>sales_channel_id</th>\n",
       "    </tr>\n",
       "  </thead>\n",
       "  <tbody>\n",
       "    <tr>\n",
       "      <th>0</th>\n",
       "      <td>2018-09-20</td>\n",
       "      <td>000058a12d5b43e67d225668fa1f8d618c13dc232df0ca...</td>\n",
       "      <td>0663713001</td>\n",
       "      <td>0.050831</td>\n",
       "      <td>2.0</td>\n",
       "    </tr>\n",
       "    <tr>\n",
       "      <th>1</th>\n",
       "      <td>2018-09-20</td>\n",
       "      <td>000058a12d5b43e67d225668fa1f8d618c13dc232df0ca...</td>\n",
       "      <td>0541518023</td>\n",
       "      <td>0.030492</td>\n",
       "      <td>2.0</td>\n",
       "    </tr>\n",
       "    <tr>\n",
       "      <th>2</th>\n",
       "      <td>2018-09-20</td>\n",
       "      <td>00007d2de826758b65a93dd24ce629ed66842531df6699...</td>\n",
       "      <td>0505221004</td>\n",
       "      <td>0.015237</td>\n",
       "      <td>2.0</td>\n",
       "    </tr>\n",
       "    <tr>\n",
       "      <th>3</th>\n",
       "      <td>2018-09-20</td>\n",
       "      <td>00007d2de826758b65a93dd24ce629ed66842531df6699...</td>\n",
       "      <td>0685687003</td>\n",
       "      <td>0.016932</td>\n",
       "      <td>2.0</td>\n",
       "    </tr>\n",
       "    <tr>\n",
       "      <th>4</th>\n",
       "      <td>2018-09-20</td>\n",
       "      <td>00007d2de826758b65a93dd24ce629ed66842531df6699...</td>\n",
       "      <td>0685687004</td>\n",
       "      <td>0.016932</td>\n",
       "      <td>2.0</td>\n",
       "    </tr>\n",
       "  </tbody>\n",
       "</table>\n",
       "</div>"
      ],
      "text/plain": [
       "       t_dat                                        customer_id  article_id  \\\n",
       "0 2018-09-20  000058a12d5b43e67d225668fa1f8d618c13dc232df0ca...  0663713001   \n",
       "1 2018-09-20  000058a12d5b43e67d225668fa1f8d618c13dc232df0ca...  0541518023   \n",
       "2 2018-09-20  00007d2de826758b65a93dd24ce629ed66842531df6699...  0505221004   \n",
       "3 2018-09-20  00007d2de826758b65a93dd24ce629ed66842531df6699...  0685687003   \n",
       "4 2018-09-20  00007d2de826758b65a93dd24ce629ed66842531df6699...  0685687004   \n",
       "\n",
       "      price  sales_channel_id  \n",
       "0  0.050831               2.0  \n",
       "1  0.030492               2.0  \n",
       "2  0.015237               2.0  \n",
       "3  0.016932               2.0  \n",
       "4  0.016932               2.0  "
      ]
     },
     "execution_count": 3,
     "metadata": {},
     "output_type": "execute_result"
    }
   ],
   "source": [
    "train_df = pd.read_parquet('data/splits/train.parquet')\n",
    "print(train_df.shape)\n",
    "train_df.head()"
   ]
  },
  {
   "cell_type": "code",
   "execution_count": 4,
   "id": "92ec192e",
   "metadata": {},
   "outputs": [],
   "source": [
    "train_df.sort_values(['customer_id', 't_dat'], inplace=True)"
   ]
  },
  {
   "cell_type": "code",
   "execution_count": 5,
   "id": "e3b1f393",
   "metadata": {},
   "outputs": [
    {
     "name": "stdout",
     "output_type": "stream",
     "text": [
      "(105542, 25)\n"
     ]
    },
    {
     "data": {
      "text/html": [
       "<div>\n",
       "<style scoped>\n",
       "    .dataframe tbody tr th:only-of-type {\n",
       "        vertical-align: middle;\n",
       "    }\n",
       "\n",
       "    .dataframe tbody tr th {\n",
       "        vertical-align: top;\n",
       "    }\n",
       "\n",
       "    .dataframe thead th {\n",
       "        text-align: right;\n",
       "    }\n",
       "</style>\n",
       "<table border=\"1\" class=\"dataframe\">\n",
       "  <thead>\n",
       "    <tr style=\"text-align: right;\">\n",
       "      <th></th>\n",
       "      <th>article_id</th>\n",
       "      <th>product_code</th>\n",
       "      <th>prod_name</th>\n",
       "      <th>product_type_no</th>\n",
       "      <th>product_type_name</th>\n",
       "      <th>product_group_name</th>\n",
       "      <th>graphical_appearance_no</th>\n",
       "      <th>graphical_appearance_name</th>\n",
       "      <th>colour_group_code</th>\n",
       "      <th>colour_group_name</th>\n",
       "      <th>...</th>\n",
       "      <th>department_name</th>\n",
       "      <th>index_code</th>\n",
       "      <th>index_name</th>\n",
       "      <th>index_group_no</th>\n",
       "      <th>index_group_name</th>\n",
       "      <th>section_no</th>\n",
       "      <th>section_name</th>\n",
       "      <th>garment_group_no</th>\n",
       "      <th>garment_group_name</th>\n",
       "      <th>detail_desc</th>\n",
       "    </tr>\n",
       "  </thead>\n",
       "  <tbody>\n",
       "    <tr>\n",
       "      <th>0</th>\n",
       "      <td>0108775015</td>\n",
       "      <td>108775</td>\n",
       "      <td>Strap top</td>\n",
       "      <td>253</td>\n",
       "      <td>Vest top</td>\n",
       "      <td>Garment Upper body</td>\n",
       "      <td>1010016</td>\n",
       "      <td>Solid</td>\n",
       "      <td>9</td>\n",
       "      <td>Black</td>\n",
       "      <td>...</td>\n",
       "      <td>Jersey Basic</td>\n",
       "      <td>A</td>\n",
       "      <td>Ladieswear</td>\n",
       "      <td>1</td>\n",
       "      <td>Ladieswear</td>\n",
       "      <td>16</td>\n",
       "      <td>Womens Everyday Basics</td>\n",
       "      <td>1002</td>\n",
       "      <td>Jersey Basic</td>\n",
       "      <td>Jersey top with narrow shoulder straps.</td>\n",
       "    </tr>\n",
       "    <tr>\n",
       "      <th>1</th>\n",
       "      <td>0108775044</td>\n",
       "      <td>108775</td>\n",
       "      <td>Strap top</td>\n",
       "      <td>253</td>\n",
       "      <td>Vest top</td>\n",
       "      <td>Garment Upper body</td>\n",
       "      <td>1010016</td>\n",
       "      <td>Solid</td>\n",
       "      <td>10</td>\n",
       "      <td>White</td>\n",
       "      <td>...</td>\n",
       "      <td>Jersey Basic</td>\n",
       "      <td>A</td>\n",
       "      <td>Ladieswear</td>\n",
       "      <td>1</td>\n",
       "      <td>Ladieswear</td>\n",
       "      <td>16</td>\n",
       "      <td>Womens Everyday Basics</td>\n",
       "      <td>1002</td>\n",
       "      <td>Jersey Basic</td>\n",
       "      <td>Jersey top with narrow shoulder straps.</td>\n",
       "    </tr>\n",
       "    <tr>\n",
       "      <th>2</th>\n",
       "      <td>0108775051</td>\n",
       "      <td>108775</td>\n",
       "      <td>Strap top (1)</td>\n",
       "      <td>253</td>\n",
       "      <td>Vest top</td>\n",
       "      <td>Garment Upper body</td>\n",
       "      <td>1010017</td>\n",
       "      <td>Stripe</td>\n",
       "      <td>11</td>\n",
       "      <td>Off White</td>\n",
       "      <td>...</td>\n",
       "      <td>Jersey Basic</td>\n",
       "      <td>A</td>\n",
       "      <td>Ladieswear</td>\n",
       "      <td>1</td>\n",
       "      <td>Ladieswear</td>\n",
       "      <td>16</td>\n",
       "      <td>Womens Everyday Basics</td>\n",
       "      <td>1002</td>\n",
       "      <td>Jersey Basic</td>\n",
       "      <td>Jersey top with narrow shoulder straps.</td>\n",
       "    </tr>\n",
       "    <tr>\n",
       "      <th>3</th>\n",
       "      <td>0110065001</td>\n",
       "      <td>110065</td>\n",
       "      <td>OP T-shirt (Idro)</td>\n",
       "      <td>306</td>\n",
       "      <td>Bra</td>\n",
       "      <td>Underwear</td>\n",
       "      <td>1010016</td>\n",
       "      <td>Solid</td>\n",
       "      <td>9</td>\n",
       "      <td>Black</td>\n",
       "      <td>...</td>\n",
       "      <td>Clean Lingerie</td>\n",
       "      <td>B</td>\n",
       "      <td>Lingeries/Tights</td>\n",
       "      <td>1</td>\n",
       "      <td>Ladieswear</td>\n",
       "      <td>61</td>\n",
       "      <td>Womens Lingerie</td>\n",
       "      <td>1017</td>\n",
       "      <td>Under-, Nightwear</td>\n",
       "      <td>Microfibre T-shirt bra with underwired, moulde...</td>\n",
       "    </tr>\n",
       "    <tr>\n",
       "      <th>4</th>\n",
       "      <td>0110065002</td>\n",
       "      <td>110065</td>\n",
       "      <td>OP T-shirt (Idro)</td>\n",
       "      <td>306</td>\n",
       "      <td>Bra</td>\n",
       "      <td>Underwear</td>\n",
       "      <td>1010016</td>\n",
       "      <td>Solid</td>\n",
       "      <td>10</td>\n",
       "      <td>White</td>\n",
       "      <td>...</td>\n",
       "      <td>Clean Lingerie</td>\n",
       "      <td>B</td>\n",
       "      <td>Lingeries/Tights</td>\n",
       "      <td>1</td>\n",
       "      <td>Ladieswear</td>\n",
       "      <td>61</td>\n",
       "      <td>Womens Lingerie</td>\n",
       "      <td>1017</td>\n",
       "      <td>Under-, Nightwear</td>\n",
       "      <td>Microfibre T-shirt bra with underwired, moulde...</td>\n",
       "    </tr>\n",
       "  </tbody>\n",
       "</table>\n",
       "<p>5 rows × 25 columns</p>\n",
       "</div>"
      ],
      "text/plain": [
       "   article_id  product_code          prod_name  product_type_no  \\\n",
       "0  0108775015        108775          Strap top              253   \n",
       "1  0108775044        108775          Strap top              253   \n",
       "2  0108775051        108775      Strap top (1)              253   \n",
       "3  0110065001        110065  OP T-shirt (Idro)              306   \n",
       "4  0110065002        110065  OP T-shirt (Idro)              306   \n",
       "\n",
       "  product_type_name  product_group_name  graphical_appearance_no  \\\n",
       "0          Vest top  Garment Upper body                  1010016   \n",
       "1          Vest top  Garment Upper body                  1010016   \n",
       "2          Vest top  Garment Upper body                  1010017   \n",
       "3               Bra           Underwear                  1010016   \n",
       "4               Bra           Underwear                  1010016   \n",
       "\n",
       "  graphical_appearance_name  colour_group_code colour_group_name  ...  \\\n",
       "0                     Solid                  9             Black  ...   \n",
       "1                     Solid                 10             White  ...   \n",
       "2                    Stripe                 11         Off White  ...   \n",
       "3                     Solid                  9             Black  ...   \n",
       "4                     Solid                 10             White  ...   \n",
       "\n",
       "   department_name index_code        index_name index_group_no  \\\n",
       "0     Jersey Basic          A        Ladieswear              1   \n",
       "1     Jersey Basic          A        Ladieswear              1   \n",
       "2     Jersey Basic          A        Ladieswear              1   \n",
       "3   Clean Lingerie          B  Lingeries/Tights              1   \n",
       "4   Clean Lingerie          B  Lingeries/Tights              1   \n",
       "\n",
       "   index_group_name section_no            section_name garment_group_no  \\\n",
       "0        Ladieswear         16  Womens Everyday Basics             1002   \n",
       "1        Ladieswear         16  Womens Everyday Basics             1002   \n",
       "2        Ladieswear         16  Womens Everyday Basics             1002   \n",
       "3        Ladieswear         61         Womens Lingerie             1017   \n",
       "4        Ladieswear         61         Womens Lingerie             1017   \n",
       "\n",
       "   garment_group_name                                        detail_desc  \n",
       "0        Jersey Basic            Jersey top with narrow shoulder straps.  \n",
       "1        Jersey Basic            Jersey top with narrow shoulder straps.  \n",
       "2        Jersey Basic            Jersey top with narrow shoulder straps.  \n",
       "3   Under-, Nightwear  Microfibre T-shirt bra with underwired, moulde...  \n",
       "4   Under-, Nightwear  Microfibre T-shirt bra with underwired, moulde...  \n",
       "\n",
       "[5 rows x 25 columns]"
      ]
     },
     "execution_count": 5,
     "metadata": {},
     "output_type": "execute_result"
    }
   ],
   "source": [
    "articles_df = pd.read_csv('data/articles.csv', dtype={'article_id': str})  # Make sure article_id is being loading in as a string\n",
    "print(articles_df.shape)\n",
    "articles_df.head()"
   ]
  },
  {
   "cell_type": "code",
   "execution_count": 6,
   "id": "3bff74d9",
   "metadata": {},
   "outputs": [
    {
     "name": "stdout",
     "output_type": "stream",
     "text": [
      "(1371980, 7)\n"
     ]
    },
    {
     "data": {
      "text/html": [
       "<div>\n",
       "<style scoped>\n",
       "    .dataframe tbody tr th:only-of-type {\n",
       "        vertical-align: middle;\n",
       "    }\n",
       "\n",
       "    .dataframe tbody tr th {\n",
       "        vertical-align: top;\n",
       "    }\n",
       "\n",
       "    .dataframe thead th {\n",
       "        text-align: right;\n",
       "    }\n",
       "</style>\n",
       "<table border=\"1\" class=\"dataframe\">\n",
       "  <thead>\n",
       "    <tr style=\"text-align: right;\">\n",
       "      <th></th>\n",
       "      <th>customer_id</th>\n",
       "      <th>FN</th>\n",
       "      <th>Active</th>\n",
       "      <th>club_member_status</th>\n",
       "      <th>fashion_news_frequency</th>\n",
       "      <th>age</th>\n",
       "      <th>postal_code</th>\n",
       "    </tr>\n",
       "  </thead>\n",
       "  <tbody>\n",
       "    <tr>\n",
       "      <th>0</th>\n",
       "      <td>00000dbacae5abe5e23885899a1fa44253a17956c6d1c3...</td>\n",
       "      <td>NaN</td>\n",
       "      <td>NaN</td>\n",
       "      <td>ACTIVE</td>\n",
       "      <td>NONE</td>\n",
       "      <td>49.0</td>\n",
       "      <td>52043ee2162cf5aa7ee79974281641c6f11a68d276429a...</td>\n",
       "    </tr>\n",
       "    <tr>\n",
       "      <th>1</th>\n",
       "      <td>0000423b00ade91418cceaf3b26c6af3dd342b51fd051e...</td>\n",
       "      <td>NaN</td>\n",
       "      <td>NaN</td>\n",
       "      <td>ACTIVE</td>\n",
       "      <td>NONE</td>\n",
       "      <td>25.0</td>\n",
       "      <td>2973abc54daa8a5f8ccfe9362140c63247c5eee03f1d93...</td>\n",
       "    </tr>\n",
       "    <tr>\n",
       "      <th>2</th>\n",
       "      <td>000058a12d5b43e67d225668fa1f8d618c13dc232df0ca...</td>\n",
       "      <td>NaN</td>\n",
       "      <td>NaN</td>\n",
       "      <td>ACTIVE</td>\n",
       "      <td>NONE</td>\n",
       "      <td>24.0</td>\n",
       "      <td>64f17e6a330a85798e4998f62d0930d14db8db1c054af6...</td>\n",
       "    </tr>\n",
       "    <tr>\n",
       "      <th>3</th>\n",
       "      <td>00005ca1c9ed5f5146b52ac8639a40ca9d57aeff4d1bd2...</td>\n",
       "      <td>NaN</td>\n",
       "      <td>NaN</td>\n",
       "      <td>ACTIVE</td>\n",
       "      <td>NONE</td>\n",
       "      <td>54.0</td>\n",
       "      <td>5d36574f52495e81f019b680c843c443bd343d5ca5b1c2...</td>\n",
       "    </tr>\n",
       "    <tr>\n",
       "      <th>4</th>\n",
       "      <td>00006413d8573cd20ed7128e53b7b13819fe5cfc2d801f...</td>\n",
       "      <td>1.0</td>\n",
       "      <td>1.0</td>\n",
       "      <td>ACTIVE</td>\n",
       "      <td>Regularly</td>\n",
       "      <td>52.0</td>\n",
       "      <td>25fa5ddee9aac01b35208d01736e57942317d756b32ddd...</td>\n",
       "    </tr>\n",
       "  </tbody>\n",
       "</table>\n",
       "</div>"
      ],
      "text/plain": [
       "                                         customer_id   FN  Active  \\\n",
       "0  00000dbacae5abe5e23885899a1fa44253a17956c6d1c3...  NaN     NaN   \n",
       "1  0000423b00ade91418cceaf3b26c6af3dd342b51fd051e...  NaN     NaN   \n",
       "2  000058a12d5b43e67d225668fa1f8d618c13dc232df0ca...  NaN     NaN   \n",
       "3  00005ca1c9ed5f5146b52ac8639a40ca9d57aeff4d1bd2...  NaN     NaN   \n",
       "4  00006413d8573cd20ed7128e53b7b13819fe5cfc2d801f...  1.0     1.0   \n",
       "\n",
       "  club_member_status fashion_news_frequency   age  \\\n",
       "0             ACTIVE                   NONE  49.0   \n",
       "1             ACTIVE                   NONE  25.0   \n",
       "2             ACTIVE                   NONE  24.0   \n",
       "3             ACTIVE                   NONE  54.0   \n",
       "4             ACTIVE              Regularly  52.0   \n",
       "\n",
       "                                         postal_code  \n",
       "0  52043ee2162cf5aa7ee79974281641c6f11a68d276429a...  \n",
       "1  2973abc54daa8a5f8ccfe9362140c63247c5eee03f1d93...  \n",
       "2  64f17e6a330a85798e4998f62d0930d14db8db1c054af6...  \n",
       "3  5d36574f52495e81f019b680c843c443bd343d5ca5b1c2...  \n",
       "4  25fa5ddee9aac01b35208d01736e57942317d756b32ddd...  "
      ]
     },
     "execution_count": 6,
     "metadata": {},
     "output_type": "execute_result"
    }
   ],
   "source": [
    "customers_df = pd.read_csv('data/customers.csv')\n",
    "print(customers_df.shape)\n",
    "customers_df.head()"
   ]
  },
  {
   "cell_type": "code",
   "execution_count": 7,
   "id": "348280e5",
   "metadata": {},
   "outputs": [
    {
     "data": {
      "text/plain": [
       "customer_id               0.000000\n",
       "FN                        0.652378\n",
       "Active                    0.661508\n",
       "club_member_status        0.004418\n",
       "fashion_news_frequency    0.011669\n",
       "age                       0.011561\n",
       "postal_code               0.000000\n",
       "dtype: float64"
      ]
     },
     "execution_count": 7,
     "metadata": {},
     "output_type": "execute_result"
    }
   ],
   "source": [
    "customers_df.isnull().sum() / customers_df.shape[0]"
   ]
  },
  {
   "cell_type": "markdown",
   "id": "d70b99fa",
   "metadata": {},
   "source": [
    "### fashrec-v1\n",
    "\n",
    "- Use order history only\n",
    "- Embedding for each item\n",
    "- If item ordered X times index its embedding X times\n",
    "- BoW of all item history embeddings\n",
    "- For each customer take random transaction and roll-back data"
   ]
  },
  {
   "cell_type": "code",
   "execution_count": 8,
   "id": "88b71969",
   "metadata": {},
   "outputs": [
    {
     "data": {
      "text/html": [
       "<div>\n",
       "<style scoped>\n",
       "    .dataframe tbody tr th:only-of-type {\n",
       "        vertical-align: middle;\n",
       "    }\n",
       "\n",
       "    .dataframe tbody tr th {\n",
       "        vertical-align: top;\n",
       "    }\n",
       "\n",
       "    .dataframe thead th {\n",
       "        text-align: right;\n",
       "    }\n",
       "</style>\n",
       "<table border=\"1\" class=\"dataframe\">\n",
       "  <thead>\n",
       "    <tr style=\"text-align: right;\">\n",
       "      <th></th>\n",
       "      <th>t_dat</th>\n",
       "      <th>customer_id</th>\n",
       "      <th>article_id</th>\n",
       "      <th>price</th>\n",
       "      <th>sales_channel_id</th>\n",
       "    </tr>\n",
       "  </thead>\n",
       "  <tbody>\n",
       "    <tr>\n",
       "      <th>4212358</th>\n",
       "      <td>2018-12-27</td>\n",
       "      <td>00000dbacae5abe5e23885899a1fa44253a17956c6d1c3...</td>\n",
       "      <td>0625548001</td>\n",
       "      <td>0.044051</td>\n",
       "      <td>1.0</td>\n",
       "    </tr>\n",
       "    <tr>\n",
       "      <th>4212359</th>\n",
       "      <td>2018-12-27</td>\n",
       "      <td>00000dbacae5abe5e23885899a1fa44253a17956c6d1c3...</td>\n",
       "      <td>0176209023</td>\n",
       "      <td>0.035576</td>\n",
       "      <td>1.0</td>\n",
       "    </tr>\n",
       "    <tr>\n",
       "      <th>4212360</th>\n",
       "      <td>2018-12-27</td>\n",
       "      <td>00000dbacae5abe5e23885899a1fa44253a17956c6d1c3...</td>\n",
       "      <td>0627759010</td>\n",
       "      <td>0.030492</td>\n",
       "      <td>1.0</td>\n",
       "    </tr>\n",
       "    <tr>\n",
       "      <th>9663224</th>\n",
       "      <td>2019-05-02</td>\n",
       "      <td>00000dbacae5abe5e23885899a1fa44253a17956c6d1c3...</td>\n",
       "      <td>0697138006</td>\n",
       "      <td>0.010153</td>\n",
       "      <td>2.0</td>\n",
       "    </tr>\n",
       "    <tr>\n",
       "      <th>10754876</th>\n",
       "      <td>2019-05-25</td>\n",
       "      <td>00000dbacae5abe5e23885899a1fa44253a17956c6d1c3...</td>\n",
       "      <td>0568601006</td>\n",
       "      <td>0.050831</td>\n",
       "      <td>2.0</td>\n",
       "    </tr>\n",
       "  </tbody>\n",
       "</table>\n",
       "</div>"
      ],
      "text/plain": [
       "              t_dat                                        customer_id  \\\n",
       "4212358  2018-12-27  00000dbacae5abe5e23885899a1fa44253a17956c6d1c3...   \n",
       "4212359  2018-12-27  00000dbacae5abe5e23885899a1fa44253a17956c6d1c3...   \n",
       "4212360  2018-12-27  00000dbacae5abe5e23885899a1fa44253a17956c6d1c3...   \n",
       "9663224  2019-05-02  00000dbacae5abe5e23885899a1fa44253a17956c6d1c3...   \n",
       "10754876 2019-05-25  00000dbacae5abe5e23885899a1fa44253a17956c6d1c3...   \n",
       "\n",
       "          article_id     price  sales_channel_id  \n",
       "4212358   0625548001  0.044051               1.0  \n",
       "4212359   0176209023  0.035576               1.0  \n",
       "4212360   0627759010  0.030492               1.0  \n",
       "9663224   0697138006  0.010153               2.0  \n",
       "10754876  0568601006  0.050831               2.0  "
      ]
     },
     "execution_count": 8,
     "metadata": {},
     "output_type": "execute_result"
    }
   ],
   "source": [
    "train_df.head()"
   ]
  },
  {
   "cell_type": "code",
   "execution_count": 9,
   "id": "c741f5d1",
   "metadata": {},
   "outputs": [],
   "source": [
    "train_df['total_purchases'] = train_df.groupby('customer_id')['article_id'].transform('count')"
   ]
  },
  {
   "cell_type": "code",
   "execution_count": 10,
   "id": "c2179382",
   "metadata": {},
   "outputs": [
    {
     "data": {
      "image/png": "[encoded data removed]",
      "text/plain": [
       "<Figure size 720x432 with 1 Axes>"
      ]
     },
     "metadata": {
      "needs_background": "light"
     },
     "output_type": "display_data"
    }
   ],
   "source": [
    "plt.figure(figsize=(10, 6))\n",
    "train_df[['customer_id', 'total_purchases']].drop_duplicates()['total_purchases'].hist(bins=30)\n",
    "plt.show()"
   ]
  },
  {
   "cell_type": "code",
   "execution_count": 11,
   "id": "eb5be501",
   "metadata": {},
   "outputs": [
    {
     "data": {
      "text/plain": [
       "1328797"
      ]
     },
     "execution_count": 11,
     "metadata": {},
     "output_type": "execute_result"
    }
   ],
   "source": [
    "train_df['customer_id'].nunique()"
   ]
  },
  {
   "cell_type": "code",
   "execution_count": 12,
   "id": "8b2842e7",
   "metadata": {},
   "outputs": [
    {
     "data": {
      "text/plain": [
       "0.09628332995935421"
      ]
     },
     "execution_count": 12,
     "metadata": {},
     "output_type": "execute_result"
    }
   ],
   "source": [
    "# Prop. of customers with only a single purchase\n",
    "train_df[train_df['total_purchases'] == 1].shape[0] / train_df['customer_id'].nunique()"
   ]
  },
  {
   "cell_type": "markdown",
   "id": "825922cf",
   "metadata": {},
   "source": [
    "These customers will be cold start customers with no order history"
   ]
  },
  {
   "cell_type": "code",
   "execution_count": 13,
   "id": "297d6f15",
   "metadata": {},
   "outputs": [
    {
     "data": {
      "text/html": [
       "<div>\n",
       "<style scoped>\n",
       "    .dataframe tbody tr th:only-of-type {\n",
       "        vertical-align: middle;\n",
       "    }\n",
       "\n",
       "    .dataframe tbody tr th {\n",
       "        vertical-align: top;\n",
       "    }\n",
       "\n",
       "    .dataframe thead th {\n",
       "        text-align: right;\n",
       "    }\n",
       "</style>\n",
       "<table border=\"1\" class=\"dataframe\">\n",
       "  <thead>\n",
       "    <tr style=\"text-align: right;\">\n",
       "      <th></th>\n",
       "      <th>t_dat</th>\n",
       "      <th>customer_id</th>\n",
       "      <th>article_id</th>\n",
       "      <th>price</th>\n",
       "      <th>sales_channel_id</th>\n",
       "      <th>total_purchases</th>\n",
       "    </tr>\n",
       "  </thead>\n",
       "  <tbody>\n",
       "    <tr>\n",
       "      <th>4212358</th>\n",
       "      <td>2018-12-27</td>\n",
       "      <td>00000dbacae5abe5e23885899a1fa44253a17956c6d1c3...</td>\n",
       "      <td>0625548001</td>\n",
       "      <td>0.044051</td>\n",
       "      <td>1.0</td>\n",
       "      <td>20</td>\n",
       "    </tr>\n",
       "    <tr>\n",
       "      <th>4212359</th>\n",
       "      <td>2018-12-27</td>\n",
       "      <td>00000dbacae5abe5e23885899a1fa44253a17956c6d1c3...</td>\n",
       "      <td>0176209023</td>\n",
       "      <td>0.035576</td>\n",
       "      <td>1.0</td>\n",
       "      <td>20</td>\n",
       "    </tr>\n",
       "    <tr>\n",
       "      <th>4212360</th>\n",
       "      <td>2018-12-27</td>\n",
       "      <td>00000dbacae5abe5e23885899a1fa44253a17956c6d1c3...</td>\n",
       "      <td>0627759010</td>\n",
       "      <td>0.030492</td>\n",
       "      <td>1.0</td>\n",
       "      <td>20</td>\n",
       "    </tr>\n",
       "    <tr>\n",
       "      <th>9663224</th>\n",
       "      <td>2019-05-02</td>\n",
       "      <td>00000dbacae5abe5e23885899a1fa44253a17956c6d1c3...</td>\n",
       "      <td>0697138006</td>\n",
       "      <td>0.010153</td>\n",
       "      <td>2.0</td>\n",
       "      <td>20</td>\n",
       "    </tr>\n",
       "    <tr>\n",
       "      <th>10754876</th>\n",
       "      <td>2019-05-25</td>\n",
       "      <td>00000dbacae5abe5e23885899a1fa44253a17956c6d1c3...</td>\n",
       "      <td>0568601006</td>\n",
       "      <td>0.050831</td>\n",
       "      <td>2.0</td>\n",
       "      <td>20</td>\n",
       "    </tr>\n",
       "  </tbody>\n",
       "</table>\n",
       "</div>"
      ],
      "text/plain": [
       "              t_dat                                        customer_id  \\\n",
       "4212358  2018-12-27  00000dbacae5abe5e23885899a1fa44253a17956c6d1c3...   \n",
       "4212359  2018-12-27  00000dbacae5abe5e23885899a1fa44253a17956c6d1c3...   \n",
       "4212360  2018-12-27  00000dbacae5abe5e23885899a1fa44253a17956c6d1c3...   \n",
       "9663224  2019-05-02  00000dbacae5abe5e23885899a1fa44253a17956c6d1c3...   \n",
       "10754876 2019-05-25  00000dbacae5abe5e23885899a1fa44253a17956c6d1c3...   \n",
       "\n",
       "          article_id     price  sales_channel_id  total_purchases  \n",
       "4212358   0625548001  0.044051               1.0               20  \n",
       "4212359   0176209023  0.035576               1.0               20  \n",
       "4212360   0627759010  0.030492               1.0               20  \n",
       "9663224   0697138006  0.010153               2.0               20  \n",
       "10754876  0568601006  0.050831               2.0               20  "
      ]
     },
     "execution_count": 13,
     "metadata": {},
     "output_type": "execute_result"
    }
   ],
   "source": [
    "train_df.head()"
   ]
  },
  {
   "cell_type": "code",
   "execution_count": 14,
   "id": "0695a47c",
   "metadata": {},
   "outputs": [],
   "source": [
    "train_df.reset_index(drop=True, inplace=True)"
   ]
  },
  {
   "cell_type": "code",
   "execution_count": 15,
   "id": "b1ea9db1",
   "metadata": {},
   "outputs": [],
   "source": [
    "train_df['uid'] = train_df.index"
   ]
  },
  {
   "cell_type": "code",
   "execution_count": 16,
   "id": "7d54a67b",
   "metadata": {},
   "outputs": [
    {
     "data": {
      "text/html": [
       "<div>\n",
       "<style scoped>\n",
       "    .dataframe tbody tr th:only-of-type {\n",
       "        vertical-align: middle;\n",
       "    }\n",
       "\n",
       "    .dataframe tbody tr th {\n",
       "        vertical-align: top;\n",
       "    }\n",
       "\n",
       "    .dataframe thead th {\n",
       "        text-align: right;\n",
       "    }\n",
       "</style>\n",
       "<table border=\"1\" class=\"dataframe\">\n",
       "  <thead>\n",
       "    <tr style=\"text-align: right;\">\n",
       "      <th></th>\n",
       "      <th>t_dat</th>\n",
       "      <th>customer_id</th>\n",
       "      <th>article_id</th>\n",
       "      <th>price</th>\n",
       "      <th>sales_channel_id</th>\n",
       "      <th>total_purchases</th>\n",
       "      <th>uid</th>\n",
       "    </tr>\n",
       "  </thead>\n",
       "  <tbody>\n",
       "    <tr>\n",
       "      <th>0</th>\n",
       "      <td>2018-12-27</td>\n",
       "      <td>00000dbacae5abe5e23885899a1fa44253a17956c6d1c3...</td>\n",
       "      <td>0625548001</td>\n",
       "      <td>0.044051</td>\n",
       "      <td>1.0</td>\n",
       "      <td>20</td>\n",
       "      <td>0</td>\n",
       "    </tr>\n",
       "    <tr>\n",
       "      <th>1</th>\n",
       "      <td>2018-12-27</td>\n",
       "      <td>00000dbacae5abe5e23885899a1fa44253a17956c6d1c3...</td>\n",
       "      <td>0176209023</td>\n",
       "      <td>0.035576</td>\n",
       "      <td>1.0</td>\n",
       "      <td>20</td>\n",
       "      <td>1</td>\n",
       "    </tr>\n",
       "    <tr>\n",
       "      <th>2</th>\n",
       "      <td>2018-12-27</td>\n",
       "      <td>00000dbacae5abe5e23885899a1fa44253a17956c6d1c3...</td>\n",
       "      <td>0627759010</td>\n",
       "      <td>0.030492</td>\n",
       "      <td>1.0</td>\n",
       "      <td>20</td>\n",
       "      <td>2</td>\n",
       "    </tr>\n",
       "    <tr>\n",
       "      <th>3</th>\n",
       "      <td>2019-05-02</td>\n",
       "      <td>00000dbacae5abe5e23885899a1fa44253a17956c6d1c3...</td>\n",
       "      <td>0697138006</td>\n",
       "      <td>0.010153</td>\n",
       "      <td>2.0</td>\n",
       "      <td>20</td>\n",
       "      <td>3</td>\n",
       "    </tr>\n",
       "    <tr>\n",
       "      <th>4</th>\n",
       "      <td>2019-05-25</td>\n",
       "      <td>00000dbacae5abe5e23885899a1fa44253a17956c6d1c3...</td>\n",
       "      <td>0568601006</td>\n",
       "      <td>0.050831</td>\n",
       "      <td>2.0</td>\n",
       "      <td>20</td>\n",
       "      <td>4</td>\n",
       "    </tr>\n",
       "  </tbody>\n",
       "</table>\n",
       "</div>"
      ],
      "text/plain": [
       "       t_dat                                        customer_id  article_id  \\\n",
       "0 2018-12-27  00000dbacae5abe5e23885899a1fa44253a17956c6d1c3...  0625548001   \n",
       "1 2018-12-27  00000dbacae5abe5e23885899a1fa44253a17956c6d1c3...  0176209023   \n",
       "2 2018-12-27  00000dbacae5abe5e23885899a1fa44253a17956c6d1c3...  0627759010   \n",
       "3 2019-05-02  00000dbacae5abe5e23885899a1fa44253a17956c6d1c3...  0697138006   \n",
       "4 2019-05-25  00000dbacae5abe5e23885899a1fa44253a17956c6d1c3...  0568601006   \n",
       "\n",
       "      price  sales_channel_id  total_purchases  uid  \n",
       "0  0.044051               1.0               20    0  \n",
       "1  0.035576               1.0               20    1  \n",
       "2  0.030492               1.0               20    2  \n",
       "3  0.010153               2.0               20    3  \n",
       "4  0.050831               2.0               20    4  "
      ]
     },
     "execution_count": 16,
     "metadata": {},
     "output_type": "execute_result"
    }
   ],
   "source": [
    "train_df.head()"
   ]
  },
  {
   "cell_type": "code",
   "execution_count": 17,
   "id": "2fe3f67a",
   "metadata": {},
   "outputs": [],
   "source": [
    "labels = train_df[['customer_id', 'uid']].groupby('customer_id').sample(n=1, random_state=3)"
   ]
  },
  {
   "cell_type": "code",
   "execution_count": 18,
   "id": "2a52e2fd",
   "metadata": {},
   "outputs": [
    {
     "data": {
      "text/html": [
       "<div>\n",
       "<style scoped>\n",
       "    .dataframe tbody tr th:only-of-type {\n",
       "        vertical-align: middle;\n",
       "    }\n",
       "\n",
       "    .dataframe tbody tr th {\n",
       "        vertical-align: top;\n",
       "    }\n",
       "\n",
       "    .dataframe thead th {\n",
       "        text-align: right;\n",
       "    }\n",
       "</style>\n",
       "<table border=\"1\" class=\"dataframe\">\n",
       "  <thead>\n",
       "    <tr style=\"text-align: right;\">\n",
       "      <th></th>\n",
       "      <th>customer_id</th>\n",
       "      <th>uid</th>\n",
       "    </tr>\n",
       "  </thead>\n",
       "  <tbody>\n",
       "    <tr>\n",
       "      <th>14</th>\n",
       "      <td>00000dbacae5abe5e23885899a1fa44253a17956c6d1c3...</td>\n",
       "      <td>14</td>\n",
       "    </tr>\n",
       "    <tr>\n",
       "      <th>39</th>\n",
       "      <td>0000423b00ade91418cceaf3b26c6af3dd342b51fd051e...</td>\n",
       "      <td>39</td>\n",
       "    </tr>\n",
       "    <tr>\n",
       "      <th>122</th>\n",
       "      <td>000058a12d5b43e67d225668fa1f8d618c13dc232df0ca...</td>\n",
       "      <td>122</td>\n",
       "    </tr>\n",
       "    <tr>\n",
       "      <th>123</th>\n",
       "      <td>00005ca1c9ed5f5146b52ac8639a40ca9d57aeff4d1bd2...</td>\n",
       "      <td>123</td>\n",
       "    </tr>\n",
       "    <tr>\n",
       "      <th>131</th>\n",
       "      <td>00006413d8573cd20ed7128e53b7b13819fe5cfc2d801f...</td>\n",
       "      <td>131</td>\n",
       "    </tr>\n",
       "  </tbody>\n",
       "</table>\n",
       "</div>"
      ],
      "text/plain": [
       "                                           customer_id  uid\n",
       "14   00000dbacae5abe5e23885899a1fa44253a17956c6d1c3...   14\n",
       "39   0000423b00ade91418cceaf3b26c6af3dd342b51fd051e...   39\n",
       "122  000058a12d5b43e67d225668fa1f8d618c13dc232df0ca...  122\n",
       "123  00005ca1c9ed5f5146b52ac8639a40ca9d57aeff4d1bd2...  123\n",
       "131  00006413d8573cd20ed7128e53b7b13819fe5cfc2d801f...  131"
      ]
     },
     "execution_count": 18,
     "metadata": {},
     "output_type": "execute_result"
    }
   ],
   "source": [
    "labels.head()"
   ]
  },
  {
   "cell_type": "code",
   "execution_count": 19,
   "id": "9b7c2213",
   "metadata": {},
   "outputs": [],
   "source": [
    "labels['label'] = 1"
   ]
  },
  {
   "cell_type": "code",
   "execution_count": 20,
   "id": "2b16b596",
   "metadata": {},
   "outputs": [],
   "source": [
    "train_df = train_df.merge(labels, on=['customer_id', 'uid'], how='left')"
   ]
  },
  {
   "cell_type": "code",
   "execution_count": 21,
   "id": "84d05567",
   "metadata": {},
   "outputs": [
    {
     "data": {
      "text/html": [
       "<div>\n",
       "<style scoped>\n",
       "    .dataframe tbody tr th:only-of-type {\n",
       "        vertical-align: middle;\n",
       "    }\n",
       "\n",
       "    .dataframe tbody tr th {\n",
       "        vertical-align: top;\n",
       "    }\n",
       "\n",
       "    .dataframe thead th {\n",
       "        text-align: right;\n",
       "    }\n",
       "</style>\n",
       "<table border=\"1\" class=\"dataframe\">\n",
       "  <thead>\n",
       "    <tr style=\"text-align: right;\">\n",
       "      <th></th>\n",
       "      <th>t_dat</th>\n",
       "      <th>customer_id</th>\n",
       "      <th>article_id</th>\n",
       "      <th>price</th>\n",
       "      <th>sales_channel_id</th>\n",
       "      <th>total_purchases</th>\n",
       "      <th>uid</th>\n",
       "      <th>label</th>\n",
       "    </tr>\n",
       "  </thead>\n",
       "  <tbody>\n",
       "    <tr>\n",
       "      <th>0</th>\n",
       "      <td>2018-12-27</td>\n",
       "      <td>00000dbacae5abe5e23885899a1fa44253a17956c6d1c3...</td>\n",
       "      <td>0625548001</td>\n",
       "      <td>0.044051</td>\n",
       "      <td>1.0</td>\n",
       "      <td>20</td>\n",
       "      <td>0</td>\n",
       "      <td>NaN</td>\n",
       "    </tr>\n",
       "    <tr>\n",
       "      <th>1</th>\n",
       "      <td>2018-12-27</td>\n",
       "      <td>00000dbacae5abe5e23885899a1fa44253a17956c6d1c3...</td>\n",
       "      <td>0176209023</td>\n",
       "      <td>0.035576</td>\n",
       "      <td>1.0</td>\n",
       "      <td>20</td>\n",
       "      <td>1</td>\n",
       "      <td>NaN</td>\n",
       "    </tr>\n",
       "    <tr>\n",
       "      <th>2</th>\n",
       "      <td>2018-12-27</td>\n",
       "      <td>00000dbacae5abe5e23885899a1fa44253a17956c6d1c3...</td>\n",
       "      <td>0627759010</td>\n",
       "      <td>0.030492</td>\n",
       "      <td>1.0</td>\n",
       "      <td>20</td>\n",
       "      <td>2</td>\n",
       "      <td>NaN</td>\n",
       "    </tr>\n",
       "    <tr>\n",
       "      <th>3</th>\n",
       "      <td>2019-05-02</td>\n",
       "      <td>00000dbacae5abe5e23885899a1fa44253a17956c6d1c3...</td>\n",
       "      <td>0697138006</td>\n",
       "      <td>0.010153</td>\n",
       "      <td>2.0</td>\n",
       "      <td>20</td>\n",
       "      <td>3</td>\n",
       "      <td>NaN</td>\n",
       "    </tr>\n",
       "    <tr>\n",
       "      <th>4</th>\n",
       "      <td>2019-05-25</td>\n",
       "      <td>00000dbacae5abe5e23885899a1fa44253a17956c6d1c3...</td>\n",
       "      <td>0568601006</td>\n",
       "      <td>0.050831</td>\n",
       "      <td>2.0</td>\n",
       "      <td>20</td>\n",
       "      <td>4</td>\n",
       "      <td>NaN</td>\n",
       "    </tr>\n",
       "  </tbody>\n",
       "</table>\n",
       "</div>"
      ],
      "text/plain": [
       "       t_dat                                        customer_id  article_id  \\\n",
       "0 2018-12-27  00000dbacae5abe5e23885899a1fa44253a17956c6d1c3...  0625548001   \n",
       "1 2018-12-27  00000dbacae5abe5e23885899a1fa44253a17956c6d1c3...  0176209023   \n",
       "2 2018-12-27  00000dbacae5abe5e23885899a1fa44253a17956c6d1c3...  0627759010   \n",
       "3 2019-05-02  00000dbacae5abe5e23885899a1fa44253a17956c6d1c3...  0697138006   \n",
       "4 2019-05-25  00000dbacae5abe5e23885899a1fa44253a17956c6d1c3...  0568601006   \n",
       "\n",
       "      price  sales_channel_id  total_purchases  uid  label  \n",
       "0  0.044051               1.0               20    0    NaN  \n",
       "1  0.035576               1.0               20    1    NaN  \n",
       "2  0.030492               1.0               20    2    NaN  \n",
       "3  0.010153               2.0               20    3    NaN  \n",
       "4  0.050831               2.0               20    4    NaN  "
      ]
     },
     "execution_count": 21,
     "metadata": {},
     "output_type": "execute_result"
    }
   ],
   "source": [
    "train_df.head()"
   ]
  },
  {
   "cell_type": "code",
   "execution_count": 22,
   "id": "085f2418",
   "metadata": {},
   "outputs": [],
   "source": [
    "train_df['keep'] = train_df['label'].copy()"
   ]
  },
  {
   "cell_type": "code",
   "execution_count": 23,
   "id": "d13124c5",
   "metadata": {},
   "outputs": [],
   "source": [
    "train_df['keep'] = train_df.groupby('customer_id')['keep'].bfill()"
   ]
  },
  {
   "cell_type": "code",
   "execution_count": 24,
   "id": "20e23e5d",
   "metadata": {},
   "outputs": [],
   "source": [
    "# Drop records for each customer after the label\n",
    "train_df = train_df.copy()[train_df['keep'] == 1]"
   ]
  },
  {
   "cell_type": "code",
   "execution_count": 25,
   "id": "f70116c2",
   "metadata": {},
   "outputs": [],
   "source": [
    "train_df['label'].fillna(0, inplace=True)"
   ]
  },
  {
   "cell_type": "code",
   "execution_count": 26,
   "id": "45750566",
   "metadata": {},
   "outputs": [
    {
     "data": {
      "text/html": [
       "<div>\n",
       "<style scoped>\n",
       "    .dataframe tbody tr th:only-of-type {\n",
       "        vertical-align: middle;\n",
       "    }\n",
       "\n",
       "    .dataframe tbody tr th {\n",
       "        vertical-align: top;\n",
       "    }\n",
       "\n",
       "    .dataframe thead th {\n",
       "        text-align: right;\n",
       "    }\n",
       "</style>\n",
       "<table border=\"1\" class=\"dataframe\">\n",
       "  <thead>\n",
       "    <tr style=\"text-align: right;\">\n",
       "      <th></th>\n",
       "      <th>t_dat</th>\n",
       "      <th>customer_id</th>\n",
       "      <th>article_id</th>\n",
       "      <th>price</th>\n",
       "      <th>sales_channel_id</th>\n",
       "      <th>total_purchases</th>\n",
       "      <th>uid</th>\n",
       "      <th>label</th>\n",
       "      <th>keep</th>\n",
       "    </tr>\n",
       "  </thead>\n",
       "  <tbody>\n",
       "    <tr>\n",
       "      <th>0</th>\n",
       "      <td>2018-12-27</td>\n",
       "      <td>00000dbacae5abe5e23885899a1fa44253a17956c6d1c3...</td>\n",
       "      <td>0625548001</td>\n",
       "      <td>0.044051</td>\n",
       "      <td>1.0</td>\n",
       "      <td>20</td>\n",
       "      <td>0</td>\n",
       "      <td>0.0</td>\n",
       "      <td>1.0</td>\n",
       "    </tr>\n",
       "    <tr>\n",
       "      <th>1</th>\n",
       "      <td>2018-12-27</td>\n",
       "      <td>00000dbacae5abe5e23885899a1fa44253a17956c6d1c3...</td>\n",
       "      <td>0176209023</td>\n",
       "      <td>0.035576</td>\n",
       "      <td>1.0</td>\n",
       "      <td>20</td>\n",
       "      <td>1</td>\n",
       "      <td>0.0</td>\n",
       "      <td>1.0</td>\n",
       "    </tr>\n",
       "    <tr>\n",
       "      <th>2</th>\n",
       "      <td>2018-12-27</td>\n",
       "      <td>00000dbacae5abe5e23885899a1fa44253a17956c6d1c3...</td>\n",
       "      <td>0627759010</td>\n",
       "      <td>0.030492</td>\n",
       "      <td>1.0</td>\n",
       "      <td>20</td>\n",
       "      <td>2</td>\n",
       "      <td>0.0</td>\n",
       "      <td>1.0</td>\n",
       "    </tr>\n",
       "    <tr>\n",
       "      <th>3</th>\n",
       "      <td>2019-05-02</td>\n",
       "      <td>00000dbacae5abe5e23885899a1fa44253a17956c6d1c3...</td>\n",
       "      <td>0697138006</td>\n",
       "      <td>0.010153</td>\n",
       "      <td>2.0</td>\n",
       "      <td>20</td>\n",
       "      <td>3</td>\n",
       "      <td>0.0</td>\n",
       "      <td>1.0</td>\n",
       "    </tr>\n",
       "    <tr>\n",
       "      <th>4</th>\n",
       "      <td>2019-05-25</td>\n",
       "      <td>00000dbacae5abe5e23885899a1fa44253a17956c6d1c3...</td>\n",
       "      <td>0568601006</td>\n",
       "      <td>0.050831</td>\n",
       "      <td>2.0</td>\n",
       "      <td>20</td>\n",
       "      <td>4</td>\n",
       "      <td>0.0</td>\n",
       "      <td>1.0</td>\n",
       "    </tr>\n",
       "  </tbody>\n",
       "</table>\n",
       "</div>"
      ],
      "text/plain": [
       "       t_dat                                        customer_id  article_id  \\\n",
       "0 2018-12-27  00000dbacae5abe5e23885899a1fa44253a17956c6d1c3...  0625548001   \n",
       "1 2018-12-27  00000dbacae5abe5e23885899a1fa44253a17956c6d1c3...  0176209023   \n",
       "2 2018-12-27  00000dbacae5abe5e23885899a1fa44253a17956c6d1c3...  0627759010   \n",
       "3 2019-05-02  00000dbacae5abe5e23885899a1fa44253a17956c6d1c3...  0697138006   \n",
       "4 2019-05-25  00000dbacae5abe5e23885899a1fa44253a17956c6d1c3...  0568601006   \n",
       "\n",
       "      price  sales_channel_id  total_purchases  uid  label  keep  \n",
       "0  0.044051               1.0               20    0    0.0   1.0  \n",
       "1  0.035576               1.0               20    1    0.0   1.0  \n",
       "2  0.030492               1.0               20    2    0.0   1.0  \n",
       "3  0.010153               2.0               20    3    0.0   1.0  \n",
       "4  0.050831               2.0               20    4    0.0   1.0  "
      ]
     },
     "execution_count": 26,
     "metadata": {},
     "output_type": "execute_result"
    }
   ],
   "source": [
    "train_df.head()"
   ]
  },
  {
   "cell_type": "code",
   "execution_count": 27,
   "id": "16d61a0d",
   "metadata": {},
   "outputs": [],
   "source": [
    "train_df.drop(columns=['uid', 'keep', 'total_purchases'], inplace=True)"
   ]
  },
  {
   "cell_type": "code",
   "execution_count": 28,
   "id": "b9825915",
   "metadata": {},
   "outputs": [
    {
     "data": {
      "text/html": [
       "<div>\n",
       "<style scoped>\n",
       "    .dataframe tbody tr th:only-of-type {\n",
       "        vertical-align: middle;\n",
       "    }\n",
       "\n",
       "    .dataframe tbody tr th {\n",
       "        vertical-align: top;\n",
       "    }\n",
       "\n",
       "    .dataframe thead th {\n",
       "        text-align: right;\n",
       "    }\n",
       "</style>\n",
       "<table border=\"1\" class=\"dataframe\">\n",
       "  <thead>\n",
       "    <tr style=\"text-align: right;\">\n",
       "      <th></th>\n",
       "      <th>t_dat</th>\n",
       "      <th>customer_id</th>\n",
       "      <th>article_id</th>\n",
       "      <th>price</th>\n",
       "      <th>sales_channel_id</th>\n",
       "      <th>label</th>\n",
       "    </tr>\n",
       "  </thead>\n",
       "  <tbody>\n",
       "    <tr>\n",
       "      <th>0</th>\n",
       "      <td>2018-12-27</td>\n",
       "      <td>00000dbacae5abe5e23885899a1fa44253a17956c6d1c3...</td>\n",
       "      <td>0625548001</td>\n",
       "      <td>0.044051</td>\n",
       "      <td>1.0</td>\n",
       "      <td>0.0</td>\n",
       "    </tr>\n",
       "    <tr>\n",
       "      <th>1</th>\n",
       "      <td>2018-12-27</td>\n",
       "      <td>00000dbacae5abe5e23885899a1fa44253a17956c6d1c3...</td>\n",
       "      <td>0176209023</td>\n",
       "      <td>0.035576</td>\n",
       "      <td>1.0</td>\n",
       "      <td>0.0</td>\n",
       "    </tr>\n",
       "    <tr>\n",
       "      <th>2</th>\n",
       "      <td>2018-12-27</td>\n",
       "      <td>00000dbacae5abe5e23885899a1fa44253a17956c6d1c3...</td>\n",
       "      <td>0627759010</td>\n",
       "      <td>0.030492</td>\n",
       "      <td>1.0</td>\n",
       "      <td>0.0</td>\n",
       "    </tr>\n",
       "    <tr>\n",
       "      <th>3</th>\n",
       "      <td>2019-05-02</td>\n",
       "      <td>00000dbacae5abe5e23885899a1fa44253a17956c6d1c3...</td>\n",
       "      <td>0697138006</td>\n",
       "      <td>0.010153</td>\n",
       "      <td>2.0</td>\n",
       "      <td>0.0</td>\n",
       "    </tr>\n",
       "    <tr>\n",
       "      <th>4</th>\n",
       "      <td>2019-05-25</td>\n",
       "      <td>00000dbacae5abe5e23885899a1fa44253a17956c6d1c3...</td>\n",
       "      <td>0568601006</td>\n",
       "      <td>0.050831</td>\n",
       "      <td>2.0</td>\n",
       "      <td>0.0</td>\n",
       "    </tr>\n",
       "  </tbody>\n",
       "</table>\n",
       "</div>"
      ],
      "text/plain": [
       "       t_dat                                        customer_id  article_id  \\\n",
       "0 2018-12-27  00000dbacae5abe5e23885899a1fa44253a17956c6d1c3...  0625548001   \n",
       "1 2018-12-27  00000dbacae5abe5e23885899a1fa44253a17956c6d1c3...  0176209023   \n",
       "2 2018-12-27  00000dbacae5abe5e23885899a1fa44253a17956c6d1c3...  0627759010   \n",
       "3 2019-05-02  00000dbacae5abe5e23885899a1fa44253a17956c6d1c3...  0697138006   \n",
       "4 2019-05-25  00000dbacae5abe5e23885899a1fa44253a17956c6d1c3...  0568601006   \n",
       "\n",
       "      price  sales_channel_id  label  \n",
       "0  0.044051               1.0    0.0  \n",
       "1  0.035576               1.0    0.0  \n",
       "2  0.030492               1.0    0.0  \n",
       "3  0.010153               2.0    0.0  \n",
       "4  0.050831               2.0    0.0  "
      ]
     },
     "execution_count": 28,
     "metadata": {},
     "output_type": "execute_result"
    }
   ],
   "source": [
    "train_df.head()"
   ]
  },
  {
   "cell_type": "code",
   "execution_count": 29,
   "id": "8a784394",
   "metadata": {},
   "outputs": [
    {
     "data": {
      "image/png": "[encoded data removed]",
      "text/plain": [
       "<Figure size 720x432 with 1 Axes>"
      ]
     },
     "metadata": {
      "needs_background": "light"
     },
     "output_type": "display_data"
    }
   ],
   "source": [
    "# Dist. of historical orders\n",
    "plt.figure(figsize=(10, 6))\n",
    "train_df[train_df['label'] == 0].groupby('customer_id')['article_id'].count().hist()\n",
    "plt.show()"
   ]
  },
  {
   "cell_type": "code",
   "execution_count": 30,
   "id": "ed89e3b0",
   "metadata": {},
   "outputs": [
    {
     "data": {
      "text/plain": [
       "count    1.020568e+06\n",
       "mean     1.410742e+01\n",
       "std      2.500683e+01\n",
       "min      1.000000e+00\n",
       "25%      2.000000e+00\n",
       "50%      6.000000e+00\n",
       "75%      1.500000e+01\n",
       "max      1.382000e+03\n",
       "Name: article_id, dtype: float64"
      ]
     },
     "execution_count": 30,
     "metadata": {},
     "output_type": "execute_result"
    }
   ],
   "source": [
    "train_df[train_df['label'] == 0].groupby('customer_id')['article_id'].count().describe()"
   ]
  },
  {
   "cell_type": "code",
   "execution_count": 31,
   "id": "66763f93",
   "metadata": {},
   "outputs": [
    {
     "data": {
      "text/html": [
       "<div>\n",
       "<style scoped>\n",
       "    .dataframe tbody tr th:only-of-type {\n",
       "        vertical-align: middle;\n",
       "    }\n",
       "\n",
       "    .dataframe tbody tr th {\n",
       "        vertical-align: top;\n",
       "    }\n",
       "\n",
       "    .dataframe thead th {\n",
       "        text-align: right;\n",
       "    }\n",
       "</style>\n",
       "<table border=\"1\" class=\"dataframe\">\n",
       "  <thead>\n",
       "    <tr style=\"text-align: right;\">\n",
       "      <th></th>\n",
       "      <th>t_dat</th>\n",
       "      <th>customer_id</th>\n",
       "      <th>article_id</th>\n",
       "      <th>price</th>\n",
       "      <th>sales_channel_id</th>\n",
       "      <th>label</th>\n",
       "    </tr>\n",
       "  </thead>\n",
       "  <tbody>\n",
       "    <tr>\n",
       "      <th>0</th>\n",
       "      <td>2018-12-27</td>\n",
       "      <td>00000dbacae5abe5e23885899a1fa44253a17956c6d1c3...</td>\n",
       "      <td>0625548001</td>\n",
       "      <td>0.044051</td>\n",
       "      <td>1.0</td>\n",
       "      <td>0.0</td>\n",
       "    </tr>\n",
       "    <tr>\n",
       "      <th>1</th>\n",
       "      <td>2018-12-27</td>\n",
       "      <td>00000dbacae5abe5e23885899a1fa44253a17956c6d1c3...</td>\n",
       "      <td>0176209023</td>\n",
       "      <td>0.035576</td>\n",
       "      <td>1.0</td>\n",
       "      <td>0.0</td>\n",
       "    </tr>\n",
       "    <tr>\n",
       "      <th>2</th>\n",
       "      <td>2018-12-27</td>\n",
       "      <td>00000dbacae5abe5e23885899a1fa44253a17956c6d1c3...</td>\n",
       "      <td>0627759010</td>\n",
       "      <td>0.030492</td>\n",
       "      <td>1.0</td>\n",
       "      <td>0.0</td>\n",
       "    </tr>\n",
       "    <tr>\n",
       "      <th>3</th>\n",
       "      <td>2019-05-02</td>\n",
       "      <td>00000dbacae5abe5e23885899a1fa44253a17956c6d1c3...</td>\n",
       "      <td>0697138006</td>\n",
       "      <td>0.010153</td>\n",
       "      <td>2.0</td>\n",
       "      <td>0.0</td>\n",
       "    </tr>\n",
       "    <tr>\n",
       "      <th>4</th>\n",
       "      <td>2019-05-25</td>\n",
       "      <td>00000dbacae5abe5e23885899a1fa44253a17956c6d1c3...</td>\n",
       "      <td>0568601006</td>\n",
       "      <td>0.050831</td>\n",
       "      <td>2.0</td>\n",
       "      <td>0.0</td>\n",
       "    </tr>\n",
       "  </tbody>\n",
       "</table>\n",
       "</div>"
      ],
      "text/plain": [
       "       t_dat                                        customer_id  article_id  \\\n",
       "0 2018-12-27  00000dbacae5abe5e23885899a1fa44253a17956c6d1c3...  0625548001   \n",
       "1 2018-12-27  00000dbacae5abe5e23885899a1fa44253a17956c6d1c3...  0176209023   \n",
       "2 2018-12-27  00000dbacae5abe5e23885899a1fa44253a17956c6d1c3...  0627759010   \n",
       "3 2019-05-02  00000dbacae5abe5e23885899a1fa44253a17956c6d1c3...  0697138006   \n",
       "4 2019-05-25  00000dbacae5abe5e23885899a1fa44253a17956c6d1c3...  0568601006   \n",
       "\n",
       "      price  sales_channel_id  label  \n",
       "0  0.044051               1.0    0.0  \n",
       "1  0.035576               1.0    0.0  \n",
       "2  0.030492               1.0    0.0  \n",
       "3  0.010153               2.0    0.0  \n",
       "4  0.050831               2.0    0.0  "
      ]
     },
     "execution_count": 31,
     "metadata": {},
     "output_type": "execute_result"
    }
   ],
   "source": [
    "train_df.head()"
   ]
  },
  {
   "cell_type": "markdown",
   "id": "15b50099",
   "metadata": {},
   "source": [
    "- Map `article_id` to an index\n",
    "- Create inputs and labels for each customer"
   ]
  },
  {
   "cell_type": "code",
   "execution_count": 32,
   "id": "f503f69d",
   "metadata": {},
   "outputs": [
    {
     "data": {
      "text/html": [
       "<div>\n",
       "<style scoped>\n",
       "    .dataframe tbody tr th:only-of-type {\n",
       "        vertical-align: middle;\n",
       "    }\n",
       "\n",
       "    .dataframe tbody tr th {\n",
       "        vertical-align: top;\n",
       "    }\n",
       "\n",
       "    .dataframe thead th {\n",
       "        text-align: right;\n",
       "    }\n",
       "</style>\n",
       "<table border=\"1\" class=\"dataframe\">\n",
       "  <thead>\n",
       "    <tr style=\"text-align: right;\">\n",
       "      <th></th>\n",
       "      <th>article_id</th>\n",
       "      <th>product_code</th>\n",
       "      <th>prod_name</th>\n",
       "      <th>product_type_no</th>\n",
       "      <th>product_type_name</th>\n",
       "      <th>product_group_name</th>\n",
       "      <th>graphical_appearance_no</th>\n",
       "      <th>graphical_appearance_name</th>\n",
       "      <th>colour_group_code</th>\n",
       "      <th>colour_group_name</th>\n",
       "      <th>...</th>\n",
       "      <th>department_name</th>\n",
       "      <th>index_code</th>\n",
       "      <th>index_name</th>\n",
       "      <th>index_group_no</th>\n",
       "      <th>index_group_name</th>\n",
       "      <th>section_no</th>\n",
       "      <th>section_name</th>\n",
       "      <th>garment_group_no</th>\n",
       "      <th>garment_group_name</th>\n",
       "      <th>detail_desc</th>\n",
       "    </tr>\n",
       "  </thead>\n",
       "  <tbody>\n",
       "    <tr>\n",
       "      <th>0</th>\n",
       "      <td>0108775015</td>\n",
       "      <td>108775</td>\n",
       "      <td>Strap top</td>\n",
       "      <td>253</td>\n",
       "      <td>Vest top</td>\n",
       "      <td>Garment Upper body</td>\n",
       "      <td>1010016</td>\n",
       "      <td>Solid</td>\n",
       "      <td>9</td>\n",
       "      <td>Black</td>\n",
       "      <td>...</td>\n",
       "      <td>Jersey Basic</td>\n",
       "      <td>A</td>\n",
       "      <td>Ladieswear</td>\n",
       "      <td>1</td>\n",
       "      <td>Ladieswear</td>\n",
       "      <td>16</td>\n",
       "      <td>Womens Everyday Basics</td>\n",
       "      <td>1002</td>\n",
       "      <td>Jersey Basic</td>\n",
       "      <td>Jersey top with narrow shoulder straps.</td>\n",
       "    </tr>\n",
       "    <tr>\n",
       "      <th>1</th>\n",
       "      <td>0108775044</td>\n",
       "      <td>108775</td>\n",
       "      <td>Strap top</td>\n",
       "      <td>253</td>\n",
       "      <td>Vest top</td>\n",
       "      <td>Garment Upper body</td>\n",
       "      <td>1010016</td>\n",
       "      <td>Solid</td>\n",
       "      <td>10</td>\n",
       "      <td>White</td>\n",
       "      <td>...</td>\n",
       "      <td>Jersey Basic</td>\n",
       "      <td>A</td>\n",
       "      <td>Ladieswear</td>\n",
       "      <td>1</td>\n",
       "      <td>Ladieswear</td>\n",
       "      <td>16</td>\n",
       "      <td>Womens Everyday Basics</td>\n",
       "      <td>1002</td>\n",
       "      <td>Jersey Basic</td>\n",
       "      <td>Jersey top with narrow shoulder straps.</td>\n",
       "    </tr>\n",
       "    <tr>\n",
       "      <th>2</th>\n",
       "      <td>0108775051</td>\n",
       "      <td>108775</td>\n",
       "      <td>Strap top (1)</td>\n",
       "      <td>253</td>\n",
       "      <td>Vest top</td>\n",
       "      <td>Garment Upper body</td>\n",
       "      <td>1010017</td>\n",
       "      <td>Stripe</td>\n",
       "      <td>11</td>\n",
       "      <td>Off White</td>\n",
       "      <td>...</td>\n",
       "      <td>Jersey Basic</td>\n",
       "      <td>A</td>\n",
       "      <td>Ladieswear</td>\n",
       "      <td>1</td>\n",
       "      <td>Ladieswear</td>\n",
       "      <td>16</td>\n",
       "      <td>Womens Everyday Basics</td>\n",
       "      <td>1002</td>\n",
       "      <td>Jersey Basic</td>\n",
       "      <td>Jersey top with narrow shoulder straps.</td>\n",
       "    </tr>\n",
       "    <tr>\n",
       "      <th>3</th>\n",
       "      <td>0110065001</td>\n",
       "      <td>110065</td>\n",
       "      <td>OP T-shirt (Idro)</td>\n",
       "      <td>306</td>\n",
       "      <td>Bra</td>\n",
       "      <td>Underwear</td>\n",
       "      <td>1010016</td>\n",
       "      <td>Solid</td>\n",
       "      <td>9</td>\n",
       "      <td>Black</td>\n",
       "      <td>...</td>\n",
       "      <td>Clean Lingerie</td>\n",
       "      <td>B</td>\n",
       "      <td>Lingeries/Tights</td>\n",
       "      <td>1</td>\n",
       "      <td>Ladieswear</td>\n",
       "      <td>61</td>\n",
       "      <td>Womens Lingerie</td>\n",
       "      <td>1017</td>\n",
       "      <td>Under-, Nightwear</td>\n",
       "      <td>Microfibre T-shirt bra with underwired, moulde...</td>\n",
       "    </tr>\n",
       "    <tr>\n",
       "      <th>4</th>\n",
       "      <td>0110065002</td>\n",
       "      <td>110065</td>\n",
       "      <td>OP T-shirt (Idro)</td>\n",
       "      <td>306</td>\n",
       "      <td>Bra</td>\n",
       "      <td>Underwear</td>\n",
       "      <td>1010016</td>\n",
       "      <td>Solid</td>\n",
       "      <td>10</td>\n",
       "      <td>White</td>\n",
       "      <td>...</td>\n",
       "      <td>Clean Lingerie</td>\n",
       "      <td>B</td>\n",
       "      <td>Lingeries/Tights</td>\n",
       "      <td>1</td>\n",
       "      <td>Ladieswear</td>\n",
       "      <td>61</td>\n",
       "      <td>Womens Lingerie</td>\n",
       "      <td>1017</td>\n",
       "      <td>Under-, Nightwear</td>\n",
       "      <td>Microfibre T-shirt bra with underwired, moulde...</td>\n",
       "    </tr>\n",
       "  </tbody>\n",
       "</table>\n",
       "<p>5 rows × 25 columns</p>\n",
       "</div>"
      ],
      "text/plain": [
       "   article_id  product_code          prod_name  product_type_no  \\\n",
       "0  0108775015        108775          Strap top              253   \n",
       "1  0108775044        108775          Strap top              253   \n",
       "2  0108775051        108775      Strap top (1)              253   \n",
       "3  0110065001        110065  OP T-shirt (Idro)              306   \n",
       "4  0110065002        110065  OP T-shirt (Idro)              306   \n",
       "\n",
       "  product_type_name  product_group_name  graphical_appearance_no  \\\n",
       "0          Vest top  Garment Upper body                  1010016   \n",
       "1          Vest top  Garment Upper body                  1010016   \n",
       "2          Vest top  Garment Upper body                  1010017   \n",
       "3               Bra           Underwear                  1010016   \n",
       "4               Bra           Underwear                  1010016   \n",
       "\n",
       "  graphical_appearance_name  colour_group_code colour_group_name  ...  \\\n",
       "0                     Solid                  9             Black  ...   \n",
       "1                     Solid                 10             White  ...   \n",
       "2                    Stripe                 11         Off White  ...   \n",
       "3                     Solid                  9             Black  ...   \n",
       "4                     Solid                 10             White  ...   \n",
       "\n",
       "   department_name index_code        index_name index_group_no  \\\n",
       "0     Jersey Basic          A        Ladieswear              1   \n",
       "1     Jersey Basic          A        Ladieswear              1   \n",
       "2     Jersey Basic          A        Ladieswear              1   \n",
       "3   Clean Lingerie          B  Lingeries/Tights              1   \n",
       "4   Clean Lingerie          B  Lingeries/Tights              1   \n",
       "\n",
       "   index_group_name section_no            section_name garment_group_no  \\\n",
       "0        Ladieswear         16  Womens Everyday Basics             1002   \n",
       "1        Ladieswear         16  Womens Everyday Basics             1002   \n",
       "2        Ladieswear         16  Womens Everyday Basics             1002   \n",
       "3        Ladieswear         61         Womens Lingerie             1017   \n",
       "4        Ladieswear         61         Womens Lingerie             1017   \n",
       "\n",
       "   garment_group_name                                        detail_desc  \n",
       "0        Jersey Basic            Jersey top with narrow shoulder straps.  \n",
       "1        Jersey Basic            Jersey top with narrow shoulder straps.  \n",
       "2        Jersey Basic            Jersey top with narrow shoulder straps.  \n",
       "3   Under-, Nightwear  Microfibre T-shirt bra with underwired, moulde...  \n",
       "4   Under-, Nightwear  Microfibre T-shirt bra with underwired, moulde...  \n",
       "\n",
       "[5 rows x 25 columns]"
      ]
     },
     "execution_count": 32,
     "metadata": {},
     "output_type": "execute_result"
    }
   ],
   "source": [
    "articles_df.head()"
   ]
  },
  {
   "cell_type": "code",
   "execution_count": 33,
   "id": "a463d17f",
   "metadata": {},
   "outputs": [
    {
     "data": {
      "text/plain": [
       "(105542, 105542)"
      ]
     },
     "execution_count": 33,
     "metadata": {},
     "output_type": "execute_result"
    }
   ],
   "source": [
    "articles_df['article_id'].nunique(), articles_df.shape[0]"
   ]
  },
  {
   "cell_type": "markdown",
   "id": "495d788c",
   "metadata": {},
   "source": [
    "Create additional `article_id`=-1 which maps to `1`. This will be used when a customer has no order history (cold-start)"
   ]
  },
  {
   "cell_type": "code",
   "execution_count": 34,
   "id": "5675bdd0",
   "metadata": {},
   "outputs": [],
   "source": [
    "article_id_to_idx = dict(\n",
    "    zip(\n",
    "        articles_df['article_id'],\n",
    "        articles_df.index + 2\n",
    "    )\n",
    ")"
   ]
  },
  {
   "cell_type": "code",
   "execution_count": 35,
   "id": "fd6b2255",
   "metadata": {},
   "outputs": [],
   "source": [
    "article_id_to_idx['-1'] : 1"
   ]
  },
  {
   "cell_type": "code",
   "execution_count": 36,
   "id": "f2b7dd06",
   "metadata": {},
   "outputs": [],
   "source": [
    "train_df['article_id_idx'] = train_df['article_id'].map(article_id_to_idx)"
   ]
  },
  {
   "cell_type": "code",
   "execution_count": 37,
   "id": "2cfd343d",
   "metadata": {},
   "outputs": [
    {
     "data": {
      "text/html": [
       "<div>\n",
       "<style scoped>\n",
       "    .dataframe tbody tr th:only-of-type {\n",
       "        vertical-align: middle;\n",
       "    }\n",
       "\n",
       "    .dataframe tbody tr th {\n",
       "        vertical-align: top;\n",
       "    }\n",
       "\n",
       "    .dataframe thead th {\n",
       "        text-align: right;\n",
       "    }\n",
       "</style>\n",
       "<table border=\"1\" class=\"dataframe\">\n",
       "  <thead>\n",
       "    <tr style=\"text-align: right;\">\n",
       "      <th></th>\n",
       "      <th>t_dat</th>\n",
       "      <th>customer_id</th>\n",
       "      <th>article_id</th>\n",
       "      <th>price</th>\n",
       "      <th>sales_channel_id</th>\n",
       "      <th>label</th>\n",
       "      <th>article_id_idx</th>\n",
       "    </tr>\n",
       "  </thead>\n",
       "  <tbody>\n",
       "    <tr>\n",
       "      <th>0</th>\n",
       "      <td>2018-12-27</td>\n",
       "      <td>00000dbacae5abe5e23885899a1fa44253a17956c6d1c3...</td>\n",
       "      <td>0625548001</td>\n",
       "      <td>0.044051</td>\n",
       "      <td>1.0</td>\n",
       "      <td>0.0</td>\n",
       "      <td>29518</td>\n",
       "    </tr>\n",
       "    <tr>\n",
       "      <th>1</th>\n",
       "      <td>2018-12-27</td>\n",
       "      <td>00000dbacae5abe5e23885899a1fa44253a17956c6d1c3...</td>\n",
       "      <td>0176209023</td>\n",
       "      <td>0.035576</td>\n",
       "      <td>1.0</td>\n",
       "      <td>0.0</td>\n",
       "      <td>101</td>\n",
       "    </tr>\n",
       "    <tr>\n",
       "      <th>2</th>\n",
       "      <td>2018-12-27</td>\n",
       "      <td>00000dbacae5abe5e23885899a1fa44253a17956c6d1c3...</td>\n",
       "      <td>0627759010</td>\n",
       "      <td>0.030492</td>\n",
       "      <td>1.0</td>\n",
       "      <td>0.0</td>\n",
       "      <td>30329</td>\n",
       "    </tr>\n",
       "    <tr>\n",
       "      <th>3</th>\n",
       "      <td>2019-05-02</td>\n",
       "      <td>00000dbacae5abe5e23885899a1fa44253a17956c6d1c3...</td>\n",
       "      <td>0697138006</td>\n",
       "      <td>0.010153</td>\n",
       "      <td>2.0</td>\n",
       "      <td>0.0</td>\n",
       "      <td>50726</td>\n",
       "    </tr>\n",
       "    <tr>\n",
       "      <th>4</th>\n",
       "      <td>2019-05-25</td>\n",
       "      <td>00000dbacae5abe5e23885899a1fa44253a17956c6d1c3...</td>\n",
       "      <td>0568601006</td>\n",
       "      <td>0.050831</td>\n",
       "      <td>2.0</td>\n",
       "      <td>0.0</td>\n",
       "      <td>16005</td>\n",
       "    </tr>\n",
       "  </tbody>\n",
       "</table>\n",
       "</div>"
      ],
      "text/plain": [
       "       t_dat                                        customer_id  article_id  \\\n",
       "0 2018-12-27  00000dbacae5abe5e23885899a1fa44253a17956c6d1c3...  0625548001   \n",
       "1 2018-12-27  00000dbacae5abe5e23885899a1fa44253a17956c6d1c3...  0176209023   \n",
       "2 2018-12-27  00000dbacae5abe5e23885899a1fa44253a17956c6d1c3...  0627759010   \n",
       "3 2019-05-02  00000dbacae5abe5e23885899a1fa44253a17956c6d1c3...  0697138006   \n",
       "4 2019-05-25  00000dbacae5abe5e23885899a1fa44253a17956c6d1c3...  0568601006   \n",
       "\n",
       "      price  sales_channel_id  label  article_id_idx  \n",
       "0  0.044051               1.0    0.0           29518  \n",
       "1  0.035576               1.0    0.0             101  \n",
       "2  0.030492               1.0    0.0           30329  \n",
       "3  0.010153               2.0    0.0           50726  \n",
       "4  0.050831               2.0    0.0           16005  "
      ]
     },
     "execution_count": 37,
     "metadata": {},
     "output_type": "execute_result"
    }
   ],
   "source": [
    "train_df.head()"
   ]
  },
  {
   "cell_type": "code",
   "execution_count": 38,
   "id": "aa97b449",
   "metadata": {},
   "outputs": [
    {
     "data": {
      "text/plain": [
       "9878"
      ]
     },
     "execution_count": 38,
     "metadata": {},
     "output_type": "execute_result"
    }
   ],
   "source": [
    "# How many items do not appear in the training set?\n",
    "len(set(articles_df['article_id']) - set(train_df['article_id']))"
   ]
  },
  {
   "cell_type": "code",
   "execution_count": 39,
   "id": "be8a1e4a",
   "metadata": {},
   "outputs": [],
   "source": [
    "from torch.nn.utils.rnn import pad_sequence"
   ]
  },
  {
   "cell_type": "code",
   "execution_count": 40,
   "id": "b99c63e1",
   "metadata": {},
   "outputs": [],
   "source": [
    "from torch.utils.data import Dataset\n",
    "\n",
    "\n",
    "NO_PURCHASE_HISTORY_IDX = 1\n",
    "\n",
    "PADDING_VALUE = 0\n",
    "\n",
    "\n",
    "class NextCharacterDataset(Dataset):\n",
    "\n",
    "    def __init__(self, input_df):\n",
    "        \"\"\"\n",
    "        \"\"\"\n",
    "        input_df['total_purchases'] = input_df.groupby('customer_id')['article_id'].transform('count')\n",
    "\n",
    "        # Have purchase history\n",
    "\n",
    "        have_purchase_history_customers = input_df.copy()[input_df['total_purchases'] != 1]\n",
    "\n",
    "        labels = have_purchase_history_customers.copy()[\n",
    "            have_purchase_history_customers['label'] == 1\n",
    "        ][['customer_id', 'article_id_idx']]\n",
    "\n",
    "        historical_purchases = (\n",
    "            have_purchase_history_customers.copy()[have_purchase_history_customers['label'] == 0]\n",
    "            .groupby('customer_id')['article_id_idx']\n",
    "            .apply(lambda x: list(x))  # Create a list of purchases per customer\n",
    "            .reset_index()\n",
    "            .rename(columns={'article_id_idx': 'history'})\n",
    "        )\n",
    "\n",
    "        combined = historical_purchases.merge(labels, on='customer_id')\n",
    "        \n",
    "        customers = combined['customer_id'].tolist()\n",
    "\n",
    "        sequences = [torch.tensor(l) for l in combined['history'].values.tolist()]\n",
    "\n",
    "        padded_sequences = pad_sequence(sequences, batch_first=True, padding_value=PADDING_VALUE)\n",
    "\n",
    "        dim_after_padding = padded_sequences.shape[1]\n",
    "\n",
    "        labels_tensor = torch.tensor(combined['article_id_idx'].values.tolist())\n",
    "\n",
    "        # No purchase history\n",
    "\n",
    "        no_purchase_history_customers = input_df.copy()[input_df['total_purchases'] == 1]\n",
    "        \n",
    "        customers_no_purch = no_purchase_history_customers['customer_id'].tolist()\n",
    "\n",
    "        number_of_no_purch = no_purchase_history_customers.shape[0]\n",
    "\n",
    "        labels_no_purch = torch.tensor(no_purchase_history_customers['article_id_idx'].values.tolist())\n",
    "\n",
    "        padded_sequences_no_purch = torch.ones((number_of_no_purch, dim_after_padding)) * PADDING_VALUE\n",
    "        padded_sequences_no_purch[:, 0] = NO_PURCHASE_HISTORY_IDX\n",
    "\n",
    "        # Create X, y\n",
    "\n",
    "        self.X = torch.concat([padded_sequences, padded_sequences_no_purch], dim=0)\n",
    "        self.y = torch.concat([labels_tensor, labels_no_purch])\n",
    "        self.customer_id_list = customers\n",
    "        self.customer_id_list += customers_no_purch\n",
    "\n",
    "    def __len__(self):\n",
    "        return self.X.shape[0]\n",
    "\n",
    "    def __getitem__(self, idx):\n",
    "        if torch.is_tensor(idx):\n",
    "            idx = idx.tolist()\n",
    "        \n",
    "        return self.X[idx, :], self.y[idx], self.customer_id_list[idx]"
   ]
  },
  {
   "cell_type": "code",
   "execution_count": 41,
   "id": "d4964074",
   "metadata": {},
   "outputs": [
    {
     "name": "stdout",
     "output_type": "stream",
     "text": [
      "CPU times: user 58.6 s, sys: 49.4 s, total: 1min 48s\n",
      "Wall time: 1min 25s\n"
     ]
    }
   ],
   "source": [
    "%%time\n",
    "next_character_dataset = NextCharacterDataset(train_df)"
   ]
  },
  {
   "cell_type": "markdown",
   "id": "82c60c15",
   "metadata": {},
   "source": [
    "Check"
   ]
  },
  {
   "cell_type": "code",
   "execution_count": 42,
   "id": "bb7195db",
   "metadata": {},
   "outputs": [
    {
     "data": {
      "text/plain": [
       "'58d384940abb6ad90ad58d94c86bacf39bd47d0ee8f1323f39ac38e3c8a3dbbf'"
      ]
     },
     "execution_count": 42,
     "metadata": {},
     "output_type": "execute_result"
    }
   ],
   "source": [
    "# # No purchase history\n",
    "# sample_customer_id = train_df[train_df['total_purchases'] == 1].sample(n=1)['customer_id'].item()\n",
    "\n",
    "# Purchase history\n",
    "sample_customer_id = train_df[train_df['total_purchases'] != 1].sample(n=1)['customer_id'].item()\n",
    "\n",
    "sample_customer_id"
   ]
  },
  {
   "cell_type": "code",
   "execution_count": 43,
   "id": "9d0ca0c0",
   "metadata": {},
   "outputs": [
    {
     "data": {
      "text/plain": [
       "353977"
      ]
     },
     "execution_count": 43,
     "metadata": {},
     "output_type": "execute_result"
    }
   ],
   "source": [
    "idx = next_character_dataset.customer_id_list.index(sample_customer_id)\n",
    "idx"
   ]
  },
  {
   "cell_type": "code",
   "execution_count": 44,
   "id": "870bb63b",
   "metadata": {},
   "outputs": [
    {
     "data": {
      "text/plain": [
       "{233.0,\n",
       " 1555.0,\n",
       " 2469.0,\n",
       " 6643.0,\n",
       " 8160.0,\n",
       " 11601.0,\n",
       " 11808.0,\n",
       " 12736.0,\n",
       " 14088.0,\n",
       " 16699.0,\n",
       " 19592.0,\n",
       " 24269.0,\n",
       " 24272.0,\n",
       " 29097.0,\n",
       " 30902.0,\n",
       " 32560.0,\n",
       " 33205.0,\n",
       " 38407.0,\n",
       " 38534.0,\n",
       " 39270.0,\n",
       " 40382.0,\n",
       " 41026.0,\n",
       " 42111.0,\n",
       " 42488.0,\n",
       " 43032.0,\n",
       " 43105.0,\n",
       " 44402.0,\n",
       " 44594.0,\n",
       " 47411.0,\n",
       " 47647.0,\n",
       " 47689.0,\n",
       " 48049.0,\n",
       " 48052.0,\n",
       " 49924.0,\n",
       " 50613.0,\n",
       " 50837.0,\n",
       " 52453.0,\n",
       " 54844.0,\n",
       " 56449.0,\n",
       " 57546.0,\n",
       " 60129.0,\n",
       " 61050.0,\n",
       " 63387.0,\n",
       " 65672.0,\n",
       " 66915.0,\n",
       " 69673.0,\n",
       " 69793.0,\n",
       " 73364.0,\n",
       " 73560.0,\n",
       " 76891.0,\n",
       " 81102.0,\n",
       " 90346.0,\n",
       " 92138.0}"
      ]
     },
     "execution_count": 44,
     "metadata": {},
     "output_type": "execute_result"
    }
   ],
   "source": [
    "dataset_items = [v for v in next_character_dataset.X[idx].tolist() if v != 0]\n",
    "dataset_items = set(dataset_items)\n",
    "dataset_items"
   ]
  },
  {
   "cell_type": "code",
   "execution_count": 45,
   "id": "07adbd01",
   "metadata": {},
   "outputs": [],
   "source": [
    "expected_items = set(\n",
    "    train_df[\n",
    "        (train_df['customer_id'] == sample_customer_id) &\n",
    "        (train_df['label'] == 0)\n",
    "    ]['article_id_idx'].tolist()\n",
    ")"
   ]
  },
  {
   "cell_type": "code",
   "execution_count": 46,
   "id": "0612714e",
   "metadata": {},
   "outputs": [
    {
     "data": {
      "text/plain": [
       "True"
      ]
     },
     "execution_count": 46,
     "metadata": {},
     "output_type": "execute_result"
    }
   ],
   "source": [
    "expected_items == dataset_items  # Should be true for customers with purchase history"
   ]
  },
  {
   "cell_type": "code",
   "execution_count": 47,
   "id": "e2172975",
   "metadata": {},
   "outputs": [
    {
     "data": {
      "text/plain": [
       "True"
      ]
     },
     "execution_count": 47,
     "metadata": {},
     "output_type": "execute_result"
    }
   ],
   "source": [
    "dataset_label = next_character_dataset.y[idx].item()\n",
    "expected_label = train_df[\n",
    "    (train_df['customer_id'] == sample_customer_id) &\n",
    "    (train_df['label'] == 1)\n",
    "]['article_id_idx'].item()\n",
    "\n",
    "dataset_label == expected_label"
   ]
  },
  {
   "cell_type": "markdown",
   "id": "9a15d2e2",
   "metadata": {},
   "source": [
    "### Dev data prep"
   ]
  },
  {
   "cell_type": "code",
   "execution_count": 48,
   "id": "9c91295d",
   "metadata": {},
   "outputs": [
    {
     "name": "stdout",
     "output_type": "stream",
     "text": [
      "(277388, 5)\n"
     ]
    },
    {
     "data": {
      "text/html": [
       "<div>\n",
       "<style scoped>\n",
       "    .dataframe tbody tr th:only-of-type {\n",
       "        vertical-align: middle;\n",
       "    }\n",
       "\n",
       "    .dataframe tbody tr th {\n",
       "        vertical-align: top;\n",
       "    }\n",
       "\n",
       "    .dataframe thead th {\n",
       "        text-align: right;\n",
       "    }\n",
       "</style>\n",
       "<table border=\"1\" class=\"dataframe\">\n",
       "  <thead>\n",
       "    <tr style=\"text-align: right;\">\n",
       "      <th></th>\n",
       "      <th>t_dat</th>\n",
       "      <th>customer_id</th>\n",
       "      <th>article_id</th>\n",
       "      <th>price</th>\n",
       "      <th>sales_channel_id</th>\n",
       "    </tr>\n",
       "  </thead>\n",
       "  <tbody>\n",
       "    <tr>\n",
       "      <th>0</th>\n",
       "      <td>2020-08-10</td>\n",
       "      <td>00045027219e894b683fb4687211e2d0c904c268e9f28d...</td>\n",
       "      <td>0832481001</td>\n",
       "      <td>0.016932</td>\n",
       "      <td>1.0</td>\n",
       "    </tr>\n",
       "    <tr>\n",
       "      <th>1</th>\n",
       "      <td>2020-08-10</td>\n",
       "      <td>00045027219e894b683fb4687211e2d0c904c268e9f28d...</td>\n",
       "      <td>0907696001</td>\n",
       "      <td>0.016932</td>\n",
       "      <td>1.0</td>\n",
       "    </tr>\n",
       "    <tr>\n",
       "      <th>2</th>\n",
       "      <td>2020-08-10</td>\n",
       "      <td>00058592fc65afabbb00b1bb7d33c6b221d00c6a98c621...</td>\n",
       "      <td>0829152002</td>\n",
       "      <td>0.030492</td>\n",
       "      <td>2.0</td>\n",
       "    </tr>\n",
       "    <tr>\n",
       "      <th>3</th>\n",
       "      <td>2020-08-10</td>\n",
       "      <td>00058592fc65afabbb00b1bb7d33c6b221d00c6a98c621...</td>\n",
       "      <td>0812668001</td>\n",
       "      <td>0.050831</td>\n",
       "      <td>2.0</td>\n",
       "    </tr>\n",
       "    <tr>\n",
       "      <th>4</th>\n",
       "      <td>2020-08-10</td>\n",
       "      <td>00075ef36696a7b4ed8c83e22a4bf7ea7c90ee110991ec...</td>\n",
       "      <td>0887770002</td>\n",
       "      <td>0.008458</td>\n",
       "      <td>2.0</td>\n",
       "    </tr>\n",
       "  </tbody>\n",
       "</table>\n",
       "</div>"
      ],
      "text/plain": [
       "       t_dat                                        customer_id  article_id  \\\n",
       "0 2020-08-10  00045027219e894b683fb4687211e2d0c904c268e9f28d...  0832481001   \n",
       "1 2020-08-10  00045027219e894b683fb4687211e2d0c904c268e9f28d...  0907696001   \n",
       "2 2020-08-10  00058592fc65afabbb00b1bb7d33c6b221d00c6a98c621...  0829152002   \n",
       "3 2020-08-10  00058592fc65afabbb00b1bb7d33c6b221d00c6a98c621...  0812668001   \n",
       "4 2020-08-10  00075ef36696a7b4ed8c83e22a4bf7ea7c90ee110991ec...  0887770002   \n",
       "\n",
       "      price  sales_channel_id  \n",
       "0  0.016932               1.0  \n",
       "1  0.016932               1.0  \n",
       "2  0.030492               2.0  \n",
       "3  0.050831               2.0  \n",
       "4  0.008458               2.0  "
      ]
     },
     "execution_count": 48,
     "metadata": {},
     "output_type": "execute_result"
    }
   ],
   "source": [
    "dev_df = pd.read_parquet('data/splits/dev.parquet')\n",
    "print(dev_df.shape)\n",
    "dev_df.head()"
   ]
  },
  {
   "cell_type": "code",
   "execution_count": 49,
   "id": "32e8e0fa",
   "metadata": {},
   "outputs": [],
   "source": [
    "dev_df['article_id_idx'] = dev_df['article_id'].map(article_id_to_idx)"
   ]
  },
  {
   "cell_type": "code",
   "execution_count": 50,
   "id": "5a5b59d7",
   "metadata": {},
   "outputs": [
    {
     "data": {
      "text/html": [
       "<div>\n",
       "<style scoped>\n",
       "    .dataframe tbody tr th:only-of-type {\n",
       "        vertical-align: middle;\n",
       "    }\n",
       "\n",
       "    .dataframe tbody tr th {\n",
       "        vertical-align: top;\n",
       "    }\n",
       "\n",
       "    .dataframe thead th {\n",
       "        text-align: right;\n",
       "    }\n",
       "</style>\n",
       "<table border=\"1\" class=\"dataframe\">\n",
       "  <thead>\n",
       "    <tr style=\"text-align: right;\">\n",
       "      <th></th>\n",
       "      <th>customer_id</th>\n",
       "      <th>actual_purchases</th>\n",
       "    </tr>\n",
       "  </thead>\n",
       "  <tbody>\n",
       "    <tr>\n",
       "      <th>0</th>\n",
       "      <td>00006413d8573cd20ed7128e53b7b13819fe5cfc2d801f...</td>\n",
       "      <td>[101369, 60765, 104814, 77917]</td>\n",
       "    </tr>\n",
       "    <tr>\n",
       "      <th>1</th>\n",
       "      <td>00009d946eec3ea54add5ba56d5210ea898def4b46c685...</td>\n",
       "      <td>[99403, 104304, 53894, 98869]</td>\n",
       "    </tr>\n",
       "    <tr>\n",
       "      <th>2</th>\n",
       "      <td>0001d44dbe7f6c4b35200abdb052c77a87596fe1bdcc37...</td>\n",
       "      <td>[101855, 101855, 91582, 91583, 91584, 85622, 8...</td>\n",
       "    </tr>\n",
       "    <tr>\n",
       "      <th>3</th>\n",
       "      <td>00025f8226be50dcab09402a2cacd520a99e112fe01fdd...</td>\n",
       "      <td>[75445, 75440, 67524]</td>\n",
       "    </tr>\n",
       "    <tr>\n",
       "      <th>4</th>\n",
       "      <td>0002db27a1651998a3de4463437b580b45dfa7d8107afa...</td>\n",
       "      <td>[104741]</td>\n",
       "    </tr>\n",
       "  </tbody>\n",
       "</table>\n",
       "</div>"
      ],
      "text/plain": [
       "                                         customer_id  \\\n",
       "0  00006413d8573cd20ed7128e53b7b13819fe5cfc2d801f...   \n",
       "1  00009d946eec3ea54add5ba56d5210ea898def4b46c685...   \n",
       "2  0001d44dbe7f6c4b35200abdb052c77a87596fe1bdcc37...   \n",
       "3  00025f8226be50dcab09402a2cacd520a99e112fe01fdd...   \n",
       "4  0002db27a1651998a3de4463437b580b45dfa7d8107afa...   \n",
       "\n",
       "                                    actual_purchases  \n",
       "0                     [101369, 60765, 104814, 77917]  \n",
       "1                      [99403, 104304, 53894, 98869]  \n",
       "2  [101855, 101855, 91582, 91583, 91584, 85622, 8...  \n",
       "3                              [75445, 75440, 67524]  \n",
       "4                                           [104741]  "
      ]
     },
     "execution_count": 50,
     "metadata": {},
     "output_type": "execute_result"
    }
   ],
   "source": [
    "dev_df_by_customer = dev_df.groupby('customer_id').apply(lambda x: list(x['article_id_idx'])).reset_index().rename(columns={0: 'actual_purchases'})\n",
    "dev_df_by_customer.head()"
   ]
  },
  {
   "cell_type": "code",
   "execution_count": 51,
   "id": "6d5bd0da",
   "metadata": {},
   "outputs": [
    {
     "name": "stdout",
     "output_type": "stream",
     "text": [
      "(30143457, 5)\n"
     ]
    },
    {
     "data": {
      "text/html": [
       "<div>\n",
       "<style scoped>\n",
       "    .dataframe tbody tr th:only-of-type {\n",
       "        vertical-align: middle;\n",
       "    }\n",
       "\n",
       "    .dataframe tbody tr th {\n",
       "        vertical-align: top;\n",
       "    }\n",
       "\n",
       "    .dataframe thead th {\n",
       "        text-align: right;\n",
       "    }\n",
       "</style>\n",
       "<table border=\"1\" class=\"dataframe\">\n",
       "  <thead>\n",
       "    <tr style=\"text-align: right;\">\n",
       "      <th></th>\n",
       "      <th>t_dat</th>\n",
       "      <th>customer_id</th>\n",
       "      <th>article_id</th>\n",
       "      <th>price</th>\n",
       "      <th>sales_channel_id</th>\n",
       "    </tr>\n",
       "  </thead>\n",
       "  <tbody>\n",
       "    <tr>\n",
       "      <th>4212358</th>\n",
       "      <td>2018-12-27</td>\n",
       "      <td>00000dbacae5abe5e23885899a1fa44253a17956c6d1c3...</td>\n",
       "      <td>0625548001</td>\n",
       "      <td>0.044051</td>\n",
       "      <td>1.0</td>\n",
       "    </tr>\n",
       "    <tr>\n",
       "      <th>4212359</th>\n",
       "      <td>2018-12-27</td>\n",
       "      <td>00000dbacae5abe5e23885899a1fa44253a17956c6d1c3...</td>\n",
       "      <td>0176209023</td>\n",
       "      <td>0.035576</td>\n",
       "      <td>1.0</td>\n",
       "    </tr>\n",
       "    <tr>\n",
       "      <th>4212360</th>\n",
       "      <td>2018-12-27</td>\n",
       "      <td>00000dbacae5abe5e23885899a1fa44253a17956c6d1c3...</td>\n",
       "      <td>0627759010</td>\n",
       "      <td>0.030492</td>\n",
       "      <td>1.0</td>\n",
       "    </tr>\n",
       "    <tr>\n",
       "      <th>9663224</th>\n",
       "      <td>2019-05-02</td>\n",
       "      <td>00000dbacae5abe5e23885899a1fa44253a17956c6d1c3...</td>\n",
       "      <td>0697138006</td>\n",
       "      <td>0.010153</td>\n",
       "      <td>2.0</td>\n",
       "    </tr>\n",
       "    <tr>\n",
       "      <th>10754876</th>\n",
       "      <td>2019-05-25</td>\n",
       "      <td>00000dbacae5abe5e23885899a1fa44253a17956c6d1c3...</td>\n",
       "      <td>0568601006</td>\n",
       "      <td>0.050831</td>\n",
       "      <td>2.0</td>\n",
       "    </tr>\n",
       "  </tbody>\n",
       "</table>\n",
       "</div>"
      ],
      "text/plain": [
       "              t_dat                                        customer_id  \\\n",
       "4212358  2018-12-27  00000dbacae5abe5e23885899a1fa44253a17956c6d1c3...   \n",
       "4212359  2018-12-27  00000dbacae5abe5e23885899a1fa44253a17956c6d1c3...   \n",
       "4212360  2018-12-27  00000dbacae5abe5e23885899a1fa44253a17956c6d1c3...   \n",
       "9663224  2019-05-02  00000dbacae5abe5e23885899a1fa44253a17956c6d1c3...   \n",
       "10754876 2019-05-25  00000dbacae5abe5e23885899a1fa44253a17956c6d1c3...   \n",
       "\n",
       "          article_id     price  sales_channel_id  \n",
       "4212358   0625548001  0.044051               1.0  \n",
       "4212359   0176209023  0.035576               1.0  \n",
       "4212360   0627759010  0.030492               1.0  \n",
       "9663224   0697138006  0.010153               2.0  \n",
       "10754876  0568601006  0.050831               2.0  "
      ]
     },
     "execution_count": 51,
     "metadata": {},
     "output_type": "execute_result"
    }
   ],
   "source": [
    "train_df_full = pd.read_parquet('data/splits/train.parquet')\n",
    "train_df_full.sort_values(['customer_id', 't_dat'], inplace=True)\n",
    "print(train_df_full.shape)\n",
    "train_df_full.head()"
   ]
  },
  {
   "cell_type": "code",
   "execution_count": 52,
   "id": "34ecacf8",
   "metadata": {},
   "outputs": [],
   "source": [
    "train_df_full['article_id_idx'] = train_df_full['article_id'].map(article_id_to_idx)"
   ]
  },
  {
   "cell_type": "code",
   "execution_count": 53,
   "id": "f1c7588c",
   "metadata": {},
   "outputs": [
    {
     "data": {
      "text/html": [
       "<div>\n",
       "<style scoped>\n",
       "    .dataframe tbody tr th:only-of-type {\n",
       "        vertical-align: middle;\n",
       "    }\n",
       "\n",
       "    .dataframe tbody tr th {\n",
       "        vertical-align: top;\n",
       "    }\n",
       "\n",
       "    .dataframe thead th {\n",
       "        text-align: right;\n",
       "    }\n",
       "</style>\n",
       "<table border=\"1\" class=\"dataframe\">\n",
       "  <thead>\n",
       "    <tr style=\"text-align: right;\">\n",
       "      <th></th>\n",
       "      <th>t_dat</th>\n",
       "      <th>customer_id</th>\n",
       "      <th>article_id</th>\n",
       "      <th>price</th>\n",
       "      <th>sales_channel_id</th>\n",
       "      <th>article_id_idx</th>\n",
       "    </tr>\n",
       "  </thead>\n",
       "  <tbody>\n",
       "    <tr>\n",
       "      <th>4212358</th>\n",
       "      <td>2018-12-27</td>\n",
       "      <td>00000dbacae5abe5e23885899a1fa44253a17956c6d1c3...</td>\n",
       "      <td>0625548001</td>\n",
       "      <td>0.044051</td>\n",
       "      <td>1.0</td>\n",
       "      <td>29518</td>\n",
       "    </tr>\n",
       "    <tr>\n",
       "      <th>4212359</th>\n",
       "      <td>2018-12-27</td>\n",
       "      <td>00000dbacae5abe5e23885899a1fa44253a17956c6d1c3...</td>\n",
       "      <td>0176209023</td>\n",
       "      <td>0.035576</td>\n",
       "      <td>1.0</td>\n",
       "      <td>101</td>\n",
       "    </tr>\n",
       "    <tr>\n",
       "      <th>4212360</th>\n",
       "      <td>2018-12-27</td>\n",
       "      <td>00000dbacae5abe5e23885899a1fa44253a17956c6d1c3...</td>\n",
       "      <td>0627759010</td>\n",
       "      <td>0.030492</td>\n",
       "      <td>1.0</td>\n",
       "      <td>30329</td>\n",
       "    </tr>\n",
       "    <tr>\n",
       "      <th>9663224</th>\n",
       "      <td>2019-05-02</td>\n",
       "      <td>00000dbacae5abe5e23885899a1fa44253a17956c6d1c3...</td>\n",
       "      <td>0697138006</td>\n",
       "      <td>0.010153</td>\n",
       "      <td>2.0</td>\n",
       "      <td>50726</td>\n",
       "    </tr>\n",
       "    <tr>\n",
       "      <th>10754876</th>\n",
       "      <td>2019-05-25</td>\n",
       "      <td>00000dbacae5abe5e23885899a1fa44253a17956c6d1c3...</td>\n",
       "      <td>0568601006</td>\n",
       "      <td>0.050831</td>\n",
       "      <td>2.0</td>\n",
       "      <td>16005</td>\n",
       "    </tr>\n",
       "  </tbody>\n",
       "</table>\n",
       "</div>"
      ],
      "text/plain": [
       "              t_dat                                        customer_id  \\\n",
       "4212358  2018-12-27  00000dbacae5abe5e23885899a1fa44253a17956c6d1c3...   \n",
       "4212359  2018-12-27  00000dbacae5abe5e23885899a1fa44253a17956c6d1c3...   \n",
       "4212360  2018-12-27  00000dbacae5abe5e23885899a1fa44253a17956c6d1c3...   \n",
       "9663224  2019-05-02  00000dbacae5abe5e23885899a1fa44253a17956c6d1c3...   \n",
       "10754876 2019-05-25  00000dbacae5abe5e23885899a1fa44253a17956c6d1c3...   \n",
       "\n",
       "          article_id     price  sales_channel_id  article_id_idx  \n",
       "4212358   0625548001  0.044051               1.0           29518  \n",
       "4212359   0176209023  0.035576               1.0             101  \n",
       "4212360   0627759010  0.030492               1.0           30329  \n",
       "9663224   0697138006  0.010153               2.0           50726  \n",
       "10754876  0568601006  0.050831               2.0           16005  "
      ]
     },
     "execution_count": 53,
     "metadata": {},
     "output_type": "execute_result"
    }
   ],
   "source": [
    "train_df_full.head()"
   ]
  },
  {
   "cell_type": "code",
   "execution_count": 54,
   "id": "d1ae04dd",
   "metadata": {},
   "outputs": [],
   "source": [
    "historical_purchases = (\n",
    "    train_df_full\n",
    "    .groupby('customer_id')['article_id_idx']\n",
    "    .apply(lambda x: list(x))  # Create a list of purchases per customer\n",
    "    .reset_index()\n",
    "    .rename(columns={'article_id_idx': 'history'})\n",
    ")"
   ]
  },
  {
   "cell_type": "code",
   "execution_count": 55,
   "id": "c3fd0ce8",
   "metadata": {},
   "outputs": [
    {
     "data": {
      "text/html": [
       "<div>\n",
       "<style scoped>\n",
       "    .dataframe tbody tr th:only-of-type {\n",
       "        vertical-align: middle;\n",
       "    }\n",
       "\n",
       "    .dataframe tbody tr th {\n",
       "        vertical-align: top;\n",
       "    }\n",
       "\n",
       "    .dataframe thead th {\n",
       "        text-align: right;\n",
       "    }\n",
       "</style>\n",
       "<table border=\"1\" class=\"dataframe\">\n",
       "  <thead>\n",
       "    <tr style=\"text-align: right;\">\n",
       "      <th></th>\n",
       "      <th>customer_id</th>\n",
       "      <th>history</th>\n",
       "    </tr>\n",
       "  </thead>\n",
       "  <tbody>\n",
       "    <tr>\n",
       "      <th>0</th>\n",
       "      <td>00000dbacae5abe5e23885899a1fa44253a17956c6d1c3...</td>\n",
       "      <td>[29518, 101, 30329, 50726, 16005, 16005, 23998...</td>\n",
       "    </tr>\n",
       "    <tr>\n",
       "      <th>1</th>\n",
       "      <td>0000423b00ade91418cceaf3b26c6af3dd342b51fd051e...</td>\n",
       "      <td>[19335, 33750, 33993, 8218, 41026, 19335, 4262...</td>\n",
       "    </tr>\n",
       "    <tr>\n",
       "      <th>2</th>\n",
       "      <td>000058a12d5b43e67d225668fa1f8d618c13dc232df0ca...</td>\n",
       "      <td>[40181, 10522, 40181, 18199, 59460, 1471, 1471...</td>\n",
       "    </tr>\n",
       "    <tr>\n",
       "      <th>3</th>\n",
       "      <td>00005ca1c9ed5f5146b52ac8639a40ca9d57aeff4d1bd2...</td>\n",
       "      <td>[64527, 61177]</td>\n",
       "    </tr>\n",
       "    <tr>\n",
       "      <th>4</th>\n",
       "      <td>00006413d8573cd20ed7128e53b7b13819fe5cfc2d801f...</td>\n",
       "      <td>[32249, 43444, 51126, 54463, 2183, 2183, 20519...</td>\n",
       "    </tr>\n",
       "  </tbody>\n",
       "</table>\n",
       "</div>"
      ],
      "text/plain": [
       "                                         customer_id  \\\n",
       "0  00000dbacae5abe5e23885899a1fa44253a17956c6d1c3...   \n",
       "1  0000423b00ade91418cceaf3b26c6af3dd342b51fd051e...   \n",
       "2  000058a12d5b43e67d225668fa1f8d618c13dc232df0ca...   \n",
       "3  00005ca1c9ed5f5146b52ac8639a40ca9d57aeff4d1bd2...   \n",
       "4  00006413d8573cd20ed7128e53b7b13819fe5cfc2d801f...   \n",
       "\n",
       "                                             history  \n",
       "0  [29518, 101, 30329, 50726, 16005, 16005, 23998...  \n",
       "1  [19335, 33750, 33993, 8218, 41026, 19335, 4262...  \n",
       "2  [40181, 10522, 40181, 18199, 59460, 1471, 1471...  \n",
       "3                                     [64527, 61177]  \n",
       "4  [32249, 43444, 51126, 54463, 2183, 2183, 20519...  "
      ]
     },
     "execution_count": 55,
     "metadata": {},
     "output_type": "execute_result"
    }
   ],
   "source": [
    "historical_purchases.head()"
   ]
  },
  {
   "cell_type": "code",
   "execution_count": 56,
   "id": "2780f171",
   "metadata": {},
   "outputs": [
    {
     "data": {
      "text/html": [
       "<div>\n",
       "<style scoped>\n",
       "    .dataframe tbody tr th:only-of-type {\n",
       "        vertical-align: middle;\n",
       "    }\n",
       "\n",
       "    .dataframe tbody tr th {\n",
       "        vertical-align: top;\n",
       "    }\n",
       "\n",
       "    .dataframe thead th {\n",
       "        text-align: right;\n",
       "    }\n",
       "</style>\n",
       "<table border=\"1\" class=\"dataframe\">\n",
       "  <thead>\n",
       "    <tr style=\"text-align: right;\">\n",
       "      <th></th>\n",
       "      <th>customer_id</th>\n",
       "      <th>actual_purchases</th>\n",
       "      <th>history</th>\n",
       "      <th>_merge</th>\n",
       "    </tr>\n",
       "  </thead>\n",
       "  <tbody>\n",
       "    <tr>\n",
       "      <th>0</th>\n",
       "      <td>00006413d8573cd20ed7128e53b7b13819fe5cfc2d801f...</td>\n",
       "      <td>[101369, 60765, 104814, 77917]</td>\n",
       "      <td>[32249, 43444, 51126, 54463, 2183, 2183, 20519...</td>\n",
       "      <td>both</td>\n",
       "    </tr>\n",
       "    <tr>\n",
       "      <th>1</th>\n",
       "      <td>00009d946eec3ea54add5ba56d5210ea898def4b46c685...</td>\n",
       "      <td>[99403, 104304, 53894, 98869]</td>\n",
       "      <td>[17158, 41599, 35803, 17152, 35801, 47421, 475...</td>\n",
       "      <td>both</td>\n",
       "    </tr>\n",
       "    <tr>\n",
       "      <th>2</th>\n",
       "      <td>0001d44dbe7f6c4b35200abdb052c77a87596fe1bdcc37...</td>\n",
       "      <td>[101855, 101855, 91582, 91583, 91584, 85622, 8...</td>\n",
       "      <td>[16166, 16166, 39929, 8343, 930, 41146, 44864,...</td>\n",
       "      <td>both</td>\n",
       "    </tr>\n",
       "    <tr>\n",
       "      <th>3</th>\n",
       "      <td>00025f8226be50dcab09402a2cacd520a99e112fe01fdd...</td>\n",
       "      <td>[75445, 75440, 67524]</td>\n",
       "      <td>[40347, 53100, 31712, 19015, 19015, 10526, 105...</td>\n",
       "      <td>both</td>\n",
       "    </tr>\n",
       "    <tr>\n",
       "      <th>4</th>\n",
       "      <td>0002db27a1651998a3de4463437b580b45dfa7d8107afa...</td>\n",
       "      <td>[104741]</td>\n",
       "      <td>[25872, 47425, 2228, 60859, 3569, 67624, 47416...</td>\n",
       "      <td>both</td>\n",
       "    </tr>\n",
       "  </tbody>\n",
       "</table>\n",
       "</div>"
      ],
      "text/plain": [
       "                                         customer_id  \\\n",
       "0  00006413d8573cd20ed7128e53b7b13819fe5cfc2d801f...   \n",
       "1  00009d946eec3ea54add5ba56d5210ea898def4b46c685...   \n",
       "2  0001d44dbe7f6c4b35200abdb052c77a87596fe1bdcc37...   \n",
       "3  00025f8226be50dcab09402a2cacd520a99e112fe01fdd...   \n",
       "4  0002db27a1651998a3de4463437b580b45dfa7d8107afa...   \n",
       "\n",
       "                                    actual_purchases  \\\n",
       "0                     [101369, 60765, 104814, 77917]   \n",
       "1                      [99403, 104304, 53894, 98869]   \n",
       "2  [101855, 101855, 91582, 91583, 91584, 85622, 8...   \n",
       "3                              [75445, 75440, 67524]   \n",
       "4                                           [104741]   \n",
       "\n",
       "                                             history _merge  \n",
       "0  [32249, 43444, 51126, 54463, 2183, 2183, 20519...   both  \n",
       "1  [17158, 41599, 35803, 17152, 35801, 47421, 475...   both  \n",
       "2  [16166, 16166, 39929, 8343, 930, 41146, 44864,...   both  \n",
       "3  [40347, 53100, 31712, 19015, 19015, 10526, 105...   both  \n",
       "4  [25872, 47425, 2228, 60859, 3569, 67624, 47416...   both  "
      ]
     },
     "execution_count": 56,
     "metadata": {},
     "output_type": "execute_result"
    }
   ],
   "source": [
    "dev_df_by_customer = dev_df_by_customer.merge(historical_purchases, on='customer_id', how='left', indicator=True)\n",
    "dev_df_by_customer.head()"
   ]
  },
  {
   "cell_type": "code",
   "execution_count": 57,
   "id": "af7f5607",
   "metadata": {},
   "outputs": [
    {
     "data": {
      "text/plain": [
       "both          0.935266\n",
       "left_only     0.064734\n",
       "right_only    0.000000\n",
       "Name: _merge, dtype: float64"
      ]
     },
     "execution_count": 57,
     "metadata": {},
     "output_type": "execute_result"
    }
   ],
   "source": [
    "dev_df_by_customer['_merge'].value_counts() / dev_df_by_customer.shape[0]"
   ]
  },
  {
   "cell_type": "markdown",
   "id": "e019cc05",
   "metadata": {},
   "source": [
    "With history"
   ]
  },
  {
   "cell_type": "code",
   "execution_count": 58,
   "id": "03ba4fb8",
   "metadata": {},
   "outputs": [],
   "source": [
    "dev_df_by_customer_with_history = dev_df_by_customer.copy()[dev_df_by_customer['_merge'] == 'both']"
   ]
  },
  {
   "cell_type": "code",
   "execution_count": 59,
   "id": "09a2a0b1",
   "metadata": {},
   "outputs": [
    {
     "data": {
      "text/plain": [
       "1382"
      ]
     },
     "execution_count": 59,
     "metadata": {},
     "output_type": "execute_result"
    }
   ],
   "source": [
    "max_history_length = next_character_dataset.X.shape[1]\n",
    "max_history_length"
   ]
  },
  {
   "cell_type": "code",
   "execution_count": 60,
   "id": "90a0870b",
   "metadata": {},
   "outputs": [],
   "source": [
    "dev_df_by_customer_with_history['history'] = dev_df_by_customer_with_history['history'].apply(lambda x: x[:max_history_length])"
   ]
  },
  {
   "cell_type": "code",
   "execution_count": 61,
   "id": "1becc401",
   "metadata": {},
   "outputs": [],
   "source": [
    "sequences = [torch.tensor(l) for l in dev_df_by_customer_with_history['history'].values.tolist()]\n",
    "\n",
    "padded_sequences = pad_sequence(sequences, batch_first=True, padding_value=PADDING_VALUE)"
   ]
  },
  {
   "cell_type": "code",
   "execution_count": 62,
   "id": "cb9442d5",
   "metadata": {},
   "outputs": [
    {
     "data": {
      "text/plain": [
       "torch.Size([67443, 1382])"
      ]
     },
     "execution_count": 62,
     "metadata": {},
     "output_type": "execute_result"
    }
   ],
   "source": [
    "padded_sequences.shape"
   ]
  },
  {
   "cell_type": "markdown",
   "id": "8f2eb280",
   "metadata": {},
   "source": [
    "No history"
   ]
  },
  {
   "cell_type": "code",
   "execution_count": 63,
   "id": "d932e6e6",
   "metadata": {},
   "outputs": [],
   "source": [
    "dev_df_by_customer_no_history = dev_df_by_customer.copy()[dev_df_by_customer['_merge'] == 'left_only']"
   ]
  },
  {
   "cell_type": "code",
   "execution_count": 64,
   "id": "62f2c5b5",
   "metadata": {},
   "outputs": [],
   "source": [
    "padded_sequences_no_purch = torch.ones((dev_df_by_customer_no_history.shape[0], max_history_length)) * PADDING_VALUE\n",
    "padded_sequences_no_purch[:, 0] = NO_PURCHASE_HISTORY_IDX"
   ]
  },
  {
   "cell_type": "code",
   "execution_count": 65,
   "id": "4b2d0082",
   "metadata": {},
   "outputs": [
    {
     "data": {
      "text/plain": [
       "torch.Size([4668, 1382])"
      ]
     },
     "execution_count": 65,
     "metadata": {},
     "output_type": "execute_result"
    }
   ],
   "source": [
    "padded_sequences_no_purch.shape"
   ]
  },
  {
   "cell_type": "code",
   "execution_count": 66,
   "id": "0a6f1f30",
   "metadata": {},
   "outputs": [
    {
     "name": "stderr",
     "output_type": "stream",
     "text": [
      "/var/folders/y7/s4mqr2gn1xs617jmcj6fc_ph0000gn/T/ipykernel_57685/3368644721.py:1: FutureWarning: The frame.append method is deprecated and will be removed from pandas in a future version. Use pandas.concat instead.\n",
      "  dev_df_by_customer = dev_df_by_customer_with_history.append(dev_df_by_customer_no_history)\n"
     ]
    },
    {
     "data": {
      "text/plain": [
       "(72111, 4)"
      ]
     },
     "execution_count": 66,
     "metadata": {},
     "output_type": "execute_result"
    }
   ],
   "source": [
    "dev_df_by_customer = dev_df_by_customer_with_history.append(dev_df_by_customer_no_history)\n",
    "dev_df_by_customer.shape"
   ]
  },
  {
   "cell_type": "code",
   "execution_count": 67,
   "id": "928a615b",
   "metadata": {},
   "outputs": [
    {
     "data": {
      "text/plain": [
       "torch.Size([72111, 1382])"
      ]
     },
     "execution_count": 67,
     "metadata": {},
     "output_type": "execute_result"
    }
   ],
   "source": [
    "dev_padded_sequences = torch.concat([padded_sequences, padded_sequences_no_purch], dim=0)\n",
    "dev_padded_sequences.shape"
   ]
  },
  {
   "cell_type": "markdown",
   "id": "de4d70e8",
   "metadata": {},
   "source": [
    "### Train model"
   ]
  },
  {
   "cell_type": "code",
   "execution_count": 232,
   "id": "75e14caf",
   "metadata": {},
   "outputs": [],
   "source": [
    "class FashionRecV1(nn.Module):\n",
    "\n",
    "    def __init__(self, mask_value, embedding_dim):\n",
    "        super(FashionRecV1, self).__init__()\n",
    "        \n",
    "        self.embedding_dim = embedding_dim\n",
    "        \n",
    "        self.embedding = nn.Embedding(num_embeddings=len(article_id_to_idx), embedding_dim=self.embedding_dim)\n",
    "        \n",
    "        self.fc_1 = nn.Linear(in_features=self.embedding_dim, out_features=11)\n",
    "        \n",
    "        self.fc_2 = nn.Linear(in_features=11, out_features=len(article_id_to_idx))\n",
    "        \n",
    "        self.relu = nn.ReLU()\n",
    "        \n",
    "        self.tanh = nn.Tanh()\n",
    "        \n",
    "        self.mask_value = mask_value\n",
    "\n",
    "    def forward(self, padded_sequences):\n",
    "        \n",
    "        x = self.embedding(padded_sequences)\n",
    "\n",
    "        mask = padded_sequences != self.mask_value\n",
    "        \n",
    "        # Repeat mask so that shape matches output of embedding\n",
    "        mask = torch.unsqueeze(mask, dim=2)\n",
    "        mask = mask.repeat(1, 1, self.embedding_dim)\n",
    "\n",
    "        x = mask * x\n",
    "        \n",
    "        # Compute average over non-padding embeddings:\n",
    "        x = x.sum(dim=1)\n",
    "        num_embeddings = mask[:, :, 0].sum(dim=1).reshape(-1, 1)  # Divide by number of (non-padding) embeddings to get mean embedding\n",
    "\n",
    "        x = torch.div(\n",
    "            x, \n",
    "            num_embeddings\n",
    "        )\n",
    "\n",
    "        x = self.fc_1(x)\n",
    "        x = self.relu(x)\n",
    "        \n",
    "        x = self.fc_2(x)\n",
    "        x = self.tanh(x)\n",
    "        \n",
    "        return x"
   ]
  },
  {
   "cell_type": "code",
   "execution_count": 233,
   "id": "6e7fbe94",
   "metadata": {},
   "outputs": [],
   "source": [
    "fashion_rec_v1 = FashionRecV1(mask_value=PADDING_VALUE, embedding_dim=100)"
   ]
  },
  {
   "cell_type": "code",
   "execution_count": 234,
   "id": "90b538d3",
   "metadata": {},
   "outputs": [],
   "source": [
    "criterion = nn.CrossEntropyLoss()\n",
    "optimizer = torch.optim.Adam(params=fashion_rec_v1.parameters(), lr=0.01)"
   ]
  },
  {
   "cell_type": "code",
   "execution_count": 235,
   "id": "d5f1264c",
   "metadata": {},
   "outputs": [],
   "source": [
    "data_loader_train = DataLoader(next_character_dataset, batch_size=32, shuffle=True)"
   ]
  },
  {
   "cell_type": "code",
   "execution_count": 260,
   "id": "dadf8384",
   "metadata": {},
   "outputs": [
    {
     "name": "stderr",
     "output_type": "stream",
     "text": [
      " 12%|████████████████▎                                                                                                                  | 5184/41525 [10:26<1:13:11,  8.27it/s]\n"
     ]
    },
    {
     "ename": "KeyboardInterrupt",
     "evalue": "",
     "output_type": "error",
     "traceback": [
      "\u001b[0;31m---------------------------------------------------------------------------\u001b[0m",
      "\u001b[0;31mKeyboardInterrupt\u001b[0m                         Traceback (most recent call last)",
      "Input \u001b[0;32mIn [260]\u001b[0m, in \u001b[0;36m<module>\u001b[0;34m\u001b[0m\n\u001b[1;32m     11\u001b[0m y_pred \u001b[38;5;241m=\u001b[39m fashion_rec_v1(X)\n\u001b[1;32m     13\u001b[0m loss \u001b[38;5;241m=\u001b[39m criterion(y_pred, y)  \u001b[38;5;66;03m# Need index for loss in PyTorch\u001b[39;00m\n\u001b[0;32m---> 15\u001b[0m \u001b[43mloss\u001b[49m\u001b[38;5;241;43m.\u001b[39;49m\u001b[43mbackward\u001b[49m\u001b[43m(\u001b[49m\u001b[43m)\u001b[49m\n\u001b[1;32m     17\u001b[0m losses\u001b[38;5;241m.\u001b[39mappend(loss\u001b[38;5;241m.\u001b[39mitem())\n\u001b[1;32m     19\u001b[0m optimizer\u001b[38;5;241m.\u001b[39mstep()\n",
      "File \u001b[0;32m~/opt/anaconda3/envs/fashion_rec/lib/python3.8/site-packages/torch/_tensor.py:363\u001b[0m, in \u001b[0;36mTensor.backward\u001b[0;34m(self, gradient, retain_graph, create_graph, inputs)\u001b[0m\n\u001b[1;32m    354\u001b[0m \u001b[38;5;28;01mif\u001b[39;00m has_torch_function_unary(\u001b[38;5;28mself\u001b[39m):\n\u001b[1;32m    355\u001b[0m     \u001b[38;5;28;01mreturn\u001b[39;00m handle_torch_function(\n\u001b[1;32m    356\u001b[0m         Tensor\u001b[38;5;241m.\u001b[39mbackward,\n\u001b[1;32m    357\u001b[0m         (\u001b[38;5;28mself\u001b[39m,),\n\u001b[0;32m   (...)\u001b[0m\n\u001b[1;32m    361\u001b[0m         create_graph\u001b[38;5;241m=\u001b[39mcreate_graph,\n\u001b[1;32m    362\u001b[0m         inputs\u001b[38;5;241m=\u001b[39minputs)\n\u001b[0;32m--> 363\u001b[0m \u001b[43mtorch\u001b[49m\u001b[38;5;241;43m.\u001b[39;49m\u001b[43mautograd\u001b[49m\u001b[38;5;241;43m.\u001b[39;49m\u001b[43mbackward\u001b[49m\u001b[43m(\u001b[49m\u001b[38;5;28;43mself\u001b[39;49m\u001b[43m,\u001b[49m\u001b[43m \u001b[49m\u001b[43mgradient\u001b[49m\u001b[43m,\u001b[49m\u001b[43m \u001b[49m\u001b[43mretain_graph\u001b[49m\u001b[43m,\u001b[49m\u001b[43m \u001b[49m\u001b[43mcreate_graph\u001b[49m\u001b[43m,\u001b[49m\u001b[43m \u001b[49m\u001b[43minputs\u001b[49m\u001b[38;5;241;43m=\u001b[39;49m\u001b[43minputs\u001b[49m\u001b[43m)\u001b[49m\n",
      "File \u001b[0;32m~/opt/anaconda3/envs/fashion_rec/lib/python3.8/site-packages/torch/autograd/__init__.py:173\u001b[0m, in \u001b[0;36mbackward\u001b[0;34m(tensors, grad_tensors, retain_graph, create_graph, grad_variables, inputs)\u001b[0m\n\u001b[1;32m    168\u001b[0m     retain_graph \u001b[38;5;241m=\u001b[39m create_graph\n\u001b[1;32m    170\u001b[0m \u001b[38;5;66;03m# The reason we repeat same the comment below is that\u001b[39;00m\n\u001b[1;32m    171\u001b[0m \u001b[38;5;66;03m# some Python versions print out the first line of a multi-line function\u001b[39;00m\n\u001b[1;32m    172\u001b[0m \u001b[38;5;66;03m# calls in the traceback and some print out the last line\u001b[39;00m\n\u001b[0;32m--> 173\u001b[0m \u001b[43mVariable\u001b[49m\u001b[38;5;241;43m.\u001b[39;49m\u001b[43m_execution_engine\u001b[49m\u001b[38;5;241;43m.\u001b[39;49m\u001b[43mrun_backward\u001b[49m\u001b[43m(\u001b[49m\u001b[43m  \u001b[49m\u001b[38;5;66;43;03m# Calls into the C++ engine to run the backward pass\u001b[39;49;00m\n\u001b[1;32m    174\u001b[0m \u001b[43m    \u001b[49m\u001b[43mtensors\u001b[49m\u001b[43m,\u001b[49m\u001b[43m \u001b[49m\u001b[43mgrad_tensors_\u001b[49m\u001b[43m,\u001b[49m\u001b[43m \u001b[49m\u001b[43mretain_graph\u001b[49m\u001b[43m,\u001b[49m\u001b[43m \u001b[49m\u001b[43mcreate_graph\u001b[49m\u001b[43m,\u001b[49m\u001b[43m \u001b[49m\u001b[43minputs\u001b[49m\u001b[43m,\u001b[49m\n\u001b[1;32m    175\u001b[0m \u001b[43m    \u001b[49m\u001b[43mallow_unreachable\u001b[49m\u001b[38;5;241;43m=\u001b[39;49m\u001b[38;5;28;43;01mTrue\u001b[39;49;00m\u001b[43m,\u001b[49m\u001b[43m \u001b[49m\u001b[43maccumulate_grad\u001b[49m\u001b[38;5;241;43m=\u001b[39;49m\u001b[38;5;28;43;01mTrue\u001b[39;49;00m\u001b[43m)\u001b[49m\n",
      "\u001b[0;31mKeyboardInterrupt\u001b[0m: "
     ]
    }
   ],
   "source": [
    "losses = []\n",
    "\n",
    "for epoch in range(1):\n",
    "    for idx, data in enumerate(tqdm(data_loader_train)):\n",
    "        \n",
    "        X, y, _ = data\n",
    "        X = X.long()\n",
    "\n",
    "        optimizer.zero_grad()  # Set gradients to 0 otherwise will accumulate\n",
    "\n",
    "        y_pred = fashion_rec_v1(X)\n",
    "        \n",
    "        loss = criterion(y_pred, y)  # Need index for loss in PyTorch\n",
    "\n",
    "        loss.backward()\n",
    "        \n",
    "        losses.append(loss.item())\n",
    "        \n",
    "        optimizer.step()      "
   ]
  },
  {
   "cell_type": "code",
   "execution_count": 261,
   "id": "97143291",
   "metadata": {},
   "outputs": [],
   "source": [
    "with torch.no_grad():\n",
    "    dev_logits = fashion_rec_v1(dev_padded_sequences[:100, :].long())"
   ]
  },
  {
   "cell_type": "code",
   "execution_count": 262,
   "id": "1dbf4c2f",
   "metadata": {},
   "outputs": [
    {
     "data": {
      "text/plain": [
       "tensor([[-1.0000, -1.0000,  0.9991,  ..., -1.0000, -1.0000, -1.0000],\n",
       "        [-1.0000, -1.0000,  0.9991,  ..., -1.0000, -1.0000, -1.0000],\n",
       "        [-1.0000, -1.0000,  0.9991,  ..., -1.0000, -1.0000, -1.0000],\n",
       "        ...,\n",
       "        [-1.0000, -1.0000,  0.9991,  ..., -1.0000, -1.0000, -1.0000],\n",
       "        [-1.0000, -1.0000,  0.9991,  ..., -1.0000, -1.0000, -1.0000],\n",
       "        [-1.0000, -1.0000,  0.9991,  ..., -1.0000, -1.0000, -1.0000]])"
      ]
     },
     "execution_count": 262,
     "metadata": {},
     "output_type": "execute_result"
    }
   ],
   "source": [
    "dev_logits"
   ]
  },
  {
   "cell_type": "code",
   "execution_count": 263,
   "id": "0a19196e",
   "metadata": {},
   "outputs": [
    {
     "name": "stdout",
     "output_type": "stream",
     "text": [
      "torch.Size([100, 12])\n"
     ]
    },
    {
     "data": {
      "text/plain": [
       "tensor([[53894,  1715,  1471,  ...,  2254, 42559, 45793],\n",
       "        [53894,  1715,  1471,  ...,  2254, 42559, 45793],\n",
       "        [53894,  1715,  1471,  ...,  2254, 42559, 45793],\n",
       "        ...,\n",
       "        [53894,  1715,  1471,  ...,  2254, 42559, 45793],\n",
       "        [53894,  1715,  1471,  ...,  2254, 42559, 45793],\n",
       "        [53894,  1715,  1471,  ...,  2254, 42559, 45793]])"
      ]
     },
     "execution_count": 263,
     "metadata": {},
     "output_type": "execute_result"
    }
   ],
   "source": [
    "dev_top_12_article_idx = dev_logits.argsort(dim=1, descending=True)[:, :12]\n",
    "print(dev_top_12_article_idx.shape)\n",
    "dev_top_12_article_idx"
   ]
  },
  {
   "cell_type": "code",
   "execution_count": 264,
   "id": "f30275b0",
   "metadata": {},
   "outputs": [],
   "source": [
    "dev_top_12_article_idx_list = dev_top_12_article_idx.tolist()"
   ]
  },
  {
   "cell_type": "code",
   "execution_count": 265,
   "id": "8ea31c64",
   "metadata": {},
   "outputs": [],
   "source": [
    "actuals = dev_df_by_customer.head(100)['actual_purchases'].tolist()"
   ]
  },
  {
   "cell_type": "code",
   "execution_count": 266,
   "id": "04e80518",
   "metadata": {},
   "outputs": [],
   "source": [
    "from fashion_recommendations.metrics.average_precision import mapk"
   ]
  },
  {
   "cell_type": "code",
   "execution_count": 267,
   "id": "dcbf581d",
   "metadata": {},
   "outputs": [
    {
     "data": {
      "text/plain": [
       "0.008035714285714287"
      ]
     },
     "execution_count": 267,
     "metadata": {},
     "output_type": "execute_result"
    }
   ],
   "source": [
    "mapk(actuals, dev_top_12_article_idx_list, k=12)"
   ]
  },
  {
   "cell_type": "markdown",
   "id": "25fd43c6",
   "metadata": {},
   "source": [
    "TODO:\n",
    "- Monitor dev MAP@k during training\n",
    "- Move to Colab"
   ]
  },
  {
   "cell_type": "code",
   "execution_count": null,
   "id": "2ce5a8e0",
   "metadata": {},
   "outputs": [],
   "source": []
  },
  {
   "cell_type": "code",
   "execution_count": null,
   "id": "2d9a54f8",
   "metadata": {},
   "outputs": [],
   "source": []
  },
  {
   "cell_type": "code",
   "execution_count": null,
   "id": "19f4bb52",
   "metadata": {},
   "outputs": [],
   "source": []
  },
  {
   "cell_type": "code",
   "execution_count": null,
   "id": "16f356ae",
   "metadata": {},
   "outputs": [],
   "source": []
  },
  {
   "cell_type": "code",
   "execution_count": null,
   "id": "d5379e6f",
   "metadata": {},
   "outputs": [],
   "source": []
  },
  {
   "cell_type": "code",
   "execution_count": null,
   "id": "baabba3a",
   "metadata": {},
   "outputs": [],
   "source": []
  },
  {
   "cell_type": "code",
   "execution_count": null,
   "id": "d6334b57",
   "metadata": {},
   "outputs": [],
   "source": []
  },
  {
   "cell_type": "code",
   "execution_count": null,
   "id": "4a328fcf",
   "metadata": {},
   "outputs": [],
   "source": []
  },
  {
   "cell_type": "code",
   "execution_count": null,
   "id": "78deaa6d",
   "metadata": {},
   "outputs": [],
   "source": []
  },
  {
   "cell_type": "code",
   "execution_count": null,
   "id": "823d13d8",
   "metadata": {},
   "outputs": [],
   "source": []
  },
  {
   "cell_type": "code",
   "execution_count": null,
   "id": "20452893",
   "metadata": {},
   "outputs": [],
   "source": []
  },
  {
   "cell_type": "code",
   "execution_count": null,
   "id": "2ccfc3e9",
   "metadata": {},
   "outputs": [],
   "source": []
  },
  {
   "cell_type": "code",
   "execution_count": null,
   "id": "8722c6dd",
   "metadata": {},
   "outputs": [],
   "source": []
  },
  {
   "cell_type": "markdown",
   "id": "56477666",
   "metadata": {},
   "source": [
    "Take sample of training examples"
   ]
  },
  {
   "cell_type": "code",
   "execution_count": 39,
   "id": "54cd1268",
   "metadata": {},
   "outputs": [
    {
     "data": {
      "text/plain": [
       "(15726381, 7)"
      ]
     },
     "execution_count": 39,
     "metadata": {},
     "output_type": "execute_result"
    }
   ],
   "source": [
    "train_df.shape"
   ]
  },
  {
   "cell_type": "code",
   "execution_count": 40,
   "id": "be4b48f0",
   "metadata": {},
   "outputs": [],
   "source": [
    "sample_customers = train_df[['customer_id']].drop_duplicates()['customer_id'].sample(n=10, random_state=3).to_list()"
   ]
  },
  {
   "cell_type": "code",
   "execution_count": 41,
   "id": "28f28168",
   "metadata": {},
   "outputs": [],
   "source": [
    "train_df = train_df.copy()[train_df['customer_id'].isin(sample_customers)]"
   ]
  },
  {
   "cell_type": "code",
   "execution_count": 42,
   "id": "ca1bf4f0",
   "metadata": {},
   "outputs": [
    {
     "data": {
      "text/plain": [
       "(124, 7)"
      ]
     },
     "execution_count": 42,
     "metadata": {},
     "output_type": "execute_result"
    }
   ],
   "source": [
    "train_df.shape"
   ]
  },
  {
   "cell_type": "code",
   "execution_count": 43,
   "id": "9efa591c",
   "metadata": {},
   "outputs": [
    {
     "data": {
      "text/html": [
       "<div>\n",
       "<style scoped>\n",
       "    .dataframe tbody tr th:only-of-type {\n",
       "        vertical-align: middle;\n",
       "    }\n",
       "\n",
       "    .dataframe tbody tr th {\n",
       "        vertical-align: top;\n",
       "    }\n",
       "\n",
       "    .dataframe thead th {\n",
       "        text-align: right;\n",
       "    }\n",
       "</style>\n",
       "<table border=\"1\" class=\"dataframe\">\n",
       "  <thead>\n",
       "    <tr style=\"text-align: right;\">\n",
       "      <th></th>\n",
       "      <th>t_dat</th>\n",
       "      <th>customer_id</th>\n",
       "      <th>article_id</th>\n",
       "      <th>price</th>\n",
       "      <th>sales_channel_id</th>\n",
       "      <th>label</th>\n",
       "      <th>article_id_idx</th>\n",
       "    </tr>\n",
       "  </thead>\n",
       "  <tbody>\n",
       "    <tr>\n",
       "      <th>26196</th>\n",
       "      <td>2020-03-18</td>\n",
       "      <td>003b9944273268bb0ae1586de5c51b9b01d7ece251cb33...</td>\n",
       "      <td>0884750001</td>\n",
       "      <td>0.025407</td>\n",
       "      <td>2.0</td>\n",
       "      <td>0.0</td>\n",
       "      <td>99484</td>\n",
       "    </tr>\n",
       "    <tr>\n",
       "      <th>26197</th>\n",
       "      <td>2020-03-18</td>\n",
       "      <td>003b9944273268bb0ae1586de5c51b9b01d7ece251cb33...</td>\n",
       "      <td>0884750001</td>\n",
       "      <td>0.025407</td>\n",
       "      <td>2.0</td>\n",
       "      <td>1.0</td>\n",
       "      <td>99484</td>\n",
       "    </tr>\n",
       "    <tr>\n",
       "      <th>2506551</th>\n",
       "      <td>2020-08-06</td>\n",
       "      <td>153352be7dad0fed65326a49096c896a39fbf01533ee11...</td>\n",
       "      <td>0737221009</td>\n",
       "      <td>0.016932</td>\n",
       "      <td>2.0</td>\n",
       "      <td>0.0</td>\n",
       "      <td>62746</td>\n",
       "    </tr>\n",
       "    <tr>\n",
       "      <th>2506552</th>\n",
       "      <td>2020-08-06</td>\n",
       "      <td>153352be7dad0fed65326a49096c896a39fbf01533ee11...</td>\n",
       "      <td>0757971006</td>\n",
       "      <td>0.022017</td>\n",
       "      <td>2.0</td>\n",
       "      <td>0.0</td>\n",
       "      <td>69725</td>\n",
       "    </tr>\n",
       "    <tr>\n",
       "      <th>2506553</th>\n",
       "      <td>2020-08-06</td>\n",
       "      <td>153352be7dad0fed65326a49096c896a39fbf01533ee11...</td>\n",
       "      <td>0737221011</td>\n",
       "      <td>0.016932</td>\n",
       "      <td>2.0</td>\n",
       "      <td>1.0</td>\n",
       "      <td>62748</td>\n",
       "    </tr>\n",
       "  </tbody>\n",
       "</table>\n",
       "</div>"
      ],
      "text/plain": [
       "             t_dat                                        customer_id  \\\n",
       "26196   2020-03-18  003b9944273268bb0ae1586de5c51b9b01d7ece251cb33...   \n",
       "26197   2020-03-18  003b9944273268bb0ae1586de5c51b9b01d7ece251cb33...   \n",
       "2506551 2020-08-06  153352be7dad0fed65326a49096c896a39fbf01533ee11...   \n",
       "2506552 2020-08-06  153352be7dad0fed65326a49096c896a39fbf01533ee11...   \n",
       "2506553 2020-08-06  153352be7dad0fed65326a49096c896a39fbf01533ee11...   \n",
       "\n",
       "         article_id     price  sales_channel_id  label  article_id_idx  \n",
       "26196    0884750001  0.025407               2.0    0.0           99484  \n",
       "26197    0884750001  0.025407               2.0    1.0           99484  \n",
       "2506551  0737221009  0.016932               2.0    0.0           62746  \n",
       "2506552  0757971006  0.022017               2.0    0.0           69725  \n",
       "2506553  0737221011  0.016932               2.0    1.0           62748  "
      ]
     },
     "execution_count": 43,
     "metadata": {},
     "output_type": "execute_result"
    }
   ],
   "source": [
    "train_df.head()"
   ]
  },
  {
   "cell_type": "markdown",
   "id": "db803e8e",
   "metadata": {},
   "source": [
    "If `customer_id` has purchases before label, these are the inputs for that customer.\n",
    "\n",
    "If `customer_id` has no purchases before label we give an input of `0`.\n",
    "\n",
    "Pad all inputs to a fixed length (for inference we can remove any items purchases which cause this length to be exceeded).\n",
    "\n",
    "During training create a padding mask and take mean over historical purchase embeddings."
   ]
  },
  {
   "cell_type": "code",
   "execution_count": 44,
   "id": "da49c81f",
   "metadata": {},
   "outputs": [
    {
     "data": {
      "text/html": [
       "<div>\n",
       "<style scoped>\n",
       "    .dataframe tbody tr th:only-of-type {\n",
       "        vertical-align: middle;\n",
       "    }\n",
       "\n",
       "    .dataframe tbody tr th {\n",
       "        vertical-align: top;\n",
       "    }\n",
       "\n",
       "    .dataframe thead th {\n",
       "        text-align: right;\n",
       "    }\n",
       "</style>\n",
       "<table border=\"1\" class=\"dataframe\">\n",
       "  <thead>\n",
       "    <tr style=\"text-align: right;\">\n",
       "      <th></th>\n",
       "      <th>customer_id</th>\n",
       "      <th>article_id_idx</th>\n",
       "    </tr>\n",
       "  </thead>\n",
       "  <tbody>\n",
       "    <tr>\n",
       "      <th>26197</th>\n",
       "      <td>003b9944273268bb0ae1586de5c51b9b01d7ece251cb33...</td>\n",
       "      <td>99484</td>\n",
       "    </tr>\n",
       "    <tr>\n",
       "      <th>2506553</th>\n",
       "      <td>153352be7dad0fed65326a49096c896a39fbf01533ee11...</td>\n",
       "      <td>62748</td>\n",
       "    </tr>\n",
       "    <tr>\n",
       "      <th>4919700</th>\n",
       "      <td>29a005aa7535c59257283be998b599c621e1f5f6a82e1b...</td>\n",
       "      <td>36731</td>\n",
       "    </tr>\n",
       "    <tr>\n",
       "      <th>5745091</th>\n",
       "      <td>309cb7c1c9f33c93d80bb36b3cc4cf05e83e66793595e2...</td>\n",
       "      <td>1038</td>\n",
       "    </tr>\n",
       "    <tr>\n",
       "      <th>10415238</th>\n",
       "      <td>58765ce1fcafeca8159795e574968951ec5ffea61f6f87...</td>\n",
       "      <td>88143</td>\n",
       "    </tr>\n",
       "    <tr>\n",
       "      <th>12092711</th>\n",
       "      <td>669e9d0aeabaca6013f1ecc9b41c1655e2cc141cb669a8...</td>\n",
       "      <td>93110</td>\n",
       "    </tr>\n",
       "    <tr>\n",
       "      <th>18994087</th>\n",
       "      <td>a10764c8e32ca80080271ae1fc50f8ff6277fed688e7c6...</td>\n",
       "      <td>10111</td>\n",
       "    </tr>\n",
       "    <tr>\n",
       "      <th>20034343</th>\n",
       "      <td>a9d7d074f31baed0800cdfe5235348bdd36953f953111a...</td>\n",
       "      <td>16019</td>\n",
       "    </tr>\n",
       "    <tr>\n",
       "      <th>23212247</th>\n",
       "      <td>c50109e9c7f19dc7453719111e0dce19edcc1e94cb52cd...</td>\n",
       "      <td>31296</td>\n",
       "    </tr>\n",
       "    <tr>\n",
       "      <th>25252049</th>\n",
       "      <td>d64668c89baf85da23f3c6426f889e926c30b0d9ab5d70...</td>\n",
       "      <td>61786</td>\n",
       "    </tr>\n",
       "  </tbody>\n",
       "</table>\n",
       "</div>"
      ],
      "text/plain": [
       "                                                customer_id  article_id_idx\n",
       "26197     003b9944273268bb0ae1586de5c51b9b01d7ece251cb33...           99484\n",
       "2506553   153352be7dad0fed65326a49096c896a39fbf01533ee11...           62748\n",
       "4919700   29a005aa7535c59257283be998b599c621e1f5f6a82e1b...           36731\n",
       "5745091   309cb7c1c9f33c93d80bb36b3cc4cf05e83e66793595e2...            1038\n",
       "10415238  58765ce1fcafeca8159795e574968951ec5ffea61f6f87...           88143\n",
       "12092711  669e9d0aeabaca6013f1ecc9b41c1655e2cc141cb669a8...           93110\n",
       "18994087  a10764c8e32ca80080271ae1fc50f8ff6277fed688e7c6...           10111\n",
       "20034343  a9d7d074f31baed0800cdfe5235348bdd36953f953111a...           16019\n",
       "23212247  c50109e9c7f19dc7453719111e0dce19edcc1e94cb52cd...           31296\n",
       "25252049  d64668c89baf85da23f3c6426f889e926c30b0d9ab5d70...           61786"
      ]
     },
     "execution_count": 44,
     "metadata": {},
     "output_type": "execute_result"
    }
   ],
   "source": [
    "labels = train_df.copy()[train_df['label'] == 1][['customer_id', 'article_id_idx']]\n",
    "labels"
   ]
  },
  {
   "cell_type": "code",
   "execution_count": 45,
   "id": "6e229bab",
   "metadata": {},
   "outputs": [
    {
     "data": {
      "text/html": [
       "<div>\n",
       "<style scoped>\n",
       "    .dataframe tbody tr th:only-of-type {\n",
       "        vertical-align: middle;\n",
       "    }\n",
       "\n",
       "    .dataframe tbody tr th {\n",
       "        vertical-align: top;\n",
       "    }\n",
       "\n",
       "    .dataframe thead th {\n",
       "        text-align: right;\n",
       "    }\n",
       "</style>\n",
       "<table border=\"1\" class=\"dataframe\">\n",
       "  <thead>\n",
       "    <tr style=\"text-align: right;\">\n",
       "      <th></th>\n",
       "      <th>customer_id</th>\n",
       "      <th>history</th>\n",
       "    </tr>\n",
       "  </thead>\n",
       "  <tbody>\n",
       "    <tr>\n",
       "      <th>0</th>\n",
       "      <td>003b9944273268bb0ae1586de5c51b9b01d7ece251cb33...</td>\n",
       "      <td>[99484, 99484]</td>\n",
       "    </tr>\n",
       "    <tr>\n",
       "      <th>1</th>\n",
       "      <td>153352be7dad0fed65326a49096c896a39fbf01533ee11...</td>\n",
       "      <td>[62746, 69725, 62748]</td>\n",
       "    </tr>\n",
       "    <tr>\n",
       "      <th>2</th>\n",
       "      <td>29a005aa7535c59257283be998b599c621e1f5f6a82e1b...</td>\n",
       "      <td>[8592, 8592, 21363, 16906, 48232, 22759, 40260...</td>\n",
       "    </tr>\n",
       "    <tr>\n",
       "      <th>3</th>\n",
       "      <td>309cb7c1c9f33c93d80bb36b3cc4cf05e83e66793595e2...</td>\n",
       "      <td>[42480, 42480, 7407, 130, 29099, 11566, 39599,...</td>\n",
       "    </tr>\n",
       "    <tr>\n",
       "      <th>4</th>\n",
       "      <td>58765ce1fcafeca8159795e574968951ec5ffea61f6f87...</td>\n",
       "      <td>[88143]</td>\n",
       "    </tr>\n",
       "    <tr>\n",
       "      <th>5</th>\n",
       "      <td>669e9d0aeabaca6013f1ecc9b41c1655e2cc141cb669a8...</td>\n",
       "      <td>[54145, 47083, 53773, 62534, 50659, 44622, 258...</td>\n",
       "    </tr>\n",
       "    <tr>\n",
       "      <th>6</th>\n",
       "      <td>a10764c8e32ca80080271ae1fc50f8ff6277fed688e7c6...</td>\n",
       "      <td>[67031, 37239, 41098, 67460, 10111]</td>\n",
       "    </tr>\n",
       "    <tr>\n",
       "      <th>7</th>\n",
       "      <td>a9d7d074f31baed0800cdfe5235348bdd36953f953111a...</td>\n",
       "      <td>[16019]</td>\n",
       "    </tr>\n",
       "    <tr>\n",
       "      <th>8</th>\n",
       "      <td>c50109e9c7f19dc7453719111e0dce19edcc1e94cb52cd...</td>\n",
       "      <td>[3725, 4223, 16720, 25838, 4724, 42385, 45569,...</td>\n",
       "    </tr>\n",
       "    <tr>\n",
       "      <th>9</th>\n",
       "      <td>d64668c89baf85da23f3c6426f889e926c30b0d9ab5d70...</td>\n",
       "      <td>[61786]</td>\n",
       "    </tr>\n",
       "  </tbody>\n",
       "</table>\n",
       "</div>"
      ],
      "text/plain": [
       "                                         customer_id  \\\n",
       "0  003b9944273268bb0ae1586de5c51b9b01d7ece251cb33...   \n",
       "1  153352be7dad0fed65326a49096c896a39fbf01533ee11...   \n",
       "2  29a005aa7535c59257283be998b599c621e1f5f6a82e1b...   \n",
       "3  309cb7c1c9f33c93d80bb36b3cc4cf05e83e66793595e2...   \n",
       "4  58765ce1fcafeca8159795e574968951ec5ffea61f6f87...   \n",
       "5  669e9d0aeabaca6013f1ecc9b41c1655e2cc141cb669a8...   \n",
       "6  a10764c8e32ca80080271ae1fc50f8ff6277fed688e7c6...   \n",
       "7  a9d7d074f31baed0800cdfe5235348bdd36953f953111a...   \n",
       "8  c50109e9c7f19dc7453719111e0dce19edcc1e94cb52cd...   \n",
       "9  d64668c89baf85da23f3c6426f889e926c30b0d9ab5d70...   \n",
       "\n",
       "                                             history  \n",
       "0                                     [99484, 99484]  \n",
       "1                              [62746, 69725, 62748]  \n",
       "2  [8592, 8592, 21363, 16906, 48232, 22759, 40260...  \n",
       "3  [42480, 42480, 7407, 130, 29099, 11566, 39599,...  \n",
       "4                                            [88143]  \n",
       "5  [54145, 47083, 53773, 62534, 50659, 44622, 258...  \n",
       "6                [67031, 37239, 41098, 67460, 10111]  \n",
       "7                                            [16019]  \n",
       "8  [3725, 4223, 16720, 25838, 4724, 42385, 45569,...  \n",
       "9                                            [61786]  "
      ]
     },
     "execution_count": 45,
     "metadata": {},
     "output_type": "execute_result"
    }
   ],
   "source": [
    "historical_purchases = train_df.groupby('customer_id')['article_id_idx'].apply(lambda x: list(x)).reset_index().rename(columns={'article_id_idx': 'history'})\n",
    "historical_purchases"
   ]
  },
  {
   "cell_type": "code",
   "execution_count": 46,
   "id": "c77c0fcd",
   "metadata": {},
   "outputs": [
    {
     "data": {
      "text/html": [
       "<div>\n",
       "<style scoped>\n",
       "    .dataframe tbody tr th:only-of-type {\n",
       "        vertical-align: middle;\n",
       "    }\n",
       "\n",
       "    .dataframe tbody tr th {\n",
       "        vertical-align: top;\n",
       "    }\n",
       "\n",
       "    .dataframe thead th {\n",
       "        text-align: right;\n",
       "    }\n",
       "</style>\n",
       "<table border=\"1\" class=\"dataframe\">\n",
       "  <thead>\n",
       "    <tr style=\"text-align: right;\">\n",
       "      <th></th>\n",
       "      <th>customer_id</th>\n",
       "      <th>history</th>\n",
       "      <th>article_id_idx</th>\n",
       "    </tr>\n",
       "  </thead>\n",
       "  <tbody>\n",
       "    <tr>\n",
       "      <th>0</th>\n",
       "      <td>003b9944273268bb0ae1586de5c51b9b01d7ece251cb33...</td>\n",
       "      <td>[99484, 99484]</td>\n",
       "      <td>99484</td>\n",
       "    </tr>\n",
       "    <tr>\n",
       "      <th>1</th>\n",
       "      <td>153352be7dad0fed65326a49096c896a39fbf01533ee11...</td>\n",
       "      <td>[62746, 69725, 62748]</td>\n",
       "      <td>62748</td>\n",
       "    </tr>\n",
       "    <tr>\n",
       "      <th>2</th>\n",
       "      <td>29a005aa7535c59257283be998b599c621e1f5f6a82e1b...</td>\n",
       "      <td>[8592, 8592, 21363, 16906, 48232, 22759, 40260...</td>\n",
       "      <td>36731</td>\n",
       "    </tr>\n",
       "    <tr>\n",
       "      <th>3</th>\n",
       "      <td>309cb7c1c9f33c93d80bb36b3cc4cf05e83e66793595e2...</td>\n",
       "      <td>[42480, 42480, 7407, 130, 29099, 11566, 39599,...</td>\n",
       "      <td>1038</td>\n",
       "    </tr>\n",
       "    <tr>\n",
       "      <th>4</th>\n",
       "      <td>58765ce1fcafeca8159795e574968951ec5ffea61f6f87...</td>\n",
       "      <td>[88143]</td>\n",
       "      <td>88143</td>\n",
       "    </tr>\n",
       "    <tr>\n",
       "      <th>5</th>\n",
       "      <td>669e9d0aeabaca6013f1ecc9b41c1655e2cc141cb669a8...</td>\n",
       "      <td>[54145, 47083, 53773, 62534, 50659, 44622, 258...</td>\n",
       "      <td>93110</td>\n",
       "    </tr>\n",
       "    <tr>\n",
       "      <th>6</th>\n",
       "      <td>a10764c8e32ca80080271ae1fc50f8ff6277fed688e7c6...</td>\n",
       "      <td>[67031, 37239, 41098, 67460, 10111]</td>\n",
       "      <td>10111</td>\n",
       "    </tr>\n",
       "    <tr>\n",
       "      <th>7</th>\n",
       "      <td>a9d7d074f31baed0800cdfe5235348bdd36953f953111a...</td>\n",
       "      <td>[16019]</td>\n",
       "      <td>16019</td>\n",
       "    </tr>\n",
       "    <tr>\n",
       "      <th>8</th>\n",
       "      <td>c50109e9c7f19dc7453719111e0dce19edcc1e94cb52cd...</td>\n",
       "      <td>[3725, 4223, 16720, 25838, 4724, 42385, 45569,...</td>\n",
       "      <td>31296</td>\n",
       "    </tr>\n",
       "    <tr>\n",
       "      <th>9</th>\n",
       "      <td>d64668c89baf85da23f3c6426f889e926c30b0d9ab5d70...</td>\n",
       "      <td>[61786]</td>\n",
       "      <td>61786</td>\n",
       "    </tr>\n",
       "  </tbody>\n",
       "</table>\n",
       "</div>"
      ],
      "text/plain": [
       "                                         customer_id  \\\n",
       "0  003b9944273268bb0ae1586de5c51b9b01d7ece251cb33...   \n",
       "1  153352be7dad0fed65326a49096c896a39fbf01533ee11...   \n",
       "2  29a005aa7535c59257283be998b599c621e1f5f6a82e1b...   \n",
       "3  309cb7c1c9f33c93d80bb36b3cc4cf05e83e66793595e2...   \n",
       "4  58765ce1fcafeca8159795e574968951ec5ffea61f6f87...   \n",
       "5  669e9d0aeabaca6013f1ecc9b41c1655e2cc141cb669a8...   \n",
       "6  a10764c8e32ca80080271ae1fc50f8ff6277fed688e7c6...   \n",
       "7  a9d7d074f31baed0800cdfe5235348bdd36953f953111a...   \n",
       "8  c50109e9c7f19dc7453719111e0dce19edcc1e94cb52cd...   \n",
       "9  d64668c89baf85da23f3c6426f889e926c30b0d9ab5d70...   \n",
       "\n",
       "                                             history  article_id_idx  \n",
       "0                                     [99484, 99484]           99484  \n",
       "1                              [62746, 69725, 62748]           62748  \n",
       "2  [8592, 8592, 21363, 16906, 48232, 22759, 40260...           36731  \n",
       "3  [42480, 42480, 7407, 130, 29099, 11566, 39599,...            1038  \n",
       "4                                            [88143]           88143  \n",
       "5  [54145, 47083, 53773, 62534, 50659, 44622, 258...           93110  \n",
       "6                [67031, 37239, 41098, 67460, 10111]           10111  \n",
       "7                                            [16019]           16019  \n",
       "8  [3725, 4223, 16720, 25838, 4724, 42385, 45569,...           31296  \n",
       "9                                            [61786]           61786  "
      ]
     },
     "execution_count": 46,
     "metadata": {},
     "output_type": "execute_result"
    }
   ],
   "source": [
    "combined = historical_purchases.merge(labels, on='customer_id')\n",
    "combined"
   ]
  },
  {
   "cell_type": "code",
   "execution_count": 47,
   "id": "10a4831e",
   "metadata": {},
   "outputs": [
    {
     "data": {
      "text/plain": [
       "[tensor([99484, 99484]),\n",
       " tensor([62746, 69725, 62748]),\n",
       " tensor([ 8592,  8592, 21363, 16906, 48232, 22759, 40260, 28243, 28243, 30890,\n",
       "         30890, 30890,  3034,  3034,  3034, 24372, 44233, 36756, 23068, 13735,\n",
       "         13735, 45792, 45792, 45792, 61684, 61684, 57850, 57850, 57850, 45795,\n",
       "         45795, 22642, 45797, 45797, 57846, 57846, 13737, 45793, 57850, 58693,\n",
       "         40523,  2228,  2228, 59272, 34110, 43697, 79680, 43471, 74510, 47927,\n",
       "         22003, 75440, 75440, 36731]),\n",
       " tensor([42480, 42480,  7407,   130, 29099, 11566, 39599, 13824, 19431, 22182,\n",
       "         17282, 13800,  1038]),\n",
       " tensor([88143]),\n",
       " tensor([ 54145,  47083,  53773,  62534,  50659,  44622,  25893,  53547,  65751,\n",
       "          53774,  43963,  54144,  25891,  44505,  45017,  35319,  54295,  55325,\n",
       "          50658,  83214,  79011,  94326,  84905,  93213,  99018,  99018, 102026,\n",
       "          94370,  94376,  99706,  93110]),\n",
       " tensor([67031, 37239, 41098, 67460, 10111]),\n",
       " tensor([16019]),\n",
       " tensor([ 3725,  4223, 16720, 25838,  4724, 42385, 45569, 78806, 28381, 86786,\n",
       "         84824, 92682, 31296]),\n",
       " tensor([61786])]"
      ]
     },
     "execution_count": 47,
     "metadata": {},
     "output_type": "execute_result"
    }
   ],
   "source": [
    "sequences = [torch.tensor(l) for l in combined['history'].values.tolist()]\n",
    "sequences"
   ]
  },
  {
   "cell_type": "code",
   "execution_count": 48,
   "id": "1583974e",
   "metadata": {},
   "outputs": [],
   "source": [
    "from torch.nn.utils.rnn import pad_sequence"
   ]
  },
  {
   "cell_type": "code",
   "execution_count": 46,
   "id": "f512efa9",
   "metadata": {},
   "outputs": [],
   "source": [
    "PADDING_VALUE = 0\n",
    "\n",
    "x = torch.ones((20, 54)) * PADDING_VALUE"
   ]
  },
  {
   "cell_type": "code",
   "execution_count": 47,
   "id": "604fadeb",
   "metadata": {},
   "outputs": [],
   "source": [
    "x[:, 0] = 1"
   ]
  },
  {
   "cell_type": "code",
   "execution_count": 48,
   "id": "5ee1b915",
   "metadata": {},
   "outputs": [
    {
     "data": {
      "text/plain": [
       "tensor([[1., 0., 0.,  ..., 0., 0., 0.],\n",
       "        [1., 0., 0.,  ..., 0., 0., 0.],\n",
       "        [1., 0., 0.,  ..., 0., 0., 0.],\n",
       "        ...,\n",
       "        [1., 0., 0.,  ..., 0., 0., 0.],\n",
       "        [1., 0., 0.,  ..., 0., 0., 0.],\n",
       "        [1., 0., 0.,  ..., 0., 0., 0.]])"
      ]
     },
     "execution_count": 48,
     "metadata": {},
     "output_type": "execute_result"
    }
   ],
   "source": [
    "x"
   ]
  },
  {
   "cell_type": "code",
   "execution_count": 50,
   "id": "0663d30d",
   "metadata": {},
   "outputs": [
    {
     "data": {
      "text/plain": [
       "torch.Size([40, 54])"
      ]
     },
     "execution_count": 50,
     "metadata": {},
     "output_type": "execute_result"
    }
   ],
   "source": [
    "torch.concat([x, x], dim=0).shape"
   ]
  },
  {
   "cell_type": "code",
   "execution_count": null,
   "id": "5e0751cc",
   "metadata": {},
   "outputs": [],
   "source": []
  },
  {
   "cell_type": "code",
   "execution_count": null,
   "id": "9fd85f59",
   "metadata": {},
   "outputs": [],
   "source": []
  },
  {
   "cell_type": "code",
   "execution_count": 49,
   "id": "e53a3aac",
   "metadata": {},
   "outputs": [
    {
     "data": {
      "text/plain": [
       "torch.Size([10, 54])"
      ]
     },
     "execution_count": 49,
     "metadata": {},
     "output_type": "execute_result"
    }
   ],
   "source": [
    "PADDING_VALUE = 0\n",
    "\n",
    "padded_sequences = pad_sequence(sequences, batch_first=True, padding_value=PADDING_VALUE)\n",
    "padded_sequences.shape"
   ]
  },
  {
   "cell_type": "code",
   "execution_count": 50,
   "id": "5d71e1cf",
   "metadata": {},
   "outputs": [
    {
     "data": {
      "text/plain": [
       "torch.Size([10])"
      ]
     },
     "execution_count": 50,
     "metadata": {},
     "output_type": "execute_result"
    }
   ],
   "source": [
    "labels_tensor = torch.tensor(combined['article_id_idx'].values.tolist())\n",
    "labels_tensor.shape"
   ]
  },
  {
   "cell_type": "code",
   "execution_count": 137,
   "id": "2c07922a",
   "metadata": {},
   "outputs": [
    {
     "data": {
      "text/plain": [
       "105542"
      ]
     },
     "execution_count": 137,
     "metadata": {},
     "output_type": "execute_result"
    }
   ],
   "source": [
    "len(article_id_to_idx)"
   ]
  },
  {
   "cell_type": "code",
   "execution_count": 138,
   "id": "50856d65",
   "metadata": {},
   "outputs": [],
   "source": [
    "embedding = nn.Embedding(num_embeddings=len(article_id_to_idx), embedding_dim=5, padding_idx=PADDING_VALUE)"
   ]
  },
  {
   "cell_type": "code",
   "execution_count": 139,
   "id": "19002cf8",
   "metadata": {},
   "outputs": [
    {
     "data": {
      "text/plain": [
       "torch.Size([10, 54, 5])"
      ]
     },
     "execution_count": 139,
     "metadata": {},
     "output_type": "execute_result"
    }
   ],
   "source": [
    "x = embedding(padded_sequences)\n",
    "x.shape"
   ]
  },
  {
   "cell_type": "code",
   "execution_count": 140,
   "id": "dafa6b0b",
   "metadata": {},
   "outputs": [
    {
     "data": {
      "text/plain": [
       "torch.Size([10, 54])"
      ]
     },
     "execution_count": 140,
     "metadata": {},
     "output_type": "execute_result"
    }
   ],
   "source": [
    "mask = padded_sequences != 0\n",
    "mask.shape"
   ]
  },
  {
   "cell_type": "code",
   "execution_count": 141,
   "id": "b74944af",
   "metadata": {},
   "outputs": [
    {
     "data": {
      "text/plain": [
       "torch.Size([10, 54, 1])"
      ]
     },
     "execution_count": 141,
     "metadata": {},
     "output_type": "execute_result"
    }
   ],
   "source": [
    "mask = torch.unsqueeze(mask, dim=2)\n",
    "mask.shape"
   ]
  },
  {
   "cell_type": "code",
   "execution_count": 142,
   "id": "bd52878b",
   "metadata": {},
   "outputs": [
    {
     "data": {
      "text/plain": [
       "torch.Size([10, 54, 5])"
      ]
     },
     "execution_count": 142,
     "metadata": {},
     "output_type": "execute_result"
    }
   ],
   "source": [
    "mask = mask.repeat(1, 1, 5)\n",
    "mask.shape"
   ]
  },
  {
   "cell_type": "code",
   "execution_count": 143,
   "id": "1deb2932",
   "metadata": {},
   "outputs": [
    {
     "data": {
      "text/plain": [
       "torch.Size([10, 54, 5])"
      ]
     },
     "execution_count": 143,
     "metadata": {},
     "output_type": "execute_result"
    }
   ],
   "source": [
    "x = mask * x\n",
    "x.shape"
   ]
  },
  {
   "cell_type": "code",
   "execution_count": 144,
   "id": "a9d0a177",
   "metadata": {},
   "outputs": [
    {
     "data": {
      "text/plain": [
       "torch.Size([10, 5])"
      ]
     },
     "execution_count": 144,
     "metadata": {},
     "output_type": "execute_result"
    }
   ],
   "source": [
    "x = x.sum(dim=1)\n",
    "x.shape"
   ]
  },
  {
   "cell_type": "code",
   "execution_count": 145,
   "id": "9a524558",
   "metadata": {},
   "outputs": [
    {
     "data": {
      "text/plain": [
       "tensor([[ 2],\n",
       "        [ 3],\n",
       "        [54],\n",
       "        [13],\n",
       "        [ 1],\n",
       "        [31],\n",
       "        [ 5],\n",
       "        [ 1],\n",
       "        [13],\n",
       "        [ 1]])"
      ]
     },
     "execution_count": 145,
     "metadata": {},
     "output_type": "execute_result"
    }
   ],
   "source": [
    "num_embeddings = mask[:, :, 0].sum(dim=1).reshape(-1, 1)\n",
    "num_embeddings"
   ]
  },
  {
   "cell_type": "code",
   "execution_count": 146,
   "id": "7c6edbfd",
   "metadata": {},
   "outputs": [
    {
     "data": {
      "text/plain": [
       "torch.Size([10, 5])"
      ]
     },
     "execution_count": 146,
     "metadata": {},
     "output_type": "execute_result"
    }
   ],
   "source": [
    "# Divide by number of (non-padding) embeddings to get mean embedding\n",
    "x = torch.div(\n",
    "    x, \n",
    "    num_embeddings\n",
    ")\n",
    "x.shape"
   ]
  },
  {
   "cell_type": "code",
   "execution_count": 148,
   "id": "85380c7f",
   "metadata": {},
   "outputs": [
    {
     "data": {
      "text/plain": [
       "tensor([[-0.6357, -1.7933, -0.2005,  0.5743,  0.5712],\n",
       "        [ 0.2403,  0.2913, -0.7017,  0.0430, -0.0364],\n",
       "        [ 0.2085,  0.2021, -0.3339,  0.0913,  0.1031],\n",
       "        [ 0.7454,  0.3456,  0.1706, -0.1254, -0.5056],\n",
       "        [ 1.6709, -1.0495,  0.1992, -0.5639, -2.3281],\n",
       "        [-0.0711, -0.1460,  0.1410,  0.1145,  0.1643],\n",
       "        [ 0.0271, -0.1231,  0.2741, -0.3421, -0.2489],\n",
       "        [ 0.1726,  0.2074, -2.0166,  0.3091, -0.6436],\n",
       "        [ 0.2648,  0.1692,  0.2662,  0.0776, -0.0558],\n",
       "        [-0.9304,  0.0221, -1.4261,  0.2721,  0.7763]], grad_fn=<DivBackward0>)"
      ]
     },
     "execution_count": 148,
     "metadata": {},
     "output_type": "execute_result"
    }
   ],
   "source": [
    "x"
   ]
  },
  {
   "cell_type": "code",
   "execution_count": null,
   "id": "b02fa267",
   "metadata": {},
   "outputs": [],
   "source": []
  },
  {
   "cell_type": "code",
   "execution_count": 51,
   "id": "aee761b7",
   "metadata": {},
   "outputs": [],
   "source": [
    "class FashionRecv1(nn.Module):\n",
    "\n",
    "    def __init__(self, mask_value, embedding_dim):\n",
    "        super(FashionRecv1, self).__init__()\n",
    "        \n",
    "        self.embedding_dim = embedding_dim\n",
    "        \n",
    "        self.embedding = nn.Embedding(num_embeddings=len(article_id_to_idx), embedding_dim=self.embedding_dim)\n",
    "        \n",
    "        self.fc_1 = nn.Linear(in_features=self.embedding_dim, out_features=11)\n",
    "        \n",
    "        self.fc_2 = nn.Linear(in_features=11, out_features=len(article_id_to_idx))\n",
    "        \n",
    "        self.relu = nn.ReLU()\n",
    "        \n",
    "        self.mask_value = mask_value\n",
    "\n",
    "    def forward(self, padded_sequences):\n",
    "        \n",
    "        x = self.embedding(padded_sequences)\n",
    "\n",
    "        mask = padded_sequences != self.mask_value\n",
    "        \n",
    "        # Repeat mask so that shape matches output of embedding\n",
    "        mask = torch.unsqueeze(mask, dim=2)\n",
    "        mask = mask.repeat(1, 1, self.embedding_dim)\n",
    "\n",
    "        x = mask * x\n",
    "        \n",
    "        # Compute average over non-padding embeddings:\n",
    "        x = x.sum(dim=1)\n",
    "        num_embeddings = mask[:, :, 0].sum(dim=1).reshape(-1, 1)  # Divide by number of (non-padding) embeddings to get mean embedding\n",
    "\n",
    "        x = torch.div(\n",
    "            x, \n",
    "            num_embeddings\n",
    "        )\n",
    "\n",
    "        x = self.fc_1(x)\n",
    "        x = self.relu(x)\n",
    "        \n",
    "        x = self.fc_2(x)\n",
    "        x = self.relu(x)\n",
    "        \n",
    "        return x"
   ]
  },
  {
   "cell_type": "code",
   "execution_count": 99,
   "id": "4803be83",
   "metadata": {},
   "outputs": [],
   "source": [
    "fashion_rec_v1 = FashionRecv1(mask_value=PADDING_VALUE, embedding_dim=100)"
   ]
  },
  {
   "cell_type": "code",
   "execution_count": 100,
   "id": "d09c133e",
   "metadata": {},
   "outputs": [],
   "source": [
    "criterion = nn.CrossEntropyLoss()\n",
    "optimizer = torch.optim.Adam(params=fashion_rec_v1.parameters(), lr=0.1)"
   ]
  },
  {
   "cell_type": "code",
   "execution_count": 101,
   "id": "1e14c11b",
   "metadata": {},
   "outputs": [
    {
     "data": {
      "text/plain": [
       "tensor([[1, 2, 3, 0, 0, 0, 0],\n",
       "        [2, 1, 1, 3, 0, 0, 0]])"
      ]
     },
     "execution_count": 101,
     "metadata": {},
     "output_type": "execute_result"
    }
   ],
   "source": [
    "padded_sequences_basic = torch.tensor(\n",
    "    [[1, 2, 3, 0, 0, 0, 0], [2, 1, 1, 3, 0, 0, 0]]\n",
    ")\n",
    "\n",
    "padded_sequences_basic"
   ]
  },
  {
   "cell_type": "code",
   "execution_count": 102,
   "id": "9600adc1",
   "metadata": {},
   "outputs": [
    {
     "data": {
      "text/plain": [
       "tensor([3, 2])"
      ]
     },
     "execution_count": 102,
     "metadata": {},
     "output_type": "execute_result"
    }
   ],
   "source": [
    "labels_tensor_basic = torch.tensor([3, 2])\n",
    "labels_tensor_basic"
   ]
  },
  {
   "cell_type": "code",
   "execution_count": 103,
   "id": "67410c23",
   "metadata": {},
   "outputs": [
    {
     "name": "stdout",
     "output_type": "stream",
     "text": [
      "11.549995422363281\n",
      "9.136945300269872e-05\n",
      "6.842378934379667e-05\n",
      "5.251031325315125e-05\n",
      "4.0649541915627196e-05\n",
      "3.194758028257638e-05\n",
      "2.557006519054994e-05\n",
      "2.0801804566872306e-05\n",
      "1.7165990357170813e-05\n",
      "1.4364615708473139e-05\n"
     ]
    }
   ],
   "source": [
    "loss_list = []\n",
    "\n",
    "for idx, epoch in enumerate(range(1000)):\n",
    "\n",
    "    optimizer.zero_grad()  # Set gradients to 0 otherwise will accumulate\n",
    "\n",
    "#     y_pred = fashion_rec_v1(padded_sequences)\n",
    "\n",
    "#     loss = criterion(y_pred, labels_tensor)  # Need index for loss in PyTorch\n",
    "\n",
    "    y_pred = fashion_rec_v1(padded_sequences_basic)\n",
    "\n",
    "    loss = criterion(y_pred, labels_tensor_basic)  # Need index for loss in PyTorch\n",
    "    \n",
    "    loss.backward()\n",
    "    \n",
    "    if idx % 100 == 0:\n",
    "        print(loss.item())\n",
    "        \n",
    "    loss_list.append(loss.item())\n",
    "\n",
    "    optimizer.step()"
   ]
  },
  {
   "cell_type": "code",
   "execution_count": 104,
   "id": "6944e00e",
   "metadata": {},
   "outputs": [
    {
     "data": {
      "text/plain": [
       "[<matplotlib.lines.Line2D at 0x7fa50e2a3ee0>]"
      ]
     },
     "execution_count": 104,
     "metadata": {},
     "output_type": "execute_result"
    },
    {
     "data": {
      "image/png": "[encoded data removed]",
      "text/plain": [
       "<Figure size 432x288 with 1 Axes>"
      ]
     },
     "metadata": {
      "needs_background": "light"
     },
     "output_type": "display_data"
    }
   ],
   "source": [
    "plt.plot(loss_list)"
   ]
  },
  {
   "cell_type": "code",
   "execution_count": null,
   "id": "abff3bea",
   "metadata": {},
   "outputs": [],
   "source": []
  }
 ],
 "metadata": {
  "kernelspec": {
   "display_name": "Python 3 (ipykernel)",
   "language": "python",
   "name": "python3"
  },
  "language_info": {
   "codemirror_mode": {
    "name": "ipython",
    "version": 3
   },
   "file_extension": ".py",
   "mimetype": "text/x-python",
   "name": "python",
   "nbconvert_exporter": "python",
   "pygments_lexer": "ipython3",
   "version": "3.8.12"
  }
 },
 "nbformat": 4,
 "nbformat_minor": 5
}
