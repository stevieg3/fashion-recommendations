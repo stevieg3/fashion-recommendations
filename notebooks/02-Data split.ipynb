{
 "cells": [
  {
   "cell_type": "markdown",
   "id": "7ef60758",
   "metadata": {},
   "source": [
    "Evaluation set is \"predicted items a customer will buy in the next 7-day period after the training time period\".\n",
    "\n",
    "Given this we will use a _global temporal_ split: a fixed time-point that is shared across all users, where any interactions after that point are used for testing.\n",
    "\n",
    "We will take the last 7-day period as a test set and the 7-day period before that as validation.\n",
    "\n",
    "~2% of users in the sample submission are not in the training set (cold-start users). We check that our splits have similar proportions of cold-start users. Note however that these customers may not have necessarily made purchases."
   ]
  },
  {
   "cell_type": "code",
   "execution_count": 1,
   "id": "5b461fa9",
   "metadata": {},
   "outputs": [],
   "source": [
    "import os\n",
    "import datetime\n",
    "\n",
    "import pandas as pd\n",
    "import numpy as np"
   ]
  },
  {
   "cell_type": "code",
   "execution_count": 2,
   "id": "7e6ddfd3",
   "metadata": {},
   "outputs": [],
   "source": [
    "os.chdir('..')"
   ]
  },
  {
   "cell_type": "code",
   "execution_count": 3,
   "id": "738933d0",
   "metadata": {},
   "outputs": [
    {
     "name": "stdout",
     "output_type": "stream",
     "text": [
      "(30647963, 5)\n"
     ]
    },
    {
     "data": {
      "text/html": [
       "<div>\n",
       "<style scoped>\n",
       "    .dataframe tbody tr th:only-of-type {\n",
       "        vertical-align: middle;\n",
       "    }\n",
       "\n",
       "    .dataframe tbody tr th {\n",
       "        vertical-align: top;\n",
       "    }\n",
       "\n",
       "    .dataframe thead th {\n",
       "        text-align: right;\n",
       "    }\n",
       "</style>\n",
       "<table border=\"1\" class=\"dataframe\">\n",
       "  <thead>\n",
       "    <tr style=\"text-align: right;\">\n",
       "      <th></th>\n",
       "      <th>t_dat</th>\n",
       "      <th>customer_id</th>\n",
       "      <th>article_id</th>\n",
       "      <th>price</th>\n",
       "      <th>sales_channel_id</th>\n",
       "    </tr>\n",
       "  </thead>\n",
       "  <tbody>\n",
       "    <tr>\n",
       "      <th>0</th>\n",
       "      <td>2018-09-20</td>\n",
       "      <td>000058a12d5b43e67d225668fa1f8d618c13dc232df0ca...</td>\n",
       "      <td>0663713001</td>\n",
       "      <td>0.050831</td>\n",
       "      <td>2.0</td>\n",
       "    </tr>\n",
       "    <tr>\n",
       "      <th>1</th>\n",
       "      <td>2018-09-20</td>\n",
       "      <td>000058a12d5b43e67d225668fa1f8d618c13dc232df0ca...</td>\n",
       "      <td>0541518023</td>\n",
       "      <td>0.030492</td>\n",
       "      <td>2.0</td>\n",
       "    </tr>\n",
       "    <tr>\n",
       "      <th>2</th>\n",
       "      <td>2018-09-20</td>\n",
       "      <td>00007d2de826758b65a93dd24ce629ed66842531df6699...</td>\n",
       "      <td>0505221004</td>\n",
       "      <td>0.015237</td>\n",
       "      <td>2.0</td>\n",
       "    </tr>\n",
       "    <tr>\n",
       "      <th>3</th>\n",
       "      <td>2018-09-20</td>\n",
       "      <td>00007d2de826758b65a93dd24ce629ed66842531df6699...</td>\n",
       "      <td>0685687003</td>\n",
       "      <td>0.016932</td>\n",
       "      <td>2.0</td>\n",
       "    </tr>\n",
       "    <tr>\n",
       "      <th>4</th>\n",
       "      <td>2018-09-20</td>\n",
       "      <td>00007d2de826758b65a93dd24ce629ed66842531df6699...</td>\n",
       "      <td>0685687004</td>\n",
       "      <td>0.016932</td>\n",
       "      <td>2.0</td>\n",
       "    </tr>\n",
       "  </tbody>\n",
       "</table>\n",
       "</div>"
      ],
      "text/plain": [
       "        t_dat                                        customer_id  article_id  \\\n",
       "0  2018-09-20  000058a12d5b43e67d225668fa1f8d618c13dc232df0ca...  0663713001   \n",
       "1  2018-09-20  000058a12d5b43e67d225668fa1f8d618c13dc232df0ca...  0541518023   \n",
       "2  2018-09-20  00007d2de826758b65a93dd24ce629ed66842531df6699...  0505221004   \n",
       "3  2018-09-20  00007d2de826758b65a93dd24ce629ed66842531df6699...  0685687003   \n",
       "4  2018-09-20  00007d2de826758b65a93dd24ce629ed66842531df6699...  0685687004   \n",
       "\n",
       "      price  sales_channel_id  \n",
       "0  0.050831               2.0  \n",
       "1  0.030492               2.0  \n",
       "2  0.015237               2.0  \n",
       "3  0.016932               2.0  \n",
       "4  0.016932               2.0  "
      ]
     },
     "execution_count": 3,
     "metadata": {},
     "output_type": "execute_result"
    }
   ],
   "source": [
    "transactions_train_df = pd.read_csv('data/transactions_train.csv', dtype={'article_id': str})  # Make sure article_id is being loading in as a string\n",
    "print(transactions_train_df.shape)\n",
    "transactions_train_df.head()"
   ]
  },
  {
   "cell_type": "code",
   "execution_count": 4,
   "id": "ff43ce5f",
   "metadata": {},
   "outputs": [],
   "source": [
    "transactions_train_df['t_dat'] = pd.to_datetime(transactions_train_df['t_dat'])"
   ]
  },
  {
   "cell_type": "code",
   "execution_count": 5,
   "id": "c67f8c6b",
   "metadata": {},
   "outputs": [
    {
     "data": {
      "text/plain": [
       "(Timestamp('2020-08-16 00:00:00'), Timestamp('2020-08-23 00:00:00'))"
      ]
     },
     "execution_count": 5,
     "metadata": {},
     "output_type": "execute_result"
    }
   ],
   "source": [
    "test_end = transactions_train_df['t_dat'].max()\n",
    "test_start = transactions_train_df['t_dat'].max() - datetime.timedelta(days=7)\n",
    "\n",
    "test_start, test_end"
   ]
  },
  {
   "cell_type": "code",
   "execution_count": 6,
   "id": "58a38671",
   "metadata": {},
   "outputs": [
    {
     "data": {
      "text/plain": [
       "(Timestamp('2020-08-09 00:00:00'), Timestamp('2020-08-16 00:00:00'))"
      ]
     },
     "execution_count": 6,
     "metadata": {},
     "output_type": "execute_result"
    }
   ],
   "source": [
    "dev_end = test_start\n",
    "dev_start = dev_end - datetime.timedelta(days=7)\n",
    "\n",
    "dev_start, dev_end"
   ]
  },
  {
   "cell_type": "code",
   "execution_count": 7,
   "id": "f5bcc02b",
   "metadata": {},
   "outputs": [
    {
     "data": {
      "text/plain": [
       "(Timestamp('2018-09-20 00:00:00'), Timestamp('2020-08-09 00:00:00'))"
      ]
     },
     "execution_count": 7,
     "metadata": {},
     "output_type": "execute_result"
    }
   ],
   "source": [
    "train_start = transactions_train_df['t_dat'].min()\n",
    "train_end = dev_start\n",
    "\n",
    "train_start, train_end"
   ]
  },
  {
   "cell_type": "code",
   "execution_count": 8,
   "id": "7ab02699",
   "metadata": {},
   "outputs": [],
   "source": [
    "test_mask = transactions_train_df['t_dat'].between(test_start, test_end, inclusive='right')\n",
    "dev_mask = transactions_train_df['t_dat'].between(dev_start, dev_end, inclusive='right')\n",
    "train_mask = transactions_train_df['t_dat'].between(train_start, train_end, inclusive='both')"
   ]
  },
  {
   "cell_type": "code",
   "execution_count": 9,
   "id": "6d63ca92",
   "metadata": {},
   "outputs": [],
   "source": [
    "train_df = transactions_train_df.copy()[train_mask]\n",
    "dev_df = transactions_train_df.copy()[dev_mask]\n",
    "test_df = transactions_train_df.copy()[test_mask]"
   ]
  },
  {
   "cell_type": "code",
   "execution_count": 10,
   "id": "e2767f02",
   "metadata": {},
   "outputs": [],
   "source": [
    "assert train_df.shape[0] + dev_df.shape[0] + test_df.shape[0] == transactions_train_df.shape[0]"
   ]
  },
  {
   "cell_type": "code",
   "execution_count": 11,
   "id": "e64afebe",
   "metadata": {},
   "outputs": [
    {
     "data": {
      "text/plain": [
       "0.06473353579897657"
      ]
     },
     "execution_count": 11,
     "metadata": {},
     "output_type": "execute_result"
    }
   ],
   "source": [
    "# Proportion of dev set customers not in training set\n",
    "len(\n",
    "    set(dev_df['customer_id'].unique()) - \n",
    "    set(train_df['customer_id'].unique())\n",
    ") / dev_df['customer_id'].nunique()"
   ]
  },
  {
   "cell_type": "code",
   "execution_count": 12,
   "id": "0cdd779e",
   "metadata": {},
   "outputs": [
    {
     "data": {
      "text/plain": [
       "0.06977888489098011"
      ]
     },
     "execution_count": 12,
     "metadata": {},
     "output_type": "execute_result"
    }
   ],
   "source": [
    "# Proportion of test set customers not in training set\n",
    "len(\n",
    "    set(test_df['customer_id'].unique()) - \n",
    "    set(train_df['customer_id'].unique())\n",
    ") / test_df['customer_id'].nunique()"
   ]
  },
  {
   "cell_type": "markdown",
   "id": "ae01d925",
   "metadata": {},
   "source": [
    "### Save splits"
   ]
  },
  {
   "cell_type": "code",
   "execution_count": 14,
   "id": "0846933f",
   "metadata": {},
   "outputs": [],
   "source": [
    "train_df.to_parquet('data/splits/train.parquet', index=False)\n",
    "dev_df.to_parquet('data/splits/dev.parquet', index=False)\n",
    "test_df.to_parquet('data/splits/test.parquet', index=False)"
   ]
  }
 ],
 "metadata": {
  "kernelspec": {
   "display_name": "Python 3 (ipykernel)",
   "language": "python",
   "name": "python3"
  },
  "language_info": {
   "codemirror_mode": {
    "name": "ipython",
    "version": 3
   },
   "file_extension": ".py",
   "mimetype": "text/x-python",
   "name": "python",
   "nbconvert_exporter": "python",
   "pygments_lexer": "ipython3",
   "version": "3.8.12"
  }
 },
 "nbformat": 4,
 "nbformat_minor": 5
}
