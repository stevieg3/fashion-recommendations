{
 "cells": [
  {
   "cell_type": "markdown",
   "id": "e5f10d5c",
   "metadata": {},
   "source": [
    "Evaluation set is \"predicted items a customer will buy in the next 7-day period after the training time period\".\n",
    "\n",
    "Given this we will use a _global temporal_ split: a fixed time-point that is shared across all users, where any interactions after that point are used for testing.\n",
    "\n",
    "We will take the last 7-day period as a test set and the 7-day period before that as validation.\n",
    "\n",
    "~2.5% of users in the sample submission are not in the training set (cold-start users). We check that our splits have similar proportions of cold-start users. Note however that these customers may not have necessarily made purchases.\n",
    "\n",
    "__Approach__:\n",
    "\n",
    "_Training set_:\n",
    "- Map `article_id` to `article_id_idx`\n",
    "- Create (single-purchase) labels\n",
    "- For customers _with_ purchase history, concatenate historical `article_id_idx`s into a comma-separated string\n",
    "- For customers _without_ purchase history, create history value `'1'`\n",
    "- Sort history and label DataFrames so they are aligned \n",
    "- Save both files separately as CSVs\n",
    "- Note: For all-purchase labels can look at purchases 1 week from selected label\n",
    "\n",
    "_Dev/Test set_:\n",
    "- Need single-purchase labels for loss and all purchases for MAP\n",
    "- For single-purchase labels take first purchase by `customer_id` in `dev_df`\n",
    "- Save all purchase labels separately\n",
    "- Same logic as above for input and construct using data from `train_df` for dev set, and `train_df` and `dev_df` for test set"
   ]
  },
  {
   "cell_type": "code",
   "execution_count": 1,
   "id": "835c0287",
   "metadata": {},
   "outputs": [],
   "source": [
    "import os\n",
    "import datetime\n",
    "\n",
    "import pandas as pd\n",
    "import numpy as np"
   ]
  },
  {
   "cell_type": "code",
   "execution_count": 2,
   "id": "bf603c09",
   "metadata": {},
   "outputs": [],
   "source": [
    "os.chdir('..')"
   ]
  },
  {
   "cell_type": "markdown",
   "id": "5e1cc9f3",
   "metadata": {},
   "source": [
    "#### Map `article_id`s to numeric indices"
   ]
  },
  {
   "cell_type": "code",
   "execution_count": 3,
   "id": "4003d90b",
   "metadata": {},
   "outputs": [
    {
     "name": "stdout",
     "output_type": "stream",
     "text": [
      "(105542, 25)\n"
     ]
    },
    {
     "data": {
      "text/html": [
       "<div>\n",
       "<style scoped>\n",
       "    .dataframe tbody tr th:only-of-type {\n",
       "        vertical-align: middle;\n",
       "    }\n",
       "\n",
       "    .dataframe tbody tr th {\n",
       "        vertical-align: top;\n",
       "    }\n",
       "\n",
       "    .dataframe thead th {\n",
       "        text-align: right;\n",
       "    }\n",
       "</style>\n",
       "<table border=\"1\" class=\"dataframe\">\n",
       "  <thead>\n",
       "    <tr style=\"text-align: right;\">\n",
       "      <th></th>\n",
       "      <th>article_id</th>\n",
       "      <th>product_code</th>\n",
       "      <th>prod_name</th>\n",
       "      <th>product_type_no</th>\n",
       "      <th>product_type_name</th>\n",
       "      <th>product_group_name</th>\n",
       "      <th>graphical_appearance_no</th>\n",
       "      <th>graphical_appearance_name</th>\n",
       "      <th>colour_group_code</th>\n",
       "      <th>colour_group_name</th>\n",
       "      <th>...</th>\n",
       "      <th>department_name</th>\n",
       "      <th>index_code</th>\n",
       "      <th>index_name</th>\n",
       "      <th>index_group_no</th>\n",
       "      <th>index_group_name</th>\n",
       "      <th>section_no</th>\n",
       "      <th>section_name</th>\n",
       "      <th>garment_group_no</th>\n",
       "      <th>garment_group_name</th>\n",
       "      <th>detail_desc</th>\n",
       "    </tr>\n",
       "  </thead>\n",
       "  <tbody>\n",
       "    <tr>\n",
       "      <th>0</th>\n",
       "      <td>0108775015</td>\n",
       "      <td>108775</td>\n",
       "      <td>Strap top</td>\n",
       "      <td>253</td>\n",
       "      <td>Vest top</td>\n",
       "      <td>Garment Upper body</td>\n",
       "      <td>1010016</td>\n",
       "      <td>Solid</td>\n",
       "      <td>9</td>\n",
       "      <td>Black</td>\n",
       "      <td>...</td>\n",
       "      <td>Jersey Basic</td>\n",
       "      <td>A</td>\n",
       "      <td>Ladieswear</td>\n",
       "      <td>1</td>\n",
       "      <td>Ladieswear</td>\n",
       "      <td>16</td>\n",
       "      <td>Womens Everyday Basics</td>\n",
       "      <td>1002</td>\n",
       "      <td>Jersey Basic</td>\n",
       "      <td>Jersey top with narrow shoulder straps.</td>\n",
       "    </tr>\n",
       "    <tr>\n",
       "      <th>1</th>\n",
       "      <td>0108775044</td>\n",
       "      <td>108775</td>\n",
       "      <td>Strap top</td>\n",
       "      <td>253</td>\n",
       "      <td>Vest top</td>\n",
       "      <td>Garment Upper body</td>\n",
       "      <td>1010016</td>\n",
       "      <td>Solid</td>\n",
       "      <td>10</td>\n",
       "      <td>White</td>\n",
       "      <td>...</td>\n",
       "      <td>Jersey Basic</td>\n",
       "      <td>A</td>\n",
       "      <td>Ladieswear</td>\n",
       "      <td>1</td>\n",
       "      <td>Ladieswear</td>\n",
       "      <td>16</td>\n",
       "      <td>Womens Everyday Basics</td>\n",
       "      <td>1002</td>\n",
       "      <td>Jersey Basic</td>\n",
       "      <td>Jersey top with narrow shoulder straps.</td>\n",
       "    </tr>\n",
       "    <tr>\n",
       "      <th>2</th>\n",
       "      <td>0108775051</td>\n",
       "      <td>108775</td>\n",
       "      <td>Strap top (1)</td>\n",
       "      <td>253</td>\n",
       "      <td>Vest top</td>\n",
       "      <td>Garment Upper body</td>\n",
       "      <td>1010017</td>\n",
       "      <td>Stripe</td>\n",
       "      <td>11</td>\n",
       "      <td>Off White</td>\n",
       "      <td>...</td>\n",
       "      <td>Jersey Basic</td>\n",
       "      <td>A</td>\n",
       "      <td>Ladieswear</td>\n",
       "      <td>1</td>\n",
       "      <td>Ladieswear</td>\n",
       "      <td>16</td>\n",
       "      <td>Womens Everyday Basics</td>\n",
       "      <td>1002</td>\n",
       "      <td>Jersey Basic</td>\n",
       "      <td>Jersey top with narrow shoulder straps.</td>\n",
       "    </tr>\n",
       "    <tr>\n",
       "      <th>3</th>\n",
       "      <td>0110065001</td>\n",
       "      <td>110065</td>\n",
       "      <td>OP T-shirt (Idro)</td>\n",
       "      <td>306</td>\n",
       "      <td>Bra</td>\n",
       "      <td>Underwear</td>\n",
       "      <td>1010016</td>\n",
       "      <td>Solid</td>\n",
       "      <td>9</td>\n",
       "      <td>Black</td>\n",
       "      <td>...</td>\n",
       "      <td>Clean Lingerie</td>\n",
       "      <td>B</td>\n",
       "      <td>Lingeries/Tights</td>\n",
       "      <td>1</td>\n",
       "      <td>Ladieswear</td>\n",
       "      <td>61</td>\n",
       "      <td>Womens Lingerie</td>\n",
       "      <td>1017</td>\n",
       "      <td>Under-, Nightwear</td>\n",
       "      <td>Microfibre T-shirt bra with underwired, moulde...</td>\n",
       "    </tr>\n",
       "    <tr>\n",
       "      <th>4</th>\n",
       "      <td>0110065002</td>\n",
       "      <td>110065</td>\n",
       "      <td>OP T-shirt (Idro)</td>\n",
       "      <td>306</td>\n",
       "      <td>Bra</td>\n",
       "      <td>Underwear</td>\n",
       "      <td>1010016</td>\n",
       "      <td>Solid</td>\n",
       "      <td>10</td>\n",
       "      <td>White</td>\n",
       "      <td>...</td>\n",
       "      <td>Clean Lingerie</td>\n",
       "      <td>B</td>\n",
       "      <td>Lingeries/Tights</td>\n",
       "      <td>1</td>\n",
       "      <td>Ladieswear</td>\n",
       "      <td>61</td>\n",
       "      <td>Womens Lingerie</td>\n",
       "      <td>1017</td>\n",
       "      <td>Under-, Nightwear</td>\n",
       "      <td>Microfibre T-shirt bra with underwired, moulde...</td>\n",
       "    </tr>\n",
       "  </tbody>\n",
       "</table>\n",
       "<p>5 rows × 25 columns</p>\n",
       "</div>"
      ],
      "text/plain": [
       "   article_id  product_code          prod_name  product_type_no  \\\n",
       "0  0108775015        108775          Strap top              253   \n",
       "1  0108775044        108775          Strap top              253   \n",
       "2  0108775051        108775      Strap top (1)              253   \n",
       "3  0110065001        110065  OP T-shirt (Idro)              306   \n",
       "4  0110065002        110065  OP T-shirt (Idro)              306   \n",
       "\n",
       "  product_type_name  product_group_name  graphical_appearance_no  \\\n",
       "0          Vest top  Garment Upper body                  1010016   \n",
       "1          Vest top  Garment Upper body                  1010016   \n",
       "2          Vest top  Garment Upper body                  1010017   \n",
       "3               Bra           Underwear                  1010016   \n",
       "4               Bra           Underwear                  1010016   \n",
       "\n",
       "  graphical_appearance_name  colour_group_code colour_group_name  ...  \\\n",
       "0                     Solid                  9             Black  ...   \n",
       "1                     Solid                 10             White  ...   \n",
       "2                    Stripe                 11         Off White  ...   \n",
       "3                     Solid                  9             Black  ...   \n",
       "4                     Solid                 10             White  ...   \n",
       "\n",
       "   department_name index_code        index_name index_group_no  \\\n",
       "0     Jersey Basic          A        Ladieswear              1   \n",
       "1     Jersey Basic          A        Ladieswear              1   \n",
       "2     Jersey Basic          A        Ladieswear              1   \n",
       "3   Clean Lingerie          B  Lingeries/Tights              1   \n",
       "4   Clean Lingerie          B  Lingeries/Tights              1   \n",
       "\n",
       "   index_group_name section_no            section_name garment_group_no  \\\n",
       "0        Ladieswear         16  Womens Everyday Basics             1002   \n",
       "1        Ladieswear         16  Womens Everyday Basics             1002   \n",
       "2        Ladieswear         16  Womens Everyday Basics             1002   \n",
       "3        Ladieswear         61         Womens Lingerie             1017   \n",
       "4        Ladieswear         61         Womens Lingerie             1017   \n",
       "\n",
       "   garment_group_name                                        detail_desc  \n",
       "0        Jersey Basic            Jersey top with narrow shoulder straps.  \n",
       "1        Jersey Basic            Jersey top with narrow shoulder straps.  \n",
       "2        Jersey Basic            Jersey top with narrow shoulder straps.  \n",
       "3   Under-, Nightwear  Microfibre T-shirt bra with underwired, moulde...  \n",
       "4   Under-, Nightwear  Microfibre T-shirt bra with underwired, moulde...  \n",
       "\n",
       "[5 rows x 25 columns]"
      ]
     },
     "execution_count": 3,
     "metadata": {},
     "output_type": "execute_result"
    }
   ],
   "source": [
    "articles_df = pd.read_csv('data/articles.csv', dtype={'article_id': str})  # Make sure article_id is being loading in as a string\n",
    "print(articles_df.shape)\n",
    "articles_df.head()"
   ]
  },
  {
   "cell_type": "code",
   "execution_count": 4,
   "id": "4fb70ae7",
   "metadata": {},
   "outputs": [],
   "source": [
    "article_id_to_idx = dict(\n",
    "    zip(\n",
    "        articles_df['article_id'],\n",
    "        articles_df.index + 2\n",
    "    )\n",
    ")"
   ]
  },
  {
   "cell_type": "markdown",
   "id": "05de226c",
   "metadata": {},
   "source": [
    "We reserve index `0` for padding and `1` for 'no history'"
   ]
  },
  {
   "cell_type": "markdown",
   "id": "ab12f96c",
   "metadata": {},
   "source": [
    "#### Create splits"
   ]
  },
  {
   "cell_type": "code",
   "execution_count": 5,
   "id": "e9171c52",
   "metadata": {},
   "outputs": [
    {
     "name": "stdout",
     "output_type": "stream",
     "text": [
      "(31788324, 5)\n"
     ]
    },
    {
     "data": {
      "text/html": [
       "<div>\n",
       "<style scoped>\n",
       "    .dataframe tbody tr th:only-of-type {\n",
       "        vertical-align: middle;\n",
       "    }\n",
       "\n",
       "    .dataframe tbody tr th {\n",
       "        vertical-align: top;\n",
       "    }\n",
       "\n",
       "    .dataframe thead th {\n",
       "        text-align: right;\n",
       "    }\n",
       "</style>\n",
       "<table border=\"1\" class=\"dataframe\">\n",
       "  <thead>\n",
       "    <tr style=\"text-align: right;\">\n",
       "      <th></th>\n",
       "      <th>t_dat</th>\n",
       "      <th>customer_id</th>\n",
       "      <th>article_id</th>\n",
       "      <th>price</th>\n",
       "      <th>sales_channel_id</th>\n",
       "    </tr>\n",
       "  </thead>\n",
       "  <tbody>\n",
       "    <tr>\n",
       "      <th>0</th>\n",
       "      <td>2018-09-20</td>\n",
       "      <td>000058a12d5b43e67d225668fa1f8d618c13dc232df0ca...</td>\n",
       "      <td>0663713001</td>\n",
       "      <td>0.050831</td>\n",
       "      <td>2</td>\n",
       "    </tr>\n",
       "    <tr>\n",
       "      <th>1</th>\n",
       "      <td>2018-09-20</td>\n",
       "      <td>000058a12d5b43e67d225668fa1f8d618c13dc232df0ca...</td>\n",
       "      <td>0541518023</td>\n",
       "      <td>0.030492</td>\n",
       "      <td>2</td>\n",
       "    </tr>\n",
       "    <tr>\n",
       "      <th>2</th>\n",
       "      <td>2018-09-20</td>\n",
       "      <td>00007d2de826758b65a93dd24ce629ed66842531df6699...</td>\n",
       "      <td>0505221004</td>\n",
       "      <td>0.015237</td>\n",
       "      <td>2</td>\n",
       "    </tr>\n",
       "    <tr>\n",
       "      <th>3</th>\n",
       "      <td>2018-09-20</td>\n",
       "      <td>00007d2de826758b65a93dd24ce629ed66842531df6699...</td>\n",
       "      <td>0685687003</td>\n",
       "      <td>0.016932</td>\n",
       "      <td>2</td>\n",
       "    </tr>\n",
       "    <tr>\n",
       "      <th>4</th>\n",
       "      <td>2018-09-20</td>\n",
       "      <td>00007d2de826758b65a93dd24ce629ed66842531df6699...</td>\n",
       "      <td>0685687004</td>\n",
       "      <td>0.016932</td>\n",
       "      <td>2</td>\n",
       "    </tr>\n",
       "  </tbody>\n",
       "</table>\n",
       "</div>"
      ],
      "text/plain": [
       "        t_dat                                        customer_id  article_id  \\\n",
       "0  2018-09-20  000058a12d5b43e67d225668fa1f8d618c13dc232df0ca...  0663713001   \n",
       "1  2018-09-20  000058a12d5b43e67d225668fa1f8d618c13dc232df0ca...  0541518023   \n",
       "2  2018-09-20  00007d2de826758b65a93dd24ce629ed66842531df6699...  0505221004   \n",
       "3  2018-09-20  00007d2de826758b65a93dd24ce629ed66842531df6699...  0685687003   \n",
       "4  2018-09-20  00007d2de826758b65a93dd24ce629ed66842531df6699...  0685687004   \n",
       "\n",
       "      price  sales_channel_id  \n",
       "0  0.050831                 2  \n",
       "1  0.030492                 2  \n",
       "2  0.015237                 2  \n",
       "3  0.016932                 2  \n",
       "4  0.016932                 2  "
      ]
     },
     "execution_count": 5,
     "metadata": {},
     "output_type": "execute_result"
    }
   ],
   "source": [
    "transactions_train_df = pd.read_csv('data/transactions_train.csv', dtype={'article_id': str})  # Make sure article_id is being loading in as a string\n",
    "print(transactions_train_df.shape)\n",
    "transactions_train_df.head()"
   ]
  },
  {
   "cell_type": "code",
   "execution_count": 6,
   "id": "b7370012",
   "metadata": {},
   "outputs": [],
   "source": [
    "transactions_train_df['t_dat'] = pd.to_datetime(transactions_train_df['t_dat'])"
   ]
  },
  {
   "cell_type": "code",
   "execution_count": 7,
   "id": "2fb15263",
   "metadata": {},
   "outputs": [],
   "source": [
    "transactions_train_df.sort_values(['customer_id', 't_dat'], inplace=True)"
   ]
  },
  {
   "cell_type": "code",
   "execution_count": 8,
   "id": "b7a85591",
   "metadata": {},
   "outputs": [],
   "source": [
    "transactions_train_df['article_id_idx'] = transactions_train_df['article_id'].map(article_id_to_idx)"
   ]
  },
  {
   "cell_type": "code",
   "execution_count": 9,
   "id": "443d8f9e",
   "metadata": {},
   "outputs": [
    {
     "data": {
      "text/plain": [
       "(Timestamp('2020-09-15 00:00:00'), Timestamp('2020-09-22 00:00:00'))"
      ]
     },
     "execution_count": 9,
     "metadata": {},
     "output_type": "execute_result"
    }
   ],
   "source": [
    "test_end = transactions_train_df['t_dat'].max()\n",
    "test_start = transactions_train_df['t_dat'].max() - datetime.timedelta(days=7)\n",
    "\n",
    "test_start, test_end"
   ]
  },
  {
   "cell_type": "code",
   "execution_count": 10,
   "id": "1b0f7542",
   "metadata": {},
   "outputs": [
    {
     "data": {
      "text/plain": [
       "(Timestamp('2020-09-08 00:00:00'), Timestamp('2020-09-15 00:00:00'))"
      ]
     },
     "execution_count": 10,
     "metadata": {},
     "output_type": "execute_result"
    }
   ],
   "source": [
    "dev_end = test_start\n",
    "dev_start = dev_end - datetime.timedelta(days=7)\n",
    "\n",
    "dev_start, dev_end"
   ]
  },
  {
   "cell_type": "code",
   "execution_count": 11,
   "id": "ea24d907",
   "metadata": {},
   "outputs": [
    {
     "data": {
      "text/plain": [
       "(Timestamp('2018-09-20 00:00:00'), Timestamp('2020-09-08 00:00:00'))"
      ]
     },
     "execution_count": 11,
     "metadata": {},
     "output_type": "execute_result"
    }
   ],
   "source": [
    "train_start = transactions_train_df['t_dat'].min()\n",
    "train_end = dev_start\n",
    "\n",
    "train_start, train_end"
   ]
  },
  {
   "cell_type": "code",
   "execution_count": 12,
   "id": "c23b4150",
   "metadata": {},
   "outputs": [],
   "source": [
    "test_mask = transactions_train_df['t_dat'].between(test_start, test_end, inclusive='right')\n",
    "dev_mask = transactions_train_df['t_dat'].between(dev_start, dev_end, inclusive='right')\n",
    "train_mask = transactions_train_df['t_dat'].between(train_start, train_end, inclusive='both')"
   ]
  },
  {
   "cell_type": "code",
   "execution_count": 13,
   "id": "913844eb",
   "metadata": {},
   "outputs": [],
   "source": [
    "train_df = transactions_train_df.copy()[train_mask]\n",
    "dev_df = transactions_train_df.copy()[dev_mask]\n",
    "test_df = transactions_train_df.copy()[test_mask]"
   ]
  },
  {
   "cell_type": "code",
   "execution_count": 14,
   "id": "20453598",
   "metadata": {},
   "outputs": [],
   "source": [
    "assert train_df.shape[0] + dev_df.shape[0] + test_df.shape[0] == transactions_train_df.shape[0]"
   ]
  },
  {
   "cell_type": "code",
   "execution_count": 15,
   "id": "93c32e1c",
   "metadata": {},
   "outputs": [
    {
     "data": {
      "text/plain": [
       "0.07491078743109457"
      ]
     },
     "execution_count": 15,
     "metadata": {},
     "output_type": "execute_result"
    }
   ],
   "source": [
    "# Proportion of dev set customers not in training set\n",
    "len(\n",
    "    set(dev_df['customer_id'].unique()) - \n",
    "    set(train_df['customer_id'].unique())\n",
    ") / dev_df['customer_id'].nunique()"
   ]
  },
  {
   "cell_type": "code",
   "execution_count": 16,
   "id": "a8a6689d",
   "metadata": {},
   "outputs": [
    {
     "data": {
      "text/plain": [
       "0.08591847384900847"
      ]
     },
     "execution_count": 16,
     "metadata": {},
     "output_type": "execute_result"
    }
   ],
   "source": [
    "# Proportion of test set customers not in training set\n",
    "len(\n",
    "    set(test_df['customer_id'].unique()) - \n",
    "    set(train_df['customer_id'].unique())\n",
    ") / test_df['customer_id'].nunique()"
   ]
  },
  {
   "cell_type": "markdown",
   "id": "1b64a75f",
   "metadata": {},
   "source": [
    "#### Prepare training data"
   ]
  },
  {
   "cell_type": "markdown",
   "id": "c0c61046",
   "metadata": {},
   "source": [
    "For each customer we randomly select a transaction to be their label. Any transactions after this one are discarded for training purposes."
   ]
  },
  {
   "cell_type": "code",
   "execution_count": 17,
   "id": "047dfd70",
   "metadata": {},
   "outputs": [
    {
     "data": {
      "text/plain": [
       "1351314"
      ]
     },
     "execution_count": 17,
     "metadata": {},
     "output_type": "execute_result"
    }
   ],
   "source": [
    "train_df['customer_id'].nunique()"
   ]
  },
  {
   "cell_type": "code",
   "execution_count": 18,
   "id": "3c22c0be",
   "metadata": {},
   "outputs": [],
   "source": [
    "train_df.reset_index(drop=True, inplace=True)"
   ]
  },
  {
   "cell_type": "code",
   "execution_count": 19,
   "id": "212cfe19",
   "metadata": {},
   "outputs": [],
   "source": [
    "train_df['uid'] = train_df.index  # Create a UID as a customer may purchase the same item multiple times preventing a 1:1 join"
   ]
  },
  {
   "cell_type": "code",
   "execution_count": 20,
   "id": "333dbe84",
   "metadata": {},
   "outputs": [
    {
     "name": "stdout",
     "output_type": "stream",
     "text": [
      "CPU times: user 51.8 s, sys: 4.19 s, total: 56 s\n",
      "Wall time: 55.7 s\n"
     ]
    }
   ],
   "source": [
    "%%time\n",
    "labels = train_df[['customer_id', 'uid']].groupby('customer_id').sample(n=1, random_state=3)"
   ]
  },
  {
   "cell_type": "code",
   "execution_count": 21,
   "id": "4ec62ed1",
   "metadata": {},
   "outputs": [
    {
     "data": {
      "text/html": [
       "<div>\n",
       "<style scoped>\n",
       "    .dataframe tbody tr th:only-of-type {\n",
       "        vertical-align: middle;\n",
       "    }\n",
       "\n",
       "    .dataframe tbody tr th {\n",
       "        vertical-align: top;\n",
       "    }\n",
       "\n",
       "    .dataframe thead th {\n",
       "        text-align: right;\n",
       "    }\n",
       "</style>\n",
       "<table border=\"1\" class=\"dataframe\">\n",
       "  <thead>\n",
       "    <tr style=\"text-align: right;\">\n",
       "      <th></th>\n",
       "      <th>customer_id</th>\n",
       "      <th>uid</th>\n",
       "    </tr>\n",
       "  </thead>\n",
       "  <tbody>\n",
       "    <tr>\n",
       "      <th>19</th>\n",
       "      <td>00000dbacae5abe5e23885899a1fa44253a17956c6d1c3...</td>\n",
       "      <td>19</td>\n",
       "    </tr>\n",
       "    <tr>\n",
       "      <th>35</th>\n",
       "      <td>0000423b00ade91418cceaf3b26c6af3dd342b51fd051e...</td>\n",
       "      <td>35</td>\n",
       "    </tr>\n",
       "    <tr>\n",
       "      <th>112</th>\n",
       "      <td>000058a12d5b43e67d225668fa1f8d618c13dc232df0ca...</td>\n",
       "      <td>112</td>\n",
       "    </tr>\n",
       "    <tr>\n",
       "      <th>125</th>\n",
       "      <td>00005ca1c9ed5f5146b52ac8639a40ca9d57aeff4d1bd2...</td>\n",
       "      <td>125</td>\n",
       "    </tr>\n",
       "    <tr>\n",
       "      <th>131</th>\n",
       "      <td>00006413d8573cd20ed7128e53b7b13819fe5cfc2d801f...</td>\n",
       "      <td>131</td>\n",
       "    </tr>\n",
       "  </tbody>\n",
       "</table>\n",
       "</div>"
      ],
      "text/plain": [
       "                                           customer_id  uid\n",
       "19   00000dbacae5abe5e23885899a1fa44253a17956c6d1c3...   19\n",
       "35   0000423b00ade91418cceaf3b26c6af3dd342b51fd051e...   35\n",
       "112  000058a12d5b43e67d225668fa1f8d618c13dc232df0ca...  112\n",
       "125  00005ca1c9ed5f5146b52ac8639a40ca9d57aeff4d1bd2...  125\n",
       "131  00006413d8573cd20ed7128e53b7b13819fe5cfc2d801f...  131"
      ]
     },
     "execution_count": 21,
     "metadata": {},
     "output_type": "execute_result"
    }
   ],
   "source": [
    "labels.head()"
   ]
  },
  {
   "cell_type": "code",
   "execution_count": 22,
   "id": "a3aa9000",
   "metadata": {},
   "outputs": [],
   "source": [
    "labels['label'] = 1"
   ]
  },
  {
   "cell_type": "code",
   "execution_count": 23,
   "id": "16548302",
   "metadata": {},
   "outputs": [],
   "source": [
    "train_df = train_df.merge(labels, on=['customer_id', 'uid'], how='left')"
   ]
  },
  {
   "cell_type": "code",
   "execution_count": 24,
   "id": "cdc0464a",
   "metadata": {},
   "outputs": [
    {
     "data": {
      "text/html": [
       "<div>\n",
       "<style scoped>\n",
       "    .dataframe tbody tr th:only-of-type {\n",
       "        vertical-align: middle;\n",
       "    }\n",
       "\n",
       "    .dataframe tbody tr th {\n",
       "        vertical-align: top;\n",
       "    }\n",
       "\n",
       "    .dataframe thead th {\n",
       "        text-align: right;\n",
       "    }\n",
       "</style>\n",
       "<table border=\"1\" class=\"dataframe\">\n",
       "  <thead>\n",
       "    <tr style=\"text-align: right;\">\n",
       "      <th></th>\n",
       "      <th>t_dat</th>\n",
       "      <th>customer_id</th>\n",
       "      <th>article_id</th>\n",
       "      <th>price</th>\n",
       "      <th>sales_channel_id</th>\n",
       "      <th>article_id_idx</th>\n",
       "      <th>uid</th>\n",
       "      <th>label</th>\n",
       "    </tr>\n",
       "  </thead>\n",
       "  <tbody>\n",
       "    <tr>\n",
       "      <th>0</th>\n",
       "      <td>2018-12-27</td>\n",
       "      <td>00000dbacae5abe5e23885899a1fa44253a17956c6d1c3...</td>\n",
       "      <td>0625548001</td>\n",
       "      <td>0.044051</td>\n",
       "      <td>1</td>\n",
       "      <td>29518</td>\n",
       "      <td>0</td>\n",
       "      <td>NaN</td>\n",
       "    </tr>\n",
       "    <tr>\n",
       "      <th>1</th>\n",
       "      <td>2018-12-27</td>\n",
       "      <td>00000dbacae5abe5e23885899a1fa44253a17956c6d1c3...</td>\n",
       "      <td>0176209023</td>\n",
       "      <td>0.035576</td>\n",
       "      <td>1</td>\n",
       "      <td>101</td>\n",
       "      <td>1</td>\n",
       "      <td>NaN</td>\n",
       "    </tr>\n",
       "    <tr>\n",
       "      <th>2</th>\n",
       "      <td>2018-12-27</td>\n",
       "      <td>00000dbacae5abe5e23885899a1fa44253a17956c6d1c3...</td>\n",
       "      <td>0627759010</td>\n",
       "      <td>0.030492</td>\n",
       "      <td>1</td>\n",
       "      <td>30329</td>\n",
       "      <td>2</td>\n",
       "      <td>NaN</td>\n",
       "    </tr>\n",
       "    <tr>\n",
       "      <th>3</th>\n",
       "      <td>2019-05-02</td>\n",
       "      <td>00000dbacae5abe5e23885899a1fa44253a17956c6d1c3...</td>\n",
       "      <td>0697138006</td>\n",
       "      <td>0.010153</td>\n",
       "      <td>2</td>\n",
       "      <td>50726</td>\n",
       "      <td>3</td>\n",
       "      <td>NaN</td>\n",
       "    </tr>\n",
       "    <tr>\n",
       "      <th>4</th>\n",
       "      <td>2019-05-25</td>\n",
       "      <td>00000dbacae5abe5e23885899a1fa44253a17956c6d1c3...</td>\n",
       "      <td>0568601006</td>\n",
       "      <td>0.050831</td>\n",
       "      <td>2</td>\n",
       "      <td>16005</td>\n",
       "      <td>4</td>\n",
       "      <td>NaN</td>\n",
       "    </tr>\n",
       "  </tbody>\n",
       "</table>\n",
       "</div>"
      ],
      "text/plain": [
       "       t_dat                                        customer_id  article_id  \\\n",
       "0 2018-12-27  00000dbacae5abe5e23885899a1fa44253a17956c6d1c3...  0625548001   \n",
       "1 2018-12-27  00000dbacae5abe5e23885899a1fa44253a17956c6d1c3...  0176209023   \n",
       "2 2018-12-27  00000dbacae5abe5e23885899a1fa44253a17956c6d1c3...  0627759010   \n",
       "3 2019-05-02  00000dbacae5abe5e23885899a1fa44253a17956c6d1c3...  0697138006   \n",
       "4 2019-05-25  00000dbacae5abe5e23885899a1fa44253a17956c6d1c3...  0568601006   \n",
       "\n",
       "      price  sales_channel_id  article_id_idx  uid  label  \n",
       "0  0.044051                 1           29518    0    NaN  \n",
       "1  0.035576                 1             101    1    NaN  \n",
       "2  0.030492                 1           30329    2    NaN  \n",
       "3  0.010153                 2           50726    3    NaN  \n",
       "4  0.050831                 2           16005    4    NaN  "
      ]
     },
     "execution_count": 24,
     "metadata": {},
     "output_type": "execute_result"
    }
   ],
   "source": [
    "train_df.head()"
   ]
  },
  {
   "cell_type": "code",
   "execution_count": 25,
   "id": "76740a34",
   "metadata": {},
   "outputs": [],
   "source": [
    "train_df['keep'] = train_df['label'].copy()"
   ]
  },
  {
   "cell_type": "code",
   "execution_count": 26,
   "id": "00f7f220",
   "metadata": {},
   "outputs": [],
   "source": [
    "train_df['keep'] = train_df.groupby('customer_id')['keep'].bfill()"
   ]
  },
  {
   "cell_type": "code",
   "execution_count": 27,
   "id": "77263ea7",
   "metadata": {},
   "outputs": [],
   "source": [
    "# Drop records for each customer after the label\n",
    "train_df = train_df.copy()[train_df['keep'] == 1]"
   ]
  },
  {
   "cell_type": "code",
   "execution_count": 28,
   "id": "d457af8f",
   "metadata": {},
   "outputs": [],
   "source": [
    "train_df['label'].fillna(0, inplace=True)"
   ]
  },
  {
   "cell_type": "code",
   "execution_count": 29,
   "id": "bd3701fb",
   "metadata": {},
   "outputs": [
    {
     "data": {
      "text/html": [
       "<div>\n",
       "<style scoped>\n",
       "    .dataframe tbody tr th:only-of-type {\n",
       "        vertical-align: middle;\n",
       "    }\n",
       "\n",
       "    .dataframe tbody tr th {\n",
       "        vertical-align: top;\n",
       "    }\n",
       "\n",
       "    .dataframe thead th {\n",
       "        text-align: right;\n",
       "    }\n",
       "</style>\n",
       "<table border=\"1\" class=\"dataframe\">\n",
       "  <thead>\n",
       "    <tr style=\"text-align: right;\">\n",
       "      <th></th>\n",
       "      <th>t_dat</th>\n",
       "      <th>customer_id</th>\n",
       "      <th>article_id</th>\n",
       "      <th>price</th>\n",
       "      <th>sales_channel_id</th>\n",
       "      <th>article_id_idx</th>\n",
       "      <th>uid</th>\n",
       "      <th>label</th>\n",
       "      <th>keep</th>\n",
       "    </tr>\n",
       "  </thead>\n",
       "  <tbody>\n",
       "    <tr>\n",
       "      <th>0</th>\n",
       "      <td>2018-12-27</td>\n",
       "      <td>00000dbacae5abe5e23885899a1fa44253a17956c6d1c3...</td>\n",
       "      <td>0625548001</td>\n",
       "      <td>0.044051</td>\n",
       "      <td>1</td>\n",
       "      <td>29518</td>\n",
       "      <td>0</td>\n",
       "      <td>0.0</td>\n",
       "      <td>1.0</td>\n",
       "    </tr>\n",
       "    <tr>\n",
       "      <th>1</th>\n",
       "      <td>2018-12-27</td>\n",
       "      <td>00000dbacae5abe5e23885899a1fa44253a17956c6d1c3...</td>\n",
       "      <td>0176209023</td>\n",
       "      <td>0.035576</td>\n",
       "      <td>1</td>\n",
       "      <td>101</td>\n",
       "      <td>1</td>\n",
       "      <td>0.0</td>\n",
       "      <td>1.0</td>\n",
       "    </tr>\n",
       "    <tr>\n",
       "      <th>2</th>\n",
       "      <td>2018-12-27</td>\n",
       "      <td>00000dbacae5abe5e23885899a1fa44253a17956c6d1c3...</td>\n",
       "      <td>0627759010</td>\n",
       "      <td>0.030492</td>\n",
       "      <td>1</td>\n",
       "      <td>30329</td>\n",
       "      <td>2</td>\n",
       "      <td>0.0</td>\n",
       "      <td>1.0</td>\n",
       "    </tr>\n",
       "    <tr>\n",
       "      <th>3</th>\n",
       "      <td>2019-05-02</td>\n",
       "      <td>00000dbacae5abe5e23885899a1fa44253a17956c6d1c3...</td>\n",
       "      <td>0697138006</td>\n",
       "      <td>0.010153</td>\n",
       "      <td>2</td>\n",
       "      <td>50726</td>\n",
       "      <td>3</td>\n",
       "      <td>0.0</td>\n",
       "      <td>1.0</td>\n",
       "    </tr>\n",
       "    <tr>\n",
       "      <th>4</th>\n",
       "      <td>2019-05-25</td>\n",
       "      <td>00000dbacae5abe5e23885899a1fa44253a17956c6d1c3...</td>\n",
       "      <td>0568601006</td>\n",
       "      <td>0.050831</td>\n",
       "      <td>2</td>\n",
       "      <td>16005</td>\n",
       "      <td>4</td>\n",
       "      <td>0.0</td>\n",
       "      <td>1.0</td>\n",
       "    </tr>\n",
       "  </tbody>\n",
       "</table>\n",
       "</div>"
      ],
      "text/plain": [
       "       t_dat                                        customer_id  article_id  \\\n",
       "0 2018-12-27  00000dbacae5abe5e23885899a1fa44253a17956c6d1c3...  0625548001   \n",
       "1 2018-12-27  00000dbacae5abe5e23885899a1fa44253a17956c6d1c3...  0176209023   \n",
       "2 2018-12-27  00000dbacae5abe5e23885899a1fa44253a17956c6d1c3...  0627759010   \n",
       "3 2019-05-02  00000dbacae5abe5e23885899a1fa44253a17956c6d1c3...  0697138006   \n",
       "4 2019-05-25  00000dbacae5abe5e23885899a1fa44253a17956c6d1c3...  0568601006   \n",
       "\n",
       "      price  sales_channel_id  article_id_idx  uid  label  keep  \n",
       "0  0.044051                 1           29518    0    0.0   1.0  \n",
       "1  0.035576                 1             101    1    0.0   1.0  \n",
       "2  0.030492                 1           30329    2    0.0   1.0  \n",
       "3  0.010153                 2           50726    3    0.0   1.0  \n",
       "4  0.050831                 2           16005    4    0.0   1.0  "
      ]
     },
     "execution_count": 29,
     "metadata": {},
     "output_type": "execute_result"
    }
   ],
   "source": [
    "train_df.head()"
   ]
  },
  {
   "cell_type": "code",
   "execution_count": 30,
   "id": "10ff915f",
   "metadata": {},
   "outputs": [],
   "source": [
    "train_df.drop(columns=['uid', 'keep'], inplace=True)"
   ]
  },
  {
   "cell_type": "code",
   "execution_count": 31,
   "id": "0f5f92af",
   "metadata": {},
   "outputs": [
    {
     "data": {
      "text/html": [
       "<div>\n",
       "<style scoped>\n",
       "    .dataframe tbody tr th:only-of-type {\n",
       "        vertical-align: middle;\n",
       "    }\n",
       "\n",
       "    .dataframe tbody tr th {\n",
       "        vertical-align: top;\n",
       "    }\n",
       "\n",
       "    .dataframe thead th {\n",
       "        text-align: right;\n",
       "    }\n",
       "</style>\n",
       "<table border=\"1\" class=\"dataframe\">\n",
       "  <thead>\n",
       "    <tr style=\"text-align: right;\">\n",
       "      <th></th>\n",
       "      <th>t_dat</th>\n",
       "      <th>customer_id</th>\n",
       "      <th>article_id</th>\n",
       "      <th>price</th>\n",
       "      <th>sales_channel_id</th>\n",
       "      <th>article_id_idx</th>\n",
       "      <th>label</th>\n",
       "    </tr>\n",
       "  </thead>\n",
       "  <tbody>\n",
       "    <tr>\n",
       "      <th>0</th>\n",
       "      <td>2018-12-27</td>\n",
       "      <td>00000dbacae5abe5e23885899a1fa44253a17956c6d1c3...</td>\n",
       "      <td>0625548001</td>\n",
       "      <td>0.044051</td>\n",
       "      <td>1</td>\n",
       "      <td>29518</td>\n",
       "      <td>0.0</td>\n",
       "    </tr>\n",
       "    <tr>\n",
       "      <th>1</th>\n",
       "      <td>2018-12-27</td>\n",
       "      <td>00000dbacae5abe5e23885899a1fa44253a17956c6d1c3...</td>\n",
       "      <td>0176209023</td>\n",
       "      <td>0.035576</td>\n",
       "      <td>1</td>\n",
       "      <td>101</td>\n",
       "      <td>0.0</td>\n",
       "    </tr>\n",
       "    <tr>\n",
       "      <th>2</th>\n",
       "      <td>2018-12-27</td>\n",
       "      <td>00000dbacae5abe5e23885899a1fa44253a17956c6d1c3...</td>\n",
       "      <td>0627759010</td>\n",
       "      <td>0.030492</td>\n",
       "      <td>1</td>\n",
       "      <td>30329</td>\n",
       "      <td>0.0</td>\n",
       "    </tr>\n",
       "    <tr>\n",
       "      <th>3</th>\n",
       "      <td>2019-05-02</td>\n",
       "      <td>00000dbacae5abe5e23885899a1fa44253a17956c6d1c3...</td>\n",
       "      <td>0697138006</td>\n",
       "      <td>0.010153</td>\n",
       "      <td>2</td>\n",
       "      <td>50726</td>\n",
       "      <td>0.0</td>\n",
       "    </tr>\n",
       "    <tr>\n",
       "      <th>4</th>\n",
       "      <td>2019-05-25</td>\n",
       "      <td>00000dbacae5abe5e23885899a1fa44253a17956c6d1c3...</td>\n",
       "      <td>0568601006</td>\n",
       "      <td>0.050831</td>\n",
       "      <td>2</td>\n",
       "      <td>16005</td>\n",
       "      <td>0.0</td>\n",
       "    </tr>\n",
       "  </tbody>\n",
       "</table>\n",
       "</div>"
      ],
      "text/plain": [
       "       t_dat                                        customer_id  article_id  \\\n",
       "0 2018-12-27  00000dbacae5abe5e23885899a1fa44253a17956c6d1c3...  0625548001   \n",
       "1 2018-12-27  00000dbacae5abe5e23885899a1fa44253a17956c6d1c3...  0176209023   \n",
       "2 2018-12-27  00000dbacae5abe5e23885899a1fa44253a17956c6d1c3...  0627759010   \n",
       "3 2019-05-02  00000dbacae5abe5e23885899a1fa44253a17956c6d1c3...  0697138006   \n",
       "4 2019-05-25  00000dbacae5abe5e23885899a1fa44253a17956c6d1c3...  0568601006   \n",
       "\n",
       "      price  sales_channel_id  article_id_idx  label  \n",
       "0  0.044051                 1           29518    0.0  \n",
       "1  0.035576                 1             101    0.0  \n",
       "2  0.030492                 1           30329    0.0  \n",
       "3  0.010153                 2           50726    0.0  \n",
       "4  0.050831                 2           16005    0.0  "
      ]
     },
     "execution_count": 31,
     "metadata": {},
     "output_type": "execute_result"
    }
   ],
   "source": [
    "train_df.head()"
   ]
  },
  {
   "cell_type": "code",
   "execution_count": 32,
   "id": "648b9389",
   "metadata": {},
   "outputs": [],
   "source": [
    "train_df['article_id_idx'] = train_df['article_id_idx'].astype(str)"
   ]
  },
  {
   "cell_type": "code",
   "execution_count": 33,
   "id": "c5076a9b",
   "metadata": {},
   "outputs": [
    {
     "data": {
      "text/html": [
       "<div>\n",
       "<style scoped>\n",
       "    .dataframe tbody tr th:only-of-type {\n",
       "        vertical-align: middle;\n",
       "    }\n",
       "\n",
       "    .dataframe tbody tr th {\n",
       "        vertical-align: top;\n",
       "    }\n",
       "\n",
       "    .dataframe thead th {\n",
       "        text-align: right;\n",
       "    }\n",
       "</style>\n",
       "<table border=\"1\" class=\"dataframe\">\n",
       "  <thead>\n",
       "    <tr style=\"text-align: right;\">\n",
       "      <th></th>\n",
       "      <th>customer_id</th>\n",
       "      <th>article_id_idx</th>\n",
       "    </tr>\n",
       "  </thead>\n",
       "  <tbody>\n",
       "    <tr>\n",
       "      <th>0</th>\n",
       "      <td>00000dbacae5abe5e23885899a1fa44253a17956c6d1c3...</td>\n",
       "      <td>29518, 101, 30329, 50726, 16005, 16005, 23998,...</td>\n",
       "    </tr>\n",
       "    <tr>\n",
       "      <th>1</th>\n",
       "      <td>0000423b00ade91418cceaf3b26c6af3dd342b51fd051e...</td>\n",
       "      <td>19335, 33750, 33993, 8218, 41026, 19335, 42628...</td>\n",
       "    </tr>\n",
       "    <tr>\n",
       "      <th>2</th>\n",
       "      <td>000058a12d5b43e67d225668fa1f8d618c13dc232df0ca...</td>\n",
       "      <td>40181, 10522, 40181, 18199, 59460</td>\n",
       "    </tr>\n",
       "    <tr>\n",
       "      <th>3</th>\n",
       "      <td>00005ca1c9ed5f5146b52ac8639a40ca9d57aeff4d1bd2...</td>\n",
       "      <td>64527</td>\n",
       "    </tr>\n",
       "    <tr>\n",
       "      <th>4</th>\n",
       "      <td>00006413d8573cd20ed7128e53b7b13819fe5cfc2d801f...</td>\n",
       "      <td>32249, 43444, 51126, 54463, 2183</td>\n",
       "    </tr>\n",
       "  </tbody>\n",
       "</table>\n",
       "</div>"
      ],
      "text/plain": [
       "                                         customer_id  \\\n",
       "0  00000dbacae5abe5e23885899a1fa44253a17956c6d1c3...   \n",
       "1  0000423b00ade91418cceaf3b26c6af3dd342b51fd051e...   \n",
       "2  000058a12d5b43e67d225668fa1f8d618c13dc232df0ca...   \n",
       "3  00005ca1c9ed5f5146b52ac8639a40ca9d57aeff4d1bd2...   \n",
       "4  00006413d8573cd20ed7128e53b7b13819fe5cfc2d801f...   \n",
       "\n",
       "                                      article_id_idx  \n",
       "0  29518, 101, 30329, 50726, 16005, 16005, 23998,...  \n",
       "1  19335, 33750, 33993, 8218, 41026, 19335, 42628...  \n",
       "2                  40181, 10522, 40181, 18199, 59460  \n",
       "3                                              64527  \n",
       "4                   32249, 43444, 51126, 54463, 2183  "
      ]
     },
     "execution_count": 33,
     "metadata": {},
     "output_type": "execute_result"
    }
   ],
   "source": [
    "train_historical_purchases = (\n",
    "    train_df[train_df['label'] == 0][['customer_id', 'article_id_idx']]\n",
    "    .groupby('customer_id')\n",
    "    .agg({'article_id_idx': ', '.join})\n",
    "    .reset_index()\n",
    ")\n",
    "\n",
    "train_historical_purchases.head()"
   ]
  },
  {
   "cell_type": "code",
   "execution_count": 34,
   "id": "807bd2c6",
   "metadata": {},
   "outputs": [
    {
     "data": {
      "text/plain": [
       "(1038868, 2)"
      ]
     },
     "execution_count": 34,
     "metadata": {},
     "output_type": "execute_result"
    }
   ],
   "source": [
    "train_historical_purchases.shape"
   ]
  },
  {
   "cell_type": "code",
   "execution_count": 35,
   "id": "0f5a5164",
   "metadata": {},
   "outputs": [
    {
     "name": "stdout",
     "output_type": "stream",
     "text": [
      "(1351314, 2)\n"
     ]
    },
    {
     "data": {
      "text/html": [
       "<div>\n",
       "<style scoped>\n",
       "    .dataframe tbody tr th:only-of-type {\n",
       "        vertical-align: middle;\n",
       "    }\n",
       "\n",
       "    .dataframe tbody tr th {\n",
       "        vertical-align: top;\n",
       "    }\n",
       "\n",
       "    .dataframe thead th {\n",
       "        text-align: right;\n",
       "    }\n",
       "</style>\n",
       "<table border=\"1\" class=\"dataframe\">\n",
       "  <thead>\n",
       "    <tr style=\"text-align: right;\">\n",
       "      <th></th>\n",
       "      <th>customer_id</th>\n",
       "      <th>article_id_idx</th>\n",
       "    </tr>\n",
       "  </thead>\n",
       "  <tbody>\n",
       "    <tr>\n",
       "      <th>19</th>\n",
       "      <td>00000dbacae5abe5e23885899a1fa44253a17956c6d1c3...</td>\n",
       "      <td>93746</td>\n",
       "    </tr>\n",
       "    <tr>\n",
       "      <th>35</th>\n",
       "      <td>0000423b00ade91418cceaf3b26c6af3dd342b51fd051e...</td>\n",
       "      <td>59460</td>\n",
       "    </tr>\n",
       "    <tr>\n",
       "      <th>112</th>\n",
       "      <td>000058a12d5b43e67d225668fa1f8d618c13dc232df0ca...</td>\n",
       "      <td>1471</td>\n",
       "    </tr>\n",
       "    <tr>\n",
       "      <th>125</th>\n",
       "      <td>00005ca1c9ed5f5146b52ac8639a40ca9d57aeff4d1bd2...</td>\n",
       "      <td>61177</td>\n",
       "    </tr>\n",
       "    <tr>\n",
       "      <th>131</th>\n",
       "      <td>00006413d8573cd20ed7128e53b7b13819fe5cfc2d801f...</td>\n",
       "      <td>2183</td>\n",
       "    </tr>\n",
       "  </tbody>\n",
       "</table>\n",
       "</div>"
      ],
      "text/plain": [
       "                                           customer_id article_id_idx\n",
       "19   00000dbacae5abe5e23885899a1fa44253a17956c6d1c3...          93746\n",
       "35   0000423b00ade91418cceaf3b26c6af3dd342b51fd051e...          59460\n",
       "112  000058a12d5b43e67d225668fa1f8d618c13dc232df0ca...           1471\n",
       "125  00005ca1c9ed5f5146b52ac8639a40ca9d57aeff4d1bd2...          61177\n",
       "131  00006413d8573cd20ed7128e53b7b13819fe5cfc2d801f...           2183"
      ]
     },
     "execution_count": 35,
     "metadata": {},
     "output_type": "execute_result"
    }
   ],
   "source": [
    "train_labels = train_df.copy()[train_df['label'] == 1][['customer_id', 'article_id_idx']]\n",
    "print(train_labels.shape)\n",
    "train_labels.head()"
   ]
  },
  {
   "cell_type": "code",
   "execution_count": 36,
   "id": "e6b74915",
   "metadata": {},
   "outputs": [
    {
     "data": {
      "text/html": [
       "<div>\n",
       "<style scoped>\n",
       "    .dataframe tbody tr th:only-of-type {\n",
       "        vertical-align: middle;\n",
       "    }\n",
       "\n",
       "    .dataframe tbody tr th {\n",
       "        vertical-align: top;\n",
       "    }\n",
       "\n",
       "    .dataframe thead th {\n",
       "        text-align: right;\n",
       "    }\n",
       "</style>\n",
       "<table border=\"1\" class=\"dataframe\">\n",
       "  <thead>\n",
       "    <tr style=\"text-align: right;\">\n",
       "      <th></th>\n",
       "      <th>customer_id</th>\n",
       "      <th>article_id_idx_label</th>\n",
       "      <th>article_id_idx_historical</th>\n",
       "      <th>_merge</th>\n",
       "    </tr>\n",
       "  </thead>\n",
       "  <tbody>\n",
       "    <tr>\n",
       "      <th>0</th>\n",
       "      <td>00000dbacae5abe5e23885899a1fa44253a17956c6d1c3...</td>\n",
       "      <td>93746</td>\n",
       "      <td>29518, 101, 30329, 50726, 16005, 16005, 23998,...</td>\n",
       "      <td>both</td>\n",
       "    </tr>\n",
       "    <tr>\n",
       "      <th>1</th>\n",
       "      <td>0000423b00ade91418cceaf3b26c6af3dd342b51fd051e...</td>\n",
       "      <td>59460</td>\n",
       "      <td>19335, 33750, 33993, 8218, 41026, 19335, 42628...</td>\n",
       "      <td>both</td>\n",
       "    </tr>\n",
       "    <tr>\n",
       "      <th>2</th>\n",
       "      <td>000058a12d5b43e67d225668fa1f8d618c13dc232df0ca...</td>\n",
       "      <td>1471</td>\n",
       "      <td>40181, 10522, 40181, 18199, 59460</td>\n",
       "      <td>both</td>\n",
       "    </tr>\n",
       "    <tr>\n",
       "      <th>3</th>\n",
       "      <td>00005ca1c9ed5f5146b52ac8639a40ca9d57aeff4d1bd2...</td>\n",
       "      <td>61177</td>\n",
       "      <td>64527</td>\n",
       "      <td>both</td>\n",
       "    </tr>\n",
       "    <tr>\n",
       "      <th>4</th>\n",
       "      <td>00006413d8573cd20ed7128e53b7b13819fe5cfc2d801f...</td>\n",
       "      <td>2183</td>\n",
       "      <td>32249, 43444, 51126, 54463, 2183</td>\n",
       "      <td>both</td>\n",
       "    </tr>\n",
       "  </tbody>\n",
       "</table>\n",
       "</div>"
      ],
      "text/plain": [
       "                                         customer_id article_id_idx_label  \\\n",
       "0  00000dbacae5abe5e23885899a1fa44253a17956c6d1c3...                93746   \n",
       "1  0000423b00ade91418cceaf3b26c6af3dd342b51fd051e...                59460   \n",
       "2  000058a12d5b43e67d225668fa1f8d618c13dc232df0ca...                 1471   \n",
       "3  00005ca1c9ed5f5146b52ac8639a40ca9d57aeff4d1bd2...                61177   \n",
       "4  00006413d8573cd20ed7128e53b7b13819fe5cfc2d801f...                 2183   \n",
       "\n",
       "                           article_id_idx_historical _merge  \n",
       "0  29518, 101, 30329, 50726, 16005, 16005, 23998,...   both  \n",
       "1  19335, 33750, 33993, 8218, 41026, 19335, 42628...   both  \n",
       "2                  40181, 10522, 40181, 18199, 59460   both  \n",
       "3                                              64527   both  \n",
       "4                   32249, 43444, 51126, 54463, 2183   both  "
      ]
     },
     "execution_count": 36,
     "metadata": {},
     "output_type": "execute_result"
    }
   ],
   "source": [
    "train_combined = train_labels.merge(train_historical_purchases, on='customer_id', how='left', suffixes=('_label', '_historical'), indicator=True)\n",
    "train_combined.head()"
   ]
  },
  {
   "cell_type": "code",
   "execution_count": 37,
   "id": "63acb3a4",
   "metadata": {},
   "outputs": [
    {
     "data": {
      "text/plain": [
       "both          0.768784\n",
       "left_only     0.231216\n",
       "right_only    0.000000\n",
       "Name: _merge, dtype: float64"
      ]
     },
     "execution_count": 37,
     "metadata": {},
     "output_type": "execute_result"
    }
   ],
   "source": [
    "train_combined['_merge'].value_counts() / train_combined.shape[0]"
   ]
  },
  {
   "cell_type": "markdown",
   "id": "4167d566",
   "metadata": {},
   "source": [
    "`left_only` represents customers with no purchase history. 23% is much larger than the corresponding proportion of no history customers in the sample submission (2.5%). We therefore downsample these customers."
   ]
  },
  {
   "cell_type": "code",
   "execution_count": 38,
   "id": "c9d4897c",
   "metadata": {},
   "outputs": [],
   "source": [
    "TARGET_PROP_NO_HISTORY = 0.025"
   ]
  },
  {
   "cell_type": "code",
   "execution_count": 39,
   "id": "8d815bde",
   "metadata": {},
   "outputs": [
    {
     "data": {
      "text/plain": [
       "1038868"
      ]
     },
     "execution_count": 39,
     "metadata": {},
     "output_type": "execute_result"
    }
   ],
   "source": [
    "number_customers_both = train_combined[train_combined['_merge'] == 'both'].shape[0]\n",
    "number_customers_both"
   ]
  },
  {
   "cell_type": "code",
   "execution_count": 40,
   "id": "6c24f1d8",
   "metadata": {},
   "outputs": [
    {
     "data": {
      "text/plain": [
       "26637"
      ]
     },
     "execution_count": 40,
     "metadata": {},
     "output_type": "execute_result"
    }
   ],
   "source": [
    "number_to_sample = ((number_customers_both / (1-TARGET_PROP_NO_HISTORY)) - number_customers_both)\n",
    "number_to_sample = int(number_to_sample)\n",
    "number_to_sample"
   ]
  },
  {
   "cell_type": "code",
   "execution_count": 41,
   "id": "848922eb",
   "metadata": {},
   "outputs": [
    {
     "data": {
      "text/html": [
       "<div>\n",
       "<style scoped>\n",
       "    .dataframe tbody tr th:only-of-type {\n",
       "        vertical-align: middle;\n",
       "    }\n",
       "\n",
       "    .dataframe tbody tr th {\n",
       "        vertical-align: top;\n",
       "    }\n",
       "\n",
       "    .dataframe thead th {\n",
       "        text-align: right;\n",
       "    }\n",
       "</style>\n",
       "<table border=\"1\" class=\"dataframe\">\n",
       "  <thead>\n",
       "    <tr style=\"text-align: right;\">\n",
       "      <th></th>\n",
       "      <th>customer_id</th>\n",
       "      <th>article_id_idx_label</th>\n",
       "      <th>article_id_idx_historical</th>\n",
       "      <th>_merge</th>\n",
       "    </tr>\n",
       "  </thead>\n",
       "  <tbody>\n",
       "    <tr>\n",
       "      <th>0</th>\n",
       "      <td>00000dbacae5abe5e23885899a1fa44253a17956c6d1c3...</td>\n",
       "      <td>93746</td>\n",
       "      <td>29518, 101, 30329, 50726, 16005, 16005, 23998,...</td>\n",
       "      <td>both</td>\n",
       "    </tr>\n",
       "    <tr>\n",
       "      <th>1</th>\n",
       "      <td>0000423b00ade91418cceaf3b26c6af3dd342b51fd051e...</td>\n",
       "      <td>59460</td>\n",
       "      <td>19335, 33750, 33993, 8218, 41026, 19335, 42628...</td>\n",
       "      <td>both</td>\n",
       "    </tr>\n",
       "    <tr>\n",
       "      <th>2</th>\n",
       "      <td>000058a12d5b43e67d225668fa1f8d618c13dc232df0ca...</td>\n",
       "      <td>1471</td>\n",
       "      <td>40181, 10522, 40181, 18199, 59460</td>\n",
       "      <td>both</td>\n",
       "    </tr>\n",
       "    <tr>\n",
       "      <th>3</th>\n",
       "      <td>00005ca1c9ed5f5146b52ac8639a40ca9d57aeff4d1bd2...</td>\n",
       "      <td>61177</td>\n",
       "      <td>64527</td>\n",
       "      <td>both</td>\n",
       "    </tr>\n",
       "    <tr>\n",
       "      <th>4</th>\n",
       "      <td>00006413d8573cd20ed7128e53b7b13819fe5cfc2d801f...</td>\n",
       "      <td>2183</td>\n",
       "      <td>32249, 43444, 51126, 54463, 2183</td>\n",
       "      <td>both</td>\n",
       "    </tr>\n",
       "  </tbody>\n",
       "</table>\n",
       "</div>"
      ],
      "text/plain": [
       "                                         customer_id article_id_idx_label  \\\n",
       "0  00000dbacae5abe5e23885899a1fa44253a17956c6d1c3...                93746   \n",
       "1  0000423b00ade91418cceaf3b26c6af3dd342b51fd051e...                59460   \n",
       "2  000058a12d5b43e67d225668fa1f8d618c13dc232df0ca...                 1471   \n",
       "3  00005ca1c9ed5f5146b52ac8639a40ca9d57aeff4d1bd2...                61177   \n",
       "4  00006413d8573cd20ed7128e53b7b13819fe5cfc2d801f...                 2183   \n",
       "\n",
       "                           article_id_idx_historical _merge  \n",
       "0  29518, 101, 30329, 50726, 16005, 16005, 23998,...   both  \n",
       "1  19335, 33750, 33993, 8218, 41026, 19335, 42628...   both  \n",
       "2                  40181, 10522, 40181, 18199, 59460   both  \n",
       "3                                              64527   both  \n",
       "4                   32249, 43444, 51126, 54463, 2183   both  "
      ]
     },
     "execution_count": 41,
     "metadata": {},
     "output_type": "execute_result"
    }
   ],
   "source": [
    "train_combined_new = pd.concat(\n",
    "    [\n",
    "        train_combined[train_combined['_merge'] == 'both'],\n",
    "        train_combined[train_combined['_merge'] != 'both'].sample(n=number_to_sample, random_state=3)\n",
    "    ]\n",
    ")\n",
    "\n",
    "train_combined_new.head()"
   ]
  },
  {
   "cell_type": "code",
   "execution_count": 42,
   "id": "ccedfc53",
   "metadata": {},
   "outputs": [
    {
     "data": {
      "text/plain": [
       "both          0.975001\n",
       "left_only     0.024999\n",
       "right_only    0.000000\n",
       "Name: _merge, dtype: float64"
      ]
     },
     "execution_count": 42,
     "metadata": {},
     "output_type": "execute_result"
    }
   ],
   "source": [
    "train_combined_new['_merge'].value_counts() / train_combined_new.shape[0]"
   ]
  },
  {
   "cell_type": "code",
   "execution_count": 43,
   "id": "048a299d",
   "metadata": {},
   "outputs": [],
   "source": [
    "train_combined_new.drop('_merge', axis=1, inplace=True)"
   ]
  },
  {
   "cell_type": "code",
   "execution_count": 44,
   "id": "f465163c",
   "metadata": {},
   "outputs": [
    {
     "data": {
      "text/plain": [
       "customer_id                      0\n",
       "article_id_idx_label             0\n",
       "article_id_idx_historical    26637\n",
       "dtype: int64"
      ]
     },
     "execution_count": 44,
     "metadata": {},
     "output_type": "execute_result"
    }
   ],
   "source": [
    "train_combined_new.isnull().sum()"
   ]
  },
  {
   "cell_type": "code",
   "execution_count": 45,
   "id": "54025901",
   "metadata": {},
   "outputs": [],
   "source": [
    "NO_HISTORY_ARTICLE_ID_IDX = '1'\n",
    "\n",
    "train_combined_new['article_id_idx_historical'].fillna(NO_HISTORY_ARTICLE_ID_IDX, inplace=True)"
   ]
  },
  {
   "cell_type": "code",
   "execution_count": 46,
   "id": "25f47383",
   "metadata": {},
   "outputs": [
    {
     "name": "stdout",
     "output_type": "stream",
     "text": [
      "(1065505, 3)\n"
     ]
    },
    {
     "data": {
      "text/html": [
       "<div>\n",
       "<style scoped>\n",
       "    .dataframe tbody tr th:only-of-type {\n",
       "        vertical-align: middle;\n",
       "    }\n",
       "\n",
       "    .dataframe tbody tr th {\n",
       "        vertical-align: top;\n",
       "    }\n",
       "\n",
       "    .dataframe thead th {\n",
       "        text-align: right;\n",
       "    }\n",
       "</style>\n",
       "<table border=\"1\" class=\"dataframe\">\n",
       "  <thead>\n",
       "    <tr style=\"text-align: right;\">\n",
       "      <th></th>\n",
       "      <th>customer_id</th>\n",
       "      <th>article_id_idx_label</th>\n",
       "      <th>article_id_idx_historical</th>\n",
       "    </tr>\n",
       "  </thead>\n",
       "  <tbody>\n",
       "    <tr>\n",
       "      <th>0</th>\n",
       "      <td>00000dbacae5abe5e23885899a1fa44253a17956c6d1c3...</td>\n",
       "      <td>93746</td>\n",
       "      <td>29518, 101, 30329, 50726, 16005, 16005, 23998,...</td>\n",
       "    </tr>\n",
       "    <tr>\n",
       "      <th>1</th>\n",
       "      <td>0000423b00ade91418cceaf3b26c6af3dd342b51fd051e...</td>\n",
       "      <td>59460</td>\n",
       "      <td>19335, 33750, 33993, 8218, 41026, 19335, 42628...</td>\n",
       "    </tr>\n",
       "    <tr>\n",
       "      <th>2</th>\n",
       "      <td>000058a12d5b43e67d225668fa1f8d618c13dc232df0ca...</td>\n",
       "      <td>1471</td>\n",
       "      <td>40181, 10522, 40181, 18199, 59460</td>\n",
       "    </tr>\n",
       "    <tr>\n",
       "      <th>3</th>\n",
       "      <td>00005ca1c9ed5f5146b52ac8639a40ca9d57aeff4d1bd2...</td>\n",
       "      <td>61177</td>\n",
       "      <td>64527</td>\n",
       "    </tr>\n",
       "    <tr>\n",
       "      <th>4</th>\n",
       "      <td>00006413d8573cd20ed7128e53b7b13819fe5cfc2d801f...</td>\n",
       "      <td>2183</td>\n",
       "      <td>32249, 43444, 51126, 54463, 2183</td>\n",
       "    </tr>\n",
       "  </tbody>\n",
       "</table>\n",
       "</div>"
      ],
      "text/plain": [
       "                                         customer_id article_id_idx_label  \\\n",
       "0  00000dbacae5abe5e23885899a1fa44253a17956c6d1c3...                93746   \n",
       "1  0000423b00ade91418cceaf3b26c6af3dd342b51fd051e...                59460   \n",
       "2  000058a12d5b43e67d225668fa1f8d618c13dc232df0ca...                 1471   \n",
       "3  00005ca1c9ed5f5146b52ac8639a40ca9d57aeff4d1bd2...                61177   \n",
       "4  00006413d8573cd20ed7128e53b7b13819fe5cfc2d801f...                 2183   \n",
       "\n",
       "                           article_id_idx_historical  \n",
       "0  29518, 101, 30329, 50726, 16005, 16005, 23998,...  \n",
       "1  19335, 33750, 33993, 8218, 41026, 19335, 42628...  \n",
       "2                  40181, 10522, 40181, 18199, 59460  \n",
       "3                                              64527  \n",
       "4                   32249, 43444, 51126, 54463, 2183  "
      ]
     },
     "execution_count": 46,
     "metadata": {},
     "output_type": "execute_result"
    }
   ],
   "source": [
    "print(train_combined_new.shape)\n",
    "train_combined_new.head()"
   ]
  },
  {
   "cell_type": "markdown",
   "id": "aab1bd54",
   "metadata": {},
   "source": [
    "Save"
   ]
  },
  {
   "cell_type": "code",
   "execution_count": 47,
   "id": "4dd82406",
   "metadata": {},
   "outputs": [],
   "source": [
    "train_combined_new.to_csv('data/splits/train_single_purchase_label.csv', index=False)"
   ]
  },
  {
   "cell_type": "markdown",
   "id": "c2948838",
   "metadata": {},
   "source": [
    "#### Prepare dev data"
   ]
  },
  {
   "cell_type": "code",
   "execution_count": 79,
   "id": "9b987191",
   "metadata": {},
   "outputs": [
    {
     "data": {
      "text/html": [
       "<div>\n",
       "<style scoped>\n",
       "    .dataframe tbody tr th:only-of-type {\n",
       "        vertical-align: middle;\n",
       "    }\n",
       "\n",
       "    .dataframe tbody tr th {\n",
       "        vertical-align: top;\n",
       "    }\n",
       "\n",
       "    .dataframe thead th {\n",
       "        text-align: right;\n",
       "    }\n",
       "</style>\n",
       "<table border=\"1\" class=\"dataframe\">\n",
       "  <thead>\n",
       "    <tr style=\"text-align: right;\">\n",
       "      <th></th>\n",
       "      <th>t_dat</th>\n",
       "      <th>customer_id</th>\n",
       "      <th>article_id</th>\n",
       "      <th>price</th>\n",
       "      <th>sales_channel_id</th>\n",
       "      <th>article_id_idx</th>\n",
       "    </tr>\n",
       "  </thead>\n",
       "  <tbody>\n",
       "    <tr>\n",
       "      <th>31292772</th>\n",
       "      <td>2020-09-09</td>\n",
       "      <td>000493dd9fc463df1acc2081450c9e75ef8e87d5dd17ed...</td>\n",
       "      <td>0399136061</td>\n",
       "      <td>0.083390</td>\n",
       "      <td>2</td>\n",
       "      <td>2221</td>\n",
       "    </tr>\n",
       "    <tr>\n",
       "      <th>31292773</th>\n",
       "      <td>2020-09-09</td>\n",
       "      <td>000493dd9fc463df1acc2081450c9e75ef8e87d5dd17ed...</td>\n",
       "      <td>0732842014</td>\n",
       "      <td>0.066712</td>\n",
       "      <td>2</td>\n",
       "      <td>61305</td>\n",
       "    </tr>\n",
       "    <tr>\n",
       "      <th>31292774</th>\n",
       "      <td>2020-09-09</td>\n",
       "      <td>000493dd9fc463df1acc2081450c9e75ef8e87d5dd17ed...</td>\n",
       "      <td>0556255001</td>\n",
       "      <td>0.010000</td>\n",
       "      <td>2</td>\n",
       "      <td>13044</td>\n",
       "    </tr>\n",
       "    <tr>\n",
       "      <th>31292775</th>\n",
       "      <td>2020-09-09</td>\n",
       "      <td>000493dd9fc463df1acc2081450c9e75ef8e87d5dd17ed...</td>\n",
       "      <td>0852219003</td>\n",
       "      <td>0.008322</td>\n",
       "      <td>2</td>\n",
       "      <td>92031</td>\n",
       "    </tr>\n",
       "    <tr>\n",
       "      <th>31292776</th>\n",
       "      <td>2020-09-09</td>\n",
       "      <td>000493dd9fc463df1acc2081450c9e75ef8e87d5dd17ed...</td>\n",
       "      <td>0732842021</td>\n",
       "      <td>0.066712</td>\n",
       "      <td>2</td>\n",
       "      <td>61307</td>\n",
       "    </tr>\n",
       "  </tbody>\n",
       "</table>\n",
       "</div>"
      ],
      "text/plain": [
       "              t_dat                                        customer_id  \\\n",
       "31292772 2020-09-09  000493dd9fc463df1acc2081450c9e75ef8e87d5dd17ed...   \n",
       "31292773 2020-09-09  000493dd9fc463df1acc2081450c9e75ef8e87d5dd17ed...   \n",
       "31292774 2020-09-09  000493dd9fc463df1acc2081450c9e75ef8e87d5dd17ed...   \n",
       "31292775 2020-09-09  000493dd9fc463df1acc2081450c9e75ef8e87d5dd17ed...   \n",
       "31292776 2020-09-09  000493dd9fc463df1acc2081450c9e75ef8e87d5dd17ed...   \n",
       "\n",
       "          article_id     price  sales_channel_id  article_id_idx  \n",
       "31292772  0399136061  0.083390                 2            2221  \n",
       "31292773  0732842014  0.066712                 2           61305  \n",
       "31292774  0556255001  0.010000                 2           13044  \n",
       "31292775  0852219003  0.008322                 2           92031  \n",
       "31292776  0732842021  0.066712                 2           61307  "
      ]
     },
     "execution_count": 79,
     "metadata": {},
     "output_type": "execute_result"
    }
   ],
   "source": [
    "dev_df.head()"
   ]
  },
  {
   "cell_type": "markdown",
   "id": "98de7a96",
   "metadata": {},
   "source": [
    "Make all and single-purchase labels"
   ]
  },
  {
   "cell_type": "code",
   "execution_count": 48,
   "id": "4f2aa656",
   "metadata": {},
   "outputs": [],
   "source": [
    "dev_df['article_id_idx'] = dev_df['article_id_idx'].astype(str)"
   ]
  },
  {
   "cell_type": "code",
   "execution_count": 71,
   "id": "e1aad70a",
   "metadata": {},
   "outputs": [
    {
     "data": {
      "text/html": [
       "<div>\n",
       "<style scoped>\n",
       "    .dataframe tbody tr th:only-of-type {\n",
       "        vertical-align: middle;\n",
       "    }\n",
       "\n",
       "    .dataframe tbody tr th {\n",
       "        vertical-align: top;\n",
       "    }\n",
       "\n",
       "    .dataframe thead th {\n",
       "        text-align: right;\n",
       "    }\n",
       "</style>\n",
       "<table border=\"1\" class=\"dataframe\">\n",
       "  <thead>\n",
       "    <tr style=\"text-align: right;\">\n",
       "      <th></th>\n",
       "      <th>customer_id</th>\n",
       "      <th>article_id_idx</th>\n",
       "    </tr>\n",
       "  </thead>\n",
       "  <tbody>\n",
       "    <tr>\n",
       "      <th>0</th>\n",
       "      <td>000058a12d5b43e67d225668fa1f8d618c13dc232df0ca...</td>\n",
       "      <td>78505</td>\n",
       "    </tr>\n",
       "    <tr>\n",
       "      <th>1</th>\n",
       "      <td>0000757967448a6cb83efb3ea7a3fb9d418ac7adf2379d...</td>\n",
       "      <td>58297, 3093</td>\n",
       "    </tr>\n",
       "    <tr>\n",
       "      <th>2</th>\n",
       "      <td>0001d44dbe7f6c4b35200abdb052c77a87596fe1bdcc37...</td>\n",
       "      <td>61918</td>\n",
       "    </tr>\n",
       "    <tr>\n",
       "      <th>3</th>\n",
       "      <td>0003e867a930d0d6842f923d6ba7c9b77aba33fe2a0fbf...</td>\n",
       "      <td>33870, 27907, 98608, 98608, 100230</td>\n",
       "    </tr>\n",
       "    <tr>\n",
       "      <th>4</th>\n",
       "      <td>00040239317e877c77ac6e79df42eb2633ad38fcac09fc...</td>\n",
       "      <td>97668, 97669, 97668, 97669</td>\n",
       "    </tr>\n",
       "  </tbody>\n",
       "</table>\n",
       "</div>"
      ],
      "text/plain": [
       "                                         customer_id  \\\n",
       "0  000058a12d5b43e67d225668fa1f8d618c13dc232df0ca...   \n",
       "1  0000757967448a6cb83efb3ea7a3fb9d418ac7adf2379d...   \n",
       "2  0001d44dbe7f6c4b35200abdb052c77a87596fe1bdcc37...   \n",
       "3  0003e867a930d0d6842f923d6ba7c9b77aba33fe2a0fbf...   \n",
       "4  00040239317e877c77ac6e79df42eb2633ad38fcac09fc...   \n",
       "\n",
       "                       article_id_idx  \n",
       "0                               78505  \n",
       "1                         58297, 3093  \n",
       "2                               61918  \n",
       "3  33870, 27907, 98608, 98608, 100230  \n",
       "4          97668, 97669, 97668, 97669  "
      ]
     },
     "execution_count": 71,
     "metadata": {},
     "output_type": "execute_result"
    }
   ],
   "source": [
    "dev_labels_all_purchases = (\n",
    "    dev_df[['customer_id', 'article_id_idx']]\n",
    "    .groupby('customer_id')\n",
    "    .agg({\n",
    "        'article_id_idx': ', '.join\n",
    "    })\n",
    "    .reset_index()\n",
    ")\n",
    "\n",
    "dev_labels_all_purchases.head()"
   ]
  },
  {
   "cell_type": "code",
   "execution_count": 77,
   "id": "ad679f54",
   "metadata": {},
   "outputs": [
    {
     "data": {
      "text/html": [
       "<div>\n",
       "<style scoped>\n",
       "    .dataframe tbody tr th:only-of-type {\n",
       "        vertical-align: middle;\n",
       "    }\n",
       "\n",
       "    .dataframe tbody tr th {\n",
       "        vertical-align: top;\n",
       "    }\n",
       "\n",
       "    .dataframe thead th {\n",
       "        text-align: right;\n",
       "    }\n",
       "</style>\n",
       "<table border=\"1\" class=\"dataframe\">\n",
       "  <thead>\n",
       "    <tr style=\"text-align: right;\">\n",
       "      <th></th>\n",
       "      <th>customer_id</th>\n",
       "      <th>article_id_idx</th>\n",
       "    </tr>\n",
       "  </thead>\n",
       "  <tbody>\n",
       "    <tr>\n",
       "      <th>31521960</th>\n",
       "      <td>000058a12d5b43e67d225668fa1f8d618c13dc232df0ca...</td>\n",
       "      <td>78505</td>\n",
       "    </tr>\n",
       "    <tr>\n",
       "      <th>31492019</th>\n",
       "      <td>0000757967448a6cb83efb3ea7a3fb9d418ac7adf2379d...</td>\n",
       "      <td>58297</td>\n",
       "    </tr>\n",
       "    <tr>\n",
       "      <th>31492021</th>\n",
       "      <td>0001d44dbe7f6c4b35200abdb052c77a87596fe1bdcc37...</td>\n",
       "      <td>61918</td>\n",
       "    </tr>\n",
       "    <tr>\n",
       "      <th>31412220</th>\n",
       "      <td>0003e867a930d0d6842f923d6ba7c9b77aba33fe2a0fbf...</td>\n",
       "      <td>33870</td>\n",
       "    </tr>\n",
       "    <tr>\n",
       "      <th>31412224</th>\n",
       "      <td>00040239317e877c77ac6e79df42eb2633ad38fcac09fc...</td>\n",
       "      <td>97668</td>\n",
       "    </tr>\n",
       "  </tbody>\n",
       "</table>\n",
       "</div>"
      ],
      "text/plain": [
       "                                                customer_id article_id_idx\n",
       "31521960  000058a12d5b43e67d225668fa1f8d618c13dc232df0ca...          78505\n",
       "31492019  0000757967448a6cb83efb3ea7a3fb9d418ac7adf2379d...          58297\n",
       "31492021  0001d44dbe7f6c4b35200abdb052c77a87596fe1bdcc37...          61918\n",
       "31412220  0003e867a930d0d6842f923d6ba7c9b77aba33fe2a0fbf...          33870\n",
       "31412224  00040239317e877c77ac6e79df42eb2633ad38fcac09fc...          97668"
      ]
     },
     "execution_count": 77,
     "metadata": {},
     "output_type": "execute_result"
    }
   ],
   "source": [
    "dev_labels_single_label = dev_df.copy()[['customer_id', 'article_id_idx']].groupby('customer_id').head(1)\n",
    "\n",
    "dev_labels_single_label.head()"
   ]
  },
  {
   "cell_type": "code",
   "execution_count": 78,
   "id": "207b49c2",
   "metadata": {},
   "outputs": [
    {
     "data": {
      "text/plain": [
       "(72019, 72019)"
      ]
     },
     "execution_count": 78,
     "metadata": {},
     "output_type": "execute_result"
    }
   ],
   "source": [
    "dev_labels_all_purchases.shape[0], dev_labels_single_label.shape[0]"
   ]
  },
  {
   "cell_type": "code",
   "execution_count": 80,
   "id": "9378c344",
   "metadata": {},
   "outputs": [
    {
     "data": {
      "text/html": [
       "<div>\n",
       "<style scoped>\n",
       "    .dataframe tbody tr th:only-of-type {\n",
       "        vertical-align: middle;\n",
       "    }\n",
       "\n",
       "    .dataframe tbody tr th {\n",
       "        vertical-align: top;\n",
       "    }\n",
       "\n",
       "    .dataframe thead th {\n",
       "        text-align: right;\n",
       "    }\n",
       "</style>\n",
       "<table border=\"1\" class=\"dataframe\">\n",
       "  <thead>\n",
       "    <tr style=\"text-align: right;\">\n",
       "      <th></th>\n",
       "      <th>customer_id</th>\n",
       "      <th>article_id_idx_all_purchases</th>\n",
       "      <th>article_id_idx_single_label</th>\n",
       "    </tr>\n",
       "  </thead>\n",
       "  <tbody>\n",
       "    <tr>\n",
       "      <th>0</th>\n",
       "      <td>000058a12d5b43e67d225668fa1f8d618c13dc232df0ca...</td>\n",
       "      <td>78505</td>\n",
       "      <td>78505</td>\n",
       "    </tr>\n",
       "    <tr>\n",
       "      <th>1</th>\n",
       "      <td>0000757967448a6cb83efb3ea7a3fb9d418ac7adf2379d...</td>\n",
       "      <td>58297, 3093</td>\n",
       "      <td>58297</td>\n",
       "    </tr>\n",
       "    <tr>\n",
       "      <th>2</th>\n",
       "      <td>0001d44dbe7f6c4b35200abdb052c77a87596fe1bdcc37...</td>\n",
       "      <td>61918</td>\n",
       "      <td>61918</td>\n",
       "    </tr>\n",
       "    <tr>\n",
       "      <th>3</th>\n",
       "      <td>0003e867a930d0d6842f923d6ba7c9b77aba33fe2a0fbf...</td>\n",
       "      <td>33870, 27907, 98608, 98608, 100230</td>\n",
       "      <td>33870</td>\n",
       "    </tr>\n",
       "    <tr>\n",
       "      <th>4</th>\n",
       "      <td>00040239317e877c77ac6e79df42eb2633ad38fcac09fc...</td>\n",
       "      <td>97668, 97669, 97668, 97669</td>\n",
       "      <td>97668</td>\n",
       "    </tr>\n",
       "  </tbody>\n",
       "</table>\n",
       "</div>"
      ],
      "text/plain": [
       "                                         customer_id  \\\n",
       "0  000058a12d5b43e67d225668fa1f8d618c13dc232df0ca...   \n",
       "1  0000757967448a6cb83efb3ea7a3fb9d418ac7adf2379d...   \n",
       "2  0001d44dbe7f6c4b35200abdb052c77a87596fe1bdcc37...   \n",
       "3  0003e867a930d0d6842f923d6ba7c9b77aba33fe2a0fbf...   \n",
       "4  00040239317e877c77ac6e79df42eb2633ad38fcac09fc...   \n",
       "\n",
       "         article_id_idx_all_purchases article_id_idx_single_label  \n",
       "0                               78505                       78505  \n",
       "1                         58297, 3093                       58297  \n",
       "2                               61918                       61918  \n",
       "3  33870, 27907, 98608, 98608, 100230                       33870  \n",
       "4          97668, 97669, 97668, 97669                       97668  "
      ]
     },
     "execution_count": 80,
     "metadata": {},
     "output_type": "execute_result"
    }
   ],
   "source": [
    "dev_labels = dev_labels_all_purchases.merge(dev_labels_single_label, on='customer_id', suffixes=('_all_purchases', '_single_label'))\n",
    "dev_labels.head()"
   ]
  },
  {
   "cell_type": "markdown",
   "id": "d7b1841d",
   "metadata": {},
   "source": [
    "Merge on historical purchases from training data"
   ]
  },
  {
   "cell_type": "code",
   "execution_count": 84,
   "id": "8a3d7b9b",
   "metadata": {},
   "outputs": [
    {
     "name": "stdout",
     "output_type": "stream",
     "text": [
      "(72019, 4)\n"
     ]
    },
    {
     "data": {
      "text/html": [
       "<div>\n",
       "<style scoped>\n",
       "    .dataframe tbody tr th:only-of-type {\n",
       "        vertical-align: middle;\n",
       "    }\n",
       "\n",
       "    .dataframe tbody tr th {\n",
       "        vertical-align: top;\n",
       "    }\n",
       "\n",
       "    .dataframe thead th {\n",
       "        text-align: right;\n",
       "    }\n",
       "</style>\n",
       "<table border=\"1\" class=\"dataframe\">\n",
       "  <thead>\n",
       "    <tr style=\"text-align: right;\">\n",
       "      <th></th>\n",
       "      <th>customer_id</th>\n",
       "      <th>article_id_idx_all_purchases</th>\n",
       "      <th>article_id_idx_single_label</th>\n",
       "      <th>article_id_idx_historical</th>\n",
       "    </tr>\n",
       "  </thead>\n",
       "  <tbody>\n",
       "    <tr>\n",
       "      <th>0</th>\n",
       "      <td>000058a12d5b43e67d225668fa1f8d618c13dc232df0ca...</td>\n",
       "      <td>78505</td>\n",
       "      <td>78505</td>\n",
       "      <td>40181, 10522, 40181, 18199, 59460</td>\n",
       "    </tr>\n",
       "    <tr>\n",
       "      <th>1</th>\n",
       "      <td>0000757967448a6cb83efb3ea7a3fb9d418ac7adf2379d...</td>\n",
       "      <td>58297, 3093</td>\n",
       "      <td>58297</td>\n",
       "      <td>62290</td>\n",
       "    </tr>\n",
       "    <tr>\n",
       "      <th>2</th>\n",
       "      <td>0001d44dbe7f6c4b35200abdb052c77a87596fe1bdcc37...</td>\n",
       "      <td>61918</td>\n",
       "      <td>61918</td>\n",
       "      <td>16166, 16166, 39929, 8343, 930, 41146, 44864, ...</td>\n",
       "    </tr>\n",
       "    <tr>\n",
       "      <th>3</th>\n",
       "      <td>0003e867a930d0d6842f923d6ba7c9b77aba33fe2a0fbf...</td>\n",
       "      <td>33870, 27907, 98608, 98608, 100230</td>\n",
       "      <td>33870</td>\n",
       "      <td>86217, 1782, 96637, 61604, 97679</td>\n",
       "    </tr>\n",
       "    <tr>\n",
       "      <th>4</th>\n",
       "      <td>00040239317e877c77ac6e79df42eb2633ad38fcac09fc...</td>\n",
       "      <td>97668, 97669, 97668, 97669</td>\n",
       "      <td>97668</td>\n",
       "      <td>25554, 75579, 60345, 27440, 59102, 48230, 8339...</td>\n",
       "    </tr>\n",
       "  </tbody>\n",
       "</table>\n",
       "</div>"
      ],
      "text/plain": [
       "                                         customer_id  \\\n",
       "0  000058a12d5b43e67d225668fa1f8d618c13dc232df0ca...   \n",
       "1  0000757967448a6cb83efb3ea7a3fb9d418ac7adf2379d...   \n",
       "2  0001d44dbe7f6c4b35200abdb052c77a87596fe1bdcc37...   \n",
       "3  0003e867a930d0d6842f923d6ba7c9b77aba33fe2a0fbf...   \n",
       "4  00040239317e877c77ac6e79df42eb2633ad38fcac09fc...   \n",
       "\n",
       "         article_id_idx_all_purchases article_id_idx_single_label  \\\n",
       "0                               78505                       78505   \n",
       "1                         58297, 3093                       58297   \n",
       "2                               61918                       61918   \n",
       "3  33870, 27907, 98608, 98608, 100230                       33870   \n",
       "4          97668, 97669, 97668, 97669                       97668   \n",
       "\n",
       "                           article_id_idx_historical  \n",
       "0                  40181, 10522, 40181, 18199, 59460  \n",
       "1                                              62290  \n",
       "2  16166, 16166, 39929, 8343, 930, 41146, 44864, ...  \n",
       "3                   86217, 1782, 96637, 61604, 97679  \n",
       "4  25554, 75579, 60345, 27440, 59102, 48230, 8339...  "
      ]
     },
     "execution_count": 84,
     "metadata": {},
     "output_type": "execute_result"
    }
   ],
   "source": [
    "dev_labels = dev_labels.merge(train_historical_purchases, on='customer_id', how='left').rename(columns={'article_id_idx': 'article_id_idx_historical'})\n",
    "print(dev_labels.shape)\n",
    "dev_labels.head()"
   ]
  },
  {
   "cell_type": "code",
   "execution_count": 85,
   "id": "ad985057",
   "metadata": {},
   "outputs": [],
   "source": [
    "dev_labels['article_id_idx_historical'].fillna(NO_HISTORY_ARTICLE_ID_IDX, inplace=True)"
   ]
  },
  {
   "cell_type": "code",
   "execution_count": 86,
   "id": "838791d6",
   "metadata": {},
   "outputs": [
    {
     "name": "stdout",
     "output_type": "stream",
     "text": [
      "<class 'pandas.core.frame.DataFrame'>\n",
      "Int64Index: 72019 entries, 0 to 72018\n",
      "Data columns (total 4 columns):\n",
      " #   Column                        Non-Null Count  Dtype \n",
      "---  ------                        --------------  ----- \n",
      " 0   customer_id                   72019 non-null  object\n",
      " 1   article_id_idx_all_purchases  72019 non-null  object\n",
      " 2   article_id_idx_single_label   72019 non-null  object\n",
      " 3   article_id_idx_historical     72019 non-null  object\n",
      "dtypes: object(4)\n",
      "memory usage: 2.7+ MB\n"
     ]
    }
   ],
   "source": [
    "dev_labels.info()"
   ]
  },
  {
   "cell_type": "code",
   "execution_count": 93,
   "id": "0bae2ca9",
   "metadata": {},
   "outputs": [],
   "source": [
    "# All purchase label\n",
    "(\n",
    "    dev_labels[['customer_id', 'article_id_idx_all_purchases', 'article_id_idx_historical']]\n",
    "    .rename(columns={'article_id_idx_all_purchases': 'article_id_idx_label'})\n",
    "    .to_csv('data/splits/dev_all_purchase_label.csv', index=False)\n",
    ")"
   ]
  },
  {
   "cell_type": "code",
   "execution_count": 91,
   "id": "006f7bdf",
   "metadata": {},
   "outputs": [],
   "source": [
    "# Single purchase label\n",
    "(\n",
    "    dev_labels[['customer_id', 'article_id_idx_single_label', 'article_id_idx_historical']]\n",
    "    .rename(columns={'article_id_idx_single_label': 'article_id_idx_label'})\n",
    "    .to_csv('data/splits/dev_single_purchase_label.csv', index=False)\n",
    ")"
   ]
  },
  {
   "cell_type": "markdown",
   "id": "3abf4c0f",
   "metadata": {},
   "source": [
    "#### Prepare test data\n",
    "\n",
    "TODO"
   ]
  }
 ],
 "metadata": {
  "kernelspec": {
   "display_name": "Python 3 (ipykernel)",
   "language": "python",
   "name": "python3"
  },
  "language_info": {
   "codemirror_mode": {
    "name": "ipython",
    "version": 3
   },
   "file_extension": ".py",
   "mimetype": "text/x-python",
   "name": "python",
   "nbconvert_exporter": "python",
   "pygments_lexer": "ipython3",
   "version": "3.8.12"
  }
 },
 "nbformat": 4,
 "nbformat_minor": 5
}
