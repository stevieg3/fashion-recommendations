{
 "cells": [
  {
   "cell_type": "markdown",
   "id": "af63e61f",
   "metadata": {},
   "source": [
    "Evaluation set is \"predicted items a customer will buy in the next 7-day period after the training time period\".\n",
    "\n",
    "Given this we will use a _global temporal_ split: a fixed time-point that is shared across all users, where any interactions after that point are used for testing.\n",
    "\n",
    "We will take the last 7-day period as a test set and the 7-day period before that as validation.\n",
    "\n",
    "~2.5% of users in the sample submission are not in the training set (cold-start users). We check that our splits have similar proportions of cold-start users. Note however that these customers may not have necessarily made purchases.\n",
    "\n",
    "__Approach__:\n",
    "\n",
    "_Training set_:\n",
    "- Map `article_id` to `article_id_idx`\n",
    "- Create (single-purchase) labels\n",
    "- For customers _with_ purchase history, concatenate historical `article_id_idx`s into a comma-separated string\n",
    "- For customers _without_ purchase history, create history value `'1'`\n",
    "- Sort history and label DataFrames so they are aligned \n",
    "- Save both files separately as CSVs\n",
    "- Note: For all-purchase labels can look at purchases 1 week from selected label\n",
    "\n",
    "_Dev/Test set_:\n",
    "- Need single-purchase labels for loss and all purchases for MAP\n",
    "- For single-purchase labels take first purchase by `customer_id` in `dev_df`\n",
    "- Save all purchase labels separately\n",
    "- Same logic as above for input and construct using data from `train_df` for dev set, and `train_df` and `dev_df` for test set"
   ]
  },
  {
   "cell_type": "code",
   "execution_count": 1,
   "id": "91e1d062",
   "metadata": {},
   "outputs": [],
   "source": [
    "import os\n",
    "import datetime\n",
    "\n",
    "import pandas as pd\n",
    "import numpy as np"
   ]
  },
  {
   "cell_type": "code",
   "execution_count": 2,
   "id": "c259aa01",
   "metadata": {},
   "outputs": [],
   "source": [
    "os.chdir('..')"
   ]
  },
  {
   "cell_type": "markdown",
   "id": "c2a0f4e5",
   "metadata": {},
   "source": [
    "#### Map `article_id`s to numeric indices"
   ]
  },
  {
   "cell_type": "code",
   "execution_count": 3,
   "id": "9a63d617",
   "metadata": {},
   "outputs": [
    {
     "name": "stdout",
     "output_type": "stream",
     "text": [
      "(105542, 25)\n"
     ]
    },
    {
     "data": {
      "text/html": [
       "<div>\n",
       "<style scoped>\n",
       "    .dataframe tbody tr th:only-of-type {\n",
       "        vertical-align: middle;\n",
       "    }\n",
       "\n",
       "    .dataframe tbody tr th {\n",
       "        vertical-align: top;\n",
       "    }\n",
       "\n",
       "    .dataframe thead th {\n",
       "        text-align: right;\n",
       "    }\n",
       "</style>\n",
       "<table border=\"1\" class=\"dataframe\">\n",
       "  <thead>\n",
       "    <tr style=\"text-align: right;\">\n",
       "      <th></th>\n",
       "      <th>article_id</th>\n",
       "      <th>product_code</th>\n",
       "      <th>prod_name</th>\n",
       "      <th>product_type_no</th>\n",
       "      <th>product_type_name</th>\n",
       "      <th>product_group_name</th>\n",
       "      <th>graphical_appearance_no</th>\n",
       "      <th>graphical_appearance_name</th>\n",
       "      <th>colour_group_code</th>\n",
       "      <th>colour_group_name</th>\n",
       "      <th>...</th>\n",
       "      <th>department_name</th>\n",
       "      <th>index_code</th>\n",
       "      <th>index_name</th>\n",
       "      <th>index_group_no</th>\n",
       "      <th>index_group_name</th>\n",
       "      <th>section_no</th>\n",
       "      <th>section_name</th>\n",
       "      <th>garment_group_no</th>\n",
       "      <th>garment_group_name</th>\n",
       "      <th>detail_desc</th>\n",
       "    </tr>\n",
       "  </thead>\n",
       "  <tbody>\n",
       "    <tr>\n",
       "      <th>0</th>\n",
       "      <td>0108775015</td>\n",
       "      <td>108775</td>\n",
       "      <td>Strap top</td>\n",
       "      <td>253</td>\n",
       "      <td>Vest top</td>\n",
       "      <td>Garment Upper body</td>\n",
       "      <td>1010016</td>\n",
       "      <td>Solid</td>\n",
       "      <td>9</td>\n",
       "      <td>Black</td>\n",
       "      <td>...</td>\n",
       "      <td>Jersey Basic</td>\n",
       "      <td>A</td>\n",
       "      <td>Ladieswear</td>\n",
       "      <td>1</td>\n",
       "      <td>Ladieswear</td>\n",
       "      <td>16</td>\n",
       "      <td>Womens Everyday Basics</td>\n",
       "      <td>1002</td>\n",
       "      <td>Jersey Basic</td>\n",
       "      <td>Jersey top with narrow shoulder straps.</td>\n",
       "    </tr>\n",
       "    <tr>\n",
       "      <th>1</th>\n",
       "      <td>0108775044</td>\n",
       "      <td>108775</td>\n",
       "      <td>Strap top</td>\n",
       "      <td>253</td>\n",
       "      <td>Vest top</td>\n",
       "      <td>Garment Upper body</td>\n",
       "      <td>1010016</td>\n",
       "      <td>Solid</td>\n",
       "      <td>10</td>\n",
       "      <td>White</td>\n",
       "      <td>...</td>\n",
       "      <td>Jersey Basic</td>\n",
       "      <td>A</td>\n",
       "      <td>Ladieswear</td>\n",
       "      <td>1</td>\n",
       "      <td>Ladieswear</td>\n",
       "      <td>16</td>\n",
       "      <td>Womens Everyday Basics</td>\n",
       "      <td>1002</td>\n",
       "      <td>Jersey Basic</td>\n",
       "      <td>Jersey top with narrow shoulder straps.</td>\n",
       "    </tr>\n",
       "    <tr>\n",
       "      <th>2</th>\n",
       "      <td>0108775051</td>\n",
       "      <td>108775</td>\n",
       "      <td>Strap top (1)</td>\n",
       "      <td>253</td>\n",
       "      <td>Vest top</td>\n",
       "      <td>Garment Upper body</td>\n",
       "      <td>1010017</td>\n",
       "      <td>Stripe</td>\n",
       "      <td>11</td>\n",
       "      <td>Off White</td>\n",
       "      <td>...</td>\n",
       "      <td>Jersey Basic</td>\n",
       "      <td>A</td>\n",
       "      <td>Ladieswear</td>\n",
       "      <td>1</td>\n",
       "      <td>Ladieswear</td>\n",
       "      <td>16</td>\n",
       "      <td>Womens Everyday Basics</td>\n",
       "      <td>1002</td>\n",
       "      <td>Jersey Basic</td>\n",
       "      <td>Jersey top with narrow shoulder straps.</td>\n",
       "    </tr>\n",
       "    <tr>\n",
       "      <th>3</th>\n",
       "      <td>0110065001</td>\n",
       "      <td>110065</td>\n",
       "      <td>OP T-shirt (Idro)</td>\n",
       "      <td>306</td>\n",
       "      <td>Bra</td>\n",
       "      <td>Underwear</td>\n",
       "      <td>1010016</td>\n",
       "      <td>Solid</td>\n",
       "      <td>9</td>\n",
       "      <td>Black</td>\n",
       "      <td>...</td>\n",
       "      <td>Clean Lingerie</td>\n",
       "      <td>B</td>\n",
       "      <td>Lingeries/Tights</td>\n",
       "      <td>1</td>\n",
       "      <td>Ladieswear</td>\n",
       "      <td>61</td>\n",
       "      <td>Womens Lingerie</td>\n",
       "      <td>1017</td>\n",
       "      <td>Under-, Nightwear</td>\n",
       "      <td>Microfibre T-shirt bra with underwired, moulde...</td>\n",
       "    </tr>\n",
       "    <tr>\n",
       "      <th>4</th>\n",
       "      <td>0110065002</td>\n",
       "      <td>110065</td>\n",
       "      <td>OP T-shirt (Idro)</td>\n",
       "      <td>306</td>\n",
       "      <td>Bra</td>\n",
       "      <td>Underwear</td>\n",
       "      <td>1010016</td>\n",
       "      <td>Solid</td>\n",
       "      <td>10</td>\n",
       "      <td>White</td>\n",
       "      <td>...</td>\n",
       "      <td>Clean Lingerie</td>\n",
       "      <td>B</td>\n",
       "      <td>Lingeries/Tights</td>\n",
       "      <td>1</td>\n",
       "      <td>Ladieswear</td>\n",
       "      <td>61</td>\n",
       "      <td>Womens Lingerie</td>\n",
       "      <td>1017</td>\n",
       "      <td>Under-, Nightwear</td>\n",
       "      <td>Microfibre T-shirt bra with underwired, moulde...</td>\n",
       "    </tr>\n",
       "  </tbody>\n",
       "</table>\n",
       "<p>5 rows × 25 columns</p>\n",
       "</div>"
      ],
      "text/plain": [
       "   article_id  product_code          prod_name  product_type_no  \\\n",
       "0  0108775015        108775          Strap top              253   \n",
       "1  0108775044        108775          Strap top              253   \n",
       "2  0108775051        108775      Strap top (1)              253   \n",
       "3  0110065001        110065  OP T-shirt (Idro)              306   \n",
       "4  0110065002        110065  OP T-shirt (Idro)              306   \n",
       "\n",
       "  product_type_name  product_group_name  graphical_appearance_no  \\\n",
       "0          Vest top  Garment Upper body                  1010016   \n",
       "1          Vest top  Garment Upper body                  1010016   \n",
       "2          Vest top  Garment Upper body                  1010017   \n",
       "3               Bra           Underwear                  1010016   \n",
       "4               Bra           Underwear                  1010016   \n",
       "\n",
       "  graphical_appearance_name  colour_group_code colour_group_name  ...  \\\n",
       "0                     Solid                  9             Black  ...   \n",
       "1                     Solid                 10             White  ...   \n",
       "2                    Stripe                 11         Off White  ...   \n",
       "3                     Solid                  9             Black  ...   \n",
       "4                     Solid                 10             White  ...   \n",
       "\n",
       "   department_name index_code        index_name index_group_no  \\\n",
       "0     Jersey Basic          A        Ladieswear              1   \n",
       "1     Jersey Basic          A        Ladieswear              1   \n",
       "2     Jersey Basic          A        Ladieswear              1   \n",
       "3   Clean Lingerie          B  Lingeries/Tights              1   \n",
       "4   Clean Lingerie          B  Lingeries/Tights              1   \n",
       "\n",
       "   index_group_name section_no            section_name garment_group_no  \\\n",
       "0        Ladieswear         16  Womens Everyday Basics             1002   \n",
       "1        Ladieswear         16  Womens Everyday Basics             1002   \n",
       "2        Ladieswear         16  Womens Everyday Basics             1002   \n",
       "3        Ladieswear         61         Womens Lingerie             1017   \n",
       "4        Ladieswear         61         Womens Lingerie             1017   \n",
       "\n",
       "   garment_group_name                                        detail_desc  \n",
       "0        Jersey Basic            Jersey top with narrow shoulder straps.  \n",
       "1        Jersey Basic            Jersey top with narrow shoulder straps.  \n",
       "2        Jersey Basic            Jersey top with narrow shoulder straps.  \n",
       "3   Under-, Nightwear  Microfibre T-shirt bra with underwired, moulde...  \n",
       "4   Under-, Nightwear  Microfibre T-shirt bra with underwired, moulde...  \n",
       "\n",
       "[5 rows x 25 columns]"
      ]
     },
     "execution_count": 3,
     "metadata": {},
     "output_type": "execute_result"
    }
   ],
   "source": [
    "articles_df = pd.read_csv('data/articles.csv', dtype={'article_id': str})  # Make sure article_id is being loading in as a string\n",
    "print(articles_df.shape)\n",
    "articles_df.head()"
   ]
  },
  {
   "cell_type": "code",
   "execution_count": 4,
   "id": "a4aa24be",
   "metadata": {},
   "outputs": [],
   "source": [
    "article_id_to_idx = dict(\n",
    "    zip(\n",
    "        articles_df['article_id'],\n",
    "        articles_df.index + 2\n",
    "    )\n",
    ")"
   ]
  },
  {
   "cell_type": "markdown",
   "id": "2fcca216",
   "metadata": {},
   "source": [
    "We reserve index `0` for padding and `1` for 'no history'"
   ]
  },
  {
   "cell_type": "markdown",
   "id": "4a2ff31f",
   "metadata": {},
   "source": [
    "#### Create splits"
   ]
  },
  {
   "cell_type": "code",
   "execution_count": 5,
   "id": "0b2fa502",
   "metadata": {},
   "outputs": [
    {
     "name": "stdout",
     "output_type": "stream",
     "text": [
      "(31788324, 5)\n"
     ]
    },
    {
     "data": {
      "text/html": [
       "<div>\n",
       "<style scoped>\n",
       "    .dataframe tbody tr th:only-of-type {\n",
       "        vertical-align: middle;\n",
       "    }\n",
       "\n",
       "    .dataframe tbody tr th {\n",
       "        vertical-align: top;\n",
       "    }\n",
       "\n",
       "    .dataframe thead th {\n",
       "        text-align: right;\n",
       "    }\n",
       "</style>\n",
       "<table border=\"1\" class=\"dataframe\">\n",
       "  <thead>\n",
       "    <tr style=\"text-align: right;\">\n",
       "      <th></th>\n",
       "      <th>t_dat</th>\n",
       "      <th>customer_id</th>\n",
       "      <th>article_id</th>\n",
       "      <th>price</th>\n",
       "      <th>sales_channel_id</th>\n",
       "    </tr>\n",
       "  </thead>\n",
       "  <tbody>\n",
       "    <tr>\n",
       "      <th>0</th>\n",
       "      <td>2018-09-20</td>\n",
       "      <td>000058a12d5b43e67d225668fa1f8d618c13dc232df0ca...</td>\n",
       "      <td>0663713001</td>\n",
       "      <td>0.050831</td>\n",
       "      <td>2</td>\n",
       "    </tr>\n",
       "    <tr>\n",
       "      <th>1</th>\n",
       "      <td>2018-09-20</td>\n",
       "      <td>000058a12d5b43e67d225668fa1f8d618c13dc232df0ca...</td>\n",
       "      <td>0541518023</td>\n",
       "      <td>0.030492</td>\n",
       "      <td>2</td>\n",
       "    </tr>\n",
       "    <tr>\n",
       "      <th>2</th>\n",
       "      <td>2018-09-20</td>\n",
       "      <td>00007d2de826758b65a93dd24ce629ed66842531df6699...</td>\n",
       "      <td>0505221004</td>\n",
       "      <td>0.015237</td>\n",
       "      <td>2</td>\n",
       "    </tr>\n",
       "    <tr>\n",
       "      <th>3</th>\n",
       "      <td>2018-09-20</td>\n",
       "      <td>00007d2de826758b65a93dd24ce629ed66842531df6699...</td>\n",
       "      <td>0685687003</td>\n",
       "      <td>0.016932</td>\n",
       "      <td>2</td>\n",
       "    </tr>\n",
       "    <tr>\n",
       "      <th>4</th>\n",
       "      <td>2018-09-20</td>\n",
       "      <td>00007d2de826758b65a93dd24ce629ed66842531df6699...</td>\n",
       "      <td>0685687004</td>\n",
       "      <td>0.016932</td>\n",
       "      <td>2</td>\n",
       "    </tr>\n",
       "  </tbody>\n",
       "</table>\n",
       "</div>"
      ],
      "text/plain": [
       "        t_dat                                        customer_id  article_id  \\\n",
       "0  2018-09-20  000058a12d5b43e67d225668fa1f8d618c13dc232df0ca...  0663713001   \n",
       "1  2018-09-20  000058a12d5b43e67d225668fa1f8d618c13dc232df0ca...  0541518023   \n",
       "2  2018-09-20  00007d2de826758b65a93dd24ce629ed66842531df6699...  0505221004   \n",
       "3  2018-09-20  00007d2de826758b65a93dd24ce629ed66842531df6699...  0685687003   \n",
       "4  2018-09-20  00007d2de826758b65a93dd24ce629ed66842531df6699...  0685687004   \n",
       "\n",
       "      price  sales_channel_id  \n",
       "0  0.050831                 2  \n",
       "1  0.030492                 2  \n",
       "2  0.015237                 2  \n",
       "3  0.016932                 2  \n",
       "4  0.016932                 2  "
      ]
     },
     "execution_count": 5,
     "metadata": {},
     "output_type": "execute_result"
    }
   ],
   "source": [
    "transactions_train_df = pd.read_csv('data/transactions_train.csv', dtype={'article_id': str})  # Make sure article_id is being loading in as a string\n",
    "print(transactions_train_df.shape)\n",
    "transactions_train_df.head()"
   ]
  },
  {
   "cell_type": "code",
   "execution_count": 6,
   "id": "21f56818",
   "metadata": {},
   "outputs": [],
   "source": [
    "transactions_train_df['t_dat'] = pd.to_datetime(transactions_train_df['t_dat'])"
   ]
  },
  {
   "cell_type": "code",
   "execution_count": 7,
   "id": "ed660ff7",
   "metadata": {},
   "outputs": [],
   "source": [
    "transactions_train_df.sort_values(['customer_id', 't_dat'], inplace=True)"
   ]
  },
  {
   "cell_type": "code",
   "execution_count": 8,
   "id": "b4502bed",
   "metadata": {},
   "outputs": [],
   "source": [
    "transactions_train_df['article_id_idx'] = transactions_train_df['article_id'].map(article_id_to_idx)"
   ]
  },
  {
   "cell_type": "code",
   "execution_count": 9,
   "id": "e8983686",
   "metadata": {},
   "outputs": [
    {
     "data": {
      "text/plain": [
       "(Timestamp('2020-09-15 00:00:00'), Timestamp('2020-09-22 00:00:00'))"
      ]
     },
     "execution_count": 9,
     "metadata": {},
     "output_type": "execute_result"
    }
   ],
   "source": [
    "test_end = transactions_train_df['t_dat'].max()\n",
    "test_start = transactions_train_df['t_dat'].max() - datetime.timedelta(days=7)\n",
    "\n",
    "test_start, test_end"
   ]
  },
  {
   "cell_type": "code",
   "execution_count": 10,
   "id": "c884158e",
   "metadata": {},
   "outputs": [
    {
     "data": {
      "text/plain": [
       "(Timestamp('2020-09-08 00:00:00'), Timestamp('2020-09-15 00:00:00'))"
      ]
     },
     "execution_count": 10,
     "metadata": {},
     "output_type": "execute_result"
    }
   ],
   "source": [
    "dev_end = test_start\n",
    "dev_start = dev_end - datetime.timedelta(days=7)\n",
    "\n",
    "dev_start, dev_end"
   ]
  },
  {
   "cell_type": "code",
   "execution_count": 11,
   "id": "9a7df3ef",
   "metadata": {},
   "outputs": [
    {
     "data": {
      "text/plain": [
       "(Timestamp('2018-09-20 00:00:00'), Timestamp('2020-09-08 00:00:00'))"
      ]
     },
     "execution_count": 11,
     "metadata": {},
     "output_type": "execute_result"
    }
   ],
   "source": [
    "train_start = transactions_train_df['t_dat'].min()\n",
    "train_end = dev_start\n",
    "\n",
    "train_start, train_end"
   ]
  },
  {
   "cell_type": "code",
   "execution_count": 12,
   "id": "3d072b2a",
   "metadata": {},
   "outputs": [],
   "source": [
    "test_mask = transactions_train_df['t_dat'].between(test_start, test_end, inclusive='right')\n",
    "dev_mask = transactions_train_df['t_dat'].between(dev_start, dev_end, inclusive='right')\n",
    "train_mask = transactions_train_df['t_dat'].between(train_start, train_end, inclusive='both')"
   ]
  },
  {
   "cell_type": "code",
   "execution_count": 13,
   "id": "07b56e66",
   "metadata": {},
   "outputs": [],
   "source": [
    "train_df = transactions_train_df.copy()[train_mask]\n",
    "dev_df = transactions_train_df.copy()[dev_mask]\n",
    "test_df = transactions_train_df.copy()[test_mask]"
   ]
  },
  {
   "cell_type": "code",
   "execution_count": 14,
   "id": "e71ffbab",
   "metadata": {},
   "outputs": [],
   "source": [
    "assert train_df.shape[0] + dev_df.shape[0] + test_df.shape[0] == transactions_train_df.shape[0]"
   ]
  },
  {
   "cell_type": "code",
   "execution_count": 15,
   "id": "22801950",
   "metadata": {},
   "outputs": [
    {
     "data": {
      "text/plain": [
       "0.07491078743109457"
      ]
     },
     "execution_count": 15,
     "metadata": {},
     "output_type": "execute_result"
    }
   ],
   "source": [
    "# Proportion of dev set customers not in training set\n",
    "len(\n",
    "    set(dev_df['customer_id'].unique()) - \n",
    "    set(train_df['customer_id'].unique())\n",
    ") / dev_df['customer_id'].nunique()"
   ]
  },
  {
   "cell_type": "code",
   "execution_count": 16,
   "id": "e15a14bb",
   "metadata": {},
   "outputs": [
    {
     "data": {
      "text/plain": [
       "0.08591847384900847"
      ]
     },
     "execution_count": 16,
     "metadata": {},
     "output_type": "execute_result"
    }
   ],
   "source": [
    "# Proportion of test set customers not in training set\n",
    "len(\n",
    "    set(test_df['customer_id'].unique()) - \n",
    "    set(train_df['customer_id'].unique())\n",
    ") / test_df['customer_id'].nunique()"
   ]
  },
  {
   "cell_type": "markdown",
   "id": "a35fff16",
   "metadata": {},
   "source": [
    "#### Prepare training data"
   ]
  },
  {
   "cell_type": "markdown",
   "id": "1d824050",
   "metadata": {},
   "source": [
    "For each customer we randomly select a transaction to be their label. Any transactions after this one are discarded for training purposes."
   ]
  },
  {
   "cell_type": "code",
   "execution_count": 17,
   "id": "c30620b0",
   "metadata": {},
   "outputs": [
    {
     "data": {
      "text/plain": [
       "1351314"
      ]
     },
     "execution_count": 17,
     "metadata": {},
     "output_type": "execute_result"
    }
   ],
   "source": [
    "train_df['customer_id'].nunique()"
   ]
  },
  {
   "cell_type": "code",
   "execution_count": 18,
   "id": "892172d1",
   "metadata": {},
   "outputs": [],
   "source": [
    "train_df.reset_index(drop=True, inplace=True)"
   ]
  },
  {
   "cell_type": "code",
   "execution_count": 19,
   "id": "a7c6f203",
   "metadata": {},
   "outputs": [],
   "source": [
    "train_df['uid'] = train_df.index  # Create a UID as a customer may purchase the same item multiple times preventing a 1:1 join"
   ]
  },
  {
   "cell_type": "code",
   "execution_count": 20,
   "id": "5f529a72",
   "metadata": {},
   "outputs": [
    {
     "name": "stdout",
     "output_type": "stream",
     "text": [
      "CPU times: user 53.8 s, sys: 5.71 s, total: 59.5 s\n",
      "Wall time: 59.8 s\n"
     ]
    }
   ],
   "source": [
    "%%time\n",
    "labels = train_df[['customer_id', 'uid']].groupby('customer_id').sample(n=1, random_state=3)"
   ]
  },
  {
   "cell_type": "code",
   "execution_count": 21,
   "id": "baf07848",
   "metadata": {},
   "outputs": [
    {
     "data": {
      "text/html": [
       "<div>\n",
       "<style scoped>\n",
       "    .dataframe tbody tr th:only-of-type {\n",
       "        vertical-align: middle;\n",
       "    }\n",
       "\n",
       "    .dataframe tbody tr th {\n",
       "        vertical-align: top;\n",
       "    }\n",
       "\n",
       "    .dataframe thead th {\n",
       "        text-align: right;\n",
       "    }\n",
       "</style>\n",
       "<table border=\"1\" class=\"dataframe\">\n",
       "  <thead>\n",
       "    <tr style=\"text-align: right;\">\n",
       "      <th></th>\n",
       "      <th>customer_id</th>\n",
       "      <th>uid</th>\n",
       "    </tr>\n",
       "  </thead>\n",
       "  <tbody>\n",
       "    <tr>\n",
       "      <th>19</th>\n",
       "      <td>00000dbacae5abe5e23885899a1fa44253a17956c6d1c3...</td>\n",
       "      <td>19</td>\n",
       "    </tr>\n",
       "    <tr>\n",
       "      <th>35</th>\n",
       "      <td>0000423b00ade91418cceaf3b26c6af3dd342b51fd051e...</td>\n",
       "      <td>35</td>\n",
       "    </tr>\n",
       "    <tr>\n",
       "      <th>112</th>\n",
       "      <td>000058a12d5b43e67d225668fa1f8d618c13dc232df0ca...</td>\n",
       "      <td>112</td>\n",
       "    </tr>\n",
       "    <tr>\n",
       "      <th>125</th>\n",
       "      <td>00005ca1c9ed5f5146b52ac8639a40ca9d57aeff4d1bd2...</td>\n",
       "      <td>125</td>\n",
       "    </tr>\n",
       "    <tr>\n",
       "      <th>131</th>\n",
       "      <td>00006413d8573cd20ed7128e53b7b13819fe5cfc2d801f...</td>\n",
       "      <td>131</td>\n",
       "    </tr>\n",
       "  </tbody>\n",
       "</table>\n",
       "</div>"
      ],
      "text/plain": [
       "                                           customer_id  uid\n",
       "19   00000dbacae5abe5e23885899a1fa44253a17956c6d1c3...   19\n",
       "35   0000423b00ade91418cceaf3b26c6af3dd342b51fd051e...   35\n",
       "112  000058a12d5b43e67d225668fa1f8d618c13dc232df0ca...  112\n",
       "125  00005ca1c9ed5f5146b52ac8639a40ca9d57aeff4d1bd2...  125\n",
       "131  00006413d8573cd20ed7128e53b7b13819fe5cfc2d801f...  131"
      ]
     },
     "execution_count": 21,
     "metadata": {},
     "output_type": "execute_result"
    }
   ],
   "source": [
    "labels.head()"
   ]
  },
  {
   "cell_type": "code",
   "execution_count": 22,
   "id": "40223c36",
   "metadata": {},
   "outputs": [],
   "source": [
    "labels['label'] = 1"
   ]
  },
  {
   "cell_type": "code",
   "execution_count": 23,
   "id": "c6787e31",
   "metadata": {},
   "outputs": [],
   "source": [
    "train_df = train_df.merge(labels, on=['customer_id', 'uid'], how='left')"
   ]
  },
  {
   "cell_type": "code",
   "execution_count": 24,
   "id": "470b561f",
   "metadata": {},
   "outputs": [
    {
     "data": {
      "text/html": [
       "<div>\n",
       "<style scoped>\n",
       "    .dataframe tbody tr th:only-of-type {\n",
       "        vertical-align: middle;\n",
       "    }\n",
       "\n",
       "    .dataframe tbody tr th {\n",
       "        vertical-align: top;\n",
       "    }\n",
       "\n",
       "    .dataframe thead th {\n",
       "        text-align: right;\n",
       "    }\n",
       "</style>\n",
       "<table border=\"1\" class=\"dataframe\">\n",
       "  <thead>\n",
       "    <tr style=\"text-align: right;\">\n",
       "      <th></th>\n",
       "      <th>t_dat</th>\n",
       "      <th>customer_id</th>\n",
       "      <th>article_id</th>\n",
       "      <th>price</th>\n",
       "      <th>sales_channel_id</th>\n",
       "      <th>article_id_idx</th>\n",
       "      <th>uid</th>\n",
       "      <th>label</th>\n",
       "    </tr>\n",
       "  </thead>\n",
       "  <tbody>\n",
       "    <tr>\n",
       "      <th>0</th>\n",
       "      <td>2018-12-27</td>\n",
       "      <td>00000dbacae5abe5e23885899a1fa44253a17956c6d1c3...</td>\n",
       "      <td>0625548001</td>\n",
       "      <td>0.044051</td>\n",
       "      <td>1</td>\n",
       "      <td>29518</td>\n",
       "      <td>0</td>\n",
       "      <td>NaN</td>\n",
       "    </tr>\n",
       "    <tr>\n",
       "      <th>1</th>\n",
       "      <td>2018-12-27</td>\n",
       "      <td>00000dbacae5abe5e23885899a1fa44253a17956c6d1c3...</td>\n",
       "      <td>0176209023</td>\n",
       "      <td>0.035576</td>\n",
       "      <td>1</td>\n",
       "      <td>101</td>\n",
       "      <td>1</td>\n",
       "      <td>NaN</td>\n",
       "    </tr>\n",
       "    <tr>\n",
       "      <th>2</th>\n",
       "      <td>2018-12-27</td>\n",
       "      <td>00000dbacae5abe5e23885899a1fa44253a17956c6d1c3...</td>\n",
       "      <td>0627759010</td>\n",
       "      <td>0.030492</td>\n",
       "      <td>1</td>\n",
       "      <td>30329</td>\n",
       "      <td>2</td>\n",
       "      <td>NaN</td>\n",
       "    </tr>\n",
       "    <tr>\n",
       "      <th>3</th>\n",
       "      <td>2019-05-02</td>\n",
       "      <td>00000dbacae5abe5e23885899a1fa44253a17956c6d1c3...</td>\n",
       "      <td>0697138006</td>\n",
       "      <td>0.010153</td>\n",
       "      <td>2</td>\n",
       "      <td>50726</td>\n",
       "      <td>3</td>\n",
       "      <td>NaN</td>\n",
       "    </tr>\n",
       "    <tr>\n",
       "      <th>4</th>\n",
       "      <td>2019-05-25</td>\n",
       "      <td>00000dbacae5abe5e23885899a1fa44253a17956c6d1c3...</td>\n",
       "      <td>0568601006</td>\n",
       "      <td>0.050831</td>\n",
       "      <td>2</td>\n",
       "      <td>16005</td>\n",
       "      <td>4</td>\n",
       "      <td>NaN</td>\n",
       "    </tr>\n",
       "  </tbody>\n",
       "</table>\n",
       "</div>"
      ],
      "text/plain": [
       "       t_dat                                        customer_id  article_id  \\\n",
       "0 2018-12-27  00000dbacae5abe5e23885899a1fa44253a17956c6d1c3...  0625548001   \n",
       "1 2018-12-27  00000dbacae5abe5e23885899a1fa44253a17956c6d1c3...  0176209023   \n",
       "2 2018-12-27  00000dbacae5abe5e23885899a1fa44253a17956c6d1c3...  0627759010   \n",
       "3 2019-05-02  00000dbacae5abe5e23885899a1fa44253a17956c6d1c3...  0697138006   \n",
       "4 2019-05-25  00000dbacae5abe5e23885899a1fa44253a17956c6d1c3...  0568601006   \n",
       "\n",
       "      price  sales_channel_id  article_id_idx  uid  label  \n",
       "0  0.044051                 1           29518    0    NaN  \n",
       "1  0.035576                 1             101    1    NaN  \n",
       "2  0.030492                 1           30329    2    NaN  \n",
       "3  0.010153                 2           50726    3    NaN  \n",
       "4  0.050831                 2           16005    4    NaN  "
      ]
     },
     "execution_count": 24,
     "metadata": {},
     "output_type": "execute_result"
    }
   ],
   "source": [
    "train_df.head()"
   ]
  },
  {
   "cell_type": "code",
   "execution_count": 25,
   "id": "dcc82a04",
   "metadata": {},
   "outputs": [],
   "source": [
    "train_df['keep'] = train_df['label'].copy()"
   ]
  },
  {
   "cell_type": "code",
   "execution_count": 26,
   "id": "d851abe2",
   "metadata": {},
   "outputs": [],
   "source": [
    "train_df['keep'] = train_df.groupby('customer_id')['keep'].bfill()"
   ]
  },
  {
   "cell_type": "code",
   "execution_count": 27,
   "id": "d5da03ab",
   "metadata": {},
   "outputs": [],
   "source": [
    "# Drop records for each customer after the label\n",
    "train_df = train_df.copy()[train_df['keep'] == 1]"
   ]
  },
  {
   "cell_type": "code",
   "execution_count": 28,
   "id": "86ffd6ff",
   "metadata": {},
   "outputs": [],
   "source": [
    "train_df['label'].fillna(0, inplace=True)"
   ]
  },
  {
   "cell_type": "code",
   "execution_count": 29,
   "id": "4d3e601d",
   "metadata": {},
   "outputs": [
    {
     "data": {
      "text/html": [
       "<div>\n",
       "<style scoped>\n",
       "    .dataframe tbody tr th:only-of-type {\n",
       "        vertical-align: middle;\n",
       "    }\n",
       "\n",
       "    .dataframe tbody tr th {\n",
       "        vertical-align: top;\n",
       "    }\n",
       "\n",
       "    .dataframe thead th {\n",
       "        text-align: right;\n",
       "    }\n",
       "</style>\n",
       "<table border=\"1\" class=\"dataframe\">\n",
       "  <thead>\n",
       "    <tr style=\"text-align: right;\">\n",
       "      <th></th>\n",
       "      <th>t_dat</th>\n",
       "      <th>customer_id</th>\n",
       "      <th>article_id</th>\n",
       "      <th>price</th>\n",
       "      <th>sales_channel_id</th>\n",
       "      <th>article_id_idx</th>\n",
       "      <th>uid</th>\n",
       "      <th>label</th>\n",
       "      <th>keep</th>\n",
       "    </tr>\n",
       "  </thead>\n",
       "  <tbody>\n",
       "    <tr>\n",
       "      <th>0</th>\n",
       "      <td>2018-12-27</td>\n",
       "      <td>00000dbacae5abe5e23885899a1fa44253a17956c6d1c3...</td>\n",
       "      <td>0625548001</td>\n",
       "      <td>0.044051</td>\n",
       "      <td>1</td>\n",
       "      <td>29518</td>\n",
       "      <td>0</td>\n",
       "      <td>0.0</td>\n",
       "      <td>1.0</td>\n",
       "    </tr>\n",
       "    <tr>\n",
       "      <th>1</th>\n",
       "      <td>2018-12-27</td>\n",
       "      <td>00000dbacae5abe5e23885899a1fa44253a17956c6d1c3...</td>\n",
       "      <td>0176209023</td>\n",
       "      <td>0.035576</td>\n",
       "      <td>1</td>\n",
       "      <td>101</td>\n",
       "      <td>1</td>\n",
       "      <td>0.0</td>\n",
       "      <td>1.0</td>\n",
       "    </tr>\n",
       "    <tr>\n",
       "      <th>2</th>\n",
       "      <td>2018-12-27</td>\n",
       "      <td>00000dbacae5abe5e23885899a1fa44253a17956c6d1c3...</td>\n",
       "      <td>0627759010</td>\n",
       "      <td>0.030492</td>\n",
       "      <td>1</td>\n",
       "      <td>30329</td>\n",
       "      <td>2</td>\n",
       "      <td>0.0</td>\n",
       "      <td>1.0</td>\n",
       "    </tr>\n",
       "    <tr>\n",
       "      <th>3</th>\n",
       "      <td>2019-05-02</td>\n",
       "      <td>00000dbacae5abe5e23885899a1fa44253a17956c6d1c3...</td>\n",
       "      <td>0697138006</td>\n",
       "      <td>0.010153</td>\n",
       "      <td>2</td>\n",
       "      <td>50726</td>\n",
       "      <td>3</td>\n",
       "      <td>0.0</td>\n",
       "      <td>1.0</td>\n",
       "    </tr>\n",
       "    <tr>\n",
       "      <th>4</th>\n",
       "      <td>2019-05-25</td>\n",
       "      <td>00000dbacae5abe5e23885899a1fa44253a17956c6d1c3...</td>\n",
       "      <td>0568601006</td>\n",
       "      <td>0.050831</td>\n",
       "      <td>2</td>\n",
       "      <td>16005</td>\n",
       "      <td>4</td>\n",
       "      <td>0.0</td>\n",
       "      <td>1.0</td>\n",
       "    </tr>\n",
       "  </tbody>\n",
       "</table>\n",
       "</div>"
      ],
      "text/plain": [
       "       t_dat                                        customer_id  article_id  \\\n",
       "0 2018-12-27  00000dbacae5abe5e23885899a1fa44253a17956c6d1c3...  0625548001   \n",
       "1 2018-12-27  00000dbacae5abe5e23885899a1fa44253a17956c6d1c3...  0176209023   \n",
       "2 2018-12-27  00000dbacae5abe5e23885899a1fa44253a17956c6d1c3...  0627759010   \n",
       "3 2019-05-02  00000dbacae5abe5e23885899a1fa44253a17956c6d1c3...  0697138006   \n",
       "4 2019-05-25  00000dbacae5abe5e23885899a1fa44253a17956c6d1c3...  0568601006   \n",
       "\n",
       "      price  sales_channel_id  article_id_idx  uid  label  keep  \n",
       "0  0.044051                 1           29518    0    0.0   1.0  \n",
       "1  0.035576                 1             101    1    0.0   1.0  \n",
       "2  0.030492                 1           30329    2    0.0   1.0  \n",
       "3  0.010153                 2           50726    3    0.0   1.0  \n",
       "4  0.050831                 2           16005    4    0.0   1.0  "
      ]
     },
     "execution_count": 29,
     "metadata": {},
     "output_type": "execute_result"
    }
   ],
   "source": [
    "train_df.head()"
   ]
  },
  {
   "cell_type": "code",
   "execution_count": 30,
   "id": "e65b4bd9",
   "metadata": {},
   "outputs": [],
   "source": [
    "train_df.drop(columns=['uid', 'keep'], inplace=True)"
   ]
  },
  {
   "cell_type": "code",
   "execution_count": 31,
   "id": "824c5e29",
   "metadata": {},
   "outputs": [
    {
     "data": {
      "text/html": [
       "<div>\n",
       "<style scoped>\n",
       "    .dataframe tbody tr th:only-of-type {\n",
       "        vertical-align: middle;\n",
       "    }\n",
       "\n",
       "    .dataframe tbody tr th {\n",
       "        vertical-align: top;\n",
       "    }\n",
       "\n",
       "    .dataframe thead th {\n",
       "        text-align: right;\n",
       "    }\n",
       "</style>\n",
       "<table border=\"1\" class=\"dataframe\">\n",
       "  <thead>\n",
       "    <tr style=\"text-align: right;\">\n",
       "      <th></th>\n",
       "      <th>t_dat</th>\n",
       "      <th>customer_id</th>\n",
       "      <th>article_id</th>\n",
       "      <th>price</th>\n",
       "      <th>sales_channel_id</th>\n",
       "      <th>article_id_idx</th>\n",
       "      <th>label</th>\n",
       "    </tr>\n",
       "  </thead>\n",
       "  <tbody>\n",
       "    <tr>\n",
       "      <th>0</th>\n",
       "      <td>2018-12-27</td>\n",
       "      <td>00000dbacae5abe5e23885899a1fa44253a17956c6d1c3...</td>\n",
       "      <td>0625548001</td>\n",
       "      <td>0.044051</td>\n",
       "      <td>1</td>\n",
       "      <td>29518</td>\n",
       "      <td>0.0</td>\n",
       "    </tr>\n",
       "    <tr>\n",
       "      <th>1</th>\n",
       "      <td>2018-12-27</td>\n",
       "      <td>00000dbacae5abe5e23885899a1fa44253a17956c6d1c3...</td>\n",
       "      <td>0176209023</td>\n",
       "      <td>0.035576</td>\n",
       "      <td>1</td>\n",
       "      <td>101</td>\n",
       "      <td>0.0</td>\n",
       "    </tr>\n",
       "    <tr>\n",
       "      <th>2</th>\n",
       "      <td>2018-12-27</td>\n",
       "      <td>00000dbacae5abe5e23885899a1fa44253a17956c6d1c3...</td>\n",
       "      <td>0627759010</td>\n",
       "      <td>0.030492</td>\n",
       "      <td>1</td>\n",
       "      <td>30329</td>\n",
       "      <td>0.0</td>\n",
       "    </tr>\n",
       "    <tr>\n",
       "      <th>3</th>\n",
       "      <td>2019-05-02</td>\n",
       "      <td>00000dbacae5abe5e23885899a1fa44253a17956c6d1c3...</td>\n",
       "      <td>0697138006</td>\n",
       "      <td>0.010153</td>\n",
       "      <td>2</td>\n",
       "      <td>50726</td>\n",
       "      <td>0.0</td>\n",
       "    </tr>\n",
       "    <tr>\n",
       "      <th>4</th>\n",
       "      <td>2019-05-25</td>\n",
       "      <td>00000dbacae5abe5e23885899a1fa44253a17956c6d1c3...</td>\n",
       "      <td>0568601006</td>\n",
       "      <td>0.050831</td>\n",
       "      <td>2</td>\n",
       "      <td>16005</td>\n",
       "      <td>0.0</td>\n",
       "    </tr>\n",
       "  </tbody>\n",
       "</table>\n",
       "</div>"
      ],
      "text/plain": [
       "       t_dat                                        customer_id  article_id  \\\n",
       "0 2018-12-27  00000dbacae5abe5e23885899a1fa44253a17956c6d1c3...  0625548001   \n",
       "1 2018-12-27  00000dbacae5abe5e23885899a1fa44253a17956c6d1c3...  0176209023   \n",
       "2 2018-12-27  00000dbacae5abe5e23885899a1fa44253a17956c6d1c3...  0627759010   \n",
       "3 2019-05-02  00000dbacae5abe5e23885899a1fa44253a17956c6d1c3...  0697138006   \n",
       "4 2019-05-25  00000dbacae5abe5e23885899a1fa44253a17956c6d1c3...  0568601006   \n",
       "\n",
       "      price  sales_channel_id  article_id_idx  label  \n",
       "0  0.044051                 1           29518    0.0  \n",
       "1  0.035576                 1             101    0.0  \n",
       "2  0.030492                 1           30329    0.0  \n",
       "3  0.010153                 2           50726    0.0  \n",
       "4  0.050831                 2           16005    0.0  "
      ]
     },
     "execution_count": 31,
     "metadata": {},
     "output_type": "execute_result"
    }
   ],
   "source": [
    "train_df.head()"
   ]
  },
  {
   "cell_type": "code",
   "execution_count": 32,
   "id": "0c52ef6b",
   "metadata": {},
   "outputs": [],
   "source": [
    "train_df['article_id_idx'] = train_df['article_id_idx'].astype(str)"
   ]
  },
  {
   "cell_type": "code",
   "execution_count": 33,
   "id": "69cf85ba",
   "metadata": {},
   "outputs": [
    {
     "data": {
      "text/html": [
       "<div>\n",
       "<style scoped>\n",
       "    .dataframe tbody tr th:only-of-type {\n",
       "        vertical-align: middle;\n",
       "    }\n",
       "\n",
       "    .dataframe tbody tr th {\n",
       "        vertical-align: top;\n",
       "    }\n",
       "\n",
       "    .dataframe thead th {\n",
       "        text-align: right;\n",
       "    }\n",
       "</style>\n",
       "<table border=\"1\" class=\"dataframe\">\n",
       "  <thead>\n",
       "    <tr style=\"text-align: right;\">\n",
       "      <th></th>\n",
       "      <th>customer_id</th>\n",
       "      <th>article_id_idx</th>\n",
       "    </tr>\n",
       "  </thead>\n",
       "  <tbody>\n",
       "    <tr>\n",
       "      <th>0</th>\n",
       "      <td>00000dbacae5abe5e23885899a1fa44253a17956c6d1c3...</td>\n",
       "      <td>29518,101,30329,50726,16005,16005,23998,65669,...</td>\n",
       "    </tr>\n",
       "    <tr>\n",
       "      <th>1</th>\n",
       "      <td>0000423b00ade91418cceaf3b26c6af3dd342b51fd051e...</td>\n",
       "      <td>19335,33750,33993,8218,41026,19335,42628,41026...</td>\n",
       "    </tr>\n",
       "    <tr>\n",
       "      <th>2</th>\n",
       "      <td>000058a12d5b43e67d225668fa1f8d618c13dc232df0ca...</td>\n",
       "      <td>40181,10522,40181,18199,59460</td>\n",
       "    </tr>\n",
       "    <tr>\n",
       "      <th>3</th>\n",
       "      <td>00005ca1c9ed5f5146b52ac8639a40ca9d57aeff4d1bd2...</td>\n",
       "      <td>64527</td>\n",
       "    </tr>\n",
       "    <tr>\n",
       "      <th>4</th>\n",
       "      <td>00006413d8573cd20ed7128e53b7b13819fe5cfc2d801f...</td>\n",
       "      <td>32249,43444,51126,54463,2183</td>\n",
       "    </tr>\n",
       "  </tbody>\n",
       "</table>\n",
       "</div>"
      ],
      "text/plain": [
       "                                         customer_id  \\\n",
       "0  00000dbacae5abe5e23885899a1fa44253a17956c6d1c3...   \n",
       "1  0000423b00ade91418cceaf3b26c6af3dd342b51fd051e...   \n",
       "2  000058a12d5b43e67d225668fa1f8d618c13dc232df0ca...   \n",
       "3  00005ca1c9ed5f5146b52ac8639a40ca9d57aeff4d1bd2...   \n",
       "4  00006413d8573cd20ed7128e53b7b13819fe5cfc2d801f...   \n",
       "\n",
       "                                      article_id_idx  \n",
       "0  29518,101,30329,50726,16005,16005,23998,65669,...  \n",
       "1  19335,33750,33993,8218,41026,19335,42628,41026...  \n",
       "2                      40181,10522,40181,18199,59460  \n",
       "3                                              64527  \n",
       "4                       32249,43444,51126,54463,2183  "
      ]
     },
     "execution_count": 33,
     "metadata": {},
     "output_type": "execute_result"
    }
   ],
   "source": [
    "train_historical_purchases = (\n",
    "    train_df[train_df['label'] == 0][['customer_id', 'article_id_idx']]\n",
    "    .groupby('customer_id')\n",
    "    .agg({'article_id_idx': ','.join})\n",
    "    .reset_index()\n",
    ")\n",
    "\n",
    "train_historical_purchases.head()"
   ]
  },
  {
   "cell_type": "code",
   "execution_count": 34,
   "id": "cb3fd0ba",
   "metadata": {},
   "outputs": [
    {
     "data": {
      "text/plain": [
       "(1038868, 2)"
      ]
     },
     "execution_count": 34,
     "metadata": {},
     "output_type": "execute_result"
    }
   ],
   "source": [
    "train_historical_purchases.shape"
   ]
  },
  {
   "cell_type": "code",
   "execution_count": 35,
   "id": "a4e79f91",
   "metadata": {},
   "outputs": [
    {
     "name": "stdout",
     "output_type": "stream",
     "text": [
      "(1351314, 2)\n"
     ]
    },
    {
     "data": {
      "text/html": [
       "<div>\n",
       "<style scoped>\n",
       "    .dataframe tbody tr th:only-of-type {\n",
       "        vertical-align: middle;\n",
       "    }\n",
       "\n",
       "    .dataframe tbody tr th {\n",
       "        vertical-align: top;\n",
       "    }\n",
       "\n",
       "    .dataframe thead th {\n",
       "        text-align: right;\n",
       "    }\n",
       "</style>\n",
       "<table border=\"1\" class=\"dataframe\">\n",
       "  <thead>\n",
       "    <tr style=\"text-align: right;\">\n",
       "      <th></th>\n",
       "      <th>customer_id</th>\n",
       "      <th>article_id_idx</th>\n",
       "    </tr>\n",
       "  </thead>\n",
       "  <tbody>\n",
       "    <tr>\n",
       "      <th>19</th>\n",
       "      <td>00000dbacae5abe5e23885899a1fa44253a17956c6d1c3...</td>\n",
       "      <td>93746</td>\n",
       "    </tr>\n",
       "    <tr>\n",
       "      <th>35</th>\n",
       "      <td>0000423b00ade91418cceaf3b26c6af3dd342b51fd051e...</td>\n",
       "      <td>59460</td>\n",
       "    </tr>\n",
       "    <tr>\n",
       "      <th>112</th>\n",
       "      <td>000058a12d5b43e67d225668fa1f8d618c13dc232df0ca...</td>\n",
       "      <td>1471</td>\n",
       "    </tr>\n",
       "    <tr>\n",
       "      <th>125</th>\n",
       "      <td>00005ca1c9ed5f5146b52ac8639a40ca9d57aeff4d1bd2...</td>\n",
       "      <td>61177</td>\n",
       "    </tr>\n",
       "    <tr>\n",
       "      <th>131</th>\n",
       "      <td>00006413d8573cd20ed7128e53b7b13819fe5cfc2d801f...</td>\n",
       "      <td>2183</td>\n",
       "    </tr>\n",
       "  </tbody>\n",
       "</table>\n",
       "</div>"
      ],
      "text/plain": [
       "                                           customer_id article_id_idx\n",
       "19   00000dbacae5abe5e23885899a1fa44253a17956c6d1c3...          93746\n",
       "35   0000423b00ade91418cceaf3b26c6af3dd342b51fd051e...          59460\n",
       "112  000058a12d5b43e67d225668fa1f8d618c13dc232df0ca...           1471\n",
       "125  00005ca1c9ed5f5146b52ac8639a40ca9d57aeff4d1bd2...          61177\n",
       "131  00006413d8573cd20ed7128e53b7b13819fe5cfc2d801f...           2183"
      ]
     },
     "execution_count": 35,
     "metadata": {},
     "output_type": "execute_result"
    }
   ],
   "source": [
    "train_labels = train_df.copy()[train_df['label'] == 1][['customer_id', 'article_id_idx']]\n",
    "print(train_labels.shape)\n",
    "train_labels.head()"
   ]
  },
  {
   "cell_type": "code",
   "execution_count": 36,
   "id": "ce11120c",
   "metadata": {},
   "outputs": [
    {
     "data": {
      "text/html": [
       "<div>\n",
       "<style scoped>\n",
       "    .dataframe tbody tr th:only-of-type {\n",
       "        vertical-align: middle;\n",
       "    }\n",
       "\n",
       "    .dataframe tbody tr th {\n",
       "        vertical-align: top;\n",
       "    }\n",
       "\n",
       "    .dataframe thead th {\n",
       "        text-align: right;\n",
       "    }\n",
       "</style>\n",
       "<table border=\"1\" class=\"dataframe\">\n",
       "  <thead>\n",
       "    <tr style=\"text-align: right;\">\n",
       "      <th></th>\n",
       "      <th>customer_id</th>\n",
       "      <th>article_id_idx_label</th>\n",
       "      <th>article_id_idx_historical</th>\n",
       "      <th>_merge</th>\n",
       "    </tr>\n",
       "  </thead>\n",
       "  <tbody>\n",
       "    <tr>\n",
       "      <th>0</th>\n",
       "      <td>00000dbacae5abe5e23885899a1fa44253a17956c6d1c3...</td>\n",
       "      <td>93746</td>\n",
       "      <td>29518,101,30329,50726,16005,16005,23998,65669,...</td>\n",
       "      <td>both</td>\n",
       "    </tr>\n",
       "    <tr>\n",
       "      <th>1</th>\n",
       "      <td>0000423b00ade91418cceaf3b26c6af3dd342b51fd051e...</td>\n",
       "      <td>59460</td>\n",
       "      <td>19335,33750,33993,8218,41026,19335,42628,41026...</td>\n",
       "      <td>both</td>\n",
       "    </tr>\n",
       "    <tr>\n",
       "      <th>2</th>\n",
       "      <td>000058a12d5b43e67d225668fa1f8d618c13dc232df0ca...</td>\n",
       "      <td>1471</td>\n",
       "      <td>40181,10522,40181,18199,59460</td>\n",
       "      <td>both</td>\n",
       "    </tr>\n",
       "    <tr>\n",
       "      <th>3</th>\n",
       "      <td>00005ca1c9ed5f5146b52ac8639a40ca9d57aeff4d1bd2...</td>\n",
       "      <td>61177</td>\n",
       "      <td>64527</td>\n",
       "      <td>both</td>\n",
       "    </tr>\n",
       "    <tr>\n",
       "      <th>4</th>\n",
       "      <td>00006413d8573cd20ed7128e53b7b13819fe5cfc2d801f...</td>\n",
       "      <td>2183</td>\n",
       "      <td>32249,43444,51126,54463,2183</td>\n",
       "      <td>both</td>\n",
       "    </tr>\n",
       "  </tbody>\n",
       "</table>\n",
       "</div>"
      ],
      "text/plain": [
       "                                         customer_id article_id_idx_label  \\\n",
       "0  00000dbacae5abe5e23885899a1fa44253a17956c6d1c3...                93746   \n",
       "1  0000423b00ade91418cceaf3b26c6af3dd342b51fd051e...                59460   \n",
       "2  000058a12d5b43e67d225668fa1f8d618c13dc232df0ca...                 1471   \n",
       "3  00005ca1c9ed5f5146b52ac8639a40ca9d57aeff4d1bd2...                61177   \n",
       "4  00006413d8573cd20ed7128e53b7b13819fe5cfc2d801f...                 2183   \n",
       "\n",
       "                           article_id_idx_historical _merge  \n",
       "0  29518,101,30329,50726,16005,16005,23998,65669,...   both  \n",
       "1  19335,33750,33993,8218,41026,19335,42628,41026...   both  \n",
       "2                      40181,10522,40181,18199,59460   both  \n",
       "3                                              64527   both  \n",
       "4                       32249,43444,51126,54463,2183   both  "
      ]
     },
     "execution_count": 36,
     "metadata": {},
     "output_type": "execute_result"
    }
   ],
   "source": [
    "train_combined = train_labels.merge(train_historical_purchases, on='customer_id', how='left', suffixes=('_label', '_historical'), indicator=True)\n",
    "train_combined.head()"
   ]
  },
  {
   "cell_type": "code",
   "execution_count": 37,
   "id": "76c75ecb",
   "metadata": {},
   "outputs": [
    {
     "data": {
      "text/plain": [
       "both          0.768784\n",
       "left_only     0.231216\n",
       "right_only    0.000000\n",
       "Name: _merge, dtype: float64"
      ]
     },
     "execution_count": 37,
     "metadata": {},
     "output_type": "execute_result"
    }
   ],
   "source": [
    "train_combined['_merge'].value_counts() / train_combined.shape[0]"
   ]
  },
  {
   "cell_type": "markdown",
   "id": "6087ec6d",
   "metadata": {},
   "source": [
    "`left_only` represents customers with no purchase history. 23% is much larger than the corresponding proportion of no history customers in the sample submission (2.5%). We therefore downsample these customers."
   ]
  },
  {
   "cell_type": "code",
   "execution_count": 38,
   "id": "3fdd01c2",
   "metadata": {},
   "outputs": [],
   "source": [
    "TARGET_PROP_NO_HISTORY = 0.025"
   ]
  },
  {
   "cell_type": "code",
   "execution_count": 39,
   "id": "58e97e2c",
   "metadata": {},
   "outputs": [
    {
     "data": {
      "text/plain": [
       "1038868"
      ]
     },
     "execution_count": 39,
     "metadata": {},
     "output_type": "execute_result"
    }
   ],
   "source": [
    "number_customers_both = train_combined[train_combined['_merge'] == 'both'].shape[0]\n",
    "number_customers_both"
   ]
  },
  {
   "cell_type": "code",
   "execution_count": 40,
   "id": "c7591dec",
   "metadata": {},
   "outputs": [
    {
     "data": {
      "text/plain": [
       "26637"
      ]
     },
     "execution_count": 40,
     "metadata": {},
     "output_type": "execute_result"
    }
   ],
   "source": [
    "number_to_sample = ((number_customers_both / (1-TARGET_PROP_NO_HISTORY)) - number_customers_both)\n",
    "number_to_sample = int(number_to_sample)\n",
    "number_to_sample"
   ]
  },
  {
   "cell_type": "code",
   "execution_count": 41,
   "id": "f740e429",
   "metadata": {},
   "outputs": [
    {
     "data": {
      "text/html": [
       "<div>\n",
       "<style scoped>\n",
       "    .dataframe tbody tr th:only-of-type {\n",
       "        vertical-align: middle;\n",
       "    }\n",
       "\n",
       "    .dataframe tbody tr th {\n",
       "        vertical-align: top;\n",
       "    }\n",
       "\n",
       "    .dataframe thead th {\n",
       "        text-align: right;\n",
       "    }\n",
       "</style>\n",
       "<table border=\"1\" class=\"dataframe\">\n",
       "  <thead>\n",
       "    <tr style=\"text-align: right;\">\n",
       "      <th></th>\n",
       "      <th>customer_id</th>\n",
       "      <th>article_id_idx_label</th>\n",
       "      <th>article_id_idx_historical</th>\n",
       "      <th>_merge</th>\n",
       "    </tr>\n",
       "  </thead>\n",
       "  <tbody>\n",
       "    <tr>\n",
       "      <th>0</th>\n",
       "      <td>00000dbacae5abe5e23885899a1fa44253a17956c6d1c3...</td>\n",
       "      <td>93746</td>\n",
       "      <td>29518,101,30329,50726,16005,16005,23998,65669,...</td>\n",
       "      <td>both</td>\n",
       "    </tr>\n",
       "    <tr>\n",
       "      <th>1</th>\n",
       "      <td>0000423b00ade91418cceaf3b26c6af3dd342b51fd051e...</td>\n",
       "      <td>59460</td>\n",
       "      <td>19335,33750,33993,8218,41026,19335,42628,41026...</td>\n",
       "      <td>both</td>\n",
       "    </tr>\n",
       "    <tr>\n",
       "      <th>2</th>\n",
       "      <td>000058a12d5b43e67d225668fa1f8d618c13dc232df0ca...</td>\n",
       "      <td>1471</td>\n",
       "      <td>40181,10522,40181,18199,59460</td>\n",
       "      <td>both</td>\n",
       "    </tr>\n",
       "    <tr>\n",
       "      <th>3</th>\n",
       "      <td>00005ca1c9ed5f5146b52ac8639a40ca9d57aeff4d1bd2...</td>\n",
       "      <td>61177</td>\n",
       "      <td>64527</td>\n",
       "      <td>both</td>\n",
       "    </tr>\n",
       "    <tr>\n",
       "      <th>4</th>\n",
       "      <td>00006413d8573cd20ed7128e53b7b13819fe5cfc2d801f...</td>\n",
       "      <td>2183</td>\n",
       "      <td>32249,43444,51126,54463,2183</td>\n",
       "      <td>both</td>\n",
       "    </tr>\n",
       "  </tbody>\n",
       "</table>\n",
       "</div>"
      ],
      "text/plain": [
       "                                         customer_id article_id_idx_label  \\\n",
       "0  00000dbacae5abe5e23885899a1fa44253a17956c6d1c3...                93746   \n",
       "1  0000423b00ade91418cceaf3b26c6af3dd342b51fd051e...                59460   \n",
       "2  000058a12d5b43e67d225668fa1f8d618c13dc232df0ca...                 1471   \n",
       "3  00005ca1c9ed5f5146b52ac8639a40ca9d57aeff4d1bd2...                61177   \n",
       "4  00006413d8573cd20ed7128e53b7b13819fe5cfc2d801f...                 2183   \n",
       "\n",
       "                           article_id_idx_historical _merge  \n",
       "0  29518,101,30329,50726,16005,16005,23998,65669,...   both  \n",
       "1  19335,33750,33993,8218,41026,19335,42628,41026...   both  \n",
       "2                      40181,10522,40181,18199,59460   both  \n",
       "3                                              64527   both  \n",
       "4                       32249,43444,51126,54463,2183   both  "
      ]
     },
     "execution_count": 41,
     "metadata": {},
     "output_type": "execute_result"
    }
   ],
   "source": [
    "train_combined_new = pd.concat(\n",
    "    [\n",
    "        train_combined[train_combined['_merge'] == 'both'],\n",
    "        train_combined[train_combined['_merge'] != 'both'].sample(n=number_to_sample, random_state=3)\n",
    "    ]\n",
    ")\n",
    "\n",
    "train_combined_new.head()"
   ]
  },
  {
   "cell_type": "code",
   "execution_count": 42,
   "id": "be069eae",
   "metadata": {},
   "outputs": [
    {
     "data": {
      "text/plain": [
       "both          0.975001\n",
       "left_only     0.024999\n",
       "right_only    0.000000\n",
       "Name: _merge, dtype: float64"
      ]
     },
     "execution_count": 42,
     "metadata": {},
     "output_type": "execute_result"
    }
   ],
   "source": [
    "train_combined_new['_merge'].value_counts() / train_combined_new.shape[0]"
   ]
  },
  {
   "cell_type": "code",
   "execution_count": 43,
   "id": "41842497",
   "metadata": {},
   "outputs": [],
   "source": [
    "train_combined_new.drop('_merge', axis=1, inplace=True)"
   ]
  },
  {
   "cell_type": "code",
   "execution_count": 44,
   "id": "674551ee",
   "metadata": {},
   "outputs": [
    {
     "data": {
      "text/plain": [
       "customer_id                      0\n",
       "article_id_idx_label             0\n",
       "article_id_idx_historical    26637\n",
       "dtype: int64"
      ]
     },
     "execution_count": 44,
     "metadata": {},
     "output_type": "execute_result"
    }
   ],
   "source": [
    "train_combined_new.isnull().sum()"
   ]
  },
  {
   "cell_type": "code",
   "execution_count": 45,
   "id": "a50621af",
   "metadata": {},
   "outputs": [],
   "source": [
    "NO_HISTORY_ARTICLE_ID_IDX = '1'\n",
    "\n",
    "train_combined_new['article_id_idx_historical'].fillna(NO_HISTORY_ARTICLE_ID_IDX, inplace=True)"
   ]
  },
  {
   "cell_type": "code",
   "execution_count": 46,
   "id": "97a67b11",
   "metadata": {},
   "outputs": [
    {
     "name": "stdout",
     "output_type": "stream",
     "text": [
      "(1065505, 3)\n"
     ]
    },
    {
     "data": {
      "text/html": [
       "<div>\n",
       "<style scoped>\n",
       "    .dataframe tbody tr th:only-of-type {\n",
       "        vertical-align: middle;\n",
       "    }\n",
       "\n",
       "    .dataframe tbody tr th {\n",
       "        vertical-align: top;\n",
       "    }\n",
       "\n",
       "    .dataframe thead th {\n",
       "        text-align: right;\n",
       "    }\n",
       "</style>\n",
       "<table border=\"1\" class=\"dataframe\">\n",
       "  <thead>\n",
       "    <tr style=\"text-align: right;\">\n",
       "      <th></th>\n",
       "      <th>customer_id</th>\n",
       "      <th>article_id_idx_label</th>\n",
       "      <th>article_id_idx_historical</th>\n",
       "    </tr>\n",
       "  </thead>\n",
       "  <tbody>\n",
       "    <tr>\n",
       "      <th>0</th>\n",
       "      <td>00000dbacae5abe5e23885899a1fa44253a17956c6d1c3...</td>\n",
       "      <td>93746</td>\n",
       "      <td>29518,101,30329,50726,16005,16005,23998,65669,...</td>\n",
       "    </tr>\n",
       "    <tr>\n",
       "      <th>1</th>\n",
       "      <td>0000423b00ade91418cceaf3b26c6af3dd342b51fd051e...</td>\n",
       "      <td>59460</td>\n",
       "      <td>19335,33750,33993,8218,41026,19335,42628,41026...</td>\n",
       "    </tr>\n",
       "    <tr>\n",
       "      <th>2</th>\n",
       "      <td>000058a12d5b43e67d225668fa1f8d618c13dc232df0ca...</td>\n",
       "      <td>1471</td>\n",
       "      <td>40181,10522,40181,18199,59460</td>\n",
       "    </tr>\n",
       "    <tr>\n",
       "      <th>3</th>\n",
       "      <td>00005ca1c9ed5f5146b52ac8639a40ca9d57aeff4d1bd2...</td>\n",
       "      <td>61177</td>\n",
       "      <td>64527</td>\n",
       "    </tr>\n",
       "    <tr>\n",
       "      <th>4</th>\n",
       "      <td>00006413d8573cd20ed7128e53b7b13819fe5cfc2d801f...</td>\n",
       "      <td>2183</td>\n",
       "      <td>32249,43444,51126,54463,2183</td>\n",
       "    </tr>\n",
       "  </tbody>\n",
       "</table>\n",
       "</div>"
      ],
      "text/plain": [
       "                                         customer_id article_id_idx_label  \\\n",
       "0  00000dbacae5abe5e23885899a1fa44253a17956c6d1c3...                93746   \n",
       "1  0000423b00ade91418cceaf3b26c6af3dd342b51fd051e...                59460   \n",
       "2  000058a12d5b43e67d225668fa1f8d618c13dc232df0ca...                 1471   \n",
       "3  00005ca1c9ed5f5146b52ac8639a40ca9d57aeff4d1bd2...                61177   \n",
       "4  00006413d8573cd20ed7128e53b7b13819fe5cfc2d801f...                 2183   \n",
       "\n",
       "                           article_id_idx_historical  \n",
       "0  29518,101,30329,50726,16005,16005,23998,65669,...  \n",
       "1  19335,33750,33993,8218,41026,19335,42628,41026...  \n",
       "2                      40181,10522,40181,18199,59460  \n",
       "3                                              64527  \n",
       "4                       32249,43444,51126,54463,2183  "
      ]
     },
     "execution_count": 46,
     "metadata": {},
     "output_type": "execute_result"
    }
   ],
   "source": [
    "print(train_combined_new.shape)\n",
    "train_combined_new.head()"
   ]
  },
  {
   "cell_type": "markdown",
   "id": "2c7cf11a",
   "metadata": {},
   "source": [
    "Save"
   ]
  },
  {
   "cell_type": "code",
   "execution_count": 47,
   "id": "1cce3205",
   "metadata": {},
   "outputs": [],
   "source": [
    "train_combined_new.to_csv('data/splits/train_single_purchase_label.tsv', sep='\\t', index=False)"
   ]
  },
  {
   "cell_type": "markdown",
   "id": "bcfbe4b2",
   "metadata": {},
   "source": [
    "#### Prepare dev data"
   ]
  },
  {
   "cell_type": "code",
   "execution_count": 47,
   "id": "f870cfb2",
   "metadata": {},
   "outputs": [
    {
     "data": {
      "text/html": [
       "<div>\n",
       "<style scoped>\n",
       "    .dataframe tbody tr th:only-of-type {\n",
       "        vertical-align: middle;\n",
       "    }\n",
       "\n",
       "    .dataframe tbody tr th {\n",
       "        vertical-align: top;\n",
       "    }\n",
       "\n",
       "    .dataframe thead th {\n",
       "        text-align: right;\n",
       "    }\n",
       "</style>\n",
       "<table border=\"1\" class=\"dataframe\">\n",
       "  <thead>\n",
       "    <tr style=\"text-align: right;\">\n",
       "      <th></th>\n",
       "      <th>t_dat</th>\n",
       "      <th>customer_id</th>\n",
       "      <th>article_id</th>\n",
       "      <th>price</th>\n",
       "      <th>sales_channel_id</th>\n",
       "      <th>article_id_idx</th>\n",
       "    </tr>\n",
       "  </thead>\n",
       "  <tbody>\n",
       "    <tr>\n",
       "      <th>31521960</th>\n",
       "      <td>2020-09-15</td>\n",
       "      <td>000058a12d5b43e67d225668fa1f8d618c13dc232df0ca...</td>\n",
       "      <td>0794321007</td>\n",
       "      <td>0.061000</td>\n",
       "      <td>2</td>\n",
       "      <td>78505</td>\n",
       "    </tr>\n",
       "    <tr>\n",
       "      <th>31492019</th>\n",
       "      <td>2020-09-14</td>\n",
       "      <td>0000757967448a6cb83efb3ea7a3fb9d418ac7adf2379d...</td>\n",
       "      <td>0719530003</td>\n",
       "      <td>0.033881</td>\n",
       "      <td>2</td>\n",
       "      <td>58297</td>\n",
       "    </tr>\n",
       "    <tr>\n",
       "      <th>31492020</th>\n",
       "      <td>2020-09-14</td>\n",
       "      <td>0000757967448a6cb83efb3ea7a3fb9d418ac7adf2379d...</td>\n",
       "      <td>0448509014</td>\n",
       "      <td>0.042356</td>\n",
       "      <td>2</td>\n",
       "      <td>3093</td>\n",
       "    </tr>\n",
       "    <tr>\n",
       "      <th>31492021</th>\n",
       "      <td>2020-09-14</td>\n",
       "      <td>0001d44dbe7f6c4b35200abdb052c77a87596fe1bdcc37...</td>\n",
       "      <td>0734592001</td>\n",
       "      <td>0.030492</td>\n",
       "      <td>1</td>\n",
       "      <td>61918</td>\n",
       "    </tr>\n",
       "    <tr>\n",
       "      <th>31412220</th>\n",
       "      <td>2020-09-12</td>\n",
       "      <td>0003e867a930d0d6842f923d6ba7c9b77aba33fe2a0fbf...</td>\n",
       "      <td>0640021012</td>\n",
       "      <td>0.050831</td>\n",
       "      <td>2</td>\n",
       "      <td>33870</td>\n",
       "    </tr>\n",
       "  </tbody>\n",
       "</table>\n",
       "</div>"
      ],
      "text/plain": [
       "              t_dat                                        customer_id  \\\n",
       "31521960 2020-09-15  000058a12d5b43e67d225668fa1f8d618c13dc232df0ca...   \n",
       "31492019 2020-09-14  0000757967448a6cb83efb3ea7a3fb9d418ac7adf2379d...   \n",
       "31492020 2020-09-14  0000757967448a6cb83efb3ea7a3fb9d418ac7adf2379d...   \n",
       "31492021 2020-09-14  0001d44dbe7f6c4b35200abdb052c77a87596fe1bdcc37...   \n",
       "31412220 2020-09-12  0003e867a930d0d6842f923d6ba7c9b77aba33fe2a0fbf...   \n",
       "\n",
       "          article_id     price  sales_channel_id  article_id_idx  \n",
       "31521960  0794321007  0.061000                 2           78505  \n",
       "31492019  0719530003  0.033881                 2           58297  \n",
       "31492020  0448509014  0.042356                 2            3093  \n",
       "31492021  0734592001  0.030492                 1           61918  \n",
       "31412220  0640021012  0.050831                 2           33870  "
      ]
     },
     "execution_count": 47,
     "metadata": {},
     "output_type": "execute_result"
    }
   ],
   "source": [
    "dev_df.head()"
   ]
  },
  {
   "cell_type": "markdown",
   "id": "e6943101",
   "metadata": {},
   "source": [
    "Make all and single-purchase labels"
   ]
  },
  {
   "cell_type": "code",
   "execution_count": 48,
   "id": "c4bace96",
   "metadata": {},
   "outputs": [],
   "source": [
    "dev_df['article_id_idx'] = dev_df['article_id_idx'].astype(str)"
   ]
  },
  {
   "cell_type": "code",
   "execution_count": 49,
   "id": "8b3084e6",
   "metadata": {},
   "outputs": [
    {
     "data": {
      "text/html": [
       "<div>\n",
       "<style scoped>\n",
       "    .dataframe tbody tr th:only-of-type {\n",
       "        vertical-align: middle;\n",
       "    }\n",
       "\n",
       "    .dataframe tbody tr th {\n",
       "        vertical-align: top;\n",
       "    }\n",
       "\n",
       "    .dataframe thead th {\n",
       "        text-align: right;\n",
       "    }\n",
       "</style>\n",
       "<table border=\"1\" class=\"dataframe\">\n",
       "  <thead>\n",
       "    <tr style=\"text-align: right;\">\n",
       "      <th></th>\n",
       "      <th>customer_id</th>\n",
       "      <th>article_id_idx</th>\n",
       "    </tr>\n",
       "  </thead>\n",
       "  <tbody>\n",
       "    <tr>\n",
       "      <th>0</th>\n",
       "      <td>000058a12d5b43e67d225668fa1f8d618c13dc232df0ca...</td>\n",
       "      <td>78505</td>\n",
       "    </tr>\n",
       "    <tr>\n",
       "      <th>1</th>\n",
       "      <td>0000757967448a6cb83efb3ea7a3fb9d418ac7adf2379d...</td>\n",
       "      <td>58297,3093</td>\n",
       "    </tr>\n",
       "    <tr>\n",
       "      <th>2</th>\n",
       "      <td>0001d44dbe7f6c4b35200abdb052c77a87596fe1bdcc37...</td>\n",
       "      <td>61918</td>\n",
       "    </tr>\n",
       "    <tr>\n",
       "      <th>3</th>\n",
       "      <td>0003e867a930d0d6842f923d6ba7c9b77aba33fe2a0fbf...</td>\n",
       "      <td>33870,27907,98608,98608,100230</td>\n",
       "    </tr>\n",
       "    <tr>\n",
       "      <th>4</th>\n",
       "      <td>00040239317e877c77ac6e79df42eb2633ad38fcac09fc...</td>\n",
       "      <td>97668,97669,97668,97669</td>\n",
       "    </tr>\n",
       "  </tbody>\n",
       "</table>\n",
       "</div>"
      ],
      "text/plain": [
       "                                         customer_id  \\\n",
       "0  000058a12d5b43e67d225668fa1f8d618c13dc232df0ca...   \n",
       "1  0000757967448a6cb83efb3ea7a3fb9d418ac7adf2379d...   \n",
       "2  0001d44dbe7f6c4b35200abdb052c77a87596fe1bdcc37...   \n",
       "3  0003e867a930d0d6842f923d6ba7c9b77aba33fe2a0fbf...   \n",
       "4  00040239317e877c77ac6e79df42eb2633ad38fcac09fc...   \n",
       "\n",
       "                   article_id_idx  \n",
       "0                           78505  \n",
       "1                      58297,3093  \n",
       "2                           61918  \n",
       "3  33870,27907,98608,98608,100230  \n",
       "4         97668,97669,97668,97669  "
      ]
     },
     "execution_count": 49,
     "metadata": {},
     "output_type": "execute_result"
    }
   ],
   "source": [
    "dev_labels_all_purchases = (\n",
    "    dev_df[['customer_id', 'article_id_idx']]\n",
    "    .groupby('customer_id')\n",
    "    .agg({\n",
    "        'article_id_idx': ','.join\n",
    "    })\n",
    "    .reset_index()\n",
    ")\n",
    "\n",
    "dev_labels_all_purchases.head()"
   ]
  },
  {
   "cell_type": "code",
   "execution_count": 50,
   "id": "e2c466f3",
   "metadata": {},
   "outputs": [
    {
     "data": {
      "text/html": [
       "<div>\n",
       "<style scoped>\n",
       "    .dataframe tbody tr th:only-of-type {\n",
       "        vertical-align: middle;\n",
       "    }\n",
       "\n",
       "    .dataframe tbody tr th {\n",
       "        vertical-align: top;\n",
       "    }\n",
       "\n",
       "    .dataframe thead th {\n",
       "        text-align: right;\n",
       "    }\n",
       "</style>\n",
       "<table border=\"1\" class=\"dataframe\">\n",
       "  <thead>\n",
       "    <tr style=\"text-align: right;\">\n",
       "      <th></th>\n",
       "      <th>customer_id</th>\n",
       "      <th>article_id_idx</th>\n",
       "    </tr>\n",
       "  </thead>\n",
       "  <tbody>\n",
       "    <tr>\n",
       "      <th>31521960</th>\n",
       "      <td>000058a12d5b43e67d225668fa1f8d618c13dc232df0ca...</td>\n",
       "      <td>78505</td>\n",
       "    </tr>\n",
       "    <tr>\n",
       "      <th>31492019</th>\n",
       "      <td>0000757967448a6cb83efb3ea7a3fb9d418ac7adf2379d...</td>\n",
       "      <td>58297</td>\n",
       "    </tr>\n",
       "    <tr>\n",
       "      <th>31492021</th>\n",
       "      <td>0001d44dbe7f6c4b35200abdb052c77a87596fe1bdcc37...</td>\n",
       "      <td>61918</td>\n",
       "    </tr>\n",
       "    <tr>\n",
       "      <th>31412220</th>\n",
       "      <td>0003e867a930d0d6842f923d6ba7c9b77aba33fe2a0fbf...</td>\n",
       "      <td>33870</td>\n",
       "    </tr>\n",
       "    <tr>\n",
       "      <th>31412224</th>\n",
       "      <td>00040239317e877c77ac6e79df42eb2633ad38fcac09fc...</td>\n",
       "      <td>97668</td>\n",
       "    </tr>\n",
       "  </tbody>\n",
       "</table>\n",
       "</div>"
      ],
      "text/plain": [
       "                                                customer_id article_id_idx\n",
       "31521960  000058a12d5b43e67d225668fa1f8d618c13dc232df0ca...          78505\n",
       "31492019  0000757967448a6cb83efb3ea7a3fb9d418ac7adf2379d...          58297\n",
       "31492021  0001d44dbe7f6c4b35200abdb052c77a87596fe1bdcc37...          61918\n",
       "31412220  0003e867a930d0d6842f923d6ba7c9b77aba33fe2a0fbf...          33870\n",
       "31412224  00040239317e877c77ac6e79df42eb2633ad38fcac09fc...          97668"
      ]
     },
     "execution_count": 50,
     "metadata": {},
     "output_type": "execute_result"
    }
   ],
   "source": [
    "dev_labels_single_label = dev_df.copy()[['customer_id', 'article_id_idx']].groupby('customer_id').head(1)\n",
    "\n",
    "dev_labels_single_label.head()"
   ]
  },
  {
   "cell_type": "code",
   "execution_count": 51,
   "id": "85260590",
   "metadata": {},
   "outputs": [
    {
     "data": {
      "text/plain": [
       "(72019, 72019)"
      ]
     },
     "execution_count": 51,
     "metadata": {},
     "output_type": "execute_result"
    }
   ],
   "source": [
    "dev_labels_all_purchases.shape[0], dev_labels_single_label.shape[0]"
   ]
  },
  {
   "cell_type": "code",
   "execution_count": 52,
   "id": "8b52b008",
   "metadata": {},
   "outputs": [
    {
     "data": {
      "text/html": [
       "<div>\n",
       "<style scoped>\n",
       "    .dataframe tbody tr th:only-of-type {\n",
       "        vertical-align: middle;\n",
       "    }\n",
       "\n",
       "    .dataframe tbody tr th {\n",
       "        vertical-align: top;\n",
       "    }\n",
       "\n",
       "    .dataframe thead th {\n",
       "        text-align: right;\n",
       "    }\n",
       "</style>\n",
       "<table border=\"1\" class=\"dataframe\">\n",
       "  <thead>\n",
       "    <tr style=\"text-align: right;\">\n",
       "      <th></th>\n",
       "      <th>customer_id</th>\n",
       "      <th>article_id_idx_all_purchases</th>\n",
       "      <th>article_id_idx_single_label</th>\n",
       "    </tr>\n",
       "  </thead>\n",
       "  <tbody>\n",
       "    <tr>\n",
       "      <th>0</th>\n",
       "      <td>000058a12d5b43e67d225668fa1f8d618c13dc232df0ca...</td>\n",
       "      <td>78505</td>\n",
       "      <td>78505</td>\n",
       "    </tr>\n",
       "    <tr>\n",
       "      <th>1</th>\n",
       "      <td>0000757967448a6cb83efb3ea7a3fb9d418ac7adf2379d...</td>\n",
       "      <td>58297,3093</td>\n",
       "      <td>58297</td>\n",
       "    </tr>\n",
       "    <tr>\n",
       "      <th>2</th>\n",
       "      <td>0001d44dbe7f6c4b35200abdb052c77a87596fe1bdcc37...</td>\n",
       "      <td>61918</td>\n",
       "      <td>61918</td>\n",
       "    </tr>\n",
       "    <tr>\n",
       "      <th>3</th>\n",
       "      <td>0003e867a930d0d6842f923d6ba7c9b77aba33fe2a0fbf...</td>\n",
       "      <td>33870,27907,98608,98608,100230</td>\n",
       "      <td>33870</td>\n",
       "    </tr>\n",
       "    <tr>\n",
       "      <th>4</th>\n",
       "      <td>00040239317e877c77ac6e79df42eb2633ad38fcac09fc...</td>\n",
       "      <td>97668,97669,97668,97669</td>\n",
       "      <td>97668</td>\n",
       "    </tr>\n",
       "  </tbody>\n",
       "</table>\n",
       "</div>"
      ],
      "text/plain": [
       "                                         customer_id  \\\n",
       "0  000058a12d5b43e67d225668fa1f8d618c13dc232df0ca...   \n",
       "1  0000757967448a6cb83efb3ea7a3fb9d418ac7adf2379d...   \n",
       "2  0001d44dbe7f6c4b35200abdb052c77a87596fe1bdcc37...   \n",
       "3  0003e867a930d0d6842f923d6ba7c9b77aba33fe2a0fbf...   \n",
       "4  00040239317e877c77ac6e79df42eb2633ad38fcac09fc...   \n",
       "\n",
       "     article_id_idx_all_purchases article_id_idx_single_label  \n",
       "0                           78505                       78505  \n",
       "1                      58297,3093                       58297  \n",
       "2                           61918                       61918  \n",
       "3  33870,27907,98608,98608,100230                       33870  \n",
       "4         97668,97669,97668,97669                       97668  "
      ]
     },
     "execution_count": 52,
     "metadata": {},
     "output_type": "execute_result"
    }
   ],
   "source": [
    "dev_labels = dev_labels_all_purchases.merge(dev_labels_single_label, on='customer_id', suffixes=('_all_purchases', '_single_label'))\n",
    "dev_labels.head()"
   ]
  },
  {
   "cell_type": "markdown",
   "id": "582253da",
   "metadata": {},
   "source": [
    "Merge on historical purchases from training data"
   ]
  },
  {
   "cell_type": "code",
   "execution_count": 53,
   "id": "87d3ad3f",
   "metadata": {},
   "outputs": [
    {
     "name": "stdout",
     "output_type": "stream",
     "text": [
      "(72019, 4)\n"
     ]
    },
    {
     "data": {
      "text/html": [
       "<div>\n",
       "<style scoped>\n",
       "    .dataframe tbody tr th:only-of-type {\n",
       "        vertical-align: middle;\n",
       "    }\n",
       "\n",
       "    .dataframe tbody tr th {\n",
       "        vertical-align: top;\n",
       "    }\n",
       "\n",
       "    .dataframe thead th {\n",
       "        text-align: right;\n",
       "    }\n",
       "</style>\n",
       "<table border=\"1\" class=\"dataframe\">\n",
       "  <thead>\n",
       "    <tr style=\"text-align: right;\">\n",
       "      <th></th>\n",
       "      <th>customer_id</th>\n",
       "      <th>article_id_idx_all_purchases</th>\n",
       "      <th>article_id_idx_single_label</th>\n",
       "      <th>article_id_idx_historical</th>\n",
       "    </tr>\n",
       "  </thead>\n",
       "  <tbody>\n",
       "    <tr>\n",
       "      <th>0</th>\n",
       "      <td>000058a12d5b43e67d225668fa1f8d618c13dc232df0ca...</td>\n",
       "      <td>78505</td>\n",
       "      <td>78505</td>\n",
       "      <td>40181,10522,40181,18199,59460</td>\n",
       "    </tr>\n",
       "    <tr>\n",
       "      <th>1</th>\n",
       "      <td>0000757967448a6cb83efb3ea7a3fb9d418ac7adf2379d...</td>\n",
       "      <td>58297,3093</td>\n",
       "      <td>58297</td>\n",
       "      <td>62290</td>\n",
       "    </tr>\n",
       "    <tr>\n",
       "      <th>2</th>\n",
       "      <td>0001d44dbe7f6c4b35200abdb052c77a87596fe1bdcc37...</td>\n",
       "      <td>61918</td>\n",
       "      <td>61918</td>\n",
       "      <td>16166,16166,39929,8343,930,41146,44864,14571,1...</td>\n",
       "    </tr>\n",
       "    <tr>\n",
       "      <th>3</th>\n",
       "      <td>0003e867a930d0d6842f923d6ba7c9b77aba33fe2a0fbf...</td>\n",
       "      <td>33870,27907,98608,98608,100230</td>\n",
       "      <td>33870</td>\n",
       "      <td>86217,1782,96637,61604,97679</td>\n",
       "    </tr>\n",
       "    <tr>\n",
       "      <th>4</th>\n",
       "      <td>00040239317e877c77ac6e79df42eb2633ad38fcac09fc...</td>\n",
       "      <td>97668,97669,97668,97669</td>\n",
       "      <td>97668</td>\n",
       "      <td>25554,75579,60345,27440,59102,48230,8339,71896...</td>\n",
       "    </tr>\n",
       "  </tbody>\n",
       "</table>\n",
       "</div>"
      ],
      "text/plain": [
       "                                         customer_id  \\\n",
       "0  000058a12d5b43e67d225668fa1f8d618c13dc232df0ca...   \n",
       "1  0000757967448a6cb83efb3ea7a3fb9d418ac7adf2379d...   \n",
       "2  0001d44dbe7f6c4b35200abdb052c77a87596fe1bdcc37...   \n",
       "3  0003e867a930d0d6842f923d6ba7c9b77aba33fe2a0fbf...   \n",
       "4  00040239317e877c77ac6e79df42eb2633ad38fcac09fc...   \n",
       "\n",
       "     article_id_idx_all_purchases article_id_idx_single_label  \\\n",
       "0                           78505                       78505   \n",
       "1                      58297,3093                       58297   \n",
       "2                           61918                       61918   \n",
       "3  33870,27907,98608,98608,100230                       33870   \n",
       "4         97668,97669,97668,97669                       97668   \n",
       "\n",
       "                           article_id_idx_historical  \n",
       "0                      40181,10522,40181,18199,59460  \n",
       "1                                              62290  \n",
       "2  16166,16166,39929,8343,930,41146,44864,14571,1...  \n",
       "3                       86217,1782,96637,61604,97679  \n",
       "4  25554,75579,60345,27440,59102,48230,8339,71896...  "
      ]
     },
     "execution_count": 53,
     "metadata": {},
     "output_type": "execute_result"
    }
   ],
   "source": [
    "dev_labels = dev_labels.merge(train_historical_purchases, on='customer_id', how='left').rename(columns={'article_id_idx': 'article_id_idx_historical'})\n",
    "print(dev_labels.shape)\n",
    "dev_labels.head()"
   ]
  },
  {
   "cell_type": "code",
   "execution_count": 54,
   "id": "eee01e81",
   "metadata": {},
   "outputs": [],
   "source": [
    "dev_labels['article_id_idx_historical'].fillna(NO_HISTORY_ARTICLE_ID_IDX, inplace=True)"
   ]
  },
  {
   "cell_type": "code",
   "execution_count": 55,
   "id": "2b9fef76",
   "metadata": {},
   "outputs": [
    {
     "name": "stdout",
     "output_type": "stream",
     "text": [
      "<class 'pandas.core.frame.DataFrame'>\n",
      "Int64Index: 72019 entries, 0 to 72018\n",
      "Data columns (total 4 columns):\n",
      " #   Column                        Non-Null Count  Dtype \n",
      "---  ------                        --------------  ----- \n",
      " 0   customer_id                   72019 non-null  object\n",
      " 1   article_id_idx_all_purchases  72019 non-null  object\n",
      " 2   article_id_idx_single_label   72019 non-null  object\n",
      " 3   article_id_idx_historical     72019 non-null  object\n",
      "dtypes: object(4)\n",
      "memory usage: 2.7+ MB\n"
     ]
    }
   ],
   "source": [
    "dev_labels.info()"
   ]
  },
  {
   "cell_type": "code",
   "execution_count": 57,
   "id": "dc37a801",
   "metadata": {},
   "outputs": [],
   "source": [
    "# All purchase label\n",
    "(\n",
    "    dev_labels[['customer_id', 'article_id_idx_all_purchases', 'article_id_idx_historical']]\n",
    "    .rename(columns={'article_id_idx_all_purchases': 'article_id_idx_label'})\n",
    "    .to_csv('data/splits/dev_all_purchase_label.tsv', sep='\\t', index=False)\n",
    ")"
   ]
  },
  {
   "cell_type": "code",
   "execution_count": 58,
   "id": "37f4a12b",
   "metadata": {},
   "outputs": [],
   "source": [
    "# Single purchase label\n",
    "(\n",
    "    dev_labels[['customer_id', 'article_id_idx_single_label', 'article_id_idx_historical']]\n",
    "    .rename(columns={'article_id_idx_single_label': 'article_id_idx_label'})\n",
    "    .to_csv('data/splits/dev_single_purchase_label.tsv',sep='\\t', index=False)\n",
    ")"
   ]
  },
  {
   "cell_type": "markdown",
   "id": "7280483a",
   "metadata": {},
   "source": [
    "#### Prepare test data\n",
    "\n",
    "TODO"
   ]
  },
  {
   "cell_type": "markdown",
   "id": "0959a255",
   "metadata": {},
   "source": [
    "#### Prepare submission data"
   ]
  },
  {
   "cell_type": "code",
   "execution_count": 58,
   "id": "02fbd426",
   "metadata": {},
   "outputs": [
    {
     "name": "stdout",
     "output_type": "stream",
     "text": [
      "(1371980, 1)\n"
     ]
    },
    {
     "data": {
      "text/html": [
       "<div>\n",
       "<style scoped>\n",
       "    .dataframe tbody tr th:only-of-type {\n",
       "        vertical-align: middle;\n",
       "    }\n",
       "\n",
       "    .dataframe tbody tr th {\n",
       "        vertical-align: top;\n",
       "    }\n",
       "\n",
       "    .dataframe thead th {\n",
       "        text-align: right;\n",
       "    }\n",
       "</style>\n",
       "<table border=\"1\" class=\"dataframe\">\n",
       "  <thead>\n",
       "    <tr style=\"text-align: right;\">\n",
       "      <th></th>\n",
       "      <th>customer_id</th>\n",
       "    </tr>\n",
       "  </thead>\n",
       "  <tbody>\n",
       "    <tr>\n",
       "      <th>0</th>\n",
       "      <td>00000dbacae5abe5e23885899a1fa44253a17956c6d1c3...</td>\n",
       "    </tr>\n",
       "    <tr>\n",
       "      <th>1</th>\n",
       "      <td>0000423b00ade91418cceaf3b26c6af3dd342b51fd051e...</td>\n",
       "    </tr>\n",
       "    <tr>\n",
       "      <th>2</th>\n",
       "      <td>000058a12d5b43e67d225668fa1f8d618c13dc232df0ca...</td>\n",
       "    </tr>\n",
       "    <tr>\n",
       "      <th>3</th>\n",
       "      <td>00005ca1c9ed5f5146b52ac8639a40ca9d57aeff4d1bd2...</td>\n",
       "    </tr>\n",
       "    <tr>\n",
       "      <th>4</th>\n",
       "      <td>00006413d8573cd20ed7128e53b7b13819fe5cfc2d801f...</td>\n",
       "    </tr>\n",
       "  </tbody>\n",
       "</table>\n",
       "</div>"
      ],
      "text/plain": [
       "                                         customer_id\n",
       "0  00000dbacae5abe5e23885899a1fa44253a17956c6d1c3...\n",
       "1  0000423b00ade91418cceaf3b26c6af3dd342b51fd051e...\n",
       "2  000058a12d5b43e67d225668fa1f8d618c13dc232df0ca...\n",
       "3  00005ca1c9ed5f5146b52ac8639a40ca9d57aeff4d1bd2...\n",
       "4  00006413d8573cd20ed7128e53b7b13819fe5cfc2d801f..."
      ]
     },
     "execution_count": 58,
     "metadata": {},
     "output_type": "execute_result"
    }
   ],
   "source": [
    "submission_customers = pd.read_csv('data/sample_submission.csv', usecols=['customer_id'])\n",
    "print(submission_customers.shape)\n",
    "submission_customers.head()"
   ]
  },
  {
   "cell_type": "code",
   "execution_count": 68,
   "id": "8ea57cd2",
   "metadata": {},
   "outputs": [
    {
     "data": {
      "text/html": [
       "<div>\n",
       "<style scoped>\n",
       "    .dataframe tbody tr th:only-of-type {\n",
       "        vertical-align: middle;\n",
       "    }\n",
       "\n",
       "    .dataframe tbody tr th {\n",
       "        vertical-align: top;\n",
       "    }\n",
       "\n",
       "    .dataframe thead th {\n",
       "        text-align: right;\n",
       "    }\n",
       "</style>\n",
       "<table border=\"1\" class=\"dataframe\">\n",
       "  <thead>\n",
       "    <tr style=\"text-align: right;\">\n",
       "      <th></th>\n",
       "      <th>t_dat</th>\n",
       "      <th>customer_id</th>\n",
       "      <th>article_id</th>\n",
       "      <th>price</th>\n",
       "      <th>sales_channel_id</th>\n",
       "      <th>article_id_idx</th>\n",
       "    </tr>\n",
       "  </thead>\n",
       "  <tbody>\n",
       "    <tr>\n",
       "      <th>0</th>\n",
       "      <td>2018-09-20</td>\n",
       "      <td>000058a12d5b43e67d225668fa1f8d618c13dc232df0ca...</td>\n",
       "      <td>0663713001</td>\n",
       "      <td>0.050831</td>\n",
       "      <td>2</td>\n",
       "      <td>40181</td>\n",
       "    </tr>\n",
       "    <tr>\n",
       "      <th>1</th>\n",
       "      <td>2018-09-20</td>\n",
       "      <td>000058a12d5b43e67d225668fa1f8d618c13dc232df0ca...</td>\n",
       "      <td>0541518023</td>\n",
       "      <td>0.030492</td>\n",
       "      <td>2</td>\n",
       "      <td>10522</td>\n",
       "    </tr>\n",
       "    <tr>\n",
       "      <th>2</th>\n",
       "      <td>2018-09-20</td>\n",
       "      <td>00007d2de826758b65a93dd24ce629ed66842531df6699...</td>\n",
       "      <td>0505221004</td>\n",
       "      <td>0.015237</td>\n",
       "      <td>2</td>\n",
       "      <td>6389</td>\n",
       "    </tr>\n",
       "    <tr>\n",
       "      <th>3</th>\n",
       "      <td>2018-09-20</td>\n",
       "      <td>00007d2de826758b65a93dd24ce629ed66842531df6699...</td>\n",
       "      <td>0685687003</td>\n",
       "      <td>0.016932</td>\n",
       "      <td>2</td>\n",
       "      <td>46306</td>\n",
       "    </tr>\n",
       "    <tr>\n",
       "      <th>4</th>\n",
       "      <td>2018-09-20</td>\n",
       "      <td>00007d2de826758b65a93dd24ce629ed66842531df6699...</td>\n",
       "      <td>0685687004</td>\n",
       "      <td>0.016932</td>\n",
       "      <td>2</td>\n",
       "      <td>46307</td>\n",
       "    </tr>\n",
       "  </tbody>\n",
       "</table>\n",
       "</div>"
      ],
      "text/plain": [
       "        t_dat                                        customer_id  article_id  \\\n",
       "0  2018-09-20  000058a12d5b43e67d225668fa1f8d618c13dc232df0ca...  0663713001   \n",
       "1  2018-09-20  000058a12d5b43e67d225668fa1f8d618c13dc232df0ca...  0541518023   \n",
       "2  2018-09-20  00007d2de826758b65a93dd24ce629ed66842531df6699...  0505221004   \n",
       "3  2018-09-20  00007d2de826758b65a93dd24ce629ed66842531df6699...  0685687003   \n",
       "4  2018-09-20  00007d2de826758b65a93dd24ce629ed66842531df6699...  0685687004   \n",
       "\n",
       "      price  sales_channel_id  article_id_idx  \n",
       "0  0.050831                 2           40181  \n",
       "1  0.030492                 2           10522  \n",
       "2  0.015237                 2            6389  \n",
       "3  0.016932                 2           46306  \n",
       "4  0.016932                 2           46307  "
      ]
     },
     "execution_count": 68,
     "metadata": {},
     "output_type": "execute_result"
    }
   ],
   "source": [
    "all_historical_transactions = pd.read_csv('data/transactions_train.csv', dtype={'article_id': str})\n",
    "all_historical_transactions['article_id_idx'] = all_historical_transactions['article_id'].map(article_id_to_idx)\n",
    "all_historical_transactions.head()"
   ]
  },
  {
   "cell_type": "code",
   "execution_count": 69,
   "id": "a9f27976",
   "metadata": {},
   "outputs": [],
   "source": [
    "all_historical_transactions.sort_values(['customer_id', 't_dat'], inplace=True)"
   ]
  },
  {
   "cell_type": "code",
   "execution_count": 70,
   "id": "7dbf1b44",
   "metadata": {},
   "outputs": [],
   "source": [
    "all_historical_transactions['article_id_idx'] = all_historical_transactions['article_id_idx'].astype(str)"
   ]
  },
  {
   "cell_type": "code",
   "execution_count": 71,
   "id": "e300d599",
   "metadata": {},
   "outputs": [
    {
     "data": {
      "text/html": [
       "<div>\n",
       "<style scoped>\n",
       "    .dataframe tbody tr th:only-of-type {\n",
       "        vertical-align: middle;\n",
       "    }\n",
       "\n",
       "    .dataframe tbody tr th {\n",
       "        vertical-align: top;\n",
       "    }\n",
       "\n",
       "    .dataframe thead th {\n",
       "        text-align: right;\n",
       "    }\n",
       "</style>\n",
       "<table border=\"1\" class=\"dataframe\">\n",
       "  <thead>\n",
       "    <tr style=\"text-align: right;\">\n",
       "      <th></th>\n",
       "      <th>customer_id</th>\n",
       "      <th>article_id_idx</th>\n",
       "    </tr>\n",
       "  </thead>\n",
       "  <tbody>\n",
       "    <tr>\n",
       "      <th>0</th>\n",
       "      <td>00000dbacae5abe5e23885899a1fa44253a17956c6d1c3...</td>\n",
       "      <td>29518,101,30329,50726,16005,16005,23998,65669,...</td>\n",
       "    </tr>\n",
       "    <tr>\n",
       "      <th>1</th>\n",
       "      <td>0000423b00ade91418cceaf3b26c6af3dd342b51fd051e...</td>\n",
       "      <td>19335,33750,33993,8218,41026,19335,42628,41026...</td>\n",
       "    </tr>\n",
       "    <tr>\n",
       "      <th>2</th>\n",
       "      <td>000058a12d5b43e67d225668fa1f8d618c13dc232df0ca...</td>\n",
       "      <td>40181,10522,40181,18199,59460,1471,1471,60255,...</td>\n",
       "    </tr>\n",
       "    <tr>\n",
       "      <th>3</th>\n",
       "      <td>00005ca1c9ed5f5146b52ac8639a40ca9d57aeff4d1bd2...</td>\n",
       "      <td>64527,61177</td>\n",
       "    </tr>\n",
       "    <tr>\n",
       "      <th>4</th>\n",
       "      <td>00006413d8573cd20ed7128e53b7b13819fe5cfc2d801f...</td>\n",
       "      <td>32249,43444,51126,54463,2183,2183,20519,87478,...</td>\n",
       "    </tr>\n",
       "  </tbody>\n",
       "</table>\n",
       "</div>"
      ],
      "text/plain": [
       "                                         customer_id  \\\n",
       "0  00000dbacae5abe5e23885899a1fa44253a17956c6d1c3...   \n",
       "1  0000423b00ade91418cceaf3b26c6af3dd342b51fd051e...   \n",
       "2  000058a12d5b43e67d225668fa1f8d618c13dc232df0ca...   \n",
       "3  00005ca1c9ed5f5146b52ac8639a40ca9d57aeff4d1bd2...   \n",
       "4  00006413d8573cd20ed7128e53b7b13819fe5cfc2d801f...   \n",
       "\n",
       "                                      article_id_idx  \n",
       "0  29518,101,30329,50726,16005,16005,23998,65669,...  \n",
       "1  19335,33750,33993,8218,41026,19335,42628,41026...  \n",
       "2  40181,10522,40181,18199,59460,1471,1471,60255,...  \n",
       "3                                        64527,61177  \n",
       "4  32249,43444,51126,54463,2183,2183,20519,87478,...  "
      ]
     },
     "execution_count": 71,
     "metadata": {},
     "output_type": "execute_result"
    }
   ],
   "source": [
    "all_historical_transactions_by_cust = (\n",
    "    all_historical_transactions[['customer_id', 'article_id_idx']]\n",
    "    .groupby('customer_id')\n",
    "    .agg({\n",
    "        'article_id_idx': ','.join\n",
    "    })\n",
    "    .reset_index()\n",
    ")\n",
    "\n",
    "all_historical_transactions_by_cust.head()"
   ]
  },
  {
   "cell_type": "code",
   "execution_count": 72,
   "id": "ccc2383f",
   "metadata": {},
   "outputs": [
    {
     "data": {
      "text/plain": [
       "(1362281, 2)"
      ]
     },
     "execution_count": 72,
     "metadata": {},
     "output_type": "execute_result"
    }
   ],
   "source": [
    "all_historical_transactions_by_cust.shape"
   ]
  },
  {
   "cell_type": "code",
   "execution_count": 94,
   "id": "cde447d8",
   "metadata": {},
   "outputs": [],
   "source": [
    "submission_inputs = submission_customers.merge(all_historical_transactions_by_cust, on='customer_id', how='left', indicator=True)"
   ]
  },
  {
   "cell_type": "code",
   "execution_count": 95,
   "id": "60dbf5b3",
   "metadata": {},
   "outputs": [
    {
     "data": {
      "text/plain": [
       "both          0.992931\n",
       "left_only     0.007069\n",
       "right_only    0.000000\n",
       "Name: _merge, dtype: float64"
      ]
     },
     "execution_count": 95,
     "metadata": {},
     "output_type": "execute_result"
    }
   ],
   "source": [
    "submission_inputs['_merge'].value_counts() / submission_inputs.shape[0]"
   ]
  },
  {
   "cell_type": "code",
   "execution_count": 96,
   "id": "fd2aa843",
   "metadata": {},
   "outputs": [
    {
     "data": {
      "text/html": [
       "<div>\n",
       "<style scoped>\n",
       "    .dataframe tbody tr th:only-of-type {\n",
       "        vertical-align: middle;\n",
       "    }\n",
       "\n",
       "    .dataframe tbody tr th {\n",
       "        vertical-align: top;\n",
       "    }\n",
       "\n",
       "    .dataframe thead th {\n",
       "        text-align: right;\n",
       "    }\n",
       "</style>\n",
       "<table border=\"1\" class=\"dataframe\">\n",
       "  <thead>\n",
       "    <tr style=\"text-align: right;\">\n",
       "      <th></th>\n",
       "      <th>customer_id</th>\n",
       "      <th>article_id_idx</th>\n",
       "      <th>_merge</th>\n",
       "    </tr>\n",
       "  </thead>\n",
       "  <tbody>\n",
       "    <tr>\n",
       "      <th>0</th>\n",
       "      <td>00000dbacae5abe5e23885899a1fa44253a17956c6d1c3...</td>\n",
       "      <td>29518,101,30329,50726,16005,16005,23998,65669,...</td>\n",
       "      <td>both</td>\n",
       "    </tr>\n",
       "    <tr>\n",
       "      <th>1</th>\n",
       "      <td>0000423b00ade91418cceaf3b26c6af3dd342b51fd051e...</td>\n",
       "      <td>19335,33750,33993,8218,41026,19335,42628,41026...</td>\n",
       "      <td>both</td>\n",
       "    </tr>\n",
       "    <tr>\n",
       "      <th>2</th>\n",
       "      <td>000058a12d5b43e67d225668fa1f8d618c13dc232df0ca...</td>\n",
       "      <td>40181,10522,40181,18199,59460,1471,1471,60255,...</td>\n",
       "      <td>both</td>\n",
       "    </tr>\n",
       "    <tr>\n",
       "      <th>3</th>\n",
       "      <td>00005ca1c9ed5f5146b52ac8639a40ca9d57aeff4d1bd2...</td>\n",
       "      <td>64527,61177</td>\n",
       "      <td>both</td>\n",
       "    </tr>\n",
       "    <tr>\n",
       "      <th>4</th>\n",
       "      <td>00006413d8573cd20ed7128e53b7b13819fe5cfc2d801f...</td>\n",
       "      <td>32249,43444,51126,54463,2183,2183,20519,87478,...</td>\n",
       "      <td>both</td>\n",
       "    </tr>\n",
       "  </tbody>\n",
       "</table>\n",
       "</div>"
      ],
      "text/plain": [
       "                                         customer_id  \\\n",
       "0  00000dbacae5abe5e23885899a1fa44253a17956c6d1c3...   \n",
       "1  0000423b00ade91418cceaf3b26c6af3dd342b51fd051e...   \n",
       "2  000058a12d5b43e67d225668fa1f8d618c13dc232df0ca...   \n",
       "3  00005ca1c9ed5f5146b52ac8639a40ca9d57aeff4d1bd2...   \n",
       "4  00006413d8573cd20ed7128e53b7b13819fe5cfc2d801f...   \n",
       "\n",
       "                                      article_id_idx _merge  \n",
       "0  29518,101,30329,50726,16005,16005,23998,65669,...   both  \n",
       "1  19335,33750,33993,8218,41026,19335,42628,41026...   both  \n",
       "2  40181,10522,40181,18199,59460,1471,1471,60255,...   both  \n",
       "3                                        64527,61177   both  \n",
       "4  32249,43444,51126,54463,2183,2183,20519,87478,...   both  "
      ]
     },
     "execution_count": 96,
     "metadata": {},
     "output_type": "execute_result"
    }
   ],
   "source": [
    "submission_inputs.head()"
   ]
  },
  {
   "cell_type": "code",
   "execution_count": 98,
   "id": "ef41c279",
   "metadata": {},
   "outputs": [],
   "source": [
    "submission_inputs['article_id_idx'].fillna(NO_HISTORY_ARTICLE_ID_IDX, inplace=True)"
   ]
  },
  {
   "cell_type": "code",
   "execution_count": 99,
   "id": "314ed353",
   "metadata": {},
   "outputs": [],
   "source": [
    "submission_inputs.drop('_merge', axis=1, inplace=True)"
   ]
  },
  {
   "cell_type": "code",
   "execution_count": 100,
   "id": "baa1075e",
   "metadata": {},
   "outputs": [],
   "source": [
    "submission_inputs.rename(columns={'article_id_idx': 'article_id_idx_historical'}, inplace=True)"
   ]
  },
  {
   "cell_type": "code",
   "execution_count": 101,
   "id": "b52a9a17",
   "metadata": {},
   "outputs": [],
   "source": [
    "# Create dummy label so Dataset can process it\n",
    "submission_inputs['dummy_label'] = '999'"
   ]
  },
  {
   "cell_type": "code",
   "execution_count": 102,
   "id": "e099564a",
   "metadata": {},
   "outputs": [
    {
     "data": {
      "text/html": [
       "<div>\n",
       "<style scoped>\n",
       "    .dataframe tbody tr th:only-of-type {\n",
       "        vertical-align: middle;\n",
       "    }\n",
       "\n",
       "    .dataframe tbody tr th {\n",
       "        vertical-align: top;\n",
       "    }\n",
       "\n",
       "    .dataframe thead th {\n",
       "        text-align: right;\n",
       "    }\n",
       "</style>\n",
       "<table border=\"1\" class=\"dataframe\">\n",
       "  <thead>\n",
       "    <tr style=\"text-align: right;\">\n",
       "      <th></th>\n",
       "      <th>customer_id</th>\n",
       "      <th>dummy_label</th>\n",
       "      <th>article_id_idx_historical</th>\n",
       "    </tr>\n",
       "  </thead>\n",
       "  <tbody>\n",
       "    <tr>\n",
       "      <th>0</th>\n",
       "      <td>00000dbacae5abe5e23885899a1fa44253a17956c6d1c3...</td>\n",
       "      <td>999</td>\n",
       "      <td>29518,101,30329,50726,16005,16005,23998,65669,...</td>\n",
       "    </tr>\n",
       "    <tr>\n",
       "      <th>1</th>\n",
       "      <td>0000423b00ade91418cceaf3b26c6af3dd342b51fd051e...</td>\n",
       "      <td>999</td>\n",
       "      <td>19335,33750,33993,8218,41026,19335,42628,41026...</td>\n",
       "    </tr>\n",
       "    <tr>\n",
       "      <th>2</th>\n",
       "      <td>000058a12d5b43e67d225668fa1f8d618c13dc232df0ca...</td>\n",
       "      <td>999</td>\n",
       "      <td>40181,10522,40181,18199,59460,1471,1471,60255,...</td>\n",
       "    </tr>\n",
       "    <tr>\n",
       "      <th>3</th>\n",
       "      <td>00005ca1c9ed5f5146b52ac8639a40ca9d57aeff4d1bd2...</td>\n",
       "      <td>999</td>\n",
       "      <td>64527,61177</td>\n",
       "    </tr>\n",
       "    <tr>\n",
       "      <th>4</th>\n",
       "      <td>00006413d8573cd20ed7128e53b7b13819fe5cfc2d801f...</td>\n",
       "      <td>999</td>\n",
       "      <td>32249,43444,51126,54463,2183,2183,20519,87478,...</td>\n",
       "    </tr>\n",
       "  </tbody>\n",
       "</table>\n",
       "</div>"
      ],
      "text/plain": [
       "                                         customer_id dummy_label  \\\n",
       "0  00000dbacae5abe5e23885899a1fa44253a17956c6d1c3...         999   \n",
       "1  0000423b00ade91418cceaf3b26c6af3dd342b51fd051e...         999   \n",
       "2  000058a12d5b43e67d225668fa1f8d618c13dc232df0ca...         999   \n",
       "3  00005ca1c9ed5f5146b52ac8639a40ca9d57aeff4d1bd2...         999   \n",
       "4  00006413d8573cd20ed7128e53b7b13819fe5cfc2d801f...         999   \n",
       "\n",
       "                           article_id_idx_historical  \n",
       "0  29518,101,30329,50726,16005,16005,23998,65669,...  \n",
       "1  19335,33750,33993,8218,41026,19335,42628,41026...  \n",
       "2  40181,10522,40181,18199,59460,1471,1471,60255,...  \n",
       "3                                        64527,61177  \n",
       "4  32249,43444,51126,54463,2183,2183,20519,87478,...  "
      ]
     },
     "execution_count": 102,
     "metadata": {},
     "output_type": "execute_result"
    }
   ],
   "source": [
    "submission_inputs = submission_inputs.copy()[['customer_id', 'dummy_label', 'article_id_idx_historical']]\n",
    "submission_inputs.head()"
   ]
  },
  {
   "cell_type": "code",
   "execution_count": 103,
   "id": "19196e8f",
   "metadata": {},
   "outputs": [],
   "source": [
    "submission_inputs.to_csv('data/splits/submission_inputs.tsv',sep='\\t', index=False)"
   ]
  },
  {
   "cell_type": "markdown",
   "id": "580b411d",
   "metadata": {},
   "source": [
    "#### Dataset"
   ]
  },
  {
   "cell_type": "code",
   "execution_count": 89,
   "id": "c5a48fce",
   "metadata": {},
   "outputs": [],
   "source": [
    "from itertools import cycle, islice\n",
    "\n",
    "import torch\n",
    "import torch.nn.functional as F\n",
    "from torch.utils.data import IterableDataset, DataLoader"
   ]
  },
  {
   "cell_type": "code",
   "execution_count": 90,
   "id": "956e3f83",
   "metadata": {},
   "outputs": [],
   "source": [
    "class FashionDatasetSingleLabel(IterableDataset):\n",
    "\n",
    "    def __init__(self, dataset_filepath, max_length, padding_value):\n",
    "        \n",
    "        self.dataset_itr = open(dataset_filepath, 'r')\n",
    "        next(self.dataset_itr)  # skip header\n",
    "        \n",
    "        self.max_length = max_length\n",
    "        \n",
    "        self.padding_value = padding_value\n",
    "    \n",
    "    def process_label(self, label: str):\n",
    "\n",
    "        return torch.tensor(int(label))\n",
    "    \n",
    "    def process_input(self, input_str: str, max_length, padding_value):\n",
    "        \n",
    "        input_tensor = torch.tensor([int(v) for v in input_str.split(',')])\n",
    "        \n",
    "        len_orig = len(input_tensor)\n",
    "        \n",
    "        if len_orig >= max_length:\n",
    "            \n",
    "            input_tensor = input_tensor[-max_length:]  # Take latest items\n",
    "            \n",
    "        else:\n",
    "            \n",
    "            num_pad = max_length - len_orig\n",
    "            \n",
    "            input_tensor = F.pad(input_tensor, (0, num_pad), value=padding_value)\n",
    "            \n",
    "        return input_tensor\n",
    "    \n",
    "    def parse_itr(self, dataset_itr):\n",
    "        \n",
    "        for line in dataset_itr:\n",
    "        \n",
    "            line_items = line.rstrip('\\n').split('\\t')  # [customer_id, label, input]\n",
    "            \n",
    "            label = self.process_label(line_items[1])\n",
    "            \n",
    "            input_seq = self.process_input(line_items[2], self.max_length, self.padding_value)\n",
    "\n",
    "            yield input_seq, label\n",
    "        \n",
    "    def get_stream(self, dataset_itr):\n",
    "        \n",
    "        return self.parse_itr(dataset_itr)\n",
    "\n",
    "    def __iter__(self):\n",
    "        \n",
    "        return self.get_stream(self.dataset_itr)"
   ]
  },
  {
   "cell_type": "code",
   "execution_count": 67,
   "id": "2d66e57e",
   "metadata": {},
   "outputs": [],
   "source": [
    "dataset = FashionDatasetSingleLabel(dataset_filepath='data/splits/train_single_purchase_label_sample.tsv', max_length=1, padding_value=0)"
   ]
  },
  {
   "cell_type": "code",
   "execution_count": 68,
   "id": "a8bee093",
   "metadata": {},
   "outputs": [],
   "source": [
    "loader = DataLoader(dataset, batch_size=4)"
   ]
  },
  {
   "cell_type": "code",
   "execution_count": 69,
   "id": "16f00604",
   "metadata": {},
   "outputs": [],
   "source": [
    "# pd.read_csv('data/splits/dev_single_purchase_label.tsv', sep='\\t')"
   ]
  },
  {
   "cell_type": "code",
   "execution_count": 70,
   "id": "2bf48867",
   "metadata": {},
   "outputs": [
    {
     "name": "stdout",
     "output_type": "stream",
     "text": [
      "torch.Size([4, 1])\n",
      "torch.Size([4, 1])\n",
      "torch.Size([2, 1])\n"
     ]
    }
   ],
   "source": [
    "for data in loader:\n",
    " \n",
    "    X, y = data\n",
    "    print(X.shape)"
   ]
  },
  {
   "cell_type": "code",
   "execution_count": 39,
   "id": "9c2d520d",
   "metadata": {},
   "outputs": [],
   "source": [
    "for batch in islice(loader, 8):\n",
    "    print(batch)"
   ]
  }
 ],
 "metadata": {
  "kernelspec": {
   "display_name": "Python 3 (ipykernel)",
   "language": "python",
   "name": "python3"
  },
  "language_info": {
   "codemirror_mode": {
    "name": "ipython",
    "version": 3
   },
   "file_extension": ".py",
   "mimetype": "text/x-python",
   "name": "python",
   "nbconvert_exporter": "python",
   "pygments_lexer": "ipython3",
   "version": "3.8.12"
  }
 },
 "nbformat": 4,
 "nbformat_minor": 5
}
