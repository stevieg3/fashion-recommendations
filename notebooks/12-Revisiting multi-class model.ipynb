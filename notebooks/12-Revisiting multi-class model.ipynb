{
 "cells": [
  {
   "cell_type": "markdown",
   "id": "4fd19a84",
   "metadata": {
    "id": "d735c753"
   },
   "source": [
    "TBC"
   ]
  },
  {
   "cell_type": "code",
   "execution_count": 1,
   "id": "15506077",
   "metadata": {
    "colab": {
     "base_uri": "https://localhost:8080/"
    },
    "executionInfo": {
     "elapsed": 2383,
     "status": "ok",
     "timestamp": 1649692188955,
     "user": {
      "displayName": "Steven George",
      "userId": "07709250839253394649"
     },
     "user_tz": -60
    },
    "id": "52f14bce",
    "outputId": "cd23de3a-c1cd-4c9c-cc43-a9af16cd5e2a"
   },
   "outputs": [],
   "source": [
    "# from google.colab import drive\n",
    "# drive.mount('/content/drive', force_remount=True)"
   ]
  },
  {
   "cell_type": "code",
   "execution_count": 2,
   "id": "93c2aeb8",
   "metadata": {
    "executionInfo": {
     "elapsed": 1160,
     "status": "ok",
     "timestamp": 1649692190112,
     "user": {
      "displayName": "Steven George",
      "userId": "07709250839253394649"
     },
     "user_tz": -60
    },
    "id": "562972be"
   },
   "outputs": [],
   "source": [
    "import os\n",
    "import datetime\n",
    "\n",
    "import pandas as pd\n",
    "import numpy as np\n",
    "import matplotlib.pyplot as plt\n",
    "import torch\n",
    "import torch.nn as nn\n",
    "from torch.utils.data import Dataset, DataLoader\n",
    "from tqdm import tqdm"
   ]
  },
  {
   "cell_type": "code",
   "execution_count": 3,
   "id": "85d4f175",
   "metadata": {
    "executionInfo": {
     "elapsed": 11,
     "status": "ok",
     "timestamp": 1649692190113,
     "user": {
      "displayName": "Steven George",
      "userId": "07709250839253394649"
     },
     "user_tz": -60
    },
    "id": "627d0e90"
   },
   "outputs": [],
   "source": [
    "os.chdir('..')\n",
    "# os.chdir('drive/My Drive/Colab Notebooks/Github/fashion-recommendations') "
   ]
  },
  {
   "cell_type": "code",
   "execution_count": 4,
   "id": "8672677b",
   "metadata": {
    "executionInfo": {
     "elapsed": 10,
     "status": "ok",
     "timestamp": 1649692190113,
     "user": {
      "displayName": "Steven George",
      "userId": "07709250839253394649"
     },
     "user_tz": -60
    },
    "id": "ed516b5d"
   },
   "outputs": [],
   "source": [
    "from fashion_recommendations.metrics.average_precision import mapk"
   ]
  },
  {
   "cell_type": "code",
   "execution_count": 5,
   "id": "f0cb8171",
   "metadata": {
    "executionInfo": {
     "elapsed": 11,
     "status": "ok",
     "timestamp": 1649692190114,
     "user": {
      "displayName": "Steven George",
      "userId": "07709250839253394649"
     },
     "user_tz": -60
    },
    "id": "9f676b44"
   },
   "outputs": [],
   "source": [
    "pd.options.display.max_columns = None"
   ]
  },
  {
   "cell_type": "code",
   "execution_count": 6,
   "id": "5262d376",
   "metadata": {
    "colab": {
     "base_uri": "https://localhost:8080/"
    },
    "executionInfo": {
     "elapsed": 10,
     "status": "ok",
     "timestamp": 1649692190114,
     "user": {
      "displayName": "Steven George",
      "userId": "07709250839253394649"
     },
     "user_tz": -60
    },
    "id": "f32f6ce3",
    "outputId": "b8b104d5-8a14-478a-8a96-84784c8016ee"
   },
   "outputs": [
    {
     "name": "stdout",
     "output_type": "stream",
     "text": [
      "cpu\n"
     ]
    }
   ],
   "source": [
    "device = torch.device(\"cuda:0\" if torch.cuda.is_available() else \"cpu\")\n",
    "print(device)"
   ]
  },
  {
   "cell_type": "code",
   "execution_count": 7,
   "id": "c893a940",
   "metadata": {
    "colab": {
     "base_uri": "https://localhost:8080/",
     "height": 224
    },
    "executionInfo": {
     "elapsed": 1082,
     "status": "ok",
     "timestamp": 1649692191191,
     "user": {
      "displayName": "Steven George",
      "userId": "07709250839253394649"
     },
     "user_tz": -60
    },
    "id": "72888e65",
    "outputId": "b288fd18-402b-4d9c-d27d-9a982dea9a7a"
   },
   "outputs": [
    {
     "name": "stdout",
     "output_type": "stream",
     "text": [
      "(588758, 5)\n"
     ]
    },
    {
     "data": {
      "text/html": [
       "<div>\n",
       "<style scoped>\n",
       "    .dataframe tbody tr th:only-of-type {\n",
       "        vertical-align: middle;\n",
       "    }\n",
       "\n",
       "    .dataframe tbody tr th {\n",
       "        vertical-align: top;\n",
       "    }\n",
       "\n",
       "    .dataframe thead th {\n",
       "        text-align: right;\n",
       "    }\n",
       "</style>\n",
       "<table border=\"1\" class=\"dataframe\">\n",
       "  <thead>\n",
       "    <tr style=\"text-align: right;\">\n",
       "      <th></th>\n",
       "      <th>t_dat</th>\n",
       "      <th>customer_id</th>\n",
       "      <th>article_id</th>\n",
       "      <th>price</th>\n",
       "      <th>sales_channel_id</th>\n",
       "    </tr>\n",
       "  </thead>\n",
       "  <tbody>\n",
       "    <tr>\n",
       "      <th>0</th>\n",
       "      <td>2018-09-20</td>\n",
       "      <td>000058a12d5b43e67d225668fa1f8d618c13dc232df0ca...</td>\n",
       "      <td>0663713001</td>\n",
       "      <td>0.050831</td>\n",
       "      <td>2</td>\n",
       "    </tr>\n",
       "    <tr>\n",
       "      <th>1</th>\n",
       "      <td>2018-09-20</td>\n",
       "      <td>000058a12d5b43e67d225668fa1f8d618c13dc232df0ca...</td>\n",
       "      <td>0541518023</td>\n",
       "      <td>0.030492</td>\n",
       "      <td>2</td>\n",
       "    </tr>\n",
       "    <tr>\n",
       "      <th>2</th>\n",
       "      <td>2018-09-20</td>\n",
       "      <td>016d8f0519d9e0572b3abebeab87408bad7a5c3a284016...</td>\n",
       "      <td>0650193004</td>\n",
       "      <td>0.050831</td>\n",
       "      <td>1</td>\n",
       "    </tr>\n",
       "    <tr>\n",
       "      <th>3</th>\n",
       "      <td>2018-09-20</td>\n",
       "      <td>016d8f0519d9e0572b3abebeab87408bad7a5c3a284016...</td>\n",
       "      <td>0527687006</td>\n",
       "      <td>0.101678</td>\n",
       "      <td>1</td>\n",
       "    </tr>\n",
       "    <tr>\n",
       "      <th>4</th>\n",
       "      <td>2018-09-20</td>\n",
       "      <td>02bfe1a5248beb9cd28ad4ac630a6d75e78d9a3e14551a...</td>\n",
       "      <td>0668767002</td>\n",
       "      <td>0.016932</td>\n",
       "      <td>2</td>\n",
       "    </tr>\n",
       "  </tbody>\n",
       "</table>\n",
       "</div>"
      ],
      "text/plain": [
       "        t_dat                                        customer_id  article_id  \\\n",
       "0  2018-09-20  000058a12d5b43e67d225668fa1f8d618c13dc232df0ca...  0663713001   \n",
       "1  2018-09-20  000058a12d5b43e67d225668fa1f8d618c13dc232df0ca...  0541518023   \n",
       "2  2018-09-20  016d8f0519d9e0572b3abebeab87408bad7a5c3a284016...  0650193004   \n",
       "3  2018-09-20  016d8f0519d9e0572b3abebeab87408bad7a5c3a284016...  0527687006   \n",
       "4  2018-09-20  02bfe1a5248beb9cd28ad4ac630a6d75e78d9a3e14551a...  0668767002   \n",
       "\n",
       "      price  sales_channel_id  \n",
       "0  0.050831                 2  \n",
       "1  0.030492                 2  \n",
       "2  0.050831                 1  \n",
       "3  0.101678                 1  \n",
       "4  0.016932                 2  "
      ]
     },
     "execution_count": 7,
     "metadata": {},
     "output_type": "execute_result"
    }
   ],
   "source": [
    "train_set_orig = pd.read_csv('data/splits/train_subset.tsv', sep='\\t', dtype={'article_id': str})\n",
    "print(train_set_orig.shape)\n",
    "train_set_orig.head()"
   ]
  },
  {
   "cell_type": "code",
   "execution_count": 8,
   "id": "7ec0977c",
   "metadata": {
    "colab": {
     "base_uri": "https://localhost:8080/",
     "height": 224
    },
    "executionInfo": {
     "elapsed": 13,
     "status": "ok",
     "timestamp": 1649692191192,
     "user": {
      "displayName": "Steven George",
      "userId": "07709250839253394649"
     },
     "user_tz": -60
    },
    "id": "07eb9c3c",
    "outputId": "2eb7f30a-1293-44c3-b805-53c0404c3f6e"
   },
   "outputs": [
    {
     "name": "stdout",
     "output_type": "stream",
     "text": [
      "(32995, 5)\n"
     ]
    },
    {
     "data": {
      "text/html": [
       "<div>\n",
       "<style scoped>\n",
       "    .dataframe tbody tr th:only-of-type {\n",
       "        vertical-align: middle;\n",
       "    }\n",
       "\n",
       "    .dataframe tbody tr th {\n",
       "        vertical-align: top;\n",
       "    }\n",
       "\n",
       "    .dataframe thead th {\n",
       "        text-align: right;\n",
       "    }\n",
       "</style>\n",
       "<table border=\"1\" class=\"dataframe\">\n",
       "  <thead>\n",
       "    <tr style=\"text-align: right;\">\n",
       "      <th></th>\n",
       "      <th>t_dat</th>\n",
       "      <th>customer_id</th>\n",
       "      <th>article_id</th>\n",
       "      <th>price</th>\n",
       "      <th>sales_channel_id</th>\n",
       "    </tr>\n",
       "  </thead>\n",
       "  <tbody>\n",
       "    <tr>\n",
       "      <th>0</th>\n",
       "      <td>2020-09-15</td>\n",
       "      <td>000058a12d5b43e67d225668fa1f8d618c13dc232df0ca...</td>\n",
       "      <td>0794321007</td>\n",
       "      <td>0.061000</td>\n",
       "      <td>2</td>\n",
       "    </tr>\n",
       "    <tr>\n",
       "      <th>1</th>\n",
       "      <td>2020-09-15</td>\n",
       "      <td>0015f37f752a41a75c3be6f3f92deedc4c87d039f1758e...</td>\n",
       "      <td>0778745010</td>\n",
       "      <td>0.033881</td>\n",
       "      <td>2</td>\n",
       "    </tr>\n",
       "    <tr>\n",
       "      <th>2</th>\n",
       "      <td>2020-09-15</td>\n",
       "      <td>0015f37f752a41a75c3be6f3f92deedc4c87d039f1758e...</td>\n",
       "      <td>0778745010</td>\n",
       "      <td>0.033881</td>\n",
       "      <td>2</td>\n",
       "    </tr>\n",
       "    <tr>\n",
       "      <th>3</th>\n",
       "      <td>2020-09-15</td>\n",
       "      <td>0015f37f752a41a75c3be6f3f92deedc4c87d039f1758e...</td>\n",
       "      <td>0610776105</td>\n",
       "      <td>0.008458</td>\n",
       "      <td>2</td>\n",
       "    </tr>\n",
       "    <tr>\n",
       "      <th>4</th>\n",
       "      <td>2020-09-15</td>\n",
       "      <td>0015f37f752a41a75c3be6f3f92deedc4c87d039f1758e...</td>\n",
       "      <td>0929745001</td>\n",
       "      <td>0.050831</td>\n",
       "      <td>2</td>\n",
       "    </tr>\n",
       "  </tbody>\n",
       "</table>\n",
       "</div>"
      ],
      "text/plain": [
       "        t_dat                                        customer_id  article_id  \\\n",
       "0  2020-09-15  000058a12d5b43e67d225668fa1f8d618c13dc232df0ca...  0794321007   \n",
       "1  2020-09-15  0015f37f752a41a75c3be6f3f92deedc4c87d039f1758e...  0778745010   \n",
       "2  2020-09-15  0015f37f752a41a75c3be6f3f92deedc4c87d039f1758e...  0778745010   \n",
       "3  2020-09-15  0015f37f752a41a75c3be6f3f92deedc4c87d039f1758e...  0610776105   \n",
       "4  2020-09-15  0015f37f752a41a75c3be6f3f92deedc4c87d039f1758e...  0929745001   \n",
       "\n",
       "      price  sales_channel_id  \n",
       "0  0.061000                 2  \n",
       "1  0.033881                 2  \n",
       "2  0.033881                 2  \n",
       "3  0.008458                 2  \n",
       "4  0.050831                 2  "
      ]
     },
     "execution_count": 8,
     "metadata": {},
     "output_type": "execute_result"
    }
   ],
   "source": [
    "test_set = pd.read_csv('data/splits/test_subset.tsv', sep='\\t', dtype={'article_id': str})\n",
    "print(test_set.shape)\n",
    "test_set.head()"
   ]
  },
  {
   "cell_type": "markdown",
   "id": "ed5f0c8a",
   "metadata": {
    "id": "542cb299"
   },
   "source": [
    "Only include articles bought after 2020-01:"
   ]
  },
  {
   "cell_type": "code",
   "execution_count": 9,
   "id": "4616e330",
   "metadata": {},
   "outputs": [],
   "source": [
    "train_set_orig['t_dat'] = pd.to_datetime(train_set_orig['t_dat'])"
   ]
  },
  {
   "cell_type": "code",
   "execution_count": 11,
   "id": "aaf97630",
   "metadata": {
    "executionInfo": {
     "elapsed": 11,
     "status": "ok",
     "timestamp": 1649692195053,
     "user": {
      "displayName": "Steven George",
      "userId": "07709250839253394649"
     },
     "user_tz": -60
    },
    "id": "973187a8"
   },
   "outputs": [],
   "source": [
    "article_id_to_keep = train_set_orig[train_set_orig['t_dat'] > '2020-01-01']['article_id'].unique()"
   ]
  },
  {
   "cell_type": "code",
   "execution_count": 12,
   "id": "9637a2a5",
   "metadata": {
    "colab": {
     "base_uri": "https://localhost:8080/"
    },
    "executionInfo": {
     "elapsed": 11,
     "status": "ok",
     "timestamp": 1649692195054,
     "user": {
      "displayName": "Steven George",
      "userId": "07709250839253394649"
     },
     "user_tz": -60
    },
    "id": "29218720",
    "outputId": "829ec887-fb30-45eb-c2b0-fbcb1368b617"
   },
   "outputs": [
    {
     "name": "stdout",
     "output_type": "stream",
     "text": [
      "(588758, 5)\n",
      "(395219, 5)\n"
     ]
    }
   ],
   "source": [
    "print(train_set_orig.shape)\n",
    "train_set_orig = train_set_orig.copy()[train_set_orig['article_id'].isin(article_id_to_keep)]\n",
    "print(train_set_orig.shape)"
   ]
  },
  {
   "cell_type": "code",
   "execution_count": 13,
   "id": "af4c9d4a",
   "metadata": {},
   "outputs": [
    {
     "name": "stdout",
     "output_type": "stream",
     "text": [
      "(1371980, 7)\n"
     ]
    },
    {
     "data": {
      "text/html": [
       "<div>\n",
       "<style scoped>\n",
       "    .dataframe tbody tr th:only-of-type {\n",
       "        vertical-align: middle;\n",
       "    }\n",
       "\n",
       "    .dataframe tbody tr th {\n",
       "        vertical-align: top;\n",
       "    }\n",
       "\n",
       "    .dataframe thead th {\n",
       "        text-align: right;\n",
       "    }\n",
       "</style>\n",
       "<table border=\"1\" class=\"dataframe\">\n",
       "  <thead>\n",
       "    <tr style=\"text-align: right;\">\n",
       "      <th></th>\n",
       "      <th>customer_id</th>\n",
       "      <th>FN</th>\n",
       "      <th>Active</th>\n",
       "      <th>club_member_status</th>\n",
       "      <th>fashion_news_frequency</th>\n",
       "      <th>age</th>\n",
       "      <th>postal_code</th>\n",
       "    </tr>\n",
       "  </thead>\n",
       "  <tbody>\n",
       "    <tr>\n",
       "      <th>0</th>\n",
       "      <td>00000dbacae5abe5e23885899a1fa44253a17956c6d1c3...</td>\n",
       "      <td>NaN</td>\n",
       "      <td>NaN</td>\n",
       "      <td>ACTIVE</td>\n",
       "      <td>NONE</td>\n",
       "      <td>49.0</td>\n",
       "      <td>52043ee2162cf5aa7ee79974281641c6f11a68d276429a...</td>\n",
       "    </tr>\n",
       "    <tr>\n",
       "      <th>1</th>\n",
       "      <td>0000423b00ade91418cceaf3b26c6af3dd342b51fd051e...</td>\n",
       "      <td>NaN</td>\n",
       "      <td>NaN</td>\n",
       "      <td>ACTIVE</td>\n",
       "      <td>NONE</td>\n",
       "      <td>25.0</td>\n",
       "      <td>2973abc54daa8a5f8ccfe9362140c63247c5eee03f1d93...</td>\n",
       "    </tr>\n",
       "    <tr>\n",
       "      <th>2</th>\n",
       "      <td>000058a12d5b43e67d225668fa1f8d618c13dc232df0ca...</td>\n",
       "      <td>NaN</td>\n",
       "      <td>NaN</td>\n",
       "      <td>ACTIVE</td>\n",
       "      <td>NONE</td>\n",
       "      <td>24.0</td>\n",
       "      <td>64f17e6a330a85798e4998f62d0930d14db8db1c054af6...</td>\n",
       "    </tr>\n",
       "    <tr>\n",
       "      <th>3</th>\n",
       "      <td>00005ca1c9ed5f5146b52ac8639a40ca9d57aeff4d1bd2...</td>\n",
       "      <td>NaN</td>\n",
       "      <td>NaN</td>\n",
       "      <td>ACTIVE</td>\n",
       "      <td>NONE</td>\n",
       "      <td>54.0</td>\n",
       "      <td>5d36574f52495e81f019b680c843c443bd343d5ca5b1c2...</td>\n",
       "    </tr>\n",
       "    <tr>\n",
       "      <th>4</th>\n",
       "      <td>00006413d8573cd20ed7128e53b7b13819fe5cfc2d801f...</td>\n",
       "      <td>1.0</td>\n",
       "      <td>1.0</td>\n",
       "      <td>ACTIVE</td>\n",
       "      <td>Regularly</td>\n",
       "      <td>52.0</td>\n",
       "      <td>25fa5ddee9aac01b35208d01736e57942317d756b32ddd...</td>\n",
       "    </tr>\n",
       "  </tbody>\n",
       "</table>\n",
       "</div>"
      ],
      "text/plain": [
       "                                         customer_id   FN  Active  \\\n",
       "0  00000dbacae5abe5e23885899a1fa44253a17956c6d1c3...  NaN     NaN   \n",
       "1  0000423b00ade91418cceaf3b26c6af3dd342b51fd051e...  NaN     NaN   \n",
       "2  000058a12d5b43e67d225668fa1f8d618c13dc232df0ca...  NaN     NaN   \n",
       "3  00005ca1c9ed5f5146b52ac8639a40ca9d57aeff4d1bd2...  NaN     NaN   \n",
       "4  00006413d8573cd20ed7128e53b7b13819fe5cfc2d801f...  1.0     1.0   \n",
       "\n",
       "  club_member_status fashion_news_frequency   age  \\\n",
       "0             ACTIVE                   NONE  49.0   \n",
       "1             ACTIVE                   NONE  25.0   \n",
       "2             ACTIVE                   NONE  24.0   \n",
       "3             ACTIVE                   NONE  54.0   \n",
       "4             ACTIVE              Regularly  52.0   \n",
       "\n",
       "                                         postal_code  \n",
       "0  52043ee2162cf5aa7ee79974281641c6f11a68d276429a...  \n",
       "1  2973abc54daa8a5f8ccfe9362140c63247c5eee03f1d93...  \n",
       "2  64f17e6a330a85798e4998f62d0930d14db8db1c054af6...  \n",
       "3  5d36574f52495e81f019b680c843c443bd343d5ca5b1c2...  \n",
       "4  25fa5ddee9aac01b35208d01736e57942317d756b32ddd...  "
      ]
     },
     "execution_count": 13,
     "metadata": {},
     "output_type": "execute_result"
    }
   ],
   "source": [
    "customers = pd.read_csv('data/customers.csv')\n",
    "print(customers.shape)\n",
    "customers.head()"
   ]
  },
  {
   "cell_type": "code",
   "execution_count": 14,
   "id": "fd5ee436",
   "metadata": {},
   "outputs": [
    {
     "data": {
      "text/plain": [
       "customer_id               0.000000\n",
       "FN                        0.652378\n",
       "Active                    0.661508\n",
       "club_member_status        0.004418\n",
       "fashion_news_frequency    0.011669\n",
       "age                       0.011561\n",
       "postal_code               0.000000\n",
       "dtype: float64"
      ]
     },
     "execution_count": 14,
     "metadata": {},
     "output_type": "execute_result"
    }
   ],
   "source": [
    "customers.isnull().sum() / customers.shape[0]"
   ]
  },
  {
   "cell_type": "code",
   "execution_count": 15,
   "id": "a39807e9",
   "metadata": {},
   "outputs": [],
   "source": [
    "customers[['FN', 'Active']] = customers[['FN', 'Active']].fillna(0)"
   ]
  },
  {
   "cell_type": "code",
   "execution_count": 16,
   "id": "741d9b75",
   "metadata": {},
   "outputs": [],
   "source": [
    "customers['club_member_status'] = customers['club_member_status'].str.lower().str.replace('-', '_').str.replace(' ', '_').fillna('missing')"
   ]
  },
  {
   "cell_type": "code",
   "execution_count": 17,
   "id": "f29dabf8",
   "metadata": {},
   "outputs": [],
   "source": [
    "customers['fashion_news_frequency'] = customers['fashion_news_frequency'].str.lower().str.replace('-', '_').str.replace(' ', '_').fillna('missing')"
   ]
  },
  {
   "cell_type": "code",
   "execution_count": 18,
   "id": "e9f9af9e",
   "metadata": {},
   "outputs": [],
   "source": [
    "customers['fashion_news_frequency'] = customers['fashion_news_frequency'].replace('none', 'missing')"
   ]
  },
  {
   "cell_type": "code",
   "execution_count": 19,
   "id": "ce1050ca",
   "metadata": {},
   "outputs": [
    {
     "data": {
      "text/html": [
       "<div>\n",
       "<style scoped>\n",
       "    .dataframe tbody tr th:only-of-type {\n",
       "        vertical-align: middle;\n",
       "    }\n",
       "\n",
       "    .dataframe tbody tr th {\n",
       "        vertical-align: top;\n",
       "    }\n",
       "\n",
       "    .dataframe thead th {\n",
       "        text-align: right;\n",
       "    }\n",
       "</style>\n",
       "<table border=\"1\" class=\"dataframe\">\n",
       "  <thead>\n",
       "    <tr style=\"text-align: right;\">\n",
       "      <th></th>\n",
       "      <th>customer_id</th>\n",
       "      <th>FN</th>\n",
       "      <th>Active</th>\n",
       "      <th>club_member_status</th>\n",
       "      <th>fashion_news_frequency</th>\n",
       "      <th>age</th>\n",
       "      <th>postal_code</th>\n",
       "    </tr>\n",
       "  </thead>\n",
       "  <tbody>\n",
       "    <tr>\n",
       "      <th>0</th>\n",
       "      <td>00000dbacae5abe5e23885899a1fa44253a17956c6d1c3...</td>\n",
       "      <td>0.0</td>\n",
       "      <td>0.0</td>\n",
       "      <td>active</td>\n",
       "      <td>missing</td>\n",
       "      <td>49.0</td>\n",
       "      <td>52043ee2162cf5aa7ee79974281641c6f11a68d276429a...</td>\n",
       "    </tr>\n",
       "    <tr>\n",
       "      <th>1</th>\n",
       "      <td>0000423b00ade91418cceaf3b26c6af3dd342b51fd051e...</td>\n",
       "      <td>0.0</td>\n",
       "      <td>0.0</td>\n",
       "      <td>active</td>\n",
       "      <td>missing</td>\n",
       "      <td>25.0</td>\n",
       "      <td>2973abc54daa8a5f8ccfe9362140c63247c5eee03f1d93...</td>\n",
       "    </tr>\n",
       "    <tr>\n",
       "      <th>2</th>\n",
       "      <td>000058a12d5b43e67d225668fa1f8d618c13dc232df0ca...</td>\n",
       "      <td>0.0</td>\n",
       "      <td>0.0</td>\n",
       "      <td>active</td>\n",
       "      <td>missing</td>\n",
       "      <td>24.0</td>\n",
       "      <td>64f17e6a330a85798e4998f62d0930d14db8db1c054af6...</td>\n",
       "    </tr>\n",
       "    <tr>\n",
       "      <th>3</th>\n",
       "      <td>00005ca1c9ed5f5146b52ac8639a40ca9d57aeff4d1bd2...</td>\n",
       "      <td>0.0</td>\n",
       "      <td>0.0</td>\n",
       "      <td>active</td>\n",
       "      <td>missing</td>\n",
       "      <td>54.0</td>\n",
       "      <td>5d36574f52495e81f019b680c843c443bd343d5ca5b1c2...</td>\n",
       "    </tr>\n",
       "    <tr>\n",
       "      <th>4</th>\n",
       "      <td>00006413d8573cd20ed7128e53b7b13819fe5cfc2d801f...</td>\n",
       "      <td>1.0</td>\n",
       "      <td>1.0</td>\n",
       "      <td>active</td>\n",
       "      <td>regularly</td>\n",
       "      <td>52.0</td>\n",
       "      <td>25fa5ddee9aac01b35208d01736e57942317d756b32ddd...</td>\n",
       "    </tr>\n",
       "  </tbody>\n",
       "</table>\n",
       "</div>"
      ],
      "text/plain": [
       "                                         customer_id   FN  Active  \\\n",
       "0  00000dbacae5abe5e23885899a1fa44253a17956c6d1c3...  0.0     0.0   \n",
       "1  0000423b00ade91418cceaf3b26c6af3dd342b51fd051e...  0.0     0.0   \n",
       "2  000058a12d5b43e67d225668fa1f8d618c13dc232df0ca...  0.0     0.0   \n",
       "3  00005ca1c9ed5f5146b52ac8639a40ca9d57aeff4d1bd2...  0.0     0.0   \n",
       "4  00006413d8573cd20ed7128e53b7b13819fe5cfc2d801f...  1.0     1.0   \n",
       "\n",
       "  club_member_status fashion_news_frequency   age  \\\n",
       "0             active                missing  49.0   \n",
       "1             active                missing  25.0   \n",
       "2             active                missing  24.0   \n",
       "3             active                missing  54.0   \n",
       "4             active              regularly  52.0   \n",
       "\n",
       "                                         postal_code  \n",
       "0  52043ee2162cf5aa7ee79974281641c6f11a68d276429a...  \n",
       "1  2973abc54daa8a5f8ccfe9362140c63247c5eee03f1d93...  \n",
       "2  64f17e6a330a85798e4998f62d0930d14db8db1c054af6...  \n",
       "3  5d36574f52495e81f019b680c843c443bd343d5ca5b1c2...  \n",
       "4  25fa5ddee9aac01b35208d01736e57942317d756b32ddd...  "
      ]
     },
     "execution_count": 19,
     "metadata": {},
     "output_type": "execute_result"
    }
   ],
   "source": [
    "customers.head()"
   ]
  },
  {
   "cell_type": "markdown",
   "id": "4323541f",
   "metadata": {
    "id": "089130fb"
   },
   "source": [
    "### Map `customer_id` and `article_id` to indices"
   ]
  },
  {
   "cell_type": "markdown",
   "id": "9612ad21",
   "metadata": {
    "id": "21c96c61"
   },
   "source": [
    "Test set doesn't include anyone not in training set"
   ]
  },
  {
   "cell_type": "code",
   "execution_count": 20,
   "id": "5985186e",
   "metadata": {
    "colab": {
     "base_uri": "https://localhost:8080/"
    },
    "executionInfo": {
     "elapsed": 295,
     "status": "ok",
     "timestamp": 1649692191481,
     "user": {
      "displayName": "Steven George",
      "userId": "07709250839253394649"
     },
     "user_tz": -60
    },
    "id": "e631aa98",
    "outputId": "61114bf0-c6c8-4145-c31d-1d8d8ecccee0"
   },
   "outputs": [
    {
     "data": {
      "text/plain": [
       "9122"
      ]
     },
     "execution_count": 20,
     "metadata": {},
     "output_type": "execute_result"
    }
   ],
   "source": [
    "unique_customers_df = train_set_orig[['customer_id']].drop_duplicates().reset_index(drop=True)\n",
    "\n",
    "customer_id_to_idx = dict(\n",
    "    zip(\n",
    "        unique_customers_df['customer_id'],\n",
    "        unique_customers_df.index\n",
    "    )\n",
    ")\n",
    "\n",
    "len(customer_id_to_idx)"
   ]
  },
  {
   "cell_type": "code",
   "execution_count": 21,
   "id": "d1a0e8ac",
   "metadata": {
    "colab": {
     "base_uri": "https://localhost:8080/",
     "height": 548
    },
    "executionInfo": {
     "elapsed": 666,
     "status": "ok",
     "timestamp": 1649692192145,
     "user": {
      "displayName": "Steven George",
      "userId": "07709250839253394649"
     },
     "user_tz": -60
    },
    "id": "0cbe19ca",
    "outputId": "147376d5-bebc-4602-91c0-f01a63050594"
   },
   "outputs": [
    {
     "name": "stdout",
     "output_type": "stream",
     "text": [
      "(105542, 25)\n"
     ]
    },
    {
     "data": {
      "text/html": [
       "<div>\n",
       "<style scoped>\n",
       "    .dataframe tbody tr th:only-of-type {\n",
       "        vertical-align: middle;\n",
       "    }\n",
       "\n",
       "    .dataframe tbody tr th {\n",
       "        vertical-align: top;\n",
       "    }\n",
       "\n",
       "    .dataframe thead th {\n",
       "        text-align: right;\n",
       "    }\n",
       "</style>\n",
       "<table border=\"1\" class=\"dataframe\">\n",
       "  <thead>\n",
       "    <tr style=\"text-align: right;\">\n",
       "      <th></th>\n",
       "      <th>article_id</th>\n",
       "      <th>product_code</th>\n",
       "      <th>prod_name</th>\n",
       "      <th>product_type_no</th>\n",
       "      <th>product_type_name</th>\n",
       "      <th>product_group_name</th>\n",
       "      <th>graphical_appearance_no</th>\n",
       "      <th>graphical_appearance_name</th>\n",
       "      <th>colour_group_code</th>\n",
       "      <th>colour_group_name</th>\n",
       "      <th>perceived_colour_value_id</th>\n",
       "      <th>perceived_colour_value_name</th>\n",
       "      <th>perceived_colour_master_id</th>\n",
       "      <th>perceived_colour_master_name</th>\n",
       "      <th>department_no</th>\n",
       "      <th>department_name</th>\n",
       "      <th>index_code</th>\n",
       "      <th>index_name</th>\n",
       "      <th>index_group_no</th>\n",
       "      <th>index_group_name</th>\n",
       "      <th>section_no</th>\n",
       "      <th>section_name</th>\n",
       "      <th>garment_group_no</th>\n",
       "      <th>garment_group_name</th>\n",
       "      <th>detail_desc</th>\n",
       "    </tr>\n",
       "  </thead>\n",
       "  <tbody>\n",
       "    <tr>\n",
       "      <th>0</th>\n",
       "      <td>0108775015</td>\n",
       "      <td>108775</td>\n",
       "      <td>Strap top</td>\n",
       "      <td>253</td>\n",
       "      <td>Vest top</td>\n",
       "      <td>Garment Upper body</td>\n",
       "      <td>1010016</td>\n",
       "      <td>Solid</td>\n",
       "      <td>9</td>\n",
       "      <td>Black</td>\n",
       "      <td>4</td>\n",
       "      <td>Dark</td>\n",
       "      <td>5</td>\n",
       "      <td>Black</td>\n",
       "      <td>1676</td>\n",
       "      <td>Jersey Basic</td>\n",
       "      <td>A</td>\n",
       "      <td>Ladieswear</td>\n",
       "      <td>1</td>\n",
       "      <td>Ladieswear</td>\n",
       "      <td>16</td>\n",
       "      <td>Womens Everyday Basics</td>\n",
       "      <td>1002</td>\n",
       "      <td>Jersey Basic</td>\n",
       "      <td>Jersey top with narrow shoulder straps.</td>\n",
       "    </tr>\n",
       "    <tr>\n",
       "      <th>1</th>\n",
       "      <td>0108775044</td>\n",
       "      <td>108775</td>\n",
       "      <td>Strap top</td>\n",
       "      <td>253</td>\n",
       "      <td>Vest top</td>\n",
       "      <td>Garment Upper body</td>\n",
       "      <td>1010016</td>\n",
       "      <td>Solid</td>\n",
       "      <td>10</td>\n",
       "      <td>White</td>\n",
       "      <td>3</td>\n",
       "      <td>Light</td>\n",
       "      <td>9</td>\n",
       "      <td>White</td>\n",
       "      <td>1676</td>\n",
       "      <td>Jersey Basic</td>\n",
       "      <td>A</td>\n",
       "      <td>Ladieswear</td>\n",
       "      <td>1</td>\n",
       "      <td>Ladieswear</td>\n",
       "      <td>16</td>\n",
       "      <td>Womens Everyday Basics</td>\n",
       "      <td>1002</td>\n",
       "      <td>Jersey Basic</td>\n",
       "      <td>Jersey top with narrow shoulder straps.</td>\n",
       "    </tr>\n",
       "    <tr>\n",
       "      <th>2</th>\n",
       "      <td>0108775051</td>\n",
       "      <td>108775</td>\n",
       "      <td>Strap top (1)</td>\n",
       "      <td>253</td>\n",
       "      <td>Vest top</td>\n",
       "      <td>Garment Upper body</td>\n",
       "      <td>1010017</td>\n",
       "      <td>Stripe</td>\n",
       "      <td>11</td>\n",
       "      <td>Off White</td>\n",
       "      <td>1</td>\n",
       "      <td>Dusty Light</td>\n",
       "      <td>9</td>\n",
       "      <td>White</td>\n",
       "      <td>1676</td>\n",
       "      <td>Jersey Basic</td>\n",
       "      <td>A</td>\n",
       "      <td>Ladieswear</td>\n",
       "      <td>1</td>\n",
       "      <td>Ladieswear</td>\n",
       "      <td>16</td>\n",
       "      <td>Womens Everyday Basics</td>\n",
       "      <td>1002</td>\n",
       "      <td>Jersey Basic</td>\n",
       "      <td>Jersey top with narrow shoulder straps.</td>\n",
       "    </tr>\n",
       "    <tr>\n",
       "      <th>3</th>\n",
       "      <td>0110065001</td>\n",
       "      <td>110065</td>\n",
       "      <td>OP T-shirt (Idro)</td>\n",
       "      <td>306</td>\n",
       "      <td>Bra</td>\n",
       "      <td>Underwear</td>\n",
       "      <td>1010016</td>\n",
       "      <td>Solid</td>\n",
       "      <td>9</td>\n",
       "      <td>Black</td>\n",
       "      <td>4</td>\n",
       "      <td>Dark</td>\n",
       "      <td>5</td>\n",
       "      <td>Black</td>\n",
       "      <td>1339</td>\n",
       "      <td>Clean Lingerie</td>\n",
       "      <td>B</td>\n",
       "      <td>Lingeries/Tights</td>\n",
       "      <td>1</td>\n",
       "      <td>Ladieswear</td>\n",
       "      <td>61</td>\n",
       "      <td>Womens Lingerie</td>\n",
       "      <td>1017</td>\n",
       "      <td>Under-, Nightwear</td>\n",
       "      <td>Microfibre T-shirt bra with underwired, moulde...</td>\n",
       "    </tr>\n",
       "    <tr>\n",
       "      <th>4</th>\n",
       "      <td>0110065002</td>\n",
       "      <td>110065</td>\n",
       "      <td>OP T-shirt (Idro)</td>\n",
       "      <td>306</td>\n",
       "      <td>Bra</td>\n",
       "      <td>Underwear</td>\n",
       "      <td>1010016</td>\n",
       "      <td>Solid</td>\n",
       "      <td>10</td>\n",
       "      <td>White</td>\n",
       "      <td>3</td>\n",
       "      <td>Light</td>\n",
       "      <td>9</td>\n",
       "      <td>White</td>\n",
       "      <td>1339</td>\n",
       "      <td>Clean Lingerie</td>\n",
       "      <td>B</td>\n",
       "      <td>Lingeries/Tights</td>\n",
       "      <td>1</td>\n",
       "      <td>Ladieswear</td>\n",
       "      <td>61</td>\n",
       "      <td>Womens Lingerie</td>\n",
       "      <td>1017</td>\n",
       "      <td>Under-, Nightwear</td>\n",
       "      <td>Microfibre T-shirt bra with underwired, moulde...</td>\n",
       "    </tr>\n",
       "  </tbody>\n",
       "</table>\n",
       "</div>"
      ],
      "text/plain": [
       "   article_id  product_code          prod_name  product_type_no  \\\n",
       "0  0108775015        108775          Strap top              253   \n",
       "1  0108775044        108775          Strap top              253   \n",
       "2  0108775051        108775      Strap top (1)              253   \n",
       "3  0110065001        110065  OP T-shirt (Idro)              306   \n",
       "4  0110065002        110065  OP T-shirt (Idro)              306   \n",
       "\n",
       "  product_type_name  product_group_name  graphical_appearance_no  \\\n",
       "0          Vest top  Garment Upper body                  1010016   \n",
       "1          Vest top  Garment Upper body                  1010016   \n",
       "2          Vest top  Garment Upper body                  1010017   \n",
       "3               Bra           Underwear                  1010016   \n",
       "4               Bra           Underwear                  1010016   \n",
       "\n",
       "  graphical_appearance_name  colour_group_code colour_group_name  \\\n",
       "0                     Solid                  9             Black   \n",
       "1                     Solid                 10             White   \n",
       "2                    Stripe                 11         Off White   \n",
       "3                     Solid                  9             Black   \n",
       "4                     Solid                 10             White   \n",
       "\n",
       "   perceived_colour_value_id perceived_colour_value_name  \\\n",
       "0                          4                        Dark   \n",
       "1                          3                       Light   \n",
       "2                          1                 Dusty Light   \n",
       "3                          4                        Dark   \n",
       "4                          3                       Light   \n",
       "\n",
       "   perceived_colour_master_id perceived_colour_master_name  department_no  \\\n",
       "0                           5                        Black           1676   \n",
       "1                           9                        White           1676   \n",
       "2                           9                        White           1676   \n",
       "3                           5                        Black           1339   \n",
       "4                           9                        White           1339   \n",
       "\n",
       "  department_name index_code        index_name  index_group_no  \\\n",
       "0    Jersey Basic          A        Ladieswear               1   \n",
       "1    Jersey Basic          A        Ladieswear               1   \n",
       "2    Jersey Basic          A        Ladieswear               1   \n",
       "3  Clean Lingerie          B  Lingeries/Tights               1   \n",
       "4  Clean Lingerie          B  Lingeries/Tights               1   \n",
       "\n",
       "  index_group_name  section_no            section_name  garment_group_no  \\\n",
       "0       Ladieswear          16  Womens Everyday Basics              1002   \n",
       "1       Ladieswear          16  Womens Everyday Basics              1002   \n",
       "2       Ladieswear          16  Womens Everyday Basics              1002   \n",
       "3       Ladieswear          61         Womens Lingerie              1017   \n",
       "4       Ladieswear          61         Womens Lingerie              1017   \n",
       "\n",
       "  garment_group_name                                        detail_desc  \n",
       "0       Jersey Basic            Jersey top with narrow shoulder straps.  \n",
       "1       Jersey Basic            Jersey top with narrow shoulder straps.  \n",
       "2       Jersey Basic            Jersey top with narrow shoulder straps.  \n",
       "3  Under-, Nightwear  Microfibre T-shirt bra with underwired, moulde...  \n",
       "4  Under-, Nightwear  Microfibre T-shirt bra with underwired, moulde...  "
      ]
     },
     "execution_count": 21,
     "metadata": {},
     "output_type": "execute_result"
    }
   ],
   "source": [
    "articles_df = pd.read_csv(\n",
    "    'data/articles.csv', \n",
    "    dtype={'article_id': str}, \n",
    "#     usecols=['article_id', 'prod_name', 'product_type_name', 'product_group_name', 'detail_desc']\n",
    ")\n",
    "print(articles_df.shape)\n",
    "articles_df.head()"
   ]
  },
  {
   "cell_type": "code",
   "execution_count": 22,
   "id": "36aec868",
   "metadata": {
    "executionInfo": {
     "elapsed": 13,
     "status": "ok",
     "timestamp": 1649692192145,
     "user": {
      "displayName": "Steven George",
      "userId": "07709250839253394649"
     },
     "user_tz": -60
    },
    "id": "973bcaa8"
   },
   "outputs": [],
   "source": [
    "articles_df['product_group_no'] = articles_df['product_group_name'].copy()"
   ]
  },
  {
   "cell_type": "code",
   "execution_count": 23,
   "id": "994c4081",
   "metadata": {
    "executionInfo": {
     "elapsed": 13,
     "status": "ok",
     "timestamp": 1649692192146,
     "user": {
      "displayName": "Steven George",
      "userId": "07709250839253394649"
     },
     "user_tz": -60
    },
    "id": "5d423c4e"
   },
   "outputs": [],
   "source": [
    "CATEGORICAL_FEATURES = [\n",
    "    'product_code', \n",
    "    'product_type_no', \n",
    "    'product_group_no', \n",
    "    'graphical_appearance_no', \n",
    "    'colour_group_code', \n",
    "    'perceived_colour_value_id', \n",
    "    'perceived_colour_master_id', \n",
    "    'department_no', \n",
    "    'index_code', \n",
    "    'index_group_no', \n",
    "    'section_no', \n",
    "    'garment_group_no'\n",
    "]"
   ]
  },
  {
   "cell_type": "code",
   "execution_count": 24,
   "id": "af7da47d",
   "metadata": {
    "executionInfo": {
     "elapsed": 7,
     "status": "ok",
     "timestamp": 1649692192147,
     "user": {
      "displayName": "Steven George",
      "userId": "07709250839253394649"
     },
     "user_tz": -60
    },
    "id": "7a89ac5c"
   },
   "outputs": [],
   "source": [
    "cat_code_to_indices = {}\n",
    "\n",
    "for cat in CATEGORICAL_FEATURES:\n",
    "    cat_code_to_indices[cat] = {v: k for k, v in dict(enumerate(articles_df[cat].unique())).items()}"
   ]
  },
  {
   "cell_type": "code",
   "execution_count": 25,
   "id": "392b6667",
   "metadata": {
    "executionInfo": {
     "elapsed": 313,
     "status": "ok",
     "timestamp": 1649692192454,
     "user": {
      "displayName": "Steven George",
      "userId": "07709250839253394649"
     },
     "user_tz": -60
    },
    "id": "bbf454b1"
   },
   "outputs": [],
   "source": [
    "for cat in CATEGORICAL_FEATURES:\n",
    "    articles_df[cat] = articles_df[cat].map(cat_code_to_indices[cat])"
   ]
  },
  {
   "cell_type": "code",
   "execution_count": 26,
   "id": "2c01eb72",
   "metadata": {
    "colab": {
     "base_uri": "https://localhost:8080/",
     "height": 530
    },
    "executionInfo": {
     "elapsed": 5,
     "status": "ok",
     "timestamp": 1649692192454,
     "user": {
      "displayName": "Steven George",
      "userId": "07709250839253394649"
     },
     "user_tz": -60
    },
    "id": "0428dc3e",
    "outputId": "459d3bde-9b01-4d2c-b1f8-7c809a417e97"
   },
   "outputs": [
    {
     "data": {
      "text/html": [
       "<div>\n",
       "<style scoped>\n",
       "    .dataframe tbody tr th:only-of-type {\n",
       "        vertical-align: middle;\n",
       "    }\n",
       "\n",
       "    .dataframe tbody tr th {\n",
       "        vertical-align: top;\n",
       "    }\n",
       "\n",
       "    .dataframe thead th {\n",
       "        text-align: right;\n",
       "    }\n",
       "</style>\n",
       "<table border=\"1\" class=\"dataframe\">\n",
       "  <thead>\n",
       "    <tr style=\"text-align: right;\">\n",
       "      <th></th>\n",
       "      <th>article_id</th>\n",
       "      <th>product_code</th>\n",
       "      <th>prod_name</th>\n",
       "      <th>product_type_no</th>\n",
       "      <th>product_type_name</th>\n",
       "      <th>product_group_name</th>\n",
       "      <th>graphical_appearance_no</th>\n",
       "      <th>graphical_appearance_name</th>\n",
       "      <th>colour_group_code</th>\n",
       "      <th>colour_group_name</th>\n",
       "      <th>perceived_colour_value_id</th>\n",
       "      <th>perceived_colour_value_name</th>\n",
       "      <th>perceived_colour_master_id</th>\n",
       "      <th>perceived_colour_master_name</th>\n",
       "      <th>department_no</th>\n",
       "      <th>department_name</th>\n",
       "      <th>index_code</th>\n",
       "      <th>index_name</th>\n",
       "      <th>index_group_no</th>\n",
       "      <th>index_group_name</th>\n",
       "      <th>section_no</th>\n",
       "      <th>section_name</th>\n",
       "      <th>garment_group_no</th>\n",
       "      <th>garment_group_name</th>\n",
       "      <th>detail_desc</th>\n",
       "      <th>product_group_no</th>\n",
       "    </tr>\n",
       "  </thead>\n",
       "  <tbody>\n",
       "    <tr>\n",
       "      <th>0</th>\n",
       "      <td>0108775015</td>\n",
       "      <td>0</td>\n",
       "      <td>Strap top</td>\n",
       "      <td>0</td>\n",
       "      <td>Vest top</td>\n",
       "      <td>Garment Upper body</td>\n",
       "      <td>0</td>\n",
       "      <td>Solid</td>\n",
       "      <td>0</td>\n",
       "      <td>Black</td>\n",
       "      <td>0</td>\n",
       "      <td>Dark</td>\n",
       "      <td>0</td>\n",
       "      <td>Black</td>\n",
       "      <td>0</td>\n",
       "      <td>Jersey Basic</td>\n",
       "      <td>0</td>\n",
       "      <td>Ladieswear</td>\n",
       "      <td>0</td>\n",
       "      <td>Ladieswear</td>\n",
       "      <td>0</td>\n",
       "      <td>Womens Everyday Basics</td>\n",
       "      <td>0</td>\n",
       "      <td>Jersey Basic</td>\n",
       "      <td>Jersey top with narrow shoulder straps.</td>\n",
       "      <td>0</td>\n",
       "    </tr>\n",
       "    <tr>\n",
       "      <th>1</th>\n",
       "      <td>0108775044</td>\n",
       "      <td>0</td>\n",
       "      <td>Strap top</td>\n",
       "      <td>0</td>\n",
       "      <td>Vest top</td>\n",
       "      <td>Garment Upper body</td>\n",
       "      <td>0</td>\n",
       "      <td>Solid</td>\n",
       "      <td>1</td>\n",
       "      <td>White</td>\n",
       "      <td>1</td>\n",
       "      <td>Light</td>\n",
       "      <td>1</td>\n",
       "      <td>White</td>\n",
       "      <td>0</td>\n",
       "      <td>Jersey Basic</td>\n",
       "      <td>0</td>\n",
       "      <td>Ladieswear</td>\n",
       "      <td>0</td>\n",
       "      <td>Ladieswear</td>\n",
       "      <td>0</td>\n",
       "      <td>Womens Everyday Basics</td>\n",
       "      <td>0</td>\n",
       "      <td>Jersey Basic</td>\n",
       "      <td>Jersey top with narrow shoulder straps.</td>\n",
       "      <td>0</td>\n",
       "    </tr>\n",
       "    <tr>\n",
       "      <th>2</th>\n",
       "      <td>0108775051</td>\n",
       "      <td>0</td>\n",
       "      <td>Strap top (1)</td>\n",
       "      <td>0</td>\n",
       "      <td>Vest top</td>\n",
       "      <td>Garment Upper body</td>\n",
       "      <td>1</td>\n",
       "      <td>Stripe</td>\n",
       "      <td>2</td>\n",
       "      <td>Off White</td>\n",
       "      <td>2</td>\n",
       "      <td>Dusty Light</td>\n",
       "      <td>1</td>\n",
       "      <td>White</td>\n",
       "      <td>0</td>\n",
       "      <td>Jersey Basic</td>\n",
       "      <td>0</td>\n",
       "      <td>Ladieswear</td>\n",
       "      <td>0</td>\n",
       "      <td>Ladieswear</td>\n",
       "      <td>0</td>\n",
       "      <td>Womens Everyday Basics</td>\n",
       "      <td>0</td>\n",
       "      <td>Jersey Basic</td>\n",
       "      <td>Jersey top with narrow shoulder straps.</td>\n",
       "      <td>0</td>\n",
       "    </tr>\n",
       "    <tr>\n",
       "      <th>3</th>\n",
       "      <td>0110065001</td>\n",
       "      <td>1</td>\n",
       "      <td>OP T-shirt (Idro)</td>\n",
       "      <td>1</td>\n",
       "      <td>Bra</td>\n",
       "      <td>Underwear</td>\n",
       "      <td>0</td>\n",
       "      <td>Solid</td>\n",
       "      <td>0</td>\n",
       "      <td>Black</td>\n",
       "      <td>0</td>\n",
       "      <td>Dark</td>\n",
       "      <td>0</td>\n",
       "      <td>Black</td>\n",
       "      <td>1</td>\n",
       "      <td>Clean Lingerie</td>\n",
       "      <td>1</td>\n",
       "      <td>Lingeries/Tights</td>\n",
       "      <td>0</td>\n",
       "      <td>Ladieswear</td>\n",
       "      <td>1</td>\n",
       "      <td>Womens Lingerie</td>\n",
       "      <td>1</td>\n",
       "      <td>Under-, Nightwear</td>\n",
       "      <td>Microfibre T-shirt bra with underwired, moulde...</td>\n",
       "      <td>1</td>\n",
       "    </tr>\n",
       "    <tr>\n",
       "      <th>4</th>\n",
       "      <td>0110065002</td>\n",
       "      <td>1</td>\n",
       "      <td>OP T-shirt (Idro)</td>\n",
       "      <td>1</td>\n",
       "      <td>Bra</td>\n",
       "      <td>Underwear</td>\n",
       "      <td>0</td>\n",
       "      <td>Solid</td>\n",
       "      <td>1</td>\n",
       "      <td>White</td>\n",
       "      <td>1</td>\n",
       "      <td>Light</td>\n",
       "      <td>1</td>\n",
       "      <td>White</td>\n",
       "      <td>1</td>\n",
       "      <td>Clean Lingerie</td>\n",
       "      <td>1</td>\n",
       "      <td>Lingeries/Tights</td>\n",
       "      <td>0</td>\n",
       "      <td>Ladieswear</td>\n",
       "      <td>1</td>\n",
       "      <td>Womens Lingerie</td>\n",
       "      <td>1</td>\n",
       "      <td>Under-, Nightwear</td>\n",
       "      <td>Microfibre T-shirt bra with underwired, moulde...</td>\n",
       "      <td>1</td>\n",
       "    </tr>\n",
       "  </tbody>\n",
       "</table>\n",
       "</div>"
      ],
      "text/plain": [
       "   article_id  product_code          prod_name  product_type_no  \\\n",
       "0  0108775015             0          Strap top                0   \n",
       "1  0108775044             0          Strap top                0   \n",
       "2  0108775051             0      Strap top (1)                0   \n",
       "3  0110065001             1  OP T-shirt (Idro)                1   \n",
       "4  0110065002             1  OP T-shirt (Idro)                1   \n",
       "\n",
       "  product_type_name  product_group_name  graphical_appearance_no  \\\n",
       "0          Vest top  Garment Upper body                        0   \n",
       "1          Vest top  Garment Upper body                        0   \n",
       "2          Vest top  Garment Upper body                        1   \n",
       "3               Bra           Underwear                        0   \n",
       "4               Bra           Underwear                        0   \n",
       "\n",
       "  graphical_appearance_name  colour_group_code colour_group_name  \\\n",
       "0                     Solid                  0             Black   \n",
       "1                     Solid                  1             White   \n",
       "2                    Stripe                  2         Off White   \n",
       "3                     Solid                  0             Black   \n",
       "4                     Solid                  1             White   \n",
       "\n",
       "   perceived_colour_value_id perceived_colour_value_name  \\\n",
       "0                          0                        Dark   \n",
       "1                          1                       Light   \n",
       "2                          2                 Dusty Light   \n",
       "3                          0                        Dark   \n",
       "4                          1                       Light   \n",
       "\n",
       "   perceived_colour_master_id perceived_colour_master_name  department_no  \\\n",
       "0                           0                        Black              0   \n",
       "1                           1                        White              0   \n",
       "2                           1                        White              0   \n",
       "3                           0                        Black              1   \n",
       "4                           1                        White              1   \n",
       "\n",
       "  department_name  index_code        index_name  index_group_no  \\\n",
       "0    Jersey Basic           0        Ladieswear               0   \n",
       "1    Jersey Basic           0        Ladieswear               0   \n",
       "2    Jersey Basic           0        Ladieswear               0   \n",
       "3  Clean Lingerie           1  Lingeries/Tights               0   \n",
       "4  Clean Lingerie           1  Lingeries/Tights               0   \n",
       "\n",
       "  index_group_name  section_no            section_name  garment_group_no  \\\n",
       "0       Ladieswear           0  Womens Everyday Basics                 0   \n",
       "1       Ladieswear           0  Womens Everyday Basics                 0   \n",
       "2       Ladieswear           0  Womens Everyday Basics                 0   \n",
       "3       Ladieswear           1         Womens Lingerie                 1   \n",
       "4       Ladieswear           1         Womens Lingerie                 1   \n",
       "\n",
       "  garment_group_name                                        detail_desc  \\\n",
       "0       Jersey Basic            Jersey top with narrow shoulder straps.   \n",
       "1       Jersey Basic            Jersey top with narrow shoulder straps.   \n",
       "2       Jersey Basic            Jersey top with narrow shoulder straps.   \n",
       "3  Under-, Nightwear  Microfibre T-shirt bra with underwired, moulde...   \n",
       "4  Under-, Nightwear  Microfibre T-shirt bra with underwired, moulde...   \n",
       "\n",
       "   product_group_no  \n",
       "0                 0  \n",
       "1                 0  \n",
       "2                 0  \n",
       "3                 1  \n",
       "4                 1  "
      ]
     },
     "execution_count": 26,
     "metadata": {},
     "output_type": "execute_result"
    }
   ],
   "source": [
    "articles_df.head()"
   ]
  },
  {
   "cell_type": "code",
   "execution_count": 27,
   "id": "c7146dc5",
   "metadata": {},
   "outputs": [
    {
     "data": {
      "text/plain": [
       "array(['0809411002', '0809521003', '0802461007', ..., '0946763001',\n",
       "       '0932383001', '0917296003'], dtype=object)"
      ]
     },
     "execution_count": 27,
     "metadata": {},
     "output_type": "execute_result"
    }
   ],
   "source": [
    "article_id_to_keep"
   ]
  },
  {
   "cell_type": "code",
   "execution_count": 31,
   "id": "5dda9a69",
   "metadata": {},
   "outputs": [
    {
     "data": {
      "text/plain": [
       "(105542, 26)"
      ]
     },
     "execution_count": 31,
     "metadata": {},
     "output_type": "execute_result"
    }
   ],
   "source": [
    "articles_df.shape"
   ]
  },
  {
   "cell_type": "code",
   "execution_count": 30,
   "id": "6b02f55f",
   "metadata": {},
   "outputs": [
    {
     "data": {
      "text/plain": [
       "(28709, 26)"
      ]
     },
     "execution_count": 30,
     "metadata": {},
     "output_type": "execute_result"
    }
   ],
   "source": [
    "articles_df[articles_df['article_id'].isin(article_id_to_keep)].shape"
   ]
  },
  {
   "cell_type": "code",
   "execution_count": 33,
   "id": "c65d0d5e",
   "metadata": {},
   "outputs": [],
   "source": [
    "articles_df_filtered = articles_df.copy()[articles_df['article_id'].isin(article_id_to_keep)]\n",
    "articles_df_filtered.reset_index(drop=True, inplace=True)"
   ]
  },
  {
   "cell_type": "code",
   "execution_count": 35,
   "id": "c9d67d92",
   "metadata": {
    "executionInfo": {
     "elapsed": 5,
     "status": "ok",
     "timestamp": 1649692192455,
     "user": {
      "displayName": "Steven George",
      "userId": "07709250839253394649"
     },
     "user_tz": -60
    },
    "id": "3bd23f23"
   },
   "outputs": [],
   "source": [
    "article_id_to_idx = dict(\n",
    "    zip(\n",
    "        articles_df_filtered['article_id'],\n",
    "        articles_df_filtered.index\n",
    "    )\n",
    ")"
   ]
  },
  {
   "cell_type": "code",
   "execution_count": 36,
   "id": "e10e1054",
   "metadata": {
    "executionInfo": {
     "elapsed": 275,
     "status": "ok",
     "timestamp": 1649692192726,
     "user": {
      "displayName": "Steven George",
      "userId": "07709250839253394649"
     },
     "user_tz": -60
    },
    "id": "f13b2c87"
   },
   "outputs": [],
   "source": [
    "articles_df_filtered['article_id_idx'] = articles_df_filtered['article_id'].map(article_id_to_idx)"
   ]
  },
  {
   "cell_type": "code",
   "execution_count": 37,
   "id": "e6073817",
   "metadata": {},
   "outputs": [
    {
     "data": {
      "text/html": [
       "<div>\n",
       "<style scoped>\n",
       "    .dataframe tbody tr th:only-of-type {\n",
       "        vertical-align: middle;\n",
       "    }\n",
       "\n",
       "    .dataframe tbody tr th {\n",
       "        vertical-align: top;\n",
       "    }\n",
       "\n",
       "    .dataframe thead th {\n",
       "        text-align: right;\n",
       "    }\n",
       "</style>\n",
       "<table border=\"1\" class=\"dataframe\">\n",
       "  <thead>\n",
       "    <tr style=\"text-align: right;\">\n",
       "      <th></th>\n",
       "      <th>customer_id</th>\n",
       "      <th>FN</th>\n",
       "      <th>Active</th>\n",
       "      <th>club_member_status</th>\n",
       "      <th>fashion_news_frequency</th>\n",
       "      <th>age</th>\n",
       "      <th>postal_code</th>\n",
       "    </tr>\n",
       "  </thead>\n",
       "  <tbody>\n",
       "    <tr>\n",
       "      <th>0</th>\n",
       "      <td>00000dbacae5abe5e23885899a1fa44253a17956c6d1c3...</td>\n",
       "      <td>0.0</td>\n",
       "      <td>0.0</td>\n",
       "      <td>active</td>\n",
       "      <td>missing</td>\n",
       "      <td>49.0</td>\n",
       "      <td>52043ee2162cf5aa7ee79974281641c6f11a68d276429a...</td>\n",
       "    </tr>\n",
       "    <tr>\n",
       "      <th>1</th>\n",
       "      <td>0000423b00ade91418cceaf3b26c6af3dd342b51fd051e...</td>\n",
       "      <td>0.0</td>\n",
       "      <td>0.0</td>\n",
       "      <td>active</td>\n",
       "      <td>missing</td>\n",
       "      <td>25.0</td>\n",
       "      <td>2973abc54daa8a5f8ccfe9362140c63247c5eee03f1d93...</td>\n",
       "    </tr>\n",
       "    <tr>\n",
       "      <th>2</th>\n",
       "      <td>000058a12d5b43e67d225668fa1f8d618c13dc232df0ca...</td>\n",
       "      <td>0.0</td>\n",
       "      <td>0.0</td>\n",
       "      <td>active</td>\n",
       "      <td>missing</td>\n",
       "      <td>24.0</td>\n",
       "      <td>64f17e6a330a85798e4998f62d0930d14db8db1c054af6...</td>\n",
       "    </tr>\n",
       "    <tr>\n",
       "      <th>3</th>\n",
       "      <td>00005ca1c9ed5f5146b52ac8639a40ca9d57aeff4d1bd2...</td>\n",
       "      <td>0.0</td>\n",
       "      <td>0.0</td>\n",
       "      <td>active</td>\n",
       "      <td>missing</td>\n",
       "      <td>54.0</td>\n",
       "      <td>5d36574f52495e81f019b680c843c443bd343d5ca5b1c2...</td>\n",
       "    </tr>\n",
       "    <tr>\n",
       "      <th>4</th>\n",
       "      <td>00006413d8573cd20ed7128e53b7b13819fe5cfc2d801f...</td>\n",
       "      <td>1.0</td>\n",
       "      <td>1.0</td>\n",
       "      <td>active</td>\n",
       "      <td>regularly</td>\n",
       "      <td>52.0</td>\n",
       "      <td>25fa5ddee9aac01b35208d01736e57942317d756b32ddd...</td>\n",
       "    </tr>\n",
       "  </tbody>\n",
       "</table>\n",
       "</div>"
      ],
      "text/plain": [
       "                                         customer_id   FN  Active  \\\n",
       "0  00000dbacae5abe5e23885899a1fa44253a17956c6d1c3...  0.0     0.0   \n",
       "1  0000423b00ade91418cceaf3b26c6af3dd342b51fd051e...  0.0     0.0   \n",
       "2  000058a12d5b43e67d225668fa1f8d618c13dc232df0ca...  0.0     0.0   \n",
       "3  00005ca1c9ed5f5146b52ac8639a40ca9d57aeff4d1bd2...  0.0     0.0   \n",
       "4  00006413d8573cd20ed7128e53b7b13819fe5cfc2d801f...  1.0     1.0   \n",
       "\n",
       "  club_member_status fashion_news_frequency   age  \\\n",
       "0             active                missing  49.0   \n",
       "1             active                missing  25.0   \n",
       "2             active                missing  24.0   \n",
       "3             active                missing  54.0   \n",
       "4             active              regularly  52.0   \n",
       "\n",
       "                                         postal_code  \n",
       "0  52043ee2162cf5aa7ee79974281641c6f11a68d276429a...  \n",
       "1  2973abc54daa8a5f8ccfe9362140c63247c5eee03f1d93...  \n",
       "2  64f17e6a330a85798e4998f62d0930d14db8db1c054af6...  \n",
       "3  5d36574f52495e81f019b680c843c443bd343d5ca5b1c2...  \n",
       "4  25fa5ddee9aac01b35208d01736e57942317d756b32ddd...  "
      ]
     },
     "execution_count": 37,
     "metadata": {},
     "output_type": "execute_result"
    }
   ],
   "source": [
    "customers.head()"
   ]
  },
  {
   "cell_type": "code",
   "execution_count": 38,
   "id": "384e798f",
   "metadata": {},
   "outputs": [],
   "source": [
    "customers_cat_code_to_indices = {}\n",
    "\n",
    "for cat in ['club_member_status', 'fashion_news_frequency', 'postal_code']:\n",
    "    customers_cat_code_to_indices[cat] = {v: k for k, v in dict(enumerate(customers[cat].unique())).items()}"
   ]
  },
  {
   "cell_type": "code",
   "execution_count": 39,
   "id": "7acda9ff",
   "metadata": {
    "executionInfo": {
     "elapsed": 313,
     "status": "ok",
     "timestamp": 1649692192454,
     "user": {
      "displayName": "Steven George",
      "userId": "07709250839253394649"
     },
     "user_tz": -60
    },
    "id": "bbf454b1"
   },
   "outputs": [],
   "source": [
    "for cat in ['club_member_status', 'fashion_news_frequency', 'postal_code']:\n",
    "    customers[cat] = customers[cat].map(customers_cat_code_to_indices[cat])"
   ]
  },
  {
   "cell_type": "code",
   "execution_count": 40,
   "id": "5f38b6ed",
   "metadata": {},
   "outputs": [],
   "source": [
    "customers['customer_id_idx'] = customers['customer_id'].map(customer_id_to_idx)"
   ]
  },
  {
   "cell_type": "code",
   "execution_count": 41,
   "id": "93cb4528",
   "metadata": {},
   "outputs": [
    {
     "data": {
      "text/html": [
       "<div>\n",
       "<style scoped>\n",
       "    .dataframe tbody tr th:only-of-type {\n",
       "        vertical-align: middle;\n",
       "    }\n",
       "\n",
       "    .dataframe tbody tr th {\n",
       "        vertical-align: top;\n",
       "    }\n",
       "\n",
       "    .dataframe thead th {\n",
       "        text-align: right;\n",
       "    }\n",
       "</style>\n",
       "<table border=\"1\" class=\"dataframe\">\n",
       "  <thead>\n",
       "    <tr style=\"text-align: right;\">\n",
       "      <th></th>\n",
       "      <th>customer_id</th>\n",
       "      <th>FN</th>\n",
       "      <th>Active</th>\n",
       "      <th>club_member_status</th>\n",
       "      <th>fashion_news_frequency</th>\n",
       "      <th>age</th>\n",
       "      <th>postal_code</th>\n",
       "      <th>customer_id_idx</th>\n",
       "    </tr>\n",
       "  </thead>\n",
       "  <tbody>\n",
       "    <tr>\n",
       "      <th>0</th>\n",
       "      <td>00000dbacae5abe5e23885899a1fa44253a17956c6d1c3...</td>\n",
       "      <td>0.0</td>\n",
       "      <td>0.0</td>\n",
       "      <td>0</td>\n",
       "      <td>0</td>\n",
       "      <td>49.0</td>\n",
       "      <td>0</td>\n",
       "      <td>NaN</td>\n",
       "    </tr>\n",
       "    <tr>\n",
       "      <th>1</th>\n",
       "      <td>0000423b00ade91418cceaf3b26c6af3dd342b51fd051e...</td>\n",
       "      <td>0.0</td>\n",
       "      <td>0.0</td>\n",
       "      <td>0</td>\n",
       "      <td>0</td>\n",
       "      <td>25.0</td>\n",
       "      <td>1</td>\n",
       "      <td>NaN</td>\n",
       "    </tr>\n",
       "    <tr>\n",
       "      <th>2</th>\n",
       "      <td>000058a12d5b43e67d225668fa1f8d618c13dc232df0ca...</td>\n",
       "      <td>0.0</td>\n",
       "      <td>0.0</td>\n",
       "      <td>0</td>\n",
       "      <td>0</td>\n",
       "      <td>24.0</td>\n",
       "      <td>2</td>\n",
       "      <td>8065.0</td>\n",
       "    </tr>\n",
       "    <tr>\n",
       "      <th>3</th>\n",
       "      <td>00005ca1c9ed5f5146b52ac8639a40ca9d57aeff4d1bd2...</td>\n",
       "      <td>0.0</td>\n",
       "      <td>0.0</td>\n",
       "      <td>0</td>\n",
       "      <td>0</td>\n",
       "      <td>54.0</td>\n",
       "      <td>3</td>\n",
       "      <td>NaN</td>\n",
       "    </tr>\n",
       "    <tr>\n",
       "      <th>4</th>\n",
       "      <td>00006413d8573cd20ed7128e53b7b13819fe5cfc2d801f...</td>\n",
       "      <td>1.0</td>\n",
       "      <td>1.0</td>\n",
       "      <td>0</td>\n",
       "      <td>1</td>\n",
       "      <td>52.0</td>\n",
       "      <td>4</td>\n",
       "      <td>NaN</td>\n",
       "    </tr>\n",
       "  </tbody>\n",
       "</table>\n",
       "</div>"
      ],
      "text/plain": [
       "                                         customer_id   FN  Active  \\\n",
       "0  00000dbacae5abe5e23885899a1fa44253a17956c6d1c3...  0.0     0.0   \n",
       "1  0000423b00ade91418cceaf3b26c6af3dd342b51fd051e...  0.0     0.0   \n",
       "2  000058a12d5b43e67d225668fa1f8d618c13dc232df0ca...  0.0     0.0   \n",
       "3  00005ca1c9ed5f5146b52ac8639a40ca9d57aeff4d1bd2...  0.0     0.0   \n",
       "4  00006413d8573cd20ed7128e53b7b13819fe5cfc2d801f...  1.0     1.0   \n",
       "\n",
       "   club_member_status  fashion_news_frequency   age  postal_code  \\\n",
       "0                   0                       0  49.0            0   \n",
       "1                   0                       0  25.0            1   \n",
       "2                   0                       0  24.0            2   \n",
       "3                   0                       0  54.0            3   \n",
       "4                   0                       1  52.0            4   \n",
       "\n",
       "   customer_id_idx  \n",
       "0              NaN  \n",
       "1              NaN  \n",
       "2           8065.0  \n",
       "3              NaN  \n",
       "4              NaN  "
      ]
     },
     "execution_count": 41,
     "metadata": {},
     "output_type": "execute_result"
    }
   ],
   "source": [
    "customers.head()"
   ]
  },
  {
   "cell_type": "code",
   "execution_count": 42,
   "id": "6b37d3ef",
   "metadata": {
    "colab": {
     "base_uri": "https://localhost:8080/",
     "height": 206
    },
    "executionInfo": {
     "elapsed": 205,
     "status": "ok",
     "timestamp": 1649692192927,
     "user": {
      "displayName": "Steven George",
      "userId": "07709250839253394649"
     },
     "user_tz": -60
    },
    "id": "00fb18b8",
    "outputId": "b9a44957-19fc-4790-87d5-fdc53ac54014"
   },
   "outputs": [
    {
     "data": {
      "text/html": [
       "<div>\n",
       "<style scoped>\n",
       "    .dataframe tbody tr th:only-of-type {\n",
       "        vertical-align: middle;\n",
       "    }\n",
       "\n",
       "    .dataframe tbody tr th {\n",
       "        vertical-align: top;\n",
       "    }\n",
       "\n",
       "    .dataframe thead th {\n",
       "        text-align: right;\n",
       "    }\n",
       "</style>\n",
       "<table border=\"1\" class=\"dataframe\">\n",
       "  <thead>\n",
       "    <tr style=\"text-align: right;\">\n",
       "      <th></th>\n",
       "      <th>t_dat</th>\n",
       "      <th>customer_id</th>\n",
       "      <th>article_id</th>\n",
       "      <th>price</th>\n",
       "      <th>sales_channel_id</th>\n",
       "      <th>customer_id_idx</th>\n",
       "      <th>article_id_idx</th>\n",
       "    </tr>\n",
       "  </thead>\n",
       "  <tbody>\n",
       "    <tr>\n",
       "      <th>10</th>\n",
       "      <td>2018-09-20</td>\n",
       "      <td>02d796ea767fa2e94fc6228fe70d8af1a570da973c32f7...</td>\n",
       "      <td>0564358010</td>\n",
       "      <td>0.033441</td>\n",
       "      <td>2</td>\n",
       "      <td>0</td>\n",
       "      <td>1810</td>\n",
       "    </tr>\n",
       "    <tr>\n",
       "      <th>17</th>\n",
       "      <td>2018-09-20</td>\n",
       "      <td>02d796ea767fa2e94fc6228fe70d8af1a570da973c32f7...</td>\n",
       "      <td>0575347003</td>\n",
       "      <td>0.013373</td>\n",
       "      <td>2</td>\n",
       "      <td>0</td>\n",
       "      <td>2100</td>\n",
       "    </tr>\n",
       "    <tr>\n",
       "      <th>27</th>\n",
       "      <td>2018-09-20</td>\n",
       "      <td>03126e45c08e82cd192b32cbddbeba63387e11e5531059...</td>\n",
       "      <td>0573652001</td>\n",
       "      <td>0.033881</td>\n",
       "      <td>2</td>\n",
       "      <td>1</td>\n",
       "      <td>2072</td>\n",
       "    </tr>\n",
       "    <tr>\n",
       "      <th>40</th>\n",
       "      <td>2018-09-20</td>\n",
       "      <td>08e5ec1f652c85fc59be204b60f262b6d1f45e4ce11872...</td>\n",
       "      <td>0573937001</td>\n",
       "      <td>0.032186</td>\n",
       "      <td>2</td>\n",
       "      <td>2</td>\n",
       "      <td>2081</td>\n",
       "    </tr>\n",
       "    <tr>\n",
       "      <th>43</th>\n",
       "      <td>2018-09-20</td>\n",
       "      <td>09bca14258b7e9b9ee968adffe54d45c1e370e8ed79a22...</td>\n",
       "      <td>0579541001</td>\n",
       "      <td>0.016932</td>\n",
       "      <td>1</td>\n",
       "      <td>3</td>\n",
       "      <td>2175</td>\n",
       "    </tr>\n",
       "  </tbody>\n",
       "</table>\n",
       "</div>"
      ],
      "text/plain": [
       "        t_dat                                        customer_id  article_id  \\\n",
       "10 2018-09-20  02d796ea767fa2e94fc6228fe70d8af1a570da973c32f7...  0564358010   \n",
       "17 2018-09-20  02d796ea767fa2e94fc6228fe70d8af1a570da973c32f7...  0575347003   \n",
       "27 2018-09-20  03126e45c08e82cd192b32cbddbeba63387e11e5531059...  0573652001   \n",
       "40 2018-09-20  08e5ec1f652c85fc59be204b60f262b6d1f45e4ce11872...  0573937001   \n",
       "43 2018-09-20  09bca14258b7e9b9ee968adffe54d45c1e370e8ed79a22...  0579541001   \n",
       "\n",
       "       price  sales_channel_id  customer_id_idx  article_id_idx  \n",
       "10  0.033441                 2                0            1810  \n",
       "17  0.013373                 2                0            2100  \n",
       "27  0.033881                 2                1            2072  \n",
       "40  0.032186                 2                2            2081  \n",
       "43  0.016932                 1                3            2175  "
      ]
     },
     "execution_count": 42,
     "metadata": {},
     "output_type": "execute_result"
    }
   ],
   "source": [
    "train_set_orig['customer_id_idx'] = train_set_orig['customer_id'].map(customer_id_to_idx)\n",
    "train_set_orig['article_id_idx'] = train_set_orig['article_id'].map(article_id_to_idx)\n",
    "\n",
    "train_set_orig.head()"
   ]
  },
  {
   "cell_type": "markdown",
   "id": "12225f53",
   "metadata": {
    "id": "e7320bec"
   },
   "source": [
    "Merge article features"
   ]
  },
  {
   "cell_type": "code",
   "execution_count": 43,
   "id": "538c48bd",
   "metadata": {
    "executionInfo": {
     "elapsed": 7,
     "status": "ok",
     "timestamp": 1649692192928,
     "user": {
      "displayName": "Steven George",
      "userId": "07709250839253394649"
     },
     "user_tz": -60
    },
    "id": "7818b15e"
   },
   "outputs": [],
   "source": [
    "train_set_orig = train_set_orig.merge(\n",
    "    articles_df_filtered[['article_id_idx'] + CATEGORICAL_FEATURES], \n",
    "    on='article_id_idx', \n",
    "    how='inner'\n",
    ")"
   ]
  },
  {
   "cell_type": "code",
   "execution_count": 44,
   "id": "7de99849",
   "metadata": {
    "colab": {
     "base_uri": "https://localhost:8080/",
     "height": 357
    },
    "executionInfo": {
     "elapsed": 6,
     "status": "ok",
     "timestamp": 1649692192928,
     "user": {
      "displayName": "Steven George",
      "userId": "07709250839253394649"
     },
     "user_tz": -60
    },
    "id": "d29a3bb1",
    "outputId": "81026f65-0a55-4380-ec6a-fb370253bc64"
   },
   "outputs": [
    {
     "data": {
      "text/html": [
       "<div>\n",
       "<style scoped>\n",
       "    .dataframe tbody tr th:only-of-type {\n",
       "        vertical-align: middle;\n",
       "    }\n",
       "\n",
       "    .dataframe tbody tr th {\n",
       "        vertical-align: top;\n",
       "    }\n",
       "\n",
       "    .dataframe thead th {\n",
       "        text-align: right;\n",
       "    }\n",
       "</style>\n",
       "<table border=\"1\" class=\"dataframe\">\n",
       "  <thead>\n",
       "    <tr style=\"text-align: right;\">\n",
       "      <th></th>\n",
       "      <th>t_dat</th>\n",
       "      <th>customer_id</th>\n",
       "      <th>article_id</th>\n",
       "      <th>price</th>\n",
       "      <th>sales_channel_id</th>\n",
       "      <th>customer_id_idx</th>\n",
       "      <th>article_id_idx</th>\n",
       "      <th>product_code</th>\n",
       "      <th>product_type_no</th>\n",
       "      <th>product_group_no</th>\n",
       "      <th>graphical_appearance_no</th>\n",
       "      <th>colour_group_code</th>\n",
       "      <th>perceived_colour_value_id</th>\n",
       "      <th>perceived_colour_master_id</th>\n",
       "      <th>department_no</th>\n",
       "      <th>index_code</th>\n",
       "      <th>index_group_no</th>\n",
       "      <th>section_no</th>\n",
       "      <th>garment_group_no</th>\n",
       "    </tr>\n",
       "  </thead>\n",
       "  <tbody>\n",
       "    <tr>\n",
       "      <th>0</th>\n",
       "      <td>2018-09-20</td>\n",
       "      <td>02d796ea767fa2e94fc6228fe70d8af1a570da973c32f7...</td>\n",
       "      <td>0564358010</td>\n",
       "      <td>0.033441</td>\n",
       "      <td>2</td>\n",
       "      <td>0</td>\n",
       "      <td>1810</td>\n",
       "      <td>5169</td>\n",
       "      <td>5</td>\n",
       "      <td>0</td>\n",
       "      <td>3</td>\n",
       "      <td>7</td>\n",
       "      <td>2</td>\n",
       "      <td>3</td>\n",
       "      <td>70</td>\n",
       "      <td>3</td>\n",
       "      <td>2</td>\n",
       "      <td>27</td>\n",
       "      <td>9</td>\n",
       "    </tr>\n",
       "    <tr>\n",
       "      <th>1</th>\n",
       "      <td>2018-11-11</td>\n",
       "      <td>250f3b498d9db02c2e63ff0a51d8891b0ae77e2bdf62e0...</td>\n",
       "      <td>0564358010</td>\n",
       "      <td>0.030169</td>\n",
       "      <td>2</td>\n",
       "      <td>151</td>\n",
       "      <td>1810</td>\n",
       "      <td>5169</td>\n",
       "      <td>5</td>\n",
       "      <td>0</td>\n",
       "      <td>3</td>\n",
       "      <td>7</td>\n",
       "      <td>2</td>\n",
       "      <td>3</td>\n",
       "      <td>70</td>\n",
       "      <td>3</td>\n",
       "      <td>2</td>\n",
       "      <td>27</td>\n",
       "      <td>9</td>\n",
       "    </tr>\n",
       "    <tr>\n",
       "      <th>2</th>\n",
       "      <td>2018-11-23</td>\n",
       "      <td>093d9f68df61795d0e5193cd6e08d6f2c02b3054161a7f...</td>\n",
       "      <td>0564358010</td>\n",
       "      <td>0.027102</td>\n",
       "      <td>1</td>\n",
       "      <td>940</td>\n",
       "      <td>1810</td>\n",
       "      <td>5169</td>\n",
       "      <td>5</td>\n",
       "      <td>0</td>\n",
       "      <td>3</td>\n",
       "      <td>7</td>\n",
       "      <td>2</td>\n",
       "      <td>3</td>\n",
       "      <td>70</td>\n",
       "      <td>3</td>\n",
       "      <td>2</td>\n",
       "      <td>27</td>\n",
       "      <td>9</td>\n",
       "    </tr>\n",
       "    <tr>\n",
       "      <th>3</th>\n",
       "      <td>2018-11-26</td>\n",
       "      <td>32063e800a552f2feb957c4e5b442e134273db2eb3af5b...</td>\n",
       "      <td>0564358010</td>\n",
       "      <td>0.033881</td>\n",
       "      <td>2</td>\n",
       "      <td>3041</td>\n",
       "      <td>1810</td>\n",
       "      <td>5169</td>\n",
       "      <td>5</td>\n",
       "      <td>0</td>\n",
       "      <td>3</td>\n",
       "      <td>7</td>\n",
       "      <td>2</td>\n",
       "      <td>3</td>\n",
       "      <td>70</td>\n",
       "      <td>3</td>\n",
       "      <td>2</td>\n",
       "      <td>27</td>\n",
       "      <td>9</td>\n",
       "    </tr>\n",
       "    <tr>\n",
       "      <th>4</th>\n",
       "      <td>2019-08-14</td>\n",
       "      <td>9570fb7ef5d4f30e34473c18bb6630b28df1f0933bed6c...</td>\n",
       "      <td>0564358010</td>\n",
       "      <td>0.030492</td>\n",
       "      <td>1</td>\n",
       "      <td>5756</td>\n",
       "      <td>1810</td>\n",
       "      <td>5169</td>\n",
       "      <td>5</td>\n",
       "      <td>0</td>\n",
       "      <td>3</td>\n",
       "      <td>7</td>\n",
       "      <td>2</td>\n",
       "      <td>3</td>\n",
       "      <td>70</td>\n",
       "      <td>3</td>\n",
       "      <td>2</td>\n",
       "      <td>27</td>\n",
       "      <td>9</td>\n",
       "    </tr>\n",
       "  </tbody>\n",
       "</table>\n",
       "</div>"
      ],
      "text/plain": [
       "       t_dat                                        customer_id  article_id  \\\n",
       "0 2018-09-20  02d796ea767fa2e94fc6228fe70d8af1a570da973c32f7...  0564358010   \n",
       "1 2018-11-11  250f3b498d9db02c2e63ff0a51d8891b0ae77e2bdf62e0...  0564358010   \n",
       "2 2018-11-23  093d9f68df61795d0e5193cd6e08d6f2c02b3054161a7f...  0564358010   \n",
       "3 2018-11-26  32063e800a552f2feb957c4e5b442e134273db2eb3af5b...  0564358010   \n",
       "4 2019-08-14  9570fb7ef5d4f30e34473c18bb6630b28df1f0933bed6c...  0564358010   \n",
       "\n",
       "      price  sales_channel_id  customer_id_idx  article_id_idx  product_code  \\\n",
       "0  0.033441                 2                0            1810          5169   \n",
       "1  0.030169                 2              151            1810          5169   \n",
       "2  0.027102                 1              940            1810          5169   \n",
       "3  0.033881                 2             3041            1810          5169   \n",
       "4  0.030492                 1             5756            1810          5169   \n",
       "\n",
       "   product_type_no  product_group_no  graphical_appearance_no  \\\n",
       "0                5                 0                        3   \n",
       "1                5                 0                        3   \n",
       "2                5                 0                        3   \n",
       "3                5                 0                        3   \n",
       "4                5                 0                        3   \n",
       "\n",
       "   colour_group_code  perceived_colour_value_id  perceived_colour_master_id  \\\n",
       "0                  7                          2                           3   \n",
       "1                  7                          2                           3   \n",
       "2                  7                          2                           3   \n",
       "3                  7                          2                           3   \n",
       "4                  7                          2                           3   \n",
       "\n",
       "   department_no  index_code  index_group_no  section_no  garment_group_no  \n",
       "0             70           3               2          27                 9  \n",
       "1             70           3               2          27                 9  \n",
       "2             70           3               2          27                 9  \n",
       "3             70           3               2          27                 9  \n",
       "4             70           3               2          27                 9  "
      ]
     },
     "execution_count": 44,
     "metadata": {},
     "output_type": "execute_result"
    }
   ],
   "source": [
    "train_set_orig.head()"
   ]
  },
  {
   "cell_type": "code",
   "execution_count": 45,
   "id": "6229573f",
   "metadata": {
    "executionInfo": {
     "elapsed": 241,
     "status": "ok",
     "timestamp": 1649692193165,
     "user": {
      "displayName": "Steven George",
      "userId": "07709250839253394649"
     },
     "user_tz": -60
    },
    "id": "be09fde5"
   },
   "outputs": [],
   "source": [
    "train_set_orig.drop(columns=['price', 'sales_channel_id'], inplace=True)"
   ]
  },
  {
   "cell_type": "markdown",
   "id": "7bec285c",
   "metadata": {},
   "source": [
    "Merge customer features"
   ]
  },
  {
   "cell_type": "code",
   "execution_count": 46,
   "id": "84e85394",
   "metadata": {},
   "outputs": [
    {
     "data": {
      "text/plain": [
       "(395219, 17)"
      ]
     },
     "execution_count": 46,
     "metadata": {},
     "output_type": "execute_result"
    }
   ],
   "source": [
    "train_set_orig.shape"
   ]
  },
  {
   "cell_type": "code",
   "execution_count": 48,
   "id": "7cef9ed0",
   "metadata": {},
   "outputs": [],
   "source": [
    "train_set_orig = train_set_orig.merge(\n",
    "    customers.drop(columns='customer_id'),\n",
    "    on='customer_id_idx'\n",
    ")"
   ]
  },
  {
   "cell_type": "code",
   "execution_count": 49,
   "id": "b376aa79",
   "metadata": {},
   "outputs": [
    {
     "data": {
      "text/html": [
       "<div>\n",
       "<style scoped>\n",
       "    .dataframe tbody tr th:only-of-type {\n",
       "        vertical-align: middle;\n",
       "    }\n",
       "\n",
       "    .dataframe tbody tr th {\n",
       "        vertical-align: top;\n",
       "    }\n",
       "\n",
       "    .dataframe thead th {\n",
       "        text-align: right;\n",
       "    }\n",
       "</style>\n",
       "<table border=\"1\" class=\"dataframe\">\n",
       "  <thead>\n",
       "    <tr style=\"text-align: right;\">\n",
       "      <th></th>\n",
       "      <th>t_dat</th>\n",
       "      <th>customer_id</th>\n",
       "      <th>article_id</th>\n",
       "      <th>customer_id_idx</th>\n",
       "      <th>article_id_idx</th>\n",
       "      <th>product_code</th>\n",
       "      <th>product_type_no</th>\n",
       "      <th>product_group_no</th>\n",
       "      <th>graphical_appearance_no</th>\n",
       "      <th>colour_group_code</th>\n",
       "      <th>perceived_colour_value_id</th>\n",
       "      <th>perceived_colour_master_id</th>\n",
       "      <th>department_no</th>\n",
       "      <th>index_code</th>\n",
       "      <th>index_group_no</th>\n",
       "      <th>section_no</th>\n",
       "      <th>garment_group_no</th>\n",
       "      <th>FN</th>\n",
       "      <th>Active</th>\n",
       "      <th>club_member_status</th>\n",
       "      <th>fashion_news_frequency</th>\n",
       "      <th>age</th>\n",
       "      <th>postal_code</th>\n",
       "    </tr>\n",
       "  </thead>\n",
       "  <tbody>\n",
       "    <tr>\n",
       "      <th>0</th>\n",
       "      <td>2018-09-20</td>\n",
       "      <td>02d796ea767fa2e94fc6228fe70d8af1a570da973c32f7...</td>\n",
       "      <td>0564358010</td>\n",
       "      <td>0</td>\n",
       "      <td>1810</td>\n",
       "      <td>5169</td>\n",
       "      <td>5</td>\n",
       "      <td>0</td>\n",
       "      <td>3</td>\n",
       "      <td>7</td>\n",
       "      <td>2</td>\n",
       "      <td>3</td>\n",
       "      <td>70</td>\n",
       "      <td>3</td>\n",
       "      <td>2</td>\n",
       "      <td>27</td>\n",
       "      <td>9</td>\n",
       "      <td>0.0</td>\n",
       "      <td>0.0</td>\n",
       "      <td>0</td>\n",
       "      <td>0</td>\n",
       "      <td>46.0</td>\n",
       "      <td>13518</td>\n",
       "    </tr>\n",
       "    <tr>\n",
       "      <th>1</th>\n",
       "      <td>2018-09-20</td>\n",
       "      <td>02d796ea767fa2e94fc6228fe70d8af1a570da973c32f7...</td>\n",
       "      <td>0575347003</td>\n",
       "      <td>0</td>\n",
       "      <td>2100</td>\n",
       "      <td>6223</td>\n",
       "      <td>3</td>\n",
       "      <td>2</td>\n",
       "      <td>0</td>\n",
       "      <td>0</td>\n",
       "      <td>0</td>\n",
       "      <td>0</td>\n",
       "      <td>66</td>\n",
       "      <td>3</td>\n",
       "      <td>2</td>\n",
       "      <td>4</td>\n",
       "      <td>2</td>\n",
       "      <td>0.0</td>\n",
       "      <td>0.0</td>\n",
       "      <td>0</td>\n",
       "      <td>0</td>\n",
       "      <td>46.0</td>\n",
       "      <td>13518</td>\n",
       "    </tr>\n",
       "    <tr>\n",
       "      <th>2</th>\n",
       "      <td>2019-11-24</td>\n",
       "      <td>02d796ea767fa2e94fc6228fe70d8af1a570da973c32f7...</td>\n",
       "      <td>0562245001</td>\n",
       "      <td>0</td>\n",
       "      <td>1722</td>\n",
       "      <td>4956</td>\n",
       "      <td>7</td>\n",
       "      <td>3</td>\n",
       "      <td>0</td>\n",
       "      <td>0</td>\n",
       "      <td>0</td>\n",
       "      <td>0</td>\n",
       "      <td>48</td>\n",
       "      <td>0</td>\n",
       "      <td>0</td>\n",
       "      <td>21</td>\n",
       "      <td>11</td>\n",
       "      <td>0.0</td>\n",
       "      <td>0.0</td>\n",
       "      <td>0</td>\n",
       "      <td>0</td>\n",
       "      <td>46.0</td>\n",
       "      <td>13518</td>\n",
       "    </tr>\n",
       "    <tr>\n",
       "      <th>3</th>\n",
       "      <td>2019-11-24</td>\n",
       "      <td>02d796ea767fa2e94fc6228fe70d8af1a570da973c32f7...</td>\n",
       "      <td>0664405002</td>\n",
       "      <td>0</td>\n",
       "      <td>4125</td>\n",
       "      <td>16466</td>\n",
       "      <td>17</td>\n",
       "      <td>4</td>\n",
       "      <td>0</td>\n",
       "      <td>0</td>\n",
       "      <td>0</td>\n",
       "      <td>0</td>\n",
       "      <td>19</td>\n",
       "      <td>4</td>\n",
       "      <td>0</td>\n",
       "      <td>12</td>\n",
       "      <td>4</td>\n",
       "      <td>0.0</td>\n",
       "      <td>0.0</td>\n",
       "      <td>0</td>\n",
       "      <td>0</td>\n",
       "      <td>46.0</td>\n",
       "      <td>13518</td>\n",
       "    </tr>\n",
       "    <tr>\n",
       "      <th>4</th>\n",
       "      <td>2019-12-20</td>\n",
       "      <td>02d796ea767fa2e94fc6228fe70d8af1a570da973c32f7...</td>\n",
       "      <td>0664405002</td>\n",
       "      <td>0</td>\n",
       "      <td>4125</td>\n",
       "      <td>16466</td>\n",
       "      <td>17</td>\n",
       "      <td>4</td>\n",
       "      <td>0</td>\n",
       "      <td>0</td>\n",
       "      <td>0</td>\n",
       "      <td>0</td>\n",
       "      <td>19</td>\n",
       "      <td>4</td>\n",
       "      <td>0</td>\n",
       "      <td>12</td>\n",
       "      <td>4</td>\n",
       "      <td>0.0</td>\n",
       "      <td>0.0</td>\n",
       "      <td>0</td>\n",
       "      <td>0</td>\n",
       "      <td>46.0</td>\n",
       "      <td>13518</td>\n",
       "    </tr>\n",
       "  </tbody>\n",
       "</table>\n",
       "</div>"
      ],
      "text/plain": [
       "       t_dat                                        customer_id  article_id  \\\n",
       "0 2018-09-20  02d796ea767fa2e94fc6228fe70d8af1a570da973c32f7...  0564358010   \n",
       "1 2018-09-20  02d796ea767fa2e94fc6228fe70d8af1a570da973c32f7...  0575347003   \n",
       "2 2019-11-24  02d796ea767fa2e94fc6228fe70d8af1a570da973c32f7...  0562245001   \n",
       "3 2019-11-24  02d796ea767fa2e94fc6228fe70d8af1a570da973c32f7...  0664405002   \n",
       "4 2019-12-20  02d796ea767fa2e94fc6228fe70d8af1a570da973c32f7...  0664405002   \n",
       "\n",
       "   customer_id_idx  article_id_idx  product_code  product_type_no  \\\n",
       "0                0            1810          5169                5   \n",
       "1                0            2100          6223                3   \n",
       "2                0            1722          4956                7   \n",
       "3                0            4125         16466               17   \n",
       "4                0            4125         16466               17   \n",
       "\n",
       "   product_group_no  graphical_appearance_no  colour_group_code  \\\n",
       "0                 0                        3                  7   \n",
       "1                 2                        0                  0   \n",
       "2                 3                        0                  0   \n",
       "3                 4                        0                  0   \n",
       "4                 4                        0                  0   \n",
       "\n",
       "   perceived_colour_value_id  perceived_colour_master_id  department_no  \\\n",
       "0                          2                           3             70   \n",
       "1                          0                           0             66   \n",
       "2                          0                           0             48   \n",
       "3                          0                           0             19   \n",
       "4                          0                           0             19   \n",
       "\n",
       "   index_code  index_group_no  section_no  garment_group_no   FN  Active  \\\n",
       "0           3               2          27                 9  0.0     0.0   \n",
       "1           3               2           4                 2  0.0     0.0   \n",
       "2           0               0          21                11  0.0     0.0   \n",
       "3           4               0          12                 4  0.0     0.0   \n",
       "4           4               0          12                 4  0.0     0.0   \n",
       "\n",
       "   club_member_status  fashion_news_frequency   age  postal_code  \n",
       "0                   0                       0  46.0        13518  \n",
       "1                   0                       0  46.0        13518  \n",
       "2                   0                       0  46.0        13518  \n",
       "3                   0                       0  46.0        13518  \n",
       "4                   0                       0  46.0        13518  "
      ]
     },
     "execution_count": 49,
     "metadata": {},
     "output_type": "execute_result"
    }
   ],
   "source": [
    "train_set_orig.head()"
   ]
  },
  {
   "cell_type": "markdown",
   "id": "6e88120d",
   "metadata": {},
   "source": [
    "### Create example age and time-related features"
   ]
  },
  {
   "cell_type": "code",
   "execution_count": 50,
   "id": "2b260746",
   "metadata": {
    "executionInfo": {
     "elapsed": 5,
     "status": "ok",
     "timestamp": 1649692193165,
     "user": {
      "displayName": "Steven George",
      "userId": "07709250839253394649"
     },
     "user_tz": -60
    },
    "id": "cafb6ff8"
   },
   "outputs": [],
   "source": [
    "train_set_orig['t_dat'] = pd.to_datetime(train_set_orig['t_dat'])"
   ]
  },
  {
   "cell_type": "code",
   "execution_count": 51,
   "id": "78857831",
   "metadata": {
    "colab": {
     "base_uri": "https://localhost:8080/"
    },
    "executionInfo": {
     "elapsed": 4,
     "status": "ok",
     "timestamp": 1649692193165,
     "user": {
      "displayName": "Steven George",
      "userId": "07709250839253394649"
     },
     "user_tz": -60
    },
    "id": "5c145c4c",
    "outputId": "9b3a2916-807d-4662-d6b2-abcaf6371725"
   },
   "outputs": [
    {
     "data": {
      "text/plain": [
       "(Timestamp('2020-09-07 00:00:00'), Timestamp('2020-09-14 00:00:00'))"
      ]
     },
     "execution_count": 51,
     "metadata": {},
     "output_type": "execute_result"
    }
   ],
   "source": [
    "end = train_set_orig['t_dat'].max()\n",
    "endm1 = end - datetime.timedelta(days=7)\n",
    "\n",
    "endm1, end"
   ]
  },
  {
   "cell_type": "code",
   "execution_count": 52,
   "id": "784a7d28",
   "metadata": {},
   "outputs": [],
   "source": [
    "train_set_orig['example_age'] = (end - train_set_orig['t_dat']).dt.days"
   ]
  },
  {
   "cell_type": "code",
   "execution_count": 53,
   "id": "f781c0f0",
   "metadata": {},
   "outputs": [
    {
     "data": {
      "text/plain": [
       "<AxesSubplot:>"
      ]
     },
     "execution_count": 53,
     "metadata": {},
     "output_type": "execute_result"
    },
    {
     "data": {
      "image/png": "[encoded data removed]",
      "text/plain": [
       "<Figure size 432x288 with 1 Axes>"
      ]
     },
     "metadata": {
      "needs_background": "light"
     },
     "output_type": "display_data"
    }
   ],
   "source": [
    "train_set_orig['example_age'].hist()"
   ]
  },
  {
   "cell_type": "code",
   "execution_count": 54,
   "id": "a454d9cd",
   "metadata": {},
   "outputs": [],
   "source": [
    "train_set_orig['t_dat_quarter'] = train_set_orig['t_dat'].dt.quarter"
   ]
  },
  {
   "cell_type": "code",
   "execution_count": 55,
   "id": "a55fb383",
   "metadata": {},
   "outputs": [],
   "source": [
    "train_set_orig = pd.get_dummies(train_set_orig, columns=['t_dat_quarter'])"
   ]
  },
  {
   "cell_type": "code",
   "execution_count": 56,
   "id": "04250732",
   "metadata": {},
   "outputs": [
    {
     "data": {
      "text/html": [
       "<div>\n",
       "<style scoped>\n",
       "    .dataframe tbody tr th:only-of-type {\n",
       "        vertical-align: middle;\n",
       "    }\n",
       "\n",
       "    .dataframe tbody tr th {\n",
       "        vertical-align: top;\n",
       "    }\n",
       "\n",
       "    .dataframe thead th {\n",
       "        text-align: right;\n",
       "    }\n",
       "</style>\n",
       "<table border=\"1\" class=\"dataframe\">\n",
       "  <thead>\n",
       "    <tr style=\"text-align: right;\">\n",
       "      <th></th>\n",
       "      <th>t_dat</th>\n",
       "      <th>customer_id</th>\n",
       "      <th>article_id</th>\n",
       "      <th>customer_id_idx</th>\n",
       "      <th>article_id_idx</th>\n",
       "      <th>product_code</th>\n",
       "      <th>product_type_no</th>\n",
       "      <th>product_group_no</th>\n",
       "      <th>graphical_appearance_no</th>\n",
       "      <th>colour_group_code</th>\n",
       "      <th>perceived_colour_value_id</th>\n",
       "      <th>perceived_colour_master_id</th>\n",
       "      <th>department_no</th>\n",
       "      <th>index_code</th>\n",
       "      <th>index_group_no</th>\n",
       "      <th>section_no</th>\n",
       "      <th>garment_group_no</th>\n",
       "      <th>FN</th>\n",
       "      <th>Active</th>\n",
       "      <th>club_member_status</th>\n",
       "      <th>fashion_news_frequency</th>\n",
       "      <th>age</th>\n",
       "      <th>postal_code</th>\n",
       "      <th>example_age</th>\n",
       "      <th>t_dat_quarter_1</th>\n",
       "      <th>t_dat_quarter_2</th>\n",
       "      <th>t_dat_quarter_3</th>\n",
       "      <th>t_dat_quarter_4</th>\n",
       "    </tr>\n",
       "  </thead>\n",
       "  <tbody>\n",
       "    <tr>\n",
       "      <th>0</th>\n",
       "      <td>2018-09-20</td>\n",
       "      <td>02d796ea767fa2e94fc6228fe70d8af1a570da973c32f7...</td>\n",
       "      <td>0564358010</td>\n",
       "      <td>0</td>\n",
       "      <td>1810</td>\n",
       "      <td>5169</td>\n",
       "      <td>5</td>\n",
       "      <td>0</td>\n",
       "      <td>3</td>\n",
       "      <td>7</td>\n",
       "      <td>2</td>\n",
       "      <td>3</td>\n",
       "      <td>70</td>\n",
       "      <td>3</td>\n",
       "      <td>2</td>\n",
       "      <td>27</td>\n",
       "      <td>9</td>\n",
       "      <td>0.0</td>\n",
       "      <td>0.0</td>\n",
       "      <td>0</td>\n",
       "      <td>0</td>\n",
       "      <td>46.0</td>\n",
       "      <td>13518</td>\n",
       "      <td>725</td>\n",
       "      <td>0</td>\n",
       "      <td>0</td>\n",
       "      <td>1</td>\n",
       "      <td>0</td>\n",
       "    </tr>\n",
       "    <tr>\n",
       "      <th>1</th>\n",
       "      <td>2018-09-20</td>\n",
       "      <td>02d796ea767fa2e94fc6228fe70d8af1a570da973c32f7...</td>\n",
       "      <td>0575347003</td>\n",
       "      <td>0</td>\n",
       "      <td>2100</td>\n",
       "      <td>6223</td>\n",
       "      <td>3</td>\n",
       "      <td>2</td>\n",
       "      <td>0</td>\n",
       "      <td>0</td>\n",
       "      <td>0</td>\n",
       "      <td>0</td>\n",
       "      <td>66</td>\n",
       "      <td>3</td>\n",
       "      <td>2</td>\n",
       "      <td>4</td>\n",
       "      <td>2</td>\n",
       "      <td>0.0</td>\n",
       "      <td>0.0</td>\n",
       "      <td>0</td>\n",
       "      <td>0</td>\n",
       "      <td>46.0</td>\n",
       "      <td>13518</td>\n",
       "      <td>725</td>\n",
       "      <td>0</td>\n",
       "      <td>0</td>\n",
       "      <td>1</td>\n",
       "      <td>0</td>\n",
       "    </tr>\n",
       "    <tr>\n",
       "      <th>2</th>\n",
       "      <td>2019-11-24</td>\n",
       "      <td>02d796ea767fa2e94fc6228fe70d8af1a570da973c32f7...</td>\n",
       "      <td>0562245001</td>\n",
       "      <td>0</td>\n",
       "      <td>1722</td>\n",
       "      <td>4956</td>\n",
       "      <td>7</td>\n",
       "      <td>3</td>\n",
       "      <td>0</td>\n",
       "      <td>0</td>\n",
       "      <td>0</td>\n",
       "      <td>0</td>\n",
       "      <td>48</td>\n",
       "      <td>0</td>\n",
       "      <td>0</td>\n",
       "      <td>21</td>\n",
       "      <td>11</td>\n",
       "      <td>0.0</td>\n",
       "      <td>0.0</td>\n",
       "      <td>0</td>\n",
       "      <td>0</td>\n",
       "      <td>46.0</td>\n",
       "      <td>13518</td>\n",
       "      <td>295</td>\n",
       "      <td>0</td>\n",
       "      <td>0</td>\n",
       "      <td>0</td>\n",
       "      <td>1</td>\n",
       "    </tr>\n",
       "    <tr>\n",
       "      <th>3</th>\n",
       "      <td>2019-11-24</td>\n",
       "      <td>02d796ea767fa2e94fc6228fe70d8af1a570da973c32f7...</td>\n",
       "      <td>0664405002</td>\n",
       "      <td>0</td>\n",
       "      <td>4125</td>\n",
       "      <td>16466</td>\n",
       "      <td>17</td>\n",
       "      <td>4</td>\n",
       "      <td>0</td>\n",
       "      <td>0</td>\n",
       "      <td>0</td>\n",
       "      <td>0</td>\n",
       "      <td>19</td>\n",
       "      <td>4</td>\n",
       "      <td>0</td>\n",
       "      <td>12</td>\n",
       "      <td>4</td>\n",
       "      <td>0.0</td>\n",
       "      <td>0.0</td>\n",
       "      <td>0</td>\n",
       "      <td>0</td>\n",
       "      <td>46.0</td>\n",
       "      <td>13518</td>\n",
       "      <td>295</td>\n",
       "      <td>0</td>\n",
       "      <td>0</td>\n",
       "      <td>0</td>\n",
       "      <td>1</td>\n",
       "    </tr>\n",
       "    <tr>\n",
       "      <th>4</th>\n",
       "      <td>2019-12-20</td>\n",
       "      <td>02d796ea767fa2e94fc6228fe70d8af1a570da973c32f7...</td>\n",
       "      <td>0664405002</td>\n",
       "      <td>0</td>\n",
       "      <td>4125</td>\n",
       "      <td>16466</td>\n",
       "      <td>17</td>\n",
       "      <td>4</td>\n",
       "      <td>0</td>\n",
       "      <td>0</td>\n",
       "      <td>0</td>\n",
       "      <td>0</td>\n",
       "      <td>19</td>\n",
       "      <td>4</td>\n",
       "      <td>0</td>\n",
       "      <td>12</td>\n",
       "      <td>4</td>\n",
       "      <td>0.0</td>\n",
       "      <td>0.0</td>\n",
       "      <td>0</td>\n",
       "      <td>0</td>\n",
       "      <td>46.0</td>\n",
       "      <td>13518</td>\n",
       "      <td>269</td>\n",
       "      <td>0</td>\n",
       "      <td>0</td>\n",
       "      <td>0</td>\n",
       "      <td>1</td>\n",
       "    </tr>\n",
       "  </tbody>\n",
       "</table>\n",
       "</div>"
      ],
      "text/plain": [
       "       t_dat                                        customer_id  article_id  \\\n",
       "0 2018-09-20  02d796ea767fa2e94fc6228fe70d8af1a570da973c32f7...  0564358010   \n",
       "1 2018-09-20  02d796ea767fa2e94fc6228fe70d8af1a570da973c32f7...  0575347003   \n",
       "2 2019-11-24  02d796ea767fa2e94fc6228fe70d8af1a570da973c32f7...  0562245001   \n",
       "3 2019-11-24  02d796ea767fa2e94fc6228fe70d8af1a570da973c32f7...  0664405002   \n",
       "4 2019-12-20  02d796ea767fa2e94fc6228fe70d8af1a570da973c32f7...  0664405002   \n",
       "\n",
       "   customer_id_idx  article_id_idx  product_code  product_type_no  \\\n",
       "0                0            1810          5169                5   \n",
       "1                0            2100          6223                3   \n",
       "2                0            1722          4956                7   \n",
       "3                0            4125         16466               17   \n",
       "4                0            4125         16466               17   \n",
       "\n",
       "   product_group_no  graphical_appearance_no  colour_group_code  \\\n",
       "0                 0                        3                  7   \n",
       "1                 2                        0                  0   \n",
       "2                 3                        0                  0   \n",
       "3                 4                        0                  0   \n",
       "4                 4                        0                  0   \n",
       "\n",
       "   perceived_colour_value_id  perceived_colour_master_id  department_no  \\\n",
       "0                          2                           3             70   \n",
       "1                          0                           0             66   \n",
       "2                          0                           0             48   \n",
       "3                          0                           0             19   \n",
       "4                          0                           0             19   \n",
       "\n",
       "   index_code  index_group_no  section_no  garment_group_no   FN  Active  \\\n",
       "0           3               2          27                 9  0.0     0.0   \n",
       "1           3               2           4                 2  0.0     0.0   \n",
       "2           0               0          21                11  0.0     0.0   \n",
       "3           4               0          12                 4  0.0     0.0   \n",
       "4           4               0          12                 4  0.0     0.0   \n",
       "\n",
       "   club_member_status  fashion_news_frequency   age  postal_code  example_age  \\\n",
       "0                   0                       0  46.0        13518          725   \n",
       "1                   0                       0  46.0        13518          725   \n",
       "2                   0                       0  46.0        13518          295   \n",
       "3                   0                       0  46.0        13518          295   \n",
       "4                   0                       0  46.0        13518          269   \n",
       "\n",
       "   t_dat_quarter_1  t_dat_quarter_2  t_dat_quarter_3  t_dat_quarter_4  \n",
       "0                0                0                1                0  \n",
       "1                0                0                1                0  \n",
       "2                0                0                0                1  \n",
       "3                0                0                0                1  \n",
       "4                0                0                0                1  "
      ]
     },
     "execution_count": 56,
     "metadata": {},
     "output_type": "execute_result"
    }
   ],
   "source": [
    "train_set_orig.head()"
   ]
  },
  {
   "cell_type": "markdown",
   "id": "dfe1306e",
   "metadata": {
    "id": "8167fe05"
   },
   "source": [
    "### Create development set"
   ]
  },
  {
   "cell_type": "code",
   "execution_count": 57,
   "id": "17ce254f",
   "metadata": {
    "executionInfo": {
     "elapsed": 369,
     "status": "ok",
     "timestamp": 1649692193798,
     "user": {
      "displayName": "Steven George",
      "userId": "07709250839253394649"
     },
     "user_tz": -60
    },
    "id": "e2e26834"
   },
   "outputs": [],
   "source": [
    "# Remove customers from dev set who are not in the new training set\n",
    "customers_to_remove = (\n",
    "    set(train_set_orig[train_set_orig['t_dat'] >= endm1]['customer_id']) - \n",
    "    set(train_set_orig[train_set_orig['t_dat'] < endm1]['customer_id'])\n",
    ")"
   ]
  },
  {
   "cell_type": "code",
   "execution_count": 58,
   "id": "55ad2367",
   "metadata": {
    "colab": {
     "base_uri": "https://localhost:8080/"
    },
    "executionInfo": {
     "elapsed": 19,
     "status": "ok",
     "timestamp": 1649692193799,
     "user": {
      "displayName": "Steven George",
      "userId": "07709250839253394649"
     },
     "user_tz": -60
    },
    "id": "cac9a937",
    "outputId": "04c88fc0-5b77-4b86-a6d8-bf7bebe606d7"
   },
   "outputs": [
    {
     "data": {
      "text/plain": [
       "70"
      ]
     },
     "execution_count": 58,
     "metadata": {},
     "output_type": "execute_result"
    }
   ],
   "source": [
    "len(customers_to_remove)"
   ]
  },
  {
   "cell_type": "code",
   "execution_count": 59,
   "id": "ebb8e7b9",
   "metadata": {
    "colab": {
     "base_uri": "https://localhost:8080/"
    },
    "executionInfo": {
     "elapsed": 12,
     "status": "ok",
     "timestamp": 1649692193799,
     "user": {
      "displayName": "Steven George",
      "userId": "07709250839253394649"
     },
     "user_tz": -60
    },
    "id": "7e3ce90b",
    "outputId": "0047eec9-3f8c-4dc9-b0cf-95b7f87efeb2"
   },
   "outputs": [
    {
     "data": {
      "text/plain": [
       "((386856, 28), (8363, 28))"
      ]
     },
     "execution_count": 59,
     "metadata": {},
     "output_type": "execute_result"
    }
   ],
   "source": [
    "train_set = train_set_orig.copy()[train_set_orig['t_dat'] < endm1]\n",
    "\n",
    "dev_set = train_set_orig.copy()[train_set_orig['t_dat'] >= endm1]\n",
    "\n",
    "train_set.shape, dev_set.shape"
   ]
  },
  {
   "cell_type": "code",
   "execution_count": 60,
   "id": "0701934a",
   "metadata": {
    "colab": {
     "base_uri": "https://localhost:8080/",
     "height": 375
    },
    "executionInfo": {
     "elapsed": 9,
     "status": "ok",
     "timestamp": 1649692193799,
     "user": {
      "displayName": "Steven George",
      "userId": "07709250839253394649"
     },
     "user_tz": -60
    },
    "id": "35777b23",
    "outputId": "931bfa67-e2f2-4081-a83d-37487a720dca"
   },
   "outputs": [
    {
     "name": "stdout",
     "output_type": "stream",
     "text": [
      "(8099, 28)\n"
     ]
    },
    {
     "data": {
      "text/html": [
       "<div>\n",
       "<style scoped>\n",
       "    .dataframe tbody tr th:only-of-type {\n",
       "        vertical-align: middle;\n",
       "    }\n",
       "\n",
       "    .dataframe tbody tr th {\n",
       "        vertical-align: top;\n",
       "    }\n",
       "\n",
       "    .dataframe thead th {\n",
       "        text-align: right;\n",
       "    }\n",
       "</style>\n",
       "<table border=\"1\" class=\"dataframe\">\n",
       "  <thead>\n",
       "    <tr style=\"text-align: right;\">\n",
       "      <th></th>\n",
       "      <th>t_dat</th>\n",
       "      <th>customer_id</th>\n",
       "      <th>article_id</th>\n",
       "      <th>customer_id_idx</th>\n",
       "      <th>article_id_idx</th>\n",
       "      <th>product_code</th>\n",
       "      <th>product_type_no</th>\n",
       "      <th>product_group_no</th>\n",
       "      <th>graphical_appearance_no</th>\n",
       "      <th>colour_group_code</th>\n",
       "      <th>perceived_colour_value_id</th>\n",
       "      <th>perceived_colour_master_id</th>\n",
       "      <th>department_no</th>\n",
       "      <th>index_code</th>\n",
       "      <th>index_group_no</th>\n",
       "      <th>section_no</th>\n",
       "      <th>garment_group_no</th>\n",
       "      <th>FN</th>\n",
       "      <th>Active</th>\n",
       "      <th>club_member_status</th>\n",
       "      <th>fashion_news_frequency</th>\n",
       "      <th>age</th>\n",
       "      <th>postal_code</th>\n",
       "      <th>example_age</th>\n",
       "      <th>t_dat_quarter_1</th>\n",
       "      <th>t_dat_quarter_2</th>\n",
       "      <th>t_dat_quarter_3</th>\n",
       "      <th>t_dat_quarter_4</th>\n",
       "    </tr>\n",
       "  </thead>\n",
       "  <tbody>\n",
       "    <tr>\n",
       "      <th>143</th>\n",
       "      <td>2020-09-12</td>\n",
       "      <td>250f3b498d9db02c2e63ff0a51d8891b0ae77e2bdf62e0...</td>\n",
       "      <td>0599580038</td>\n",
       "      <td>151</td>\n",
       "      <td>2559</td>\n",
       "      <td>8578</td>\n",
       "      <td>20</td>\n",
       "      <td>10</td>\n",
       "      <td>0</td>\n",
       "      <td>26</td>\n",
       "      <td>4</td>\n",
       "      <td>7</td>\n",
       "      <td>21</td>\n",
       "      <td>1</td>\n",
       "      <td>0</td>\n",
       "      <td>14</td>\n",
       "      <td>8</td>\n",
       "      <td>1.0</td>\n",
       "      <td>1.0</td>\n",
       "      <td>0</td>\n",
       "      <td>1</td>\n",
       "      <td>49.0</td>\n",
       "      <td>30927</td>\n",
       "      <td>2</td>\n",
       "      <td>0</td>\n",
       "      <td>0</td>\n",
       "      <td>1</td>\n",
       "      <td>0</td>\n",
       "    </tr>\n",
       "    <tr>\n",
       "      <th>149</th>\n",
       "      <td>2020-09-12</td>\n",
       "      <td>250f3b498d9db02c2e63ff0a51d8891b0ae77e2bdf62e0...</td>\n",
       "      <td>0806225008</td>\n",
       "      <td>151</td>\n",
       "      <td>14747</td>\n",
       "      <td>34507</td>\n",
       "      <td>19</td>\n",
       "      <td>10</td>\n",
       "      <td>0</td>\n",
       "      <td>26</td>\n",
       "      <td>4</td>\n",
       "      <td>7</td>\n",
       "      <td>21</td>\n",
       "      <td>1</td>\n",
       "      <td>0</td>\n",
       "      <td>14</td>\n",
       "      <td>8</td>\n",
       "      <td>1.0</td>\n",
       "      <td>1.0</td>\n",
       "      <td>0</td>\n",
       "      <td>1</td>\n",
       "      <td>49.0</td>\n",
       "      <td>30927</td>\n",
       "      <td>2</td>\n",
       "      <td>0</td>\n",
       "      <td>0</td>\n",
       "      <td>1</td>\n",
       "      <td>0</td>\n",
       "    </tr>\n",
       "    <tr>\n",
       "      <th>345</th>\n",
       "      <td>2020-09-09</td>\n",
       "      <td>86e37e621fbf064a32eaddecfbbcc43a86b64b20811f00...</td>\n",
       "      <td>0820613001</td>\n",
       "      <td>2132</td>\n",
       "      <td>16923</td>\n",
       "      <td>36313</td>\n",
       "      <td>6</td>\n",
       "      <td>0</td>\n",
       "      <td>0</td>\n",
       "      <td>4</td>\n",
       "      <td>3</td>\n",
       "      <td>2</td>\n",
       "      <td>136</td>\n",
       "      <td>0</td>\n",
       "      <td>0</td>\n",
       "      <td>21</td>\n",
       "      <td>3</td>\n",
       "      <td>0.0</td>\n",
       "      <td>0.0</td>\n",
       "      <td>0</td>\n",
       "      <td>0</td>\n",
       "      <td>34.0</td>\n",
       "      <td>284419</td>\n",
       "      <td>5</td>\n",
       "      <td>0</td>\n",
       "      <td>0</td>\n",
       "      <td>1</td>\n",
       "      <td>0</td>\n",
       "    </tr>\n",
       "    <tr>\n",
       "      <th>433</th>\n",
       "      <td>2020-09-09</td>\n",
       "      <td>86e37e621fbf064a32eaddecfbbcc43a86b64b20811f00...</td>\n",
       "      <td>0456163087</td>\n",
       "      <td>2132</td>\n",
       "      <td>691</td>\n",
       "      <td>867</td>\n",
       "      <td>14</td>\n",
       "      <td>0</td>\n",
       "      <td>0</td>\n",
       "      <td>4</td>\n",
       "      <td>3</td>\n",
       "      <td>8</td>\n",
       "      <td>0</td>\n",
       "      <td>0</td>\n",
       "      <td>0</td>\n",
       "      <td>0</td>\n",
       "      <td>0</td>\n",
       "      <td>0.0</td>\n",
       "      <td>0.0</td>\n",
       "      <td>0</td>\n",
       "      <td>0</td>\n",
       "      <td>34.0</td>\n",
       "      <td>284419</td>\n",
       "      <td>5</td>\n",
       "      <td>0</td>\n",
       "      <td>0</td>\n",
       "      <td>1</td>\n",
       "      <td>0</td>\n",
       "    </tr>\n",
       "    <tr>\n",
       "      <th>612</th>\n",
       "      <td>2020-09-10</td>\n",
       "      <td>ad17ed12c7dfceb9989fdbc8733eb3b4215344606d7ea2...</td>\n",
       "      <td>0863620002</td>\n",
       "      <td>2093</td>\n",
       "      <td>22702</td>\n",
       "      <td>41011</td>\n",
       "      <td>6</td>\n",
       "      <td>0</td>\n",
       "      <td>1</td>\n",
       "      <td>4</td>\n",
       "      <td>3</td>\n",
       "      <td>2</td>\n",
       "      <td>0</td>\n",
       "      <td>0</td>\n",
       "      <td>0</td>\n",
       "      <td>0</td>\n",
       "      <td>0</td>\n",
       "      <td>0.0</td>\n",
       "      <td>0.0</td>\n",
       "      <td>0</td>\n",
       "      <td>0</td>\n",
       "      <td>55.0</td>\n",
       "      <td>170664</td>\n",
       "      <td>4</td>\n",
       "      <td>0</td>\n",
       "      <td>0</td>\n",
       "      <td>1</td>\n",
       "      <td>0</td>\n",
       "    </tr>\n",
       "  </tbody>\n",
       "</table>\n",
       "</div>"
      ],
      "text/plain": [
       "         t_dat                                        customer_id  article_id  \\\n",
       "143 2020-09-12  250f3b498d9db02c2e63ff0a51d8891b0ae77e2bdf62e0...  0599580038   \n",
       "149 2020-09-12  250f3b498d9db02c2e63ff0a51d8891b0ae77e2bdf62e0...  0806225008   \n",
       "345 2020-09-09  86e37e621fbf064a32eaddecfbbcc43a86b64b20811f00...  0820613001   \n",
       "433 2020-09-09  86e37e621fbf064a32eaddecfbbcc43a86b64b20811f00...  0456163087   \n",
       "612 2020-09-10  ad17ed12c7dfceb9989fdbc8733eb3b4215344606d7ea2...  0863620002   \n",
       "\n",
       "     customer_id_idx  article_id_idx  product_code  product_type_no  \\\n",
       "143              151            2559          8578               20   \n",
       "149              151           14747         34507               19   \n",
       "345             2132           16923         36313                6   \n",
       "433             2132             691           867               14   \n",
       "612             2093           22702         41011                6   \n",
       "\n",
       "     product_group_no  graphical_appearance_no  colour_group_code  \\\n",
       "143                10                        0                 26   \n",
       "149                10                        0                 26   \n",
       "345                 0                        0                  4   \n",
       "433                 0                        0                  4   \n",
       "612                 0                        1                  4   \n",
       "\n",
       "     perceived_colour_value_id  perceived_colour_master_id  department_no  \\\n",
       "143                          4                           7             21   \n",
       "149                          4                           7             21   \n",
       "345                          3                           2            136   \n",
       "433                          3                           8              0   \n",
       "612                          3                           2              0   \n",
       "\n",
       "     index_code  index_group_no  section_no  garment_group_no   FN  Active  \\\n",
       "143           1               0          14                 8  1.0     1.0   \n",
       "149           1               0          14                 8  1.0     1.0   \n",
       "345           0               0          21                 3  0.0     0.0   \n",
       "433           0               0           0                 0  0.0     0.0   \n",
       "612           0               0           0                 0  0.0     0.0   \n",
       "\n",
       "     club_member_status  fashion_news_frequency   age  postal_code  \\\n",
       "143                   0                       1  49.0        30927   \n",
       "149                   0                       1  49.0        30927   \n",
       "345                   0                       0  34.0       284419   \n",
       "433                   0                       0  34.0       284419   \n",
       "612                   0                       0  55.0       170664   \n",
       "\n",
       "     example_age  t_dat_quarter_1  t_dat_quarter_2  t_dat_quarter_3  \\\n",
       "143            2                0                0                1   \n",
       "149            2                0                0                1   \n",
       "345            5                0                0                1   \n",
       "433            5                0                0                1   \n",
       "612            4                0                0                1   \n",
       "\n",
       "     t_dat_quarter_4  \n",
       "143                0  \n",
       "149                0  \n",
       "345                0  \n",
       "433                0  \n",
       "612                0  "
      ]
     },
     "execution_count": 60,
     "metadata": {},
     "output_type": "execute_result"
    }
   ],
   "source": [
    "dev_set = dev_set.copy()[~dev_set['customer_id'].isin(customers_to_remove)]\n",
    "print(dev_set.shape)\n",
    "dev_set.head()"
   ]
  },
  {
   "cell_type": "code",
   "execution_count": 61,
   "id": "88757ad3",
   "metadata": {
    "colab": {
     "base_uri": "https://localhost:8080/",
     "height": 206
    },
    "executionInfo": {
     "elapsed": 373,
     "status": "ok",
     "timestamp": 1649692194167,
     "user": {
      "displayName": "Steven George",
      "userId": "07709250839253394649"
     },
     "user_tz": -60
    },
    "id": "2dc94254",
    "outputId": "abe072b4-23f1-4c27-9b54-4f78e097e82a"
   },
   "outputs": [
    {
     "data": {
      "text/html": [
       "<div>\n",
       "<style scoped>\n",
       "    .dataframe tbody tr th:only-of-type {\n",
       "        vertical-align: middle;\n",
       "    }\n",
       "\n",
       "    .dataframe tbody tr th {\n",
       "        vertical-align: top;\n",
       "    }\n",
       "\n",
       "    .dataframe thead th {\n",
       "        text-align: right;\n",
       "    }\n",
       "</style>\n",
       "<table border=\"1\" class=\"dataframe\">\n",
       "  <thead>\n",
       "    <tr style=\"text-align: right;\">\n",
       "      <th></th>\n",
       "      <th>customer_id</th>\n",
       "      <th>article_id_idx</th>\n",
       "    </tr>\n",
       "  </thead>\n",
       "  <tbody>\n",
       "    <tr>\n",
       "      <th>0</th>\n",
       "      <td>00462904b288681a9facb555f75dd2cf4d0f730a6e0ea7...</td>\n",
       "      <td>[27260]</td>\n",
       "    </tr>\n",
       "    <tr>\n",
       "      <th>1</th>\n",
       "      <td>0054c50274d19af58d53ef3ce0c004bea446c80bd51cf2...</td>\n",
       "      <td>[10447, 10779, 1903]</td>\n",
       "    </tr>\n",
       "    <tr>\n",
       "      <th>2</th>\n",
       "      <td>00639e775b90554156986100685c4d408723c77e411e37...</td>\n",
       "      <td>[26236, 26236, 26239]</td>\n",
       "    </tr>\n",
       "    <tr>\n",
       "      <th>3</th>\n",
       "      <td>00798bd464457d23d6af401715fe32d5c676ad9ee4010d...</td>\n",
       "      <td>[28006]</td>\n",
       "    </tr>\n",
       "    <tr>\n",
       "      <th>4</th>\n",
       "      <td>0099238196d8f71659fceaa115b36e400398bcfc169b5f...</td>\n",
       "      <td>[616, 5368, 5368, 25350, 25350, 23305, 23305, ...</td>\n",
       "    </tr>\n",
       "  </tbody>\n",
       "</table>\n",
       "</div>"
      ],
      "text/plain": [
       "                                         customer_id  \\\n",
       "0  00462904b288681a9facb555f75dd2cf4d0f730a6e0ea7...   \n",
       "1  0054c50274d19af58d53ef3ce0c004bea446c80bd51cf2...   \n",
       "2  00639e775b90554156986100685c4d408723c77e411e37...   \n",
       "3  00798bd464457d23d6af401715fe32d5c676ad9ee4010d...   \n",
       "4  0099238196d8f71659fceaa115b36e400398bcfc169b5f...   \n",
       "\n",
       "                                      article_id_idx  \n",
       "0                                            [27260]  \n",
       "1                               [10447, 10779, 1903]  \n",
       "2                              [26236, 26236, 26239]  \n",
       "3                                            [28006]  \n",
       "4  [616, 5368, 5368, 25350, 25350, 23305, 23305, ...  "
      ]
     },
     "execution_count": 61,
     "metadata": {},
     "output_type": "execute_result"
    }
   ],
   "source": [
    "dev_set_by_customer = dev_set.groupby('customer_id').apply(lambda x: list(x['article_id_idx'])).reset_index().rename(columns={0: 'article_id_idx'})\n",
    "dev_set_by_customer.head()"
   ]
  },
  {
   "cell_type": "code",
   "execution_count": 62,
   "id": "3bfe9189",
   "metadata": {
    "executionInfo": {
     "elapsed": 11,
     "status": "ok",
     "timestamp": 1649692194168,
     "user": {
      "displayName": "Steven George",
      "userId": "07709250839253394649"
     },
     "user_tz": -60
    },
    "id": "9604e4da"
   },
   "outputs": [],
   "source": [
    "customer_id_idx_ordered = dev_set_by_customer['customer_id'].map(customer_id_to_idx).tolist()"
   ]
  },
  {
   "cell_type": "code",
   "execution_count": 63,
   "id": "82315e07",
   "metadata": {
    "executionInfo": {
     "elapsed": 10,
     "status": "ok",
     "timestamp": 1649692194168,
     "user": {
      "displayName": "Steven George",
      "userId": "07709250839253394649"
     },
     "user_tz": -60
    },
    "id": "1d4971f2"
   },
   "outputs": [],
   "source": [
    "dev_actuals = dev_set_by_customer['article_id_idx'].to_list()"
   ]
  },
  {
   "cell_type": "markdown",
   "id": "86eb5c7a",
   "metadata": {
    "id": "6e038b9c"
   },
   "source": [
    "### Format data"
   ]
  },
  {
   "cell_type": "markdown",
   "id": "02c5fd31",
   "metadata": {
    "id": "73287567"
   },
   "source": [
    "Since all the users in the test said are included in training we utilise the full training set."
   ]
  },
  {
   "cell_type": "code",
   "execution_count": 64,
   "id": "d7439901",
   "metadata": {
    "colab": {
     "base_uri": "https://localhost:8080/",
     "height": 357
    },
    "executionInfo": {
     "elapsed": 12,
     "status": "ok",
     "timestamp": 1649692195784,
     "user": {
      "displayName": "Steven George",
      "userId": "07709250839253394649"
     },
     "user_tz": -60
    },
    "id": "9c517bac",
    "outputId": "b7cb4d1c-3d38-4e0e-fbb9-117e37ecc1e1"
   },
   "outputs": [
    {
     "data": {
      "text/html": [
       "<div>\n",
       "<style scoped>\n",
       "    .dataframe tbody tr th:only-of-type {\n",
       "        vertical-align: middle;\n",
       "    }\n",
       "\n",
       "    .dataframe tbody tr th {\n",
       "        vertical-align: top;\n",
       "    }\n",
       "\n",
       "    .dataframe thead th {\n",
       "        text-align: right;\n",
       "    }\n",
       "</style>\n",
       "<table border=\"1\" class=\"dataframe\">\n",
       "  <thead>\n",
       "    <tr style=\"text-align: right;\">\n",
       "      <th></th>\n",
       "      <th>t_dat</th>\n",
       "      <th>customer_id</th>\n",
       "      <th>article_id</th>\n",
       "      <th>customer_id_idx</th>\n",
       "      <th>article_id_idx</th>\n",
       "      <th>product_code</th>\n",
       "      <th>product_type_no</th>\n",
       "      <th>product_group_no</th>\n",
       "      <th>graphical_appearance_no</th>\n",
       "      <th>colour_group_code</th>\n",
       "      <th>perceived_colour_value_id</th>\n",
       "      <th>perceived_colour_master_id</th>\n",
       "      <th>department_no</th>\n",
       "      <th>index_code</th>\n",
       "      <th>index_group_no</th>\n",
       "      <th>section_no</th>\n",
       "      <th>garment_group_no</th>\n",
       "      <th>FN</th>\n",
       "      <th>Active</th>\n",
       "      <th>club_member_status</th>\n",
       "      <th>fashion_news_frequency</th>\n",
       "      <th>age</th>\n",
       "      <th>postal_code</th>\n",
       "      <th>example_age</th>\n",
       "      <th>t_dat_quarter_1</th>\n",
       "      <th>t_dat_quarter_2</th>\n",
       "      <th>t_dat_quarter_3</th>\n",
       "      <th>t_dat_quarter_4</th>\n",
       "    </tr>\n",
       "  </thead>\n",
       "  <tbody>\n",
       "    <tr>\n",
       "      <th>0</th>\n",
       "      <td>2018-09-20</td>\n",
       "      <td>02d796ea767fa2e94fc6228fe70d8af1a570da973c32f7...</td>\n",
       "      <td>0564358010</td>\n",
       "      <td>0</td>\n",
       "      <td>1810</td>\n",
       "      <td>5169</td>\n",
       "      <td>5</td>\n",
       "      <td>0</td>\n",
       "      <td>3</td>\n",
       "      <td>7</td>\n",
       "      <td>2</td>\n",
       "      <td>3</td>\n",
       "      <td>70</td>\n",
       "      <td>3</td>\n",
       "      <td>2</td>\n",
       "      <td>27</td>\n",
       "      <td>9</td>\n",
       "      <td>0.0</td>\n",
       "      <td>0.0</td>\n",
       "      <td>0</td>\n",
       "      <td>0</td>\n",
       "      <td>46.0</td>\n",
       "      <td>13518</td>\n",
       "      <td>725</td>\n",
       "      <td>0</td>\n",
       "      <td>0</td>\n",
       "      <td>1</td>\n",
       "      <td>0</td>\n",
       "    </tr>\n",
       "    <tr>\n",
       "      <th>1</th>\n",
       "      <td>2018-09-20</td>\n",
       "      <td>02d796ea767fa2e94fc6228fe70d8af1a570da973c32f7...</td>\n",
       "      <td>0575347003</td>\n",
       "      <td>0</td>\n",
       "      <td>2100</td>\n",
       "      <td>6223</td>\n",
       "      <td>3</td>\n",
       "      <td>2</td>\n",
       "      <td>0</td>\n",
       "      <td>0</td>\n",
       "      <td>0</td>\n",
       "      <td>0</td>\n",
       "      <td>66</td>\n",
       "      <td>3</td>\n",
       "      <td>2</td>\n",
       "      <td>4</td>\n",
       "      <td>2</td>\n",
       "      <td>0.0</td>\n",
       "      <td>0.0</td>\n",
       "      <td>0</td>\n",
       "      <td>0</td>\n",
       "      <td>46.0</td>\n",
       "      <td>13518</td>\n",
       "      <td>725</td>\n",
       "      <td>0</td>\n",
       "      <td>0</td>\n",
       "      <td>1</td>\n",
       "      <td>0</td>\n",
       "    </tr>\n",
       "    <tr>\n",
       "      <th>2</th>\n",
       "      <td>2019-11-24</td>\n",
       "      <td>02d796ea767fa2e94fc6228fe70d8af1a570da973c32f7...</td>\n",
       "      <td>0562245001</td>\n",
       "      <td>0</td>\n",
       "      <td>1722</td>\n",
       "      <td>4956</td>\n",
       "      <td>7</td>\n",
       "      <td>3</td>\n",
       "      <td>0</td>\n",
       "      <td>0</td>\n",
       "      <td>0</td>\n",
       "      <td>0</td>\n",
       "      <td>48</td>\n",
       "      <td>0</td>\n",
       "      <td>0</td>\n",
       "      <td>21</td>\n",
       "      <td>11</td>\n",
       "      <td>0.0</td>\n",
       "      <td>0.0</td>\n",
       "      <td>0</td>\n",
       "      <td>0</td>\n",
       "      <td>46.0</td>\n",
       "      <td>13518</td>\n",
       "      <td>295</td>\n",
       "      <td>0</td>\n",
       "      <td>0</td>\n",
       "      <td>0</td>\n",
       "      <td>1</td>\n",
       "    </tr>\n",
       "    <tr>\n",
       "      <th>3</th>\n",
       "      <td>2019-11-24</td>\n",
       "      <td>02d796ea767fa2e94fc6228fe70d8af1a570da973c32f7...</td>\n",
       "      <td>0664405002</td>\n",
       "      <td>0</td>\n",
       "      <td>4125</td>\n",
       "      <td>16466</td>\n",
       "      <td>17</td>\n",
       "      <td>4</td>\n",
       "      <td>0</td>\n",
       "      <td>0</td>\n",
       "      <td>0</td>\n",
       "      <td>0</td>\n",
       "      <td>19</td>\n",
       "      <td>4</td>\n",
       "      <td>0</td>\n",
       "      <td>12</td>\n",
       "      <td>4</td>\n",
       "      <td>0.0</td>\n",
       "      <td>0.0</td>\n",
       "      <td>0</td>\n",
       "      <td>0</td>\n",
       "      <td>46.0</td>\n",
       "      <td>13518</td>\n",
       "      <td>295</td>\n",
       "      <td>0</td>\n",
       "      <td>0</td>\n",
       "      <td>0</td>\n",
       "      <td>1</td>\n",
       "    </tr>\n",
       "    <tr>\n",
       "      <th>4</th>\n",
       "      <td>2019-12-20</td>\n",
       "      <td>02d796ea767fa2e94fc6228fe70d8af1a570da973c32f7...</td>\n",
       "      <td>0664405002</td>\n",
       "      <td>0</td>\n",
       "      <td>4125</td>\n",
       "      <td>16466</td>\n",
       "      <td>17</td>\n",
       "      <td>4</td>\n",
       "      <td>0</td>\n",
       "      <td>0</td>\n",
       "      <td>0</td>\n",
       "      <td>0</td>\n",
       "      <td>19</td>\n",
       "      <td>4</td>\n",
       "      <td>0</td>\n",
       "      <td>12</td>\n",
       "      <td>4</td>\n",
       "      <td>0.0</td>\n",
       "      <td>0.0</td>\n",
       "      <td>0</td>\n",
       "      <td>0</td>\n",
       "      <td>46.0</td>\n",
       "      <td>13518</td>\n",
       "      <td>269</td>\n",
       "      <td>0</td>\n",
       "      <td>0</td>\n",
       "      <td>0</td>\n",
       "      <td>1</td>\n",
       "    </tr>\n",
       "  </tbody>\n",
       "</table>\n",
       "</div>"
      ],
      "text/plain": [
       "       t_dat                                        customer_id  article_id  \\\n",
       "0 2018-09-20  02d796ea767fa2e94fc6228fe70d8af1a570da973c32f7...  0564358010   \n",
       "1 2018-09-20  02d796ea767fa2e94fc6228fe70d8af1a570da973c32f7...  0575347003   \n",
       "2 2019-11-24  02d796ea767fa2e94fc6228fe70d8af1a570da973c32f7...  0562245001   \n",
       "3 2019-11-24  02d796ea767fa2e94fc6228fe70d8af1a570da973c32f7...  0664405002   \n",
       "4 2019-12-20  02d796ea767fa2e94fc6228fe70d8af1a570da973c32f7...  0664405002   \n",
       "\n",
       "   customer_id_idx  article_id_idx  product_code  product_type_no  \\\n",
       "0                0            1810          5169                5   \n",
       "1                0            2100          6223                3   \n",
       "2                0            1722          4956                7   \n",
       "3                0            4125         16466               17   \n",
       "4                0            4125         16466               17   \n",
       "\n",
       "   product_group_no  graphical_appearance_no  colour_group_code  \\\n",
       "0                 0                        3                  7   \n",
       "1                 2                        0                  0   \n",
       "2                 3                        0                  0   \n",
       "3                 4                        0                  0   \n",
       "4                 4                        0                  0   \n",
       "\n",
       "   perceived_colour_value_id  perceived_colour_master_id  department_no  \\\n",
       "0                          2                           3             70   \n",
       "1                          0                           0             66   \n",
       "2                          0                           0             48   \n",
       "3                          0                           0             19   \n",
       "4                          0                           0             19   \n",
       "\n",
       "   index_code  index_group_no  section_no  garment_group_no   FN  Active  \\\n",
       "0           3               2          27                 9  0.0     0.0   \n",
       "1           3               2           4                 2  0.0     0.0   \n",
       "2           0               0          21                11  0.0     0.0   \n",
       "3           4               0          12                 4  0.0     0.0   \n",
       "4           4               0          12                 4  0.0     0.0   \n",
       "\n",
       "   club_member_status  fashion_news_frequency   age  postal_code  example_age  \\\n",
       "0                   0                       0  46.0        13518          725   \n",
       "1                   0                       0  46.0        13518          725   \n",
       "2                   0                       0  46.0        13518          295   \n",
       "3                   0                       0  46.0        13518          295   \n",
       "4                   0                       0  46.0        13518          269   \n",
       "\n",
       "   t_dat_quarter_1  t_dat_quarter_2  t_dat_quarter_3  t_dat_quarter_4  \n",
       "0                0                0                1                0  \n",
       "1                0                0                1                0  \n",
       "2                0                0                0                1  \n",
       "3                0                0                0                1  \n",
       "4                0                0                0                1  "
      ]
     },
     "execution_count": 64,
     "metadata": {},
     "output_type": "execute_result"
    }
   ],
   "source": [
    "train_set.head()"
   ]
  },
  {
   "cell_type": "code",
   "execution_count": 65,
   "id": "98015daa",
   "metadata": {
    "colab": {
     "base_uri": "https://localhost:8080/"
    },
    "executionInfo": {
     "elapsed": 13,
     "status": "ok",
     "timestamp": 1649692195785,
     "user": {
      "displayName": "Steven George",
      "userId": "07709250839253394649"
     },
     "user_tz": -60
    },
    "id": "8ed93c5a",
    "outputId": "b94b7ea0-e645-4910-958e-3c02d3d74c5a"
   },
   "outputs": [
    {
     "data": {
      "text/plain": [
       "Timestamp('2020-09-07 00:00:00')"
      ]
     },
     "execution_count": 65,
     "metadata": {},
     "output_type": "execute_result"
    }
   ],
   "source": [
    "endm1"
   ]
  },
  {
   "cell_type": "code",
   "execution_count": 66,
   "id": "a6032b62",
   "metadata": {
    "executionInfo": {
     "elapsed": 8,
     "status": "ok",
     "timestamp": 1649692195785,
     "user": {
      "displayName": "Steven George",
      "userId": "07709250839253394649"
     },
     "user_tz": -60
    },
    "id": "3b8a57b0"
   },
   "outputs": [],
   "source": [
    "# # Latest transactions only\n",
    "# train_set = train_set.copy()[train_set['t_dat'] > endm1 - datetime.timedelta(days=7*52)]"
   ]
  },
  {
   "cell_type": "code",
   "execution_count": 67,
   "id": "8f6b1538",
   "metadata": {},
   "outputs": [
    {
     "data": {
      "text/plain": [
       "(386856, 28)"
      ]
     },
     "execution_count": 67,
     "metadata": {},
     "output_type": "execute_result"
    }
   ],
   "source": [
    "train_set.shape"
   ]
  },
  {
   "cell_type": "code",
   "execution_count": 68,
   "id": "717c8212",
   "metadata": {
    "colab": {
     "base_uri": "https://localhost:8080/"
    },
    "executionInfo": {
     "elapsed": 293,
     "status": "ok",
     "timestamp": 1649692196070,
     "user": {
      "displayName": "Steven George",
      "userId": "07709250839253394649"
     },
     "user_tz": -60
    },
    "id": "0eff3e25",
    "outputId": "da317eaa-6289-4609-ed1d-be1b388641dd"
   },
   "outputs": [
    {
     "data": {
      "text/plain": [
       "(386856, 28)"
      ]
     },
     "execution_count": 68,
     "metadata": {},
     "output_type": "execute_result"
    }
   ],
   "source": [
    "# train_set_processed = train_set.copy().drop(columns=['t_dat']).drop_duplicates()\n",
    "train_set_processed = train_set.copy()\n",
    "train_set_processed.shape"
   ]
  },
  {
   "cell_type": "code",
   "execution_count": 69,
   "id": "82c39a52",
   "metadata": {
    "colab": {
     "base_uri": "https://localhost:8080/",
     "height": 270
    },
    "executionInfo": {
     "elapsed": 5,
     "status": "ok",
     "timestamp": 1649692196070,
     "user": {
      "displayName": "Steven George",
      "userId": "07709250839253394649"
     },
     "user_tz": -60
    },
    "id": "565616fc",
    "outputId": "918c941d-dc6a-484d-dd52-ed62a2e65b58"
   },
   "outputs": [
    {
     "data": {
      "text/html": [
       "<div>\n",
       "<style scoped>\n",
       "    .dataframe tbody tr th:only-of-type {\n",
       "        vertical-align: middle;\n",
       "    }\n",
       "\n",
       "    .dataframe tbody tr th {\n",
       "        vertical-align: top;\n",
       "    }\n",
       "\n",
       "    .dataframe thead th {\n",
       "        text-align: right;\n",
       "    }\n",
       "</style>\n",
       "<table border=\"1\" class=\"dataframe\">\n",
       "  <thead>\n",
       "    <tr style=\"text-align: right;\">\n",
       "      <th></th>\n",
       "      <th>t_dat</th>\n",
       "      <th>customer_id</th>\n",
       "      <th>article_id</th>\n",
       "      <th>customer_id_idx</th>\n",
       "      <th>article_id_idx</th>\n",
       "      <th>product_code</th>\n",
       "      <th>product_type_no</th>\n",
       "      <th>product_group_no</th>\n",
       "      <th>graphical_appearance_no</th>\n",
       "      <th>colour_group_code</th>\n",
       "      <th>perceived_colour_value_id</th>\n",
       "      <th>perceived_colour_master_id</th>\n",
       "      <th>department_no</th>\n",
       "      <th>index_code</th>\n",
       "      <th>index_group_no</th>\n",
       "      <th>section_no</th>\n",
       "      <th>garment_group_no</th>\n",
       "      <th>FN</th>\n",
       "      <th>Active</th>\n",
       "      <th>club_member_status</th>\n",
       "      <th>fashion_news_frequency</th>\n",
       "      <th>age</th>\n",
       "      <th>postal_code</th>\n",
       "      <th>example_age</th>\n",
       "      <th>t_dat_quarter_1</th>\n",
       "      <th>t_dat_quarter_2</th>\n",
       "      <th>t_dat_quarter_3</th>\n",
       "      <th>t_dat_quarter_4</th>\n",
       "    </tr>\n",
       "  </thead>\n",
       "  <tbody>\n",
       "    <tr>\n",
       "      <th>0</th>\n",
       "      <td>2018-09-20</td>\n",
       "      <td>02d796ea767fa2e94fc6228fe70d8af1a570da973c32f7...</td>\n",
       "      <td>0564358010</td>\n",
       "      <td>0</td>\n",
       "      <td>1810</td>\n",
       "      <td>5169</td>\n",
       "      <td>5</td>\n",
       "      <td>0</td>\n",
       "      <td>3</td>\n",
       "      <td>7</td>\n",
       "      <td>2</td>\n",
       "      <td>3</td>\n",
       "      <td>70</td>\n",
       "      <td>3</td>\n",
       "      <td>2</td>\n",
       "      <td>27</td>\n",
       "      <td>9</td>\n",
       "      <td>0.0</td>\n",
       "      <td>0.0</td>\n",
       "      <td>0</td>\n",
       "      <td>0</td>\n",
       "      <td>46.0</td>\n",
       "      <td>13518</td>\n",
       "      <td>725</td>\n",
       "      <td>0</td>\n",
       "      <td>0</td>\n",
       "      <td>1</td>\n",
       "      <td>0</td>\n",
       "    </tr>\n",
       "    <tr>\n",
       "      <th>1</th>\n",
       "      <td>2018-09-20</td>\n",
       "      <td>02d796ea767fa2e94fc6228fe70d8af1a570da973c32f7...</td>\n",
       "      <td>0575347003</td>\n",
       "      <td>0</td>\n",
       "      <td>2100</td>\n",
       "      <td>6223</td>\n",
       "      <td>3</td>\n",
       "      <td>2</td>\n",
       "      <td>0</td>\n",
       "      <td>0</td>\n",
       "      <td>0</td>\n",
       "      <td>0</td>\n",
       "      <td>66</td>\n",
       "      <td>3</td>\n",
       "      <td>2</td>\n",
       "      <td>4</td>\n",
       "      <td>2</td>\n",
       "      <td>0.0</td>\n",
       "      <td>0.0</td>\n",
       "      <td>0</td>\n",
       "      <td>0</td>\n",
       "      <td>46.0</td>\n",
       "      <td>13518</td>\n",
       "      <td>725</td>\n",
       "      <td>0</td>\n",
       "      <td>0</td>\n",
       "      <td>1</td>\n",
       "      <td>0</td>\n",
       "    </tr>\n",
       "    <tr>\n",
       "      <th>2</th>\n",
       "      <td>2019-11-24</td>\n",
       "      <td>02d796ea767fa2e94fc6228fe70d8af1a570da973c32f7...</td>\n",
       "      <td>0562245001</td>\n",
       "      <td>0</td>\n",
       "      <td>1722</td>\n",
       "      <td>4956</td>\n",
       "      <td>7</td>\n",
       "      <td>3</td>\n",
       "      <td>0</td>\n",
       "      <td>0</td>\n",
       "      <td>0</td>\n",
       "      <td>0</td>\n",
       "      <td>48</td>\n",
       "      <td>0</td>\n",
       "      <td>0</td>\n",
       "      <td>21</td>\n",
       "      <td>11</td>\n",
       "      <td>0.0</td>\n",
       "      <td>0.0</td>\n",
       "      <td>0</td>\n",
       "      <td>0</td>\n",
       "      <td>46.0</td>\n",
       "      <td>13518</td>\n",
       "      <td>295</td>\n",
       "      <td>0</td>\n",
       "      <td>0</td>\n",
       "      <td>0</td>\n",
       "      <td>1</td>\n",
       "    </tr>\n",
       "    <tr>\n",
       "      <th>3</th>\n",
       "      <td>2019-11-24</td>\n",
       "      <td>02d796ea767fa2e94fc6228fe70d8af1a570da973c32f7...</td>\n",
       "      <td>0664405002</td>\n",
       "      <td>0</td>\n",
       "      <td>4125</td>\n",
       "      <td>16466</td>\n",
       "      <td>17</td>\n",
       "      <td>4</td>\n",
       "      <td>0</td>\n",
       "      <td>0</td>\n",
       "      <td>0</td>\n",
       "      <td>0</td>\n",
       "      <td>19</td>\n",
       "      <td>4</td>\n",
       "      <td>0</td>\n",
       "      <td>12</td>\n",
       "      <td>4</td>\n",
       "      <td>0.0</td>\n",
       "      <td>0.0</td>\n",
       "      <td>0</td>\n",
       "      <td>0</td>\n",
       "      <td>46.0</td>\n",
       "      <td>13518</td>\n",
       "      <td>295</td>\n",
       "      <td>0</td>\n",
       "      <td>0</td>\n",
       "      <td>0</td>\n",
       "      <td>1</td>\n",
       "    </tr>\n",
       "    <tr>\n",
       "      <th>4</th>\n",
       "      <td>2019-12-20</td>\n",
       "      <td>02d796ea767fa2e94fc6228fe70d8af1a570da973c32f7...</td>\n",
       "      <td>0664405002</td>\n",
       "      <td>0</td>\n",
       "      <td>4125</td>\n",
       "      <td>16466</td>\n",
       "      <td>17</td>\n",
       "      <td>4</td>\n",
       "      <td>0</td>\n",
       "      <td>0</td>\n",
       "      <td>0</td>\n",
       "      <td>0</td>\n",
       "      <td>19</td>\n",
       "      <td>4</td>\n",
       "      <td>0</td>\n",
       "      <td>12</td>\n",
       "      <td>4</td>\n",
       "      <td>0.0</td>\n",
       "      <td>0.0</td>\n",
       "      <td>0</td>\n",
       "      <td>0</td>\n",
       "      <td>46.0</td>\n",
       "      <td>13518</td>\n",
       "      <td>269</td>\n",
       "      <td>0</td>\n",
       "      <td>0</td>\n",
       "      <td>0</td>\n",
       "      <td>1</td>\n",
       "    </tr>\n",
       "  </tbody>\n",
       "</table>\n",
       "</div>"
      ],
      "text/plain": [
       "       t_dat                                        customer_id  article_id  \\\n",
       "0 2018-09-20  02d796ea767fa2e94fc6228fe70d8af1a570da973c32f7...  0564358010   \n",
       "1 2018-09-20  02d796ea767fa2e94fc6228fe70d8af1a570da973c32f7...  0575347003   \n",
       "2 2019-11-24  02d796ea767fa2e94fc6228fe70d8af1a570da973c32f7...  0562245001   \n",
       "3 2019-11-24  02d796ea767fa2e94fc6228fe70d8af1a570da973c32f7...  0664405002   \n",
       "4 2019-12-20  02d796ea767fa2e94fc6228fe70d8af1a570da973c32f7...  0664405002   \n",
       "\n",
       "   customer_id_idx  article_id_idx  product_code  product_type_no  \\\n",
       "0                0            1810          5169                5   \n",
       "1                0            2100          6223                3   \n",
       "2                0            1722          4956                7   \n",
       "3                0            4125         16466               17   \n",
       "4                0            4125         16466               17   \n",
       "\n",
       "   product_group_no  graphical_appearance_no  colour_group_code  \\\n",
       "0                 0                        3                  7   \n",
       "1                 2                        0                  0   \n",
       "2                 3                        0                  0   \n",
       "3                 4                        0                  0   \n",
       "4                 4                        0                  0   \n",
       "\n",
       "   perceived_colour_value_id  perceived_colour_master_id  department_no  \\\n",
       "0                          2                           3             70   \n",
       "1                          0                           0             66   \n",
       "2                          0                           0             48   \n",
       "3                          0                           0             19   \n",
       "4                          0                           0             19   \n",
       "\n",
       "   index_code  index_group_no  section_no  garment_group_no   FN  Active  \\\n",
       "0           3               2          27                 9  0.0     0.0   \n",
       "1           3               2           4                 2  0.0     0.0   \n",
       "2           0               0          21                11  0.0     0.0   \n",
       "3           4               0          12                 4  0.0     0.0   \n",
       "4           4               0          12                 4  0.0     0.0   \n",
       "\n",
       "   club_member_status  fashion_news_frequency   age  postal_code  example_age  \\\n",
       "0                   0                       0  46.0        13518          725   \n",
       "1                   0                       0  46.0        13518          725   \n",
       "2                   0                       0  46.0        13518          295   \n",
       "3                   0                       0  46.0        13518          295   \n",
       "4                   0                       0  46.0        13518          269   \n",
       "\n",
       "   t_dat_quarter_1  t_dat_quarter_2  t_dat_quarter_3  t_dat_quarter_4  \n",
       "0                0                0                1                0  \n",
       "1                0                0                1                0  \n",
       "2                0                0                0                1  \n",
       "3                0                0                0                1  \n",
       "4                0                0                0                1  "
      ]
     },
     "execution_count": 69,
     "metadata": {},
     "output_type": "execute_result"
    }
   ],
   "source": [
    "train_set_processed.head()"
   ]
  },
  {
   "cell_type": "markdown",
   "id": "c0279774",
   "metadata": {
    "id": "b229801d"
   },
   "source": [
    "Create another dev split to measure classification loss during training"
   ]
  },
  {
   "cell_type": "code",
   "execution_count": 70,
   "id": "ee4c04e8",
   "metadata": {
    "executionInfo": {
     "elapsed": 598,
     "status": "ok",
     "timestamp": 1649692213418,
     "user": {
      "displayName": "Steven George",
      "userId": "07709250839253394649"
     },
     "user_tz": -60
    },
    "id": "e5a9bc13"
   },
   "outputs": [],
   "source": [
    "from sklearn.model_selection import train_test_split"
   ]
  },
  {
   "cell_type": "code",
   "execution_count": 71,
   "id": "a63a2263",
   "metadata": {},
   "outputs": [],
   "source": [
    "training_data_full = train_set_processed.copy()\n",
    "del train_set_processed"
   ]
  },
  {
   "cell_type": "code",
   "execution_count": 72,
   "id": "b858ac13",
   "metadata": {
    "executionInfo": {
     "elapsed": 3853,
     "status": "ok",
     "timestamp": 1649692217266,
     "user": {
      "displayName": "Steven George",
      "userId": "07709250839253394649"
     },
     "user_tz": -60
    },
    "id": "ef4c5a9a"
   },
   "outputs": [],
   "source": [
    "training_data_full, dev_data_full = train_test_split(training_data_full, test_size=0.3)"
   ]
  },
  {
   "cell_type": "code",
   "execution_count": 73,
   "id": "a6baa135",
   "metadata": {},
   "outputs": [],
   "source": [
    "from sklearn.impute import SimpleImputer"
   ]
  },
  {
   "cell_type": "code",
   "execution_count": 74,
   "id": "c396dbfc",
   "metadata": {},
   "outputs": [],
   "source": [
    "imp_mean = SimpleImputer()"
   ]
  },
  {
   "cell_type": "code",
   "execution_count": 75,
   "id": "f119c4ab",
   "metadata": {},
   "outputs": [
    {
     "data": {
      "text/plain": [
       "SimpleImputer()"
      ]
     },
     "execution_count": 75,
     "metadata": {},
     "output_type": "execute_result"
    }
   ],
   "source": [
    "imp_mean.fit(training_data_full['age'].values.reshape(-1, 1))"
   ]
  },
  {
   "cell_type": "code",
   "execution_count": 76,
   "id": "cb3cfed7",
   "metadata": {},
   "outputs": [],
   "source": [
    "training_data_full['age'] = imp_mean.transform(training_data_full['age'].values.reshape(-1, 1))\n",
    "dev_data_full['age'] = imp_mean.transform(dev_data_full['age'].values.reshape(-1, 1))"
   ]
  },
  {
   "cell_type": "code",
   "execution_count": 77,
   "id": "f864135b",
   "metadata": {},
   "outputs": [],
   "source": [
    "from sklearn.preprocessing import MinMaxScaler"
   ]
  },
  {
   "cell_type": "code",
   "execution_count": 78,
   "id": "c2e3e326",
   "metadata": {},
   "outputs": [],
   "source": [
    "scaler = MinMaxScaler()"
   ]
  },
  {
   "cell_type": "code",
   "execution_count": 79,
   "id": "02f84c5d",
   "metadata": {},
   "outputs": [
    {
     "data": {
      "text/plain": [
       "MinMaxScaler()"
      ]
     },
     "execution_count": 79,
     "metadata": {},
     "output_type": "execute_result"
    }
   ],
   "source": [
    "scaler.fit(training_data_full[['age', 'example_age']])"
   ]
  },
  {
   "cell_type": "code",
   "execution_count": 80,
   "id": "7b7dede5",
   "metadata": {},
   "outputs": [],
   "source": [
    "training_data_full[['age', 'example_age']] = scaler.transform(training_data_full[['age', 'example_age']])\n",
    "dev_data_full[['age', 'example_age']] = scaler.transform(dev_data_full[['age', 'example_age']])"
   ]
  },
  {
   "cell_type": "code",
   "execution_count": 81,
   "id": "c7bab206",
   "metadata": {},
   "outputs": [
    {
     "data": {
      "text/html": [
       "<div>\n",
       "<style scoped>\n",
       "    .dataframe tbody tr th:only-of-type {\n",
       "        vertical-align: middle;\n",
       "    }\n",
       "\n",
       "    .dataframe tbody tr th {\n",
       "        vertical-align: top;\n",
       "    }\n",
       "\n",
       "    .dataframe thead th {\n",
       "        text-align: right;\n",
       "    }\n",
       "</style>\n",
       "<table border=\"1\" class=\"dataframe\">\n",
       "  <thead>\n",
       "    <tr style=\"text-align: right;\">\n",
       "      <th></th>\n",
       "      <th>t_dat</th>\n",
       "      <th>customer_id</th>\n",
       "      <th>article_id</th>\n",
       "      <th>customer_id_idx</th>\n",
       "      <th>article_id_idx</th>\n",
       "      <th>product_code</th>\n",
       "      <th>product_type_no</th>\n",
       "      <th>product_group_no</th>\n",
       "      <th>graphical_appearance_no</th>\n",
       "      <th>colour_group_code</th>\n",
       "      <th>perceived_colour_value_id</th>\n",
       "      <th>perceived_colour_master_id</th>\n",
       "      <th>department_no</th>\n",
       "      <th>index_code</th>\n",
       "      <th>index_group_no</th>\n",
       "      <th>section_no</th>\n",
       "      <th>garment_group_no</th>\n",
       "      <th>FN</th>\n",
       "      <th>Active</th>\n",
       "      <th>club_member_status</th>\n",
       "      <th>fashion_news_frequency</th>\n",
       "      <th>age</th>\n",
       "      <th>postal_code</th>\n",
       "      <th>example_age</th>\n",
       "      <th>t_dat_quarter_1</th>\n",
       "      <th>t_dat_quarter_2</th>\n",
       "      <th>t_dat_quarter_3</th>\n",
       "      <th>t_dat_quarter_4</th>\n",
       "    </tr>\n",
       "  </thead>\n",
       "  <tbody>\n",
       "    <tr>\n",
       "      <th>100780</th>\n",
       "      <td>2020-06-21</td>\n",
       "      <td>054652b71a279ee6233c6f0f5575df1ec246a399027494...</td>\n",
       "      <td>0399223033</td>\n",
       "      <td>4931</td>\n",
       "      <td>469</td>\n",
       "      <td>548</td>\n",
       "      <td>7</td>\n",
       "      <td>3</td>\n",
       "      <td>7</td>\n",
       "      <td>8</td>\n",
       "      <td>2</td>\n",
       "      <td>4</td>\n",
       "      <td>74</td>\n",
       "      <td>7</td>\n",
       "      <td>4</td>\n",
       "      <td>26</td>\n",
       "      <td>5</td>\n",
       "      <td>1.0</td>\n",
       "      <td>1.0</td>\n",
       "      <td>0</td>\n",
       "      <td>1</td>\n",
       "      <td>0.281690</td>\n",
       "      <td>21167</td>\n",
       "      <td>0.107392</td>\n",
       "      <td>0</td>\n",
       "      <td>1</td>\n",
       "      <td>0</td>\n",
       "      <td>0</td>\n",
       "    </tr>\n",
       "    <tr>\n",
       "      <th>215404</th>\n",
       "      <td>2019-09-22</td>\n",
       "      <td>34f92fee0612463cd8cf541afd096ab1a801ff9c0cb0e2...</td>\n",
       "      <td>0563519016</td>\n",
       "      <td>7247</td>\n",
       "      <td>1773</td>\n",
       "      <td>5095</td>\n",
       "      <td>5</td>\n",
       "      <td>0</td>\n",
       "      <td>0</td>\n",
       "      <td>11</td>\n",
       "      <td>0</td>\n",
       "      <td>7</td>\n",
       "      <td>0</td>\n",
       "      <td>0</td>\n",
       "      <td>0</td>\n",
       "      <td>0</td>\n",
       "      <td>0</td>\n",
       "      <td>1.0</td>\n",
       "      <td>1.0</td>\n",
       "      <td>0</td>\n",
       "      <td>1</td>\n",
       "      <td>0.549296</td>\n",
       "      <td>12290</td>\n",
       "      <td>0.488145</td>\n",
       "      <td>0</td>\n",
       "      <td>0</td>\n",
       "      <td>1</td>\n",
       "      <td>0</td>\n",
       "    </tr>\n",
       "    <tr>\n",
       "      <th>56234</th>\n",
       "      <td>2019-12-01</td>\n",
       "      <td>19e800c505e732a7e6b2f3af7f0dc09403992de6d5a00a...</td>\n",
       "      <td>0550021002</td>\n",
       "      <td>3654</td>\n",
       "      <td>1468</td>\n",
       "      <td>4048</td>\n",
       "      <td>56</td>\n",
       "      <td>4</td>\n",
       "      <td>0</td>\n",
       "      <td>15</td>\n",
       "      <td>4</td>\n",
       "      <td>10</td>\n",
       "      <td>38</td>\n",
       "      <td>4</td>\n",
       "      <td>0</td>\n",
       "      <td>6</td>\n",
       "      <td>4</td>\n",
       "      <td>1.0</td>\n",
       "      <td>1.0</td>\n",
       "      <td>0</td>\n",
       "      <td>1</td>\n",
       "      <td>0.056338</td>\n",
       "      <td>100555</td>\n",
       "      <td>0.390516</td>\n",
       "      <td>0</td>\n",
       "      <td>0</td>\n",
       "      <td>0</td>\n",
       "      <td>1</td>\n",
       "    </tr>\n",
       "    <tr>\n",
       "      <th>292749</th>\n",
       "      <td>2019-02-06</td>\n",
       "      <td>185d49abce8943f850a3e9f1cec83932ac81d522a96825...</td>\n",
       "      <td>0636420001</td>\n",
       "      <td>3620</td>\n",
       "      <td>3432</td>\n",
       "      <td>12784</td>\n",
       "      <td>23</td>\n",
       "      <td>3</td>\n",
       "      <td>2</td>\n",
       "      <td>8</td>\n",
       "      <td>0</td>\n",
       "      <td>4</td>\n",
       "      <td>120</td>\n",
       "      <td>0</td>\n",
       "      <td>0</td>\n",
       "      <td>21</td>\n",
       "      <td>15</td>\n",
       "      <td>0.0</td>\n",
       "      <td>0.0</td>\n",
       "      <td>0</td>\n",
       "      <td>0</td>\n",
       "      <td>0.647887</td>\n",
       "      <td>95694</td>\n",
       "      <td>0.806137</td>\n",
       "      <td>1</td>\n",
       "      <td>0</td>\n",
       "      <td>0</td>\n",
       "      <td>0</td>\n",
       "    </tr>\n",
       "    <tr>\n",
       "      <th>324293</th>\n",
       "      <td>2020-04-02</td>\n",
       "      <td>438db84efe382a2e0316ae08fa95e4d2e143dbd94de5b2...</td>\n",
       "      <td>0877461001</td>\n",
       "      <td>1510</td>\n",
       "      <td>24626</td>\n",
       "      <td>42636</td>\n",
       "      <td>62</td>\n",
       "      <td>0</td>\n",
       "      <td>2</td>\n",
       "      <td>41</td>\n",
       "      <td>2</td>\n",
       "      <td>15</td>\n",
       "      <td>182</td>\n",
       "      <td>0</td>\n",
       "      <td>0</td>\n",
       "      <td>28</td>\n",
       "      <td>17</td>\n",
       "      <td>1.0</td>\n",
       "      <td>1.0</td>\n",
       "      <td>0</td>\n",
       "      <td>1</td>\n",
       "      <td>0.394366</td>\n",
       "      <td>70361</td>\n",
       "      <td>0.218968</td>\n",
       "      <td>0</td>\n",
       "      <td>1</td>\n",
       "      <td>0</td>\n",
       "      <td>0</td>\n",
       "    </tr>\n",
       "  </tbody>\n",
       "</table>\n",
       "</div>"
      ],
      "text/plain": [
       "            t_dat                                        customer_id  \\\n",
       "100780 2020-06-21  054652b71a279ee6233c6f0f5575df1ec246a399027494...   \n",
       "215404 2019-09-22  34f92fee0612463cd8cf541afd096ab1a801ff9c0cb0e2...   \n",
       "56234  2019-12-01  19e800c505e732a7e6b2f3af7f0dc09403992de6d5a00a...   \n",
       "292749 2019-02-06  185d49abce8943f850a3e9f1cec83932ac81d522a96825...   \n",
       "324293 2020-04-02  438db84efe382a2e0316ae08fa95e4d2e143dbd94de5b2...   \n",
       "\n",
       "        article_id  customer_id_idx  article_id_idx  product_code  \\\n",
       "100780  0399223033             4931             469           548   \n",
       "215404  0563519016             7247            1773          5095   \n",
       "56234   0550021002             3654            1468          4048   \n",
       "292749  0636420001             3620            3432         12784   \n",
       "324293  0877461001             1510           24626         42636   \n",
       "\n",
       "        product_type_no  product_group_no  graphical_appearance_no  \\\n",
       "100780                7                 3                        7   \n",
       "215404                5                 0                        0   \n",
       "56234                56                 4                        0   \n",
       "292749               23                 3                        2   \n",
       "324293               62                 0                        2   \n",
       "\n",
       "        colour_group_code  perceived_colour_value_id  \\\n",
       "100780                  8                          2   \n",
       "215404                 11                          0   \n",
       "56234                  15                          4   \n",
       "292749                  8                          0   \n",
       "324293                 41                          2   \n",
       "\n",
       "        perceived_colour_master_id  department_no  index_code  index_group_no  \\\n",
       "100780                           4             74           7               4   \n",
       "215404                           7              0           0               0   \n",
       "56234                           10             38           4               0   \n",
       "292749                           4            120           0               0   \n",
       "324293                          15            182           0               0   \n",
       "\n",
       "        section_no  garment_group_no   FN  Active  club_member_status  \\\n",
       "100780          26                 5  1.0     1.0                   0   \n",
       "215404           0                 0  1.0     1.0                   0   \n",
       "56234            6                 4  1.0     1.0                   0   \n",
       "292749          21                15  0.0     0.0                   0   \n",
       "324293          28                17  1.0     1.0                   0   \n",
       "\n",
       "        fashion_news_frequency       age  postal_code  example_age  \\\n",
       "100780                       1  0.281690        21167     0.107392   \n",
       "215404                       1  0.549296        12290     0.488145   \n",
       "56234                        1  0.056338       100555     0.390516   \n",
       "292749                       0  0.647887        95694     0.806137   \n",
       "324293                       1  0.394366        70361     0.218968   \n",
       "\n",
       "        t_dat_quarter_1  t_dat_quarter_2  t_dat_quarter_3  t_dat_quarter_4  \n",
       "100780                0                1                0                0  \n",
       "215404                0                0                1                0  \n",
       "56234                 0                0                0                1  \n",
       "292749                1                0                0                0  \n",
       "324293                0                1                0                0  "
      ]
     },
     "execution_count": 81,
     "metadata": {},
     "output_type": "execute_result"
    }
   ],
   "source": [
    "training_data_full.head()"
   ]
  },
  {
   "cell_type": "code",
   "execution_count": 82,
   "id": "dc65eb67",
   "metadata": {},
   "outputs": [],
   "source": [
    "NUMERIC_FEATURES = [\n",
    "    'FN', \n",
    "    'Active', \n",
    "    'age', \n",
    "    'example_age', \n",
    "    't_dat_quarter_1', \n",
    "    't_dat_quarter_2', \n",
    "    't_dat_quarter_3', \n",
    "    't_dat_quarter_4'\n",
    "]"
   ]
  },
  {
   "cell_type": "code",
   "execution_count": 83,
   "id": "9d7f10cb",
   "metadata": {
    "executionInfo": {
     "elapsed": 6,
     "status": "ok",
     "timestamp": 1649692217266,
     "user": {
      "displayName": "Steven George",
      "userId": "07709250839253394649"
     },
     "user_tz": -60
    },
    "id": "f302d77d"
   },
   "outputs": [],
   "source": [
    "class PurchasesDatasetWithArticleFeatures(Dataset):\n",
    "\n",
    "    def __init__(self, df):\n",
    "        self.customer_id_idx = df['customer_id_idx'].values\n",
    "        \n",
    "        self.product_code = df['product_code'].values\n",
    "        self.product_type_no = df['product_type_no'].values\n",
    "        self.product_group_no = df['product_group_no'].values\n",
    "        self.graphical_appearance_no = df['graphical_appearance_no'].values\n",
    "        self.colour_group_code = df['colour_group_code'].values\n",
    "        self.perceived_colour_value_id = df['perceived_colour_value_id'].values\n",
    "        self.perceived_colour_master_id = df['perceived_colour_master_id'].values\n",
    "        self.department_no = df['department_no'].values\n",
    "        self.index_code = df['index_code'].values\n",
    "        self.index_group_no = df['index_group_no'].values\n",
    "        self.section_no = df['section_no'].values\n",
    "        self.garment_group_no = df['garment_group_no'].values\n",
    "        \n",
    "        self.club_member_status = df['club_member_status'].values\n",
    "        self.fashion_news_frequency = df['fashion_news_frequency'].values\n",
    "        self.postal_code = df['postal_code'].values\n",
    "        self.numeric_features = df[NUMERIC_FEATURES].values\n",
    "        \n",
    "        self.purchased = df['article_id_idx'].values\n",
    "\n",
    "    def __len__(self):\n",
    "        return self.customer_id_idx.shape[0]\n",
    "\n",
    "    def __getitem__(self, idx):\n",
    "        if torch.is_tensor(idx):\n",
    "            idx = idx.tolist()\n",
    "        \n",
    "        return (\n",
    "            self.customer_id_idx[idx],\n",
    "            self.product_code[idx],\n",
    "            self.product_type_no[idx],\n",
    "            self.product_group_no[idx],\n",
    "            self.graphical_appearance_no[idx],\n",
    "            self.colour_group_code[idx],\n",
    "            self.perceived_colour_value_id[idx],\n",
    "            self.perceived_colour_master_id[idx],\n",
    "            self.department_no[idx],\n",
    "            self.index_code[idx],\n",
    "            self.index_group_no[idx],\n",
    "            self.section_no[idx],\n",
    "            self.garment_group_no[idx],\n",
    "            self.club_member_status[idx],\n",
    "            self.fashion_news_frequency[idx],\n",
    "            self.postal_code[idx],\n",
    "            self.numeric_features[idx],\n",
    "            self.purchased[idx]\n",
    "        )"
   ]
  },
  {
   "cell_type": "code",
   "execution_count": 84,
   "id": "4da286f7",
   "metadata": {
    "executionInfo": {
     "elapsed": 6,
     "status": "ok",
     "timestamp": 1649692217267,
     "user": {
      "displayName": "Steven George",
      "userId": "07709250839253394649"
     },
     "user_tz": -60
    },
    "id": "d6111e1d"
   },
   "outputs": [],
   "source": [
    "train_dataset = PurchasesDatasetWithArticleFeatures(training_data_full)\n",
    "dev_dataset = PurchasesDatasetWithArticleFeatures(dev_data_full)"
   ]
  },
  {
   "cell_type": "code",
   "execution_count": 85,
   "id": "3ae04956",
   "metadata": {
    "executionInfo": {
     "elapsed": 5,
     "status": "ok",
     "timestamp": 1649692217267,
     "user": {
      "displayName": "Steven George",
      "userId": "07709250839253394649"
     },
     "user_tz": -60
    },
    "id": "826f5af6"
   },
   "outputs": [],
   "source": [
    "BATCH_SIZE = 2048\n",
    "\n",
    "train_loader = DataLoader(train_dataset, batch_size=BATCH_SIZE, shuffle=True)  \n",
    "dev_loader = DataLoader(dev_dataset, batch_size=BATCH_SIZE, shuffle=True)  "
   ]
  },
  {
   "cell_type": "code",
   "execution_count": 86,
   "id": "6c09ce65",
   "metadata": {
    "executionInfo": {
     "elapsed": 5,
     "status": "ok",
     "timestamp": 1649692217267,
     "user": {
      "displayName": "Steven George",
      "userId": "07709250839253394649"
     },
     "user_tz": -60
    },
    "id": "74196e72"
   },
   "outputs": [],
   "source": [
    "# # Selecting a subset of data\n",
    "# subset = torch.utils.data.Subset(train_dataset, [1])\n",
    "\n",
    "# train_loader = DataLoader(subset, batch_size=BATCH_SIZE)  "
   ]
  },
  {
   "cell_type": "code",
   "execution_count": 95,
   "id": "9dd2b23e",
   "metadata": {
    "executionInfo": {
     "elapsed": 5,
     "status": "ok",
     "timestamp": 1649692217268,
     "user": {
      "displayName": "Steven George",
      "userId": "07709250839253394649"
     },
     "user_tz": -60
    },
    "id": "92d805ba"
   },
   "outputs": [],
   "source": [
    "class FashionRecV2(nn.Module):\n",
    "\n",
    "    def __init__(self, embedding_dim):\n",
    "        super(FashionRecV2, self).__init__()\n",
    "        \n",
    "        # Embeddings\n",
    "        self.user_embeddings = nn.Embedding(num_embeddings=len(customer_id_to_idx), embedding_dim=embedding_dim)        \n",
    "        self.product_code_embeddings = nn.Embedding(num_embeddings=len(cat_code_to_indices['product_code']), embedding_dim=embedding_dim)\n",
    "        self.product_type_no_embeddings = nn.Embedding(num_embeddings=len(cat_code_to_indices['product_type_no']), embedding_dim=embedding_dim)\n",
    "        self.product_group_no_embeddings = nn.Embedding(num_embeddings=len(cat_code_to_indices['product_group_no']), embedding_dim=embedding_dim)\n",
    "        self.graphical_appearance_no_embeddings = nn.Embedding(num_embeddings=len(cat_code_to_indices['graphical_appearance_no']), embedding_dim=embedding_dim)\n",
    "        self.colour_group_code_embeddings = nn.Embedding(num_embeddings=len(cat_code_to_indices['colour_group_code']), embedding_dim=embedding_dim)\n",
    "        self.perceived_colour_value_id_embeddings = nn.Embedding(num_embeddings=len(cat_code_to_indices['perceived_colour_value_id']), embedding_dim=embedding_dim)\n",
    "        self.perceived_colour_master_id_embeddings = nn.Embedding(num_embeddings=len(cat_code_to_indices['perceived_colour_master_id']), embedding_dim=embedding_dim)\n",
    "        self.department_no_embeddings = nn.Embedding(num_embeddings=len(cat_code_to_indices['department_no']), embedding_dim=embedding_dim)\n",
    "        self.index_code_embeddings = nn.Embedding(num_embeddings=len(cat_code_to_indices['index_code']), embedding_dim=embedding_dim)\n",
    "        self.index_group_no_embeddings = nn.Embedding(num_embeddings=len(cat_code_to_indices['index_group_no']), embedding_dim=embedding_dim)\n",
    "        self.section_no_embeddings = nn.Embedding(num_embeddings=len(cat_code_to_indices['section_no']), embedding_dim=embedding_dim)\n",
    "        self.garment_group_no_embeddings = nn.Embedding(num_embeddings=len(cat_code_to_indices['garment_group_no']), embedding_dim=embedding_dim)\n",
    "        \n",
    "        self.club_member_status_embeddings = nn.Embedding(num_embeddings=len(customers_cat_code_to_indices['club_member_status']), embedding_dim=embedding_dim)\n",
    "        self.fashion_news_frequency_embeddings = nn.Embedding(num_embeddings=len(customers_cat_code_to_indices['fashion_news_frequency']), embedding_dim=embedding_dim)\n",
    "        self.postal_code_embeddings = nn.Embedding(num_embeddings=len(customers_cat_code_to_indices['postal_code']), embedding_dim=embedding_dim)\n",
    "\n",
    "        # Initialise embeddings\n",
    "        torch.nn.init.xavier_uniform_(self.user_embeddings.weight)\n",
    "        torch.nn.init.xavier_uniform_(self.product_code_embeddings.weight)\n",
    "        torch.nn.init.xavier_uniform_(self.product_type_no_embeddings.weight)\n",
    "        torch.nn.init.xavier_uniform_(self.product_group_no_embeddings.weight)\n",
    "        torch.nn.init.xavier_uniform_(self.graphical_appearance_no_embeddings.weight)\n",
    "        torch.nn.init.xavier_uniform_(self.colour_group_code_embeddings.weight)\n",
    "        torch.nn.init.xavier_uniform_(self.perceived_colour_value_id_embeddings.weight)\n",
    "        torch.nn.init.xavier_uniform_(self.perceived_colour_master_id_embeddings.weight)\n",
    "        torch.nn.init.xavier_uniform_(self.department_no_embeddings.weight)\n",
    "        torch.nn.init.xavier_uniform_(self.index_code_embeddings.weight)\n",
    "        torch.nn.init.xavier_uniform_(self.index_group_no_embeddings.weight)\n",
    "        torch.nn.init.xavier_uniform_(self.section_no_embeddings.weight)\n",
    "        torch.nn.init.xavier_uniform_(self.garment_group_no_embeddings.weight)\n",
    "        torch.nn.init.xavier_uniform_(self.club_member_status_embeddings.weight)\n",
    "        torch.nn.init.xavier_uniform_(self.fashion_news_frequency_embeddings.weight)\n",
    "        torch.nn.init.xavier_uniform_(self.postal_code_embeddings.weight)\n",
    "        \n",
    "        # FC layers\n",
    "        self.fc_1 = nn.Linear(in_features=embedding_dim*16+len(NUMERIC_FEATURES), out_features=500)            \n",
    "        self.fc_2 = nn.Linear(in_features=500, out_features=250)\n",
    "        # self.fc_3 = nn.Linear(in_features=500, out_features=250)        \n",
    "        self.fc_3 = nn.Linear(in_features=250, out_features=len(article_id_to_idx))\n",
    "        \n",
    "        # Activation functions\n",
    "        self.relu = nn.ReLU()        \n",
    "        \n",
    "        # Dropout\n",
    "        self.dropout = nn.Dropout(0.2)\n",
    "        \n",
    "    def forward(\n",
    "        self, \n",
    "        user_id, \n",
    "        product_code, \n",
    "        product_type_no, \n",
    "        product_group_no, \n",
    "        graphical_appearance_no, \n",
    "        colour_group_code, \n",
    "        perceived_colour_value_id, \n",
    "        perceived_colour_master_id, \n",
    "        department_no, \n",
    "        index_code, \n",
    "        index_group_no, \n",
    "        section_no, \n",
    "        garment_group_no,\n",
    "        club_member_status,\n",
    "        fashion_news_frequency,\n",
    "        postal_code,\n",
    "        numeric_features,\n",
    "    ):\n",
    "\n",
    "        user_emb = self.user_embeddings(user_id)\n",
    "        product_code_emb = self.product_code_embeddings(product_code)\n",
    "        product_type_no_emb = self.product_type_no_embeddings(product_type_no)\n",
    "        product_group_no_emb = self.product_group_no_embeddings(product_group_no)\n",
    "        graphical_appearance_no_emb = self.graphical_appearance_no_embeddings(graphical_appearance_no)\n",
    "        colour_group_code_emb = self.colour_group_code_embeddings(colour_group_code)\n",
    "        perceived_colour_value_id_emb = self.perceived_colour_value_id_embeddings(perceived_colour_value_id)\n",
    "        perceived_colour_master_id_emb = self.perceived_colour_master_id_embeddings(perceived_colour_master_id)\n",
    "        department_no_emb = self.department_no_embeddings(department_no)\n",
    "        index_code_emb = self.index_code_embeddings(index_code)\n",
    "        index_group_no_emb = self.index_group_no_embeddings(index_group_no)\n",
    "        section_no_emb = self.section_no_embeddings(section_no)\n",
    "        garment_group_no_emb = self.garment_group_no_embeddings(garment_group_no)\n",
    "        \n",
    "        club_member_status_emb = self.club_member_status_embeddings(club_member_status)\n",
    "        fashion_news_frequency_emb = self.fashion_news_frequency_embeddings(fashion_news_frequency)\n",
    "        postal_code_emb = self.postal_code_embeddings(postal_code)\n",
    "              \n",
    "        concatenated_emb = torch.concat(\n",
    "            [\n",
    "                user_emb, \n",
    "                product_code_emb,\n",
    "                product_type_no_emb,\n",
    "                product_group_no_emb,\n",
    "                graphical_appearance_no_emb,\n",
    "                colour_group_code_emb,\n",
    "                perceived_colour_value_id_emb,\n",
    "                perceived_colour_master_id_emb,\n",
    "                department_no_emb,\n",
    "                index_code_emb,\n",
    "                index_group_no_emb,\n",
    "                section_no_emb,\n",
    "                garment_group_no_emb,\n",
    "                club_member_status_emb,\n",
    "                fashion_news_frequency_emb,\n",
    "                postal_code_emb,\n",
    "                numeric_features\n",
    "            ], \n",
    "            dim=1\n",
    "        )\n",
    "        \n",
    "        x = self.fc_1(concatenated_emb)\n",
    "        x = self.relu(x)\n",
    "        x = self.dropout(x)\n",
    "        \n",
    "        x = self.fc_2(x)\n",
    "        x = self.relu(x)\n",
    "        x = self.dropout(x)\n",
    "        \n",
    "        x = self.fc_3(x)\n",
    "\n",
    "        return x"
   ]
  },
  {
   "cell_type": "code",
   "execution_count": 106,
   "id": "a64295cd",
   "metadata": {
    "executionInfo": {
     "elapsed": 415,
     "status": "ok",
     "timestamp": 1649692217678,
     "user": {
      "displayName": "Steven George",
      "userId": "07709250839253394649"
     },
     "user_tz": -60
    },
    "id": "81c8fc66"
   },
   "outputs": [],
   "source": [
    "fashion_rec_v2 = FashionRecV2(embedding_dim=8)"
   ]
  },
  {
   "cell_type": "code",
   "execution_count": 107,
   "id": "80dc1f38",
   "metadata": {
    "colab": {
     "base_uri": "https://localhost:8080/"
    },
    "executionInfo": {
     "elapsed": 2366,
     "status": "ok",
     "timestamp": 1649692220041,
     "user": {
      "displayName": "Steven George",
      "userId": "07709250839253394649"
     },
     "user_tz": -60
    },
    "id": "f2e25fed",
    "outputId": "e47caeb3-066e-47ea-95ad-2a0a9051737a"
   },
   "outputs": [
    {
     "data": {
      "text/plain": [
       "FashionRecV2(\n",
       "  (user_embeddings): Embedding(9122, 8)\n",
       "  (product_code_embeddings): Embedding(47224, 8)\n",
       "  (product_type_no_embeddings): Embedding(132, 8)\n",
       "  (product_group_no_embeddings): Embedding(19, 8)\n",
       "  (graphical_appearance_no_embeddings): Embedding(30, 8)\n",
       "  (colour_group_code_embeddings): Embedding(50, 8)\n",
       "  (perceived_colour_value_id_embeddings): Embedding(8, 8)\n",
       "  (perceived_colour_master_id_embeddings): Embedding(20, 8)\n",
       "  (department_no_embeddings): Embedding(299, 8)\n",
       "  (index_code_embeddings): Embedding(10, 8)\n",
       "  (index_group_no_embeddings): Embedding(5, 8)\n",
       "  (section_no_embeddings): Embedding(57, 8)\n",
       "  (garment_group_no_embeddings): Embedding(21, 8)\n",
       "  (club_member_status_embeddings): Embedding(4, 8)\n",
       "  (fashion_news_frequency_embeddings): Embedding(3, 8)\n",
       "  (postal_code_embeddings): Embedding(352899, 8)\n",
       "  (fc_1): Linear(in_features=136, out_features=500, bias=True)\n",
       "  (fc_2): Linear(in_features=500, out_features=250, bias=True)\n",
       "  (fc_3): Linear(in_features=250, out_features=28709, bias=True)\n",
       "  (relu): ReLU()\n",
       "  (dropout): Dropout(p=0.2, inplace=False)\n",
       ")"
      ]
     },
     "execution_count": 107,
     "metadata": {},
     "output_type": "execute_result"
    }
   ],
   "source": [
    "fashion_rec_v2.to(device)"
   ]
  },
  {
   "cell_type": "code",
   "execution_count": 108,
   "id": "f594cb89",
   "metadata": {
    "executionInfo": {
     "elapsed": 17,
     "status": "ok",
     "timestamp": 1649692220041,
     "user": {
      "displayName": "Steven George",
      "userId": "07709250839253394649"
     },
     "user_tz": -60
    },
    "id": "f107210d"
   },
   "outputs": [],
   "source": [
    "# fashion_rec_v2(torch.tensor([0]), torch.tensor([0]), torch.tensor([0]), torch.tensor([0]), torch.tensor([0]), torch.tensor([0]), torch.tensor([0]), torch.tensor([0]), torch.tensor([0]), torch.tensor([0]), torch.tensor([0]), torch.tensor([0]), torch.tensor([0]), torch.tensor([0]), )"
   ]
  },
  {
   "cell_type": "code",
   "execution_count": 109,
   "id": "31e627a5",
   "metadata": {
    "executionInfo": {
     "elapsed": 17,
     "status": "ok",
     "timestamp": 1649692220042,
     "user": {
      "displayName": "Steven George",
      "userId": "07709250839253394649"
     },
     "user_tz": -60
    },
    "id": "1bfe3cfa"
   },
   "outputs": [],
   "source": [
    "optimizer = torch.optim.Adam(params=fashion_rec_v2.parameters(), lr=0.001)"
   ]
  },
  {
   "cell_type": "markdown",
   "id": "c225e1d0",
   "metadata": {
    "id": "3225040b"
   },
   "source": [
    "Switched to BCELoss instead of weighted MSE. Had more success with this."
   ]
  },
  {
   "cell_type": "code",
   "execution_count": 110,
   "id": "0e01dc8c",
   "metadata": {
    "executionInfo": {
     "elapsed": 16,
     "status": "ok",
     "timestamp": 1649692220042,
     "user": {
      "displayName": "Steven George",
      "userId": "07709250839253394649"
     },
     "user_tz": -60
    },
    "id": "91d670a1"
   },
   "outputs": [],
   "source": [
    "criterion = nn.CrossEntropyLoss()"
   ]
  },
  {
   "cell_type": "code",
   "execution_count": 111,
   "id": "80a98fc0",
   "metadata": {
    "colab": {
     "base_uri": "https://localhost:8080/"
    },
    "executionInfo": {
     "elapsed": 716164,
     "status": "ok",
     "timestamp": 1649692936190,
     "user": {
      "displayName": "Steven George",
      "userId": "07709250839253394649"
     },
     "user_tz": -60
    },
    "id": "8f37766e",
    "outputId": "33b3f175-7f2f-45cd-aa6d-d59017371f3b"
   },
   "outputs": [
    {
     "name": "stderr",
     "output_type": "stream",
     "text": [
      "100%|████████████████████████████████████████████████████████████████████████████████████████████████████████████████████████████████████████████████████████████████████████████████████████████████████| 133/133 [03:00<00:00,  1.36s/it]\n",
      "100%|██████████████████████████████████████████████████████████████████████████████████████████████████████████████████████████████████████████████████████████████████████████████████████████████████████| 34/34 [00:58<00:00,  1.71s/it]\n"
     ]
    },
    {
     "name": "stdout",
     "output_type": "stream",
     "text": [
      "Training loss: 6.310105539605136\n"
     ]
    },
    {
     "name": "stderr",
     "output_type": "stream",
     "text": [
      "100%|██████████████████████████████████████████████████████████████████████████████████████████████████████████████████████████████████████████████████████████████████████████████████████████████████████| 15/15 [00:24<00:00,  1.64s/it]\n"
     ]
    },
    {
     "name": "stdout",
     "output_type": "stream",
     "text": [
      "Dev loss: 6.531109427237262\n"
     ]
    },
    {
     "name": "stderr",
     "output_type": "stream",
     "text": [
      " 15%|█████████████████████████████▌                                                                                                                                                                       | 20/133 [00:27<02:33,  1.36s/it]\n"
     ]
    },
    {
     "ename": "KeyboardInterrupt",
     "evalue": "",
     "output_type": "error",
     "traceback": [
      "\u001b[0;31m---------------------------------------------------------------------------\u001b[0m",
      "\u001b[0;31mKeyboardInterrupt\u001b[0m                         Traceback (most recent call last)",
      "Input \u001b[0;32mIn [111]\u001b[0m, in \u001b[0;36m<module>\u001b[0;34m\u001b[0m\n\u001b[1;32m     11\u001b[0m user_id, product_code, product_type_no, product_group_no, graphical_appearance_no, colour_group_code, perceived_colour_value_id, perceived_colour_master_id, department_no, index_code, index_group_no, section_no, garment_group_no, club_member_status, fashion_news_frequency, postal_code, numeric_features, label \u001b[38;5;241m=\u001b[39m (\n\u001b[1;32m     12\u001b[0m     user_id\u001b[38;5;241m.\u001b[39mto(device), \n\u001b[1;32m     13\u001b[0m     product_code\u001b[38;5;241m.\u001b[39mto(device), \n\u001b[0;32m   (...)\u001b[0m\n\u001b[1;32m     29\u001b[0m     label\u001b[38;5;241m.\u001b[39mto(device)\n\u001b[1;32m     30\u001b[0m )    \n\u001b[1;32m     32\u001b[0m optimizer\u001b[38;5;241m.\u001b[39mzero_grad()  \u001b[38;5;66;03m# Set gradients to 0 otherwise will accumulate\u001b[39;00m\n\u001b[0;32m---> 34\u001b[0m pred \u001b[38;5;241m=\u001b[39m \u001b[43mfashion_rec_v2\u001b[49m\u001b[43m(\u001b[49m\n\u001b[1;32m     35\u001b[0m \u001b[43m    \u001b[49m\u001b[43muser_id\u001b[49m\u001b[43m,\u001b[49m\u001b[43m \u001b[49m\n\u001b[1;32m     36\u001b[0m \u001b[43m    \u001b[49m\u001b[43mproduct_code\u001b[49m\u001b[43m,\u001b[49m\u001b[43m \u001b[49m\n\u001b[1;32m     37\u001b[0m \u001b[43m    \u001b[49m\u001b[43mproduct_type_no\u001b[49m\u001b[43m,\u001b[49m\u001b[43m \u001b[49m\n\u001b[1;32m     38\u001b[0m \u001b[43m    \u001b[49m\u001b[43mproduct_group_no\u001b[49m\u001b[43m,\u001b[49m\u001b[43m \u001b[49m\n\u001b[1;32m     39\u001b[0m \u001b[43m    \u001b[49m\u001b[43mgraphical_appearance_no\u001b[49m\u001b[43m,\u001b[49m\u001b[43m \u001b[49m\n\u001b[1;32m     40\u001b[0m \u001b[43m    \u001b[49m\u001b[43mcolour_group_code\u001b[49m\u001b[43m,\u001b[49m\u001b[43m \u001b[49m\n\u001b[1;32m     41\u001b[0m \u001b[43m    \u001b[49m\u001b[43mperceived_colour_value_id\u001b[49m\u001b[43m,\u001b[49m\u001b[43m \u001b[49m\n\u001b[1;32m     42\u001b[0m \u001b[43m    \u001b[49m\u001b[43mperceived_colour_master_id\u001b[49m\u001b[43m,\u001b[49m\u001b[43m \u001b[49m\n\u001b[1;32m     43\u001b[0m \u001b[43m    \u001b[49m\u001b[43mdepartment_no\u001b[49m\u001b[43m,\u001b[49m\u001b[43m \u001b[49m\n\u001b[1;32m     44\u001b[0m \u001b[43m    \u001b[49m\u001b[43mindex_code\u001b[49m\u001b[43m,\u001b[49m\u001b[43m \u001b[49m\n\u001b[1;32m     45\u001b[0m \u001b[43m    \u001b[49m\u001b[43mindex_group_no\u001b[49m\u001b[43m,\u001b[49m\u001b[43m \u001b[49m\n\u001b[1;32m     46\u001b[0m \u001b[43m    \u001b[49m\u001b[43msection_no\u001b[49m\u001b[43m,\u001b[49m\u001b[43m \u001b[49m\n\u001b[1;32m     47\u001b[0m \u001b[43m    \u001b[49m\u001b[43mgarment_group_no\u001b[49m\u001b[43m,\u001b[49m\n\u001b[1;32m     48\u001b[0m \u001b[43m    \u001b[49m\u001b[43mclub_member_status\u001b[49m\u001b[43m,\u001b[49m\n\u001b[1;32m     49\u001b[0m \u001b[43m    \u001b[49m\u001b[43mfashion_news_frequency\u001b[49m\u001b[43m,\u001b[49m\n\u001b[1;32m     50\u001b[0m \u001b[43m    \u001b[49m\u001b[43mpostal_code\u001b[49m\u001b[43m,\u001b[49m\n\u001b[1;32m     51\u001b[0m \u001b[43m    \u001b[49m\u001b[43mnumeric_features\u001b[49m\u001b[38;5;241;43m.\u001b[39;49m\u001b[43mfloat\u001b[49m\u001b[43m(\u001b[49m\u001b[43m)\u001b[49m\n\u001b[1;32m     52\u001b[0m \u001b[43m\u001b[49m\u001b[43m)\u001b[49m\n\u001b[1;32m     54\u001b[0m loss \u001b[38;5;241m=\u001b[39m criterion(pred, label)\n\u001b[1;32m     56\u001b[0m loss\u001b[38;5;241m.\u001b[39mbackward()  \n",
      "File \u001b[0;32m~/opt/anaconda3/envs/fashion_rec/lib/python3.8/site-packages/torch/nn/modules/module.py:1110\u001b[0m, in \u001b[0;36mModule._call_impl\u001b[0;34m(self, *input, **kwargs)\u001b[0m\n\u001b[1;32m   1106\u001b[0m \u001b[38;5;66;03m# If we don't have any hooks, we want to skip the rest of the logic in\u001b[39;00m\n\u001b[1;32m   1107\u001b[0m \u001b[38;5;66;03m# this function, and just call forward.\u001b[39;00m\n\u001b[1;32m   1108\u001b[0m \u001b[38;5;28;01mif\u001b[39;00m \u001b[38;5;129;01mnot\u001b[39;00m (\u001b[38;5;28mself\u001b[39m\u001b[38;5;241m.\u001b[39m_backward_hooks \u001b[38;5;129;01mor\u001b[39;00m \u001b[38;5;28mself\u001b[39m\u001b[38;5;241m.\u001b[39m_forward_hooks \u001b[38;5;129;01mor\u001b[39;00m \u001b[38;5;28mself\u001b[39m\u001b[38;5;241m.\u001b[39m_forward_pre_hooks \u001b[38;5;129;01mor\u001b[39;00m _global_backward_hooks\n\u001b[1;32m   1109\u001b[0m         \u001b[38;5;129;01mor\u001b[39;00m _global_forward_hooks \u001b[38;5;129;01mor\u001b[39;00m _global_forward_pre_hooks):\n\u001b[0;32m-> 1110\u001b[0m     \u001b[38;5;28;01mreturn\u001b[39;00m \u001b[43mforward_call\u001b[49m\u001b[43m(\u001b[49m\u001b[38;5;241;43m*\u001b[39;49m\u001b[38;5;28;43minput\u001b[39;49m\u001b[43m,\u001b[49m\u001b[43m \u001b[49m\u001b[38;5;241;43m*\u001b[39;49m\u001b[38;5;241;43m*\u001b[39;49m\u001b[43mkwargs\u001b[49m\u001b[43m)\u001b[49m\n\u001b[1;32m   1111\u001b[0m \u001b[38;5;66;03m# Do not call functions when jit is used\u001b[39;00m\n\u001b[1;32m   1112\u001b[0m full_backward_hooks, non_full_backward_hooks \u001b[38;5;241m=\u001b[39m [], []\n",
      "Input \u001b[0;32mIn [95]\u001b[0m, in \u001b[0;36mFashionRecV2.forward\u001b[0;34m(self, user_id, product_code, product_type_no, product_group_no, graphical_appearance_no, colour_group_code, perceived_colour_value_id, perceived_colour_master_id, department_no, index_code, index_group_no, section_no, garment_group_no, club_member_status, fashion_news_frequency, postal_code, numeric_features)\u001b[0m\n\u001b[1;32m    122\u001b[0m x \u001b[38;5;241m=\u001b[39m \u001b[38;5;28mself\u001b[39m\u001b[38;5;241m.\u001b[39mrelu(x)\n\u001b[1;32m    123\u001b[0m x \u001b[38;5;241m=\u001b[39m \u001b[38;5;28mself\u001b[39m\u001b[38;5;241m.\u001b[39mdropout(x)\n\u001b[0;32m--> 125\u001b[0m x \u001b[38;5;241m=\u001b[39m \u001b[38;5;28;43mself\u001b[39;49m\u001b[38;5;241;43m.\u001b[39;49m\u001b[43mfc_3\u001b[49m\u001b[43m(\u001b[49m\u001b[43mx\u001b[49m\u001b[43m)\u001b[49m\n\u001b[1;32m    127\u001b[0m \u001b[38;5;28;01mreturn\u001b[39;00m x\n",
      "File \u001b[0;32m~/opt/anaconda3/envs/fashion_rec/lib/python3.8/site-packages/torch/nn/modules/module.py:1110\u001b[0m, in \u001b[0;36mModule._call_impl\u001b[0;34m(self, *input, **kwargs)\u001b[0m\n\u001b[1;32m   1106\u001b[0m \u001b[38;5;66;03m# If we don't have any hooks, we want to skip the rest of the logic in\u001b[39;00m\n\u001b[1;32m   1107\u001b[0m \u001b[38;5;66;03m# this function, and just call forward.\u001b[39;00m\n\u001b[1;32m   1108\u001b[0m \u001b[38;5;28;01mif\u001b[39;00m \u001b[38;5;129;01mnot\u001b[39;00m (\u001b[38;5;28mself\u001b[39m\u001b[38;5;241m.\u001b[39m_backward_hooks \u001b[38;5;129;01mor\u001b[39;00m \u001b[38;5;28mself\u001b[39m\u001b[38;5;241m.\u001b[39m_forward_hooks \u001b[38;5;129;01mor\u001b[39;00m \u001b[38;5;28mself\u001b[39m\u001b[38;5;241m.\u001b[39m_forward_pre_hooks \u001b[38;5;129;01mor\u001b[39;00m _global_backward_hooks\n\u001b[1;32m   1109\u001b[0m         \u001b[38;5;129;01mor\u001b[39;00m _global_forward_hooks \u001b[38;5;129;01mor\u001b[39;00m _global_forward_pre_hooks):\n\u001b[0;32m-> 1110\u001b[0m     \u001b[38;5;28;01mreturn\u001b[39;00m \u001b[43mforward_call\u001b[49m\u001b[43m(\u001b[49m\u001b[38;5;241;43m*\u001b[39;49m\u001b[38;5;28;43minput\u001b[39;49m\u001b[43m,\u001b[49m\u001b[43m \u001b[49m\u001b[38;5;241;43m*\u001b[39;49m\u001b[38;5;241;43m*\u001b[39;49m\u001b[43mkwargs\u001b[49m\u001b[43m)\u001b[49m\n\u001b[1;32m   1111\u001b[0m \u001b[38;5;66;03m# Do not call functions when jit is used\u001b[39;00m\n\u001b[1;32m   1112\u001b[0m full_backward_hooks, non_full_backward_hooks \u001b[38;5;241m=\u001b[39m [], []\n",
      "File \u001b[0;32m~/opt/anaconda3/envs/fashion_rec/lib/python3.8/site-packages/torch/nn/modules/linear.py:103\u001b[0m, in \u001b[0;36mLinear.forward\u001b[0;34m(self, input)\u001b[0m\n\u001b[1;32m    102\u001b[0m \u001b[38;5;28;01mdef\u001b[39;00m \u001b[38;5;21mforward\u001b[39m(\u001b[38;5;28mself\u001b[39m, \u001b[38;5;28minput\u001b[39m: Tensor) \u001b[38;5;241m-\u001b[39m\u001b[38;5;241m>\u001b[39m Tensor:\n\u001b[0;32m--> 103\u001b[0m     \u001b[38;5;28;01mreturn\u001b[39;00m \u001b[43mF\u001b[49m\u001b[38;5;241;43m.\u001b[39;49m\u001b[43mlinear\u001b[49m\u001b[43m(\u001b[49m\u001b[38;5;28;43minput\u001b[39;49m\u001b[43m,\u001b[49m\u001b[43m \u001b[49m\u001b[38;5;28;43mself\u001b[39;49m\u001b[38;5;241;43m.\u001b[39;49m\u001b[43mweight\u001b[49m\u001b[43m,\u001b[49m\u001b[43m \u001b[49m\u001b[38;5;28;43mself\u001b[39;49m\u001b[38;5;241;43m.\u001b[39;49m\u001b[43mbias\u001b[49m\u001b[43m)\u001b[49m\n",
      "\u001b[0;31mKeyboardInterrupt\u001b[0m: "
     ]
    }
   ],
   "source": [
    "MAX_EPOCHS = 5\n",
    "training_losses = []\n",
    "dev_losses = []\n",
    "\n",
    "for epoch in range(MAX_EPOCHS):\n",
    "    \n",
    "    for data in tqdm(train_loader):\n",
    "        \n",
    "        user_id, product_code, product_type_no, product_group_no, graphical_appearance_no, colour_group_code, perceived_colour_value_id, perceived_colour_master_id, department_no, index_code, index_group_no, section_no, garment_group_no, club_member_status, fashion_news_frequency, postal_code, numeric_features, label = data\n",
    "        \n",
    "        user_id, product_code, product_type_no, product_group_no, graphical_appearance_no, colour_group_code, perceived_colour_value_id, perceived_colour_master_id, department_no, index_code, index_group_no, section_no, garment_group_no, club_member_status, fashion_news_frequency, postal_code, numeric_features, label = (\n",
    "            user_id.to(device), \n",
    "            product_code.to(device), \n",
    "            product_type_no.to(device), \n",
    "            product_group_no.to(device), \n",
    "            graphical_appearance_no.to(device), \n",
    "            colour_group_code.to(device), \n",
    "            perceived_colour_value_id.to(device), \n",
    "            perceived_colour_master_id.to(device), \n",
    "            department_no.to(device), \n",
    "            index_code.to(device), \n",
    "            index_group_no.to(device), \n",
    "            section_no.to(device), \n",
    "            garment_group_no.to(device), \n",
    "            club_member_status.to(device), \n",
    "            fashion_news_frequency.to(device), \n",
    "            postal_code.to(device), \n",
    "            numeric_features.to(device),\n",
    "            label.to(device)\n",
    "        )    \n",
    "\n",
    "        optimizer.zero_grad()  # Set gradients to 0 otherwise will accumulate\n",
    "\n",
    "        pred = fashion_rec_v2(\n",
    "            user_id, \n",
    "            product_code, \n",
    "            product_type_no, \n",
    "            product_group_no, \n",
    "            graphical_appearance_no, \n",
    "            colour_group_code, \n",
    "            perceived_colour_value_id, \n",
    "            perceived_colour_master_id, \n",
    "            department_no, \n",
    "            index_code, \n",
    "            index_group_no, \n",
    "            section_no, \n",
    "            garment_group_no,\n",
    "            club_member_status,\n",
    "            fashion_news_frequency,\n",
    "            postal_code,\n",
    "            numeric_features.float()\n",
    "        )\n",
    "\n",
    "        loss = criterion(pred, label)\n",
    "\n",
    "        loss.backward()  \n",
    "        \n",
    "        optimizer.step()\n",
    "        \n",
    "    # Compute training loss\n",
    "    \n",
    "    total_train_loss = 0\n",
    "\n",
    "    fashion_rec_v2.eval()\n",
    "\n",
    "    with torch.no_grad():\n",
    "        for data in tqdm(DataLoader(train_dataset, batch_size=BATCH_SIZE*4)):\n",
    "            \n",
    "            user_id, product_code, product_type_no, product_group_no, graphical_appearance_no, colour_group_code, perceived_colour_value_id, perceived_colour_master_id, department_no, index_code, index_group_no, section_no, garment_group_no, club_member_status, fashion_news_frequency, postal_code, numeric_features, label = data\n",
    "\n",
    "            user_id, product_code, product_type_no, product_group_no, graphical_appearance_no, colour_group_code, perceived_colour_value_id, perceived_colour_master_id, department_no, index_code, index_group_no, section_no, garment_group_no, club_member_status, fashion_news_frequency, postal_code, numeric_features, label = (\n",
    "                user_id.to(device), \n",
    "                product_code.to(device), \n",
    "                product_type_no.to(device), \n",
    "                product_group_no.to(device), \n",
    "                graphical_appearance_no.to(device), \n",
    "                colour_group_code.to(device), \n",
    "                perceived_colour_value_id.to(device), \n",
    "                perceived_colour_master_id.to(device), \n",
    "                department_no.to(device), \n",
    "                index_code.to(device), \n",
    "                index_group_no.to(device), \n",
    "                section_no.to(device), \n",
    "                garment_group_no.to(device), \n",
    "                club_member_status.to(device), \n",
    "                fashion_news_frequency.to(device), \n",
    "                postal_code.to(device), \n",
    "                numeric_features.to(device),\n",
    "                label.to(device)\n",
    "            )\n",
    "\n",
    "            pred = fashion_rec_v2(\n",
    "                user_id, \n",
    "                product_code, \n",
    "                product_type_no, \n",
    "                product_group_no, \n",
    "                graphical_appearance_no, \n",
    "                colour_group_code, \n",
    "                perceived_colour_value_id, \n",
    "                perceived_colour_master_id, \n",
    "                department_no, \n",
    "                index_code, \n",
    "                index_group_no, \n",
    "                section_no, \n",
    "                garment_group_no,\n",
    "                club_member_status,\n",
    "                fashion_news_frequency,\n",
    "                postal_code,\n",
    "                numeric_features.float()\n",
    "            )\n",
    "\n",
    "            loss = nn.CrossEntropyLoss(reduction='sum')(pred, label)\n",
    "\n",
    "            total_train_loss += loss.item()\n",
    "\n",
    "        mean_train_loss = total_train_loss / len(train_dataset)\n",
    "\n",
    "        print(f\"Training loss: {mean_train_loss}\")\n",
    "        training_losses.append(mean_train_loss)\n",
    "    \n",
    "    # Compute dev loss\n",
    "    \n",
    "    total_dev_loss = 0\n",
    "\n",
    "    with torch.no_grad():\n",
    "        for data in tqdm(DataLoader(dev_dataset, batch_size=BATCH_SIZE*4)):\n",
    "            \n",
    "            user_id, product_code, product_type_no, product_group_no, graphical_appearance_no, colour_group_code, perceived_colour_value_id, perceived_colour_master_id, department_no, index_code, index_group_no, section_no, garment_group_no, club_member_status, fashion_news_frequency, postal_code, numeric_features, label = data\n",
    "        \n",
    "            user_id, product_code, product_type_no, product_group_no, graphical_appearance_no, colour_group_code, perceived_colour_value_id, perceived_colour_master_id, department_no, index_code, index_group_no, section_no, garment_group_no, club_member_status, fashion_news_frequency, postal_code, numeric_features, label = (\n",
    "                user_id.to(device), \n",
    "                product_code.to(device), \n",
    "                product_type_no.to(device), \n",
    "                product_group_no.to(device), \n",
    "                graphical_appearance_no.to(device), \n",
    "                colour_group_code.to(device), \n",
    "                perceived_colour_value_id.to(device), \n",
    "                perceived_colour_master_id.to(device), \n",
    "                department_no.to(device), \n",
    "                index_code.to(device), \n",
    "                index_group_no.to(device), \n",
    "                section_no.to(device), \n",
    "                garment_group_no.to(device), \n",
    "                club_member_status.to(device), \n",
    "                fashion_news_frequency.to(device), \n",
    "                postal_code.to(device), \n",
    "                numeric_features.to(device),\n",
    "                label.to(device)\n",
    "            )    \n",
    "\n",
    "            optimizer.zero_grad()  # Set gradients to 0 otherwise will accumulate\n",
    "\n",
    "            pred = fashion_rec_v2(\n",
    "                user_id, \n",
    "                product_code, \n",
    "                product_type_no, \n",
    "                product_group_no, \n",
    "                graphical_appearance_no, \n",
    "                colour_group_code, \n",
    "                perceived_colour_value_id, \n",
    "                perceived_colour_master_id, \n",
    "                department_no, \n",
    "                index_code, \n",
    "                index_group_no, \n",
    "                section_no, \n",
    "                garment_group_no,\n",
    "                club_member_status,\n",
    "                fashion_news_frequency,\n",
    "                postal_code,\n",
    "                numeric_features.float()\n",
    "            )\n",
    "\n",
    "            loss = nn.CrossEntropyLoss(reduction='sum')(pred, label)\n",
    "\n",
    "            total_dev_loss += loss.item()\n",
    "\n",
    "        mean_dev_loss = total_dev_loss / len(dev_dataset)\n",
    "\n",
    "        print(f\"Dev loss: {mean_dev_loss}\")\n",
    "        dev_losses.append(mean_dev_loss)\n",
    "    \n",
    "    fashion_rec_v2.train()"
   ]
  },
  {
   "cell_type": "markdown",
   "id": "f51fa74a",
   "metadata": {
    "id": "d86ac90d"
   },
   "source": [
    "### Test set evaluation"
   ]
  },
  {
   "cell_type": "code",
   "execution_count": 79,
   "id": "ef57a124",
   "metadata": {
    "executionInfo": {
     "elapsed": 16,
     "status": "ok",
     "timestamp": 1649692936190,
     "user": {
      "displayName": "Steven George",
      "userId": "07709250839253394649"
     },
     "user_tz": -60
    },
    "id": "e09a85d8"
   },
   "outputs": [],
   "source": [
    "test_set['article_id_idx'] = test_set['article_id'].map(article_id_to_idx)"
   ]
  },
  {
   "cell_type": "code",
   "execution_count": 80,
   "id": "2e37df6c",
   "metadata": {
    "colab": {
     "base_uri": "https://localhost:8080/",
     "height": 206
    },
    "executionInfo": {
     "elapsed": 410,
     "status": "ok",
     "timestamp": 1649692936587,
     "user": {
      "displayName": "Steven George",
      "userId": "07709250839253394649"
     },
     "user_tz": -60
    },
    "id": "ee252a44",
    "outputId": "68c55649-8eab-498e-db47-0965282d6e86"
   },
   "outputs": [
    {
     "data": {
      "text/html": [
       "\n",
       "  <div id=\"df-8bfd38e9-9c90-4ee4-a78d-ccd12aa1f915\">\n",
       "    <div class=\"colab-df-container\">\n",
       "      <div>\n",
       "<style scoped>\n",
       "    .dataframe tbody tr th:only-of-type {\n",
       "        vertical-align: middle;\n",
       "    }\n",
       "\n",
       "    .dataframe tbody tr th {\n",
       "        vertical-align: top;\n",
       "    }\n",
       "\n",
       "    .dataframe thead th {\n",
       "        text-align: right;\n",
       "    }\n",
       "</style>\n",
       "<table border=\"1\" class=\"dataframe\">\n",
       "  <thead>\n",
       "    <tr style=\"text-align: right;\">\n",
       "      <th></th>\n",
       "      <th>customer_id</th>\n",
       "      <th>article_id_idx</th>\n",
       "    </tr>\n",
       "  </thead>\n",
       "  <tbody>\n",
       "    <tr>\n",
       "      <th>0</th>\n",
       "      <td>000058a12d5b43e67d225668fa1f8d618c13dc232df0ca...</td>\n",
       "      <td>[78503]</td>\n",
       "    </tr>\n",
       "    <tr>\n",
       "      <th>1</th>\n",
       "      <td>0015f37f752a41a75c3be6f3f92deedc4c87d039f1758e...</td>\n",
       "      <td>[74893, 74893, 24872, 104987, 9801, 9801, 6912...</td>\n",
       "    </tr>\n",
       "    <tr>\n",
       "      <th>2</th>\n",
       "      <td>00282135561702f5b3b750fa3382d8fd83ce5d761a507e...</td>\n",
       "      <td>[92815, 86041]</td>\n",
       "    </tr>\n",
       "    <tr>\n",
       "      <th>3</th>\n",
       "      <td>00356a94bb9bed341f6dba58ad722974b01a1cbd9f06ef...</td>\n",
       "      <td>[104211, 17044, 17044, 16024, 29250, 98445, 66...</td>\n",
       "    </tr>\n",
       "    <tr>\n",
       "      <th>4</th>\n",
       "      <td>00462904b288681a9facb555f75dd2cf4d0f730a6e0ea7...</td>\n",
       "      <td>[87467, 99966, 42626, 79834, 97540, 103280, 79...</td>\n",
       "    </tr>\n",
       "  </tbody>\n",
       "</table>\n",
       "</div>\n",
       "      <button class=\"colab-df-convert\" onclick=\"convertToInteractive('df-8bfd38e9-9c90-4ee4-a78d-ccd12aa1f915')\"\n",
       "              title=\"Convert this dataframe to an interactive table.\"\n",
       "              style=\"display:none;\">\n",
       "        \n",
       "  <svg xmlns=\"http://www.w3.org/2000/svg\" height=\"24px\"viewBox=\"0 0 24 24\"\n",
       "       width=\"24px\">\n",
       "    <path d=\"M0 0h24v24H0V0z\" fill=\"none\"/>\n",
       "    <path d=\"M18.56 5.44l.94 2.06.94-2.06 2.06-.94-2.06-.94-.94-2.06-.94 2.06-2.06.94zm-11 1L8.5 8.5l.94-2.06 2.06-.94-2.06-.94L8.5 2.5l-.94 2.06-2.06.94zm10 10l.94 2.06.94-2.06 2.06-.94-2.06-.94-.94-2.06-.94 2.06-2.06.94z\"/><path d=\"M17.41 7.96l-1.37-1.37c-.4-.4-.92-.59-1.43-.59-.52 0-1.04.2-1.43.59L10.3 9.45l-7.72 7.72c-.78.78-.78 2.05 0 2.83L4 21.41c.39.39.9.59 1.41.59.51 0 1.02-.2 1.41-.59l7.78-7.78 2.81-2.81c.8-.78.8-2.07 0-2.86zM5.41 20L4 18.59l7.72-7.72 1.47 1.35L5.41 20z\"/>\n",
       "  </svg>\n",
       "      </button>\n",
       "      \n",
       "  <style>\n",
       "    .colab-df-container {\n",
       "      display:flex;\n",
       "      flex-wrap:wrap;\n",
       "      gap: 12px;\n",
       "    }\n",
       "\n",
       "    .colab-df-convert {\n",
       "      background-color: #E8F0FE;\n",
       "      border: none;\n",
       "      border-radius: 50%;\n",
       "      cursor: pointer;\n",
       "      display: none;\n",
       "      fill: #1967D2;\n",
       "      height: 32px;\n",
       "      padding: 0 0 0 0;\n",
       "      width: 32px;\n",
       "    }\n",
       "\n",
       "    .colab-df-convert:hover {\n",
       "      background-color: #E2EBFA;\n",
       "      box-shadow: 0px 1px 2px rgba(60, 64, 67, 0.3), 0px 1px 3px 1px rgba(60, 64, 67, 0.15);\n",
       "      fill: #174EA6;\n",
       "    }\n",
       "\n",
       "    [theme=dark] .colab-df-convert {\n",
       "      background-color: #3B4455;\n",
       "      fill: #D2E3FC;\n",
       "    }\n",
       "\n",
       "    [theme=dark] .colab-df-convert:hover {\n",
       "      background-color: #434B5C;\n",
       "      box-shadow: 0px 1px 3px 1px rgba(0, 0, 0, 0.15);\n",
       "      filter: drop-shadow(0px 1px 2px rgba(0, 0, 0, 0.3));\n",
       "      fill: #FFFFFF;\n",
       "    }\n",
       "  </style>\n",
       "\n",
       "      <script>\n",
       "        const buttonEl =\n",
       "          document.querySelector('#df-8bfd38e9-9c90-4ee4-a78d-ccd12aa1f915 button.colab-df-convert');\n",
       "        buttonEl.style.display =\n",
       "          google.colab.kernel.accessAllowed ? 'block' : 'none';\n",
       "\n",
       "        async function convertToInteractive(key) {\n",
       "          const element = document.querySelector('#df-8bfd38e9-9c90-4ee4-a78d-ccd12aa1f915');\n",
       "          const dataTable =\n",
       "            await google.colab.kernel.invokeFunction('convertToInteractive',\n",
       "                                                     [key], {});\n",
       "          if (!dataTable) return;\n",
       "\n",
       "          const docLinkHtml = 'Like what you see? Visit the ' +\n",
       "            '<a target=\"_blank\" href=https://colab.research.google.com/notebooks/data_table.ipynb>data table notebook</a>'\n",
       "            + ' to learn more about interactive tables.';\n",
       "          element.innerHTML = '';\n",
       "          dataTable['output_type'] = 'display_data';\n",
       "          await google.colab.output.renderOutput(dataTable, element);\n",
       "          const docLink = document.createElement('div');\n",
       "          docLink.innerHTML = docLinkHtml;\n",
       "          element.appendChild(docLink);\n",
       "        }\n",
       "      </script>\n",
       "    </div>\n",
       "  </div>\n",
       "  "
      ],
      "text/plain": [
       "                                         customer_id  \\\n",
       "0  000058a12d5b43e67d225668fa1f8d618c13dc232df0ca...   \n",
       "1  0015f37f752a41a75c3be6f3f92deedc4c87d039f1758e...   \n",
       "2  00282135561702f5b3b750fa3382d8fd83ce5d761a507e...   \n",
       "3  00356a94bb9bed341f6dba58ad722974b01a1cbd9f06ef...   \n",
       "4  00462904b288681a9facb555f75dd2cf4d0f730a6e0ea7...   \n",
       "\n",
       "                                      article_id_idx  \n",
       "0                                            [78503]  \n",
       "1  [74893, 74893, 24872, 104987, 9801, 9801, 6912...  \n",
       "2                                     [92815, 86041]  \n",
       "3  [104211, 17044, 17044, 16024, 29250, 98445, 66...  \n",
       "4  [87467, 99966, 42626, 79834, 97540, 103280, 79...  "
      ]
     },
     "execution_count": 80,
     "metadata": {},
     "output_type": "execute_result"
    }
   ],
   "source": [
    "test_set_by_customer = test_set.groupby('customer_id').apply(lambda x: list(x['article_id_idx'])).reset_index().rename(columns={0: 'article_id_idx'})\n",
    "test_set_by_customer.head()"
   ]
  },
  {
   "cell_type": "code",
   "execution_count": 81,
   "id": "8753437c",
   "metadata": {
    "colab": {
     "base_uri": "https://localhost:8080/"
    },
    "executionInfo": {
     "elapsed": 16,
     "status": "ok",
     "timestamp": 1649692936588,
     "user": {
      "displayName": "Steven George",
      "userId": "07709250839253394649"
     },
     "user_tz": -60
    },
    "id": "507f5e6e",
    "outputId": "b3f36298-569c-4d2f-988b-97782772702e"
   },
   "outputs": [
    {
     "data": {
      "text/plain": [
       "(32995, 6)"
      ]
     },
     "execution_count": 81,
     "metadata": {},
     "output_type": "execute_result"
    }
   ],
   "source": [
    "test_set.shape"
   ]
  },
  {
   "cell_type": "code",
   "execution_count": 82,
   "id": "57030ef5",
   "metadata": {
    "colab": {
     "base_uri": "https://localhost:8080/"
    },
    "executionInfo": {
     "elapsed": 12,
     "status": "ok",
     "timestamp": 1649692936589,
     "user": {
      "displayName": "Steven George",
      "userId": "07709250839253394649"
     },
     "user_tz": -60
    },
    "id": "612522bf",
    "outputId": "21209125-4ec9-4f78-95a0-61960b696352"
   },
   "outputs": [
    {
     "data": {
      "text/plain": [
       "0.17618544494812244"
      ]
     },
     "execution_count": 82,
     "metadata": {},
     "output_type": "execute_result"
    }
   ],
   "source": [
    "test_set.shape[0] * 100 / len(dev_dataset) * 9 / 60"
   ]
  },
  {
   "cell_type": "code",
   "execution_count": 83,
   "id": "f5800469",
   "metadata": {
    "colab": {
     "base_uri": "https://localhost:8080/",
     "height": 270
    },
    "executionInfo": {
     "elapsed": 9,
     "status": "ok",
     "timestamp": 1649692936589,
     "user": {
      "displayName": "Steven George",
      "userId": "07709250839253394649"
     },
     "user_tz": -60
    },
    "id": "83d733ff",
    "outputId": "5714c5ea-20d1-433f-d272-0ddbdc3d5b43"
   },
   "outputs": [
    {
     "data": {
      "text/html": [
       "\n",
       "  <div id=\"df-376801dd-bc4d-49b0-94c5-5d32c2878fdb\">\n",
       "    <div class=\"colab-df-container\">\n",
       "      <div>\n",
       "<style scoped>\n",
       "    .dataframe tbody tr th:only-of-type {\n",
       "        vertical-align: middle;\n",
       "    }\n",
       "\n",
       "    .dataframe tbody tr th {\n",
       "        vertical-align: top;\n",
       "    }\n",
       "\n",
       "    .dataframe thead th {\n",
       "        text-align: right;\n",
       "    }\n",
       "</style>\n",
       "<table border=\"1\" class=\"dataframe\">\n",
       "  <thead>\n",
       "    <tr style=\"text-align: right;\">\n",
       "      <th></th>\n",
       "      <th>customer_id_idx</th>\n",
       "      <th>article_id_idx</th>\n",
       "      <th>product_code</th>\n",
       "      <th>product_type_no</th>\n",
       "      <th>product_group_no</th>\n",
       "      <th>graphical_appearance_no</th>\n",
       "      <th>colour_group_code</th>\n",
       "      <th>perceived_colour_value_id</th>\n",
       "      <th>perceived_colour_master_id</th>\n",
       "      <th>department_no</th>\n",
       "      <th>index_code</th>\n",
       "      <th>index_group_no</th>\n",
       "      <th>section_no</th>\n",
       "      <th>garment_group_no</th>\n",
       "      <th>purchased</th>\n",
       "    </tr>\n",
       "  </thead>\n",
       "  <tbody>\n",
       "    <tr>\n",
       "      <th>5885273</th>\n",
       "      <td>2847</td>\n",
       "      <td>73698</td>\n",
       "      <td>30654</td>\n",
       "      <td>6</td>\n",
       "      <td>0</td>\n",
       "      <td>0</td>\n",
       "      <td>0</td>\n",
       "      <td>0</td>\n",
       "      <td>0</td>\n",
       "      <td>23</td>\n",
       "      <td>7</td>\n",
       "      <td>4</td>\n",
       "      <td>9</td>\n",
       "      <td>0</td>\n",
       "      <td>0</td>\n",
       "    </tr>\n",
       "    <tr>\n",
       "      <th>541363</th>\n",
       "      <td>3804</td>\n",
       "      <td>64918</td>\n",
       "      <td>26815</td>\n",
       "      <td>61</td>\n",
       "      <td>4</td>\n",
       "      <td>17</td>\n",
       "      <td>23</td>\n",
       "      <td>0</td>\n",
       "      <td>2</td>\n",
       "      <td>79</td>\n",
       "      <td>3</td>\n",
       "      <td>2</td>\n",
       "      <td>19</td>\n",
       "      <td>4</td>\n",
       "      <td>0</td>\n",
       "    </tr>\n",
       "    <tr>\n",
       "      <th>975898</th>\n",
       "      <td>4791</td>\n",
       "      <td>82204</td>\n",
       "      <td>34722</td>\n",
       "      <td>23</td>\n",
       "      <td>3</td>\n",
       "      <td>0</td>\n",
       "      <td>0</td>\n",
       "      <td>0</td>\n",
       "      <td>0</td>\n",
       "      <td>186</td>\n",
       "      <td>0</td>\n",
       "      <td>0</td>\n",
       "      <td>47</td>\n",
       "      <td>16</td>\n",
       "      <td>0</td>\n",
       "    </tr>\n",
       "    <tr>\n",
       "      <th>5642562</th>\n",
       "      <td>5364</td>\n",
       "      <td>75582</td>\n",
       "      <td>31615</td>\n",
       "      <td>38</td>\n",
       "      <td>0</td>\n",
       "      <td>0</td>\n",
       "      <td>0</td>\n",
       "      <td>0</td>\n",
       "      <td>0</td>\n",
       "      <td>209</td>\n",
       "      <td>0</td>\n",
       "      <td>0</td>\n",
       "      <td>32</td>\n",
       "      <td>12</td>\n",
       "      <td>0</td>\n",
       "    </tr>\n",
       "    <tr>\n",
       "      <th>2614341</th>\n",
       "      <td>5348</td>\n",
       "      <td>62200</td>\n",
       "      <td>25649</td>\n",
       "      <td>21</td>\n",
       "      <td>1</td>\n",
       "      <td>0</td>\n",
       "      <td>11</td>\n",
       "      <td>5</td>\n",
       "      <td>7</td>\n",
       "      <td>4</td>\n",
       "      <td>1</td>\n",
       "      <td>0</td>\n",
       "      <td>1</td>\n",
       "      <td>1</td>\n",
       "      <td>0</td>\n",
       "    </tr>\n",
       "  </tbody>\n",
       "</table>\n",
       "</div>\n",
       "      <button class=\"colab-df-convert\" onclick=\"convertToInteractive('df-376801dd-bc4d-49b0-94c5-5d32c2878fdb')\"\n",
       "              title=\"Convert this dataframe to an interactive table.\"\n",
       "              style=\"display:none;\">\n",
       "        \n",
       "  <svg xmlns=\"http://www.w3.org/2000/svg\" height=\"24px\"viewBox=\"0 0 24 24\"\n",
       "       width=\"24px\">\n",
       "    <path d=\"M0 0h24v24H0V0z\" fill=\"none\"/>\n",
       "    <path d=\"M18.56 5.44l.94 2.06.94-2.06 2.06-.94-2.06-.94-.94-2.06-.94 2.06-2.06.94zm-11 1L8.5 8.5l.94-2.06 2.06-.94-2.06-.94L8.5 2.5l-.94 2.06-2.06.94zm10 10l.94 2.06.94-2.06 2.06-.94-2.06-.94-.94-2.06-.94 2.06-2.06.94z\"/><path d=\"M17.41 7.96l-1.37-1.37c-.4-.4-.92-.59-1.43-.59-.52 0-1.04.2-1.43.59L10.3 9.45l-7.72 7.72c-.78.78-.78 2.05 0 2.83L4 21.41c.39.39.9.59 1.41.59.51 0 1.02-.2 1.41-.59l7.78-7.78 2.81-2.81c.8-.78.8-2.07 0-2.86zM5.41 20L4 18.59l7.72-7.72 1.47 1.35L5.41 20z\"/>\n",
       "  </svg>\n",
       "      </button>\n",
       "      \n",
       "  <style>\n",
       "    .colab-df-container {\n",
       "      display:flex;\n",
       "      flex-wrap:wrap;\n",
       "      gap: 12px;\n",
       "    }\n",
       "\n",
       "    .colab-df-convert {\n",
       "      background-color: #E8F0FE;\n",
       "      border: none;\n",
       "      border-radius: 50%;\n",
       "      cursor: pointer;\n",
       "      display: none;\n",
       "      fill: #1967D2;\n",
       "      height: 32px;\n",
       "      padding: 0 0 0 0;\n",
       "      width: 32px;\n",
       "    }\n",
       "\n",
       "    .colab-df-convert:hover {\n",
       "      background-color: #E2EBFA;\n",
       "      box-shadow: 0px 1px 2px rgba(60, 64, 67, 0.3), 0px 1px 3px 1px rgba(60, 64, 67, 0.15);\n",
       "      fill: #174EA6;\n",
       "    }\n",
       "\n",
       "    [theme=dark] .colab-df-convert {\n",
       "      background-color: #3B4455;\n",
       "      fill: #D2E3FC;\n",
       "    }\n",
       "\n",
       "    [theme=dark] .colab-df-convert:hover {\n",
       "      background-color: #434B5C;\n",
       "      box-shadow: 0px 1px 3px 1px rgba(0, 0, 0, 0.15);\n",
       "      filter: drop-shadow(0px 1px 2px rgba(0, 0, 0, 0.3));\n",
       "      fill: #FFFFFF;\n",
       "    }\n",
       "  </style>\n",
       "\n",
       "      <script>\n",
       "        const buttonEl =\n",
       "          document.querySelector('#df-376801dd-bc4d-49b0-94c5-5d32c2878fdb button.colab-df-convert');\n",
       "        buttonEl.style.display =\n",
       "          google.colab.kernel.accessAllowed ? 'block' : 'none';\n",
       "\n",
       "        async function convertToInteractive(key) {\n",
       "          const element = document.querySelector('#df-376801dd-bc4d-49b0-94c5-5d32c2878fdb');\n",
       "          const dataTable =\n",
       "            await google.colab.kernel.invokeFunction('convertToInteractive',\n",
       "                                                     [key], {});\n",
       "          if (!dataTable) return;\n",
       "\n",
       "          const docLinkHtml = 'Like what you see? Visit the ' +\n",
       "            '<a target=\"_blank\" href=https://colab.research.google.com/notebooks/data_table.ipynb>data table notebook</a>'\n",
       "            + ' to learn more about interactive tables.';\n",
       "          element.innerHTML = '';\n",
       "          dataTable['output_type'] = 'display_data';\n",
       "          await google.colab.output.renderOutput(dataTable, element);\n",
       "          const docLink = document.createElement('div');\n",
       "          docLink.innerHTML = docLinkHtml;\n",
       "          element.appendChild(docLink);\n",
       "        }\n",
       "      </script>\n",
       "    </div>\n",
       "  </div>\n",
       "  "
      ],
      "text/plain": [
       "         customer_id_idx article_id_idx  product_code  product_type_no  \\\n",
       "5885273             2847          73698         30654                6   \n",
       "541363              3804          64918         26815               61   \n",
       "975898              4791          82204         34722               23   \n",
       "5642562             5364          75582         31615               38   \n",
       "2614341             5348          62200         25649               21   \n",
       "\n",
       "         product_group_no  graphical_appearance_no  colour_group_code  \\\n",
       "5885273                 0                        0                  0   \n",
       "541363                  4                       17                 23   \n",
       "975898                  3                        0                  0   \n",
       "5642562                 0                        0                  0   \n",
       "2614341                 1                        0                 11   \n",
       "\n",
       "         perceived_colour_value_id  perceived_colour_master_id  department_no  \\\n",
       "5885273                          0                           0             23   \n",
       "541363                           0                           2             79   \n",
       "975898                           0                           0            186   \n",
       "5642562                          0                           0            209   \n",
       "2614341                          5                           7              4   \n",
       "\n",
       "         index_code  index_group_no  section_no  garment_group_no  purchased  \n",
       "5885273           7               4           9                 0          0  \n",
       "541363            3               2          19                 4          0  \n",
       "975898            0               0          47                16          0  \n",
       "5642562           0               0          32                12          0  \n",
       "2614341           1               0           1                 1          0  "
      ]
     },
     "execution_count": 83,
     "metadata": {},
     "output_type": "execute_result"
    }
   ],
   "source": [
    "training_data_full.head()"
   ]
  },
  {
   "cell_type": "code",
   "execution_count": 84,
   "id": "21d203e0",
   "metadata": {
    "executionInfo": {
     "elapsed": 247,
     "status": "ok",
     "timestamp": 1649692936828,
     "user": {
      "displayName": "Steven George",
      "userId": "07709250839253394649"
     },
     "user_tz": -60
    },
    "id": "759650e3"
   },
   "outputs": [],
   "source": [
    "top100_items = (train_set.groupby('article_id_idx')['customer_id'].count() / train_set.shape[0]).sort_values(ascending=False).head(1000).index.tolist()"
   ]
  },
  {
   "cell_type": "code",
   "execution_count": 85,
   "id": "1b0c32eb",
   "metadata": {
    "colab": {
     "base_uri": "https://localhost:8080/",
     "height": 206
    },
    "executionInfo": {
     "elapsed": 8,
     "status": "ok",
     "timestamp": 1649692936828,
     "user": {
      "displayName": "Steven George",
      "userId": "07709250839253394649"
     },
     "user_tz": -60
    },
    "id": "8f121c25",
    "outputId": "270560ce-36c6-48db-b6ef-11f23e380d65"
   },
   "outputs": [
    {
     "data": {
      "text/html": [
       "\n",
       "  <div id=\"df-ace47ca6-4ec3-401f-be91-4176b571df84\">\n",
       "    <div class=\"colab-df-container\">\n",
       "      <div>\n",
       "<style scoped>\n",
       "    .dataframe tbody tr th:only-of-type {\n",
       "        vertical-align: middle;\n",
       "    }\n",
       "\n",
       "    .dataframe tbody tr th {\n",
       "        vertical-align: top;\n",
       "    }\n",
       "\n",
       "    .dataframe thead th {\n",
       "        text-align: right;\n",
       "    }\n",
       "</style>\n",
       "<table border=\"1\" class=\"dataframe\">\n",
       "  <thead>\n",
       "    <tr style=\"text-align: right;\">\n",
       "      <th></th>\n",
       "      <th>customer_id_idx</th>\n",
       "    </tr>\n",
       "  </thead>\n",
       "  <tbody>\n",
       "    <tr>\n",
       "      <th>0</th>\n",
       "      <td>0</td>\n",
       "    </tr>\n",
       "    <tr>\n",
       "      <th>1</th>\n",
       "      <td>4003</td>\n",
       "    </tr>\n",
       "    <tr>\n",
       "      <th>2</th>\n",
       "      <td>238</td>\n",
       "    </tr>\n",
       "    <tr>\n",
       "      <th>3</th>\n",
       "      <td>3419</td>\n",
       "    </tr>\n",
       "    <tr>\n",
       "      <th>4</th>\n",
       "      <td>7876</td>\n",
       "    </tr>\n",
       "  </tbody>\n",
       "</table>\n",
       "</div>\n",
       "      <button class=\"colab-df-convert\" onclick=\"convertToInteractive('df-ace47ca6-4ec3-401f-be91-4176b571df84')\"\n",
       "              title=\"Convert this dataframe to an interactive table.\"\n",
       "              style=\"display:none;\">\n",
       "        \n",
       "  <svg xmlns=\"http://www.w3.org/2000/svg\" height=\"24px\"viewBox=\"0 0 24 24\"\n",
       "       width=\"24px\">\n",
       "    <path d=\"M0 0h24v24H0V0z\" fill=\"none\"/>\n",
       "    <path d=\"M18.56 5.44l.94 2.06.94-2.06 2.06-.94-2.06-.94-.94-2.06-.94 2.06-2.06.94zm-11 1L8.5 8.5l.94-2.06 2.06-.94-2.06-.94L8.5 2.5l-.94 2.06-2.06.94zm10 10l.94 2.06.94-2.06 2.06-.94-2.06-.94-.94-2.06-.94 2.06-2.06.94z\"/><path d=\"M17.41 7.96l-1.37-1.37c-.4-.4-.92-.59-1.43-.59-.52 0-1.04.2-1.43.59L10.3 9.45l-7.72 7.72c-.78.78-.78 2.05 0 2.83L4 21.41c.39.39.9.59 1.41.59.51 0 1.02-.2 1.41-.59l7.78-7.78 2.81-2.81c.8-.78.8-2.07 0-2.86zM5.41 20L4 18.59l7.72-7.72 1.47 1.35L5.41 20z\"/>\n",
       "  </svg>\n",
       "      </button>\n",
       "      \n",
       "  <style>\n",
       "    .colab-df-container {\n",
       "      display:flex;\n",
       "      flex-wrap:wrap;\n",
       "      gap: 12px;\n",
       "    }\n",
       "\n",
       "    .colab-df-convert {\n",
       "      background-color: #E8F0FE;\n",
       "      border: none;\n",
       "      border-radius: 50%;\n",
       "      cursor: pointer;\n",
       "      display: none;\n",
       "      fill: #1967D2;\n",
       "      height: 32px;\n",
       "      padding: 0 0 0 0;\n",
       "      width: 32px;\n",
       "    }\n",
       "\n",
       "    .colab-df-convert:hover {\n",
       "      background-color: #E2EBFA;\n",
       "      box-shadow: 0px 1px 2px rgba(60, 64, 67, 0.3), 0px 1px 3px 1px rgba(60, 64, 67, 0.15);\n",
       "      fill: #174EA6;\n",
       "    }\n",
       "\n",
       "    [theme=dark] .colab-df-convert {\n",
       "      background-color: #3B4455;\n",
       "      fill: #D2E3FC;\n",
       "    }\n",
       "\n",
       "    [theme=dark] .colab-df-convert:hover {\n",
       "      background-color: #434B5C;\n",
       "      box-shadow: 0px 1px 3px 1px rgba(0, 0, 0, 0.15);\n",
       "      filter: drop-shadow(0px 1px 2px rgba(0, 0, 0, 0.3));\n",
       "      fill: #FFFFFF;\n",
       "    }\n",
       "  </style>\n",
       "\n",
       "      <script>\n",
       "        const buttonEl =\n",
       "          document.querySelector('#df-ace47ca6-4ec3-401f-be91-4176b571df84 button.colab-df-convert');\n",
       "        buttonEl.style.display =\n",
       "          google.colab.kernel.accessAllowed ? 'block' : 'none';\n",
       "\n",
       "        async function convertToInteractive(key) {\n",
       "          const element = document.querySelector('#df-ace47ca6-4ec3-401f-be91-4176b571df84');\n",
       "          const dataTable =\n",
       "            await google.colab.kernel.invokeFunction('convertToInteractive',\n",
       "                                                     [key], {});\n",
       "          if (!dataTable) return;\n",
       "\n",
       "          const docLinkHtml = 'Like what you see? Visit the ' +\n",
       "            '<a target=\"_blank\" href=https://colab.research.google.com/notebooks/data_table.ipynb>data table notebook</a>'\n",
       "            + ' to learn more about interactive tables.';\n",
       "          element.innerHTML = '';\n",
       "          dataTable['output_type'] = 'display_data';\n",
       "          await google.colab.output.renderOutput(dataTable, element);\n",
       "          const docLink = document.createElement('div');\n",
       "          docLink.innerHTML = docLinkHtml;\n",
       "          element.appendChild(docLink);\n",
       "        }\n",
       "      </script>\n",
       "    </div>\n",
       "  </div>\n",
       "  "
      ],
      "text/plain": [
       "   customer_id_idx\n",
       "0                0\n",
       "1             4003\n",
       "2              238\n",
       "3             3419\n",
       "4             7876"
      ]
     },
     "execution_count": 85,
     "metadata": {},
     "output_type": "execute_result"
    }
   ],
   "source": [
    "test_data = test_set_by_customer.copy()[['customer_id']]\n",
    "test_data['customer_id_idx'] = test_data['customer_id'].map(customer_id_to_idx)\n",
    "test_data.drop(columns='customer_id', inplace=True)\n",
    "test_data.head()"
   ]
  },
  {
   "cell_type": "code",
   "execution_count": 86,
   "id": "d2f9602b",
   "metadata": {
    "executionInfo": {
     "elapsed": 8,
     "status": "ok",
     "timestamp": 1649692936829,
     "user": {
      "displayName": "Steven George",
      "userId": "07709250839253394649"
     },
     "user_tz": -60
    },
    "id": "2264f006"
   },
   "outputs": [],
   "source": [
    "test_data['join_key'] = 1"
   ]
  },
  {
   "cell_type": "code",
   "execution_count": 87,
   "id": "2216fe24",
   "metadata": {
    "colab": {
     "base_uri": "https://localhost:8080/",
     "height": 206
    },
    "executionInfo": {
     "elapsed": 7,
     "status": "ok",
     "timestamp": 1649692936829,
     "user": {
      "displayName": "Steven George",
      "userId": "07709250839253394649"
     },
     "user_tz": -60
    },
    "id": "b676fe1e",
    "outputId": "b16abb62-990e-4da2-b755-e4b51d005ddb"
   },
   "outputs": [
    {
     "data": {
      "text/html": [
       "\n",
       "  <div id=\"df-7a96ac62-a2d4-4d3c-860c-b9f9e4b506ee\">\n",
       "    <div class=\"colab-df-container\">\n",
       "      <div>\n",
       "<style scoped>\n",
       "    .dataframe tbody tr th:only-of-type {\n",
       "        vertical-align: middle;\n",
       "    }\n",
       "\n",
       "    .dataframe tbody tr th {\n",
       "        vertical-align: top;\n",
       "    }\n",
       "\n",
       "    .dataframe thead th {\n",
       "        text-align: right;\n",
       "    }\n",
       "</style>\n",
       "<table border=\"1\" class=\"dataframe\">\n",
       "  <thead>\n",
       "    <tr style=\"text-align: right;\">\n",
       "      <th></th>\n",
       "      <th>article_id_idx</th>\n",
       "      <th>join_key</th>\n",
       "    </tr>\n",
       "  </thead>\n",
       "  <tbody>\n",
       "    <tr>\n",
       "      <th>0</th>\n",
       "      <td>53892</td>\n",
       "      <td>1</td>\n",
       "    </tr>\n",
       "    <tr>\n",
       "      <th>1</th>\n",
       "      <td>53893</td>\n",
       "      <td>1</td>\n",
       "    </tr>\n",
       "    <tr>\n",
       "      <th>2</th>\n",
       "      <td>1713</td>\n",
       "      <td>1</td>\n",
       "    </tr>\n",
       "    <tr>\n",
       "      <th>3</th>\n",
       "      <td>24837</td>\n",
       "      <td>1</td>\n",
       "    </tr>\n",
       "    <tr>\n",
       "      <th>4</th>\n",
       "      <td>70221</td>\n",
       "      <td>1</td>\n",
       "    </tr>\n",
       "  </tbody>\n",
       "</table>\n",
       "</div>\n",
       "      <button class=\"colab-df-convert\" onclick=\"convertToInteractive('df-7a96ac62-a2d4-4d3c-860c-b9f9e4b506ee')\"\n",
       "              title=\"Convert this dataframe to an interactive table.\"\n",
       "              style=\"display:none;\">\n",
       "        \n",
       "  <svg xmlns=\"http://www.w3.org/2000/svg\" height=\"24px\"viewBox=\"0 0 24 24\"\n",
       "       width=\"24px\">\n",
       "    <path d=\"M0 0h24v24H0V0z\" fill=\"none\"/>\n",
       "    <path d=\"M18.56 5.44l.94 2.06.94-2.06 2.06-.94-2.06-.94-.94-2.06-.94 2.06-2.06.94zm-11 1L8.5 8.5l.94-2.06 2.06-.94-2.06-.94L8.5 2.5l-.94 2.06-2.06.94zm10 10l.94 2.06.94-2.06 2.06-.94-2.06-.94-.94-2.06-.94 2.06-2.06.94z\"/><path d=\"M17.41 7.96l-1.37-1.37c-.4-.4-.92-.59-1.43-.59-.52 0-1.04.2-1.43.59L10.3 9.45l-7.72 7.72c-.78.78-.78 2.05 0 2.83L4 21.41c.39.39.9.59 1.41.59.51 0 1.02-.2 1.41-.59l7.78-7.78 2.81-2.81c.8-.78.8-2.07 0-2.86zM5.41 20L4 18.59l7.72-7.72 1.47 1.35L5.41 20z\"/>\n",
       "  </svg>\n",
       "      </button>\n",
       "      \n",
       "  <style>\n",
       "    .colab-df-container {\n",
       "      display:flex;\n",
       "      flex-wrap:wrap;\n",
       "      gap: 12px;\n",
       "    }\n",
       "\n",
       "    .colab-df-convert {\n",
       "      background-color: #E8F0FE;\n",
       "      border: none;\n",
       "      border-radius: 50%;\n",
       "      cursor: pointer;\n",
       "      display: none;\n",
       "      fill: #1967D2;\n",
       "      height: 32px;\n",
       "      padding: 0 0 0 0;\n",
       "      width: 32px;\n",
       "    }\n",
       "\n",
       "    .colab-df-convert:hover {\n",
       "      background-color: #E2EBFA;\n",
       "      box-shadow: 0px 1px 2px rgba(60, 64, 67, 0.3), 0px 1px 3px 1px rgba(60, 64, 67, 0.15);\n",
       "      fill: #174EA6;\n",
       "    }\n",
       "\n",
       "    [theme=dark] .colab-df-convert {\n",
       "      background-color: #3B4455;\n",
       "      fill: #D2E3FC;\n",
       "    }\n",
       "\n",
       "    [theme=dark] .colab-df-convert:hover {\n",
       "      background-color: #434B5C;\n",
       "      box-shadow: 0px 1px 3px 1px rgba(0, 0, 0, 0.15);\n",
       "      filter: drop-shadow(0px 1px 2px rgba(0, 0, 0, 0.3));\n",
       "      fill: #FFFFFF;\n",
       "    }\n",
       "  </style>\n",
       "\n",
       "      <script>\n",
       "        const buttonEl =\n",
       "          document.querySelector('#df-7a96ac62-a2d4-4d3c-860c-b9f9e4b506ee button.colab-df-convert');\n",
       "        buttonEl.style.display =\n",
       "          google.colab.kernel.accessAllowed ? 'block' : 'none';\n",
       "\n",
       "        async function convertToInteractive(key) {\n",
       "          const element = document.querySelector('#df-7a96ac62-a2d4-4d3c-860c-b9f9e4b506ee');\n",
       "          const dataTable =\n",
       "            await google.colab.kernel.invokeFunction('convertToInteractive',\n",
       "                                                     [key], {});\n",
       "          if (!dataTable) return;\n",
       "\n",
       "          const docLinkHtml = 'Like what you see? Visit the ' +\n",
       "            '<a target=\"_blank\" href=https://colab.research.google.com/notebooks/data_table.ipynb>data table notebook</a>'\n",
       "            + ' to learn more about interactive tables.';\n",
       "          element.innerHTML = '';\n",
       "          dataTable['output_type'] = 'display_data';\n",
       "          await google.colab.output.renderOutput(dataTable, element);\n",
       "          const docLink = document.createElement('div');\n",
       "          docLink.innerHTML = docLinkHtml;\n",
       "          element.appendChild(docLink);\n",
       "        }\n",
       "      </script>\n",
       "    </div>\n",
       "  </div>\n",
       "  "
      ],
      "text/plain": [
       "   article_id_idx  join_key\n",
       "0           53892         1\n",
       "1           53893         1\n",
       "2            1713         1\n",
       "3           24837         1\n",
       "4           70221         1"
      ]
     },
     "execution_count": 87,
     "metadata": {},
     "output_type": "execute_result"
    }
   ],
   "source": [
    "top100_items_df = pd.DataFrame({'article_id_idx': top100_items})\n",
    "top100_items_df['join_key'] = 1\n",
    "top100_items_df.head()"
   ]
  },
  {
   "cell_type": "code",
   "execution_count": 88,
   "id": "236cd2e4",
   "metadata": {
    "executionInfo": {
     "elapsed": 244,
     "status": "ok",
     "timestamp": 1649692937066,
     "user": {
      "displayName": "Steven George",
      "userId": "07709250839253394649"
     },
     "user_tz": -60
    },
    "id": "c6b982ae"
   },
   "outputs": [],
   "source": [
    "test_data = test_data.merge(top100_items_df, on='join_key').drop('join_key', axis=1)"
   ]
  },
  {
   "cell_type": "code",
   "execution_count": 89,
   "id": "921c43d8",
   "metadata": {
    "executionInfo": {
     "elapsed": 819,
     "status": "ok",
     "timestamp": 1649692937883,
     "user": {
      "displayName": "Steven George",
      "userId": "07709250839253394649"
     },
     "user_tz": -60
    },
    "id": "84bc059e"
   },
   "outputs": [],
   "source": [
    "test_data = test_data.merge(articles_df[['article_id_idx'] + CATEGORICAL_FEATURES], on=['article_id_idx'])"
   ]
  },
  {
   "cell_type": "code",
   "execution_count": 90,
   "id": "6943f1c9",
   "metadata": {
    "executionInfo": {
     "elapsed": 8,
     "status": "ok",
     "timestamp": 1649692937884,
     "user": {
      "displayName": "Steven George",
      "userId": "07709250839253394649"
     },
     "user_tz": -60
    },
    "id": "f3e699c0"
   },
   "outputs": [],
   "source": [
    "test_data['purchased'] = 999"
   ]
  },
  {
   "cell_type": "code",
   "execution_count": 91,
   "id": "fff8cf12",
   "metadata": {
    "executionInfo": {
     "elapsed": 7,
     "status": "ok",
     "timestamp": 1649692937884,
     "user": {
      "displayName": "Steven George",
      "userId": "07709250839253394649"
     },
     "user_tz": -60
    },
    "id": "d49848a9"
   },
   "outputs": [],
   "source": [
    "test_dataset = PurchasesDatasetWithArticleFeatures(test_data)"
   ]
  },
  {
   "cell_type": "code",
   "execution_count": 92,
   "id": "5742e1e7",
   "metadata": {
    "executionInfo": {
     "elapsed": 7,
     "status": "ok",
     "timestamp": 1649692937885,
     "user": {
      "displayName": "Steven George",
      "userId": "07709250839253394649"
     },
     "user_tz": -60
    },
    "id": "cf38e48d"
   },
   "outputs": [],
   "source": [
    "test_loader = DataLoader(test_dataset, batch_size=BATCH_SIZE*4)  "
   ]
  },
  {
   "cell_type": "code",
   "execution_count": 93,
   "id": "e31ac765",
   "metadata": {
    "colab": {
     "base_uri": "https://localhost:8080/"
    },
    "executionInfo": {
     "elapsed": 75739,
     "status": "ok",
     "timestamp": 1649693013617,
     "user": {
      "displayName": "Steven George",
      "userId": "07709250839253394649"
     },
     "user_tz": -60
    },
    "id": "55a48141",
    "outputId": "511917ab-2440-4003-8ea2-42560239cb00"
   },
   "outputs": [
    {
     "name": "stderr",
     "output_type": "stream",
     "text": [
      "100%|██████████| 1125/1125 [01:15<00:00, 14.89it/s]\n"
     ]
    }
   ],
   "source": [
    "test_predictions = []\n",
    "\n",
    "fashion_rec_v2.eval()\n",
    "\n",
    "with torch.no_grad():\n",
    "    for data in tqdm(test_loader):\n",
    "\n",
    "        user_id, item_id, product_code, product_type_no, product_group_no, graphical_appearance_no, colour_group_code, perceived_colour_value_id, perceived_colour_master_id, department_no, index_code, index_group_no, section_no, garment_group_no, label = data\n",
    "\n",
    "        user_id, item_id, product_code, product_type_no, product_group_no, graphical_appearance_no, colour_group_code, perceived_colour_value_id, perceived_colour_master_id, department_no, index_code, index_group_no, section_no, garment_group_no, label = (\n",
    "            user_id.to(device), \n",
    "            item_id.to(device), \n",
    "            product_code.to(device), \n",
    "            product_type_no.to(device), \n",
    "            product_group_no.to(device), \n",
    "            graphical_appearance_no.to(device), \n",
    "            colour_group_code.to(device), \n",
    "            perceived_colour_value_id.to(device), \n",
    "            perceived_colour_master_id.to(device), \n",
    "            department_no.to(device), \n",
    "            index_code.to(device), \n",
    "            index_group_no.to(device), \n",
    "            section_no.to(device), \n",
    "            garment_group_no.to(device), \n",
    "            label.to(device)\n",
    "        )    \n",
    "\n",
    "        pred = fashion_rec_v2(\n",
    "            user_id, \n",
    "            item_id, \n",
    "            product_code, \n",
    "            product_type_no, \n",
    "            product_group_no, \n",
    "            graphical_appearance_no, \n",
    "            colour_group_code, \n",
    "            perceived_colour_value_id, \n",
    "            perceived_colour_master_id, \n",
    "            department_no, \n",
    "            index_code, \n",
    "            index_group_no, \n",
    "            section_no, \n",
    "            garment_group_no\n",
    "        )\n",
    "        \n",
    "        test_predictions += pred.flatten().tolist()"
   ]
  },
  {
   "cell_type": "code",
   "execution_count": 94,
   "id": "f03b4cbb",
   "metadata": {
    "colab": {
     "base_uri": "https://localhost:8080/"
    },
    "executionInfo": {
     "elapsed": 22,
     "status": "ok",
     "timestamp": 1649693013618,
     "user": {
      "displayName": "Steven George",
      "userId": "07709250839253394649"
     },
     "user_tz": -60
    },
    "id": "7ff94dc9",
    "outputId": "801a5580-db4a-4af5-c1c3-d60be08c503b"
   },
   "outputs": [
    {
     "data": {
      "text/plain": [
       "9208000"
      ]
     },
     "execution_count": 94,
     "metadata": {},
     "output_type": "execute_result"
    }
   ],
   "source": [
    "len(test_predictions)"
   ]
  },
  {
   "cell_type": "code",
   "execution_count": 95,
   "id": "ac4ea2a2",
   "metadata": {
    "colab": {
     "base_uri": "https://localhost:8080/"
    },
    "executionInfo": {
     "elapsed": 17,
     "status": "ok",
     "timestamp": 1649693013618,
     "user": {
      "displayName": "Steven George",
      "userId": "07709250839253394649"
     },
     "user_tz": -60
    },
    "id": "22579ede",
    "outputId": "36f2e452-95aa-4e2f-8b27-67b070050d3c"
   },
   "outputs": [
    {
     "data": {
      "text/plain": [
       "9208000"
      ]
     },
     "execution_count": 95,
     "metadata": {},
     "output_type": "execute_result"
    }
   ],
   "source": [
    "len(test_dataset)"
   ]
  },
  {
   "cell_type": "code",
   "execution_count": 96,
   "id": "0e99e1d9",
   "metadata": {
    "executionInfo": {
     "elapsed": 944,
     "status": "ok",
     "timestamp": 1649693014549,
     "user": {
      "displayName": "Steven George",
      "userId": "07709250839253394649"
     },
     "user_tz": -60
    },
    "id": "8a6de29c"
   },
   "outputs": [],
   "source": [
    "test_data['prediction'] = test_predictions"
   ]
  },
  {
   "cell_type": "code",
   "execution_count": 97,
   "id": "34e8ee38",
   "metadata": {
    "executionInfo": {
     "elapsed": 11851,
     "status": "ok",
     "timestamp": 1649693026397,
     "user": {
      "displayName": "Steven George",
      "userId": "07709250839253394649"
     },
     "user_tz": -60
    },
    "id": "dbeeb6a6"
   },
   "outputs": [],
   "source": [
    "test_data.sort_values(['customer_id_idx', 'prediction'], ascending=False, inplace=True)"
   ]
  },
  {
   "cell_type": "code",
   "execution_count": 98,
   "id": "111fb14b",
   "metadata": {
    "colab": {
     "base_uri": "https://localhost:8080/",
     "height": 423
    },
    "executionInfo": {
     "elapsed": 1834,
     "status": "ok",
     "timestamp": 1649693028214,
     "user": {
      "displayName": "Steven George",
      "userId": "07709250839253394649"
     },
     "user_tz": -60
    },
    "id": "cd815711",
    "outputId": "784b5669-df1f-4259-a005-c00b578d6b44"
   },
   "outputs": [
    {
     "data": {
      "text/html": [
       "\n",
       "  <div id=\"df-d32e4430-a133-4f55-8d47-dae227efeb94\">\n",
       "    <div class=\"colab-df-container\">\n",
       "      <div>\n",
       "<style scoped>\n",
       "    .dataframe tbody tr th:only-of-type {\n",
       "        vertical-align: middle;\n",
       "    }\n",
       "\n",
       "    .dataframe tbody tr th {\n",
       "        vertical-align: top;\n",
       "    }\n",
       "\n",
       "    .dataframe thead th {\n",
       "        text-align: right;\n",
       "    }\n",
       "</style>\n",
       "<table border=\"1\" class=\"dataframe\">\n",
       "  <thead>\n",
       "    <tr style=\"text-align: right;\">\n",
       "      <th></th>\n",
       "      <th>customer_id_idx</th>\n",
       "      <th>predictions</th>\n",
       "    </tr>\n",
       "  </thead>\n",
       "  <tbody>\n",
       "    <tr>\n",
       "      <th>0</th>\n",
       "      <td>0</td>\n",
       "      <td>[46351, 46384, 46425, 16453, 46382, 58491, 464...</td>\n",
       "    </tr>\n",
       "    <tr>\n",
       "      <th>1</th>\n",
       "      <td>1</td>\n",
       "      <td>[81826, 81825, 81828, 58491, 24836, 4444, 7022...</td>\n",
       "    </tr>\n",
       "    <tr>\n",
       "      <th>2</th>\n",
       "      <td>2</td>\n",
       "      <td>[53892, 53893, 53894, 53896, 53902, 70221, 702...</td>\n",
       "    </tr>\n",
       "    <tr>\n",
       "      <th>3</th>\n",
       "      <td>3</td>\n",
       "      <td>[46425, 58584, 46351, 46426, 22465, 16453, 463...</td>\n",
       "    </tr>\n",
       "    <tr>\n",
       "      <th>4</th>\n",
       "      <td>4</td>\n",
       "      <td>[53892, 53893, 2236, 24837, 70221, 70220, 3091...</td>\n",
       "    </tr>\n",
       "    <tr>\n",
       "      <th>...</th>\n",
       "      <td>...</td>\n",
       "      <td>...</td>\n",
       "    </tr>\n",
       "    <tr>\n",
       "      <th>9203</th>\n",
       "      <td>9203</td>\n",
       "      <td>[53892, 3091, 1713, 24837, 4444, 67522, 53893,...</td>\n",
       "    </tr>\n",
       "    <tr>\n",
       "      <th>9204</th>\n",
       "      <td>9204</td>\n",
       "      <td>[53892, 24837, 4444, 3091, 1713, 67522, 58491,...</td>\n",
       "    </tr>\n",
       "    <tr>\n",
       "      <th>9205</th>\n",
       "      <td>9205</td>\n",
       "      <td>[53892, 3091, 4444, 53893, 24837, 70221, 67522...</td>\n",
       "    </tr>\n",
       "    <tr>\n",
       "      <th>9206</th>\n",
       "      <td>9206</td>\n",
       "      <td>[53892, 3091, 4444, 24837, 67522, 58491, 53893...</td>\n",
       "    </tr>\n",
       "    <tr>\n",
       "      <th>9207</th>\n",
       "      <td>9207</td>\n",
       "      <td>[53892, 3091, 4444, 24837, 1713, 58491, 70221,...</td>\n",
       "    </tr>\n",
       "  </tbody>\n",
       "</table>\n",
       "<p>9208 rows × 2 columns</p>\n",
       "</div>\n",
       "      <button class=\"colab-df-convert\" onclick=\"convertToInteractive('df-d32e4430-a133-4f55-8d47-dae227efeb94')\"\n",
       "              title=\"Convert this dataframe to an interactive table.\"\n",
       "              style=\"display:none;\">\n",
       "        \n",
       "  <svg xmlns=\"http://www.w3.org/2000/svg\" height=\"24px\"viewBox=\"0 0 24 24\"\n",
       "       width=\"24px\">\n",
       "    <path d=\"M0 0h24v24H0V0z\" fill=\"none\"/>\n",
       "    <path d=\"M18.56 5.44l.94 2.06.94-2.06 2.06-.94-2.06-.94-.94-2.06-.94 2.06-2.06.94zm-11 1L8.5 8.5l.94-2.06 2.06-.94-2.06-.94L8.5 2.5l-.94 2.06-2.06.94zm10 10l.94 2.06.94-2.06 2.06-.94-2.06-.94-.94-2.06-.94 2.06-2.06.94z\"/><path d=\"M17.41 7.96l-1.37-1.37c-.4-.4-.92-.59-1.43-.59-.52 0-1.04.2-1.43.59L10.3 9.45l-7.72 7.72c-.78.78-.78 2.05 0 2.83L4 21.41c.39.39.9.59 1.41.59.51 0 1.02-.2 1.41-.59l7.78-7.78 2.81-2.81c.8-.78.8-2.07 0-2.86zM5.41 20L4 18.59l7.72-7.72 1.47 1.35L5.41 20z\"/>\n",
       "  </svg>\n",
       "      </button>\n",
       "      \n",
       "  <style>\n",
       "    .colab-df-container {\n",
       "      display:flex;\n",
       "      flex-wrap:wrap;\n",
       "      gap: 12px;\n",
       "    }\n",
       "\n",
       "    .colab-df-convert {\n",
       "      background-color: #E8F0FE;\n",
       "      border: none;\n",
       "      border-radius: 50%;\n",
       "      cursor: pointer;\n",
       "      display: none;\n",
       "      fill: #1967D2;\n",
       "      height: 32px;\n",
       "      padding: 0 0 0 0;\n",
       "      width: 32px;\n",
       "    }\n",
       "\n",
       "    .colab-df-convert:hover {\n",
       "      background-color: #E2EBFA;\n",
       "      box-shadow: 0px 1px 2px rgba(60, 64, 67, 0.3), 0px 1px 3px 1px rgba(60, 64, 67, 0.15);\n",
       "      fill: #174EA6;\n",
       "    }\n",
       "\n",
       "    [theme=dark] .colab-df-convert {\n",
       "      background-color: #3B4455;\n",
       "      fill: #D2E3FC;\n",
       "    }\n",
       "\n",
       "    [theme=dark] .colab-df-convert:hover {\n",
       "      background-color: #434B5C;\n",
       "      box-shadow: 0px 1px 3px 1px rgba(0, 0, 0, 0.15);\n",
       "      filter: drop-shadow(0px 1px 2px rgba(0, 0, 0, 0.3));\n",
       "      fill: #FFFFFF;\n",
       "    }\n",
       "  </style>\n",
       "\n",
       "      <script>\n",
       "        const buttonEl =\n",
       "          document.querySelector('#df-d32e4430-a133-4f55-8d47-dae227efeb94 button.colab-df-convert');\n",
       "        buttonEl.style.display =\n",
       "          google.colab.kernel.accessAllowed ? 'block' : 'none';\n",
       "\n",
       "        async function convertToInteractive(key) {\n",
       "          const element = document.querySelector('#df-d32e4430-a133-4f55-8d47-dae227efeb94');\n",
       "          const dataTable =\n",
       "            await google.colab.kernel.invokeFunction('convertToInteractive',\n",
       "                                                     [key], {});\n",
       "          if (!dataTable) return;\n",
       "\n",
       "          const docLinkHtml = 'Like what you see? Visit the ' +\n",
       "            '<a target=\"_blank\" href=https://colab.research.google.com/notebooks/data_table.ipynb>data table notebook</a>'\n",
       "            + ' to learn more about interactive tables.';\n",
       "          element.innerHTML = '';\n",
       "          dataTable['output_type'] = 'display_data';\n",
       "          await google.colab.output.renderOutput(dataTable, element);\n",
       "          const docLink = document.createElement('div');\n",
       "          docLink.innerHTML = docLinkHtml;\n",
       "          element.appendChild(docLink);\n",
       "        }\n",
       "      </script>\n",
       "    </div>\n",
       "  </div>\n",
       "  "
      ],
      "text/plain": [
       "      customer_id_idx                                        predictions\n",
       "0                   0  [46351, 46384, 46425, 16453, 46382, 58491, 464...\n",
       "1                   1  [81826, 81825, 81828, 58491, 24836, 4444, 7022...\n",
       "2                   2  [53892, 53893, 53894, 53896, 53902, 70221, 702...\n",
       "3                   3  [46425, 58584, 46351, 46426, 22465, 16453, 463...\n",
       "4                   4  [53892, 53893, 2236, 24837, 70221, 70220, 3091...\n",
       "...               ...                                                ...\n",
       "9203             9203  [53892, 3091, 1713, 24837, 4444, 67522, 53893,...\n",
       "9204             9204  [53892, 24837, 4444, 3091, 1713, 67522, 58491,...\n",
       "9205             9205  [53892, 3091, 4444, 53893, 24837, 70221, 67522...\n",
       "9206             9206  [53892, 3091, 4444, 24837, 67522, 58491, 53893...\n",
       "9207             9207  [53892, 3091, 4444, 24837, 1713, 58491, 70221,...\n",
       "\n",
       "[9208 rows x 2 columns]"
      ]
     },
     "execution_count": 98,
     "metadata": {},
     "output_type": "execute_result"
    }
   ],
   "source": [
    "test_data_top12 = test_data.groupby('customer_id_idx').head(12).groupby('customer_id_idx').apply(lambda x: list(x['article_id_idx'])).reset_index().rename(columns={0: 'predictions'})\n",
    "test_data_top12"
   ]
  },
  {
   "cell_type": "code",
   "execution_count": 99,
   "id": "9b96c505",
   "metadata": {
    "executionInfo": {
     "elapsed": 37,
     "status": "ok",
     "timestamp": 1649693028215,
     "user": {
      "displayName": "Steven George",
      "userId": "07709250839253394649"
     },
     "user_tz": -60
    },
    "id": "59436f56"
   },
   "outputs": [],
   "source": [
    "test_set_by_customer['customer_id_idx'] = test_set_by_customer['customer_id'].map(customer_id_to_idx)"
   ]
  },
  {
   "cell_type": "code",
   "execution_count": 100,
   "id": "157a8dd7",
   "metadata": {
    "colab": {
     "base_uri": "https://localhost:8080/",
     "height": 206
    },
    "executionInfo": {
     "elapsed": 37,
     "status": "ok",
     "timestamp": 1649693028217,
     "user": {
      "displayName": "Steven George",
      "userId": "07709250839253394649"
     },
     "user_tz": -60
    },
    "id": "b488bb80",
    "outputId": "df4db953-5099-47d5-fc6c-87ff7025e5b5"
   },
   "outputs": [
    {
     "data": {
      "text/html": [
       "\n",
       "  <div id=\"df-6387c488-7044-4644-bda9-7dabc1a0f621\">\n",
       "    <div class=\"colab-df-container\">\n",
       "      <div>\n",
       "<style scoped>\n",
       "    .dataframe tbody tr th:only-of-type {\n",
       "        vertical-align: middle;\n",
       "    }\n",
       "\n",
       "    .dataframe tbody tr th {\n",
       "        vertical-align: top;\n",
       "    }\n",
       "\n",
       "    .dataframe thead th {\n",
       "        text-align: right;\n",
       "    }\n",
       "</style>\n",
       "<table border=\"1\" class=\"dataframe\">\n",
       "  <thead>\n",
       "    <tr style=\"text-align: right;\">\n",
       "      <th></th>\n",
       "      <th>customer_id</th>\n",
       "      <th>article_id_idx</th>\n",
       "      <th>customer_id_idx</th>\n",
       "    </tr>\n",
       "  </thead>\n",
       "  <tbody>\n",
       "    <tr>\n",
       "      <th>0</th>\n",
       "      <td>000058a12d5b43e67d225668fa1f8d618c13dc232df0ca...</td>\n",
       "      <td>[78503]</td>\n",
       "      <td>0</td>\n",
       "    </tr>\n",
       "    <tr>\n",
       "      <th>1</th>\n",
       "      <td>0015f37f752a41a75c3be6f3f92deedc4c87d039f1758e...</td>\n",
       "      <td>[74893, 74893, 24872, 104987, 9801, 9801, 6912...</td>\n",
       "      <td>4003</td>\n",
       "    </tr>\n",
       "    <tr>\n",
       "      <th>2</th>\n",
       "      <td>00282135561702f5b3b750fa3382d8fd83ce5d761a507e...</td>\n",
       "      <td>[92815, 86041]</td>\n",
       "      <td>238</td>\n",
       "    </tr>\n",
       "    <tr>\n",
       "      <th>3</th>\n",
       "      <td>00356a94bb9bed341f6dba58ad722974b01a1cbd9f06ef...</td>\n",
       "      <td>[104211, 17044, 17044, 16024, 29250, 98445, 66...</td>\n",
       "      <td>3419</td>\n",
       "    </tr>\n",
       "    <tr>\n",
       "      <th>4</th>\n",
       "      <td>00462904b288681a9facb555f75dd2cf4d0f730a6e0ea7...</td>\n",
       "      <td>[87467, 99966, 42626, 79834, 97540, 103280, 79...</td>\n",
       "      <td>7876</td>\n",
       "    </tr>\n",
       "  </tbody>\n",
       "</table>\n",
       "</div>\n",
       "      <button class=\"colab-df-convert\" onclick=\"convertToInteractive('df-6387c488-7044-4644-bda9-7dabc1a0f621')\"\n",
       "              title=\"Convert this dataframe to an interactive table.\"\n",
       "              style=\"display:none;\">\n",
       "        \n",
       "  <svg xmlns=\"http://www.w3.org/2000/svg\" height=\"24px\"viewBox=\"0 0 24 24\"\n",
       "       width=\"24px\">\n",
       "    <path d=\"M0 0h24v24H0V0z\" fill=\"none\"/>\n",
       "    <path d=\"M18.56 5.44l.94 2.06.94-2.06 2.06-.94-2.06-.94-.94-2.06-.94 2.06-2.06.94zm-11 1L8.5 8.5l.94-2.06 2.06-.94-2.06-.94L8.5 2.5l-.94 2.06-2.06.94zm10 10l.94 2.06.94-2.06 2.06-.94-2.06-.94-.94-2.06-.94 2.06-2.06.94z\"/><path d=\"M17.41 7.96l-1.37-1.37c-.4-.4-.92-.59-1.43-.59-.52 0-1.04.2-1.43.59L10.3 9.45l-7.72 7.72c-.78.78-.78 2.05 0 2.83L4 21.41c.39.39.9.59 1.41.59.51 0 1.02-.2 1.41-.59l7.78-7.78 2.81-2.81c.8-.78.8-2.07 0-2.86zM5.41 20L4 18.59l7.72-7.72 1.47 1.35L5.41 20z\"/>\n",
       "  </svg>\n",
       "      </button>\n",
       "      \n",
       "  <style>\n",
       "    .colab-df-container {\n",
       "      display:flex;\n",
       "      flex-wrap:wrap;\n",
       "      gap: 12px;\n",
       "    }\n",
       "\n",
       "    .colab-df-convert {\n",
       "      background-color: #E8F0FE;\n",
       "      border: none;\n",
       "      border-radius: 50%;\n",
       "      cursor: pointer;\n",
       "      display: none;\n",
       "      fill: #1967D2;\n",
       "      height: 32px;\n",
       "      padding: 0 0 0 0;\n",
       "      width: 32px;\n",
       "    }\n",
       "\n",
       "    .colab-df-convert:hover {\n",
       "      background-color: #E2EBFA;\n",
       "      box-shadow: 0px 1px 2px rgba(60, 64, 67, 0.3), 0px 1px 3px 1px rgba(60, 64, 67, 0.15);\n",
       "      fill: #174EA6;\n",
       "    }\n",
       "\n",
       "    [theme=dark] .colab-df-convert {\n",
       "      background-color: #3B4455;\n",
       "      fill: #D2E3FC;\n",
       "    }\n",
       "\n",
       "    [theme=dark] .colab-df-convert:hover {\n",
       "      background-color: #434B5C;\n",
       "      box-shadow: 0px 1px 3px 1px rgba(0, 0, 0, 0.15);\n",
       "      filter: drop-shadow(0px 1px 2px rgba(0, 0, 0, 0.3));\n",
       "      fill: #FFFFFF;\n",
       "    }\n",
       "  </style>\n",
       "\n",
       "      <script>\n",
       "        const buttonEl =\n",
       "          document.querySelector('#df-6387c488-7044-4644-bda9-7dabc1a0f621 button.colab-df-convert');\n",
       "        buttonEl.style.display =\n",
       "          google.colab.kernel.accessAllowed ? 'block' : 'none';\n",
       "\n",
       "        async function convertToInteractive(key) {\n",
       "          const element = document.querySelector('#df-6387c488-7044-4644-bda9-7dabc1a0f621');\n",
       "          const dataTable =\n",
       "            await google.colab.kernel.invokeFunction('convertToInteractive',\n",
       "                                                     [key], {});\n",
       "          if (!dataTable) return;\n",
       "\n",
       "          const docLinkHtml = 'Like what you see? Visit the ' +\n",
       "            '<a target=\"_blank\" href=https://colab.research.google.com/notebooks/data_table.ipynb>data table notebook</a>'\n",
       "            + ' to learn more about interactive tables.';\n",
       "          element.innerHTML = '';\n",
       "          dataTable['output_type'] = 'display_data';\n",
       "          await google.colab.output.renderOutput(dataTable, element);\n",
       "          const docLink = document.createElement('div');\n",
       "          docLink.innerHTML = docLinkHtml;\n",
       "          element.appendChild(docLink);\n",
       "        }\n",
       "      </script>\n",
       "    </div>\n",
       "  </div>\n",
       "  "
      ],
      "text/plain": [
       "                                         customer_id  \\\n",
       "0  000058a12d5b43e67d225668fa1f8d618c13dc232df0ca...   \n",
       "1  0015f37f752a41a75c3be6f3f92deedc4c87d039f1758e...   \n",
       "2  00282135561702f5b3b750fa3382d8fd83ce5d761a507e...   \n",
       "3  00356a94bb9bed341f6dba58ad722974b01a1cbd9f06ef...   \n",
       "4  00462904b288681a9facb555f75dd2cf4d0f730a6e0ea7...   \n",
       "\n",
       "                                      article_id_idx  customer_id_idx  \n",
       "0                                            [78503]                0  \n",
       "1  [74893, 74893, 24872, 104987, 9801, 9801, 6912...             4003  \n",
       "2                                     [92815, 86041]              238  \n",
       "3  [104211, 17044, 17044, 16024, 29250, 98445, 66...             3419  \n",
       "4  [87467, 99966, 42626, 79834, 97540, 103280, 79...             7876  "
      ]
     },
     "execution_count": 100,
     "metadata": {},
     "output_type": "execute_result"
    }
   ],
   "source": [
    "test_set_by_customer.head()"
   ]
  },
  {
   "cell_type": "code",
   "execution_count": 101,
   "id": "42249835",
   "metadata": {
    "colab": {
     "base_uri": "https://localhost:8080/",
     "height": 206
    },
    "executionInfo": {
     "elapsed": 37,
     "status": "ok",
     "timestamp": 1649693028218,
     "user": {
      "displayName": "Steven George",
      "userId": "07709250839253394649"
     },
     "user_tz": -60
    },
    "id": "1c6a9380",
    "outputId": "f9b04dd4-3d75-417a-cf50-392a42e4d302"
   },
   "outputs": [
    {
     "data": {
      "text/html": [
       "\n",
       "  <div id=\"df-b11c5f5b-acdd-4ef6-8c68-63b802598bd1\">\n",
       "    <div class=\"colab-df-container\">\n",
       "      <div>\n",
       "<style scoped>\n",
       "    .dataframe tbody tr th:only-of-type {\n",
       "        vertical-align: middle;\n",
       "    }\n",
       "\n",
       "    .dataframe tbody tr th {\n",
       "        vertical-align: top;\n",
       "    }\n",
       "\n",
       "    .dataframe thead th {\n",
       "        text-align: right;\n",
       "    }\n",
       "</style>\n",
       "<table border=\"1\" class=\"dataframe\">\n",
       "  <thead>\n",
       "    <tr style=\"text-align: right;\">\n",
       "      <th></th>\n",
       "      <th>customer_id</th>\n",
       "      <th>article_id_idx</th>\n",
       "      <th>customer_id_idx</th>\n",
       "      <th>predictions</th>\n",
       "    </tr>\n",
       "  </thead>\n",
       "  <tbody>\n",
       "    <tr>\n",
       "      <th>0</th>\n",
       "      <td>000058a12d5b43e67d225668fa1f8d618c13dc232df0ca...</td>\n",
       "      <td>[78503]</td>\n",
       "      <td>0</td>\n",
       "      <td>[46351, 46384, 46425, 16453, 46382, 58491, 464...</td>\n",
       "    </tr>\n",
       "    <tr>\n",
       "      <th>1</th>\n",
       "      <td>0015f37f752a41a75c3be6f3f92deedc4c87d039f1758e...</td>\n",
       "      <td>[74893, 74893, 24872, 104987, 9801, 9801, 6912...</td>\n",
       "      <td>4003</td>\n",
       "      <td>[67522, 24837, 24836, 42626, 17383, 18586, 499...</td>\n",
       "    </tr>\n",
       "    <tr>\n",
       "      <th>2</th>\n",
       "      <td>00282135561702f5b3b750fa3382d8fd83ce5d761a507e...</td>\n",
       "      <td>[92815, 86041]</td>\n",
       "      <td>238</td>\n",
       "      <td>[58584, 58581, 16453, 16452, 46351, 22465, 464...</td>\n",
       "    </tr>\n",
       "    <tr>\n",
       "      <th>3</th>\n",
       "      <td>00356a94bb9bed341f6dba58ad722974b01a1cbd9f06ef...</td>\n",
       "      <td>[104211, 17044, 17044, 16024, 29250, 98445, 66...</td>\n",
       "      <td>3419</td>\n",
       "      <td>[53892, 46382, 58491, 46386, 70221, 17669, 538...</td>\n",
       "    </tr>\n",
       "    <tr>\n",
       "      <th>4</th>\n",
       "      <td>00462904b288681a9facb555f75dd2cf4d0f730a6e0ea7...</td>\n",
       "      <td>[87467, 99966, 42626, 79834, 97540, 103280, 79...</td>\n",
       "      <td>7876</td>\n",
       "      <td>[53892, 53893, 2236, 58491, 70221, 3091, 67522...</td>\n",
       "    </tr>\n",
       "  </tbody>\n",
       "</table>\n",
       "</div>\n",
       "      <button class=\"colab-df-convert\" onclick=\"convertToInteractive('df-b11c5f5b-acdd-4ef6-8c68-63b802598bd1')\"\n",
       "              title=\"Convert this dataframe to an interactive table.\"\n",
       "              style=\"display:none;\">\n",
       "        \n",
       "  <svg xmlns=\"http://www.w3.org/2000/svg\" height=\"24px\"viewBox=\"0 0 24 24\"\n",
       "       width=\"24px\">\n",
       "    <path d=\"M0 0h24v24H0V0z\" fill=\"none\"/>\n",
       "    <path d=\"M18.56 5.44l.94 2.06.94-2.06 2.06-.94-2.06-.94-.94-2.06-.94 2.06-2.06.94zm-11 1L8.5 8.5l.94-2.06 2.06-.94-2.06-.94L8.5 2.5l-.94 2.06-2.06.94zm10 10l.94 2.06.94-2.06 2.06-.94-2.06-.94-.94-2.06-.94 2.06-2.06.94z\"/><path d=\"M17.41 7.96l-1.37-1.37c-.4-.4-.92-.59-1.43-.59-.52 0-1.04.2-1.43.59L10.3 9.45l-7.72 7.72c-.78.78-.78 2.05 0 2.83L4 21.41c.39.39.9.59 1.41.59.51 0 1.02-.2 1.41-.59l7.78-7.78 2.81-2.81c.8-.78.8-2.07 0-2.86zM5.41 20L4 18.59l7.72-7.72 1.47 1.35L5.41 20z\"/>\n",
       "  </svg>\n",
       "      </button>\n",
       "      \n",
       "  <style>\n",
       "    .colab-df-container {\n",
       "      display:flex;\n",
       "      flex-wrap:wrap;\n",
       "      gap: 12px;\n",
       "    }\n",
       "\n",
       "    .colab-df-convert {\n",
       "      background-color: #E8F0FE;\n",
       "      border: none;\n",
       "      border-radius: 50%;\n",
       "      cursor: pointer;\n",
       "      display: none;\n",
       "      fill: #1967D2;\n",
       "      height: 32px;\n",
       "      padding: 0 0 0 0;\n",
       "      width: 32px;\n",
       "    }\n",
       "\n",
       "    .colab-df-convert:hover {\n",
       "      background-color: #E2EBFA;\n",
       "      box-shadow: 0px 1px 2px rgba(60, 64, 67, 0.3), 0px 1px 3px 1px rgba(60, 64, 67, 0.15);\n",
       "      fill: #174EA6;\n",
       "    }\n",
       "\n",
       "    [theme=dark] .colab-df-convert {\n",
       "      background-color: #3B4455;\n",
       "      fill: #D2E3FC;\n",
       "    }\n",
       "\n",
       "    [theme=dark] .colab-df-convert:hover {\n",
       "      background-color: #434B5C;\n",
       "      box-shadow: 0px 1px 3px 1px rgba(0, 0, 0, 0.15);\n",
       "      filter: drop-shadow(0px 1px 2px rgba(0, 0, 0, 0.3));\n",
       "      fill: #FFFFFF;\n",
       "    }\n",
       "  </style>\n",
       "\n",
       "      <script>\n",
       "        const buttonEl =\n",
       "          document.querySelector('#df-b11c5f5b-acdd-4ef6-8c68-63b802598bd1 button.colab-df-convert');\n",
       "        buttonEl.style.display =\n",
       "          google.colab.kernel.accessAllowed ? 'block' : 'none';\n",
       "\n",
       "        async function convertToInteractive(key) {\n",
       "          const element = document.querySelector('#df-b11c5f5b-acdd-4ef6-8c68-63b802598bd1');\n",
       "          const dataTable =\n",
       "            await google.colab.kernel.invokeFunction('convertToInteractive',\n",
       "                                                     [key], {});\n",
       "          if (!dataTable) return;\n",
       "\n",
       "          const docLinkHtml = 'Like what you see? Visit the ' +\n",
       "            '<a target=\"_blank\" href=https://colab.research.google.com/notebooks/data_table.ipynb>data table notebook</a>'\n",
       "            + ' to learn more about interactive tables.';\n",
       "          element.innerHTML = '';\n",
       "          dataTable['output_type'] = 'display_data';\n",
       "          await google.colab.output.renderOutput(dataTable, element);\n",
       "          const docLink = document.createElement('div');\n",
       "          docLink.innerHTML = docLinkHtml;\n",
       "          element.appendChild(docLink);\n",
       "        }\n",
       "      </script>\n",
       "    </div>\n",
       "  </div>\n",
       "  "
      ],
      "text/plain": [
       "                                         customer_id  \\\n",
       "0  000058a12d5b43e67d225668fa1f8d618c13dc232df0ca...   \n",
       "1  0015f37f752a41a75c3be6f3f92deedc4c87d039f1758e...   \n",
       "2  00282135561702f5b3b750fa3382d8fd83ce5d761a507e...   \n",
       "3  00356a94bb9bed341f6dba58ad722974b01a1cbd9f06ef...   \n",
       "4  00462904b288681a9facb555f75dd2cf4d0f730a6e0ea7...   \n",
       "\n",
       "                                      article_id_idx  customer_id_idx  \\\n",
       "0                                            [78503]                0   \n",
       "1  [74893, 74893, 24872, 104987, 9801, 9801, 6912...             4003   \n",
       "2                                     [92815, 86041]              238   \n",
       "3  [104211, 17044, 17044, 16024, 29250, 98445, 66...             3419   \n",
       "4  [87467, 99966, 42626, 79834, 97540, 103280, 79...             7876   \n",
       "\n",
       "                                         predictions  \n",
       "0  [46351, 46384, 46425, 16453, 46382, 58491, 464...  \n",
       "1  [67522, 24837, 24836, 42626, 17383, 18586, 499...  \n",
       "2  [58584, 58581, 16453, 16452, 46351, 22465, 464...  \n",
       "3  [53892, 46382, 58491, 46386, 70221, 17669, 538...  \n",
       "4  [53892, 53893, 2236, 58491, 70221, 3091, 67522...  "
      ]
     },
     "execution_count": 101,
     "metadata": {},
     "output_type": "execute_result"
    }
   ],
   "source": [
    "test_set_by_customer = test_set_by_customer.merge(test_data_top12, on='customer_id_idx')\n",
    "test_set_by_customer.head()"
   ]
  },
  {
   "cell_type": "code",
   "execution_count": 102,
   "id": "1a583169",
   "metadata": {
    "executionInfo": {
     "elapsed": 36,
     "status": "ok",
     "timestamp": 1649693028219,
     "user": {
      "displayName": "Steven George",
      "userId": "07709250839253394649"
     },
     "user_tz": -60
    },
    "id": "5f087524"
   },
   "outputs": [],
   "source": [
    "predictions = test_set_by_customer['predictions'].to_list()"
   ]
  },
  {
   "cell_type": "code",
   "execution_count": 103,
   "id": "07063039",
   "metadata": {
    "executionInfo": {
     "elapsed": 37,
     "status": "ok",
     "timestamp": 1649693028220,
     "user": {
      "displayName": "Steven George",
      "userId": "07709250839253394649"
     },
     "user_tz": -60
    },
    "id": "382567c1"
   },
   "outputs": [],
   "source": [
    "actuals = test_set_by_customer['article_id_idx'].to_list()"
   ]
  },
  {
   "cell_type": "code",
   "execution_count": 104,
   "id": "d840b89c",
   "metadata": {
    "colab": {
     "base_uri": "https://localhost:8080/"
    },
    "executionInfo": {
     "elapsed": 37,
     "status": "ok",
     "timestamp": 1649693028221,
     "user": {
      "displayName": "Steven George",
      "userId": "07709250839253394649"
     },
     "user_tz": -60
    },
    "id": "a8756bbd",
    "outputId": "948a31f3-b8aa-49e6-afa6-08c36a4f6705"
   },
   "outputs": [
    {
     "data": {
      "text/plain": [
       "0.003228173021132559"
      ]
     },
     "execution_count": 104,
     "metadata": {},
     "output_type": "execute_result"
    }
   ],
   "source": [
    "mapk(actuals, predictions, k=12)"
   ]
  },
  {
   "cell_type": "code",
   "execution_count": 105,
   "id": "e687efdc",
   "metadata": {
    "colab": {
     "base_uri": "https://localhost:8080/"
    },
    "executionInfo": {
     "elapsed": 32,
     "status": "ok",
     "timestamp": 1649693028221,
     "user": {
      "displayName": "Steven George",
      "userId": "07709250839253394649"
     },
     "user_tz": -60
    },
    "id": "IbCuWrvsThoI",
    "outputId": "a42e73a6-9107-40a3-b792-3455f5d9e34d"
   },
   "outputs": [
    {
     "data": {
      "text/plain": [
       "9177"
      ]
     },
     "execution_count": 105,
     "metadata": {},
     "output_type": "execute_result"
    }
   ],
   "source": [
    "test_set_by_customer['predictions'].astype(str).nunique()"
   ]
  },
  {
   "cell_type": "code",
   "execution_count": 106,
   "id": "b88d9164",
   "metadata": {
    "colab": {
     "base_uri": "https://localhost:8080/"
    },
    "executionInfo": {
     "elapsed": 28,
     "status": "ok",
     "timestamp": 1649693028221,
     "user": {
      "displayName": "Steven George",
      "userId": "07709250839253394649"
     },
     "user_tz": -60
    },
    "id": "nlgmSVgeTrM2",
    "outputId": "0f8f07c5-aa85-467b-94fe-af39b7b84018"
   },
   "outputs": [
    {
     "data": {
      "text/plain": [
       "(9208, 4)"
      ]
     },
     "execution_count": 106,
     "metadata": {},
     "output_type": "execute_result"
    }
   ],
   "source": [
    "test_set_by_customer.shape"
   ]
  },
  {
   "cell_type": "code",
   "execution_count": 107,
   "id": "fad1a480",
   "metadata": {
    "colab": {
     "base_uri": "https://localhost:8080/"
    },
    "executionInfo": {
     "elapsed": 25,
     "status": "ok",
     "timestamp": 1649693028222,
     "user": {
      "displayName": "Steven George",
      "userId": "07709250839253394649"
     },
     "user_tz": -60
    },
    "id": "b1TtPdb5JbCR",
    "outputId": "4c5b3c56-feb7-4221-bffe-63a20b9baf01"
   },
   "outputs": [
    {
     "data": {
      "text/plain": [
       "{1713,\n",
       " 1714,\n",
       " 2236,\n",
       " 3091,\n",
       " 24836,\n",
       " 24837,\n",
       " 42626,\n",
       " 53892,\n",
       " 53893,\n",
       " 58491,\n",
       " 67522,\n",
       " 70221}"
      ]
     },
     "execution_count": 107,
     "metadata": {},
     "output_type": "execute_result"
    }
   ],
   "source": [
    "most_pop_12 = (train_set.groupby('article_id_idx')['customer_id'].count()).sort_values(ascending=False).head(12).index.to_list()\n",
    "most_pop_12 = set(most_pop_12)\n",
    "most_pop_12"
   ]
  },
  {
   "cell_type": "code",
   "execution_count": 108,
   "id": "af06189b",
   "metadata": {
    "executionInfo": {
     "elapsed": 22,
     "status": "ok",
     "timestamp": 1649693028222,
     "user": {
      "displayName": "Steven George",
      "userId": "07709250839253394649"
     },
     "user_tz": -60
    },
    "id": "tP_pJ8ciJzyR"
   },
   "outputs": [],
   "source": [
    "test_set_by_customer['num_top_12_items'] = test_set_by_customer['predictions'].apply(lambda x: len(set(x).intersection(most_pop_12)))"
   ]
  },
  {
   "cell_type": "code",
   "execution_count": 109,
   "id": "fc63bcfd",
   "metadata": {
    "colab": {
     "base_uri": "https://localhost:8080/"
    },
    "executionInfo": {
     "elapsed": 21,
     "status": "ok",
     "timestamp": 1649693028222,
     "user": {
      "displayName": "Steven George",
      "userId": "07709250839253394649"
     },
     "user_tz": -60
    },
    "id": "bnTt5ZTCKLFP",
    "outputId": "8ae28998-4d94-47cf-805a-cdced8a503b5"
   },
   "outputs": [
    {
     "data": {
      "text/plain": [
       "0     1093\n",
       "1      800\n",
       "2      810\n",
       "3     1084\n",
       "4     1498\n",
       "5     1314\n",
       "6     1028\n",
       "7      770\n",
       "8      415\n",
       "9      298\n",
       "10      93\n",
       "11       5\n",
       "Name: num_top_12_items, dtype: int64"
      ]
     },
     "execution_count": 109,
     "metadata": {},
     "output_type": "execute_result"
    }
   ],
   "source": [
    "test_set_by_customer['num_top_12_items'].value_counts().sort_index()"
   ]
  },
  {
   "cell_type": "markdown",
   "id": "c865cd17",
   "metadata": {
    "id": "435ce7da"
   },
   "source": [
    "Finally we beat our naive baseline, albeit not by much (0.003196 vs. 0.003228). Still a way to go in terms of leaderboard performance.\n",
    "\n",
    "Interestingly the model is able to do this by producing varied predictions for each customer and doesn't draw frequently from the top-12 most popular items.\n",
    "\n",
    "Things that seemed to work:\n",
    "- Limiting articles to ones where there was an observed transaction after 2020. We assume that items before that were removed from the catalog and hence are no longer available\n",
    "- Added embeddings for article meta-data, concatenating and feed-forward\n",
    "- Treating as binary classification problem with up to 1,000 negative samples per customer\n",
    "- When drawing negative samples we only use the reduced set of items\n",
    "- To avoid making a prediction for all items we only make evaluations for the overall top-1000 items (a naive form of candidate generation)\n",
    "\n",
    "Possible improvements:\n",
    "- Most popular items by season?\n",
    "- User features\n",
    "- Negative sampling from candidates (top-1000) only\n",
    "- Way of doing candidate generation within the model (end-to-end)"
   ]
  }
 ],
 "metadata": {
  "accelerator": "GPU",
  "colab": {
   "machine_shape": "hm",
   "name": "10-Adding article features.ipynb",
   "provenance": []
  },
  "kernelspec": {
   "display_name": "Python 3 (ipykernel)",
   "language": "python",
   "name": "python3"
  },
  "language_info": {
   "codemirror_mode": {
    "name": "ipython",
    "version": 3
   },
   "file_extension": ".py",
   "mimetype": "text/x-python",
   "name": "python",
   "nbconvert_exporter": "python",
   "pygments_lexer": "ipython3",
   "version": "3.8.12"
  }
 },
 "nbformat": 4,
 "nbformat_minor": 5
}
