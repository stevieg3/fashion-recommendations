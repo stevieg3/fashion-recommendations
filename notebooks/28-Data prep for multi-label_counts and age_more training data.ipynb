{
 "cells": [
  {
   "cell_type": "code",
   "execution_count": 1,
   "id": "9154a127",
   "metadata": {
    "colab": {
     "base_uri": "https://localhost:8080/"
    },
    "executionInfo": {
     "elapsed": 3210,
     "status": "ok",
     "timestamp": 1651409331042,
     "user": {
      "displayName": "Steven George",
      "userId": "07709250839253394649"
     },
     "user_tz": -60
    },
    "id": "684c29dc",
    "outputId": "20372b5e-61e6-403f-8590-9a9c8594986c"
   },
   "outputs": [],
   "source": [
    "# from google.colab import drive\n",
    "# drive.mount('/content/drive', force_remount=True)"
   ]
  },
  {
   "cell_type": "code",
   "execution_count": 1,
   "id": "ea352bce",
   "metadata": {
    "executionInfo": {
     "elapsed": 840,
     "status": "ok",
     "timestamp": 1651409331879,
     "user": {
      "displayName": "Steven George",
      "userId": "07709250839253394649"
     },
     "user_tz": -60
    },
    "id": "ed2a56ae"
   },
   "outputs": [],
   "source": [
    "import os\n",
    "import datetime\n",
    "\n",
    "import pandas as pd\n",
    "import numpy as np\n",
    "import matplotlib.pyplot as plt\n",
    "import torch\n",
    "import torch.nn as nn\n",
    "from torch.utils.data import Dataset, DataLoader, IterableDataset\n",
    "from tqdm import tqdm"
   ]
  },
  {
   "cell_type": "code",
   "execution_count": 2,
   "id": "fff2dc30",
   "metadata": {
    "executionInfo": {
     "elapsed": 7,
     "status": "ok",
     "timestamp": 1651409331880,
     "user": {
      "displayName": "Steven George",
      "userId": "07709250839253394649"
     },
     "user_tz": -60
    },
    "id": "5c91b0f7"
   },
   "outputs": [],
   "source": [
    "os.chdir('..')\n",
    "# os.chdir('drive/My Drive/Colab Notebooks/Github/fashion-recommendations') "
   ]
  },
  {
   "cell_type": "code",
   "execution_count": 3,
   "id": "4e579036",
   "metadata": {
    "executionInfo": {
     "elapsed": 6,
     "status": "ok",
     "timestamp": 1651409331880,
     "user": {
      "displayName": "Steven George",
      "userId": "07709250839253394649"
     },
     "user_tz": -60
    },
    "id": "66c257b2"
   },
   "outputs": [],
   "source": [
    "from fashion_recommendations.metrics.average_precision import mapk"
   ]
  },
  {
   "cell_type": "code",
   "execution_count": 4,
   "id": "5347d0e8",
   "metadata": {
    "executionInfo": {
     "elapsed": 5,
     "status": "ok",
     "timestamp": 1651409331880,
     "user": {
      "displayName": "Steven George",
      "userId": "07709250839253394649"
     },
     "user_tz": -60
    },
    "id": "f7a7dcef"
   },
   "outputs": [],
   "source": [
    "pd.options.display.max_columns = None"
   ]
  },
  {
   "cell_type": "code",
   "execution_count": 5,
   "id": "b22e0854",
   "metadata": {
    "colab": {
     "base_uri": "https://localhost:8080/"
    },
    "executionInfo": {
     "elapsed": 6,
     "status": "ok",
     "timestamp": 1651409331881,
     "user": {
      "displayName": "Steven George",
      "userId": "07709250839253394649"
     },
     "user_tz": -60
    },
    "id": "c8a9e80a",
    "outputId": "18e22a32-4e25-4bbe-9252-4890c3f2bf65"
   },
   "outputs": [
    {
     "name": "stdout",
     "output_type": "stream",
     "text": [
      "cpu\n"
     ]
    }
   ],
   "source": [
    "device = torch.device(\"cuda:0\" if torch.cuda.is_available() else \"cpu\")\n",
    "print(device)"
   ]
  },
  {
   "cell_type": "markdown",
   "id": "78fe1b1e",
   "metadata": {
    "id": "cb50efc7"
   },
   "source": [
    "### Load transactions"
   ]
  },
  {
   "cell_type": "code",
   "execution_count": 6,
   "id": "388114de",
   "metadata": {},
   "outputs": [],
   "source": [
    "# ' '.join(transactions_train['article_id'].value_counts().head(12).index.tolist())"
   ]
  },
  {
   "cell_type": "code",
   "execution_count": 7,
   "id": "27b7badb",
   "metadata": {},
   "outputs": [
    {
     "name": "stdout",
     "output_type": "stream",
     "text": [
      "(31788324, 5)\n"
     ]
    },
    {
     "data": {
      "text/html": [
       "<div>\n",
       "<style scoped>\n",
       "    .dataframe tbody tr th:only-of-type {\n",
       "        vertical-align: middle;\n",
       "    }\n",
       "\n",
       "    .dataframe tbody tr th {\n",
       "        vertical-align: top;\n",
       "    }\n",
       "\n",
       "    .dataframe thead th {\n",
       "        text-align: right;\n",
       "    }\n",
       "</style>\n",
       "<table border=\"1\" class=\"dataframe\">\n",
       "  <thead>\n",
       "    <tr style=\"text-align: right;\">\n",
       "      <th></th>\n",
       "      <th>t_dat</th>\n",
       "      <th>customer_id</th>\n",
       "      <th>article_id</th>\n",
       "      <th>price</th>\n",
       "      <th>sales_channel_id</th>\n",
       "    </tr>\n",
       "  </thead>\n",
       "  <tbody>\n",
       "    <tr>\n",
       "      <th>0</th>\n",
       "      <td>2018-09-20</td>\n",
       "      <td>000058a12d5b43e67d225668fa1f8d618c13dc232df0ca...</td>\n",
       "      <td>0663713001</td>\n",
       "      <td>0.050831</td>\n",
       "      <td>2</td>\n",
       "    </tr>\n",
       "    <tr>\n",
       "      <th>1</th>\n",
       "      <td>2018-09-20</td>\n",
       "      <td>000058a12d5b43e67d225668fa1f8d618c13dc232df0ca...</td>\n",
       "      <td>0541518023</td>\n",
       "      <td>0.030492</td>\n",
       "      <td>2</td>\n",
       "    </tr>\n",
       "    <tr>\n",
       "      <th>2</th>\n",
       "      <td>2018-09-20</td>\n",
       "      <td>00007d2de826758b65a93dd24ce629ed66842531df6699...</td>\n",
       "      <td>0505221004</td>\n",
       "      <td>0.015237</td>\n",
       "      <td>2</td>\n",
       "    </tr>\n",
       "    <tr>\n",
       "      <th>3</th>\n",
       "      <td>2018-09-20</td>\n",
       "      <td>00007d2de826758b65a93dd24ce629ed66842531df6699...</td>\n",
       "      <td>0685687003</td>\n",
       "      <td>0.016932</td>\n",
       "      <td>2</td>\n",
       "    </tr>\n",
       "    <tr>\n",
       "      <th>4</th>\n",
       "      <td>2018-09-20</td>\n",
       "      <td>00007d2de826758b65a93dd24ce629ed66842531df6699...</td>\n",
       "      <td>0685687004</td>\n",
       "      <td>0.016932</td>\n",
       "      <td>2</td>\n",
       "    </tr>\n",
       "  </tbody>\n",
       "</table>\n",
       "</div>"
      ],
      "text/plain": [
       "        t_dat                                        customer_id  article_id  \\\n",
       "0  2018-09-20  000058a12d5b43e67d225668fa1f8d618c13dc232df0ca...  0663713001   \n",
       "1  2018-09-20  000058a12d5b43e67d225668fa1f8d618c13dc232df0ca...  0541518023   \n",
       "2  2018-09-20  00007d2de826758b65a93dd24ce629ed66842531df6699...  0505221004   \n",
       "3  2018-09-20  00007d2de826758b65a93dd24ce629ed66842531df6699...  0685687003   \n",
       "4  2018-09-20  00007d2de826758b65a93dd24ce629ed66842531df6699...  0685687004   \n",
       "\n",
       "      price  sales_channel_id  \n",
       "0  0.050831                 2  \n",
       "1  0.030492                 2  \n",
       "2  0.015237                 2  \n",
       "3  0.016932                 2  \n",
       "4  0.016932                 2  "
      ]
     },
     "execution_count": 7,
     "metadata": {},
     "output_type": "execute_result"
    }
   ],
   "source": [
    "transactions_train = pd.read_csv('data/transactions_train.csv', dtype={'article_id': str})\n",
    "print(transactions_train.shape)\n",
    "transactions_train.head()"
   ]
  },
  {
   "cell_type": "code",
   "execution_count": 8,
   "id": "134af0b0",
   "metadata": {},
   "outputs": [],
   "source": [
    "transactions_train['t_dat'] = pd.to_datetime(transactions_train['t_dat'])"
   ]
  },
  {
   "cell_type": "code",
   "execution_count": 9,
   "id": "cda538d3",
   "metadata": {},
   "outputs": [
    {
     "data": {
      "text/plain": [
       "count    1.362281e+06\n",
       "mean     2.333463e+01\n",
       "std      3.924225e+01\n",
       "min      1.000000e+00\n",
       "25%      3.000000e+00\n",
       "50%      9.000000e+00\n",
       "75%      2.700000e+01\n",
       "max      1.895000e+03\n",
       "Name: article_id, dtype: float64"
      ]
     },
     "execution_count": 9,
     "metadata": {},
     "output_type": "execute_result"
    }
   ],
   "source": [
    "transactions_train.groupby('customer_id')['article_id'].count().describe()"
   ]
  },
  {
   "cell_type": "markdown",
   "id": "e2143a26",
   "metadata": {},
   "source": [
    "### Load articles"
   ]
  },
  {
   "cell_type": "code",
   "execution_count": 10,
   "id": "a2b32ac4",
   "metadata": {},
   "outputs": [
    {
     "name": "stdout",
     "output_type": "stream",
     "text": [
      "(105542, 3)\n"
     ]
    },
    {
     "data": {
      "text/html": [
       "<div>\n",
       "<style scoped>\n",
       "    .dataframe tbody tr th:only-of-type {\n",
       "        vertical-align: middle;\n",
       "    }\n",
       "\n",
       "    .dataframe tbody tr th {\n",
       "        vertical-align: top;\n",
       "    }\n",
       "\n",
       "    .dataframe thead th {\n",
       "        text-align: right;\n",
       "    }\n",
       "</style>\n",
       "<table border=\"1\" class=\"dataframe\">\n",
       "  <thead>\n",
       "    <tr style=\"text-align: right;\">\n",
       "      <th></th>\n",
       "      <th>article_id</th>\n",
       "      <th>garment_group_name</th>\n",
       "      <th>detail_desc</th>\n",
       "    </tr>\n",
       "  </thead>\n",
       "  <tbody>\n",
       "    <tr>\n",
       "      <th>0</th>\n",
       "      <td>0108775015</td>\n",
       "      <td>Jersey Basic</td>\n",
       "      <td>Jersey top with narrow shoulder straps.</td>\n",
       "    </tr>\n",
       "    <tr>\n",
       "      <th>1</th>\n",
       "      <td>0108775044</td>\n",
       "      <td>Jersey Basic</td>\n",
       "      <td>Jersey top with narrow shoulder straps.</td>\n",
       "    </tr>\n",
       "    <tr>\n",
       "      <th>2</th>\n",
       "      <td>0108775051</td>\n",
       "      <td>Jersey Basic</td>\n",
       "      <td>Jersey top with narrow shoulder straps.</td>\n",
       "    </tr>\n",
       "    <tr>\n",
       "      <th>3</th>\n",
       "      <td>0110065001</td>\n",
       "      <td>Under-, Nightwear</td>\n",
       "      <td>Microfibre T-shirt bra with underwired, moulde...</td>\n",
       "    </tr>\n",
       "    <tr>\n",
       "      <th>4</th>\n",
       "      <td>0110065002</td>\n",
       "      <td>Under-, Nightwear</td>\n",
       "      <td>Microfibre T-shirt bra with underwired, moulde...</td>\n",
       "    </tr>\n",
       "  </tbody>\n",
       "</table>\n",
       "</div>"
      ],
      "text/plain": [
       "   article_id garment_group_name  \\\n",
       "0  0108775015       Jersey Basic   \n",
       "1  0108775044       Jersey Basic   \n",
       "2  0108775051       Jersey Basic   \n",
       "3  0110065001  Under-, Nightwear   \n",
       "4  0110065002  Under-, Nightwear   \n",
       "\n",
       "                                         detail_desc  \n",
       "0            Jersey top with narrow shoulder straps.  \n",
       "1            Jersey top with narrow shoulder straps.  \n",
       "2            Jersey top with narrow shoulder straps.  \n",
       "3  Microfibre T-shirt bra with underwired, moulde...  \n",
       "4  Microfibre T-shirt bra with underwired, moulde...  "
      ]
     },
     "execution_count": 10,
     "metadata": {},
     "output_type": "execute_result"
    }
   ],
   "source": [
    "articles_df = pd.read_csv(\n",
    "    'data/articles.csv', \n",
    "    dtype={'article_id': str},\n",
    "    usecols=['article_id', 'garment_group_name', 'detail_desc']\n",
    ")\n",
    "print(articles_df.shape)\n",
    "articles_df.head()"
   ]
  },
  {
   "cell_type": "code",
   "execution_count": 11,
   "id": "7876508c",
   "metadata": {},
   "outputs": [
    {
     "data": {
      "text/plain": [
       "article_id              0\n",
       "garment_group_name      0\n",
       "detail_desc           416\n",
       "dtype: int64"
      ]
     },
     "execution_count": 11,
     "metadata": {},
     "output_type": "execute_result"
    }
   ],
   "source": [
    "articles_df.isnull().sum()"
   ]
  },
  {
   "cell_type": "code",
   "execution_count": 12,
   "id": "f07a79c4",
   "metadata": {},
   "outputs": [],
   "source": [
    "articles_df['detail_desc'] = np.where(\n",
    "    articles_df['detail_desc'].isnull(), \n",
    "    articles_df['garment_group_name'], \n",
    "    articles_df['detail_desc']\n",
    ")"
   ]
  },
  {
   "cell_type": "markdown",
   "id": "eb553199",
   "metadata": {},
   "source": [
    "### Find cut-offs"
   ]
  },
  {
   "cell_type": "code",
   "execution_count": 13,
   "id": "974df05a",
   "metadata": {},
   "outputs": [],
   "source": [
    "end = transactions_train['t_dat'].max()\n",
    "endm1 = end - datetime.timedelta(days=7)\n",
    "endm2 = endm1 - datetime.timedelta(days=7)\n",
    "endm3 = endm2 - datetime.timedelta(days=7)"
   ]
  },
  {
   "cell_type": "code",
   "execution_count": 14,
   "id": "2e31ae0e",
   "metadata": {},
   "outputs": [
    {
     "data": {
      "text/plain": [
       "(Timestamp('2020-09-22 00:00:00'),\n",
       " Timestamp('2020-09-15 00:00:00'),\n",
       " Timestamp('2020-09-08 00:00:00'),\n",
       " Timestamp('2020-09-01 00:00:00'))"
      ]
     },
     "execution_count": 14,
     "metadata": {},
     "output_type": "execute_result"
    }
   ],
   "source": [
    "end, endm1, endm2, endm3"
   ]
  },
  {
   "cell_type": "markdown",
   "id": "188db88b",
   "metadata": {},
   "source": [
    "train\n",
    "- inputs: start - endm3\n",
    "- labels: emdm3 - endm2\n",
    "\n",
    "dev\n",
    "- inputs: start - endm2\n",
    "- labels: emdm2 - endm1\n",
    "\n",
    "test \n",
    "- inputs: start - endm1\n",
    "- labels: endm1 - end"
   ]
  },
  {
   "cell_type": "code",
   "execution_count": 15,
   "id": "28816234",
   "metadata": {},
   "outputs": [],
   "source": [
    "transactions_train = transactions_train.copy()[transactions_train['t_dat'] > '2020-05-01']"
   ]
  },
  {
   "cell_type": "code",
   "execution_count": 16,
   "id": "b2355382",
   "metadata": {},
   "outputs": [
    {
     "data": {
      "text/plain": [
       "665025"
      ]
     },
     "execution_count": 16,
     "metadata": {},
     "output_type": "execute_result"
    }
   ],
   "source": [
    "transactions_train['customer_id'].nunique()"
   ]
  },
  {
   "cell_type": "code",
   "execution_count": 17,
   "id": "33b4803a",
   "metadata": {},
   "outputs": [
    {
     "data": {
      "text/plain": [
       "0.045813410430334704"
      ]
     },
     "execution_count": 17,
     "metadata": {},
     "output_type": "execute_result"
    }
   ],
   "source": [
    "# % of items in last week which didn't appear in prior weeks' transactions\n",
    "len(set(transactions_train[transactions_train['t_dat'] > endm1]['article_id']) - set(transactions_train[transactions_train['t_dat'] <= endm1]['article_id'])) / transactions_train[transactions_train['t_dat'] > endm1]['article_id'].nunique()"
   ]
  },
  {
   "cell_type": "code",
   "execution_count": 18,
   "id": "21ecd0f4",
   "metadata": {},
   "outputs": [
    {
     "data": {
      "text/plain": [
       "(6481103, 5)"
      ]
     },
     "execution_count": 18,
     "metadata": {},
     "output_type": "execute_result"
    }
   ],
   "source": [
    "transactions_train.shape"
   ]
  },
  {
   "cell_type": "code",
   "execution_count": 19,
   "id": "b4393138",
   "metadata": {},
   "outputs": [
    {
     "data": {
      "text/plain": [
       "0.46167402550643344"
      ]
     },
     "execution_count": 19,
     "metadata": {},
     "output_type": "execute_result"
    }
   ],
   "source": [
    "transactions_train['article_id'].nunique() / articles_df.shape[0]"
   ]
  },
  {
   "cell_type": "markdown",
   "id": "e8973932",
   "metadata": {},
   "source": [
    "### Filter out unnecessary articles"
   ]
  },
  {
   "cell_type": "code",
   "execution_count": 20,
   "id": "57d0254b",
   "metadata": {},
   "outputs": [
    {
     "name": "stdout",
     "output_type": "stream",
     "text": [
      "(48726, 2)\n"
     ]
    },
    {
     "data": {
      "text/html": [
       "<div>\n",
       "<style scoped>\n",
       "    .dataframe tbody tr th:only-of-type {\n",
       "        vertical-align: middle;\n",
       "    }\n",
       "\n",
       "    .dataframe tbody tr th {\n",
       "        vertical-align: top;\n",
       "    }\n",
       "\n",
       "    .dataframe thead th {\n",
       "        text-align: right;\n",
       "    }\n",
       "</style>\n",
       "<table border=\"1\" class=\"dataframe\">\n",
       "  <thead>\n",
       "    <tr style=\"text-align: right;\">\n",
       "      <th></th>\n",
       "      <th>article_id</th>\n",
       "      <th>detail_desc</th>\n",
       "    </tr>\n",
       "  </thead>\n",
       "  <tbody>\n",
       "    <tr>\n",
       "      <th>0</th>\n",
       "      <td>0108775015</td>\n",
       "      <td>Jersey top with narrow shoulder straps.</td>\n",
       "    </tr>\n",
       "    <tr>\n",
       "      <th>1</th>\n",
       "      <td>0108775044</td>\n",
       "      <td>Jersey top with narrow shoulder straps.</td>\n",
       "    </tr>\n",
       "    <tr>\n",
       "      <th>2</th>\n",
       "      <td>0110065001</td>\n",
       "      <td>Microfibre T-shirt bra with underwired, moulde...</td>\n",
       "    </tr>\n",
       "    <tr>\n",
       "      <th>3</th>\n",
       "      <td>0110065002</td>\n",
       "      <td>Microfibre T-shirt bra with underwired, moulde...</td>\n",
       "    </tr>\n",
       "    <tr>\n",
       "      <th>4</th>\n",
       "      <td>0110065011</td>\n",
       "      <td>Microfibre T-shirt bra with underwired, moulde...</td>\n",
       "    </tr>\n",
       "  </tbody>\n",
       "</table>\n",
       "</div>"
      ],
      "text/plain": [
       "   article_id                                        detail_desc\n",
       "0  0108775015            Jersey top with narrow shoulder straps.\n",
       "1  0108775044            Jersey top with narrow shoulder straps.\n",
       "2  0110065001  Microfibre T-shirt bra with underwired, moulde...\n",
       "3  0110065002  Microfibre T-shirt bra with underwired, moulde...\n",
       "4  0110065011  Microfibre T-shirt bra with underwired, moulde..."
      ]
     },
     "execution_count": 20,
     "metadata": {},
     "output_type": "execute_result"
    }
   ],
   "source": [
    "articles_df = articles_df.copy()[\n",
    "    articles_df['article_id'].isin(transactions_train['article_id'].unique())\n",
    "]\n",
    "\n",
    "articles_df.reset_index(drop=True, inplace=True)\n",
    "articles_df.drop(columns=['garment_group_name'], inplace=True)\n",
    "print(articles_df.shape)\n",
    "articles_df.head()"
   ]
  },
  {
   "cell_type": "code",
   "execution_count": 21,
   "id": "582512b0",
   "metadata": {},
   "outputs": [],
   "source": [
    "articles_df['article_id_idx'] = articles_df.index"
   ]
  },
  {
   "cell_type": "code",
   "execution_count": 22,
   "id": "cab23a59",
   "metadata": {},
   "outputs": [],
   "source": [
    "article_id_to_idx = dict(zip(articles_df['article_id'], articles_df['article_id_idx']))"
   ]
  },
  {
   "cell_type": "code",
   "execution_count": 23,
   "id": "a9514da9",
   "metadata": {},
   "outputs": [],
   "source": [
    "transactions_train['article_id_idx'] = transactions_train['article_id'].map(article_id_to_idx)\n",
    "transactions_train['article_id_idx'] = transactions_train['article_id_idx'].astype(str)"
   ]
  },
  {
   "cell_type": "markdown",
   "id": "afb6b872",
   "metadata": {},
   "source": [
    "### Create splits\n",
    "\n",
    "#### Illustrative steps:"
   ]
  },
  {
   "cell_type": "code",
   "execution_count": 24,
   "id": "d86b15cd",
   "metadata": {},
   "outputs": [],
   "source": [
    "dev_labels = transactions_train.copy()[transactions_train['t_dat'] > endm1]"
   ]
  },
  {
   "cell_type": "code",
   "execution_count": 25,
   "id": "b2991ee4",
   "metadata": {},
   "outputs": [],
   "source": [
    "dev_inputs = transactions_train.copy()[transactions_train['t_dat'] <= endm1]"
   ]
  },
  {
   "cell_type": "code",
   "execution_count": 26,
   "id": "61375a1e",
   "metadata": {},
   "outputs": [
    {
     "name": "stdout",
     "output_type": "stream",
     "text": [
      "(6240792, 6)\n"
     ]
    },
    {
     "data": {
      "text/html": [
       "<div>\n",
       "<style scoped>\n",
       "    .dataframe tbody tr th:only-of-type {\n",
       "        vertical-align: middle;\n",
       "    }\n",
       "\n",
       "    .dataframe tbody tr th {\n",
       "        vertical-align: top;\n",
       "    }\n",
       "\n",
       "    .dataframe thead th {\n",
       "        text-align: right;\n",
       "    }\n",
       "</style>\n",
       "<table border=\"1\" class=\"dataframe\">\n",
       "  <thead>\n",
       "    <tr style=\"text-align: right;\">\n",
       "      <th></th>\n",
       "      <th>t_dat</th>\n",
       "      <th>customer_id</th>\n",
       "      <th>article_id</th>\n",
       "      <th>price</th>\n",
       "      <th>sales_channel_id</th>\n",
       "      <th>article_id_idx</th>\n",
       "    </tr>\n",
       "  </thead>\n",
       "  <tbody>\n",
       "    <tr>\n",
       "      <th>25307221</th>\n",
       "      <td>2020-05-02</td>\n",
       "      <td>0005c68366e7955683b7cdc75535f400d76c2e713b6277...</td>\n",
       "      <td>0608945019</td>\n",
       "      <td>0.016932</td>\n",
       "      <td>2</td>\n",
       "      <td>5619</td>\n",
       "    </tr>\n",
       "    <tr>\n",
       "      <th>25307222</th>\n",
       "      <td>2020-05-02</td>\n",
       "      <td>0005ef6698aeae9819c35dd1d63446f251797d07fe5b4a...</td>\n",
       "      <td>0808666003</td>\n",
       "      <td>0.059305</td>\n",
       "      <td>2</td>\n",
       "      <td>28271</td>\n",
       "    </tr>\n",
       "    <tr>\n",
       "      <th>25307223</th>\n",
       "      <td>2020-05-02</td>\n",
       "      <td>000ed4cabda96069b547ae531c66de5f1bf6a7e5b83aa8...</td>\n",
       "      <td>0743214005</td>\n",
       "      <td>0.011847</td>\n",
       "      <td>2</td>\n",
       "      <td>17660</td>\n",
       "    </tr>\n",
       "    <tr>\n",
       "      <th>25307224</th>\n",
       "      <td>2020-05-02</td>\n",
       "      <td>000ed4cabda96069b547ae531c66de5f1bf6a7e5b83aa8...</td>\n",
       "      <td>0804613005</td>\n",
       "      <td>0.042356</td>\n",
       "      <td>2</td>\n",
       "      <td>27200</td>\n",
       "    </tr>\n",
       "    <tr>\n",
       "      <th>25307225</th>\n",
       "      <td>2020-05-02</td>\n",
       "      <td>000ed4cabda96069b547ae531c66de5f1bf6a7e5b83aa8...</td>\n",
       "      <td>0804613005</td>\n",
       "      <td>0.042356</td>\n",
       "      <td>2</td>\n",
       "      <td>27200</td>\n",
       "    </tr>\n",
       "  </tbody>\n",
       "</table>\n",
       "</div>"
      ],
      "text/plain": [
       "              t_dat                                        customer_id  \\\n",
       "25307221 2020-05-02  0005c68366e7955683b7cdc75535f400d76c2e713b6277...   \n",
       "25307222 2020-05-02  0005ef6698aeae9819c35dd1d63446f251797d07fe5b4a...   \n",
       "25307223 2020-05-02  000ed4cabda96069b547ae531c66de5f1bf6a7e5b83aa8...   \n",
       "25307224 2020-05-02  000ed4cabda96069b547ae531c66de5f1bf6a7e5b83aa8...   \n",
       "25307225 2020-05-02  000ed4cabda96069b547ae531c66de5f1bf6a7e5b83aa8...   \n",
       "\n",
       "          article_id     price  sales_channel_id article_id_idx  \n",
       "25307221  0608945019  0.016932                 2           5619  \n",
       "25307222  0808666003  0.059305                 2          28271  \n",
       "25307223  0743214005  0.011847                 2          17660  \n",
       "25307224  0804613005  0.042356                 2          27200  \n",
       "25307225  0804613005  0.042356                 2          27200  "
      ]
     },
     "execution_count": 26,
     "metadata": {},
     "output_type": "execute_result"
    }
   ],
   "source": [
    "print(dev_inputs.shape)\n",
    "dev_inputs.head()"
   ]
  },
  {
   "cell_type": "code",
   "execution_count": 48,
   "id": "c9ff21fb",
   "metadata": {},
   "outputs": [
    {
     "data": {
      "text/html": [
       "<div>\n",
       "<style scoped>\n",
       "    .dataframe tbody tr th:only-of-type {\n",
       "        vertical-align: middle;\n",
       "    }\n",
       "\n",
       "    .dataframe tbody tr th {\n",
       "        vertical-align: top;\n",
       "    }\n",
       "\n",
       "    .dataframe thead th {\n",
       "        text-align: right;\n",
       "    }\n",
       "</style>\n",
       "<table border=\"1\" class=\"dataframe\">\n",
       "  <thead>\n",
       "    <tr style=\"text-align: right;\">\n",
       "      <th></th>\n",
       "      <th>t_dat</th>\n",
       "      <th>customer_id</th>\n",
       "      <th>article_id</th>\n",
       "      <th>price</th>\n",
       "      <th>sales_channel_id</th>\n",
       "      <th>article_id_idx</th>\n",
       "    </tr>\n",
       "  </thead>\n",
       "  <tbody>\n",
       "    <tr>\n",
       "      <th>31140481</th>\n",
       "      <td>2020-09-05</td>\n",
       "      <td>00000dbacae5abe5e23885899a1fa44253a17956c6d1c3...</td>\n",
       "      <td>0568601043</td>\n",
       "      <td>0.050831</td>\n",
       "      <td>1</td>\n",
       "      <td>2964</td>\n",
       "    </tr>\n",
       "    <tr>\n",
       "      <th>28738780</th>\n",
       "      <td>2020-07-08</td>\n",
       "      <td>0000423b00ade91418cceaf3b26c6af3dd342b51fd051e...</td>\n",
       "      <td>0826211002</td>\n",
       "      <td>0.027102</td>\n",
       "      <td>1</td>\n",
       "      <td>24822</td>\n",
       "    </tr>\n",
       "    <tr>\n",
       "      <th>31521960</th>\n",
       "      <td>2020-09-15</td>\n",
       "      <td>000058a12d5b43e67d225668fa1f8d618c13dc232df0ca...</td>\n",
       "      <td>0794321007</td>\n",
       "      <td>0.061000</td>\n",
       "      <td>2</td>\n",
       "      <td>19269</td>\n",
       "    </tr>\n",
       "    <tr>\n",
       "      <th>30223079</th>\n",
       "      <td>2020-08-12</td>\n",
       "      <td>00006413d8573cd20ed7128e53b7b13819fe5cfc2d801f...</td>\n",
       "      <td>0896152002</td>\n",
       "      <td>0.027102</td>\n",
       "      <td>2</td>\n",
       "      <td>36886</td>\n",
       "    </tr>\n",
       "    <tr>\n",
       "      <th>30223080</th>\n",
       "      <td>2020-08-12</td>\n",
       "      <td>00006413d8573cd20ed7128e53b7b13819fe5cfc2d801f...</td>\n",
       "      <td>0730683050</td>\n",
       "      <td>0.033881</td>\n",
       "      <td>2</td>\n",
       "      <td>11614</td>\n",
       "    </tr>\n",
       "  </tbody>\n",
       "</table>\n",
       "</div>"
      ],
      "text/plain": [
       "              t_dat                                        customer_id  \\\n",
       "31140481 2020-09-05  00000dbacae5abe5e23885899a1fa44253a17956c6d1c3...   \n",
       "28738780 2020-07-08  0000423b00ade91418cceaf3b26c6af3dd342b51fd051e...   \n",
       "31521960 2020-09-15  000058a12d5b43e67d225668fa1f8d618c13dc232df0ca...   \n",
       "30223079 2020-08-12  00006413d8573cd20ed7128e53b7b13819fe5cfc2d801f...   \n",
       "30223080 2020-08-12  00006413d8573cd20ed7128e53b7b13819fe5cfc2d801f...   \n",
       "\n",
       "          article_id     price  sales_channel_id article_id_idx  \n",
       "31140481  0568601043  0.050831                 1           2964  \n",
       "28738780  0826211002  0.027102                 1          24822  \n",
       "31521960  0794321007  0.061000                 2          19269  \n",
       "30223079  0896152002  0.027102                 2          36886  \n",
       "30223080  0730683050  0.033881                 2          11614  "
      ]
     },
     "execution_count": 48,
     "metadata": {},
     "output_type": "execute_result"
    }
   ],
   "source": [
    "dev_inputs.sort_values(['customer_id', 't_dat'], inplace=True)\n",
    "dev_inputs.head()"
   ]
  },
  {
   "cell_type": "code",
   "execution_count": 49,
   "id": "dba3733c",
   "metadata": {},
   "outputs": [],
   "source": [
    "# dev_inputs['total_purchases'] = dev_inputs.groupby('customer_id')['article_id'].transform('count')"
   ]
  },
  {
   "cell_type": "code",
   "execution_count": 50,
   "id": "8718071a",
   "metadata": {},
   "outputs": [],
   "source": [
    "# print(dev_inputs.shape)\n",
    "# dev_inputs = dev_inputs.copy()[dev_inputs['total_purchases'] >= 10]\n",
    "# print(dev_inputs.shape)"
   ]
  },
  {
   "cell_type": "code",
   "execution_count": 51,
   "id": "ddefe6f7",
   "metadata": {},
   "outputs": [],
   "source": [
    "dev_inputs['article_id_idx'] = dev_inputs['article_id_idx'].astype(str)"
   ]
  },
  {
   "cell_type": "markdown",
   "id": "a28ddcd2",
   "metadata": {},
   "source": [
    "- Age of last transaction\n",
    "- Transaction count\n",
    "- Incoporate count in vector representation"
   ]
  },
  {
   "cell_type": "code",
   "execution_count": 52,
   "id": "581c204e",
   "metadata": {},
   "outputs": [
    {
     "data": {
      "text/html": [
       "<div>\n",
       "<style scoped>\n",
       "    .dataframe tbody tr th:only-of-type {\n",
       "        vertical-align: middle;\n",
       "    }\n",
       "\n",
       "    .dataframe tbody tr th {\n",
       "        vertical-align: top;\n",
       "    }\n",
       "\n",
       "    .dataframe thead th {\n",
       "        text-align: right;\n",
       "    }\n",
       "</style>\n",
       "<table border=\"1\" class=\"dataframe\">\n",
       "  <thead>\n",
       "    <tr style=\"text-align: right;\">\n",
       "      <th></th>\n",
       "      <th>customer_id</th>\n",
       "      <th>t_dat</th>\n",
       "    </tr>\n",
       "  </thead>\n",
       "  <tbody>\n",
       "    <tr>\n",
       "      <th>31140481</th>\n",
       "      <td>00000dbacae5abe5e23885899a1fa44253a17956c6d1c3...</td>\n",
       "      <td>2020-09-05</td>\n",
       "    </tr>\n",
       "    <tr>\n",
       "      <th>28738780</th>\n",
       "      <td>0000423b00ade91418cceaf3b26c6af3dd342b51fd051e...</td>\n",
       "      <td>2020-07-08</td>\n",
       "    </tr>\n",
       "    <tr>\n",
       "      <th>31521960</th>\n",
       "      <td>000058a12d5b43e67d225668fa1f8d618c13dc232df0ca...</td>\n",
       "      <td>2020-09-15</td>\n",
       "    </tr>\n",
       "    <tr>\n",
       "      <th>30223082</th>\n",
       "      <td>00006413d8573cd20ed7128e53b7b13819fe5cfc2d801f...</td>\n",
       "      <td>2020-08-12</td>\n",
       "    </tr>\n",
       "    <tr>\n",
       "      <th>31492020</th>\n",
       "      <td>0000757967448a6cb83efb3ea7a3fb9d418ac7adf2379d...</td>\n",
       "      <td>2020-09-14</td>\n",
       "    </tr>\n",
       "  </tbody>\n",
       "</table>\n",
       "</div>"
      ],
      "text/plain": [
       "                                                customer_id      t_dat\n",
       "31140481  00000dbacae5abe5e23885899a1fa44253a17956c6d1c3... 2020-09-05\n",
       "28738780  0000423b00ade91418cceaf3b26c6af3dd342b51fd051e... 2020-07-08\n",
       "31521960  000058a12d5b43e67d225668fa1f8d618c13dc232df0ca... 2020-09-15\n",
       "30223082  00006413d8573cd20ed7128e53b7b13819fe5cfc2d801f... 2020-08-12\n",
       "31492020  0000757967448a6cb83efb3ea7a3fb9d418ac7adf2379d... 2020-09-14"
      ]
     },
     "execution_count": 52,
     "metadata": {},
     "output_type": "execute_result"
    }
   ],
   "source": [
    "latest_transaction_date_by_cust = dev_inputs.groupby('customer_id')[['customer_id', 't_dat']].tail(1)\n",
    "latest_transaction_date_by_cust.head()"
   ]
  },
  {
   "cell_type": "code",
   "execution_count": 53,
   "id": "2a96ad77",
   "metadata": {},
   "outputs": [
    {
     "name": "stdout",
     "output_type": "stream",
     "text": [
      "(463088, 2)\n"
     ]
    },
    {
     "data": {
      "text/html": [
       "<div>\n",
       "<style scoped>\n",
       "    .dataframe tbody tr th:only-of-type {\n",
       "        vertical-align: middle;\n",
       "    }\n",
       "\n",
       "    .dataframe tbody tr th {\n",
       "        vertical-align: top;\n",
       "    }\n",
       "\n",
       "    .dataframe thead th {\n",
       "        text-align: right;\n",
       "    }\n",
       "</style>\n",
       "<table border=\"1\" class=\"dataframe\">\n",
       "  <thead>\n",
       "    <tr style=\"text-align: right;\">\n",
       "      <th></th>\n",
       "      <th>customer_id</th>\n",
       "      <th>article_id_idx</th>\n",
       "    </tr>\n",
       "  </thead>\n",
       "  <tbody>\n",
       "    <tr>\n",
       "      <th>0</th>\n",
       "      <td>00000dbacae5abe5e23885899a1fa44253a17956c6d1c3...</td>\n",
       "      <td>2964</td>\n",
       "    </tr>\n",
       "    <tr>\n",
       "      <th>1</th>\n",
       "      <td>0000423b00ade91418cceaf3b26c6af3dd342b51fd051e...</td>\n",
       "      <td>24822</td>\n",
       "    </tr>\n",
       "    <tr>\n",
       "      <th>2</th>\n",
       "      <td>000058a12d5b43e67d225668fa1f8d618c13dc232df0ca...</td>\n",
       "      <td>19269</td>\n",
       "    </tr>\n",
       "    <tr>\n",
       "      <th>3</th>\n",
       "      <td>00006413d8573cd20ed7128e53b7b13819fe5cfc2d801f...</td>\n",
       "      <td>36886,11614,39949,18973</td>\n",
       "    </tr>\n",
       "    <tr>\n",
       "      <th>4</th>\n",
       "      <td>0000757967448a6cb83efb3ea7a3fb9d418ac7adf2379d...</td>\n",
       "      <td>10788,915</td>\n",
       "    </tr>\n",
       "  </tbody>\n",
       "</table>\n",
       "</div>"
      ],
      "text/plain": [
       "                                         customer_id           article_id_idx\n",
       "0  00000dbacae5abe5e23885899a1fa44253a17956c6d1c3...                     2964\n",
       "1  0000423b00ade91418cceaf3b26c6af3dd342b51fd051e...                    24822\n",
       "2  000058a12d5b43e67d225668fa1f8d618c13dc232df0ca...                    19269\n",
       "3  00006413d8573cd20ed7128e53b7b13819fe5cfc2d801f...  36886,11614,39949,18973\n",
       "4  0000757967448a6cb83efb3ea7a3fb9d418ac7adf2379d...                10788,915"
      ]
     },
     "execution_count": 53,
     "metadata": {},
     "output_type": "execute_result"
    }
   ],
   "source": [
    "dev_inputs = (\n",
    "    dev_inputs\n",
    "        .groupby('customer_id')\n",
    "        .tail(10)  # Most recent articles only\n",
    "        .groupby('customer_id')['article_id_idx']\n",
    "        .apply(lambda x: ','.join(x))\n",
    "        .reset_index()\n",
    ")\n",
    "print(dev_inputs.shape)\n",
    "dev_inputs.head()"
   ]
  },
  {
   "cell_type": "code",
   "execution_count": 54,
   "id": "d0a0775b",
   "metadata": {},
   "outputs": [
    {
     "name": "stdout",
     "output_type": "stream",
     "text": [
      "(463088, 3)\n"
     ]
    },
    {
     "data": {
      "text/html": [
       "<div>\n",
       "<style scoped>\n",
       "    .dataframe tbody tr th:only-of-type {\n",
       "        vertical-align: middle;\n",
       "    }\n",
       "\n",
       "    .dataframe tbody tr th {\n",
       "        vertical-align: top;\n",
       "    }\n",
       "\n",
       "    .dataframe thead th {\n",
       "        text-align: right;\n",
       "    }\n",
       "</style>\n",
       "<table border=\"1\" class=\"dataframe\">\n",
       "  <thead>\n",
       "    <tr style=\"text-align: right;\">\n",
       "      <th></th>\n",
       "      <th>customer_id</th>\n",
       "      <th>article_id_idx</th>\n",
       "      <th>t_dat_latest</th>\n",
       "    </tr>\n",
       "  </thead>\n",
       "  <tbody>\n",
       "    <tr>\n",
       "      <th>0</th>\n",
       "      <td>00000dbacae5abe5e23885899a1fa44253a17956c6d1c3...</td>\n",
       "      <td>2964</td>\n",
       "      <td>2020-09-05</td>\n",
       "    </tr>\n",
       "    <tr>\n",
       "      <th>1</th>\n",
       "      <td>0000423b00ade91418cceaf3b26c6af3dd342b51fd051e...</td>\n",
       "      <td>24822</td>\n",
       "      <td>2020-07-08</td>\n",
       "    </tr>\n",
       "    <tr>\n",
       "      <th>2</th>\n",
       "      <td>000058a12d5b43e67d225668fa1f8d618c13dc232df0ca...</td>\n",
       "      <td>19269</td>\n",
       "      <td>2020-09-15</td>\n",
       "    </tr>\n",
       "    <tr>\n",
       "      <th>3</th>\n",
       "      <td>00006413d8573cd20ed7128e53b7b13819fe5cfc2d801f...</td>\n",
       "      <td>36886,11614,39949,18973</td>\n",
       "      <td>2020-08-12</td>\n",
       "    </tr>\n",
       "    <tr>\n",
       "      <th>4</th>\n",
       "      <td>0000757967448a6cb83efb3ea7a3fb9d418ac7adf2379d...</td>\n",
       "      <td>10788,915</td>\n",
       "      <td>2020-09-14</td>\n",
       "    </tr>\n",
       "  </tbody>\n",
       "</table>\n",
       "</div>"
      ],
      "text/plain": [
       "                                         customer_id           article_id_idx  \\\n",
       "0  00000dbacae5abe5e23885899a1fa44253a17956c6d1c3...                     2964   \n",
       "1  0000423b00ade91418cceaf3b26c6af3dd342b51fd051e...                    24822   \n",
       "2  000058a12d5b43e67d225668fa1f8d618c13dc232df0ca...                    19269   \n",
       "3  00006413d8573cd20ed7128e53b7b13819fe5cfc2d801f...  36886,11614,39949,18973   \n",
       "4  0000757967448a6cb83efb3ea7a3fb9d418ac7adf2379d...                10788,915   \n",
       "\n",
       "  t_dat_latest  \n",
       "0   2020-09-05  \n",
       "1   2020-07-08  \n",
       "2   2020-09-15  \n",
       "3   2020-08-12  \n",
       "4   2020-09-14  "
      ]
     },
     "execution_count": 54,
     "metadata": {},
     "output_type": "execute_result"
    }
   ],
   "source": [
    "dev_inputs = dev_inputs.merge(latest_transaction_date_by_cust.rename(columns={'t_dat': 't_dat_latest'}), on='customer_id')\n",
    "print(dev_inputs.shape)\n",
    "dev_inputs.head()"
   ]
  },
  {
   "cell_type": "code",
   "execution_count": 55,
   "id": "fc357438",
   "metadata": {},
   "outputs": [
    {
     "data": {
      "text/plain": [
       "(240311, 6)"
      ]
     },
     "execution_count": 55,
     "metadata": {},
     "output_type": "execute_result"
    }
   ],
   "source": [
    "dev_labels.shape"
   ]
  },
  {
   "cell_type": "code",
   "execution_count": 56,
   "id": "c5d629eb",
   "metadata": {},
   "outputs": [
    {
     "data": {
      "text/html": [
       "<div>\n",
       "<style scoped>\n",
       "    .dataframe tbody tr th:only-of-type {\n",
       "        vertical-align: middle;\n",
       "    }\n",
       "\n",
       "    .dataframe tbody tr th {\n",
       "        vertical-align: top;\n",
       "    }\n",
       "\n",
       "    .dataframe thead th {\n",
       "        text-align: right;\n",
       "    }\n",
       "</style>\n",
       "<table border=\"1\" class=\"dataframe\">\n",
       "  <thead>\n",
       "    <tr style=\"text-align: right;\">\n",
       "      <th></th>\n",
       "      <th>t_dat</th>\n",
       "      <th>customer_id</th>\n",
       "      <th>article_id</th>\n",
       "      <th>price</th>\n",
       "      <th>sales_channel_id</th>\n",
       "      <th>article_id_idx</th>\n",
       "    </tr>\n",
       "  </thead>\n",
       "  <tbody>\n",
       "    <tr>\n",
       "      <th>31548013</th>\n",
       "      <td>2020-09-16</td>\n",
       "      <td>000fb6e772c5d0023892065e659963da90b1866035558e...</td>\n",
       "      <td>0786022008</td>\n",
       "      <td>0.048441</td>\n",
       "      <td>2</td>\n",
       "      <td>18345</td>\n",
       "    </tr>\n",
       "    <tr>\n",
       "      <th>31548014</th>\n",
       "      <td>2020-09-16</td>\n",
       "      <td>000fb6e772c5d0023892065e659963da90b1866035558e...</td>\n",
       "      <td>0913272003</td>\n",
       "      <td>0.032288</td>\n",
       "      <td>2</td>\n",
       "      <td>38864</td>\n",
       "    </tr>\n",
       "    <tr>\n",
       "      <th>31548015</th>\n",
       "      <td>2020-09-16</td>\n",
       "      <td>000fb6e772c5d0023892065e659963da90b1866035558e...</td>\n",
       "      <td>0889669006</td>\n",
       "      <td>0.056508</td>\n",
       "      <td>2</td>\n",
       "      <td>35941</td>\n",
       "    </tr>\n",
       "    <tr>\n",
       "      <th>31548016</th>\n",
       "      <td>2020-09-16</td>\n",
       "      <td>0010e8eb18f131e724d6997909af0808adbba057529edb...</td>\n",
       "      <td>0237347060</td>\n",
       "      <td>0.033881</td>\n",
       "      <td>1</td>\n",
       "      <td>183</td>\n",
       "    </tr>\n",
       "    <tr>\n",
       "      <th>31548017</th>\n",
       "      <td>2020-09-16</td>\n",
       "      <td>0010e8eb18f131e724d6997909af0808adbba057529edb...</td>\n",
       "      <td>0562245001</td>\n",
       "      <td>0.013542</td>\n",
       "      <td>1</td>\n",
       "      <td>2689</td>\n",
       "    </tr>\n",
       "  </tbody>\n",
       "</table>\n",
       "</div>"
      ],
      "text/plain": [
       "              t_dat                                        customer_id  \\\n",
       "31548013 2020-09-16  000fb6e772c5d0023892065e659963da90b1866035558e...   \n",
       "31548014 2020-09-16  000fb6e772c5d0023892065e659963da90b1866035558e...   \n",
       "31548015 2020-09-16  000fb6e772c5d0023892065e659963da90b1866035558e...   \n",
       "31548016 2020-09-16  0010e8eb18f131e724d6997909af0808adbba057529edb...   \n",
       "31548017 2020-09-16  0010e8eb18f131e724d6997909af0808adbba057529edb...   \n",
       "\n",
       "          article_id     price  sales_channel_id article_id_idx  \n",
       "31548013  0786022008  0.048441                 2          18345  \n",
       "31548014  0913272003  0.032288                 2          38864  \n",
       "31548015  0889669006  0.056508                 2          35941  \n",
       "31548016  0237347060  0.033881                 1            183  \n",
       "31548017  0562245001  0.013542                 1           2689  "
      ]
     },
     "execution_count": 56,
     "metadata": {},
     "output_type": "execute_result"
    }
   ],
   "source": [
    "dev_labels.head()"
   ]
  },
  {
   "cell_type": "code",
   "execution_count": 69,
   "id": "4855ce70",
   "metadata": {},
   "outputs": [
    {
     "name": "stdout",
     "output_type": "stream",
     "text": [
      "(213728, 3)\n"
     ]
    },
    {
     "data": {
      "text/html": [
       "<div>\n",
       "<style scoped>\n",
       "    .dataframe tbody tr th:only-of-type {\n",
       "        vertical-align: middle;\n",
       "    }\n",
       "\n",
       "    .dataframe tbody tr th {\n",
       "        vertical-align: top;\n",
       "    }\n",
       "\n",
       "    .dataframe thead th {\n",
       "        text-align: right;\n",
       "    }\n",
       "</style>\n",
       "<table border=\"1\" class=\"dataframe\">\n",
       "  <thead>\n",
       "    <tr style=\"text-align: right;\">\n",
       "      <th></th>\n",
       "      <th>customer_id</th>\n",
       "      <th>article_id</th>\n",
       "      <th>num_purchases</th>\n",
       "    </tr>\n",
       "  </thead>\n",
       "  <tbody>\n",
       "    <tr>\n",
       "      <th>0</th>\n",
       "      <td>00039306476aaf41a07fed942884f16b30abfa83a2a8be...</td>\n",
       "      <td>0624486001</td>\n",
       "      <td>1</td>\n",
       "    </tr>\n",
       "    <tr>\n",
       "      <th>1</th>\n",
       "      <td>0003e867a930d0d6842f923d6ba7c9b77aba33fe2a0fbf...</td>\n",
       "      <td>0827487003</td>\n",
       "      <td>1</td>\n",
       "    </tr>\n",
       "    <tr>\n",
       "      <th>2</th>\n",
       "      <td>000493dd9fc463df1acc2081450c9e75ef8e87d5dd17ed...</td>\n",
       "      <td>0640021019</td>\n",
       "      <td>1</td>\n",
       "    </tr>\n",
       "    <tr>\n",
       "      <th>3</th>\n",
       "      <td>000493dd9fc463df1acc2081450c9e75ef8e87d5dd17ed...</td>\n",
       "      <td>0757926001</td>\n",
       "      <td>1</td>\n",
       "    </tr>\n",
       "    <tr>\n",
       "      <th>4</th>\n",
       "      <td>000493dd9fc463df1acc2081450c9e75ef8e87d5dd17ed...</td>\n",
       "      <td>0788575004</td>\n",
       "      <td>1</td>\n",
       "    </tr>\n",
       "  </tbody>\n",
       "</table>\n",
       "</div>"
      ],
      "text/plain": [
       "                                         customer_id  article_id  \\\n",
       "0  00039306476aaf41a07fed942884f16b30abfa83a2a8be...  0624486001   \n",
       "1  0003e867a930d0d6842f923d6ba7c9b77aba33fe2a0fbf...  0827487003   \n",
       "2  000493dd9fc463df1acc2081450c9e75ef8e87d5dd17ed...  0640021019   \n",
       "3  000493dd9fc463df1acc2081450c9e75ef8e87d5dd17ed...  0757926001   \n",
       "4  000493dd9fc463df1acc2081450c9e75ef8e87d5dd17ed...  0788575004   \n",
       "\n",
       "   num_purchases  \n",
       "0              1  \n",
       "1              1  \n",
       "2              1  \n",
       "3              1  \n",
       "4              1  "
      ]
     },
     "execution_count": 69,
     "metadata": {},
     "output_type": "execute_result"
    }
   ],
   "source": [
    "num_purchases_df = dev_labels.groupby(['customer_id', 'article_id'])['t_dat'].count().reset_index().rename(columns={'t_dat': 'num_purchases'})\n",
    "print(num_purchases_df.shape)\n",
    "num_purchases_df.head()"
   ]
  },
  {
   "cell_type": "code",
   "execution_count": 78,
   "id": "2abfba07",
   "metadata": {},
   "outputs": [],
   "source": [
    "num_purchases_df['num_purchases'] = num_purchases_df['num_purchases'].astype(str)"
   ]
  },
  {
   "cell_type": "code",
   "execution_count": 81,
   "id": "09df5f8f",
   "metadata": {},
   "outputs": [
    {
     "name": "stdout",
     "output_type": "stream",
     "text": [
      "(68984, 3)\n"
     ]
    },
    {
     "data": {
      "text/html": [
       "<div>\n",
       "<style scoped>\n",
       "    .dataframe tbody tr th:only-of-type {\n",
       "        vertical-align: middle;\n",
       "    }\n",
       "\n",
       "    .dataframe tbody tr th {\n",
       "        vertical-align: top;\n",
       "    }\n",
       "\n",
       "    .dataframe thead th {\n",
       "        text-align: right;\n",
       "    }\n",
       "</style>\n",
       "<table border=\"1\" class=\"dataframe\">\n",
       "  <thead>\n",
       "    <tr style=\"text-align: right;\">\n",
       "      <th></th>\n",
       "      <th>customer_id</th>\n",
       "      <th>article_id</th>\n",
       "      <th>num_purchases</th>\n",
       "    </tr>\n",
       "  </thead>\n",
       "  <tbody>\n",
       "    <tr>\n",
       "      <th>0</th>\n",
       "      <td>00039306476aaf41a07fed942884f16b30abfa83a2a8be...</td>\n",
       "      <td>0624486001</td>\n",
       "      <td>1</td>\n",
       "    </tr>\n",
       "    <tr>\n",
       "      <th>1</th>\n",
       "      <td>0003e867a930d0d6842f923d6ba7c9b77aba33fe2a0fbf...</td>\n",
       "      <td>0827487003</td>\n",
       "      <td>1</td>\n",
       "    </tr>\n",
       "    <tr>\n",
       "      <th>2</th>\n",
       "      <td>000493dd9fc463df1acc2081450c9e75ef8e87d5dd17ed...</td>\n",
       "      <td>0640021019,0757926001,0788575004</td>\n",
       "      <td>1,1,1</td>\n",
       "    </tr>\n",
       "    <tr>\n",
       "      <th>3</th>\n",
       "      <td>000525e3fe01600d717da8423643a8303390a055c578ed...</td>\n",
       "      <td>0874110016</td>\n",
       "      <td>1</td>\n",
       "    </tr>\n",
       "    <tr>\n",
       "      <th>4</th>\n",
       "      <td>00077dbd5c4a4991e092e63893ccf29294a9d5c46e8501...</td>\n",
       "      <td>0158340001,0448509014,0486639003,0799365027,08...</td>\n",
       "      <td>1,1,1,1,1,1,1,1,1,1,1,1,1,1</td>\n",
       "    </tr>\n",
       "  </tbody>\n",
       "</table>\n",
       "</div>"
      ],
      "text/plain": [
       "                                         customer_id  \\\n",
       "0  00039306476aaf41a07fed942884f16b30abfa83a2a8be...   \n",
       "1  0003e867a930d0d6842f923d6ba7c9b77aba33fe2a0fbf...   \n",
       "2  000493dd9fc463df1acc2081450c9e75ef8e87d5dd17ed...   \n",
       "3  000525e3fe01600d717da8423643a8303390a055c578ed...   \n",
       "4  00077dbd5c4a4991e092e63893ccf29294a9d5c46e8501...   \n",
       "\n",
       "                                          article_id  \\\n",
       "0                                         0624486001   \n",
       "1                                         0827487003   \n",
       "2                   0640021019,0757926001,0788575004   \n",
       "3                                         0874110016   \n",
       "4  0158340001,0448509014,0486639003,0799365027,08...   \n",
       "\n",
       "                 num_purchases  \n",
       "0                            1  \n",
       "1                            1  \n",
       "2                        1,1,1  \n",
       "3                            1  \n",
       "4  1,1,1,1,1,1,1,1,1,1,1,1,1,1  "
      ]
     },
     "execution_count": 81,
     "metadata": {},
     "output_type": "execute_result"
    }
   ],
   "source": [
    "dev_labels = num_purchases_df.groupby('customer_id').agg(\n",
    "    {\n",
    "        'article_id': lambda x: ','.join(x),\n",
    "        'num_purchases': lambda x: ','.join(x)\n",
    "    }\n",
    ").reset_index()\n",
    "\n",
    "print(dev_labels.shape)\n",
    "dev_labels.head()"
   ]
  },
  {
   "cell_type": "code",
   "execution_count": 82,
   "id": "dbd84dea",
   "metadata": {},
   "outputs": [
    {
     "data": {
      "text/plain": [
       "(484944, 6)"
      ]
     },
     "execution_count": 82,
     "metadata": {},
     "output_type": "execute_result"
    }
   ],
   "source": [
    "dev_set = dev_inputs.merge(dev_labels, on='customer_id', how='outer', indicator=True, suffixes=('_last10', '_label'))\n",
    "dev_set.shape"
   ]
  },
  {
   "cell_type": "code",
   "execution_count": 83,
   "id": "de64e76b",
   "metadata": {},
   "outputs": [
    {
     "data": {
      "text/plain": [
       "left_only     0.857749\n",
       "both          0.097182\n",
       "right_only    0.045069\n",
       "Name: _merge, dtype: float64"
      ]
     },
     "execution_count": 83,
     "metadata": {},
     "output_type": "execute_result"
    }
   ],
   "source": [
    "dev_set['_merge'].value_counts() / dev_set.shape[0]"
   ]
  },
  {
   "cell_type": "markdown",
   "id": "2cd26c97",
   "metadata": {},
   "source": [
    "`left_only` = customers who did not make purchases in last week\n",
    "\n",
    "`both` = customers who did make purchases in last week and made purchases in the past\n",
    "\n",
    "`right_only` = customers who did make purchases in last week but made no purchases in the past (cold start)\n",
    "\n",
    "Keep `both` only. For cold start we can just predict top-12 and `left_only` won't contribute to MAP"
   ]
  },
  {
   "cell_type": "code",
   "execution_count": 84,
   "id": "dc58ef7e",
   "metadata": {},
   "outputs": [
    {
     "name": "stdout",
     "output_type": "stream",
     "text": [
      "(47128, 5)\n"
     ]
    },
    {
     "data": {
      "text/html": [
       "<div>\n",
       "<style scoped>\n",
       "    .dataframe tbody tr th:only-of-type {\n",
       "        vertical-align: middle;\n",
       "    }\n",
       "\n",
       "    .dataframe tbody tr th {\n",
       "        vertical-align: top;\n",
       "    }\n",
       "\n",
       "    .dataframe thead th {\n",
       "        text-align: right;\n",
       "    }\n",
       "</style>\n",
       "<table border=\"1\" class=\"dataframe\">\n",
       "  <thead>\n",
       "    <tr style=\"text-align: right;\">\n",
       "      <th></th>\n",
       "      <th>customer_id</th>\n",
       "      <th>article_id_idx</th>\n",
       "      <th>t_dat_latest</th>\n",
       "      <th>article_id</th>\n",
       "      <th>num_purchases</th>\n",
       "    </tr>\n",
       "  </thead>\n",
       "  <tbody>\n",
       "    <tr>\n",
       "      <th>26</th>\n",
       "      <td>0003e867a930d0d6842f923d6ba7c9b77aba33fe2a0fbf...</td>\n",
       "      <td>39441,36213,38872,37897,38110,5642,4783,34346,...</td>\n",
       "      <td>2020-09-14</td>\n",
       "      <td>0827487003</td>\n",
       "      <td>1</td>\n",
       "    </tr>\n",
       "    <tr>\n",
       "      <th>33</th>\n",
       "      <td>000493dd9fc463df1acc2081450c9e75ef8e87d5dd17ed...</td>\n",
       "      <td>11936,16155,685,11824,2456,28519,11826,3269,23...</td>\n",
       "      <td>2020-09-09</td>\n",
       "      <td>0640021019,0757926001,0788575004</td>\n",
       "      <td>1,1,1</td>\n",
       "    </tr>\n",
       "    <tr>\n",
       "      <th>54</th>\n",
       "      <td>00077dbd5c4a4991e092e63893ccf29294a9d5c46e8501...</td>\n",
       "      <td>35875,24399,21130,21130,21130,21130,40107,3128...</td>\n",
       "      <td>2020-09-12</td>\n",
       "      <td>0158340001,0448509014,0486639003,0799365027,08...</td>\n",
       "      <td>1,1,1,1,1,1,1,1,1,1,1,1,1,1</td>\n",
       "    </tr>\n",
       "    <tr>\n",
       "      <th>107</th>\n",
       "      <td>000fb6e772c5d0023892065e659963da90b1866035558e...</td>\n",
       "      <td>24455,19793,37728,25547,35072,15616,39388,3938...</td>\n",
       "      <td>2020-09-10</td>\n",
       "      <td>0786022008,0871519008,0889669006,0913272003,09...</td>\n",
       "      <td>1,3,2,2,1</td>\n",
       "    </tr>\n",
       "    <tr>\n",
       "      <th>113</th>\n",
       "      <td>0010e8eb18f131e724d6997909af0808adbba057529edb...</td>\n",
       "      <td>26967,15611,25069,34918,703</td>\n",
       "      <td>2020-08-25</td>\n",
       "      <td>0237347060,0372860001,0456163060,0562245001,06...</td>\n",
       "      <td>1,1,1,1,1,1,1,1,1</td>\n",
       "    </tr>\n",
       "  </tbody>\n",
       "</table>\n",
       "</div>"
      ],
      "text/plain": [
       "                                           customer_id  \\\n",
       "26   0003e867a930d0d6842f923d6ba7c9b77aba33fe2a0fbf...   \n",
       "33   000493dd9fc463df1acc2081450c9e75ef8e87d5dd17ed...   \n",
       "54   00077dbd5c4a4991e092e63893ccf29294a9d5c46e8501...   \n",
       "107  000fb6e772c5d0023892065e659963da90b1866035558e...   \n",
       "113  0010e8eb18f131e724d6997909af0808adbba057529edb...   \n",
       "\n",
       "                                        article_id_idx t_dat_latest  \\\n",
       "26   39441,36213,38872,37897,38110,5642,4783,34346,...   2020-09-14   \n",
       "33   11936,16155,685,11824,2456,28519,11826,3269,23...   2020-09-09   \n",
       "54   35875,24399,21130,21130,21130,21130,40107,3128...   2020-09-12   \n",
       "107  24455,19793,37728,25547,35072,15616,39388,3938...   2020-09-10   \n",
       "113                        26967,15611,25069,34918,703   2020-08-25   \n",
       "\n",
       "                                            article_id  \\\n",
       "26                                          0827487003   \n",
       "33                    0640021019,0757926001,0788575004   \n",
       "54   0158340001,0448509014,0486639003,0799365027,08...   \n",
       "107  0786022008,0871519008,0889669006,0913272003,09...   \n",
       "113  0237347060,0372860001,0456163060,0562245001,06...   \n",
       "\n",
       "                   num_purchases  \n",
       "26                             1  \n",
       "33                         1,1,1  \n",
       "54   1,1,1,1,1,1,1,1,1,1,1,1,1,1  \n",
       "107                    1,3,2,2,1  \n",
       "113            1,1,1,1,1,1,1,1,1  "
      ]
     },
     "execution_count": 84,
     "metadata": {},
     "output_type": "execute_result"
    }
   ],
   "source": [
    "dev_set = dev_set.copy()[dev_set['_merge'] == 'both']\n",
    "dev_set.drop('_merge', inplace=True, axis=1)\n",
    "print(dev_set.shape)\n",
    "dev_set.head()"
   ]
  },
  {
   "cell_type": "code",
   "execution_count": 87,
   "id": "f6405b60",
   "metadata": {},
   "outputs": [
    {
     "data": {
      "text/plain": [
       "Timestamp('2020-09-01 00:00:00')"
      ]
     },
     "execution_count": 87,
     "metadata": {},
     "output_type": "execute_result"
    }
   ],
   "source": [
    "endm3"
   ]
  },
  {
   "cell_type": "code",
   "execution_count": 112,
   "id": "160df441",
   "metadata": {},
   "outputs": [
    {
     "data": {
      "text/plain": [
       "Timestamp('2020-05-24 00:00:00')"
      ]
     },
     "execution_count": 112,
     "metadata": {},
     "output_type": "execute_result"
    }
   ],
   "source": [
    "endm3 - datetime.timedelta(days=100)"
   ]
  },
  {
   "cell_type": "code",
   "execution_count": 113,
   "id": "af9f3727",
   "metadata": {},
   "outputs": [],
   "source": [
    "dev_set['example_age'] = (endm3 - dev_set['t_dat_latest']).dt.days / 100"
   ]
  },
  {
   "cell_type": "code",
   "execution_count": 114,
   "id": "12719db0",
   "metadata": {},
   "outputs": [
    {
     "data": {
      "text/plain": [
       "<AxesSubplot:>"
      ]
     },
     "execution_count": 114,
     "metadata": {},
     "output_type": "execute_result"
    },
    {
     "data": {
      "image/png": "[encoded data removed]",
      "text/plain": [
       "<Figure size 432x288 with 1 Axes>"
      ]
     },
     "metadata": {
      "needs_background": "light"
     },
     "output_type": "display_data"
    }
   ],
   "source": [
    "dev_set['example_age'].hist()"
   ]
  },
  {
   "cell_type": "code",
   "execution_count": 99,
   "id": "020c6791",
   "metadata": {},
   "outputs": [
    {
     "data": {
      "text/html": [
       "<div>\n",
       "<style scoped>\n",
       "    .dataframe tbody tr th:only-of-type {\n",
       "        vertical-align: middle;\n",
       "    }\n",
       "\n",
       "    .dataframe tbody tr th {\n",
       "        vertical-align: top;\n",
       "    }\n",
       "\n",
       "    .dataframe thead th {\n",
       "        text-align: right;\n",
       "    }\n",
       "</style>\n",
       "<table border=\"1\" class=\"dataframe\">\n",
       "  <thead>\n",
       "    <tr style=\"text-align: right;\">\n",
       "      <th></th>\n",
       "      <th>customer_id</th>\n",
       "      <th>article_id_idx</th>\n",
       "      <th>t_dat_latest</th>\n",
       "      <th>article_id</th>\n",
       "      <th>num_purchases</th>\n",
       "      <th>example_age</th>\n",
       "    </tr>\n",
       "  </thead>\n",
       "  <tbody>\n",
       "    <tr>\n",
       "      <th>26</th>\n",
       "      <td>0003e867a930d0d6842f923d6ba7c9b77aba33fe2a0fbf...</td>\n",
       "      <td>39441,36213,38872,37897,38110,5642,4783,34346,...</td>\n",
       "      <td>2020-09-14</td>\n",
       "      <td>0827487003</td>\n",
       "      <td>1</td>\n",
       "      <td>-13</td>\n",
       "    </tr>\n",
       "    <tr>\n",
       "      <th>33</th>\n",
       "      <td>000493dd9fc463df1acc2081450c9e75ef8e87d5dd17ed...</td>\n",
       "      <td>11936,16155,685,11824,2456,28519,11826,3269,23...</td>\n",
       "      <td>2020-09-09</td>\n",
       "      <td>0640021019,0757926001,0788575004</td>\n",
       "      <td>1,1,1</td>\n",
       "      <td>-8</td>\n",
       "    </tr>\n",
       "    <tr>\n",
       "      <th>54</th>\n",
       "      <td>00077dbd5c4a4991e092e63893ccf29294a9d5c46e8501...</td>\n",
       "      <td>35875,24399,21130,21130,21130,21130,40107,3128...</td>\n",
       "      <td>2020-09-12</td>\n",
       "      <td>0158340001,0448509014,0486639003,0799365027,08...</td>\n",
       "      <td>1,1,1,1,1,1,1,1,1,1,1,1,1,1</td>\n",
       "      <td>-11</td>\n",
       "    </tr>\n",
       "    <tr>\n",
       "      <th>107</th>\n",
       "      <td>000fb6e772c5d0023892065e659963da90b1866035558e...</td>\n",
       "      <td>24455,19793,37728,25547,35072,15616,39388,3938...</td>\n",
       "      <td>2020-09-10</td>\n",
       "      <td>0786022008,0871519008,0889669006,0913272003,09...</td>\n",
       "      <td>1,3,2,2,1</td>\n",
       "      <td>-9</td>\n",
       "    </tr>\n",
       "    <tr>\n",
       "      <th>113</th>\n",
       "      <td>0010e8eb18f131e724d6997909af0808adbba057529edb...</td>\n",
       "      <td>26967,15611,25069,34918,703</td>\n",
       "      <td>2020-08-25</td>\n",
       "      <td>0237347060,0372860001,0456163060,0562245001,06...</td>\n",
       "      <td>1,1,1,1,1,1,1,1,1</td>\n",
       "      <td>7</td>\n",
       "    </tr>\n",
       "  </tbody>\n",
       "</table>\n",
       "</div>"
      ],
      "text/plain": [
       "                                           customer_id  \\\n",
       "26   0003e867a930d0d6842f923d6ba7c9b77aba33fe2a0fbf...   \n",
       "33   000493dd9fc463df1acc2081450c9e75ef8e87d5dd17ed...   \n",
       "54   00077dbd5c4a4991e092e63893ccf29294a9d5c46e8501...   \n",
       "107  000fb6e772c5d0023892065e659963da90b1866035558e...   \n",
       "113  0010e8eb18f131e724d6997909af0808adbba057529edb...   \n",
       "\n",
       "                                        article_id_idx t_dat_latest  \\\n",
       "26   39441,36213,38872,37897,38110,5642,4783,34346,...   2020-09-14   \n",
       "33   11936,16155,685,11824,2456,28519,11826,3269,23...   2020-09-09   \n",
       "54   35875,24399,21130,21130,21130,21130,40107,3128...   2020-09-12   \n",
       "107  24455,19793,37728,25547,35072,15616,39388,3938...   2020-09-10   \n",
       "113                        26967,15611,25069,34918,703   2020-08-25   \n",
       "\n",
       "                                            article_id  \\\n",
       "26                                          0827487003   \n",
       "33                    0640021019,0757926001,0788575004   \n",
       "54   0158340001,0448509014,0486639003,0799365027,08...   \n",
       "107  0786022008,0871519008,0889669006,0913272003,09...   \n",
       "113  0237347060,0372860001,0456163060,0562245001,06...   \n",
       "\n",
       "                   num_purchases  example_age  \n",
       "26                             1          -13  \n",
       "33                         1,1,1           -8  \n",
       "54   1,1,1,1,1,1,1,1,1,1,1,1,1,1          -11  \n",
       "107                    1,3,2,2,1           -9  \n",
       "113            1,1,1,1,1,1,1,1,1            7  "
      ]
     },
     "execution_count": 99,
     "metadata": {},
     "output_type": "execute_result"
    }
   ],
   "source": [
    "dev_set.head()"
   ]
  },
  {
   "cell_type": "markdown",
   "id": "a9326273",
   "metadata": {},
   "source": [
    "#### Function"
   ]
  },
  {
   "cell_type": "markdown",
   "id": "972375e9",
   "metadata": {},
   "source": [
    "train\n",
    "- inputs: start - endm3\n",
    "- labels: emdm3 - endm2\n",
    "\n",
    "dev\n",
    "- inputs: start - endm2\n",
    "- labels: emdm2 - endm1\n",
    "\n",
    "test \n",
    "- inputs: start - endm1\n",
    "- labels: endm1 - end"
   ]
  },
  {
   "cell_type": "code",
   "execution_count": 27,
   "id": "b75b2890",
   "metadata": {},
   "outputs": [],
   "source": [
    "def create_article_input_output_df(inputs, labels, example_age_end, max_purchase_history=10):\n",
    "    \n",
    "    inputs = inputs.copy()\n",
    "    labels = labels.copy()\n",
    "    \n",
    "    inputs.sort_values(['customer_id', 't_dat'], inplace=True)\n",
    "\n",
    "    inputs['article_id_idx'] = inputs['article_id_idx'].astype(str)\n",
    "    \n",
    "    latest_transaction_date_by_cust = (\n",
    "        inputs\n",
    "            .groupby('customer_id')[['customer_id', 't_dat']]\n",
    "            .tail(1)\n",
    "    )\n",
    "    \n",
    "    inputs = (\n",
    "        inputs\n",
    "            .groupby('customer_id')\n",
    "            .tail(max_purchase_history)  # Most recent articles only\n",
    "            .groupby('customer_id')['article_id_idx']\n",
    "            .apply(lambda x: ','.join(x))\n",
    "            .reset_index()\n",
    "    )\n",
    "    \n",
    "    inputs = inputs.merge(\n",
    "        latest_transaction_date_by_cust.rename(columns={'t_dat': 't_dat_latest'}), \n",
    "        on='customer_id'\n",
    "    )\n",
    "    \n",
    "    num_purchases_df = (\n",
    "        labels\n",
    "            .groupby(['customer_id', 'article_id_idx'])['t_dat']\n",
    "            .count()\n",
    "            .reset_index()\n",
    "            .rename(columns={'t_dat': 'num_purchases'})\n",
    "    )\n",
    "    \n",
    "    num_purchases_df['num_purchases'] = num_purchases_df['num_purchases'].astype(str)\n",
    "    \n",
    "    labels = num_purchases_df.groupby('customer_id').agg(\n",
    "        {\n",
    "            'article_id_idx': lambda x: ','.join(x),\n",
    "            'num_purchases': lambda x: ','.join(x)\n",
    "        }\n",
    "    ).reset_index()\n",
    "\n",
    "    data_set = inputs.merge(labels, on='customer_id', how='outer', indicator=True, suffixes=('_last10', '_label'))\n",
    "\n",
    "    data_set = data_set.copy()[data_set['_merge'] == 'both']\n",
    "    data_set.drop('_merge', inplace=True, axis=1)\n",
    "    \n",
    "    data_set['example_age'] = (example_age_end - data_set['t_dat_latest']).dt.days / 100\n",
    "\n",
    "    return data_set"
   ]
  },
  {
   "cell_type": "code",
   "execution_count": 28,
   "id": "c0a9bf35",
   "metadata": {},
   "outputs": [
    {
     "name": "stdout",
     "output_type": "stream",
     "text": [
      "(52787, 6)\n"
     ]
    },
    {
     "data": {
      "text/html": [
       "<div>\n",
       "<style scoped>\n",
       "    .dataframe tbody tr th:only-of-type {\n",
       "        vertical-align: middle;\n",
       "    }\n",
       "\n",
       "    .dataframe tbody tr th {\n",
       "        vertical-align: top;\n",
       "    }\n",
       "\n",
       "    .dataframe thead th {\n",
       "        text-align: right;\n",
       "    }\n",
       "</style>\n",
       "<table border=\"1\" class=\"dataframe\">\n",
       "  <thead>\n",
       "    <tr style=\"text-align: right;\">\n",
       "      <th></th>\n",
       "      <th>customer_id</th>\n",
       "      <th>article_id_idx_last10</th>\n",
       "      <th>t_dat_latest</th>\n",
       "      <th>article_id_idx_label</th>\n",
       "      <th>num_purchases</th>\n",
       "      <th>example_age</th>\n",
       "    </tr>\n",
       "  </thead>\n",
       "  <tbody>\n",
       "    <tr>\n",
       "      <th>16</th>\n",
       "      <td>000172a9c322560c849754ffbdfdb2180d408aa7176b94...</td>\n",
       "      <td>21238</td>\n",
       "      <td>2020-07-21</td>\n",
       "      <td>10445</td>\n",
       "      <td>3</td>\n",
       "      <td>0.42</td>\n",
       "    </tr>\n",
       "    <tr>\n",
       "      <th>19</th>\n",
       "      <td>0001d44dbe7f6c4b35200abdb052c77a87596fe1bdcc37...</td>\n",
       "      <td>47067,4125,39406,4130,47861,47698,22997,33621,...</td>\n",
       "      <td>2020-09-01</td>\n",
       "      <td>4133,43785,46699,47830,48528</td>\n",
       "      <td>1,1,1,1,1</td>\n",
       "      <td>0.00</td>\n",
       "    </tr>\n",
       "    <tr>\n",
       "      <th>20</th>\n",
       "      <td>0001f8cef6b9702d54abf66fd89eb21014bf98567065a9...</td>\n",
       "      <td>37073,33658,28336,27815,30331</td>\n",
       "      <td>2020-08-07</td>\n",
       "      <td>30871</td>\n",
       "      <td>1</td>\n",
       "      <td>0.25</td>\n",
       "    </tr>\n",
       "    <tr>\n",
       "      <th>36</th>\n",
       "      <td>0003e867a930d0d6842f923d6ba7c9b77aba33fe2a0fbf...</td>\n",
       "      <td>16160,41543,24022,41131,41131,48130,47628,44359</td>\n",
       "      <td>2020-08-11</td>\n",
       "      <td>46077,46294,47057</td>\n",
       "      <td>1,1,1</td>\n",
       "      <td>0.21</td>\n",
       "    </tr>\n",
       "    <tr>\n",
       "      <th>51</th>\n",
       "      <td>0005340aa69bb5a28d98712a36d8f669024bce137e3c82...</td>\n",
       "      <td>42550,31027,32928,13993,37711,26267,42187,3305...</td>\n",
       "      <td>2020-07-12</td>\n",
       "      <td>14131,20444,20448,27775,31005,45912,45914,46007</td>\n",
       "      <td>1,1,1,1,1,1,1,1</td>\n",
       "      <td>0.51</td>\n",
       "    </tr>\n",
       "  </tbody>\n",
       "</table>\n",
       "</div>"
      ],
      "text/plain": [
       "                                          customer_id  \\\n",
       "16  000172a9c322560c849754ffbdfdb2180d408aa7176b94...   \n",
       "19  0001d44dbe7f6c4b35200abdb052c77a87596fe1bdcc37...   \n",
       "20  0001f8cef6b9702d54abf66fd89eb21014bf98567065a9...   \n",
       "36  0003e867a930d0d6842f923d6ba7c9b77aba33fe2a0fbf...   \n",
       "51  0005340aa69bb5a28d98712a36d8f669024bce137e3c82...   \n",
       "\n",
       "                                article_id_idx_last10 t_dat_latest  \\\n",
       "16                                              21238   2020-07-21   \n",
       "19  47067,4125,39406,4130,47861,47698,22997,33621,...   2020-09-01   \n",
       "20                      37073,33658,28336,27815,30331   2020-08-07   \n",
       "36    16160,41543,24022,41131,41131,48130,47628,44359   2020-08-11   \n",
       "51  42550,31027,32928,13993,37711,26267,42187,3305...   2020-07-12   \n",
       "\n",
       "                               article_id_idx_label    num_purchases  \\\n",
       "16                                            10445                3   \n",
       "19                     4133,43785,46699,47830,48528        1,1,1,1,1   \n",
       "20                                            30871                1   \n",
       "36                                46077,46294,47057            1,1,1   \n",
       "51  14131,20444,20448,27775,31005,45912,45914,46007  1,1,1,1,1,1,1,1   \n",
       "\n",
       "    example_age  \n",
       "16         0.42  \n",
       "19         0.00  \n",
       "20         0.25  \n",
       "36         0.21  \n",
       "51         0.51  "
      ]
     },
     "execution_count": 28,
     "metadata": {},
     "output_type": "execute_result"
    }
   ],
   "source": [
    "train_set = create_article_input_output_df(\n",
    "    inputs=transactions_train.copy()[transactions_train['t_dat'] <= endm3], \n",
    "    labels=transactions_train.copy()[\n",
    "        (transactions_train['t_dat'] > endm3) &\n",
    "        (transactions_train['t_dat'] < endm2)\n",
    "    ],\n",
    "    example_age_end=endm3\n",
    ")\n",
    "\n",
    "print(train_set.shape)\n",
    "train_set.head()"
   ]
  },
  {
   "cell_type": "code",
   "execution_count": 29,
   "id": "8aff18db",
   "metadata": {},
   "outputs": [
    {
     "data": {
      "text/plain": [
       "(0.0, 1.22)"
      ]
     },
     "execution_count": 29,
     "metadata": {},
     "output_type": "execute_result"
    }
   ],
   "source": [
    "train_set['example_age'].min(), train_set['example_age'].max()"
   ]
  },
  {
   "cell_type": "code",
   "execution_count": 30,
   "id": "7e788eb5",
   "metadata": {},
   "outputs": [
    {
     "name": "stdout",
     "output_type": "stream",
     "text": [
      "(52343, 6)\n"
     ]
    },
    {
     "data": {
      "text/html": [
       "<div>\n",
       "<style scoped>\n",
       "    .dataframe tbody tr th:only-of-type {\n",
       "        vertical-align: middle;\n",
       "    }\n",
       "\n",
       "    .dataframe tbody tr th {\n",
       "        vertical-align: top;\n",
       "    }\n",
       "\n",
       "    .dataframe thead th {\n",
       "        text-align: right;\n",
       "    }\n",
       "</style>\n",
       "<table border=\"1\" class=\"dataframe\">\n",
       "  <thead>\n",
       "    <tr style=\"text-align: right;\">\n",
       "      <th></th>\n",
       "      <th>customer_id</th>\n",
       "      <th>article_id_idx_last10</th>\n",
       "      <th>t_dat_latest</th>\n",
       "      <th>article_id_idx_label</th>\n",
       "      <th>num_purchases</th>\n",
       "      <th>example_age</th>\n",
       "    </tr>\n",
       "  </thead>\n",
       "  <tbody>\n",
       "    <tr>\n",
       "      <th>20</th>\n",
       "      <td>0001d44dbe7f6c4b35200abdb052c77a87596fe1bdcc37...</td>\n",
       "      <td>47698,22997,33621,47832,39261,4133,46699,47830...</td>\n",
       "      <td>2020-09-07</td>\n",
       "      <td>16299</td>\n",
       "      <td>1</td>\n",
       "      <td>-0.06</td>\n",
       "    </tr>\n",
       "    <tr>\n",
       "      <th>38</th>\n",
       "      <td>0003e867a930d0d6842f923d6ba7c9b77aba33fe2a0fbf...</td>\n",
       "      <td>41543,24022,41131,41131,48130,47628,44359,4705...</td>\n",
       "      <td>2020-09-05</td>\n",
       "      <td>42436,43977,6392,7586</td>\n",
       "      <td>2,1,1,1</td>\n",
       "      <td>-0.04</td>\n",
       "    </tr>\n",
       "    <tr>\n",
       "      <th>45</th>\n",
       "      <td>000493dd9fc463df1acc2081450c9e75ef8e87d5dd17ed...</td>\n",
       "      <td>32778,43477,40051,38484,26244,33341,40891,4089...</td>\n",
       "      <td>2020-07-03</td>\n",
       "      <td>16017,16018,16019,30046,3173,36210,4279,807</td>\n",
       "      <td>1,1,1,1,1,1,1,1</td>\n",
       "      <td>0.60</td>\n",
       "    </tr>\n",
       "    <tr>\n",
       "      <th>78</th>\n",
       "      <td>00077dbd5c4a4991e092e63893ccf29294a9d5c46e8501...</td>\n",
       "      <td>46942,45237,27765,30317,44011,31540,27764,2776...</td>\n",
       "      <td>2020-07-25</td>\n",
       "      <td>1234,39226,48295,48451</td>\n",
       "      <td>1,1,1,1</td>\n",
       "      <td>0.38</td>\n",
       "    </tr>\n",
       "    <tr>\n",
       "      <th>86</th>\n",
       "      <td>0008968c0d451dbc5a9968da03196fe20051965edde741...</td>\n",
       "      <td>29216,35973,41328,4394,37472,40930,38237,23100...</td>\n",
       "      <td>2020-08-27</td>\n",
       "      <td>44654</td>\n",
       "      <td>1</td>\n",
       "      <td>0.05</td>\n",
       "    </tr>\n",
       "  </tbody>\n",
       "</table>\n",
       "</div>"
      ],
      "text/plain": [
       "                                          customer_id  \\\n",
       "20  0001d44dbe7f6c4b35200abdb052c77a87596fe1bdcc37...   \n",
       "38  0003e867a930d0d6842f923d6ba7c9b77aba33fe2a0fbf...   \n",
       "45  000493dd9fc463df1acc2081450c9e75ef8e87d5dd17ed...   \n",
       "78  00077dbd5c4a4991e092e63893ccf29294a9d5c46e8501...   \n",
       "86  0008968c0d451dbc5a9968da03196fe20051965edde741...   \n",
       "\n",
       "                                article_id_idx_last10 t_dat_latest  \\\n",
       "20  47698,22997,33621,47832,39261,4133,46699,47830...   2020-09-07   \n",
       "38  41543,24022,41131,41131,48130,47628,44359,4705...   2020-09-05   \n",
       "45  32778,43477,40051,38484,26244,33341,40891,4089...   2020-07-03   \n",
       "78  46942,45237,27765,30317,44011,31540,27764,2776...   2020-07-25   \n",
       "86  29216,35973,41328,4394,37472,40930,38237,23100...   2020-08-27   \n",
       "\n",
       "                           article_id_idx_label    num_purchases  example_age  \n",
       "20                                        16299                1        -0.06  \n",
       "38                        42436,43977,6392,7586          2,1,1,1        -0.04  \n",
       "45  16017,16018,16019,30046,3173,36210,4279,807  1,1,1,1,1,1,1,1         0.60  \n",
       "78                       1234,39226,48295,48451          1,1,1,1         0.38  \n",
       "86                                        44654                1         0.05  "
      ]
     },
     "execution_count": 30,
     "metadata": {},
     "output_type": "execute_result"
    }
   ],
   "source": [
    "dev_set = create_article_input_output_df(\n",
    "    inputs=transactions_train.copy()[transactions_train['t_dat'] <= endm2], \n",
    "    labels=transactions_train.copy()[\n",
    "        (transactions_train['t_dat'] > endm2) &\n",
    "        (transactions_train['t_dat'] < endm1)\n",
    "    ],\n",
    "    example_age_end=endm3\n",
    ")\n",
    "\n",
    "print(dev_set.shape)\n",
    "dev_set.head()"
   ]
  },
  {
   "cell_type": "code",
   "execution_count": 31,
   "id": "a86e988d",
   "metadata": {},
   "outputs": [
    {
     "data": {
      "text/plain": [
       "(-0.07, 1.22)"
      ]
     },
     "execution_count": 31,
     "metadata": {},
     "output_type": "execute_result"
    }
   ],
   "source": [
    "dev_set['example_age'].min(), dev_set['example_age'].max()"
   ]
  },
  {
   "cell_type": "code",
   "execution_count": 32,
   "id": "fd30a20e",
   "metadata": {},
   "outputs": [
    {
     "name": "stdout",
     "output_type": "stream",
     "text": [
      "(54947, 6)\n"
     ]
    },
    {
     "data": {
      "text/html": [
       "<div>\n",
       "<style scoped>\n",
       "    .dataframe tbody tr th:only-of-type {\n",
       "        vertical-align: middle;\n",
       "    }\n",
       "\n",
       "    .dataframe tbody tr th {\n",
       "        vertical-align: top;\n",
       "    }\n",
       "\n",
       "    .dataframe thead th {\n",
       "        text-align: right;\n",
       "    }\n",
       "</style>\n",
       "<table border=\"1\" class=\"dataframe\">\n",
       "  <thead>\n",
       "    <tr style=\"text-align: right;\">\n",
       "      <th></th>\n",
       "      <th>customer_id</th>\n",
       "      <th>article_id_idx_last10</th>\n",
       "      <th>t_dat_latest</th>\n",
       "      <th>article_id_idx_label</th>\n",
       "      <th>num_purchases</th>\n",
       "      <th>example_age</th>\n",
       "    </tr>\n",
       "  </thead>\n",
       "  <tbody>\n",
       "    <tr>\n",
       "      <th>40</th>\n",
       "      <td>0003e867a930d0d6842f923d6ba7c9b77aba33fe2a0fbf...</td>\n",
       "      <td>47628,44359,47057,46077,46294,7586,6392,42436,...</td>\n",
       "      <td>2020-09-14</td>\n",
       "      <td>32216</td>\n",
       "      <td>1</td>\n",
       "      <td>-0.13</td>\n",
       "    </tr>\n",
       "    <tr>\n",
       "      <th>48</th>\n",
       "      <td>000493dd9fc463df1acc2081450c9e75ef8e87d5dd17ed...</td>\n",
       "      <td>16160,21619,807,16017,3173,36210,16019,4279,30...</td>\n",
       "      <td>2020-09-09</td>\n",
       "      <td>20199,24660,7590</td>\n",
       "      <td>1,1,1</td>\n",
       "      <td>-0.08</td>\n",
       "    </tr>\n",
       "    <tr>\n",
       "      <th>82</th>\n",
       "      <td>00077dbd5c4a4991e092e63893ccf29294a9d5c46e8501...</td>\n",
       "      <td>44011,31540,27764,27764,27764,27764,48295,3922...</td>\n",
       "      <td>2020-09-12</td>\n",
       "      <td>1102,1558,26347,39765,42252,44,46006,46423,472...</td>\n",
       "      <td>1,1,1,1,1,1,1,1,1,1,1,1,1,1</td>\n",
       "      <td>-0.11</td>\n",
       "    </tr>\n",
       "    <tr>\n",
       "      <th>157</th>\n",
       "      <td>000fb6e772c5d0023892065e659963da90b1866035558e...</td>\n",
       "      <td>31611,26099,45907,32869,43183,20931,47575,4757...</td>\n",
       "      <td>2020-09-10</td>\n",
       "      <td>24330,40688,44078,47049,47575</td>\n",
       "      <td>1,3,2,2,1</td>\n",
       "      <td>-0.09</td>\n",
       "    </tr>\n",
       "    <tr>\n",
       "      <th>165</th>\n",
       "      <td>0010e8eb18f131e724d6997909af0808adbba057529edb...</td>\n",
       "      <td>38317,33880,30974,4037,3558,34488,20926,32318,...</td>\n",
       "      <td>2020-08-25</td>\n",
       "      <td>1234,207,3494,45186,45690,47136,5740,5762,629</td>\n",
       "      <td>1,1,1,1,1,1,1,1,1</td>\n",
       "      <td>0.07</td>\n",
       "    </tr>\n",
       "  </tbody>\n",
       "</table>\n",
       "</div>"
      ],
      "text/plain": [
       "                                           customer_id  \\\n",
       "40   0003e867a930d0d6842f923d6ba7c9b77aba33fe2a0fbf...   \n",
       "48   000493dd9fc463df1acc2081450c9e75ef8e87d5dd17ed...   \n",
       "82   00077dbd5c4a4991e092e63893ccf29294a9d5c46e8501...   \n",
       "157  000fb6e772c5d0023892065e659963da90b1866035558e...   \n",
       "165  0010e8eb18f131e724d6997909af0808adbba057529edb...   \n",
       "\n",
       "                                 article_id_idx_last10 t_dat_latest  \\\n",
       "40   47628,44359,47057,46077,46294,7586,6392,42436,...   2020-09-14   \n",
       "48   16160,21619,807,16017,3173,36210,16019,4279,30...   2020-09-09   \n",
       "82   44011,31540,27764,27764,27764,27764,48295,3922...   2020-09-12   \n",
       "157  31611,26099,45907,32869,43183,20931,47575,4757...   2020-09-10   \n",
       "165  38317,33880,30974,4037,3558,34488,20926,32318,...   2020-08-25   \n",
       "\n",
       "                                  article_id_idx_label  \\\n",
       "40                                               32216   \n",
       "48                                    20199,24660,7590   \n",
       "82   1102,1558,26347,39765,42252,44,46006,46423,472...   \n",
       "157                      24330,40688,44078,47049,47575   \n",
       "165      1234,207,3494,45186,45690,47136,5740,5762,629   \n",
       "\n",
       "                   num_purchases  example_age  \n",
       "40                             1        -0.13  \n",
       "48                         1,1,1        -0.08  \n",
       "82   1,1,1,1,1,1,1,1,1,1,1,1,1,1        -0.11  \n",
       "157                    1,3,2,2,1        -0.09  \n",
       "165            1,1,1,1,1,1,1,1,1         0.07  "
      ]
     },
     "execution_count": 32,
     "metadata": {},
     "output_type": "execute_result"
    }
   ],
   "source": [
    "test_set = create_article_input_output_df(\n",
    "    inputs=transactions_train.copy()[transactions_train['t_dat'] <= endm1], \n",
    "    labels=transactions_train.copy()[\n",
    "        (transactions_train['t_dat'] > endm1)\n",
    "    ],\n",
    "    example_age_end=endm3\n",
    ")\n",
    "\n",
    "print(test_set.shape)\n",
    "test_set.head()"
   ]
  },
  {
   "cell_type": "code",
   "execution_count": 33,
   "id": "4aaebe9e",
   "metadata": {},
   "outputs": [
    {
     "data": {
      "text/plain": [
       "(-0.14, 1.22)"
      ]
     },
     "execution_count": 33,
     "metadata": {},
     "output_type": "execute_result"
    }
   ],
   "source": [
    "test_set['example_age'].min(), test_set['example_age'].max()"
   ]
  },
  {
   "cell_type": "markdown",
   "id": "ea8f0077",
   "metadata": {},
   "source": [
    "Inputs for submission:"
   ]
  },
  {
   "cell_type": "code",
   "execution_count": 34,
   "id": "bc4f4779",
   "metadata": {},
   "outputs": [],
   "source": [
    "submission_inputs = transactions_train.copy()\n",
    "\n",
    "submission_inputs.sort_values(['customer_id', 't_dat'], inplace=True)\n",
    "\n",
    "submission_inputs['article_id_idx'] = submission_inputs['article_id_idx'].astype(str)\n",
    "\n",
    "latest_transaction_date_by_cust = (\n",
    "    submission_inputs\n",
    "        .groupby('customer_id')[['customer_id', 't_dat']]\n",
    "        .tail(1)\n",
    ")\n",
    "\n",
    "submission_inputs = (\n",
    "    submission_inputs\n",
    "        .groupby('customer_id')\n",
    "        .tail(10)  # Most recent articles only\n",
    "        .groupby('customer_id')['article_id_idx']\n",
    "        .apply(lambda x: ','.join(x))\n",
    "        .reset_index()\n",
    ")\n",
    "\n",
    "submission_inputs = submission_inputs.merge(\n",
    "    latest_transaction_date_by_cust.rename(columns={'t_dat': 't_dat_latest'}), \n",
    "    on='customer_id'\n",
    ")\n",
    "\n",
    "submission_inputs['example_age'] = (endm3 - submission_inputs['t_dat_latest']).dt.days / 100"
   ]
  },
  {
   "cell_type": "code",
   "execution_count": 35,
   "id": "6dbc1b4b",
   "metadata": {},
   "outputs": [
    {
     "data": {
      "text/html": [
       "<div>\n",
       "<style scoped>\n",
       "    .dataframe tbody tr th:only-of-type {\n",
       "        vertical-align: middle;\n",
       "    }\n",
       "\n",
       "    .dataframe tbody tr th {\n",
       "        vertical-align: top;\n",
       "    }\n",
       "\n",
       "    .dataframe thead th {\n",
       "        text-align: right;\n",
       "    }\n",
       "</style>\n",
       "<table border=\"1\" class=\"dataframe\">\n",
       "  <thead>\n",
       "    <tr style=\"text-align: right;\">\n",
       "      <th></th>\n",
       "      <th>customer_id</th>\n",
       "      <th>article_id_idx</th>\n",
       "      <th>t_dat_latest</th>\n",
       "      <th>example_age</th>\n",
       "    </tr>\n",
       "  </thead>\n",
       "  <tbody>\n",
       "    <tr>\n",
       "      <th>0</th>\n",
       "      <td>00000dbacae5abe5e23885899a1fa44253a17956c6d1c3...</td>\n",
       "      <td>3862</td>\n",
       "      <td>2020-09-05</td>\n",
       "      <td>-0.04</td>\n",
       "    </tr>\n",
       "    <tr>\n",
       "      <th>1</th>\n",
       "      <td>0000423b00ade91418cceaf3b26c6af3dd342b51fd051e...</td>\n",
       "      <td>32040</td>\n",
       "      <td>2020-07-08</td>\n",
       "      <td>0.55</td>\n",
       "    </tr>\n",
       "    <tr>\n",
       "      <th>2</th>\n",
       "      <td>000058a12d5b43e67d225668fa1f8d618c13dc232df0ca...</td>\n",
       "      <td>25450</td>\n",
       "      <td>2020-09-15</td>\n",
       "      <td>-0.14</td>\n",
       "    </tr>\n",
       "    <tr>\n",
       "      <th>3</th>\n",
       "      <td>00006413d8573cd20ed7128e53b7b13819fe5cfc2d801f...</td>\n",
       "      <td>4764,32303,30487,45052,15749,48137,25087</td>\n",
       "      <td>2020-08-12</td>\n",
       "      <td>0.20</td>\n",
       "    </tr>\n",
       "    <tr>\n",
       "      <th>4</th>\n",
       "      <td>0000757967448a6cb83efb3ea7a3fb9d418ac7adf2379d...</td>\n",
       "      <td>14660,1102</td>\n",
       "      <td>2020-09-14</td>\n",
       "      <td>-0.13</td>\n",
       "    </tr>\n",
       "  </tbody>\n",
       "</table>\n",
       "</div>"
      ],
      "text/plain": [
       "                                         customer_id  \\\n",
       "0  00000dbacae5abe5e23885899a1fa44253a17956c6d1c3...   \n",
       "1  0000423b00ade91418cceaf3b26c6af3dd342b51fd051e...   \n",
       "2  000058a12d5b43e67d225668fa1f8d618c13dc232df0ca...   \n",
       "3  00006413d8573cd20ed7128e53b7b13819fe5cfc2d801f...   \n",
       "4  0000757967448a6cb83efb3ea7a3fb9d418ac7adf2379d...   \n",
       "\n",
       "                             article_id_idx t_dat_latest  example_age  \n",
       "0                                      3862   2020-09-05        -0.04  \n",
       "1                                     32040   2020-07-08         0.55  \n",
       "2                                     25450   2020-09-15        -0.14  \n",
       "3  4764,32303,30487,45052,15749,48137,25087   2020-08-12         0.20  \n",
       "4                                14660,1102   2020-09-14        -0.13  "
      ]
     },
     "execution_count": 35,
     "metadata": {},
     "output_type": "execute_result"
    }
   ],
   "source": [
    "submission_inputs.head()"
   ]
  },
  {
   "cell_type": "code",
   "execution_count": 36,
   "id": "7ad89f8d",
   "metadata": {},
   "outputs": [
    {
     "name": "stdout",
     "output_type": "stream",
     "text": [
      "(665025, 5)\n"
     ]
    },
    {
     "data": {
      "text/html": [
       "<div>\n",
       "<style scoped>\n",
       "    .dataframe tbody tr th:only-of-type {\n",
       "        vertical-align: middle;\n",
       "    }\n",
       "\n",
       "    .dataframe tbody tr th {\n",
       "        vertical-align: top;\n",
       "    }\n",
       "\n",
       "    .dataframe thead th {\n",
       "        text-align: right;\n",
       "    }\n",
       "</style>\n",
       "<table border=\"1\" class=\"dataframe\">\n",
       "  <thead>\n",
       "    <tr style=\"text-align: right;\">\n",
       "      <th></th>\n",
       "      <th>customer_id</th>\n",
       "      <th>article_id_idx_last10</th>\n",
       "      <th>t_dat_latest</th>\n",
       "      <th>example_age</th>\n",
       "      <th>article_id_idx_label</th>\n",
       "    </tr>\n",
       "  </thead>\n",
       "  <tbody>\n",
       "    <tr>\n",
       "      <th>0</th>\n",
       "      <td>00000dbacae5abe5e23885899a1fa44253a17956c6d1c3...</td>\n",
       "      <td>3862</td>\n",
       "      <td>2020-09-05</td>\n",
       "      <td>-0.04</td>\n",
       "      <td>0</td>\n",
       "    </tr>\n",
       "    <tr>\n",
       "      <th>1</th>\n",
       "      <td>0000423b00ade91418cceaf3b26c6af3dd342b51fd051e...</td>\n",
       "      <td>32040</td>\n",
       "      <td>2020-07-08</td>\n",
       "      <td>0.55</td>\n",
       "      <td>0</td>\n",
       "    </tr>\n",
       "    <tr>\n",
       "      <th>2</th>\n",
       "      <td>000058a12d5b43e67d225668fa1f8d618c13dc232df0ca...</td>\n",
       "      <td>25450</td>\n",
       "      <td>2020-09-15</td>\n",
       "      <td>-0.14</td>\n",
       "      <td>0</td>\n",
       "    </tr>\n",
       "    <tr>\n",
       "      <th>3</th>\n",
       "      <td>00006413d8573cd20ed7128e53b7b13819fe5cfc2d801f...</td>\n",
       "      <td>4764,32303,30487,45052,15749,48137,25087</td>\n",
       "      <td>2020-08-12</td>\n",
       "      <td>0.20</td>\n",
       "      <td>0</td>\n",
       "    </tr>\n",
       "    <tr>\n",
       "      <th>4</th>\n",
       "      <td>0000757967448a6cb83efb3ea7a3fb9d418ac7adf2379d...</td>\n",
       "      <td>14660,1102</td>\n",
       "      <td>2020-09-14</td>\n",
       "      <td>-0.13</td>\n",
       "      <td>0</td>\n",
       "    </tr>\n",
       "  </tbody>\n",
       "</table>\n",
       "</div>"
      ],
      "text/plain": [
       "                                         customer_id  \\\n",
       "0  00000dbacae5abe5e23885899a1fa44253a17956c6d1c3...   \n",
       "1  0000423b00ade91418cceaf3b26c6af3dd342b51fd051e...   \n",
       "2  000058a12d5b43e67d225668fa1f8d618c13dc232df0ca...   \n",
       "3  00006413d8573cd20ed7128e53b7b13819fe5cfc2d801f...   \n",
       "4  0000757967448a6cb83efb3ea7a3fb9d418ac7adf2379d...   \n",
       "\n",
       "                      article_id_idx_last10 t_dat_latest  example_age  \\\n",
       "0                                      3862   2020-09-05        -0.04   \n",
       "1                                     32040   2020-07-08         0.55   \n",
       "2                                     25450   2020-09-15        -0.14   \n",
       "3  4764,32303,30487,45052,15749,48137,25087   2020-08-12         0.20   \n",
       "4                                14660,1102   2020-09-14        -0.13   \n",
       "\n",
       "  article_id_idx_label  \n",
       "0                    0  \n",
       "1                    0  \n",
       "2                    0  \n",
       "3                    0  \n",
       "4                    0  "
      ]
     },
     "execution_count": 36,
     "metadata": {},
     "output_type": "execute_result"
    }
   ],
   "source": [
    "submission_inputs.rename(columns={'article_id_idx': 'article_id_idx_last10'}, inplace=True)\n",
    "submission_inputs['article_id_idx_label'] = '0'\n",
    "print(submission_inputs.shape)\n",
    "submission_inputs.head()"
   ]
  },
  {
   "cell_type": "markdown",
   "id": "5b8ade70",
   "metadata": {},
   "source": [
    "In a given week what proportion of total customers make a purchase?"
   ]
  },
  {
   "cell_type": "code",
   "execution_count": 37,
   "id": "4dfbef4a",
   "metadata": {},
   "outputs": [],
   "source": [
    "submission_inputs['num_purchases'] = '1'"
   ]
  },
  {
   "cell_type": "code",
   "execution_count": 38,
   "id": "6b0afbd6",
   "metadata": {},
   "outputs": [],
   "source": [
    "all_customers = pd.read_csv('data/sample_submission.csv').shape[0]"
   ]
  },
  {
   "cell_type": "code",
   "execution_count": 39,
   "id": "a1c534b3",
   "metadata": {},
   "outputs": [
    {
     "data": {
      "text/plain": [
       "665025"
      ]
     },
     "execution_count": 39,
     "metadata": {},
     "output_type": "execute_result"
    }
   ],
   "source": [
    "submission_inputs.shape[0]"
   ]
  },
  {
   "cell_type": "code",
   "execution_count": 40,
   "id": "2b71a689",
   "metadata": {},
   "outputs": [
    {
     "name": "stdout",
     "output_type": "stream",
     "text": [
      "0.038151430778874326\n",
      "0.04004941762999461\n"
     ]
    }
   ],
   "source": [
    "print(dev_set['customer_id'].shape[0] / all_customers)\n",
    "print(test_set['customer_id'].shape[0] / all_customers)"
   ]
  },
  {
   "cell_type": "code",
   "execution_count": 41,
   "id": "410a0880",
   "metadata": {},
   "outputs": [
    {
     "name": "stdout",
     "output_type": "stream",
     "text": [
      "0.07870831923611894\n",
      "0.08262396150520657\n"
     ]
    }
   ],
   "source": [
    "print(dev_set['customer_id'].shape[0] / submission_inputs.shape[0])\n",
    "print(test_set['customer_id'].shape[0] / submission_inputs.shape[0])"
   ]
  },
  {
   "cell_type": "markdown",
   "id": "3574636d",
   "metadata": {},
   "source": [
    "Proportion of customers in dev/test sets who appear in training"
   ]
  },
  {
   "cell_type": "code",
   "execution_count": 42,
   "id": "4de65b38",
   "metadata": {},
   "outputs": [
    {
     "data": {
      "text/plain": [
       "0.1954607110788453"
      ]
     },
     "execution_count": 42,
     "metadata": {},
     "output_type": "execute_result"
    }
   ],
   "source": [
    "dev_set[dev_set['customer_id'].isin(train_set['customer_id'])].shape[0] / dev_set.shape[0]"
   ]
  },
  {
   "cell_type": "code",
   "execution_count": 43,
   "id": "5865499d",
   "metadata": {},
   "outputs": [
    {
     "data": {
      "text/plain": [
       "0.18594654490571805"
      ]
     },
     "execution_count": 43,
     "metadata": {},
     "output_type": "execute_result"
    }
   ],
   "source": [
    "test_set[test_set['customer_id'].isin(train_set['customer_id'])].shape[0] / dev_set.shape[0]"
   ]
  },
  {
   "cell_type": "markdown",
   "id": "b271c19a",
   "metadata": {},
   "source": [
    "Filter out customers who don't appear in training"
   ]
  },
  {
   "cell_type": "code",
   "execution_count": 44,
   "id": "ea6320e7",
   "metadata": {},
   "outputs": [],
   "source": [
    "dev_set = dev_set.copy()[dev_set['customer_id'].isin(train_set['customer_id'])]\n",
    "test_set = test_set.copy()[test_set['customer_id'].isin(train_set['customer_id'])]"
   ]
  },
  {
   "cell_type": "code",
   "execution_count": 45,
   "id": "b3c25027",
   "metadata": {},
   "outputs": [
    {
     "data": {
      "text/plain": [
       "(52787, 6)"
      ]
     },
     "execution_count": 45,
     "metadata": {},
     "output_type": "execute_result"
    }
   ],
   "source": [
    "train_set.shape"
   ]
  },
  {
   "cell_type": "code",
   "execution_count": 46,
   "id": "29b149ae",
   "metadata": {},
   "outputs": [
    {
     "data": {
      "text/plain": [
       "(10231, 6)"
      ]
     },
     "execution_count": 46,
     "metadata": {},
     "output_type": "execute_result"
    }
   ],
   "source": [
    "dev_set.shape"
   ]
  },
  {
   "cell_type": "code",
   "execution_count": 47,
   "id": "7c282a51",
   "metadata": {},
   "outputs": [
    {
     "data": {
      "text/plain": [
       "(9733, 6)"
      ]
     },
     "execution_count": 47,
     "metadata": {},
     "output_type": "execute_result"
    }
   ],
   "source": [
    "test_set.shape"
   ]
  },
  {
   "cell_type": "markdown",
   "id": "cd726cf2",
   "metadata": {},
   "source": [
    "### Filter customers and get customer features"
   ]
  },
  {
   "cell_type": "code",
   "execution_count": 48,
   "id": "3ccdf476",
   "metadata": {
    "colab": {
     "base_uri": "https://localhost:8080/",
     "height": 224
    },
    "executionInfo": {
     "elapsed": 4590,
     "status": "ok",
     "timestamp": 1651409345569,
     "user": {
      "displayName": "Steven George",
      "userId": "07709250839253394649"
     },
     "user_tz": -60
    },
    "id": "0a789f95",
    "outputId": "a5f65d2c-0eef-43d7-f0d3-38981a6b0c07"
   },
   "outputs": [
    {
     "name": "stdout",
     "output_type": "stream",
     "text": [
      "(1371980, 4)\n"
     ]
    },
    {
     "data": {
      "text/html": [
       "<div>\n",
       "<style scoped>\n",
       "    .dataframe tbody tr th:only-of-type {\n",
       "        vertical-align: middle;\n",
       "    }\n",
       "\n",
       "    .dataframe tbody tr th {\n",
       "        vertical-align: top;\n",
       "    }\n",
       "\n",
       "    .dataframe thead th {\n",
       "        text-align: right;\n",
       "    }\n",
       "</style>\n",
       "<table border=\"1\" class=\"dataframe\">\n",
       "  <thead>\n",
       "    <tr style=\"text-align: right;\">\n",
       "      <th></th>\n",
       "      <th>customer_id</th>\n",
       "      <th>FN</th>\n",
       "      <th>Active</th>\n",
       "      <th>age</th>\n",
       "    </tr>\n",
       "  </thead>\n",
       "  <tbody>\n",
       "    <tr>\n",
       "      <th>0</th>\n",
       "      <td>00000dbacae5abe5e23885899a1fa44253a17956c6d1c3...</td>\n",
       "      <td>NaN</td>\n",
       "      <td>NaN</td>\n",
       "      <td>49.0</td>\n",
       "    </tr>\n",
       "    <tr>\n",
       "      <th>1</th>\n",
       "      <td>0000423b00ade91418cceaf3b26c6af3dd342b51fd051e...</td>\n",
       "      <td>NaN</td>\n",
       "      <td>NaN</td>\n",
       "      <td>25.0</td>\n",
       "    </tr>\n",
       "    <tr>\n",
       "      <th>2</th>\n",
       "      <td>000058a12d5b43e67d225668fa1f8d618c13dc232df0ca...</td>\n",
       "      <td>NaN</td>\n",
       "      <td>NaN</td>\n",
       "      <td>24.0</td>\n",
       "    </tr>\n",
       "    <tr>\n",
       "      <th>3</th>\n",
       "      <td>00005ca1c9ed5f5146b52ac8639a40ca9d57aeff4d1bd2...</td>\n",
       "      <td>NaN</td>\n",
       "      <td>NaN</td>\n",
       "      <td>54.0</td>\n",
       "    </tr>\n",
       "    <tr>\n",
       "      <th>4</th>\n",
       "      <td>00006413d8573cd20ed7128e53b7b13819fe5cfc2d801f...</td>\n",
       "      <td>1.0</td>\n",
       "      <td>1.0</td>\n",
       "      <td>52.0</td>\n",
       "    </tr>\n",
       "  </tbody>\n",
       "</table>\n",
       "</div>"
      ],
      "text/plain": [
       "                                         customer_id   FN  Active   age\n",
       "0  00000dbacae5abe5e23885899a1fa44253a17956c6d1c3...  NaN     NaN  49.0\n",
       "1  0000423b00ade91418cceaf3b26c6af3dd342b51fd051e...  NaN     NaN  25.0\n",
       "2  000058a12d5b43e67d225668fa1f8d618c13dc232df0ca...  NaN     NaN  24.0\n",
       "3  00005ca1c9ed5f5146b52ac8639a40ca9d57aeff4d1bd2...  NaN     NaN  54.0\n",
       "4  00006413d8573cd20ed7128e53b7b13819fe5cfc2d801f...  1.0     1.0  52.0"
      ]
     },
     "execution_count": 48,
     "metadata": {},
     "output_type": "execute_result"
    }
   ],
   "source": [
    "customers = pd.read_csv('data/customers.csv', usecols=['customer_id', 'FN', 'Active', 'age'])\n",
    "print(customers.shape)\n",
    "customers.head()"
   ]
  },
  {
   "cell_type": "code",
   "execution_count": 49,
   "id": "8ee9f024",
   "metadata": {},
   "outputs": [
    {
     "data": {
      "text/plain": [
       "52787"
      ]
     },
     "execution_count": 49,
     "metadata": {},
     "output_type": "execute_result"
    }
   ],
   "source": [
    "customers_to_keep = set(train_set['customer_id'])\n",
    "len(customers_to_keep)"
   ]
  },
  {
   "cell_type": "markdown",
   "id": "5e666c1d",
   "metadata": {},
   "source": [
    "Filter out other customers from submission inputs (for other customers we'll just predict top-12)"
   ]
  },
  {
   "cell_type": "code",
   "execution_count": 50,
   "id": "2f48bc75",
   "metadata": {},
   "outputs": [
    {
     "data": {
      "text/plain": [
       "0.07937596330965001"
      ]
     },
     "execution_count": 50,
     "metadata": {},
     "output_type": "execute_result"
    }
   ],
   "source": [
    "len(customers_to_keep) / len(submission_inputs)"
   ]
  },
  {
   "cell_type": "code",
   "execution_count": 51,
   "id": "778fd81a",
   "metadata": {},
   "outputs": [
    {
     "data": {
      "text/plain": [
       "(52787, 6)"
      ]
     },
     "execution_count": 51,
     "metadata": {},
     "output_type": "execute_result"
    }
   ],
   "source": [
    "submission_inputs = submission_inputs.copy()[submission_inputs['customer_id'].isin(customers_to_keep)]\n",
    "submission_inputs.shape"
   ]
  },
  {
   "cell_type": "code",
   "execution_count": 52,
   "id": "2d1f837c",
   "metadata": {},
   "outputs": [
    {
     "data": {
      "text/html": [
       "<div>\n",
       "<style scoped>\n",
       "    .dataframe tbody tr th:only-of-type {\n",
       "        vertical-align: middle;\n",
       "    }\n",
       "\n",
       "    .dataframe tbody tr th {\n",
       "        vertical-align: top;\n",
       "    }\n",
       "\n",
       "    .dataframe thead th {\n",
       "        text-align: right;\n",
       "    }\n",
       "</style>\n",
       "<table border=\"1\" class=\"dataframe\">\n",
       "  <thead>\n",
       "    <tr style=\"text-align: right;\">\n",
       "      <th></th>\n",
       "      <th>customer_id</th>\n",
       "      <th>FN</th>\n",
       "      <th>Active</th>\n",
       "      <th>age</th>\n",
       "    </tr>\n",
       "  </thead>\n",
       "  <tbody>\n",
       "    <tr>\n",
       "      <th>0</th>\n",
       "      <td>000172a9c322560c849754ffbdfdb2180d408aa7176b94...</td>\n",
       "      <td>NaN</td>\n",
       "      <td>NaN</td>\n",
       "      <td>45.0</td>\n",
       "    </tr>\n",
       "    <tr>\n",
       "      <th>1</th>\n",
       "      <td>0001d44dbe7f6c4b35200abdb052c77a87596fe1bdcc37...</td>\n",
       "      <td>1.0</td>\n",
       "      <td>1.0</td>\n",
       "      <td>44.0</td>\n",
       "    </tr>\n",
       "    <tr>\n",
       "      <th>2</th>\n",
       "      <td>0001f8cef6b9702d54abf66fd89eb21014bf98567065a9...</td>\n",
       "      <td>NaN</td>\n",
       "      <td>NaN</td>\n",
       "      <td>21.0</td>\n",
       "    </tr>\n",
       "    <tr>\n",
       "      <th>3</th>\n",
       "      <td>0003e867a930d0d6842f923d6ba7c9b77aba33fe2a0fbf...</td>\n",
       "      <td>1.0</td>\n",
       "      <td>1.0</td>\n",
       "      <td>33.0</td>\n",
       "    </tr>\n",
       "    <tr>\n",
       "      <th>4</th>\n",
       "      <td>0005340aa69bb5a28d98712a36d8f669024bce137e3c82...</td>\n",
       "      <td>NaN</td>\n",
       "      <td>NaN</td>\n",
       "      <td>21.0</td>\n",
       "    </tr>\n",
       "  </tbody>\n",
       "</table>\n",
       "</div>"
      ],
      "text/plain": [
       "                                         customer_id   FN  Active   age\n",
       "0  000172a9c322560c849754ffbdfdb2180d408aa7176b94...  NaN     NaN  45.0\n",
       "1  0001d44dbe7f6c4b35200abdb052c77a87596fe1bdcc37...  1.0     1.0  44.0\n",
       "2  0001f8cef6b9702d54abf66fd89eb21014bf98567065a9...  NaN     NaN  21.0\n",
       "3  0003e867a930d0d6842f923d6ba7c9b77aba33fe2a0fbf...  1.0     1.0  33.0\n",
       "4  0005340aa69bb5a28d98712a36d8f669024bce137e3c82...  NaN     NaN  21.0"
      ]
     },
     "execution_count": 52,
     "metadata": {},
     "output_type": "execute_result"
    }
   ],
   "source": [
    "customers = customers.copy()[customers['customer_id'].isin(customers_to_keep)]\n",
    "customers.reset_index(drop=True, inplace=True)\n",
    "customers.head()"
   ]
  },
  {
   "cell_type": "code",
   "execution_count": 53,
   "id": "289db03e",
   "metadata": {
    "colab": {
     "base_uri": "https://localhost:8080/"
    },
    "executionInfo": {
     "elapsed": 9,
     "status": "ok",
     "timestamp": 1651409345569,
     "user": {
      "displayName": "Steven George",
      "userId": "07709250839253394649"
     },
     "user_tz": -60
    },
    "id": "2cc539c0",
    "outputId": "8b132f08-da57-4444-9a9f-a13b7c23e42d"
   },
   "outputs": [
    {
     "data": {
      "text/plain": [
       "customer_id    0.000000\n",
       "FN             0.522667\n",
       "Active         0.529543\n",
       "age            0.003486\n",
       "dtype: float64"
      ]
     },
     "execution_count": 53,
     "metadata": {},
     "output_type": "execute_result"
    }
   ],
   "source": [
    "customers.isnull().sum() / customers.shape[0]"
   ]
  },
  {
   "cell_type": "code",
   "execution_count": 54,
   "id": "a6c2bc4e",
   "metadata": {
    "executionInfo": {
     "elapsed": 434,
     "status": "ok",
     "timestamp": 1651409345999,
     "user": {
      "displayName": "Steven George",
      "userId": "07709250839253394649"
     },
     "user_tz": -60
    },
    "id": "d18788c7"
   },
   "outputs": [],
   "source": [
    "customers[['FN', 'Active']] = customers[['FN', 'Active']].fillna(0)"
   ]
  },
  {
   "cell_type": "markdown",
   "id": "0cf1d46a",
   "metadata": {},
   "source": [
    "Despite potential data leakage we impute the nulls for age here:"
   ]
  },
  {
   "cell_type": "code",
   "execution_count": 55,
   "id": "a97e0741",
   "metadata": {},
   "outputs": [
    {
     "data": {
      "text/plain": [
       "(52787, 4)"
      ]
     },
     "execution_count": 55,
     "metadata": {},
     "output_type": "execute_result"
    }
   ],
   "source": [
    "customers.shape"
   ]
  },
  {
   "cell_type": "code",
   "execution_count": 56,
   "id": "cbcd12f8",
   "metadata": {},
   "outputs": [],
   "source": [
    "from sklearn.impute import SimpleImputer"
   ]
  },
  {
   "cell_type": "code",
   "execution_count": 57,
   "id": "b07a5e76",
   "metadata": {},
   "outputs": [],
   "source": [
    "simple_imputer = SimpleImputer()"
   ]
  },
  {
   "cell_type": "code",
   "execution_count": 58,
   "id": "21f7bd51",
   "metadata": {},
   "outputs": [],
   "source": [
    "customers[['age']] = simple_imputer.fit_transform(customers[['age']])"
   ]
  },
  {
   "cell_type": "code",
   "execution_count": 59,
   "id": "ead7a10e",
   "metadata": {},
   "outputs": [],
   "source": [
    "customers['age'] /= 100"
   ]
  },
  {
   "cell_type": "code",
   "execution_count": 60,
   "id": "509bdb5d",
   "metadata": {
    "colab": {
     "base_uri": "https://localhost:8080/"
    },
    "executionInfo": {
     "elapsed": 9,
     "status": "ok",
     "timestamp": 1651409345569,
     "user": {
      "displayName": "Steven George",
      "userId": "07709250839253394649"
     },
     "user_tz": -60
    },
    "id": "2cc539c0",
    "outputId": "8b132f08-da57-4444-9a9f-a13b7c23e42d"
   },
   "outputs": [
    {
     "data": {
      "text/plain": [
       "customer_id    0.0\n",
       "FN             0.0\n",
       "Active         0.0\n",
       "age            0.0\n",
       "dtype: float64"
      ]
     },
     "execution_count": 60,
     "metadata": {},
     "output_type": "execute_result"
    }
   ],
   "source": [
    "customers.isnull().sum() / customers.shape[0]"
   ]
  },
  {
   "cell_type": "code",
   "execution_count": 61,
   "id": "98d03637",
   "metadata": {},
   "outputs": [],
   "source": [
    "customers['customer_id_idx'] = customers.index"
   ]
  },
  {
   "cell_type": "code",
   "execution_count": 62,
   "id": "387e5560",
   "metadata": {},
   "outputs": [
    {
     "data": {
      "text/html": [
       "<div>\n",
       "<style scoped>\n",
       "    .dataframe tbody tr th:only-of-type {\n",
       "        vertical-align: middle;\n",
       "    }\n",
       "\n",
       "    .dataframe tbody tr th {\n",
       "        vertical-align: top;\n",
       "    }\n",
       "\n",
       "    .dataframe thead th {\n",
       "        text-align: right;\n",
       "    }\n",
       "</style>\n",
       "<table border=\"1\" class=\"dataframe\">\n",
       "  <thead>\n",
       "    <tr style=\"text-align: right;\">\n",
       "      <th></th>\n",
       "      <th>customer_id</th>\n",
       "      <th>FN</th>\n",
       "      <th>Active</th>\n",
       "      <th>age</th>\n",
       "      <th>customer_id_idx</th>\n",
       "    </tr>\n",
       "  </thead>\n",
       "  <tbody>\n",
       "    <tr>\n",
       "      <th>0</th>\n",
       "      <td>000172a9c322560c849754ffbdfdb2180d408aa7176b94...</td>\n",
       "      <td>0.0</td>\n",
       "      <td>0.0</td>\n",
       "      <td>0.45</td>\n",
       "      <td>0</td>\n",
       "    </tr>\n",
       "    <tr>\n",
       "      <th>1</th>\n",
       "      <td>0001d44dbe7f6c4b35200abdb052c77a87596fe1bdcc37...</td>\n",
       "      <td>1.0</td>\n",
       "      <td>1.0</td>\n",
       "      <td>0.44</td>\n",
       "      <td>1</td>\n",
       "    </tr>\n",
       "    <tr>\n",
       "      <th>2</th>\n",
       "      <td>0001f8cef6b9702d54abf66fd89eb21014bf98567065a9...</td>\n",
       "      <td>0.0</td>\n",
       "      <td>0.0</td>\n",
       "      <td>0.21</td>\n",
       "      <td>2</td>\n",
       "    </tr>\n",
       "    <tr>\n",
       "      <th>3</th>\n",
       "      <td>0003e867a930d0d6842f923d6ba7c9b77aba33fe2a0fbf...</td>\n",
       "      <td>1.0</td>\n",
       "      <td>1.0</td>\n",
       "      <td>0.33</td>\n",
       "      <td>3</td>\n",
       "    </tr>\n",
       "    <tr>\n",
       "      <th>4</th>\n",
       "      <td>0005340aa69bb5a28d98712a36d8f669024bce137e3c82...</td>\n",
       "      <td>0.0</td>\n",
       "      <td>0.0</td>\n",
       "      <td>0.21</td>\n",
       "      <td>4</td>\n",
       "    </tr>\n",
       "  </tbody>\n",
       "</table>\n",
       "</div>"
      ],
      "text/plain": [
       "                                         customer_id   FN  Active   age  \\\n",
       "0  000172a9c322560c849754ffbdfdb2180d408aa7176b94...  0.0     0.0  0.45   \n",
       "1  0001d44dbe7f6c4b35200abdb052c77a87596fe1bdcc37...  1.0     1.0  0.44   \n",
       "2  0001f8cef6b9702d54abf66fd89eb21014bf98567065a9...  0.0     0.0  0.21   \n",
       "3  0003e867a930d0d6842f923d6ba7c9b77aba33fe2a0fbf...  1.0     1.0  0.33   \n",
       "4  0005340aa69bb5a28d98712a36d8f669024bce137e3c82...  0.0     0.0  0.21   \n",
       "\n",
       "   customer_id_idx  \n",
       "0                0  \n",
       "1                1  \n",
       "2                2  \n",
       "3                3  \n",
       "4                4  "
      ]
     },
     "execution_count": 62,
     "metadata": {},
     "output_type": "execute_result"
    }
   ],
   "source": [
    "customers.head()"
   ]
  },
  {
   "cell_type": "code",
   "execution_count": 63,
   "id": "8ca41707",
   "metadata": {},
   "outputs": [],
   "source": [
    "train_set = train_set.merge(customers, on=['customer_id'])\n",
    "dev_set = dev_set.merge(customers, on=['customer_id'])\n",
    "test_set = test_set.merge(customers, on=['customer_id'])"
   ]
  },
  {
   "cell_type": "code",
   "execution_count": 64,
   "id": "b9ebead3",
   "metadata": {},
   "outputs": [],
   "source": [
    "submission_inputs = submission_inputs.merge(customers, on=['customer_id'])"
   ]
  },
  {
   "cell_type": "code",
   "execution_count": 65,
   "id": "45c563dd",
   "metadata": {},
   "outputs": [
    {
     "data": {
      "text/html": [
       "<div>\n",
       "<style scoped>\n",
       "    .dataframe tbody tr th:only-of-type {\n",
       "        vertical-align: middle;\n",
       "    }\n",
       "\n",
       "    .dataframe tbody tr th {\n",
       "        vertical-align: top;\n",
       "    }\n",
       "\n",
       "    .dataframe thead th {\n",
       "        text-align: right;\n",
       "    }\n",
       "</style>\n",
       "<table border=\"1\" class=\"dataframe\">\n",
       "  <thead>\n",
       "    <tr style=\"text-align: right;\">\n",
       "      <th></th>\n",
       "      <th>customer_id</th>\n",
       "      <th>article_id_idx_last10</th>\n",
       "      <th>t_dat_latest</th>\n",
       "      <th>article_id_idx_label</th>\n",
       "      <th>num_purchases</th>\n",
       "      <th>example_age</th>\n",
       "      <th>FN</th>\n",
       "      <th>Active</th>\n",
       "      <th>age</th>\n",
       "      <th>customer_id_idx</th>\n",
       "    </tr>\n",
       "  </thead>\n",
       "  <tbody>\n",
       "    <tr>\n",
       "      <th>0</th>\n",
       "      <td>000172a9c322560c849754ffbdfdb2180d408aa7176b94...</td>\n",
       "      <td>21238</td>\n",
       "      <td>2020-07-21</td>\n",
       "      <td>10445</td>\n",
       "      <td>3</td>\n",
       "      <td>0.42</td>\n",
       "      <td>0.0</td>\n",
       "      <td>0.0</td>\n",
       "      <td>0.45</td>\n",
       "      <td>0</td>\n",
       "    </tr>\n",
       "    <tr>\n",
       "      <th>1</th>\n",
       "      <td>0001d44dbe7f6c4b35200abdb052c77a87596fe1bdcc37...</td>\n",
       "      <td>47067,4125,39406,4130,47861,47698,22997,33621,...</td>\n",
       "      <td>2020-09-01</td>\n",
       "      <td>4133,43785,46699,47830,48528</td>\n",
       "      <td>1,1,1,1,1</td>\n",
       "      <td>0.00</td>\n",
       "      <td>1.0</td>\n",
       "      <td>1.0</td>\n",
       "      <td>0.44</td>\n",
       "      <td>1</td>\n",
       "    </tr>\n",
       "    <tr>\n",
       "      <th>2</th>\n",
       "      <td>0001f8cef6b9702d54abf66fd89eb21014bf98567065a9...</td>\n",
       "      <td>37073,33658,28336,27815,30331</td>\n",
       "      <td>2020-08-07</td>\n",
       "      <td>30871</td>\n",
       "      <td>1</td>\n",
       "      <td>0.25</td>\n",
       "      <td>0.0</td>\n",
       "      <td>0.0</td>\n",
       "      <td>0.21</td>\n",
       "      <td>2</td>\n",
       "    </tr>\n",
       "    <tr>\n",
       "      <th>3</th>\n",
       "      <td>0003e867a930d0d6842f923d6ba7c9b77aba33fe2a0fbf...</td>\n",
       "      <td>16160,41543,24022,41131,41131,48130,47628,44359</td>\n",
       "      <td>2020-08-11</td>\n",
       "      <td>46077,46294,47057</td>\n",
       "      <td>1,1,1</td>\n",
       "      <td>0.21</td>\n",
       "      <td>1.0</td>\n",
       "      <td>1.0</td>\n",
       "      <td>0.33</td>\n",
       "      <td>3</td>\n",
       "    </tr>\n",
       "    <tr>\n",
       "      <th>4</th>\n",
       "      <td>0005340aa69bb5a28d98712a36d8f669024bce137e3c82...</td>\n",
       "      <td>42550,31027,32928,13993,37711,26267,42187,3305...</td>\n",
       "      <td>2020-07-12</td>\n",
       "      <td>14131,20444,20448,27775,31005,45912,45914,46007</td>\n",
       "      <td>1,1,1,1,1,1,1,1</td>\n",
       "      <td>0.51</td>\n",
       "      <td>0.0</td>\n",
       "      <td>0.0</td>\n",
       "      <td>0.21</td>\n",
       "      <td>4</td>\n",
       "    </tr>\n",
       "  </tbody>\n",
       "</table>\n",
       "</div>"
      ],
      "text/plain": [
       "                                         customer_id  \\\n",
       "0  000172a9c322560c849754ffbdfdb2180d408aa7176b94...   \n",
       "1  0001d44dbe7f6c4b35200abdb052c77a87596fe1bdcc37...   \n",
       "2  0001f8cef6b9702d54abf66fd89eb21014bf98567065a9...   \n",
       "3  0003e867a930d0d6842f923d6ba7c9b77aba33fe2a0fbf...   \n",
       "4  0005340aa69bb5a28d98712a36d8f669024bce137e3c82...   \n",
       "\n",
       "                               article_id_idx_last10 t_dat_latest  \\\n",
       "0                                              21238   2020-07-21   \n",
       "1  47067,4125,39406,4130,47861,47698,22997,33621,...   2020-09-01   \n",
       "2                      37073,33658,28336,27815,30331   2020-08-07   \n",
       "3    16160,41543,24022,41131,41131,48130,47628,44359   2020-08-11   \n",
       "4  42550,31027,32928,13993,37711,26267,42187,3305...   2020-07-12   \n",
       "\n",
       "                              article_id_idx_label    num_purchases  \\\n",
       "0                                            10445                3   \n",
       "1                     4133,43785,46699,47830,48528        1,1,1,1,1   \n",
       "2                                            30871                1   \n",
       "3                                46077,46294,47057            1,1,1   \n",
       "4  14131,20444,20448,27775,31005,45912,45914,46007  1,1,1,1,1,1,1,1   \n",
       "\n",
       "   example_age   FN  Active   age  customer_id_idx  \n",
       "0         0.42  0.0     0.0  0.45                0  \n",
       "1         0.00  1.0     1.0  0.44                1  \n",
       "2         0.25  0.0     0.0  0.21                2  \n",
       "3         0.21  1.0     1.0  0.33                3  \n",
       "4         0.51  0.0     0.0  0.21                4  "
      ]
     },
     "execution_count": 65,
     "metadata": {},
     "output_type": "execute_result"
    }
   ],
   "source": [
    "train_set.head()"
   ]
  },
  {
   "cell_type": "code",
   "execution_count": 66,
   "id": "d0ce0797",
   "metadata": {},
   "outputs": [],
   "source": [
    "train_set = train_set[['customer_id_idx', 'article_id_idx_last10', 'article_id_idx_label', 'FN', 'Active', 'age', 'num_purchases', 'example_age']]\n",
    "dev_set = dev_set[['customer_id_idx', 'article_id_idx_last10', 'article_id_idx_label', 'FN', 'Active', 'age', 'num_purchases', 'example_age']]\n",
    "test_set = test_set[['customer_id_idx', 'article_id_idx_last10', 'article_id_idx_label', 'FN', 'Active', 'age', 'num_purchases', 'example_age']]"
   ]
  },
  {
   "cell_type": "code",
   "execution_count": 67,
   "id": "6330803f",
   "metadata": {},
   "outputs": [],
   "source": [
    "submission_inputs = submission_inputs[['customer_id_idx', 'article_id_idx_last10', 'article_id_idx_label', 'FN', 'Active', 'age', 'num_purchases', 'example_age']]"
   ]
  },
  {
   "cell_type": "code",
   "execution_count": 68,
   "id": "3b897a07",
   "metadata": {},
   "outputs": [
    {
     "data": {
      "text/html": [
       "<div>\n",
       "<style scoped>\n",
       "    .dataframe tbody tr th:only-of-type {\n",
       "        vertical-align: middle;\n",
       "    }\n",
       "\n",
       "    .dataframe tbody tr th {\n",
       "        vertical-align: top;\n",
       "    }\n",
       "\n",
       "    .dataframe thead th {\n",
       "        text-align: right;\n",
       "    }\n",
       "</style>\n",
       "<table border=\"1\" class=\"dataframe\">\n",
       "  <thead>\n",
       "    <tr style=\"text-align: right;\">\n",
       "      <th></th>\n",
       "      <th>customer_id_idx</th>\n",
       "      <th>article_id_idx_last10</th>\n",
       "      <th>article_id_idx_label</th>\n",
       "      <th>FN</th>\n",
       "      <th>Active</th>\n",
       "      <th>age</th>\n",
       "      <th>num_purchases</th>\n",
       "      <th>example_age</th>\n",
       "    </tr>\n",
       "  </thead>\n",
       "  <tbody>\n",
       "    <tr>\n",
       "      <th>0</th>\n",
       "      <td>0</td>\n",
       "      <td>21238</td>\n",
       "      <td>10445</td>\n",
       "      <td>0.0</td>\n",
       "      <td>0.0</td>\n",
       "      <td>0.45</td>\n",
       "      <td>3</td>\n",
       "      <td>0.42</td>\n",
       "    </tr>\n",
       "    <tr>\n",
       "      <th>1</th>\n",
       "      <td>1</td>\n",
       "      <td>47067,4125,39406,4130,47861,47698,22997,33621,...</td>\n",
       "      <td>4133,43785,46699,47830,48528</td>\n",
       "      <td>1.0</td>\n",
       "      <td>1.0</td>\n",
       "      <td>0.44</td>\n",
       "      <td>1,1,1,1,1</td>\n",
       "      <td>0.00</td>\n",
       "    </tr>\n",
       "    <tr>\n",
       "      <th>2</th>\n",
       "      <td>2</td>\n",
       "      <td>37073,33658,28336,27815,30331</td>\n",
       "      <td>30871</td>\n",
       "      <td>0.0</td>\n",
       "      <td>0.0</td>\n",
       "      <td>0.21</td>\n",
       "      <td>1</td>\n",
       "      <td>0.25</td>\n",
       "    </tr>\n",
       "    <tr>\n",
       "      <th>3</th>\n",
       "      <td>3</td>\n",
       "      <td>16160,41543,24022,41131,41131,48130,47628,44359</td>\n",
       "      <td>46077,46294,47057</td>\n",
       "      <td>1.0</td>\n",
       "      <td>1.0</td>\n",
       "      <td>0.33</td>\n",
       "      <td>1,1,1</td>\n",
       "      <td>0.21</td>\n",
       "    </tr>\n",
       "    <tr>\n",
       "      <th>4</th>\n",
       "      <td>4</td>\n",
       "      <td>42550,31027,32928,13993,37711,26267,42187,3305...</td>\n",
       "      <td>14131,20444,20448,27775,31005,45912,45914,46007</td>\n",
       "      <td>0.0</td>\n",
       "      <td>0.0</td>\n",
       "      <td>0.21</td>\n",
       "      <td>1,1,1,1,1,1,1,1</td>\n",
       "      <td>0.51</td>\n",
       "    </tr>\n",
       "  </tbody>\n",
       "</table>\n",
       "</div>"
      ],
      "text/plain": [
       "   customer_id_idx                              article_id_idx_last10  \\\n",
       "0                0                                              21238   \n",
       "1                1  47067,4125,39406,4130,47861,47698,22997,33621,...   \n",
       "2                2                      37073,33658,28336,27815,30331   \n",
       "3                3    16160,41543,24022,41131,41131,48130,47628,44359   \n",
       "4                4  42550,31027,32928,13993,37711,26267,42187,3305...   \n",
       "\n",
       "                              article_id_idx_label   FN  Active   age  \\\n",
       "0                                            10445  0.0     0.0  0.45   \n",
       "1                     4133,43785,46699,47830,48528  1.0     1.0  0.44   \n",
       "2                                            30871  0.0     0.0  0.21   \n",
       "3                                46077,46294,47057  1.0     1.0  0.33   \n",
       "4  14131,20444,20448,27775,31005,45912,45914,46007  0.0     0.0  0.21   \n",
       "\n",
       "     num_purchases  example_age  \n",
       "0                3         0.42  \n",
       "1        1,1,1,1,1         0.00  \n",
       "2                1         0.25  \n",
       "3            1,1,1         0.21  \n",
       "4  1,1,1,1,1,1,1,1         0.51  "
      ]
     },
     "execution_count": 68,
     "metadata": {},
     "output_type": "execute_result"
    }
   ],
   "source": [
    "train_set.head()"
   ]
  },
  {
   "cell_type": "code",
   "execution_count": 69,
   "id": "d10d031b",
   "metadata": {},
   "outputs": [
    {
     "data": {
      "text/html": [
       "<div>\n",
       "<style scoped>\n",
       "    .dataframe tbody tr th:only-of-type {\n",
       "        vertical-align: middle;\n",
       "    }\n",
       "\n",
       "    .dataframe tbody tr th {\n",
       "        vertical-align: top;\n",
       "    }\n",
       "\n",
       "    .dataframe thead th {\n",
       "        text-align: right;\n",
       "    }\n",
       "</style>\n",
       "<table border=\"1\" class=\"dataframe\">\n",
       "  <thead>\n",
       "    <tr style=\"text-align: right;\">\n",
       "      <th></th>\n",
       "      <th>customer_id_idx</th>\n",
       "      <th>article_id_idx_last10</th>\n",
       "      <th>article_id_idx_label</th>\n",
       "      <th>FN</th>\n",
       "      <th>Active</th>\n",
       "      <th>age</th>\n",
       "      <th>num_purchases</th>\n",
       "      <th>example_age</th>\n",
       "    </tr>\n",
       "  </thead>\n",
       "  <tbody>\n",
       "    <tr>\n",
       "      <th>0</th>\n",
       "      <td>1</td>\n",
       "      <td>47698,22997,33621,47832,39261,4133,46699,47830...</td>\n",
       "      <td>16299</td>\n",
       "      <td>1.0</td>\n",
       "      <td>1.0</td>\n",
       "      <td>0.44</td>\n",
       "      <td>1</td>\n",
       "      <td>-0.06</td>\n",
       "    </tr>\n",
       "    <tr>\n",
       "      <th>1</th>\n",
       "      <td>3</td>\n",
       "      <td>41543,24022,41131,41131,48130,47628,44359,4705...</td>\n",
       "      <td>42436,43977,6392,7586</td>\n",
       "      <td>1.0</td>\n",
       "      <td>1.0</td>\n",
       "      <td>0.33</td>\n",
       "      <td>2,1,1,1</td>\n",
       "      <td>-0.04</td>\n",
       "    </tr>\n",
       "    <tr>\n",
       "      <th>2</th>\n",
       "      <td>13</td>\n",
       "      <td>33575,39811,39811,39811,40861,42452,26645,1042...</td>\n",
       "      <td>18461,20230,20812,26646,26652,42288</td>\n",
       "      <td>0.0</td>\n",
       "      <td>0.0</td>\n",
       "      <td>0.41</td>\n",
       "      <td>1,1,1,1,1,2</td>\n",
       "      <td>-0.03</td>\n",
       "    </tr>\n",
       "    <tr>\n",
       "      <th>3</th>\n",
       "      <td>15</td>\n",
       "      <td>47257,45038,46660,45634,35543,5815,31611,26099...</td>\n",
       "      <td>20931,43183,47575,48163</td>\n",
       "      <td>1.0</td>\n",
       "      <td>1.0</td>\n",
       "      <td>0.42</td>\n",
       "      <td>1,1,2,2</td>\n",
       "      <td>-0.05</td>\n",
       "    </tr>\n",
       "    <tr>\n",
       "      <th>4</th>\n",
       "      <td>17</td>\n",
       "      <td>3659,21195,36713,20502,2893,2895,30391,48452,4...</td>\n",
       "      <td>44663,46496</td>\n",
       "      <td>1.0</td>\n",
       "      <td>1.0</td>\n",
       "      <td>0.23</td>\n",
       "      <td>1,1</td>\n",
       "      <td>-0.07</td>\n",
       "    </tr>\n",
       "  </tbody>\n",
       "</table>\n",
       "</div>"
      ],
      "text/plain": [
       "   customer_id_idx                              article_id_idx_last10  \\\n",
       "0                1  47698,22997,33621,47832,39261,4133,46699,47830...   \n",
       "1                3  41543,24022,41131,41131,48130,47628,44359,4705...   \n",
       "2               13  33575,39811,39811,39811,40861,42452,26645,1042...   \n",
       "3               15  47257,45038,46660,45634,35543,5815,31611,26099...   \n",
       "4               17  3659,21195,36713,20502,2893,2895,30391,48452,4...   \n",
       "\n",
       "                  article_id_idx_label   FN  Active   age num_purchases  \\\n",
       "0                                16299  1.0     1.0  0.44             1   \n",
       "1                42436,43977,6392,7586  1.0     1.0  0.33       2,1,1,1   \n",
       "2  18461,20230,20812,26646,26652,42288  0.0     0.0  0.41   1,1,1,1,1,2   \n",
       "3              20931,43183,47575,48163  1.0     1.0  0.42       1,1,2,2   \n",
       "4                          44663,46496  1.0     1.0  0.23           1,1   \n",
       "\n",
       "   example_age  \n",
       "0        -0.06  \n",
       "1        -0.04  \n",
       "2        -0.03  \n",
       "3        -0.05  \n",
       "4        -0.07  "
      ]
     },
     "execution_count": 69,
     "metadata": {},
     "output_type": "execute_result"
    }
   ],
   "source": [
    "dev_set.head()"
   ]
  },
  {
   "cell_type": "code",
   "execution_count": 70,
   "id": "5607630e",
   "metadata": {},
   "outputs": [
    {
     "data": {
      "text/html": [
       "<div>\n",
       "<style scoped>\n",
       "    .dataframe tbody tr th:only-of-type {\n",
       "        vertical-align: middle;\n",
       "    }\n",
       "\n",
       "    .dataframe tbody tr th {\n",
       "        vertical-align: top;\n",
       "    }\n",
       "\n",
       "    .dataframe thead th {\n",
       "        text-align: right;\n",
       "    }\n",
       "</style>\n",
       "<table border=\"1\" class=\"dataframe\">\n",
       "  <thead>\n",
       "    <tr style=\"text-align: right;\">\n",
       "      <th></th>\n",
       "      <th>customer_id_idx</th>\n",
       "      <th>article_id_idx_last10</th>\n",
       "      <th>article_id_idx_label</th>\n",
       "      <th>FN</th>\n",
       "      <th>Active</th>\n",
       "      <th>age</th>\n",
       "      <th>num_purchases</th>\n",
       "      <th>example_age</th>\n",
       "    </tr>\n",
       "  </thead>\n",
       "  <tbody>\n",
       "    <tr>\n",
       "      <th>0</th>\n",
       "      <td>0</td>\n",
       "      <td>21238,10445,10445,10445</td>\n",
       "      <td>0</td>\n",
       "      <td>0.0</td>\n",
       "      <td>0.0</td>\n",
       "      <td>0.45</td>\n",
       "      <td>1</td>\n",
       "      <td>-0.03</td>\n",
       "    </tr>\n",
       "    <tr>\n",
       "      <th>1</th>\n",
       "      <td>1</td>\n",
       "      <td>22997,33621,47832,39261,4133,46699,47830,48528...</td>\n",
       "      <td>0</td>\n",
       "      <td>1.0</td>\n",
       "      <td>1.0</td>\n",
       "      <td>0.44</td>\n",
       "      <td>1</td>\n",
       "      <td>-0.13</td>\n",
       "    </tr>\n",
       "    <tr>\n",
       "      <th>2</th>\n",
       "      <td>2</td>\n",
       "      <td>37073,33658,28336,27815,30331,30871</td>\n",
       "      <td>0</td>\n",
       "      <td>0.0</td>\n",
       "      <td>0.0</td>\n",
       "      <td>0.21</td>\n",
       "      <td>1</td>\n",
       "      <td>-0.01</td>\n",
       "    </tr>\n",
       "    <tr>\n",
       "      <th>3</th>\n",
       "      <td>3</td>\n",
       "      <td>44359,47057,46077,46294,7586,6392,42436,42436,...</td>\n",
       "      <td>0</td>\n",
       "      <td>1.0</td>\n",
       "      <td>1.0</td>\n",
       "      <td>0.33</td>\n",
       "      <td>1</td>\n",
       "      <td>-0.21</td>\n",
       "    </tr>\n",
       "    <tr>\n",
       "      <th>4</th>\n",
       "      <td>4</td>\n",
       "      <td>28220,39016,31005,20448,27775,45912,14131,4600...</td>\n",
       "      <td>0</td>\n",
       "      <td>0.0</td>\n",
       "      <td>0.0</td>\n",
       "      <td>0.21</td>\n",
       "      <td>1</td>\n",
       "      <td>-0.02</td>\n",
       "    </tr>\n",
       "  </tbody>\n",
       "</table>\n",
       "</div>"
      ],
      "text/plain": [
       "   customer_id_idx                              article_id_idx_last10  \\\n",
       "0                0                            21238,10445,10445,10445   \n",
       "1                1  22997,33621,47832,39261,4133,46699,47830,48528...   \n",
       "2                2                37073,33658,28336,27815,30331,30871   \n",
       "3                3  44359,47057,46077,46294,7586,6392,42436,42436,...   \n",
       "4                4  28220,39016,31005,20448,27775,45912,14131,4600...   \n",
       "\n",
       "  article_id_idx_label   FN  Active   age num_purchases  example_age  \n",
       "0                    0  0.0     0.0  0.45             1        -0.03  \n",
       "1                    0  1.0     1.0  0.44             1        -0.13  \n",
       "2                    0  0.0     0.0  0.21             1        -0.01  \n",
       "3                    0  1.0     1.0  0.33             1        -0.21  \n",
       "4                    0  0.0     0.0  0.21             1        -0.02  "
      ]
     },
     "execution_count": 70,
     "metadata": {},
     "output_type": "execute_result"
    }
   ],
   "source": [
    "submission_inputs.head()"
   ]
  },
  {
   "cell_type": "markdown",
   "id": "c7f4e9e5",
   "metadata": {},
   "source": [
    "### Save files"
   ]
  },
  {
   "cell_type": "code",
   "execution_count": 71,
   "id": "488184b0",
   "metadata": {},
   "outputs": [],
   "source": [
    "train_set.to_csv('data/final_train_set_with_counts_and_age_extended.tsv', sep='\\t', index=False)\n",
    "dev_set.to_csv('data/final_dev_set_with_counts_and_age_extended.tsv', sep='\\t', index=False)\n",
    "test_set.to_csv('data/final_test_set_with_counts_and_age_extended.tsv', sep='\\t', index=False)\n",
    "submission_inputs.to_csv('data/final_submission_inputs_with_counts_and_age_extended.tsv', sep='\\t', index=False)\n",
    "\n",
    "articles_df.to_csv('data/articles_df_filt_with_counts_and_age_extended.csv', index=False)\n",
    "customers.to_csv('data/customers_filt_with_counts_and_age_extended.csv', index=False)"
   ]
  },
  {
   "cell_type": "markdown",
   "id": "7e773521",
   "metadata": {},
   "source": [
    "### IterableDataset"
   ]
  },
  {
   "cell_type": "code",
   "execution_count": 70,
   "id": "5e2f9961",
   "metadata": {},
   "outputs": [],
   "source": [
    "class RecommendationDatasetMultiLabel(IterableDataset):\n",
    "\n",
    "    def __init__(self, dataset_filepath, article_emb_bag, total_articles):\n",
    "        \n",
    "        self.dataset_itr = open(dataset_filepath, 'r')\n",
    "        next(self.dataset_itr)  # skip header\n",
    "        \n",
    "        self.article_emb_bag = article_emb_bag\n",
    "        \n",
    "        self.total_articles = total_articles\n",
    "    \n",
    "    def process_label(self, label_str: str, num_purchases_str: str):\n",
    "        \n",
    "        labels = torch.tensor([int(v) for v in label_str.split(',')])\n",
    "        \n",
    "        num_purchases = torch.tensor([float(v) for v in num_purchases_str.split(',')])\n",
    "        \n",
    "        target = torch.zeros(self.total_articles).scatter_(0, labels, num_purchases)\n",
    "\n",
    "        return target\n",
    "    \n",
    "    def mean_historical_purchases_embedding(self, input_str: str):\n",
    "        \n",
    "        indices = torch.tensor([int(v) for v in input_str.split(',')])\n",
    "\n",
    "        mean_emb = self.article_emb_bag(indices.unsqueeze(0)).flatten()\n",
    "            \n",
    "        return mean_emb\n",
    "    \n",
    "    def process_numeric_features(self, fn: str, active: str, age: str, example_age: str):\n",
    "        numeric_features_tensor = torch.tensor([\n",
    "            float(fn),\n",
    "            float(active),\n",
    "            float(age),\n",
    "            float(example_age)\n",
    "        ])\n",
    "\n",
    "        return numeric_features_tensor\n",
    "    \n",
    "    def parse_itr(self, dataset_itr):\n",
    "        \n",
    "        for line in dataset_itr:\n",
    "        \n",
    "            line_items = line.rstrip('\\n').split('\\t')\n",
    "            \n",
    "            customer_id_idx, article_id_idx_last10, article_id_idx_label, fn, active, age, num_purchases, example_age = line_items\n",
    "            \n",
    "            customer_id_idx = int(customer_id_idx)\n",
    "            \n",
    "            numeric_features_tensor = self.process_numeric_features(fn, active, age, example_age)\n",
    "            \n",
    "            mean_emb = self.mean_historical_purchases_embedding(article_id_idx_last10)\n",
    "\n",
    "            label = self.process_label(article_id_idx_label, num_purchases)    \n",
    "            \n",
    "            inputs = torch.concat((mean_emb, numeric_features_tensor))\n",
    "\n",
    "            yield customer_id_idx, inputs, label\n",
    "        \n",
    "    def get_stream(self, dataset_itr):\n",
    "        \n",
    "        return self.parse_itr(dataset_itr)\n",
    "\n",
    "    def __iter__(self):\n",
    "        \n",
    "        return self.get_stream(self.dataset_itr)"
   ]
  },
  {
   "cell_type": "code",
   "execution_count": 81,
   "id": "0942387c",
   "metadata": {},
   "outputs": [],
   "source": [
    "dataset = RecommendationDatasetMultiLabel(dataset_filepath='data/final_train_set_with_counts_and_age.tsv', article_emb_bag=article_emb_bag, total_articles=total_articles)"
   ]
  },
  {
   "cell_type": "code",
   "execution_count": 84,
   "id": "ce03f42f",
   "metadata": {},
   "outputs": [
    {
     "data": {
      "text/html": [
       "<div>\n",
       "<style scoped>\n",
       "    .dataframe tbody tr th:only-of-type {\n",
       "        vertical-align: middle;\n",
       "    }\n",
       "\n",
       "    .dataframe tbody tr th {\n",
       "        vertical-align: top;\n",
       "    }\n",
       "\n",
       "    .dataframe thead th {\n",
       "        text-align: right;\n",
       "    }\n",
       "</style>\n",
       "<table border=\"1\" class=\"dataframe\">\n",
       "  <thead>\n",
       "    <tr style=\"text-align: right;\">\n",
       "      <th></th>\n",
       "      <th>customer_id_idx</th>\n",
       "      <th>article_id_idx_last10</th>\n",
       "      <th>article_id_idx_label</th>\n",
       "      <th>FN</th>\n",
       "      <th>Active</th>\n",
       "      <th>age</th>\n",
       "      <th>num_purchases</th>\n",
       "      <th>example_age</th>\n",
       "    </tr>\n",
       "  </thead>\n",
       "  <tbody>\n",
       "    <tr>\n",
       "      <th>0</th>\n",
       "      <td>0</td>\n",
       "      <td>15861</td>\n",
       "      <td>7705</td>\n",
       "      <td>0.0</td>\n",
       "      <td>0.0</td>\n",
       "      <td>0.45</td>\n",
       "      <td>3</td>\n",
       "      <td>0.42</td>\n",
       "    </tr>\n",
       "    <tr>\n",
       "      <th>1</th>\n",
       "      <td>1</td>\n",
       "      <td>38882,3152,31459,3157,39673,39510,17255,26222,...</td>\n",
       "      <td>3160,35654,38515,39642,40340</td>\n",
       "      <td>1.0</td>\n",
       "      <td>1.0</td>\n",
       "      <td>0.44</td>\n",
       "      <td>1,1,1,1,1</td>\n",
       "      <td>0.00</td>\n",
       "    </tr>\n",
       "    <tr>\n",
       "      <th>2</th>\n",
       "      <td>2</td>\n",
       "      <td>21627,21175,23351</td>\n",
       "      <td>23816</td>\n",
       "      <td>0.0</td>\n",
       "      <td>0.0</td>\n",
       "      <td>0.21</td>\n",
       "      <td>1</td>\n",
       "      <td>0.25</td>\n",
       "    </tr>\n",
       "    <tr>\n",
       "      <th>3</th>\n",
       "      <td>3</td>\n",
       "      <td>18099,33097,33097,39942,39441,36213</td>\n",
       "      <td>37897,38110,38872</td>\n",
       "      <td>1.0</td>\n",
       "      <td>1.0</td>\n",
       "      <td>0.33</td>\n",
       "      <td>1,1,1</td>\n",
       "      <td>0.21</td>\n",
       "    </tr>\n",
       "    <tr>\n",
       "      <th>4</th>\n",
       "      <td>4</td>\n",
       "      <td>23950,25602,10293,29865,19920,34107,25721,2152...</td>\n",
       "      <td>10396,15220,15224,21141,23930,37733,37735,37827</td>\n",
       "      <td>0.0</td>\n",
       "      <td>0.0</td>\n",
       "      <td>0.21</td>\n",
       "      <td>1,1,1,1,1,1,1,1</td>\n",
       "      <td>0.51</td>\n",
       "    </tr>\n",
       "    <tr>\n",
       "      <th>5</th>\n",
       "      <td>5</td>\n",
       "      <td>23368,29644,546,7957</td>\n",
       "      <td>23326,34657,34797,37783</td>\n",
       "      <td>0.0</td>\n",
       "      <td>0.0</td>\n",
       "      <td>0.19</td>\n",
       "      <td>2,1,1,1</td>\n",
       "      <td>0.32</td>\n",
       "    </tr>\n",
       "    <tr>\n",
       "      <th>6</th>\n",
       "      <td>6</td>\n",
       "      <td>32407,33337,34491,34150,39072,14076,14074,2120...</td>\n",
       "      <td>39072,40138</td>\n",
       "      <td>0.0</td>\n",
       "      <td>0.0</td>\n",
       "      <td>0.36</td>\n",
       "      <td>1,1</td>\n",
       "      <td>0.02</td>\n",
       "    </tr>\n",
       "    <tr>\n",
       "      <th>7</th>\n",
       "      <td>7</td>\n",
       "      <td>4388,37067,32054,30795,33397,15496,26253,1059,...</td>\n",
       "      <td>24455,30121</td>\n",
       "      <td>0.0</td>\n",
       "      <td>0.0</td>\n",
       "      <td>0.40</td>\n",
       "      <td>1,1</td>\n",
       "      <td>0.19</td>\n",
       "    </tr>\n",
       "    <tr>\n",
       "      <th>8</th>\n",
       "      <td>8</td>\n",
       "      <td>21970,10865</td>\n",
       "      <td>2471,35881,37827</td>\n",
       "      <td>1.0</td>\n",
       "      <td>1.0</td>\n",
       "      <td>0.22</td>\n",
       "      <td>1,1,1</td>\n",
       "      <td>0.50</td>\n",
       "    </tr>\n",
       "    <tr>\n",
       "      <th>9</th>\n",
       "      <td>9</td>\n",
       "      <td>25681,24592,30530,2370</td>\n",
       "      <td>23806,30609,37567</td>\n",
       "      <td>1.0</td>\n",
       "      <td>1.0</td>\n",
       "      <td>0.59</td>\n",
       "      <td>1,1,1</td>\n",
       "      <td>0.35</td>\n",
       "    </tr>\n",
       "    <tr>\n",
       "      <th>10</th>\n",
       "      <td>10</td>\n",
       "      <td>7604,7997</td>\n",
       "      <td>16262,16263,37624</td>\n",
       "      <td>0.0</td>\n",
       "      <td>0.0</td>\n",
       "      <td>0.21</td>\n",
       "      <td>1,1,1</td>\n",
       "      <td>0.52</td>\n",
       "    </tr>\n",
       "    <tr>\n",
       "      <th>11</th>\n",
       "      <td>11</td>\n",
       "      <td>2370</td>\n",
       "      <td>9483</td>\n",
       "      <td>0.0</td>\n",
       "      <td>0.0</td>\n",
       "      <td>0.44</td>\n",
       "      <td>1</td>\n",
       "      <td>0.03</td>\n",
       "    </tr>\n",
       "    <tr>\n",
       "      <th>12</th>\n",
       "      <td>12</td>\n",
       "      <td>36624,36624,34836,24961,34839,22200,25670</td>\n",
       "      <td>30582,37260</td>\n",
       "      <td>0.0</td>\n",
       "      <td>0.0</td>\n",
       "      <td>0.27</td>\n",
       "      <td>1,1</td>\n",
       "      <td>0.00</td>\n",
       "    </tr>\n",
       "    <tr>\n",
       "      <th>13</th>\n",
       "      <td>13</td>\n",
       "      <td>26177,26177,26177,31831,31831,31831,32833,3436...</td>\n",
       "      <td>30784,7682,7697</td>\n",
       "      <td>0.0</td>\n",
       "      <td>0.0</td>\n",
       "      <td>0.41</td>\n",
       "      <td>1,1,1</td>\n",
       "      <td>0.40</td>\n",
       "    </tr>\n",
       "    <tr>\n",
       "      <th>14</th>\n",
       "      <td>14</td>\n",
       "      <td>35034,22574,9569</td>\n",
       "      <td>33397,36503,38321</td>\n",
       "      <td>0.0</td>\n",
       "      <td>0.0</td>\n",
       "      <td>0.37</td>\n",
       "      <td>1,1,1</td>\n",
       "      <td>0.45</td>\n",
       "    </tr>\n",
       "    <tr>\n",
       "      <th>15</th>\n",
       "      <td>15</td>\n",
       "      <td>37540,4953,37677,15355,40180,39072,36872,38476...</td>\n",
       "      <td>19793,24455,25547,37728,4387</td>\n",
       "      <td>1.0</td>\n",
       "      <td>1.0</td>\n",
       "      <td>0.42</td>\n",
       "      <td>1,1,1,1,1</td>\n",
       "      <td>0.03</td>\n",
       "    </tr>\n",
       "    <tr>\n",
       "      <th>16</th>\n",
       "      <td>16</td>\n",
       "      <td>26013</td>\n",
       "      <td>1355,21208,25034,25385,2810</td>\n",
       "      <td>0.0</td>\n",
       "      <td>0.0</td>\n",
       "      <td>0.30</td>\n",
       "      <td>1,1,1,1,1</td>\n",
       "      <td>0.41</td>\n",
       "    </tr>\n",
       "    <tr>\n",
       "      <th>17</th>\n",
       "      <td>17</td>\n",
       "      <td>15270,2258,2260</td>\n",
       "      <td>23407,40262,40264</td>\n",
       "      <td>1.0</td>\n",
       "      <td>1.0</td>\n",
       "      <td>0.23</td>\n",
       "      <td>1,1,1</td>\n",
       "      <td>0.43</td>\n",
       "    </tr>\n",
       "    <tr>\n",
       "      <th>18</th>\n",
       "      <td>18</td>\n",
       "      <td>40445,40443,30867,11803,4930,8586,8580,8580,30...</td>\n",
       "      <td>37585,38298</td>\n",
       "      <td>0.0</td>\n",
       "      <td>0.0</td>\n",
       "      <td>0.39</td>\n",
       "      <td>1,1</td>\n",
       "      <td>0.34</td>\n",
       "    </tr>\n",
       "    <tr>\n",
       "      <th>19</th>\n",
       "      <td>19</td>\n",
       "      <td>17141,3962,3974,22183,2873,3126,2587</td>\n",
       "      <td>18835,19767,25165,36841,37017,39416,40392</td>\n",
       "      <td>0.0</td>\n",
       "      <td>0.0</td>\n",
       "      <td>0.32</td>\n",
       "      <td>1,1,1,1,1,1,1</td>\n",
       "      <td>0.24</td>\n",
       "    </tr>\n",
       "  </tbody>\n",
       "</table>\n",
       "</div>"
      ],
      "text/plain": [
       "    customer_id_idx                              article_id_idx_last10  \\\n",
       "0                 0                                              15861   \n",
       "1                 1  38882,3152,31459,3157,39673,39510,17255,26222,...   \n",
       "2                 2                                  21627,21175,23351   \n",
       "3                 3                18099,33097,33097,39942,39441,36213   \n",
       "4                 4  23950,25602,10293,29865,19920,34107,25721,2152...   \n",
       "5                 5                               23368,29644,546,7957   \n",
       "6                 6  32407,33337,34491,34150,39072,14076,14074,2120...   \n",
       "7                 7  4388,37067,32054,30795,33397,15496,26253,1059,...   \n",
       "8                 8                                        21970,10865   \n",
       "9                 9                             25681,24592,30530,2370   \n",
       "10               10                                          7604,7997   \n",
       "11               11                                               2370   \n",
       "12               12          36624,36624,34836,24961,34839,22200,25670   \n",
       "13               13  26177,26177,26177,31831,31831,31831,32833,3436...   \n",
       "14               14                                   35034,22574,9569   \n",
       "15               15  37540,4953,37677,15355,40180,39072,36872,38476...   \n",
       "16               16                                              26013   \n",
       "17               17                                    15270,2258,2260   \n",
       "18               18  40445,40443,30867,11803,4930,8586,8580,8580,30...   \n",
       "19               19               17141,3962,3974,22183,2873,3126,2587   \n",
       "\n",
       "                               article_id_idx_label   FN  Active   age  \\\n",
       "0                                              7705  0.0     0.0  0.45   \n",
       "1                      3160,35654,38515,39642,40340  1.0     1.0  0.44   \n",
       "2                                             23816  0.0     0.0  0.21   \n",
       "3                                 37897,38110,38872  1.0     1.0  0.33   \n",
       "4   10396,15220,15224,21141,23930,37733,37735,37827  0.0     0.0  0.21   \n",
       "5                           23326,34657,34797,37783  0.0     0.0  0.19   \n",
       "6                                       39072,40138  0.0     0.0  0.36   \n",
       "7                                       24455,30121  0.0     0.0  0.40   \n",
       "8                                  2471,35881,37827  1.0     1.0  0.22   \n",
       "9                                 23806,30609,37567  1.0     1.0  0.59   \n",
       "10                                16262,16263,37624  0.0     0.0  0.21   \n",
       "11                                             9483  0.0     0.0  0.44   \n",
       "12                                      30582,37260  0.0     0.0  0.27   \n",
       "13                                  30784,7682,7697  0.0     0.0  0.41   \n",
       "14                                33397,36503,38321  0.0     0.0  0.37   \n",
       "15                     19793,24455,25547,37728,4387  1.0     1.0  0.42   \n",
       "16                      1355,21208,25034,25385,2810  0.0     0.0  0.30   \n",
       "17                                23407,40262,40264  1.0     1.0  0.23   \n",
       "18                                      37585,38298  0.0     0.0  0.39   \n",
       "19        18835,19767,25165,36841,37017,39416,40392  0.0     0.0  0.32   \n",
       "\n",
       "      num_purchases  example_age  \n",
       "0                 3         0.42  \n",
       "1         1,1,1,1,1         0.00  \n",
       "2                 1         0.25  \n",
       "3             1,1,1         0.21  \n",
       "4   1,1,1,1,1,1,1,1         0.51  \n",
       "5           2,1,1,1         0.32  \n",
       "6               1,1         0.02  \n",
       "7               1,1         0.19  \n",
       "8             1,1,1         0.50  \n",
       "9             1,1,1         0.35  \n",
       "10            1,1,1         0.52  \n",
       "11                1         0.03  \n",
       "12              1,1         0.00  \n",
       "13            1,1,1         0.40  \n",
       "14            1,1,1         0.45  \n",
       "15        1,1,1,1,1         0.03  \n",
       "16        1,1,1,1,1         0.41  \n",
       "17            1,1,1         0.43  \n",
       "18              1,1         0.34  \n",
       "19    1,1,1,1,1,1,1         0.24  "
      ]
     },
     "execution_count": 84,
     "metadata": {},
     "output_type": "execute_result"
    }
   ],
   "source": [
    "pd.read_csv('data/final_train_set_with_counts_and_age.tsv', sep='\\t').head(20)"
   ]
  },
  {
   "cell_type": "code",
   "execution_count": 83,
   "id": "ee845840",
   "metadata": {},
   "outputs": [
    {
     "name": "stdout",
     "output_type": "stream",
     "text": [
      "tensor([0, 1, 2, 3])\n",
      "tensor([[-1.2173,  0.1219, -0.2311,  ...,  0.0000,  0.4500,  0.4200],\n",
      "        [-0.1295, -0.0226,  0.2097,  ...,  1.0000,  0.4400,  0.0000],\n",
      "        [ 0.0787, -0.0579,  0.0796,  ...,  0.0000,  0.2100,  0.2500],\n",
      "        [ 0.2321,  0.9143, -1.3484,  ...,  1.0000,  0.3300,  0.2100]],\n",
      "       grad_fn=<StackBackward0>)\n",
      "tensor([[0., 0., 0.,  ..., 0., 0., 0.],\n",
      "        [0., 0., 0.,  ..., 0., 0., 0.],\n",
      "        [0., 0., 0.,  ..., 0., 0., 0.],\n",
      "        [0., 0., 0.,  ..., 0., 0., 0.]])\n",
      "torch.return_types.max(\n",
      "values=tensor([3., 1., 1., 1.]),\n",
      "indices=tensor([ 7705,  3160, 23816, 37897]))\n",
      "\n",
      "\n",
      "tensor([4, 5, 6, 7])\n",
      "tensor([[ 0.4209,  0.1502,  0.3306,  ...,  0.0000,  0.2100,  0.5100],\n",
      "        [ 0.3754, -0.4886, -0.1319,  ...,  0.0000,  0.1900,  0.3200],\n",
      "        [-0.6902,  0.3733, -0.0310,  ...,  0.0000,  0.3600,  0.0200],\n",
      "        [-0.5472,  0.3336,  0.1550,  ...,  0.0000,  0.4000,  0.1900]],\n",
      "       grad_fn=<StackBackward0>)\n",
      "tensor([[0., 0., 0.,  ..., 0., 0., 0.],\n",
      "        [0., 0., 0.,  ..., 0., 0., 0.],\n",
      "        [0., 0., 0.,  ..., 0., 0., 0.],\n",
      "        [0., 0., 0.,  ..., 0., 0., 0.]])\n",
      "torch.return_types.max(\n",
      "values=tensor([1., 2., 1., 1.]),\n",
      "indices=tensor([10396, 23326, 39072, 24455]))\n",
      "\n",
      "\n",
      "tensor([ 8,  9, 10, 11])\n",
      "tensor([[-0.5309, -0.4889,  0.5154,  ...,  1.0000,  0.2200,  0.5000],\n",
      "        [-0.7312,  0.0419, -0.5416,  ...,  1.0000,  0.5900,  0.3500],\n",
      "        [-0.0412, -0.7534,  1.4518,  ...,  0.0000,  0.2100,  0.5200],\n",
      "        [-1.4641,  0.2654, -1.1431,  ...,  0.0000,  0.4400,  0.0300]],\n",
      "       grad_fn=<StackBackward0>)\n",
      "tensor([[0., 0., 0.,  ..., 0., 0., 0.],\n",
      "        [0., 0., 0.,  ..., 0., 0., 0.],\n",
      "        [0., 0., 0.,  ..., 0., 0., 0.],\n",
      "        [0., 0., 0.,  ..., 0., 0., 0.]])\n",
      "torch.return_types.max(\n",
      "values=tensor([1., 1., 1., 1.]),\n",
      "indices=tensor([ 2471, 23806, 16262,  9483]))\n",
      "\n",
      "\n",
      "tensor([12, 13, 14, 15])\n",
      "tensor([[-0.3044,  0.0482,  0.0610,  ...,  0.0000,  0.2700,  0.0000],\n",
      "        [-0.5861,  0.3548,  0.7979,  ...,  0.0000,  0.4100,  0.4000],\n",
      "        [-0.5776,  0.4464,  0.6976,  ...,  0.0000,  0.3700,  0.4500],\n",
      "        [ 0.1667, -0.3388, -0.0524,  ...,  1.0000,  0.4200,  0.0300]],\n",
      "       grad_fn=<StackBackward0>)\n",
      "tensor([[0., 0., 0.,  ..., 0., 0., 0.],\n",
      "        [0., 0., 0.,  ..., 0., 0., 0.],\n",
      "        [0., 0., 0.,  ..., 0., 0., 0.],\n",
      "        [0., 0., 0.,  ..., 0., 0., 0.]])\n",
      "torch.return_types.max(\n",
      "values=tensor([1., 1., 1., 1.]),\n",
      "indices=tensor([30582,  7682, 33397,  4387]))\n",
      "\n",
      "\n",
      "tensor([16, 17, 18, 19])\n",
      "tensor([[ 7.6444e-01,  2.1942e-01, -3.2852e-02,  ...,  0.0000e+00,\n",
      "          3.0000e-01,  4.1000e-01],\n",
      "        [-8.1559e-02, -2.4208e-01, -2.1895e-01,  ...,  1.0000e+00,\n",
      "          2.3000e-01,  4.3000e-01],\n",
      "        [-5.4514e-01,  5.4441e-01, -2.8163e-01,  ...,  0.0000e+00,\n",
      "          3.9000e-01,  3.4000e-01],\n",
      "        [-8.6927e-04, -3.1023e-01, -5.1820e-01,  ...,  0.0000e+00,\n",
      "          3.2000e-01,  2.4000e-01]], grad_fn=<StackBackward0>)\n",
      "tensor([[0., 0., 0.,  ..., 0., 0., 0.],\n",
      "        [0., 0., 0.,  ..., 0., 0., 0.],\n",
      "        [0., 0., 0.,  ..., 0., 0., 0.],\n",
      "        [0., 0., 0.,  ..., 0., 0., 0.]])\n",
      "torch.return_types.max(\n",
      "values=tensor([1., 1., 1., 1.]),\n",
      "indices=tensor([ 1355, 23407, 37585, 18835]))\n",
      "\n",
      "\n"
     ]
    }
   ],
   "source": [
    "train_loader = DataLoader(dataset, batch_size=4)  \n",
    "    \n",
    "for idx, data in enumerate(train_loader):\n",
    "    \n",
    "    if idx == 5:\n",
    "        break\n",
    "    else:\n",
    "        customer_id_idx, inputs, label = data\n",
    "        print(customer_id_idx)\n",
    "        print(inputs)\n",
    "        print(label)\n",
    "        print(label.max(dim=1))\n",
    "        print('\\n')"
   ]
  },
  {
   "cell_type": "code",
   "execution_count": 78,
   "id": "a61e613a",
   "metadata": {},
   "outputs": [
    {
     "data": {
      "text/plain": [
       "torch.return_types.max(\n",
       "values=tensor([1., 1., 1., 1.]),\n",
       "indices=tensor([ 1355, 23407, 37585, 18835]))"
      ]
     },
     "execution_count": 78,
     "metadata": {},
     "output_type": "execute_result"
    }
   ],
   "source": []
  },
  {
   "cell_type": "code",
   "execution_count": null,
   "id": "7316b2f5",
   "metadata": {},
   "outputs": [],
   "source": []
  },
  {
   "cell_type": "code",
   "execution_count": null,
   "id": "8cb8d8b5",
   "metadata": {},
   "outputs": [],
   "source": []
  },
  {
   "cell_type": "code",
   "execution_count": null,
   "id": "41d87165",
   "metadata": {},
   "outputs": [],
   "source": []
  },
  {
   "cell_type": "markdown",
   "id": "80db1a64",
   "metadata": {},
   "source": [
    "### TODO\n",
    "\n",
    "- Wrap processing steps in a function and apply to train, test sets  [DONE]\n",
    "- Add customer features here (FN, Active, Age)  [DONE]\n",
    "- Save sets as CSVs  [DONE]\n",
    "- Save reduced articles df - use to generate correct embeddings by index  [DONE]\n",
    "- Save customers df - use to generate correct embeddings by index  [DONE]\n",
    "- Write iterable dataset which processes dataset  [DONE]\n",
    "    - Get mean for each of inputs and take average to use as input\n",
    "    - Multi-hot encode label"
   ]
  },
  {
   "cell_type": "markdown",
   "id": "73b79a21",
   "metadata": {},
   "source": [
    "Checks of proecessing steps:"
   ]
  },
  {
   "cell_type": "markdown",
   "id": "8d099c8b",
   "metadata": {},
   "source": [
    "Multi-hot encoding:\n",
    "\n",
    "https://discuss.pytorch.org/t/what-kind-of-loss-is-better-to-use-in-multilabel-classification/32203/3"
   ]
  },
  {
   "cell_type": "code",
   "execution_count": 101,
   "id": "c3ad989f",
   "metadata": {},
   "outputs": [
    {
     "data": {
      "text/plain": [
       "'18345,38864,35941,32663,39388'"
      ]
     },
     "execution_count": 101,
     "metadata": {},
     "output_type": "execute_result"
    }
   ],
   "source": [
    "article_id_idx_label = dev_set.iloc[3]['article_id_idx_label']\n",
    "article_id_idx_label"
   ]
  },
  {
   "cell_type": "code",
   "execution_count": 72,
   "id": "fdc80f09",
   "metadata": {},
   "outputs": [],
   "source": [
    "total_articles = articles_df.shape[0]"
   ]
  },
  {
   "cell_type": "code",
   "execution_count": 112,
   "id": "13a8b0b9",
   "metadata": {},
   "outputs": [
    {
     "data": {
      "text/plain": [
       "tensor([18345, 38864, 35941, 32663, 39388])"
      ]
     },
     "execution_count": 112,
     "metadata": {},
     "output_type": "execute_result"
    }
   ],
   "source": [
    "labels = torch.tensor([int(v) for v in article_id_idx_label.split(',')])\n",
    "labels"
   ]
  },
  {
   "cell_type": "code",
   "execution_count": 111,
   "id": "a114097c",
   "metadata": {},
   "outputs": [
    {
     "data": {
      "text/plain": [
       "tensor([0., 0., 0.,  ..., 0., 0., 0.])"
      ]
     },
     "execution_count": 111,
     "metadata": {},
     "output_type": "execute_result"
    }
   ],
   "source": [
    "target = torch.zeros(total_articles).scatter_(0, labels, 1.)\n",
    "target"
   ]
  },
  {
   "cell_type": "code",
   "execution_count": 114,
   "id": "b7d7d685",
   "metadata": {},
   "outputs": [
    {
     "data": {
      "text/plain": [
       "tensor([1., 1., 1., 1., 1.])"
      ]
     },
     "execution_count": 114,
     "metadata": {},
     "output_type": "execute_result"
    }
   ],
   "source": [
    "target[labels]"
   ]
  },
  {
   "cell_type": "code",
   "execution_count": 115,
   "id": "4387bc35",
   "metadata": {},
   "outputs": [
    {
     "data": {
      "text/plain": [
       "tensor(5.)"
      ]
     },
     "execution_count": 115,
     "metadata": {},
     "output_type": "execute_result"
    }
   ],
   "source": [
    "target.sum()"
   ]
  },
  {
   "cell_type": "markdown",
   "id": "18361369",
   "metadata": {},
   "source": [
    "Getting mean encoding of historical basket"
   ]
  },
  {
   "cell_type": "code",
   "execution_count": 73,
   "id": "9aa90436",
   "metadata": {},
   "outputs": [],
   "source": [
    "article_emb_bag = nn.EmbeddingBag(num_embeddings=total_articles, embedding_dim=384)"
   ]
  },
  {
   "cell_type": "code",
   "execution_count": 135,
   "id": "926db131",
   "metadata": {},
   "outputs": [
    {
     "data": {
      "text/plain": [
       "'37757,34393,5646,38997'"
      ]
     },
     "execution_count": 135,
     "metadata": {},
     "output_type": "execute_result"
    }
   ],
   "source": [
    "article_id_idx_last10 = dev_set.iloc[5]['article_id_idx_last10']\n",
    "article_id_idx_last10"
   ]
  },
  {
   "cell_type": "code",
   "execution_count": 136,
   "id": "eacce276",
   "metadata": {},
   "outputs": [
    {
     "data": {
      "text/plain": [
       "tensor([37757, 34393,  5646, 38997])"
      ]
     },
     "execution_count": 136,
     "metadata": {},
     "output_type": "execute_result"
    }
   ],
   "source": [
    "indices = torch.tensor([int(v) for v in article_id_idx_last10.split(',')])\n",
    "indices"
   ]
  },
  {
   "cell_type": "code",
   "execution_count": 137,
   "id": "2560d961",
   "metadata": {},
   "outputs": [
    {
     "data": {
      "text/plain": [
       "tensor([[37757, 34393,  5646, 38997]])"
      ]
     },
     "execution_count": 137,
     "metadata": {},
     "output_type": "execute_result"
    }
   ],
   "source": [
    "indices.unsqueeze(0)"
   ]
  },
  {
   "cell_type": "code",
   "execution_count": 138,
   "id": "c3f3161d",
   "metadata": {},
   "outputs": [
    {
     "data": {
      "text/plain": [
       "torch.Size([1, 384])"
      ]
     },
     "execution_count": 138,
     "metadata": {},
     "output_type": "execute_result"
    }
   ],
   "source": [
    "mean_emb = article_emb_bag(indices.unsqueeze(0))\n",
    "mean_emb.shape"
   ]
  },
  {
   "cell_type": "code",
   "execution_count": 139,
   "id": "e801b8da",
   "metadata": {},
   "outputs": [],
   "source": [
    "torch.testing.assert_allclose(\n",
    "    mean_emb.flatten(),\n",
    "    article_emb_bag.weight[indices].mean(dim=0)\n",
    ")"
   ]
  },
  {
   "cell_type": "code",
   "execution_count": 141,
   "id": "544aec63",
   "metadata": {},
   "outputs": [
    {
     "data": {
      "text/plain": [
       "torch.Size([1, 384])"
      ]
     },
     "execution_count": 141,
     "metadata": {},
     "output_type": "execute_result"
    }
   ],
   "source": [
    "mean_emb = article_emb_bag(indices, offsets=torch.tensor([0]))\n",
    "mean_emb.shape"
   ]
  },
  {
   "cell_type": "code",
   "execution_count": 142,
   "id": "64917546",
   "metadata": {},
   "outputs": [],
   "source": [
    "torch.testing.assert_allclose(\n",
    "    mean_emb.flatten(),\n",
    "    article_emb_bag.weight[indices].mean(dim=0)\n",
    ")"
   ]
  }
 ],
 "metadata": {
  "accelerator": "GPU",
  "colab": {
   "machine_shape": "hm",
   "name": "17-Simple candidate generation and NN ranker with sentence embeddings.ipynb",
   "provenance": []
  },
  "kernelspec": {
   "display_name": "Python 3 (ipykernel)",
   "language": "python",
   "name": "python3"
  },
  "language_info": {
   "codemirror_mode": {
    "name": "ipython",
    "version": 3
   },
   "file_extension": ".py",
   "mimetype": "text/x-python",
   "name": "python",
   "nbconvert_exporter": "python",
   "pygments_lexer": "ipython3",
   "version": "3.8.12"
  }
 },
 "nbformat": 4,
 "nbformat_minor": 5
}
