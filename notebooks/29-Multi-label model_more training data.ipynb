{
 "cells": [
  {
   "cell_type": "code",
   "execution_count": 1,
   "id": "8a9955d6",
   "metadata": {
    "colab": {
     "base_uri": "https://localhost:8080/"
    },
    "executionInfo": {
     "elapsed": 4008,
     "status": "ok",
     "timestamp": 1651927030586,
     "user": {
      "displayName": "Steven George",
      "userId": "07709250839253394649"
     },
     "user_tz": -60
    },
    "id": "8a9955d6",
    "outputId": "48dae657-bdb4-4719-e6b1-4c776a3d4a5d"
   },
   "outputs": [
    {
     "name": "stdout",
     "output_type": "stream",
     "text": [
      "Requirement already satisfied: sentence-transformers in /usr/local/lib/python3.7/dist-packages (2.2.0)\n",
      "Requirement already satisfied: huggingface-hub in /usr/local/lib/python3.7/dist-packages (from sentence-transformers) (0.5.1)\n",
      "Requirement already satisfied: torchvision in /usr/local/lib/python3.7/dist-packages (from sentence-transformers) (0.12.0+cu113)\n",
      "Requirement already satisfied: numpy in /usr/local/lib/python3.7/dist-packages (from sentence-transformers) (1.21.6)\n",
      "Requirement already satisfied: nltk in /usr/local/lib/python3.7/dist-packages (from sentence-transformers) (3.2.5)\n",
      "Requirement already satisfied: sentencepiece in /usr/local/lib/python3.7/dist-packages (from sentence-transformers) (0.1.96)\n",
      "Requirement already satisfied: scipy in /usr/local/lib/python3.7/dist-packages (from sentence-transformers) (1.4.1)\n",
      "Requirement already satisfied: transformers<5.0.0,>=4.6.0 in /usr/local/lib/python3.7/dist-packages (from sentence-transformers) (4.18.0)\n",
      "Requirement already satisfied: tqdm in /usr/local/lib/python3.7/dist-packages (from sentence-transformers) (4.64.0)\n",
      "Requirement already satisfied: torch>=1.6.0 in /usr/local/lib/python3.7/dist-packages (from sentence-transformers) (1.11.0+cu113)\n",
      "Requirement already satisfied: scikit-learn in /usr/local/lib/python3.7/dist-packages (from sentence-transformers) (1.0.2)\n",
      "Requirement already satisfied: typing-extensions in /usr/local/lib/python3.7/dist-packages (from torch>=1.6.0->sentence-transformers) (4.2.0)\n",
      "Requirement already satisfied: sacremoses in /usr/local/lib/python3.7/dist-packages (from transformers<5.0.0,>=4.6.0->sentence-transformers) (0.0.53)\n",
      "Requirement already satisfied: requests in /usr/local/lib/python3.7/dist-packages (from transformers<5.0.0,>=4.6.0->sentence-transformers) (2.23.0)\n",
      "Requirement already satisfied: packaging>=20.0 in /usr/local/lib/python3.7/dist-packages (from transformers<5.0.0,>=4.6.0->sentence-transformers) (21.3)\n",
      "Requirement already satisfied: regex!=2019.12.17 in /usr/local/lib/python3.7/dist-packages (from transformers<5.0.0,>=4.6.0->sentence-transformers) (2019.12.20)\n",
      "Requirement already satisfied: pyyaml>=5.1 in /usr/local/lib/python3.7/dist-packages (from transformers<5.0.0,>=4.6.0->sentence-transformers) (6.0)\n",
      "Requirement already satisfied: tokenizers!=0.11.3,<0.13,>=0.11.1 in /usr/local/lib/python3.7/dist-packages (from transformers<5.0.0,>=4.6.0->sentence-transformers) (0.12.1)\n",
      "Requirement already satisfied: importlib-metadata in /usr/local/lib/python3.7/dist-packages (from transformers<5.0.0,>=4.6.0->sentence-transformers) (4.11.3)\n",
      "Requirement already satisfied: filelock in /usr/local/lib/python3.7/dist-packages (from transformers<5.0.0,>=4.6.0->sentence-transformers) (3.6.0)\n",
      "Requirement already satisfied: pyparsing!=3.0.5,>=2.0.2 in /usr/local/lib/python3.7/dist-packages (from packaging>=20.0->transformers<5.0.0,>=4.6.0->sentence-transformers) (3.0.8)\n",
      "Requirement already satisfied: zipp>=0.5 in /usr/local/lib/python3.7/dist-packages (from importlib-metadata->transformers<5.0.0,>=4.6.0->sentence-transformers) (3.8.0)\n",
      "Requirement already satisfied: six in /usr/local/lib/python3.7/dist-packages (from nltk->sentence-transformers) (1.15.0)\n",
      "Requirement already satisfied: urllib3!=1.25.0,!=1.25.1,<1.26,>=1.21.1 in /usr/local/lib/python3.7/dist-packages (from requests->transformers<5.0.0,>=4.6.0->sentence-transformers) (1.24.3)\n",
      "Requirement already satisfied: idna<3,>=2.5 in /usr/local/lib/python3.7/dist-packages (from requests->transformers<5.0.0,>=4.6.0->sentence-transformers) (2.10)\n",
      "Requirement already satisfied: certifi>=2017.4.17 in /usr/local/lib/python3.7/dist-packages (from requests->transformers<5.0.0,>=4.6.0->sentence-transformers) (2021.10.8)\n",
      "Requirement already satisfied: chardet<4,>=3.0.2 in /usr/local/lib/python3.7/dist-packages (from requests->transformers<5.0.0,>=4.6.0->sentence-transformers) (3.0.4)\n",
      "Requirement already satisfied: joblib in /usr/local/lib/python3.7/dist-packages (from sacremoses->transformers<5.0.0,>=4.6.0->sentence-transformers) (1.1.0)\n",
      "Requirement already satisfied: click in /usr/local/lib/python3.7/dist-packages (from sacremoses->transformers<5.0.0,>=4.6.0->sentence-transformers) (7.1.2)\n",
      "Requirement already satisfied: threadpoolctl>=2.0.0 in /usr/local/lib/python3.7/dist-packages (from scikit-learn->sentence-transformers) (3.1.0)\n",
      "Requirement already satisfied: pillow!=8.3.*,>=5.3.0 in /usr/local/lib/python3.7/dist-packages (from torchvision->sentence-transformers) (7.1.2)\n"
     ]
    }
   ],
   "source": [
    "!pip install -U sentence-transformers"
   ]
  },
  {
   "cell_type": "code",
   "execution_count": 2,
   "id": "d8aa2842",
   "metadata": {
    "colab": {
     "base_uri": "https://localhost:8080/"
    },
    "executionInfo": {
     "elapsed": 2543,
     "status": "ok",
     "timestamp": 1651927033123,
     "user": {
      "displayName": "Steven George",
      "userId": "07709250839253394649"
     },
     "user_tz": -60
    },
    "id": "d8aa2842",
    "outputId": "8396a5f7-d1aa-42b1-89e5-b8ebd66b2af0"
   },
   "outputs": [
    {
     "name": "stdout",
     "output_type": "stream",
     "text": [
      "Mounted at /content/drive\n"
     ]
    }
   ],
   "source": [
    "from google.colab import drive\n",
    "drive.mount('/content/drive', force_remount=True)"
   ]
  },
  {
   "cell_type": "code",
   "execution_count": 3,
   "id": "4c72404d",
   "metadata": {
    "executionInfo": {
     "elapsed": 4712,
     "status": "ok",
     "timestamp": 1651927037831,
     "user": {
      "displayName": "Steven George",
      "userId": "07709250839253394649"
     },
     "user_tz": -60
    },
    "id": "4c72404d"
   },
   "outputs": [],
   "source": [
    "import os\n",
    "import time\n",
    "\n",
    "import pandas as pd\n",
    "import numpy as np\n",
    "import matplotlib.pyplot as plt\n",
    "import torch\n",
    "import torch.nn as nn\n",
    "from torch.utils.data import DataLoader, IterableDataset\n",
    "from sentence_transformers import SentenceTransformer\n",
    "from tqdm import tqdm"
   ]
  },
  {
   "cell_type": "code",
   "execution_count": 4,
   "id": "351008a4",
   "metadata": {
    "executionInfo": {
     "elapsed": 9,
     "status": "ok",
     "timestamp": 1651927037831,
     "user": {
      "displayName": "Steven George",
      "userId": "07709250839253394649"
     },
     "user_tz": -60
    },
    "id": "351008a4"
   },
   "outputs": [],
   "source": [
    "# os.chdir('..')\n",
    "os.chdir('drive/My Drive/Colab Notebooks/Github/fashion-recommendations') "
   ]
  },
  {
   "cell_type": "code",
   "execution_count": 5,
   "id": "7cc2626d",
   "metadata": {
    "executionInfo": {
     "elapsed": 8,
     "status": "ok",
     "timestamp": 1651927037832,
     "user": {
      "displayName": "Steven George",
      "userId": "07709250839253394649"
     },
     "user_tz": -60
    },
    "id": "7cc2626d"
   },
   "outputs": [],
   "source": [
    "from fashion_recommendations.metrics.average_precision import mapk"
   ]
  },
  {
   "cell_type": "code",
   "execution_count": 6,
   "id": "ad55859f",
   "metadata": {
    "colab": {
     "base_uri": "https://localhost:8080/"
    },
    "executionInfo": {
     "elapsed": 8,
     "status": "ok",
     "timestamp": 1651927037832,
     "user": {
      "displayName": "Steven George",
      "userId": "07709250839253394649"
     },
     "user_tz": -60
    },
    "id": "ad55859f",
    "outputId": "85a851bf-a086-43cf-d8d4-4e2a3c41f62c"
   },
   "outputs": [
    {
     "name": "stdout",
     "output_type": "stream",
     "text": [
      "cuda:0\n"
     ]
    }
   ],
   "source": [
    "device = torch.device(\"cuda:0\" if torch.cuda.is_available() else \"cpu\")\n",
    "print(device)"
   ]
  },
  {
   "cell_type": "code",
   "execution_count": 7,
   "id": "b1755e9c",
   "metadata": {
    "executionInfo": {
     "elapsed": 6,
     "status": "ok",
     "timestamp": 1651927037832,
     "user": {
      "displayName": "Steven George",
      "userId": "07709250839253394649"
     },
     "user_tz": -60
    },
    "id": "b1755e9c"
   },
   "outputs": [],
   "source": [
    "class RecommendationDatasetMultiLabel(IterableDataset):\n",
    "\n",
    "    def __init__(self, dataset_filepath, article_emb_bag, total_articles):\n",
    "        \n",
    "        self.dataset_itr = open(dataset_filepath, 'r')\n",
    "        next(self.dataset_itr)  # skip header\n",
    "        \n",
    "        self.article_emb_bag = article_emb_bag\n",
    "        \n",
    "        self.total_articles = total_articles\n",
    "    \n",
    "    def process_label(self, label_str: str, num_purchases_str: str):\n",
    "        \n",
    "        labels = torch.tensor([int(v) for v in label_str.split(',')])\n",
    "        \n",
    "        num_purchases = torch.tensor([float(v) for v in num_purchases_str.split(',')])\n",
    "        \n",
    "        target = torch.zeros(self.total_articles).scatter_(0, labels, num_purchases)\n",
    "        \n",
    "        target = target / target.sum()  # Normalise\n",
    "\n",
    "        return target\n",
    "    \n",
    "    def mean_historical_purchases_embedding(self, input_str: str):\n",
    "        \n",
    "        indices = torch.tensor([int(v) for v in input_str.split(',')])\n",
    "\n",
    "        mean_emb = self.article_emb_bag(indices.unsqueeze(0)).flatten()\n",
    "            \n",
    "        return mean_emb\n",
    "    \n",
    "    def process_numeric_features(self, fn: str, active: str, age: str, example_age: str):\n",
    "        numeric_features_tensor = torch.tensor([\n",
    "            float(fn),\n",
    "            float(active),\n",
    "            float(age),\n",
    "            float(example_age)\n",
    "        ])\n",
    "\n",
    "        return numeric_features_tensor\n",
    "    \n",
    "    def parse_itr(self, dataset_itr):\n",
    "        \n",
    "        for line in dataset_itr:\n",
    "        \n",
    "            line_items = line.rstrip('\\n').split('\\t')\n",
    "            \n",
    "            customer_id_idx, article_id_idx_last10, article_id_idx_label, fn, active, age, num_purchases, example_age = line_items\n",
    "            \n",
    "            customer_id_idx = int(customer_id_idx)\n",
    "            \n",
    "            numeric_features_tensor = self.process_numeric_features(fn, active, age, example_age)\n",
    "            \n",
    "            mean_emb = self.mean_historical_purchases_embedding(article_id_idx_last10)\n",
    "\n",
    "            label = self.process_label(article_id_idx_label, num_purchases)    \n",
    "            \n",
    "            inputs = torch.concat((mean_emb, numeric_features_tensor))\n",
    "\n",
    "            yield customer_id_idx, inputs, label\n",
    "        \n",
    "    def get_stream(self, dataset_itr):\n",
    "        \n",
    "        return self.parse_itr(dataset_itr)\n",
    "\n",
    "    def __iter__(self):\n",
    "        \n",
    "        return self.get_stream(self.dataset_itr)"
   ]
  },
  {
   "cell_type": "code",
   "execution_count": 8,
   "id": "c007f93a",
   "metadata": {
    "colab": {
     "base_uri": "https://localhost:8080/",
     "height": 224
    },
    "executionInfo": {
     "elapsed": 301,
     "status": "ok",
     "timestamp": 1651927038127,
     "user": {
      "displayName": "Steven George",
      "userId": "07709250839253394649"
     },
     "user_tz": -60
    },
    "id": "c007f93a",
    "outputId": "2e653747-5edc-41d7-d45b-7e228e219d48"
   },
   "outputs": [
    {
     "name": "stdout",
     "output_type": "stream",
     "text": [
      "(40538, 3)\n"
     ]
    },
    {
     "data": {
      "text/html": [
       "\n",
       "  <div id=\"df-05a6501e-90eb-4a1b-84b8-c9a37296902f\">\n",
       "    <div class=\"colab-df-container\">\n",
       "      <div>\n",
       "<style scoped>\n",
       "    .dataframe tbody tr th:only-of-type {\n",
       "        vertical-align: middle;\n",
       "    }\n",
       "\n",
       "    .dataframe tbody tr th {\n",
       "        vertical-align: top;\n",
       "    }\n",
       "\n",
       "    .dataframe thead th {\n",
       "        text-align: right;\n",
       "    }\n",
       "</style>\n",
       "<table border=\"1\" class=\"dataframe\">\n",
       "  <thead>\n",
       "    <tr style=\"text-align: right;\">\n",
       "      <th></th>\n",
       "      <th>article_id</th>\n",
       "      <th>detail_desc</th>\n",
       "      <th>article_id_idx</th>\n",
       "    </tr>\n",
       "  </thead>\n",
       "  <tbody>\n",
       "    <tr>\n",
       "      <th>0</th>\n",
       "      <td>0108775015</td>\n",
       "      <td>Jersey top with narrow shoulder straps.</td>\n",
       "      <td>0</td>\n",
       "    </tr>\n",
       "    <tr>\n",
       "      <th>1</th>\n",
       "      <td>0108775044</td>\n",
       "      <td>Jersey top with narrow shoulder straps.</td>\n",
       "      <td>1</td>\n",
       "    </tr>\n",
       "    <tr>\n",
       "      <th>2</th>\n",
       "      <td>0110065001</td>\n",
       "      <td>Microfibre T-shirt bra with underwired, moulde...</td>\n",
       "      <td>2</td>\n",
       "    </tr>\n",
       "    <tr>\n",
       "      <th>3</th>\n",
       "      <td>0110065002</td>\n",
       "      <td>Microfibre T-shirt bra with underwired, moulde...</td>\n",
       "      <td>3</td>\n",
       "    </tr>\n",
       "    <tr>\n",
       "      <th>4</th>\n",
       "      <td>0110065011</td>\n",
       "      <td>Microfibre T-shirt bra with underwired, moulde...</td>\n",
       "      <td>4</td>\n",
       "    </tr>\n",
       "  </tbody>\n",
       "</table>\n",
       "</div>\n",
       "      <button class=\"colab-df-convert\" onclick=\"convertToInteractive('df-05a6501e-90eb-4a1b-84b8-c9a37296902f')\"\n",
       "              title=\"Convert this dataframe to an interactive table.\"\n",
       "              style=\"display:none;\">\n",
       "        \n",
       "  <svg xmlns=\"http://www.w3.org/2000/svg\" height=\"24px\"viewBox=\"0 0 24 24\"\n",
       "       width=\"24px\">\n",
       "    <path d=\"M0 0h24v24H0V0z\" fill=\"none\"/>\n",
       "    <path d=\"M18.56 5.44l.94 2.06.94-2.06 2.06-.94-2.06-.94-.94-2.06-.94 2.06-2.06.94zm-11 1L8.5 8.5l.94-2.06 2.06-.94-2.06-.94L8.5 2.5l-.94 2.06-2.06.94zm10 10l.94 2.06.94-2.06 2.06-.94-2.06-.94-.94-2.06-.94 2.06-2.06.94z\"/><path d=\"M17.41 7.96l-1.37-1.37c-.4-.4-.92-.59-1.43-.59-.52 0-1.04.2-1.43.59L10.3 9.45l-7.72 7.72c-.78.78-.78 2.05 0 2.83L4 21.41c.39.39.9.59 1.41.59.51 0 1.02-.2 1.41-.59l7.78-7.78 2.81-2.81c.8-.78.8-2.07 0-2.86zM5.41 20L4 18.59l7.72-7.72 1.47 1.35L5.41 20z\"/>\n",
       "  </svg>\n",
       "      </button>\n",
       "      \n",
       "  <style>\n",
       "    .colab-df-container {\n",
       "      display:flex;\n",
       "      flex-wrap:wrap;\n",
       "      gap: 12px;\n",
       "    }\n",
       "\n",
       "    .colab-df-convert {\n",
       "      background-color: #E8F0FE;\n",
       "      border: none;\n",
       "      border-radius: 50%;\n",
       "      cursor: pointer;\n",
       "      display: none;\n",
       "      fill: #1967D2;\n",
       "      height: 32px;\n",
       "      padding: 0 0 0 0;\n",
       "      width: 32px;\n",
       "    }\n",
       "\n",
       "    .colab-df-convert:hover {\n",
       "      background-color: #E2EBFA;\n",
       "      box-shadow: 0px 1px 2px rgba(60, 64, 67, 0.3), 0px 1px 3px 1px rgba(60, 64, 67, 0.15);\n",
       "      fill: #174EA6;\n",
       "    }\n",
       "\n",
       "    [theme=dark] .colab-df-convert {\n",
       "      background-color: #3B4455;\n",
       "      fill: #D2E3FC;\n",
       "    }\n",
       "\n",
       "    [theme=dark] .colab-df-convert:hover {\n",
       "      background-color: #434B5C;\n",
       "      box-shadow: 0px 1px 3px 1px rgba(0, 0, 0, 0.15);\n",
       "      filter: drop-shadow(0px 1px 2px rgba(0, 0, 0, 0.3));\n",
       "      fill: #FFFFFF;\n",
       "    }\n",
       "  </style>\n",
       "\n",
       "      <script>\n",
       "        const buttonEl =\n",
       "          document.querySelector('#df-05a6501e-90eb-4a1b-84b8-c9a37296902f button.colab-df-convert');\n",
       "        buttonEl.style.display =\n",
       "          google.colab.kernel.accessAllowed ? 'block' : 'none';\n",
       "\n",
       "        async function convertToInteractive(key) {\n",
       "          const element = document.querySelector('#df-05a6501e-90eb-4a1b-84b8-c9a37296902f');\n",
       "          const dataTable =\n",
       "            await google.colab.kernel.invokeFunction('convertToInteractive',\n",
       "                                                     [key], {});\n",
       "          if (!dataTable) return;\n",
       "\n",
       "          const docLinkHtml = 'Like what you see? Visit the ' +\n",
       "            '<a target=\"_blank\" href=https://colab.research.google.com/notebooks/data_table.ipynb>data table notebook</a>'\n",
       "            + ' to learn more about interactive tables.';\n",
       "          element.innerHTML = '';\n",
       "          dataTable['output_type'] = 'display_data';\n",
       "          await google.colab.output.renderOutput(dataTable, element);\n",
       "          const docLink = document.createElement('div');\n",
       "          docLink.innerHTML = docLinkHtml;\n",
       "          element.appendChild(docLink);\n",
       "        }\n",
       "      </script>\n",
       "    </div>\n",
       "  </div>\n",
       "  "
      ],
      "text/plain": [
       "   article_id                                        detail_desc  \\\n",
       "0  0108775015            Jersey top with narrow shoulder straps.   \n",
       "1  0108775044            Jersey top with narrow shoulder straps.   \n",
       "2  0110065001  Microfibre T-shirt bra with underwired, moulde...   \n",
       "3  0110065002  Microfibre T-shirt bra with underwired, moulde...   \n",
       "4  0110065011  Microfibre T-shirt bra with underwired, moulde...   \n",
       "\n",
       "   article_id_idx  \n",
       "0               0  \n",
       "1               1  \n",
       "2               2  \n",
       "3               3  \n",
       "4               4  "
      ]
     },
     "execution_count": 8,
     "metadata": {},
     "output_type": "execute_result"
    }
   ],
   "source": [
    "articles_df = pd.read_csv('data/articles_df_filt_with_counts_and_age.csv', dtype={'article_id': str})\n",
    "print(articles_df.shape)\n",
    "articles_df.head()"
   ]
  },
  {
   "cell_type": "code",
   "execution_count": 9,
   "id": "ffff713d",
   "metadata": {
    "colab": {
     "base_uri": "https://localhost:8080/",
     "height": 224
    },
    "executionInfo": {
     "elapsed": 8,
     "status": "ok",
     "timestamp": 1651927038127,
     "user": {
      "displayName": "Steven George",
      "userId": "07709250839253394649"
     },
     "user_tz": -60
    },
    "id": "ffff713d",
    "outputId": "4b544900-3391-454b-ca82-2f971233a62f"
   },
   "outputs": [
    {
     "name": "stdout",
     "output_type": "stream",
     "text": [
      "(43108, 5)\n"
     ]
    },
    {
     "data": {
      "text/html": [
       "\n",
       "  <div id=\"df-af917fff-3079-42ef-8c15-4ed7b5decc31\">\n",
       "    <div class=\"colab-df-container\">\n",
       "      <div>\n",
       "<style scoped>\n",
       "    .dataframe tbody tr th:only-of-type {\n",
       "        vertical-align: middle;\n",
       "    }\n",
       "\n",
       "    .dataframe tbody tr th {\n",
       "        vertical-align: top;\n",
       "    }\n",
       "\n",
       "    .dataframe thead th {\n",
       "        text-align: right;\n",
       "    }\n",
       "</style>\n",
       "<table border=\"1\" class=\"dataframe\">\n",
       "  <thead>\n",
       "    <tr style=\"text-align: right;\">\n",
       "      <th></th>\n",
       "      <th>customer_id</th>\n",
       "      <th>FN</th>\n",
       "      <th>Active</th>\n",
       "      <th>age</th>\n",
       "      <th>customer_id_idx</th>\n",
       "    </tr>\n",
       "  </thead>\n",
       "  <tbody>\n",
       "    <tr>\n",
       "      <th>0</th>\n",
       "      <td>000172a9c322560c849754ffbdfdb2180d408aa7176b94...</td>\n",
       "      <td>0.0</td>\n",
       "      <td>0.0</td>\n",
       "      <td>0.45</td>\n",
       "      <td>0</td>\n",
       "    </tr>\n",
       "    <tr>\n",
       "      <th>1</th>\n",
       "      <td>0001d44dbe7f6c4b35200abdb052c77a87596fe1bdcc37...</td>\n",
       "      <td>1.0</td>\n",
       "      <td>1.0</td>\n",
       "      <td>0.44</td>\n",
       "      <td>1</td>\n",
       "    </tr>\n",
       "    <tr>\n",
       "      <th>2</th>\n",
       "      <td>0001f8cef6b9702d54abf66fd89eb21014bf98567065a9...</td>\n",
       "      <td>0.0</td>\n",
       "      <td>0.0</td>\n",
       "      <td>0.21</td>\n",
       "      <td>2</td>\n",
       "    </tr>\n",
       "    <tr>\n",
       "      <th>3</th>\n",
       "      <td>0003e867a930d0d6842f923d6ba7c9b77aba33fe2a0fbf...</td>\n",
       "      <td>1.0</td>\n",
       "      <td>1.0</td>\n",
       "      <td>0.33</td>\n",
       "      <td>3</td>\n",
       "    </tr>\n",
       "    <tr>\n",
       "      <th>4</th>\n",
       "      <td>0005340aa69bb5a28d98712a36d8f669024bce137e3c82...</td>\n",
       "      <td>0.0</td>\n",
       "      <td>0.0</td>\n",
       "      <td>0.21</td>\n",
       "      <td>4</td>\n",
       "    </tr>\n",
       "  </tbody>\n",
       "</table>\n",
       "</div>\n",
       "      <button class=\"colab-df-convert\" onclick=\"convertToInteractive('df-af917fff-3079-42ef-8c15-4ed7b5decc31')\"\n",
       "              title=\"Convert this dataframe to an interactive table.\"\n",
       "              style=\"display:none;\">\n",
       "        \n",
       "  <svg xmlns=\"http://www.w3.org/2000/svg\" height=\"24px\"viewBox=\"0 0 24 24\"\n",
       "       width=\"24px\">\n",
       "    <path d=\"M0 0h24v24H0V0z\" fill=\"none\"/>\n",
       "    <path d=\"M18.56 5.44l.94 2.06.94-2.06 2.06-.94-2.06-.94-.94-2.06-.94 2.06-2.06.94zm-11 1L8.5 8.5l.94-2.06 2.06-.94-2.06-.94L8.5 2.5l-.94 2.06-2.06.94zm10 10l.94 2.06.94-2.06 2.06-.94-2.06-.94-.94-2.06-.94 2.06-2.06.94z\"/><path d=\"M17.41 7.96l-1.37-1.37c-.4-.4-.92-.59-1.43-.59-.52 0-1.04.2-1.43.59L10.3 9.45l-7.72 7.72c-.78.78-.78 2.05 0 2.83L4 21.41c.39.39.9.59 1.41.59.51 0 1.02-.2 1.41-.59l7.78-7.78 2.81-2.81c.8-.78.8-2.07 0-2.86zM5.41 20L4 18.59l7.72-7.72 1.47 1.35L5.41 20z\"/>\n",
       "  </svg>\n",
       "      </button>\n",
       "      \n",
       "  <style>\n",
       "    .colab-df-container {\n",
       "      display:flex;\n",
       "      flex-wrap:wrap;\n",
       "      gap: 12px;\n",
       "    }\n",
       "\n",
       "    .colab-df-convert {\n",
       "      background-color: #E8F0FE;\n",
       "      border: none;\n",
       "      border-radius: 50%;\n",
       "      cursor: pointer;\n",
       "      display: none;\n",
       "      fill: #1967D2;\n",
       "      height: 32px;\n",
       "      padding: 0 0 0 0;\n",
       "      width: 32px;\n",
       "    }\n",
       "\n",
       "    .colab-df-convert:hover {\n",
       "      background-color: #E2EBFA;\n",
       "      box-shadow: 0px 1px 2px rgba(60, 64, 67, 0.3), 0px 1px 3px 1px rgba(60, 64, 67, 0.15);\n",
       "      fill: #174EA6;\n",
       "    }\n",
       "\n",
       "    [theme=dark] .colab-df-convert {\n",
       "      background-color: #3B4455;\n",
       "      fill: #D2E3FC;\n",
       "    }\n",
       "\n",
       "    [theme=dark] .colab-df-convert:hover {\n",
       "      background-color: #434B5C;\n",
       "      box-shadow: 0px 1px 3px 1px rgba(0, 0, 0, 0.15);\n",
       "      filter: drop-shadow(0px 1px 2px rgba(0, 0, 0, 0.3));\n",
       "      fill: #FFFFFF;\n",
       "    }\n",
       "  </style>\n",
       "\n",
       "      <script>\n",
       "        const buttonEl =\n",
       "          document.querySelector('#df-af917fff-3079-42ef-8c15-4ed7b5decc31 button.colab-df-convert');\n",
       "        buttonEl.style.display =\n",
       "          google.colab.kernel.accessAllowed ? 'block' : 'none';\n",
       "\n",
       "        async function convertToInteractive(key) {\n",
       "          const element = document.querySelector('#df-af917fff-3079-42ef-8c15-4ed7b5decc31');\n",
       "          const dataTable =\n",
       "            await google.colab.kernel.invokeFunction('convertToInteractive',\n",
       "                                                     [key], {});\n",
       "          if (!dataTable) return;\n",
       "\n",
       "          const docLinkHtml = 'Like what you see? Visit the ' +\n",
       "            '<a target=\"_blank\" href=https://colab.research.google.com/notebooks/data_table.ipynb>data table notebook</a>'\n",
       "            + ' to learn more about interactive tables.';\n",
       "          element.innerHTML = '';\n",
       "          dataTable['output_type'] = 'display_data';\n",
       "          await google.colab.output.renderOutput(dataTable, element);\n",
       "          const docLink = document.createElement('div');\n",
       "          docLink.innerHTML = docLinkHtml;\n",
       "          element.appendChild(docLink);\n",
       "        }\n",
       "      </script>\n",
       "    </div>\n",
       "  </div>\n",
       "  "
      ],
      "text/plain": [
       "                                         customer_id   FN  Active   age  \\\n",
       "0  000172a9c322560c849754ffbdfdb2180d408aa7176b94...  0.0     0.0  0.45   \n",
       "1  0001d44dbe7f6c4b35200abdb052c77a87596fe1bdcc37...  1.0     1.0  0.44   \n",
       "2  0001f8cef6b9702d54abf66fd89eb21014bf98567065a9...  0.0     0.0  0.21   \n",
       "3  0003e867a930d0d6842f923d6ba7c9b77aba33fe2a0fbf...  1.0     1.0  0.33   \n",
       "4  0005340aa69bb5a28d98712a36d8f669024bce137e3c82...  0.0     0.0  0.21   \n",
       "\n",
       "   customer_id_idx  \n",
       "0                0  \n",
       "1                1  \n",
       "2                2  \n",
       "3                3  \n",
       "4                4  "
      ]
     },
     "execution_count": 9,
     "metadata": {},
     "output_type": "execute_result"
    }
   ],
   "source": [
    "customers = pd.read_csv('data/customers_filt_with_counts_and_age.csv')\n",
    "print(customers.shape)\n",
    "customers.head()"
   ]
  },
  {
   "cell_type": "markdown",
   "id": "a6d2b669",
   "metadata": {
    "id": "a6d2b669"
   },
   "source": [
    "### Create article EmbeddingBag"
   ]
  },
  {
   "cell_type": "code",
   "execution_count": 10,
   "id": "c8660120",
   "metadata": {
    "executionInfo": {
     "elapsed": 3230,
     "status": "ok",
     "timestamp": 1651927041352,
     "user": {
      "displayName": "Steven George",
      "userId": "07709250839253394649"
     },
     "user_tz": -60
    },
    "id": "c8660120"
   },
   "outputs": [],
   "source": [
    "model = SentenceTransformer('all-distilroberta-v1')"
   ]
  },
  {
   "cell_type": "code",
   "execution_count": 11,
   "id": "7190589e",
   "metadata": {
    "colab": {
     "base_uri": "https://localhost:8080/"
    },
    "executionInfo": {
     "elapsed": 8,
     "status": "ok",
     "timestamp": 1651927041352,
     "user": {
      "displayName": "Steven George",
      "userId": "07709250839253394649"
     },
     "user_tz": -60
    },
    "id": "7190589e",
    "outputId": "fc757e84-d7a7-4b6b-c55f-eabbe1aba3fd"
   },
   "outputs": [
    {
     "data": {
      "text/plain": [
       "['Jersey top with narrow shoulder straps.',\n",
       " 'Jersey top with narrow shoulder straps.',\n",
       " 'Microfibre T-shirt bra with underwired, moulded, lightly padded cups that shape the bust and provide good support. Narrow adjustable shoulder straps and a narrow hook-and-eye fastening at the back. Without visible seams for greater comfort.',\n",
       " 'Microfibre T-shirt bra with underwired, moulded, lightly padded cups that shape the bust and provide good support. Narrow adjustable shoulder straps and a narrow hook-and-eye fastening at the back. Without visible seams for greater comfort.',\n",
       " 'Microfibre T-shirt bra with underwired, moulded, lightly padded cups that shape the bust and provide good support. Narrow adjustable shoulder straps and a narrow hook-and-eye fastening at the back. Without visible seams for greater comfort.']"
      ]
     },
     "execution_count": 11,
     "metadata": {},
     "output_type": "execute_result"
    }
   ],
   "source": [
    "article_descriptions = articles_df['detail_desc'].to_list()\n",
    "article_descriptions[:5]"
   ]
  },
  {
   "cell_type": "code",
   "execution_count": 12,
   "id": "8e8fbe49",
   "metadata": {
    "colab": {
     "base_uri": "https://localhost:8080/"
    },
    "executionInfo": {
     "elapsed": 4728,
     "status": "ok",
     "timestamp": 1651927046077,
     "user": {
      "displayName": "Steven George",
      "userId": "07709250839253394649"
     },
     "user_tz": -60
    },
    "id": "8e8fbe49",
    "outputId": "c35fd0df-0654-4121-e69a-f5fc5e879004"
   },
   "outputs": [
    {
     "data": {
      "text/plain": [
       "(768,)"
      ]
     },
     "execution_count": 12,
     "metadata": {},
     "output_type": "execute_result"
    }
   ],
   "source": [
    "model.encode(article_descriptions[0]).shape"
   ]
  },
  {
   "cell_type": "code",
   "execution_count": 13,
   "id": "bac79146",
   "metadata": {
    "executionInfo": {
     "elapsed": 32311,
     "status": "ok",
     "timestamp": 1651927078385,
     "user": {
      "displayName": "Steven George",
      "userId": "07709250839253394649"
     },
     "user_tz": -60
    },
    "id": "bac79146"
   },
   "outputs": [],
   "source": [
    "embeddings = model.encode(article_descriptions)"
   ]
  },
  {
   "cell_type": "code",
   "execution_count": 14,
   "id": "4a5f520c",
   "metadata": {
    "executionInfo": {
     "elapsed": 20,
     "status": "ok",
     "timestamp": 1651927078385,
     "user": {
      "displayName": "Steven George",
      "userId": "07709250839253394649"
     },
     "user_tz": -60
    },
    "id": "4a5f520c"
   },
   "outputs": [],
   "source": [
    "embeddings = torch.tensor(embeddings)"
   ]
  },
  {
   "cell_type": "code",
   "execution_count": 15,
   "id": "4dede476",
   "metadata": {
    "colab": {
     "base_uri": "https://localhost:8080/"
    },
    "executionInfo": {
     "elapsed": 20,
     "status": "ok",
     "timestamp": 1651927078387,
     "user": {
      "displayName": "Steven George",
      "userId": "07709250839253394649"
     },
     "user_tz": -60
    },
    "id": "4dede476",
    "outputId": "81caeb80-a064-427e-eb3f-6939eec48887"
   },
   "outputs": [
    {
     "data": {
      "text/plain": [
       "torch.Size([40538, 768])"
      ]
     },
     "execution_count": 15,
     "metadata": {},
     "output_type": "execute_result"
    }
   ],
   "source": [
    "embeddings.shape"
   ]
  },
  {
   "cell_type": "code",
   "execution_count": 16,
   "id": "6ec010f7",
   "metadata": {
    "executionInfo": {
     "elapsed": 17,
     "status": "ok",
     "timestamp": 1651927078387,
     "user": {
      "displayName": "Steven George",
      "userId": "07709250839253394649"
     },
     "user_tz": -60
    },
    "id": "6ec010f7"
   },
   "outputs": [],
   "source": [
    "ARTICLE_EMBEDDING_BAG = nn.EmbeddingBag.from_pretrained(embeddings=embeddings, freeze=True)"
   ]
  },
  {
   "cell_type": "markdown",
   "id": "edda8cc3",
   "metadata": {
    "id": "edda8cc3"
   },
   "source": [
    "### Model"
   ]
  },
  {
   "cell_type": "code",
   "execution_count": 17,
   "id": "74ca968c",
   "metadata": {
    "executionInfo": {
     "elapsed": 17,
     "status": "ok",
     "timestamp": 1651927078387,
     "user": {
      "displayName": "Steven George",
      "userId": "07709250839253394649"
     },
     "user_tz": -60
    },
    "id": "74ca968c"
   },
   "outputs": [],
   "source": [
    "class FashionRecV3(nn.Module):\n",
    "\n",
    "    def __init__(self, user_embedding_dim):\n",
    "        super(FashionRecV3, self).__init__()\n",
    "        \n",
    "        # Embeddings\n",
    "        self.user_embeddings = nn.Embedding(num_embeddings=len(customers), embedding_dim=user_embedding_dim)        \n",
    "        \n",
    "        # Initialise embeddings\n",
    "        torch.nn.init.xavier_uniform_(self.user_embeddings.weight)\n",
    "        \n",
    "        # FC layers\n",
    "        self.fc_1 = nn.Linear(in_features=user_embedding_dim+768+4, out_features=2048)            \n",
    "        self.fc_2 = nn.Linear(in_features=2048, out_features=1024)\n",
    "        # self.fc_3 = nn.Linear(in_features=1024, out_features=512)\n",
    "        self.fc_3 = nn.Linear(in_features=1024, out_features=len(articles_df))\n",
    "        \n",
    "        # Activation functions\n",
    "        self.relu = nn.ReLU()\n",
    "        \n",
    "        # Dropout\n",
    "        self.dropout = nn.Dropout(0.01)\n",
    "        \n",
    "    def forward(\n",
    "        self, \n",
    "        customer_id_idx, \n",
    "        inputs\n",
    "    ):\n",
    "\n",
    "        user_emb = self.user_embeddings(customer_id_idx)\n",
    "              \n",
    "        concatenated_features = torch.concat(\n",
    "            [\n",
    "                user_emb, \n",
    "                inputs\n",
    "            ], \n",
    "            dim=1\n",
    "        )\n",
    "        \n",
    "        x = self.fc_1(concatenated_features)\n",
    "        x = self.relu(x)\n",
    "        x = self.dropout(x)\n",
    "        \n",
    "        x = self.fc_2(x)\n",
    "        x = self.relu(x)\n",
    "        x = self.dropout(x)\n",
    "\n",
    "        x = self.fc_3(x)\n",
    "        # x = self.relu(x)\n",
    "        # x = self.dropout(x)\n",
    "        \n",
    "        # x = self.fc_4(x)\n",
    "\n",
    "        return x"
   ]
  },
  {
   "cell_type": "code",
   "execution_count": 18,
   "id": "5b403fcc",
   "metadata": {
    "executionInfo": {
     "elapsed": 727,
     "status": "ok",
     "timestamp": 1651927079098,
     "user": {
      "displayName": "Steven George",
      "userId": "07709250839253394649"
     },
     "user_tz": -60
    },
    "id": "5b403fcc"
   },
   "outputs": [],
   "source": [
    "fashion_rec_v3 = FashionRecV3(user_embedding_dim=384)"
   ]
  },
  {
   "cell_type": "code",
   "execution_count": 19,
   "id": "84530ede",
   "metadata": {
    "colab": {
     "base_uri": "https://localhost:8080/"
    },
    "executionInfo": {
     "elapsed": 13,
     "status": "ok",
     "timestamp": 1651927079099,
     "user": {
      "displayName": "Steven George",
      "userId": "07709250839253394649"
     },
     "user_tz": -60
    },
    "id": "84530ede",
    "outputId": "0150fe4e-6941-47d1-a08f-264442a506f5"
   },
   "outputs": [
    {
     "data": {
      "text/plain": [
       "FashionRecV3(\n",
       "  (user_embeddings): Embedding(43108, 384)\n",
       "  (fc_1): Linear(in_features=1156, out_features=2048, bias=True)\n",
       "  (fc_2): Linear(in_features=2048, out_features=1024, bias=True)\n",
       "  (fc_3): Linear(in_features=1024, out_features=40538, bias=True)\n",
       "  (relu): ReLU()\n",
       "  (dropout): Dropout(p=0.01, inplace=False)\n",
       ")"
      ]
     },
     "execution_count": 19,
     "metadata": {},
     "output_type": "execute_result"
    }
   ],
   "source": [
    "fashion_rec_v3.to(device)"
   ]
  },
  {
   "cell_type": "code",
   "execution_count": 20,
   "id": "620178cf",
   "metadata": {
    "executionInfo": {
     "elapsed": 5,
     "status": "ok",
     "timestamp": 1651927079099,
     "user": {
      "displayName": "Steven George",
      "userId": "07709250839253394649"
     },
     "user_tz": -60
    },
    "id": "620178cf"
   },
   "outputs": [],
   "source": [
    "BATCH_SIZE = 1024"
   ]
  },
  {
   "cell_type": "code",
   "execution_count": 21,
   "id": "f1729012",
   "metadata": {
    "colab": {
     "base_uri": "https://localhost:8080/"
    },
    "executionInfo": {
     "elapsed": 6,
     "status": "ok",
     "timestamp": 1651927079100,
     "user": {
      "displayName": "Steven George",
      "userId": "07709250839253394649"
     },
     "user_tz": -60
    },
    "id": "f1729012",
    "outputId": "cecfc50a-fbf3-40ee-fe76-eda3c1dad89b"
   },
   "outputs": [
    {
     "data": {
      "text/plain": [
       "43.0"
      ]
     },
     "execution_count": 21,
     "metadata": {},
     "output_type": "execute_result"
    }
   ],
   "source": [
    "total_training_examples = pd.read_csv('data/final_train_set_with_counts_and_age.tsv', sep='\\t').shape[0]\n",
    "total_batches = np.ceil(total_training_examples/BATCH_SIZE)\n",
    "total_batches"
   ]
  },
  {
   "cell_type": "code",
   "execution_count": 22,
   "id": "2da46b17",
   "metadata": {
    "colab": {
     "base_uri": "https://localhost:8080/"
    },
    "executionInfo": {
     "elapsed": 286,
     "status": "ok",
     "timestamp": 1651927079382,
     "user": {
      "displayName": "Steven George",
      "userId": "07709250839253394649"
     },
     "user_tz": -60
    },
    "id": "2da46b17",
    "outputId": "8f34d6cc-a004-4fec-b0e1-458df6c97be3"
   },
   "outputs": [
    {
     "data": {
      "text/plain": [
       "9.0"
      ]
     },
     "execution_count": 22,
     "metadata": {},
     "output_type": "execute_result"
    }
   ],
   "source": [
    "total_dev_examples = pd.read_csv('data/final_dev_set_with_counts_and_age.tsv', sep='\\t').shape[0]\n",
    "total_dev_batches = np.ceil(total_dev_examples/BATCH_SIZE)\n",
    "total_dev_batches"
   ]
  },
  {
   "cell_type": "code",
   "execution_count": 23,
   "id": "e9e3bd3b",
   "metadata": {
    "executionInfo": {
     "elapsed": 5,
     "status": "ok",
     "timestamp": 1651927079382,
     "user": {
      "displayName": "Steven George",
      "userId": "07709250839253394649"
     },
     "user_tz": -60
    },
    "id": "e9e3bd3b"
   },
   "outputs": [],
   "source": [
    "criterion = nn.CrossEntropyLoss()\n",
    "optimizer = torch.optim.Adam(params=fashion_rec_v3.parameters(), lr=0.001)"
   ]
  },
  {
   "cell_type": "code",
   "execution_count": 232,
   "id": "d737e112",
   "metadata": {
    "colab": {
     "base_uri": "https://localhost:8080/"
    },
    "executionInfo": {
     "elapsed": 887015,
     "status": "ok",
     "timestamp": 1651939654340,
     "user": {
      "displayName": "Steven George",
      "userId": "07709250839253394649"
     },
     "user_tz": -60
    },
    "id": "d737e112",
    "outputId": "4852a05e-2292-4edd-a217-a43acb674ac9"
   },
   "outputs": [
    {
     "name": "stderr",
     "output_type": "stream",
     "text": [
      "100%|██████████| 43/43.0 [00:15<00:00,  2.72it/s]\n",
      "100%|██████████| 43/43.0 [00:16<00:00,  2.60it/s]\n"
     ]
    },
    {
     "name": "stdout",
     "output_type": "stream",
     "text": [
      "Training loss: 0.8773024855379471\n"
     ]
    },
    {
     "name": "stderr",
     "output_type": "stream",
     "text": [
      "100%|██████████| 9/9.0 [00:03<00:00,  2.61it/s]\n"
     ]
    },
    {
     "name": "stdout",
     "output_type": "stream",
     "text": [
      "Dev loss: 4.146793371334411\n"
     ]
    },
    {
     "name": "stderr",
     "output_type": "stream",
     "text": [
      "100%|██████████| 43/43.0 [00:15<00:00,  2.71it/s]\n",
      "100%|██████████| 43/43.0 [00:16<00:00,  2.64it/s]\n"
     ]
    },
    {
     "name": "stdout",
     "output_type": "stream",
     "text": [
      "Training loss: 0.8848911305576482\n"
     ]
    },
    {
     "name": "stderr",
     "output_type": "stream",
     "text": [
      "100%|██████████| 9/9.0 [00:03<00:00,  2.63it/s]\n"
     ]
    },
    {
     "name": "stdout",
     "output_type": "stream",
     "text": [
      "Dev loss: 4.182663032464814\n"
     ]
    },
    {
     "name": "stderr",
     "output_type": "stream",
     "text": [
      "100%|██████████| 43/43.0 [00:15<00:00,  2.75it/s]\n",
      "100%|██████████| 43/43.0 [00:16<00:00,  2.67it/s]\n"
     ]
    },
    {
     "name": "stdout",
     "output_type": "stream",
     "text": [
      "Training loss: 0.8870300189610524\n"
     ]
    },
    {
     "name": "stderr",
     "output_type": "stream",
     "text": [
      "100%|██████████| 9/9.0 [00:03<00:00,  2.62it/s]\n"
     ]
    },
    {
     "name": "stdout",
     "output_type": "stream",
     "text": [
      "Dev loss: 4.192773032606694\n"
     ]
    },
    {
     "name": "stderr",
     "output_type": "stream",
     "text": [
      "100%|██████████| 43/43.0 [00:15<00:00,  2.74it/s]\n",
      "100%|██████████| 43/43.0 [00:16<00:00,  2.65it/s]\n"
     ]
    },
    {
     "name": "stdout",
     "output_type": "stream",
     "text": [
      "Training loss: 0.8866744656017255\n"
     ]
    },
    {
     "name": "stderr",
     "output_type": "stream",
     "text": [
      "100%|██████████| 9/9.0 [00:03<00:00,  2.49it/s]\n"
     ]
    },
    {
     "name": "stdout",
     "output_type": "stream",
     "text": [
      "Dev loss: 4.191092419206051\n"
     ]
    },
    {
     "name": "stderr",
     "output_type": "stream",
     "text": [
      "100%|██████████| 43/43.0 [00:15<00:00,  2.74it/s]\n",
      "100%|██████████| 43/43.0 [00:16<00:00,  2.67it/s]\n"
     ]
    },
    {
     "name": "stdout",
     "output_type": "stream",
     "text": [
      "Training loss: 0.88709252573314\n"
     ]
    },
    {
     "name": "stderr",
     "output_type": "stream",
     "text": [
      "100%|██████████| 9/9.0 [00:03<00:00,  2.61it/s]\n"
     ]
    },
    {
     "name": "stdout",
     "output_type": "stream",
     "text": [
      "Dev loss: 4.193068486765811\n"
     ]
    },
    {
     "name": "stderr",
     "output_type": "stream",
     "text": [
      "100%|██████████| 43/43.0 [00:15<00:00,  2.70it/s]\n",
      "100%|██████████| 43/43.0 [00:16<00:00,  2.67it/s]\n"
     ]
    },
    {
     "name": "stdout",
     "output_type": "stream",
     "text": [
      "Training loss: 0.8841781166673448\n"
     ]
    },
    {
     "name": "stderr",
     "output_type": "stream",
     "text": [
      "100%|██████████| 9/9.0 [00:03<00:00,  2.51it/s]\n"
     ]
    },
    {
     "name": "stdout",
     "output_type": "stream",
     "text": [
      "Dev loss: 4.179292790931568\n"
     ]
    },
    {
     "name": "stderr",
     "output_type": "stream",
     "text": [
      "100%|██████████| 43/43.0 [00:15<00:00,  2.74it/s]\n",
      "100%|██████████| 43/43.0 [00:16<00:00,  2.67it/s]\n"
     ]
    },
    {
     "name": "stdout",
     "output_type": "stream",
     "text": [
      "Training loss: 0.8887867031573498\n"
     ]
    },
    {
     "name": "stderr",
     "output_type": "stream",
     "text": [
      "100%|██████████| 9/9.0 [00:03<00:00,  2.63it/s]\n"
     ]
    },
    {
     "name": "stdout",
     "output_type": "stream",
     "text": [
      "Dev loss: 4.201076447336297\n"
     ]
    },
    {
     "name": "stderr",
     "output_type": "stream",
     "text": [
      "100%|██████████| 43/43.0 [00:15<00:00,  2.74it/s]\n",
      "100%|██████████| 43/43.0 [00:16<00:00,  2.68it/s]\n"
     ]
    },
    {
     "name": "stdout",
     "output_type": "stream",
     "text": [
      "Training loss: 0.8870875910857817\n"
     ]
    },
    {
     "name": "stderr",
     "output_type": "stream",
     "text": [
      "100%|██████████| 9/9.0 [00:03<00:00,  2.60it/s]\n"
     ]
    },
    {
     "name": "stdout",
     "output_type": "stream",
     "text": [
      "Dev loss: 4.193045161899767\n"
     ]
    },
    {
     "name": "stderr",
     "output_type": "stream",
     "text": [
      "100%|██████████| 43/43.0 [00:15<00:00,  2.75it/s]\n",
      "100%|██████████| 43/43.0 [00:16<00:00,  2.67it/s]\n"
     ]
    },
    {
     "name": "stdout",
     "output_type": "stream",
     "text": [
      "Training loss: 0.8888995160062757\n"
     ]
    },
    {
     "name": "stderr",
     "output_type": "stream",
     "text": [
      "100%|██████████| 9/9.0 [00:03<00:00,  2.57it/s]\n"
     ]
    },
    {
     "name": "stdout",
     "output_type": "stream",
     "text": [
      "Dev loss: 4.201609685964752\n"
     ]
    },
    {
     "name": "stderr",
     "output_type": "stream",
     "text": [
      "100%|██████████| 43/43.0 [00:16<00:00,  2.69it/s]\n",
      "100%|██████████| 43/43.0 [00:16<00:00,  2.65it/s]\n"
     ]
    },
    {
     "name": "stdout",
     "output_type": "stream",
     "text": [
      "Training loss: 0.8876080027623887\n"
     ]
    },
    {
     "name": "stderr",
     "output_type": "stream",
     "text": [
      "100%|██████████| 9/9.0 [00:03<00:00,  2.61it/s]\n"
     ]
    },
    {
     "name": "stdout",
     "output_type": "stream",
     "text": [
      "Dev loss: 4.195505020074677\n"
     ]
    },
    {
     "name": "stderr",
     "output_type": "stream",
     "text": [
      "100%|██████████| 43/43.0 [00:15<00:00,  2.72it/s]\n",
      "100%|██████████| 43/43.0 [00:16<00:00,  2.67it/s]\n"
     ]
    },
    {
     "name": "stdout",
     "output_type": "stream",
     "text": [
      "Training loss: 0.8879286663490444\n"
     ]
    },
    {
     "name": "stderr",
     "output_type": "stream",
     "text": [
      "100%|██████████| 9/9.0 [00:03<00:00,  2.67it/s]\n"
     ]
    },
    {
     "name": "stdout",
     "output_type": "stream",
     "text": [
      "Dev loss: 4.1970207180893215\n"
     ]
    },
    {
     "name": "stderr",
     "output_type": "stream",
     "text": [
      "100%|██████████| 43/43.0 [00:15<00:00,  2.74it/s]\n",
      "100%|██████████| 43/43.0 [00:16<00:00,  2.63it/s]\n"
     ]
    },
    {
     "name": "stdout",
     "output_type": "stream",
     "text": [
      "Training loss: 0.8880458664360942\n"
     ]
    },
    {
     "name": "stderr",
     "output_type": "stream",
     "text": [
      "100%|██████████| 9/9.0 [00:03<00:00,  2.61it/s]\n"
     ]
    },
    {
     "name": "stdout",
     "output_type": "stream",
     "text": [
      "Dev loss: 4.197574694114819\n"
     ]
    },
    {
     "name": "stderr",
     "output_type": "stream",
     "text": [
      "100%|██████████| 43/43.0 [00:15<00:00,  2.74it/s]\n",
      "100%|██████████| 43/43.0 [00:16<00:00,  2.62it/s]\n"
     ]
    },
    {
     "name": "stdout",
     "output_type": "stream",
     "text": [
      "Training loss: 0.8877326333147814\n"
     ]
    },
    {
     "name": "stderr",
     "output_type": "stream",
     "text": [
      "100%|██████████| 9/9.0 [00:03<00:00,  2.61it/s]\n"
     ]
    },
    {
     "name": "stdout",
     "output_type": "stream",
     "text": [
      "Dev loss: 4.196094118084824\n"
     ]
    },
    {
     "name": "stderr",
     "output_type": "stream",
     "text": [
      "100%|██████████| 43/43.0 [00:15<00:00,  2.71it/s]\n",
      "100%|██████████| 43/43.0 [00:16<00:00,  2.67it/s]\n"
     ]
    },
    {
     "name": "stdout",
     "output_type": "stream",
     "text": [
      "Training loss: 0.8871148912851561\n"
     ]
    },
    {
     "name": "stderr",
     "output_type": "stream",
     "text": [
      "100%|██████████| 9/9.0 [00:03<00:00,  2.64it/s]\n"
     ]
    },
    {
     "name": "stdout",
     "output_type": "stream",
     "text": [
      "Dev loss: 4.1931742032368975\n"
     ]
    },
    {
     "name": "stderr",
     "output_type": "stream",
     "text": [
      "100%|██████████| 43/43.0 [00:15<00:00,  2.75it/s]\n",
      "100%|██████████| 43/43.0 [00:16<00:00,  2.68it/s]\n"
     ]
    },
    {
     "name": "stdout",
     "output_type": "stream",
     "text": [
      "Training loss: 0.8856467253823133\n"
     ]
    },
    {
     "name": "stderr",
     "output_type": "stream",
     "text": [
      "100%|██████████| 9/9.0 [00:03<00:00,  2.67it/s]\n"
     ]
    },
    {
     "name": "stdout",
     "output_type": "stream",
     "text": [
      "Dev loss: 4.186234543616312\n"
     ]
    },
    {
     "name": "stderr",
     "output_type": "stream",
     "text": [
      "100%|██████████| 43/43.0 [00:15<00:00,  2.73it/s]\n",
      "100%|██████████| 43/43.0 [00:16<00:00,  2.63it/s]\n"
     ]
    },
    {
     "name": "stdout",
     "output_type": "stream",
     "text": [
      "Training loss: 0.8852776919157239\n"
     ]
    },
    {
     "name": "stderr",
     "output_type": "stream",
     "text": [
      "100%|██████████| 9/9.0 [00:03<00:00,  2.60it/s]\n"
     ]
    },
    {
     "name": "stdout",
     "output_type": "stream",
     "text": [
      "Dev loss: 4.184490213059543\n"
     ]
    },
    {
     "name": "stderr",
     "output_type": "stream",
     "text": [
      "100%|██████████| 43/43.0 [00:15<00:00,  2.72it/s]\n",
      "100%|██████████| 43/43.0 [00:16<00:00,  2.63it/s]\n"
     ]
    },
    {
     "name": "stdout",
     "output_type": "stream",
     "text": [
      "Training loss: 0.883890560631895\n"
     ]
    },
    {
     "name": "stderr",
     "output_type": "stream",
     "text": [
      "100%|██████████| 9/9.0 [00:03<00:00,  2.65it/s]\n"
     ]
    },
    {
     "name": "stdout",
     "output_type": "stream",
     "text": [
      "Dev loss: 4.177933584179795\n"
     ]
    },
    {
     "name": "stderr",
     "output_type": "stream",
     "text": [
      "100%|██████████| 43/43.0 [00:15<00:00,  2.76it/s]\n",
      "100%|██████████| 43/43.0 [00:16<00:00,  2.66it/s]\n"
     ]
    },
    {
     "name": "stdout",
     "output_type": "stream",
     "text": [
      "Training loss: 0.8851154441015834\n"
     ]
    },
    {
     "name": "stderr",
     "output_type": "stream",
     "text": [
      "100%|██████████| 9/9.0 [00:03<00:00,  2.64it/s]\n"
     ]
    },
    {
     "name": "stdout",
     "output_type": "stream",
     "text": [
      "Dev loss: 4.18372330749244\n"
     ]
    },
    {
     "name": "stderr",
     "output_type": "stream",
     "text": [
      "100%|██████████| 43/43.0 [00:15<00:00,  2.71it/s]\n",
      "100%|██████████| 43/43.0 [00:16<00:00,  2.63it/s]\n"
     ]
    },
    {
     "name": "stdout",
     "output_type": "stream",
     "text": [
      "Training loss: 0.8864048372629546\n"
     ]
    },
    {
     "name": "stderr",
     "output_type": "stream",
     "text": [
      "100%|██████████| 9/9.0 [00:03<00:00,  2.64it/s]\n"
     ]
    },
    {
     "name": "stdout",
     "output_type": "stream",
     "text": [
      "Dev loss: 4.189817952273184\n"
     ]
    },
    {
     "name": "stderr",
     "output_type": "stream",
     "text": [
      "100%|██████████| 43/43.0 [00:15<00:00,  2.72it/s]\n",
      "100%|██████████| 43/43.0 [00:16<00:00,  2.67it/s]\n"
     ]
    },
    {
     "name": "stdout",
     "output_type": "stream",
     "text": [
      "Training loss: 0.8844522393191139\n"
     ]
    },
    {
     "name": "stderr",
     "output_type": "stream",
     "text": [
      "100%|██████████| 9/9.0 [00:03<00:00,  2.63it/s]\n"
     ]
    },
    {
     "name": "stdout",
     "output_type": "stream",
     "text": [
      "Dev loss: 4.18058850137811\n"
     ]
    },
    {
     "name": "stderr",
     "output_type": "stream",
     "text": [
      "100%|██████████| 43/43.0 [00:16<00:00,  2.69it/s]\n",
      "100%|██████████| 43/43.0 [00:16<00:00,  2.66it/s]\n"
     ]
    },
    {
     "name": "stdout",
     "output_type": "stream",
     "text": [
      "Training loss: 0.884646476327217\n"
     ]
    },
    {
     "name": "stderr",
     "output_type": "stream",
     "text": [
      "100%|██████████| 9/9.0 [00:03<00:00,  2.61it/s]\n"
     ]
    },
    {
     "name": "stdout",
     "output_type": "stream",
     "text": [
      "Dev loss: 4.181506612008078\n"
     ]
    },
    {
     "name": "stderr",
     "output_type": "stream",
     "text": [
      "100%|██████████| 43/43.0 [00:15<00:00,  2.74it/s]\n",
      "100%|██████████| 43/43.0 [00:16<00:00,  2.65it/s]\n"
     ]
    },
    {
     "name": "stdout",
     "output_type": "stream",
     "text": [
      "Training loss: 0.8837372196774829\n"
     ]
    },
    {
     "name": "stderr",
     "output_type": "stream",
     "text": [
      "100%|██████████| 9/9.0 [00:03<00:00,  2.64it/s]\n"
     ]
    },
    {
     "name": "stdout",
     "output_type": "stream",
     "text": [
      "Dev loss: 4.1772087791509795\n"
     ]
    },
    {
     "name": "stderr",
     "output_type": "stream",
     "text": [
      "100%|██████████| 43/43.0 [00:15<00:00,  2.70it/s]\n",
      "100%|██████████| 43/43.0 [00:16<00:00,  2.65it/s]\n"
     ]
    },
    {
     "name": "stdout",
     "output_type": "stream",
     "text": [
      "Training loss: 0.885150558289033\n"
     ]
    },
    {
     "name": "stderr",
     "output_type": "stream",
     "text": [
      "100%|██████████| 9/9.0 [00:03<00:00,  2.60it/s]\n"
     ]
    },
    {
     "name": "stdout",
     "output_type": "stream",
     "text": [
      "Dev loss: 4.183889283631977\n"
     ]
    },
    {
     "name": "stderr",
     "output_type": "stream",
     "text": [
      "100%|██████████| 43/43.0 [00:16<00:00,  2.68it/s]\n",
      "100%|██████████| 43/43.0 [00:16<00:00,  2.67it/s]\n"
     ]
    },
    {
     "name": "stdout",
     "output_type": "stream",
     "text": [
      "Training loss: 0.8835029421527852\n"
     ]
    },
    {
     "name": "stderr",
     "output_type": "stream",
     "text": [
      "100%|██████████| 9/9.0 [00:03<00:00,  2.58it/s]\n"
     ]
    },
    {
     "name": "stdout",
     "output_type": "stream",
     "text": [
      "Dev loss: 4.176101406833582\n"
     ]
    },
    {
     "name": "stderr",
     "output_type": "stream",
     "text": [
      "100%|██████████| 43/43.0 [00:15<00:00,  2.73it/s]\n",
      "100%|██████████| 43/43.0 [00:16<00:00,  2.64it/s]\n"
     ]
    },
    {
     "name": "stdout",
     "output_type": "stream",
     "text": [
      "Training loss: 0.8815799458986799\n"
     ]
    },
    {
     "name": "stderr",
     "output_type": "stream",
     "text": [
      "100%|██████████| 9/9.0 [00:03<00:00,  2.60it/s]"
     ]
    },
    {
     "name": "stdout",
     "output_type": "stream",
     "text": [
      "Dev loss: 4.167011875855295\n"
     ]
    },
    {
     "name": "stderr",
     "output_type": "stream",
     "text": [
      "\n"
     ]
    }
   ],
   "source": [
    "MAX_EPOCHS = 25\n",
    "\n",
    "# training_losses = []\n",
    "# dev_losses = []\n",
    "\n",
    "for epoch in range(MAX_EPOCHS):\n",
    "    \n",
    "    # Since we use an IterableDataset we need to reinstaniate the dataset since file end will have been reached:\n",
    "    train_dataset = RecommendationDatasetMultiLabel(dataset_filepath='data/final_train_set_with_counts_and_age.tsv', article_emb_bag=ARTICLE_EMBEDDING_BAG, total_articles=len(articles_df))    \n",
    "    \n",
    "    train_loader = DataLoader(train_dataset, batch_size=BATCH_SIZE)  \n",
    "    \n",
    "    for data in tqdm(train_loader, total=total_batches):\n",
    "        \n",
    "        customer_id_idx, inputs, label = data\n",
    "        customer_id_idx, inputs, label = customer_id_idx.to(device), inputs.to(device), label.to(device)\n",
    "\n",
    "        optimizer.zero_grad()  # Set gradients to 0 otherwise will accumulate\n",
    "\n",
    "        y_pred = fashion_rec_v3(customer_id_idx, inputs)\n",
    "        \n",
    "        loss = criterion(y_pred, label)\n",
    "\n",
    "        loss.backward()    \n",
    "        \n",
    "        optimizer.step()\n",
    "    \n",
    "    # Compute train loss:\n",
    "    \n",
    "    total_train_loss = 0\n",
    "\n",
    "    fashion_rec_v3.eval()\n",
    "    \n",
    "    train_dataset = RecommendationDatasetMultiLabel(dataset_filepath='data/final_train_set_with_counts_and_age.tsv', article_emb_bag=ARTICLE_EMBEDDING_BAG, total_articles=len(articles_df))    \n",
    "    \n",
    "    train_loader = DataLoader(train_dataset, batch_size=BATCH_SIZE)  \n",
    "    \n",
    "    with torch.no_grad():\n",
    "        for data in tqdm(train_loader, total=total_batches):\n",
    "\n",
    "            customer_id_idx, inputs, label = data\n",
    "            customer_id_idx, inputs, label = customer_id_idx.to(device), inputs.to(device), label.to(device)\n",
    "\n",
    "            optimizer.zero_grad()  # Set gradients to 0 otherwise will accumulate\n",
    "\n",
    "            y_pred = fashion_rec_v3(customer_id_idx, inputs)\n",
    "\n",
    "            loss = nn.CrossEntropyLoss(reduction='sum')(y_pred, label)\n",
    "\n",
    "            total_train_loss += loss.item()\n",
    "\n",
    "        mean_train_loss = total_train_loss / total_training_examples\n",
    "        print(f\"Training loss: {mean_train_loss}\")\n",
    "        training_losses.append(mean_train_loss)\n",
    "        \n",
    "    # Compute dev loss:\n",
    "    \n",
    "    total_dev_loss = 0\n",
    "    \n",
    "    dev_dataset = RecommendationDatasetMultiLabel(dataset_filepath='data/final_dev_set_with_counts_and_age.tsv', article_emb_bag=ARTICLE_EMBEDDING_BAG, total_articles=len(articles_df))    \n",
    "    \n",
    "    dev_loader = DataLoader(dev_dataset, batch_size=BATCH_SIZE)  \n",
    "    \n",
    "    with torch.no_grad():\n",
    "        for data in tqdm(dev_loader, total=total_dev_batches):\n",
    "\n",
    "            customer_id_idx, inputs, label = data\n",
    "            customer_id_idx, inputs, label = customer_id_idx.to(device), inputs.to(device), label.to(device)\n",
    "\n",
    "            y_pred = fashion_rec_v3(customer_id_idx, inputs)\n",
    "\n",
    "            loss = nn.CrossEntropyLoss(reduction='sum')(y_pred, label)\n",
    "\n",
    "            total_dev_loss += loss.item()\n",
    "\n",
    "        mean_dev_loss = total_train_loss / total_dev_examples\n",
    "        print(f\"Dev loss: {mean_dev_loss}\")\n",
    "        dev_losses.append(mean_dev_loss)\n",
    "        \n",
    "    fashion_rec_v3.train()"
   ]
  },
  {
   "cell_type": "code",
   "execution_count": 240,
   "id": "f1712d75",
   "metadata": {
    "colab": {
     "base_uri": "https://localhost:8080/"
    },
    "executionInfo": {
     "elapsed": 186,
     "status": "ok",
     "timestamp": 1651939787475,
     "user": {
      "displayName": "Steven George",
      "userId": "07709250839253394649"
     },
     "user_tz": -60
    },
    "id": "f1712d75",
    "outputId": "6d6936f2-3a28-44e2-8cad-bfa0ddfe5a98"
   },
   "outputs": [
    {
     "data": {
      "text/plain": [
       "(0.8815799458986799, 4.167011875855295)"
      ]
     },
     "execution_count": 240,
     "metadata": {},
     "output_type": "execute_result"
    }
   ],
   "source": [
    "training_losses[-1], dev_losses[-1]"
   ]
  },
  {
   "cell_type": "code",
   "execution_count": 241,
   "id": "b50b3410",
   "metadata": {
    "colab": {
     "base_uri": "https://localhost:8080/",
     "height": 374
    },
    "executionInfo": {
     "elapsed": 541,
     "status": "ok",
     "timestamp": 1651939789028,
     "user": {
      "displayName": "Steven George",
      "userId": "07709250839253394649"
     },
     "user_tz": -60
    },
    "id": "b50b3410",
    "outputId": "896df91d-fb1f-4f64-b597-48e9ba57b7d0"
   },
   "outputs": [
    {
     "data": {
      "image/png": "[encoded data removed]",
      "text/plain": [
       "<Figure size 720x432 with 1 Axes>"
      ]
     },
     "metadata": {
      "needs_background": "light"
     },
     "output_type": "display_data"
    }
   ],
   "source": [
    "plt.figure(figsize=(10, 6))\n",
    "plt.plot(training_losses, label='train')\n",
    "plt.plot(dev_losses, label='dev')\n",
    "plt.legend()\n",
    "plt.show()"
   ]
  },
  {
   "cell_type": "markdown",
   "id": "6c8e8132",
   "metadata": {
    "id": "6c8e8132"
   },
   "source": [
    "### MAP@12"
   ]
  },
  {
   "cell_type": "markdown",
   "id": "e524b4d7",
   "metadata": {
    "id": "e524b4d7"
   },
   "source": [
    "#### Train"
   ]
  },
  {
   "cell_type": "code",
   "execution_count": 242,
   "id": "b67b657f",
   "metadata": {
    "colab": {
     "base_uri": "https://localhost:8080/"
    },
    "executionInfo": {
     "elapsed": 15908,
     "status": "ok",
     "timestamp": 1651939808105,
     "user": {
      "displayName": "Steven George",
      "userId": "07709250839253394649"
     },
     "user_tz": -60
    },
    "id": "b67b657f",
    "outputId": "93aa7562-c936-4d4a-a172-c5eae48e7580"
   },
   "outputs": [
    {
     "name": "stderr",
     "output_type": "stream",
     "text": [
      "100%|██████████| 43/43.0 [00:15<00:00,  2.75it/s]\n"
     ]
    }
   ],
   "source": [
    "fashion_rec_v3.eval()\n",
    "\n",
    "predictions = []\n",
    "\n",
    "dev_dataset = RecommendationDatasetMultiLabel(dataset_filepath='data/final_train_set_with_counts_and_age.tsv', article_emb_bag=ARTICLE_EMBEDDING_BAG, total_articles=len(articles_df))    \n",
    "\n",
    "dev_loader = DataLoader(dev_dataset, batch_size=BATCH_SIZE)  \n",
    "\n",
    "with torch.no_grad():\n",
    "    for data in tqdm(dev_loader, total=total_batches):\n",
    "\n",
    "        customer_id_idx, inputs, label = data\n",
    "        customer_id_idx, inputs, label = customer_id_idx.to(device), inputs.to(device), label.to(device)\n",
    "\n",
    "        optimizer.zero_grad()  # Set gradients to 0 otherwise will accumulate\n",
    "\n",
    "        y_pred = fashion_rec_v3(customer_id_idx, inputs)\n",
    "        \n",
    "        predictions.append(y_pred.topk(1000, dim=1).indices)"
   ]
  },
  {
   "cell_type": "code",
   "execution_count": 243,
   "id": "62eeb4b0",
   "metadata": {
    "executionInfo": {
     "elapsed": 17,
     "status": "ok",
     "timestamp": 1651939808106,
     "user": {
      "displayName": "Steven George",
      "userId": "07709250839253394649"
     },
     "user_tz": -60
    },
    "id": "62eeb4b0"
   },
   "outputs": [],
   "source": [
    "predictions = torch.concat(predictions)"
   ]
  },
  {
   "cell_type": "code",
   "execution_count": 244,
   "id": "087fc0b7",
   "metadata": {
    "colab": {
     "base_uri": "https://localhost:8080/"
    },
    "executionInfo": {
     "elapsed": 16,
     "status": "ok",
     "timestamp": 1651939808106,
     "user": {
      "displayName": "Steven George",
      "userId": "07709250839253394649"
     },
     "user_tz": -60
    },
    "id": "087fc0b7",
    "outputId": "73f95dde-77c1-42f4-a9f6-43c20ed1c296"
   },
   "outputs": [
    {
     "data": {
      "text/plain": [
       "torch.Size([43108, 1000])"
      ]
     },
     "execution_count": 244,
     "metadata": {},
     "output_type": "execute_result"
    }
   ],
   "source": [
    "predictions.shape"
   ]
  },
  {
   "cell_type": "code",
   "execution_count": 245,
   "id": "d20275d7",
   "metadata": {
    "colab": {
     "base_uri": "https://localhost:8080/"
    },
    "executionInfo": {
     "elapsed": 276,
     "status": "ok",
     "timestamp": 1651939808370,
     "user": {
      "displayName": "Steven George",
      "userId": "07709250839253394649"
     },
     "user_tz": -60
    },
    "id": "d20275d7",
    "outputId": "189c2ed2-357e-47ad-f3ab-30523099f33e"
   },
   "outputs": [
    {
     "data": {
      "text/plain": [
       "43108"
      ]
     },
     "execution_count": 245,
     "metadata": {},
     "output_type": "execute_result"
    }
   ],
   "source": [
    "actuals = pd.read_csv('data/final_train_set_with_counts_and_age.tsv', sep='\\t')['article_id_idx_label'].apply(lambda x: [int(i) for i in x.split(',')]).tolist()\n",
    "len(actuals)"
   ]
  },
  {
   "cell_type": "code",
   "execution_count": 246,
   "id": "ad4e8a35",
   "metadata": {
    "colab": {
     "base_uri": "https://localhost:8080/"
    },
    "executionInfo": {
     "elapsed": 3298,
     "status": "ok",
     "timestamp": 1651939811666,
     "user": {
      "displayName": "Steven George",
      "userId": "07709250839253394649"
     },
     "user_tz": -60
    },
    "id": "ad4e8a35",
    "outputId": "a6a6fec0-59c0-4eeb-db4d-25f7b704637e"
   },
   "outputs": [
    {
     "data": {
      "text/plain": [
       "0.9997996669077653"
      ]
     },
     "execution_count": 246,
     "metadata": {},
     "output_type": "execute_result"
    }
   ],
   "source": [
    "mapk(actuals, predictions.tolist(), 12)"
   ]
  },
  {
   "cell_type": "markdown",
   "id": "5ed28d46",
   "metadata": {
    "id": "5ed28d46"
   },
   "source": [
    "🤯"
   ]
  },
  {
   "cell_type": "code",
   "execution_count": 247,
   "id": "fd0c9d3b",
   "metadata": {
    "executionInfo": {
     "elapsed": 4,
     "status": "ok",
     "timestamp": 1651939811667,
     "user": {
      "displayName": "Steven George",
      "userId": "07709250839253394649"
     },
     "user_tz": -60
    },
    "id": "fd0c9d3b"
   },
   "outputs": [],
   "source": [
    "def precision(a: list, b: list):\n",
    "    a = set(a)\n",
    "    b = set(b)\n",
    "    num_common = len(a.intersection(b))\n",
    "    return num_common / len(a)"
   ]
  },
  {
   "cell_type": "code",
   "execution_count": 248,
   "id": "78e0c88c",
   "metadata": {
    "colab": {
     "base_uri": "https://localhost:8080/"
    },
    "executionInfo": {
     "elapsed": 4645,
     "status": "ok",
     "timestamp": 1651939816309,
     "user": {
      "displayName": "Steven George",
      "userId": "07709250839253394649"
     },
     "user_tz": -60
    },
    "id": "78e0c88c",
    "outputId": "c2720642-2393-49a5-bb19-03d2221dcaa1"
   },
   "outputs": [
    {
     "data": {
      "text/plain": [
       "1.0"
      ]
     },
     "execution_count": 248,
     "metadata": {},
     "output_type": "execute_result"
    }
   ],
   "source": [
    "np.mean(\n",
    "    [precision(act, pred) for act, pred in zip(actuals, predictions.tolist())]\n",
    ")"
   ]
  },
  {
   "cell_type": "code",
   "execution_count": 249,
   "id": "1775f457",
   "metadata": {
    "executionInfo": {
     "elapsed": 5301,
     "status": "ok",
     "timestamp": 1651939821596,
     "user": {
      "displayName": "Steven George",
      "userId": "07709250839253394649"
     },
     "user_tz": -60
    },
    "id": "1775f457"
   },
   "outputs": [],
   "source": [
    "number_of_positive_examples = [len(set(act).intersection(set(pred))) for act, pred in zip(actuals, predictions.tolist())]"
   ]
  },
  {
   "cell_type": "code",
   "execution_count": 250,
   "id": "fca67dea",
   "metadata": {
    "colab": {
     "base_uri": "https://localhost:8080/"
    },
    "executionInfo": {
     "elapsed": 17,
     "status": "ok",
     "timestamp": 1651939821597,
     "user": {
      "displayName": "Steven George",
      "userId": "07709250839253394649"
     },
     "user_tz": -60
    },
    "id": "fca67dea",
    "outputId": "9cd1efe7-3f54-435a-d1d8-028822718bc5"
   },
   "outputs": [
    {
     "data": {
      "text/plain": [
       "1.0"
      ]
     },
     "execution_count": 250,
     "metadata": {},
     "output_type": "execute_result"
    }
   ],
   "source": [
    "np.mean(np.array(number_of_positive_examples ) > 0)"
   ]
  },
  {
   "cell_type": "markdown",
   "id": "41f4baa7",
   "metadata": {
    "id": "41f4baa7"
   },
   "source": [
    "Model is a strong top-1000 candidate generator:\n",
    "- 99+% precision\n",
    "- Can use all customers in training set since each has at least 1 positive example \n",
    "\n",
    "This could then facilitate a 2-stage approach like YouTube"
   ]
  },
  {
   "cell_type": "markdown",
   "id": "264d64c8",
   "metadata": {
    "id": "264d64c8"
   },
   "source": [
    "#### Dev"
   ]
  },
  {
   "cell_type": "code",
   "execution_count": 251,
   "id": "719a820d",
   "metadata": {
    "colab": {
     "base_uri": "https://localhost:8080/"
    },
    "executionInfo": {
     "elapsed": 3375,
     "status": "ok",
     "timestamp": 1651939824958,
     "user": {
      "displayName": "Steven George",
      "userId": "07709250839253394649"
     },
     "user_tz": -60
    },
    "id": "719a820d",
    "outputId": "410761dd-c834-4dab-83e3-356d2211848e"
   },
   "outputs": [
    {
     "name": "stderr",
     "output_type": "stream",
     "text": [
      "100%|██████████| 9/9.0 [00:03<00:00,  2.65it/s]\n"
     ]
    }
   ],
   "source": [
    "fashion_rec_v3.eval()\n",
    "\n",
    "predictions = []\n",
    "\n",
    "dev_dataset = RecommendationDatasetMultiLabel(dataset_filepath='data/final_dev_set_with_counts_and_age.tsv', article_emb_bag=ARTICLE_EMBEDDING_BAG, total_articles=len(articles_df))    \n",
    "\n",
    "dev_loader = DataLoader(dev_dataset, batch_size=BATCH_SIZE)  \n",
    "\n",
    "with torch.no_grad():\n",
    "    for data in tqdm(dev_loader, total=total_dev_batches):\n",
    "\n",
    "        customer_id_idx, inputs, label = data\n",
    "        customer_id_idx, inputs, label = customer_id_idx.to(device), inputs.to(device), label.to(device)\n",
    "\n",
    "        y_pred = fashion_rec_v3(customer_id_idx, inputs)\n",
    "        \n",
    "        # predictions.append(y_pred.topk(12, dim=1).indices)\n",
    "        predictions.append(y_pred.topk(1000, dim=1).indices)"
   ]
  },
  {
   "cell_type": "code",
   "execution_count": 252,
   "id": "f523a796",
   "metadata": {
    "executionInfo": {
     "elapsed": 21,
     "status": "ok",
     "timestamp": 1651939824959,
     "user": {
      "displayName": "Steven George",
      "userId": "07709250839253394649"
     },
     "user_tz": -60
    },
    "id": "f523a796"
   },
   "outputs": [],
   "source": [
    "predictions = torch.concat(predictions)"
   ]
  },
  {
   "cell_type": "code",
   "execution_count": 253,
   "id": "7dd74347",
   "metadata": {
    "colab": {
     "base_uri": "https://localhost:8080/"
    },
    "executionInfo": {
     "elapsed": 20,
     "status": "ok",
     "timestamp": 1651939824959,
     "user": {
      "displayName": "Steven George",
      "userId": "07709250839253394649"
     },
     "user_tz": -60
    },
    "id": "7dd74347",
    "outputId": "0473fbaa-6834-4361-ad3b-ee92cfcbdc2e"
   },
   "outputs": [
    {
     "data": {
      "text/plain": [
       "torch.Size([9120, 1000])"
      ]
     },
     "execution_count": 253,
     "metadata": {},
     "output_type": "execute_result"
    }
   ],
   "source": [
    "predictions.shape"
   ]
  },
  {
   "cell_type": "code",
   "execution_count": 254,
   "id": "5e493141",
   "metadata": {
    "colab": {
     "base_uri": "https://localhost:8080/"
    },
    "executionInfo": {
     "elapsed": 16,
     "status": "ok",
     "timestamp": 1651939824959,
     "user": {
      "displayName": "Steven George",
      "userId": "07709250839253394649"
     },
     "user_tz": -60
    },
    "id": "5e493141",
    "outputId": "cbdf2ae9-3340-498e-d274-4496c683551a"
   },
   "outputs": [
    {
     "data": {
      "text/plain": [
       "9120"
      ]
     },
     "execution_count": 254,
     "metadata": {},
     "output_type": "execute_result"
    }
   ],
   "source": [
    "actuals = pd.read_csv('data/final_dev_set_with_counts_and_age.tsv', sep='\\t')['article_id_idx_label'].apply(lambda x: [int(i) for i in x.split(',')]).tolist()\n",
    "len(actuals)"
   ]
  },
  {
   "cell_type": "code",
   "execution_count": 255,
   "id": "0d197235",
   "metadata": {
    "colab": {
     "base_uri": "https://localhost:8080/"
    },
    "executionInfo": {
     "elapsed": 921,
     "status": "ok",
     "timestamp": 1651939827627,
     "user": {
      "displayName": "Steven George",
      "userId": "07709250839253394649"
     },
     "user_tz": -60
    },
    "id": "0d197235",
    "outputId": "857f644c-06a5-4044-ec48-253ac5e61865"
   },
   "outputs": [
    {
     "data": {
      "text/plain": [
       "0.0612908650261683"
      ]
     },
     "execution_count": 255,
     "metadata": {},
     "output_type": "execute_result"
    }
   ],
   "source": [
    "mapk(actuals, predictions.tolist(), 12)"
   ]
  },
  {
   "cell_type": "code",
   "execution_count": 256,
   "id": "8d48ed3d",
   "metadata": {
    "executionInfo": {
     "elapsed": 187,
     "status": "ok",
     "timestamp": 1651939829422,
     "user": {
      "displayName": "Steven George",
      "userId": "07709250839253394649"
     },
     "user_tz": -60
    },
    "id": "8d48ed3d"
   },
   "outputs": [],
   "source": [
    "def precision(a: list, b: list):\n",
    "    a = set(a)\n",
    "    b = set(b)\n",
    "    num_common = len(a.intersection(b))\n",
    "    return num_common / len(a)"
   ]
  },
  {
   "cell_type": "code",
   "execution_count": 257,
   "id": "8ae4f9a3",
   "metadata": {
    "colab": {
     "base_uri": "https://localhost:8080/"
    },
    "executionInfo": {
     "elapsed": 1016,
     "status": "ok",
     "timestamp": 1651939830694,
     "user": {
      "displayName": "Steven George",
      "userId": "07709250839253394649"
     },
     "user_tz": -60
    },
    "id": "8ae4f9a3",
    "outputId": "3f269a1b-f454-4655-addf-2c6110f38fa3"
   },
   "outputs": [
    {
     "data": {
      "text/plain": [
       "0.3192454923987504"
      ]
     },
     "execution_count": 257,
     "metadata": {},
     "output_type": "execute_result"
    }
   ],
   "source": [
    "np.mean(\n",
    "    [precision(act, pred) for act, pred in zip(actuals, predictions.tolist())]\n",
    ")"
   ]
  },
  {
   "cell_type": "code",
   "execution_count": 258,
   "id": "3afee6c8",
   "metadata": {
    "executionInfo": {
     "elapsed": 951,
     "status": "ok",
     "timestamp": 1651939831644,
     "user": {
      "displayName": "Steven George",
      "userId": "07709250839253394649"
     },
     "user_tz": -60
    },
    "id": "3afee6c8"
   },
   "outputs": [],
   "source": [
    "number_of_positive_examples = [len(set(act).intersection(set(pred))) for act, pred in zip(actuals, predictions.tolist())]"
   ]
  },
  {
   "cell_type": "code",
   "execution_count": 259,
   "id": "18048f44",
   "metadata": {
    "colab": {
     "base_uri": "https://localhost:8080/"
    },
    "executionInfo": {
     "elapsed": 4,
     "status": "ok",
     "timestamp": 1651939831645,
     "user": {
      "displayName": "Steven George",
      "userId": "07709250839253394649"
     },
     "user_tz": -60
    },
    "id": "18048f44",
    "outputId": "e145422b-7006-4d07-b868-0a2a4a7b4b59"
   },
   "outputs": [
    {
     "data": {
      "text/plain": [
       "0.5326754385964912"
      ]
     },
     "execution_count": 259,
     "metadata": {},
     "output_type": "execute_result"
    }
   ],
   "source": [
    "np.mean(np.array(number_of_positive_examples) > 0)"
   ]
  },
  {
   "cell_type": "markdown",
   "id": "4a8cf4a4",
   "metadata": {
    "id": "4a8cf4a4"
   },
   "source": [
    "In a 2-step approach this is the metric we would care about most. 35% is similar to what was achieved with simple heuristic candidate generators but here we also acheive strong MAP!"
   ]
  },
  {
   "cell_type": "code",
   "execution_count": 260,
   "id": "9da33b13",
   "metadata": {
    "executionInfo": {
     "elapsed": 1002,
     "status": "ok",
     "timestamp": 1651939832644,
     "user": {
      "displayName": "Steven George",
      "userId": "07709250839253394649"
     },
     "user_tz": -60
    },
    "id": "9da33b13"
   },
   "outputs": [],
   "source": [
    "actuals_perfect_order = [[i for i in act if i in pred] for act, pred in zip(actuals, predictions.tolist())]"
   ]
  },
  {
   "cell_type": "code",
   "execution_count": 261,
   "id": "e7834d97",
   "metadata": {
    "colab": {
     "base_uri": "https://localhost:8080/"
    },
    "executionInfo": {
     "elapsed": 580,
     "status": "ok",
     "timestamp": 1651939833222,
     "user": {
      "displayName": "Steven George",
      "userId": "07709250839253394649"
     },
     "user_tz": -60
    },
    "id": "e7834d97",
    "outputId": "2854becb-30d6-4487-9094-d3488524f130"
   },
   "outputs": [
    {
     "data": {
      "text/plain": [
       "0.08313944000387975"
      ]
     },
     "execution_count": 261,
     "metadata": {},
     "output_type": "execute_result"
    }
   ],
   "source": [
    "mapk(actuals_perfect_order, predictions.tolist(), 12)"
   ]
  },
  {
   "cell_type": "markdown",
   "id": "e870a6ea",
   "metadata": {
    "id": "e870a6ea"
   },
   "source": [
    "Interesting! Maximum upside if we perfectly ordered the top-1000 articles is ~0.02"
   ]
  },
  {
   "cell_type": "markdown",
   "id": "10e156d9",
   "metadata": {
    "id": "10e156d9"
   },
   "source": [
    "#### Test"
   ]
  },
  {
   "cell_type": "code",
   "execution_count": 262,
   "id": "7531d31d",
   "metadata": {
    "executionInfo": {
     "elapsed": 5,
     "status": "ok",
     "timestamp": 1651939833223,
     "user": {
      "displayName": "Steven George",
      "userId": "07709250839253394649"
     },
     "user_tz": -60
    },
    "id": "7531d31d"
   },
   "outputs": [],
   "source": [
    "total_test_batches = np.ceil(pd.read_csv('data/final_test_set_with_counts_and_age.tsv', sep='\\t').shape[0]/BATCH_SIZE)"
   ]
  },
  {
   "cell_type": "code",
   "execution_count": 263,
   "id": "d124ebed",
   "metadata": {
    "colab": {
     "base_uri": "https://localhost:8080/"
    },
    "executionInfo": {
     "elapsed": 3265,
     "status": "ok",
     "timestamp": 1651939836484,
     "user": {
      "displayName": "Steven George",
      "userId": "07709250839253394649"
     },
     "user_tz": -60
    },
    "id": "d124ebed",
    "outputId": "931c9079-ca5c-4678-ac8f-8f1590d6ad7e"
   },
   "outputs": [
    {
     "name": "stderr",
     "output_type": "stream",
     "text": [
      "100%|██████████| 9/9.0 [00:03<00:00,  2.81it/s]\n"
     ]
    }
   ],
   "source": [
    "fashion_rec_v3.eval()\n",
    "\n",
    "predictions = []\n",
    "\n",
    "dev_dataset = RecommendationDatasetMultiLabel(dataset_filepath='data/final_test_set_with_counts_and_age.tsv', article_emb_bag=ARTICLE_EMBEDDING_BAG, total_articles=len(articles_df))    \n",
    "\n",
    "dev_loader = DataLoader(dev_dataset, batch_size=BATCH_SIZE)  \n",
    "\n",
    "with torch.no_grad():\n",
    "    for data in tqdm(dev_loader, total=total_test_batches):\n",
    "\n",
    "        customer_id_idx, inputs, label = data\n",
    "        customer_id_idx, inputs, label = customer_id_idx.to(device), inputs.to(device), label.to(device)\n",
    "\n",
    "        y_pred = fashion_rec_v3(customer_id_idx, inputs)\n",
    "        \n",
    "        predictions.append(y_pred.topk(12, dim=1).indices)"
   ]
  },
  {
   "cell_type": "code",
   "execution_count": 264,
   "id": "0fe6f374",
   "metadata": {
    "executionInfo": {
     "elapsed": 15,
     "status": "ok",
     "timestamp": 1651939836484,
     "user": {
      "displayName": "Steven George",
      "userId": "07709250839253394649"
     },
     "user_tz": -60
    },
    "id": "0fe6f374"
   },
   "outputs": [],
   "source": [
    "predictions = torch.concat(predictions)"
   ]
  },
  {
   "cell_type": "code",
   "execution_count": 265,
   "id": "912b74f7",
   "metadata": {
    "colab": {
     "base_uri": "https://localhost:8080/"
    },
    "executionInfo": {
     "elapsed": 15,
     "status": "ok",
     "timestamp": 1651939836485,
     "user": {
      "displayName": "Steven George",
      "userId": "07709250839253394649"
     },
     "user_tz": -60
    },
    "id": "912b74f7",
    "outputId": "1e629427-fea2-4133-883f-bbb502e6384d"
   },
   "outputs": [
    {
     "data": {
      "text/plain": [
       "torch.Size([8733, 12])"
      ]
     },
     "execution_count": 265,
     "metadata": {},
     "output_type": "execute_result"
    }
   ],
   "source": [
    "predictions.shape"
   ]
  },
  {
   "cell_type": "code",
   "execution_count": 266,
   "id": "9bb1680b",
   "metadata": {
    "colab": {
     "base_uri": "https://localhost:8080/"
    },
    "executionInfo": {
     "elapsed": 2,
     "status": "ok",
     "timestamp": 1651939836775,
     "user": {
      "displayName": "Steven George",
      "userId": "07709250839253394649"
     },
     "user_tz": -60
    },
    "id": "9bb1680b",
    "outputId": "1ed0ccba-d09d-4b4f-9cd7-bd7af72cf1de"
   },
   "outputs": [
    {
     "data": {
      "text/plain": [
       "8733"
      ]
     },
     "execution_count": 266,
     "metadata": {},
     "output_type": "execute_result"
    }
   ],
   "source": [
    "actuals = pd.read_csv('data/final_test_set_with_counts_and_age.tsv', sep='\\t')['article_id_idx_label'].apply(lambda x: [int(i) for i in x.split(',')]).tolist()\n",
    "len(actuals)"
   ]
  },
  {
   "cell_type": "code",
   "execution_count": 267,
   "id": "d9625720",
   "metadata": {
    "colab": {
     "base_uri": "https://localhost:8080/"
    },
    "executionInfo": {
     "elapsed": 222,
     "status": "ok",
     "timestamp": 1651939840344,
     "user": {
      "displayName": "Steven George",
      "userId": "07709250839253394649"
     },
     "user_tz": -60
    },
    "id": "d9625720",
    "outputId": "96f6407a-5c69-4046-9928-e695671fcf05"
   },
   "outputs": [
    {
     "data": {
      "text/plain": [
       "0.020076675695344284"
      ]
     },
     "execution_count": 267,
     "metadata": {},
     "output_type": "execute_result"
    }
   ],
   "source": [
    "mapk(actuals, predictions.tolist(), 12)"
   ]
  },
  {
   "cell_type": "code",
   "execution_count": 268,
   "id": "21491393",
   "metadata": {
    "colab": {
     "base_uri": "https://localhost:8080/"
    },
    "executionInfo": {
     "elapsed": 193,
     "status": "ok",
     "timestamp": 1651939845580,
     "user": {
      "displayName": "Steven George",
      "userId": "07709250839253394649"
     },
     "user_tz": -60
    },
    "id": "21491393",
    "outputId": "c98c1482-3304-4669-83cb-de47c20a118f"
   },
   "outputs": [
    {
     "data": {
      "text/plain": [
       "10896"
      ]
     },
     "execution_count": 268,
     "metadata": {},
     "output_type": "execute_result"
    }
   ],
   "source": [
    "# Number of unique items in predictions\n",
    "len(predictions.unique())"
   ]
  },
  {
   "cell_type": "code",
   "execution_count": 269,
   "id": "5440baba",
   "metadata": {
    "colab": {
     "base_uri": "https://localhost:8080/"
    },
    "executionInfo": {
     "elapsed": 3,
     "status": "ok",
     "timestamp": 1651939846354,
     "user": {
      "displayName": "Steven George",
      "userId": "07709250839253394649"
     },
     "user_tz": -60
    },
    "id": "5440baba",
    "outputId": "be9e0a96-82ed-4e1c-c32d-f479fa42fdba"
   },
   "outputs": [
    {
     "data": {
      "text/plain": [
       "8318"
      ]
     },
     "execution_count": 269,
     "metadata": {},
     "output_type": "execute_result"
    }
   ],
   "source": [
    "# Number of unique items in actuals\n",
    "len(set([item for sublist in actuals for item in sublist]))"
   ]
  },
  {
   "cell_type": "markdown",
   "id": "1a35ff57",
   "metadata": {
    "id": "1a35ff57"
   },
   "source": [
    "- Adding example age and counts for labels doesn't seem to make a huge difference to model without these features\n",
    "- Can train for more epochs to gain additional performance\n",
    "- Consider lowering learning rate after 100/150 epochs"
   ]
  }
 ],
 "metadata": {
  "accelerator": "GPU",
  "colab": {
   "machine_shape": "hm",
   "name": "26-Multi-label model.ipynb",
   "provenance": []
  },
  "kernelspec": {
   "display_name": "Python 3 (ipykernel)",
   "language": "python",
   "name": "python3"
  },
  "language_info": {
   "codemirror_mode": {
    "name": "ipython",
    "version": 3
   },
   "file_extension": ".py",
   "mimetype": "text/x-python",
   "name": "python",
   "nbconvert_exporter": "python",
   "pygments_lexer": "ipython3",
   "version": "3.8.12"
  }
 },
 "nbformat": 4,
 "nbformat_minor": 5
}
