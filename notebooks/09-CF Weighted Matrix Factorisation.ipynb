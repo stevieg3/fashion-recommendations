{
 "cells": [
  {
   "cell_type": "markdown",
   "id": "66f06412",
   "metadata": {},
   "source": [
    "Simple model using approach described here: https://developers.google.com/machine-learning/recommendation/collaborative/matrix"
   ]
  },
  {
   "cell_type": "code",
   "execution_count": 1,
   "id": "37792a66",
   "metadata": {},
   "outputs": [],
   "source": [
    "import os\n",
    "import datetime\n",
    "\n",
    "import pandas as pd\n",
    "import numpy as np\n",
    "import torch\n",
    "import torch.nn as nn\n",
    "from torch.utils.data import Dataset, DataLoader\n",
    "from tqdm import tqdm"
   ]
  },
  {
   "cell_type": "code",
   "execution_count": 2,
   "id": "418a2c3e",
   "metadata": {},
   "outputs": [],
   "source": [
    "os.chdir('..')"
   ]
  },
  {
   "cell_type": "code",
   "execution_count": 3,
   "id": "fcbcbcb4",
   "metadata": {},
   "outputs": [],
   "source": [
    "from fashion_recommendations.metrics.average_precision import mapk"
   ]
  },
  {
   "cell_type": "code",
   "execution_count": 4,
   "id": "aad570c4",
   "metadata": {
    "colab": {
     "base_uri": "https://localhost:8080/"
    },
    "executionInfo": {
     "elapsed": 7,
     "status": "ok",
     "timestamp": 1648487108571,
     "user": {
      "displayName": "Steven George",
      "photoUrl": "https://lh3.googleusercontent.com/a/default-user=s64",
      "userId": "07709250839253394649"
     },
     "user_tz": -60
    },
    "id": "vxs1oKftBmPc",
    "outputId": "e362c087-0187-462a-9d4e-0541e2040fa7"
   },
   "outputs": [
    {
     "name": "stdout",
     "output_type": "stream",
     "text": [
      "cpu\n"
     ]
    }
   ],
   "source": [
    "device = torch.device(\"cuda:0\" if torch.cuda.is_available() else \"cpu\")\n",
    "print(device)"
   ]
  },
  {
   "cell_type": "code",
   "execution_count": 5,
   "id": "1f9da182",
   "metadata": {},
   "outputs": [
    {
     "name": "stdout",
     "output_type": "stream",
     "text": [
      "(588758, 5)\n"
     ]
    },
    {
     "data": {
      "text/html": [
       "<div>\n",
       "<style scoped>\n",
       "    .dataframe tbody tr th:only-of-type {\n",
       "        vertical-align: middle;\n",
       "    }\n",
       "\n",
       "    .dataframe tbody tr th {\n",
       "        vertical-align: top;\n",
       "    }\n",
       "\n",
       "    .dataframe thead th {\n",
       "        text-align: right;\n",
       "    }\n",
       "</style>\n",
       "<table border=\"1\" class=\"dataframe\">\n",
       "  <thead>\n",
       "    <tr style=\"text-align: right;\">\n",
       "      <th></th>\n",
       "      <th>t_dat</th>\n",
       "      <th>customer_id</th>\n",
       "      <th>article_id</th>\n",
       "      <th>price</th>\n",
       "      <th>sales_channel_id</th>\n",
       "    </tr>\n",
       "  </thead>\n",
       "  <tbody>\n",
       "    <tr>\n",
       "      <th>0</th>\n",
       "      <td>2018-09-20</td>\n",
       "      <td>000058a12d5b43e67d225668fa1f8d618c13dc232df0ca...</td>\n",
       "      <td>0663713001</td>\n",
       "      <td>0.050831</td>\n",
       "      <td>2</td>\n",
       "    </tr>\n",
       "    <tr>\n",
       "      <th>1</th>\n",
       "      <td>2018-09-20</td>\n",
       "      <td>000058a12d5b43e67d225668fa1f8d618c13dc232df0ca...</td>\n",
       "      <td>0541518023</td>\n",
       "      <td>0.030492</td>\n",
       "      <td>2</td>\n",
       "    </tr>\n",
       "    <tr>\n",
       "      <th>2</th>\n",
       "      <td>2018-09-20</td>\n",
       "      <td>016d8f0519d9e0572b3abebeab87408bad7a5c3a284016...</td>\n",
       "      <td>0650193004</td>\n",
       "      <td>0.050831</td>\n",
       "      <td>1</td>\n",
       "    </tr>\n",
       "    <tr>\n",
       "      <th>3</th>\n",
       "      <td>2018-09-20</td>\n",
       "      <td>016d8f0519d9e0572b3abebeab87408bad7a5c3a284016...</td>\n",
       "      <td>0527687006</td>\n",
       "      <td>0.101678</td>\n",
       "      <td>1</td>\n",
       "    </tr>\n",
       "    <tr>\n",
       "      <th>4</th>\n",
       "      <td>2018-09-20</td>\n",
       "      <td>02bfe1a5248beb9cd28ad4ac630a6d75e78d9a3e14551a...</td>\n",
       "      <td>0668767002</td>\n",
       "      <td>0.016932</td>\n",
       "      <td>2</td>\n",
       "    </tr>\n",
       "  </tbody>\n",
       "</table>\n",
       "</div>"
      ],
      "text/plain": [
       "        t_dat                                        customer_id  article_id  \\\n",
       "0  2018-09-20  000058a12d5b43e67d225668fa1f8d618c13dc232df0ca...  0663713001   \n",
       "1  2018-09-20  000058a12d5b43e67d225668fa1f8d618c13dc232df0ca...  0541518023   \n",
       "2  2018-09-20  016d8f0519d9e0572b3abebeab87408bad7a5c3a284016...  0650193004   \n",
       "3  2018-09-20  016d8f0519d9e0572b3abebeab87408bad7a5c3a284016...  0527687006   \n",
       "4  2018-09-20  02bfe1a5248beb9cd28ad4ac630a6d75e78d9a3e14551a...  0668767002   \n",
       "\n",
       "      price  sales_channel_id  \n",
       "0  0.050831                 2  \n",
       "1  0.030492                 2  \n",
       "2  0.050831                 1  \n",
       "3  0.101678                 1  \n",
       "4  0.016932                 2  "
      ]
     },
     "execution_count": 5,
     "metadata": {},
     "output_type": "execute_result"
    }
   ],
   "source": [
    "train_set_orig = pd.read_csv('data/splits/train_subset.tsv', sep='\\t', dtype={'article_id': str})\n",
    "print(train_set_orig.shape)\n",
    "train_set_orig.head()"
   ]
  },
  {
   "cell_type": "code",
   "execution_count": 6,
   "id": "d619539c",
   "metadata": {},
   "outputs": [
    {
     "name": "stdout",
     "output_type": "stream",
     "text": [
      "(32995, 5)\n"
     ]
    },
    {
     "data": {
      "text/html": [
       "<div>\n",
       "<style scoped>\n",
       "    .dataframe tbody tr th:only-of-type {\n",
       "        vertical-align: middle;\n",
       "    }\n",
       "\n",
       "    .dataframe tbody tr th {\n",
       "        vertical-align: top;\n",
       "    }\n",
       "\n",
       "    .dataframe thead th {\n",
       "        text-align: right;\n",
       "    }\n",
       "</style>\n",
       "<table border=\"1\" class=\"dataframe\">\n",
       "  <thead>\n",
       "    <tr style=\"text-align: right;\">\n",
       "      <th></th>\n",
       "      <th>t_dat</th>\n",
       "      <th>customer_id</th>\n",
       "      <th>article_id</th>\n",
       "      <th>price</th>\n",
       "      <th>sales_channel_id</th>\n",
       "    </tr>\n",
       "  </thead>\n",
       "  <tbody>\n",
       "    <tr>\n",
       "      <th>0</th>\n",
       "      <td>2020-09-15</td>\n",
       "      <td>000058a12d5b43e67d225668fa1f8d618c13dc232df0ca...</td>\n",
       "      <td>0794321007</td>\n",
       "      <td>0.061000</td>\n",
       "      <td>2</td>\n",
       "    </tr>\n",
       "    <tr>\n",
       "      <th>1</th>\n",
       "      <td>2020-09-15</td>\n",
       "      <td>0015f37f752a41a75c3be6f3f92deedc4c87d039f1758e...</td>\n",
       "      <td>0778745010</td>\n",
       "      <td>0.033881</td>\n",
       "      <td>2</td>\n",
       "    </tr>\n",
       "    <tr>\n",
       "      <th>2</th>\n",
       "      <td>2020-09-15</td>\n",
       "      <td>0015f37f752a41a75c3be6f3f92deedc4c87d039f1758e...</td>\n",
       "      <td>0778745010</td>\n",
       "      <td>0.033881</td>\n",
       "      <td>2</td>\n",
       "    </tr>\n",
       "    <tr>\n",
       "      <th>3</th>\n",
       "      <td>2020-09-15</td>\n",
       "      <td>0015f37f752a41a75c3be6f3f92deedc4c87d039f1758e...</td>\n",
       "      <td>0610776105</td>\n",
       "      <td>0.008458</td>\n",
       "      <td>2</td>\n",
       "    </tr>\n",
       "    <tr>\n",
       "      <th>4</th>\n",
       "      <td>2020-09-15</td>\n",
       "      <td>0015f37f752a41a75c3be6f3f92deedc4c87d039f1758e...</td>\n",
       "      <td>0929745001</td>\n",
       "      <td>0.050831</td>\n",
       "      <td>2</td>\n",
       "    </tr>\n",
       "  </tbody>\n",
       "</table>\n",
       "</div>"
      ],
      "text/plain": [
       "        t_dat                                        customer_id  article_id  \\\n",
       "0  2020-09-15  000058a12d5b43e67d225668fa1f8d618c13dc232df0ca...  0794321007   \n",
       "1  2020-09-15  0015f37f752a41a75c3be6f3f92deedc4c87d039f1758e...  0778745010   \n",
       "2  2020-09-15  0015f37f752a41a75c3be6f3f92deedc4c87d039f1758e...  0778745010   \n",
       "3  2020-09-15  0015f37f752a41a75c3be6f3f92deedc4c87d039f1758e...  0610776105   \n",
       "4  2020-09-15  0015f37f752a41a75c3be6f3f92deedc4c87d039f1758e...  0929745001   \n",
       "\n",
       "      price  sales_channel_id  \n",
       "0  0.061000                 2  \n",
       "1  0.033881                 2  \n",
       "2  0.033881                 2  \n",
       "3  0.008458                 2  \n",
       "4  0.050831                 2  "
      ]
     },
     "execution_count": 6,
     "metadata": {},
     "output_type": "execute_result"
    }
   ],
   "source": [
    "test_set = pd.read_csv('data/splits/test_subset.tsv', sep='\\t', dtype={'article_id': str})\n",
    "print(test_set.shape)\n",
    "test_set.head()"
   ]
  },
  {
   "cell_type": "markdown",
   "id": "98c83d6b",
   "metadata": {},
   "source": [
    "### Map `customer_id` and `article_id` to indices"
   ]
  },
  {
   "cell_type": "markdown",
   "id": "8acefd46",
   "metadata": {},
   "source": [
    "Test set doesn't include anyone not in training set"
   ]
  },
  {
   "cell_type": "code",
   "execution_count": 7,
   "id": "eaeafb92",
   "metadata": {},
   "outputs": [
    {
     "data": {
      "text/plain": [
       "9208"
      ]
     },
     "execution_count": 7,
     "metadata": {},
     "output_type": "execute_result"
    }
   ],
   "source": [
    "unique_customers_df = train_set_orig[['customer_id']].drop_duplicates().reset_index(drop=True)\n",
    "\n",
    "customer_id_to_idx = dict(\n",
    "    zip(\n",
    "        unique_customers_df['customer_id'],\n",
    "        unique_customers_df.index\n",
    "    )\n",
    ")\n",
    "\n",
    "len(customer_id_to_idx)"
   ]
  },
  {
   "cell_type": "code",
   "execution_count": 8,
   "id": "110dff6e",
   "metadata": {},
   "outputs": [
    {
     "name": "stdout",
     "output_type": "stream",
     "text": [
      "(105542, 5)\n"
     ]
    },
    {
     "data": {
      "text/html": [
       "<div>\n",
       "<style scoped>\n",
       "    .dataframe tbody tr th:only-of-type {\n",
       "        vertical-align: middle;\n",
       "    }\n",
       "\n",
       "    .dataframe tbody tr th {\n",
       "        vertical-align: top;\n",
       "    }\n",
       "\n",
       "    .dataframe thead th {\n",
       "        text-align: right;\n",
       "    }\n",
       "</style>\n",
       "<table border=\"1\" class=\"dataframe\">\n",
       "  <thead>\n",
       "    <tr style=\"text-align: right;\">\n",
       "      <th></th>\n",
       "      <th>article_id</th>\n",
       "      <th>prod_name</th>\n",
       "      <th>product_type_name</th>\n",
       "      <th>product_group_name</th>\n",
       "      <th>detail_desc</th>\n",
       "    </tr>\n",
       "  </thead>\n",
       "  <tbody>\n",
       "    <tr>\n",
       "      <th>0</th>\n",
       "      <td>0108775015</td>\n",
       "      <td>Strap top</td>\n",
       "      <td>Vest top</td>\n",
       "      <td>Garment Upper body</td>\n",
       "      <td>Jersey top with narrow shoulder straps.</td>\n",
       "    </tr>\n",
       "    <tr>\n",
       "      <th>1</th>\n",
       "      <td>0108775044</td>\n",
       "      <td>Strap top</td>\n",
       "      <td>Vest top</td>\n",
       "      <td>Garment Upper body</td>\n",
       "      <td>Jersey top with narrow shoulder straps.</td>\n",
       "    </tr>\n",
       "    <tr>\n",
       "      <th>2</th>\n",
       "      <td>0108775051</td>\n",
       "      <td>Strap top (1)</td>\n",
       "      <td>Vest top</td>\n",
       "      <td>Garment Upper body</td>\n",
       "      <td>Jersey top with narrow shoulder straps.</td>\n",
       "    </tr>\n",
       "    <tr>\n",
       "      <th>3</th>\n",
       "      <td>0110065001</td>\n",
       "      <td>OP T-shirt (Idro)</td>\n",
       "      <td>Bra</td>\n",
       "      <td>Underwear</td>\n",
       "      <td>Microfibre T-shirt bra with underwired, moulde...</td>\n",
       "    </tr>\n",
       "    <tr>\n",
       "      <th>4</th>\n",
       "      <td>0110065002</td>\n",
       "      <td>OP T-shirt (Idro)</td>\n",
       "      <td>Bra</td>\n",
       "      <td>Underwear</td>\n",
       "      <td>Microfibre T-shirt bra with underwired, moulde...</td>\n",
       "    </tr>\n",
       "  </tbody>\n",
       "</table>\n",
       "</div>"
      ],
      "text/plain": [
       "   article_id          prod_name product_type_name  product_group_name  \\\n",
       "0  0108775015          Strap top          Vest top  Garment Upper body   \n",
       "1  0108775044          Strap top          Vest top  Garment Upper body   \n",
       "2  0108775051      Strap top (1)          Vest top  Garment Upper body   \n",
       "3  0110065001  OP T-shirt (Idro)               Bra           Underwear   \n",
       "4  0110065002  OP T-shirt (Idro)               Bra           Underwear   \n",
       "\n",
       "                                         detail_desc  \n",
       "0            Jersey top with narrow shoulder straps.  \n",
       "1            Jersey top with narrow shoulder straps.  \n",
       "2            Jersey top with narrow shoulder straps.  \n",
       "3  Microfibre T-shirt bra with underwired, moulde...  \n",
       "4  Microfibre T-shirt bra with underwired, moulde...  "
      ]
     },
     "execution_count": 8,
     "metadata": {},
     "output_type": "execute_result"
    }
   ],
   "source": [
    "articles_df = pd.read_csv(\n",
    "    'data/articles.csv', \n",
    "    dtype={'article_id': str}, \n",
    "    usecols=['article_id', 'prod_name', 'product_type_name', 'product_group_name', 'detail_desc']\n",
    ")\n",
    "print(articles_df.shape)\n",
    "articles_df.head()"
   ]
  },
  {
   "cell_type": "code",
   "execution_count": 9,
   "id": "3a243ee2",
   "metadata": {},
   "outputs": [],
   "source": [
    "article_id_to_idx = dict(\n",
    "    zip(\n",
    "        articles_df['article_id'],\n",
    "        articles_df.index\n",
    "    )\n",
    ")"
   ]
  },
  {
   "cell_type": "code",
   "execution_count": 10,
   "id": "bb85b7d0",
   "metadata": {},
   "outputs": [
    {
     "data": {
      "text/html": [
       "<div>\n",
       "<style scoped>\n",
       "    .dataframe tbody tr th:only-of-type {\n",
       "        vertical-align: middle;\n",
       "    }\n",
       "\n",
       "    .dataframe tbody tr th {\n",
       "        vertical-align: top;\n",
       "    }\n",
       "\n",
       "    .dataframe thead th {\n",
       "        text-align: right;\n",
       "    }\n",
       "</style>\n",
       "<table border=\"1\" class=\"dataframe\">\n",
       "  <thead>\n",
       "    <tr style=\"text-align: right;\">\n",
       "      <th></th>\n",
       "      <th>t_dat</th>\n",
       "      <th>customer_id</th>\n",
       "      <th>article_id</th>\n",
       "      <th>price</th>\n",
       "      <th>sales_channel_id</th>\n",
       "      <th>customer_id_idx</th>\n",
       "      <th>article_id_idx</th>\n",
       "    </tr>\n",
       "  </thead>\n",
       "  <tbody>\n",
       "    <tr>\n",
       "      <th>0</th>\n",
       "      <td>2018-09-20</td>\n",
       "      <td>000058a12d5b43e67d225668fa1f8d618c13dc232df0ca...</td>\n",
       "      <td>0663713001</td>\n",
       "      <td>0.050831</td>\n",
       "      <td>2</td>\n",
       "      <td>0</td>\n",
       "      <td>40179</td>\n",
       "    </tr>\n",
       "    <tr>\n",
       "      <th>1</th>\n",
       "      <td>2018-09-20</td>\n",
       "      <td>000058a12d5b43e67d225668fa1f8d618c13dc232df0ca...</td>\n",
       "      <td>0541518023</td>\n",
       "      <td>0.030492</td>\n",
       "      <td>2</td>\n",
       "      <td>0</td>\n",
       "      <td>10520</td>\n",
       "    </tr>\n",
       "    <tr>\n",
       "      <th>2</th>\n",
       "      <td>2018-09-20</td>\n",
       "      <td>016d8f0519d9e0572b3abebeab87408bad7a5c3a284016...</td>\n",
       "      <td>0650193004</td>\n",
       "      <td>0.050831</td>\n",
       "      <td>1</td>\n",
       "      <td>1</td>\n",
       "      <td>36302</td>\n",
       "    </tr>\n",
       "    <tr>\n",
       "      <th>3</th>\n",
       "      <td>2018-09-20</td>\n",
       "      <td>016d8f0519d9e0572b3abebeab87408bad7a5c3a284016...</td>\n",
       "      <td>0527687006</td>\n",
       "      <td>0.101678</td>\n",
       "      <td>1</td>\n",
       "      <td>1</td>\n",
       "      <td>8963</td>\n",
       "    </tr>\n",
       "    <tr>\n",
       "      <th>4</th>\n",
       "      <td>2018-09-20</td>\n",
       "      <td>02bfe1a5248beb9cd28ad4ac630a6d75e78d9a3e14551a...</td>\n",
       "      <td>0668767002</td>\n",
       "      <td>0.016932</td>\n",
       "      <td>2</td>\n",
       "      <td>2</td>\n",
       "      <td>41390</td>\n",
       "    </tr>\n",
       "  </tbody>\n",
       "</table>\n",
       "</div>"
      ],
      "text/plain": [
       "        t_dat                                        customer_id  article_id  \\\n",
       "0  2018-09-20  000058a12d5b43e67d225668fa1f8d618c13dc232df0ca...  0663713001   \n",
       "1  2018-09-20  000058a12d5b43e67d225668fa1f8d618c13dc232df0ca...  0541518023   \n",
       "2  2018-09-20  016d8f0519d9e0572b3abebeab87408bad7a5c3a284016...  0650193004   \n",
       "3  2018-09-20  016d8f0519d9e0572b3abebeab87408bad7a5c3a284016...  0527687006   \n",
       "4  2018-09-20  02bfe1a5248beb9cd28ad4ac630a6d75e78d9a3e14551a...  0668767002   \n",
       "\n",
       "      price  sales_channel_id  customer_id_idx  article_id_idx  \n",
       "0  0.050831                 2                0           40179  \n",
       "1  0.030492                 2                0           10520  \n",
       "2  0.050831                 1                1           36302  \n",
       "3  0.101678                 1                1            8963  \n",
       "4  0.016932                 2                2           41390  "
      ]
     },
     "execution_count": 10,
     "metadata": {},
     "output_type": "execute_result"
    }
   ],
   "source": [
    "train_set_orig['customer_id_idx'] = train_set_orig['customer_id'].map(customer_id_to_idx)\n",
    "train_set_orig['article_id_idx'] = train_set_orig['article_id'].map(article_id_to_idx)\n",
    "\n",
    "train_set_orig.head()"
   ]
  },
  {
   "cell_type": "markdown",
   "id": "0f249f3a",
   "metadata": {},
   "source": [
    "### Create development set"
   ]
  },
  {
   "cell_type": "code",
   "execution_count": 11,
   "id": "b77b5dde",
   "metadata": {},
   "outputs": [],
   "source": [
    "train_set_orig['t_dat'] = pd.to_datetime(train_set_orig['t_dat'])"
   ]
  },
  {
   "cell_type": "code",
   "execution_count": 12,
   "id": "6fc2175d",
   "metadata": {},
   "outputs": [
    {
     "data": {
      "text/plain": [
       "(Timestamp('2020-09-07 00:00:00'), Timestamp('2020-09-14 00:00:00'))"
      ]
     },
     "execution_count": 12,
     "metadata": {},
     "output_type": "execute_result"
    }
   ],
   "source": [
    "end = train_set_orig['t_dat'].max()\n",
    "endm1 = end - datetime.timedelta(days=7)\n",
    "\n",
    "endm1, end"
   ]
  },
  {
   "cell_type": "code",
   "execution_count": 13,
   "id": "fd7f31fb",
   "metadata": {},
   "outputs": [
    {
     "data": {
      "text/plain": [
       "9148"
      ]
     },
     "execution_count": 13,
     "metadata": {},
     "output_type": "execute_result"
    }
   ],
   "source": [
    "train_set_orig[train_set_orig['t_dat'] < endm1]['customer_id'].nunique()"
   ]
  },
  {
   "cell_type": "code",
   "execution_count": 14,
   "id": "034ccaf7",
   "metadata": {},
   "outputs": [
    {
     "data": {
      "text/plain": [
       "1998"
      ]
     },
     "execution_count": 14,
     "metadata": {},
     "output_type": "execute_result"
    }
   ],
   "source": [
    "train_set_orig[train_set_orig['t_dat'] >= endm1]['customer_id'].nunique()"
   ]
  },
  {
   "cell_type": "code",
   "execution_count": 15,
   "id": "e073ce6a",
   "metadata": {},
   "outputs": [],
   "source": [
    "# Remove customers from dev set who are not in the new training set\n",
    "customers_to_remove = (\n",
    "    set(train_set_orig[train_set_orig['t_dat'] >= endm1]['customer_id']) - \n",
    "    set(train_set_orig[train_set_orig['t_dat'] < endm1]['customer_id'])\n",
    ")"
   ]
  },
  {
   "cell_type": "code",
   "execution_count": 16,
   "id": "44982a8b",
   "metadata": {},
   "outputs": [
    {
     "data": {
      "text/plain": [
       "60"
      ]
     },
     "execution_count": 16,
     "metadata": {},
     "output_type": "execute_result"
    }
   ],
   "source": [
    "len(customers_to_remove)"
   ]
  },
  {
   "cell_type": "code",
   "execution_count": 17,
   "id": "077ce30d",
   "metadata": {},
   "outputs": [
    {
     "data": {
      "text/plain": [
       "((580395, 7), (8363, 7))"
      ]
     },
     "execution_count": 17,
     "metadata": {},
     "output_type": "execute_result"
    }
   ],
   "source": [
    "train_set = train_set_orig.copy()[train_set_orig['t_dat'] < endm1]\n",
    "\n",
    "dev_set = train_set_orig.copy()[train_set_orig['t_dat'] >= endm1]\n",
    "\n",
    "train_set.shape, dev_set.shape"
   ]
  },
  {
   "cell_type": "code",
   "execution_count": 18,
   "id": "c09a93fe",
   "metadata": {},
   "outputs": [
    {
     "name": "stdout",
     "output_type": "stream",
     "text": [
      "(8131, 7)\n"
     ]
    },
    {
     "data": {
      "text/html": [
       "<div>\n",
       "<style scoped>\n",
       "    .dataframe tbody tr th:only-of-type {\n",
       "        vertical-align: middle;\n",
       "    }\n",
       "\n",
       "    .dataframe tbody tr th {\n",
       "        vertical-align: top;\n",
       "    }\n",
       "\n",
       "    .dataframe thead th {\n",
       "        text-align: right;\n",
       "    }\n",
       "</style>\n",
       "<table border=\"1\" class=\"dataframe\">\n",
       "  <thead>\n",
       "    <tr style=\"text-align: right;\">\n",
       "      <th></th>\n",
       "      <th>t_dat</th>\n",
       "      <th>customer_id</th>\n",
       "      <th>article_id</th>\n",
       "      <th>price</th>\n",
       "      <th>sales_channel_id</th>\n",
       "      <th>customer_id_idx</th>\n",
       "      <th>article_id_idx</th>\n",
       "    </tr>\n",
       "  </thead>\n",
       "  <tbody>\n",
       "    <tr>\n",
       "      <th>580395</th>\n",
       "      <td>2020-09-07</td>\n",
       "      <td>00639e775b90554156986100685c4d408723c77e411e37...</td>\n",
       "      <td>0891591007</td>\n",
       "      <td>0.084729</td>\n",
       "      <td>2</td>\n",
       "      <td>732</td>\n",
       "      <td>100648</td>\n",
       "    </tr>\n",
       "    <tr>\n",
       "      <th>580396</th>\n",
       "      <td>2020-09-07</td>\n",
       "      <td>00639e775b90554156986100685c4d408723c77e411e37...</td>\n",
       "      <td>0891591001</td>\n",
       "      <td>0.084729</td>\n",
       "      <td>2</td>\n",
       "      <td>732</td>\n",
       "      <td>100645</td>\n",
       "    </tr>\n",
       "    <tr>\n",
       "      <th>580397</th>\n",
       "      <td>2020-09-07</td>\n",
       "      <td>016f3b7c2b7652870b4b2dbdcb1805a7c8c262036f5511...</td>\n",
       "      <td>0909924004</td>\n",
       "      <td>0.033881</td>\n",
       "      <td>2</td>\n",
       "      <td>1057</td>\n",
       "      <td>103196</td>\n",
       "    </tr>\n",
       "    <tr>\n",
       "      <th>580398</th>\n",
       "      <td>2020-09-07</td>\n",
       "      <td>016f3b7c2b7652870b4b2dbdcb1805a7c8c262036f5511...</td>\n",
       "      <td>0921266005</td>\n",
       "      <td>0.016932</td>\n",
       "      <td>2</td>\n",
       "      <td>1057</td>\n",
       "      <td>104310</td>\n",
       "    </tr>\n",
       "    <tr>\n",
       "      <th>580399</th>\n",
       "      <td>2020-09-07</td>\n",
       "      <td>016f3b7c2b7652870b4b2dbdcb1805a7c8c262036f5511...</td>\n",
       "      <td>0857163001</td>\n",
       "      <td>0.013542</td>\n",
       "      <td>2</td>\n",
       "      <td>1057</td>\n",
       "      <td>93169</td>\n",
       "    </tr>\n",
       "  </tbody>\n",
       "</table>\n",
       "</div>"
      ],
      "text/plain": [
       "            t_dat                                        customer_id  \\\n",
       "580395 2020-09-07  00639e775b90554156986100685c4d408723c77e411e37...   \n",
       "580396 2020-09-07  00639e775b90554156986100685c4d408723c77e411e37...   \n",
       "580397 2020-09-07  016f3b7c2b7652870b4b2dbdcb1805a7c8c262036f5511...   \n",
       "580398 2020-09-07  016f3b7c2b7652870b4b2dbdcb1805a7c8c262036f5511...   \n",
       "580399 2020-09-07  016f3b7c2b7652870b4b2dbdcb1805a7c8c262036f5511...   \n",
       "\n",
       "        article_id     price  sales_channel_id  customer_id_idx  \\\n",
       "580395  0891591007  0.084729                 2              732   \n",
       "580396  0891591001  0.084729                 2              732   \n",
       "580397  0909924004  0.033881                 2             1057   \n",
       "580398  0921266005  0.016932                 2             1057   \n",
       "580399  0857163001  0.013542                 2             1057   \n",
       "\n",
       "        article_id_idx  \n",
       "580395          100648  \n",
       "580396          100645  \n",
       "580397          103196  \n",
       "580398          104310  \n",
       "580399           93169  "
      ]
     },
     "execution_count": 18,
     "metadata": {},
     "output_type": "execute_result"
    }
   ],
   "source": [
    "dev_set = dev_set.copy()[~dev_set['customer_id'].isin(customers_to_remove)]\n",
    "print(dev_set.shape)\n",
    "dev_set.head()"
   ]
  },
  {
   "cell_type": "code",
   "execution_count": 19,
   "id": "fd5188d8",
   "metadata": {},
   "outputs": [
    {
     "data": {
      "text/html": [
       "<div>\n",
       "<style scoped>\n",
       "    .dataframe tbody tr th:only-of-type {\n",
       "        vertical-align: middle;\n",
       "    }\n",
       "\n",
       "    .dataframe tbody tr th {\n",
       "        vertical-align: top;\n",
       "    }\n",
       "\n",
       "    .dataframe thead th {\n",
       "        text-align: right;\n",
       "    }\n",
       "</style>\n",
       "<table border=\"1\" class=\"dataframe\">\n",
       "  <thead>\n",
       "    <tr style=\"text-align: right;\">\n",
       "      <th></th>\n",
       "      <th>customer_id</th>\n",
       "      <th>article_id_idx</th>\n",
       "    </tr>\n",
       "  </thead>\n",
       "  <tbody>\n",
       "    <tr>\n",
       "      <th>0</th>\n",
       "      <td>00462904b288681a9facb555f75dd2cf4d0f730a6e0ea7...</td>\n",
       "      <td>[102443]</td>\n",
       "    </tr>\n",
       "    <tr>\n",
       "      <th>1</th>\n",
       "      <td>0054c50274d19af58d53ef3ce0c004bea446c80bd51cf2...</td>\n",
       "      <td>[72000, 16023, 71167]</td>\n",
       "    </tr>\n",
       "    <tr>\n",
       "      <th>2</th>\n",
       "      <td>00639e775b90554156986100685c4d408723c77e411e37...</td>\n",
       "      <td>[100648, 100645, 100645]</td>\n",
       "    </tr>\n",
       "    <tr>\n",
       "      <th>3</th>\n",
       "      <td>00798bd464457d23d6af401715fe32d5c676ad9ee4010d...</td>\n",
       "      <td>[103885]</td>\n",
       "    </tr>\n",
       "    <tr>\n",
       "      <th>4</th>\n",
       "      <td>0099238196d8f71659fceaa115b36e400398bcfc169b5f...</td>\n",
       "      <td>[95789, 95789, 3091, 99184, 99184, 93416, 9341...</td>\n",
       "    </tr>\n",
       "  </tbody>\n",
       "</table>\n",
       "</div>"
      ],
      "text/plain": [
       "                                         customer_id  \\\n",
       "0  00462904b288681a9facb555f75dd2cf4d0f730a6e0ea7...   \n",
       "1  0054c50274d19af58d53ef3ce0c004bea446c80bd51cf2...   \n",
       "2  00639e775b90554156986100685c4d408723c77e411e37...   \n",
       "3  00798bd464457d23d6af401715fe32d5c676ad9ee4010d...   \n",
       "4  0099238196d8f71659fceaa115b36e400398bcfc169b5f...   \n",
       "\n",
       "                                      article_id_idx  \n",
       "0                                           [102443]  \n",
       "1                              [72000, 16023, 71167]  \n",
       "2                           [100648, 100645, 100645]  \n",
       "3                                           [103885]  \n",
       "4  [95789, 95789, 3091, 99184, 99184, 93416, 9341...  "
      ]
     },
     "execution_count": 19,
     "metadata": {},
     "output_type": "execute_result"
    }
   ],
   "source": [
    "dev_set_by_customer = dev_set.groupby('customer_id').apply(lambda x: list(x['article_id_idx'])).reset_index().rename(columns={0: 'article_id_idx'})\n",
    "dev_set_by_customer.head()"
   ]
  },
  {
   "cell_type": "code",
   "execution_count": 20,
   "id": "d147fd2f",
   "metadata": {},
   "outputs": [],
   "source": [
    "customer_id_idx_ordered = dev_set_by_customer['customer_id'].map(customer_id_to_idx).tolist()"
   ]
  },
  {
   "cell_type": "code",
   "execution_count": 21,
   "id": "758a0141",
   "metadata": {},
   "outputs": [],
   "source": [
    "dev_actuals = dev_set_by_customer['article_id_idx'].to_list()"
   ]
  },
  {
   "cell_type": "markdown",
   "id": "795a1c64",
   "metadata": {},
   "source": [
    "### Define loss function"
   ]
  },
  {
   "cell_type": "code",
   "execution_count": 22,
   "id": "9da3ae76",
   "metadata": {},
   "outputs": [],
   "source": [
    "labels = torch.tensor([1, 1, 0, 0])\n",
    "preds = torch.tensor([0.9, 0.2, 0.3, 0.4])"
   ]
  },
  {
   "cell_type": "code",
   "execution_count": 23,
   "id": "5d881e07",
   "metadata": {},
   "outputs": [
    {
     "data": {
      "text/plain": [
       "(tensor([0, 1]),)"
      ]
     },
     "execution_count": 23,
     "metadata": {},
     "output_type": "execute_result"
    }
   ],
   "source": [
    "obs_mask = torch.where(labels == 1)\n",
    "obs_mask"
   ]
  },
  {
   "cell_type": "code",
   "execution_count": 24,
   "id": "319f2a64",
   "metadata": {},
   "outputs": [
    {
     "data": {
      "text/plain": [
       "(tensor([2, 3]),)"
      ]
     },
     "execution_count": 24,
     "metadata": {},
     "output_type": "execute_result"
    }
   ],
   "source": [
    "unobs_mask = torch.where(labels == 0)\n",
    "unobs_mask"
   ]
  },
  {
   "cell_type": "code",
   "execution_count": 25,
   "id": "0e4cc997",
   "metadata": {},
   "outputs": [],
   "source": [
    "w_0 = 2"
   ]
  },
  {
   "cell_type": "code",
   "execution_count": 26,
   "id": "ace9671a",
   "metadata": {},
   "outputs": [
    {
     "data": {
      "text/plain": [
       "tensor(0.6500)"
      ]
     },
     "execution_count": 26,
     "metadata": {},
     "output_type": "execute_result"
    }
   ],
   "source": [
    "obs_loss = ((labels[obs_mask] - preds[obs_mask])**2).sum()\n",
    "obs_loss"
   ]
  },
  {
   "cell_type": "code",
   "execution_count": 27,
   "id": "e4f3601c",
   "metadata": {},
   "outputs": [
    {
     "data": {
      "text/plain": [
       "tensor(0.2500)"
      ]
     },
     "execution_count": 27,
     "metadata": {},
     "output_type": "execute_result"
    }
   ],
   "source": [
    "unobs_loss = ((labels[unobs_mask] - preds[unobs_mask])**2).sum()\n",
    "unobs_loss"
   ]
  },
  {
   "cell_type": "code",
   "execution_count": 28,
   "id": "6a3a6199",
   "metadata": {},
   "outputs": [],
   "source": [
    "total_loss = obs_loss + w_0 * unobs_loss"
   ]
  },
  {
   "cell_type": "code",
   "execution_count": 29,
   "id": "f490b66e",
   "metadata": {},
   "outputs": [
    {
     "data": {
      "text/plain": [
       "tensor(0.2875)"
      ]
     },
     "execution_count": 29,
     "metadata": {},
     "output_type": "execute_result"
    }
   ],
   "source": [
    "loss = total_loss / len(labels)\n",
    "loss"
   ]
  },
  {
   "cell_type": "code",
   "execution_count": 30,
   "id": "c9ae2f88",
   "metadata": {},
   "outputs": [],
   "source": [
    "def weighted_matrix_factorisation_loss(preds, labels, w_0=1):\n",
    "    obs_mask = torch.where(labels == 1)\n",
    "\n",
    "    unobs_mask = torch.where(labels == 0)\n",
    "\n",
    "    obs_loss = ((labels[obs_mask] - preds[obs_mask])**2).sum()\n",
    "\n",
    "    unobs_loss = (preds[unobs_mask]**2).sum()\n",
    "\n",
    "    total_loss = obs_loss + w_0 * unobs_loss\n",
    "\n",
    "    loss = total_loss / len(labels)\n",
    "    \n",
    "    return loss"
   ]
  },
  {
   "cell_type": "code",
   "execution_count": 31,
   "id": "176e5f8a",
   "metadata": {},
   "outputs": [
    {
     "data": {
      "text/plain": [
       "tensor(0.2875)"
      ]
     },
     "execution_count": 31,
     "metadata": {},
     "output_type": "execute_result"
    }
   ],
   "source": [
    "weighted_matrix_factorisation_loss(preds, labels, w_0=2)"
   ]
  },
  {
   "cell_type": "markdown",
   "id": "970f449a",
   "metadata": {},
   "source": [
    "### Format data"
   ]
  },
  {
   "cell_type": "markdown",
   "id": "3962d69b",
   "metadata": {},
   "source": [
    "Since all the users in the test said are included in training we utilise the full training set."
   ]
  },
  {
   "cell_type": "code",
   "execution_count": 32,
   "id": "19fa1c05",
   "metadata": {},
   "outputs": [
    {
     "data": {
      "text/html": [
       "<div>\n",
       "<style scoped>\n",
       "    .dataframe tbody tr th:only-of-type {\n",
       "        vertical-align: middle;\n",
       "    }\n",
       "\n",
       "    .dataframe tbody tr th {\n",
       "        vertical-align: top;\n",
       "    }\n",
       "\n",
       "    .dataframe thead th {\n",
       "        text-align: right;\n",
       "    }\n",
       "</style>\n",
       "<table border=\"1\" class=\"dataframe\">\n",
       "  <thead>\n",
       "    <tr style=\"text-align: right;\">\n",
       "      <th></th>\n",
       "      <th>t_dat</th>\n",
       "      <th>customer_id</th>\n",
       "      <th>article_id</th>\n",
       "      <th>price</th>\n",
       "      <th>sales_channel_id</th>\n",
       "      <th>customer_id_idx</th>\n",
       "      <th>article_id_idx</th>\n",
       "    </tr>\n",
       "  </thead>\n",
       "  <tbody>\n",
       "    <tr>\n",
       "      <th>0</th>\n",
       "      <td>2018-09-20</td>\n",
       "      <td>000058a12d5b43e67d225668fa1f8d618c13dc232df0ca...</td>\n",
       "      <td>0663713001</td>\n",
       "      <td>0.050831</td>\n",
       "      <td>2</td>\n",
       "      <td>0</td>\n",
       "      <td>40179</td>\n",
       "    </tr>\n",
       "    <tr>\n",
       "      <th>1</th>\n",
       "      <td>2018-09-20</td>\n",
       "      <td>000058a12d5b43e67d225668fa1f8d618c13dc232df0ca...</td>\n",
       "      <td>0541518023</td>\n",
       "      <td>0.030492</td>\n",
       "      <td>2</td>\n",
       "      <td>0</td>\n",
       "      <td>10520</td>\n",
       "    </tr>\n",
       "    <tr>\n",
       "      <th>2</th>\n",
       "      <td>2018-09-20</td>\n",
       "      <td>016d8f0519d9e0572b3abebeab87408bad7a5c3a284016...</td>\n",
       "      <td>0650193004</td>\n",
       "      <td>0.050831</td>\n",
       "      <td>1</td>\n",
       "      <td>1</td>\n",
       "      <td>36302</td>\n",
       "    </tr>\n",
       "    <tr>\n",
       "      <th>3</th>\n",
       "      <td>2018-09-20</td>\n",
       "      <td>016d8f0519d9e0572b3abebeab87408bad7a5c3a284016...</td>\n",
       "      <td>0527687006</td>\n",
       "      <td>0.101678</td>\n",
       "      <td>1</td>\n",
       "      <td>1</td>\n",
       "      <td>8963</td>\n",
       "    </tr>\n",
       "    <tr>\n",
       "      <th>4</th>\n",
       "      <td>2018-09-20</td>\n",
       "      <td>02bfe1a5248beb9cd28ad4ac630a6d75e78d9a3e14551a...</td>\n",
       "      <td>0668767002</td>\n",
       "      <td>0.016932</td>\n",
       "      <td>2</td>\n",
       "      <td>2</td>\n",
       "      <td>41390</td>\n",
       "    </tr>\n",
       "  </tbody>\n",
       "</table>\n",
       "</div>"
      ],
      "text/plain": [
       "       t_dat                                        customer_id  article_id  \\\n",
       "0 2018-09-20  000058a12d5b43e67d225668fa1f8d618c13dc232df0ca...  0663713001   \n",
       "1 2018-09-20  000058a12d5b43e67d225668fa1f8d618c13dc232df0ca...  0541518023   \n",
       "2 2018-09-20  016d8f0519d9e0572b3abebeab87408bad7a5c3a284016...  0650193004   \n",
       "3 2018-09-20  016d8f0519d9e0572b3abebeab87408bad7a5c3a284016...  0527687006   \n",
       "4 2018-09-20  02bfe1a5248beb9cd28ad4ac630a6d75e78d9a3e14551a...  0668767002   \n",
       "\n",
       "      price  sales_channel_id  customer_id_idx  article_id_idx  \n",
       "0  0.050831                 2                0           40179  \n",
       "1  0.030492                 2                0           10520  \n",
       "2  0.050831                 1                1           36302  \n",
       "3  0.101678                 1                1            8963  \n",
       "4  0.016932                 2                2           41390  "
      ]
     },
     "execution_count": 32,
     "metadata": {},
     "output_type": "execute_result"
    }
   ],
   "source": [
    "train_set.head()"
   ]
  },
  {
   "cell_type": "markdown",
   "id": "49a897b2",
   "metadata": {},
   "source": [
    "- Keep distinct purchases only\n",
    "- Discard date, price and channel columns"
   ]
  },
  {
   "cell_type": "code",
   "execution_count": 33,
   "id": "6001a24c",
   "metadata": {},
   "outputs": [
    {
     "data": {
      "text/plain": [
       "(490712, 2)"
      ]
     },
     "execution_count": 33,
     "metadata": {},
     "output_type": "execute_result"
    }
   ],
   "source": [
    "train_set_processed = train_set.copy()[['customer_id_idx', 'article_id_idx']].drop_duplicates(subset=['customer_id_idx', 'article_id_idx'])\n",
    "train_set_processed.shape"
   ]
  },
  {
   "cell_type": "code",
   "execution_count": 34,
   "id": "8f4f58e5",
   "metadata": {},
   "outputs": [
    {
     "data": {
      "text/html": [
       "<div>\n",
       "<style scoped>\n",
       "    .dataframe tbody tr th:only-of-type {\n",
       "        vertical-align: middle;\n",
       "    }\n",
       "\n",
       "    .dataframe tbody tr th {\n",
       "        vertical-align: top;\n",
       "    }\n",
       "\n",
       "    .dataframe thead th {\n",
       "        text-align: right;\n",
       "    }\n",
       "</style>\n",
       "<table border=\"1\" class=\"dataframe\">\n",
       "  <thead>\n",
       "    <tr style=\"text-align: right;\">\n",
       "      <th></th>\n",
       "      <th>customer_id_idx</th>\n",
       "      <th>article_id_idx</th>\n",
       "    </tr>\n",
       "  </thead>\n",
       "  <tbody>\n",
       "    <tr>\n",
       "      <th>0</th>\n",
       "      <td>0</td>\n",
       "      <td>40179</td>\n",
       "    </tr>\n",
       "    <tr>\n",
       "      <th>1</th>\n",
       "      <td>0</td>\n",
       "      <td>10520</td>\n",
       "    </tr>\n",
       "    <tr>\n",
       "      <th>2</th>\n",
       "      <td>1</td>\n",
       "      <td>36302</td>\n",
       "    </tr>\n",
       "    <tr>\n",
       "      <th>3</th>\n",
       "      <td>1</td>\n",
       "      <td>8963</td>\n",
       "    </tr>\n",
       "    <tr>\n",
       "      <th>4</th>\n",
       "      <td>2</td>\n",
       "      <td>41390</td>\n",
       "    </tr>\n",
       "  </tbody>\n",
       "</table>\n",
       "</div>"
      ],
      "text/plain": [
       "   customer_id_idx  article_id_idx\n",
       "0                0           40179\n",
       "1                0           10520\n",
       "2                1           36302\n",
       "3                1            8963\n",
       "4                2           41390"
      ]
     },
     "execution_count": 34,
     "metadata": {},
     "output_type": "execute_result"
    }
   ],
   "source": [
    "train_set_processed.head()"
   ]
  },
  {
   "cell_type": "markdown",
   "id": "15816fab",
   "metadata": {},
   "source": [
    "For each customer sample up to X non-purchased items to use as negative samples"
   ]
  },
  {
   "cell_type": "code",
   "execution_count": 35,
   "id": "3fdfbe25",
   "metadata": {},
   "outputs": [
    {
     "data": {
      "text/html": [
       "<div>\n",
       "<style scoped>\n",
       "    .dataframe tbody tr th:only-of-type {\n",
       "        vertical-align: middle;\n",
       "    }\n",
       "\n",
       "    .dataframe tbody tr th {\n",
       "        vertical-align: top;\n",
       "    }\n",
       "\n",
       "    .dataframe thead th {\n",
       "        text-align: right;\n",
       "    }\n",
       "</style>\n",
       "<table border=\"1\" class=\"dataframe\">\n",
       "  <thead>\n",
       "    <tr style=\"text-align: right;\">\n",
       "      <th></th>\n",
       "      <th>customer_id_idx</th>\n",
       "      <th>article_id_idx</th>\n",
       "    </tr>\n",
       "  </thead>\n",
       "  <tbody>\n",
       "    <tr>\n",
       "      <th>0</th>\n",
       "      <td>0</td>\n",
       "      <td>[40179, 10520, 18197, 59458, 1469, 60253, 6025...</td>\n",
       "    </tr>\n",
       "    <tr>\n",
       "      <th>1</th>\n",
       "      <td>1</td>\n",
       "      <td>[36302, 8963, 33359, 40263, 41176, 30842, 1581...</td>\n",
       "    </tr>\n",
       "    <tr>\n",
       "      <th>2</th>\n",
       "      <td>2</td>\n",
       "      <td>[41390, 46302, 46085, 38438, 37854, 44072, 466...</td>\n",
       "    </tr>\n",
       "    <tr>\n",
       "      <th>3</th>\n",
       "      <td>3</td>\n",
       "      <td>[31688, 12233, 14832, 31682, 31690, 17615, 204...</td>\n",
       "    </tr>\n",
       "    <tr>\n",
       "      <th>4</th>\n",
       "      <td>4</td>\n",
       "      <td>[15136, 22636, 33743, 50091, 74, 42605, 7230, ...</td>\n",
       "    </tr>\n",
       "  </tbody>\n",
       "</table>\n",
       "</div>"
      ],
      "text/plain": [
       "   customer_id_idx                                     article_id_idx\n",
       "0                0  [40179, 10520, 18197, 59458, 1469, 60253, 6025...\n",
       "1                1  [36302, 8963, 33359, 40263, 41176, 30842, 1581...\n",
       "2                2  [41390, 46302, 46085, 38438, 37854, 44072, 466...\n",
       "3                3  [31688, 12233, 14832, 31682, 31690, 17615, 204...\n",
       "4                4  [15136, 22636, 33743, 50091, 74, 42605, 7230, ..."
      ]
     },
     "execution_count": 35,
     "metadata": {},
     "output_type": "execute_result"
    }
   ],
   "source": [
    "purchases_by_customer_id_idx = train_set_processed.groupby('customer_id_idx')['article_id_idx'].apply(lambda x: list(x)).reset_index()\n",
    "purchases_by_customer_id_idx.head()"
   ]
  },
  {
   "cell_type": "code",
   "execution_count": 36,
   "id": "a8180f3d",
   "metadata": {},
   "outputs": [],
   "source": [
    "def negative_samples(excl):\n",
    "    samples = set(np.random.choice(len(article_id_to_idx), replace=False, size=10))\n",
    "    neg_samples = samples - set(excl)\n",
    "    return list(neg_samples)"
   ]
  },
  {
   "cell_type": "code",
   "execution_count": 37,
   "id": "9e23d765",
   "metadata": {},
   "outputs": [
    {
     "data": {
      "text/plain": [
       "[38018, 868, 83620, 94150, 54984, 80712, 47146, 20530, 83321, 20826]"
      ]
     },
     "execution_count": 37,
     "metadata": {},
     "output_type": "execute_result"
    }
   ],
   "source": [
    "negative_samples(purchases_by_customer_id_idx.iloc[0]['article_id_idx'])"
   ]
  },
  {
   "cell_type": "code",
   "execution_count": 38,
   "id": "a8f85eea",
   "metadata": {},
   "outputs": [
    {
     "name": "stdout",
     "output_type": "stream",
     "text": [
      "CPU times: user 13.9 s, sys: 27.5 ms, total: 13.9 s\n",
      "Wall time: 14 s\n"
     ]
    }
   ],
   "source": [
    "%%time\n",
    "purchases_by_customer_id_idx['negative_samples'] = purchases_by_customer_id_idx['article_id_idx'].apply(negative_samples)"
   ]
  },
  {
   "cell_type": "code",
   "execution_count": 39,
   "id": "f4984a89",
   "metadata": {},
   "outputs": [
    {
     "data": {
      "text/html": [
       "<div>\n",
       "<style scoped>\n",
       "    .dataframe tbody tr th:only-of-type {\n",
       "        vertical-align: middle;\n",
       "    }\n",
       "\n",
       "    .dataframe tbody tr th {\n",
       "        vertical-align: top;\n",
       "    }\n",
       "\n",
       "    .dataframe thead th {\n",
       "        text-align: right;\n",
       "    }\n",
       "</style>\n",
       "<table border=\"1\" class=\"dataframe\">\n",
       "  <thead>\n",
       "    <tr style=\"text-align: right;\">\n",
       "      <th></th>\n",
       "      <th>customer_id_idx</th>\n",
       "      <th>article_id_idx</th>\n",
       "      <th>negative_samples</th>\n",
       "    </tr>\n",
       "  </thead>\n",
       "  <tbody>\n",
       "    <tr>\n",
       "      <th>0</th>\n",
       "      <td>0</td>\n",
       "      <td>[40179, 10520, 18197, 59458, 1469, 60253, 6025...</td>\n",
       "      <td>[103427, 80422, 103207, 51402, 9707, 4330, 246...</td>\n",
       "    </tr>\n",
       "    <tr>\n",
       "      <th>1</th>\n",
       "      <td>1</td>\n",
       "      <td>[36302, 8963, 33359, 40263, 41176, 30842, 1581...</td>\n",
       "      <td>[79872, 64168, 45165, 64718, 50990, 20319, 103...</td>\n",
       "    </tr>\n",
       "    <tr>\n",
       "      <th>2</th>\n",
       "      <td>2</td>\n",
       "      <td>[41390, 46302, 46085, 38438, 37854, 44072, 466...</td>\n",
       "      <td>[79648, 12481, 24676, 81029, 59366, 103564, 87...</td>\n",
       "    </tr>\n",
       "    <tr>\n",
       "      <th>3</th>\n",
       "      <td>3</td>\n",
       "      <td>[31688, 12233, 14832, 31682, 31690, 17615, 204...</td>\n",
       "      <td>[39049, 13194, 64489, 49037, 61779, 82452, 536...</td>\n",
       "    </tr>\n",
       "    <tr>\n",
       "      <th>4</th>\n",
       "      <td>4</td>\n",
       "      <td>[15136, 22636, 33743, 50091, 74, 42605, 7230, ...</td>\n",
       "      <td>[64993, 69218, 259, 26151, 67817, 59309, 55533...</td>\n",
       "    </tr>\n",
       "  </tbody>\n",
       "</table>\n",
       "</div>"
      ],
      "text/plain": [
       "   customer_id_idx                                     article_id_idx  \\\n",
       "0                0  [40179, 10520, 18197, 59458, 1469, 60253, 6025...   \n",
       "1                1  [36302, 8963, 33359, 40263, 41176, 30842, 1581...   \n",
       "2                2  [41390, 46302, 46085, 38438, 37854, 44072, 466...   \n",
       "3                3  [31688, 12233, 14832, 31682, 31690, 17615, 204...   \n",
       "4                4  [15136, 22636, 33743, 50091, 74, 42605, 7230, ...   \n",
       "\n",
       "                                    negative_samples  \n",
       "0  [103427, 80422, 103207, 51402, 9707, 4330, 246...  \n",
       "1  [79872, 64168, 45165, 64718, 50990, 20319, 103...  \n",
       "2  [79648, 12481, 24676, 81029, 59366, 103564, 87...  \n",
       "3  [39049, 13194, 64489, 49037, 61779, 82452, 536...  \n",
       "4  [64993, 69218, 259, 26151, 67817, 59309, 55533...  "
      ]
     },
     "execution_count": 39,
     "metadata": {},
     "output_type": "execute_result"
    }
   ],
   "source": [
    "purchases_by_customer_id_idx.head()"
   ]
  },
  {
   "cell_type": "code",
   "execution_count": 40,
   "id": "3a1c29d7",
   "metadata": {},
   "outputs": [
    {
     "data": {
      "text/plain": [
       "10    9101\n",
       "9       47\n",
       "Name: negative_samples, dtype: int64"
      ]
     },
     "execution_count": 40,
     "metadata": {},
     "output_type": "execute_result"
    }
   ],
   "source": [
    "purchases_by_customer_id_idx['negative_samples'].apply(len).value_counts()"
   ]
  },
  {
   "cell_type": "code",
   "execution_count": 41,
   "id": "f3ecf804",
   "metadata": {},
   "outputs": [
    {
     "data": {
      "text/html": [
       "<div>\n",
       "<style scoped>\n",
       "    .dataframe tbody tr th:only-of-type {\n",
       "        vertical-align: middle;\n",
       "    }\n",
       "\n",
       "    .dataframe tbody tr th {\n",
       "        vertical-align: top;\n",
       "    }\n",
       "\n",
       "    .dataframe thead th {\n",
       "        text-align: right;\n",
       "    }\n",
       "</style>\n",
       "<table border=\"1\" class=\"dataframe\">\n",
       "  <thead>\n",
       "    <tr style=\"text-align: right;\">\n",
       "      <th></th>\n",
       "      <th>customer_id_idx</th>\n",
       "      <th>negative_samples</th>\n",
       "    </tr>\n",
       "  </thead>\n",
       "  <tbody>\n",
       "    <tr>\n",
       "      <th>0</th>\n",
       "      <td>0</td>\n",
       "      <td>103427</td>\n",
       "    </tr>\n",
       "    <tr>\n",
       "      <th>0</th>\n",
       "      <td>0</td>\n",
       "      <td>80422</td>\n",
       "    </tr>\n",
       "    <tr>\n",
       "      <th>0</th>\n",
       "      <td>0</td>\n",
       "      <td>103207</td>\n",
       "    </tr>\n",
       "    <tr>\n",
       "      <th>0</th>\n",
       "      <td>0</td>\n",
       "      <td>51402</td>\n",
       "    </tr>\n",
       "    <tr>\n",
       "      <th>0</th>\n",
       "      <td>0</td>\n",
       "      <td>9707</td>\n",
       "    </tr>\n",
       "  </tbody>\n",
       "</table>\n",
       "</div>"
      ],
      "text/plain": [
       "   customer_id_idx negative_samples\n",
       "0                0           103427\n",
       "0                0            80422\n",
       "0                0           103207\n",
       "0                0            51402\n",
       "0                0             9707"
      ]
     },
     "execution_count": 41,
     "metadata": {},
     "output_type": "execute_result"
    }
   ],
   "source": [
    "negative_samples_df = purchases_by_customer_id_idx[['customer_id_idx', 'negative_samples']].explode('negative_samples')\n",
    "negative_samples_df.head()"
   ]
  },
  {
   "cell_type": "code",
   "execution_count": 42,
   "id": "57c0159f",
   "metadata": {},
   "outputs": [],
   "source": [
    "negative_samples_df.rename(columns={'negative_samples': 'article_id_idx'}, inplace=True)\n",
    "negative_samples_df['purchased'] = 0"
   ]
  },
  {
   "cell_type": "code",
   "execution_count": 43,
   "id": "c178639c",
   "metadata": {},
   "outputs": [
    {
     "data": {
      "text/html": [
       "<div>\n",
       "<style scoped>\n",
       "    .dataframe tbody tr th:only-of-type {\n",
       "        vertical-align: middle;\n",
       "    }\n",
       "\n",
       "    .dataframe tbody tr th {\n",
       "        vertical-align: top;\n",
       "    }\n",
       "\n",
       "    .dataframe thead th {\n",
       "        text-align: right;\n",
       "    }\n",
       "</style>\n",
       "<table border=\"1\" class=\"dataframe\">\n",
       "  <thead>\n",
       "    <tr style=\"text-align: right;\">\n",
       "      <th></th>\n",
       "      <th>customer_id_idx</th>\n",
       "      <th>article_id_idx</th>\n",
       "      <th>purchased</th>\n",
       "    </tr>\n",
       "  </thead>\n",
       "  <tbody>\n",
       "    <tr>\n",
       "      <th>0</th>\n",
       "      <td>0</td>\n",
       "      <td>103427</td>\n",
       "      <td>0</td>\n",
       "    </tr>\n",
       "    <tr>\n",
       "      <th>0</th>\n",
       "      <td>0</td>\n",
       "      <td>80422</td>\n",
       "      <td>0</td>\n",
       "    </tr>\n",
       "    <tr>\n",
       "      <th>0</th>\n",
       "      <td>0</td>\n",
       "      <td>103207</td>\n",
       "      <td>0</td>\n",
       "    </tr>\n",
       "    <tr>\n",
       "      <th>0</th>\n",
       "      <td>0</td>\n",
       "      <td>51402</td>\n",
       "      <td>0</td>\n",
       "    </tr>\n",
       "    <tr>\n",
       "      <th>0</th>\n",
       "      <td>0</td>\n",
       "      <td>9707</td>\n",
       "      <td>0</td>\n",
       "    </tr>\n",
       "  </tbody>\n",
       "</table>\n",
       "</div>"
      ],
      "text/plain": [
       "   customer_id_idx article_id_idx  purchased\n",
       "0                0         103427          0\n",
       "0                0          80422          0\n",
       "0                0         103207          0\n",
       "0                0          51402          0\n",
       "0                0           9707          0"
      ]
     },
     "execution_count": 43,
     "metadata": {},
     "output_type": "execute_result"
    }
   ],
   "source": [
    "negative_samples_df.head()"
   ]
  },
  {
   "cell_type": "code",
   "execution_count": 44,
   "id": "9b931aff",
   "metadata": {},
   "outputs": [
    {
     "data": {
      "text/html": [
       "<div>\n",
       "<style scoped>\n",
       "    .dataframe tbody tr th:only-of-type {\n",
       "        vertical-align: middle;\n",
       "    }\n",
       "\n",
       "    .dataframe tbody tr th {\n",
       "        vertical-align: top;\n",
       "    }\n",
       "\n",
       "    .dataframe thead th {\n",
       "        text-align: right;\n",
       "    }\n",
       "</style>\n",
       "<table border=\"1\" class=\"dataframe\">\n",
       "  <thead>\n",
       "    <tr style=\"text-align: right;\">\n",
       "      <th></th>\n",
       "      <th>customer_id_idx</th>\n",
       "      <th>article_id_idx</th>\n",
       "      <th>purchased</th>\n",
       "    </tr>\n",
       "  </thead>\n",
       "  <tbody>\n",
       "    <tr>\n",
       "      <th>0</th>\n",
       "      <td>0</td>\n",
       "      <td>40179</td>\n",
       "      <td>1</td>\n",
       "    </tr>\n",
       "    <tr>\n",
       "      <th>1</th>\n",
       "      <td>0</td>\n",
       "      <td>10520</td>\n",
       "      <td>1</td>\n",
       "    </tr>\n",
       "    <tr>\n",
       "      <th>2</th>\n",
       "      <td>1</td>\n",
       "      <td>36302</td>\n",
       "      <td>1</td>\n",
       "    </tr>\n",
       "    <tr>\n",
       "      <th>3</th>\n",
       "      <td>1</td>\n",
       "      <td>8963</td>\n",
       "      <td>1</td>\n",
       "    </tr>\n",
       "    <tr>\n",
       "      <th>4</th>\n",
       "      <td>2</td>\n",
       "      <td>41390</td>\n",
       "      <td>1</td>\n",
       "    </tr>\n",
       "  </tbody>\n",
       "</table>\n",
       "</div>"
      ],
      "text/plain": [
       "   customer_id_idx  article_id_idx  purchased\n",
       "0                0           40179          1\n",
       "1                0           10520          1\n",
       "2                1           36302          1\n",
       "3                1            8963          1\n",
       "4                2           41390          1"
      ]
     },
     "execution_count": 44,
     "metadata": {},
     "output_type": "execute_result"
    }
   ],
   "source": [
    "positive_samples_df = train_set_processed.copy()[['customer_id_idx', 'article_id_idx']]\n",
    "positive_samples_df['purchased'] = 1\n",
    "\n",
    "positive_samples_df.head()"
   ]
  },
  {
   "cell_type": "code",
   "execution_count": 45,
   "id": "dd22a295",
   "metadata": {},
   "outputs": [
    {
     "name": "stderr",
     "output_type": "stream",
     "text": [
      "/var/folders/y7/s4mqr2gn1xs617jmcj6fc_ph0000gn/T/ipykernel_59757/1159554460.py:1: FutureWarning: The frame.append method is deprecated and will be removed from pandas in a future version. Use pandas.concat instead.\n",
      "  training_data_full = positive_samples_df.append(negative_samples_df)\n"
     ]
    },
    {
     "data": {
      "text/plain": [
       "(582145, 3)"
      ]
     },
     "execution_count": 45,
     "metadata": {},
     "output_type": "execute_result"
    }
   ],
   "source": [
    "training_data_full = positive_samples_df.append(negative_samples_df)\n",
    "training_data_full.shape"
   ]
  },
  {
   "cell_type": "code",
   "execution_count": 46,
   "id": "9f8d6519",
   "metadata": {},
   "outputs": [
    {
     "data": {
      "text/plain": [
       "0.8429377560573397"
      ]
     },
     "execution_count": 46,
     "metadata": {},
     "output_type": "execute_result"
    }
   ],
   "source": [
    "training_data_full['purchased'].mean()"
   ]
  },
  {
   "cell_type": "markdown",
   "id": "70e5dc58",
   "metadata": {},
   "source": [
    "Can shuffle in `DataLoader`"
   ]
  },
  {
   "cell_type": "code",
   "execution_count": 47,
   "id": "9e91ebd5",
   "metadata": {},
   "outputs": [
    {
     "data": {
      "text/html": [
       "<div>\n",
       "<style scoped>\n",
       "    .dataframe tbody tr th:only-of-type {\n",
       "        vertical-align: middle;\n",
       "    }\n",
       "\n",
       "    .dataframe tbody tr th {\n",
       "        vertical-align: top;\n",
       "    }\n",
       "\n",
       "    .dataframe thead th {\n",
       "        text-align: right;\n",
       "    }\n",
       "</style>\n",
       "<table border=\"1\" class=\"dataframe\">\n",
       "  <thead>\n",
       "    <tr style=\"text-align: right;\">\n",
       "      <th></th>\n",
       "      <th>customer_id_idx</th>\n",
       "      <th>article_id_idx</th>\n",
       "      <th>purchased</th>\n",
       "    </tr>\n",
       "  </thead>\n",
       "  <tbody>\n",
       "    <tr>\n",
       "      <th>0</th>\n",
       "      <td>0</td>\n",
       "      <td>40179</td>\n",
       "      <td>1</td>\n",
       "    </tr>\n",
       "    <tr>\n",
       "      <th>1</th>\n",
       "      <td>0</td>\n",
       "      <td>10520</td>\n",
       "      <td>1</td>\n",
       "    </tr>\n",
       "    <tr>\n",
       "      <th>2</th>\n",
       "      <td>1</td>\n",
       "      <td>36302</td>\n",
       "      <td>1</td>\n",
       "    </tr>\n",
       "    <tr>\n",
       "      <th>3</th>\n",
       "      <td>1</td>\n",
       "      <td>8963</td>\n",
       "      <td>1</td>\n",
       "    </tr>\n",
       "    <tr>\n",
       "      <th>4</th>\n",
       "      <td>2</td>\n",
       "      <td>41390</td>\n",
       "      <td>1</td>\n",
       "    </tr>\n",
       "  </tbody>\n",
       "</table>\n",
       "</div>"
      ],
      "text/plain": [
       "   customer_id_idx article_id_idx  purchased\n",
       "0                0          40179          1\n",
       "1                0          10520          1\n",
       "2                1          36302          1\n",
       "3                1           8963          1\n",
       "4                2          41390          1"
      ]
     },
     "execution_count": 47,
     "metadata": {},
     "output_type": "execute_result"
    }
   ],
   "source": [
    "training_data_full.head()"
   ]
  },
  {
   "cell_type": "code",
   "execution_count": 48,
   "id": "b8a04f45",
   "metadata": {},
   "outputs": [],
   "source": [
    "class PurchasesDataset(Dataset):\n",
    "\n",
    "    def __init__(self):\n",
    "        self.customer_id_idx = training_data_full['customer_id_idx'].values\n",
    "        self.article_id_idx = training_data_full['article_id_idx'].values\n",
    "        self.purchased = training_data_full['purchased'].values\n",
    "\n",
    "    def __len__(self):\n",
    "        return self.customer_id_idx.shape[0]\n",
    "\n",
    "    def __getitem__(self, idx):\n",
    "        if torch.is_tensor(idx):\n",
    "            idx = idx.tolist()\n",
    "        \n",
    "        return self.customer_id_idx[idx], self.article_id_idx[idx], self.purchased[idx]"
   ]
  },
  {
   "cell_type": "code",
   "execution_count": 49,
   "id": "73937b3f",
   "metadata": {},
   "outputs": [],
   "source": [
    "class MatrixFactorisation(nn.Module):\n",
    "\n",
    "    def __init__(self):\n",
    "        super(MatrixFactorisation, self).__init__()\n",
    "        \n",
    "        self.user_embeddings = nn.Embedding(num_embeddings=len(customer_id_to_idx), embedding_dim=100)\n",
    "        \n",
    "        self.item_embeddings = nn.Embedding(num_embeddings=len(article_id_to_idx), embedding_dim=100)\n",
    "\n",
    "    def forward(self, user_id, item_id):\n",
    "        \n",
    "        user_emb = self.user_embeddings(user_id)\n",
    "        item_emb = self.item_embeddings(item_id)\n",
    "        \n",
    "        scores = torch.diagonal(\n",
    "            torch.matmul(user_emb, item_emb.T)\n",
    "        )\n",
    "        \n",
    "        return scores"
   ]
  },
  {
   "cell_type": "code",
   "execution_count": 66,
   "id": "d3d912c1",
   "metadata": {},
   "outputs": [],
   "source": [
    "matrix_fact_model = MatrixFactorisation()"
   ]
  },
  {
   "cell_type": "code",
   "execution_count": 67,
   "id": "4b39d123",
   "metadata": {},
   "outputs": [],
   "source": [
    "train_dataset = PurchasesDataset()"
   ]
  },
  {
   "cell_type": "code",
   "execution_count": 68,
   "id": "48294797",
   "metadata": {},
   "outputs": [],
   "source": [
    "BATCH_SIZE = 2048\n",
    "\n",
    "train_loader = DataLoader(train_dataset, batch_size=BATCH_SIZE, shuffle=True)  "
   ]
  },
  {
   "cell_type": "code",
   "execution_count": 69,
   "id": "9a21949e",
   "metadata": {},
   "outputs": [],
   "source": [
    "# # Selecting a subset of data\n",
    "# subset = torch.utils.data.Subset(train_dataset, [1])\n",
    "\n",
    "# train_loader = DataLoader(subset, batch_size=BATCH_SIZE)  "
   ]
  },
  {
   "cell_type": "code",
   "execution_count": 70,
   "id": "0e68dcdb",
   "metadata": {},
   "outputs": [],
   "source": [
    "optimizer = torch.optim.Adam(params=matrix_fact_model.parameters(), lr=0.001)"
   ]
  },
  {
   "cell_type": "code",
   "execution_count": 71,
   "id": "792ca20b",
   "metadata": {},
   "outputs": [
    {
     "name": "stderr",
     "output_type": "stream",
     "text": [
      "100%|████████████████████████████████████████████████████████████████████████████████████████████████████████████████████████████████████████████████████████████████████████████████████████████████████| 285/285 [00:28<00:00, 10.06it/s]\n"
     ]
    },
    {
     "name": "stdout",
     "output_type": "stream",
     "text": [
      "Training loss: 0.6864453676328911\n"
     ]
    },
    {
     "name": "stderr",
     "output_type": "stream",
     "text": [
      "100%|████████████████████████████████████████████████████████████████████████████████████████████████████████████████████████████████████████████████████████████████████████████████████████████████████| 285/285 [00:32<00:00,  8.65it/s]\n"
     ]
    },
    {
     "name": "stdout",
     "output_type": "stream",
     "text": [
      "Training loss: 0.5573882387203504\n"
     ]
    },
    {
     "name": "stderr",
     "output_type": "stream",
     "text": [
      "100%|████████████████████████████████████████████████████████████████████████████████████████████████████████████████████████████████████████████████████████████████████████████████████████████████████| 285/285 [00:33<00:00,  8.49it/s]\n"
     ]
    },
    {
     "name": "stdout",
     "output_type": "stream",
     "text": [
      "Training loss: 0.4500347234203708\n"
     ]
    },
    {
     "name": "stderr",
     "output_type": "stream",
     "text": [
      "100%|████████████████████████████████████████████████████████████████████████████████████████████████████████████████████████████████████████████████████████████████████████████████████████████████████| 285/285 [00:35<00:00,  8.03it/s]\n"
     ]
    },
    {
     "name": "stdout",
     "output_type": "stream",
     "text": [
      "Training loss: 0.3619071859273522\n"
     ]
    },
    {
     "name": "stderr",
     "output_type": "stream",
     "text": [
      "100%|████████████████████████████████████████████████████████████████████████████████████████████████████████████████████████████████████████████████████████████████████████████████████████████████████| 285/285 [00:33<00:00,  8.44it/s]\n"
     ]
    },
    {
     "name": "stdout",
     "output_type": "stream",
     "text": [
      "Training loss: 0.28996176327847245\n"
     ]
    },
    {
     "name": "stderr",
     "output_type": "stream",
     "text": [
      "100%|████████████████████████████████████████████████████████████████████████████████████████████████████████████████████████████████████████████████████████████████████████████████████████████████████| 285/285 [00:31<00:00,  9.18it/s]\n"
     ]
    },
    {
     "name": "stdout",
     "output_type": "stream",
     "text": [
      "Training loss: 0.23141957549974126\n"
     ]
    },
    {
     "name": "stderr",
     "output_type": "stream",
     "text": [
      "100%|████████████████████████████████████████████████████████████████████████████████████████████████████████████████████████████████████████████████████████████████████████████████████████████████████| 285/285 [00:31<00:00,  8.95it/s]\n"
     ]
    },
    {
     "name": "stdout",
     "output_type": "stream",
     "text": [
      "Training loss: 0.18402715968572114\n"
     ]
    },
    {
     "name": "stderr",
     "output_type": "stream",
     "text": [
      "100%|████████████████████████████████████████████████████████████████████████████████████████████████████████████████████████████████████████████████████████████████████████████████████████████████████| 285/285 [00:26<00:00, 10.90it/s]\n"
     ]
    },
    {
     "name": "stdout",
     "output_type": "stream",
     "text": [
      "Training loss: 0.14554411742297516\n"
     ]
    },
    {
     "name": "stderr",
     "output_type": "stream",
     "text": [
      "100%|████████████████████████████████████████████████████████████████████████████████████████████████████████████████████████████████████████████████████████████████████████████████████████████████████| 285/285 [00:25<00:00, 11.09it/s]\n"
     ]
    },
    {
     "name": "stdout",
     "output_type": "stream",
     "text": [
      "Training loss: 0.1146071857538595\n"
     ]
    },
    {
     "name": "stderr",
     "output_type": "stream",
     "text": [
      "100%|████████████████████████████████████████████████████████████████████████████████████████████████████████████████████████████████████████████████████████████████████████████████████████████████████| 285/285 [00:25<00:00, 11.08it/s]\n"
     ]
    },
    {
     "name": "stdout",
     "output_type": "stream",
     "text": [
      "Training loss: 0.08977562148054835\n",
      "MAP@12: 0.0\n"
     ]
    }
   ],
   "source": [
    "MAX_EPOCHS = 10\n",
    "training_losses = []\n",
    "dev_maps = []\n",
    "\n",
    "for epoch in range(MAX_EPOCHS):\n",
    "    \n",
    "    for data in tqdm(train_loader):\n",
    "        \n",
    "        user_id, item_id, label = data\n",
    "        \n",
    "        user_id, item_id, label = user_id.to(device), item_id.to(device), label.to(device)\n",
    "\n",
    "        optimizer.zero_grad()  # Set gradients to 0 otherwise will accumulate\n",
    "\n",
    "        pred = matrix_fact_model(user_id, item_id)\n",
    "        \n",
    "        loss = weighted_matrix_factorisation_loss(pred, label, w_0=1)\n",
    "\n",
    "        loss.backward()  \n",
    "        \n",
    "        optimizer.step()\n",
    "        \n",
    "    # Compute training loss\n",
    "    \n",
    "    total_train_loss = 0\n",
    "\n",
    "    matrix_fact_model.eval()\n",
    "\n",
    "    with torch.no_grad():\n",
    "        for data in DataLoader(train_dataset, batch_size=BATCH_SIZE):\n",
    "            \n",
    "            user_id, item_id, label = data\n",
    "        \n",
    "            user_id, item_id, label = user_id.to(device), item_id.to(device), label.to(device)\n",
    "\n",
    "            optimizer.zero_grad()  # Set gradients to 0 otherwise will accumulate\n",
    "\n",
    "            pred = matrix_fact_model(user_id, item_id)\n",
    "\n",
    "            loss = weighted_matrix_factorisation_loss(pred, label, w_0=100)\n",
    "\n",
    "            total_train_loss += loss.item()\n",
    "\n",
    "        mean_train_loss = total_train_loss / len(train_dataset)\n",
    "\n",
    "        print(f\"Training loss: {mean_train_loss}\")\n",
    "        training_losses.append(mean_train_loss)\n",
    "    \n",
    "    matrix_fact_model.train()\n",
    "    \n",
    "# Compute dev MAP@12\n",
    "\n",
    "pred = torch.matmul(matrix_fact_model.user_embeddings.weight, matrix_fact_model.item_embeddings.weight.T)\n",
    "\n",
    "recommendations = torch.argsort(input=pred, dim=1, descending=True)\n",
    "\n",
    "predictions = recommendations[customer_id_idx_ordered, :12].tolist()\n",
    "\n",
    "dev_map12 = mapk(dev_actuals, predictions, k=12)\n",
    "\n",
    "print(f\"MAP@12: {dev_map12}\")\n",
    "dev_maps.append(dev_map12)"
   ]
  },
  {
   "cell_type": "code",
   "execution_count": null,
   "id": "b9635b0e",
   "metadata": {},
   "outputs": [],
   "source": []
  },
  {
   "cell_type": "code",
   "execution_count": 45,
   "id": "c3c78559",
   "metadata": {},
   "outputs": [
    {
     "data": {
      "text/plain": [
       "Parameter containing:\n",
       "tensor([[ 0.4442, -0.8025, -0.1586,  ..., -0.1448,  0.5957,  0.4347],\n",
       "        [-0.3507, -0.2127,  0.3654,  ...,  0.0209,  0.1289, -0.5420],\n",
       "        [ 0.2725,  0.2459,  0.0296,  ...,  0.7285, -0.0817,  0.1481],\n",
       "        ...,\n",
       "        [-0.3547, -0.1531,  0.2274,  ...,  0.0315, -0.1099,  0.4630],\n",
       "        [-0.1552, -0.2548,  0.4993,  ..., -0.1012,  0.1220, -0.2450],\n",
       "        [ 0.0562, -0.0025, -0.0429,  ..., -0.0906, -0.0200,  0.1363]],\n",
       "       requires_grad=True)"
      ]
     },
     "execution_count": 45,
     "metadata": {},
     "output_type": "execute_result"
    }
   ],
   "source": [
    "matrix_fact_model.user_embeddings.weight"
   ]
  },
  {
   "cell_type": "code",
   "execution_count": 47,
   "id": "f762f38b",
   "metadata": {},
   "outputs": [
    {
     "data": {
      "text/html": [
       "<div>\n",
       "<style scoped>\n",
       "    .dataframe tbody tr th:only-of-type {\n",
       "        vertical-align: middle;\n",
       "    }\n",
       "\n",
       "    .dataframe tbody tr th {\n",
       "        vertical-align: top;\n",
       "    }\n",
       "\n",
       "    .dataframe thead th {\n",
       "        text-align: right;\n",
       "    }\n",
       "</style>\n",
       "<table border=\"1\" class=\"dataframe\">\n",
       "  <thead>\n",
       "    <tr style=\"text-align: right;\">\n",
       "      <th></th>\n",
       "      <th>article_id</th>\n",
       "      <th>prod_name</th>\n",
       "      <th>product_type_name</th>\n",
       "      <th>product_group_name</th>\n",
       "      <th>detail_desc</th>\n",
       "    </tr>\n",
       "  </thead>\n",
       "  <tbody>\n",
       "    <tr>\n",
       "      <th>0</th>\n",
       "      <td>0108775015</td>\n",
       "      <td>Strap top</td>\n",
       "      <td>Vest top</td>\n",
       "      <td>Garment Upper body</td>\n",
       "      <td>Jersey top with narrow shoulder straps.</td>\n",
       "    </tr>\n",
       "    <tr>\n",
       "      <th>1</th>\n",
       "      <td>0108775044</td>\n",
       "      <td>Strap top</td>\n",
       "      <td>Vest top</td>\n",
       "      <td>Garment Upper body</td>\n",
       "      <td>Jersey top with narrow shoulder straps.</td>\n",
       "    </tr>\n",
       "    <tr>\n",
       "      <th>2</th>\n",
       "      <td>0108775051</td>\n",
       "      <td>Strap top (1)</td>\n",
       "      <td>Vest top</td>\n",
       "      <td>Garment Upper body</td>\n",
       "      <td>Jersey top with narrow shoulder straps.</td>\n",
       "    </tr>\n",
       "    <tr>\n",
       "      <th>3</th>\n",
       "      <td>0110065001</td>\n",
       "      <td>OP T-shirt (Idro)</td>\n",
       "      <td>Bra</td>\n",
       "      <td>Underwear</td>\n",
       "      <td>Microfibre T-shirt bra with underwired, moulde...</td>\n",
       "    </tr>\n",
       "    <tr>\n",
       "      <th>4</th>\n",
       "      <td>0110065002</td>\n",
       "      <td>OP T-shirt (Idro)</td>\n",
       "      <td>Bra</td>\n",
       "      <td>Underwear</td>\n",
       "      <td>Microfibre T-shirt bra with underwired, moulde...</td>\n",
       "    </tr>\n",
       "  </tbody>\n",
       "</table>\n",
       "</div>"
      ],
      "text/plain": [
       "   article_id          prod_name product_type_name  product_group_name  \\\n",
       "0  0108775015          Strap top          Vest top  Garment Upper body   \n",
       "1  0108775044          Strap top          Vest top  Garment Upper body   \n",
       "2  0108775051      Strap top (1)          Vest top  Garment Upper body   \n",
       "3  0110065001  OP T-shirt (Idro)               Bra           Underwear   \n",
       "4  0110065002  OP T-shirt (Idro)               Bra           Underwear   \n",
       "\n",
       "                                         detail_desc  \n",
       "0            Jersey top with narrow shoulder straps.  \n",
       "1            Jersey top with narrow shoulder straps.  \n",
       "2            Jersey top with narrow shoulder straps.  \n",
       "3  Microfibre T-shirt bra with underwired, moulde...  \n",
       "4  Microfibre T-shirt bra with underwired, moulde...  "
      ]
     },
     "execution_count": 47,
     "metadata": {},
     "output_type": "execute_result"
    }
   ],
   "source": [
    "articles_df.head()"
   ]
  },
  {
   "cell_type": "code",
   "execution_count": 48,
   "id": "90600b6a",
   "metadata": {},
   "outputs": [],
   "source": [
    "articles_df['article_id_idx'] = articles_df['article_id'].map(article_id_to_idx)"
   ]
  },
  {
   "cell_type": "code",
   "execution_count": 49,
   "id": "bf6c5fb0",
   "metadata": {},
   "outputs": [
    {
     "data": {
      "text/html": [
       "<div>\n",
       "<style scoped>\n",
       "    .dataframe tbody tr th:only-of-type {\n",
       "        vertical-align: middle;\n",
       "    }\n",
       "\n",
       "    .dataframe tbody tr th {\n",
       "        vertical-align: top;\n",
       "    }\n",
       "\n",
       "    .dataframe thead th {\n",
       "        text-align: right;\n",
       "    }\n",
       "</style>\n",
       "<table border=\"1\" class=\"dataframe\">\n",
       "  <thead>\n",
       "    <tr style=\"text-align: right;\">\n",
       "      <th></th>\n",
       "      <th>article_id</th>\n",
       "      <th>prod_name</th>\n",
       "      <th>product_type_name</th>\n",
       "      <th>product_group_name</th>\n",
       "      <th>detail_desc</th>\n",
       "      <th>article_id_idx</th>\n",
       "    </tr>\n",
       "  </thead>\n",
       "  <tbody>\n",
       "    <tr>\n",
       "      <th>0</th>\n",
       "      <td>0108775015</td>\n",
       "      <td>Strap top</td>\n",
       "      <td>Vest top</td>\n",
       "      <td>Garment Upper body</td>\n",
       "      <td>Jersey top with narrow shoulder straps.</td>\n",
       "      <td>0</td>\n",
       "    </tr>\n",
       "    <tr>\n",
       "      <th>1</th>\n",
       "      <td>0108775044</td>\n",
       "      <td>Strap top</td>\n",
       "      <td>Vest top</td>\n",
       "      <td>Garment Upper body</td>\n",
       "      <td>Jersey top with narrow shoulder straps.</td>\n",
       "      <td>1</td>\n",
       "    </tr>\n",
       "    <tr>\n",
       "      <th>2</th>\n",
       "      <td>0108775051</td>\n",
       "      <td>Strap top (1)</td>\n",
       "      <td>Vest top</td>\n",
       "      <td>Garment Upper body</td>\n",
       "      <td>Jersey top with narrow shoulder straps.</td>\n",
       "      <td>2</td>\n",
       "    </tr>\n",
       "    <tr>\n",
       "      <th>3</th>\n",
       "      <td>0110065001</td>\n",
       "      <td>OP T-shirt (Idro)</td>\n",
       "      <td>Bra</td>\n",
       "      <td>Underwear</td>\n",
       "      <td>Microfibre T-shirt bra with underwired, moulde...</td>\n",
       "      <td>3</td>\n",
       "    </tr>\n",
       "    <tr>\n",
       "      <th>4</th>\n",
       "      <td>0110065002</td>\n",
       "      <td>OP T-shirt (Idro)</td>\n",
       "      <td>Bra</td>\n",
       "      <td>Underwear</td>\n",
       "      <td>Microfibre T-shirt bra with underwired, moulde...</td>\n",
       "      <td>4</td>\n",
       "    </tr>\n",
       "  </tbody>\n",
       "</table>\n",
       "</div>"
      ],
      "text/plain": [
       "   article_id          prod_name product_type_name  product_group_name  \\\n",
       "0  0108775015          Strap top          Vest top  Garment Upper body   \n",
       "1  0108775044          Strap top          Vest top  Garment Upper body   \n",
       "2  0108775051      Strap top (1)          Vest top  Garment Upper body   \n",
       "3  0110065001  OP T-shirt (Idro)               Bra           Underwear   \n",
       "4  0110065002  OP T-shirt (Idro)               Bra           Underwear   \n",
       "\n",
       "                                         detail_desc  article_id_idx  \n",
       "0            Jersey top with narrow shoulder straps.               0  \n",
       "1            Jersey top with narrow shoulder straps.               1  \n",
       "2            Jersey top with narrow shoulder straps.               2  \n",
       "3  Microfibre T-shirt bra with underwired, moulde...               3  \n",
       "4  Microfibre T-shirt bra with underwired, moulde...               4  "
      ]
     },
     "execution_count": 49,
     "metadata": {},
     "output_type": "execute_result"
    }
   ],
   "source": [
    "articles_df.head()"
   ]
  },
  {
   "cell_type": "code",
   "execution_count": 50,
   "id": "f9caf8c9",
   "metadata": {},
   "outputs": [],
   "source": [
    "from sklearn.metrics.pairwise import cosine_similarity"
   ]
  },
  {
   "cell_type": "code",
   "execution_count": 51,
   "id": "0659aa3b",
   "metadata": {},
   "outputs": [
    {
     "name": "stdout",
     "output_type": "stream",
     "text": [
      "CPU times: user 8.65 ms, sys: 3.24 ms, total: 11.9 ms\n",
      "Wall time: 8.4 ms\n"
     ]
    }
   ],
   "source": [
    "%%time\n",
    "sim = cosine_similarity(\n",
    "    matrix_fact_model.item_embeddings.weight.detach().numpy()[3].reshape(1, -1), \n",
    "    matrix_fact_model.item_embeddings.weight.detach().numpy()\n",
    ")"
   ]
  },
  {
   "cell_type": "code",
   "execution_count": 52,
   "id": "d9a5c68a",
   "metadata": {},
   "outputs": [
    {
     "data": {
      "text/plain": [
       "array([     3,  82703, 101990,  25474,  63585,  93517,  85960,  15959,\n",
       "        45779,  44749])"
      ]
     },
     "execution_count": 52,
     "metadata": {},
     "output_type": "execute_result"
    }
   ],
   "source": [
    "k = 10\n",
    "\n",
    "closest_k = np.flip(np.argsort(sim)).flatten()[:k]\n",
    "closest_k"
   ]
  },
  {
   "cell_type": "code",
   "execution_count": 53,
   "id": "d7346596",
   "metadata": {},
   "outputs": [
    {
     "data": {
      "text/html": [
       "<div>\n",
       "<style scoped>\n",
       "    .dataframe tbody tr th:only-of-type {\n",
       "        vertical-align: middle;\n",
       "    }\n",
       "\n",
       "    .dataframe tbody tr th {\n",
       "        vertical-align: top;\n",
       "    }\n",
       "\n",
       "    .dataframe thead th {\n",
       "        text-align: right;\n",
       "    }\n",
       "</style>\n",
       "<table border=\"1\" class=\"dataframe\">\n",
       "  <thead>\n",
       "    <tr style=\"text-align: right;\">\n",
       "      <th></th>\n",
       "      <th>article_id</th>\n",
       "      <th>prod_name</th>\n",
       "      <th>product_type_name</th>\n",
       "      <th>product_group_name</th>\n",
       "      <th>detail_desc</th>\n",
       "      <th>article_id_idx</th>\n",
       "    </tr>\n",
       "  </thead>\n",
       "  <tbody>\n",
       "    <tr>\n",
       "      <th>3</th>\n",
       "      <td>0110065001</td>\n",
       "      <td>OP T-shirt (Idro)</td>\n",
       "      <td>Bra</td>\n",
       "      <td>Underwear</td>\n",
       "      <td>Microfibre T-shirt bra with underwired, moulde...</td>\n",
       "      <td>3</td>\n",
       "    </tr>\n",
       "    <tr>\n",
       "      <th>15959</th>\n",
       "      <td>0568556001</td>\n",
       "      <td>LACE SKIRT</td>\n",
       "      <td>Skirt</td>\n",
       "      <td>Garment Lower body</td>\n",
       "      <td>Short imitation suede skirt in a double layer ...</td>\n",
       "      <td>15959</td>\n",
       "    </tr>\n",
       "    <tr>\n",
       "      <th>25474</th>\n",
       "      <td>0613081001</td>\n",
       "      <td>Jacket Oversize 19.99</td>\n",
       "      <td>Jacket</td>\n",
       "      <td>Garment Upper body</td>\n",
       "      <td>Oversized denim jacket with a collar and smoot...</td>\n",
       "      <td>25474</td>\n",
       "    </tr>\n",
       "    <tr>\n",
       "      <th>44749</th>\n",
       "      <td>0681120001</td>\n",
       "      <td>DUNGAREE L/L SLIM STEVIE</td>\n",
       "      <td>Dungarees</td>\n",
       "      <td>Garment Full body</td>\n",
       "      <td>Dungarees in washed stretch denim with a chest...</td>\n",
       "      <td>44749</td>\n",
       "    </tr>\n",
       "    <tr>\n",
       "      <th>45779</th>\n",
       "      <td>0684186002</td>\n",
       "      <td>Nottie RW wide cropped</td>\n",
       "      <td>Trousers</td>\n",
       "      <td>Garment Lower body</td>\n",
       "      <td>Ankle-length twill trousers with a regular wai...</td>\n",
       "      <td>45779</td>\n",
       "    </tr>\n",
       "    <tr>\n",
       "      <th>63585</th>\n",
       "      <td>0739590002</td>\n",
       "      <td>Timeles Cheeky Brief</td>\n",
       "      <td>Swimwear bottom</td>\n",
       "      <td>Swimwear</td>\n",
       "      <td>Fully lined bikini bottoms with a low waist an...</td>\n",
       "      <td>63585</td>\n",
       "    </tr>\n",
       "    <tr>\n",
       "      <th>82703</th>\n",
       "      <td>0809570003</td>\n",
       "      <td>Regular Straight 89</td>\n",
       "      <td>Trousers</td>\n",
       "      <td>Garment Lower body</td>\n",
       "      <td>5-pocket jeans in soft, stretch denim with wor...</td>\n",
       "      <td>82703</td>\n",
       "    </tr>\n",
       "    <tr>\n",
       "      <th>85960</th>\n",
       "      <td>0821771001</td>\n",
       "      <td>Brenda DEAL set</td>\n",
       "      <td>Shorts</td>\n",
       "      <td>Garment Lower body</td>\n",
       "      <td>Set with a T-shirt in cotton jersey and pair o...</td>\n",
       "      <td>85960</td>\n",
       "    </tr>\n",
       "    <tr>\n",
       "      <th>93517</th>\n",
       "      <td>0858487001</td>\n",
       "      <td>Manila denim shorts</td>\n",
       "      <td>Shorts</td>\n",
       "      <td>Garment Lower body</td>\n",
       "      <td>Shorts in soft, stretch denim with an elastica...</td>\n",
       "      <td>93517</td>\n",
       "    </tr>\n",
       "    <tr>\n",
       "      <th>101990</th>\n",
       "      <td>0901316001</td>\n",
       "      <td>Special Occ SCALA dress</td>\n",
       "      <td>Dress</td>\n",
       "      <td>Garment Full body</td>\n",
       "      <td>Dress in crisp tulle with an embroidered yoke,...</td>\n",
       "      <td>101990</td>\n",
       "    </tr>\n",
       "  </tbody>\n",
       "</table>\n",
       "</div>"
      ],
      "text/plain": [
       "        article_id                 prod_name product_type_name  \\\n",
       "3       0110065001         OP T-shirt (Idro)               Bra   \n",
       "15959   0568556001                LACE SKIRT             Skirt   \n",
       "25474   0613081001     Jacket Oversize 19.99            Jacket   \n",
       "44749   0681120001  DUNGAREE L/L SLIM STEVIE         Dungarees   \n",
       "45779   0684186002    Nottie RW wide cropped          Trousers   \n",
       "63585   0739590002      Timeles Cheeky Brief   Swimwear bottom   \n",
       "82703   0809570003       Regular Straight 89          Trousers   \n",
       "85960   0821771001           Brenda DEAL set            Shorts   \n",
       "93517   0858487001       Manila denim shorts            Shorts   \n",
       "101990  0901316001   Special Occ SCALA dress             Dress   \n",
       "\n",
       "        product_group_name                                        detail_desc  \\\n",
       "3                Underwear  Microfibre T-shirt bra with underwired, moulde...   \n",
       "15959   Garment Lower body  Short imitation suede skirt in a double layer ...   \n",
       "25474   Garment Upper body  Oversized denim jacket with a collar and smoot...   \n",
       "44749    Garment Full body  Dungarees in washed stretch denim with a chest...   \n",
       "45779   Garment Lower body  Ankle-length twill trousers with a regular wai...   \n",
       "63585             Swimwear  Fully lined bikini bottoms with a low waist an...   \n",
       "82703   Garment Lower body  5-pocket jeans in soft, stretch denim with wor...   \n",
       "85960   Garment Lower body  Set with a T-shirt in cotton jersey and pair o...   \n",
       "93517   Garment Lower body  Shorts in soft, stretch denim with an elastica...   \n",
       "101990   Garment Full body  Dress in crisp tulle with an embroidered yoke,...   \n",
       "\n",
       "        article_id_idx  \n",
       "3                    3  \n",
       "15959            15959  \n",
       "25474            25474  \n",
       "44749            44749  \n",
       "45779            45779  \n",
       "63585            63585  \n",
       "82703            82703  \n",
       "85960            85960  \n",
       "93517            93517  \n",
       "101990          101990  "
      ]
     },
     "execution_count": 53,
     "metadata": {},
     "output_type": "execute_result"
    }
   ],
   "source": [
    "articles_df[\n",
    "    articles_df['article_id_idx'].isin(closest_k)\n",
    "]"
   ]
  },
  {
   "cell_type": "code",
   "execution_count": 54,
   "id": "a1719137",
   "metadata": {},
   "outputs": [
    {
     "data": {
      "text/plain": [
       "customer_id_idx\n",
       "0        13\n",
       "1        54\n",
       "2       136\n",
       "3        99\n",
       "4        40\n",
       "       ... \n",
       "9203      3\n",
       "9204      1\n",
       "9205      5\n",
       "9206      6\n",
       "9207     13\n",
       "Name: article_id, Length: 9208, dtype: int64"
      ]
     },
     "execution_count": 54,
     "metadata": {},
     "output_type": "execute_result"
    }
   ],
   "source": [
    "train_set_processed.groupby('customer_id_idx')['article_id'].count()"
   ]
  },
  {
   "cell_type": "code",
   "execution_count": 55,
   "id": "b3bba90f",
   "metadata": {},
   "outputs": [
    {
     "data": {
      "text/html": [
       "<div>\n",
       "<style scoped>\n",
       "    .dataframe tbody tr th:only-of-type {\n",
       "        vertical-align: middle;\n",
       "    }\n",
       "\n",
       "    .dataframe tbody tr th {\n",
       "        vertical-align: top;\n",
       "    }\n",
       "\n",
       "    .dataframe thead th {\n",
       "        text-align: right;\n",
       "    }\n",
       "</style>\n",
       "<table border=\"1\" class=\"dataframe\">\n",
       "  <thead>\n",
       "    <tr style=\"text-align: right;\">\n",
       "      <th></th>\n",
       "      <th>customer_id</th>\n",
       "      <th>article_id</th>\n",
       "      <th>article_id_idx</th>\n",
       "      <th>customer_id_idx</th>\n",
       "    </tr>\n",
       "  </thead>\n",
       "  <tbody>\n",
       "    <tr>\n",
       "      <th>0</th>\n",
       "      <td>000058a12d5b43e67d225668fa1f8d618c13dc232df0ca...</td>\n",
       "      <td>0663713001</td>\n",
       "      <td>40179</td>\n",
       "      <td>0</td>\n",
       "    </tr>\n",
       "    <tr>\n",
       "      <th>1</th>\n",
       "      <td>000058a12d5b43e67d225668fa1f8d618c13dc232df0ca...</td>\n",
       "      <td>0541518023</td>\n",
       "      <td>10520</td>\n",
       "      <td>0</td>\n",
       "    </tr>\n",
       "    <tr>\n",
       "      <th>109623</th>\n",
       "      <td>000058a12d5b43e67d225668fa1f8d618c13dc232df0ca...</td>\n",
       "      <td>0578020002</td>\n",
       "      <td>18197</td>\n",
       "      <td>0</td>\n",
       "    </tr>\n",
       "    <tr>\n",
       "      <th>383502</th>\n",
       "      <td>000058a12d5b43e67d225668fa1f8d618c13dc232df0ca...</td>\n",
       "      <td>0723529001</td>\n",
       "      <td>59458</td>\n",
       "      <td>0</td>\n",
       "    </tr>\n",
       "    <tr>\n",
       "      <th>383503</th>\n",
       "      <td>000058a12d5b43e67d225668fa1f8d618c13dc232df0ca...</td>\n",
       "      <td>0351484002</td>\n",
       "      <td>1469</td>\n",
       "      <td>0</td>\n",
       "    </tr>\n",
       "    <tr>\n",
       "      <th>424938</th>\n",
       "      <td>000058a12d5b43e67d225668fa1f8d618c13dc232df0ca...</td>\n",
       "      <td>0727808001</td>\n",
       "      <td>60253</td>\n",
       "      <td>0</td>\n",
       "    </tr>\n",
       "    <tr>\n",
       "      <th>424939</th>\n",
       "      <td>000058a12d5b43e67d225668fa1f8d618c13dc232df0ca...</td>\n",
       "      <td>0727808007</td>\n",
       "      <td>60259</td>\n",
       "      <td>0</td>\n",
       "    </tr>\n",
       "    <tr>\n",
       "      <th>441803</th>\n",
       "      <td>000058a12d5b43e67d225668fa1f8d618c13dc232df0ca...</td>\n",
       "      <td>0858883002</td>\n",
       "      <td>93585</td>\n",
       "      <td>0</td>\n",
       "    </tr>\n",
       "    <tr>\n",
       "      <th>441804</th>\n",
       "      <td>000058a12d5b43e67d225668fa1f8d618c13dc232df0ca...</td>\n",
       "      <td>0851400006</td>\n",
       "      <td>91841</td>\n",
       "      <td>0</td>\n",
       "    </tr>\n",
       "    <tr>\n",
       "      <th>441805</th>\n",
       "      <td>000058a12d5b43e67d225668fa1f8d618c13dc232df0ca...</td>\n",
       "      <td>0750424014</td>\n",
       "      <td>67274</td>\n",
       "      <td>0</td>\n",
       "    </tr>\n",
       "    <tr>\n",
       "      <th>441807</th>\n",
       "      <td>000058a12d5b43e67d225668fa1f8d618c13dc232df0ca...</td>\n",
       "      <td>0870304002</td>\n",
       "      <td>96382</td>\n",
       "      <td>0</td>\n",
       "    </tr>\n",
       "    <tr>\n",
       "      <th>441809</th>\n",
       "      <td>000058a12d5b43e67d225668fa1f8d618c13dc232df0ca...</td>\n",
       "      <td>0852643001</td>\n",
       "      <td>92158</td>\n",
       "      <td>0</td>\n",
       "    </tr>\n",
       "    <tr>\n",
       "      <th>441810</th>\n",
       "      <td>000058a12d5b43e67d225668fa1f8d618c13dc232df0ca...</td>\n",
       "      <td>0852643003</td>\n",
       "      <td>92159</td>\n",
       "      <td>0</td>\n",
       "    </tr>\n",
       "  </tbody>\n",
       "</table>\n",
       "</div>"
      ],
      "text/plain": [
       "                                              customer_id  article_id  \\\n",
       "0       000058a12d5b43e67d225668fa1f8d618c13dc232df0ca...  0663713001   \n",
       "1       000058a12d5b43e67d225668fa1f8d618c13dc232df0ca...  0541518023   \n",
       "109623  000058a12d5b43e67d225668fa1f8d618c13dc232df0ca...  0578020002   \n",
       "383502  000058a12d5b43e67d225668fa1f8d618c13dc232df0ca...  0723529001   \n",
       "383503  000058a12d5b43e67d225668fa1f8d618c13dc232df0ca...  0351484002   \n",
       "424938  000058a12d5b43e67d225668fa1f8d618c13dc232df0ca...  0727808001   \n",
       "424939  000058a12d5b43e67d225668fa1f8d618c13dc232df0ca...  0727808007   \n",
       "441803  000058a12d5b43e67d225668fa1f8d618c13dc232df0ca...  0858883002   \n",
       "441804  000058a12d5b43e67d225668fa1f8d618c13dc232df0ca...  0851400006   \n",
       "441805  000058a12d5b43e67d225668fa1f8d618c13dc232df0ca...  0750424014   \n",
       "441807  000058a12d5b43e67d225668fa1f8d618c13dc232df0ca...  0870304002   \n",
       "441809  000058a12d5b43e67d225668fa1f8d618c13dc232df0ca...  0852643001   \n",
       "441810  000058a12d5b43e67d225668fa1f8d618c13dc232df0ca...  0852643003   \n",
       "\n",
       "        article_id_idx  customer_id_idx  \n",
       "0                40179                0  \n",
       "1                10520                0  \n",
       "109623           18197                0  \n",
       "383502           59458                0  \n",
       "383503            1469                0  \n",
       "424938           60253                0  \n",
       "424939           60259                0  \n",
       "441803           93585                0  \n",
       "441804           91841                0  \n",
       "441805           67274                0  \n",
       "441807           96382                0  \n",
       "441809           92158                0  \n",
       "441810           92159                0  "
      ]
     },
     "execution_count": 55,
     "metadata": {},
     "output_type": "execute_result"
    }
   ],
   "source": [
    "train_set_processed[train_set_processed['customer_id_idx'] == 0]"
   ]
  },
  {
   "cell_type": "code",
   "execution_count": 56,
   "id": "24672bce",
   "metadata": {},
   "outputs": [
    {
     "data": {
      "text/plain": [
       "torch.Size([105542, 10])"
      ]
     },
     "execution_count": 56,
     "metadata": {},
     "output_type": "execute_result"
    }
   ],
   "source": [
    "matrix_fact_model.item_embeddings.weight.shape"
   ]
  },
  {
   "cell_type": "code",
   "execution_count": 104,
   "id": "a3efbba4",
   "metadata": {},
   "outputs": [
    {
     "data": {
      "text/plain": [
       "torch.Size([9208, 10])"
      ]
     },
     "execution_count": 104,
     "metadata": {},
     "output_type": "execute_result"
    }
   ],
   "source": [
    "matrix_fact_model.user_embeddings.weight.shape"
   ]
  },
  {
   "cell_type": "code",
   "execution_count": 120,
   "id": "ded5c4d1",
   "metadata": {},
   "outputs": [],
   "source": [
    "pred = torch.matmul(matrix_fact_model.user_embeddings.weight[3, :], matrix_fact_model.item_embeddings.weight.T).detach().numpy()"
   ]
  },
  {
   "cell_type": "code",
   "execution_count": 121,
   "id": "c8ceefba",
   "metadata": {},
   "outputs": [
    {
     "data": {
      "text/plain": [
       "array([74339, 35787,  2635,   159,  5532, 93755,  3240, 40032,  2660,\n",
       "       10673])"
      ]
     },
     "execution_count": 121,
     "metadata": {},
     "output_type": "execute_result"
    }
   ],
   "source": [
    "k = 10\n",
    "\n",
    "closest_k = np.flip(np.argsort(pred))[:k]\n",
    "closest_k"
   ]
  },
  {
   "cell_type": "code",
   "execution_count": 123,
   "id": "5fffe8b9",
   "metadata": {},
   "outputs": [
    {
     "data": {
      "text/html": [
       "<div>\n",
       "<style scoped>\n",
       "    .dataframe tbody tr th:only-of-type {\n",
       "        vertical-align: middle;\n",
       "    }\n",
       "\n",
       "    .dataframe tbody tr th {\n",
       "        vertical-align: top;\n",
       "    }\n",
       "\n",
       "    .dataframe thead th {\n",
       "        text-align: right;\n",
       "    }\n",
       "</style>\n",
       "<table border=\"1\" class=\"dataframe\">\n",
       "  <thead>\n",
       "    <tr style=\"text-align: right;\">\n",
       "      <th></th>\n",
       "      <th>customer_id</th>\n",
       "      <th>article_id</th>\n",
       "      <th>article_id_idx_x</th>\n",
       "      <th>customer_id_idx</th>\n",
       "      <th>prod_name</th>\n",
       "      <th>product_type_name</th>\n",
       "      <th>product_group_name</th>\n",
       "      <th>detail_desc</th>\n",
       "      <th>article_id_idx_y</th>\n",
       "    </tr>\n",
       "  </thead>\n",
       "  <tbody>\n",
       "    <tr>\n",
       "      <th>0</th>\n",
       "      <td>02d796ea767fa2e94fc6228fe70d8af1a570da973c32f7...</td>\n",
       "      <td>0633130013</td>\n",
       "      <td>31688</td>\n",
       "      <td>3</td>\n",
       "      <td>Zebra sweater TOP PRODUCT</td>\n",
       "      <td>Sweater</td>\n",
       "      <td>Garment Upper body</td>\n",
       "      <td>Top in lightweight, printed sweatshirt fabric ...</td>\n",
       "      <td>31688</td>\n",
       "    </tr>\n",
       "    <tr>\n",
       "      <th>1</th>\n",
       "      <td>02d796ea767fa2e94fc6228fe70d8af1a570da973c32f7...</td>\n",
       "      <td>0552471001</td>\n",
       "      <td>12233</td>\n",
       "      <td>3</td>\n",
       "      <td>KELLY S.8</td>\n",
       "      <td>Shirt</td>\n",
       "      <td>Garment Upper body</td>\n",
       "      <td>Longer shirt in a cotton weave with a collar a...</td>\n",
       "      <td>12233</td>\n",
       "    </tr>\n",
       "    <tr>\n",
       "      <th>2</th>\n",
       "      <td>02d796ea767fa2e94fc6228fe70d8af1a570da973c32f7...</td>\n",
       "      <td>0564358010</td>\n",
       "      <td>14832</td>\n",
       "      <td>3</td>\n",
       "      <td>PAUL  R-NECK</td>\n",
       "      <td>Sweater</td>\n",
       "      <td>Garment Upper body</td>\n",
       "      <td>Jumper in a soft, fine cotton knit with a roun...</td>\n",
       "      <td>14832</td>\n",
       "    </tr>\n",
       "    <tr>\n",
       "      <th>3</th>\n",
       "      <td>02d796ea767fa2e94fc6228fe70d8af1a570da973c32f7...</td>\n",
       "      <td>0633130007</td>\n",
       "      <td>31682</td>\n",
       "      <td>3</td>\n",
       "      <td>Zebra sweater TOP PRODUCT</td>\n",
       "      <td>Sweater</td>\n",
       "      <td>Garment Upper body</td>\n",
       "      <td>Top in lightweight, printed sweatshirt fabric ...</td>\n",
       "      <td>31682</td>\n",
       "    </tr>\n",
       "    <tr>\n",
       "      <th>4</th>\n",
       "      <td>02d796ea767fa2e94fc6228fe70d8af1a570da973c32f7...</td>\n",
       "      <td>0633130015</td>\n",
       "      <td>31690</td>\n",
       "      <td>3</td>\n",
       "      <td>Zebra sweater TOP PRODUCT</td>\n",
       "      <td>Sweater</td>\n",
       "      <td>Garment Upper body</td>\n",
       "      <td>Top in lightweight, printed sweatshirt fabric ...</td>\n",
       "      <td>31690</td>\n",
       "    </tr>\n",
       "    <tr>\n",
       "      <th>...</th>\n",
       "      <td>...</td>\n",
       "      <td>...</td>\n",
       "      <td>...</td>\n",
       "      <td>...</td>\n",
       "      <td>...</td>\n",
       "      <td>...</td>\n",
       "      <td>...</td>\n",
       "      <td>...</td>\n",
       "      <td>...</td>\n",
       "    </tr>\n",
       "    <tr>\n",
       "      <th>94</th>\n",
       "      <td>02d796ea767fa2e94fc6228fe70d8af1a570da973c32f7...</td>\n",
       "      <td>0337991001</td>\n",
       "      <td>1300</td>\n",
       "      <td>3</td>\n",
       "      <td>Sigge Dressed Belt</td>\n",
       "      <td>Belt</td>\n",
       "      <td>Accessories</td>\n",
       "      <td>Leather belt with a metal buckle. Width 3 cm.</td>\n",
       "      <td>1300</td>\n",
       "    </tr>\n",
       "    <tr>\n",
       "      <th>95</th>\n",
       "      <td>02d796ea767fa2e94fc6228fe70d8af1a570da973c32f7...</td>\n",
       "      <td>0616598002</td>\n",
       "      <td>26260</td>\n",
       "      <td>3</td>\n",
       "      <td>Slim Straight 5pkt Midprice</td>\n",
       "      <td>Trousers</td>\n",
       "      <td>Garment Lower body</td>\n",
       "      <td>5-pocket jeans in washed denim with a regular ...</td>\n",
       "      <td>26260</td>\n",
       "    </tr>\n",
       "    <tr>\n",
       "      <th>96</th>\n",
       "      <td>02d796ea767fa2e94fc6228fe70d8af1a570da973c32f7...</td>\n",
       "      <td>0337991002</td>\n",
       "      <td>1301</td>\n",
       "      <td>3</td>\n",
       "      <td>Sigge Dressed Belt</td>\n",
       "      <td>Belt</td>\n",
       "      <td>Accessories</td>\n",
       "      <td>Leather belt with a metal buckle. Width 3 cm.</td>\n",
       "      <td>1301</td>\n",
       "    </tr>\n",
       "    <tr>\n",
       "      <th>97</th>\n",
       "      <td>02d796ea767fa2e94fc6228fe70d8af1a570da973c32f7...</td>\n",
       "      <td>0714026005</td>\n",
       "      <td>56486</td>\n",
       "      <td>3</td>\n",
       "      <td>Manson slim trs TVP J</td>\n",
       "      <td>Trousers</td>\n",
       "      <td>Garment Lower body</td>\n",
       "      <td>Suit trousers in woven fabric with a concealed...</td>\n",
       "      <td>56486</td>\n",
       "    </tr>\n",
       "    <tr>\n",
       "      <th>98</th>\n",
       "      <td>02d796ea767fa2e94fc6228fe70d8af1a570da973c32f7...</td>\n",
       "      <td>0399256005</td>\n",
       "      <td>2255</td>\n",
       "      <td>3</td>\n",
       "      <td>Skinny Ankle R.W Brooklyn</td>\n",
       "      <td>Trousers</td>\n",
       "      <td>Garment Lower body</td>\n",
       "      <td>Ankle-length jeans in washed stretch denim wit...</td>\n",
       "      <td>2255</td>\n",
       "    </tr>\n",
       "  </tbody>\n",
       "</table>\n",
       "<p>99 rows × 9 columns</p>\n",
       "</div>"
      ],
      "text/plain": [
       "                                          customer_id  article_id  \\\n",
       "0   02d796ea767fa2e94fc6228fe70d8af1a570da973c32f7...  0633130013   \n",
       "1   02d796ea767fa2e94fc6228fe70d8af1a570da973c32f7...  0552471001   \n",
       "2   02d796ea767fa2e94fc6228fe70d8af1a570da973c32f7...  0564358010   \n",
       "3   02d796ea767fa2e94fc6228fe70d8af1a570da973c32f7...  0633130007   \n",
       "4   02d796ea767fa2e94fc6228fe70d8af1a570da973c32f7...  0633130015   \n",
       "..                                                ...         ...   \n",
       "94  02d796ea767fa2e94fc6228fe70d8af1a570da973c32f7...  0337991001   \n",
       "95  02d796ea767fa2e94fc6228fe70d8af1a570da973c32f7...  0616598002   \n",
       "96  02d796ea767fa2e94fc6228fe70d8af1a570da973c32f7...  0337991002   \n",
       "97  02d796ea767fa2e94fc6228fe70d8af1a570da973c32f7...  0714026005   \n",
       "98  02d796ea767fa2e94fc6228fe70d8af1a570da973c32f7...  0399256005   \n",
       "\n",
       "    article_id_idx_x  customer_id_idx                    prod_name  \\\n",
       "0              31688                3    Zebra sweater TOP PRODUCT   \n",
       "1              12233                3                    KELLY S.8   \n",
       "2              14832                3                 PAUL  R-NECK   \n",
       "3              31682                3    Zebra sweater TOP PRODUCT   \n",
       "4              31690                3    Zebra sweater TOP PRODUCT   \n",
       "..               ...              ...                          ...   \n",
       "94              1300                3           Sigge Dressed Belt   \n",
       "95             26260                3  Slim Straight 5pkt Midprice   \n",
       "96              1301                3           Sigge Dressed Belt   \n",
       "97             56486                3        Manson slim trs TVP J   \n",
       "98              2255                3    Skinny Ankle R.W Brooklyn   \n",
       "\n",
       "   product_type_name  product_group_name  \\\n",
       "0            Sweater  Garment Upper body   \n",
       "1              Shirt  Garment Upper body   \n",
       "2            Sweater  Garment Upper body   \n",
       "3            Sweater  Garment Upper body   \n",
       "4            Sweater  Garment Upper body   \n",
       "..               ...                 ...   \n",
       "94              Belt         Accessories   \n",
       "95          Trousers  Garment Lower body   \n",
       "96              Belt         Accessories   \n",
       "97          Trousers  Garment Lower body   \n",
       "98          Trousers  Garment Lower body   \n",
       "\n",
       "                                          detail_desc  article_id_idx_y  \n",
       "0   Top in lightweight, printed sweatshirt fabric ...             31688  \n",
       "1   Longer shirt in a cotton weave with a collar a...             12233  \n",
       "2   Jumper in a soft, fine cotton knit with a roun...             14832  \n",
       "3   Top in lightweight, printed sweatshirt fabric ...             31682  \n",
       "4   Top in lightweight, printed sweatshirt fabric ...             31690  \n",
       "..                                                ...               ...  \n",
       "94      Leather belt with a metal buckle. Width 3 cm.              1300  \n",
       "95  5-pocket jeans in washed denim with a regular ...             26260  \n",
       "96      Leather belt with a metal buckle. Width 3 cm.              1301  \n",
       "97  Suit trousers in woven fabric with a concealed...             56486  \n",
       "98  Ankle-length jeans in washed stretch denim wit...              2255  \n",
       "\n",
       "[99 rows x 9 columns]"
      ]
     },
     "execution_count": 123,
     "metadata": {},
     "output_type": "execute_result"
    }
   ],
   "source": [
    "train_set_processed[train_set_processed['customer_id_idx'] == 3].merge(\n",
    "    articles_df,\n",
    "    on='article_id'\n",
    ")"
   ]
  },
  {
   "cell_type": "code",
   "execution_count": 124,
   "id": "4e6bc363",
   "metadata": {},
   "outputs": [
    {
     "data": {
      "text/html": [
       "<div>\n",
       "<style scoped>\n",
       "    .dataframe tbody tr th:only-of-type {\n",
       "        vertical-align: middle;\n",
       "    }\n",
       "\n",
       "    .dataframe tbody tr th {\n",
       "        vertical-align: top;\n",
       "    }\n",
       "\n",
       "    .dataframe thead th {\n",
       "        text-align: right;\n",
       "    }\n",
       "</style>\n",
       "<table border=\"1\" class=\"dataframe\">\n",
       "  <thead>\n",
       "    <tr style=\"text-align: right;\">\n",
       "      <th></th>\n",
       "      <th>article_id</th>\n",
       "      <th>prod_name</th>\n",
       "      <th>product_type_name</th>\n",
       "      <th>product_group_name</th>\n",
       "      <th>detail_desc</th>\n",
       "      <th>article_id_idx</th>\n",
       "    </tr>\n",
       "  </thead>\n",
       "  <tbody>\n",
       "    <tr>\n",
       "      <th>159</th>\n",
       "      <td>0187949032</td>\n",
       "      <td>Padded pyjama</td>\n",
       "      <td>Pyjama jumpsuit/playsuit</td>\n",
       "      <td>Nightwear</td>\n",
       "      <td>Lightly padded all-in-one pyjamas in soft cott...</td>\n",
       "      <td>159</td>\n",
       "    </tr>\n",
       "    <tr>\n",
       "      <th>2635</th>\n",
       "      <td>0418545020</td>\n",
       "      <td>ALGOT 2-p body</td>\n",
       "      <td>Bodysuit</td>\n",
       "      <td>Garment Upper body</td>\n",
       "      <td>Wrapover bodysuits in soft organic cotton jers...</td>\n",
       "      <td>2635</td>\n",
       "    </tr>\n",
       "    <tr>\n",
       "      <th>2660</th>\n",
       "      <td>0421387032</td>\n",
       "      <td>Isak graphic tee</td>\n",
       "      <td>T-shirt</td>\n",
       "      <td>Garment Upper body</td>\n",
       "      <td>Running top in fast-drying, breathable functio...</td>\n",
       "      <td>2660</td>\n",
       "    </tr>\n",
       "    <tr>\n",
       "      <th>3240</th>\n",
       "      <td>0451380016</td>\n",
       "      <td>Bruce denim</td>\n",
       "      <td>Trousers</td>\n",
       "      <td>Garment Lower body</td>\n",
       "      <td>5-pocket jeans in washed stretch denim with a ...</td>\n",
       "      <td>3240</td>\n",
       "    </tr>\n",
       "    <tr>\n",
       "      <th>5532</th>\n",
       "      <td>0497225022</td>\n",
       "      <td>SB Aston shorts</td>\n",
       "      <td>Swimwear bottom</td>\n",
       "      <td>Swimwear</td>\n",
       "      <td>Swim shorts with an elasticated, drawstring wa...</td>\n",
       "      <td>5532</td>\n",
       "    </tr>\n",
       "    <tr>\n",
       "      <th>10673</th>\n",
       "      <td>0542473002</td>\n",
       "      <td>Amelie</td>\n",
       "      <td>Shirt</td>\n",
       "      <td>Garment Upper body</td>\n",
       "      <td>Shirt in woven fabric with a collar, buttons d...</td>\n",
       "      <td>10673</td>\n",
       "    </tr>\n",
       "    <tr>\n",
       "      <th>35787</th>\n",
       "      <td>0648374001</td>\n",
       "      <td>Kendal fancy slipon co-lab SG</td>\n",
       "      <td>Other shoe</td>\n",
       "      <td>Shoes</td>\n",
       "      <td>Satin trainers with elastic gores in the sides...</td>\n",
       "      <td>35787</td>\n",
       "    </tr>\n",
       "    <tr>\n",
       "      <th>40032</th>\n",
       "      <td>0663378005</td>\n",
       "      <td>Palmer chelsea PQ</td>\n",
       "      <td>Boots</td>\n",
       "      <td>Shoes</td>\n",
       "      <td>Chelsea boots with elastic gores in the sides ...</td>\n",
       "      <td>40032</td>\n",
       "    </tr>\n",
       "    <tr>\n",
       "      <th>74339</th>\n",
       "      <td>0776532002</td>\n",
       "      <td>Bruno beanie</td>\n",
       "      <td>Beanie</td>\n",
       "      <td>Accessories</td>\n",
       "      <td>Hat knitted in a soft cotton blend with ear fl...</td>\n",
       "      <td>74339</td>\n",
       "    </tr>\n",
       "    <tr>\n",
       "      <th>93755</th>\n",
       "      <td>0859476002</td>\n",
       "      <td>Wilma tank</td>\n",
       "      <td>Vest top</td>\n",
       "      <td>Garment Upper body</td>\n",
       "      <td>Sleeveless top in ribbed cotton jersey with a ...</td>\n",
       "      <td>93755</td>\n",
       "    </tr>\n",
       "  </tbody>\n",
       "</table>\n",
       "</div>"
      ],
      "text/plain": [
       "       article_id                      prod_name         product_type_name  \\\n",
       "159    0187949032                  Padded pyjama  Pyjama jumpsuit/playsuit   \n",
       "2635   0418545020                 ALGOT 2-p body                  Bodysuit   \n",
       "2660   0421387032               Isak graphic tee                   T-shirt   \n",
       "3240   0451380016                    Bruce denim                  Trousers   \n",
       "5532   0497225022                SB Aston shorts           Swimwear bottom   \n",
       "10673  0542473002                         Amelie                     Shirt   \n",
       "35787  0648374001  Kendal fancy slipon co-lab SG                Other shoe   \n",
       "40032  0663378005              Palmer chelsea PQ                     Boots   \n",
       "74339  0776532002                   Bruno beanie                    Beanie   \n",
       "93755  0859476002                     Wilma tank                  Vest top   \n",
       "\n",
       "       product_group_name                                        detail_desc  \\\n",
       "159             Nightwear  Lightly padded all-in-one pyjamas in soft cott...   \n",
       "2635   Garment Upper body  Wrapover bodysuits in soft organic cotton jers...   \n",
       "2660   Garment Upper body  Running top in fast-drying, breathable functio...   \n",
       "3240   Garment Lower body  5-pocket jeans in washed stretch denim with a ...   \n",
       "5532             Swimwear  Swim shorts with an elasticated, drawstring wa...   \n",
       "10673  Garment Upper body  Shirt in woven fabric with a collar, buttons d...   \n",
       "35787               Shoes  Satin trainers with elastic gores in the sides...   \n",
       "40032               Shoes  Chelsea boots with elastic gores in the sides ...   \n",
       "74339         Accessories  Hat knitted in a soft cotton blend with ear fl...   \n",
       "93755  Garment Upper body  Sleeveless top in ribbed cotton jersey with a ...   \n",
       "\n",
       "       article_id_idx  \n",
       "159               159  \n",
       "2635             2635  \n",
       "2660             2660  \n",
       "3240             3240  \n",
       "5532             5532  \n",
       "10673           10673  \n",
       "35787           35787  \n",
       "40032           40032  \n",
       "74339           74339  \n",
       "93755           93755  "
      ]
     },
     "execution_count": 124,
     "metadata": {},
     "output_type": "execute_result"
    }
   ],
   "source": [
    "articles_df[articles_df['article_id_idx'].isin(closest_k)]"
   ]
  },
  {
   "cell_type": "code",
   "execution_count": null,
   "id": "c7524454",
   "metadata": {},
   "outputs": [],
   "source": []
  },
  {
   "cell_type": "markdown",
   "id": "b0b951c0",
   "metadata": {},
   "source": [
    "### Test set evaluation"
   ]
  },
  {
   "cell_type": "code",
   "execution_count": 46,
   "id": "0345baa6",
   "metadata": {},
   "outputs": [],
   "source": [
    "pred = torch.matmul(matrix_fact_model.user_embeddings.weight, matrix_fact_model.item_embeddings.weight.T)"
   ]
  },
  {
   "cell_type": "code",
   "execution_count": 47,
   "id": "180f60bf",
   "metadata": {},
   "outputs": [
    {
     "data": {
      "text/plain": [
       "torch.Size([9208, 105542])"
      ]
     },
     "execution_count": 47,
     "metadata": {},
     "output_type": "execute_result"
    }
   ],
   "source": [
    "pred.shape"
   ]
  },
  {
   "cell_type": "code",
   "execution_count": 48,
   "id": "723e24f4",
   "metadata": {},
   "outputs": [
    {
     "data": {
      "text/plain": [
       "tensor([[-1.0947, -3.2868, -4.0063,  ..., -1.0582, -3.7142, -3.5334],\n",
       "        [ 2.8145, -1.1084, -2.8709,  ..., -1.4172, -0.1076,  1.4909],\n",
       "        [-0.2448, -0.3599, -2.9249,  ...,  4.9391, -4.7780,  0.9843],\n",
       "        ...,\n",
       "        [ 3.9658, -4.4764,  1.6260,  ...,  3.0291,  0.7243,  0.3286],\n",
       "        [ 1.2575,  1.1697,  0.1332,  ..., -3.8633,  0.0971,  0.4681],\n",
       "        [ 0.2794, -0.3962,  0.8730,  ..., -0.2340,  0.4901, -1.9022]],\n",
       "       grad_fn=<MmBackward0>)"
      ]
     },
     "execution_count": 48,
     "metadata": {},
     "output_type": "execute_result"
    }
   ],
   "source": [
    "pred"
   ]
  },
  {
   "cell_type": "code",
   "execution_count": 49,
   "id": "533d9fe1",
   "metadata": {},
   "outputs": [
    {
     "name": "stdout",
     "output_type": "stream",
     "text": [
      "CPU times: user 1min 37s, sys: 35.5 s, total: 2min 13s\n",
      "Wall time: 2min 38s\n"
     ]
    }
   ],
   "source": [
    "%%time\n",
    "recommendations = torch.argsort(input=pred, dim=1, descending=True)"
   ]
  },
  {
   "cell_type": "code",
   "execution_count": 50,
   "id": "88fce805",
   "metadata": {},
   "outputs": [],
   "source": [
    "test_set['article_id_idx'] = test_set['article_id'].map(article_id_to_idx)"
   ]
  },
  {
   "cell_type": "code",
   "execution_count": 51,
   "id": "60cc11e3",
   "metadata": {},
   "outputs": [
    {
     "data": {
      "text/html": [
       "<div>\n",
       "<style scoped>\n",
       "    .dataframe tbody tr th:only-of-type {\n",
       "        vertical-align: middle;\n",
       "    }\n",
       "\n",
       "    .dataframe tbody tr th {\n",
       "        vertical-align: top;\n",
       "    }\n",
       "\n",
       "    .dataframe thead th {\n",
       "        text-align: right;\n",
       "    }\n",
       "</style>\n",
       "<table border=\"1\" class=\"dataframe\">\n",
       "  <thead>\n",
       "    <tr style=\"text-align: right;\">\n",
       "      <th></th>\n",
       "      <th>customer_id</th>\n",
       "      <th>article_id_idx</th>\n",
       "    </tr>\n",
       "  </thead>\n",
       "  <tbody>\n",
       "    <tr>\n",
       "      <th>0</th>\n",
       "      <td>000058a12d5b43e67d225668fa1f8d618c13dc232df0ca...</td>\n",
       "      <td>[78503]</td>\n",
       "    </tr>\n",
       "    <tr>\n",
       "      <th>1</th>\n",
       "      <td>0015f37f752a41a75c3be6f3f92deedc4c87d039f1758e...</td>\n",
       "      <td>[74893, 74893, 24872, 104987, 9801, 9801, 6912...</td>\n",
       "    </tr>\n",
       "    <tr>\n",
       "      <th>2</th>\n",
       "      <td>00282135561702f5b3b750fa3382d8fd83ce5d761a507e...</td>\n",
       "      <td>[92815, 86041]</td>\n",
       "    </tr>\n",
       "    <tr>\n",
       "      <th>3</th>\n",
       "      <td>00356a94bb9bed341f6dba58ad722974b01a1cbd9f06ef...</td>\n",
       "      <td>[104211, 17044, 17044, 16024, 29250, 98445, 66...</td>\n",
       "    </tr>\n",
       "    <tr>\n",
       "      <th>4</th>\n",
       "      <td>00462904b288681a9facb555f75dd2cf4d0f730a6e0ea7...</td>\n",
       "      <td>[87467, 99966, 42626, 79834, 97540, 103280, 79...</td>\n",
       "    </tr>\n",
       "  </tbody>\n",
       "</table>\n",
       "</div>"
      ],
      "text/plain": [
       "                                         customer_id  \\\n",
       "0  000058a12d5b43e67d225668fa1f8d618c13dc232df0ca...   \n",
       "1  0015f37f752a41a75c3be6f3f92deedc4c87d039f1758e...   \n",
       "2  00282135561702f5b3b750fa3382d8fd83ce5d761a507e...   \n",
       "3  00356a94bb9bed341f6dba58ad722974b01a1cbd9f06ef...   \n",
       "4  00462904b288681a9facb555f75dd2cf4d0f730a6e0ea7...   \n",
       "\n",
       "                                      article_id_idx  \n",
       "0                                            [78503]  \n",
       "1  [74893, 74893, 24872, 104987, 9801, 9801, 6912...  \n",
       "2                                     [92815, 86041]  \n",
       "3  [104211, 17044, 17044, 16024, 29250, 98445, 66...  \n",
       "4  [87467, 99966, 42626, 79834, 97540, 103280, 79...  "
      ]
     },
     "execution_count": 51,
     "metadata": {},
     "output_type": "execute_result"
    }
   ],
   "source": [
    "test_set_by_customer = test_set.groupby('customer_id').apply(lambda x: list(x['article_id_idx'])).reset_index().rename(columns={0: 'article_id_idx'})\n",
    "test_set_by_customer.head()"
   ]
  },
  {
   "cell_type": "code",
   "execution_count": 52,
   "id": "8015baf0",
   "metadata": {},
   "outputs": [],
   "source": [
    "customers_ordered = test_set_by_customer['customer_id'].map(customer_id_to_idx).tolist()"
   ]
  },
  {
   "cell_type": "code",
   "execution_count": 53,
   "id": "5ceda744",
   "metadata": {},
   "outputs": [],
   "source": [
    "predictions = recommendations[customers_ordered, :12].tolist()"
   ]
  },
  {
   "cell_type": "code",
   "execution_count": 54,
   "id": "9b0b7f2d",
   "metadata": {},
   "outputs": [],
   "source": [
    "actuals = test_set_by_customer['article_id_idx'].to_list()"
   ]
  },
  {
   "cell_type": "code",
   "execution_count": 55,
   "id": "e97a277e",
   "metadata": {},
   "outputs": [],
   "source": [
    "from fashion_recommendations.metrics.average_precision import mapk"
   ]
  },
  {
   "cell_type": "code",
   "execution_count": 61,
   "id": "c4d19423",
   "metadata": {},
   "outputs": [
    {
     "data": {
      "text/plain": [
       "3.258036490008689e-05"
      ]
     },
     "execution_count": 61,
     "metadata": {},
     "output_type": "execute_result"
    }
   ],
   "source": [
    "mapk(actuals, predictions, k=5)"
   ]
  },
  {
   "cell_type": "code",
   "execution_count": null,
   "id": "f7a30ed1",
   "metadata": {},
   "outputs": [],
   "source": []
  },
  {
   "cell_type": "code",
   "execution_count": null,
   "id": "06d21286",
   "metadata": {},
   "outputs": [],
   "source": []
  }
 ],
 "metadata": {
  "kernelspec": {
   "display_name": "Python 3 (ipykernel)",
   "language": "python",
   "name": "python3"
  },
  "language_info": {
   "codemirror_mode": {
    "name": "ipython",
    "version": 3
   },
   "file_extension": ".py",
   "mimetype": "text/x-python",
   "name": "python",
   "nbconvert_exporter": "python",
   "pygments_lexer": "ipython3",
   "version": "3.8.12"
  }
 },
 "nbformat": 4,
 "nbformat_minor": 5
}
